{
 "cells": [
  {
   "cell_type": "code",
   "execution_count": 586,
   "metadata": {},
   "outputs": [],
   "source": [
    "import numpy as np\n",
    "import pandas as pd\n",
    "import os"
   ]
  },
  {
   "cell_type": "code",
   "execution_count": 587,
   "metadata": {},
   "outputs": [],
   "source": [
    "BASE_PATH    = 'Datasets/'\n",
    "DATA_PATH    = f'{BASE_PATH}/SCRIP/'\n",
    "INDEX_PATH   = f'{BASE_PATH}/INDEX/'\n",
    "TICKERS_PATH = f'{BASE_PATH}NSE_Symbols.csv'"
   ]
  },
  {
   "cell_type": "markdown",
   "metadata": {},
   "source": [
    "## 1 - data collection"
   ]
  },
  {
   "cell_type": "code",
   "execution_count": 588,
   "metadata": {},
   "outputs": [],
   "source": [
    "# !python3 downloader.py --tickers TICKERS_PATH --start 2019-01-01 --end 2020-01-01"
   ]
  },
  {
   "cell_type": "markdown",
   "metadata": {},
   "source": [
    "### read tickers"
   ]
  },
  {
   "cell_type": "code",
   "execution_count": 589,
   "metadata": {},
   "outputs": [
    {
     "data": {
      "text/html": [
       "<div>\n",
       "<style scoped>\n",
       "    .dataframe tbody tr th:only-of-type {\n",
       "        vertical-align: middle;\n",
       "    }\n",
       "\n",
       "    .dataframe tbody tr th {\n",
       "        vertical-align: top;\n",
       "    }\n",
       "\n",
       "    .dataframe thead th {\n",
       "        text-align: right;\n",
       "    }\n",
       "</style>\n",
       "<table border=\"1\" class=\"dataframe\">\n",
       "  <thead>\n",
       "    <tr style=\"text-align: right;\">\n",
       "      <th></th>\n",
       "      <th>Scrip</th>\n",
       "      <th>Company Name</th>\n",
       "    </tr>\n",
       "  </thead>\n",
       "  <tbody>\n",
       "    <tr>\n",
       "      <th>0</th>\n",
       "      <td>20MICRONS</td>\n",
       "      <td>20 Microns Limited</td>\n",
       "    </tr>\n",
       "    <tr>\n",
       "      <th>1</th>\n",
       "      <td>21STCENMGM</td>\n",
       "      <td>21st Century Management Services Limited</td>\n",
       "    </tr>\n",
       "    <tr>\n",
       "      <th>2</th>\n",
       "      <td>3IINFOTECH</td>\n",
       "      <td>3i Infotech Limited</td>\n",
       "    </tr>\n",
       "    <tr>\n",
       "      <th>3</th>\n",
       "      <td>3MINDIA</td>\n",
       "      <td>3M India Limited</td>\n",
       "    </tr>\n",
       "    <tr>\n",
       "      <th>4</th>\n",
       "      <td>5PAISA</td>\n",
       "      <td>5Paisa Capital Limited</td>\n",
       "    </tr>\n",
       "    <tr>\n",
       "      <th>...</th>\n",
       "      <td>...</td>\n",
       "      <td>...</td>\n",
       "    </tr>\n",
       "    <tr>\n",
       "      <th>231</th>\n",
       "      <td>CONTROLPR</td>\n",
       "      <td>Control Print Limited</td>\n",
       "    </tr>\n",
       "    <tr>\n",
       "      <th>232</th>\n",
       "      <td>CORALFINAC</td>\n",
       "      <td>Coral India Finance &amp; Housing Limited</td>\n",
       "    </tr>\n",
       "    <tr>\n",
       "      <th>233</th>\n",
       "      <td>CORDSCABLE</td>\n",
       "      <td>Cords Cable Industries Limited</td>\n",
       "    </tr>\n",
       "    <tr>\n",
       "      <th>234</th>\n",
       "      <td>COROMANDEL</td>\n",
       "      <td>Coromandel International Limited</td>\n",
       "    </tr>\n",
       "    <tr>\n",
       "      <th>235</th>\n",
       "      <td>COSMOFILMS</td>\n",
       "      <td>Cosmo Films Limited</td>\n",
       "    </tr>\n",
       "  </tbody>\n",
       "</table>\n",
       "<p>236 rows × 2 columns</p>\n",
       "</div>"
      ],
      "text/plain": [
       "          Scrip                              Company Name\n",
       "0     20MICRONS                        20 Microns Limited\n",
       "1    21STCENMGM  21st Century Management Services Limited\n",
       "2    3IINFOTECH                       3i Infotech Limited\n",
       "3       3MINDIA                          3M India Limited\n",
       "4        5PAISA                    5Paisa Capital Limited\n",
       "..          ...                                       ...\n",
       "231   CONTROLPR                     Control Print Limited\n",
       "232  CORALFINAC     Coral India Finance & Housing Limited\n",
       "233  CORDSCABLE            Cords Cable Industries Limited\n",
       "234  COROMANDEL          Coromandel International Limited\n",
       "235  COSMOFILMS                       Cosmo Films Limited\n",
       "\n",
       "[236 rows x 2 columns]"
      ]
     },
     "execution_count": 589,
     "metadata": {},
     "output_type": "execute_result"
    }
   ],
   "source": [
    "tickers = pd.read_csv(TICKERS_PATH)\n",
    "tickers"
   ]
  },
  {
   "cell_type": "markdown",
   "metadata": {},
   "source": [
    "### filter by date & number of entries"
   ]
  },
  {
   "cell_type": "code",
   "execution_count": 590,
   "metadata": {},
   "outputs": [
    {
     "data": {
      "text/html": [
       "<div>\n",
       "<style scoped>\n",
       "    .dataframe tbody tr th:only-of-type {\n",
       "        vertical-align: middle;\n",
       "    }\n",
       "\n",
       "    .dataframe tbody tr th {\n",
       "        vertical-align: top;\n",
       "    }\n",
       "\n",
       "    .dataframe thead th {\n",
       "        text-align: right;\n",
       "    }\n",
       "</style>\n",
       "<table border=\"1\" class=\"dataframe\">\n",
       "  <thead>\n",
       "    <tr style=\"text-align: right;\">\n",
       "      <th></th>\n",
       "      <th>ticker</th>\n",
       "      <th>entries</th>\n",
       "    </tr>\n",
       "  </thead>\n",
       "  <tbody>\n",
       "    <tr>\n",
       "      <th>0</th>\n",
       "      <td>20MICRONS</td>\n",
       "      <td>245</td>\n",
       "    </tr>\n",
       "    <tr>\n",
       "      <th>161</th>\n",
       "      <td>BIOCON</td>\n",
       "      <td>245</td>\n",
       "    </tr>\n",
       "    <tr>\n",
       "      <th>148</th>\n",
       "      <td>BGRENERGY</td>\n",
       "      <td>245</td>\n",
       "    </tr>\n",
       "    <tr>\n",
       "      <th>149</th>\n",
       "      <td>BHAGERIA</td>\n",
       "      <td>245</td>\n",
       "    </tr>\n",
       "    <tr>\n",
       "      <th>150</th>\n",
       "      <td>BHAGYANGR</td>\n",
       "      <td>245</td>\n",
       "    </tr>\n",
       "    <tr>\n",
       "      <th>...</th>\n",
       "      <td>...</td>\n",
       "      <td>...</td>\n",
       "    </tr>\n",
       "    <tr>\n",
       "      <th>61</th>\n",
       "      <td>ANIKINDS</td>\n",
       "      <td>223</td>\n",
       "    </tr>\n",
       "    <tr>\n",
       "      <th>185</th>\n",
       "      <td>CALSOFT</td>\n",
       "      <td>220</td>\n",
       "    </tr>\n",
       "    <tr>\n",
       "      <th>212</th>\n",
       "      <td>CHALET</td>\n",
       "      <td>218</td>\n",
       "    </tr>\n",
       "    <tr>\n",
       "      <th>112</th>\n",
       "      <td>BAGFILMS</td>\n",
       "      <td>217</td>\n",
       "    </tr>\n",
       "    <tr>\n",
       "      <th>78</th>\n",
       "      <td>ARSSINFRA</td>\n",
       "      <td>200</td>\n",
       "    </tr>\n",
       "  </tbody>\n",
       "</table>\n",
       "<p>236 rows × 2 columns</p>\n",
       "</div>"
      ],
      "text/plain": [
       "        ticker entries\n",
       "0    20MICRONS     245\n",
       "161     BIOCON     245\n",
       "148  BGRENERGY     245\n",
       "149   BHAGERIA     245\n",
       "150  BHAGYANGR     245\n",
       "..         ...     ...\n",
       "61    ANIKINDS     223\n",
       "185    CALSOFT     220\n",
       "212     CHALET     218\n",
       "112   BAGFILMS     217\n",
       "78   ARSSINFRA     200\n",
       "\n",
       "[236 rows x 2 columns]"
      ]
     },
     "execution_count": 590,
     "metadata": {},
     "output_type": "execute_result"
    }
   ],
   "source": [
    "entries_info = pd.DataFrame(data=[], columns=['ticker', 'entries'])\n",
    "valid_indices = []\n",
    "\n",
    "need_filter = True\n",
    "entries_threshold = 200\n",
    "\n",
    "if need_filter:\n",
    "    for index, (ticker, name) in tickers.iterrows():\n",
    "        try:\n",
    "            data = pd.read_csv(f'{DATA_PATH}{ticker}.csv')\n",
    "            data = data.loc[data['Date'].str.startswith('2019')]\n",
    "            if len(data) >= entries_threshold:\n",
    "                data.to_csv(f'{DATA_PATH}{ticker}.csv', index=False)\n",
    "                valid_indices.append(index)\n",
    "            else:\n",
    "                os.remove(f'{DATA_PATH}{ticker}.csv')\n",
    "            entries_info = entries_info.append({'ticker': ticker,\n",
    "                                                'entries': len(data)}, \n",
    "                                                ignore_index=True)\n",
    "        except:\n",
    "            pass\n",
    "    \n",
    "    tickers = tickers.loc[tickers.index.isin(valid_indices)]\n",
    "    tickers.to_csv(TICKERS_PATH, index=False)\n",
    "    \n",
    "entries_info = entries_info.sort_values(by='entries', ascending=False)\n",
    "entries_info"
   ]
  },
  {
   "cell_type": "code",
   "execution_count": 591,
   "metadata": {},
   "outputs": [],
   "source": [
    "data_for_ticker = {}\n",
    "for index, (ticker, name) in tickers.iterrows():\n",
    "    data_for_ticker[ticker] = pd.read_csv(f'{DATA_PATH}{ticker}.csv')"
   ]
  },
  {
   "cell_type": "markdown",
   "metadata": {},
   "source": [
    "## 2 - assets map"
   ]
  },
  {
   "cell_type": "markdown",
   "metadata": {},
   "source": [
    "### compute log return"
   ]
  },
  {
   "cell_type": "code",
   "execution_count": 592,
   "metadata": {},
   "outputs": [],
   "source": [
    "for ticker, data in data_for_ticker.items():\n",
    "    data_for_ticker[ticker] = data.assign(logret=np.log(data.Close).diff())\n",
    "    data_for_ticker[ticker]['minus_logret'] = data_for_ticker[ticker]['logret'].mul(-1)"
   ]
  },
  {
   "cell_type": "code",
   "execution_count": 593,
   "metadata": {},
   "outputs": [
    {
     "data": {
      "text/html": [
       "<div>\n",
       "<style scoped>\n",
       "    .dataframe tbody tr th:only-of-type {\n",
       "        vertical-align: middle;\n",
       "    }\n",
       "\n",
       "    .dataframe tbody tr th {\n",
       "        vertical-align: top;\n",
       "    }\n",
       "\n",
       "    .dataframe thead th {\n",
       "        text-align: right;\n",
       "    }\n",
       "</style>\n",
       "<table border=\"1\" class=\"dataframe\">\n",
       "  <thead>\n",
       "    <tr style=\"text-align: right;\">\n",
       "      <th></th>\n",
       "      <th>Date</th>\n",
       "      <th>Symbol</th>\n",
       "      <th>Series</th>\n",
       "      <th>Prev Close</th>\n",
       "      <th>Open</th>\n",
       "      <th>High</th>\n",
       "      <th>Low</th>\n",
       "      <th>Last</th>\n",
       "      <th>Close</th>\n",
       "      <th>VWAP</th>\n",
       "      <th>Volume</th>\n",
       "      <th>Turnover</th>\n",
       "      <th>Trades</th>\n",
       "      <th>Deliverable Volume</th>\n",
       "      <th>%Deliverble</th>\n",
       "      <th>logret</th>\n",
       "      <th>minus_logret</th>\n",
       "    </tr>\n",
       "  </thead>\n",
       "  <tbody>\n",
       "    <tr>\n",
       "      <th>0</th>\n",
       "      <td>2019-01-01</td>\n",
       "      <td>BAGFILMS</td>\n",
       "      <td>EQ</td>\n",
       "      <td>4.95</td>\n",
       "      <td>5.00</td>\n",
       "      <td>5.15</td>\n",
       "      <td>4.85</td>\n",
       "      <td>5.00</td>\n",
       "      <td>4.95</td>\n",
       "      <td>5.01</td>\n",
       "      <td>202343</td>\n",
       "      <td>1.013573e+11</td>\n",
       "      <td>254.0</td>\n",
       "      <td>147939.0</td>\n",
       "      <td>0.7311</td>\n",
       "      <td>NaN</td>\n",
       "      <td>NaN</td>\n",
       "    </tr>\n",
       "    <tr>\n",
       "      <th>1</th>\n",
       "      <td>2019-01-02</td>\n",
       "      <td>BAGFILMS</td>\n",
       "      <td>EQ</td>\n",
       "      <td>4.95</td>\n",
       "      <td>4.90</td>\n",
       "      <td>5.00</td>\n",
       "      <td>4.85</td>\n",
       "      <td>4.95</td>\n",
       "      <td>4.90</td>\n",
       "      <td>4.92</td>\n",
       "      <td>66516</td>\n",
       "      <td>3.272127e+10</td>\n",
       "      <td>162.0</td>\n",
       "      <td>58430.0</td>\n",
       "      <td>0.8784</td>\n",
       "      <td>-0.010152</td>\n",
       "      <td>0.010152</td>\n",
       "    </tr>\n",
       "    <tr>\n",
       "      <th>2</th>\n",
       "      <td>2019-01-03</td>\n",
       "      <td>BAGFILMS</td>\n",
       "      <td>EQ</td>\n",
       "      <td>4.90</td>\n",
       "      <td>4.90</td>\n",
       "      <td>5.00</td>\n",
       "      <td>4.85</td>\n",
       "      <td>4.90</td>\n",
       "      <td>4.85</td>\n",
       "      <td>4.92</td>\n",
       "      <td>52702</td>\n",
       "      <td>2.590396e+10</td>\n",
       "      <td>109.0</td>\n",
       "      <td>38203.0</td>\n",
       "      <td>0.7249</td>\n",
       "      <td>-0.010257</td>\n",
       "      <td>0.010257</td>\n",
       "    </tr>\n",
       "    <tr>\n",
       "      <th>3</th>\n",
       "      <td>2019-01-04</td>\n",
       "      <td>BAGFILMS</td>\n",
       "      <td>EQ</td>\n",
       "      <td>4.85</td>\n",
       "      <td>4.80</td>\n",
       "      <td>4.90</td>\n",
       "      <td>4.80</td>\n",
       "      <td>4.80</td>\n",
       "      <td>4.85</td>\n",
       "      <td>4.84</td>\n",
       "      <td>18077</td>\n",
       "      <td>8.758105e+09</td>\n",
       "      <td>76.0</td>\n",
       "      <td>15872.0</td>\n",
       "      <td>0.8780</td>\n",
       "      <td>0.000000</td>\n",
       "      <td>-0.000000</td>\n",
       "    </tr>\n",
       "    <tr>\n",
       "      <th>4</th>\n",
       "      <td>2019-01-07</td>\n",
       "      <td>BAGFILMS</td>\n",
       "      <td>EQ</td>\n",
       "      <td>4.85</td>\n",
       "      <td>4.85</td>\n",
       "      <td>4.95</td>\n",
       "      <td>4.85</td>\n",
       "      <td>4.90</td>\n",
       "      <td>4.85</td>\n",
       "      <td>4.88</td>\n",
       "      <td>49464</td>\n",
       "      <td>2.413514e+10</td>\n",
       "      <td>102.0</td>\n",
       "      <td>37488.0</td>\n",
       "      <td>0.7579</td>\n",
       "      <td>0.000000</td>\n",
       "      <td>-0.000000</td>\n",
       "    </tr>\n",
       "    <tr>\n",
       "      <th>...</th>\n",
       "      <td>...</td>\n",
       "      <td>...</td>\n",
       "      <td>...</td>\n",
       "      <td>...</td>\n",
       "      <td>...</td>\n",
       "      <td>...</td>\n",
       "      <td>...</td>\n",
       "      <td>...</td>\n",
       "      <td>...</td>\n",
       "      <td>...</td>\n",
       "      <td>...</td>\n",
       "      <td>...</td>\n",
       "      <td>...</td>\n",
       "      <td>...</td>\n",
       "      <td>...</td>\n",
       "      <td>...</td>\n",
       "      <td>...</td>\n",
       "    </tr>\n",
       "    <tr>\n",
       "      <th>212</th>\n",
       "      <td>2019-11-14</td>\n",
       "      <td>BAGFILMS</td>\n",
       "      <td>EQ</td>\n",
       "      <td>2.20</td>\n",
       "      <td>2.30</td>\n",
       "      <td>2.30</td>\n",
       "      <td>2.10</td>\n",
       "      <td>2.15</td>\n",
       "      <td>2.20</td>\n",
       "      <td>2.24</td>\n",
       "      <td>693312</td>\n",
       "      <td>1.554927e+11</td>\n",
       "      <td>565.0</td>\n",
       "      <td>395392.0</td>\n",
       "      <td>0.5703</td>\n",
       "      <td>0.000000</td>\n",
       "      <td>-0.000000</td>\n",
       "    </tr>\n",
       "    <tr>\n",
       "      <th>213</th>\n",
       "      <td>2019-11-15</td>\n",
       "      <td>BAGFILMS</td>\n",
       "      <td>EQ</td>\n",
       "      <td>2.20</td>\n",
       "      <td>2.10</td>\n",
       "      <td>2.10</td>\n",
       "      <td>2.10</td>\n",
       "      <td>2.10</td>\n",
       "      <td>2.10</td>\n",
       "      <td>2.10</td>\n",
       "      <td>35325</td>\n",
       "      <td>7.418250e+09</td>\n",
       "      <td>93.0</td>\n",
       "      <td>35325.0</td>\n",
       "      <td>1.0000</td>\n",
       "      <td>-0.046520</td>\n",
       "      <td>0.046520</td>\n",
       "    </tr>\n",
       "    <tr>\n",
       "      <th>214</th>\n",
       "      <td>2019-11-18</td>\n",
       "      <td>BAGFILMS</td>\n",
       "      <td>EQ</td>\n",
       "      <td>2.10</td>\n",
       "      <td>2.00</td>\n",
       "      <td>2.00</td>\n",
       "      <td>2.00</td>\n",
       "      <td>2.00</td>\n",
       "      <td>2.00</td>\n",
       "      <td>2.00</td>\n",
       "      <td>87810</td>\n",
       "      <td>1.756200e+10</td>\n",
       "      <td>129.0</td>\n",
       "      <td>87790.0</td>\n",
       "      <td>0.9998</td>\n",
       "      <td>-0.048790</td>\n",
       "      <td>0.048790</td>\n",
       "    </tr>\n",
       "    <tr>\n",
       "      <th>215</th>\n",
       "      <td>2019-11-19</td>\n",
       "      <td>BAGFILMS</td>\n",
       "      <td>EQ</td>\n",
       "      <td>2.00</td>\n",
       "      <td>1.90</td>\n",
       "      <td>2.05</td>\n",
       "      <td>1.90</td>\n",
       "      <td>2.05</td>\n",
       "      <td>2.00</td>\n",
       "      <td>1.94</td>\n",
       "      <td>201290</td>\n",
       "      <td>3.899737e+10</td>\n",
       "      <td>286.0</td>\n",
       "      <td>157775.0</td>\n",
       "      <td>0.7838</td>\n",
       "      <td>0.000000</td>\n",
       "      <td>-0.000000</td>\n",
       "    </tr>\n",
       "    <tr>\n",
       "      <th>216</th>\n",
       "      <td>2019-11-20</td>\n",
       "      <td>BAGFILMS</td>\n",
       "      <td>EQ</td>\n",
       "      <td>2.00</td>\n",
       "      <td>2.00</td>\n",
       "      <td>2.05</td>\n",
       "      <td>1.95</td>\n",
       "      <td>2.00</td>\n",
       "      <td>1.95</td>\n",
       "      <td>1.98</td>\n",
       "      <td>208753</td>\n",
       "      <td>4.127010e+10</td>\n",
       "      <td>195.0</td>\n",
       "      <td>145520.0</td>\n",
       "      <td>0.6971</td>\n",
       "      <td>-0.025318</td>\n",
       "      <td>0.025318</td>\n",
       "    </tr>\n",
       "  </tbody>\n",
       "</table>\n",
       "<p>217 rows × 17 columns</p>\n",
       "</div>"
      ],
      "text/plain": [
       "           Date    Symbol Series  Prev Close  Open  High   Low  Last  Close  \\\n",
       "0    2019-01-01  BAGFILMS     EQ        4.95  5.00  5.15  4.85  5.00   4.95   \n",
       "1    2019-01-02  BAGFILMS     EQ        4.95  4.90  5.00  4.85  4.95   4.90   \n",
       "2    2019-01-03  BAGFILMS     EQ        4.90  4.90  5.00  4.85  4.90   4.85   \n",
       "3    2019-01-04  BAGFILMS     EQ        4.85  4.80  4.90  4.80  4.80   4.85   \n",
       "4    2019-01-07  BAGFILMS     EQ        4.85  4.85  4.95  4.85  4.90   4.85   \n",
       "..          ...       ...    ...         ...   ...   ...   ...   ...    ...   \n",
       "212  2019-11-14  BAGFILMS     EQ        2.20  2.30  2.30  2.10  2.15   2.20   \n",
       "213  2019-11-15  BAGFILMS     EQ        2.20  2.10  2.10  2.10  2.10   2.10   \n",
       "214  2019-11-18  BAGFILMS     EQ        2.10  2.00  2.00  2.00  2.00   2.00   \n",
       "215  2019-11-19  BAGFILMS     EQ        2.00  1.90  2.05  1.90  2.05   2.00   \n",
       "216  2019-11-20  BAGFILMS     EQ        2.00  2.00  2.05  1.95  2.00   1.95   \n",
       "\n",
       "     VWAP  Volume      Turnover  Trades  Deliverable Volume  %Deliverble  \\\n",
       "0    5.01  202343  1.013573e+11   254.0            147939.0       0.7311   \n",
       "1    4.92   66516  3.272127e+10   162.0             58430.0       0.8784   \n",
       "2    4.92   52702  2.590396e+10   109.0             38203.0       0.7249   \n",
       "3    4.84   18077  8.758105e+09    76.0             15872.0       0.8780   \n",
       "4    4.88   49464  2.413514e+10   102.0             37488.0       0.7579   \n",
       "..    ...     ...           ...     ...                 ...          ...   \n",
       "212  2.24  693312  1.554927e+11   565.0            395392.0       0.5703   \n",
       "213  2.10   35325  7.418250e+09    93.0             35325.0       1.0000   \n",
       "214  2.00   87810  1.756200e+10   129.0             87790.0       0.9998   \n",
       "215  1.94  201290  3.899737e+10   286.0            157775.0       0.7838   \n",
       "216  1.98  208753  4.127010e+10   195.0            145520.0       0.6971   \n",
       "\n",
       "       logret  minus_logret  \n",
       "0         NaN           NaN  \n",
       "1   -0.010152      0.010152  \n",
       "2   -0.010257      0.010257  \n",
       "3    0.000000     -0.000000  \n",
       "4    0.000000     -0.000000  \n",
       "..        ...           ...  \n",
       "212  0.000000     -0.000000  \n",
       "213 -0.046520      0.046520  \n",
       "214 -0.048790      0.048790  \n",
       "215  0.000000     -0.000000  \n",
       "216 -0.025318      0.025318  \n",
       "\n",
       "[217 rows x 17 columns]"
      ]
     },
     "execution_count": 593,
     "metadata": {},
     "output_type": "execute_result"
    }
   ],
   "source": [
    "data_for_ticker['BAGFILMS']"
   ]
  },
  {
   "cell_type": "markdown",
   "metadata": {},
   "source": [
    "### compute logret_mean, logret_std"
   ]
  },
  {
   "cell_type": "code",
   "execution_count": 594,
   "metadata": {},
   "outputs": [
    {
     "data": {
      "text/html": [
       "<div>\n",
       "<style scoped>\n",
       "    .dataframe tbody tr th:only-of-type {\n",
       "        vertical-align: middle;\n",
       "    }\n",
       "\n",
       "    .dataframe tbody tr th {\n",
       "        vertical-align: top;\n",
       "    }\n",
       "\n",
       "    .dataframe thead th {\n",
       "        text-align: right;\n",
       "    }\n",
       "</style>\n",
       "<table border=\"1\" class=\"dataframe\">\n",
       "  <thead>\n",
       "    <tr style=\"text-align: right;\">\n",
       "      <th></th>\n",
       "      <th>logret_mean</th>\n",
       "      <th>logret_std</th>\n",
       "    </tr>\n",
       "    <tr>\n",
       "      <th>ticker</th>\n",
       "      <th></th>\n",
       "      <th></th>\n",
       "    </tr>\n",
       "  </thead>\n",
       "  <tbody>\n",
       "    <tr>\n",
       "      <th>20MICRONS</th>\n",
       "      <td>-0.000938</td>\n",
       "      <td>0.023810</td>\n",
       "    </tr>\n",
       "    <tr>\n",
       "      <th>21STCENMGM</th>\n",
       "      <td>-0.001896</td>\n",
       "      <td>0.014912</td>\n",
       "    </tr>\n",
       "    <tr>\n",
       "      <th>3IINFOTECH</th>\n",
       "      <td>-0.002569</td>\n",
       "      <td>0.039587</td>\n",
       "    </tr>\n",
       "    <tr>\n",
       "      <th>3MINDIA</th>\n",
       "      <td>0.000125</td>\n",
       "      <td>0.018969</td>\n",
       "    </tr>\n",
       "    <tr>\n",
       "      <th>5PAISA</th>\n",
       "      <td>-0.001199</td>\n",
       "      <td>0.043249</td>\n",
       "    </tr>\n",
       "    <tr>\n",
       "      <th>...</th>\n",
       "      <td>...</td>\n",
       "      <td>...</td>\n",
       "    </tr>\n",
       "    <tr>\n",
       "      <th>CONTROLPR</th>\n",
       "      <td>-0.001061</td>\n",
       "      <td>0.026090</td>\n",
       "    </tr>\n",
       "    <tr>\n",
       "      <th>CORALFINAC</th>\n",
       "      <td>-0.001317</td>\n",
       "      <td>0.034008</td>\n",
       "    </tr>\n",
       "    <tr>\n",
       "      <th>CORDSCABLE</th>\n",
       "      <td>-0.001831</td>\n",
       "      <td>0.024574</td>\n",
       "    </tr>\n",
       "    <tr>\n",
       "      <th>COROMANDEL</th>\n",
       "      <td>0.000677</td>\n",
       "      <td>0.015572</td>\n",
       "    </tr>\n",
       "    <tr>\n",
       "      <th>COSMOFILMS</th>\n",
       "      <td>0.000292</td>\n",
       "      <td>0.023230</td>\n",
       "    </tr>\n",
       "  </tbody>\n",
       "</table>\n",
       "<p>236 rows × 2 columns</p>\n",
       "</div>"
      ],
      "text/plain": [
       "            logret_mean  logret_std\n",
       "ticker                             \n",
       "20MICRONS     -0.000938    0.023810\n",
       "21STCENMGM    -0.001896    0.014912\n",
       "3IINFOTECH    -0.002569    0.039587\n",
       "3MINDIA        0.000125    0.018969\n",
       "5PAISA        -0.001199    0.043249\n",
       "...                 ...         ...\n",
       "CONTROLPR     -0.001061    0.026090\n",
       "CORALFINAC    -0.001317    0.034008\n",
       "CORDSCABLE    -0.001831    0.024574\n",
       "COROMANDEL     0.000677    0.015572\n",
       "COSMOFILMS     0.000292    0.023230\n",
       "\n",
       "[236 rows x 2 columns]"
      ]
     },
     "execution_count": 594,
     "metadata": {},
     "output_type": "execute_result"
    }
   ],
   "source": [
    "estims = pd.DataFrame(data=[], columns=['ticker', 'logret_mean', 'logret_std'])\n",
    "estims.set_index('ticker', inplace=True)\n",
    "\n",
    "for ticker, data in data_for_ticker.items():\n",
    "    estims.loc[ticker] = [data['logret'].mean(), data['logret'].std()]\n",
    "    \n",
    "estims"
   ]
  },
  {
   "cell_type": "markdown",
   "metadata": {},
   "source": [
    "### plot the map"
   ]
  },
  {
   "cell_type": "code",
   "execution_count": 595,
   "metadata": {},
   "outputs": [
    {
     "data": {
      "application/vnd.plotly.v1+json": {
       "config": {
        "plotlyServerURL": "https://plot.ly"
       },
       "data": [
        {
         "hovertemplate": "<b>%{hovertext}</b><br><br>logret_std=%{x}<br>logret_mean=%{y}<br>size=%{marker.size}<br>color=%{marker.color}<extra></extra>",
         "hovertext": [
          "20MICRONS",
          "21STCENMGM",
          "3IINFOTECH",
          "3MINDIA",
          "5PAISA",
          "63MOONS",
          "A2ZINFRA",
          "AARTIDRUGS",
          "AARTIIND",
          "AARVEEDEN",
          "AAVAS",
          "ABB",
          "ABBOTINDIA",
          "ABCAPITAL",
          "ABFRL",
          "ACC",
          "ACCELYA",
          "ACE",
          "ADANIENT",
          "ADANIGREEN",
          "ADANIPORTS",
          "ADANIPOWER",
          "ADANITRANS",
          "ADFFOODS",
          "ADORWELD",
          "ADSL",
          "ADVANIHOTR",
          "ADVENZYMES",
          "AEGISCHEM",
          "AGARIND",
          "AGRITECH",
          "AHLEAST",
          "AHLUCONT",
          "AHLWEST",
          "AIAENG",
          "AJANTPHARM",
          "AJMERA",
          "AKSHARCHEM",
          "AKSHOPTFBR",
          "AKZOINDIA",
          "ALANKIT",
          "ALBERTDAVD",
          "ALEMBICLTD",
          "ALICON",
          "ALKALI",
          "ALKEM",
          "ALKYLAMINE",
          "ALLCARGO",
          "ALMONDZ",
          "ALPA",
          "ALPHAGEO",
          "AMARAJABAT",
          "AMBER",
          "AMBIKCO",
          "AMBUJACEM",
          "AMDIND",
          "AMJLAND",
          "AMRUTANJAN",
          "ANANTRAJ",
          "ANDHRAPAP",
          "ANDHRSUGAR",
          "ANIKINDS",
          "ANSALAPI",
          "APARINDS",
          "APCL",
          "APEX",
          "APLAPOLLO",
          "APLLTD",
          "APOLLO",
          "APOLLOHOSP",
          "APOLLOTYRE",
          "APTECHT",
          "ARCHIDPLY",
          "ARIES",
          "ARIHANT",
          "ARMANFIN",
          "AROGRANITE",
          "ARSHIYA",
          "ARSSINFRA",
          "ARVIND",
          "ARVSMART",
          "ASAHIINDIA",
          "ASAHISONG",
          "ASAL",
          "ASHIANA",
          "ASHOKA",
          "ASHOKLEY",
          "ASIANHOTNR",
          "ASIANPAINT",
          "ASIANTILES",
          "ASPINWALL",
          "ASTEC",
          "ASTERDM",
          "ASTRAL",
          "ASTRAMICRO",
          "ASTRAZEN",
          "ASTRON",
          "ATFL",
          "ATUL",
          "ATULAUTO",
          "AUBANK",
          "AURIONPRO",
          "AUROPHARMA",
          "AUSOMENT",
          "AUTOAXLES",
          "AUTOIND",
          "AVADHSUGAR",
          "AVANTIFEED",
          "AVTNPL",
          "AXISBANK",
          "AXISCADES",
          "AYMSYNTEX",
          "BAGFILMS",
          "BAJAJ-AUTO",
          "BAJAJCON",
          "BAJAJELEC",
          "BAJAJFINSV",
          "BAJAJHIND",
          "BAJAJHLDNG",
          "BAJFINANCE",
          "BALAJITELE",
          "BALAMINES",
          "BALKRISIND",
          "BALMLAWRIE",
          "BALPHARMA",
          "BALRAMCHIN",
          "BANARBEADS",
          "BANARISUG",
          "BANCOINDIA",
          "BANDHANBNK",
          "BANG",
          "BANKBARODA",
          "BANKINDIA",
          "BANSWRAS",
          "BASF",
          "BASML",
          "BATAINDIA",
          "BAYERCROP",
          "BBL",
          "BDL",
          "BEARDSELL",
          "BEDMUTHA",
          "BEL",
          "BEML",
          "BEPL",
          "BERGEPAINT",
          "BFINVEST",
          "BFUTILITIE",
          "BGRENERGY",
          "BHAGERIA",
          "BHAGYANGR",
          "BHAGYAPROP",
          "BHANDARI",
          "BHARATFORG",
          "BHARATGEAR",
          "BHARATRAS",
          "BHARATWIRE",
          "BHARTIARTL",
          "BHEL",
          "BIGBLOC",
          "BINDALAGRO",
          "BIOCON",
          "BIRLACABLE",
          "BIRLACORPN",
          "BLISSGVS",
          "BLKASHYAP",
          "BLS",
          "BLUEDART",
          "BLUESTARCO",
          "BODALCHEM",
          "BOMDYEING",
          "BORORENEW",
          "BOSCHLTD",
          "BPCL",
          "BPL",
          "BRIGADE",
          "BRITANNIA",
          "BRNL",
          "BROOKS",
          "BSE",
          "BSL",
          "BSOFT",
          "BUTTERFLY",
          "BYKE",
          "CADILAHC",
          "CALSOFT",
          "CAMLINFINE",
          "CANBK",
          "CANFINHOME",
          "CANTABIL",
          "CAPACITE",
          "CAPLIPOINT",
          "CARBORUNIV",
          "CAREERP",
          "CARERATING",
          "CASTROLIND",
          "CCL",
          "CDSL",
          "CEATLTD",
          "CELEBRITY",
          "CENTENKA",
          "CENTEXT",
          "CENTRALBK",
          "CENTRUM",
          "CENTUM",
          "CENTURYPLY",
          "CENTURYTEX",
          "CERA",
          "CEREBRAINT",
          "CESC",
          "CGCL",
          "CGPOWER",
          "CHALET",
          "CHAMBLFERT",
          "CHEMFAB",
          "CHENNPETRO",
          "CHOLAHLDNG",
          "CIGNITITEC",
          "CINELINE",
          "CIPLA",
          "CLEDUCATE",
          "CLNINDIA",
          "CMICABLES",
          "COALINDIA",
          "COCHINSHIP",
          "COFORGE",
          "COLPAL",
          "COMPINFO",
          "COMPUSOFT",
          "CONCOR",
          "CONSOFINVT",
          "CONTROLPR",
          "CORALFINAC",
          "CORDSCABLE",
          "COROMANDEL",
          "COSMOFILMS"
         ],
         "legendgroup": "",
         "marker": {
          "color": [
           -0.03938435912843298,
           -0.1271609953174884,
           -0.06490168589844397,
           0.006572759270715581,
           -0.027715533375169653,
           0.002324630833619448,
           -0.06805878003683491,
           0.0014527608980379214,
           -0.04850448089570391,
           -0.06784088879447138,
           0.16846970014311852,
           0.026557575350622746,
           0.14490383088434092,
           0.0045586439998078635,
           0.03044225014452549,
           -0.006965616351205776,
           0.022396441817612026,
           -0.034090682725271486,
           0.03875137499380318,
           0.1600883586424559,
           -0.011880058701667936,
           0.023256904784348796,
           0.08341768739138795,
           0.02368953807190866,
           -0.048721984027430894,
           0.03968887258747493,
           -0.029856109047189792,
           -0.009771957988652486,
           -0.00925185356148443,
           -0.10997180634697766,
           -0.039787183458724305,
           -0.06222269458663886,
           -0.01650227769149663,
           0.021662214990188007,
           -0.0035864876734728857,
           -0.043556970692389625,
           -0.054389188774724824,
           -0.07334232316915607,
           -0.13409311006832988,
           0.027702354653625114,
           -0.07375891896385421,
           -0.00253258576551526,
           0.03823096413872631,
           -0.07847827836775992,
           -0.033053407104661696,
           0.011802044493485268,
           0.06356093392427763,
           -0.01990411814705727,
           -0.0760516831972584,
           -0.0432087604440267,
           -0.11375462592723848,
           -0.004704566549032976,
           0.041443529089666586,
           -0.10624093860780306,
           -0.02773833272474815,
           -0.03143713878937782,
           -0.0071763633379877305,
           0.06822164494694397,
           -0.013145126613205415,
           -0.08757979933255552,
           -0.029008708006541005,
           -0.15763648047137413,
           -0.08479399024207977,
           -0.10614333769502063,
           0.012869290257880762,
           -0.0072381833897779465,
           0.0895434752172462,
           -0.006699373073627527,
           -0.056334624110425384,
           0.02632912811659436,
           -0.07232916918867853,
           -0.023792457451037006,
           -0.05714025680610719,
           -0.054303514685002094,
           -0.04533621009637024,
           0.0730998637247797,
           -0.04944957435460706,
           -0.07018269803062333,
           -0.05459966718482048,
           -0.11918021573911518,
           -0.0785057955674046,
           -0.05909423176043971,
           -0.04277925444205699,
           -0.09636465307259146,
           -0.0291946340538701,
           -0.029627063147079965,
           -0.03495997205009412,
           -0.06271803039618158,
           0.07791260296740393,
           0.03625542511065172,
           -0.031003447402667743,
           -0.023861976036250836,
           -0.0008693926252848967,
           0.0073572548167066916,
           0.008868793047130953,
           0.09427576020944817,
           -0.11785230680918926,
           0.008193739086146045,
           0.0490444873202375,
           -0.06462462293967819,
           0.0550386794751228,
           -0.11178456873761493,
           -0.08000275907335253,
           -0.01656049412291443,
           -0.08143789128719865,
           -0.12235790935532695,
           -0.022951091052404143,
           0.05687617548369675,
           0.021247334054540077,
           0.04547336753276384,
           -0.05229790849240526,
           -0.047932061500660574,
           -0.11325885964204353,
           0.04581557511321593,
           -0.08290020575093406,
           -0.0668851398263811,
           0.08070363838358621,
           -0.03970469109549441,
           0.03374548648399199,
           0.09484274562892403,
           -0.07846024192829397,
           -0.01712919328390287,
           0.014917330979147745,
           -0.06384960635256494,
           -0.08956507927331887,
           0.08233819045229562,
           -0.05322973770539186,
           -0.04961614667135184,
           -0.09467261614746048,
           -0.013631245174993013,
           -0.14718809623657783,
           -0.03145592909891795,
           -0.0624646392993089,
           0.005151027097267514,
           -0.0950983388244744,
           -0.08099408939979177,
           0.11928054075673447,
           -0.04639935254117102,
           -0.07971249432074418,
           0.010024186139321448,
           -0.1258235282470308,
           -0.037951917613282066,
           0.02337782821975384,
           0.01294180404104881,
           -0.058405387409582205,
           0.10549674035532058,
           0.025590682697253713,
           0.03772579142983695,
           -0.06436180212591099,
           -0.07270224572141519,
           -0.07869533416227065,
           -0.019981500563819216,
           -0.06422682175970881,
           -0.011103207021388325,
           -0.08606694614416051,
           0.02380397172061599,
           -0.15040502704057787,
           0.06332998945894644,
           -0.07577581619295927,
           0.0018870415687166668,
           -0.07709644922415411,
           -0.0612433032775215,
           -0.10366661733978044,
           0.0044898412667173345,
           -0.010107029970496442,
           -0.09009198837408439,
           -0.07083993675961513,
           -0.09996963195332875,
           0.06777821124830394,
           -0.06664456563483162,
           -0.04370056504120568,
           -0.0658337286755678,
           -0.056497991568806534,
           0.049870737733212184,
           -0.08189337540479656,
           -0.001606076203250414,
           -0.006426429280889416,
           -0.0903257416797968,
           -0.08561916728174994,
           -0.052583873656306325,
           -0.0487652094173078,
           -0.10524512832862405,
           -0.05624087273644173,
           -0.1417439643594739,
           -0.0725505436689719,
           -0.0649250151240748,
           0.05255248776868211,
           -0.038554059275872216,
           0.053418465161931765,
           0.10122999139645865,
           -0.046889070896883614,
           -0.03488361020525166,
           -0.025171824020971574,
           0.03926680773664218,
           -0.06159149474016443,
           -0.03339678644198098,
           -0.0763714635365513,
           -0.005038370331714584,
           -0.06815722250666571,
           -0.030624068954796187,
           -0.0810916295587862,
           -0.1285265419282248,
           -0.10744176677395235,
           -0.10416803086868986,
           0.007271395339168122,
           -0.01614323830533418,
           -0.048141058006152496,
           0.02683925579332019,
           -0.03249879929132602,
           0.022100304604627984,
           0.07214537658968309,
           -0.12144639096861161,
           0.03786108849882814,
           0.005630697088538249,
           0.01772168890630935,
           -0.16405416301736694,
           -0.007854498962897933,
           -0.04629513656959007,
           -0.05845240841681908,
           -0.02571484304640794,
           -0.07927482784225343,
           -0.015619904581294598,
           -0.14945890514975685,
           -0.030703892587336124,
           0.02285555488718368,
           0.0855729960638878,
           0.029860965722990632,
           -0.03806956914803348,
           -0.049261362596626196,
           -0.03187029286941424,
           -0.030182002235300088,
           -0.04065352937944622,
           -0.038726552376552155,
           -0.0745026128228784,
           0.04349186026597999,
           0.012583440542067352
          ],
          "coloraxis": "coloraxis",
          "size": [
           0.7400132117705699,
           0.21898992915958795,
           0.5885478340300415,
           1.0128048078861147,
           0.809276858250325,
           0.9875888287902462,
           0.5698080004830659,
           0.9824135958858079,
           0.6858781254047533,
           0.5711013561557977,
           1.9737903188407144,
           1.1314303890020643,
           1.8339083742610192,
           1.0008494517051716,
           1.15448898523986,
           0.9324439144410608,
           1.106730792994736,
           0.7714353393024904,
           1.2038101678751882,
           1.9240404736546513,
           0.9032728388928332,
           1.1118383165791301,
           1.4689398164686138,
           1.1144063349657738,
           0.6845870734735028,
           1.2093749524796322,
           0.7965708602566106,
           0.9157860724964104,
           0.918873300803496,
           0.3210212674709173,
           0.7376221329596672,
           0.6044497517608218,
           0.8758363385256929,
           1.1023725800531787,
           0.9525016973828138,
           0.7152454846338092,
           0.6509477618199561,
           0.5384460218730684,
           0.17784238307294736,
           1.1382255533671093,
           0.5359731986036957,
           0.9587574330258541,
           1.2007211206777708,
           0.5079600935771152,
           0.7775923848704982,
           1.0438447231843988,
           1.3510743875502882,
           0.8556437433428753,
           0.5223638419570321,
           0.7173123859701748,
           0.2985672619313619,
           0.9458650210273014,
           1.2197902170684638,
           0.34316689802647204,
           0.809141526202134,
           0.7871862068688209,
           0.9311929655368785,
           1.3787393683670581,
           0.8957636671517856,
           0.4539354175845559,
           0.8016008510497853,
           0.038093986874440086,
           0.47047138273502004,
           0.34374623610744165,
           1.0501796650967357,
           0.9308260149710634,
           1.505301178901468,
           0.9340242774223688,
           0.6394000750012113,
           1.1300743752272766,
           0.5444598865598154,
           0.8325633953593715,
           0.6346180121436328,
           0.6514563048377803,
           0.7046843012134725,
           1.407695428558841,
           0.6802682533737574,
           0.5572008788939368,
           0.6496984071293685,
           0.26636212470331705,
           0.5077967573830026,
           0.6230196359806042,
           0.7198618414604192,
           0.4017904103068495,
           0.8004972339176176,
           0.7979304275848319,
           0.7662754243499253,
           0.6015095446546068,
           1.4362628162762507,
           1.1889947447989253,
           0.7897605059050372,
           0.8321507479506399,
           0.9686297907187653,
           1.017461405157462,
           1.0264335718387119,
           1.5333910074473838,
           0.27424430724888954,
           1.0224265963385986,
           1.264907874570755,
           0.5901924203178452,
           1.3004881133305624,
           0.3102610987931237,
           0.49891110313968035,
           0.8754907782773612,
           0.49039246618225146,
           0.2475000170749883,
           0.8375575658120885,
           1.3113950954585827,
           1.0999099358192574,
           1.2437104735874331,
           0.6633611529552342,
           0.6892758841385617,
           0.30151002424870316,
           1.2457417443747698,
           0.4817124812206047,
           0.576774477003513,
           1.4528298037749596,
           0.7381117899315727,
           1.1740962875420566,
           1.5367565112679176,
           0.5080671540126157,
           0.8721151020548399,
           1.0623363954733385,
           0.5947927525227157,
           0.4421512217376065,
           1.4625321542113932,
           0.6578300146425585,
           0.6792795158345841,
           0.4118339785193741,
           0.8928781716509647,
           0.10011335430917867,
           0.7870746716222801,
           0.603013619848291,
           1.0043657106939177,
           0.4093069800344699,
           0.4930267789817036,
           1.6818140207610193,
           0.6983737157260071,
           0.5006340524436903,
           1.0332917373795123,
           0.22692884677694816,
           0.7485158773177515,
           1.1125560921512498,
           1.050610091357995,
           0.6271084682766925,
           1.5999963384733182,
           1.1256911216290728,
           1.1977225238472415,
           0.5917524682881564,
           0.5422453842937122,
           0.5066716969436177,
           0.85518441791702,
           0.5925536827860008,
           0.9078840638170758,
           0.462915389574236,
           1.115085588556242,
           0.08101834315128387,
           1.3497035507461925,
           0.5240013293156774,
           0.9849913927852492,
           0.5161623349441499,
           0.6102632084731289,
           0.3584475168311336,
           1.0004410534410795,
           0.913797157091686,
           0.43902360234778215,
           0.5532996507892184,
           0.3803920290093533,
           1.3761072410571424,
           0.5782024737966759,
           0.7143931393830367,
           0.5830154280464608,
           0.6384303608137797,
           1.26981231977528,
           0.4876888101704525,
           0.9642569950330149,
           0.9356444132242742,
           0.43763609286973454,
           0.46557330884417103,
           0.6616637250874448,
           0.684330496831886,
           0.3490778142228745,
           0.6399565630456727,
           0.13242855325877634,
           0.5431458551339547,
           0.5884093567512726,
           1.2857306126979344,
           0.7449416935797938,
           1.2908708687351564,
           1.5746698319547145,
           0.6954668526206739,
           0.7667286918797992,
           0.8243757713013791,
           1.2068696660662643,
           0.6081964186447673,
           0.7755541587857626,
           0.5204656944621339,
           0.9438836333807511,
           0.5692236670999876,
           0.792012414987497,
           0.49244780152218676,
           0.21088433741474397,
           0.3360390396333654,
           0.3554712336865476,
           1.0169517617173323,
           0.8779675193009744,
           0.6880353257158044,
           1.1331023836839456,
           0.7808844178762229,
           1.1049729860256938,
           1.402029797681088,
           0.25291059467998783,
           1.1985256182249027,
           1.0072129288634952,
           1.078982462539281,
           0,
           0.9271676979407818,
           0.6989923193769451,
           0.6268293616646612,
           0.8211525268546027,
           0.5032319467719816,
           0.881073916021542,
           0.08663431973352549,
           0.791538599028472,
           1.10945598968697,
           1.4817332663926586,
           1.1510386056105202,
           0.7478175230460251,
           0.6813854379940243,
           0.7846150971697565,
           0.7946364282024582,
           0.7324796894224263,
           0.7439178115373054,
           0.5315587913934235,
           1.2319486715239136,
           1.0484829225040289
          ],
          "sizemode": "area",
          "sizeref": 0.004934475797101786,
          "symbol": "circle"
         },
         "mode": "markers",
         "name": "",
         "orientation": "v",
         "showlegend": false,
         "type": "scatter",
         "x": [
          0.02381003545168039,
          0.014912417931634408,
          0.03958684928915139,
          0.018968586185895076,
          0.04324907364655065,
          0.03851826039076764,
          0.03580404093156251,
          0.01783105971420984,
          0.04898868432824022,
          0.03751306734752232,
          0.020721123658124084,
          0.01784360346405702,
          0.01542064170805946,
          0.023243854331326634,
          0.020110450900032346,
          0.017304777090125477,
          0.021886880979793355,
          0.028865068716626266,
          0.02975911984645168,
          0.03562105816276361,
          0.02102504176707481,
          0.034367237998857235,
          0.02468870683520059,
          0.022069430881833826,
          0.02187706184388633,
          0.045394855523967804,
          0.025692313693905924,
          0.025321615623085877,
          0.023522496323328576,
          0.03425309752943014,
          0.03919128426646292,
          0.021417508427281073,
          0.020347480278299756,
          0.03413908955598739,
          0.017121048144637184,
          0.0181346754537598,
          0.028469292250723612,
          0.035145423537690165,
          0.039752134618686354,
          0.015961809962652247,
          0.04072822757606463,
          0.023992015615150096,
          0.02536605255131522,
          0.024134177113825706,
          0.03612036066009751,
          0.012928622815094399,
          0.021862086908259484,
          0.02068817756253505,
          0.03614279265862586,
          0.04012741876338392,
          0.03667828882022748,
          0.017207337172206492,
          0.020390276493387958,
          0.011236572264119653,
          0.018813682292910954,
          0.04235418366540396,
          0.028704110487379808,
          0.02601448101220392,
          0.0246732717395476,
          0.020672395198661438,
          0.020333153881755956,
          0.03182846198610248,
          0.040073150870917014,
          0.02065931624240033,
          0.029621274940383885,
          0.034967493871799205,
          0.021541581618319074,
          0.016428491486806644,
          0.038815425083545727,
          0.020212733297724644,
          0.020272333403548594,
          0.029618840364672192,
          0.031184568261718643,
          0.03323014678606791,
          0.04431781668242379,
          0.026259944618145424,
          0.027252800990409064,
          0.041193263856876446,
          0.04718297805756832,
          0.03099769532091476,
          0.021116488494595624,
          0.019279331446454093,
          0.03225732391494039,
          0.038583693563884934,
          0.020989445122542194,
          0.027464198229513733,
          0.026876144354784644,
          0.026593316084776174,
          0.013857946377506699,
          0.025884026111321266,
          0.026037201132832886,
          0.025781997621499332,
          0.023402097844124604,
          0.023245005916270437,
          0.023996284101154567,
          0.025854383780878096,
          0.03425848168204951,
          0.017841695337604286,
          0.013580270021270454,
          0.020576146089786067,
          0.01903426930441195,
          0.029660117735346082,
          0.024230476315832344,
          0.04434026736301812,
          0.026227102774631965,
          0.034791185112676155,
          0.0534261703270007,
          0.029482612303207437,
          0.02629070415641297,
          0.01659231781029138,
          0.035574545594238866,
          0.030136345458291962,
          0.03807887062095122,
          0.01389914437892455,
          0.022661791281273217,
          0.022083092776591706,
          0.01852703462872108,
          0.032799478105357084,
          0.017479751767189983,
          0.020144781732699256,
          0.0290650479373547,
          0.032842343275890834,
          0.017669260518218828,
          0.031106270105948325,
          0.02981815251569863,
          0.028524131848239112,
          0.03928608296662961,
          0.020437105373395683,
          0.023281209197678954,
          0.027375944230951875,
          0.03471616723235447,
          0.024836787322841607,
          0.02706726656754653,
          0.03481010664950364,
          0.019404763866633597,
          0.03155129776892594,
          0.015179298938285783,
          0.014805213154522231,
          0.01823924763672453,
          0.02601166874230626,
          0.038484910720973674,
          0.04122732739071613,
          0.023597190406480364,
          0.027080821076335842,
          0.03627560963333519,
          0.017038613300652244,
          0.03424578228549246,
          0.0387107664700059,
          0.03524907152327232,
          0.050645431038199476,
          0.024014898625253377,
          0.03697771877852982,
          0.04126175418697949,
          0.02064998328460131,
          0.034989649231985914,
          0.029612824687025262,
          0.02688413064006017,
          0.022992812960727575,
          0.028651593311692532,
          0.03825053939571464,
          0.03299529502430809,
          0.05062259687975399,
          0.047050301765145804,
          0.025024533288243247,
          0.0318148526011928,
          0.04189641185671837,
          0.0338406405396903,
          0.018311025287718434,
          0.01788511942340873,
          0.026954892695732244,
          0.035409026161005525,
          0.02592740374738463,
          0.01752659649169905,
          0.02396827576382929,
          0.039278502335209096,
          0.029030855588142158,
          0.01565590079065928,
          0.03423121815427152,
          0.03476197315520334,
          0.014127111221539927,
          0.038327057368014075,
          0.043688502627330685,
          0.03369987321942808,
          0.03751760770095169,
          0.018051933336634962,
          0.03951013516302018,
          0.034575437937461054,
          0.02555356876626274,
          0.024179006493856903,
          0.03194420390646867,
          0.026798118601187203,
          0.028271954227284568,
          0.019244633302887598,
          0.034455644076749906,
          0.028468136754314855,
          0.019160751392597212,
          0.01571721571556862,
          0.016093723519393026,
          0.01615368635896324,
          0.03873870789058535,
          0.01988297751928217,
          0.03603773865220704,
          0.02790333680344508,
          0.02515773760483597,
          0.02748005844187172,
          0.02389488191217989,
          0.05607913713802724,
          0.019928817153291166,
          0.028300312128123135,
          0.017264867370839772,
          0.026380893114588213,
          0.05078689727303289,
          0.02181181901612129,
          0.024304771037362623,
          0.019999834486823867,
          0.021362640499045814,
          0.01669978219060695,
          0.02222262168845474,
          0.02796357527656092,
          0.014287851694453171,
          0.024594329838592423,
          0.02029753232996622,
          0.03592872035612849,
          0.01780010675670347,
          0.013949056801556978,
          0.01544909727722271,
          0.01370269072441663,
          0.03689770446720766,
          0.0316880261702231,
          0.02326187912130692,
          0.03623123556047994,
          0.026089987496101145,
          0.034008446045920716,
          0.024573911059498094,
          0.015572279209263558,
          0.02322956046498375
         ],
         "xaxis": "x",
         "y": [
          -0.0009377429870897015,
          -0.0018962779067769927,
          -0.0025692532582735437,
          0.00012467595070570937,
          -0.0011986711440961448,
          8.954073576176114e-05,
          -0.0024367793461910463,
          2.590426632338329e-05,
          -0.002376170703104797,
          -0.0025449198302627775,
          0.0034908814893126437,
          0.0004738828435233274,
          0.002234510058192662,
          0.00010596045707991017,
          0.0006122073768179824,
          -0.00012053843825294914,
          0.0004901882564329412,
          -0.0009840298994616655,
          0.0011532068126553796,
          0.005702516734384283,
          -0.0002497787303978689,
          0.0007992755818404765,
          0.002059474828876386,
          0.0005228146231005591,
          -0.0010658938577249475,
          0.0018016706370175908,
          -0.0007670725193198629,
          -0.00024744176407360164,
          -0.00021762669138399187,
          -0.0037668750082906306,
          -0.0015593108170927756,
          -0.001332655085677474,
          -0.0003357797698747537,
          0.000739528297531081,
          -6.140442812767708e-05,
          -0.0007898915272554131,
          -0.0015484217105074171,
          -0.0025776470110181362,
          -0.005330487362874576,
          0.00044217972049915915,
          -0.003004070037324364,
          -6.0761837232948974e-05,
          0.0009697686454303791,
          -0.0018940086697156343,
          -0.0011939009856654099,
          0.00015258418170323285,
          0.001389574661422696,
          -0.00041177993045199695,
          -0.0027487202171380108,
          -0.001733856024584198,
          -0.00417232502439619,
          -8.095306285829434e-05,
          0.0008450450170000686,
          -0.0011937839840744787,
          -0.0005218601792184667,
          -0.0013314943502001034,
          -0.00020599112615118158,
          0.0017747506870935913,
          -0.00032433328097837625,
          -0.001810484223222053,
          -0.0005898385238079243,
          -0.005017326726306118,
          -0.003397962363917928,
          -0.002192848780465323,
          0.0003812047850162899,
          -0.00025310113332501914,
          0.0019289080797802404,
          -0.00011006059350703148,
          -0.0021866523817679253,
          0.000532183644582345,
          -0.0014662810325945656,
          -0.0007047049991255205,
          -0.0017818942388621829,
          -0.0018045137639820137,
          -0.0020092018481267866,
          0.0019195983730066926,
          -0.001347639408946542,
          -0.0028910543981629493,
          -0.002576174898731918,
          -0.003694312015761982,
          -0.0016577667288581754,
          -0.0011392972806830914,
          -0.001379944267377085,
          -0.0037181042445429513,
          -0.000612779169346408,
          -0.0008136835352297252,
          -0.0009395892554575661,
          -0.0016678804065402566,
          0.001079708674054253,
          0.0009384363702411617,
          -0.0008072429958344654,
          -0.0006152094094108931,
          -2.0345611281877512e-05,
          0.00017101943174185623,
          0.00021281807759329868,
          0.0024374416856891095,
          -0.0040374410940098885,
          0.0001461901964508379,
          0.0006660373808636003,
          -0.0013297256826041582,
          0.001047621047288698,
          -0.0033155434697525457,
          -0.0019385049589281094,
          -0.0007342967370737161,
          -0.002135879944538664,
          -0.00425697667438123,
          -0.0012261888997562454,
          0.001676858231075023,
          0.0005586073737403916,
          0.0007545085660078033,
          -0.0018604743301464028,
          -0.0014444971639120032,
          -0.0043127694629858495,
          0.0006367972933020507,
          -0.0018786671599022732,
          -0.0014770307481612828,
          0.0014951991029964855,
          -0.0013022931462666352,
          0.0005898627270032447,
          0.0019105864096245911,
          -0.0022804506928223115,
          -0.0005625628458690219,
          0.00026357820730705785,
          -0.001986123101361359,
          -0.0026706651938524606,
          0.002348625400606703,
          -0.002091187891785957,
          -0.001014010417744273,
          -0.0022040929818205857,
          -0.00037316820770904056,
          -0.005109806563560919,
          -0.0007812642210722098,
          -0.0016907470429600368,
          0.00017930780261036532,
          -0.0018453608089980397,
          -0.0025554686321758386,
          0.0018105949856668537,
          -0.0006869523046038597,
          -0.0014538959236570508,
          0.00026074580926724734,
          -0.004842307251184889,
          -0.0015646561325482655,
          0.0005516510637915212,
          0.00035047467964064295,
          -0.002118691034153714,
          0.0017975181633936217,
          0.0008763729481872696,
          0.0014603943019365683,
          -0.0022686937665029367,
          -0.003682036572006166,
          -0.0018898604721873686,
          -0.0007388703086219419,
          -0.0026501113316600507,
          -0.00022928103939713685,
          -0.003011452256052399,
          0.0007049028414175085,
          -0.004043508395880678,
          0.0014561346024344044,
          -0.0021710978684222346,
          7.218035786554802e-05,
          -0.0025438200874775534,
          -0.003100295053402487,
          -0.0048775456288085665,
          0.00011235618223789615,
          -0.00032155366874718234,
          -0.0037745310499113227,
          -0.0023972688357365287,
          -0.0018305464587013076,
          0.0012122214024809408,
          -0.001796397115440571,
          -0.0015473944507947755,
          -0.0017068976635672198,
          -0.0009902175008178872,
          0.0011953155945352363,
          -0.003216649137075457,
          -4.662576632011442e-05,
          -0.00010061153925979256,
          -0.0030919601683875,
          -0.0029762911946190555,
          -0.0007428582316020428,
          -0.0018690269789003765,
          -0.004598002065498847,
          -0.0018953102809680755,
          -0.005317894448816419,
          -0.0013096775778489043,
          -0.002565196123013325,
          0.0018170252793052496,
          -0.0009851938049245704,
          0.0012916054160422169,
          0.003233711486618544,
          -0.0012565388829941623,
          -0.0009862278310053118,
          -0.0004844225228484156,
          0.0013529631514039124,
          -0.001753395095165665,
          -0.0006399075223264587,
          -0.0012003467669176602,
          -8.108613910692704e-05,
          -0.0011009903954707484,
          -0.001186336861660993,
          -0.0016123430475193034,
          -0.004631805927881295,
          -0.0029979838050507874,
          -0.002620631987406953,
          0.00019981836887429365,
          -0.0003857407729861392,
          -0.00269970899389675,
          0.0005348746212354887,
          -0.0009197261637337533,
          0.00038155882785406166,
          0.0019032594685241444,
          -0.006167885382303467,
          0.0008258192100897907,
          0.0001368528035176665,
          0.00035443084495316964,
          -0.003504630106911867,
          -0.00013116842189674367,
          -0.0010287993060013464,
          -0.0016345383228600033,
          -0.00036740986379321704,
          -0.0019497112638500107,
          -0.0003170455182298146,
          -0.005369867207858746,
          -0.0005465325659009394,
          0.00031881343335242836,
          0.0013220255404943987,
          0.00040917557803454667,
          -0.0014046797116180657,
          -0.0015609953471427403,
          -0.000741362900288964,
          -0.0010935312326740896,
          -0.0010606500731821325,
          -0.0013170298670424966,
          -0.001830820581209636,
          0.0006772673913921159,
          0.00029230779292948147
         ],
         "yaxis": "y"
        }
       ],
       "layout": {
        "coloraxis": {
         "colorbar": {
          "title": {
           "text": "color"
          }
         },
         "colorscale": [
          [
           0,
           "rgb(165,0,38)"
          ],
          [
           0.1,
           "rgb(215,48,39)"
          ],
          [
           0.2,
           "rgb(244,109,67)"
          ],
          [
           0.3,
           "rgb(253,174,97)"
          ],
          [
           0.4,
           "rgb(254,224,139)"
          ],
          [
           0.5,
           "rgb(255,255,191)"
          ],
          [
           0.6,
           "rgb(217,239,139)"
          ],
          [
           0.7,
           "rgb(166,217,106)"
          ],
          [
           0.8,
           "rgb(102,189,99)"
          ],
          [
           0.9,
           "rgb(26,152,80)"
          ],
          [
           1,
           "rgb(0,104,55)"
          ]
         ]
        },
        "legend": {
         "itemsizing": "constant",
         "tracegroupgap": 0
        },
        "margin": {
         "t": 60
        },
        "template": {
         "data": {
          "bar": [
           {
            "error_x": {
             "color": "#2a3f5f"
            },
            "error_y": {
             "color": "#2a3f5f"
            },
            "marker": {
             "line": {
              "color": "#E5ECF6",
              "width": 0.5
             }
            },
            "type": "bar"
           }
          ],
          "barpolar": [
           {
            "marker": {
             "line": {
              "color": "#E5ECF6",
              "width": 0.5
             }
            },
            "type": "barpolar"
           }
          ],
          "carpet": [
           {
            "aaxis": {
             "endlinecolor": "#2a3f5f",
             "gridcolor": "white",
             "linecolor": "white",
             "minorgridcolor": "white",
             "startlinecolor": "#2a3f5f"
            },
            "baxis": {
             "endlinecolor": "#2a3f5f",
             "gridcolor": "white",
             "linecolor": "white",
             "minorgridcolor": "white",
             "startlinecolor": "#2a3f5f"
            },
            "type": "carpet"
           }
          ],
          "choropleth": [
           {
            "colorbar": {
             "outlinewidth": 0,
             "ticks": ""
            },
            "type": "choropleth"
           }
          ],
          "contour": [
           {
            "colorbar": {
             "outlinewidth": 0,
             "ticks": ""
            },
            "colorscale": [
             [
              0,
              "#0d0887"
             ],
             [
              0.1111111111111111,
              "#46039f"
             ],
             [
              0.2222222222222222,
              "#7201a8"
             ],
             [
              0.3333333333333333,
              "#9c179e"
             ],
             [
              0.4444444444444444,
              "#bd3786"
             ],
             [
              0.5555555555555556,
              "#d8576b"
             ],
             [
              0.6666666666666666,
              "#ed7953"
             ],
             [
              0.7777777777777778,
              "#fb9f3a"
             ],
             [
              0.8888888888888888,
              "#fdca26"
             ],
             [
              1,
              "#f0f921"
             ]
            ],
            "type": "contour"
           }
          ],
          "contourcarpet": [
           {
            "colorbar": {
             "outlinewidth": 0,
             "ticks": ""
            },
            "type": "contourcarpet"
           }
          ],
          "heatmap": [
           {
            "colorbar": {
             "outlinewidth": 0,
             "ticks": ""
            },
            "colorscale": [
             [
              0,
              "#0d0887"
             ],
             [
              0.1111111111111111,
              "#46039f"
             ],
             [
              0.2222222222222222,
              "#7201a8"
             ],
             [
              0.3333333333333333,
              "#9c179e"
             ],
             [
              0.4444444444444444,
              "#bd3786"
             ],
             [
              0.5555555555555556,
              "#d8576b"
             ],
             [
              0.6666666666666666,
              "#ed7953"
             ],
             [
              0.7777777777777778,
              "#fb9f3a"
             ],
             [
              0.8888888888888888,
              "#fdca26"
             ],
             [
              1,
              "#f0f921"
             ]
            ],
            "type": "heatmap"
           }
          ],
          "heatmapgl": [
           {
            "colorbar": {
             "outlinewidth": 0,
             "ticks": ""
            },
            "colorscale": [
             [
              0,
              "#0d0887"
             ],
             [
              0.1111111111111111,
              "#46039f"
             ],
             [
              0.2222222222222222,
              "#7201a8"
             ],
             [
              0.3333333333333333,
              "#9c179e"
             ],
             [
              0.4444444444444444,
              "#bd3786"
             ],
             [
              0.5555555555555556,
              "#d8576b"
             ],
             [
              0.6666666666666666,
              "#ed7953"
             ],
             [
              0.7777777777777778,
              "#fb9f3a"
             ],
             [
              0.8888888888888888,
              "#fdca26"
             ],
             [
              1,
              "#f0f921"
             ]
            ],
            "type": "heatmapgl"
           }
          ],
          "histogram": [
           {
            "marker": {
             "colorbar": {
              "outlinewidth": 0,
              "ticks": ""
             }
            },
            "type": "histogram"
           }
          ],
          "histogram2d": [
           {
            "colorbar": {
             "outlinewidth": 0,
             "ticks": ""
            },
            "colorscale": [
             [
              0,
              "#0d0887"
             ],
             [
              0.1111111111111111,
              "#46039f"
             ],
             [
              0.2222222222222222,
              "#7201a8"
             ],
             [
              0.3333333333333333,
              "#9c179e"
             ],
             [
              0.4444444444444444,
              "#bd3786"
             ],
             [
              0.5555555555555556,
              "#d8576b"
             ],
             [
              0.6666666666666666,
              "#ed7953"
             ],
             [
              0.7777777777777778,
              "#fb9f3a"
             ],
             [
              0.8888888888888888,
              "#fdca26"
             ],
             [
              1,
              "#f0f921"
             ]
            ],
            "type": "histogram2d"
           }
          ],
          "histogram2dcontour": [
           {
            "colorbar": {
             "outlinewidth": 0,
             "ticks": ""
            },
            "colorscale": [
             [
              0,
              "#0d0887"
             ],
             [
              0.1111111111111111,
              "#46039f"
             ],
             [
              0.2222222222222222,
              "#7201a8"
             ],
             [
              0.3333333333333333,
              "#9c179e"
             ],
             [
              0.4444444444444444,
              "#bd3786"
             ],
             [
              0.5555555555555556,
              "#d8576b"
             ],
             [
              0.6666666666666666,
              "#ed7953"
             ],
             [
              0.7777777777777778,
              "#fb9f3a"
             ],
             [
              0.8888888888888888,
              "#fdca26"
             ],
             [
              1,
              "#f0f921"
             ]
            ],
            "type": "histogram2dcontour"
           }
          ],
          "mesh3d": [
           {
            "colorbar": {
             "outlinewidth": 0,
             "ticks": ""
            },
            "type": "mesh3d"
           }
          ],
          "parcoords": [
           {
            "line": {
             "colorbar": {
              "outlinewidth": 0,
              "ticks": ""
             }
            },
            "type": "parcoords"
           }
          ],
          "pie": [
           {
            "automargin": true,
            "type": "pie"
           }
          ],
          "scatter": [
           {
            "marker": {
             "colorbar": {
              "outlinewidth": 0,
              "ticks": ""
             }
            },
            "type": "scatter"
           }
          ],
          "scatter3d": [
           {
            "line": {
             "colorbar": {
              "outlinewidth": 0,
              "ticks": ""
             }
            },
            "marker": {
             "colorbar": {
              "outlinewidth": 0,
              "ticks": ""
             }
            },
            "type": "scatter3d"
           }
          ],
          "scattercarpet": [
           {
            "marker": {
             "colorbar": {
              "outlinewidth": 0,
              "ticks": ""
             }
            },
            "type": "scattercarpet"
           }
          ],
          "scattergeo": [
           {
            "marker": {
             "colorbar": {
              "outlinewidth": 0,
              "ticks": ""
             }
            },
            "type": "scattergeo"
           }
          ],
          "scattergl": [
           {
            "marker": {
             "colorbar": {
              "outlinewidth": 0,
              "ticks": ""
             }
            },
            "type": "scattergl"
           }
          ],
          "scattermapbox": [
           {
            "marker": {
             "colorbar": {
              "outlinewidth": 0,
              "ticks": ""
             }
            },
            "type": "scattermapbox"
           }
          ],
          "scatterpolar": [
           {
            "marker": {
             "colorbar": {
              "outlinewidth": 0,
              "ticks": ""
             }
            },
            "type": "scatterpolar"
           }
          ],
          "scatterpolargl": [
           {
            "marker": {
             "colorbar": {
              "outlinewidth": 0,
              "ticks": ""
             }
            },
            "type": "scatterpolargl"
           }
          ],
          "scatterternary": [
           {
            "marker": {
             "colorbar": {
              "outlinewidth": 0,
              "ticks": ""
             }
            },
            "type": "scatterternary"
           }
          ],
          "surface": [
           {
            "colorbar": {
             "outlinewidth": 0,
             "ticks": ""
            },
            "colorscale": [
             [
              0,
              "#0d0887"
             ],
             [
              0.1111111111111111,
              "#46039f"
             ],
             [
              0.2222222222222222,
              "#7201a8"
             ],
             [
              0.3333333333333333,
              "#9c179e"
             ],
             [
              0.4444444444444444,
              "#bd3786"
             ],
             [
              0.5555555555555556,
              "#d8576b"
             ],
             [
              0.6666666666666666,
              "#ed7953"
             ],
             [
              0.7777777777777778,
              "#fb9f3a"
             ],
             [
              0.8888888888888888,
              "#fdca26"
             ],
             [
              1,
              "#f0f921"
             ]
            ],
            "type": "surface"
           }
          ],
          "table": [
           {
            "cells": {
             "fill": {
              "color": "#EBF0F8"
             },
             "line": {
              "color": "white"
             }
            },
            "header": {
             "fill": {
              "color": "#C8D4E3"
             },
             "line": {
              "color": "white"
             }
            },
            "type": "table"
           }
          ]
         },
         "layout": {
          "annotationdefaults": {
           "arrowcolor": "#2a3f5f",
           "arrowhead": 0,
           "arrowwidth": 1
          },
          "autotypenumbers": "strict",
          "coloraxis": {
           "colorbar": {
            "outlinewidth": 0,
            "ticks": ""
           }
          },
          "colorscale": {
           "diverging": [
            [
             0,
             "#8e0152"
            ],
            [
             0.1,
             "#c51b7d"
            ],
            [
             0.2,
             "#de77ae"
            ],
            [
             0.3,
             "#f1b6da"
            ],
            [
             0.4,
             "#fde0ef"
            ],
            [
             0.5,
             "#f7f7f7"
            ],
            [
             0.6,
             "#e6f5d0"
            ],
            [
             0.7,
             "#b8e186"
            ],
            [
             0.8,
             "#7fbc41"
            ],
            [
             0.9,
             "#4d9221"
            ],
            [
             1,
             "#276419"
            ]
           ],
           "sequential": [
            [
             0,
             "#0d0887"
            ],
            [
             0.1111111111111111,
             "#46039f"
            ],
            [
             0.2222222222222222,
             "#7201a8"
            ],
            [
             0.3333333333333333,
             "#9c179e"
            ],
            [
             0.4444444444444444,
             "#bd3786"
            ],
            [
             0.5555555555555556,
             "#d8576b"
            ],
            [
             0.6666666666666666,
             "#ed7953"
            ],
            [
             0.7777777777777778,
             "#fb9f3a"
            ],
            [
             0.8888888888888888,
             "#fdca26"
            ],
            [
             1,
             "#f0f921"
            ]
           ],
           "sequentialminus": [
            [
             0,
             "#0d0887"
            ],
            [
             0.1111111111111111,
             "#46039f"
            ],
            [
             0.2222222222222222,
             "#7201a8"
            ],
            [
             0.3333333333333333,
             "#9c179e"
            ],
            [
             0.4444444444444444,
             "#bd3786"
            ],
            [
             0.5555555555555556,
             "#d8576b"
            ],
            [
             0.6666666666666666,
             "#ed7953"
            ],
            [
             0.7777777777777778,
             "#fb9f3a"
            ],
            [
             0.8888888888888888,
             "#fdca26"
            ],
            [
             1,
             "#f0f921"
            ]
           ]
          },
          "colorway": [
           "#636efa",
           "#EF553B",
           "#00cc96",
           "#ab63fa",
           "#FFA15A",
           "#19d3f3",
           "#FF6692",
           "#B6E880",
           "#FF97FF",
           "#FECB52"
          ],
          "font": {
           "color": "#2a3f5f"
          },
          "geo": {
           "bgcolor": "white",
           "lakecolor": "white",
           "landcolor": "#E5ECF6",
           "showlakes": true,
           "showland": true,
           "subunitcolor": "white"
          },
          "hoverlabel": {
           "align": "left"
          },
          "hovermode": "closest",
          "mapbox": {
           "style": "light"
          },
          "paper_bgcolor": "white",
          "plot_bgcolor": "#E5ECF6",
          "polar": {
           "angularaxis": {
            "gridcolor": "white",
            "linecolor": "white",
            "ticks": ""
           },
           "bgcolor": "#E5ECF6",
           "radialaxis": {
            "gridcolor": "white",
            "linecolor": "white",
            "ticks": ""
           }
          },
          "scene": {
           "xaxis": {
            "backgroundcolor": "#E5ECF6",
            "gridcolor": "white",
            "gridwidth": 2,
            "linecolor": "white",
            "showbackground": true,
            "ticks": "",
            "zerolinecolor": "white"
           },
           "yaxis": {
            "backgroundcolor": "#E5ECF6",
            "gridcolor": "white",
            "gridwidth": 2,
            "linecolor": "white",
            "showbackground": true,
            "ticks": "",
            "zerolinecolor": "white"
           },
           "zaxis": {
            "backgroundcolor": "#E5ECF6",
            "gridcolor": "white",
            "gridwidth": 2,
            "linecolor": "white",
            "showbackground": true,
            "ticks": "",
            "zerolinecolor": "white"
           }
          },
          "shapedefaults": {
           "line": {
            "color": "#2a3f5f"
           }
          },
          "ternary": {
           "aaxis": {
            "gridcolor": "white",
            "linecolor": "white",
            "ticks": ""
           },
           "baxis": {
            "gridcolor": "white",
            "linecolor": "white",
            "ticks": ""
           },
           "bgcolor": "#E5ECF6",
           "caxis": {
            "gridcolor": "white",
            "linecolor": "white",
            "ticks": ""
           }
          },
          "title": {
           "x": 0.05
          },
          "xaxis": {
           "automargin": true,
           "gridcolor": "white",
           "linecolor": "white",
           "ticks": "",
           "title": {
            "standoff": 15
           },
           "zerolinecolor": "white",
           "zerolinewidth": 2
          },
          "yaxis": {
           "automargin": true,
           "gridcolor": "white",
           "linecolor": "white",
           "ticks": "",
           "title": {
            "standoff": 15
           },
           "zerolinecolor": "white",
           "zerolinewidth": 2
          }
         }
        },
        "xaxis": {
         "anchor": "y",
         "domain": [
          0,
          1
         ],
         "title": {
          "text": "logret_std"
         }
        },
        "yaxis": {
         "anchor": "x",
         "domain": [
          0,
          1
         ],
         "title": {
          "text": "logret_mean"
         }
        }
       }
      },
      "text/html": [
       "<div>                            <div id=\"5e993331-98c0-41a1-ad24-f3a1b506c5cc\" class=\"plotly-graph-div\" style=\"height:525px; width:100%;\"></div>            <script type=\"text/javascript\">                require([\"plotly\"], function(Plotly) {                    window.PLOTLYENV=window.PLOTLYENV || {};                                    if (document.getElementById(\"5e993331-98c0-41a1-ad24-f3a1b506c5cc\")) {                    Plotly.newPlot(                        \"5e993331-98c0-41a1-ad24-f3a1b506c5cc\",                        [{\"hovertemplate\": \"<b>%{hovertext}</b><br><br>logret_std=%{x}<br>logret_mean=%{y}<br>size=%{marker.size}<br>color=%{marker.color}<extra></extra>\", \"hovertext\": [\"20MICRONS\", \"21STCENMGM\", \"3IINFOTECH\", \"3MINDIA\", \"5PAISA\", \"63MOONS\", \"A2ZINFRA\", \"AARTIDRUGS\", \"AARTIIND\", \"AARVEEDEN\", \"AAVAS\", \"ABB\", \"ABBOTINDIA\", \"ABCAPITAL\", \"ABFRL\", \"ACC\", \"ACCELYA\", \"ACE\", \"ADANIENT\", \"ADANIGREEN\", \"ADANIPORTS\", \"ADANIPOWER\", \"ADANITRANS\", \"ADFFOODS\", \"ADORWELD\", \"ADSL\", \"ADVANIHOTR\", \"ADVENZYMES\", \"AEGISCHEM\", \"AGARIND\", \"AGRITECH\", \"AHLEAST\", \"AHLUCONT\", \"AHLWEST\", \"AIAENG\", \"AJANTPHARM\", \"AJMERA\", \"AKSHARCHEM\", \"AKSHOPTFBR\", \"AKZOINDIA\", \"ALANKIT\", \"ALBERTDAVD\", \"ALEMBICLTD\", \"ALICON\", \"ALKALI\", \"ALKEM\", \"ALKYLAMINE\", \"ALLCARGO\", \"ALMONDZ\", \"ALPA\", \"ALPHAGEO\", \"AMARAJABAT\", \"AMBER\", \"AMBIKCO\", \"AMBUJACEM\", \"AMDIND\", \"AMJLAND\", \"AMRUTANJAN\", \"ANANTRAJ\", \"ANDHRAPAP\", \"ANDHRSUGAR\", \"ANIKINDS\", \"ANSALAPI\", \"APARINDS\", \"APCL\", \"APEX\", \"APLAPOLLO\", \"APLLTD\", \"APOLLO\", \"APOLLOHOSP\", \"APOLLOTYRE\", \"APTECHT\", \"ARCHIDPLY\", \"ARIES\", \"ARIHANT\", \"ARMANFIN\", \"AROGRANITE\", \"ARSHIYA\", \"ARSSINFRA\", \"ARVIND\", \"ARVSMART\", \"ASAHIINDIA\", \"ASAHISONG\", \"ASAL\", \"ASHIANA\", \"ASHOKA\", \"ASHOKLEY\", \"ASIANHOTNR\", \"ASIANPAINT\", \"ASIANTILES\", \"ASPINWALL\", \"ASTEC\", \"ASTERDM\", \"ASTRAL\", \"ASTRAMICRO\", \"ASTRAZEN\", \"ASTRON\", \"ATFL\", \"ATUL\", \"ATULAUTO\", \"AUBANK\", \"AURIONPRO\", \"AUROPHARMA\", \"AUSOMENT\", \"AUTOAXLES\", \"AUTOIND\", \"AVADHSUGAR\", \"AVANTIFEED\", \"AVTNPL\", \"AXISBANK\", \"AXISCADES\", \"AYMSYNTEX\", \"BAGFILMS\", \"BAJAJ-AUTO\", \"BAJAJCON\", \"BAJAJELEC\", \"BAJAJFINSV\", \"BAJAJHIND\", \"BAJAJHLDNG\", \"BAJFINANCE\", \"BALAJITELE\", \"BALAMINES\", \"BALKRISIND\", \"BALMLAWRIE\", \"BALPHARMA\", \"BALRAMCHIN\", \"BANARBEADS\", \"BANARISUG\", \"BANCOINDIA\", \"BANDHANBNK\", \"BANG\", \"BANKBARODA\", \"BANKINDIA\", \"BANSWRAS\", \"BASF\", \"BASML\", \"BATAINDIA\", \"BAYERCROP\", \"BBL\", \"BDL\", \"BEARDSELL\", \"BEDMUTHA\", \"BEL\", \"BEML\", \"BEPL\", \"BERGEPAINT\", \"BFINVEST\", \"BFUTILITIE\", \"BGRENERGY\", \"BHAGERIA\", \"BHAGYANGR\", \"BHAGYAPROP\", \"BHANDARI\", \"BHARATFORG\", \"BHARATGEAR\", \"BHARATRAS\", \"BHARATWIRE\", \"BHARTIARTL\", \"BHEL\", \"BIGBLOC\", \"BINDALAGRO\", \"BIOCON\", \"BIRLACABLE\", \"BIRLACORPN\", \"BLISSGVS\", \"BLKASHYAP\", \"BLS\", \"BLUEDART\", \"BLUESTARCO\", \"BODALCHEM\", \"BOMDYEING\", \"BORORENEW\", \"BOSCHLTD\", \"BPCL\", \"BPL\", \"BRIGADE\", \"BRITANNIA\", \"BRNL\", \"BROOKS\", \"BSE\", \"BSL\", \"BSOFT\", \"BUTTERFLY\", \"BYKE\", \"CADILAHC\", \"CALSOFT\", \"CAMLINFINE\", \"CANBK\", \"CANFINHOME\", \"CANTABIL\", \"CAPACITE\", \"CAPLIPOINT\", \"CARBORUNIV\", \"CAREERP\", \"CARERATING\", \"CASTROLIND\", \"CCL\", \"CDSL\", \"CEATLTD\", \"CELEBRITY\", \"CENTENKA\", \"CENTEXT\", \"CENTRALBK\", \"CENTRUM\", \"CENTUM\", \"CENTURYPLY\", \"CENTURYTEX\", \"CERA\", \"CEREBRAINT\", \"CESC\", \"CGCL\", \"CGPOWER\", \"CHALET\", \"CHAMBLFERT\", \"CHEMFAB\", \"CHENNPETRO\", \"CHOLAHLDNG\", \"CIGNITITEC\", \"CINELINE\", \"CIPLA\", \"CLEDUCATE\", \"CLNINDIA\", \"CMICABLES\", \"COALINDIA\", \"COCHINSHIP\", \"COFORGE\", \"COLPAL\", \"COMPINFO\", \"COMPUSOFT\", \"CONCOR\", \"CONSOFINVT\", \"CONTROLPR\", \"CORALFINAC\", \"CORDSCABLE\", \"COROMANDEL\", \"COSMOFILMS\"], \"legendgroup\": \"\", \"marker\": {\"color\": [-0.03938435912843298, -0.1271609953174884, -0.06490168589844397, 0.006572759270715581, -0.027715533375169653, 0.002324630833619448, -0.06805878003683491, 0.0014527608980379214, -0.04850448089570391, -0.06784088879447138, 0.16846970014311852, 0.026557575350622746, 0.14490383088434092, 0.0045586439998078635, 0.03044225014452549, -0.006965616351205776, 0.022396441817612026, -0.034090682725271486, 0.03875137499380318, 0.1600883586424559, -0.011880058701667936, 0.023256904784348796, 0.08341768739138795, 0.02368953807190866, -0.048721984027430894, 0.03968887258747493, -0.029856109047189792, -0.009771957988652486, -0.00925185356148443, -0.10997180634697766, -0.039787183458724305, -0.06222269458663886, -0.01650227769149663, 0.021662214990188007, -0.0035864876734728857, -0.043556970692389625, -0.054389188774724824, -0.07334232316915607, -0.13409311006832988, 0.027702354653625114, -0.07375891896385421, -0.00253258576551526, 0.03823096413872631, -0.07847827836775992, -0.033053407104661696, 0.011802044493485268, 0.06356093392427763, -0.01990411814705727, -0.0760516831972584, -0.0432087604440267, -0.11375462592723848, -0.004704566549032976, 0.041443529089666586, -0.10624093860780306, -0.02773833272474815, -0.03143713878937782, -0.0071763633379877305, 0.06822164494694397, -0.013145126613205415, -0.08757979933255552, -0.029008708006541005, -0.15763648047137413, -0.08479399024207977, -0.10614333769502063, 0.012869290257880762, -0.0072381833897779465, 0.0895434752172462, -0.006699373073627527, -0.056334624110425384, 0.02632912811659436, -0.07232916918867853, -0.023792457451037006, -0.05714025680610719, -0.054303514685002094, -0.04533621009637024, 0.0730998637247797, -0.04944957435460706, -0.07018269803062333, -0.05459966718482048, -0.11918021573911518, -0.0785057955674046, -0.05909423176043971, -0.04277925444205699, -0.09636465307259146, -0.0291946340538701, -0.029627063147079965, -0.03495997205009412, -0.06271803039618158, 0.07791260296740393, 0.03625542511065172, -0.031003447402667743, -0.023861976036250836, -0.0008693926252848967, 0.0073572548167066916, 0.008868793047130953, 0.09427576020944817, -0.11785230680918926, 0.008193739086146045, 0.0490444873202375, -0.06462462293967819, 0.0550386794751228, -0.11178456873761493, -0.08000275907335253, -0.01656049412291443, -0.08143789128719865, -0.12235790935532695, -0.022951091052404143, 0.05687617548369675, 0.021247334054540077, 0.04547336753276384, -0.05229790849240526, -0.047932061500660574, -0.11325885964204353, 0.04581557511321593, -0.08290020575093406, -0.0668851398263811, 0.08070363838358621, -0.03970469109549441, 0.03374548648399199, 0.09484274562892403, -0.07846024192829397, -0.01712919328390287, 0.014917330979147745, -0.06384960635256494, -0.08956507927331887, 0.08233819045229562, -0.05322973770539186, -0.04961614667135184, -0.09467261614746048, -0.013631245174993013, -0.14718809623657783, -0.03145592909891795, -0.0624646392993089, 0.005151027097267514, -0.0950983388244744, -0.08099408939979177, 0.11928054075673447, -0.04639935254117102, -0.07971249432074418, 0.010024186139321448, -0.1258235282470308, -0.037951917613282066, 0.02337782821975384, 0.01294180404104881, -0.058405387409582205, 0.10549674035532058, 0.025590682697253713, 0.03772579142983695, -0.06436180212591099, -0.07270224572141519, -0.07869533416227065, -0.019981500563819216, -0.06422682175970881, -0.011103207021388325, -0.08606694614416051, 0.02380397172061599, -0.15040502704057787, 0.06332998945894644, -0.07577581619295927, 0.0018870415687166668, -0.07709644922415411, -0.0612433032775215, -0.10366661733978044, 0.0044898412667173345, -0.010107029970496442, -0.09009198837408439, -0.07083993675961513, -0.09996963195332875, 0.06777821124830394, -0.06664456563483162, -0.04370056504120568, -0.0658337286755678, -0.056497991568806534, 0.049870737733212184, -0.08189337540479656, -0.001606076203250414, -0.006426429280889416, -0.0903257416797968, -0.08561916728174994, -0.052583873656306325, -0.0487652094173078, -0.10524512832862405, -0.05624087273644173, -0.1417439643594739, -0.0725505436689719, -0.0649250151240748, 0.05255248776868211, -0.038554059275872216, 0.053418465161931765, 0.10122999139645865, -0.046889070896883614, -0.03488361020525166, -0.025171824020971574, 0.03926680773664218, -0.06159149474016443, -0.03339678644198098, -0.0763714635365513, -0.005038370331714584, -0.06815722250666571, -0.030624068954796187, -0.0810916295587862, -0.1285265419282248, -0.10744176677395235, -0.10416803086868986, 0.007271395339168122, -0.01614323830533418, -0.048141058006152496, 0.02683925579332019, -0.03249879929132602, 0.022100304604627984, 0.07214537658968309, -0.12144639096861161, 0.03786108849882814, 0.005630697088538249, 0.01772168890630935, -0.16405416301736694, -0.007854498962897933, -0.04629513656959007, -0.05845240841681908, -0.02571484304640794, -0.07927482784225343, -0.015619904581294598, -0.14945890514975685, -0.030703892587336124, 0.02285555488718368, 0.0855729960638878, 0.029860965722990632, -0.03806956914803348, -0.049261362596626196, -0.03187029286941424, -0.030182002235300088, -0.04065352937944622, -0.038726552376552155, -0.0745026128228784, 0.04349186026597999, 0.012583440542067352], \"coloraxis\": \"coloraxis\", \"size\": [0.7400132117705699, 0.21898992915958795, 0.5885478340300415, 1.0128048078861147, 0.809276858250325, 0.9875888287902462, 0.5698080004830659, 0.9824135958858079, 0.6858781254047533, 0.5711013561557977, 1.9737903188407144, 1.1314303890020643, 1.8339083742610192, 1.0008494517051716, 1.15448898523986, 0.9324439144410608, 1.106730792994736, 0.7714353393024904, 1.2038101678751882, 1.9240404736546513, 0.9032728388928332, 1.1118383165791301, 1.4689398164686138, 1.1144063349657738, 0.6845870734735028, 1.2093749524796322, 0.7965708602566106, 0.9157860724964104, 0.918873300803496, 0.3210212674709173, 0.7376221329596672, 0.6044497517608218, 0.8758363385256929, 1.1023725800531787, 0.9525016973828138, 0.7152454846338092, 0.6509477618199561, 0.5384460218730684, 0.17784238307294736, 1.1382255533671093, 0.5359731986036957, 0.9587574330258541, 1.2007211206777708, 0.5079600935771152, 0.7775923848704982, 1.0438447231843988, 1.3510743875502882, 0.8556437433428753, 0.5223638419570321, 0.7173123859701748, 0.2985672619313619, 0.9458650210273014, 1.2197902170684638, 0.34316689802647204, 0.809141526202134, 0.7871862068688209, 0.9311929655368785, 1.3787393683670581, 0.8957636671517856, 0.4539354175845559, 0.8016008510497853, 0.038093986874440086, 0.47047138273502004, 0.34374623610744165, 1.0501796650967357, 0.9308260149710634, 1.505301178901468, 0.9340242774223688, 0.6394000750012113, 1.1300743752272766, 0.5444598865598154, 0.8325633953593715, 0.6346180121436328, 0.6514563048377803, 0.7046843012134725, 1.407695428558841, 0.6802682533737574, 0.5572008788939368, 0.6496984071293685, 0.26636212470331705, 0.5077967573830026, 0.6230196359806042, 0.7198618414604192, 0.4017904103068495, 0.8004972339176176, 0.7979304275848319, 0.7662754243499253, 0.6015095446546068, 1.4362628162762507, 1.1889947447989253, 0.7897605059050372, 0.8321507479506399, 0.9686297907187653, 1.017461405157462, 1.0264335718387119, 1.5333910074473838, 0.27424430724888954, 1.0224265963385986, 1.264907874570755, 0.5901924203178452, 1.3004881133305624, 0.3102610987931237, 0.49891110313968035, 0.8754907782773612, 0.49039246618225146, 0.2475000170749883, 0.8375575658120885, 1.3113950954585827, 1.0999099358192574, 1.2437104735874331, 0.6633611529552342, 0.6892758841385617, 0.30151002424870316, 1.2457417443747698, 0.4817124812206047, 0.576774477003513, 1.4528298037749596, 0.7381117899315727, 1.1740962875420566, 1.5367565112679176, 0.5080671540126157, 0.8721151020548399, 1.0623363954733385, 0.5947927525227157, 0.4421512217376065, 1.4625321542113932, 0.6578300146425585, 0.6792795158345841, 0.4118339785193741, 0.8928781716509647, 0.10011335430917867, 0.7870746716222801, 0.603013619848291, 1.0043657106939177, 0.4093069800344699, 0.4930267789817036, 1.6818140207610193, 0.6983737157260071, 0.5006340524436903, 1.0332917373795123, 0.22692884677694816, 0.7485158773177515, 1.1125560921512498, 1.050610091357995, 0.6271084682766925, 1.5999963384733182, 1.1256911216290728, 1.1977225238472415, 0.5917524682881564, 0.5422453842937122, 0.5066716969436177, 0.85518441791702, 0.5925536827860008, 0.9078840638170758, 0.462915389574236, 1.115085588556242, 0.08101834315128387, 1.3497035507461925, 0.5240013293156774, 0.9849913927852492, 0.5161623349441499, 0.6102632084731289, 0.3584475168311336, 1.0004410534410795, 0.913797157091686, 0.43902360234778215, 0.5532996507892184, 0.3803920290093533, 1.3761072410571424, 0.5782024737966759, 0.7143931393830367, 0.5830154280464608, 0.6384303608137797, 1.26981231977528, 0.4876888101704525, 0.9642569950330149, 0.9356444132242742, 0.43763609286973454, 0.46557330884417103, 0.6616637250874448, 0.684330496831886, 0.3490778142228745, 0.6399565630456727, 0.13242855325877634, 0.5431458551339547, 0.5884093567512726, 1.2857306126979344, 0.7449416935797938, 1.2908708687351564, 1.5746698319547145, 0.6954668526206739, 0.7667286918797992, 0.8243757713013791, 1.2068696660662643, 0.6081964186447673, 0.7755541587857626, 0.5204656944621339, 0.9438836333807511, 0.5692236670999876, 0.792012414987497, 0.49244780152218676, 0.21088433741474397, 0.3360390396333654, 0.3554712336865476, 1.0169517617173323, 0.8779675193009744, 0.6880353257158044, 1.1331023836839456, 0.7808844178762229, 1.1049729860256938, 1.402029797681088, 0.25291059467998783, 1.1985256182249027, 1.0072129288634952, 1.078982462539281, 0.0, 0.9271676979407818, 0.6989923193769451, 0.6268293616646612, 0.8211525268546027, 0.5032319467719816, 0.881073916021542, 0.08663431973352549, 0.791538599028472, 1.10945598968697, 1.4817332663926586, 1.1510386056105202, 0.7478175230460251, 0.6813854379940243, 0.7846150971697565, 0.7946364282024582, 0.7324796894224263, 0.7439178115373054, 0.5315587913934235, 1.2319486715239136, 1.0484829225040289], \"sizemode\": \"area\", \"sizeref\": 0.004934475797101786, \"symbol\": \"circle\"}, \"mode\": \"markers\", \"name\": \"\", \"orientation\": \"v\", \"showlegend\": false, \"type\": \"scatter\", \"x\": [0.02381003545168039, 0.014912417931634408, 0.03958684928915139, 0.018968586185895076, 0.04324907364655065, 0.03851826039076764, 0.03580404093156251, 0.01783105971420984, 0.04898868432824022, 0.03751306734752232, 0.020721123658124084, 0.01784360346405702, 0.01542064170805946, 0.023243854331326634, 0.020110450900032346, 0.017304777090125477, 0.021886880979793355, 0.028865068716626266, 0.02975911984645168, 0.03562105816276361, 0.02102504176707481, 0.034367237998857235, 0.02468870683520059, 0.022069430881833826, 0.02187706184388633, 0.045394855523967804, 0.025692313693905924, 0.025321615623085877, 0.023522496323328576, 0.03425309752943014, 0.03919128426646292, 0.021417508427281073, 0.020347480278299756, 0.03413908955598739, 0.017121048144637184, 0.0181346754537598, 0.028469292250723612, 0.035145423537690165, 0.039752134618686354, 0.015961809962652247, 0.04072822757606463, 0.023992015615150096, 0.02536605255131522, 0.024134177113825706, 0.03612036066009751, 0.012928622815094399, 0.021862086908259484, 0.02068817756253505, 0.03614279265862586, 0.04012741876338392, 0.03667828882022748, 0.017207337172206492, 0.020390276493387958, 0.011236572264119653, 0.018813682292910954, 0.04235418366540396, 0.028704110487379808, 0.02601448101220392, 0.0246732717395476, 0.020672395198661438, 0.020333153881755956, 0.03182846198610248, 0.040073150870917014, 0.02065931624240033, 0.029621274940383885, 0.034967493871799205, 0.021541581618319074, 0.016428491486806644, 0.038815425083545727, 0.020212733297724644, 0.020272333403548594, 0.029618840364672192, 0.031184568261718643, 0.03323014678606791, 0.04431781668242379, 0.026259944618145424, 0.027252800990409064, 0.041193263856876446, 0.04718297805756832, 0.03099769532091476, 0.021116488494595624, 0.019279331446454093, 0.03225732391494039, 0.038583693563884934, 0.020989445122542194, 0.027464198229513733, 0.026876144354784644, 0.026593316084776174, 0.013857946377506699, 0.025884026111321266, 0.026037201132832886, 0.025781997621499332, 0.023402097844124604, 0.023245005916270437, 0.023996284101154567, 0.025854383780878096, 0.03425848168204951, 0.017841695337604286, 0.013580270021270454, 0.020576146089786067, 0.01903426930441195, 0.029660117735346082, 0.024230476315832344, 0.04434026736301812, 0.026227102774631965, 0.034791185112676155, 0.0534261703270007, 0.029482612303207437, 0.02629070415641297, 0.01659231781029138, 0.035574545594238866, 0.030136345458291962, 0.03807887062095122, 0.01389914437892455, 0.022661791281273217, 0.022083092776591706, 0.01852703462872108, 0.032799478105357084, 0.017479751767189983, 0.020144781732699256, 0.0290650479373547, 0.032842343275890834, 0.017669260518218828, 0.031106270105948325, 0.02981815251569863, 0.028524131848239112, 0.03928608296662961, 0.020437105373395683, 0.023281209197678954, 0.027375944230951875, 0.03471616723235447, 0.024836787322841607, 0.02706726656754653, 0.03481010664950364, 0.019404763866633597, 0.03155129776892594, 0.015179298938285783, 0.014805213154522231, 0.01823924763672453, 0.02601166874230626, 0.038484910720973674, 0.04122732739071613, 0.023597190406480364, 0.027080821076335842, 0.03627560963333519, 0.017038613300652244, 0.03424578228549246, 0.0387107664700059, 0.03524907152327232, 0.050645431038199476, 0.024014898625253377, 0.03697771877852982, 0.04126175418697949, 0.02064998328460131, 0.034989649231985914, 0.029612824687025262, 0.02688413064006017, 0.022992812960727575, 0.028651593311692532, 0.03825053939571464, 0.03299529502430809, 0.05062259687975399, 0.047050301765145804, 0.025024533288243247, 0.0318148526011928, 0.04189641185671837, 0.0338406405396903, 0.018311025287718434, 0.01788511942340873, 0.026954892695732244, 0.035409026161005525, 0.02592740374738463, 0.01752659649169905, 0.02396827576382929, 0.039278502335209096, 0.029030855588142158, 0.01565590079065928, 0.03423121815427152, 0.03476197315520334, 0.014127111221539927, 0.038327057368014075, 0.043688502627330685, 0.03369987321942808, 0.03751760770095169, 0.018051933336634962, 0.03951013516302018, 0.034575437937461054, 0.02555356876626274, 0.024179006493856903, 0.03194420390646867, 0.026798118601187203, 0.028271954227284568, 0.019244633302887598, 0.034455644076749906, 0.028468136754314855, 0.019160751392597212, 0.01571721571556862, 0.016093723519393026, 0.01615368635896324, 0.03873870789058535, 0.01988297751928217, 0.03603773865220704, 0.02790333680344508, 0.02515773760483597, 0.02748005844187172, 0.02389488191217989, 0.05607913713802724, 0.019928817153291166, 0.028300312128123135, 0.017264867370839772, 0.026380893114588213, 0.05078689727303289, 0.02181181901612129, 0.024304771037362623, 0.019999834486823867, 0.021362640499045814, 0.01669978219060695, 0.02222262168845474, 0.02796357527656092, 0.014287851694453171, 0.024594329838592423, 0.02029753232996622, 0.03592872035612849, 0.01780010675670347, 0.013949056801556978, 0.01544909727722271, 0.01370269072441663, 0.03689770446720766, 0.0316880261702231, 0.02326187912130692, 0.03623123556047994, 0.026089987496101145, 0.034008446045920716, 0.024573911059498094, 0.015572279209263558, 0.02322956046498375], \"xaxis\": \"x\", \"y\": [-0.0009377429870897015, -0.0018962779067769927, -0.0025692532582735437, 0.00012467595070570937, -0.0011986711440961448, 8.954073576176114e-05, -0.0024367793461910463, 2.590426632338329e-05, -0.002376170703104797, -0.0025449198302627775, 0.0034908814893126437, 0.0004738828435233274, 0.002234510058192662, 0.00010596045707991017, 0.0006122073768179824, -0.00012053843825294914, 0.0004901882564329412, -0.0009840298994616655, 0.0011532068126553796, 0.005702516734384283, -0.0002497787303978689, 0.0007992755818404765, 0.002059474828876386, 0.0005228146231005591, -0.0010658938577249475, 0.0018016706370175908, -0.0007670725193198629, -0.00024744176407360164, -0.00021762669138399187, -0.0037668750082906306, -0.0015593108170927756, -0.001332655085677474, -0.0003357797698747537, 0.000739528297531081, -6.140442812767708e-05, -0.0007898915272554131, -0.0015484217105074171, -0.0025776470110181362, -0.005330487362874576, 0.00044217972049915915, -0.003004070037324364, -6.0761837232948974e-05, 0.0009697686454303791, -0.0018940086697156343, -0.0011939009856654099, 0.00015258418170323285, 0.001389574661422696, -0.00041177993045199695, -0.0027487202171380108, -0.001733856024584198, -0.00417232502439619, -8.095306285829434e-05, 0.0008450450170000686, -0.0011937839840744787, -0.0005218601792184667, -0.0013314943502001034, -0.00020599112615118158, 0.0017747506870935913, -0.00032433328097837625, -0.001810484223222053, -0.0005898385238079243, -0.005017326726306118, -0.003397962363917928, -0.002192848780465323, 0.0003812047850162899, -0.00025310113332501914, 0.0019289080797802404, -0.00011006059350703148, -0.0021866523817679253, 0.000532183644582345, -0.0014662810325945656, -0.0007047049991255205, -0.0017818942388621829, -0.0018045137639820137, -0.0020092018481267866, 0.0019195983730066926, -0.001347639408946542, -0.0028910543981629493, -0.002576174898731918, -0.003694312015761982, -0.0016577667288581754, -0.0011392972806830914, -0.001379944267377085, -0.0037181042445429513, -0.000612779169346408, -0.0008136835352297252, -0.0009395892554575661, -0.0016678804065402566, 0.001079708674054253, 0.0009384363702411617, -0.0008072429958344654, -0.0006152094094108931, -2.0345611281877512e-05, 0.00017101943174185623, 0.00021281807759329868, 0.0024374416856891095, -0.0040374410940098885, 0.0001461901964508379, 0.0006660373808636003, -0.0013297256826041582, 0.001047621047288698, -0.0033155434697525457, -0.0019385049589281094, -0.0007342967370737161, -0.002135879944538664, -0.00425697667438123, -0.0012261888997562454, 0.001676858231075023, 0.0005586073737403916, 0.0007545085660078033, -0.0018604743301464028, -0.0014444971639120032, -0.0043127694629858495, 0.0006367972933020507, -0.0018786671599022732, -0.0014770307481612828, 0.0014951991029964855, -0.0013022931462666352, 0.0005898627270032447, 0.0019105864096245911, -0.0022804506928223115, -0.0005625628458690219, 0.00026357820730705785, -0.001986123101361359, -0.0026706651938524606, 0.002348625400606703, -0.002091187891785957, -0.001014010417744273, -0.0022040929818205857, -0.00037316820770904056, -0.005109806563560919, -0.0007812642210722098, -0.0016907470429600368, 0.00017930780261036532, -0.0018453608089980397, -0.0025554686321758386, 0.0018105949856668537, -0.0006869523046038597, -0.0014538959236570508, 0.00026074580926724734, -0.004842307251184889, -0.0015646561325482655, 0.0005516510637915212, 0.00035047467964064295, -0.002118691034153714, 0.0017975181633936217, 0.0008763729481872696, 0.0014603943019365683, -0.0022686937665029367, -0.003682036572006166, -0.0018898604721873686, -0.0007388703086219419, -0.0026501113316600507, -0.00022928103939713685, -0.003011452256052399, 0.0007049028414175085, -0.004043508395880678, 0.0014561346024344044, -0.0021710978684222346, 7.218035786554802e-05, -0.0025438200874775534, -0.003100295053402487, -0.0048775456288085665, 0.00011235618223789615, -0.00032155366874718234, -0.0037745310499113227, -0.0023972688357365287, -0.0018305464587013076, 0.0012122214024809408, -0.001796397115440571, -0.0015473944507947755, -0.0017068976635672198, -0.0009902175008178872, 0.0011953155945352363, -0.003216649137075457, -4.662576632011442e-05, -0.00010061153925979256, -0.0030919601683875, -0.0029762911946190555, -0.0007428582316020428, -0.0018690269789003765, -0.004598002065498847, -0.0018953102809680755, -0.005317894448816419, -0.0013096775778489043, -0.002565196123013325, 0.0018170252793052496, -0.0009851938049245704, 0.0012916054160422169, 0.003233711486618544, -0.0012565388829941623, -0.0009862278310053118, -0.0004844225228484156, 0.0013529631514039124, -0.001753395095165665, -0.0006399075223264587, -0.0012003467669176602, -8.108613910692704e-05, -0.0011009903954707484, -0.001186336861660993, -0.0016123430475193034, -0.004631805927881295, -0.0029979838050507874, -0.002620631987406953, 0.00019981836887429365, -0.0003857407729861392, -0.00269970899389675, 0.0005348746212354887, -0.0009197261637337533, 0.00038155882785406166, 0.0019032594685241444, -0.006167885382303467, 0.0008258192100897907, 0.0001368528035176665, 0.00035443084495316964, -0.003504630106911867, -0.00013116842189674367, -0.0010287993060013464, -0.0016345383228600033, -0.00036740986379321704, -0.0019497112638500107, -0.0003170455182298146, -0.005369867207858746, -0.0005465325659009394, 0.00031881343335242836, 0.0013220255404943987, 0.00040917557803454667, -0.0014046797116180657, -0.0015609953471427403, -0.000741362900288964, -0.0010935312326740896, -0.0010606500731821325, -0.0013170298670424966, -0.001830820581209636, 0.0006772673913921159, 0.00029230779292948147], \"yaxis\": \"y\"}],                        {\"coloraxis\": {\"colorbar\": {\"title\": {\"text\": \"color\"}}, \"colorscale\": [[0.0, \"rgb(165,0,38)\"], [0.1, \"rgb(215,48,39)\"], [0.2, \"rgb(244,109,67)\"], [0.3, \"rgb(253,174,97)\"], [0.4, \"rgb(254,224,139)\"], [0.5, \"rgb(255,255,191)\"], [0.6, \"rgb(217,239,139)\"], [0.7, \"rgb(166,217,106)\"], [0.8, \"rgb(102,189,99)\"], [0.9, \"rgb(26,152,80)\"], [1.0, \"rgb(0,104,55)\"]]}, \"legend\": {\"itemsizing\": \"constant\", \"tracegroupgap\": 0}, \"margin\": {\"t\": 60}, \"template\": {\"data\": {\"bar\": [{\"error_x\": {\"color\": \"#2a3f5f\"}, \"error_y\": {\"color\": \"#2a3f5f\"}, \"marker\": {\"line\": {\"color\": \"#E5ECF6\", \"width\": 0.5}}, \"type\": \"bar\"}], \"barpolar\": [{\"marker\": {\"line\": {\"color\": \"#E5ECF6\", \"width\": 0.5}}, \"type\": \"barpolar\"}], \"carpet\": [{\"aaxis\": {\"endlinecolor\": \"#2a3f5f\", \"gridcolor\": \"white\", \"linecolor\": \"white\", \"minorgridcolor\": \"white\", \"startlinecolor\": \"#2a3f5f\"}, \"baxis\": {\"endlinecolor\": \"#2a3f5f\", \"gridcolor\": \"white\", \"linecolor\": \"white\", \"minorgridcolor\": \"white\", \"startlinecolor\": \"#2a3f5f\"}, \"type\": \"carpet\"}], \"choropleth\": [{\"colorbar\": {\"outlinewidth\": 0, \"ticks\": \"\"}, \"type\": \"choropleth\"}], \"contour\": [{\"colorbar\": {\"outlinewidth\": 0, \"ticks\": \"\"}, \"colorscale\": [[0.0, \"#0d0887\"], [0.1111111111111111, \"#46039f\"], [0.2222222222222222, \"#7201a8\"], [0.3333333333333333, \"#9c179e\"], [0.4444444444444444, \"#bd3786\"], [0.5555555555555556, \"#d8576b\"], [0.6666666666666666, \"#ed7953\"], [0.7777777777777778, \"#fb9f3a\"], [0.8888888888888888, \"#fdca26\"], [1.0, \"#f0f921\"]], \"type\": \"contour\"}], \"contourcarpet\": [{\"colorbar\": {\"outlinewidth\": 0, \"ticks\": \"\"}, \"type\": \"contourcarpet\"}], \"heatmap\": [{\"colorbar\": {\"outlinewidth\": 0, \"ticks\": \"\"}, \"colorscale\": [[0.0, \"#0d0887\"], [0.1111111111111111, \"#46039f\"], [0.2222222222222222, \"#7201a8\"], [0.3333333333333333, \"#9c179e\"], [0.4444444444444444, \"#bd3786\"], [0.5555555555555556, \"#d8576b\"], [0.6666666666666666, \"#ed7953\"], [0.7777777777777778, \"#fb9f3a\"], [0.8888888888888888, \"#fdca26\"], [1.0, \"#f0f921\"]], \"type\": \"heatmap\"}], \"heatmapgl\": [{\"colorbar\": {\"outlinewidth\": 0, \"ticks\": \"\"}, \"colorscale\": [[0.0, \"#0d0887\"], [0.1111111111111111, \"#46039f\"], [0.2222222222222222, \"#7201a8\"], [0.3333333333333333, \"#9c179e\"], [0.4444444444444444, \"#bd3786\"], [0.5555555555555556, \"#d8576b\"], [0.6666666666666666, \"#ed7953\"], [0.7777777777777778, \"#fb9f3a\"], [0.8888888888888888, \"#fdca26\"], [1.0, \"#f0f921\"]], \"type\": \"heatmapgl\"}], \"histogram\": [{\"marker\": {\"colorbar\": {\"outlinewidth\": 0, \"ticks\": \"\"}}, \"type\": \"histogram\"}], \"histogram2d\": [{\"colorbar\": {\"outlinewidth\": 0, \"ticks\": \"\"}, \"colorscale\": [[0.0, \"#0d0887\"], [0.1111111111111111, \"#46039f\"], [0.2222222222222222, \"#7201a8\"], [0.3333333333333333, \"#9c179e\"], [0.4444444444444444, \"#bd3786\"], [0.5555555555555556, \"#d8576b\"], [0.6666666666666666, \"#ed7953\"], [0.7777777777777778, \"#fb9f3a\"], [0.8888888888888888, \"#fdca26\"], [1.0, \"#f0f921\"]], \"type\": \"histogram2d\"}], \"histogram2dcontour\": [{\"colorbar\": {\"outlinewidth\": 0, \"ticks\": \"\"}, \"colorscale\": [[0.0, \"#0d0887\"], [0.1111111111111111, \"#46039f\"], [0.2222222222222222, \"#7201a8\"], [0.3333333333333333, \"#9c179e\"], [0.4444444444444444, \"#bd3786\"], [0.5555555555555556, \"#d8576b\"], [0.6666666666666666, \"#ed7953\"], [0.7777777777777778, \"#fb9f3a\"], [0.8888888888888888, \"#fdca26\"], [1.0, \"#f0f921\"]], \"type\": \"histogram2dcontour\"}], \"mesh3d\": [{\"colorbar\": {\"outlinewidth\": 0, \"ticks\": \"\"}, \"type\": \"mesh3d\"}], \"parcoords\": [{\"line\": {\"colorbar\": {\"outlinewidth\": 0, \"ticks\": \"\"}}, \"type\": \"parcoords\"}], \"pie\": [{\"automargin\": true, \"type\": \"pie\"}], \"scatter\": [{\"marker\": {\"colorbar\": {\"outlinewidth\": 0, \"ticks\": \"\"}}, \"type\": \"scatter\"}], \"scatter3d\": [{\"line\": {\"colorbar\": {\"outlinewidth\": 0, \"ticks\": \"\"}}, \"marker\": {\"colorbar\": {\"outlinewidth\": 0, \"ticks\": \"\"}}, \"type\": \"scatter3d\"}], \"scattercarpet\": [{\"marker\": {\"colorbar\": {\"outlinewidth\": 0, \"ticks\": \"\"}}, \"type\": \"scattercarpet\"}], \"scattergeo\": [{\"marker\": {\"colorbar\": {\"outlinewidth\": 0, \"ticks\": \"\"}}, \"type\": \"scattergeo\"}], \"scattergl\": [{\"marker\": {\"colorbar\": {\"outlinewidth\": 0, \"ticks\": \"\"}}, \"type\": \"scattergl\"}], \"scattermapbox\": [{\"marker\": {\"colorbar\": {\"outlinewidth\": 0, \"ticks\": \"\"}}, \"type\": \"scattermapbox\"}], \"scatterpolar\": [{\"marker\": {\"colorbar\": {\"outlinewidth\": 0, \"ticks\": \"\"}}, \"type\": \"scatterpolar\"}], \"scatterpolargl\": [{\"marker\": {\"colorbar\": {\"outlinewidth\": 0, \"ticks\": \"\"}}, \"type\": \"scatterpolargl\"}], \"scatterternary\": [{\"marker\": {\"colorbar\": {\"outlinewidth\": 0, \"ticks\": \"\"}}, \"type\": \"scatterternary\"}], \"surface\": [{\"colorbar\": {\"outlinewidth\": 0, \"ticks\": \"\"}, \"colorscale\": [[0.0, \"#0d0887\"], [0.1111111111111111, \"#46039f\"], [0.2222222222222222, \"#7201a8\"], [0.3333333333333333, \"#9c179e\"], [0.4444444444444444, \"#bd3786\"], [0.5555555555555556, \"#d8576b\"], [0.6666666666666666, \"#ed7953\"], [0.7777777777777778, \"#fb9f3a\"], [0.8888888888888888, \"#fdca26\"], [1.0, \"#f0f921\"]], \"type\": \"surface\"}], \"table\": [{\"cells\": {\"fill\": {\"color\": \"#EBF0F8\"}, \"line\": {\"color\": \"white\"}}, \"header\": {\"fill\": {\"color\": \"#C8D4E3\"}, \"line\": {\"color\": \"white\"}}, \"type\": \"table\"}]}, \"layout\": {\"annotationdefaults\": {\"arrowcolor\": \"#2a3f5f\", \"arrowhead\": 0, \"arrowwidth\": 1}, \"autotypenumbers\": \"strict\", \"coloraxis\": {\"colorbar\": {\"outlinewidth\": 0, \"ticks\": \"\"}}, \"colorscale\": {\"diverging\": [[0, \"#8e0152\"], [0.1, \"#c51b7d\"], [0.2, \"#de77ae\"], [0.3, \"#f1b6da\"], [0.4, \"#fde0ef\"], [0.5, \"#f7f7f7\"], [0.6, \"#e6f5d0\"], [0.7, \"#b8e186\"], [0.8, \"#7fbc41\"], [0.9, \"#4d9221\"], [1, \"#276419\"]], \"sequential\": [[0.0, \"#0d0887\"], [0.1111111111111111, \"#46039f\"], [0.2222222222222222, \"#7201a8\"], [0.3333333333333333, \"#9c179e\"], [0.4444444444444444, \"#bd3786\"], [0.5555555555555556, \"#d8576b\"], [0.6666666666666666, \"#ed7953\"], [0.7777777777777778, \"#fb9f3a\"], [0.8888888888888888, \"#fdca26\"], [1.0, \"#f0f921\"]], \"sequentialminus\": [[0.0, \"#0d0887\"], [0.1111111111111111, \"#46039f\"], [0.2222222222222222, \"#7201a8\"], [0.3333333333333333, \"#9c179e\"], [0.4444444444444444, \"#bd3786\"], [0.5555555555555556, \"#d8576b\"], [0.6666666666666666, \"#ed7953\"], [0.7777777777777778, \"#fb9f3a\"], [0.8888888888888888, \"#fdca26\"], [1.0, \"#f0f921\"]]}, \"colorway\": [\"#636efa\", \"#EF553B\", \"#00cc96\", \"#ab63fa\", \"#FFA15A\", \"#19d3f3\", \"#FF6692\", \"#B6E880\", \"#FF97FF\", \"#FECB52\"], \"font\": {\"color\": \"#2a3f5f\"}, \"geo\": {\"bgcolor\": \"white\", \"lakecolor\": \"white\", \"landcolor\": \"#E5ECF6\", \"showlakes\": true, \"showland\": true, \"subunitcolor\": \"white\"}, \"hoverlabel\": {\"align\": \"left\"}, \"hovermode\": \"closest\", \"mapbox\": {\"style\": \"light\"}, \"paper_bgcolor\": \"white\", \"plot_bgcolor\": \"#E5ECF6\", \"polar\": {\"angularaxis\": {\"gridcolor\": \"white\", \"linecolor\": \"white\", \"ticks\": \"\"}, \"bgcolor\": \"#E5ECF6\", \"radialaxis\": {\"gridcolor\": \"white\", \"linecolor\": \"white\", \"ticks\": \"\"}}, \"scene\": {\"xaxis\": {\"backgroundcolor\": \"#E5ECF6\", \"gridcolor\": \"white\", \"gridwidth\": 2, \"linecolor\": \"white\", \"showbackground\": true, \"ticks\": \"\", \"zerolinecolor\": \"white\"}, \"yaxis\": {\"backgroundcolor\": \"#E5ECF6\", \"gridcolor\": \"white\", \"gridwidth\": 2, \"linecolor\": \"white\", \"showbackground\": true, \"ticks\": \"\", \"zerolinecolor\": \"white\"}, \"zaxis\": {\"backgroundcolor\": \"#E5ECF6\", \"gridcolor\": \"white\", \"gridwidth\": 2, \"linecolor\": \"white\", \"showbackground\": true, \"ticks\": \"\", \"zerolinecolor\": \"white\"}}, \"shapedefaults\": {\"line\": {\"color\": \"#2a3f5f\"}}, \"ternary\": {\"aaxis\": {\"gridcolor\": \"white\", \"linecolor\": \"white\", \"ticks\": \"\"}, \"baxis\": {\"gridcolor\": \"white\", \"linecolor\": \"white\", \"ticks\": \"\"}, \"bgcolor\": \"#E5ECF6\", \"caxis\": {\"gridcolor\": \"white\", \"linecolor\": \"white\", \"ticks\": \"\"}}, \"title\": {\"x\": 0.05}, \"xaxis\": {\"automargin\": true, \"gridcolor\": \"white\", \"linecolor\": \"white\", \"ticks\": \"\", \"title\": {\"standoff\": 15}, \"zerolinecolor\": \"white\", \"zerolinewidth\": 2}, \"yaxis\": {\"automargin\": true, \"gridcolor\": \"white\", \"linecolor\": \"white\", \"ticks\": \"\", \"title\": {\"standoff\": 15}, \"zerolinecolor\": \"white\", \"zerolinewidth\": 2}}}, \"xaxis\": {\"anchor\": \"y\", \"domain\": [0.0, 1.0], \"title\": {\"text\": \"logret_std\"}}, \"yaxis\": {\"anchor\": \"x\", \"domain\": [0.0, 1.0], \"title\": {\"text\": \"logret_mean\"}}},                        {\"responsive\": true}                    ).then(function(){\n",
       "                            \n",
       "var gd = document.getElementById('5e993331-98c0-41a1-ad24-f3a1b506c5cc');\n",
       "var x = new MutationObserver(function (mutations, observer) {{\n",
       "        var display = window.getComputedStyle(gd).display;\n",
       "        if (!display || display === 'none') {{\n",
       "            console.log([gd, 'removed!']);\n",
       "            Plotly.purge(gd);\n",
       "            observer.disconnect();\n",
       "        }}\n",
       "}});\n",
       "\n",
       "// Listen for the removal of the full notebook cells\n",
       "var notebookContainer = gd.closest('#notebook-container');\n",
       "if (notebookContainer) {{\n",
       "    x.observe(notebookContainer, {childList: true});\n",
       "}}\n",
       "\n",
       "// Listen for the clearing of the current output cell\n",
       "var outputEl = gd.closest('.output');\n",
       "if (outputEl) {{\n",
       "    x.observe(outputEl, {childList: true});\n",
       "}}\n",
       "\n",
       "                        })                };                });            </script>        </div>"
      ]
     },
     "metadata": {},
     "output_type": "display_data"
    }
   ],
   "source": [
    "import plotly.express as px\n",
    "from sklearn.preprocessing import normalize\n",
    "\n",
    "ticker_colour = estims['logret_mean'] / estims['logret_std']\n",
    "ticker_size = (ticker_colour - ticker_colour.min()) / ticker_colour.max()\n",
    "fig = px.scatter(estims, x='logret_std', y='logret_mean',\n",
    "                 hover_name=estims.index, \n",
    "                 color_continuous_scale=px.colors.diverging.RdYlGn,\n",
    "                 color=ticker_colour,\n",
    "                 size=ticker_size)\n",
    "fig.show()"
   ]
  },
  {
   "cell_type": "markdown",
   "metadata": {},
   "source": [
    "## 3 - uniform portfolio"
   ]
  },
  {
   "cell_type": "code",
   "execution_count": 596,
   "metadata": {},
   "outputs": [
    {
     "data": {
      "application/vnd.plotly.v1+json": {
       "config": {
        "plotlyServerURL": "https://plot.ly"
       },
       "data": [
        {
         "hovertemplate": "<b>%{hovertext}</b><br><br>logret_std=%{x}<br>logret_mean=%{y}<br>size=%{marker.size}<br>color=%{marker.color}<extra></extra>",
         "hovertext": [
          "20MICRONS",
          "21STCENMGM",
          "3IINFOTECH",
          "3MINDIA",
          "5PAISA",
          "63MOONS",
          "A2ZINFRA",
          "AARTIDRUGS",
          "AARTIIND",
          "AARVEEDEN",
          "AAVAS",
          "ABB",
          "ABBOTINDIA",
          "ABCAPITAL",
          "ABFRL",
          "ACC",
          "ACCELYA",
          "ACE",
          "ADANIENT",
          "ADANIGREEN",
          "ADANIPORTS",
          "ADANIPOWER",
          "ADANITRANS",
          "ADFFOODS",
          "ADORWELD",
          "ADSL",
          "ADVANIHOTR",
          "ADVENZYMES",
          "AEGISCHEM",
          "AGARIND",
          "AGRITECH",
          "AHLEAST",
          "AHLUCONT",
          "AHLWEST",
          "AIAENG",
          "AJANTPHARM",
          "AJMERA",
          "AKSHARCHEM",
          "AKSHOPTFBR",
          "AKZOINDIA",
          "ALANKIT",
          "ALBERTDAVD",
          "ALEMBICLTD",
          "ALICON",
          "ALKALI",
          "ALKEM",
          "ALKYLAMINE",
          "ALLCARGO",
          "ALMONDZ",
          "ALPA",
          "ALPHAGEO",
          "AMARAJABAT",
          "AMBER",
          "AMBIKCO",
          "AMBUJACEM",
          "AMDIND",
          "AMJLAND",
          "AMRUTANJAN",
          "ANANTRAJ",
          "ANDHRAPAP",
          "ANDHRSUGAR",
          "ANIKINDS",
          "ANSALAPI",
          "APARINDS",
          "APCL",
          "APEX",
          "APLAPOLLO",
          "APLLTD",
          "APOLLO",
          "APOLLOHOSP",
          "APOLLOTYRE",
          "APTECHT",
          "ARCHIDPLY",
          "ARIES",
          "ARIHANT",
          "ARMANFIN",
          "AROGRANITE",
          "ARSHIYA",
          "ARSSINFRA",
          "ARVIND",
          "ARVSMART",
          "ASAHIINDIA",
          "ASAHISONG",
          "ASAL",
          "ASHIANA",
          "ASHOKA",
          "ASHOKLEY",
          "ASIANHOTNR",
          "ASIANPAINT",
          "ASIANTILES",
          "ASPINWALL",
          "ASTEC",
          "ASTERDM",
          "ASTRAL",
          "ASTRAMICRO",
          "ASTRAZEN",
          "ASTRON",
          "ATFL",
          "ATUL",
          "ATULAUTO",
          "AUBANK",
          "AURIONPRO",
          "AUROPHARMA",
          "AUSOMENT",
          "AUTOAXLES",
          "AUTOIND",
          "AVADHSUGAR",
          "AVANTIFEED",
          "AVTNPL",
          "AXISBANK",
          "AXISCADES",
          "AYMSYNTEX",
          "BAGFILMS",
          "BAJAJ-AUTO",
          "BAJAJCON",
          "BAJAJELEC",
          "BAJAJFINSV",
          "BAJAJHIND",
          "BAJAJHLDNG",
          "BAJFINANCE",
          "BALAJITELE",
          "BALAMINES",
          "BALKRISIND",
          "BALMLAWRIE",
          "BALPHARMA",
          "BALRAMCHIN",
          "BANARBEADS",
          "BANARISUG",
          "BANCOINDIA",
          "BANDHANBNK",
          "BANG",
          "BANKBARODA",
          "BANKINDIA",
          "BANSWRAS",
          "BASF",
          "BASML",
          "BATAINDIA",
          "BAYERCROP",
          "BBL",
          "BDL",
          "BEARDSELL",
          "BEDMUTHA",
          "BEL",
          "BEML",
          "BEPL",
          "BERGEPAINT",
          "BFINVEST",
          "BFUTILITIE",
          "BGRENERGY",
          "BHAGERIA",
          "BHAGYANGR",
          "BHAGYAPROP",
          "BHANDARI",
          "BHARATFORG",
          "BHARATGEAR",
          "BHARATRAS",
          "BHARATWIRE",
          "BHARTIARTL",
          "BHEL",
          "BIGBLOC",
          "BINDALAGRO",
          "BIOCON",
          "BIRLACABLE",
          "BIRLACORPN",
          "BLISSGVS",
          "BLKASHYAP",
          "BLS",
          "BLUEDART",
          "BLUESTARCO",
          "BODALCHEM",
          "BOMDYEING",
          "BORORENEW",
          "BOSCHLTD",
          "BPCL",
          "BPL",
          "BRIGADE",
          "BRITANNIA",
          "BRNL",
          "BROOKS",
          "BSE",
          "BSL",
          "BSOFT",
          "BUTTERFLY",
          "BYKE",
          "CADILAHC",
          "CALSOFT",
          "CAMLINFINE",
          "CANBK",
          "CANFINHOME",
          "CANTABIL",
          "CAPACITE",
          "CAPLIPOINT",
          "CARBORUNIV",
          "CAREERP",
          "CARERATING",
          "CASTROLIND",
          "CCL",
          "CDSL",
          "CEATLTD",
          "CELEBRITY",
          "CENTENKA",
          "CENTEXT",
          "CENTRALBK",
          "CENTRUM",
          "CENTUM",
          "CENTURYPLY",
          "CENTURYTEX",
          "CERA",
          "CEREBRAINT",
          "CESC",
          "CGCL",
          "CGPOWER",
          "CHALET",
          "CHAMBLFERT",
          "CHEMFAB",
          "CHENNPETRO",
          "CHOLAHLDNG",
          "CIGNITITEC",
          "CINELINE",
          "CIPLA",
          "CLEDUCATE",
          "CLNINDIA",
          "CMICABLES",
          "COALINDIA",
          "COCHINSHIP",
          "COFORGE",
          "COLPAL",
          "COMPINFO",
          "COMPUSOFT",
          "CONCOR",
          "CONSOFINVT",
          "CONTROLPR",
          "CORALFINAC",
          "CORDSCABLE",
          "COROMANDEL",
          "COSMOFILMS"
         ],
         "legendgroup": "",
         "marker": {
          "color": [
           -0.03938435912843298,
           -0.1271609953174884,
           -0.06490168589844397,
           0.006572759270715581,
           -0.027715533375169653,
           0.002324630833619448,
           -0.06805878003683491,
           0.0014527608980379214,
           -0.04850448089570391,
           -0.06784088879447138,
           0.16846970014311852,
           0.026557575350622746,
           0.14490383088434092,
           0.0045586439998078635,
           0.03044225014452549,
           -0.006965616351205776,
           0.022396441817612026,
           -0.034090682725271486,
           0.03875137499380318,
           0.1600883586424559,
           -0.011880058701667936,
           0.023256904784348796,
           0.08341768739138795,
           0.02368953807190866,
           -0.048721984027430894,
           0.03968887258747493,
           -0.029856109047189792,
           -0.009771957988652486,
           -0.00925185356148443,
           -0.10997180634697766,
           -0.039787183458724305,
           -0.06222269458663886,
           -0.01650227769149663,
           0.021662214990188007,
           -0.0035864876734728857,
           -0.043556970692389625,
           -0.054389188774724824,
           -0.07334232316915607,
           -0.13409311006832988,
           0.027702354653625114,
           -0.07375891896385421,
           -0.00253258576551526,
           0.03823096413872631,
           -0.07847827836775992,
           -0.033053407104661696,
           0.011802044493485268,
           0.06356093392427763,
           -0.01990411814705727,
           -0.0760516831972584,
           -0.0432087604440267,
           -0.11375462592723848,
           -0.004704566549032976,
           0.041443529089666586,
           -0.10624093860780306,
           -0.02773833272474815,
           -0.03143713878937782,
           -0.0071763633379877305,
           0.06822164494694397,
           -0.013145126613205415,
           -0.08757979933255552,
           -0.029008708006541005,
           -0.15763648047137413,
           -0.08479399024207977,
           -0.10614333769502063,
           0.012869290257880762,
           -0.0072381833897779465,
           0.0895434752172462,
           -0.006699373073627527,
           -0.056334624110425384,
           0.02632912811659436,
           -0.07232916918867853,
           -0.023792457451037006,
           -0.05714025680610719,
           -0.054303514685002094,
           -0.04533621009637024,
           0.0730998637247797,
           -0.04944957435460706,
           -0.07018269803062333,
           -0.05459966718482048,
           -0.11918021573911518,
           -0.0785057955674046,
           -0.05909423176043971,
           -0.04277925444205699,
           -0.09636465307259146,
           -0.0291946340538701,
           -0.029627063147079965,
           -0.03495997205009412,
           -0.06271803039618158,
           0.07791260296740393,
           0.03625542511065172,
           -0.031003447402667743,
           -0.023861976036250836,
           -0.0008693926252848967,
           0.0073572548167066916,
           0.008868793047130953,
           0.09427576020944817,
           -0.11785230680918926,
           0.008193739086146045,
           0.0490444873202375,
           -0.06462462293967819,
           0.0550386794751228,
           -0.11178456873761493,
           -0.08000275907335253,
           -0.01656049412291443,
           -0.08143789128719865,
           -0.12235790935532695,
           -0.022951091052404143,
           0.05687617548369675,
           0.021247334054540077,
           0.04547336753276384,
           -0.05229790849240526,
           -0.047932061500660574,
           -0.11325885964204353,
           0.04581557511321593,
           -0.08290020575093406,
           -0.0668851398263811,
           0.08070363838358621,
           -0.03970469109549441,
           0.03374548648399199,
           0.09484274562892403,
           -0.07846024192829397,
           -0.01712919328390287,
           0.014917330979147745,
           -0.06384960635256494,
           -0.08956507927331887,
           0.08233819045229562,
           -0.05322973770539186,
           -0.04961614667135184,
           -0.09467261614746048,
           -0.013631245174993013,
           -0.14718809623657783,
           -0.03145592909891795,
           -0.0624646392993089,
           0.005151027097267514,
           -0.0950983388244744,
           -0.08099408939979177,
           0.11928054075673447,
           -0.04639935254117102,
           -0.07971249432074418,
           0.010024186139321448,
           -0.1258235282470308,
           -0.037951917613282066,
           0.02337782821975384,
           0.01294180404104881,
           -0.058405387409582205,
           0.10549674035532058,
           0.025590682697253713,
           0.03772579142983695,
           -0.06436180212591099,
           -0.07270224572141519,
           -0.07869533416227065,
           -0.019981500563819216,
           -0.06422682175970881,
           -0.011103207021388325,
           -0.08606694614416051,
           0.02380397172061599,
           -0.15040502704057787,
           0.06332998945894644,
           -0.07577581619295927,
           0.0018870415687166668,
           -0.07709644922415411,
           -0.0612433032775215,
           -0.10366661733978044,
           0.0044898412667173345,
           -0.010107029970496442,
           -0.09009198837408439,
           -0.07083993675961513,
           -0.09996963195332875,
           0.06777821124830394,
           -0.06664456563483162,
           -0.04370056504120568,
           -0.0658337286755678,
           -0.056497991568806534,
           0.049870737733212184,
           -0.08189337540479656,
           -0.001606076203250414,
           -0.006426429280889416,
           -0.0903257416797968,
           -0.08561916728174994,
           -0.052583873656306325,
           -0.0487652094173078,
           -0.10524512832862405,
           -0.05624087273644173,
           -0.1417439643594739,
           -0.0725505436689719,
           -0.0649250151240748,
           0.05255248776868211,
           -0.038554059275872216,
           0.053418465161931765,
           0.10122999139645865,
           -0.046889070896883614,
           -0.03488361020525166,
           -0.025171824020971574,
           0.03926680773664218,
           -0.06159149474016443,
           -0.03339678644198098,
           -0.0763714635365513,
           -0.005038370331714584,
           -0.06815722250666571,
           -0.030624068954796187,
           -0.0810916295587862,
           -0.1285265419282248,
           -0.10744176677395235,
           -0.10416803086868986,
           0.007271395339168122,
           -0.01614323830533418,
           -0.048141058006152496,
           0.02683925579332019,
           -0.03249879929132602,
           0.022100304604627984,
           0.07214537658968309,
           -0.12144639096861161,
           0.03786108849882814,
           0.005630697088538249,
           0.01772168890630935,
           -0.16405416301736694,
           -0.007854498962897933,
           -0.04629513656959007,
           -0.05845240841681908,
           -0.02571484304640794,
           -0.07927482784225343,
           -0.015619904581294598,
           -0.14945890514975685,
           -0.030703892587336124,
           0.02285555488718368,
           0.0855729960638878,
           0.029860965722990632,
           -0.03806956914803348,
           -0.049261362596626196,
           -0.03187029286941424,
           -0.030182002235300088,
           -0.04065352937944622,
           -0.038726552376552155,
           -0.0745026128228784,
           0.04349186026597999,
           0.012583440542067352
          ],
          "coloraxis": "coloraxis",
          "size": [
           0.7400132117705699,
           0.21898992915958795,
           0.5885478340300415,
           1.0128048078861147,
           0.809276858250325,
           0.9875888287902462,
           0.5698080004830659,
           0.9824135958858079,
           0.6858781254047533,
           0.5711013561557977,
           1.9737903188407144,
           1.1314303890020643,
           1.8339083742610192,
           1.0008494517051716,
           1.15448898523986,
           0.9324439144410608,
           1.106730792994736,
           0.7714353393024904,
           1.2038101678751882,
           1.9240404736546513,
           0.9032728388928332,
           1.1118383165791301,
           1.4689398164686138,
           1.1144063349657738,
           0.6845870734735028,
           1.2093749524796322,
           0.7965708602566106,
           0.9157860724964104,
           0.918873300803496,
           0.3210212674709173,
           0.7376221329596672,
           0.6044497517608218,
           0.8758363385256929,
           1.1023725800531787,
           0.9525016973828138,
           0.7152454846338092,
           0.6509477618199561,
           0.5384460218730684,
           0.17784238307294736,
           1.1382255533671093,
           0.5359731986036957,
           0.9587574330258541,
           1.2007211206777708,
           0.5079600935771152,
           0.7775923848704982,
           1.0438447231843988,
           1.3510743875502882,
           0.8556437433428753,
           0.5223638419570321,
           0.7173123859701748,
           0.2985672619313619,
           0.9458650210273014,
           1.2197902170684638,
           0.34316689802647204,
           0.809141526202134,
           0.7871862068688209,
           0.9311929655368785,
           1.3787393683670581,
           0.8957636671517856,
           0.4539354175845559,
           0.8016008510497853,
           0.038093986874440086,
           0.47047138273502004,
           0.34374623610744165,
           1.0501796650967357,
           0.9308260149710634,
           1.505301178901468,
           0.9340242774223688,
           0.6394000750012113,
           1.1300743752272766,
           0.5444598865598154,
           0.8325633953593715,
           0.6346180121436328,
           0.6514563048377803,
           0.7046843012134725,
           1.407695428558841,
           0.6802682533737574,
           0.5572008788939368,
           0.6496984071293685,
           0.26636212470331705,
           0.5077967573830026,
           0.6230196359806042,
           0.7198618414604192,
           0.4017904103068495,
           0.8004972339176176,
           0.7979304275848319,
           0.7662754243499253,
           0.6015095446546068,
           1.4362628162762507,
           1.1889947447989253,
           0.7897605059050372,
           0.8321507479506399,
           0.9686297907187653,
           1.017461405157462,
           1.0264335718387119,
           1.5333910074473838,
           0.27424430724888954,
           1.0224265963385986,
           1.264907874570755,
           0.5901924203178452,
           1.3004881133305624,
           0.3102610987931237,
           0.49891110313968035,
           0.8754907782773612,
           0.49039246618225146,
           0.2475000170749883,
           0.8375575658120885,
           1.3113950954585827,
           1.0999099358192574,
           1.2437104735874331,
           0.6633611529552342,
           0.6892758841385617,
           0.30151002424870316,
           1.2457417443747698,
           0.4817124812206047,
           0.576774477003513,
           1.4528298037749596,
           0.7381117899315727,
           1.1740962875420566,
           1.5367565112679176,
           0.5080671540126157,
           0.8721151020548399,
           1.0623363954733385,
           0.5947927525227157,
           0.4421512217376065,
           1.4625321542113932,
           0.6578300146425585,
           0.6792795158345841,
           0.4118339785193741,
           0.8928781716509647,
           0.10011335430917867,
           0.7870746716222801,
           0.603013619848291,
           1.0043657106939177,
           0.4093069800344699,
           0.4930267789817036,
           1.6818140207610193,
           0.6983737157260071,
           0.5006340524436903,
           1.0332917373795123,
           0.22692884677694816,
           0.7485158773177515,
           1.1125560921512498,
           1.050610091357995,
           0.6271084682766925,
           1.5999963384733182,
           1.1256911216290728,
           1.1977225238472415,
           0.5917524682881564,
           0.5422453842937122,
           0.5066716969436177,
           0.85518441791702,
           0.5925536827860008,
           0.9078840638170758,
           0.462915389574236,
           1.115085588556242,
           0.08101834315128387,
           1.3497035507461925,
           0.5240013293156774,
           0.9849913927852492,
           0.5161623349441499,
           0.6102632084731289,
           0.3584475168311336,
           1.0004410534410795,
           0.913797157091686,
           0.43902360234778215,
           0.5532996507892184,
           0.3803920290093533,
           1.3761072410571424,
           0.5782024737966759,
           0.7143931393830367,
           0.5830154280464608,
           0.6384303608137797,
           1.26981231977528,
           0.4876888101704525,
           0.9642569950330149,
           0.9356444132242742,
           0.43763609286973454,
           0.46557330884417103,
           0.6616637250874448,
           0.684330496831886,
           0.3490778142228745,
           0.6399565630456727,
           0.13242855325877634,
           0.5431458551339547,
           0.5884093567512726,
           1.2857306126979344,
           0.7449416935797938,
           1.2908708687351564,
           1.5746698319547145,
           0.6954668526206739,
           0.7667286918797992,
           0.8243757713013791,
           1.2068696660662643,
           0.6081964186447673,
           0.7755541587857626,
           0.5204656944621339,
           0.9438836333807511,
           0.5692236670999876,
           0.792012414987497,
           0.49244780152218676,
           0.21088433741474397,
           0.3360390396333654,
           0.3554712336865476,
           1.0169517617173323,
           0.8779675193009744,
           0.6880353257158044,
           1.1331023836839456,
           0.7808844178762229,
           1.1049729860256938,
           1.402029797681088,
           0.25291059467998783,
           1.1985256182249027,
           1.0072129288634952,
           1.078982462539281,
           0,
           0.9271676979407818,
           0.6989923193769451,
           0.6268293616646612,
           0.8211525268546027,
           0.5032319467719816,
           0.881073916021542,
           0.08663431973352549,
           0.791538599028472,
           1.10945598968697,
           1.4817332663926586,
           1.1510386056105202,
           0.7478175230460251,
           0.6813854379940243,
           0.7846150971697565,
           0.7946364282024582,
           0.7324796894224263,
           0.7439178115373054,
           0.5315587913934235,
           1.2319486715239136,
           1.0484829225040289
          ],
          "sizemode": "area",
          "sizeref": 0.004934475797101786,
          "symbol": "circle"
         },
         "mode": "markers",
         "name": "",
         "orientation": "v",
         "showlegend": false,
         "type": "scatter",
         "x": [
          0.02381003545168039,
          0.014912417931634408,
          0.03958684928915139,
          0.018968586185895076,
          0.04324907364655065,
          0.03851826039076764,
          0.03580404093156251,
          0.01783105971420984,
          0.04898868432824022,
          0.03751306734752232,
          0.020721123658124084,
          0.01784360346405702,
          0.01542064170805946,
          0.023243854331326634,
          0.020110450900032346,
          0.017304777090125477,
          0.021886880979793355,
          0.028865068716626266,
          0.02975911984645168,
          0.03562105816276361,
          0.02102504176707481,
          0.034367237998857235,
          0.02468870683520059,
          0.022069430881833826,
          0.02187706184388633,
          0.045394855523967804,
          0.025692313693905924,
          0.025321615623085877,
          0.023522496323328576,
          0.03425309752943014,
          0.03919128426646292,
          0.021417508427281073,
          0.020347480278299756,
          0.03413908955598739,
          0.017121048144637184,
          0.0181346754537598,
          0.028469292250723612,
          0.035145423537690165,
          0.039752134618686354,
          0.015961809962652247,
          0.04072822757606463,
          0.023992015615150096,
          0.02536605255131522,
          0.024134177113825706,
          0.03612036066009751,
          0.012928622815094399,
          0.021862086908259484,
          0.02068817756253505,
          0.03614279265862586,
          0.04012741876338392,
          0.03667828882022748,
          0.017207337172206492,
          0.020390276493387958,
          0.011236572264119653,
          0.018813682292910954,
          0.04235418366540396,
          0.028704110487379808,
          0.02601448101220392,
          0.0246732717395476,
          0.020672395198661438,
          0.020333153881755956,
          0.03182846198610248,
          0.040073150870917014,
          0.02065931624240033,
          0.029621274940383885,
          0.034967493871799205,
          0.021541581618319074,
          0.016428491486806644,
          0.038815425083545727,
          0.020212733297724644,
          0.020272333403548594,
          0.029618840364672192,
          0.031184568261718643,
          0.03323014678606791,
          0.04431781668242379,
          0.026259944618145424,
          0.027252800990409064,
          0.041193263856876446,
          0.04718297805756832,
          0.03099769532091476,
          0.021116488494595624,
          0.019279331446454093,
          0.03225732391494039,
          0.038583693563884934,
          0.020989445122542194,
          0.027464198229513733,
          0.026876144354784644,
          0.026593316084776174,
          0.013857946377506699,
          0.025884026111321266,
          0.026037201132832886,
          0.025781997621499332,
          0.023402097844124604,
          0.023245005916270437,
          0.023996284101154567,
          0.025854383780878096,
          0.03425848168204951,
          0.017841695337604286,
          0.013580270021270454,
          0.020576146089786067,
          0.01903426930441195,
          0.029660117735346082,
          0.024230476315832344,
          0.04434026736301812,
          0.026227102774631965,
          0.034791185112676155,
          0.0534261703270007,
          0.029482612303207437,
          0.02629070415641297,
          0.01659231781029138,
          0.035574545594238866,
          0.030136345458291962,
          0.03807887062095122,
          0.01389914437892455,
          0.022661791281273217,
          0.022083092776591706,
          0.01852703462872108,
          0.032799478105357084,
          0.017479751767189983,
          0.020144781732699256,
          0.0290650479373547,
          0.032842343275890834,
          0.017669260518218828,
          0.031106270105948325,
          0.02981815251569863,
          0.028524131848239112,
          0.03928608296662961,
          0.020437105373395683,
          0.023281209197678954,
          0.027375944230951875,
          0.03471616723235447,
          0.024836787322841607,
          0.02706726656754653,
          0.03481010664950364,
          0.019404763866633597,
          0.03155129776892594,
          0.015179298938285783,
          0.014805213154522231,
          0.01823924763672453,
          0.02601166874230626,
          0.038484910720973674,
          0.04122732739071613,
          0.023597190406480364,
          0.027080821076335842,
          0.03627560963333519,
          0.017038613300652244,
          0.03424578228549246,
          0.0387107664700059,
          0.03524907152327232,
          0.050645431038199476,
          0.024014898625253377,
          0.03697771877852982,
          0.04126175418697949,
          0.02064998328460131,
          0.034989649231985914,
          0.029612824687025262,
          0.02688413064006017,
          0.022992812960727575,
          0.028651593311692532,
          0.03825053939571464,
          0.03299529502430809,
          0.05062259687975399,
          0.047050301765145804,
          0.025024533288243247,
          0.0318148526011928,
          0.04189641185671837,
          0.0338406405396903,
          0.018311025287718434,
          0.01788511942340873,
          0.026954892695732244,
          0.035409026161005525,
          0.02592740374738463,
          0.01752659649169905,
          0.02396827576382929,
          0.039278502335209096,
          0.029030855588142158,
          0.01565590079065928,
          0.03423121815427152,
          0.03476197315520334,
          0.014127111221539927,
          0.038327057368014075,
          0.043688502627330685,
          0.03369987321942808,
          0.03751760770095169,
          0.018051933336634962,
          0.03951013516302018,
          0.034575437937461054,
          0.02555356876626274,
          0.024179006493856903,
          0.03194420390646867,
          0.026798118601187203,
          0.028271954227284568,
          0.019244633302887598,
          0.034455644076749906,
          0.028468136754314855,
          0.019160751392597212,
          0.01571721571556862,
          0.016093723519393026,
          0.01615368635896324,
          0.03873870789058535,
          0.01988297751928217,
          0.03603773865220704,
          0.02790333680344508,
          0.02515773760483597,
          0.02748005844187172,
          0.02389488191217989,
          0.05607913713802724,
          0.019928817153291166,
          0.028300312128123135,
          0.017264867370839772,
          0.026380893114588213,
          0.05078689727303289,
          0.02181181901612129,
          0.024304771037362623,
          0.019999834486823867,
          0.021362640499045814,
          0.01669978219060695,
          0.02222262168845474,
          0.02796357527656092,
          0.014287851694453171,
          0.024594329838592423,
          0.02029753232996622,
          0.03592872035612849,
          0.01780010675670347,
          0.013949056801556978,
          0.01544909727722271,
          0.01370269072441663,
          0.03689770446720766,
          0.0316880261702231,
          0.02326187912130692,
          0.03623123556047994,
          0.026089987496101145,
          0.034008446045920716,
          0.024573911059498094,
          0.015572279209263558,
          0.02322956046498375
         ],
         "xaxis": "x",
         "y": [
          -0.0009377429870897015,
          -0.0018962779067769927,
          -0.0025692532582735437,
          0.00012467595070570937,
          -0.0011986711440961448,
          8.954073576176114e-05,
          -0.0024367793461910463,
          2.590426632338329e-05,
          -0.002376170703104797,
          -0.0025449198302627775,
          0.0034908814893126437,
          0.0004738828435233274,
          0.002234510058192662,
          0.00010596045707991017,
          0.0006122073768179824,
          -0.00012053843825294914,
          0.0004901882564329412,
          -0.0009840298994616655,
          0.0011532068126553796,
          0.005702516734384283,
          -0.0002497787303978689,
          0.0007992755818404765,
          0.002059474828876386,
          0.0005228146231005591,
          -0.0010658938577249475,
          0.0018016706370175908,
          -0.0007670725193198629,
          -0.00024744176407360164,
          -0.00021762669138399187,
          -0.0037668750082906306,
          -0.0015593108170927756,
          -0.001332655085677474,
          -0.0003357797698747537,
          0.000739528297531081,
          -6.140442812767708e-05,
          -0.0007898915272554131,
          -0.0015484217105074171,
          -0.0025776470110181362,
          -0.005330487362874576,
          0.00044217972049915915,
          -0.003004070037324364,
          -6.0761837232948974e-05,
          0.0009697686454303791,
          -0.0018940086697156343,
          -0.0011939009856654099,
          0.00015258418170323285,
          0.001389574661422696,
          -0.00041177993045199695,
          -0.0027487202171380108,
          -0.001733856024584198,
          -0.00417232502439619,
          -8.095306285829434e-05,
          0.0008450450170000686,
          -0.0011937839840744787,
          -0.0005218601792184667,
          -0.0013314943502001034,
          -0.00020599112615118158,
          0.0017747506870935913,
          -0.00032433328097837625,
          -0.001810484223222053,
          -0.0005898385238079243,
          -0.005017326726306118,
          -0.003397962363917928,
          -0.002192848780465323,
          0.0003812047850162899,
          -0.00025310113332501914,
          0.0019289080797802404,
          -0.00011006059350703148,
          -0.0021866523817679253,
          0.000532183644582345,
          -0.0014662810325945656,
          -0.0007047049991255205,
          -0.0017818942388621829,
          -0.0018045137639820137,
          -0.0020092018481267866,
          0.0019195983730066926,
          -0.001347639408946542,
          -0.0028910543981629493,
          -0.002576174898731918,
          -0.003694312015761982,
          -0.0016577667288581754,
          -0.0011392972806830914,
          -0.001379944267377085,
          -0.0037181042445429513,
          -0.000612779169346408,
          -0.0008136835352297252,
          -0.0009395892554575661,
          -0.0016678804065402566,
          0.001079708674054253,
          0.0009384363702411617,
          -0.0008072429958344654,
          -0.0006152094094108931,
          -2.0345611281877512e-05,
          0.00017101943174185623,
          0.00021281807759329868,
          0.0024374416856891095,
          -0.0040374410940098885,
          0.0001461901964508379,
          0.0006660373808636003,
          -0.0013297256826041582,
          0.001047621047288698,
          -0.0033155434697525457,
          -0.0019385049589281094,
          -0.0007342967370737161,
          -0.002135879944538664,
          -0.00425697667438123,
          -0.0012261888997562454,
          0.001676858231075023,
          0.0005586073737403916,
          0.0007545085660078033,
          -0.0018604743301464028,
          -0.0014444971639120032,
          -0.0043127694629858495,
          0.0006367972933020507,
          -0.0018786671599022732,
          -0.0014770307481612828,
          0.0014951991029964855,
          -0.0013022931462666352,
          0.0005898627270032447,
          0.0019105864096245911,
          -0.0022804506928223115,
          -0.0005625628458690219,
          0.00026357820730705785,
          -0.001986123101361359,
          -0.0026706651938524606,
          0.002348625400606703,
          -0.002091187891785957,
          -0.001014010417744273,
          -0.0022040929818205857,
          -0.00037316820770904056,
          -0.005109806563560919,
          -0.0007812642210722098,
          -0.0016907470429600368,
          0.00017930780261036532,
          -0.0018453608089980397,
          -0.0025554686321758386,
          0.0018105949856668537,
          -0.0006869523046038597,
          -0.0014538959236570508,
          0.00026074580926724734,
          -0.004842307251184889,
          -0.0015646561325482655,
          0.0005516510637915212,
          0.00035047467964064295,
          -0.002118691034153714,
          0.0017975181633936217,
          0.0008763729481872696,
          0.0014603943019365683,
          -0.0022686937665029367,
          -0.003682036572006166,
          -0.0018898604721873686,
          -0.0007388703086219419,
          -0.0026501113316600507,
          -0.00022928103939713685,
          -0.003011452256052399,
          0.0007049028414175085,
          -0.004043508395880678,
          0.0014561346024344044,
          -0.0021710978684222346,
          7.218035786554802e-05,
          -0.0025438200874775534,
          -0.003100295053402487,
          -0.0048775456288085665,
          0.00011235618223789615,
          -0.00032155366874718234,
          -0.0037745310499113227,
          -0.0023972688357365287,
          -0.0018305464587013076,
          0.0012122214024809408,
          -0.001796397115440571,
          -0.0015473944507947755,
          -0.0017068976635672198,
          -0.0009902175008178872,
          0.0011953155945352363,
          -0.003216649137075457,
          -4.662576632011442e-05,
          -0.00010061153925979256,
          -0.0030919601683875,
          -0.0029762911946190555,
          -0.0007428582316020428,
          -0.0018690269789003765,
          -0.004598002065498847,
          -0.0018953102809680755,
          -0.005317894448816419,
          -0.0013096775778489043,
          -0.002565196123013325,
          0.0018170252793052496,
          -0.0009851938049245704,
          0.0012916054160422169,
          0.003233711486618544,
          -0.0012565388829941623,
          -0.0009862278310053118,
          -0.0004844225228484156,
          0.0013529631514039124,
          -0.001753395095165665,
          -0.0006399075223264587,
          -0.0012003467669176602,
          -8.108613910692704e-05,
          -0.0011009903954707484,
          -0.001186336861660993,
          -0.0016123430475193034,
          -0.004631805927881295,
          -0.0029979838050507874,
          -0.002620631987406953,
          0.00019981836887429365,
          -0.0003857407729861392,
          -0.00269970899389675,
          0.0005348746212354887,
          -0.0009197261637337533,
          0.00038155882785406166,
          0.0019032594685241444,
          -0.006167885382303467,
          0.0008258192100897907,
          0.0001368528035176665,
          0.00035443084495316964,
          -0.003504630106911867,
          -0.00013116842189674367,
          -0.0010287993060013464,
          -0.0016345383228600033,
          -0.00036740986379321704,
          -0.0019497112638500107,
          -0.0003170455182298146,
          -0.005369867207858746,
          -0.0005465325659009394,
          0.00031881343335242836,
          0.0013220255404943987,
          0.00040917557803454667,
          -0.0014046797116180657,
          -0.0015609953471427403,
          -0.000741362900288964,
          -0.0010935312326740896,
          -0.0010606500731821325,
          -0.0013170298670424966,
          -0.001830820581209636,
          0.0006772673913921159,
          0.00029230779292948147
         ],
         "yaxis": "y"
        },
        {
         "marker": {
          "color": "Blue",
          "size": 20
         },
         "mode": "markers",
         "name": "UNIFORM",
         "text": [
          "Uniform Portfolio"
         ],
         "type": "scatter",
         "x": [
          0.027694780249859798
         ],
         "xaxis": "x",
         "y": [
          -0.0009413687195844739
         ],
         "yaxis": "y"
        }
       ],
       "layout": {
        "coloraxis": {
         "colorbar": {
          "title": {
           "text": "color"
          }
         },
         "colorscale": [
          [
           0,
           "rgb(165,0,38)"
          ],
          [
           0.1,
           "rgb(215,48,39)"
          ],
          [
           0.2,
           "rgb(244,109,67)"
          ],
          [
           0.3,
           "rgb(253,174,97)"
          ],
          [
           0.4,
           "rgb(254,224,139)"
          ],
          [
           0.5,
           "rgb(255,255,191)"
          ],
          [
           0.6,
           "rgb(217,239,139)"
          ],
          [
           0.7,
           "rgb(166,217,106)"
          ],
          [
           0.8,
           "rgb(102,189,99)"
          ],
          [
           0.9,
           "rgb(26,152,80)"
          ],
          [
           1,
           "rgb(0,104,55)"
          ]
         ]
        },
        "legend": {
         "font": {
          "family": "Courier",
          "size": 10
         },
         "itemsizing": "constant",
         "tracegroupgap": 0,
         "traceorder": "normal",
         "x": 0.89,
         "y": 1
        },
        "margin": {
         "t": 60
        },
        "template": {
         "data": {
          "bar": [
           {
            "error_x": {
             "color": "#2a3f5f"
            },
            "error_y": {
             "color": "#2a3f5f"
            },
            "marker": {
             "line": {
              "color": "#E5ECF6",
              "width": 0.5
             }
            },
            "type": "bar"
           }
          ],
          "barpolar": [
           {
            "marker": {
             "line": {
              "color": "#E5ECF6",
              "width": 0.5
             }
            },
            "type": "barpolar"
           }
          ],
          "carpet": [
           {
            "aaxis": {
             "endlinecolor": "#2a3f5f",
             "gridcolor": "white",
             "linecolor": "white",
             "minorgridcolor": "white",
             "startlinecolor": "#2a3f5f"
            },
            "baxis": {
             "endlinecolor": "#2a3f5f",
             "gridcolor": "white",
             "linecolor": "white",
             "minorgridcolor": "white",
             "startlinecolor": "#2a3f5f"
            },
            "type": "carpet"
           }
          ],
          "choropleth": [
           {
            "colorbar": {
             "outlinewidth": 0,
             "ticks": ""
            },
            "type": "choropleth"
           }
          ],
          "contour": [
           {
            "colorbar": {
             "outlinewidth": 0,
             "ticks": ""
            },
            "colorscale": [
             [
              0,
              "#0d0887"
             ],
             [
              0.1111111111111111,
              "#46039f"
             ],
             [
              0.2222222222222222,
              "#7201a8"
             ],
             [
              0.3333333333333333,
              "#9c179e"
             ],
             [
              0.4444444444444444,
              "#bd3786"
             ],
             [
              0.5555555555555556,
              "#d8576b"
             ],
             [
              0.6666666666666666,
              "#ed7953"
             ],
             [
              0.7777777777777778,
              "#fb9f3a"
             ],
             [
              0.8888888888888888,
              "#fdca26"
             ],
             [
              1,
              "#f0f921"
             ]
            ],
            "type": "contour"
           }
          ],
          "contourcarpet": [
           {
            "colorbar": {
             "outlinewidth": 0,
             "ticks": ""
            },
            "type": "contourcarpet"
           }
          ],
          "heatmap": [
           {
            "colorbar": {
             "outlinewidth": 0,
             "ticks": ""
            },
            "colorscale": [
             [
              0,
              "#0d0887"
             ],
             [
              0.1111111111111111,
              "#46039f"
             ],
             [
              0.2222222222222222,
              "#7201a8"
             ],
             [
              0.3333333333333333,
              "#9c179e"
             ],
             [
              0.4444444444444444,
              "#bd3786"
             ],
             [
              0.5555555555555556,
              "#d8576b"
             ],
             [
              0.6666666666666666,
              "#ed7953"
             ],
             [
              0.7777777777777778,
              "#fb9f3a"
             ],
             [
              0.8888888888888888,
              "#fdca26"
             ],
             [
              1,
              "#f0f921"
             ]
            ],
            "type": "heatmap"
           }
          ],
          "heatmapgl": [
           {
            "colorbar": {
             "outlinewidth": 0,
             "ticks": ""
            },
            "colorscale": [
             [
              0,
              "#0d0887"
             ],
             [
              0.1111111111111111,
              "#46039f"
             ],
             [
              0.2222222222222222,
              "#7201a8"
             ],
             [
              0.3333333333333333,
              "#9c179e"
             ],
             [
              0.4444444444444444,
              "#bd3786"
             ],
             [
              0.5555555555555556,
              "#d8576b"
             ],
             [
              0.6666666666666666,
              "#ed7953"
             ],
             [
              0.7777777777777778,
              "#fb9f3a"
             ],
             [
              0.8888888888888888,
              "#fdca26"
             ],
             [
              1,
              "#f0f921"
             ]
            ],
            "type": "heatmapgl"
           }
          ],
          "histogram": [
           {
            "marker": {
             "colorbar": {
              "outlinewidth": 0,
              "ticks": ""
             }
            },
            "type": "histogram"
           }
          ],
          "histogram2d": [
           {
            "colorbar": {
             "outlinewidth": 0,
             "ticks": ""
            },
            "colorscale": [
             [
              0,
              "#0d0887"
             ],
             [
              0.1111111111111111,
              "#46039f"
             ],
             [
              0.2222222222222222,
              "#7201a8"
             ],
             [
              0.3333333333333333,
              "#9c179e"
             ],
             [
              0.4444444444444444,
              "#bd3786"
             ],
             [
              0.5555555555555556,
              "#d8576b"
             ],
             [
              0.6666666666666666,
              "#ed7953"
             ],
             [
              0.7777777777777778,
              "#fb9f3a"
             ],
             [
              0.8888888888888888,
              "#fdca26"
             ],
             [
              1,
              "#f0f921"
             ]
            ],
            "type": "histogram2d"
           }
          ],
          "histogram2dcontour": [
           {
            "colorbar": {
             "outlinewidth": 0,
             "ticks": ""
            },
            "colorscale": [
             [
              0,
              "#0d0887"
             ],
             [
              0.1111111111111111,
              "#46039f"
             ],
             [
              0.2222222222222222,
              "#7201a8"
             ],
             [
              0.3333333333333333,
              "#9c179e"
             ],
             [
              0.4444444444444444,
              "#bd3786"
             ],
             [
              0.5555555555555556,
              "#d8576b"
             ],
             [
              0.6666666666666666,
              "#ed7953"
             ],
             [
              0.7777777777777778,
              "#fb9f3a"
             ],
             [
              0.8888888888888888,
              "#fdca26"
             ],
             [
              1,
              "#f0f921"
             ]
            ],
            "type": "histogram2dcontour"
           }
          ],
          "mesh3d": [
           {
            "colorbar": {
             "outlinewidth": 0,
             "ticks": ""
            },
            "type": "mesh3d"
           }
          ],
          "parcoords": [
           {
            "line": {
             "colorbar": {
              "outlinewidth": 0,
              "ticks": ""
             }
            },
            "type": "parcoords"
           }
          ],
          "pie": [
           {
            "automargin": true,
            "type": "pie"
           }
          ],
          "scatter": [
           {
            "marker": {
             "colorbar": {
              "outlinewidth": 0,
              "ticks": ""
             }
            },
            "type": "scatter"
           }
          ],
          "scatter3d": [
           {
            "line": {
             "colorbar": {
              "outlinewidth": 0,
              "ticks": ""
             }
            },
            "marker": {
             "colorbar": {
              "outlinewidth": 0,
              "ticks": ""
             }
            },
            "type": "scatter3d"
           }
          ],
          "scattercarpet": [
           {
            "marker": {
             "colorbar": {
              "outlinewidth": 0,
              "ticks": ""
             }
            },
            "type": "scattercarpet"
           }
          ],
          "scattergeo": [
           {
            "marker": {
             "colorbar": {
              "outlinewidth": 0,
              "ticks": ""
             }
            },
            "type": "scattergeo"
           }
          ],
          "scattergl": [
           {
            "marker": {
             "colorbar": {
              "outlinewidth": 0,
              "ticks": ""
             }
            },
            "type": "scattergl"
           }
          ],
          "scattermapbox": [
           {
            "marker": {
             "colorbar": {
              "outlinewidth": 0,
              "ticks": ""
             }
            },
            "type": "scattermapbox"
           }
          ],
          "scatterpolar": [
           {
            "marker": {
             "colorbar": {
              "outlinewidth": 0,
              "ticks": ""
             }
            },
            "type": "scatterpolar"
           }
          ],
          "scatterpolargl": [
           {
            "marker": {
             "colorbar": {
              "outlinewidth": 0,
              "ticks": ""
             }
            },
            "type": "scatterpolargl"
           }
          ],
          "scatterternary": [
           {
            "marker": {
             "colorbar": {
              "outlinewidth": 0,
              "ticks": ""
             }
            },
            "type": "scatterternary"
           }
          ],
          "surface": [
           {
            "colorbar": {
             "outlinewidth": 0,
             "ticks": ""
            },
            "colorscale": [
             [
              0,
              "#0d0887"
             ],
             [
              0.1111111111111111,
              "#46039f"
             ],
             [
              0.2222222222222222,
              "#7201a8"
             ],
             [
              0.3333333333333333,
              "#9c179e"
             ],
             [
              0.4444444444444444,
              "#bd3786"
             ],
             [
              0.5555555555555556,
              "#d8576b"
             ],
             [
              0.6666666666666666,
              "#ed7953"
             ],
             [
              0.7777777777777778,
              "#fb9f3a"
             ],
             [
              0.8888888888888888,
              "#fdca26"
             ],
             [
              1,
              "#f0f921"
             ]
            ],
            "type": "surface"
           }
          ],
          "table": [
           {
            "cells": {
             "fill": {
              "color": "#EBF0F8"
             },
             "line": {
              "color": "white"
             }
            },
            "header": {
             "fill": {
              "color": "#C8D4E3"
             },
             "line": {
              "color": "white"
             }
            },
            "type": "table"
           }
          ]
         },
         "layout": {
          "annotationdefaults": {
           "arrowcolor": "#2a3f5f",
           "arrowhead": 0,
           "arrowwidth": 1
          },
          "autotypenumbers": "strict",
          "coloraxis": {
           "colorbar": {
            "outlinewidth": 0,
            "ticks": ""
           }
          },
          "colorscale": {
           "diverging": [
            [
             0,
             "#8e0152"
            ],
            [
             0.1,
             "#c51b7d"
            ],
            [
             0.2,
             "#de77ae"
            ],
            [
             0.3,
             "#f1b6da"
            ],
            [
             0.4,
             "#fde0ef"
            ],
            [
             0.5,
             "#f7f7f7"
            ],
            [
             0.6,
             "#e6f5d0"
            ],
            [
             0.7,
             "#b8e186"
            ],
            [
             0.8,
             "#7fbc41"
            ],
            [
             0.9,
             "#4d9221"
            ],
            [
             1,
             "#276419"
            ]
           ],
           "sequential": [
            [
             0,
             "#0d0887"
            ],
            [
             0.1111111111111111,
             "#46039f"
            ],
            [
             0.2222222222222222,
             "#7201a8"
            ],
            [
             0.3333333333333333,
             "#9c179e"
            ],
            [
             0.4444444444444444,
             "#bd3786"
            ],
            [
             0.5555555555555556,
             "#d8576b"
            ],
            [
             0.6666666666666666,
             "#ed7953"
            ],
            [
             0.7777777777777778,
             "#fb9f3a"
            ],
            [
             0.8888888888888888,
             "#fdca26"
            ],
            [
             1,
             "#f0f921"
            ]
           ],
           "sequentialminus": [
            [
             0,
             "#0d0887"
            ],
            [
             0.1111111111111111,
             "#46039f"
            ],
            [
             0.2222222222222222,
             "#7201a8"
            ],
            [
             0.3333333333333333,
             "#9c179e"
            ],
            [
             0.4444444444444444,
             "#bd3786"
            ],
            [
             0.5555555555555556,
             "#d8576b"
            ],
            [
             0.6666666666666666,
             "#ed7953"
            ],
            [
             0.7777777777777778,
             "#fb9f3a"
            ],
            [
             0.8888888888888888,
             "#fdca26"
            ],
            [
             1,
             "#f0f921"
            ]
           ]
          },
          "colorway": [
           "#636efa",
           "#EF553B",
           "#00cc96",
           "#ab63fa",
           "#FFA15A",
           "#19d3f3",
           "#FF6692",
           "#B6E880",
           "#FF97FF",
           "#FECB52"
          ],
          "font": {
           "color": "#2a3f5f"
          },
          "geo": {
           "bgcolor": "white",
           "lakecolor": "white",
           "landcolor": "#E5ECF6",
           "showlakes": true,
           "showland": true,
           "subunitcolor": "white"
          },
          "hoverlabel": {
           "align": "left"
          },
          "hovermode": "closest",
          "mapbox": {
           "style": "light"
          },
          "paper_bgcolor": "white",
          "plot_bgcolor": "#E5ECF6",
          "polar": {
           "angularaxis": {
            "gridcolor": "white",
            "linecolor": "white",
            "ticks": ""
           },
           "bgcolor": "#E5ECF6",
           "radialaxis": {
            "gridcolor": "white",
            "linecolor": "white",
            "ticks": ""
           }
          },
          "scene": {
           "xaxis": {
            "backgroundcolor": "#E5ECF6",
            "gridcolor": "white",
            "gridwidth": 2,
            "linecolor": "white",
            "showbackground": true,
            "ticks": "",
            "zerolinecolor": "white"
           },
           "yaxis": {
            "backgroundcolor": "#E5ECF6",
            "gridcolor": "white",
            "gridwidth": 2,
            "linecolor": "white",
            "showbackground": true,
            "ticks": "",
            "zerolinecolor": "white"
           },
           "zaxis": {
            "backgroundcolor": "#E5ECF6",
            "gridcolor": "white",
            "gridwidth": 2,
            "linecolor": "white",
            "showbackground": true,
            "ticks": "",
            "zerolinecolor": "white"
           }
          },
          "shapedefaults": {
           "line": {
            "color": "#2a3f5f"
           }
          },
          "ternary": {
           "aaxis": {
            "gridcolor": "white",
            "linecolor": "white",
            "ticks": ""
           },
           "baxis": {
            "gridcolor": "white",
            "linecolor": "white",
            "ticks": ""
           },
           "bgcolor": "#E5ECF6",
           "caxis": {
            "gridcolor": "white",
            "linecolor": "white",
            "ticks": ""
           }
          },
          "title": {
           "x": 0.05
          },
          "xaxis": {
           "automargin": true,
           "gridcolor": "white",
           "linecolor": "white",
           "ticks": "",
           "title": {
            "standoff": 15
           },
           "zerolinecolor": "white",
           "zerolinewidth": 2
          },
          "yaxis": {
           "automargin": true,
           "gridcolor": "white",
           "linecolor": "white",
           "ticks": "",
           "title": {
            "standoff": 15
           },
           "zerolinecolor": "white",
           "zerolinewidth": 2
          }
         }
        },
        "xaxis": {
         "anchor": "y",
         "domain": [
          0,
          1
         ],
         "title": {
          "text": "logret_std"
         }
        },
        "yaxis": {
         "anchor": "x",
         "domain": [
          0,
          1
         ],
         "title": {
          "text": "logret_mean"
         }
        }
       }
      },
      "text/html": [
       "<div>                            <div id=\"b726f972-e5c9-40ce-a7ae-bc0dc1192072\" class=\"plotly-graph-div\" style=\"height:525px; width:100%;\"></div>            <script type=\"text/javascript\">                require([\"plotly\"], function(Plotly) {                    window.PLOTLYENV=window.PLOTLYENV || {};                                    if (document.getElementById(\"b726f972-e5c9-40ce-a7ae-bc0dc1192072\")) {                    Plotly.newPlot(                        \"b726f972-e5c9-40ce-a7ae-bc0dc1192072\",                        [{\"hovertemplate\": \"<b>%{hovertext}</b><br><br>logret_std=%{x}<br>logret_mean=%{y}<br>size=%{marker.size}<br>color=%{marker.color}<extra></extra>\", \"hovertext\": [\"20MICRONS\", \"21STCENMGM\", \"3IINFOTECH\", \"3MINDIA\", \"5PAISA\", \"63MOONS\", \"A2ZINFRA\", \"AARTIDRUGS\", \"AARTIIND\", \"AARVEEDEN\", \"AAVAS\", \"ABB\", \"ABBOTINDIA\", \"ABCAPITAL\", \"ABFRL\", \"ACC\", \"ACCELYA\", \"ACE\", \"ADANIENT\", \"ADANIGREEN\", \"ADANIPORTS\", \"ADANIPOWER\", \"ADANITRANS\", \"ADFFOODS\", \"ADORWELD\", \"ADSL\", \"ADVANIHOTR\", \"ADVENZYMES\", \"AEGISCHEM\", \"AGARIND\", \"AGRITECH\", \"AHLEAST\", \"AHLUCONT\", \"AHLWEST\", \"AIAENG\", \"AJANTPHARM\", \"AJMERA\", \"AKSHARCHEM\", \"AKSHOPTFBR\", \"AKZOINDIA\", \"ALANKIT\", \"ALBERTDAVD\", \"ALEMBICLTD\", \"ALICON\", \"ALKALI\", \"ALKEM\", \"ALKYLAMINE\", \"ALLCARGO\", \"ALMONDZ\", \"ALPA\", \"ALPHAGEO\", \"AMARAJABAT\", \"AMBER\", \"AMBIKCO\", \"AMBUJACEM\", \"AMDIND\", \"AMJLAND\", \"AMRUTANJAN\", \"ANANTRAJ\", \"ANDHRAPAP\", \"ANDHRSUGAR\", \"ANIKINDS\", \"ANSALAPI\", \"APARINDS\", \"APCL\", \"APEX\", \"APLAPOLLO\", \"APLLTD\", \"APOLLO\", \"APOLLOHOSP\", \"APOLLOTYRE\", \"APTECHT\", \"ARCHIDPLY\", \"ARIES\", \"ARIHANT\", \"ARMANFIN\", \"AROGRANITE\", \"ARSHIYA\", \"ARSSINFRA\", \"ARVIND\", \"ARVSMART\", \"ASAHIINDIA\", \"ASAHISONG\", \"ASAL\", \"ASHIANA\", \"ASHOKA\", \"ASHOKLEY\", \"ASIANHOTNR\", \"ASIANPAINT\", \"ASIANTILES\", \"ASPINWALL\", \"ASTEC\", \"ASTERDM\", \"ASTRAL\", \"ASTRAMICRO\", \"ASTRAZEN\", \"ASTRON\", \"ATFL\", \"ATUL\", \"ATULAUTO\", \"AUBANK\", \"AURIONPRO\", \"AUROPHARMA\", \"AUSOMENT\", \"AUTOAXLES\", \"AUTOIND\", \"AVADHSUGAR\", \"AVANTIFEED\", \"AVTNPL\", \"AXISBANK\", \"AXISCADES\", \"AYMSYNTEX\", \"BAGFILMS\", \"BAJAJ-AUTO\", \"BAJAJCON\", \"BAJAJELEC\", \"BAJAJFINSV\", \"BAJAJHIND\", \"BAJAJHLDNG\", \"BAJFINANCE\", \"BALAJITELE\", \"BALAMINES\", \"BALKRISIND\", \"BALMLAWRIE\", \"BALPHARMA\", \"BALRAMCHIN\", \"BANARBEADS\", \"BANARISUG\", \"BANCOINDIA\", \"BANDHANBNK\", \"BANG\", \"BANKBARODA\", \"BANKINDIA\", \"BANSWRAS\", \"BASF\", \"BASML\", \"BATAINDIA\", \"BAYERCROP\", \"BBL\", \"BDL\", \"BEARDSELL\", \"BEDMUTHA\", \"BEL\", \"BEML\", \"BEPL\", \"BERGEPAINT\", \"BFINVEST\", \"BFUTILITIE\", \"BGRENERGY\", \"BHAGERIA\", \"BHAGYANGR\", \"BHAGYAPROP\", \"BHANDARI\", \"BHARATFORG\", \"BHARATGEAR\", \"BHARATRAS\", \"BHARATWIRE\", \"BHARTIARTL\", \"BHEL\", \"BIGBLOC\", \"BINDALAGRO\", \"BIOCON\", \"BIRLACABLE\", \"BIRLACORPN\", \"BLISSGVS\", \"BLKASHYAP\", \"BLS\", \"BLUEDART\", \"BLUESTARCO\", \"BODALCHEM\", \"BOMDYEING\", \"BORORENEW\", \"BOSCHLTD\", \"BPCL\", \"BPL\", \"BRIGADE\", \"BRITANNIA\", \"BRNL\", \"BROOKS\", \"BSE\", \"BSL\", \"BSOFT\", \"BUTTERFLY\", \"BYKE\", \"CADILAHC\", \"CALSOFT\", \"CAMLINFINE\", \"CANBK\", \"CANFINHOME\", \"CANTABIL\", \"CAPACITE\", \"CAPLIPOINT\", \"CARBORUNIV\", \"CAREERP\", \"CARERATING\", \"CASTROLIND\", \"CCL\", \"CDSL\", \"CEATLTD\", \"CELEBRITY\", \"CENTENKA\", \"CENTEXT\", \"CENTRALBK\", \"CENTRUM\", \"CENTUM\", \"CENTURYPLY\", \"CENTURYTEX\", \"CERA\", \"CEREBRAINT\", \"CESC\", \"CGCL\", \"CGPOWER\", \"CHALET\", \"CHAMBLFERT\", \"CHEMFAB\", \"CHENNPETRO\", \"CHOLAHLDNG\", \"CIGNITITEC\", \"CINELINE\", \"CIPLA\", \"CLEDUCATE\", \"CLNINDIA\", \"CMICABLES\", \"COALINDIA\", \"COCHINSHIP\", \"COFORGE\", \"COLPAL\", \"COMPINFO\", \"COMPUSOFT\", \"CONCOR\", \"CONSOFINVT\", \"CONTROLPR\", \"CORALFINAC\", \"CORDSCABLE\", \"COROMANDEL\", \"COSMOFILMS\"], \"legendgroup\": \"\", \"marker\": {\"color\": [-0.03938435912843298, -0.1271609953174884, -0.06490168589844397, 0.006572759270715581, -0.027715533375169653, 0.002324630833619448, -0.06805878003683491, 0.0014527608980379214, -0.04850448089570391, -0.06784088879447138, 0.16846970014311852, 0.026557575350622746, 0.14490383088434092, 0.0045586439998078635, 0.03044225014452549, -0.006965616351205776, 0.022396441817612026, -0.034090682725271486, 0.03875137499380318, 0.1600883586424559, -0.011880058701667936, 0.023256904784348796, 0.08341768739138795, 0.02368953807190866, -0.048721984027430894, 0.03968887258747493, -0.029856109047189792, -0.009771957988652486, -0.00925185356148443, -0.10997180634697766, -0.039787183458724305, -0.06222269458663886, -0.01650227769149663, 0.021662214990188007, -0.0035864876734728857, -0.043556970692389625, -0.054389188774724824, -0.07334232316915607, -0.13409311006832988, 0.027702354653625114, -0.07375891896385421, -0.00253258576551526, 0.03823096413872631, -0.07847827836775992, -0.033053407104661696, 0.011802044493485268, 0.06356093392427763, -0.01990411814705727, -0.0760516831972584, -0.0432087604440267, -0.11375462592723848, -0.004704566549032976, 0.041443529089666586, -0.10624093860780306, -0.02773833272474815, -0.03143713878937782, -0.0071763633379877305, 0.06822164494694397, -0.013145126613205415, -0.08757979933255552, -0.029008708006541005, -0.15763648047137413, -0.08479399024207977, -0.10614333769502063, 0.012869290257880762, -0.0072381833897779465, 0.0895434752172462, -0.006699373073627527, -0.056334624110425384, 0.02632912811659436, -0.07232916918867853, -0.023792457451037006, -0.05714025680610719, -0.054303514685002094, -0.04533621009637024, 0.0730998637247797, -0.04944957435460706, -0.07018269803062333, -0.05459966718482048, -0.11918021573911518, -0.0785057955674046, -0.05909423176043971, -0.04277925444205699, -0.09636465307259146, -0.0291946340538701, -0.029627063147079965, -0.03495997205009412, -0.06271803039618158, 0.07791260296740393, 0.03625542511065172, -0.031003447402667743, -0.023861976036250836, -0.0008693926252848967, 0.0073572548167066916, 0.008868793047130953, 0.09427576020944817, -0.11785230680918926, 0.008193739086146045, 0.0490444873202375, -0.06462462293967819, 0.0550386794751228, -0.11178456873761493, -0.08000275907335253, -0.01656049412291443, -0.08143789128719865, -0.12235790935532695, -0.022951091052404143, 0.05687617548369675, 0.021247334054540077, 0.04547336753276384, -0.05229790849240526, -0.047932061500660574, -0.11325885964204353, 0.04581557511321593, -0.08290020575093406, -0.0668851398263811, 0.08070363838358621, -0.03970469109549441, 0.03374548648399199, 0.09484274562892403, -0.07846024192829397, -0.01712919328390287, 0.014917330979147745, -0.06384960635256494, -0.08956507927331887, 0.08233819045229562, -0.05322973770539186, -0.04961614667135184, -0.09467261614746048, -0.013631245174993013, -0.14718809623657783, -0.03145592909891795, -0.0624646392993089, 0.005151027097267514, -0.0950983388244744, -0.08099408939979177, 0.11928054075673447, -0.04639935254117102, -0.07971249432074418, 0.010024186139321448, -0.1258235282470308, -0.037951917613282066, 0.02337782821975384, 0.01294180404104881, -0.058405387409582205, 0.10549674035532058, 0.025590682697253713, 0.03772579142983695, -0.06436180212591099, -0.07270224572141519, -0.07869533416227065, -0.019981500563819216, -0.06422682175970881, -0.011103207021388325, -0.08606694614416051, 0.02380397172061599, -0.15040502704057787, 0.06332998945894644, -0.07577581619295927, 0.0018870415687166668, -0.07709644922415411, -0.0612433032775215, -0.10366661733978044, 0.0044898412667173345, -0.010107029970496442, -0.09009198837408439, -0.07083993675961513, -0.09996963195332875, 0.06777821124830394, -0.06664456563483162, -0.04370056504120568, -0.0658337286755678, -0.056497991568806534, 0.049870737733212184, -0.08189337540479656, -0.001606076203250414, -0.006426429280889416, -0.0903257416797968, -0.08561916728174994, -0.052583873656306325, -0.0487652094173078, -0.10524512832862405, -0.05624087273644173, -0.1417439643594739, -0.0725505436689719, -0.0649250151240748, 0.05255248776868211, -0.038554059275872216, 0.053418465161931765, 0.10122999139645865, -0.046889070896883614, -0.03488361020525166, -0.025171824020971574, 0.03926680773664218, -0.06159149474016443, -0.03339678644198098, -0.0763714635365513, -0.005038370331714584, -0.06815722250666571, -0.030624068954796187, -0.0810916295587862, -0.1285265419282248, -0.10744176677395235, -0.10416803086868986, 0.007271395339168122, -0.01614323830533418, -0.048141058006152496, 0.02683925579332019, -0.03249879929132602, 0.022100304604627984, 0.07214537658968309, -0.12144639096861161, 0.03786108849882814, 0.005630697088538249, 0.01772168890630935, -0.16405416301736694, -0.007854498962897933, -0.04629513656959007, -0.05845240841681908, -0.02571484304640794, -0.07927482784225343, -0.015619904581294598, -0.14945890514975685, -0.030703892587336124, 0.02285555488718368, 0.0855729960638878, 0.029860965722990632, -0.03806956914803348, -0.049261362596626196, -0.03187029286941424, -0.030182002235300088, -0.04065352937944622, -0.038726552376552155, -0.0745026128228784, 0.04349186026597999, 0.012583440542067352], \"coloraxis\": \"coloraxis\", \"size\": [0.7400132117705699, 0.21898992915958795, 0.5885478340300415, 1.0128048078861147, 0.809276858250325, 0.9875888287902462, 0.5698080004830659, 0.9824135958858079, 0.6858781254047533, 0.5711013561557977, 1.9737903188407144, 1.1314303890020643, 1.8339083742610192, 1.0008494517051716, 1.15448898523986, 0.9324439144410608, 1.106730792994736, 0.7714353393024904, 1.2038101678751882, 1.9240404736546513, 0.9032728388928332, 1.1118383165791301, 1.4689398164686138, 1.1144063349657738, 0.6845870734735028, 1.2093749524796322, 0.7965708602566106, 0.9157860724964104, 0.918873300803496, 0.3210212674709173, 0.7376221329596672, 0.6044497517608218, 0.8758363385256929, 1.1023725800531787, 0.9525016973828138, 0.7152454846338092, 0.6509477618199561, 0.5384460218730684, 0.17784238307294736, 1.1382255533671093, 0.5359731986036957, 0.9587574330258541, 1.2007211206777708, 0.5079600935771152, 0.7775923848704982, 1.0438447231843988, 1.3510743875502882, 0.8556437433428753, 0.5223638419570321, 0.7173123859701748, 0.2985672619313619, 0.9458650210273014, 1.2197902170684638, 0.34316689802647204, 0.809141526202134, 0.7871862068688209, 0.9311929655368785, 1.3787393683670581, 0.8957636671517856, 0.4539354175845559, 0.8016008510497853, 0.038093986874440086, 0.47047138273502004, 0.34374623610744165, 1.0501796650967357, 0.9308260149710634, 1.505301178901468, 0.9340242774223688, 0.6394000750012113, 1.1300743752272766, 0.5444598865598154, 0.8325633953593715, 0.6346180121436328, 0.6514563048377803, 0.7046843012134725, 1.407695428558841, 0.6802682533737574, 0.5572008788939368, 0.6496984071293685, 0.26636212470331705, 0.5077967573830026, 0.6230196359806042, 0.7198618414604192, 0.4017904103068495, 0.8004972339176176, 0.7979304275848319, 0.7662754243499253, 0.6015095446546068, 1.4362628162762507, 1.1889947447989253, 0.7897605059050372, 0.8321507479506399, 0.9686297907187653, 1.017461405157462, 1.0264335718387119, 1.5333910074473838, 0.27424430724888954, 1.0224265963385986, 1.264907874570755, 0.5901924203178452, 1.3004881133305624, 0.3102610987931237, 0.49891110313968035, 0.8754907782773612, 0.49039246618225146, 0.2475000170749883, 0.8375575658120885, 1.3113950954585827, 1.0999099358192574, 1.2437104735874331, 0.6633611529552342, 0.6892758841385617, 0.30151002424870316, 1.2457417443747698, 0.4817124812206047, 0.576774477003513, 1.4528298037749596, 0.7381117899315727, 1.1740962875420566, 1.5367565112679176, 0.5080671540126157, 0.8721151020548399, 1.0623363954733385, 0.5947927525227157, 0.4421512217376065, 1.4625321542113932, 0.6578300146425585, 0.6792795158345841, 0.4118339785193741, 0.8928781716509647, 0.10011335430917867, 0.7870746716222801, 0.603013619848291, 1.0043657106939177, 0.4093069800344699, 0.4930267789817036, 1.6818140207610193, 0.6983737157260071, 0.5006340524436903, 1.0332917373795123, 0.22692884677694816, 0.7485158773177515, 1.1125560921512498, 1.050610091357995, 0.6271084682766925, 1.5999963384733182, 1.1256911216290728, 1.1977225238472415, 0.5917524682881564, 0.5422453842937122, 0.5066716969436177, 0.85518441791702, 0.5925536827860008, 0.9078840638170758, 0.462915389574236, 1.115085588556242, 0.08101834315128387, 1.3497035507461925, 0.5240013293156774, 0.9849913927852492, 0.5161623349441499, 0.6102632084731289, 0.3584475168311336, 1.0004410534410795, 0.913797157091686, 0.43902360234778215, 0.5532996507892184, 0.3803920290093533, 1.3761072410571424, 0.5782024737966759, 0.7143931393830367, 0.5830154280464608, 0.6384303608137797, 1.26981231977528, 0.4876888101704525, 0.9642569950330149, 0.9356444132242742, 0.43763609286973454, 0.46557330884417103, 0.6616637250874448, 0.684330496831886, 0.3490778142228745, 0.6399565630456727, 0.13242855325877634, 0.5431458551339547, 0.5884093567512726, 1.2857306126979344, 0.7449416935797938, 1.2908708687351564, 1.5746698319547145, 0.6954668526206739, 0.7667286918797992, 0.8243757713013791, 1.2068696660662643, 0.6081964186447673, 0.7755541587857626, 0.5204656944621339, 0.9438836333807511, 0.5692236670999876, 0.792012414987497, 0.49244780152218676, 0.21088433741474397, 0.3360390396333654, 0.3554712336865476, 1.0169517617173323, 0.8779675193009744, 0.6880353257158044, 1.1331023836839456, 0.7808844178762229, 1.1049729860256938, 1.402029797681088, 0.25291059467998783, 1.1985256182249027, 1.0072129288634952, 1.078982462539281, 0.0, 0.9271676979407818, 0.6989923193769451, 0.6268293616646612, 0.8211525268546027, 0.5032319467719816, 0.881073916021542, 0.08663431973352549, 0.791538599028472, 1.10945598968697, 1.4817332663926586, 1.1510386056105202, 0.7478175230460251, 0.6813854379940243, 0.7846150971697565, 0.7946364282024582, 0.7324796894224263, 0.7439178115373054, 0.5315587913934235, 1.2319486715239136, 1.0484829225040289], \"sizemode\": \"area\", \"sizeref\": 0.004934475797101786, \"symbol\": \"circle\"}, \"mode\": \"markers\", \"name\": \"\", \"orientation\": \"v\", \"showlegend\": false, \"type\": \"scatter\", \"x\": [0.02381003545168039, 0.014912417931634408, 0.03958684928915139, 0.018968586185895076, 0.04324907364655065, 0.03851826039076764, 0.03580404093156251, 0.01783105971420984, 0.04898868432824022, 0.03751306734752232, 0.020721123658124084, 0.01784360346405702, 0.01542064170805946, 0.023243854331326634, 0.020110450900032346, 0.017304777090125477, 0.021886880979793355, 0.028865068716626266, 0.02975911984645168, 0.03562105816276361, 0.02102504176707481, 0.034367237998857235, 0.02468870683520059, 0.022069430881833826, 0.02187706184388633, 0.045394855523967804, 0.025692313693905924, 0.025321615623085877, 0.023522496323328576, 0.03425309752943014, 0.03919128426646292, 0.021417508427281073, 0.020347480278299756, 0.03413908955598739, 0.017121048144637184, 0.0181346754537598, 0.028469292250723612, 0.035145423537690165, 0.039752134618686354, 0.015961809962652247, 0.04072822757606463, 0.023992015615150096, 0.02536605255131522, 0.024134177113825706, 0.03612036066009751, 0.012928622815094399, 0.021862086908259484, 0.02068817756253505, 0.03614279265862586, 0.04012741876338392, 0.03667828882022748, 0.017207337172206492, 0.020390276493387958, 0.011236572264119653, 0.018813682292910954, 0.04235418366540396, 0.028704110487379808, 0.02601448101220392, 0.0246732717395476, 0.020672395198661438, 0.020333153881755956, 0.03182846198610248, 0.040073150870917014, 0.02065931624240033, 0.029621274940383885, 0.034967493871799205, 0.021541581618319074, 0.016428491486806644, 0.038815425083545727, 0.020212733297724644, 0.020272333403548594, 0.029618840364672192, 0.031184568261718643, 0.03323014678606791, 0.04431781668242379, 0.026259944618145424, 0.027252800990409064, 0.041193263856876446, 0.04718297805756832, 0.03099769532091476, 0.021116488494595624, 0.019279331446454093, 0.03225732391494039, 0.038583693563884934, 0.020989445122542194, 0.027464198229513733, 0.026876144354784644, 0.026593316084776174, 0.013857946377506699, 0.025884026111321266, 0.026037201132832886, 0.025781997621499332, 0.023402097844124604, 0.023245005916270437, 0.023996284101154567, 0.025854383780878096, 0.03425848168204951, 0.017841695337604286, 0.013580270021270454, 0.020576146089786067, 0.01903426930441195, 0.029660117735346082, 0.024230476315832344, 0.04434026736301812, 0.026227102774631965, 0.034791185112676155, 0.0534261703270007, 0.029482612303207437, 0.02629070415641297, 0.01659231781029138, 0.035574545594238866, 0.030136345458291962, 0.03807887062095122, 0.01389914437892455, 0.022661791281273217, 0.022083092776591706, 0.01852703462872108, 0.032799478105357084, 0.017479751767189983, 0.020144781732699256, 0.0290650479373547, 0.032842343275890834, 0.017669260518218828, 0.031106270105948325, 0.02981815251569863, 0.028524131848239112, 0.03928608296662961, 0.020437105373395683, 0.023281209197678954, 0.027375944230951875, 0.03471616723235447, 0.024836787322841607, 0.02706726656754653, 0.03481010664950364, 0.019404763866633597, 0.03155129776892594, 0.015179298938285783, 0.014805213154522231, 0.01823924763672453, 0.02601166874230626, 0.038484910720973674, 0.04122732739071613, 0.023597190406480364, 0.027080821076335842, 0.03627560963333519, 0.017038613300652244, 0.03424578228549246, 0.0387107664700059, 0.03524907152327232, 0.050645431038199476, 0.024014898625253377, 0.03697771877852982, 0.04126175418697949, 0.02064998328460131, 0.034989649231985914, 0.029612824687025262, 0.02688413064006017, 0.022992812960727575, 0.028651593311692532, 0.03825053939571464, 0.03299529502430809, 0.05062259687975399, 0.047050301765145804, 0.025024533288243247, 0.0318148526011928, 0.04189641185671837, 0.0338406405396903, 0.018311025287718434, 0.01788511942340873, 0.026954892695732244, 0.035409026161005525, 0.02592740374738463, 0.01752659649169905, 0.02396827576382929, 0.039278502335209096, 0.029030855588142158, 0.01565590079065928, 0.03423121815427152, 0.03476197315520334, 0.014127111221539927, 0.038327057368014075, 0.043688502627330685, 0.03369987321942808, 0.03751760770095169, 0.018051933336634962, 0.03951013516302018, 0.034575437937461054, 0.02555356876626274, 0.024179006493856903, 0.03194420390646867, 0.026798118601187203, 0.028271954227284568, 0.019244633302887598, 0.034455644076749906, 0.028468136754314855, 0.019160751392597212, 0.01571721571556862, 0.016093723519393026, 0.01615368635896324, 0.03873870789058535, 0.01988297751928217, 0.03603773865220704, 0.02790333680344508, 0.02515773760483597, 0.02748005844187172, 0.02389488191217989, 0.05607913713802724, 0.019928817153291166, 0.028300312128123135, 0.017264867370839772, 0.026380893114588213, 0.05078689727303289, 0.02181181901612129, 0.024304771037362623, 0.019999834486823867, 0.021362640499045814, 0.01669978219060695, 0.02222262168845474, 0.02796357527656092, 0.014287851694453171, 0.024594329838592423, 0.02029753232996622, 0.03592872035612849, 0.01780010675670347, 0.013949056801556978, 0.01544909727722271, 0.01370269072441663, 0.03689770446720766, 0.0316880261702231, 0.02326187912130692, 0.03623123556047994, 0.026089987496101145, 0.034008446045920716, 0.024573911059498094, 0.015572279209263558, 0.02322956046498375], \"xaxis\": \"x\", \"y\": [-0.0009377429870897015, -0.0018962779067769927, -0.0025692532582735437, 0.00012467595070570937, -0.0011986711440961448, 8.954073576176114e-05, -0.0024367793461910463, 2.590426632338329e-05, -0.002376170703104797, -0.0025449198302627775, 0.0034908814893126437, 0.0004738828435233274, 0.002234510058192662, 0.00010596045707991017, 0.0006122073768179824, -0.00012053843825294914, 0.0004901882564329412, -0.0009840298994616655, 0.0011532068126553796, 0.005702516734384283, -0.0002497787303978689, 0.0007992755818404765, 0.002059474828876386, 0.0005228146231005591, -0.0010658938577249475, 0.0018016706370175908, -0.0007670725193198629, -0.00024744176407360164, -0.00021762669138399187, -0.0037668750082906306, -0.0015593108170927756, -0.001332655085677474, -0.0003357797698747537, 0.000739528297531081, -6.140442812767708e-05, -0.0007898915272554131, -0.0015484217105074171, -0.0025776470110181362, -0.005330487362874576, 0.00044217972049915915, -0.003004070037324364, -6.0761837232948974e-05, 0.0009697686454303791, -0.0018940086697156343, -0.0011939009856654099, 0.00015258418170323285, 0.001389574661422696, -0.00041177993045199695, -0.0027487202171380108, -0.001733856024584198, -0.00417232502439619, -8.095306285829434e-05, 0.0008450450170000686, -0.0011937839840744787, -0.0005218601792184667, -0.0013314943502001034, -0.00020599112615118158, 0.0017747506870935913, -0.00032433328097837625, -0.001810484223222053, -0.0005898385238079243, -0.005017326726306118, -0.003397962363917928, -0.002192848780465323, 0.0003812047850162899, -0.00025310113332501914, 0.0019289080797802404, -0.00011006059350703148, -0.0021866523817679253, 0.000532183644582345, -0.0014662810325945656, -0.0007047049991255205, -0.0017818942388621829, -0.0018045137639820137, -0.0020092018481267866, 0.0019195983730066926, -0.001347639408946542, -0.0028910543981629493, -0.002576174898731918, -0.003694312015761982, -0.0016577667288581754, -0.0011392972806830914, -0.001379944267377085, -0.0037181042445429513, -0.000612779169346408, -0.0008136835352297252, -0.0009395892554575661, -0.0016678804065402566, 0.001079708674054253, 0.0009384363702411617, -0.0008072429958344654, -0.0006152094094108931, -2.0345611281877512e-05, 0.00017101943174185623, 0.00021281807759329868, 0.0024374416856891095, -0.0040374410940098885, 0.0001461901964508379, 0.0006660373808636003, -0.0013297256826041582, 0.001047621047288698, -0.0033155434697525457, -0.0019385049589281094, -0.0007342967370737161, -0.002135879944538664, -0.00425697667438123, -0.0012261888997562454, 0.001676858231075023, 0.0005586073737403916, 0.0007545085660078033, -0.0018604743301464028, -0.0014444971639120032, -0.0043127694629858495, 0.0006367972933020507, -0.0018786671599022732, -0.0014770307481612828, 0.0014951991029964855, -0.0013022931462666352, 0.0005898627270032447, 0.0019105864096245911, -0.0022804506928223115, -0.0005625628458690219, 0.00026357820730705785, -0.001986123101361359, -0.0026706651938524606, 0.002348625400606703, -0.002091187891785957, -0.001014010417744273, -0.0022040929818205857, -0.00037316820770904056, -0.005109806563560919, -0.0007812642210722098, -0.0016907470429600368, 0.00017930780261036532, -0.0018453608089980397, -0.0025554686321758386, 0.0018105949856668537, -0.0006869523046038597, -0.0014538959236570508, 0.00026074580926724734, -0.004842307251184889, -0.0015646561325482655, 0.0005516510637915212, 0.00035047467964064295, -0.002118691034153714, 0.0017975181633936217, 0.0008763729481872696, 0.0014603943019365683, -0.0022686937665029367, -0.003682036572006166, -0.0018898604721873686, -0.0007388703086219419, -0.0026501113316600507, -0.00022928103939713685, -0.003011452256052399, 0.0007049028414175085, -0.004043508395880678, 0.0014561346024344044, -0.0021710978684222346, 7.218035786554802e-05, -0.0025438200874775534, -0.003100295053402487, -0.0048775456288085665, 0.00011235618223789615, -0.00032155366874718234, -0.0037745310499113227, -0.0023972688357365287, -0.0018305464587013076, 0.0012122214024809408, -0.001796397115440571, -0.0015473944507947755, -0.0017068976635672198, -0.0009902175008178872, 0.0011953155945352363, -0.003216649137075457, -4.662576632011442e-05, -0.00010061153925979256, -0.0030919601683875, -0.0029762911946190555, -0.0007428582316020428, -0.0018690269789003765, -0.004598002065498847, -0.0018953102809680755, -0.005317894448816419, -0.0013096775778489043, -0.002565196123013325, 0.0018170252793052496, -0.0009851938049245704, 0.0012916054160422169, 0.003233711486618544, -0.0012565388829941623, -0.0009862278310053118, -0.0004844225228484156, 0.0013529631514039124, -0.001753395095165665, -0.0006399075223264587, -0.0012003467669176602, -8.108613910692704e-05, -0.0011009903954707484, -0.001186336861660993, -0.0016123430475193034, -0.004631805927881295, -0.0029979838050507874, -0.002620631987406953, 0.00019981836887429365, -0.0003857407729861392, -0.00269970899389675, 0.0005348746212354887, -0.0009197261637337533, 0.00038155882785406166, 0.0019032594685241444, -0.006167885382303467, 0.0008258192100897907, 0.0001368528035176665, 0.00035443084495316964, -0.003504630106911867, -0.00013116842189674367, -0.0010287993060013464, -0.0016345383228600033, -0.00036740986379321704, -0.0019497112638500107, -0.0003170455182298146, -0.005369867207858746, -0.0005465325659009394, 0.00031881343335242836, 0.0013220255404943987, 0.00040917557803454667, -0.0014046797116180657, -0.0015609953471427403, -0.000741362900288964, -0.0010935312326740896, -0.0010606500731821325, -0.0013170298670424966, -0.001830820581209636, 0.0006772673913921159, 0.00029230779292948147], \"yaxis\": \"y\"}, {\"marker\": {\"color\": \"Blue\", \"size\": 20}, \"mode\": \"markers\", \"name\": \"UNIFORM\", \"text\": [\"Uniform Portfolio\"], \"type\": \"scatter\", \"x\": [0.027694780249859798], \"xaxis\": \"x\", \"y\": [-0.0009413687195844739], \"yaxis\": \"y\"}],                        {\"coloraxis\": {\"colorbar\": {\"title\": {\"text\": \"color\"}}, \"colorscale\": [[0.0, \"rgb(165,0,38)\"], [0.1, \"rgb(215,48,39)\"], [0.2, \"rgb(244,109,67)\"], [0.3, \"rgb(253,174,97)\"], [0.4, \"rgb(254,224,139)\"], [0.5, \"rgb(255,255,191)\"], [0.6, \"rgb(217,239,139)\"], [0.7, \"rgb(166,217,106)\"], [0.8, \"rgb(102,189,99)\"], [0.9, \"rgb(26,152,80)\"], [1.0, \"rgb(0,104,55)\"]]}, \"legend\": {\"font\": {\"family\": \"Courier\", \"size\": 10}, \"itemsizing\": \"constant\", \"tracegroupgap\": 0, \"traceorder\": \"normal\", \"x\": 0.89, \"y\": 1}, \"margin\": {\"t\": 60}, \"template\": {\"data\": {\"bar\": [{\"error_x\": {\"color\": \"#2a3f5f\"}, \"error_y\": {\"color\": \"#2a3f5f\"}, \"marker\": {\"line\": {\"color\": \"#E5ECF6\", \"width\": 0.5}}, \"type\": \"bar\"}], \"barpolar\": [{\"marker\": {\"line\": {\"color\": \"#E5ECF6\", \"width\": 0.5}}, \"type\": \"barpolar\"}], \"carpet\": [{\"aaxis\": {\"endlinecolor\": \"#2a3f5f\", \"gridcolor\": \"white\", \"linecolor\": \"white\", \"minorgridcolor\": \"white\", \"startlinecolor\": \"#2a3f5f\"}, \"baxis\": {\"endlinecolor\": \"#2a3f5f\", \"gridcolor\": \"white\", \"linecolor\": \"white\", \"minorgridcolor\": \"white\", \"startlinecolor\": \"#2a3f5f\"}, \"type\": \"carpet\"}], \"choropleth\": [{\"colorbar\": {\"outlinewidth\": 0, \"ticks\": \"\"}, \"type\": \"choropleth\"}], \"contour\": [{\"colorbar\": {\"outlinewidth\": 0, \"ticks\": \"\"}, \"colorscale\": [[0.0, \"#0d0887\"], [0.1111111111111111, \"#46039f\"], [0.2222222222222222, \"#7201a8\"], [0.3333333333333333, \"#9c179e\"], [0.4444444444444444, \"#bd3786\"], [0.5555555555555556, \"#d8576b\"], [0.6666666666666666, \"#ed7953\"], [0.7777777777777778, \"#fb9f3a\"], [0.8888888888888888, \"#fdca26\"], [1.0, \"#f0f921\"]], \"type\": \"contour\"}], \"contourcarpet\": [{\"colorbar\": {\"outlinewidth\": 0, \"ticks\": \"\"}, \"type\": \"contourcarpet\"}], \"heatmap\": [{\"colorbar\": {\"outlinewidth\": 0, \"ticks\": \"\"}, \"colorscale\": [[0.0, \"#0d0887\"], [0.1111111111111111, \"#46039f\"], [0.2222222222222222, \"#7201a8\"], [0.3333333333333333, \"#9c179e\"], [0.4444444444444444, \"#bd3786\"], [0.5555555555555556, \"#d8576b\"], [0.6666666666666666, \"#ed7953\"], [0.7777777777777778, \"#fb9f3a\"], [0.8888888888888888, \"#fdca26\"], [1.0, \"#f0f921\"]], \"type\": \"heatmap\"}], \"heatmapgl\": [{\"colorbar\": {\"outlinewidth\": 0, \"ticks\": \"\"}, \"colorscale\": [[0.0, \"#0d0887\"], [0.1111111111111111, \"#46039f\"], [0.2222222222222222, \"#7201a8\"], [0.3333333333333333, \"#9c179e\"], [0.4444444444444444, \"#bd3786\"], [0.5555555555555556, \"#d8576b\"], [0.6666666666666666, \"#ed7953\"], [0.7777777777777778, \"#fb9f3a\"], [0.8888888888888888, \"#fdca26\"], [1.0, \"#f0f921\"]], \"type\": \"heatmapgl\"}], \"histogram\": [{\"marker\": {\"colorbar\": {\"outlinewidth\": 0, \"ticks\": \"\"}}, \"type\": \"histogram\"}], \"histogram2d\": [{\"colorbar\": {\"outlinewidth\": 0, \"ticks\": \"\"}, \"colorscale\": [[0.0, \"#0d0887\"], [0.1111111111111111, \"#46039f\"], [0.2222222222222222, \"#7201a8\"], [0.3333333333333333, \"#9c179e\"], [0.4444444444444444, \"#bd3786\"], [0.5555555555555556, \"#d8576b\"], [0.6666666666666666, \"#ed7953\"], [0.7777777777777778, \"#fb9f3a\"], [0.8888888888888888, \"#fdca26\"], [1.0, \"#f0f921\"]], \"type\": \"histogram2d\"}], \"histogram2dcontour\": [{\"colorbar\": {\"outlinewidth\": 0, \"ticks\": \"\"}, \"colorscale\": [[0.0, \"#0d0887\"], [0.1111111111111111, \"#46039f\"], [0.2222222222222222, \"#7201a8\"], [0.3333333333333333, \"#9c179e\"], [0.4444444444444444, \"#bd3786\"], [0.5555555555555556, \"#d8576b\"], [0.6666666666666666, \"#ed7953\"], [0.7777777777777778, \"#fb9f3a\"], [0.8888888888888888, \"#fdca26\"], [1.0, \"#f0f921\"]], \"type\": \"histogram2dcontour\"}], \"mesh3d\": [{\"colorbar\": {\"outlinewidth\": 0, \"ticks\": \"\"}, \"type\": \"mesh3d\"}], \"parcoords\": [{\"line\": {\"colorbar\": {\"outlinewidth\": 0, \"ticks\": \"\"}}, \"type\": \"parcoords\"}], \"pie\": [{\"automargin\": true, \"type\": \"pie\"}], \"scatter\": [{\"marker\": {\"colorbar\": {\"outlinewidth\": 0, \"ticks\": \"\"}}, \"type\": \"scatter\"}], \"scatter3d\": [{\"line\": {\"colorbar\": {\"outlinewidth\": 0, \"ticks\": \"\"}}, \"marker\": {\"colorbar\": {\"outlinewidth\": 0, \"ticks\": \"\"}}, \"type\": \"scatter3d\"}], \"scattercarpet\": [{\"marker\": {\"colorbar\": {\"outlinewidth\": 0, \"ticks\": \"\"}}, \"type\": \"scattercarpet\"}], \"scattergeo\": [{\"marker\": {\"colorbar\": {\"outlinewidth\": 0, \"ticks\": \"\"}}, \"type\": \"scattergeo\"}], \"scattergl\": [{\"marker\": {\"colorbar\": {\"outlinewidth\": 0, \"ticks\": \"\"}}, \"type\": \"scattergl\"}], \"scattermapbox\": [{\"marker\": {\"colorbar\": {\"outlinewidth\": 0, \"ticks\": \"\"}}, \"type\": \"scattermapbox\"}], \"scatterpolar\": [{\"marker\": {\"colorbar\": {\"outlinewidth\": 0, \"ticks\": \"\"}}, \"type\": \"scatterpolar\"}], \"scatterpolargl\": [{\"marker\": {\"colorbar\": {\"outlinewidth\": 0, \"ticks\": \"\"}}, \"type\": \"scatterpolargl\"}], \"scatterternary\": [{\"marker\": {\"colorbar\": {\"outlinewidth\": 0, \"ticks\": \"\"}}, \"type\": \"scatterternary\"}], \"surface\": [{\"colorbar\": {\"outlinewidth\": 0, \"ticks\": \"\"}, \"colorscale\": [[0.0, \"#0d0887\"], [0.1111111111111111, \"#46039f\"], [0.2222222222222222, \"#7201a8\"], [0.3333333333333333, \"#9c179e\"], [0.4444444444444444, \"#bd3786\"], [0.5555555555555556, \"#d8576b\"], [0.6666666666666666, \"#ed7953\"], [0.7777777777777778, \"#fb9f3a\"], [0.8888888888888888, \"#fdca26\"], [1.0, \"#f0f921\"]], \"type\": \"surface\"}], \"table\": [{\"cells\": {\"fill\": {\"color\": \"#EBF0F8\"}, \"line\": {\"color\": \"white\"}}, \"header\": {\"fill\": {\"color\": \"#C8D4E3\"}, \"line\": {\"color\": \"white\"}}, \"type\": \"table\"}]}, \"layout\": {\"annotationdefaults\": {\"arrowcolor\": \"#2a3f5f\", \"arrowhead\": 0, \"arrowwidth\": 1}, \"autotypenumbers\": \"strict\", \"coloraxis\": {\"colorbar\": {\"outlinewidth\": 0, \"ticks\": \"\"}}, \"colorscale\": {\"diverging\": [[0, \"#8e0152\"], [0.1, \"#c51b7d\"], [0.2, \"#de77ae\"], [0.3, \"#f1b6da\"], [0.4, \"#fde0ef\"], [0.5, \"#f7f7f7\"], [0.6, \"#e6f5d0\"], [0.7, \"#b8e186\"], [0.8, \"#7fbc41\"], [0.9, \"#4d9221\"], [1, \"#276419\"]], \"sequential\": [[0.0, \"#0d0887\"], [0.1111111111111111, \"#46039f\"], [0.2222222222222222, \"#7201a8\"], [0.3333333333333333, \"#9c179e\"], [0.4444444444444444, \"#bd3786\"], [0.5555555555555556, \"#d8576b\"], [0.6666666666666666, \"#ed7953\"], [0.7777777777777778, \"#fb9f3a\"], [0.8888888888888888, \"#fdca26\"], [1.0, \"#f0f921\"]], \"sequentialminus\": [[0.0, \"#0d0887\"], [0.1111111111111111, \"#46039f\"], [0.2222222222222222, \"#7201a8\"], [0.3333333333333333, \"#9c179e\"], [0.4444444444444444, \"#bd3786\"], [0.5555555555555556, \"#d8576b\"], [0.6666666666666666, \"#ed7953\"], [0.7777777777777778, \"#fb9f3a\"], [0.8888888888888888, \"#fdca26\"], [1.0, \"#f0f921\"]]}, \"colorway\": [\"#636efa\", \"#EF553B\", \"#00cc96\", \"#ab63fa\", \"#FFA15A\", \"#19d3f3\", \"#FF6692\", \"#B6E880\", \"#FF97FF\", \"#FECB52\"], \"font\": {\"color\": \"#2a3f5f\"}, \"geo\": {\"bgcolor\": \"white\", \"lakecolor\": \"white\", \"landcolor\": \"#E5ECF6\", \"showlakes\": true, \"showland\": true, \"subunitcolor\": \"white\"}, \"hoverlabel\": {\"align\": \"left\"}, \"hovermode\": \"closest\", \"mapbox\": {\"style\": \"light\"}, \"paper_bgcolor\": \"white\", \"plot_bgcolor\": \"#E5ECF6\", \"polar\": {\"angularaxis\": {\"gridcolor\": \"white\", \"linecolor\": \"white\", \"ticks\": \"\"}, \"bgcolor\": \"#E5ECF6\", \"radialaxis\": {\"gridcolor\": \"white\", \"linecolor\": \"white\", \"ticks\": \"\"}}, \"scene\": {\"xaxis\": {\"backgroundcolor\": \"#E5ECF6\", \"gridcolor\": \"white\", \"gridwidth\": 2, \"linecolor\": \"white\", \"showbackground\": true, \"ticks\": \"\", \"zerolinecolor\": \"white\"}, \"yaxis\": {\"backgroundcolor\": \"#E5ECF6\", \"gridcolor\": \"white\", \"gridwidth\": 2, \"linecolor\": \"white\", \"showbackground\": true, \"ticks\": \"\", \"zerolinecolor\": \"white\"}, \"zaxis\": {\"backgroundcolor\": \"#E5ECF6\", \"gridcolor\": \"white\", \"gridwidth\": 2, \"linecolor\": \"white\", \"showbackground\": true, \"ticks\": \"\", \"zerolinecolor\": \"white\"}}, \"shapedefaults\": {\"line\": {\"color\": \"#2a3f5f\"}}, \"ternary\": {\"aaxis\": {\"gridcolor\": \"white\", \"linecolor\": \"white\", \"ticks\": \"\"}, \"baxis\": {\"gridcolor\": \"white\", \"linecolor\": \"white\", \"ticks\": \"\"}, \"bgcolor\": \"#E5ECF6\", \"caxis\": {\"gridcolor\": \"white\", \"linecolor\": \"white\", \"ticks\": \"\"}}, \"title\": {\"x\": 0.05}, \"xaxis\": {\"automargin\": true, \"gridcolor\": \"white\", \"linecolor\": \"white\", \"ticks\": \"\", \"title\": {\"standoff\": 15}, \"zerolinecolor\": \"white\", \"zerolinewidth\": 2}, \"yaxis\": {\"automargin\": true, \"gridcolor\": \"white\", \"linecolor\": \"white\", \"ticks\": \"\", \"title\": {\"standoff\": 15}, \"zerolinecolor\": \"white\", \"zerolinewidth\": 2}}}, \"xaxis\": {\"anchor\": \"y\", \"domain\": [0.0, 1.0], \"title\": {\"text\": \"logret_std\"}}, \"yaxis\": {\"anchor\": \"x\", \"domain\": [0.0, 1.0], \"title\": {\"text\": \"logret_mean\"}}},                        {\"responsive\": true}                    ).then(function(){\n",
       "                            \n",
       "var gd = document.getElementById('b726f972-e5c9-40ce-a7ae-bc0dc1192072');\n",
       "var x = new MutationObserver(function (mutations, observer) {{\n",
       "        var display = window.getComputedStyle(gd).display;\n",
       "        if (!display || display === 'none') {{\n",
       "            console.log([gd, 'removed!']);\n",
       "            Plotly.purge(gd);\n",
       "            observer.disconnect();\n",
       "        }}\n",
       "}});\n",
       "\n",
       "// Listen for the removal of the full notebook cells\n",
       "var notebookContainer = gd.closest('#notebook-container');\n",
       "if (notebookContainer) {{\n",
       "    x.observe(notebookContainer, {childList: true});\n",
       "}}\n",
       "\n",
       "// Listen for the clearing of the current output cell\n",
       "var outputEl = gd.closest('.output');\n",
       "if (outputEl) {{\n",
       "    x.observe(outputEl, {childList: true});\n",
       "}}\n",
       "\n",
       "                        })                };                });            </script>        </div>"
      ]
     },
     "metadata": {},
     "output_type": "display_data"
    }
   ],
   "source": [
    "import plotly.graph_objects as go\n",
    "\n",
    "uniform_logret_mean = estims['logret_mean'].mean()\n",
    "uniform_logret_std = estims['logret_std'].mean()\n",
    "fig.add_scatter(x=[uniform_logret_std], y=[uniform_logret_mean], text=['Uniform Portfolio'], mode=\"markers\",\n",
    "                marker=dict(size=20, color=\"Blue\"), name='UNIFORM', secondary_y=False,)\n",
    "\n",
    "fig.update_layout(\n",
    "    legend = dict(\n",
    "        x=0.89,\n",
    "        y=1,\n",
    "        traceorder=\"normal\",\n",
    "        font = dict(family = \"Courier\", size = 10)\n",
    "    )\n",
    ")\n",
    "fig.show()"
   ]
  },
  {
   "cell_type": "markdown",
   "metadata": {},
   "source": [
    "## 4 - NIFTY 50 Index"
   ]
  },
  {
   "cell_type": "code",
   "execution_count": 597,
   "metadata": {},
   "outputs": [
    {
     "data": {
      "text/html": [
       "<div>\n",
       "<style scoped>\n",
       "    .dataframe tbody tr th:only-of-type {\n",
       "        vertical-align: middle;\n",
       "    }\n",
       "\n",
       "    .dataframe tbody tr th {\n",
       "        vertical-align: top;\n",
       "    }\n",
       "\n",
       "    .dataframe thead th {\n",
       "        text-align: right;\n",
       "    }\n",
       "</style>\n",
       "<table border=\"1\" class=\"dataframe\">\n",
       "  <thead>\n",
       "    <tr style=\"text-align: right;\">\n",
       "      <th></th>\n",
       "      <th>Date</th>\n",
       "      <th>Open</th>\n",
       "      <th>High</th>\n",
       "      <th>Low</th>\n",
       "      <th>Close</th>\n",
       "      <th>Volume</th>\n",
       "      <th>Turnover</th>\n",
       "    </tr>\n",
       "  </thead>\n",
       "  <tbody>\n",
       "    <tr>\n",
       "      <th>0</th>\n",
       "      <td>1990-07-03</td>\n",
       "      <td>0.00</td>\n",
       "      <td>0.00</td>\n",
       "      <td>0.00</td>\n",
       "      <td>279.02</td>\n",
       "      <td>NaN</td>\n",
       "      <td>NaN</td>\n",
       "    </tr>\n",
       "    <tr>\n",
       "      <th>1</th>\n",
       "      <td>1990-07-05</td>\n",
       "      <td>0.00</td>\n",
       "      <td>0.00</td>\n",
       "      <td>0.00</td>\n",
       "      <td>284.04</td>\n",
       "      <td>NaN</td>\n",
       "      <td>NaN</td>\n",
       "    </tr>\n",
       "    <tr>\n",
       "      <th>2</th>\n",
       "      <td>1990-07-06</td>\n",
       "      <td>0.00</td>\n",
       "      <td>0.00</td>\n",
       "      <td>0.00</td>\n",
       "      <td>289.04</td>\n",
       "      <td>NaN</td>\n",
       "      <td>NaN</td>\n",
       "    </tr>\n",
       "    <tr>\n",
       "      <th>3</th>\n",
       "      <td>1990-07-09</td>\n",
       "      <td>0.00</td>\n",
       "      <td>0.00</td>\n",
       "      <td>0.00</td>\n",
       "      <td>289.69</td>\n",
       "      <td>NaN</td>\n",
       "      <td>NaN</td>\n",
       "    </tr>\n",
       "    <tr>\n",
       "      <th>4</th>\n",
       "      <td>1990-07-10</td>\n",
       "      <td>0.00</td>\n",
       "      <td>0.00</td>\n",
       "      <td>0.00</td>\n",
       "      <td>288.69</td>\n",
       "      <td>NaN</td>\n",
       "      <td>NaN</td>\n",
       "    </tr>\n",
       "    <tr>\n",
       "      <th>...</th>\n",
       "      <td>...</td>\n",
       "      <td>...</td>\n",
       "      <td>...</td>\n",
       "      <td>...</td>\n",
       "      <td>...</td>\n",
       "      <td>...</td>\n",
       "      <td>...</td>\n",
       "    </tr>\n",
       "    <tr>\n",
       "      <th>7505</th>\n",
       "      <td>2021-06-25</td>\n",
       "      <td>15839.35</td>\n",
       "      <td>15870.80</td>\n",
       "      <td>15772.30</td>\n",
       "      <td>15860.35</td>\n",
       "      <td>314614380.0</td>\n",
       "      <td>2.693322e+11</td>\n",
       "    </tr>\n",
       "    <tr>\n",
       "      <th>7506</th>\n",
       "      <td>2021-06-28</td>\n",
       "      <td>15915.35</td>\n",
       "      <td>15915.65</td>\n",
       "      <td>15792.15</td>\n",
       "      <td>15814.70</td>\n",
       "      <td>255099272.0</td>\n",
       "      <td>1.871341e+11</td>\n",
       "    </tr>\n",
       "    <tr>\n",
       "      <th>7507</th>\n",
       "      <td>2021-06-29</td>\n",
       "      <td>15807.50</td>\n",
       "      <td>15835.90</td>\n",
       "      <td>15724.05</td>\n",
       "      <td>15748.45</td>\n",
       "      <td>360334724.0</td>\n",
       "      <td>2.439213e+11</td>\n",
       "    </tr>\n",
       "    <tr>\n",
       "      <th>7508</th>\n",
       "      <td>2021-06-30</td>\n",
       "      <td>15776.90</td>\n",
       "      <td>15839.10</td>\n",
       "      <td>15708.75</td>\n",
       "      <td>15721.50</td>\n",
       "      <td>262386323.0</td>\n",
       "      <td>2.037976e+11</td>\n",
       "    </tr>\n",
       "    <tr>\n",
       "      <th>7509</th>\n",
       "      <td>2021-07-01</td>\n",
       "      <td>15755.05</td>\n",
       "      <td>15755.55</td>\n",
       "      <td>15667.05</td>\n",
       "      <td>15680.00</td>\n",
       "      <td>224921644.0</td>\n",
       "      <td>1.735997e+11</td>\n",
       "    </tr>\n",
       "  </tbody>\n",
       "</table>\n",
       "<p>7510 rows × 7 columns</p>\n",
       "</div>"
      ],
      "text/plain": [
       "            Date      Open      High       Low     Close       Volume  \\\n",
       "0     1990-07-03      0.00      0.00      0.00    279.02          NaN   \n",
       "1     1990-07-05      0.00      0.00      0.00    284.04          NaN   \n",
       "2     1990-07-06      0.00      0.00      0.00    289.04          NaN   \n",
       "3     1990-07-09      0.00      0.00      0.00    289.69          NaN   \n",
       "4     1990-07-10      0.00      0.00      0.00    288.69          NaN   \n",
       "...          ...       ...       ...       ...       ...          ...   \n",
       "7505  2021-06-25  15839.35  15870.80  15772.30  15860.35  314614380.0   \n",
       "7506  2021-06-28  15915.35  15915.65  15792.15  15814.70  255099272.0   \n",
       "7507  2021-06-29  15807.50  15835.90  15724.05  15748.45  360334724.0   \n",
       "7508  2021-06-30  15776.90  15839.10  15708.75  15721.50  262386323.0   \n",
       "7509  2021-07-01  15755.05  15755.55  15667.05  15680.00  224921644.0   \n",
       "\n",
       "          Turnover  \n",
       "0              NaN  \n",
       "1              NaN  \n",
       "2              NaN  \n",
       "3              NaN  \n",
       "4              NaN  \n",
       "...            ...  \n",
       "7505  2.693322e+11  \n",
       "7506  1.871341e+11  \n",
       "7507  2.439213e+11  \n",
       "7508  2.037976e+11  \n",
       "7509  1.735997e+11  \n",
       "\n",
       "[7510 rows x 7 columns]"
      ]
     },
     "execution_count": 597,
     "metadata": {},
     "output_type": "execute_result"
    }
   ],
   "source": [
    "index = pd.read_csv(f'{INDEX_PATH}/NIFTY 50.csv')\n",
    "index"
   ]
  },
  {
   "cell_type": "code",
   "execution_count": 598,
   "metadata": {},
   "outputs": [
    {
     "data": {
      "application/vnd.plotly.v1+json": {
       "config": {
        "plotlyServerURL": "https://plot.ly"
       },
       "data": [
        {
         "hovertemplate": "<b>%{hovertext}</b><br><br>logret_std=%{x}<br>logret_mean=%{y}<br>size=%{marker.size}<br>color=%{marker.color}<extra></extra>",
         "hovertext": [
          "20MICRONS",
          "21STCENMGM",
          "3IINFOTECH",
          "3MINDIA",
          "5PAISA",
          "63MOONS",
          "A2ZINFRA",
          "AARTIDRUGS",
          "AARTIIND",
          "AARVEEDEN",
          "AAVAS",
          "ABB",
          "ABBOTINDIA",
          "ABCAPITAL",
          "ABFRL",
          "ACC",
          "ACCELYA",
          "ACE",
          "ADANIENT",
          "ADANIGREEN",
          "ADANIPORTS",
          "ADANIPOWER",
          "ADANITRANS",
          "ADFFOODS",
          "ADORWELD",
          "ADSL",
          "ADVANIHOTR",
          "ADVENZYMES",
          "AEGISCHEM",
          "AGARIND",
          "AGRITECH",
          "AHLEAST",
          "AHLUCONT",
          "AHLWEST",
          "AIAENG",
          "AJANTPHARM",
          "AJMERA",
          "AKSHARCHEM",
          "AKSHOPTFBR",
          "AKZOINDIA",
          "ALANKIT",
          "ALBERTDAVD",
          "ALEMBICLTD",
          "ALICON",
          "ALKALI",
          "ALKEM",
          "ALKYLAMINE",
          "ALLCARGO",
          "ALMONDZ",
          "ALPA",
          "ALPHAGEO",
          "AMARAJABAT",
          "AMBER",
          "AMBIKCO",
          "AMBUJACEM",
          "AMDIND",
          "AMJLAND",
          "AMRUTANJAN",
          "ANANTRAJ",
          "ANDHRAPAP",
          "ANDHRSUGAR",
          "ANIKINDS",
          "ANSALAPI",
          "APARINDS",
          "APCL",
          "APEX",
          "APLAPOLLO",
          "APLLTD",
          "APOLLO",
          "APOLLOHOSP",
          "APOLLOTYRE",
          "APTECHT",
          "ARCHIDPLY",
          "ARIES",
          "ARIHANT",
          "ARMANFIN",
          "AROGRANITE",
          "ARSHIYA",
          "ARSSINFRA",
          "ARVIND",
          "ARVSMART",
          "ASAHIINDIA",
          "ASAHISONG",
          "ASAL",
          "ASHIANA",
          "ASHOKA",
          "ASHOKLEY",
          "ASIANHOTNR",
          "ASIANPAINT",
          "ASIANTILES",
          "ASPINWALL",
          "ASTEC",
          "ASTERDM",
          "ASTRAL",
          "ASTRAMICRO",
          "ASTRAZEN",
          "ASTRON",
          "ATFL",
          "ATUL",
          "ATULAUTO",
          "AUBANK",
          "AURIONPRO",
          "AUROPHARMA",
          "AUSOMENT",
          "AUTOAXLES",
          "AUTOIND",
          "AVADHSUGAR",
          "AVANTIFEED",
          "AVTNPL",
          "AXISBANK",
          "AXISCADES",
          "AYMSYNTEX",
          "BAGFILMS",
          "BAJAJ-AUTO",
          "BAJAJCON",
          "BAJAJELEC",
          "BAJAJFINSV",
          "BAJAJHIND",
          "BAJAJHLDNG",
          "BAJFINANCE",
          "BALAJITELE",
          "BALAMINES",
          "BALKRISIND",
          "BALMLAWRIE",
          "BALPHARMA",
          "BALRAMCHIN",
          "BANARBEADS",
          "BANARISUG",
          "BANCOINDIA",
          "BANDHANBNK",
          "BANG",
          "BANKBARODA",
          "BANKINDIA",
          "BANSWRAS",
          "BASF",
          "BASML",
          "BATAINDIA",
          "BAYERCROP",
          "BBL",
          "BDL",
          "BEARDSELL",
          "BEDMUTHA",
          "BEL",
          "BEML",
          "BEPL",
          "BERGEPAINT",
          "BFINVEST",
          "BFUTILITIE",
          "BGRENERGY",
          "BHAGERIA",
          "BHAGYANGR",
          "BHAGYAPROP",
          "BHANDARI",
          "BHARATFORG",
          "BHARATGEAR",
          "BHARATRAS",
          "BHARATWIRE",
          "BHARTIARTL",
          "BHEL",
          "BIGBLOC",
          "BINDALAGRO",
          "BIOCON",
          "BIRLACABLE",
          "BIRLACORPN",
          "BLISSGVS",
          "BLKASHYAP",
          "BLS",
          "BLUEDART",
          "BLUESTARCO",
          "BODALCHEM",
          "BOMDYEING",
          "BORORENEW",
          "BOSCHLTD",
          "BPCL",
          "BPL",
          "BRIGADE",
          "BRITANNIA",
          "BRNL",
          "BROOKS",
          "BSE",
          "BSL",
          "BSOFT",
          "BUTTERFLY",
          "BYKE",
          "CADILAHC",
          "CALSOFT",
          "CAMLINFINE",
          "CANBK",
          "CANFINHOME",
          "CANTABIL",
          "CAPACITE",
          "CAPLIPOINT",
          "CARBORUNIV",
          "CAREERP",
          "CARERATING",
          "CASTROLIND",
          "CCL",
          "CDSL",
          "CEATLTD",
          "CELEBRITY",
          "CENTENKA",
          "CENTEXT",
          "CENTRALBK",
          "CENTRUM",
          "CENTUM",
          "CENTURYPLY",
          "CENTURYTEX",
          "CERA",
          "CEREBRAINT",
          "CESC",
          "CGCL",
          "CGPOWER",
          "CHALET",
          "CHAMBLFERT",
          "CHEMFAB",
          "CHENNPETRO",
          "CHOLAHLDNG",
          "CIGNITITEC",
          "CINELINE",
          "CIPLA",
          "CLEDUCATE",
          "CLNINDIA",
          "CMICABLES",
          "COALINDIA",
          "COCHINSHIP",
          "COFORGE",
          "COLPAL",
          "COMPINFO",
          "COMPUSOFT",
          "CONCOR",
          "CONSOFINVT",
          "CONTROLPR",
          "CORALFINAC",
          "CORDSCABLE",
          "COROMANDEL",
          "COSMOFILMS"
         ],
         "legendgroup": "",
         "marker": {
          "color": [
           -0.03938435912843298,
           -0.1271609953174884,
           -0.06490168589844397,
           0.006572759270715581,
           -0.027715533375169653,
           0.002324630833619448,
           -0.06805878003683491,
           0.0014527608980379214,
           -0.04850448089570391,
           -0.06784088879447138,
           0.16846970014311852,
           0.026557575350622746,
           0.14490383088434092,
           0.0045586439998078635,
           0.03044225014452549,
           -0.006965616351205776,
           0.022396441817612026,
           -0.034090682725271486,
           0.03875137499380318,
           0.1600883586424559,
           -0.011880058701667936,
           0.023256904784348796,
           0.08341768739138795,
           0.02368953807190866,
           -0.048721984027430894,
           0.03968887258747493,
           -0.029856109047189792,
           -0.009771957988652486,
           -0.00925185356148443,
           -0.10997180634697766,
           -0.039787183458724305,
           -0.06222269458663886,
           -0.01650227769149663,
           0.021662214990188007,
           -0.0035864876734728857,
           -0.043556970692389625,
           -0.054389188774724824,
           -0.07334232316915607,
           -0.13409311006832988,
           0.027702354653625114,
           -0.07375891896385421,
           -0.00253258576551526,
           0.03823096413872631,
           -0.07847827836775992,
           -0.033053407104661696,
           0.011802044493485268,
           0.06356093392427763,
           -0.01990411814705727,
           -0.0760516831972584,
           -0.0432087604440267,
           -0.11375462592723848,
           -0.004704566549032976,
           0.041443529089666586,
           -0.10624093860780306,
           -0.02773833272474815,
           -0.03143713878937782,
           -0.0071763633379877305,
           0.06822164494694397,
           -0.013145126613205415,
           -0.08757979933255552,
           -0.029008708006541005,
           -0.15763648047137413,
           -0.08479399024207977,
           -0.10614333769502063,
           0.012869290257880762,
           -0.0072381833897779465,
           0.0895434752172462,
           -0.006699373073627527,
           -0.056334624110425384,
           0.02632912811659436,
           -0.07232916918867853,
           -0.023792457451037006,
           -0.05714025680610719,
           -0.054303514685002094,
           -0.04533621009637024,
           0.0730998637247797,
           -0.04944957435460706,
           -0.07018269803062333,
           -0.05459966718482048,
           -0.11918021573911518,
           -0.0785057955674046,
           -0.05909423176043971,
           -0.04277925444205699,
           -0.09636465307259146,
           -0.0291946340538701,
           -0.029627063147079965,
           -0.03495997205009412,
           -0.06271803039618158,
           0.07791260296740393,
           0.03625542511065172,
           -0.031003447402667743,
           -0.023861976036250836,
           -0.0008693926252848967,
           0.0073572548167066916,
           0.008868793047130953,
           0.09427576020944817,
           -0.11785230680918926,
           0.008193739086146045,
           0.0490444873202375,
           -0.06462462293967819,
           0.0550386794751228,
           -0.11178456873761493,
           -0.08000275907335253,
           -0.01656049412291443,
           -0.08143789128719865,
           -0.12235790935532695,
           -0.022951091052404143,
           0.05687617548369675,
           0.021247334054540077,
           0.04547336753276384,
           -0.05229790849240526,
           -0.047932061500660574,
           -0.11325885964204353,
           0.04581557511321593,
           -0.08290020575093406,
           -0.0668851398263811,
           0.08070363838358621,
           -0.03970469109549441,
           0.03374548648399199,
           0.09484274562892403,
           -0.07846024192829397,
           -0.01712919328390287,
           0.014917330979147745,
           -0.06384960635256494,
           -0.08956507927331887,
           0.08233819045229562,
           -0.05322973770539186,
           -0.04961614667135184,
           -0.09467261614746048,
           -0.013631245174993013,
           -0.14718809623657783,
           -0.03145592909891795,
           -0.0624646392993089,
           0.005151027097267514,
           -0.0950983388244744,
           -0.08099408939979177,
           0.11928054075673447,
           -0.04639935254117102,
           -0.07971249432074418,
           0.010024186139321448,
           -0.1258235282470308,
           -0.037951917613282066,
           0.02337782821975384,
           0.01294180404104881,
           -0.058405387409582205,
           0.10549674035532058,
           0.025590682697253713,
           0.03772579142983695,
           -0.06436180212591099,
           -0.07270224572141519,
           -0.07869533416227065,
           -0.019981500563819216,
           -0.06422682175970881,
           -0.011103207021388325,
           -0.08606694614416051,
           0.02380397172061599,
           -0.15040502704057787,
           0.06332998945894644,
           -0.07577581619295927,
           0.0018870415687166668,
           -0.07709644922415411,
           -0.0612433032775215,
           -0.10366661733978044,
           0.0044898412667173345,
           -0.010107029970496442,
           -0.09009198837408439,
           -0.07083993675961513,
           -0.09996963195332875,
           0.06777821124830394,
           -0.06664456563483162,
           -0.04370056504120568,
           -0.0658337286755678,
           -0.056497991568806534,
           0.049870737733212184,
           -0.08189337540479656,
           -0.001606076203250414,
           -0.006426429280889416,
           -0.0903257416797968,
           -0.08561916728174994,
           -0.052583873656306325,
           -0.0487652094173078,
           -0.10524512832862405,
           -0.05624087273644173,
           -0.1417439643594739,
           -0.0725505436689719,
           -0.0649250151240748,
           0.05255248776868211,
           -0.038554059275872216,
           0.053418465161931765,
           0.10122999139645865,
           -0.046889070896883614,
           -0.03488361020525166,
           -0.025171824020971574,
           0.03926680773664218,
           -0.06159149474016443,
           -0.03339678644198098,
           -0.0763714635365513,
           -0.005038370331714584,
           -0.06815722250666571,
           -0.030624068954796187,
           -0.0810916295587862,
           -0.1285265419282248,
           -0.10744176677395235,
           -0.10416803086868986,
           0.007271395339168122,
           -0.01614323830533418,
           -0.048141058006152496,
           0.02683925579332019,
           -0.03249879929132602,
           0.022100304604627984,
           0.07214537658968309,
           -0.12144639096861161,
           0.03786108849882814,
           0.005630697088538249,
           0.01772168890630935,
           -0.16405416301736694,
           -0.007854498962897933,
           -0.04629513656959007,
           -0.05845240841681908,
           -0.02571484304640794,
           -0.07927482784225343,
           -0.015619904581294598,
           -0.14945890514975685,
           -0.030703892587336124,
           0.02285555488718368,
           0.0855729960638878,
           0.029860965722990632,
           -0.03806956914803348,
           -0.049261362596626196,
           -0.03187029286941424,
           -0.030182002235300088,
           -0.04065352937944622,
           -0.038726552376552155,
           -0.0745026128228784,
           0.04349186026597999,
           0.012583440542067352
          ],
          "coloraxis": "coloraxis",
          "size": [
           0.7400132117705699,
           0.21898992915958795,
           0.5885478340300415,
           1.0128048078861147,
           0.809276858250325,
           0.9875888287902462,
           0.5698080004830659,
           0.9824135958858079,
           0.6858781254047533,
           0.5711013561557977,
           1.9737903188407144,
           1.1314303890020643,
           1.8339083742610192,
           1.0008494517051716,
           1.15448898523986,
           0.9324439144410608,
           1.106730792994736,
           0.7714353393024904,
           1.2038101678751882,
           1.9240404736546513,
           0.9032728388928332,
           1.1118383165791301,
           1.4689398164686138,
           1.1144063349657738,
           0.6845870734735028,
           1.2093749524796322,
           0.7965708602566106,
           0.9157860724964104,
           0.918873300803496,
           0.3210212674709173,
           0.7376221329596672,
           0.6044497517608218,
           0.8758363385256929,
           1.1023725800531787,
           0.9525016973828138,
           0.7152454846338092,
           0.6509477618199561,
           0.5384460218730684,
           0.17784238307294736,
           1.1382255533671093,
           0.5359731986036957,
           0.9587574330258541,
           1.2007211206777708,
           0.5079600935771152,
           0.7775923848704982,
           1.0438447231843988,
           1.3510743875502882,
           0.8556437433428753,
           0.5223638419570321,
           0.7173123859701748,
           0.2985672619313619,
           0.9458650210273014,
           1.2197902170684638,
           0.34316689802647204,
           0.809141526202134,
           0.7871862068688209,
           0.9311929655368785,
           1.3787393683670581,
           0.8957636671517856,
           0.4539354175845559,
           0.8016008510497853,
           0.038093986874440086,
           0.47047138273502004,
           0.34374623610744165,
           1.0501796650967357,
           0.9308260149710634,
           1.505301178901468,
           0.9340242774223688,
           0.6394000750012113,
           1.1300743752272766,
           0.5444598865598154,
           0.8325633953593715,
           0.6346180121436328,
           0.6514563048377803,
           0.7046843012134725,
           1.407695428558841,
           0.6802682533737574,
           0.5572008788939368,
           0.6496984071293685,
           0.26636212470331705,
           0.5077967573830026,
           0.6230196359806042,
           0.7198618414604192,
           0.4017904103068495,
           0.8004972339176176,
           0.7979304275848319,
           0.7662754243499253,
           0.6015095446546068,
           1.4362628162762507,
           1.1889947447989253,
           0.7897605059050372,
           0.8321507479506399,
           0.9686297907187653,
           1.017461405157462,
           1.0264335718387119,
           1.5333910074473838,
           0.27424430724888954,
           1.0224265963385986,
           1.264907874570755,
           0.5901924203178452,
           1.3004881133305624,
           0.3102610987931237,
           0.49891110313968035,
           0.8754907782773612,
           0.49039246618225146,
           0.2475000170749883,
           0.8375575658120885,
           1.3113950954585827,
           1.0999099358192574,
           1.2437104735874331,
           0.6633611529552342,
           0.6892758841385617,
           0.30151002424870316,
           1.2457417443747698,
           0.4817124812206047,
           0.576774477003513,
           1.4528298037749596,
           0.7381117899315727,
           1.1740962875420566,
           1.5367565112679176,
           0.5080671540126157,
           0.8721151020548399,
           1.0623363954733385,
           0.5947927525227157,
           0.4421512217376065,
           1.4625321542113932,
           0.6578300146425585,
           0.6792795158345841,
           0.4118339785193741,
           0.8928781716509647,
           0.10011335430917867,
           0.7870746716222801,
           0.603013619848291,
           1.0043657106939177,
           0.4093069800344699,
           0.4930267789817036,
           1.6818140207610193,
           0.6983737157260071,
           0.5006340524436903,
           1.0332917373795123,
           0.22692884677694816,
           0.7485158773177515,
           1.1125560921512498,
           1.050610091357995,
           0.6271084682766925,
           1.5999963384733182,
           1.1256911216290728,
           1.1977225238472415,
           0.5917524682881564,
           0.5422453842937122,
           0.5066716969436177,
           0.85518441791702,
           0.5925536827860008,
           0.9078840638170758,
           0.462915389574236,
           1.115085588556242,
           0.08101834315128387,
           1.3497035507461925,
           0.5240013293156774,
           0.9849913927852492,
           0.5161623349441499,
           0.6102632084731289,
           0.3584475168311336,
           1.0004410534410795,
           0.913797157091686,
           0.43902360234778215,
           0.5532996507892184,
           0.3803920290093533,
           1.3761072410571424,
           0.5782024737966759,
           0.7143931393830367,
           0.5830154280464608,
           0.6384303608137797,
           1.26981231977528,
           0.4876888101704525,
           0.9642569950330149,
           0.9356444132242742,
           0.43763609286973454,
           0.46557330884417103,
           0.6616637250874448,
           0.684330496831886,
           0.3490778142228745,
           0.6399565630456727,
           0.13242855325877634,
           0.5431458551339547,
           0.5884093567512726,
           1.2857306126979344,
           0.7449416935797938,
           1.2908708687351564,
           1.5746698319547145,
           0.6954668526206739,
           0.7667286918797992,
           0.8243757713013791,
           1.2068696660662643,
           0.6081964186447673,
           0.7755541587857626,
           0.5204656944621339,
           0.9438836333807511,
           0.5692236670999876,
           0.792012414987497,
           0.49244780152218676,
           0.21088433741474397,
           0.3360390396333654,
           0.3554712336865476,
           1.0169517617173323,
           0.8779675193009744,
           0.6880353257158044,
           1.1331023836839456,
           0.7808844178762229,
           1.1049729860256938,
           1.402029797681088,
           0.25291059467998783,
           1.1985256182249027,
           1.0072129288634952,
           1.078982462539281,
           0,
           0.9271676979407818,
           0.6989923193769451,
           0.6268293616646612,
           0.8211525268546027,
           0.5032319467719816,
           0.881073916021542,
           0.08663431973352549,
           0.791538599028472,
           1.10945598968697,
           1.4817332663926586,
           1.1510386056105202,
           0.7478175230460251,
           0.6813854379940243,
           0.7846150971697565,
           0.7946364282024582,
           0.7324796894224263,
           0.7439178115373054,
           0.5315587913934235,
           1.2319486715239136,
           1.0484829225040289
          ],
          "sizemode": "area",
          "sizeref": 0.004934475797101786,
          "symbol": "circle"
         },
         "mode": "markers",
         "name": "",
         "orientation": "v",
         "showlegend": false,
         "type": "scatter",
         "x": [
          0.02381003545168039,
          0.014912417931634408,
          0.03958684928915139,
          0.018968586185895076,
          0.04324907364655065,
          0.03851826039076764,
          0.03580404093156251,
          0.01783105971420984,
          0.04898868432824022,
          0.03751306734752232,
          0.020721123658124084,
          0.01784360346405702,
          0.01542064170805946,
          0.023243854331326634,
          0.020110450900032346,
          0.017304777090125477,
          0.021886880979793355,
          0.028865068716626266,
          0.02975911984645168,
          0.03562105816276361,
          0.02102504176707481,
          0.034367237998857235,
          0.02468870683520059,
          0.022069430881833826,
          0.02187706184388633,
          0.045394855523967804,
          0.025692313693905924,
          0.025321615623085877,
          0.023522496323328576,
          0.03425309752943014,
          0.03919128426646292,
          0.021417508427281073,
          0.020347480278299756,
          0.03413908955598739,
          0.017121048144637184,
          0.0181346754537598,
          0.028469292250723612,
          0.035145423537690165,
          0.039752134618686354,
          0.015961809962652247,
          0.04072822757606463,
          0.023992015615150096,
          0.02536605255131522,
          0.024134177113825706,
          0.03612036066009751,
          0.012928622815094399,
          0.021862086908259484,
          0.02068817756253505,
          0.03614279265862586,
          0.04012741876338392,
          0.03667828882022748,
          0.017207337172206492,
          0.020390276493387958,
          0.011236572264119653,
          0.018813682292910954,
          0.04235418366540396,
          0.028704110487379808,
          0.02601448101220392,
          0.0246732717395476,
          0.020672395198661438,
          0.020333153881755956,
          0.03182846198610248,
          0.040073150870917014,
          0.02065931624240033,
          0.029621274940383885,
          0.034967493871799205,
          0.021541581618319074,
          0.016428491486806644,
          0.038815425083545727,
          0.020212733297724644,
          0.020272333403548594,
          0.029618840364672192,
          0.031184568261718643,
          0.03323014678606791,
          0.04431781668242379,
          0.026259944618145424,
          0.027252800990409064,
          0.041193263856876446,
          0.04718297805756832,
          0.03099769532091476,
          0.021116488494595624,
          0.019279331446454093,
          0.03225732391494039,
          0.038583693563884934,
          0.020989445122542194,
          0.027464198229513733,
          0.026876144354784644,
          0.026593316084776174,
          0.013857946377506699,
          0.025884026111321266,
          0.026037201132832886,
          0.025781997621499332,
          0.023402097844124604,
          0.023245005916270437,
          0.023996284101154567,
          0.025854383780878096,
          0.03425848168204951,
          0.017841695337604286,
          0.013580270021270454,
          0.020576146089786067,
          0.01903426930441195,
          0.029660117735346082,
          0.024230476315832344,
          0.04434026736301812,
          0.026227102774631965,
          0.034791185112676155,
          0.0534261703270007,
          0.029482612303207437,
          0.02629070415641297,
          0.01659231781029138,
          0.035574545594238866,
          0.030136345458291962,
          0.03807887062095122,
          0.01389914437892455,
          0.022661791281273217,
          0.022083092776591706,
          0.01852703462872108,
          0.032799478105357084,
          0.017479751767189983,
          0.020144781732699256,
          0.0290650479373547,
          0.032842343275890834,
          0.017669260518218828,
          0.031106270105948325,
          0.02981815251569863,
          0.028524131848239112,
          0.03928608296662961,
          0.020437105373395683,
          0.023281209197678954,
          0.027375944230951875,
          0.03471616723235447,
          0.024836787322841607,
          0.02706726656754653,
          0.03481010664950364,
          0.019404763866633597,
          0.03155129776892594,
          0.015179298938285783,
          0.014805213154522231,
          0.01823924763672453,
          0.02601166874230626,
          0.038484910720973674,
          0.04122732739071613,
          0.023597190406480364,
          0.027080821076335842,
          0.03627560963333519,
          0.017038613300652244,
          0.03424578228549246,
          0.0387107664700059,
          0.03524907152327232,
          0.050645431038199476,
          0.024014898625253377,
          0.03697771877852982,
          0.04126175418697949,
          0.02064998328460131,
          0.034989649231985914,
          0.029612824687025262,
          0.02688413064006017,
          0.022992812960727575,
          0.028651593311692532,
          0.03825053939571464,
          0.03299529502430809,
          0.05062259687975399,
          0.047050301765145804,
          0.025024533288243247,
          0.0318148526011928,
          0.04189641185671837,
          0.0338406405396903,
          0.018311025287718434,
          0.01788511942340873,
          0.026954892695732244,
          0.035409026161005525,
          0.02592740374738463,
          0.01752659649169905,
          0.02396827576382929,
          0.039278502335209096,
          0.029030855588142158,
          0.01565590079065928,
          0.03423121815427152,
          0.03476197315520334,
          0.014127111221539927,
          0.038327057368014075,
          0.043688502627330685,
          0.03369987321942808,
          0.03751760770095169,
          0.018051933336634962,
          0.03951013516302018,
          0.034575437937461054,
          0.02555356876626274,
          0.024179006493856903,
          0.03194420390646867,
          0.026798118601187203,
          0.028271954227284568,
          0.019244633302887598,
          0.034455644076749906,
          0.028468136754314855,
          0.019160751392597212,
          0.01571721571556862,
          0.016093723519393026,
          0.01615368635896324,
          0.03873870789058535,
          0.01988297751928217,
          0.03603773865220704,
          0.02790333680344508,
          0.02515773760483597,
          0.02748005844187172,
          0.02389488191217989,
          0.05607913713802724,
          0.019928817153291166,
          0.028300312128123135,
          0.017264867370839772,
          0.026380893114588213,
          0.05078689727303289,
          0.02181181901612129,
          0.024304771037362623,
          0.019999834486823867,
          0.021362640499045814,
          0.01669978219060695,
          0.02222262168845474,
          0.02796357527656092,
          0.014287851694453171,
          0.024594329838592423,
          0.02029753232996622,
          0.03592872035612849,
          0.01780010675670347,
          0.013949056801556978,
          0.01544909727722271,
          0.01370269072441663,
          0.03689770446720766,
          0.0316880261702231,
          0.02326187912130692,
          0.03623123556047994,
          0.026089987496101145,
          0.034008446045920716,
          0.024573911059498094,
          0.015572279209263558,
          0.02322956046498375
         ],
         "xaxis": "x",
         "y": [
          -0.0009377429870897015,
          -0.0018962779067769927,
          -0.0025692532582735437,
          0.00012467595070570937,
          -0.0011986711440961448,
          8.954073576176114e-05,
          -0.0024367793461910463,
          2.590426632338329e-05,
          -0.002376170703104797,
          -0.0025449198302627775,
          0.0034908814893126437,
          0.0004738828435233274,
          0.002234510058192662,
          0.00010596045707991017,
          0.0006122073768179824,
          -0.00012053843825294914,
          0.0004901882564329412,
          -0.0009840298994616655,
          0.0011532068126553796,
          0.005702516734384283,
          -0.0002497787303978689,
          0.0007992755818404765,
          0.002059474828876386,
          0.0005228146231005591,
          -0.0010658938577249475,
          0.0018016706370175908,
          -0.0007670725193198629,
          -0.00024744176407360164,
          -0.00021762669138399187,
          -0.0037668750082906306,
          -0.0015593108170927756,
          -0.001332655085677474,
          -0.0003357797698747537,
          0.000739528297531081,
          -6.140442812767708e-05,
          -0.0007898915272554131,
          -0.0015484217105074171,
          -0.0025776470110181362,
          -0.005330487362874576,
          0.00044217972049915915,
          -0.003004070037324364,
          -6.0761837232948974e-05,
          0.0009697686454303791,
          -0.0018940086697156343,
          -0.0011939009856654099,
          0.00015258418170323285,
          0.001389574661422696,
          -0.00041177993045199695,
          -0.0027487202171380108,
          -0.001733856024584198,
          -0.00417232502439619,
          -8.095306285829434e-05,
          0.0008450450170000686,
          -0.0011937839840744787,
          -0.0005218601792184667,
          -0.0013314943502001034,
          -0.00020599112615118158,
          0.0017747506870935913,
          -0.00032433328097837625,
          -0.001810484223222053,
          -0.0005898385238079243,
          -0.005017326726306118,
          -0.003397962363917928,
          -0.002192848780465323,
          0.0003812047850162899,
          -0.00025310113332501914,
          0.0019289080797802404,
          -0.00011006059350703148,
          -0.0021866523817679253,
          0.000532183644582345,
          -0.0014662810325945656,
          -0.0007047049991255205,
          -0.0017818942388621829,
          -0.0018045137639820137,
          -0.0020092018481267866,
          0.0019195983730066926,
          -0.001347639408946542,
          -0.0028910543981629493,
          -0.002576174898731918,
          -0.003694312015761982,
          -0.0016577667288581754,
          -0.0011392972806830914,
          -0.001379944267377085,
          -0.0037181042445429513,
          -0.000612779169346408,
          -0.0008136835352297252,
          -0.0009395892554575661,
          -0.0016678804065402566,
          0.001079708674054253,
          0.0009384363702411617,
          -0.0008072429958344654,
          -0.0006152094094108931,
          -2.0345611281877512e-05,
          0.00017101943174185623,
          0.00021281807759329868,
          0.0024374416856891095,
          -0.0040374410940098885,
          0.0001461901964508379,
          0.0006660373808636003,
          -0.0013297256826041582,
          0.001047621047288698,
          -0.0033155434697525457,
          -0.0019385049589281094,
          -0.0007342967370737161,
          -0.002135879944538664,
          -0.00425697667438123,
          -0.0012261888997562454,
          0.001676858231075023,
          0.0005586073737403916,
          0.0007545085660078033,
          -0.0018604743301464028,
          -0.0014444971639120032,
          -0.0043127694629858495,
          0.0006367972933020507,
          -0.0018786671599022732,
          -0.0014770307481612828,
          0.0014951991029964855,
          -0.0013022931462666352,
          0.0005898627270032447,
          0.0019105864096245911,
          -0.0022804506928223115,
          -0.0005625628458690219,
          0.00026357820730705785,
          -0.001986123101361359,
          -0.0026706651938524606,
          0.002348625400606703,
          -0.002091187891785957,
          -0.001014010417744273,
          -0.0022040929818205857,
          -0.00037316820770904056,
          -0.005109806563560919,
          -0.0007812642210722098,
          -0.0016907470429600368,
          0.00017930780261036532,
          -0.0018453608089980397,
          -0.0025554686321758386,
          0.0018105949856668537,
          -0.0006869523046038597,
          -0.0014538959236570508,
          0.00026074580926724734,
          -0.004842307251184889,
          -0.0015646561325482655,
          0.0005516510637915212,
          0.00035047467964064295,
          -0.002118691034153714,
          0.0017975181633936217,
          0.0008763729481872696,
          0.0014603943019365683,
          -0.0022686937665029367,
          -0.003682036572006166,
          -0.0018898604721873686,
          -0.0007388703086219419,
          -0.0026501113316600507,
          -0.00022928103939713685,
          -0.003011452256052399,
          0.0007049028414175085,
          -0.004043508395880678,
          0.0014561346024344044,
          -0.0021710978684222346,
          7.218035786554802e-05,
          -0.0025438200874775534,
          -0.003100295053402487,
          -0.0048775456288085665,
          0.00011235618223789615,
          -0.00032155366874718234,
          -0.0037745310499113227,
          -0.0023972688357365287,
          -0.0018305464587013076,
          0.0012122214024809408,
          -0.001796397115440571,
          -0.0015473944507947755,
          -0.0017068976635672198,
          -0.0009902175008178872,
          0.0011953155945352363,
          -0.003216649137075457,
          -4.662576632011442e-05,
          -0.00010061153925979256,
          -0.0030919601683875,
          -0.0029762911946190555,
          -0.0007428582316020428,
          -0.0018690269789003765,
          -0.004598002065498847,
          -0.0018953102809680755,
          -0.005317894448816419,
          -0.0013096775778489043,
          -0.002565196123013325,
          0.0018170252793052496,
          -0.0009851938049245704,
          0.0012916054160422169,
          0.003233711486618544,
          -0.0012565388829941623,
          -0.0009862278310053118,
          -0.0004844225228484156,
          0.0013529631514039124,
          -0.001753395095165665,
          -0.0006399075223264587,
          -0.0012003467669176602,
          -8.108613910692704e-05,
          -0.0011009903954707484,
          -0.001186336861660993,
          -0.0016123430475193034,
          -0.004631805927881295,
          -0.0029979838050507874,
          -0.002620631987406953,
          0.00019981836887429365,
          -0.0003857407729861392,
          -0.00269970899389675,
          0.0005348746212354887,
          -0.0009197261637337533,
          0.00038155882785406166,
          0.0019032594685241444,
          -0.006167885382303467,
          0.0008258192100897907,
          0.0001368528035176665,
          0.00035443084495316964,
          -0.003504630106911867,
          -0.00013116842189674367,
          -0.0010287993060013464,
          -0.0016345383228600033,
          -0.00036740986379321704,
          -0.0019497112638500107,
          -0.0003170455182298146,
          -0.005369867207858746,
          -0.0005465325659009394,
          0.00031881343335242836,
          0.0013220255404943987,
          0.00040917557803454667,
          -0.0014046797116180657,
          -0.0015609953471427403,
          -0.000741362900288964,
          -0.0010935312326740896,
          -0.0010606500731821325,
          -0.0013170298670424966,
          -0.001830820581209636,
          0.0006772673913921159,
          0.00029230779292948147
         ],
         "yaxis": "y"
        },
        {
         "marker": {
          "color": "Blue",
          "size": 20
         },
         "mode": "markers",
         "name": "UNIFORM",
         "text": [
          "Uniform Portfolio"
         ],
         "type": "scatter",
         "x": [
          0.027694780249859798
         ],
         "xaxis": "x",
         "y": [
          -0.0009413687195844739
         ],
         "yaxis": "y"
        },
        {
         "marker": {
          "color": "Black",
          "size": 20
         },
         "mode": "markers",
         "name": "NIFTY-50",
         "text": [
          "NIFTY-50"
         ],
         "type": "scatter",
         "x": [
          0.016022883945035562
         ],
         "y": [
          0.0005365371993693484
         ]
        }
       ],
       "layout": {
        "coloraxis": {
         "colorbar": {
          "title": {
           "text": "color"
          }
         },
         "colorscale": [
          [
           0,
           "rgb(165,0,38)"
          ],
          [
           0.1,
           "rgb(215,48,39)"
          ],
          [
           0.2,
           "rgb(244,109,67)"
          ],
          [
           0.3,
           "rgb(253,174,97)"
          ],
          [
           0.4,
           "rgb(254,224,139)"
          ],
          [
           0.5,
           "rgb(255,255,191)"
          ],
          [
           0.6,
           "rgb(217,239,139)"
          ],
          [
           0.7,
           "rgb(166,217,106)"
          ],
          [
           0.8,
           "rgb(102,189,99)"
          ],
          [
           0.9,
           "rgb(26,152,80)"
          ],
          [
           1,
           "rgb(0,104,55)"
          ]
         ]
        },
        "legend": {
         "font": {
          "family": "Courier",
          "size": 10
         },
         "itemsizing": "constant",
         "tracegroupgap": 0,
         "traceorder": "normal",
         "x": 0.89,
         "y": 1
        },
        "margin": {
         "t": 60
        },
        "template": {
         "data": {
          "bar": [
           {
            "error_x": {
             "color": "#2a3f5f"
            },
            "error_y": {
             "color": "#2a3f5f"
            },
            "marker": {
             "line": {
              "color": "#E5ECF6",
              "width": 0.5
             }
            },
            "type": "bar"
           }
          ],
          "barpolar": [
           {
            "marker": {
             "line": {
              "color": "#E5ECF6",
              "width": 0.5
             }
            },
            "type": "barpolar"
           }
          ],
          "carpet": [
           {
            "aaxis": {
             "endlinecolor": "#2a3f5f",
             "gridcolor": "white",
             "linecolor": "white",
             "minorgridcolor": "white",
             "startlinecolor": "#2a3f5f"
            },
            "baxis": {
             "endlinecolor": "#2a3f5f",
             "gridcolor": "white",
             "linecolor": "white",
             "minorgridcolor": "white",
             "startlinecolor": "#2a3f5f"
            },
            "type": "carpet"
           }
          ],
          "choropleth": [
           {
            "colorbar": {
             "outlinewidth": 0,
             "ticks": ""
            },
            "type": "choropleth"
           }
          ],
          "contour": [
           {
            "colorbar": {
             "outlinewidth": 0,
             "ticks": ""
            },
            "colorscale": [
             [
              0,
              "#0d0887"
             ],
             [
              0.1111111111111111,
              "#46039f"
             ],
             [
              0.2222222222222222,
              "#7201a8"
             ],
             [
              0.3333333333333333,
              "#9c179e"
             ],
             [
              0.4444444444444444,
              "#bd3786"
             ],
             [
              0.5555555555555556,
              "#d8576b"
             ],
             [
              0.6666666666666666,
              "#ed7953"
             ],
             [
              0.7777777777777778,
              "#fb9f3a"
             ],
             [
              0.8888888888888888,
              "#fdca26"
             ],
             [
              1,
              "#f0f921"
             ]
            ],
            "type": "contour"
           }
          ],
          "contourcarpet": [
           {
            "colorbar": {
             "outlinewidth": 0,
             "ticks": ""
            },
            "type": "contourcarpet"
           }
          ],
          "heatmap": [
           {
            "colorbar": {
             "outlinewidth": 0,
             "ticks": ""
            },
            "colorscale": [
             [
              0,
              "#0d0887"
             ],
             [
              0.1111111111111111,
              "#46039f"
             ],
             [
              0.2222222222222222,
              "#7201a8"
             ],
             [
              0.3333333333333333,
              "#9c179e"
             ],
             [
              0.4444444444444444,
              "#bd3786"
             ],
             [
              0.5555555555555556,
              "#d8576b"
             ],
             [
              0.6666666666666666,
              "#ed7953"
             ],
             [
              0.7777777777777778,
              "#fb9f3a"
             ],
             [
              0.8888888888888888,
              "#fdca26"
             ],
             [
              1,
              "#f0f921"
             ]
            ],
            "type": "heatmap"
           }
          ],
          "heatmapgl": [
           {
            "colorbar": {
             "outlinewidth": 0,
             "ticks": ""
            },
            "colorscale": [
             [
              0,
              "#0d0887"
             ],
             [
              0.1111111111111111,
              "#46039f"
             ],
             [
              0.2222222222222222,
              "#7201a8"
             ],
             [
              0.3333333333333333,
              "#9c179e"
             ],
             [
              0.4444444444444444,
              "#bd3786"
             ],
             [
              0.5555555555555556,
              "#d8576b"
             ],
             [
              0.6666666666666666,
              "#ed7953"
             ],
             [
              0.7777777777777778,
              "#fb9f3a"
             ],
             [
              0.8888888888888888,
              "#fdca26"
             ],
             [
              1,
              "#f0f921"
             ]
            ],
            "type": "heatmapgl"
           }
          ],
          "histogram": [
           {
            "marker": {
             "colorbar": {
              "outlinewidth": 0,
              "ticks": ""
             }
            },
            "type": "histogram"
           }
          ],
          "histogram2d": [
           {
            "colorbar": {
             "outlinewidth": 0,
             "ticks": ""
            },
            "colorscale": [
             [
              0,
              "#0d0887"
             ],
             [
              0.1111111111111111,
              "#46039f"
             ],
             [
              0.2222222222222222,
              "#7201a8"
             ],
             [
              0.3333333333333333,
              "#9c179e"
             ],
             [
              0.4444444444444444,
              "#bd3786"
             ],
             [
              0.5555555555555556,
              "#d8576b"
             ],
             [
              0.6666666666666666,
              "#ed7953"
             ],
             [
              0.7777777777777778,
              "#fb9f3a"
             ],
             [
              0.8888888888888888,
              "#fdca26"
             ],
             [
              1,
              "#f0f921"
             ]
            ],
            "type": "histogram2d"
           }
          ],
          "histogram2dcontour": [
           {
            "colorbar": {
             "outlinewidth": 0,
             "ticks": ""
            },
            "colorscale": [
             [
              0,
              "#0d0887"
             ],
             [
              0.1111111111111111,
              "#46039f"
             ],
             [
              0.2222222222222222,
              "#7201a8"
             ],
             [
              0.3333333333333333,
              "#9c179e"
             ],
             [
              0.4444444444444444,
              "#bd3786"
             ],
             [
              0.5555555555555556,
              "#d8576b"
             ],
             [
              0.6666666666666666,
              "#ed7953"
             ],
             [
              0.7777777777777778,
              "#fb9f3a"
             ],
             [
              0.8888888888888888,
              "#fdca26"
             ],
             [
              1,
              "#f0f921"
             ]
            ],
            "type": "histogram2dcontour"
           }
          ],
          "mesh3d": [
           {
            "colorbar": {
             "outlinewidth": 0,
             "ticks": ""
            },
            "type": "mesh3d"
           }
          ],
          "parcoords": [
           {
            "line": {
             "colorbar": {
              "outlinewidth": 0,
              "ticks": ""
             }
            },
            "type": "parcoords"
           }
          ],
          "pie": [
           {
            "automargin": true,
            "type": "pie"
           }
          ],
          "scatter": [
           {
            "marker": {
             "colorbar": {
              "outlinewidth": 0,
              "ticks": ""
             }
            },
            "type": "scatter"
           }
          ],
          "scatter3d": [
           {
            "line": {
             "colorbar": {
              "outlinewidth": 0,
              "ticks": ""
             }
            },
            "marker": {
             "colorbar": {
              "outlinewidth": 0,
              "ticks": ""
             }
            },
            "type": "scatter3d"
           }
          ],
          "scattercarpet": [
           {
            "marker": {
             "colorbar": {
              "outlinewidth": 0,
              "ticks": ""
             }
            },
            "type": "scattercarpet"
           }
          ],
          "scattergeo": [
           {
            "marker": {
             "colorbar": {
              "outlinewidth": 0,
              "ticks": ""
             }
            },
            "type": "scattergeo"
           }
          ],
          "scattergl": [
           {
            "marker": {
             "colorbar": {
              "outlinewidth": 0,
              "ticks": ""
             }
            },
            "type": "scattergl"
           }
          ],
          "scattermapbox": [
           {
            "marker": {
             "colorbar": {
              "outlinewidth": 0,
              "ticks": ""
             }
            },
            "type": "scattermapbox"
           }
          ],
          "scatterpolar": [
           {
            "marker": {
             "colorbar": {
              "outlinewidth": 0,
              "ticks": ""
             }
            },
            "type": "scatterpolar"
           }
          ],
          "scatterpolargl": [
           {
            "marker": {
             "colorbar": {
              "outlinewidth": 0,
              "ticks": ""
             }
            },
            "type": "scatterpolargl"
           }
          ],
          "scatterternary": [
           {
            "marker": {
             "colorbar": {
              "outlinewidth": 0,
              "ticks": ""
             }
            },
            "type": "scatterternary"
           }
          ],
          "surface": [
           {
            "colorbar": {
             "outlinewidth": 0,
             "ticks": ""
            },
            "colorscale": [
             [
              0,
              "#0d0887"
             ],
             [
              0.1111111111111111,
              "#46039f"
             ],
             [
              0.2222222222222222,
              "#7201a8"
             ],
             [
              0.3333333333333333,
              "#9c179e"
             ],
             [
              0.4444444444444444,
              "#bd3786"
             ],
             [
              0.5555555555555556,
              "#d8576b"
             ],
             [
              0.6666666666666666,
              "#ed7953"
             ],
             [
              0.7777777777777778,
              "#fb9f3a"
             ],
             [
              0.8888888888888888,
              "#fdca26"
             ],
             [
              1,
              "#f0f921"
             ]
            ],
            "type": "surface"
           }
          ],
          "table": [
           {
            "cells": {
             "fill": {
              "color": "#EBF0F8"
             },
             "line": {
              "color": "white"
             }
            },
            "header": {
             "fill": {
              "color": "#C8D4E3"
             },
             "line": {
              "color": "white"
             }
            },
            "type": "table"
           }
          ]
         },
         "layout": {
          "annotationdefaults": {
           "arrowcolor": "#2a3f5f",
           "arrowhead": 0,
           "arrowwidth": 1
          },
          "autotypenumbers": "strict",
          "coloraxis": {
           "colorbar": {
            "outlinewidth": 0,
            "ticks": ""
           }
          },
          "colorscale": {
           "diverging": [
            [
             0,
             "#8e0152"
            ],
            [
             0.1,
             "#c51b7d"
            ],
            [
             0.2,
             "#de77ae"
            ],
            [
             0.3,
             "#f1b6da"
            ],
            [
             0.4,
             "#fde0ef"
            ],
            [
             0.5,
             "#f7f7f7"
            ],
            [
             0.6,
             "#e6f5d0"
            ],
            [
             0.7,
             "#b8e186"
            ],
            [
             0.8,
             "#7fbc41"
            ],
            [
             0.9,
             "#4d9221"
            ],
            [
             1,
             "#276419"
            ]
           ],
           "sequential": [
            [
             0,
             "#0d0887"
            ],
            [
             0.1111111111111111,
             "#46039f"
            ],
            [
             0.2222222222222222,
             "#7201a8"
            ],
            [
             0.3333333333333333,
             "#9c179e"
            ],
            [
             0.4444444444444444,
             "#bd3786"
            ],
            [
             0.5555555555555556,
             "#d8576b"
            ],
            [
             0.6666666666666666,
             "#ed7953"
            ],
            [
             0.7777777777777778,
             "#fb9f3a"
            ],
            [
             0.8888888888888888,
             "#fdca26"
            ],
            [
             1,
             "#f0f921"
            ]
           ],
           "sequentialminus": [
            [
             0,
             "#0d0887"
            ],
            [
             0.1111111111111111,
             "#46039f"
            ],
            [
             0.2222222222222222,
             "#7201a8"
            ],
            [
             0.3333333333333333,
             "#9c179e"
            ],
            [
             0.4444444444444444,
             "#bd3786"
            ],
            [
             0.5555555555555556,
             "#d8576b"
            ],
            [
             0.6666666666666666,
             "#ed7953"
            ],
            [
             0.7777777777777778,
             "#fb9f3a"
            ],
            [
             0.8888888888888888,
             "#fdca26"
            ],
            [
             1,
             "#f0f921"
            ]
           ]
          },
          "colorway": [
           "#636efa",
           "#EF553B",
           "#00cc96",
           "#ab63fa",
           "#FFA15A",
           "#19d3f3",
           "#FF6692",
           "#B6E880",
           "#FF97FF",
           "#FECB52"
          ],
          "font": {
           "color": "#2a3f5f"
          },
          "geo": {
           "bgcolor": "white",
           "lakecolor": "white",
           "landcolor": "#E5ECF6",
           "showlakes": true,
           "showland": true,
           "subunitcolor": "white"
          },
          "hoverlabel": {
           "align": "left"
          },
          "hovermode": "closest",
          "mapbox": {
           "style": "light"
          },
          "paper_bgcolor": "white",
          "plot_bgcolor": "#E5ECF6",
          "polar": {
           "angularaxis": {
            "gridcolor": "white",
            "linecolor": "white",
            "ticks": ""
           },
           "bgcolor": "#E5ECF6",
           "radialaxis": {
            "gridcolor": "white",
            "linecolor": "white",
            "ticks": ""
           }
          },
          "scene": {
           "xaxis": {
            "backgroundcolor": "#E5ECF6",
            "gridcolor": "white",
            "gridwidth": 2,
            "linecolor": "white",
            "showbackground": true,
            "ticks": "",
            "zerolinecolor": "white"
           },
           "yaxis": {
            "backgroundcolor": "#E5ECF6",
            "gridcolor": "white",
            "gridwidth": 2,
            "linecolor": "white",
            "showbackground": true,
            "ticks": "",
            "zerolinecolor": "white"
           },
           "zaxis": {
            "backgroundcolor": "#E5ECF6",
            "gridcolor": "white",
            "gridwidth": 2,
            "linecolor": "white",
            "showbackground": true,
            "ticks": "",
            "zerolinecolor": "white"
           }
          },
          "shapedefaults": {
           "line": {
            "color": "#2a3f5f"
           }
          },
          "ternary": {
           "aaxis": {
            "gridcolor": "white",
            "linecolor": "white",
            "ticks": ""
           },
           "baxis": {
            "gridcolor": "white",
            "linecolor": "white",
            "ticks": ""
           },
           "bgcolor": "#E5ECF6",
           "caxis": {
            "gridcolor": "white",
            "linecolor": "white",
            "ticks": ""
           }
          },
          "title": {
           "x": 0.05
          },
          "xaxis": {
           "automargin": true,
           "gridcolor": "white",
           "linecolor": "white",
           "ticks": "",
           "title": {
            "standoff": 15
           },
           "zerolinecolor": "white",
           "zerolinewidth": 2
          },
          "yaxis": {
           "automargin": true,
           "gridcolor": "white",
           "linecolor": "white",
           "ticks": "",
           "title": {
            "standoff": 15
           },
           "zerolinecolor": "white",
           "zerolinewidth": 2
          }
         }
        },
        "xaxis": {
         "anchor": "y",
         "domain": [
          0,
          1
         ],
         "title": {
          "text": "logret_std"
         }
        },
        "yaxis": {
         "anchor": "x",
         "domain": [
          0,
          1
         ],
         "title": {
          "text": "logret_mean"
         }
        }
       }
      },
      "text/html": [
       "<div>                            <div id=\"99fda249-faf5-4a5d-98ba-3d212f047a5c\" class=\"plotly-graph-div\" style=\"height:525px; width:100%;\"></div>            <script type=\"text/javascript\">                require([\"plotly\"], function(Plotly) {                    window.PLOTLYENV=window.PLOTLYENV || {};                                    if (document.getElementById(\"99fda249-faf5-4a5d-98ba-3d212f047a5c\")) {                    Plotly.newPlot(                        \"99fda249-faf5-4a5d-98ba-3d212f047a5c\",                        [{\"hovertemplate\": \"<b>%{hovertext}</b><br><br>logret_std=%{x}<br>logret_mean=%{y}<br>size=%{marker.size}<br>color=%{marker.color}<extra></extra>\", \"hovertext\": [\"20MICRONS\", \"21STCENMGM\", \"3IINFOTECH\", \"3MINDIA\", \"5PAISA\", \"63MOONS\", \"A2ZINFRA\", \"AARTIDRUGS\", \"AARTIIND\", \"AARVEEDEN\", \"AAVAS\", \"ABB\", \"ABBOTINDIA\", \"ABCAPITAL\", \"ABFRL\", \"ACC\", \"ACCELYA\", \"ACE\", \"ADANIENT\", \"ADANIGREEN\", \"ADANIPORTS\", \"ADANIPOWER\", \"ADANITRANS\", \"ADFFOODS\", \"ADORWELD\", \"ADSL\", \"ADVANIHOTR\", \"ADVENZYMES\", \"AEGISCHEM\", \"AGARIND\", \"AGRITECH\", \"AHLEAST\", \"AHLUCONT\", \"AHLWEST\", \"AIAENG\", \"AJANTPHARM\", \"AJMERA\", \"AKSHARCHEM\", \"AKSHOPTFBR\", \"AKZOINDIA\", \"ALANKIT\", \"ALBERTDAVD\", \"ALEMBICLTD\", \"ALICON\", \"ALKALI\", \"ALKEM\", \"ALKYLAMINE\", \"ALLCARGO\", \"ALMONDZ\", \"ALPA\", \"ALPHAGEO\", \"AMARAJABAT\", \"AMBER\", \"AMBIKCO\", \"AMBUJACEM\", \"AMDIND\", \"AMJLAND\", \"AMRUTANJAN\", \"ANANTRAJ\", \"ANDHRAPAP\", \"ANDHRSUGAR\", \"ANIKINDS\", \"ANSALAPI\", \"APARINDS\", \"APCL\", \"APEX\", \"APLAPOLLO\", \"APLLTD\", \"APOLLO\", \"APOLLOHOSP\", \"APOLLOTYRE\", \"APTECHT\", \"ARCHIDPLY\", \"ARIES\", \"ARIHANT\", \"ARMANFIN\", \"AROGRANITE\", \"ARSHIYA\", \"ARSSINFRA\", \"ARVIND\", \"ARVSMART\", \"ASAHIINDIA\", \"ASAHISONG\", \"ASAL\", \"ASHIANA\", \"ASHOKA\", \"ASHOKLEY\", \"ASIANHOTNR\", \"ASIANPAINT\", \"ASIANTILES\", \"ASPINWALL\", \"ASTEC\", \"ASTERDM\", \"ASTRAL\", \"ASTRAMICRO\", \"ASTRAZEN\", \"ASTRON\", \"ATFL\", \"ATUL\", \"ATULAUTO\", \"AUBANK\", \"AURIONPRO\", \"AUROPHARMA\", \"AUSOMENT\", \"AUTOAXLES\", \"AUTOIND\", \"AVADHSUGAR\", \"AVANTIFEED\", \"AVTNPL\", \"AXISBANK\", \"AXISCADES\", \"AYMSYNTEX\", \"BAGFILMS\", \"BAJAJ-AUTO\", \"BAJAJCON\", \"BAJAJELEC\", \"BAJAJFINSV\", \"BAJAJHIND\", \"BAJAJHLDNG\", \"BAJFINANCE\", \"BALAJITELE\", \"BALAMINES\", \"BALKRISIND\", \"BALMLAWRIE\", \"BALPHARMA\", \"BALRAMCHIN\", \"BANARBEADS\", \"BANARISUG\", \"BANCOINDIA\", \"BANDHANBNK\", \"BANG\", \"BANKBARODA\", \"BANKINDIA\", \"BANSWRAS\", \"BASF\", \"BASML\", \"BATAINDIA\", \"BAYERCROP\", \"BBL\", \"BDL\", \"BEARDSELL\", \"BEDMUTHA\", \"BEL\", \"BEML\", \"BEPL\", \"BERGEPAINT\", \"BFINVEST\", \"BFUTILITIE\", \"BGRENERGY\", \"BHAGERIA\", \"BHAGYANGR\", \"BHAGYAPROP\", \"BHANDARI\", \"BHARATFORG\", \"BHARATGEAR\", \"BHARATRAS\", \"BHARATWIRE\", \"BHARTIARTL\", \"BHEL\", \"BIGBLOC\", \"BINDALAGRO\", \"BIOCON\", \"BIRLACABLE\", \"BIRLACORPN\", \"BLISSGVS\", \"BLKASHYAP\", \"BLS\", \"BLUEDART\", \"BLUESTARCO\", \"BODALCHEM\", \"BOMDYEING\", \"BORORENEW\", \"BOSCHLTD\", \"BPCL\", \"BPL\", \"BRIGADE\", \"BRITANNIA\", \"BRNL\", \"BROOKS\", \"BSE\", \"BSL\", \"BSOFT\", \"BUTTERFLY\", \"BYKE\", \"CADILAHC\", \"CALSOFT\", \"CAMLINFINE\", \"CANBK\", \"CANFINHOME\", \"CANTABIL\", \"CAPACITE\", \"CAPLIPOINT\", \"CARBORUNIV\", \"CAREERP\", \"CARERATING\", \"CASTROLIND\", \"CCL\", \"CDSL\", \"CEATLTD\", \"CELEBRITY\", \"CENTENKA\", \"CENTEXT\", \"CENTRALBK\", \"CENTRUM\", \"CENTUM\", \"CENTURYPLY\", \"CENTURYTEX\", \"CERA\", \"CEREBRAINT\", \"CESC\", \"CGCL\", \"CGPOWER\", \"CHALET\", \"CHAMBLFERT\", \"CHEMFAB\", \"CHENNPETRO\", \"CHOLAHLDNG\", \"CIGNITITEC\", \"CINELINE\", \"CIPLA\", \"CLEDUCATE\", \"CLNINDIA\", \"CMICABLES\", \"COALINDIA\", \"COCHINSHIP\", \"COFORGE\", \"COLPAL\", \"COMPINFO\", \"COMPUSOFT\", \"CONCOR\", \"CONSOFINVT\", \"CONTROLPR\", \"CORALFINAC\", \"CORDSCABLE\", \"COROMANDEL\", \"COSMOFILMS\"], \"legendgroup\": \"\", \"marker\": {\"color\": [-0.03938435912843298, -0.1271609953174884, -0.06490168589844397, 0.006572759270715581, -0.027715533375169653, 0.002324630833619448, -0.06805878003683491, 0.0014527608980379214, -0.04850448089570391, -0.06784088879447138, 0.16846970014311852, 0.026557575350622746, 0.14490383088434092, 0.0045586439998078635, 0.03044225014452549, -0.006965616351205776, 0.022396441817612026, -0.034090682725271486, 0.03875137499380318, 0.1600883586424559, -0.011880058701667936, 0.023256904784348796, 0.08341768739138795, 0.02368953807190866, -0.048721984027430894, 0.03968887258747493, -0.029856109047189792, -0.009771957988652486, -0.00925185356148443, -0.10997180634697766, -0.039787183458724305, -0.06222269458663886, -0.01650227769149663, 0.021662214990188007, -0.0035864876734728857, -0.043556970692389625, -0.054389188774724824, -0.07334232316915607, -0.13409311006832988, 0.027702354653625114, -0.07375891896385421, -0.00253258576551526, 0.03823096413872631, -0.07847827836775992, -0.033053407104661696, 0.011802044493485268, 0.06356093392427763, -0.01990411814705727, -0.0760516831972584, -0.0432087604440267, -0.11375462592723848, -0.004704566549032976, 0.041443529089666586, -0.10624093860780306, -0.02773833272474815, -0.03143713878937782, -0.0071763633379877305, 0.06822164494694397, -0.013145126613205415, -0.08757979933255552, -0.029008708006541005, -0.15763648047137413, -0.08479399024207977, -0.10614333769502063, 0.012869290257880762, -0.0072381833897779465, 0.0895434752172462, -0.006699373073627527, -0.056334624110425384, 0.02632912811659436, -0.07232916918867853, -0.023792457451037006, -0.05714025680610719, -0.054303514685002094, -0.04533621009637024, 0.0730998637247797, -0.04944957435460706, -0.07018269803062333, -0.05459966718482048, -0.11918021573911518, -0.0785057955674046, -0.05909423176043971, -0.04277925444205699, -0.09636465307259146, -0.0291946340538701, -0.029627063147079965, -0.03495997205009412, -0.06271803039618158, 0.07791260296740393, 0.03625542511065172, -0.031003447402667743, -0.023861976036250836, -0.0008693926252848967, 0.0073572548167066916, 0.008868793047130953, 0.09427576020944817, -0.11785230680918926, 0.008193739086146045, 0.0490444873202375, -0.06462462293967819, 0.0550386794751228, -0.11178456873761493, -0.08000275907335253, -0.01656049412291443, -0.08143789128719865, -0.12235790935532695, -0.022951091052404143, 0.05687617548369675, 0.021247334054540077, 0.04547336753276384, -0.05229790849240526, -0.047932061500660574, -0.11325885964204353, 0.04581557511321593, -0.08290020575093406, -0.0668851398263811, 0.08070363838358621, -0.03970469109549441, 0.03374548648399199, 0.09484274562892403, -0.07846024192829397, -0.01712919328390287, 0.014917330979147745, -0.06384960635256494, -0.08956507927331887, 0.08233819045229562, -0.05322973770539186, -0.04961614667135184, -0.09467261614746048, -0.013631245174993013, -0.14718809623657783, -0.03145592909891795, -0.0624646392993089, 0.005151027097267514, -0.0950983388244744, -0.08099408939979177, 0.11928054075673447, -0.04639935254117102, -0.07971249432074418, 0.010024186139321448, -0.1258235282470308, -0.037951917613282066, 0.02337782821975384, 0.01294180404104881, -0.058405387409582205, 0.10549674035532058, 0.025590682697253713, 0.03772579142983695, -0.06436180212591099, -0.07270224572141519, -0.07869533416227065, -0.019981500563819216, -0.06422682175970881, -0.011103207021388325, -0.08606694614416051, 0.02380397172061599, -0.15040502704057787, 0.06332998945894644, -0.07577581619295927, 0.0018870415687166668, -0.07709644922415411, -0.0612433032775215, -0.10366661733978044, 0.0044898412667173345, -0.010107029970496442, -0.09009198837408439, -0.07083993675961513, -0.09996963195332875, 0.06777821124830394, -0.06664456563483162, -0.04370056504120568, -0.0658337286755678, -0.056497991568806534, 0.049870737733212184, -0.08189337540479656, -0.001606076203250414, -0.006426429280889416, -0.0903257416797968, -0.08561916728174994, -0.052583873656306325, -0.0487652094173078, -0.10524512832862405, -0.05624087273644173, -0.1417439643594739, -0.0725505436689719, -0.0649250151240748, 0.05255248776868211, -0.038554059275872216, 0.053418465161931765, 0.10122999139645865, -0.046889070896883614, -0.03488361020525166, -0.025171824020971574, 0.03926680773664218, -0.06159149474016443, -0.03339678644198098, -0.0763714635365513, -0.005038370331714584, -0.06815722250666571, -0.030624068954796187, -0.0810916295587862, -0.1285265419282248, -0.10744176677395235, -0.10416803086868986, 0.007271395339168122, -0.01614323830533418, -0.048141058006152496, 0.02683925579332019, -0.03249879929132602, 0.022100304604627984, 0.07214537658968309, -0.12144639096861161, 0.03786108849882814, 0.005630697088538249, 0.01772168890630935, -0.16405416301736694, -0.007854498962897933, -0.04629513656959007, -0.05845240841681908, -0.02571484304640794, -0.07927482784225343, -0.015619904581294598, -0.14945890514975685, -0.030703892587336124, 0.02285555488718368, 0.0855729960638878, 0.029860965722990632, -0.03806956914803348, -0.049261362596626196, -0.03187029286941424, -0.030182002235300088, -0.04065352937944622, -0.038726552376552155, -0.0745026128228784, 0.04349186026597999, 0.012583440542067352], \"coloraxis\": \"coloraxis\", \"size\": [0.7400132117705699, 0.21898992915958795, 0.5885478340300415, 1.0128048078861147, 0.809276858250325, 0.9875888287902462, 0.5698080004830659, 0.9824135958858079, 0.6858781254047533, 0.5711013561557977, 1.9737903188407144, 1.1314303890020643, 1.8339083742610192, 1.0008494517051716, 1.15448898523986, 0.9324439144410608, 1.106730792994736, 0.7714353393024904, 1.2038101678751882, 1.9240404736546513, 0.9032728388928332, 1.1118383165791301, 1.4689398164686138, 1.1144063349657738, 0.6845870734735028, 1.2093749524796322, 0.7965708602566106, 0.9157860724964104, 0.918873300803496, 0.3210212674709173, 0.7376221329596672, 0.6044497517608218, 0.8758363385256929, 1.1023725800531787, 0.9525016973828138, 0.7152454846338092, 0.6509477618199561, 0.5384460218730684, 0.17784238307294736, 1.1382255533671093, 0.5359731986036957, 0.9587574330258541, 1.2007211206777708, 0.5079600935771152, 0.7775923848704982, 1.0438447231843988, 1.3510743875502882, 0.8556437433428753, 0.5223638419570321, 0.7173123859701748, 0.2985672619313619, 0.9458650210273014, 1.2197902170684638, 0.34316689802647204, 0.809141526202134, 0.7871862068688209, 0.9311929655368785, 1.3787393683670581, 0.8957636671517856, 0.4539354175845559, 0.8016008510497853, 0.038093986874440086, 0.47047138273502004, 0.34374623610744165, 1.0501796650967357, 0.9308260149710634, 1.505301178901468, 0.9340242774223688, 0.6394000750012113, 1.1300743752272766, 0.5444598865598154, 0.8325633953593715, 0.6346180121436328, 0.6514563048377803, 0.7046843012134725, 1.407695428558841, 0.6802682533737574, 0.5572008788939368, 0.6496984071293685, 0.26636212470331705, 0.5077967573830026, 0.6230196359806042, 0.7198618414604192, 0.4017904103068495, 0.8004972339176176, 0.7979304275848319, 0.7662754243499253, 0.6015095446546068, 1.4362628162762507, 1.1889947447989253, 0.7897605059050372, 0.8321507479506399, 0.9686297907187653, 1.017461405157462, 1.0264335718387119, 1.5333910074473838, 0.27424430724888954, 1.0224265963385986, 1.264907874570755, 0.5901924203178452, 1.3004881133305624, 0.3102610987931237, 0.49891110313968035, 0.8754907782773612, 0.49039246618225146, 0.2475000170749883, 0.8375575658120885, 1.3113950954585827, 1.0999099358192574, 1.2437104735874331, 0.6633611529552342, 0.6892758841385617, 0.30151002424870316, 1.2457417443747698, 0.4817124812206047, 0.576774477003513, 1.4528298037749596, 0.7381117899315727, 1.1740962875420566, 1.5367565112679176, 0.5080671540126157, 0.8721151020548399, 1.0623363954733385, 0.5947927525227157, 0.4421512217376065, 1.4625321542113932, 0.6578300146425585, 0.6792795158345841, 0.4118339785193741, 0.8928781716509647, 0.10011335430917867, 0.7870746716222801, 0.603013619848291, 1.0043657106939177, 0.4093069800344699, 0.4930267789817036, 1.6818140207610193, 0.6983737157260071, 0.5006340524436903, 1.0332917373795123, 0.22692884677694816, 0.7485158773177515, 1.1125560921512498, 1.050610091357995, 0.6271084682766925, 1.5999963384733182, 1.1256911216290728, 1.1977225238472415, 0.5917524682881564, 0.5422453842937122, 0.5066716969436177, 0.85518441791702, 0.5925536827860008, 0.9078840638170758, 0.462915389574236, 1.115085588556242, 0.08101834315128387, 1.3497035507461925, 0.5240013293156774, 0.9849913927852492, 0.5161623349441499, 0.6102632084731289, 0.3584475168311336, 1.0004410534410795, 0.913797157091686, 0.43902360234778215, 0.5532996507892184, 0.3803920290093533, 1.3761072410571424, 0.5782024737966759, 0.7143931393830367, 0.5830154280464608, 0.6384303608137797, 1.26981231977528, 0.4876888101704525, 0.9642569950330149, 0.9356444132242742, 0.43763609286973454, 0.46557330884417103, 0.6616637250874448, 0.684330496831886, 0.3490778142228745, 0.6399565630456727, 0.13242855325877634, 0.5431458551339547, 0.5884093567512726, 1.2857306126979344, 0.7449416935797938, 1.2908708687351564, 1.5746698319547145, 0.6954668526206739, 0.7667286918797992, 0.8243757713013791, 1.2068696660662643, 0.6081964186447673, 0.7755541587857626, 0.5204656944621339, 0.9438836333807511, 0.5692236670999876, 0.792012414987497, 0.49244780152218676, 0.21088433741474397, 0.3360390396333654, 0.3554712336865476, 1.0169517617173323, 0.8779675193009744, 0.6880353257158044, 1.1331023836839456, 0.7808844178762229, 1.1049729860256938, 1.402029797681088, 0.25291059467998783, 1.1985256182249027, 1.0072129288634952, 1.078982462539281, 0.0, 0.9271676979407818, 0.6989923193769451, 0.6268293616646612, 0.8211525268546027, 0.5032319467719816, 0.881073916021542, 0.08663431973352549, 0.791538599028472, 1.10945598968697, 1.4817332663926586, 1.1510386056105202, 0.7478175230460251, 0.6813854379940243, 0.7846150971697565, 0.7946364282024582, 0.7324796894224263, 0.7439178115373054, 0.5315587913934235, 1.2319486715239136, 1.0484829225040289], \"sizemode\": \"area\", \"sizeref\": 0.004934475797101786, \"symbol\": \"circle\"}, \"mode\": \"markers\", \"name\": \"\", \"orientation\": \"v\", \"showlegend\": false, \"type\": \"scatter\", \"x\": [0.02381003545168039, 0.014912417931634408, 0.03958684928915139, 0.018968586185895076, 0.04324907364655065, 0.03851826039076764, 0.03580404093156251, 0.01783105971420984, 0.04898868432824022, 0.03751306734752232, 0.020721123658124084, 0.01784360346405702, 0.01542064170805946, 0.023243854331326634, 0.020110450900032346, 0.017304777090125477, 0.021886880979793355, 0.028865068716626266, 0.02975911984645168, 0.03562105816276361, 0.02102504176707481, 0.034367237998857235, 0.02468870683520059, 0.022069430881833826, 0.02187706184388633, 0.045394855523967804, 0.025692313693905924, 0.025321615623085877, 0.023522496323328576, 0.03425309752943014, 0.03919128426646292, 0.021417508427281073, 0.020347480278299756, 0.03413908955598739, 0.017121048144637184, 0.0181346754537598, 0.028469292250723612, 0.035145423537690165, 0.039752134618686354, 0.015961809962652247, 0.04072822757606463, 0.023992015615150096, 0.02536605255131522, 0.024134177113825706, 0.03612036066009751, 0.012928622815094399, 0.021862086908259484, 0.02068817756253505, 0.03614279265862586, 0.04012741876338392, 0.03667828882022748, 0.017207337172206492, 0.020390276493387958, 0.011236572264119653, 0.018813682292910954, 0.04235418366540396, 0.028704110487379808, 0.02601448101220392, 0.0246732717395476, 0.020672395198661438, 0.020333153881755956, 0.03182846198610248, 0.040073150870917014, 0.02065931624240033, 0.029621274940383885, 0.034967493871799205, 0.021541581618319074, 0.016428491486806644, 0.038815425083545727, 0.020212733297724644, 0.020272333403548594, 0.029618840364672192, 0.031184568261718643, 0.03323014678606791, 0.04431781668242379, 0.026259944618145424, 0.027252800990409064, 0.041193263856876446, 0.04718297805756832, 0.03099769532091476, 0.021116488494595624, 0.019279331446454093, 0.03225732391494039, 0.038583693563884934, 0.020989445122542194, 0.027464198229513733, 0.026876144354784644, 0.026593316084776174, 0.013857946377506699, 0.025884026111321266, 0.026037201132832886, 0.025781997621499332, 0.023402097844124604, 0.023245005916270437, 0.023996284101154567, 0.025854383780878096, 0.03425848168204951, 0.017841695337604286, 0.013580270021270454, 0.020576146089786067, 0.01903426930441195, 0.029660117735346082, 0.024230476315832344, 0.04434026736301812, 0.026227102774631965, 0.034791185112676155, 0.0534261703270007, 0.029482612303207437, 0.02629070415641297, 0.01659231781029138, 0.035574545594238866, 0.030136345458291962, 0.03807887062095122, 0.01389914437892455, 0.022661791281273217, 0.022083092776591706, 0.01852703462872108, 0.032799478105357084, 0.017479751767189983, 0.020144781732699256, 0.0290650479373547, 0.032842343275890834, 0.017669260518218828, 0.031106270105948325, 0.02981815251569863, 0.028524131848239112, 0.03928608296662961, 0.020437105373395683, 0.023281209197678954, 0.027375944230951875, 0.03471616723235447, 0.024836787322841607, 0.02706726656754653, 0.03481010664950364, 0.019404763866633597, 0.03155129776892594, 0.015179298938285783, 0.014805213154522231, 0.01823924763672453, 0.02601166874230626, 0.038484910720973674, 0.04122732739071613, 0.023597190406480364, 0.027080821076335842, 0.03627560963333519, 0.017038613300652244, 0.03424578228549246, 0.0387107664700059, 0.03524907152327232, 0.050645431038199476, 0.024014898625253377, 0.03697771877852982, 0.04126175418697949, 0.02064998328460131, 0.034989649231985914, 0.029612824687025262, 0.02688413064006017, 0.022992812960727575, 0.028651593311692532, 0.03825053939571464, 0.03299529502430809, 0.05062259687975399, 0.047050301765145804, 0.025024533288243247, 0.0318148526011928, 0.04189641185671837, 0.0338406405396903, 0.018311025287718434, 0.01788511942340873, 0.026954892695732244, 0.035409026161005525, 0.02592740374738463, 0.01752659649169905, 0.02396827576382929, 0.039278502335209096, 0.029030855588142158, 0.01565590079065928, 0.03423121815427152, 0.03476197315520334, 0.014127111221539927, 0.038327057368014075, 0.043688502627330685, 0.03369987321942808, 0.03751760770095169, 0.018051933336634962, 0.03951013516302018, 0.034575437937461054, 0.02555356876626274, 0.024179006493856903, 0.03194420390646867, 0.026798118601187203, 0.028271954227284568, 0.019244633302887598, 0.034455644076749906, 0.028468136754314855, 0.019160751392597212, 0.01571721571556862, 0.016093723519393026, 0.01615368635896324, 0.03873870789058535, 0.01988297751928217, 0.03603773865220704, 0.02790333680344508, 0.02515773760483597, 0.02748005844187172, 0.02389488191217989, 0.05607913713802724, 0.019928817153291166, 0.028300312128123135, 0.017264867370839772, 0.026380893114588213, 0.05078689727303289, 0.02181181901612129, 0.024304771037362623, 0.019999834486823867, 0.021362640499045814, 0.01669978219060695, 0.02222262168845474, 0.02796357527656092, 0.014287851694453171, 0.024594329838592423, 0.02029753232996622, 0.03592872035612849, 0.01780010675670347, 0.013949056801556978, 0.01544909727722271, 0.01370269072441663, 0.03689770446720766, 0.0316880261702231, 0.02326187912130692, 0.03623123556047994, 0.026089987496101145, 0.034008446045920716, 0.024573911059498094, 0.015572279209263558, 0.02322956046498375], \"xaxis\": \"x\", \"y\": [-0.0009377429870897015, -0.0018962779067769927, -0.0025692532582735437, 0.00012467595070570937, -0.0011986711440961448, 8.954073576176114e-05, -0.0024367793461910463, 2.590426632338329e-05, -0.002376170703104797, -0.0025449198302627775, 0.0034908814893126437, 0.0004738828435233274, 0.002234510058192662, 0.00010596045707991017, 0.0006122073768179824, -0.00012053843825294914, 0.0004901882564329412, -0.0009840298994616655, 0.0011532068126553796, 0.005702516734384283, -0.0002497787303978689, 0.0007992755818404765, 0.002059474828876386, 0.0005228146231005591, -0.0010658938577249475, 0.0018016706370175908, -0.0007670725193198629, -0.00024744176407360164, -0.00021762669138399187, -0.0037668750082906306, -0.0015593108170927756, -0.001332655085677474, -0.0003357797698747537, 0.000739528297531081, -6.140442812767708e-05, -0.0007898915272554131, -0.0015484217105074171, -0.0025776470110181362, -0.005330487362874576, 0.00044217972049915915, -0.003004070037324364, -6.0761837232948974e-05, 0.0009697686454303791, -0.0018940086697156343, -0.0011939009856654099, 0.00015258418170323285, 0.001389574661422696, -0.00041177993045199695, -0.0027487202171380108, -0.001733856024584198, -0.00417232502439619, -8.095306285829434e-05, 0.0008450450170000686, -0.0011937839840744787, -0.0005218601792184667, -0.0013314943502001034, -0.00020599112615118158, 0.0017747506870935913, -0.00032433328097837625, -0.001810484223222053, -0.0005898385238079243, -0.005017326726306118, -0.003397962363917928, -0.002192848780465323, 0.0003812047850162899, -0.00025310113332501914, 0.0019289080797802404, -0.00011006059350703148, -0.0021866523817679253, 0.000532183644582345, -0.0014662810325945656, -0.0007047049991255205, -0.0017818942388621829, -0.0018045137639820137, -0.0020092018481267866, 0.0019195983730066926, -0.001347639408946542, -0.0028910543981629493, -0.002576174898731918, -0.003694312015761982, -0.0016577667288581754, -0.0011392972806830914, -0.001379944267377085, -0.0037181042445429513, -0.000612779169346408, -0.0008136835352297252, -0.0009395892554575661, -0.0016678804065402566, 0.001079708674054253, 0.0009384363702411617, -0.0008072429958344654, -0.0006152094094108931, -2.0345611281877512e-05, 0.00017101943174185623, 0.00021281807759329868, 0.0024374416856891095, -0.0040374410940098885, 0.0001461901964508379, 0.0006660373808636003, -0.0013297256826041582, 0.001047621047288698, -0.0033155434697525457, -0.0019385049589281094, -0.0007342967370737161, -0.002135879944538664, -0.00425697667438123, -0.0012261888997562454, 0.001676858231075023, 0.0005586073737403916, 0.0007545085660078033, -0.0018604743301464028, -0.0014444971639120032, -0.0043127694629858495, 0.0006367972933020507, -0.0018786671599022732, -0.0014770307481612828, 0.0014951991029964855, -0.0013022931462666352, 0.0005898627270032447, 0.0019105864096245911, -0.0022804506928223115, -0.0005625628458690219, 0.00026357820730705785, -0.001986123101361359, -0.0026706651938524606, 0.002348625400606703, -0.002091187891785957, -0.001014010417744273, -0.0022040929818205857, -0.00037316820770904056, -0.005109806563560919, -0.0007812642210722098, -0.0016907470429600368, 0.00017930780261036532, -0.0018453608089980397, -0.0025554686321758386, 0.0018105949856668537, -0.0006869523046038597, -0.0014538959236570508, 0.00026074580926724734, -0.004842307251184889, -0.0015646561325482655, 0.0005516510637915212, 0.00035047467964064295, -0.002118691034153714, 0.0017975181633936217, 0.0008763729481872696, 0.0014603943019365683, -0.0022686937665029367, -0.003682036572006166, -0.0018898604721873686, -0.0007388703086219419, -0.0026501113316600507, -0.00022928103939713685, -0.003011452256052399, 0.0007049028414175085, -0.004043508395880678, 0.0014561346024344044, -0.0021710978684222346, 7.218035786554802e-05, -0.0025438200874775534, -0.003100295053402487, -0.0048775456288085665, 0.00011235618223789615, -0.00032155366874718234, -0.0037745310499113227, -0.0023972688357365287, -0.0018305464587013076, 0.0012122214024809408, -0.001796397115440571, -0.0015473944507947755, -0.0017068976635672198, -0.0009902175008178872, 0.0011953155945352363, -0.003216649137075457, -4.662576632011442e-05, -0.00010061153925979256, -0.0030919601683875, -0.0029762911946190555, -0.0007428582316020428, -0.0018690269789003765, -0.004598002065498847, -0.0018953102809680755, -0.005317894448816419, -0.0013096775778489043, -0.002565196123013325, 0.0018170252793052496, -0.0009851938049245704, 0.0012916054160422169, 0.003233711486618544, -0.0012565388829941623, -0.0009862278310053118, -0.0004844225228484156, 0.0013529631514039124, -0.001753395095165665, -0.0006399075223264587, -0.0012003467669176602, -8.108613910692704e-05, -0.0011009903954707484, -0.001186336861660993, -0.0016123430475193034, -0.004631805927881295, -0.0029979838050507874, -0.002620631987406953, 0.00019981836887429365, -0.0003857407729861392, -0.00269970899389675, 0.0005348746212354887, -0.0009197261637337533, 0.00038155882785406166, 0.0019032594685241444, -0.006167885382303467, 0.0008258192100897907, 0.0001368528035176665, 0.00035443084495316964, -0.003504630106911867, -0.00013116842189674367, -0.0010287993060013464, -0.0016345383228600033, -0.00036740986379321704, -0.0019497112638500107, -0.0003170455182298146, -0.005369867207858746, -0.0005465325659009394, 0.00031881343335242836, 0.0013220255404943987, 0.00040917557803454667, -0.0014046797116180657, -0.0015609953471427403, -0.000741362900288964, -0.0010935312326740896, -0.0010606500731821325, -0.0013170298670424966, -0.001830820581209636, 0.0006772673913921159, 0.00029230779292948147], \"yaxis\": \"y\"}, {\"marker\": {\"color\": \"Blue\", \"size\": 20}, \"mode\": \"markers\", \"name\": \"UNIFORM\", \"text\": [\"Uniform Portfolio\"], \"type\": \"scatter\", \"x\": [0.027694780249859798], \"xaxis\": \"x\", \"y\": [-0.0009413687195844739], \"yaxis\": \"y\"}, {\"marker\": {\"color\": \"Black\", \"size\": 20}, \"mode\": \"markers\", \"name\": \"NIFTY-50\", \"text\": [\"NIFTY-50\"], \"type\": \"scatter\", \"x\": [0.016022883945035562], \"y\": [0.0005365371993693484]}],                        {\"coloraxis\": {\"colorbar\": {\"title\": {\"text\": \"color\"}}, \"colorscale\": [[0.0, \"rgb(165,0,38)\"], [0.1, \"rgb(215,48,39)\"], [0.2, \"rgb(244,109,67)\"], [0.3, \"rgb(253,174,97)\"], [0.4, \"rgb(254,224,139)\"], [0.5, \"rgb(255,255,191)\"], [0.6, \"rgb(217,239,139)\"], [0.7, \"rgb(166,217,106)\"], [0.8, \"rgb(102,189,99)\"], [0.9, \"rgb(26,152,80)\"], [1.0, \"rgb(0,104,55)\"]]}, \"legend\": {\"font\": {\"family\": \"Courier\", \"size\": 10}, \"itemsizing\": \"constant\", \"tracegroupgap\": 0, \"traceorder\": \"normal\", \"x\": 0.89, \"y\": 1}, \"margin\": {\"t\": 60}, \"template\": {\"data\": {\"bar\": [{\"error_x\": {\"color\": \"#2a3f5f\"}, \"error_y\": {\"color\": \"#2a3f5f\"}, \"marker\": {\"line\": {\"color\": \"#E5ECF6\", \"width\": 0.5}}, \"type\": \"bar\"}], \"barpolar\": [{\"marker\": {\"line\": {\"color\": \"#E5ECF6\", \"width\": 0.5}}, \"type\": \"barpolar\"}], \"carpet\": [{\"aaxis\": {\"endlinecolor\": \"#2a3f5f\", \"gridcolor\": \"white\", \"linecolor\": \"white\", \"minorgridcolor\": \"white\", \"startlinecolor\": \"#2a3f5f\"}, \"baxis\": {\"endlinecolor\": \"#2a3f5f\", \"gridcolor\": \"white\", \"linecolor\": \"white\", \"minorgridcolor\": \"white\", \"startlinecolor\": \"#2a3f5f\"}, \"type\": \"carpet\"}], \"choropleth\": [{\"colorbar\": {\"outlinewidth\": 0, \"ticks\": \"\"}, \"type\": \"choropleth\"}], \"contour\": [{\"colorbar\": {\"outlinewidth\": 0, \"ticks\": \"\"}, \"colorscale\": [[0.0, \"#0d0887\"], [0.1111111111111111, \"#46039f\"], [0.2222222222222222, \"#7201a8\"], [0.3333333333333333, \"#9c179e\"], [0.4444444444444444, \"#bd3786\"], [0.5555555555555556, \"#d8576b\"], [0.6666666666666666, \"#ed7953\"], [0.7777777777777778, \"#fb9f3a\"], [0.8888888888888888, \"#fdca26\"], [1.0, \"#f0f921\"]], \"type\": \"contour\"}], \"contourcarpet\": [{\"colorbar\": {\"outlinewidth\": 0, \"ticks\": \"\"}, \"type\": \"contourcarpet\"}], \"heatmap\": [{\"colorbar\": {\"outlinewidth\": 0, \"ticks\": \"\"}, \"colorscale\": [[0.0, \"#0d0887\"], [0.1111111111111111, \"#46039f\"], [0.2222222222222222, \"#7201a8\"], [0.3333333333333333, \"#9c179e\"], [0.4444444444444444, \"#bd3786\"], [0.5555555555555556, \"#d8576b\"], [0.6666666666666666, \"#ed7953\"], [0.7777777777777778, \"#fb9f3a\"], [0.8888888888888888, \"#fdca26\"], [1.0, \"#f0f921\"]], \"type\": \"heatmap\"}], \"heatmapgl\": [{\"colorbar\": {\"outlinewidth\": 0, \"ticks\": \"\"}, \"colorscale\": [[0.0, \"#0d0887\"], [0.1111111111111111, \"#46039f\"], [0.2222222222222222, \"#7201a8\"], [0.3333333333333333, \"#9c179e\"], [0.4444444444444444, \"#bd3786\"], [0.5555555555555556, \"#d8576b\"], [0.6666666666666666, \"#ed7953\"], [0.7777777777777778, \"#fb9f3a\"], [0.8888888888888888, \"#fdca26\"], [1.0, \"#f0f921\"]], \"type\": \"heatmapgl\"}], \"histogram\": [{\"marker\": {\"colorbar\": {\"outlinewidth\": 0, \"ticks\": \"\"}}, \"type\": \"histogram\"}], \"histogram2d\": [{\"colorbar\": {\"outlinewidth\": 0, \"ticks\": \"\"}, \"colorscale\": [[0.0, \"#0d0887\"], [0.1111111111111111, \"#46039f\"], [0.2222222222222222, \"#7201a8\"], [0.3333333333333333, \"#9c179e\"], [0.4444444444444444, \"#bd3786\"], [0.5555555555555556, \"#d8576b\"], [0.6666666666666666, \"#ed7953\"], [0.7777777777777778, \"#fb9f3a\"], [0.8888888888888888, \"#fdca26\"], [1.0, \"#f0f921\"]], \"type\": \"histogram2d\"}], \"histogram2dcontour\": [{\"colorbar\": {\"outlinewidth\": 0, \"ticks\": \"\"}, \"colorscale\": [[0.0, \"#0d0887\"], [0.1111111111111111, \"#46039f\"], [0.2222222222222222, \"#7201a8\"], [0.3333333333333333, \"#9c179e\"], [0.4444444444444444, \"#bd3786\"], [0.5555555555555556, \"#d8576b\"], [0.6666666666666666, \"#ed7953\"], [0.7777777777777778, \"#fb9f3a\"], [0.8888888888888888, \"#fdca26\"], [1.0, \"#f0f921\"]], \"type\": \"histogram2dcontour\"}], \"mesh3d\": [{\"colorbar\": {\"outlinewidth\": 0, \"ticks\": \"\"}, \"type\": \"mesh3d\"}], \"parcoords\": [{\"line\": {\"colorbar\": {\"outlinewidth\": 0, \"ticks\": \"\"}}, \"type\": \"parcoords\"}], \"pie\": [{\"automargin\": true, \"type\": \"pie\"}], \"scatter\": [{\"marker\": {\"colorbar\": {\"outlinewidth\": 0, \"ticks\": \"\"}}, \"type\": \"scatter\"}], \"scatter3d\": [{\"line\": {\"colorbar\": {\"outlinewidth\": 0, \"ticks\": \"\"}}, \"marker\": {\"colorbar\": {\"outlinewidth\": 0, \"ticks\": \"\"}}, \"type\": \"scatter3d\"}], \"scattercarpet\": [{\"marker\": {\"colorbar\": {\"outlinewidth\": 0, \"ticks\": \"\"}}, \"type\": \"scattercarpet\"}], \"scattergeo\": [{\"marker\": {\"colorbar\": {\"outlinewidth\": 0, \"ticks\": \"\"}}, \"type\": \"scattergeo\"}], \"scattergl\": [{\"marker\": {\"colorbar\": {\"outlinewidth\": 0, \"ticks\": \"\"}}, \"type\": \"scattergl\"}], \"scattermapbox\": [{\"marker\": {\"colorbar\": {\"outlinewidth\": 0, \"ticks\": \"\"}}, \"type\": \"scattermapbox\"}], \"scatterpolar\": [{\"marker\": {\"colorbar\": {\"outlinewidth\": 0, \"ticks\": \"\"}}, \"type\": \"scatterpolar\"}], \"scatterpolargl\": [{\"marker\": {\"colorbar\": {\"outlinewidth\": 0, \"ticks\": \"\"}}, \"type\": \"scatterpolargl\"}], \"scatterternary\": [{\"marker\": {\"colorbar\": {\"outlinewidth\": 0, \"ticks\": \"\"}}, \"type\": \"scatterternary\"}], \"surface\": [{\"colorbar\": {\"outlinewidth\": 0, \"ticks\": \"\"}, \"colorscale\": [[0.0, \"#0d0887\"], [0.1111111111111111, \"#46039f\"], [0.2222222222222222, \"#7201a8\"], [0.3333333333333333, \"#9c179e\"], [0.4444444444444444, \"#bd3786\"], [0.5555555555555556, \"#d8576b\"], [0.6666666666666666, \"#ed7953\"], [0.7777777777777778, \"#fb9f3a\"], [0.8888888888888888, \"#fdca26\"], [1.0, \"#f0f921\"]], \"type\": \"surface\"}], \"table\": [{\"cells\": {\"fill\": {\"color\": \"#EBF0F8\"}, \"line\": {\"color\": \"white\"}}, \"header\": {\"fill\": {\"color\": \"#C8D4E3\"}, \"line\": {\"color\": \"white\"}}, \"type\": \"table\"}]}, \"layout\": {\"annotationdefaults\": {\"arrowcolor\": \"#2a3f5f\", \"arrowhead\": 0, \"arrowwidth\": 1}, \"autotypenumbers\": \"strict\", \"coloraxis\": {\"colorbar\": {\"outlinewidth\": 0, \"ticks\": \"\"}}, \"colorscale\": {\"diverging\": [[0, \"#8e0152\"], [0.1, \"#c51b7d\"], [0.2, \"#de77ae\"], [0.3, \"#f1b6da\"], [0.4, \"#fde0ef\"], [0.5, \"#f7f7f7\"], [0.6, \"#e6f5d0\"], [0.7, \"#b8e186\"], [0.8, \"#7fbc41\"], [0.9, \"#4d9221\"], [1, \"#276419\"]], \"sequential\": [[0.0, \"#0d0887\"], [0.1111111111111111, \"#46039f\"], [0.2222222222222222, \"#7201a8\"], [0.3333333333333333, \"#9c179e\"], [0.4444444444444444, \"#bd3786\"], [0.5555555555555556, \"#d8576b\"], [0.6666666666666666, \"#ed7953\"], [0.7777777777777778, \"#fb9f3a\"], [0.8888888888888888, \"#fdca26\"], [1.0, \"#f0f921\"]], \"sequentialminus\": [[0.0, \"#0d0887\"], [0.1111111111111111, \"#46039f\"], [0.2222222222222222, \"#7201a8\"], [0.3333333333333333, \"#9c179e\"], [0.4444444444444444, \"#bd3786\"], [0.5555555555555556, \"#d8576b\"], [0.6666666666666666, \"#ed7953\"], [0.7777777777777778, \"#fb9f3a\"], [0.8888888888888888, \"#fdca26\"], [1.0, \"#f0f921\"]]}, \"colorway\": [\"#636efa\", \"#EF553B\", \"#00cc96\", \"#ab63fa\", \"#FFA15A\", \"#19d3f3\", \"#FF6692\", \"#B6E880\", \"#FF97FF\", \"#FECB52\"], \"font\": {\"color\": \"#2a3f5f\"}, \"geo\": {\"bgcolor\": \"white\", \"lakecolor\": \"white\", \"landcolor\": \"#E5ECF6\", \"showlakes\": true, \"showland\": true, \"subunitcolor\": \"white\"}, \"hoverlabel\": {\"align\": \"left\"}, \"hovermode\": \"closest\", \"mapbox\": {\"style\": \"light\"}, \"paper_bgcolor\": \"white\", \"plot_bgcolor\": \"#E5ECF6\", \"polar\": {\"angularaxis\": {\"gridcolor\": \"white\", \"linecolor\": \"white\", \"ticks\": \"\"}, \"bgcolor\": \"#E5ECF6\", \"radialaxis\": {\"gridcolor\": \"white\", \"linecolor\": \"white\", \"ticks\": \"\"}}, \"scene\": {\"xaxis\": {\"backgroundcolor\": \"#E5ECF6\", \"gridcolor\": \"white\", \"gridwidth\": 2, \"linecolor\": \"white\", \"showbackground\": true, \"ticks\": \"\", \"zerolinecolor\": \"white\"}, \"yaxis\": {\"backgroundcolor\": \"#E5ECF6\", \"gridcolor\": \"white\", \"gridwidth\": 2, \"linecolor\": \"white\", \"showbackground\": true, \"ticks\": \"\", \"zerolinecolor\": \"white\"}, \"zaxis\": {\"backgroundcolor\": \"#E5ECF6\", \"gridcolor\": \"white\", \"gridwidth\": 2, \"linecolor\": \"white\", \"showbackground\": true, \"ticks\": \"\", \"zerolinecolor\": \"white\"}}, \"shapedefaults\": {\"line\": {\"color\": \"#2a3f5f\"}}, \"ternary\": {\"aaxis\": {\"gridcolor\": \"white\", \"linecolor\": \"white\", \"ticks\": \"\"}, \"baxis\": {\"gridcolor\": \"white\", \"linecolor\": \"white\", \"ticks\": \"\"}, \"bgcolor\": \"#E5ECF6\", \"caxis\": {\"gridcolor\": \"white\", \"linecolor\": \"white\", \"ticks\": \"\"}}, \"title\": {\"x\": 0.05}, \"xaxis\": {\"automargin\": true, \"gridcolor\": \"white\", \"linecolor\": \"white\", \"ticks\": \"\", \"title\": {\"standoff\": 15}, \"zerolinecolor\": \"white\", \"zerolinewidth\": 2}, \"yaxis\": {\"automargin\": true, \"gridcolor\": \"white\", \"linecolor\": \"white\", \"ticks\": \"\", \"title\": {\"standoff\": 15}, \"zerolinecolor\": \"white\", \"zerolinewidth\": 2}}}, \"xaxis\": {\"anchor\": \"y\", \"domain\": [0.0, 1.0], \"title\": {\"text\": \"logret_std\"}}, \"yaxis\": {\"anchor\": \"x\", \"domain\": [0.0, 1.0], \"title\": {\"text\": \"logret_mean\"}}},                        {\"responsive\": true}                    ).then(function(){\n",
       "                            \n",
       "var gd = document.getElementById('99fda249-faf5-4a5d-98ba-3d212f047a5c');\n",
       "var x = new MutationObserver(function (mutations, observer) {{\n",
       "        var display = window.getComputedStyle(gd).display;\n",
       "        if (!display || display === 'none') {{\n",
       "            console.log([gd, 'removed!']);\n",
       "            Plotly.purge(gd);\n",
       "            observer.disconnect();\n",
       "        }}\n",
       "}});\n",
       "\n",
       "// Listen for the removal of the full notebook cells\n",
       "var notebookContainer = gd.closest('#notebook-container');\n",
       "if (notebookContainer) {{\n",
       "    x.observe(notebookContainer, {childList: true});\n",
       "}}\n",
       "\n",
       "// Listen for the clearing of the current output cell\n",
       "var outputEl = gd.closest('.output');\n",
       "if (outputEl) {{\n",
       "    x.observe(outputEl, {childList: true});\n",
       "}}\n",
       "\n",
       "                        })                };                });            </script>        </div>"
      ]
     },
     "metadata": {},
     "output_type": "display_data"
    }
   ],
   "source": [
    "index = index.assign(logret=np.log(index.Close).diff())\n",
    "index_mean, index_std = index['logret'].mean(), index['logret'].std()\n",
    "fig.add_scatter(x=[index_std], y=[index_mean], mode=\"markers\",\n",
    "                marker=dict(size=20, color=\"Black\"), text=['NIFTY-50'], name='NIFTY-50')\n",
    "\n",
    "fig.update_layout(\n",
    "    legend = dict(\n",
    "        x=0.89,\n",
    "        y=1,\n",
    "        traceorder=\"normal\",\n",
    "        font = dict(family = \"Courier\", size = 10)\n",
    "    )\n",
    ")\n",
    "fig.show()"
   ]
  },
  {
   "cell_type": "code",
   "execution_count": 599,
   "metadata": {},
   "outputs": [
    {
     "data": {
      "application/vnd.plotly.v1+json": {
       "config": {
        "plotlyServerURL": "https://plot.ly"
       },
       "data": [
        {
         "hovertemplate": "Date=%{x}<br>Close=%{y}<extra></extra>",
         "legendgroup": "",
         "line": {
          "color": "#636efa",
          "dash": "solid"
         },
         "mode": "lines",
         "name": "",
         "orientation": "v",
         "showlegend": false,
         "type": "scatter",
         "x": [
          "2019-01-01",
          "2019-01-02",
          "2019-01-03",
          "2019-01-04",
          "2019-01-07",
          "2019-01-08",
          "2019-01-09",
          "2019-01-10",
          "2019-01-11",
          "2019-01-14",
          "2019-01-15",
          "2019-01-16",
          "2019-01-17",
          "2019-01-18",
          "2019-01-21",
          "2019-01-22",
          "2019-01-23",
          "2019-01-24",
          "2019-01-25",
          "2019-01-28",
          "2019-01-29",
          "2019-01-30",
          "2019-01-31",
          "2019-02-01",
          "2019-02-04",
          "2019-02-05",
          "2019-02-06",
          "2019-02-07",
          "2019-02-08",
          "2019-02-11",
          "2019-02-12",
          "2019-02-13",
          "2019-02-14",
          "2019-02-15",
          "2019-02-18",
          "2019-02-19",
          "2019-02-20",
          "2019-02-21",
          "2019-02-22",
          "2019-02-25",
          "2019-02-26",
          "2019-02-27",
          "2019-02-28",
          "2019-03-01",
          "2019-03-05",
          "2019-03-06",
          "2019-03-07",
          "2019-03-08",
          "2019-03-11",
          "2019-03-12",
          "2019-03-13",
          "2019-03-14",
          "2019-03-15",
          "2019-03-18",
          "2019-03-19",
          "2019-03-20",
          "2019-03-22",
          "2019-03-25",
          "2019-03-26",
          "2019-03-27",
          "2019-03-28",
          "2019-03-29",
          "2019-04-01",
          "2019-04-02",
          "2019-04-03",
          "2019-04-04",
          "2019-04-05",
          "2019-04-08",
          "2019-04-09",
          "2019-04-10",
          "2019-04-11",
          "2019-04-12",
          "2019-04-15",
          "2019-04-16",
          "2019-04-18",
          "2019-04-22",
          "2019-04-23",
          "2019-04-24",
          "2019-04-25",
          "2019-04-26",
          "2019-04-30",
          "2019-05-02",
          "2019-05-03",
          "2019-05-06",
          "2019-05-07",
          "2019-05-08",
          "2019-05-09",
          "2019-05-10",
          "2019-05-13",
          "2019-05-14",
          "2019-05-15",
          "2019-05-16",
          "2019-05-17",
          "2019-05-20",
          "2019-05-21",
          "2019-05-22",
          "2019-05-23",
          "2019-05-24",
          "2019-05-27",
          "2019-05-28",
          "2019-05-29",
          "2019-05-30",
          "2019-05-31",
          "2019-06-03",
          "2019-06-04",
          "2019-06-06",
          "2019-06-07",
          "2019-06-10",
          "2019-06-11",
          "2019-06-12",
          "2019-06-13",
          "2019-06-14",
          "2019-06-17",
          "2019-06-18",
          "2019-06-19",
          "2019-06-20",
          "2019-06-21",
          "2019-06-24",
          "2019-06-25",
          "2019-06-26",
          "2019-06-27",
          "2019-06-28",
          "2019-07-01",
          "2019-07-02",
          "2019-07-03",
          "2019-07-04",
          "2019-07-05",
          "2019-07-08",
          "2019-07-09",
          "2019-07-10",
          "2019-07-11",
          "2019-07-12",
          "2019-07-15",
          "2019-07-16",
          "2019-07-17",
          "2019-07-18",
          "2019-07-19",
          "2019-07-22",
          "2019-07-23",
          "2019-07-24",
          "2019-07-25",
          "2019-07-26",
          "2019-07-29",
          "2019-07-30",
          "2019-07-31",
          "2019-08-01",
          "2019-08-02",
          "2019-08-05",
          "2019-08-06",
          "2019-08-07",
          "2019-08-08",
          "2019-08-09",
          "2019-08-13",
          "2019-08-14",
          "2019-08-16",
          "2019-08-19",
          "2019-08-20",
          "2019-08-21",
          "2019-08-22",
          "2019-08-23",
          "2019-08-26",
          "2019-08-27",
          "2019-08-28",
          "2019-08-29",
          "2019-08-30",
          "2019-09-03",
          "2019-09-04",
          "2019-09-05",
          "2019-09-06",
          "2019-09-09",
          "2019-09-11",
          "2019-09-12",
          "2019-09-13",
          "2019-09-16",
          "2019-09-17",
          "2019-09-18",
          "2019-09-19",
          "2019-09-20",
          "2019-09-23",
          "2019-09-24",
          "2019-09-25",
          "2019-09-26",
          "2019-09-27",
          "2019-09-30",
          "2019-10-01",
          "2019-10-03",
          "2019-10-04",
          "2019-10-07",
          "2019-10-09",
          "2019-10-10",
          "2019-10-11",
          "2019-10-14",
          "2019-10-15",
          "2019-10-16",
          "2019-10-17",
          "2019-10-18",
          "2019-10-22",
          "2019-10-23",
          "2019-10-24",
          "2019-10-25",
          "2019-10-27",
          "2019-10-29",
          "2019-10-30",
          "2019-10-31",
          "2019-11-01",
          "2019-11-04",
          "2019-11-05",
          "2019-11-06",
          "2019-11-07",
          "2019-11-08",
          "2019-11-11",
          "2019-11-13",
          "2019-11-14",
          "2019-11-15",
          "2019-11-18",
          "2019-11-19",
          "2019-11-20",
          "2019-11-21",
          "2019-11-22",
          "2019-11-25",
          "2019-11-26",
          "2019-11-27",
          "2019-11-28",
          "2019-11-29",
          "2019-12-02",
          "2019-12-03",
          "2019-12-04",
          "2019-12-05",
          "2019-12-06",
          "2019-12-09",
          "2019-12-10",
          "2019-12-11",
          "2019-12-12",
          "2019-12-13",
          "2019-12-16",
          "2019-12-17",
          "2019-12-18",
          "2019-12-19",
          "2019-12-20",
          "2019-12-23",
          "2019-12-24",
          "2019-12-26",
          "2019-12-27",
          "2019-12-30",
          "2019-12-31"
         ],
         "xaxis": "x",
         "y": [
          10910.1,
          10792.5,
          10672.25,
          10727.35,
          10771.8,
          10802.15,
          10855.15,
          10821.6,
          10794.95,
          10737.6,
          10886.8,
          10890.3,
          10905.2,
          10906.95,
          10961.85,
          10922.75,
          10831.5,
          10849.8,
          10780.55,
          10661.55,
          10652.2,
          10651.8,
          10830.95,
          10893.65,
          10912.25,
          10934.35,
          11062.45,
          11069.4,
          10943.6,
          10888.8,
          10831.4,
          10793.65,
          10746.05,
          10724.4,
          10640.95,
          10604.35,
          10735.45,
          10789.85,
          10791.65,
          10880.1,
          10835.3,
          10806.65,
          10792.5,
          10863.5,
          10987.45,
          11053,
          11058.2,
          11035.4,
          11168.05,
          11301.2,
          11341.7,
          11343.25,
          11426.85,
          11462.2,
          11532.4,
          11521.05,
          11456.9,
          11354.25,
          11483.25,
          11445.05,
          11570,
          11623.9,
          11669.15,
          11713.2,
          11643.95,
          11598,
          11665.95,
          11604.5,
          11671.95,
          11584.3,
          11596.7,
          11643.45,
          11690.35,
          11787.15,
          11752.8,
          11594.45,
          11575.95,
          11726.15,
          11641.8,
          11754.65,
          11748.15,
          11724.75,
          11712.25,
          11598.25,
          11497.9,
          11359.45,
          11301.8,
          11278.9,
          11148.2,
          11222.05,
          11157,
          11257.1,
          11407.15,
          11828.25,
          11709.1,
          11737.9,
          11657.05,
          11844.1,
          11924.75,
          11928.75,
          11861.1,
          11945.9,
          11922.8,
          12088.55,
          12021.65,
          11843.75,
          11870.65,
          11922.7,
          11965.6,
          11906.2,
          11914.05,
          11823.3,
          11672.15,
          11691.5,
          11691.45,
          11831.75,
          11724.1,
          11699.65,
          11796.45,
          11847.55,
          11841.55,
          11788.85,
          11865.6,
          11910.3,
          11916.75,
          11946.75,
          11811.15,
          11558.6,
          11555.9,
          11498.9,
          11582.9,
          11552.5,
          11588.35,
          11662.6,
          11687.5,
          11596.9,
          11419.25,
          11346.2,
          11331.05,
          11271.3,
          11252.15,
          11284.3,
          11189.2,
          11085.4,
          11118,
          10980,
          10997.35,
          10862.6,
          10948.25,
          10855.5,
          11032.45,
          11109.65,
          10925.85,
          11029.4,
          11047.8,
          11053.9,
          11017,
          10918.7,
          10741.35,
          10829.35,
          11057.85,
          11105.35,
          11046.1,
          10948.3,
          11023.25,
          10797.9,
          10844.65,
          10847.9,
          10946.2,
          11003.05,
          11035.7,
          10982.8,
          11075.9,
          11003.5,
          10817.6,
          10840.65,
          10704.8,
          11274.2,
          11600.2,
          11588.2,
          11440.2,
          11571.2,
          11512.4,
          11474.45,
          11359.9,
          11314,
          11174.75,
          11126.4,
          11313.3,
          11234.55,
          11305.05,
          11341.15,
          11428.3,
          11464,
          11586.35,
          11661.85,
          11588.35,
          11604.1,
          11582.6,
          11583.9,
          11627.15,
          11786.85,
          11844.1,
          11877.45,
          11890.6,
          11941.3,
          11917.2,
          11966.05,
          12012.05,
          11908.15,
          11913.45,
          11840.45,
          11872.1,
          11895.45,
          11884.5,
          11940.1,
          11999.1,
          11968.4,
          11914.4,
          12073.75,
          12037.7,
          12100.7,
          12151.15,
          12056.05,
          12048.2,
          11994.2,
          12043.2,
          12018.4,
          11921.5,
          11937.5,
          11856.8,
          11910.15,
          11971.8,
          12086.7,
          12053.95,
          12165,
          12221.65,
          12259.7,
          12271.8,
          12262.75,
          12214.55,
          12126.55,
          12245.8,
          12255.85,
          12168.45
         ],
         "yaxis": "y"
        }
       ],
       "layout": {
        "legend": {
         "tracegroupgap": 0
        },
        "template": {
         "data": {
          "bar": [
           {
            "error_x": {
             "color": "#2a3f5f"
            },
            "error_y": {
             "color": "#2a3f5f"
            },
            "marker": {
             "line": {
              "color": "#E5ECF6",
              "width": 0.5
             }
            },
            "type": "bar"
           }
          ],
          "barpolar": [
           {
            "marker": {
             "line": {
              "color": "#E5ECF6",
              "width": 0.5
             }
            },
            "type": "barpolar"
           }
          ],
          "carpet": [
           {
            "aaxis": {
             "endlinecolor": "#2a3f5f",
             "gridcolor": "white",
             "linecolor": "white",
             "minorgridcolor": "white",
             "startlinecolor": "#2a3f5f"
            },
            "baxis": {
             "endlinecolor": "#2a3f5f",
             "gridcolor": "white",
             "linecolor": "white",
             "minorgridcolor": "white",
             "startlinecolor": "#2a3f5f"
            },
            "type": "carpet"
           }
          ],
          "choropleth": [
           {
            "colorbar": {
             "outlinewidth": 0,
             "ticks": ""
            },
            "type": "choropleth"
           }
          ],
          "contour": [
           {
            "colorbar": {
             "outlinewidth": 0,
             "ticks": ""
            },
            "colorscale": [
             [
              0,
              "#0d0887"
             ],
             [
              0.1111111111111111,
              "#46039f"
             ],
             [
              0.2222222222222222,
              "#7201a8"
             ],
             [
              0.3333333333333333,
              "#9c179e"
             ],
             [
              0.4444444444444444,
              "#bd3786"
             ],
             [
              0.5555555555555556,
              "#d8576b"
             ],
             [
              0.6666666666666666,
              "#ed7953"
             ],
             [
              0.7777777777777778,
              "#fb9f3a"
             ],
             [
              0.8888888888888888,
              "#fdca26"
             ],
             [
              1,
              "#f0f921"
             ]
            ],
            "type": "contour"
           }
          ],
          "contourcarpet": [
           {
            "colorbar": {
             "outlinewidth": 0,
             "ticks": ""
            },
            "type": "contourcarpet"
           }
          ],
          "heatmap": [
           {
            "colorbar": {
             "outlinewidth": 0,
             "ticks": ""
            },
            "colorscale": [
             [
              0,
              "#0d0887"
             ],
             [
              0.1111111111111111,
              "#46039f"
             ],
             [
              0.2222222222222222,
              "#7201a8"
             ],
             [
              0.3333333333333333,
              "#9c179e"
             ],
             [
              0.4444444444444444,
              "#bd3786"
             ],
             [
              0.5555555555555556,
              "#d8576b"
             ],
             [
              0.6666666666666666,
              "#ed7953"
             ],
             [
              0.7777777777777778,
              "#fb9f3a"
             ],
             [
              0.8888888888888888,
              "#fdca26"
             ],
             [
              1,
              "#f0f921"
             ]
            ],
            "type": "heatmap"
           }
          ],
          "heatmapgl": [
           {
            "colorbar": {
             "outlinewidth": 0,
             "ticks": ""
            },
            "colorscale": [
             [
              0,
              "#0d0887"
             ],
             [
              0.1111111111111111,
              "#46039f"
             ],
             [
              0.2222222222222222,
              "#7201a8"
             ],
             [
              0.3333333333333333,
              "#9c179e"
             ],
             [
              0.4444444444444444,
              "#bd3786"
             ],
             [
              0.5555555555555556,
              "#d8576b"
             ],
             [
              0.6666666666666666,
              "#ed7953"
             ],
             [
              0.7777777777777778,
              "#fb9f3a"
             ],
             [
              0.8888888888888888,
              "#fdca26"
             ],
             [
              1,
              "#f0f921"
             ]
            ],
            "type": "heatmapgl"
           }
          ],
          "histogram": [
           {
            "marker": {
             "colorbar": {
              "outlinewidth": 0,
              "ticks": ""
             }
            },
            "type": "histogram"
           }
          ],
          "histogram2d": [
           {
            "colorbar": {
             "outlinewidth": 0,
             "ticks": ""
            },
            "colorscale": [
             [
              0,
              "#0d0887"
             ],
             [
              0.1111111111111111,
              "#46039f"
             ],
             [
              0.2222222222222222,
              "#7201a8"
             ],
             [
              0.3333333333333333,
              "#9c179e"
             ],
             [
              0.4444444444444444,
              "#bd3786"
             ],
             [
              0.5555555555555556,
              "#d8576b"
             ],
             [
              0.6666666666666666,
              "#ed7953"
             ],
             [
              0.7777777777777778,
              "#fb9f3a"
             ],
             [
              0.8888888888888888,
              "#fdca26"
             ],
             [
              1,
              "#f0f921"
             ]
            ],
            "type": "histogram2d"
           }
          ],
          "histogram2dcontour": [
           {
            "colorbar": {
             "outlinewidth": 0,
             "ticks": ""
            },
            "colorscale": [
             [
              0,
              "#0d0887"
             ],
             [
              0.1111111111111111,
              "#46039f"
             ],
             [
              0.2222222222222222,
              "#7201a8"
             ],
             [
              0.3333333333333333,
              "#9c179e"
             ],
             [
              0.4444444444444444,
              "#bd3786"
             ],
             [
              0.5555555555555556,
              "#d8576b"
             ],
             [
              0.6666666666666666,
              "#ed7953"
             ],
             [
              0.7777777777777778,
              "#fb9f3a"
             ],
             [
              0.8888888888888888,
              "#fdca26"
             ],
             [
              1,
              "#f0f921"
             ]
            ],
            "type": "histogram2dcontour"
           }
          ],
          "mesh3d": [
           {
            "colorbar": {
             "outlinewidth": 0,
             "ticks": ""
            },
            "type": "mesh3d"
           }
          ],
          "parcoords": [
           {
            "line": {
             "colorbar": {
              "outlinewidth": 0,
              "ticks": ""
             }
            },
            "type": "parcoords"
           }
          ],
          "pie": [
           {
            "automargin": true,
            "type": "pie"
           }
          ],
          "scatter": [
           {
            "marker": {
             "colorbar": {
              "outlinewidth": 0,
              "ticks": ""
             }
            },
            "type": "scatter"
           }
          ],
          "scatter3d": [
           {
            "line": {
             "colorbar": {
              "outlinewidth": 0,
              "ticks": ""
             }
            },
            "marker": {
             "colorbar": {
              "outlinewidth": 0,
              "ticks": ""
             }
            },
            "type": "scatter3d"
           }
          ],
          "scattercarpet": [
           {
            "marker": {
             "colorbar": {
              "outlinewidth": 0,
              "ticks": ""
             }
            },
            "type": "scattercarpet"
           }
          ],
          "scattergeo": [
           {
            "marker": {
             "colorbar": {
              "outlinewidth": 0,
              "ticks": ""
             }
            },
            "type": "scattergeo"
           }
          ],
          "scattergl": [
           {
            "marker": {
             "colorbar": {
              "outlinewidth": 0,
              "ticks": ""
             }
            },
            "type": "scattergl"
           }
          ],
          "scattermapbox": [
           {
            "marker": {
             "colorbar": {
              "outlinewidth": 0,
              "ticks": ""
             }
            },
            "type": "scattermapbox"
           }
          ],
          "scatterpolar": [
           {
            "marker": {
             "colorbar": {
              "outlinewidth": 0,
              "ticks": ""
             }
            },
            "type": "scatterpolar"
           }
          ],
          "scatterpolargl": [
           {
            "marker": {
             "colorbar": {
              "outlinewidth": 0,
              "ticks": ""
             }
            },
            "type": "scatterpolargl"
           }
          ],
          "scatterternary": [
           {
            "marker": {
             "colorbar": {
              "outlinewidth": 0,
              "ticks": ""
             }
            },
            "type": "scatterternary"
           }
          ],
          "surface": [
           {
            "colorbar": {
             "outlinewidth": 0,
             "ticks": ""
            },
            "colorscale": [
             [
              0,
              "#0d0887"
             ],
             [
              0.1111111111111111,
              "#46039f"
             ],
             [
              0.2222222222222222,
              "#7201a8"
             ],
             [
              0.3333333333333333,
              "#9c179e"
             ],
             [
              0.4444444444444444,
              "#bd3786"
             ],
             [
              0.5555555555555556,
              "#d8576b"
             ],
             [
              0.6666666666666666,
              "#ed7953"
             ],
             [
              0.7777777777777778,
              "#fb9f3a"
             ],
             [
              0.8888888888888888,
              "#fdca26"
             ],
             [
              1,
              "#f0f921"
             ]
            ],
            "type": "surface"
           }
          ],
          "table": [
           {
            "cells": {
             "fill": {
              "color": "#EBF0F8"
             },
             "line": {
              "color": "white"
             }
            },
            "header": {
             "fill": {
              "color": "#C8D4E3"
             },
             "line": {
              "color": "white"
             }
            },
            "type": "table"
           }
          ]
         },
         "layout": {
          "annotationdefaults": {
           "arrowcolor": "#2a3f5f",
           "arrowhead": 0,
           "arrowwidth": 1
          },
          "autotypenumbers": "strict",
          "coloraxis": {
           "colorbar": {
            "outlinewidth": 0,
            "ticks": ""
           }
          },
          "colorscale": {
           "diverging": [
            [
             0,
             "#8e0152"
            ],
            [
             0.1,
             "#c51b7d"
            ],
            [
             0.2,
             "#de77ae"
            ],
            [
             0.3,
             "#f1b6da"
            ],
            [
             0.4,
             "#fde0ef"
            ],
            [
             0.5,
             "#f7f7f7"
            ],
            [
             0.6,
             "#e6f5d0"
            ],
            [
             0.7,
             "#b8e186"
            ],
            [
             0.8,
             "#7fbc41"
            ],
            [
             0.9,
             "#4d9221"
            ],
            [
             1,
             "#276419"
            ]
           ],
           "sequential": [
            [
             0,
             "#0d0887"
            ],
            [
             0.1111111111111111,
             "#46039f"
            ],
            [
             0.2222222222222222,
             "#7201a8"
            ],
            [
             0.3333333333333333,
             "#9c179e"
            ],
            [
             0.4444444444444444,
             "#bd3786"
            ],
            [
             0.5555555555555556,
             "#d8576b"
            ],
            [
             0.6666666666666666,
             "#ed7953"
            ],
            [
             0.7777777777777778,
             "#fb9f3a"
            ],
            [
             0.8888888888888888,
             "#fdca26"
            ],
            [
             1,
             "#f0f921"
            ]
           ],
           "sequentialminus": [
            [
             0,
             "#0d0887"
            ],
            [
             0.1111111111111111,
             "#46039f"
            ],
            [
             0.2222222222222222,
             "#7201a8"
            ],
            [
             0.3333333333333333,
             "#9c179e"
            ],
            [
             0.4444444444444444,
             "#bd3786"
            ],
            [
             0.5555555555555556,
             "#d8576b"
            ],
            [
             0.6666666666666666,
             "#ed7953"
            ],
            [
             0.7777777777777778,
             "#fb9f3a"
            ],
            [
             0.8888888888888888,
             "#fdca26"
            ],
            [
             1,
             "#f0f921"
            ]
           ]
          },
          "colorway": [
           "#636efa",
           "#EF553B",
           "#00cc96",
           "#ab63fa",
           "#FFA15A",
           "#19d3f3",
           "#FF6692",
           "#B6E880",
           "#FF97FF",
           "#FECB52"
          ],
          "font": {
           "color": "#2a3f5f"
          },
          "geo": {
           "bgcolor": "white",
           "lakecolor": "white",
           "landcolor": "#E5ECF6",
           "showlakes": true,
           "showland": true,
           "subunitcolor": "white"
          },
          "hoverlabel": {
           "align": "left"
          },
          "hovermode": "closest",
          "mapbox": {
           "style": "light"
          },
          "paper_bgcolor": "white",
          "plot_bgcolor": "#E5ECF6",
          "polar": {
           "angularaxis": {
            "gridcolor": "white",
            "linecolor": "white",
            "ticks": ""
           },
           "bgcolor": "#E5ECF6",
           "radialaxis": {
            "gridcolor": "white",
            "linecolor": "white",
            "ticks": ""
           }
          },
          "scene": {
           "xaxis": {
            "backgroundcolor": "#E5ECF6",
            "gridcolor": "white",
            "gridwidth": 2,
            "linecolor": "white",
            "showbackground": true,
            "ticks": "",
            "zerolinecolor": "white"
           },
           "yaxis": {
            "backgroundcolor": "#E5ECF6",
            "gridcolor": "white",
            "gridwidth": 2,
            "linecolor": "white",
            "showbackground": true,
            "ticks": "",
            "zerolinecolor": "white"
           },
           "zaxis": {
            "backgroundcolor": "#E5ECF6",
            "gridcolor": "white",
            "gridwidth": 2,
            "linecolor": "white",
            "showbackground": true,
            "ticks": "",
            "zerolinecolor": "white"
           }
          },
          "shapedefaults": {
           "line": {
            "color": "#2a3f5f"
           }
          },
          "ternary": {
           "aaxis": {
            "gridcolor": "white",
            "linecolor": "white",
            "ticks": ""
           },
           "baxis": {
            "gridcolor": "white",
            "linecolor": "white",
            "ticks": ""
           },
           "bgcolor": "#E5ECF6",
           "caxis": {
            "gridcolor": "white",
            "linecolor": "white",
            "ticks": ""
           }
          },
          "title": {
           "x": 0.05
          },
          "xaxis": {
           "automargin": true,
           "gridcolor": "white",
           "linecolor": "white",
           "ticks": "",
           "title": {
            "standoff": 15
           },
           "zerolinecolor": "white",
           "zerolinewidth": 2
          },
          "yaxis": {
           "automargin": true,
           "gridcolor": "white",
           "linecolor": "white",
           "ticks": "",
           "title": {
            "standoff": 15
           },
           "zerolinecolor": "white",
           "zerolinewidth": 2
          }
         }
        },
        "title": {
         "text": "NIFTY-50 in 2019"
        },
        "xaxis": {
         "anchor": "y",
         "domain": [
          0,
          1
         ],
         "title": {
          "text": "Date"
         }
        },
        "yaxis": {
         "anchor": "x",
         "domain": [
          0,
          1
         ],
         "title": {
          "text": "Close"
         }
        }
       }
      },
      "text/html": [
       "<div>                            <div id=\"05ec081e-307e-4de2-be06-ad3209a4565c\" class=\"plotly-graph-div\" style=\"height:525px; width:100%;\"></div>            <script type=\"text/javascript\">                require([\"plotly\"], function(Plotly) {                    window.PLOTLYENV=window.PLOTLYENV || {};                                    if (document.getElementById(\"05ec081e-307e-4de2-be06-ad3209a4565c\")) {                    Plotly.newPlot(                        \"05ec081e-307e-4de2-be06-ad3209a4565c\",                        [{\"hovertemplate\": \"Date=%{x}<br>Close=%{y}<extra></extra>\", \"legendgroup\": \"\", \"line\": {\"color\": \"#636efa\", \"dash\": \"solid\"}, \"mode\": \"lines\", \"name\": \"\", \"orientation\": \"v\", \"showlegend\": false, \"type\": \"scatter\", \"x\": [\"2019-01-01\", \"2019-01-02\", \"2019-01-03\", \"2019-01-04\", \"2019-01-07\", \"2019-01-08\", \"2019-01-09\", \"2019-01-10\", \"2019-01-11\", \"2019-01-14\", \"2019-01-15\", \"2019-01-16\", \"2019-01-17\", \"2019-01-18\", \"2019-01-21\", \"2019-01-22\", \"2019-01-23\", \"2019-01-24\", \"2019-01-25\", \"2019-01-28\", \"2019-01-29\", \"2019-01-30\", \"2019-01-31\", \"2019-02-01\", \"2019-02-04\", \"2019-02-05\", \"2019-02-06\", \"2019-02-07\", \"2019-02-08\", \"2019-02-11\", \"2019-02-12\", \"2019-02-13\", \"2019-02-14\", \"2019-02-15\", \"2019-02-18\", \"2019-02-19\", \"2019-02-20\", \"2019-02-21\", \"2019-02-22\", \"2019-02-25\", \"2019-02-26\", \"2019-02-27\", \"2019-02-28\", \"2019-03-01\", \"2019-03-05\", \"2019-03-06\", \"2019-03-07\", \"2019-03-08\", \"2019-03-11\", \"2019-03-12\", \"2019-03-13\", \"2019-03-14\", \"2019-03-15\", \"2019-03-18\", \"2019-03-19\", \"2019-03-20\", \"2019-03-22\", \"2019-03-25\", \"2019-03-26\", \"2019-03-27\", \"2019-03-28\", \"2019-03-29\", \"2019-04-01\", \"2019-04-02\", \"2019-04-03\", \"2019-04-04\", \"2019-04-05\", \"2019-04-08\", \"2019-04-09\", \"2019-04-10\", \"2019-04-11\", \"2019-04-12\", \"2019-04-15\", \"2019-04-16\", \"2019-04-18\", \"2019-04-22\", \"2019-04-23\", \"2019-04-24\", \"2019-04-25\", \"2019-04-26\", \"2019-04-30\", \"2019-05-02\", \"2019-05-03\", \"2019-05-06\", \"2019-05-07\", \"2019-05-08\", \"2019-05-09\", \"2019-05-10\", \"2019-05-13\", \"2019-05-14\", \"2019-05-15\", \"2019-05-16\", \"2019-05-17\", \"2019-05-20\", \"2019-05-21\", \"2019-05-22\", \"2019-05-23\", \"2019-05-24\", \"2019-05-27\", \"2019-05-28\", \"2019-05-29\", \"2019-05-30\", \"2019-05-31\", \"2019-06-03\", \"2019-06-04\", \"2019-06-06\", \"2019-06-07\", \"2019-06-10\", \"2019-06-11\", \"2019-06-12\", \"2019-06-13\", \"2019-06-14\", \"2019-06-17\", \"2019-06-18\", \"2019-06-19\", \"2019-06-20\", \"2019-06-21\", \"2019-06-24\", \"2019-06-25\", \"2019-06-26\", \"2019-06-27\", \"2019-06-28\", \"2019-07-01\", \"2019-07-02\", \"2019-07-03\", \"2019-07-04\", \"2019-07-05\", \"2019-07-08\", \"2019-07-09\", \"2019-07-10\", \"2019-07-11\", \"2019-07-12\", \"2019-07-15\", \"2019-07-16\", \"2019-07-17\", \"2019-07-18\", \"2019-07-19\", \"2019-07-22\", \"2019-07-23\", \"2019-07-24\", \"2019-07-25\", \"2019-07-26\", \"2019-07-29\", \"2019-07-30\", \"2019-07-31\", \"2019-08-01\", \"2019-08-02\", \"2019-08-05\", \"2019-08-06\", \"2019-08-07\", \"2019-08-08\", \"2019-08-09\", \"2019-08-13\", \"2019-08-14\", \"2019-08-16\", \"2019-08-19\", \"2019-08-20\", \"2019-08-21\", \"2019-08-22\", \"2019-08-23\", \"2019-08-26\", \"2019-08-27\", \"2019-08-28\", \"2019-08-29\", \"2019-08-30\", \"2019-09-03\", \"2019-09-04\", \"2019-09-05\", \"2019-09-06\", \"2019-09-09\", \"2019-09-11\", \"2019-09-12\", \"2019-09-13\", \"2019-09-16\", \"2019-09-17\", \"2019-09-18\", \"2019-09-19\", \"2019-09-20\", \"2019-09-23\", \"2019-09-24\", \"2019-09-25\", \"2019-09-26\", \"2019-09-27\", \"2019-09-30\", \"2019-10-01\", \"2019-10-03\", \"2019-10-04\", \"2019-10-07\", \"2019-10-09\", \"2019-10-10\", \"2019-10-11\", \"2019-10-14\", \"2019-10-15\", \"2019-10-16\", \"2019-10-17\", \"2019-10-18\", \"2019-10-22\", \"2019-10-23\", \"2019-10-24\", \"2019-10-25\", \"2019-10-27\", \"2019-10-29\", \"2019-10-30\", \"2019-10-31\", \"2019-11-01\", \"2019-11-04\", \"2019-11-05\", \"2019-11-06\", \"2019-11-07\", \"2019-11-08\", \"2019-11-11\", \"2019-11-13\", \"2019-11-14\", \"2019-11-15\", \"2019-11-18\", \"2019-11-19\", \"2019-11-20\", \"2019-11-21\", \"2019-11-22\", \"2019-11-25\", \"2019-11-26\", \"2019-11-27\", \"2019-11-28\", \"2019-11-29\", \"2019-12-02\", \"2019-12-03\", \"2019-12-04\", \"2019-12-05\", \"2019-12-06\", \"2019-12-09\", \"2019-12-10\", \"2019-12-11\", \"2019-12-12\", \"2019-12-13\", \"2019-12-16\", \"2019-12-17\", \"2019-12-18\", \"2019-12-19\", \"2019-12-20\", \"2019-12-23\", \"2019-12-24\", \"2019-12-26\", \"2019-12-27\", \"2019-12-30\", \"2019-12-31\"], \"xaxis\": \"x\", \"y\": [10910.1, 10792.5, 10672.25, 10727.35, 10771.8, 10802.15, 10855.15, 10821.6, 10794.95, 10737.6, 10886.8, 10890.3, 10905.2, 10906.95, 10961.85, 10922.75, 10831.5, 10849.8, 10780.55, 10661.55, 10652.2, 10651.8, 10830.95, 10893.65, 10912.25, 10934.35, 11062.45, 11069.4, 10943.6, 10888.8, 10831.4, 10793.65, 10746.05, 10724.4, 10640.95, 10604.35, 10735.45, 10789.85, 10791.65, 10880.1, 10835.3, 10806.65, 10792.5, 10863.5, 10987.45, 11053.0, 11058.2, 11035.4, 11168.05, 11301.2, 11341.7, 11343.25, 11426.85, 11462.2, 11532.4, 11521.05, 11456.9, 11354.25, 11483.25, 11445.05, 11570.0, 11623.9, 11669.15, 11713.2, 11643.95, 11598.0, 11665.95, 11604.5, 11671.95, 11584.3, 11596.7, 11643.45, 11690.35, 11787.15, 11752.8, 11594.45, 11575.95, 11726.15, 11641.8, 11754.65, 11748.15, 11724.75, 11712.25, 11598.25, 11497.9, 11359.45, 11301.8, 11278.9, 11148.2, 11222.05, 11157.0, 11257.1, 11407.15, 11828.25, 11709.1, 11737.9, 11657.05, 11844.1, 11924.75, 11928.75, 11861.1, 11945.9, 11922.8, 12088.55, 12021.65, 11843.75, 11870.65, 11922.7, 11965.6, 11906.2, 11914.05, 11823.3, 11672.15, 11691.5, 11691.45, 11831.75, 11724.1, 11699.65, 11796.45, 11847.55, 11841.55, 11788.85, 11865.6, 11910.3, 11916.75, 11946.75, 11811.15, 11558.6, 11555.9, 11498.9, 11582.9, 11552.5, 11588.35, 11662.6, 11687.5, 11596.9, 11419.25, 11346.2, 11331.05, 11271.3, 11252.15, 11284.3, 11189.2, 11085.4, 11118.0, 10980.0, 10997.35, 10862.6, 10948.25, 10855.5, 11032.45, 11109.65, 10925.85, 11029.4, 11047.8, 11053.9, 11017.0, 10918.7, 10741.35, 10829.35, 11057.85, 11105.35, 11046.1, 10948.3, 11023.25, 10797.9, 10844.65, 10847.9, 10946.2, 11003.05, 11035.7, 10982.8, 11075.9, 11003.5, 10817.6, 10840.65, 10704.8, 11274.2, 11600.2, 11588.2, 11440.2, 11571.2, 11512.4, 11474.45, 11359.9, 11314.0, 11174.75, 11126.4, 11313.3, 11234.55, 11305.05, 11341.15, 11428.3, 11464.0, 11586.35, 11661.85, 11588.35, 11604.1, 11582.6, 11583.9, 11627.15, 11786.85, 11844.1, 11877.45, 11890.6, 11941.3, 11917.2, 11966.05, 12012.05, 11908.15, 11913.45, 11840.45, 11872.1, 11895.45, 11884.5, 11940.1, 11999.1, 11968.4, 11914.4, 12073.75, 12037.7, 12100.7, 12151.15, 12056.05, 12048.2, 11994.2, 12043.2, 12018.4, 11921.5, 11937.5, 11856.8, 11910.15, 11971.8, 12086.7, 12053.95, 12165.0, 12221.65, 12259.7, 12271.8, 12262.75, 12214.55, 12126.55, 12245.8, 12255.85, 12168.45], \"yaxis\": \"y\"}],                        {\"legend\": {\"tracegroupgap\": 0}, \"template\": {\"data\": {\"bar\": [{\"error_x\": {\"color\": \"#2a3f5f\"}, \"error_y\": {\"color\": \"#2a3f5f\"}, \"marker\": {\"line\": {\"color\": \"#E5ECF6\", \"width\": 0.5}}, \"type\": \"bar\"}], \"barpolar\": [{\"marker\": {\"line\": {\"color\": \"#E5ECF6\", \"width\": 0.5}}, \"type\": \"barpolar\"}], \"carpet\": [{\"aaxis\": {\"endlinecolor\": \"#2a3f5f\", \"gridcolor\": \"white\", \"linecolor\": \"white\", \"minorgridcolor\": \"white\", \"startlinecolor\": \"#2a3f5f\"}, \"baxis\": {\"endlinecolor\": \"#2a3f5f\", \"gridcolor\": \"white\", \"linecolor\": \"white\", \"minorgridcolor\": \"white\", \"startlinecolor\": \"#2a3f5f\"}, \"type\": \"carpet\"}], \"choropleth\": [{\"colorbar\": {\"outlinewidth\": 0, \"ticks\": \"\"}, \"type\": \"choropleth\"}], \"contour\": [{\"colorbar\": {\"outlinewidth\": 0, \"ticks\": \"\"}, \"colorscale\": [[0.0, \"#0d0887\"], [0.1111111111111111, \"#46039f\"], [0.2222222222222222, \"#7201a8\"], [0.3333333333333333, \"#9c179e\"], [0.4444444444444444, \"#bd3786\"], [0.5555555555555556, \"#d8576b\"], [0.6666666666666666, \"#ed7953\"], [0.7777777777777778, \"#fb9f3a\"], [0.8888888888888888, \"#fdca26\"], [1.0, \"#f0f921\"]], \"type\": \"contour\"}], \"contourcarpet\": [{\"colorbar\": {\"outlinewidth\": 0, \"ticks\": \"\"}, \"type\": \"contourcarpet\"}], \"heatmap\": [{\"colorbar\": {\"outlinewidth\": 0, \"ticks\": \"\"}, \"colorscale\": [[0.0, \"#0d0887\"], [0.1111111111111111, \"#46039f\"], [0.2222222222222222, \"#7201a8\"], [0.3333333333333333, \"#9c179e\"], [0.4444444444444444, \"#bd3786\"], [0.5555555555555556, \"#d8576b\"], [0.6666666666666666, \"#ed7953\"], [0.7777777777777778, \"#fb9f3a\"], [0.8888888888888888, \"#fdca26\"], [1.0, \"#f0f921\"]], \"type\": \"heatmap\"}], \"heatmapgl\": [{\"colorbar\": {\"outlinewidth\": 0, \"ticks\": \"\"}, \"colorscale\": [[0.0, \"#0d0887\"], [0.1111111111111111, \"#46039f\"], [0.2222222222222222, \"#7201a8\"], [0.3333333333333333, \"#9c179e\"], [0.4444444444444444, \"#bd3786\"], [0.5555555555555556, \"#d8576b\"], [0.6666666666666666, \"#ed7953\"], [0.7777777777777778, \"#fb9f3a\"], [0.8888888888888888, \"#fdca26\"], [1.0, \"#f0f921\"]], \"type\": \"heatmapgl\"}], \"histogram\": [{\"marker\": {\"colorbar\": {\"outlinewidth\": 0, \"ticks\": \"\"}}, \"type\": \"histogram\"}], \"histogram2d\": [{\"colorbar\": {\"outlinewidth\": 0, \"ticks\": \"\"}, \"colorscale\": [[0.0, \"#0d0887\"], [0.1111111111111111, \"#46039f\"], [0.2222222222222222, \"#7201a8\"], [0.3333333333333333, \"#9c179e\"], [0.4444444444444444, \"#bd3786\"], [0.5555555555555556, \"#d8576b\"], [0.6666666666666666, \"#ed7953\"], [0.7777777777777778, \"#fb9f3a\"], [0.8888888888888888, \"#fdca26\"], [1.0, \"#f0f921\"]], \"type\": \"histogram2d\"}], \"histogram2dcontour\": [{\"colorbar\": {\"outlinewidth\": 0, \"ticks\": \"\"}, \"colorscale\": [[0.0, \"#0d0887\"], [0.1111111111111111, \"#46039f\"], [0.2222222222222222, \"#7201a8\"], [0.3333333333333333, \"#9c179e\"], [0.4444444444444444, \"#bd3786\"], [0.5555555555555556, \"#d8576b\"], [0.6666666666666666, \"#ed7953\"], [0.7777777777777778, \"#fb9f3a\"], [0.8888888888888888, \"#fdca26\"], [1.0, \"#f0f921\"]], \"type\": \"histogram2dcontour\"}], \"mesh3d\": [{\"colorbar\": {\"outlinewidth\": 0, \"ticks\": \"\"}, \"type\": \"mesh3d\"}], \"parcoords\": [{\"line\": {\"colorbar\": {\"outlinewidth\": 0, \"ticks\": \"\"}}, \"type\": \"parcoords\"}], \"pie\": [{\"automargin\": true, \"type\": \"pie\"}], \"scatter\": [{\"marker\": {\"colorbar\": {\"outlinewidth\": 0, \"ticks\": \"\"}}, \"type\": \"scatter\"}], \"scatter3d\": [{\"line\": {\"colorbar\": {\"outlinewidth\": 0, \"ticks\": \"\"}}, \"marker\": {\"colorbar\": {\"outlinewidth\": 0, \"ticks\": \"\"}}, \"type\": \"scatter3d\"}], \"scattercarpet\": [{\"marker\": {\"colorbar\": {\"outlinewidth\": 0, \"ticks\": \"\"}}, \"type\": \"scattercarpet\"}], \"scattergeo\": [{\"marker\": {\"colorbar\": {\"outlinewidth\": 0, \"ticks\": \"\"}}, \"type\": \"scattergeo\"}], \"scattergl\": [{\"marker\": {\"colorbar\": {\"outlinewidth\": 0, \"ticks\": \"\"}}, \"type\": \"scattergl\"}], \"scattermapbox\": [{\"marker\": {\"colorbar\": {\"outlinewidth\": 0, \"ticks\": \"\"}}, \"type\": \"scattermapbox\"}], \"scatterpolar\": [{\"marker\": {\"colorbar\": {\"outlinewidth\": 0, \"ticks\": \"\"}}, \"type\": \"scatterpolar\"}], \"scatterpolargl\": [{\"marker\": {\"colorbar\": {\"outlinewidth\": 0, \"ticks\": \"\"}}, \"type\": \"scatterpolargl\"}], \"scatterternary\": [{\"marker\": {\"colorbar\": {\"outlinewidth\": 0, \"ticks\": \"\"}}, \"type\": \"scatterternary\"}], \"surface\": [{\"colorbar\": {\"outlinewidth\": 0, \"ticks\": \"\"}, \"colorscale\": [[0.0, \"#0d0887\"], [0.1111111111111111, \"#46039f\"], [0.2222222222222222, \"#7201a8\"], [0.3333333333333333, \"#9c179e\"], [0.4444444444444444, \"#bd3786\"], [0.5555555555555556, \"#d8576b\"], [0.6666666666666666, \"#ed7953\"], [0.7777777777777778, \"#fb9f3a\"], [0.8888888888888888, \"#fdca26\"], [1.0, \"#f0f921\"]], \"type\": \"surface\"}], \"table\": [{\"cells\": {\"fill\": {\"color\": \"#EBF0F8\"}, \"line\": {\"color\": \"white\"}}, \"header\": {\"fill\": {\"color\": \"#C8D4E3\"}, \"line\": {\"color\": \"white\"}}, \"type\": \"table\"}]}, \"layout\": {\"annotationdefaults\": {\"arrowcolor\": \"#2a3f5f\", \"arrowhead\": 0, \"arrowwidth\": 1}, \"autotypenumbers\": \"strict\", \"coloraxis\": {\"colorbar\": {\"outlinewidth\": 0, \"ticks\": \"\"}}, \"colorscale\": {\"diverging\": [[0, \"#8e0152\"], [0.1, \"#c51b7d\"], [0.2, \"#de77ae\"], [0.3, \"#f1b6da\"], [0.4, \"#fde0ef\"], [0.5, \"#f7f7f7\"], [0.6, \"#e6f5d0\"], [0.7, \"#b8e186\"], [0.8, \"#7fbc41\"], [0.9, \"#4d9221\"], [1, \"#276419\"]], \"sequential\": [[0.0, \"#0d0887\"], [0.1111111111111111, \"#46039f\"], [0.2222222222222222, \"#7201a8\"], [0.3333333333333333, \"#9c179e\"], [0.4444444444444444, \"#bd3786\"], [0.5555555555555556, \"#d8576b\"], [0.6666666666666666, \"#ed7953\"], [0.7777777777777778, \"#fb9f3a\"], [0.8888888888888888, \"#fdca26\"], [1.0, \"#f0f921\"]], \"sequentialminus\": [[0.0, \"#0d0887\"], [0.1111111111111111, \"#46039f\"], [0.2222222222222222, \"#7201a8\"], [0.3333333333333333, \"#9c179e\"], [0.4444444444444444, \"#bd3786\"], [0.5555555555555556, \"#d8576b\"], [0.6666666666666666, \"#ed7953\"], [0.7777777777777778, \"#fb9f3a\"], [0.8888888888888888, \"#fdca26\"], [1.0, \"#f0f921\"]]}, \"colorway\": [\"#636efa\", \"#EF553B\", \"#00cc96\", \"#ab63fa\", \"#FFA15A\", \"#19d3f3\", \"#FF6692\", \"#B6E880\", \"#FF97FF\", \"#FECB52\"], \"font\": {\"color\": \"#2a3f5f\"}, \"geo\": {\"bgcolor\": \"white\", \"lakecolor\": \"white\", \"landcolor\": \"#E5ECF6\", \"showlakes\": true, \"showland\": true, \"subunitcolor\": \"white\"}, \"hoverlabel\": {\"align\": \"left\"}, \"hovermode\": \"closest\", \"mapbox\": {\"style\": \"light\"}, \"paper_bgcolor\": \"white\", \"plot_bgcolor\": \"#E5ECF6\", \"polar\": {\"angularaxis\": {\"gridcolor\": \"white\", \"linecolor\": \"white\", \"ticks\": \"\"}, \"bgcolor\": \"#E5ECF6\", \"radialaxis\": {\"gridcolor\": \"white\", \"linecolor\": \"white\", \"ticks\": \"\"}}, \"scene\": {\"xaxis\": {\"backgroundcolor\": \"#E5ECF6\", \"gridcolor\": \"white\", \"gridwidth\": 2, \"linecolor\": \"white\", \"showbackground\": true, \"ticks\": \"\", \"zerolinecolor\": \"white\"}, \"yaxis\": {\"backgroundcolor\": \"#E5ECF6\", \"gridcolor\": \"white\", \"gridwidth\": 2, \"linecolor\": \"white\", \"showbackground\": true, \"ticks\": \"\", \"zerolinecolor\": \"white\"}, \"zaxis\": {\"backgroundcolor\": \"#E5ECF6\", \"gridcolor\": \"white\", \"gridwidth\": 2, \"linecolor\": \"white\", \"showbackground\": true, \"ticks\": \"\", \"zerolinecolor\": \"white\"}}, \"shapedefaults\": {\"line\": {\"color\": \"#2a3f5f\"}}, \"ternary\": {\"aaxis\": {\"gridcolor\": \"white\", \"linecolor\": \"white\", \"ticks\": \"\"}, \"baxis\": {\"gridcolor\": \"white\", \"linecolor\": \"white\", \"ticks\": \"\"}, \"bgcolor\": \"#E5ECF6\", \"caxis\": {\"gridcolor\": \"white\", \"linecolor\": \"white\", \"ticks\": \"\"}}, \"title\": {\"x\": 0.05}, \"xaxis\": {\"automargin\": true, \"gridcolor\": \"white\", \"linecolor\": \"white\", \"ticks\": \"\", \"title\": {\"standoff\": 15}, \"zerolinecolor\": \"white\", \"zerolinewidth\": 2}, \"yaxis\": {\"automargin\": true, \"gridcolor\": \"white\", \"linecolor\": \"white\", \"ticks\": \"\", \"title\": {\"standoff\": 15}, \"zerolinecolor\": \"white\", \"zerolinewidth\": 2}}}, \"title\": {\"text\": \"NIFTY-50 in 2019\"}, \"xaxis\": {\"anchor\": \"y\", \"domain\": [0.0, 1.0], \"title\": {\"text\": \"Date\"}}, \"yaxis\": {\"anchor\": \"x\", \"domain\": [0.0, 1.0], \"title\": {\"text\": \"Close\"}}},                        {\"responsive\": true}                    ).then(function(){\n",
       "                            \n",
       "var gd = document.getElementById('05ec081e-307e-4de2-be06-ad3209a4565c');\n",
       "var x = new MutationObserver(function (mutations, observer) {{\n",
       "        var display = window.getComputedStyle(gd).display;\n",
       "        if (!display || display === 'none') {{\n",
       "            console.log([gd, 'removed!']);\n",
       "            Plotly.purge(gd);\n",
       "            observer.disconnect();\n",
       "        }}\n",
       "}});\n",
       "\n",
       "// Listen for the removal of the full notebook cells\n",
       "var notebookContainer = gd.closest('#notebook-container');\n",
       "if (notebookContainer) {{\n",
       "    x.observe(notebookContainer, {childList: true});\n",
       "}}\n",
       "\n",
       "// Listen for the clearing of the current output cell\n",
       "var outputEl = gd.closest('.output');\n",
       "if (outputEl) {{\n",
       "    x.observe(outputEl, {childList: true});\n",
       "}}\n",
       "\n",
       "                        })                };                });            </script>        </div>"
      ]
     },
     "metadata": {},
     "output_type": "display_data"
    }
   ],
   "source": [
    "import plotly.express as px\n",
    "\n",
    "index = index.loc[index['Date'].str.startswith('2019')]\n",
    "fig_index_line = px.line(index, x=\"Date\", y=\"Close\", title='NIFTY-50 in 2019')\n",
    "fig_index_line.show()"
   ]
  },
  {
   "cell_type": "markdown",
   "metadata": {},
   "source": [
    "## 5 - VaR"
   ]
  },
  {
   "cell_type": "code",
   "execution_count": 600,
   "metadata": {},
   "outputs": [],
   "source": [
    "def getVaR(data, tLVL):\n",
    "    if isinstance(data, pd.DataFrame):\n",
    "        return data.aggregate(getVaR, tLVL=tLVL)\n",
    "    elif isinstance(data, pd.Series):\n",
    "        return -np.percentile(data, tLVL)\n",
    "    else:\n",
    "        raise TypeError(\"Expected data to be a Series or DataFrame\")"
   ]
  },
  {
   "cell_type": "code",
   "execution_count": 601,
   "metadata": {},
   "outputs": [
    {
     "data": {
      "text/html": [
       "<div>\n",
       "<style scoped>\n",
       "    .dataframe tbody tr th:only-of-type {\n",
       "        vertical-align: middle;\n",
       "    }\n",
       "\n",
       "    .dataframe tbody tr th {\n",
       "        vertical-align: top;\n",
       "    }\n",
       "\n",
       "    .dataframe thead th {\n",
       "        text-align: right;\n",
       "    }\n",
       "</style>\n",
       "<table border=\"1\" class=\"dataframe\">\n",
       "  <thead>\n",
       "    <tr style=\"text-align: right;\">\n",
       "      <th></th>\n",
       "      <th>ticker</th>\n",
       "      <th>VaR-90</th>\n",
       "      <th>VaR-95</th>\n",
       "      <th>VaR-97.5</th>\n",
       "    </tr>\n",
       "  </thead>\n",
       "  <tbody>\n",
       "    <tr>\n",
       "      <th>0</th>\n",
       "      <td>20MICRONS</td>\n",
       "      <td>-0.028774</td>\n",
       "      <td>-0.037061</td>\n",
       "      <td>-0.044602</td>\n",
       "    </tr>\n",
       "    <tr>\n",
       "      <th>1</th>\n",
       "      <td>21STCENMGM</td>\n",
       "      <td>-0.019307</td>\n",
       "      <td>-0.019680</td>\n",
       "      <td>-0.019969</td>\n",
       "    </tr>\n",
       "    <tr>\n",
       "      <th>2</th>\n",
       "      <td>3IINFOTECH</td>\n",
       "      <td>-0.040658</td>\n",
       "      <td>-0.052541</td>\n",
       "      <td>-0.068787</td>\n",
       "    </tr>\n",
       "    <tr>\n",
       "      <th>3</th>\n",
       "      <td>3MINDIA</td>\n",
       "      <td>-0.017371</td>\n",
       "      <td>-0.024182</td>\n",
       "      <td>-0.032750</td>\n",
       "    </tr>\n",
       "    <tr>\n",
       "      <th>4</th>\n",
       "      <td>5PAISA</td>\n",
       "      <td>-0.047012</td>\n",
       "      <td>-0.051155</td>\n",
       "      <td>-0.051255</td>\n",
       "    </tr>\n",
       "    <tr>\n",
       "      <th>...</th>\n",
       "      <td>...</td>\n",
       "      <td>...</td>\n",
       "      <td>...</td>\n",
       "      <td>...</td>\n",
       "    </tr>\n",
       "    <tr>\n",
       "      <th>231</th>\n",
       "      <td>CONTROLPR</td>\n",
       "      <td>-0.031692</td>\n",
       "      <td>-0.036013</td>\n",
       "      <td>-0.040982</td>\n",
       "    </tr>\n",
       "    <tr>\n",
       "      <th>232</th>\n",
       "      <td>CORALFINAC</td>\n",
       "      <td>-0.037655</td>\n",
       "      <td>-0.050258</td>\n",
       "      <td>-0.061254</td>\n",
       "    </tr>\n",
       "    <tr>\n",
       "      <th>233</th>\n",
       "      <td>CORDSCABLE</td>\n",
       "      <td>-0.030867</td>\n",
       "      <td>-0.038608</td>\n",
       "      <td>-0.045046</td>\n",
       "    </tr>\n",
       "    <tr>\n",
       "      <th>234</th>\n",
       "      <td>COROMANDEL</td>\n",
       "      <td>-0.015086</td>\n",
       "      <td>-0.023460</td>\n",
       "      <td>-0.027375</td>\n",
       "    </tr>\n",
       "    <tr>\n",
       "      <th>235</th>\n",
       "      <td>COSMOFILMS</td>\n",
       "      <td>-0.024959</td>\n",
       "      <td>-0.029607</td>\n",
       "      <td>-0.035674</td>\n",
       "    </tr>\n",
       "  </tbody>\n",
       "</table>\n",
       "<p>236 rows × 4 columns</p>\n",
       "</div>"
      ],
      "text/plain": [
       "         ticker    VaR-90    VaR-95  VaR-97.5\n",
       "0     20MICRONS -0.028774 -0.037061 -0.044602\n",
       "1    21STCENMGM -0.019307 -0.019680 -0.019969\n",
       "2    3IINFOTECH -0.040658 -0.052541 -0.068787\n",
       "3       3MINDIA -0.017371 -0.024182 -0.032750\n",
       "4        5PAISA -0.047012 -0.051155 -0.051255\n",
       "..          ...       ...       ...       ...\n",
       "231   CONTROLPR -0.031692 -0.036013 -0.040982\n",
       "232  CORALFINAC -0.037655 -0.050258 -0.061254\n",
       "233  CORDSCABLE -0.030867 -0.038608 -0.045046\n",
       "234  COROMANDEL -0.015086 -0.023460 -0.027375\n",
       "235  COSMOFILMS -0.024959 -0.029607 -0.035674\n",
       "\n",
       "[236 rows x 4 columns]"
      ]
     },
     "execution_count": 601,
     "metadata": {},
     "output_type": "execute_result"
    }
   ],
   "source": [
    "TRUST_LEVELS = [90, 95, 97.5]\n",
    "\n",
    "tickersVaRs = pd.DataFrame(data=[], columns=['ticker'] + [f'VaR-{tLVL}' for tLVL in TRUST_LEVELS])\n",
    "\n",
    "# compute VaR to tickers     \n",
    "for index, (ticker, data) in enumerate(data_for_ticker.items()):\n",
    "    tickersVaRs_row = [ticker]\n",
    "    for tLVL in TRUST_LEVELS:\n",
    "        quantile_value = getVaR(data['minus_logret'][1:], tLVL)\n",
    "        tickersVaRs_row.append(quantile_value)\n",
    "    tickersVaRs.loc[index] = tickersVaRs_row\n",
    "            \n",
    "# plot values     \n",
    "tickersVaRs"
   ]
  },
  {
   "cell_type": "code",
   "execution_count": 602,
   "metadata": {},
   "outputs": [
    {
     "data": {
      "application/vnd.plotly.v1+json": {
       "config": {
        "plotlyServerURL": "https://plot.ly"
       },
       "data": [
        {
         "alignmentgroup": "True",
         "hovertemplate": "ticker=%{x}<br>VaR-90=%{marker.color}<extra></extra>",
         "legendgroup": "",
         "marker": {
          "color": [
           -0.012783975524282466,
           -0.013213773805965091,
           -0.013829219237990742,
           -0.013997169737572354,
           -0.014131709080816629,
           -0.014701791709529392,
           -0.014796691621113568,
           -0.01506092055454529,
           -0.015086252006024117,
           -0.015091561994783032,
           -0.015186451061089736,
           -0.015256181102357672,
           -0.015325873237351396,
           -0.015817541384226533,
           -0.016141534962476722,
           -0.016320441995808208,
           -0.016647974518709776,
           -0.01697799004170052,
           -0.017193909497871925,
           -0.017371331520670632,
           -0.01745525259106522,
           -0.017601199581347877,
           -0.017631768073526823,
           -0.017704285190428954,
           -0.017880941848382667,
           -0.017916919902332042,
           -0.018018364406157884,
           -0.01811277055658477,
           -0.018160752147599008,
           -0.01816764146125758,
           -0.018351450326555795,
           -0.018595880600977048,
           -0.018797962892150633,
           -0.01894728495821064,
           -0.01920998454074701,
           -0.019293492637618596,
           -0.019307396517405984,
           -0.019350606925491495,
           -0.01944304304094926,
           -0.019572994122134448,
           -0.019705889183105726,
           -0.01970675924671035,
           -0.019822718004087046,
           -0.019883438610539542,
           -0.019922184158810113,
           -0.020124810350992742,
           -0.02016373755072484,
           -0.020350615262687208,
           -0.020726508908241934,
           -0.020736484822082884,
           -0.020849960027817718,
           -0.020981465293029813,
           -0.021273954756841375,
           -0.02139285374400457,
           -0.0215747348200134,
           -0.0215898527043688,
           -0.02176842685278864,
           -0.021825441644558304,
           -0.021988642396570543,
           -0.02206807805023037,
           -0.022281273992688366,
           -0.022299528763555548,
           -0.022380406892749435,
           -0.022706706408975742,
           -0.022723024068589746,
           -0.02274263701105408,
           -0.022801364831591103,
           -0.022847804477437835,
           -0.022848344964154606,
           -0.022940130523691777,
           -0.02305800661480566,
           -0.023155844145686826,
           -0.02321781780449996,
           -0.023295548319950756,
           -0.023398728756559177,
           -0.02364186631288884,
           -0.023644159611088615,
           -0.02367660935582122,
           -0.023752551639687883,
           -0.023978902400045955,
           -0.024013819090276646,
           -0.02402914000076848,
           -0.024048863320430592,
           -0.024106726884642084,
           -0.0242556929684862,
           -0.02439328071659217,
           -0.02445079554427309,
           -0.024527797964166636,
           -0.024548363757168273,
           -0.024565246106506768,
           -0.024611500069540784,
           -0.024725879437034165,
           -0.024958949864757253,
           -0.02526269098441345,
           -0.0252959364553755,
           -0.025345116506016476,
           -0.025410507379913575,
           -0.025562960711682174,
           -0.02561785052319663,
           -0.025977460468949692,
           -0.02598494156869232,
           -0.026028119960937613,
           -0.02603702085825468,
           -0.02607044672355814,
           -0.02611674373638531,
           -0.026175081638159816,
           -0.026196072992119745,
           -0.026275255038217538,
           -0.026408957752916965,
           -0.026489277619537878,
           -0.02664909408439674,
           -0.02666344918303046,
           -0.02702767234754742,
           -0.02706258839452369,
           -0.02708634562457251,
           -0.02712230316606662,
           -0.02750778476555507,
           -0.02751879324445171,
           -0.027570709102820074,
           -0.027810180587143844,
           -0.027882335132793964,
           -0.027932968859546665,
           -0.028015856540725366,
           -0.028490714485597854,
           -0.028496840628370813,
           -0.028773727875351145,
           -0.028939667780604347,
           -0.02936603025843719,
           -0.029374310737931363,
           -0.02951447040302308,
           -0.029753252073325874,
           -0.030003850642150463,
           -0.030006530602320856,
           -0.030126748316540566,
           -0.03018235927303047,
           -0.03043881356112426,
           -0.030496050011631998,
           -0.030515203916244495,
           -0.030528759605098016,
           -0.030551823674469958,
           -0.030735176207243357,
           -0.030773545405155867,
           -0.030840293980200963,
           -0.030867469600437316,
           -0.031055071405226363,
           -0.03118553520548688,
           -0.031362557771840854,
           -0.03169162329529014,
           -0.03186827803140986,
           -0.03203458763854621,
           -0.03208580860525432,
           -0.032104093567665,
           -0.03213825118834335,
           -0.03223695640396641,
           -0.03240427471816001,
           -0.03262043813944057,
           -0.032626091901306435,
           -0.032847609957365353,
           -0.032955727440419184,
           -0.03325607590995683,
           -0.033429955961012156,
           -0.0336660261039353,
           -0.03367235585003617,
           -0.03376681761526856,
           -0.03393605647157214,
           -0.03418077185041881,
           -0.03454787896558589,
           -0.034752668923910345,
           -0.03481498100171141,
           -0.03484396583347054,
           -0.03507421291231412,
           -0.03512298275566002,
           -0.035377447269309054,
           -0.03539794884887319,
           -0.03541185333045223,
           -0.03546908009815866,
           -0.03558849018939574,
           -0.035725690799636944,
           -0.03616568427840275,
           -0.03645602921290419,
           -0.03654479444986603,
           -0.036873509164357915,
           -0.03713911432913637,
           -0.037655498348463115,
           -0.037661209316377335,
           -0.03767043872507486,
           -0.037778460831103325,
           -0.038091860511541495,
           -0.03828604936248539,
           -0.03888514176918485,
           -0.03910245852373376,
           -0.039319017291206064,
           -0.039469485603748806,
           -0.03980768384597368,
           -0.03990103049072088,
           -0.039977756394974584,
           -0.04030611229653386,
           -0.040423857059894354,
           -0.040657565905560654,
           -0.040971898357658444,
           -0.041035263021533284,
           -0.041184240462743646,
           -0.0416954057703661,
           -0.041888505477522965,
           -0.041942694158892055,
           -0.041991830699267894,
           -0.04220598457708188,
           -0.0423542018256817,
           -0.04300949626940572,
           -0.043367888224996695,
           -0.043507835015753456,
           -0.04354958143779007,
           -0.04360655910689828,
           -0.04393322172174456,
           -0.04439405542080292,
           -0.04456797192172682,
           -0.04463249836757521,
           -0.04467526738285219,
           -0.046039479411094694,
           -0.04615466387859321,
           -0.04625679351659148,
           -0.04637600964302524,
           -0.04652001563489283,
           -0.046520015634892886,
           -0.047011995761475245,
           -0.04716643281548638,
           -0.0473181498732026,
           -0.0477876295211209,
           -0.048407368402109796,
           -0.048578970918893884,
           -0.04880421009964699,
           -0.04896650879815159,
           -0.04979879956979927,
           -0.05008594782065492,
           -0.05037288284833132,
           -0.06044067329980767
          ],
          "coloraxis": "coloraxis"
         },
         "name": "",
         "offsetgroup": "",
         "orientation": "v",
         "showlegend": false,
         "textposition": "auto",
         "type": "bar",
         "x": [
          "AMBIKCO",
          "ATUL",
          "BAJAJ-AUTO",
          "ASIANPAINT",
          "BERGEPAINT",
          "BATAINDIA",
          "BAJAJFINSV",
          "COLPAL",
          "COROMANDEL",
          "COFORGE",
          "AKZOINDIA",
          "BSE",
          "ABBOTINDIA",
          "ACCELYA",
          "COCHINSHIP",
          "ALKEM",
          "CDSL",
          "BAJFINANCE",
          "AARTIDRUGS",
          "3MINDIA",
          "CHOLAHLDNG",
          "AXISBANK",
          "BALMLAWRIE",
          "BAYERCROP",
          "BLUESTARCO",
          "BAJAJHLDNG",
          "ABB",
          "BRITANNIA",
          "CHEMFAB",
          "CIPLA",
          "AMARAJABAT",
          "APLLTD",
          "ANDHRAPAP",
          "AUBANK",
          "CCL",
          "AAVAS",
          "21STCENMGM",
          "CARERATING",
          "CLNINDIA",
          "BBL",
          "AJANTPHARM",
          "CESC",
          "ADANIPORTS",
          "BHARATFORG",
          "AMBER",
          "CEATLTD",
          "ACC",
          "ATFL",
          "ALEMBICLTD",
          "BLISSGVS",
          "CONCOR",
          "BALKRISIND",
          "BLUEDART",
          "ADANITRANS",
          "APOLLOHOSP",
          "BIOCON",
          "ALKYLAMINE",
          "BAJAJCON",
          "BRIGADE",
          "AIAENG",
          "CENTENKA",
          "ALLCARGO",
          "APLAPOLLO",
          "AMRUTANJAN",
          "ASAHIINDIA",
          "BANARISUG",
          "ANDHRSUGAR",
          "CARBORUNIV",
          "CHALET",
          "BOSCHLTD",
          "AARTIIND",
          "CASTROLIND",
          "CERA",
          "AMBUJACEM",
          "ARVSMART",
          "APOLLOTYRE",
          "COALINDIA",
          "ASTEC",
          "APARINDS",
          "ASTRAL",
          "ABCAPITAL",
          "AVTNPL",
          "ALBERTDAVD",
          "ASHIANA",
          "ASTERDM",
          "AUROPHARMA",
          "AHLUCONT",
          "BHARTIARTL",
          "ADFFOODS",
          "AEGISCHEM",
          "ADORWELD",
          "CADILAHC",
          "COSMOFILMS",
          "ARMANFIN",
          "ABFRL",
          "CGCL",
          "CIGNITITEC",
          "ASTRAZEN",
          "AMJLAND",
          "BEML",
          "CENTURYTEX",
          "BDL",
          "BANCOINDIA",
          "CAREERP",
          "ASTRAMICRO",
          "AVANTIFEED",
          "AHLEAST",
          "ALICON",
          "CANFINHOME",
          "ADVENZYMES",
          "ADVANIHOTR",
          "CANTABIL",
          "ADANIENT",
          "BPCL",
          "ATULAUTO",
          "BHARATRAS",
          "BIRLACORPN",
          "BASF",
          "ASIANTILES",
          "CHENNPETRO",
          "CHAMBLFERT",
          "BODALCHEM",
          "BAJAJELEC",
          "BEL",
          "BHAGERIA",
          "20MICRONS",
          "CENTURYPLY",
          "AUTOAXLES",
          "BORORENEW",
          "ANANTRAJ",
          "CAPACITE",
          "ADANIGREEN",
          "CAPLIPOINT",
          "BHARATWIRE",
          "BALPHARMA",
          "CLEDUCATE",
          "BHAGYANGR",
          "CINELINE",
          "ADANIPOWER",
          "APTECHT",
          "ASHOKA",
          "ASPINWALL",
          "ASIANHOTNR",
          "CORDSCABLE",
          "ASHOKLEY",
          "CENTRALBK",
          "BANKBARODA",
          "CONTROLPR",
          "AROGRANITE",
          "BAJAJHIND",
          "CANBK",
          "BFINVEST",
          "CENTUM",
          "BANDHANBNK",
          "BALAJITELE",
          "BANKINDIA",
          "BHEL",
          "ACE",
          "CENTRUM",
          "CAMLINFINE",
          "CEREBRAINT",
          "ARCHIDPLY",
          "ALKALI",
          "COMPUSOFT",
          "BSOFT",
          "BALRAMCHIN",
          "BUTTERFLY",
          "BANSWRAS",
          "AHLWEST",
          "COMPINFO",
          "ALPA",
          "AYMSYNTEX",
          "APCL",
          "AGARIND",
          "ASTRON",
          "ARIES",
          "AJMERA",
          "BFUTILITIE",
          "BALAMINES",
          "APEX",
          "AURIONPRO",
          "ASAHISONG",
          "BGRENERGY",
          "CORALFINAC",
          "ARVIND",
          "ASAL",
          "BLS",
          "AUTOIND",
          "APOLLO",
          "AARVEEDEN",
          "BOMDYEING",
          "AKSHARCHEM",
          "AGRITECH",
          "AXISCADES",
          "CENTEXT",
          "BANARBEADS",
          "ALPHAGEO",
          "BROOKS",
          "3IINFOTECH",
          "AVADHSUGAR",
          "BINDALAGRO",
          "BRNL",
          "BEPL",
          "BHAGYAPROP",
          "BASML",
          "BANG",
          "BHARATGEAR",
          "CONSOFINVT",
          "BSL",
          "AUSOMENT",
          "AMDIND",
          "63MOONS",
          "ANIKINDS",
          "BPL",
          "CELEBRITY",
          "ALANKIT",
          "BAGFILMS",
          "CMICABLES",
          "BIGBLOC",
          "ADSL",
          "BIRLACABLE",
          "CGPOWER",
          "ANSALAPI",
          "BHANDARI",
          "5PAISA",
          "A2ZINFRA",
          "AKSHOPTFBR",
          "ARSHIYA",
          "ALMONDZ",
          "BLKASHYAP",
          "ARIHANT",
          "BEDMUTHA",
          "ARSSINFRA",
          "CALSOFT",
          "BYKE",
          "BEARDSELL"
         ],
         "xaxis": "x",
         "y": [
          -0.012783975524282466,
          -0.013213773805965091,
          -0.013829219237990742,
          -0.013997169737572354,
          -0.014131709080816629,
          -0.014701791709529392,
          -0.014796691621113568,
          -0.01506092055454529,
          -0.015086252006024117,
          -0.015091561994783032,
          -0.015186451061089736,
          -0.015256181102357672,
          -0.015325873237351396,
          -0.015817541384226533,
          -0.016141534962476722,
          -0.016320441995808208,
          -0.016647974518709776,
          -0.01697799004170052,
          -0.017193909497871925,
          -0.017371331520670632,
          -0.01745525259106522,
          -0.017601199581347877,
          -0.017631768073526823,
          -0.017704285190428954,
          -0.017880941848382667,
          -0.017916919902332042,
          -0.018018364406157884,
          -0.01811277055658477,
          -0.018160752147599008,
          -0.01816764146125758,
          -0.018351450326555795,
          -0.018595880600977048,
          -0.018797962892150633,
          -0.01894728495821064,
          -0.01920998454074701,
          -0.019293492637618596,
          -0.019307396517405984,
          -0.019350606925491495,
          -0.01944304304094926,
          -0.019572994122134448,
          -0.019705889183105726,
          -0.01970675924671035,
          -0.019822718004087046,
          -0.019883438610539542,
          -0.019922184158810113,
          -0.020124810350992742,
          -0.02016373755072484,
          -0.020350615262687208,
          -0.020726508908241934,
          -0.020736484822082884,
          -0.020849960027817718,
          -0.020981465293029813,
          -0.021273954756841375,
          -0.02139285374400457,
          -0.0215747348200134,
          -0.0215898527043688,
          -0.02176842685278864,
          -0.021825441644558304,
          -0.021988642396570543,
          -0.02206807805023037,
          -0.022281273992688366,
          -0.022299528763555548,
          -0.022380406892749435,
          -0.022706706408975742,
          -0.022723024068589746,
          -0.02274263701105408,
          -0.022801364831591103,
          -0.022847804477437835,
          -0.022848344964154606,
          -0.022940130523691777,
          -0.02305800661480566,
          -0.023155844145686826,
          -0.02321781780449996,
          -0.023295548319950756,
          -0.023398728756559177,
          -0.02364186631288884,
          -0.023644159611088615,
          -0.02367660935582122,
          -0.023752551639687883,
          -0.023978902400045955,
          -0.024013819090276646,
          -0.02402914000076848,
          -0.024048863320430592,
          -0.024106726884642084,
          -0.0242556929684862,
          -0.02439328071659217,
          -0.02445079554427309,
          -0.024527797964166636,
          -0.024548363757168273,
          -0.024565246106506768,
          -0.024611500069540784,
          -0.024725879437034165,
          -0.024958949864757253,
          -0.02526269098441345,
          -0.0252959364553755,
          -0.025345116506016476,
          -0.025410507379913575,
          -0.025562960711682174,
          -0.02561785052319663,
          -0.025977460468949692,
          -0.02598494156869232,
          -0.026028119960937613,
          -0.02603702085825468,
          -0.02607044672355814,
          -0.02611674373638531,
          -0.026175081638159816,
          -0.026196072992119745,
          -0.026275255038217538,
          -0.026408957752916965,
          -0.026489277619537878,
          -0.02664909408439674,
          -0.02666344918303046,
          -0.02702767234754742,
          -0.02706258839452369,
          -0.02708634562457251,
          -0.02712230316606662,
          -0.02750778476555507,
          -0.02751879324445171,
          -0.027570709102820074,
          -0.027810180587143844,
          -0.027882335132793964,
          -0.027932968859546665,
          -0.028015856540725366,
          -0.028490714485597854,
          -0.028496840628370813,
          -0.028773727875351145,
          -0.028939667780604347,
          -0.02936603025843719,
          -0.029374310737931363,
          -0.02951447040302308,
          -0.029753252073325874,
          -0.030003850642150463,
          -0.030006530602320856,
          -0.030126748316540566,
          -0.03018235927303047,
          -0.03043881356112426,
          -0.030496050011631998,
          -0.030515203916244495,
          -0.030528759605098016,
          -0.030551823674469958,
          -0.030735176207243357,
          -0.030773545405155867,
          -0.030840293980200963,
          -0.030867469600437316,
          -0.031055071405226363,
          -0.03118553520548688,
          -0.031362557771840854,
          -0.03169162329529014,
          -0.03186827803140986,
          -0.03203458763854621,
          -0.03208580860525432,
          -0.032104093567665,
          -0.03213825118834335,
          -0.03223695640396641,
          -0.03240427471816001,
          -0.03262043813944057,
          -0.032626091901306435,
          -0.032847609957365353,
          -0.032955727440419184,
          -0.03325607590995683,
          -0.033429955961012156,
          -0.0336660261039353,
          -0.03367235585003617,
          -0.03376681761526856,
          -0.03393605647157214,
          -0.03418077185041881,
          -0.03454787896558589,
          -0.034752668923910345,
          -0.03481498100171141,
          -0.03484396583347054,
          -0.03507421291231412,
          -0.03512298275566002,
          -0.035377447269309054,
          -0.03539794884887319,
          -0.03541185333045223,
          -0.03546908009815866,
          -0.03558849018939574,
          -0.035725690799636944,
          -0.03616568427840275,
          -0.03645602921290419,
          -0.03654479444986603,
          -0.036873509164357915,
          -0.03713911432913637,
          -0.037655498348463115,
          -0.037661209316377335,
          -0.03767043872507486,
          -0.037778460831103325,
          -0.038091860511541495,
          -0.03828604936248539,
          -0.03888514176918485,
          -0.03910245852373376,
          -0.039319017291206064,
          -0.039469485603748806,
          -0.03980768384597368,
          -0.03990103049072088,
          -0.039977756394974584,
          -0.04030611229653386,
          -0.040423857059894354,
          -0.040657565905560654,
          -0.040971898357658444,
          -0.041035263021533284,
          -0.041184240462743646,
          -0.0416954057703661,
          -0.041888505477522965,
          -0.041942694158892055,
          -0.041991830699267894,
          -0.04220598457708188,
          -0.0423542018256817,
          -0.04300949626940572,
          -0.043367888224996695,
          -0.043507835015753456,
          -0.04354958143779007,
          -0.04360655910689828,
          -0.04393322172174456,
          -0.04439405542080292,
          -0.04456797192172682,
          -0.04463249836757521,
          -0.04467526738285219,
          -0.046039479411094694,
          -0.04615466387859321,
          -0.04625679351659148,
          -0.04637600964302524,
          -0.04652001563489283,
          -0.046520015634892886,
          -0.047011995761475245,
          -0.04716643281548638,
          -0.0473181498732026,
          -0.0477876295211209,
          -0.048407368402109796,
          -0.048578970918893884,
          -0.04880421009964699,
          -0.04896650879815159,
          -0.04979879956979927,
          -0.05008594782065492,
          -0.05037288284833132,
          -0.06044067329980767
         ],
         "yaxis": "y"
        }
       ],
       "layout": {
        "barmode": "relative",
        "coloraxis": {
         "colorbar": {
          "title": {
           "text": "VaR-90"
          }
         },
         "colorscale": [
          [
           0,
           "rgb(165,0,38)"
          ],
          [
           0.1,
           "rgb(215,48,39)"
          ],
          [
           0.2,
           "rgb(244,109,67)"
          ],
          [
           0.3,
           "rgb(253,174,97)"
          ],
          [
           0.4,
           "rgb(254,224,139)"
          ],
          [
           0.5,
           "rgb(255,255,191)"
          ],
          [
           0.6,
           "rgb(217,239,139)"
          ],
          [
           0.7,
           "rgb(166,217,106)"
          ],
          [
           0.8,
           "rgb(102,189,99)"
          ],
          [
           0.9,
           "rgb(26,152,80)"
          ],
          [
           1,
           "rgb(0,104,55)"
          ]
         ]
        },
        "height": 400,
        "legend": {
         "tracegroupgap": 0
        },
        "margin": {
         "t": 60
        },
        "template": {
         "data": {
          "bar": [
           {
            "error_x": {
             "color": "#2a3f5f"
            },
            "error_y": {
             "color": "#2a3f5f"
            },
            "marker": {
             "line": {
              "color": "#E5ECF6",
              "width": 0.5
             }
            },
            "type": "bar"
           }
          ],
          "barpolar": [
           {
            "marker": {
             "line": {
              "color": "#E5ECF6",
              "width": 0.5
             }
            },
            "type": "barpolar"
           }
          ],
          "carpet": [
           {
            "aaxis": {
             "endlinecolor": "#2a3f5f",
             "gridcolor": "white",
             "linecolor": "white",
             "minorgridcolor": "white",
             "startlinecolor": "#2a3f5f"
            },
            "baxis": {
             "endlinecolor": "#2a3f5f",
             "gridcolor": "white",
             "linecolor": "white",
             "minorgridcolor": "white",
             "startlinecolor": "#2a3f5f"
            },
            "type": "carpet"
           }
          ],
          "choropleth": [
           {
            "colorbar": {
             "outlinewidth": 0,
             "ticks": ""
            },
            "type": "choropleth"
           }
          ],
          "contour": [
           {
            "colorbar": {
             "outlinewidth": 0,
             "ticks": ""
            },
            "colorscale": [
             [
              0,
              "#0d0887"
             ],
             [
              0.1111111111111111,
              "#46039f"
             ],
             [
              0.2222222222222222,
              "#7201a8"
             ],
             [
              0.3333333333333333,
              "#9c179e"
             ],
             [
              0.4444444444444444,
              "#bd3786"
             ],
             [
              0.5555555555555556,
              "#d8576b"
             ],
             [
              0.6666666666666666,
              "#ed7953"
             ],
             [
              0.7777777777777778,
              "#fb9f3a"
             ],
             [
              0.8888888888888888,
              "#fdca26"
             ],
             [
              1,
              "#f0f921"
             ]
            ],
            "type": "contour"
           }
          ],
          "contourcarpet": [
           {
            "colorbar": {
             "outlinewidth": 0,
             "ticks": ""
            },
            "type": "contourcarpet"
           }
          ],
          "heatmap": [
           {
            "colorbar": {
             "outlinewidth": 0,
             "ticks": ""
            },
            "colorscale": [
             [
              0,
              "#0d0887"
             ],
             [
              0.1111111111111111,
              "#46039f"
             ],
             [
              0.2222222222222222,
              "#7201a8"
             ],
             [
              0.3333333333333333,
              "#9c179e"
             ],
             [
              0.4444444444444444,
              "#bd3786"
             ],
             [
              0.5555555555555556,
              "#d8576b"
             ],
             [
              0.6666666666666666,
              "#ed7953"
             ],
             [
              0.7777777777777778,
              "#fb9f3a"
             ],
             [
              0.8888888888888888,
              "#fdca26"
             ],
             [
              1,
              "#f0f921"
             ]
            ],
            "type": "heatmap"
           }
          ],
          "heatmapgl": [
           {
            "colorbar": {
             "outlinewidth": 0,
             "ticks": ""
            },
            "colorscale": [
             [
              0,
              "#0d0887"
             ],
             [
              0.1111111111111111,
              "#46039f"
             ],
             [
              0.2222222222222222,
              "#7201a8"
             ],
             [
              0.3333333333333333,
              "#9c179e"
             ],
             [
              0.4444444444444444,
              "#bd3786"
             ],
             [
              0.5555555555555556,
              "#d8576b"
             ],
             [
              0.6666666666666666,
              "#ed7953"
             ],
             [
              0.7777777777777778,
              "#fb9f3a"
             ],
             [
              0.8888888888888888,
              "#fdca26"
             ],
             [
              1,
              "#f0f921"
             ]
            ],
            "type": "heatmapgl"
           }
          ],
          "histogram": [
           {
            "marker": {
             "colorbar": {
              "outlinewidth": 0,
              "ticks": ""
             }
            },
            "type": "histogram"
           }
          ],
          "histogram2d": [
           {
            "colorbar": {
             "outlinewidth": 0,
             "ticks": ""
            },
            "colorscale": [
             [
              0,
              "#0d0887"
             ],
             [
              0.1111111111111111,
              "#46039f"
             ],
             [
              0.2222222222222222,
              "#7201a8"
             ],
             [
              0.3333333333333333,
              "#9c179e"
             ],
             [
              0.4444444444444444,
              "#bd3786"
             ],
             [
              0.5555555555555556,
              "#d8576b"
             ],
             [
              0.6666666666666666,
              "#ed7953"
             ],
             [
              0.7777777777777778,
              "#fb9f3a"
             ],
             [
              0.8888888888888888,
              "#fdca26"
             ],
             [
              1,
              "#f0f921"
             ]
            ],
            "type": "histogram2d"
           }
          ],
          "histogram2dcontour": [
           {
            "colorbar": {
             "outlinewidth": 0,
             "ticks": ""
            },
            "colorscale": [
             [
              0,
              "#0d0887"
             ],
             [
              0.1111111111111111,
              "#46039f"
             ],
             [
              0.2222222222222222,
              "#7201a8"
             ],
             [
              0.3333333333333333,
              "#9c179e"
             ],
             [
              0.4444444444444444,
              "#bd3786"
             ],
             [
              0.5555555555555556,
              "#d8576b"
             ],
             [
              0.6666666666666666,
              "#ed7953"
             ],
             [
              0.7777777777777778,
              "#fb9f3a"
             ],
             [
              0.8888888888888888,
              "#fdca26"
             ],
             [
              1,
              "#f0f921"
             ]
            ],
            "type": "histogram2dcontour"
           }
          ],
          "mesh3d": [
           {
            "colorbar": {
             "outlinewidth": 0,
             "ticks": ""
            },
            "type": "mesh3d"
           }
          ],
          "parcoords": [
           {
            "line": {
             "colorbar": {
              "outlinewidth": 0,
              "ticks": ""
             }
            },
            "type": "parcoords"
           }
          ],
          "pie": [
           {
            "automargin": true,
            "type": "pie"
           }
          ],
          "scatter": [
           {
            "marker": {
             "colorbar": {
              "outlinewidth": 0,
              "ticks": ""
             }
            },
            "type": "scatter"
           }
          ],
          "scatter3d": [
           {
            "line": {
             "colorbar": {
              "outlinewidth": 0,
              "ticks": ""
             }
            },
            "marker": {
             "colorbar": {
              "outlinewidth": 0,
              "ticks": ""
             }
            },
            "type": "scatter3d"
           }
          ],
          "scattercarpet": [
           {
            "marker": {
             "colorbar": {
              "outlinewidth": 0,
              "ticks": ""
             }
            },
            "type": "scattercarpet"
           }
          ],
          "scattergeo": [
           {
            "marker": {
             "colorbar": {
              "outlinewidth": 0,
              "ticks": ""
             }
            },
            "type": "scattergeo"
           }
          ],
          "scattergl": [
           {
            "marker": {
             "colorbar": {
              "outlinewidth": 0,
              "ticks": ""
             }
            },
            "type": "scattergl"
           }
          ],
          "scattermapbox": [
           {
            "marker": {
             "colorbar": {
              "outlinewidth": 0,
              "ticks": ""
             }
            },
            "type": "scattermapbox"
           }
          ],
          "scatterpolar": [
           {
            "marker": {
             "colorbar": {
              "outlinewidth": 0,
              "ticks": ""
             }
            },
            "type": "scatterpolar"
           }
          ],
          "scatterpolargl": [
           {
            "marker": {
             "colorbar": {
              "outlinewidth": 0,
              "ticks": ""
             }
            },
            "type": "scatterpolargl"
           }
          ],
          "scatterternary": [
           {
            "marker": {
             "colorbar": {
              "outlinewidth": 0,
              "ticks": ""
             }
            },
            "type": "scatterternary"
           }
          ],
          "surface": [
           {
            "colorbar": {
             "outlinewidth": 0,
             "ticks": ""
            },
            "colorscale": [
             [
              0,
              "#0d0887"
             ],
             [
              0.1111111111111111,
              "#46039f"
             ],
             [
              0.2222222222222222,
              "#7201a8"
             ],
             [
              0.3333333333333333,
              "#9c179e"
             ],
             [
              0.4444444444444444,
              "#bd3786"
             ],
             [
              0.5555555555555556,
              "#d8576b"
             ],
             [
              0.6666666666666666,
              "#ed7953"
             ],
             [
              0.7777777777777778,
              "#fb9f3a"
             ],
             [
              0.8888888888888888,
              "#fdca26"
             ],
             [
              1,
              "#f0f921"
             ]
            ],
            "type": "surface"
           }
          ],
          "table": [
           {
            "cells": {
             "fill": {
              "color": "#EBF0F8"
             },
             "line": {
              "color": "white"
             }
            },
            "header": {
             "fill": {
              "color": "#C8D4E3"
             },
             "line": {
              "color": "white"
             }
            },
            "type": "table"
           }
          ]
         },
         "layout": {
          "annotationdefaults": {
           "arrowcolor": "#2a3f5f",
           "arrowhead": 0,
           "arrowwidth": 1
          },
          "autotypenumbers": "strict",
          "coloraxis": {
           "colorbar": {
            "outlinewidth": 0,
            "ticks": ""
           }
          },
          "colorscale": {
           "diverging": [
            [
             0,
             "#8e0152"
            ],
            [
             0.1,
             "#c51b7d"
            ],
            [
             0.2,
             "#de77ae"
            ],
            [
             0.3,
             "#f1b6da"
            ],
            [
             0.4,
             "#fde0ef"
            ],
            [
             0.5,
             "#f7f7f7"
            ],
            [
             0.6,
             "#e6f5d0"
            ],
            [
             0.7,
             "#b8e186"
            ],
            [
             0.8,
             "#7fbc41"
            ],
            [
             0.9,
             "#4d9221"
            ],
            [
             1,
             "#276419"
            ]
           ],
           "sequential": [
            [
             0,
             "#0d0887"
            ],
            [
             0.1111111111111111,
             "#46039f"
            ],
            [
             0.2222222222222222,
             "#7201a8"
            ],
            [
             0.3333333333333333,
             "#9c179e"
            ],
            [
             0.4444444444444444,
             "#bd3786"
            ],
            [
             0.5555555555555556,
             "#d8576b"
            ],
            [
             0.6666666666666666,
             "#ed7953"
            ],
            [
             0.7777777777777778,
             "#fb9f3a"
            ],
            [
             0.8888888888888888,
             "#fdca26"
            ],
            [
             1,
             "#f0f921"
            ]
           ],
           "sequentialminus": [
            [
             0,
             "#0d0887"
            ],
            [
             0.1111111111111111,
             "#46039f"
            ],
            [
             0.2222222222222222,
             "#7201a8"
            ],
            [
             0.3333333333333333,
             "#9c179e"
            ],
            [
             0.4444444444444444,
             "#bd3786"
            ],
            [
             0.5555555555555556,
             "#d8576b"
            ],
            [
             0.6666666666666666,
             "#ed7953"
            ],
            [
             0.7777777777777778,
             "#fb9f3a"
            ],
            [
             0.8888888888888888,
             "#fdca26"
            ],
            [
             1,
             "#f0f921"
            ]
           ]
          },
          "colorway": [
           "#636efa",
           "#EF553B",
           "#00cc96",
           "#ab63fa",
           "#FFA15A",
           "#19d3f3",
           "#FF6692",
           "#B6E880",
           "#FF97FF",
           "#FECB52"
          ],
          "font": {
           "color": "#2a3f5f"
          },
          "geo": {
           "bgcolor": "white",
           "lakecolor": "white",
           "landcolor": "#E5ECF6",
           "showlakes": true,
           "showland": true,
           "subunitcolor": "white"
          },
          "hoverlabel": {
           "align": "left"
          },
          "hovermode": "closest",
          "mapbox": {
           "style": "light"
          },
          "paper_bgcolor": "white",
          "plot_bgcolor": "#E5ECF6",
          "polar": {
           "angularaxis": {
            "gridcolor": "white",
            "linecolor": "white",
            "ticks": ""
           },
           "bgcolor": "#E5ECF6",
           "radialaxis": {
            "gridcolor": "white",
            "linecolor": "white",
            "ticks": ""
           }
          },
          "scene": {
           "xaxis": {
            "backgroundcolor": "#E5ECF6",
            "gridcolor": "white",
            "gridwidth": 2,
            "linecolor": "white",
            "showbackground": true,
            "ticks": "",
            "zerolinecolor": "white"
           },
           "yaxis": {
            "backgroundcolor": "#E5ECF6",
            "gridcolor": "white",
            "gridwidth": 2,
            "linecolor": "white",
            "showbackground": true,
            "ticks": "",
            "zerolinecolor": "white"
           },
           "zaxis": {
            "backgroundcolor": "#E5ECF6",
            "gridcolor": "white",
            "gridwidth": 2,
            "linecolor": "white",
            "showbackground": true,
            "ticks": "",
            "zerolinecolor": "white"
           }
          },
          "shapedefaults": {
           "line": {
            "color": "#2a3f5f"
           }
          },
          "ternary": {
           "aaxis": {
            "gridcolor": "white",
            "linecolor": "white",
            "ticks": ""
           },
           "baxis": {
            "gridcolor": "white",
            "linecolor": "white",
            "ticks": ""
           },
           "bgcolor": "#E5ECF6",
           "caxis": {
            "gridcolor": "white",
            "linecolor": "white",
            "ticks": ""
           }
          },
          "title": {
           "x": 0.05
          },
          "xaxis": {
           "automargin": true,
           "gridcolor": "white",
           "linecolor": "white",
           "ticks": "",
           "title": {
            "standoff": 15
           },
           "zerolinecolor": "white",
           "zerolinewidth": 2
          },
          "yaxis": {
           "automargin": true,
           "gridcolor": "white",
           "linecolor": "white",
           "ticks": "",
           "title": {
            "standoff": 15
           },
           "zerolinecolor": "white",
           "zerolinewidth": 2
          }
         }
        },
        "xaxis": {
         "anchor": "y",
         "domain": [
          0,
          1
         ],
         "title": {
          "text": "ticker"
         }
        },
        "yaxis": {
         "anchor": "x",
         "domain": [
          0,
          1
         ],
         "title": {
          "text": "VaR-90"
         }
        }
       }
      },
      "text/html": [
       "<div>                            <div id=\"0e29c5c6-fbde-4267-89a1-fb46ba2c5750\" class=\"plotly-graph-div\" style=\"height:400px; width:100%;\"></div>            <script type=\"text/javascript\">                require([\"plotly\"], function(Plotly) {                    window.PLOTLYENV=window.PLOTLYENV || {};                                    if (document.getElementById(\"0e29c5c6-fbde-4267-89a1-fb46ba2c5750\")) {                    Plotly.newPlot(                        \"0e29c5c6-fbde-4267-89a1-fb46ba2c5750\",                        [{\"alignmentgroup\": \"True\", \"hovertemplate\": \"ticker=%{x}<br>VaR-90=%{marker.color}<extra></extra>\", \"legendgroup\": \"\", \"marker\": {\"color\": [-0.012783975524282466, -0.013213773805965091, -0.013829219237990742, -0.013997169737572354, -0.014131709080816629, -0.014701791709529392, -0.014796691621113568, -0.01506092055454529, -0.015086252006024117, -0.015091561994783032, -0.015186451061089736, -0.015256181102357672, -0.015325873237351396, -0.015817541384226533, -0.016141534962476722, -0.016320441995808208, -0.016647974518709776, -0.01697799004170052, -0.017193909497871925, -0.017371331520670632, -0.01745525259106522, -0.017601199581347877, -0.017631768073526823, -0.017704285190428954, -0.017880941848382667, -0.017916919902332042, -0.018018364406157884, -0.01811277055658477, -0.018160752147599008, -0.01816764146125758, -0.018351450326555795, -0.018595880600977048, -0.018797962892150633, -0.01894728495821064, -0.01920998454074701, -0.019293492637618596, -0.019307396517405984, -0.019350606925491495, -0.01944304304094926, -0.019572994122134448, -0.019705889183105726, -0.01970675924671035, -0.019822718004087046, -0.019883438610539542, -0.019922184158810113, -0.020124810350992742, -0.02016373755072484, -0.020350615262687208, -0.020726508908241934, -0.020736484822082884, -0.020849960027817718, -0.020981465293029813, -0.021273954756841375, -0.02139285374400457, -0.0215747348200134, -0.0215898527043688, -0.02176842685278864, -0.021825441644558304, -0.021988642396570543, -0.02206807805023037, -0.022281273992688366, -0.022299528763555548, -0.022380406892749435, -0.022706706408975742, -0.022723024068589746, -0.02274263701105408, -0.022801364831591103, -0.022847804477437835, -0.022848344964154606, -0.022940130523691777, -0.02305800661480566, -0.023155844145686826, -0.02321781780449996, -0.023295548319950756, -0.023398728756559177, -0.02364186631288884, -0.023644159611088615, -0.02367660935582122, -0.023752551639687883, -0.023978902400045955, -0.024013819090276646, -0.02402914000076848, -0.024048863320430592, -0.024106726884642084, -0.0242556929684862, -0.02439328071659217, -0.02445079554427309, -0.024527797964166636, -0.024548363757168273, -0.024565246106506768, -0.024611500069540784, -0.024725879437034165, -0.024958949864757253, -0.02526269098441345, -0.0252959364553755, -0.025345116506016476, -0.025410507379913575, -0.025562960711682174, -0.02561785052319663, -0.025977460468949692, -0.02598494156869232, -0.026028119960937613, -0.02603702085825468, -0.02607044672355814, -0.02611674373638531, -0.026175081638159816, -0.026196072992119745, -0.026275255038217538, -0.026408957752916965, -0.026489277619537878, -0.02664909408439674, -0.02666344918303046, -0.02702767234754742, -0.02706258839452369, -0.02708634562457251, -0.02712230316606662, -0.02750778476555507, -0.02751879324445171, -0.027570709102820074, -0.027810180587143844, -0.027882335132793964, -0.027932968859546665, -0.028015856540725366, -0.028490714485597854, -0.028496840628370813, -0.028773727875351145, -0.028939667780604347, -0.02936603025843719, -0.029374310737931363, -0.02951447040302308, -0.029753252073325874, -0.030003850642150463, -0.030006530602320856, -0.030126748316540566, -0.03018235927303047, -0.03043881356112426, -0.030496050011631998, -0.030515203916244495, -0.030528759605098016, -0.030551823674469958, -0.030735176207243357, -0.030773545405155867, -0.030840293980200963, -0.030867469600437316, -0.031055071405226363, -0.03118553520548688, -0.031362557771840854, -0.03169162329529014, -0.03186827803140986, -0.03203458763854621, -0.03208580860525432, -0.032104093567665, -0.03213825118834335, -0.03223695640396641, -0.03240427471816001, -0.03262043813944057, -0.032626091901306435, -0.032847609957365353, -0.032955727440419184, -0.03325607590995683, -0.033429955961012156, -0.0336660261039353, -0.03367235585003617, -0.03376681761526856, -0.03393605647157214, -0.03418077185041881, -0.03454787896558589, -0.034752668923910345, -0.03481498100171141, -0.03484396583347054, -0.03507421291231412, -0.03512298275566002, -0.035377447269309054, -0.03539794884887319, -0.03541185333045223, -0.03546908009815866, -0.03558849018939574, -0.035725690799636944, -0.03616568427840275, -0.03645602921290419, -0.03654479444986603, -0.036873509164357915, -0.03713911432913637, -0.037655498348463115, -0.037661209316377335, -0.03767043872507486, -0.037778460831103325, -0.038091860511541495, -0.03828604936248539, -0.03888514176918485, -0.03910245852373376, -0.039319017291206064, -0.039469485603748806, -0.03980768384597368, -0.03990103049072088, -0.039977756394974584, -0.04030611229653386, -0.040423857059894354, -0.040657565905560654, -0.040971898357658444, -0.041035263021533284, -0.041184240462743646, -0.0416954057703661, -0.041888505477522965, -0.041942694158892055, -0.041991830699267894, -0.04220598457708188, -0.0423542018256817, -0.04300949626940572, -0.043367888224996695, -0.043507835015753456, -0.04354958143779007, -0.04360655910689828, -0.04393322172174456, -0.04439405542080292, -0.04456797192172682, -0.04463249836757521, -0.04467526738285219, -0.046039479411094694, -0.04615466387859321, -0.04625679351659148, -0.04637600964302524, -0.04652001563489283, -0.046520015634892886, -0.047011995761475245, -0.04716643281548638, -0.0473181498732026, -0.0477876295211209, -0.048407368402109796, -0.048578970918893884, -0.04880421009964699, -0.04896650879815159, -0.04979879956979927, -0.05008594782065492, -0.05037288284833132, -0.06044067329980767], \"coloraxis\": \"coloraxis\"}, \"name\": \"\", \"offsetgroup\": \"\", \"orientation\": \"v\", \"showlegend\": false, \"textposition\": \"auto\", \"type\": \"bar\", \"x\": [\"AMBIKCO\", \"ATUL\", \"BAJAJ-AUTO\", \"ASIANPAINT\", \"BERGEPAINT\", \"BATAINDIA\", \"BAJAJFINSV\", \"COLPAL\", \"COROMANDEL\", \"COFORGE\", \"AKZOINDIA\", \"BSE\", \"ABBOTINDIA\", \"ACCELYA\", \"COCHINSHIP\", \"ALKEM\", \"CDSL\", \"BAJFINANCE\", \"AARTIDRUGS\", \"3MINDIA\", \"CHOLAHLDNG\", \"AXISBANK\", \"BALMLAWRIE\", \"BAYERCROP\", \"BLUESTARCO\", \"BAJAJHLDNG\", \"ABB\", \"BRITANNIA\", \"CHEMFAB\", \"CIPLA\", \"AMARAJABAT\", \"APLLTD\", \"ANDHRAPAP\", \"AUBANK\", \"CCL\", \"AAVAS\", \"21STCENMGM\", \"CARERATING\", \"CLNINDIA\", \"BBL\", \"AJANTPHARM\", \"CESC\", \"ADANIPORTS\", \"BHARATFORG\", \"AMBER\", \"CEATLTD\", \"ACC\", \"ATFL\", \"ALEMBICLTD\", \"BLISSGVS\", \"CONCOR\", \"BALKRISIND\", \"BLUEDART\", \"ADANITRANS\", \"APOLLOHOSP\", \"BIOCON\", \"ALKYLAMINE\", \"BAJAJCON\", \"BRIGADE\", \"AIAENG\", \"CENTENKA\", \"ALLCARGO\", \"APLAPOLLO\", \"AMRUTANJAN\", \"ASAHIINDIA\", \"BANARISUG\", \"ANDHRSUGAR\", \"CARBORUNIV\", \"CHALET\", \"BOSCHLTD\", \"AARTIIND\", \"CASTROLIND\", \"CERA\", \"AMBUJACEM\", \"ARVSMART\", \"APOLLOTYRE\", \"COALINDIA\", \"ASTEC\", \"APARINDS\", \"ASTRAL\", \"ABCAPITAL\", \"AVTNPL\", \"ALBERTDAVD\", \"ASHIANA\", \"ASTERDM\", \"AUROPHARMA\", \"AHLUCONT\", \"BHARTIARTL\", \"ADFFOODS\", \"AEGISCHEM\", \"ADORWELD\", \"CADILAHC\", \"COSMOFILMS\", \"ARMANFIN\", \"ABFRL\", \"CGCL\", \"CIGNITITEC\", \"ASTRAZEN\", \"AMJLAND\", \"BEML\", \"CENTURYTEX\", \"BDL\", \"BANCOINDIA\", \"CAREERP\", \"ASTRAMICRO\", \"AVANTIFEED\", \"AHLEAST\", \"ALICON\", \"CANFINHOME\", \"ADVENZYMES\", \"ADVANIHOTR\", \"CANTABIL\", \"ADANIENT\", \"BPCL\", \"ATULAUTO\", \"BHARATRAS\", \"BIRLACORPN\", \"BASF\", \"ASIANTILES\", \"CHENNPETRO\", \"CHAMBLFERT\", \"BODALCHEM\", \"BAJAJELEC\", \"BEL\", \"BHAGERIA\", \"20MICRONS\", \"CENTURYPLY\", \"AUTOAXLES\", \"BORORENEW\", \"ANANTRAJ\", \"CAPACITE\", \"ADANIGREEN\", \"CAPLIPOINT\", \"BHARATWIRE\", \"BALPHARMA\", \"CLEDUCATE\", \"BHAGYANGR\", \"CINELINE\", \"ADANIPOWER\", \"APTECHT\", \"ASHOKA\", \"ASPINWALL\", \"ASIANHOTNR\", \"CORDSCABLE\", \"ASHOKLEY\", \"CENTRALBK\", \"BANKBARODA\", \"CONTROLPR\", \"AROGRANITE\", \"BAJAJHIND\", \"CANBK\", \"BFINVEST\", \"CENTUM\", \"BANDHANBNK\", \"BALAJITELE\", \"BANKINDIA\", \"BHEL\", \"ACE\", \"CENTRUM\", \"CAMLINFINE\", \"CEREBRAINT\", \"ARCHIDPLY\", \"ALKALI\", \"COMPUSOFT\", \"BSOFT\", \"BALRAMCHIN\", \"BUTTERFLY\", \"BANSWRAS\", \"AHLWEST\", \"COMPINFO\", \"ALPA\", \"AYMSYNTEX\", \"APCL\", \"AGARIND\", \"ASTRON\", \"ARIES\", \"AJMERA\", \"BFUTILITIE\", \"BALAMINES\", \"APEX\", \"AURIONPRO\", \"ASAHISONG\", \"BGRENERGY\", \"CORALFINAC\", \"ARVIND\", \"ASAL\", \"BLS\", \"AUTOIND\", \"APOLLO\", \"AARVEEDEN\", \"BOMDYEING\", \"AKSHARCHEM\", \"AGRITECH\", \"AXISCADES\", \"CENTEXT\", \"BANARBEADS\", \"ALPHAGEO\", \"BROOKS\", \"3IINFOTECH\", \"AVADHSUGAR\", \"BINDALAGRO\", \"BRNL\", \"BEPL\", \"BHAGYAPROP\", \"BASML\", \"BANG\", \"BHARATGEAR\", \"CONSOFINVT\", \"BSL\", \"AUSOMENT\", \"AMDIND\", \"63MOONS\", \"ANIKINDS\", \"BPL\", \"CELEBRITY\", \"ALANKIT\", \"BAGFILMS\", \"CMICABLES\", \"BIGBLOC\", \"ADSL\", \"BIRLACABLE\", \"CGPOWER\", \"ANSALAPI\", \"BHANDARI\", \"5PAISA\", \"A2ZINFRA\", \"AKSHOPTFBR\", \"ARSHIYA\", \"ALMONDZ\", \"BLKASHYAP\", \"ARIHANT\", \"BEDMUTHA\", \"ARSSINFRA\", \"CALSOFT\", \"BYKE\", \"BEARDSELL\"], \"xaxis\": \"x\", \"y\": [-0.012783975524282466, -0.013213773805965091, -0.013829219237990742, -0.013997169737572354, -0.014131709080816629, -0.014701791709529392, -0.014796691621113568, -0.01506092055454529, -0.015086252006024117, -0.015091561994783032, -0.015186451061089736, -0.015256181102357672, -0.015325873237351396, -0.015817541384226533, -0.016141534962476722, -0.016320441995808208, -0.016647974518709776, -0.01697799004170052, -0.017193909497871925, -0.017371331520670632, -0.01745525259106522, -0.017601199581347877, -0.017631768073526823, -0.017704285190428954, -0.017880941848382667, -0.017916919902332042, -0.018018364406157884, -0.01811277055658477, -0.018160752147599008, -0.01816764146125758, -0.018351450326555795, -0.018595880600977048, -0.018797962892150633, -0.01894728495821064, -0.01920998454074701, -0.019293492637618596, -0.019307396517405984, -0.019350606925491495, -0.01944304304094926, -0.019572994122134448, -0.019705889183105726, -0.01970675924671035, -0.019822718004087046, -0.019883438610539542, -0.019922184158810113, -0.020124810350992742, -0.02016373755072484, -0.020350615262687208, -0.020726508908241934, -0.020736484822082884, -0.020849960027817718, -0.020981465293029813, -0.021273954756841375, -0.02139285374400457, -0.0215747348200134, -0.0215898527043688, -0.02176842685278864, -0.021825441644558304, -0.021988642396570543, -0.02206807805023037, -0.022281273992688366, -0.022299528763555548, -0.022380406892749435, -0.022706706408975742, -0.022723024068589746, -0.02274263701105408, -0.022801364831591103, -0.022847804477437835, -0.022848344964154606, -0.022940130523691777, -0.02305800661480566, -0.023155844145686826, -0.02321781780449996, -0.023295548319950756, -0.023398728756559177, -0.02364186631288884, -0.023644159611088615, -0.02367660935582122, -0.023752551639687883, -0.023978902400045955, -0.024013819090276646, -0.02402914000076848, -0.024048863320430592, -0.024106726884642084, -0.0242556929684862, -0.02439328071659217, -0.02445079554427309, -0.024527797964166636, -0.024548363757168273, -0.024565246106506768, -0.024611500069540784, -0.024725879437034165, -0.024958949864757253, -0.02526269098441345, -0.0252959364553755, -0.025345116506016476, -0.025410507379913575, -0.025562960711682174, -0.02561785052319663, -0.025977460468949692, -0.02598494156869232, -0.026028119960937613, -0.02603702085825468, -0.02607044672355814, -0.02611674373638531, -0.026175081638159816, -0.026196072992119745, -0.026275255038217538, -0.026408957752916965, -0.026489277619537878, -0.02664909408439674, -0.02666344918303046, -0.02702767234754742, -0.02706258839452369, -0.02708634562457251, -0.02712230316606662, -0.02750778476555507, -0.02751879324445171, -0.027570709102820074, -0.027810180587143844, -0.027882335132793964, -0.027932968859546665, -0.028015856540725366, -0.028490714485597854, -0.028496840628370813, -0.028773727875351145, -0.028939667780604347, -0.02936603025843719, -0.029374310737931363, -0.02951447040302308, -0.029753252073325874, -0.030003850642150463, -0.030006530602320856, -0.030126748316540566, -0.03018235927303047, -0.03043881356112426, -0.030496050011631998, -0.030515203916244495, -0.030528759605098016, -0.030551823674469958, -0.030735176207243357, -0.030773545405155867, -0.030840293980200963, -0.030867469600437316, -0.031055071405226363, -0.03118553520548688, -0.031362557771840854, -0.03169162329529014, -0.03186827803140986, -0.03203458763854621, -0.03208580860525432, -0.032104093567665, -0.03213825118834335, -0.03223695640396641, -0.03240427471816001, -0.03262043813944057, -0.032626091901306435, -0.032847609957365353, -0.032955727440419184, -0.03325607590995683, -0.033429955961012156, -0.0336660261039353, -0.03367235585003617, -0.03376681761526856, -0.03393605647157214, -0.03418077185041881, -0.03454787896558589, -0.034752668923910345, -0.03481498100171141, -0.03484396583347054, -0.03507421291231412, -0.03512298275566002, -0.035377447269309054, -0.03539794884887319, -0.03541185333045223, -0.03546908009815866, -0.03558849018939574, -0.035725690799636944, -0.03616568427840275, -0.03645602921290419, -0.03654479444986603, -0.036873509164357915, -0.03713911432913637, -0.037655498348463115, -0.037661209316377335, -0.03767043872507486, -0.037778460831103325, -0.038091860511541495, -0.03828604936248539, -0.03888514176918485, -0.03910245852373376, -0.039319017291206064, -0.039469485603748806, -0.03980768384597368, -0.03990103049072088, -0.039977756394974584, -0.04030611229653386, -0.040423857059894354, -0.040657565905560654, -0.040971898357658444, -0.041035263021533284, -0.041184240462743646, -0.0416954057703661, -0.041888505477522965, -0.041942694158892055, -0.041991830699267894, -0.04220598457708188, -0.0423542018256817, -0.04300949626940572, -0.043367888224996695, -0.043507835015753456, -0.04354958143779007, -0.04360655910689828, -0.04393322172174456, -0.04439405542080292, -0.04456797192172682, -0.04463249836757521, -0.04467526738285219, -0.046039479411094694, -0.04615466387859321, -0.04625679351659148, -0.04637600964302524, -0.04652001563489283, -0.046520015634892886, -0.047011995761475245, -0.04716643281548638, -0.0473181498732026, -0.0477876295211209, -0.048407368402109796, -0.048578970918893884, -0.04880421009964699, -0.04896650879815159, -0.04979879956979927, -0.05008594782065492, -0.05037288284833132, -0.06044067329980767], \"yaxis\": \"y\"}],                        {\"barmode\": \"relative\", \"coloraxis\": {\"colorbar\": {\"title\": {\"text\": \"VaR-90\"}}, \"colorscale\": [[0.0, \"rgb(165,0,38)\"], [0.1, \"rgb(215,48,39)\"], [0.2, \"rgb(244,109,67)\"], [0.3, \"rgb(253,174,97)\"], [0.4, \"rgb(254,224,139)\"], [0.5, \"rgb(255,255,191)\"], [0.6, \"rgb(217,239,139)\"], [0.7, \"rgb(166,217,106)\"], [0.8, \"rgb(102,189,99)\"], [0.9, \"rgb(26,152,80)\"], [1.0, \"rgb(0,104,55)\"]]}, \"height\": 400, \"legend\": {\"tracegroupgap\": 0}, \"margin\": {\"t\": 60}, \"template\": {\"data\": {\"bar\": [{\"error_x\": {\"color\": \"#2a3f5f\"}, \"error_y\": {\"color\": \"#2a3f5f\"}, \"marker\": {\"line\": {\"color\": \"#E5ECF6\", \"width\": 0.5}}, \"type\": \"bar\"}], \"barpolar\": [{\"marker\": {\"line\": {\"color\": \"#E5ECF6\", \"width\": 0.5}}, \"type\": \"barpolar\"}], \"carpet\": [{\"aaxis\": {\"endlinecolor\": \"#2a3f5f\", \"gridcolor\": \"white\", \"linecolor\": \"white\", \"minorgridcolor\": \"white\", \"startlinecolor\": \"#2a3f5f\"}, \"baxis\": {\"endlinecolor\": \"#2a3f5f\", \"gridcolor\": \"white\", \"linecolor\": \"white\", \"minorgridcolor\": \"white\", \"startlinecolor\": \"#2a3f5f\"}, \"type\": \"carpet\"}], \"choropleth\": [{\"colorbar\": {\"outlinewidth\": 0, \"ticks\": \"\"}, \"type\": \"choropleth\"}], \"contour\": [{\"colorbar\": {\"outlinewidth\": 0, \"ticks\": \"\"}, \"colorscale\": [[0.0, \"#0d0887\"], [0.1111111111111111, \"#46039f\"], [0.2222222222222222, \"#7201a8\"], [0.3333333333333333, \"#9c179e\"], [0.4444444444444444, \"#bd3786\"], [0.5555555555555556, \"#d8576b\"], [0.6666666666666666, \"#ed7953\"], [0.7777777777777778, \"#fb9f3a\"], [0.8888888888888888, \"#fdca26\"], [1.0, \"#f0f921\"]], \"type\": \"contour\"}], \"contourcarpet\": [{\"colorbar\": {\"outlinewidth\": 0, \"ticks\": \"\"}, \"type\": \"contourcarpet\"}], \"heatmap\": [{\"colorbar\": {\"outlinewidth\": 0, \"ticks\": \"\"}, \"colorscale\": [[0.0, \"#0d0887\"], [0.1111111111111111, \"#46039f\"], [0.2222222222222222, \"#7201a8\"], [0.3333333333333333, \"#9c179e\"], [0.4444444444444444, \"#bd3786\"], [0.5555555555555556, \"#d8576b\"], [0.6666666666666666, \"#ed7953\"], [0.7777777777777778, \"#fb9f3a\"], [0.8888888888888888, \"#fdca26\"], [1.0, \"#f0f921\"]], \"type\": \"heatmap\"}], \"heatmapgl\": [{\"colorbar\": {\"outlinewidth\": 0, \"ticks\": \"\"}, \"colorscale\": [[0.0, \"#0d0887\"], [0.1111111111111111, \"#46039f\"], [0.2222222222222222, \"#7201a8\"], [0.3333333333333333, \"#9c179e\"], [0.4444444444444444, \"#bd3786\"], [0.5555555555555556, \"#d8576b\"], [0.6666666666666666, \"#ed7953\"], [0.7777777777777778, \"#fb9f3a\"], [0.8888888888888888, \"#fdca26\"], [1.0, \"#f0f921\"]], \"type\": \"heatmapgl\"}], \"histogram\": [{\"marker\": {\"colorbar\": {\"outlinewidth\": 0, \"ticks\": \"\"}}, \"type\": \"histogram\"}], \"histogram2d\": [{\"colorbar\": {\"outlinewidth\": 0, \"ticks\": \"\"}, \"colorscale\": [[0.0, \"#0d0887\"], [0.1111111111111111, \"#46039f\"], [0.2222222222222222, \"#7201a8\"], [0.3333333333333333, \"#9c179e\"], [0.4444444444444444, \"#bd3786\"], [0.5555555555555556, \"#d8576b\"], [0.6666666666666666, \"#ed7953\"], [0.7777777777777778, \"#fb9f3a\"], [0.8888888888888888, \"#fdca26\"], [1.0, \"#f0f921\"]], \"type\": \"histogram2d\"}], \"histogram2dcontour\": [{\"colorbar\": {\"outlinewidth\": 0, \"ticks\": \"\"}, \"colorscale\": [[0.0, \"#0d0887\"], [0.1111111111111111, \"#46039f\"], [0.2222222222222222, \"#7201a8\"], [0.3333333333333333, \"#9c179e\"], [0.4444444444444444, \"#bd3786\"], [0.5555555555555556, \"#d8576b\"], [0.6666666666666666, \"#ed7953\"], [0.7777777777777778, \"#fb9f3a\"], [0.8888888888888888, \"#fdca26\"], [1.0, \"#f0f921\"]], \"type\": \"histogram2dcontour\"}], \"mesh3d\": [{\"colorbar\": {\"outlinewidth\": 0, \"ticks\": \"\"}, \"type\": \"mesh3d\"}], \"parcoords\": [{\"line\": {\"colorbar\": {\"outlinewidth\": 0, \"ticks\": \"\"}}, \"type\": \"parcoords\"}], \"pie\": [{\"automargin\": true, \"type\": \"pie\"}], \"scatter\": [{\"marker\": {\"colorbar\": {\"outlinewidth\": 0, \"ticks\": \"\"}}, \"type\": \"scatter\"}], \"scatter3d\": [{\"line\": {\"colorbar\": {\"outlinewidth\": 0, \"ticks\": \"\"}}, \"marker\": {\"colorbar\": {\"outlinewidth\": 0, \"ticks\": \"\"}}, \"type\": \"scatter3d\"}], \"scattercarpet\": [{\"marker\": {\"colorbar\": {\"outlinewidth\": 0, \"ticks\": \"\"}}, \"type\": \"scattercarpet\"}], \"scattergeo\": [{\"marker\": {\"colorbar\": {\"outlinewidth\": 0, \"ticks\": \"\"}}, \"type\": \"scattergeo\"}], \"scattergl\": [{\"marker\": {\"colorbar\": {\"outlinewidth\": 0, \"ticks\": \"\"}}, \"type\": \"scattergl\"}], \"scattermapbox\": [{\"marker\": {\"colorbar\": {\"outlinewidth\": 0, \"ticks\": \"\"}}, \"type\": \"scattermapbox\"}], \"scatterpolar\": [{\"marker\": {\"colorbar\": {\"outlinewidth\": 0, \"ticks\": \"\"}}, \"type\": \"scatterpolar\"}], \"scatterpolargl\": [{\"marker\": {\"colorbar\": {\"outlinewidth\": 0, \"ticks\": \"\"}}, \"type\": \"scatterpolargl\"}], \"scatterternary\": [{\"marker\": {\"colorbar\": {\"outlinewidth\": 0, \"ticks\": \"\"}}, \"type\": \"scatterternary\"}], \"surface\": [{\"colorbar\": {\"outlinewidth\": 0, \"ticks\": \"\"}, \"colorscale\": [[0.0, \"#0d0887\"], [0.1111111111111111, \"#46039f\"], [0.2222222222222222, \"#7201a8\"], [0.3333333333333333, \"#9c179e\"], [0.4444444444444444, \"#bd3786\"], [0.5555555555555556, \"#d8576b\"], [0.6666666666666666, \"#ed7953\"], [0.7777777777777778, \"#fb9f3a\"], [0.8888888888888888, \"#fdca26\"], [1.0, \"#f0f921\"]], \"type\": \"surface\"}], \"table\": [{\"cells\": {\"fill\": {\"color\": \"#EBF0F8\"}, \"line\": {\"color\": \"white\"}}, \"header\": {\"fill\": {\"color\": \"#C8D4E3\"}, \"line\": {\"color\": \"white\"}}, \"type\": \"table\"}]}, \"layout\": {\"annotationdefaults\": {\"arrowcolor\": \"#2a3f5f\", \"arrowhead\": 0, \"arrowwidth\": 1}, \"autotypenumbers\": \"strict\", \"coloraxis\": {\"colorbar\": {\"outlinewidth\": 0, \"ticks\": \"\"}}, \"colorscale\": {\"diverging\": [[0, \"#8e0152\"], [0.1, \"#c51b7d\"], [0.2, \"#de77ae\"], [0.3, \"#f1b6da\"], [0.4, \"#fde0ef\"], [0.5, \"#f7f7f7\"], [0.6, \"#e6f5d0\"], [0.7, \"#b8e186\"], [0.8, \"#7fbc41\"], [0.9, \"#4d9221\"], [1, \"#276419\"]], \"sequential\": [[0.0, \"#0d0887\"], [0.1111111111111111, \"#46039f\"], [0.2222222222222222, \"#7201a8\"], [0.3333333333333333, \"#9c179e\"], [0.4444444444444444, \"#bd3786\"], [0.5555555555555556, \"#d8576b\"], [0.6666666666666666, \"#ed7953\"], [0.7777777777777778, \"#fb9f3a\"], [0.8888888888888888, \"#fdca26\"], [1.0, \"#f0f921\"]], \"sequentialminus\": [[0.0, \"#0d0887\"], [0.1111111111111111, \"#46039f\"], [0.2222222222222222, \"#7201a8\"], [0.3333333333333333, \"#9c179e\"], [0.4444444444444444, \"#bd3786\"], [0.5555555555555556, \"#d8576b\"], [0.6666666666666666, \"#ed7953\"], [0.7777777777777778, \"#fb9f3a\"], [0.8888888888888888, \"#fdca26\"], [1.0, \"#f0f921\"]]}, \"colorway\": [\"#636efa\", \"#EF553B\", \"#00cc96\", \"#ab63fa\", \"#FFA15A\", \"#19d3f3\", \"#FF6692\", \"#B6E880\", \"#FF97FF\", \"#FECB52\"], \"font\": {\"color\": \"#2a3f5f\"}, \"geo\": {\"bgcolor\": \"white\", \"lakecolor\": \"white\", \"landcolor\": \"#E5ECF6\", \"showlakes\": true, \"showland\": true, \"subunitcolor\": \"white\"}, \"hoverlabel\": {\"align\": \"left\"}, \"hovermode\": \"closest\", \"mapbox\": {\"style\": \"light\"}, \"paper_bgcolor\": \"white\", \"plot_bgcolor\": \"#E5ECF6\", \"polar\": {\"angularaxis\": {\"gridcolor\": \"white\", \"linecolor\": \"white\", \"ticks\": \"\"}, \"bgcolor\": \"#E5ECF6\", \"radialaxis\": {\"gridcolor\": \"white\", \"linecolor\": \"white\", \"ticks\": \"\"}}, \"scene\": {\"xaxis\": {\"backgroundcolor\": \"#E5ECF6\", \"gridcolor\": \"white\", \"gridwidth\": 2, \"linecolor\": \"white\", \"showbackground\": true, \"ticks\": \"\", \"zerolinecolor\": \"white\"}, \"yaxis\": {\"backgroundcolor\": \"#E5ECF6\", \"gridcolor\": \"white\", \"gridwidth\": 2, \"linecolor\": \"white\", \"showbackground\": true, \"ticks\": \"\", \"zerolinecolor\": \"white\"}, \"zaxis\": {\"backgroundcolor\": \"#E5ECF6\", \"gridcolor\": \"white\", \"gridwidth\": 2, \"linecolor\": \"white\", \"showbackground\": true, \"ticks\": \"\", \"zerolinecolor\": \"white\"}}, \"shapedefaults\": {\"line\": {\"color\": \"#2a3f5f\"}}, \"ternary\": {\"aaxis\": {\"gridcolor\": \"white\", \"linecolor\": \"white\", \"ticks\": \"\"}, \"baxis\": {\"gridcolor\": \"white\", \"linecolor\": \"white\", \"ticks\": \"\"}, \"bgcolor\": \"#E5ECF6\", \"caxis\": {\"gridcolor\": \"white\", \"linecolor\": \"white\", \"ticks\": \"\"}}, \"title\": {\"x\": 0.05}, \"xaxis\": {\"automargin\": true, \"gridcolor\": \"white\", \"linecolor\": \"white\", \"ticks\": \"\", \"title\": {\"standoff\": 15}, \"zerolinecolor\": \"white\", \"zerolinewidth\": 2}, \"yaxis\": {\"automargin\": true, \"gridcolor\": \"white\", \"linecolor\": \"white\", \"ticks\": \"\", \"title\": {\"standoff\": 15}, \"zerolinecolor\": \"white\", \"zerolinewidth\": 2}}}, \"xaxis\": {\"anchor\": \"y\", \"domain\": [0.0, 1.0], \"title\": {\"text\": \"ticker\"}}, \"yaxis\": {\"anchor\": \"x\", \"domain\": [0.0, 1.0], \"title\": {\"text\": \"VaR-90\"}}},                        {\"responsive\": true}                    ).then(function(){\n",
       "                            \n",
       "var gd = document.getElementById('0e29c5c6-fbde-4267-89a1-fb46ba2c5750');\n",
       "var x = new MutationObserver(function (mutations, observer) {{\n",
       "        var display = window.getComputedStyle(gd).display;\n",
       "        if (!display || display === 'none') {{\n",
       "            console.log([gd, 'removed!']);\n",
       "            Plotly.purge(gd);\n",
       "            observer.disconnect();\n",
       "        }}\n",
       "}});\n",
       "\n",
       "// Listen for the removal of the full notebook cells\n",
       "var notebookContainer = gd.closest('#notebook-container');\n",
       "if (notebookContainer) {{\n",
       "    x.observe(notebookContainer, {childList: true});\n",
       "}}\n",
       "\n",
       "// Listen for the clearing of the current output cell\n",
       "var outputEl = gd.closest('.output');\n",
       "if (outputEl) {{\n",
       "    x.observe(outputEl, {childList: true});\n",
       "}}\n",
       "\n",
       "                        })                };                });            </script>        </div>"
      ]
     },
     "metadata": {},
     "output_type": "display_data"
    },
    {
     "data": {
      "application/vnd.plotly.v1+json": {
       "config": {
        "plotlyServerURL": "https://plot.ly"
       },
       "data": [
        {
         "alignmentgroup": "True",
         "hovertemplate": "ticker=%{x}<br>VaR-95=%{marker.color}<extra></extra>",
         "legendgroup": "",
         "marker": {
          "color": [
           -0.017989719008811,
           -0.01899418944915312,
           -0.019267159304663734,
           -0.019320858327052902,
           -0.01948866684938917,
           -0.019499960853057982,
           -0.019568330760679712,
           -0.019680144515295428,
           -0.0199618355399223,
           -0.0202786226240371,
           -0.02035496489745386,
           -0.020773193900193474,
           -0.021618872802419493,
           -0.021708049435725126,
           -0.021714003649577318,
           -0.02186270322192651,
           -0.021916908677636203,
           -0.02241081320784359,
           -0.022463967086170017,
           -0.022467983702243365,
           -0.023459829261103234,
           -0.0236889587504117,
           -0.023722528144277704,
           -0.02388349151765956,
           -0.02405140630466036,
           -0.024181784632074696,
           -0.02437741172123422,
           -0.024625727003031447,
           -0.024660039919404703,
           -0.02473030483678129,
           -0.024871463037165937,
           -0.024914161783811558,
           -0.024931332392816412,
           -0.02504487332132621,
           -0.025101720038618054,
           -0.025126393162258412,
           -0.025444437558040694,
           -0.025537276678761555,
           -0.025817848316418913,
           -0.025897452510188303,
           -0.02592271684883895,
           -0.026307872097828283,
           -0.02652195896854281,
           -0.026802595895799274,
           -0.026887850664180882,
           -0.02716104138473576,
           -0.027268573358640275,
           -0.027445182478140494,
           -0.02765225749358002,
           -0.02779765945269846,
           -0.027922856696639364,
           -0.028080893088428465,
           -0.02818208659655732,
           -0.028195134263846407,
           -0.02839644990721494,
           -0.028598911482252368,
           -0.02882161914062093,
           -0.02883432489283164,
           -0.02885595559108234,
           -0.02893211759560605,
           -0.02894030888532803,
           -0.028991593383613425,
           -0.029046189999529036,
           -0.029067933211187877,
           -0.029492090621826207,
           -0.029606724590638442,
           -0.029634623866752953,
           -0.029984794778773388,
           -0.03025526940675934,
           -0.030271076200142796,
           -0.030625321081218567,
           -0.03090014914597304,
           -0.03107042660264878,
           -0.03107665240657322,
           -0.031129750716861256,
           -0.03127740531972284,
           -0.031477844247816994,
           -0.03172822395156431,
           -0.031872815590772444,
           -0.031939482738307615,
           -0.0320974692653047,
           -0.03215417873027267,
           -0.03226399062405178,
           -0.0324073321780003,
           -0.032465716519057344,
           -0.032659752892329225,
           -0.032675253407453024,
           -0.03270831616686935,
           -0.03284509913386277,
           -0.03287304576491405,
           -0.032918258691370855,
           -0.032925034151344866,
           -0.03296133193295938,
           -0.03302247398565656,
           -0.033034783218833616,
           -0.033054423678053925,
           -0.03310253867475414,
           -0.03325734008902773,
           -0.033301597284266335,
           -0.03334827859265958,
           -0.033439931420821474,
           -0.03383269859780693,
           -0.03387639473025872,
           -0.03418994421542022,
           -0.034196757186268426,
           -0.03424076463257246,
           -0.03429013551618562,
           -0.03459646657495425,
           -0.034624515939713385,
           -0.034828284033934495,
           -0.03488803291075149,
           -0.035048670948022796,
           -0.03506343556072487,
           -0.03524708051947653,
           -0.03537856710560354,
           -0.03539754893201467,
           -0.035541336541054534,
           -0.035779942433471656,
           -0.035949566062857485,
           -0.03601309879918508,
           -0.0360687882812569,
           -0.036273996458981925,
           -0.03634425734198395,
           -0.03656342980535398,
           -0.03667499089457781,
           -0.03688414596735078,
           -0.03706069627623811,
           -0.03758821451415088,
           -0.03759161689283843,
           -0.037862677798229064,
           -0.03854211070400133,
           -0.03860752338841078,
           -0.03866582614934701,
           -0.03874552258119692,
           -0.03928478361803907,
           -0.03953782188699337,
           -0.039581168681687845,
           -0.039616255229427244,
           -0.03963296049423581,
           -0.03991941671367431,
           -0.039967961559789836,
           -0.04085946796626932,
           -0.04087965290774966,
           -0.04091054813557071,
           -0.0409118353226558,
           -0.04106054071141837,
           -0.04119378189696821,
           -0.041459149490715136,
           -0.04176922696728855,
           -0.04186461892269423,
           -0.04212094737003771,
           -0.04257392661830432,
           -0.0428347104865796,
           -0.04317608136624344,
           -0.043536074365568916,
           -0.043602136115771496,
           -0.043650478403506575,
           -0.043878317491268866,
           -0.043935475932253984,
           -0.04397166127140752,
           -0.044088214054005176,
           -0.044100720987727535,
           -0.04432967648863366,
           -0.0444492201171087,
           -0.04445123124828923,
           -0.044455136693039465,
           -0.04454715001830152,
           -0.04463027388868483,
           -0.04502465378494329,
           -0.04522000508534652,
           -0.045356002573694695,
           -0.046505532698903826,
           -0.04713488829054435,
           -0.04737503637048874,
           -0.04764576539984932,
           -0.04768223111531089,
           -0.047745264190449874,
           -0.04817316942315038,
           -0.048356932595141976,
           -0.04864301252858738,
           -0.0486536612516867,
           -0.04865864289840158,
           -0.04876390121957707,
           -0.04884091211724683,
           -0.0491675351858024,
           -0.04935788026272449,
           -0.04940475571660538,
           -0.049511985737023506,
           -0.04957540493732425,
           -0.049909974304695764,
           -0.04993568376752221,
           -0.05025774674364242,
           -0.050367749342981306,
           -0.05040747600018619,
           -0.050540919399065465,
           -0.05065825609232637,
           -0.05068492959897293,
           -0.05077232537342313,
           -0.05092913064620324,
           -0.05106401184578404,
           -0.05115516022127657,
           -0.05120226020621623,
           -0.05141330651439412,
           -0.05171404329520718,
           -0.05175762460270592,
           -0.052160508309320834,
           -0.05252337305507541,
           -0.052541134302215325,
           -0.052687643926200775,
           -0.05305382998840161,
           -0.05313170499756925,
           -0.0533135345014835,
           -0.05406722127027566,
           -0.054122111328736545,
           -0.0550490776025592,
           -0.05508059538699815,
           -0.05536170947933987,
           -0.05541891552041579,
           -0.05589417542691235,
           -0.05601997470804509,
           -0.05614091870776434,
           -0.056663510818050836,
           -0.057055132240883495,
           -0.05750793802270153,
           -0.057510878684966,
           -0.05782685181027665,
           -0.05925239657524639,
           -0.059315590009423755,
           -0.060964623492092265,
           -0.06116993214854834,
           -0.06343150504292769,
           -0.06350960970493708,
           -0.06951368856594042,
           -0.06964245650251989,
           -0.0703738628549032,
           -0.07254210036398641
          ],
          "coloraxis": "coloraxis"
         },
         "name": "",
         "offsetgroup": "",
         "orientation": "v",
         "showlegend": false,
         "textposition": "auto",
         "type": "bar",
         "x": [
          "ATUL",
          "BATAINDIA",
          "ASIANPAINT",
          "COLPAL",
          "COCHINSHIP",
          "COFORGE",
          "BERGEPAINT",
          "21STCENMGM",
          "ALKEM",
          "ACCELYA",
          "AMBIKCO",
          "BAJAJ-AUTO",
          "AKZOINDIA",
          "APLLTD",
          "AARTIDRUGS",
          "ABB",
          "ABBOTINDIA",
          "AXISBANK",
          "BSE",
          "CIPLA",
          "COROMANDEL",
          "AMARAJABAT",
          "CHOLAHLDNG",
          "BLUESTARCO",
          "BALMLAWRIE",
          "3MINDIA",
          "AJANTPHARM",
          "CCL",
          "CESC",
          "CHEMFAB",
          "BAJAJHLDNG",
          "CEATLTD",
          "BAJAJFINSV",
          "ATFL",
          "BAJFINANCE",
          "AUBANK",
          "BAYERCROP",
          "BLUEDART",
          "BALKRISIND",
          "CLNINDIA",
          "BBL",
          "CDSL",
          "BRITANNIA",
          "APLAPOLLO",
          "ASAHIINDIA",
          "APOLLOHOSP",
          "CONCOR",
          "CARBORUNIV",
          "AIAENG",
          "ADANIPORTS",
          "CASTROLIND",
          "ADANITRANS",
          "ALKYLAMINE",
          "AMBER",
          "AARTIIND",
          "AMBUJACEM",
          "COALINDIA",
          "AAVAS",
          "ADORWELD",
          "BRIGADE",
          "ABFRL",
          "ANDHRAPAP",
          "CERA",
          "ASHIANA",
          "ALLCARGO",
          "COSMOFILMS",
          "ACC",
          "ALEMBICLTD",
          "AHLUCONT",
          "AMRUTANJAN",
          "APARINDS",
          "ARVSMART",
          "BDL",
          "BANARISUG",
          "APOLLOTYRE",
          "ADFFOODS",
          "ALBERTDAVD",
          "CHALET",
          "CENTENKA",
          "ATULAUTO",
          "ADANIENT",
          "BIOCON",
          "CARERATING",
          "AVTNPL",
          "CGCL",
          "BLISSGVS",
          "ANDHRSUGAR",
          "CENTURYTEX",
          "BHARATFORG",
          "CADILAHC",
          "BHARTIARTL",
          "ASTRAL",
          "ADVANIHOTR",
          "ASTERDM",
          "CANFINHOME",
          "ABCAPITAL",
          "CIGNITITEC",
          "BANCOINDIA",
          "ADVENZYMES",
          "BOSCHLTD",
          "ASTEC",
          "ASTRAMICRO",
          "AHLEAST",
          "ASTRAZEN",
          "BAJAJCON",
          "BASF",
          "BPCL",
          "BIRLACORPN",
          "BORORENEW",
          "BHAGERIA",
          "BEML",
          "CHAMBLFERT",
          "AMJLAND",
          "ASIANTILES",
          "BEL",
          "AUROPHARMA",
          "AEGISCHEM",
          "ALICON",
          "CLEDUCATE",
          "CONTROLPR",
          "AROGRANITE",
          "BHARATWIRE",
          "BHARATRAS",
          "CAREERP",
          "ARMANFIN",
          "ASIANHOTNR",
          "20MICRONS",
          "ACE",
          "APTECHT",
          "CAPACITE",
          "AVANTIFEED",
          "CORDSCABLE",
          "ANANTRAJ",
          "AUTOAXLES",
          "BAJAJELEC",
          "CHENNPETRO",
          "CENTURYPLY",
          "ASHOKA",
          "BANKBARODA",
          "CINELINE",
          "CAPLIPOINT",
          "BHEL",
          "ADANIGREEN",
          "BANDHANBNK",
          "BHAGYANGR",
          "CENTRALBK",
          "BALPHARMA",
          "CEREBRAINT",
          "ASPINWALL",
          "CANBK",
          "CENTRUM",
          "ARCHIDPLY",
          "CANTABIL",
          "BODALCHEM",
          "CENTUM",
          "ASHOKLEY",
          "BALAJITELE",
          "BFUTILITIE",
          "ADANIPOWER",
          "ARVIND",
          "APEX",
          "COMPINFO",
          "APCL",
          "BANKINDIA",
          "BANSWRAS",
          "CAMLINFINE",
          "BFINVEST",
          "AJMERA",
          "AURIONPRO",
          "BUTTERFLY",
          "AYMSYNTEX",
          "BGRENERGY",
          "BAJAJHIND",
          "BLS",
          "ALKALI",
          "ARIES",
          "BALRAMCHIN",
          "BINDALAGRO",
          "AARVEEDEN",
          "ALPA",
          "APOLLO",
          "COMPUSOFT",
          "BRNL",
          "ALPHAGEO",
          "ASAL",
          "AUTOIND",
          "AHLWEST",
          "BEPL",
          "CELEBRITY",
          "BALAMINES",
          "AKSHARCHEM",
          "CORALFINAC",
          "BHARATGEAR",
          "BROOKS",
          "ANIKINDS",
          "ARSSINFRA",
          "BSL",
          "ANSALAPI",
          "63MOONS",
          "BIGBLOC",
          "5PAISA",
          "ASTRON",
          "BSOFT",
          "AUSOMENT",
          "BOMDYEING",
          "ASAHISONG",
          "AKSHOPTFBR",
          "3IINFOTECH",
          "AXISCADES",
          "BHAGYAPROP",
          "BANARBEADS",
          "BASML",
          "BAGFILMS",
          "CMICABLES",
          "AVADHSUGAR",
          "CONSOFINVT",
          "AGARIND",
          "AGRITECH",
          "ADSL",
          "BPL",
          "CALSOFT",
          "CGPOWER",
          "BIRLACABLE",
          "ALMONDZ",
          "BANG",
          "ALANKIT",
          "AMDIND",
          "BYKE",
          "A2ZINFRA",
          "ARSHIYA",
          "CENTEXT",
          "BLKASHYAP",
          "BEDMUTHA",
          "BEARDSELL",
          "BHANDARI",
          "ARIHANT"
         ],
         "xaxis": "x",
         "y": [
          -0.017989719008811,
          -0.01899418944915312,
          -0.019267159304663734,
          -0.019320858327052902,
          -0.01948866684938917,
          -0.019499960853057982,
          -0.019568330760679712,
          -0.019680144515295428,
          -0.0199618355399223,
          -0.0202786226240371,
          -0.02035496489745386,
          -0.020773193900193474,
          -0.021618872802419493,
          -0.021708049435725126,
          -0.021714003649577318,
          -0.02186270322192651,
          -0.021916908677636203,
          -0.02241081320784359,
          -0.022463967086170017,
          -0.022467983702243365,
          -0.023459829261103234,
          -0.0236889587504117,
          -0.023722528144277704,
          -0.02388349151765956,
          -0.02405140630466036,
          -0.024181784632074696,
          -0.02437741172123422,
          -0.024625727003031447,
          -0.024660039919404703,
          -0.02473030483678129,
          -0.024871463037165937,
          -0.024914161783811558,
          -0.024931332392816412,
          -0.02504487332132621,
          -0.025101720038618054,
          -0.025126393162258412,
          -0.025444437558040694,
          -0.025537276678761555,
          -0.025817848316418913,
          -0.025897452510188303,
          -0.02592271684883895,
          -0.026307872097828283,
          -0.02652195896854281,
          -0.026802595895799274,
          -0.026887850664180882,
          -0.02716104138473576,
          -0.027268573358640275,
          -0.027445182478140494,
          -0.02765225749358002,
          -0.02779765945269846,
          -0.027922856696639364,
          -0.028080893088428465,
          -0.02818208659655732,
          -0.028195134263846407,
          -0.02839644990721494,
          -0.028598911482252368,
          -0.02882161914062093,
          -0.02883432489283164,
          -0.02885595559108234,
          -0.02893211759560605,
          -0.02894030888532803,
          -0.028991593383613425,
          -0.029046189999529036,
          -0.029067933211187877,
          -0.029492090621826207,
          -0.029606724590638442,
          -0.029634623866752953,
          -0.029984794778773388,
          -0.03025526940675934,
          -0.030271076200142796,
          -0.030625321081218567,
          -0.03090014914597304,
          -0.03107042660264878,
          -0.03107665240657322,
          -0.031129750716861256,
          -0.03127740531972284,
          -0.031477844247816994,
          -0.03172822395156431,
          -0.031872815590772444,
          -0.031939482738307615,
          -0.0320974692653047,
          -0.03215417873027267,
          -0.03226399062405178,
          -0.0324073321780003,
          -0.032465716519057344,
          -0.032659752892329225,
          -0.032675253407453024,
          -0.03270831616686935,
          -0.03284509913386277,
          -0.03287304576491405,
          -0.032918258691370855,
          -0.032925034151344866,
          -0.03296133193295938,
          -0.03302247398565656,
          -0.033034783218833616,
          -0.033054423678053925,
          -0.03310253867475414,
          -0.03325734008902773,
          -0.033301597284266335,
          -0.03334827859265958,
          -0.033439931420821474,
          -0.03383269859780693,
          -0.03387639473025872,
          -0.03418994421542022,
          -0.034196757186268426,
          -0.03424076463257246,
          -0.03429013551618562,
          -0.03459646657495425,
          -0.034624515939713385,
          -0.034828284033934495,
          -0.03488803291075149,
          -0.035048670948022796,
          -0.03506343556072487,
          -0.03524708051947653,
          -0.03537856710560354,
          -0.03539754893201467,
          -0.035541336541054534,
          -0.035779942433471656,
          -0.035949566062857485,
          -0.03601309879918508,
          -0.0360687882812569,
          -0.036273996458981925,
          -0.03634425734198395,
          -0.03656342980535398,
          -0.03667499089457781,
          -0.03688414596735078,
          -0.03706069627623811,
          -0.03758821451415088,
          -0.03759161689283843,
          -0.037862677798229064,
          -0.03854211070400133,
          -0.03860752338841078,
          -0.03866582614934701,
          -0.03874552258119692,
          -0.03928478361803907,
          -0.03953782188699337,
          -0.039581168681687845,
          -0.039616255229427244,
          -0.03963296049423581,
          -0.03991941671367431,
          -0.039967961559789836,
          -0.04085946796626932,
          -0.04087965290774966,
          -0.04091054813557071,
          -0.0409118353226558,
          -0.04106054071141837,
          -0.04119378189696821,
          -0.041459149490715136,
          -0.04176922696728855,
          -0.04186461892269423,
          -0.04212094737003771,
          -0.04257392661830432,
          -0.0428347104865796,
          -0.04317608136624344,
          -0.043536074365568916,
          -0.043602136115771496,
          -0.043650478403506575,
          -0.043878317491268866,
          -0.043935475932253984,
          -0.04397166127140752,
          -0.044088214054005176,
          -0.044100720987727535,
          -0.04432967648863366,
          -0.0444492201171087,
          -0.04445123124828923,
          -0.044455136693039465,
          -0.04454715001830152,
          -0.04463027388868483,
          -0.04502465378494329,
          -0.04522000508534652,
          -0.045356002573694695,
          -0.046505532698903826,
          -0.04713488829054435,
          -0.04737503637048874,
          -0.04764576539984932,
          -0.04768223111531089,
          -0.047745264190449874,
          -0.04817316942315038,
          -0.048356932595141976,
          -0.04864301252858738,
          -0.0486536612516867,
          -0.04865864289840158,
          -0.04876390121957707,
          -0.04884091211724683,
          -0.0491675351858024,
          -0.04935788026272449,
          -0.04940475571660538,
          -0.049511985737023506,
          -0.04957540493732425,
          -0.049909974304695764,
          -0.04993568376752221,
          -0.05025774674364242,
          -0.050367749342981306,
          -0.05040747600018619,
          -0.050540919399065465,
          -0.05065825609232637,
          -0.05068492959897293,
          -0.05077232537342313,
          -0.05092913064620324,
          -0.05106401184578404,
          -0.05115516022127657,
          -0.05120226020621623,
          -0.05141330651439412,
          -0.05171404329520718,
          -0.05175762460270592,
          -0.052160508309320834,
          -0.05252337305507541,
          -0.052541134302215325,
          -0.052687643926200775,
          -0.05305382998840161,
          -0.05313170499756925,
          -0.0533135345014835,
          -0.05406722127027566,
          -0.054122111328736545,
          -0.0550490776025592,
          -0.05508059538699815,
          -0.05536170947933987,
          -0.05541891552041579,
          -0.05589417542691235,
          -0.05601997470804509,
          -0.05614091870776434,
          -0.056663510818050836,
          -0.057055132240883495,
          -0.05750793802270153,
          -0.057510878684966,
          -0.05782685181027665,
          -0.05925239657524639,
          -0.059315590009423755,
          -0.060964623492092265,
          -0.06116993214854834,
          -0.06343150504292769,
          -0.06350960970493708,
          -0.06951368856594042,
          -0.06964245650251989,
          -0.0703738628549032,
          -0.07254210036398641
         ],
         "yaxis": "y"
        }
       ],
       "layout": {
        "barmode": "relative",
        "coloraxis": {
         "colorbar": {
          "title": {
           "text": "VaR-95"
          }
         },
         "colorscale": [
          [
           0,
           "rgb(165,0,38)"
          ],
          [
           0.1,
           "rgb(215,48,39)"
          ],
          [
           0.2,
           "rgb(244,109,67)"
          ],
          [
           0.3,
           "rgb(253,174,97)"
          ],
          [
           0.4,
           "rgb(254,224,139)"
          ],
          [
           0.5,
           "rgb(255,255,191)"
          ],
          [
           0.6,
           "rgb(217,239,139)"
          ],
          [
           0.7,
           "rgb(166,217,106)"
          ],
          [
           0.8,
           "rgb(102,189,99)"
          ],
          [
           0.9,
           "rgb(26,152,80)"
          ],
          [
           1,
           "rgb(0,104,55)"
          ]
         ]
        },
        "height": 400,
        "legend": {
         "tracegroupgap": 0
        },
        "margin": {
         "t": 60
        },
        "template": {
         "data": {
          "bar": [
           {
            "error_x": {
             "color": "#2a3f5f"
            },
            "error_y": {
             "color": "#2a3f5f"
            },
            "marker": {
             "line": {
              "color": "#E5ECF6",
              "width": 0.5
             }
            },
            "type": "bar"
           }
          ],
          "barpolar": [
           {
            "marker": {
             "line": {
              "color": "#E5ECF6",
              "width": 0.5
             }
            },
            "type": "barpolar"
           }
          ],
          "carpet": [
           {
            "aaxis": {
             "endlinecolor": "#2a3f5f",
             "gridcolor": "white",
             "linecolor": "white",
             "minorgridcolor": "white",
             "startlinecolor": "#2a3f5f"
            },
            "baxis": {
             "endlinecolor": "#2a3f5f",
             "gridcolor": "white",
             "linecolor": "white",
             "minorgridcolor": "white",
             "startlinecolor": "#2a3f5f"
            },
            "type": "carpet"
           }
          ],
          "choropleth": [
           {
            "colorbar": {
             "outlinewidth": 0,
             "ticks": ""
            },
            "type": "choropleth"
           }
          ],
          "contour": [
           {
            "colorbar": {
             "outlinewidth": 0,
             "ticks": ""
            },
            "colorscale": [
             [
              0,
              "#0d0887"
             ],
             [
              0.1111111111111111,
              "#46039f"
             ],
             [
              0.2222222222222222,
              "#7201a8"
             ],
             [
              0.3333333333333333,
              "#9c179e"
             ],
             [
              0.4444444444444444,
              "#bd3786"
             ],
             [
              0.5555555555555556,
              "#d8576b"
             ],
             [
              0.6666666666666666,
              "#ed7953"
             ],
             [
              0.7777777777777778,
              "#fb9f3a"
             ],
             [
              0.8888888888888888,
              "#fdca26"
             ],
             [
              1,
              "#f0f921"
             ]
            ],
            "type": "contour"
           }
          ],
          "contourcarpet": [
           {
            "colorbar": {
             "outlinewidth": 0,
             "ticks": ""
            },
            "type": "contourcarpet"
           }
          ],
          "heatmap": [
           {
            "colorbar": {
             "outlinewidth": 0,
             "ticks": ""
            },
            "colorscale": [
             [
              0,
              "#0d0887"
             ],
             [
              0.1111111111111111,
              "#46039f"
             ],
             [
              0.2222222222222222,
              "#7201a8"
             ],
             [
              0.3333333333333333,
              "#9c179e"
             ],
             [
              0.4444444444444444,
              "#bd3786"
             ],
             [
              0.5555555555555556,
              "#d8576b"
             ],
             [
              0.6666666666666666,
              "#ed7953"
             ],
             [
              0.7777777777777778,
              "#fb9f3a"
             ],
             [
              0.8888888888888888,
              "#fdca26"
             ],
             [
              1,
              "#f0f921"
             ]
            ],
            "type": "heatmap"
           }
          ],
          "heatmapgl": [
           {
            "colorbar": {
             "outlinewidth": 0,
             "ticks": ""
            },
            "colorscale": [
             [
              0,
              "#0d0887"
             ],
             [
              0.1111111111111111,
              "#46039f"
             ],
             [
              0.2222222222222222,
              "#7201a8"
             ],
             [
              0.3333333333333333,
              "#9c179e"
             ],
             [
              0.4444444444444444,
              "#bd3786"
             ],
             [
              0.5555555555555556,
              "#d8576b"
             ],
             [
              0.6666666666666666,
              "#ed7953"
             ],
             [
              0.7777777777777778,
              "#fb9f3a"
             ],
             [
              0.8888888888888888,
              "#fdca26"
             ],
             [
              1,
              "#f0f921"
             ]
            ],
            "type": "heatmapgl"
           }
          ],
          "histogram": [
           {
            "marker": {
             "colorbar": {
              "outlinewidth": 0,
              "ticks": ""
             }
            },
            "type": "histogram"
           }
          ],
          "histogram2d": [
           {
            "colorbar": {
             "outlinewidth": 0,
             "ticks": ""
            },
            "colorscale": [
             [
              0,
              "#0d0887"
             ],
             [
              0.1111111111111111,
              "#46039f"
             ],
             [
              0.2222222222222222,
              "#7201a8"
             ],
             [
              0.3333333333333333,
              "#9c179e"
             ],
             [
              0.4444444444444444,
              "#bd3786"
             ],
             [
              0.5555555555555556,
              "#d8576b"
             ],
             [
              0.6666666666666666,
              "#ed7953"
             ],
             [
              0.7777777777777778,
              "#fb9f3a"
             ],
             [
              0.8888888888888888,
              "#fdca26"
             ],
             [
              1,
              "#f0f921"
             ]
            ],
            "type": "histogram2d"
           }
          ],
          "histogram2dcontour": [
           {
            "colorbar": {
             "outlinewidth": 0,
             "ticks": ""
            },
            "colorscale": [
             [
              0,
              "#0d0887"
             ],
             [
              0.1111111111111111,
              "#46039f"
             ],
             [
              0.2222222222222222,
              "#7201a8"
             ],
             [
              0.3333333333333333,
              "#9c179e"
             ],
             [
              0.4444444444444444,
              "#bd3786"
             ],
             [
              0.5555555555555556,
              "#d8576b"
             ],
             [
              0.6666666666666666,
              "#ed7953"
             ],
             [
              0.7777777777777778,
              "#fb9f3a"
             ],
             [
              0.8888888888888888,
              "#fdca26"
             ],
             [
              1,
              "#f0f921"
             ]
            ],
            "type": "histogram2dcontour"
           }
          ],
          "mesh3d": [
           {
            "colorbar": {
             "outlinewidth": 0,
             "ticks": ""
            },
            "type": "mesh3d"
           }
          ],
          "parcoords": [
           {
            "line": {
             "colorbar": {
              "outlinewidth": 0,
              "ticks": ""
             }
            },
            "type": "parcoords"
           }
          ],
          "pie": [
           {
            "automargin": true,
            "type": "pie"
           }
          ],
          "scatter": [
           {
            "marker": {
             "colorbar": {
              "outlinewidth": 0,
              "ticks": ""
             }
            },
            "type": "scatter"
           }
          ],
          "scatter3d": [
           {
            "line": {
             "colorbar": {
              "outlinewidth": 0,
              "ticks": ""
             }
            },
            "marker": {
             "colorbar": {
              "outlinewidth": 0,
              "ticks": ""
             }
            },
            "type": "scatter3d"
           }
          ],
          "scattercarpet": [
           {
            "marker": {
             "colorbar": {
              "outlinewidth": 0,
              "ticks": ""
             }
            },
            "type": "scattercarpet"
           }
          ],
          "scattergeo": [
           {
            "marker": {
             "colorbar": {
              "outlinewidth": 0,
              "ticks": ""
             }
            },
            "type": "scattergeo"
           }
          ],
          "scattergl": [
           {
            "marker": {
             "colorbar": {
              "outlinewidth": 0,
              "ticks": ""
             }
            },
            "type": "scattergl"
           }
          ],
          "scattermapbox": [
           {
            "marker": {
             "colorbar": {
              "outlinewidth": 0,
              "ticks": ""
             }
            },
            "type": "scattermapbox"
           }
          ],
          "scatterpolar": [
           {
            "marker": {
             "colorbar": {
              "outlinewidth": 0,
              "ticks": ""
             }
            },
            "type": "scatterpolar"
           }
          ],
          "scatterpolargl": [
           {
            "marker": {
             "colorbar": {
              "outlinewidth": 0,
              "ticks": ""
             }
            },
            "type": "scatterpolargl"
           }
          ],
          "scatterternary": [
           {
            "marker": {
             "colorbar": {
              "outlinewidth": 0,
              "ticks": ""
             }
            },
            "type": "scatterternary"
           }
          ],
          "surface": [
           {
            "colorbar": {
             "outlinewidth": 0,
             "ticks": ""
            },
            "colorscale": [
             [
              0,
              "#0d0887"
             ],
             [
              0.1111111111111111,
              "#46039f"
             ],
             [
              0.2222222222222222,
              "#7201a8"
             ],
             [
              0.3333333333333333,
              "#9c179e"
             ],
             [
              0.4444444444444444,
              "#bd3786"
             ],
             [
              0.5555555555555556,
              "#d8576b"
             ],
             [
              0.6666666666666666,
              "#ed7953"
             ],
             [
              0.7777777777777778,
              "#fb9f3a"
             ],
             [
              0.8888888888888888,
              "#fdca26"
             ],
             [
              1,
              "#f0f921"
             ]
            ],
            "type": "surface"
           }
          ],
          "table": [
           {
            "cells": {
             "fill": {
              "color": "#EBF0F8"
             },
             "line": {
              "color": "white"
             }
            },
            "header": {
             "fill": {
              "color": "#C8D4E3"
             },
             "line": {
              "color": "white"
             }
            },
            "type": "table"
           }
          ]
         },
         "layout": {
          "annotationdefaults": {
           "arrowcolor": "#2a3f5f",
           "arrowhead": 0,
           "arrowwidth": 1
          },
          "autotypenumbers": "strict",
          "coloraxis": {
           "colorbar": {
            "outlinewidth": 0,
            "ticks": ""
           }
          },
          "colorscale": {
           "diverging": [
            [
             0,
             "#8e0152"
            ],
            [
             0.1,
             "#c51b7d"
            ],
            [
             0.2,
             "#de77ae"
            ],
            [
             0.3,
             "#f1b6da"
            ],
            [
             0.4,
             "#fde0ef"
            ],
            [
             0.5,
             "#f7f7f7"
            ],
            [
             0.6,
             "#e6f5d0"
            ],
            [
             0.7,
             "#b8e186"
            ],
            [
             0.8,
             "#7fbc41"
            ],
            [
             0.9,
             "#4d9221"
            ],
            [
             1,
             "#276419"
            ]
           ],
           "sequential": [
            [
             0,
             "#0d0887"
            ],
            [
             0.1111111111111111,
             "#46039f"
            ],
            [
             0.2222222222222222,
             "#7201a8"
            ],
            [
             0.3333333333333333,
             "#9c179e"
            ],
            [
             0.4444444444444444,
             "#bd3786"
            ],
            [
             0.5555555555555556,
             "#d8576b"
            ],
            [
             0.6666666666666666,
             "#ed7953"
            ],
            [
             0.7777777777777778,
             "#fb9f3a"
            ],
            [
             0.8888888888888888,
             "#fdca26"
            ],
            [
             1,
             "#f0f921"
            ]
           ],
           "sequentialminus": [
            [
             0,
             "#0d0887"
            ],
            [
             0.1111111111111111,
             "#46039f"
            ],
            [
             0.2222222222222222,
             "#7201a8"
            ],
            [
             0.3333333333333333,
             "#9c179e"
            ],
            [
             0.4444444444444444,
             "#bd3786"
            ],
            [
             0.5555555555555556,
             "#d8576b"
            ],
            [
             0.6666666666666666,
             "#ed7953"
            ],
            [
             0.7777777777777778,
             "#fb9f3a"
            ],
            [
             0.8888888888888888,
             "#fdca26"
            ],
            [
             1,
             "#f0f921"
            ]
           ]
          },
          "colorway": [
           "#636efa",
           "#EF553B",
           "#00cc96",
           "#ab63fa",
           "#FFA15A",
           "#19d3f3",
           "#FF6692",
           "#B6E880",
           "#FF97FF",
           "#FECB52"
          ],
          "font": {
           "color": "#2a3f5f"
          },
          "geo": {
           "bgcolor": "white",
           "lakecolor": "white",
           "landcolor": "#E5ECF6",
           "showlakes": true,
           "showland": true,
           "subunitcolor": "white"
          },
          "hoverlabel": {
           "align": "left"
          },
          "hovermode": "closest",
          "mapbox": {
           "style": "light"
          },
          "paper_bgcolor": "white",
          "plot_bgcolor": "#E5ECF6",
          "polar": {
           "angularaxis": {
            "gridcolor": "white",
            "linecolor": "white",
            "ticks": ""
           },
           "bgcolor": "#E5ECF6",
           "radialaxis": {
            "gridcolor": "white",
            "linecolor": "white",
            "ticks": ""
           }
          },
          "scene": {
           "xaxis": {
            "backgroundcolor": "#E5ECF6",
            "gridcolor": "white",
            "gridwidth": 2,
            "linecolor": "white",
            "showbackground": true,
            "ticks": "",
            "zerolinecolor": "white"
           },
           "yaxis": {
            "backgroundcolor": "#E5ECF6",
            "gridcolor": "white",
            "gridwidth": 2,
            "linecolor": "white",
            "showbackground": true,
            "ticks": "",
            "zerolinecolor": "white"
           },
           "zaxis": {
            "backgroundcolor": "#E5ECF6",
            "gridcolor": "white",
            "gridwidth": 2,
            "linecolor": "white",
            "showbackground": true,
            "ticks": "",
            "zerolinecolor": "white"
           }
          },
          "shapedefaults": {
           "line": {
            "color": "#2a3f5f"
           }
          },
          "ternary": {
           "aaxis": {
            "gridcolor": "white",
            "linecolor": "white",
            "ticks": ""
           },
           "baxis": {
            "gridcolor": "white",
            "linecolor": "white",
            "ticks": ""
           },
           "bgcolor": "#E5ECF6",
           "caxis": {
            "gridcolor": "white",
            "linecolor": "white",
            "ticks": ""
           }
          },
          "title": {
           "x": 0.05
          },
          "xaxis": {
           "automargin": true,
           "gridcolor": "white",
           "linecolor": "white",
           "ticks": "",
           "title": {
            "standoff": 15
           },
           "zerolinecolor": "white",
           "zerolinewidth": 2
          },
          "yaxis": {
           "automargin": true,
           "gridcolor": "white",
           "linecolor": "white",
           "ticks": "",
           "title": {
            "standoff": 15
           },
           "zerolinecolor": "white",
           "zerolinewidth": 2
          }
         }
        },
        "xaxis": {
         "anchor": "y",
         "domain": [
          0,
          1
         ],
         "title": {
          "text": "ticker"
         }
        },
        "yaxis": {
         "anchor": "x",
         "domain": [
          0,
          1
         ],
         "title": {
          "text": "VaR-95"
         }
        }
       }
      },
      "text/html": [
       "<div>                            <div id=\"b9bca9a9-b7e3-4c06-b6d6-e4f206104531\" class=\"plotly-graph-div\" style=\"height:400px; width:100%;\"></div>            <script type=\"text/javascript\">                require([\"plotly\"], function(Plotly) {                    window.PLOTLYENV=window.PLOTLYENV || {};                                    if (document.getElementById(\"b9bca9a9-b7e3-4c06-b6d6-e4f206104531\")) {                    Plotly.newPlot(                        \"b9bca9a9-b7e3-4c06-b6d6-e4f206104531\",                        [{\"alignmentgroup\": \"True\", \"hovertemplate\": \"ticker=%{x}<br>VaR-95=%{marker.color}<extra></extra>\", \"legendgroup\": \"\", \"marker\": {\"color\": [-0.017989719008811, -0.01899418944915312, -0.019267159304663734, -0.019320858327052902, -0.01948866684938917, -0.019499960853057982, -0.019568330760679712, -0.019680144515295428, -0.0199618355399223, -0.0202786226240371, -0.02035496489745386, -0.020773193900193474, -0.021618872802419493, -0.021708049435725126, -0.021714003649577318, -0.02186270322192651, -0.021916908677636203, -0.02241081320784359, -0.022463967086170017, -0.022467983702243365, -0.023459829261103234, -0.0236889587504117, -0.023722528144277704, -0.02388349151765956, -0.02405140630466036, -0.024181784632074696, -0.02437741172123422, -0.024625727003031447, -0.024660039919404703, -0.02473030483678129, -0.024871463037165937, -0.024914161783811558, -0.024931332392816412, -0.02504487332132621, -0.025101720038618054, -0.025126393162258412, -0.025444437558040694, -0.025537276678761555, -0.025817848316418913, -0.025897452510188303, -0.02592271684883895, -0.026307872097828283, -0.02652195896854281, -0.026802595895799274, -0.026887850664180882, -0.02716104138473576, -0.027268573358640275, -0.027445182478140494, -0.02765225749358002, -0.02779765945269846, -0.027922856696639364, -0.028080893088428465, -0.02818208659655732, -0.028195134263846407, -0.02839644990721494, -0.028598911482252368, -0.02882161914062093, -0.02883432489283164, -0.02885595559108234, -0.02893211759560605, -0.02894030888532803, -0.028991593383613425, -0.029046189999529036, -0.029067933211187877, -0.029492090621826207, -0.029606724590638442, -0.029634623866752953, -0.029984794778773388, -0.03025526940675934, -0.030271076200142796, -0.030625321081218567, -0.03090014914597304, -0.03107042660264878, -0.03107665240657322, -0.031129750716861256, -0.03127740531972284, -0.031477844247816994, -0.03172822395156431, -0.031872815590772444, -0.031939482738307615, -0.0320974692653047, -0.03215417873027267, -0.03226399062405178, -0.0324073321780003, -0.032465716519057344, -0.032659752892329225, -0.032675253407453024, -0.03270831616686935, -0.03284509913386277, -0.03287304576491405, -0.032918258691370855, -0.032925034151344866, -0.03296133193295938, -0.03302247398565656, -0.033034783218833616, -0.033054423678053925, -0.03310253867475414, -0.03325734008902773, -0.033301597284266335, -0.03334827859265958, -0.033439931420821474, -0.03383269859780693, -0.03387639473025872, -0.03418994421542022, -0.034196757186268426, -0.03424076463257246, -0.03429013551618562, -0.03459646657495425, -0.034624515939713385, -0.034828284033934495, -0.03488803291075149, -0.035048670948022796, -0.03506343556072487, -0.03524708051947653, -0.03537856710560354, -0.03539754893201467, -0.035541336541054534, -0.035779942433471656, -0.035949566062857485, -0.03601309879918508, -0.0360687882812569, -0.036273996458981925, -0.03634425734198395, -0.03656342980535398, -0.03667499089457781, -0.03688414596735078, -0.03706069627623811, -0.03758821451415088, -0.03759161689283843, -0.037862677798229064, -0.03854211070400133, -0.03860752338841078, -0.03866582614934701, -0.03874552258119692, -0.03928478361803907, -0.03953782188699337, -0.039581168681687845, -0.039616255229427244, -0.03963296049423581, -0.03991941671367431, -0.039967961559789836, -0.04085946796626932, -0.04087965290774966, -0.04091054813557071, -0.0409118353226558, -0.04106054071141837, -0.04119378189696821, -0.041459149490715136, -0.04176922696728855, -0.04186461892269423, -0.04212094737003771, -0.04257392661830432, -0.0428347104865796, -0.04317608136624344, -0.043536074365568916, -0.043602136115771496, -0.043650478403506575, -0.043878317491268866, -0.043935475932253984, -0.04397166127140752, -0.044088214054005176, -0.044100720987727535, -0.04432967648863366, -0.0444492201171087, -0.04445123124828923, -0.044455136693039465, -0.04454715001830152, -0.04463027388868483, -0.04502465378494329, -0.04522000508534652, -0.045356002573694695, -0.046505532698903826, -0.04713488829054435, -0.04737503637048874, -0.04764576539984932, -0.04768223111531089, -0.047745264190449874, -0.04817316942315038, -0.048356932595141976, -0.04864301252858738, -0.0486536612516867, -0.04865864289840158, -0.04876390121957707, -0.04884091211724683, -0.0491675351858024, -0.04935788026272449, -0.04940475571660538, -0.049511985737023506, -0.04957540493732425, -0.049909974304695764, -0.04993568376752221, -0.05025774674364242, -0.050367749342981306, -0.05040747600018619, -0.050540919399065465, -0.05065825609232637, -0.05068492959897293, -0.05077232537342313, -0.05092913064620324, -0.05106401184578404, -0.05115516022127657, -0.05120226020621623, -0.05141330651439412, -0.05171404329520718, -0.05175762460270592, -0.052160508309320834, -0.05252337305507541, -0.052541134302215325, -0.052687643926200775, -0.05305382998840161, -0.05313170499756925, -0.0533135345014835, -0.05406722127027566, -0.054122111328736545, -0.0550490776025592, -0.05508059538699815, -0.05536170947933987, -0.05541891552041579, -0.05589417542691235, -0.05601997470804509, -0.05614091870776434, -0.056663510818050836, -0.057055132240883495, -0.05750793802270153, -0.057510878684966, -0.05782685181027665, -0.05925239657524639, -0.059315590009423755, -0.060964623492092265, -0.06116993214854834, -0.06343150504292769, -0.06350960970493708, -0.06951368856594042, -0.06964245650251989, -0.0703738628549032, -0.07254210036398641], \"coloraxis\": \"coloraxis\"}, \"name\": \"\", \"offsetgroup\": \"\", \"orientation\": \"v\", \"showlegend\": false, \"textposition\": \"auto\", \"type\": \"bar\", \"x\": [\"ATUL\", \"BATAINDIA\", \"ASIANPAINT\", \"COLPAL\", \"COCHINSHIP\", \"COFORGE\", \"BERGEPAINT\", \"21STCENMGM\", \"ALKEM\", \"ACCELYA\", \"AMBIKCO\", \"BAJAJ-AUTO\", \"AKZOINDIA\", \"APLLTD\", \"AARTIDRUGS\", \"ABB\", \"ABBOTINDIA\", \"AXISBANK\", \"BSE\", \"CIPLA\", \"COROMANDEL\", \"AMARAJABAT\", \"CHOLAHLDNG\", \"BLUESTARCO\", \"BALMLAWRIE\", \"3MINDIA\", \"AJANTPHARM\", \"CCL\", \"CESC\", \"CHEMFAB\", \"BAJAJHLDNG\", \"CEATLTD\", \"BAJAJFINSV\", \"ATFL\", \"BAJFINANCE\", \"AUBANK\", \"BAYERCROP\", \"BLUEDART\", \"BALKRISIND\", \"CLNINDIA\", \"BBL\", \"CDSL\", \"BRITANNIA\", \"APLAPOLLO\", \"ASAHIINDIA\", \"APOLLOHOSP\", \"CONCOR\", \"CARBORUNIV\", \"AIAENG\", \"ADANIPORTS\", \"CASTROLIND\", \"ADANITRANS\", \"ALKYLAMINE\", \"AMBER\", \"AARTIIND\", \"AMBUJACEM\", \"COALINDIA\", \"AAVAS\", \"ADORWELD\", \"BRIGADE\", \"ABFRL\", \"ANDHRAPAP\", \"CERA\", \"ASHIANA\", \"ALLCARGO\", \"COSMOFILMS\", \"ACC\", \"ALEMBICLTD\", \"AHLUCONT\", \"AMRUTANJAN\", \"APARINDS\", \"ARVSMART\", \"BDL\", \"BANARISUG\", \"APOLLOTYRE\", \"ADFFOODS\", \"ALBERTDAVD\", \"CHALET\", \"CENTENKA\", \"ATULAUTO\", \"ADANIENT\", \"BIOCON\", \"CARERATING\", \"AVTNPL\", \"CGCL\", \"BLISSGVS\", \"ANDHRSUGAR\", \"CENTURYTEX\", \"BHARATFORG\", \"CADILAHC\", \"BHARTIARTL\", \"ASTRAL\", \"ADVANIHOTR\", \"ASTERDM\", \"CANFINHOME\", \"ABCAPITAL\", \"CIGNITITEC\", \"BANCOINDIA\", \"ADVENZYMES\", \"BOSCHLTD\", \"ASTEC\", \"ASTRAMICRO\", \"AHLEAST\", \"ASTRAZEN\", \"BAJAJCON\", \"BASF\", \"BPCL\", \"BIRLACORPN\", \"BORORENEW\", \"BHAGERIA\", \"BEML\", \"CHAMBLFERT\", \"AMJLAND\", \"ASIANTILES\", \"BEL\", \"AUROPHARMA\", \"AEGISCHEM\", \"ALICON\", \"CLEDUCATE\", \"CONTROLPR\", \"AROGRANITE\", \"BHARATWIRE\", \"BHARATRAS\", \"CAREERP\", \"ARMANFIN\", \"ASIANHOTNR\", \"20MICRONS\", \"ACE\", \"APTECHT\", \"CAPACITE\", \"AVANTIFEED\", \"CORDSCABLE\", \"ANANTRAJ\", \"AUTOAXLES\", \"BAJAJELEC\", \"CHENNPETRO\", \"CENTURYPLY\", \"ASHOKA\", \"BANKBARODA\", \"CINELINE\", \"CAPLIPOINT\", \"BHEL\", \"ADANIGREEN\", \"BANDHANBNK\", \"BHAGYANGR\", \"CENTRALBK\", \"BALPHARMA\", \"CEREBRAINT\", \"ASPINWALL\", \"CANBK\", \"CENTRUM\", \"ARCHIDPLY\", \"CANTABIL\", \"BODALCHEM\", \"CENTUM\", \"ASHOKLEY\", \"BALAJITELE\", \"BFUTILITIE\", \"ADANIPOWER\", \"ARVIND\", \"APEX\", \"COMPINFO\", \"APCL\", \"BANKINDIA\", \"BANSWRAS\", \"CAMLINFINE\", \"BFINVEST\", \"AJMERA\", \"AURIONPRO\", \"BUTTERFLY\", \"AYMSYNTEX\", \"BGRENERGY\", \"BAJAJHIND\", \"BLS\", \"ALKALI\", \"ARIES\", \"BALRAMCHIN\", \"BINDALAGRO\", \"AARVEEDEN\", \"ALPA\", \"APOLLO\", \"COMPUSOFT\", \"BRNL\", \"ALPHAGEO\", \"ASAL\", \"AUTOIND\", \"AHLWEST\", \"BEPL\", \"CELEBRITY\", \"BALAMINES\", \"AKSHARCHEM\", \"CORALFINAC\", \"BHARATGEAR\", \"BROOKS\", \"ANIKINDS\", \"ARSSINFRA\", \"BSL\", \"ANSALAPI\", \"63MOONS\", \"BIGBLOC\", \"5PAISA\", \"ASTRON\", \"BSOFT\", \"AUSOMENT\", \"BOMDYEING\", \"ASAHISONG\", \"AKSHOPTFBR\", \"3IINFOTECH\", \"AXISCADES\", \"BHAGYAPROP\", \"BANARBEADS\", \"BASML\", \"BAGFILMS\", \"CMICABLES\", \"AVADHSUGAR\", \"CONSOFINVT\", \"AGARIND\", \"AGRITECH\", \"ADSL\", \"BPL\", \"CALSOFT\", \"CGPOWER\", \"BIRLACABLE\", \"ALMONDZ\", \"BANG\", \"ALANKIT\", \"AMDIND\", \"BYKE\", \"A2ZINFRA\", \"ARSHIYA\", \"CENTEXT\", \"BLKASHYAP\", \"BEDMUTHA\", \"BEARDSELL\", \"BHANDARI\", \"ARIHANT\"], \"xaxis\": \"x\", \"y\": [-0.017989719008811, -0.01899418944915312, -0.019267159304663734, -0.019320858327052902, -0.01948866684938917, -0.019499960853057982, -0.019568330760679712, -0.019680144515295428, -0.0199618355399223, -0.0202786226240371, -0.02035496489745386, -0.020773193900193474, -0.021618872802419493, -0.021708049435725126, -0.021714003649577318, -0.02186270322192651, -0.021916908677636203, -0.02241081320784359, -0.022463967086170017, -0.022467983702243365, -0.023459829261103234, -0.0236889587504117, -0.023722528144277704, -0.02388349151765956, -0.02405140630466036, -0.024181784632074696, -0.02437741172123422, -0.024625727003031447, -0.024660039919404703, -0.02473030483678129, -0.024871463037165937, -0.024914161783811558, -0.024931332392816412, -0.02504487332132621, -0.025101720038618054, -0.025126393162258412, -0.025444437558040694, -0.025537276678761555, -0.025817848316418913, -0.025897452510188303, -0.02592271684883895, -0.026307872097828283, -0.02652195896854281, -0.026802595895799274, -0.026887850664180882, -0.02716104138473576, -0.027268573358640275, -0.027445182478140494, -0.02765225749358002, -0.02779765945269846, -0.027922856696639364, -0.028080893088428465, -0.02818208659655732, -0.028195134263846407, -0.02839644990721494, -0.028598911482252368, -0.02882161914062093, -0.02883432489283164, -0.02885595559108234, -0.02893211759560605, -0.02894030888532803, -0.028991593383613425, -0.029046189999529036, -0.029067933211187877, -0.029492090621826207, -0.029606724590638442, -0.029634623866752953, -0.029984794778773388, -0.03025526940675934, -0.030271076200142796, -0.030625321081218567, -0.03090014914597304, -0.03107042660264878, -0.03107665240657322, -0.031129750716861256, -0.03127740531972284, -0.031477844247816994, -0.03172822395156431, -0.031872815590772444, -0.031939482738307615, -0.0320974692653047, -0.03215417873027267, -0.03226399062405178, -0.0324073321780003, -0.032465716519057344, -0.032659752892329225, -0.032675253407453024, -0.03270831616686935, -0.03284509913386277, -0.03287304576491405, -0.032918258691370855, -0.032925034151344866, -0.03296133193295938, -0.03302247398565656, -0.033034783218833616, -0.033054423678053925, -0.03310253867475414, -0.03325734008902773, -0.033301597284266335, -0.03334827859265958, -0.033439931420821474, -0.03383269859780693, -0.03387639473025872, -0.03418994421542022, -0.034196757186268426, -0.03424076463257246, -0.03429013551618562, -0.03459646657495425, -0.034624515939713385, -0.034828284033934495, -0.03488803291075149, -0.035048670948022796, -0.03506343556072487, -0.03524708051947653, -0.03537856710560354, -0.03539754893201467, -0.035541336541054534, -0.035779942433471656, -0.035949566062857485, -0.03601309879918508, -0.0360687882812569, -0.036273996458981925, -0.03634425734198395, -0.03656342980535398, -0.03667499089457781, -0.03688414596735078, -0.03706069627623811, -0.03758821451415088, -0.03759161689283843, -0.037862677798229064, -0.03854211070400133, -0.03860752338841078, -0.03866582614934701, -0.03874552258119692, -0.03928478361803907, -0.03953782188699337, -0.039581168681687845, -0.039616255229427244, -0.03963296049423581, -0.03991941671367431, -0.039967961559789836, -0.04085946796626932, -0.04087965290774966, -0.04091054813557071, -0.0409118353226558, -0.04106054071141837, -0.04119378189696821, -0.041459149490715136, -0.04176922696728855, -0.04186461892269423, -0.04212094737003771, -0.04257392661830432, -0.0428347104865796, -0.04317608136624344, -0.043536074365568916, -0.043602136115771496, -0.043650478403506575, -0.043878317491268866, -0.043935475932253984, -0.04397166127140752, -0.044088214054005176, -0.044100720987727535, -0.04432967648863366, -0.0444492201171087, -0.04445123124828923, -0.044455136693039465, -0.04454715001830152, -0.04463027388868483, -0.04502465378494329, -0.04522000508534652, -0.045356002573694695, -0.046505532698903826, -0.04713488829054435, -0.04737503637048874, -0.04764576539984932, -0.04768223111531089, -0.047745264190449874, -0.04817316942315038, -0.048356932595141976, -0.04864301252858738, -0.0486536612516867, -0.04865864289840158, -0.04876390121957707, -0.04884091211724683, -0.0491675351858024, -0.04935788026272449, -0.04940475571660538, -0.049511985737023506, -0.04957540493732425, -0.049909974304695764, -0.04993568376752221, -0.05025774674364242, -0.050367749342981306, -0.05040747600018619, -0.050540919399065465, -0.05065825609232637, -0.05068492959897293, -0.05077232537342313, -0.05092913064620324, -0.05106401184578404, -0.05115516022127657, -0.05120226020621623, -0.05141330651439412, -0.05171404329520718, -0.05175762460270592, -0.052160508309320834, -0.05252337305507541, -0.052541134302215325, -0.052687643926200775, -0.05305382998840161, -0.05313170499756925, -0.0533135345014835, -0.05406722127027566, -0.054122111328736545, -0.0550490776025592, -0.05508059538699815, -0.05536170947933987, -0.05541891552041579, -0.05589417542691235, -0.05601997470804509, -0.05614091870776434, -0.056663510818050836, -0.057055132240883495, -0.05750793802270153, -0.057510878684966, -0.05782685181027665, -0.05925239657524639, -0.059315590009423755, -0.060964623492092265, -0.06116993214854834, -0.06343150504292769, -0.06350960970493708, -0.06951368856594042, -0.06964245650251989, -0.0703738628549032, -0.07254210036398641], \"yaxis\": \"y\"}],                        {\"barmode\": \"relative\", \"coloraxis\": {\"colorbar\": {\"title\": {\"text\": \"VaR-95\"}}, \"colorscale\": [[0.0, \"rgb(165,0,38)\"], [0.1, \"rgb(215,48,39)\"], [0.2, \"rgb(244,109,67)\"], [0.3, \"rgb(253,174,97)\"], [0.4, \"rgb(254,224,139)\"], [0.5, \"rgb(255,255,191)\"], [0.6, \"rgb(217,239,139)\"], [0.7, \"rgb(166,217,106)\"], [0.8, \"rgb(102,189,99)\"], [0.9, \"rgb(26,152,80)\"], [1.0, \"rgb(0,104,55)\"]]}, \"height\": 400, \"legend\": {\"tracegroupgap\": 0}, \"margin\": {\"t\": 60}, \"template\": {\"data\": {\"bar\": [{\"error_x\": {\"color\": \"#2a3f5f\"}, \"error_y\": {\"color\": \"#2a3f5f\"}, \"marker\": {\"line\": {\"color\": \"#E5ECF6\", \"width\": 0.5}}, \"type\": \"bar\"}], \"barpolar\": [{\"marker\": {\"line\": {\"color\": \"#E5ECF6\", \"width\": 0.5}}, \"type\": \"barpolar\"}], \"carpet\": [{\"aaxis\": {\"endlinecolor\": \"#2a3f5f\", \"gridcolor\": \"white\", \"linecolor\": \"white\", \"minorgridcolor\": \"white\", \"startlinecolor\": \"#2a3f5f\"}, \"baxis\": {\"endlinecolor\": \"#2a3f5f\", \"gridcolor\": \"white\", \"linecolor\": \"white\", \"minorgridcolor\": \"white\", \"startlinecolor\": \"#2a3f5f\"}, \"type\": \"carpet\"}], \"choropleth\": [{\"colorbar\": {\"outlinewidth\": 0, \"ticks\": \"\"}, \"type\": \"choropleth\"}], \"contour\": [{\"colorbar\": {\"outlinewidth\": 0, \"ticks\": \"\"}, \"colorscale\": [[0.0, \"#0d0887\"], [0.1111111111111111, \"#46039f\"], [0.2222222222222222, \"#7201a8\"], [0.3333333333333333, \"#9c179e\"], [0.4444444444444444, \"#bd3786\"], [0.5555555555555556, \"#d8576b\"], [0.6666666666666666, \"#ed7953\"], [0.7777777777777778, \"#fb9f3a\"], [0.8888888888888888, \"#fdca26\"], [1.0, \"#f0f921\"]], \"type\": \"contour\"}], \"contourcarpet\": [{\"colorbar\": {\"outlinewidth\": 0, \"ticks\": \"\"}, \"type\": \"contourcarpet\"}], \"heatmap\": [{\"colorbar\": {\"outlinewidth\": 0, \"ticks\": \"\"}, \"colorscale\": [[0.0, \"#0d0887\"], [0.1111111111111111, \"#46039f\"], [0.2222222222222222, \"#7201a8\"], [0.3333333333333333, \"#9c179e\"], [0.4444444444444444, \"#bd3786\"], [0.5555555555555556, \"#d8576b\"], [0.6666666666666666, \"#ed7953\"], [0.7777777777777778, \"#fb9f3a\"], [0.8888888888888888, \"#fdca26\"], [1.0, \"#f0f921\"]], \"type\": \"heatmap\"}], \"heatmapgl\": [{\"colorbar\": {\"outlinewidth\": 0, \"ticks\": \"\"}, \"colorscale\": [[0.0, \"#0d0887\"], [0.1111111111111111, \"#46039f\"], [0.2222222222222222, \"#7201a8\"], [0.3333333333333333, \"#9c179e\"], [0.4444444444444444, \"#bd3786\"], [0.5555555555555556, \"#d8576b\"], [0.6666666666666666, \"#ed7953\"], [0.7777777777777778, \"#fb9f3a\"], [0.8888888888888888, \"#fdca26\"], [1.0, \"#f0f921\"]], \"type\": \"heatmapgl\"}], \"histogram\": [{\"marker\": {\"colorbar\": {\"outlinewidth\": 0, \"ticks\": \"\"}}, \"type\": \"histogram\"}], \"histogram2d\": [{\"colorbar\": {\"outlinewidth\": 0, \"ticks\": \"\"}, \"colorscale\": [[0.0, \"#0d0887\"], [0.1111111111111111, \"#46039f\"], [0.2222222222222222, \"#7201a8\"], [0.3333333333333333, \"#9c179e\"], [0.4444444444444444, \"#bd3786\"], [0.5555555555555556, \"#d8576b\"], [0.6666666666666666, \"#ed7953\"], [0.7777777777777778, \"#fb9f3a\"], [0.8888888888888888, \"#fdca26\"], [1.0, \"#f0f921\"]], \"type\": \"histogram2d\"}], \"histogram2dcontour\": [{\"colorbar\": {\"outlinewidth\": 0, \"ticks\": \"\"}, \"colorscale\": [[0.0, \"#0d0887\"], [0.1111111111111111, \"#46039f\"], [0.2222222222222222, \"#7201a8\"], [0.3333333333333333, \"#9c179e\"], [0.4444444444444444, \"#bd3786\"], [0.5555555555555556, \"#d8576b\"], [0.6666666666666666, \"#ed7953\"], [0.7777777777777778, \"#fb9f3a\"], [0.8888888888888888, \"#fdca26\"], [1.0, \"#f0f921\"]], \"type\": \"histogram2dcontour\"}], \"mesh3d\": [{\"colorbar\": {\"outlinewidth\": 0, \"ticks\": \"\"}, \"type\": \"mesh3d\"}], \"parcoords\": [{\"line\": {\"colorbar\": {\"outlinewidth\": 0, \"ticks\": \"\"}}, \"type\": \"parcoords\"}], \"pie\": [{\"automargin\": true, \"type\": \"pie\"}], \"scatter\": [{\"marker\": {\"colorbar\": {\"outlinewidth\": 0, \"ticks\": \"\"}}, \"type\": \"scatter\"}], \"scatter3d\": [{\"line\": {\"colorbar\": {\"outlinewidth\": 0, \"ticks\": \"\"}}, \"marker\": {\"colorbar\": {\"outlinewidth\": 0, \"ticks\": \"\"}}, \"type\": \"scatter3d\"}], \"scattercarpet\": [{\"marker\": {\"colorbar\": {\"outlinewidth\": 0, \"ticks\": \"\"}}, \"type\": \"scattercarpet\"}], \"scattergeo\": [{\"marker\": {\"colorbar\": {\"outlinewidth\": 0, \"ticks\": \"\"}}, \"type\": \"scattergeo\"}], \"scattergl\": [{\"marker\": {\"colorbar\": {\"outlinewidth\": 0, \"ticks\": \"\"}}, \"type\": \"scattergl\"}], \"scattermapbox\": [{\"marker\": {\"colorbar\": {\"outlinewidth\": 0, \"ticks\": \"\"}}, \"type\": \"scattermapbox\"}], \"scatterpolar\": [{\"marker\": {\"colorbar\": {\"outlinewidth\": 0, \"ticks\": \"\"}}, \"type\": \"scatterpolar\"}], \"scatterpolargl\": [{\"marker\": {\"colorbar\": {\"outlinewidth\": 0, \"ticks\": \"\"}}, \"type\": \"scatterpolargl\"}], \"scatterternary\": [{\"marker\": {\"colorbar\": {\"outlinewidth\": 0, \"ticks\": \"\"}}, \"type\": \"scatterternary\"}], \"surface\": [{\"colorbar\": {\"outlinewidth\": 0, \"ticks\": \"\"}, \"colorscale\": [[0.0, \"#0d0887\"], [0.1111111111111111, \"#46039f\"], [0.2222222222222222, \"#7201a8\"], [0.3333333333333333, \"#9c179e\"], [0.4444444444444444, \"#bd3786\"], [0.5555555555555556, \"#d8576b\"], [0.6666666666666666, \"#ed7953\"], [0.7777777777777778, \"#fb9f3a\"], [0.8888888888888888, \"#fdca26\"], [1.0, \"#f0f921\"]], \"type\": \"surface\"}], \"table\": [{\"cells\": {\"fill\": {\"color\": \"#EBF0F8\"}, \"line\": {\"color\": \"white\"}}, \"header\": {\"fill\": {\"color\": \"#C8D4E3\"}, \"line\": {\"color\": \"white\"}}, \"type\": \"table\"}]}, \"layout\": {\"annotationdefaults\": {\"arrowcolor\": \"#2a3f5f\", \"arrowhead\": 0, \"arrowwidth\": 1}, \"autotypenumbers\": \"strict\", \"coloraxis\": {\"colorbar\": {\"outlinewidth\": 0, \"ticks\": \"\"}}, \"colorscale\": {\"diverging\": [[0, \"#8e0152\"], [0.1, \"#c51b7d\"], [0.2, \"#de77ae\"], [0.3, \"#f1b6da\"], [0.4, \"#fde0ef\"], [0.5, \"#f7f7f7\"], [0.6, \"#e6f5d0\"], [0.7, \"#b8e186\"], [0.8, \"#7fbc41\"], [0.9, \"#4d9221\"], [1, \"#276419\"]], \"sequential\": [[0.0, \"#0d0887\"], [0.1111111111111111, \"#46039f\"], [0.2222222222222222, \"#7201a8\"], [0.3333333333333333, \"#9c179e\"], [0.4444444444444444, \"#bd3786\"], [0.5555555555555556, \"#d8576b\"], [0.6666666666666666, \"#ed7953\"], [0.7777777777777778, \"#fb9f3a\"], [0.8888888888888888, \"#fdca26\"], [1.0, \"#f0f921\"]], \"sequentialminus\": [[0.0, \"#0d0887\"], [0.1111111111111111, \"#46039f\"], [0.2222222222222222, \"#7201a8\"], [0.3333333333333333, \"#9c179e\"], [0.4444444444444444, \"#bd3786\"], [0.5555555555555556, \"#d8576b\"], [0.6666666666666666, \"#ed7953\"], [0.7777777777777778, \"#fb9f3a\"], [0.8888888888888888, \"#fdca26\"], [1.0, \"#f0f921\"]]}, \"colorway\": [\"#636efa\", \"#EF553B\", \"#00cc96\", \"#ab63fa\", \"#FFA15A\", \"#19d3f3\", \"#FF6692\", \"#B6E880\", \"#FF97FF\", \"#FECB52\"], \"font\": {\"color\": \"#2a3f5f\"}, \"geo\": {\"bgcolor\": \"white\", \"lakecolor\": \"white\", \"landcolor\": \"#E5ECF6\", \"showlakes\": true, \"showland\": true, \"subunitcolor\": \"white\"}, \"hoverlabel\": {\"align\": \"left\"}, \"hovermode\": \"closest\", \"mapbox\": {\"style\": \"light\"}, \"paper_bgcolor\": \"white\", \"plot_bgcolor\": \"#E5ECF6\", \"polar\": {\"angularaxis\": {\"gridcolor\": \"white\", \"linecolor\": \"white\", \"ticks\": \"\"}, \"bgcolor\": \"#E5ECF6\", \"radialaxis\": {\"gridcolor\": \"white\", \"linecolor\": \"white\", \"ticks\": \"\"}}, \"scene\": {\"xaxis\": {\"backgroundcolor\": \"#E5ECF6\", \"gridcolor\": \"white\", \"gridwidth\": 2, \"linecolor\": \"white\", \"showbackground\": true, \"ticks\": \"\", \"zerolinecolor\": \"white\"}, \"yaxis\": {\"backgroundcolor\": \"#E5ECF6\", \"gridcolor\": \"white\", \"gridwidth\": 2, \"linecolor\": \"white\", \"showbackground\": true, \"ticks\": \"\", \"zerolinecolor\": \"white\"}, \"zaxis\": {\"backgroundcolor\": \"#E5ECF6\", \"gridcolor\": \"white\", \"gridwidth\": 2, \"linecolor\": \"white\", \"showbackground\": true, \"ticks\": \"\", \"zerolinecolor\": \"white\"}}, \"shapedefaults\": {\"line\": {\"color\": \"#2a3f5f\"}}, \"ternary\": {\"aaxis\": {\"gridcolor\": \"white\", \"linecolor\": \"white\", \"ticks\": \"\"}, \"baxis\": {\"gridcolor\": \"white\", \"linecolor\": \"white\", \"ticks\": \"\"}, \"bgcolor\": \"#E5ECF6\", \"caxis\": {\"gridcolor\": \"white\", \"linecolor\": \"white\", \"ticks\": \"\"}}, \"title\": {\"x\": 0.05}, \"xaxis\": {\"automargin\": true, \"gridcolor\": \"white\", \"linecolor\": \"white\", \"ticks\": \"\", \"title\": {\"standoff\": 15}, \"zerolinecolor\": \"white\", \"zerolinewidth\": 2}, \"yaxis\": {\"automargin\": true, \"gridcolor\": \"white\", \"linecolor\": \"white\", \"ticks\": \"\", \"title\": {\"standoff\": 15}, \"zerolinecolor\": \"white\", \"zerolinewidth\": 2}}}, \"xaxis\": {\"anchor\": \"y\", \"domain\": [0.0, 1.0], \"title\": {\"text\": \"ticker\"}}, \"yaxis\": {\"anchor\": \"x\", \"domain\": [0.0, 1.0], \"title\": {\"text\": \"VaR-95\"}}},                        {\"responsive\": true}                    ).then(function(){\n",
       "                            \n",
       "var gd = document.getElementById('b9bca9a9-b7e3-4c06-b6d6-e4f206104531');\n",
       "var x = new MutationObserver(function (mutations, observer) {{\n",
       "        var display = window.getComputedStyle(gd).display;\n",
       "        if (!display || display === 'none') {{\n",
       "            console.log([gd, 'removed!']);\n",
       "            Plotly.purge(gd);\n",
       "            observer.disconnect();\n",
       "        }}\n",
       "}});\n",
       "\n",
       "// Listen for the removal of the full notebook cells\n",
       "var notebookContainer = gd.closest('#notebook-container');\n",
       "if (notebookContainer) {{\n",
       "    x.observe(notebookContainer, {childList: true});\n",
       "}}\n",
       "\n",
       "// Listen for the clearing of the current output cell\n",
       "var outputEl = gd.closest('.output');\n",
       "if (outputEl) {{\n",
       "    x.observe(outputEl, {childList: true});\n",
       "}}\n",
       "\n",
       "                        })                };                });            </script>        </div>"
      ]
     },
     "metadata": {},
     "output_type": "display_data"
    },
    {
     "data": {
      "application/vnd.plotly.v1+json": {
       "config": {
        "plotlyServerURL": "https://plot.ly"
       },
       "data": [
        {
         "alignmentgroup": "True",
         "hovertemplate": "ticker=%{x}<br>VaR-97.5=%{marker.color}<extra></extra>",
         "legendgroup": "",
         "marker": {
          "color": [
           -0.019968779312168294,
           -0.020897566871518485,
           -0.022107975356752057,
           -0.022779826656890885,
           -0.022927341468226822,
           -0.0234237833501649,
           -0.023729990376696337,
           -0.024365172941807373,
           -0.024647478925457305,
           -0.02511550322521509,
           -0.025148137309010096,
           -0.025723678412506713,
           -0.025901487190583442,
           -0.026226775460232304,
           -0.027375238008854885,
           -0.027470367363188853,
           -0.027547930297481336,
           -0.027763844283114986,
           -0.028106626616577982,
           -0.0281693679499074,
           -0.02842018869405706,
           -0.02870721214513072,
           -0.028931429740862793,
           -0.02897049841590968,
           -0.02925121688907681,
           -0.029447160024645622,
           -0.02981223198394835,
           -0.02983354198963994,
           -0.030605133310950616,
           -0.030700823547533684,
           -0.031159539137340375,
           -0.031204745592820292,
           -0.031219099976393966,
           -0.03152717586691876,
           -0.03155349480913634,
           -0.03160971729015644,
           -0.03188401292848809,
           -0.03202018021048531,
           -0.032077985242403746,
           -0.032282509769929656,
           -0.03274956690991639,
           -0.03283536762419853,
           -0.032922880500788565,
           -0.03341597594074744,
           -0.033580052261228295,
           -0.03360532485434415,
           -0.03365142604437117,
           -0.033826957723455384,
           -0.033945466472423996,
           -0.034965085379367954,
           -0.03497264290466555,
           -0.03509647471748831,
           -0.03541283820560033,
           -0.03567421713141983,
           -0.035899972916543864,
           -0.03591981983407917,
           -0.036135400278021514,
           -0.036199371209921775,
           -0.03663100381099944,
           -0.03707963831365393,
           -0.037423961045711815,
           -0.03742451755374664,
           -0.03771899012024331,
           -0.03772800496141758,
           -0.0381284861421366,
           -0.03819675185173704,
           -0.03828786743111962,
           -0.03849192708807443,
           -0.03852065734604886,
           -0.038533363839012263,
           -0.03855515851434812,
           -0.03856580737146509,
           -0.038664720089874496,
           -0.03890849725694344,
           -0.03909170498366732,
           -0.039163334384090275,
           -0.03935326219733112,
           -0.03937833470348682,
           -0.039386415184296045,
           -0.039414942708340776,
           -0.03947846517357848,
           -0.039487417167314166,
           -0.0398121593121049,
           -0.03999537786778455,
           -0.04021194683638834,
           -0.04022768633389912,
           -0.04035220315511772,
           -0.04050864330218674,
           -0.040534601710904505,
           -0.04066711799403073,
           -0.04077906111766355,
           -0.04083449896184841,
           -0.040981620703261466,
           -0.04148086332801741,
           -0.04200084824853732,
           -0.04216249307843991,
           -0.04222116600953162,
           -0.04244079498180912,
           -0.04265837773173484,
           -0.042900657334197165,
           -0.043282608037276106,
           -0.043377754923367706,
           -0.043390632941780784,
           -0.04385941537664133,
           -0.04405962195073979,
           -0.0441138820783564,
           -0.04425812365732281,
           -0.04453179989731932,
           -0.04460161496517977,
           -0.04463484783215969,
           -0.0448151894744724,
           -0.04504566389757348,
           -0.045078834632925724,
           -0.045239550294319794,
           -0.045249529431990815,
           -0.04534532172950795,
           -0.045594640095441646,
           -0.04569614734464008,
           -0.045814631617730715,
           -0.0458390774234488,
           -0.04613243179798799,
           -0.04614855056283475,
           -0.04620358173969384,
           -0.04643559926875727,
           -0.04649547088449882,
           -0.04651181388832831,
           -0.046635826335137756,
           -0.04673256895084688,
           -0.04734517987870045,
           -0.047979814541860684,
           -0.04813947969400072,
           -0.04832323505893838,
           -0.04850737434254281,
           -0.048518322135943946,
           -0.048550796740260575,
           -0.048856834395267154,
           -0.048914494845128546,
           -0.049242659913280015,
           -0.049521613026188425,
           -0.04957407593217604,
           -0.04986859698646152,
           -0.04996499247080448,
           -0.04999575014057834,
           -0.05008213693802147,
           -0.05098250918619984,
           -0.05106878834503086,
           -0.05116104987923886,
           -0.0511815359492705,
           -0.051255410786319434,
           -0.05161507018926352,
           -0.05168763286867837,
           -0.052081882483463654,
           -0.05253487657063828,
           -0.05259243389381903,
           -0.052601035213391406,
           -0.052623492554774595,
           -0.052830234372727304,
           -0.05293884370700354,
           -0.05321538233288195,
           -0.053585507222420836,
           -0.0543534030488867,
           -0.05471819573514097,
           -0.05473799043385346,
           -0.054841150197448015,
           -0.05499990303160279,
           -0.055043360693150634,
           -0.05541244103841834,
           -0.05573885914383889,
           -0.0558687365277267,
           -0.05728286694699133,
           -0.05755739992046511,
           -0.05834374672268897,
           -0.05894728821755643,
           -0.059083366707705594,
           -0.059183588892486184,
           -0.05943090953846684,
           -0.05960969120822802,
           -0.05968249984399773,
           -0.05983267380822435,
           -0.06016337628716143,
           -0.060320537804729596,
           -0.06098720779727001,
           -0.0612536850464098,
           -0.061504581096923985,
           -0.061523279707090824,
           -0.06180356675589136,
           -0.06208257930433274,
           -0.06217266890018623,
           -0.06232838381921273,
           -0.06253735142109954,
           -0.06312951077351699,
           -0.06315500493746998,
           -0.06317535161094406,
           -0.06319315099112606,
           -0.06373625809540481,
           -0.06408465164058273,
           -0.06449691423619151,
           -0.06473037459528438,
           -0.06482025352890375,
           -0.06520141442096865,
           -0.0653748733150703,
           -0.06665176026677959,
           -0.06680866967211019,
           -0.06695791612335603,
           -0.06706482617106667,
           -0.06773586528696462,
           -0.06829178789935132,
           -0.06859435016957756,
           -0.06862636627486679,
           -0.06878711004102006,
           -0.06904713319005398,
           -0.06941980655632707,
           -0.06969646617104315,
           -0.07045371300629946,
           -0.07065015357836457,
           -0.07079261686574741,
           -0.07116418607205505,
           -0.07195271501590982,
           -0.0721898094036829,
           -0.07362763289912082,
           -0.07367096916597321,
           -0.07408983649822966,
           -0.07767958470459894,
           -0.0778865039446931,
           -0.0781309089807881,
           -0.07844860224708314,
           -0.07921716937219384,
           -0.07951386007794736,
           -0.07973267683692045,
           -0.08122891552172473,
           -0.08178729327329026,
           -0.08338160893905114,
           -0.08486871265078923,
           -0.08516507840289159,
           -0.08651286194800935,
           -0.10211416861337202
          ],
          "coloraxis": "coloraxis"
         },
         "name": "",
         "offsetgroup": "",
         "orientation": "v",
         "showlegend": false,
         "textposition": "auto",
         "type": "bar",
         "x": [
          "21STCENMGM",
          "COLPAL",
          "ALKEM",
          "ATUL",
          "ASIANPAINT",
          "APLLTD",
          "COCHINSHIP",
          "AKZOINDIA",
          "BERGEPAINT",
          "BAJAJ-AUTO",
          "ABBOTINDIA",
          "BATAINDIA",
          "COFORGE",
          "ACCELYA",
          "COROMANDEL",
          "ABB",
          "CEATLTD",
          "AARTIDRUGS",
          "CDSL",
          "BAYERCROP",
          "AXISBANK",
          "AMBIKCO",
          "BSE",
          "CESC",
          "CLNINDIA",
          "CHOLAHLDNG",
          "BAJAJHLDNG",
          "BALKRISIND",
          "CIPLA",
          "BRITANNIA",
          "CERA",
          "CHEMFAB",
          "AIAENG",
          "ATFL",
          "AMARAJABAT",
          "CASTROLIND",
          "APLAPOLLO",
          "BBL",
          "CCL",
          "BLUESTARCO",
          "3MINDIA",
          "AUBANK",
          "ALKYLAMINE",
          "CONCOR",
          "APOLLOHOSP",
          "AAVAS",
          "AMBER",
          "ABFRL",
          "ACC",
          "ANDHRSUGAR",
          "CARBORUNIV",
          "BLUEDART",
          "BALMLAWRIE",
          "COSMOFILMS",
          "AJANTPHARM",
          "COALINDIA",
          "BAJAJFINSV",
          "ATULAUTO",
          "BOSCHLTD",
          "CENTENKA",
          "BLISSGVS",
          "ALLCARGO",
          "CHALET",
          "AMBUJACEM",
          "BHARATFORG",
          "ASAHIINDIA",
          "BIRLACORPN",
          "CADILAHC",
          "CANFINHOME",
          "ADANIENT",
          "CENTURYTEX",
          "ADFFOODS",
          "ARVSMART",
          "BRIGADE",
          "ASHIANA",
          "ABCAPITAL",
          "ADORWELD",
          "AHLEAST",
          "BASF",
          "CIGNITITEC",
          "APARINDS",
          "AHLUCONT",
          "ADANITRANS",
          "BDL",
          "BAJFINANCE",
          "BAJAJCON",
          "AMRUTANJAN",
          "BHARTIARTL",
          "ANDHRAPAP",
          "ASTRAL",
          "APOLLOTYRE",
          "CARERATING",
          "CONTROLPR",
          "CHAMBLFERT",
          "ADANIPORTS",
          "ASTERDM",
          "AUTOAXLES",
          "BHAGERIA",
          "ASIANTILES",
          "ARMANFIN",
          "AUROPHARMA",
          "CGCL",
          "CHENNPETRO",
          "ANANTRAJ",
          "BORORENEW",
          "BIOCON",
          "ALICON",
          "AROGRANITE",
          "20MICRONS",
          "AARTIIND",
          "AEGISCHEM",
          "CORDSCABLE",
          "BANCOINDIA",
          "ASTRAMICRO",
          "ASTRAZEN",
          "CENTURYPLY",
          "BANARISUG",
          "BALAJITELE",
          "ALBERTDAVD",
          "BEML",
          "BPCL",
          "BHARATWIRE",
          "ASHOKA",
          "CAPACITE",
          "BEL",
          "BAJAJELEC",
          "CLEDUCATE",
          "BHARATRAS",
          "BANDHANBNK",
          "CENTRUM",
          "ADVENZYMES",
          "BHEL",
          "CANBK",
          "AVTNPL",
          "CAPLIPOINT",
          "BHAGYANGR",
          "CEREBRAINT",
          "CAREERP",
          "CANTABIL",
          "ACE",
          "ASHOKLEY",
          "APTECHT",
          "ADVANIHOTR",
          "CINELINE",
          "ARSSINFRA",
          "BODALCHEM",
          "CAMLINFINE",
          "63MOONS",
          "5PAISA",
          "ALEMBICLTD",
          "CENTRALBK",
          "BANKBARODA",
          "APEX",
          "ARCHIDPLY",
          "AVANTIFEED",
          "CENTUM",
          "APCL",
          "ASIANHOTNR",
          "ASPINWALL",
          "AMJLAND",
          "ADANIGREEN",
          "BFUTILITIE",
          "ALKALI",
          "AURIONPRO",
          "AJMERA",
          "BFINVEST",
          "ARIES",
          "AYMSYNTEX",
          "BAJAJHIND",
          "BEPL",
          "BANKINDIA",
          "BUTTERFLY",
          "BALPHARMA",
          "BALRAMCHIN",
          "COMPINFO",
          "ARVIND",
          "AHLWEST",
          "BGRENERGY",
          "AUSOMENT",
          "ASAL",
          "ADANIPOWER",
          "BROOKS",
          "CORALFINAC",
          "AVADHSUGAR",
          "AGRITECH",
          "APOLLO",
          "AUTOIND",
          "ASAHISONG",
          "AARVEEDEN",
          "AKSHARCHEM",
          "AMDIND",
          "ALPHAGEO",
          "BINDALAGRO",
          "BIGBLOC",
          "BLS",
          "ASTEC",
          "BHARATGEAR",
          "BPL",
          "COMPUSOFT",
          "BRNL",
          "CONSOFINVT",
          "ALMONDZ",
          "BANARBEADS",
          "BALAMINES",
          "BSL",
          "BASML",
          "A2ZINFRA",
          "ANIKINDS",
          "AXISCADES",
          "3IINFOTECH",
          "BANSWRAS",
          "BSOFT",
          "BANG",
          "ADSL",
          "BYKE",
          "BOMDYEING",
          "ANSALAPI",
          "ASTRON",
          "BAGFILMS",
          "CMICABLES",
          "AGARIND",
          "BHAGYAPROP",
          "AKSHOPTFBR",
          "BLKASHYAP",
          "BEARDSELL",
          "CENTEXT",
          "ALANKIT",
          "BEDMUTHA",
          "ALPA",
          "CALSOFT",
          "CELEBRITY",
          "BHANDARI",
          "BIRLACABLE",
          "ARIHANT",
          "ARSHIYA",
          "CGPOWER"
         ],
         "xaxis": "x",
         "y": [
          -0.019968779312168294,
          -0.020897566871518485,
          -0.022107975356752057,
          -0.022779826656890885,
          -0.022927341468226822,
          -0.0234237833501649,
          -0.023729990376696337,
          -0.024365172941807373,
          -0.024647478925457305,
          -0.02511550322521509,
          -0.025148137309010096,
          -0.025723678412506713,
          -0.025901487190583442,
          -0.026226775460232304,
          -0.027375238008854885,
          -0.027470367363188853,
          -0.027547930297481336,
          -0.027763844283114986,
          -0.028106626616577982,
          -0.0281693679499074,
          -0.02842018869405706,
          -0.02870721214513072,
          -0.028931429740862793,
          -0.02897049841590968,
          -0.02925121688907681,
          -0.029447160024645622,
          -0.02981223198394835,
          -0.02983354198963994,
          -0.030605133310950616,
          -0.030700823547533684,
          -0.031159539137340375,
          -0.031204745592820292,
          -0.031219099976393966,
          -0.03152717586691876,
          -0.03155349480913634,
          -0.03160971729015644,
          -0.03188401292848809,
          -0.03202018021048531,
          -0.032077985242403746,
          -0.032282509769929656,
          -0.03274956690991639,
          -0.03283536762419853,
          -0.032922880500788565,
          -0.03341597594074744,
          -0.033580052261228295,
          -0.03360532485434415,
          -0.03365142604437117,
          -0.033826957723455384,
          -0.033945466472423996,
          -0.034965085379367954,
          -0.03497264290466555,
          -0.03509647471748831,
          -0.03541283820560033,
          -0.03567421713141983,
          -0.035899972916543864,
          -0.03591981983407917,
          -0.036135400278021514,
          -0.036199371209921775,
          -0.03663100381099944,
          -0.03707963831365393,
          -0.037423961045711815,
          -0.03742451755374664,
          -0.03771899012024331,
          -0.03772800496141758,
          -0.0381284861421366,
          -0.03819675185173704,
          -0.03828786743111962,
          -0.03849192708807443,
          -0.03852065734604886,
          -0.038533363839012263,
          -0.03855515851434812,
          -0.03856580737146509,
          -0.038664720089874496,
          -0.03890849725694344,
          -0.03909170498366732,
          -0.039163334384090275,
          -0.03935326219733112,
          -0.03937833470348682,
          -0.039386415184296045,
          -0.039414942708340776,
          -0.03947846517357848,
          -0.039487417167314166,
          -0.0398121593121049,
          -0.03999537786778455,
          -0.04021194683638834,
          -0.04022768633389912,
          -0.04035220315511772,
          -0.04050864330218674,
          -0.040534601710904505,
          -0.04066711799403073,
          -0.04077906111766355,
          -0.04083449896184841,
          -0.040981620703261466,
          -0.04148086332801741,
          -0.04200084824853732,
          -0.04216249307843991,
          -0.04222116600953162,
          -0.04244079498180912,
          -0.04265837773173484,
          -0.042900657334197165,
          -0.043282608037276106,
          -0.043377754923367706,
          -0.043390632941780784,
          -0.04385941537664133,
          -0.04405962195073979,
          -0.0441138820783564,
          -0.04425812365732281,
          -0.04453179989731932,
          -0.04460161496517977,
          -0.04463484783215969,
          -0.0448151894744724,
          -0.04504566389757348,
          -0.045078834632925724,
          -0.045239550294319794,
          -0.045249529431990815,
          -0.04534532172950795,
          -0.045594640095441646,
          -0.04569614734464008,
          -0.045814631617730715,
          -0.0458390774234488,
          -0.04613243179798799,
          -0.04614855056283475,
          -0.04620358173969384,
          -0.04643559926875727,
          -0.04649547088449882,
          -0.04651181388832831,
          -0.046635826335137756,
          -0.04673256895084688,
          -0.04734517987870045,
          -0.047979814541860684,
          -0.04813947969400072,
          -0.04832323505893838,
          -0.04850737434254281,
          -0.048518322135943946,
          -0.048550796740260575,
          -0.048856834395267154,
          -0.048914494845128546,
          -0.049242659913280015,
          -0.049521613026188425,
          -0.04957407593217604,
          -0.04986859698646152,
          -0.04996499247080448,
          -0.04999575014057834,
          -0.05008213693802147,
          -0.05098250918619984,
          -0.05106878834503086,
          -0.05116104987923886,
          -0.0511815359492705,
          -0.051255410786319434,
          -0.05161507018926352,
          -0.05168763286867837,
          -0.052081882483463654,
          -0.05253487657063828,
          -0.05259243389381903,
          -0.052601035213391406,
          -0.052623492554774595,
          -0.052830234372727304,
          -0.05293884370700354,
          -0.05321538233288195,
          -0.053585507222420836,
          -0.0543534030488867,
          -0.05471819573514097,
          -0.05473799043385346,
          -0.054841150197448015,
          -0.05499990303160279,
          -0.055043360693150634,
          -0.05541244103841834,
          -0.05573885914383889,
          -0.0558687365277267,
          -0.05728286694699133,
          -0.05755739992046511,
          -0.05834374672268897,
          -0.05894728821755643,
          -0.059083366707705594,
          -0.059183588892486184,
          -0.05943090953846684,
          -0.05960969120822802,
          -0.05968249984399773,
          -0.05983267380822435,
          -0.06016337628716143,
          -0.060320537804729596,
          -0.06098720779727001,
          -0.0612536850464098,
          -0.061504581096923985,
          -0.061523279707090824,
          -0.06180356675589136,
          -0.06208257930433274,
          -0.06217266890018623,
          -0.06232838381921273,
          -0.06253735142109954,
          -0.06312951077351699,
          -0.06315500493746998,
          -0.06317535161094406,
          -0.06319315099112606,
          -0.06373625809540481,
          -0.06408465164058273,
          -0.06449691423619151,
          -0.06473037459528438,
          -0.06482025352890375,
          -0.06520141442096865,
          -0.0653748733150703,
          -0.06665176026677959,
          -0.06680866967211019,
          -0.06695791612335603,
          -0.06706482617106667,
          -0.06773586528696462,
          -0.06829178789935132,
          -0.06859435016957756,
          -0.06862636627486679,
          -0.06878711004102006,
          -0.06904713319005398,
          -0.06941980655632707,
          -0.06969646617104315,
          -0.07045371300629946,
          -0.07065015357836457,
          -0.07079261686574741,
          -0.07116418607205505,
          -0.07195271501590982,
          -0.0721898094036829,
          -0.07362763289912082,
          -0.07367096916597321,
          -0.07408983649822966,
          -0.07767958470459894,
          -0.0778865039446931,
          -0.0781309089807881,
          -0.07844860224708314,
          -0.07921716937219384,
          -0.07951386007794736,
          -0.07973267683692045,
          -0.08122891552172473,
          -0.08178729327329026,
          -0.08338160893905114,
          -0.08486871265078923,
          -0.08516507840289159,
          -0.08651286194800935,
          -0.10211416861337202
         ],
         "yaxis": "y"
        }
       ],
       "layout": {
        "barmode": "relative",
        "coloraxis": {
         "colorbar": {
          "title": {
           "text": "VaR-97.5"
          }
         },
         "colorscale": [
          [
           0,
           "rgb(165,0,38)"
          ],
          [
           0.1,
           "rgb(215,48,39)"
          ],
          [
           0.2,
           "rgb(244,109,67)"
          ],
          [
           0.3,
           "rgb(253,174,97)"
          ],
          [
           0.4,
           "rgb(254,224,139)"
          ],
          [
           0.5,
           "rgb(255,255,191)"
          ],
          [
           0.6,
           "rgb(217,239,139)"
          ],
          [
           0.7,
           "rgb(166,217,106)"
          ],
          [
           0.8,
           "rgb(102,189,99)"
          ],
          [
           0.9,
           "rgb(26,152,80)"
          ],
          [
           1,
           "rgb(0,104,55)"
          ]
         ]
        },
        "height": 400,
        "legend": {
         "tracegroupgap": 0
        },
        "margin": {
         "t": 60
        },
        "template": {
         "data": {
          "bar": [
           {
            "error_x": {
             "color": "#2a3f5f"
            },
            "error_y": {
             "color": "#2a3f5f"
            },
            "marker": {
             "line": {
              "color": "#E5ECF6",
              "width": 0.5
             }
            },
            "type": "bar"
           }
          ],
          "barpolar": [
           {
            "marker": {
             "line": {
              "color": "#E5ECF6",
              "width": 0.5
             }
            },
            "type": "barpolar"
           }
          ],
          "carpet": [
           {
            "aaxis": {
             "endlinecolor": "#2a3f5f",
             "gridcolor": "white",
             "linecolor": "white",
             "minorgridcolor": "white",
             "startlinecolor": "#2a3f5f"
            },
            "baxis": {
             "endlinecolor": "#2a3f5f",
             "gridcolor": "white",
             "linecolor": "white",
             "minorgridcolor": "white",
             "startlinecolor": "#2a3f5f"
            },
            "type": "carpet"
           }
          ],
          "choropleth": [
           {
            "colorbar": {
             "outlinewidth": 0,
             "ticks": ""
            },
            "type": "choropleth"
           }
          ],
          "contour": [
           {
            "colorbar": {
             "outlinewidth": 0,
             "ticks": ""
            },
            "colorscale": [
             [
              0,
              "#0d0887"
             ],
             [
              0.1111111111111111,
              "#46039f"
             ],
             [
              0.2222222222222222,
              "#7201a8"
             ],
             [
              0.3333333333333333,
              "#9c179e"
             ],
             [
              0.4444444444444444,
              "#bd3786"
             ],
             [
              0.5555555555555556,
              "#d8576b"
             ],
             [
              0.6666666666666666,
              "#ed7953"
             ],
             [
              0.7777777777777778,
              "#fb9f3a"
             ],
             [
              0.8888888888888888,
              "#fdca26"
             ],
             [
              1,
              "#f0f921"
             ]
            ],
            "type": "contour"
           }
          ],
          "contourcarpet": [
           {
            "colorbar": {
             "outlinewidth": 0,
             "ticks": ""
            },
            "type": "contourcarpet"
           }
          ],
          "heatmap": [
           {
            "colorbar": {
             "outlinewidth": 0,
             "ticks": ""
            },
            "colorscale": [
             [
              0,
              "#0d0887"
             ],
             [
              0.1111111111111111,
              "#46039f"
             ],
             [
              0.2222222222222222,
              "#7201a8"
             ],
             [
              0.3333333333333333,
              "#9c179e"
             ],
             [
              0.4444444444444444,
              "#bd3786"
             ],
             [
              0.5555555555555556,
              "#d8576b"
             ],
             [
              0.6666666666666666,
              "#ed7953"
             ],
             [
              0.7777777777777778,
              "#fb9f3a"
             ],
             [
              0.8888888888888888,
              "#fdca26"
             ],
             [
              1,
              "#f0f921"
             ]
            ],
            "type": "heatmap"
           }
          ],
          "heatmapgl": [
           {
            "colorbar": {
             "outlinewidth": 0,
             "ticks": ""
            },
            "colorscale": [
             [
              0,
              "#0d0887"
             ],
             [
              0.1111111111111111,
              "#46039f"
             ],
             [
              0.2222222222222222,
              "#7201a8"
             ],
             [
              0.3333333333333333,
              "#9c179e"
             ],
             [
              0.4444444444444444,
              "#bd3786"
             ],
             [
              0.5555555555555556,
              "#d8576b"
             ],
             [
              0.6666666666666666,
              "#ed7953"
             ],
             [
              0.7777777777777778,
              "#fb9f3a"
             ],
             [
              0.8888888888888888,
              "#fdca26"
             ],
             [
              1,
              "#f0f921"
             ]
            ],
            "type": "heatmapgl"
           }
          ],
          "histogram": [
           {
            "marker": {
             "colorbar": {
              "outlinewidth": 0,
              "ticks": ""
             }
            },
            "type": "histogram"
           }
          ],
          "histogram2d": [
           {
            "colorbar": {
             "outlinewidth": 0,
             "ticks": ""
            },
            "colorscale": [
             [
              0,
              "#0d0887"
             ],
             [
              0.1111111111111111,
              "#46039f"
             ],
             [
              0.2222222222222222,
              "#7201a8"
             ],
             [
              0.3333333333333333,
              "#9c179e"
             ],
             [
              0.4444444444444444,
              "#bd3786"
             ],
             [
              0.5555555555555556,
              "#d8576b"
             ],
             [
              0.6666666666666666,
              "#ed7953"
             ],
             [
              0.7777777777777778,
              "#fb9f3a"
             ],
             [
              0.8888888888888888,
              "#fdca26"
             ],
             [
              1,
              "#f0f921"
             ]
            ],
            "type": "histogram2d"
           }
          ],
          "histogram2dcontour": [
           {
            "colorbar": {
             "outlinewidth": 0,
             "ticks": ""
            },
            "colorscale": [
             [
              0,
              "#0d0887"
             ],
             [
              0.1111111111111111,
              "#46039f"
             ],
             [
              0.2222222222222222,
              "#7201a8"
             ],
             [
              0.3333333333333333,
              "#9c179e"
             ],
             [
              0.4444444444444444,
              "#bd3786"
             ],
             [
              0.5555555555555556,
              "#d8576b"
             ],
             [
              0.6666666666666666,
              "#ed7953"
             ],
             [
              0.7777777777777778,
              "#fb9f3a"
             ],
             [
              0.8888888888888888,
              "#fdca26"
             ],
             [
              1,
              "#f0f921"
             ]
            ],
            "type": "histogram2dcontour"
           }
          ],
          "mesh3d": [
           {
            "colorbar": {
             "outlinewidth": 0,
             "ticks": ""
            },
            "type": "mesh3d"
           }
          ],
          "parcoords": [
           {
            "line": {
             "colorbar": {
              "outlinewidth": 0,
              "ticks": ""
             }
            },
            "type": "parcoords"
           }
          ],
          "pie": [
           {
            "automargin": true,
            "type": "pie"
           }
          ],
          "scatter": [
           {
            "marker": {
             "colorbar": {
              "outlinewidth": 0,
              "ticks": ""
             }
            },
            "type": "scatter"
           }
          ],
          "scatter3d": [
           {
            "line": {
             "colorbar": {
              "outlinewidth": 0,
              "ticks": ""
             }
            },
            "marker": {
             "colorbar": {
              "outlinewidth": 0,
              "ticks": ""
             }
            },
            "type": "scatter3d"
           }
          ],
          "scattercarpet": [
           {
            "marker": {
             "colorbar": {
              "outlinewidth": 0,
              "ticks": ""
             }
            },
            "type": "scattercarpet"
           }
          ],
          "scattergeo": [
           {
            "marker": {
             "colorbar": {
              "outlinewidth": 0,
              "ticks": ""
             }
            },
            "type": "scattergeo"
           }
          ],
          "scattergl": [
           {
            "marker": {
             "colorbar": {
              "outlinewidth": 0,
              "ticks": ""
             }
            },
            "type": "scattergl"
           }
          ],
          "scattermapbox": [
           {
            "marker": {
             "colorbar": {
              "outlinewidth": 0,
              "ticks": ""
             }
            },
            "type": "scattermapbox"
           }
          ],
          "scatterpolar": [
           {
            "marker": {
             "colorbar": {
              "outlinewidth": 0,
              "ticks": ""
             }
            },
            "type": "scatterpolar"
           }
          ],
          "scatterpolargl": [
           {
            "marker": {
             "colorbar": {
              "outlinewidth": 0,
              "ticks": ""
             }
            },
            "type": "scatterpolargl"
           }
          ],
          "scatterternary": [
           {
            "marker": {
             "colorbar": {
              "outlinewidth": 0,
              "ticks": ""
             }
            },
            "type": "scatterternary"
           }
          ],
          "surface": [
           {
            "colorbar": {
             "outlinewidth": 0,
             "ticks": ""
            },
            "colorscale": [
             [
              0,
              "#0d0887"
             ],
             [
              0.1111111111111111,
              "#46039f"
             ],
             [
              0.2222222222222222,
              "#7201a8"
             ],
             [
              0.3333333333333333,
              "#9c179e"
             ],
             [
              0.4444444444444444,
              "#bd3786"
             ],
             [
              0.5555555555555556,
              "#d8576b"
             ],
             [
              0.6666666666666666,
              "#ed7953"
             ],
             [
              0.7777777777777778,
              "#fb9f3a"
             ],
             [
              0.8888888888888888,
              "#fdca26"
             ],
             [
              1,
              "#f0f921"
             ]
            ],
            "type": "surface"
           }
          ],
          "table": [
           {
            "cells": {
             "fill": {
              "color": "#EBF0F8"
             },
             "line": {
              "color": "white"
             }
            },
            "header": {
             "fill": {
              "color": "#C8D4E3"
             },
             "line": {
              "color": "white"
             }
            },
            "type": "table"
           }
          ]
         },
         "layout": {
          "annotationdefaults": {
           "arrowcolor": "#2a3f5f",
           "arrowhead": 0,
           "arrowwidth": 1
          },
          "autotypenumbers": "strict",
          "coloraxis": {
           "colorbar": {
            "outlinewidth": 0,
            "ticks": ""
           }
          },
          "colorscale": {
           "diverging": [
            [
             0,
             "#8e0152"
            ],
            [
             0.1,
             "#c51b7d"
            ],
            [
             0.2,
             "#de77ae"
            ],
            [
             0.3,
             "#f1b6da"
            ],
            [
             0.4,
             "#fde0ef"
            ],
            [
             0.5,
             "#f7f7f7"
            ],
            [
             0.6,
             "#e6f5d0"
            ],
            [
             0.7,
             "#b8e186"
            ],
            [
             0.8,
             "#7fbc41"
            ],
            [
             0.9,
             "#4d9221"
            ],
            [
             1,
             "#276419"
            ]
           ],
           "sequential": [
            [
             0,
             "#0d0887"
            ],
            [
             0.1111111111111111,
             "#46039f"
            ],
            [
             0.2222222222222222,
             "#7201a8"
            ],
            [
             0.3333333333333333,
             "#9c179e"
            ],
            [
             0.4444444444444444,
             "#bd3786"
            ],
            [
             0.5555555555555556,
             "#d8576b"
            ],
            [
             0.6666666666666666,
             "#ed7953"
            ],
            [
             0.7777777777777778,
             "#fb9f3a"
            ],
            [
             0.8888888888888888,
             "#fdca26"
            ],
            [
             1,
             "#f0f921"
            ]
           ],
           "sequentialminus": [
            [
             0,
             "#0d0887"
            ],
            [
             0.1111111111111111,
             "#46039f"
            ],
            [
             0.2222222222222222,
             "#7201a8"
            ],
            [
             0.3333333333333333,
             "#9c179e"
            ],
            [
             0.4444444444444444,
             "#bd3786"
            ],
            [
             0.5555555555555556,
             "#d8576b"
            ],
            [
             0.6666666666666666,
             "#ed7953"
            ],
            [
             0.7777777777777778,
             "#fb9f3a"
            ],
            [
             0.8888888888888888,
             "#fdca26"
            ],
            [
             1,
             "#f0f921"
            ]
           ]
          },
          "colorway": [
           "#636efa",
           "#EF553B",
           "#00cc96",
           "#ab63fa",
           "#FFA15A",
           "#19d3f3",
           "#FF6692",
           "#B6E880",
           "#FF97FF",
           "#FECB52"
          ],
          "font": {
           "color": "#2a3f5f"
          },
          "geo": {
           "bgcolor": "white",
           "lakecolor": "white",
           "landcolor": "#E5ECF6",
           "showlakes": true,
           "showland": true,
           "subunitcolor": "white"
          },
          "hoverlabel": {
           "align": "left"
          },
          "hovermode": "closest",
          "mapbox": {
           "style": "light"
          },
          "paper_bgcolor": "white",
          "plot_bgcolor": "#E5ECF6",
          "polar": {
           "angularaxis": {
            "gridcolor": "white",
            "linecolor": "white",
            "ticks": ""
           },
           "bgcolor": "#E5ECF6",
           "radialaxis": {
            "gridcolor": "white",
            "linecolor": "white",
            "ticks": ""
           }
          },
          "scene": {
           "xaxis": {
            "backgroundcolor": "#E5ECF6",
            "gridcolor": "white",
            "gridwidth": 2,
            "linecolor": "white",
            "showbackground": true,
            "ticks": "",
            "zerolinecolor": "white"
           },
           "yaxis": {
            "backgroundcolor": "#E5ECF6",
            "gridcolor": "white",
            "gridwidth": 2,
            "linecolor": "white",
            "showbackground": true,
            "ticks": "",
            "zerolinecolor": "white"
           },
           "zaxis": {
            "backgroundcolor": "#E5ECF6",
            "gridcolor": "white",
            "gridwidth": 2,
            "linecolor": "white",
            "showbackground": true,
            "ticks": "",
            "zerolinecolor": "white"
           }
          },
          "shapedefaults": {
           "line": {
            "color": "#2a3f5f"
           }
          },
          "ternary": {
           "aaxis": {
            "gridcolor": "white",
            "linecolor": "white",
            "ticks": ""
           },
           "baxis": {
            "gridcolor": "white",
            "linecolor": "white",
            "ticks": ""
           },
           "bgcolor": "#E5ECF6",
           "caxis": {
            "gridcolor": "white",
            "linecolor": "white",
            "ticks": ""
           }
          },
          "title": {
           "x": 0.05
          },
          "xaxis": {
           "automargin": true,
           "gridcolor": "white",
           "linecolor": "white",
           "ticks": "",
           "title": {
            "standoff": 15
           },
           "zerolinecolor": "white",
           "zerolinewidth": 2
          },
          "yaxis": {
           "automargin": true,
           "gridcolor": "white",
           "linecolor": "white",
           "ticks": "",
           "title": {
            "standoff": 15
           },
           "zerolinecolor": "white",
           "zerolinewidth": 2
          }
         }
        },
        "xaxis": {
         "anchor": "y",
         "domain": [
          0,
          1
         ],
         "title": {
          "text": "ticker"
         }
        },
        "yaxis": {
         "anchor": "x",
         "domain": [
          0,
          1
         ],
         "title": {
          "text": "VaR-97.5"
         }
        }
       }
      },
      "text/html": [
       "<div>                            <div id=\"272e9667-afb2-4cf3-a2d1-a3529c37ed0f\" class=\"plotly-graph-div\" style=\"height:400px; width:100%;\"></div>            <script type=\"text/javascript\">                require([\"plotly\"], function(Plotly) {                    window.PLOTLYENV=window.PLOTLYENV || {};                                    if (document.getElementById(\"272e9667-afb2-4cf3-a2d1-a3529c37ed0f\")) {                    Plotly.newPlot(                        \"272e9667-afb2-4cf3-a2d1-a3529c37ed0f\",                        [{\"alignmentgroup\": \"True\", \"hovertemplate\": \"ticker=%{x}<br>VaR-97.5=%{marker.color}<extra></extra>\", \"legendgroup\": \"\", \"marker\": {\"color\": [-0.019968779312168294, -0.020897566871518485, -0.022107975356752057, -0.022779826656890885, -0.022927341468226822, -0.0234237833501649, -0.023729990376696337, -0.024365172941807373, -0.024647478925457305, -0.02511550322521509, -0.025148137309010096, -0.025723678412506713, -0.025901487190583442, -0.026226775460232304, -0.027375238008854885, -0.027470367363188853, -0.027547930297481336, -0.027763844283114986, -0.028106626616577982, -0.0281693679499074, -0.02842018869405706, -0.02870721214513072, -0.028931429740862793, -0.02897049841590968, -0.02925121688907681, -0.029447160024645622, -0.02981223198394835, -0.02983354198963994, -0.030605133310950616, -0.030700823547533684, -0.031159539137340375, -0.031204745592820292, -0.031219099976393966, -0.03152717586691876, -0.03155349480913634, -0.03160971729015644, -0.03188401292848809, -0.03202018021048531, -0.032077985242403746, -0.032282509769929656, -0.03274956690991639, -0.03283536762419853, -0.032922880500788565, -0.03341597594074744, -0.033580052261228295, -0.03360532485434415, -0.03365142604437117, -0.033826957723455384, -0.033945466472423996, -0.034965085379367954, -0.03497264290466555, -0.03509647471748831, -0.03541283820560033, -0.03567421713141983, -0.035899972916543864, -0.03591981983407917, -0.036135400278021514, -0.036199371209921775, -0.03663100381099944, -0.03707963831365393, -0.037423961045711815, -0.03742451755374664, -0.03771899012024331, -0.03772800496141758, -0.0381284861421366, -0.03819675185173704, -0.03828786743111962, -0.03849192708807443, -0.03852065734604886, -0.038533363839012263, -0.03855515851434812, -0.03856580737146509, -0.038664720089874496, -0.03890849725694344, -0.03909170498366732, -0.039163334384090275, -0.03935326219733112, -0.03937833470348682, -0.039386415184296045, -0.039414942708340776, -0.03947846517357848, -0.039487417167314166, -0.0398121593121049, -0.03999537786778455, -0.04021194683638834, -0.04022768633389912, -0.04035220315511772, -0.04050864330218674, -0.040534601710904505, -0.04066711799403073, -0.04077906111766355, -0.04083449896184841, -0.040981620703261466, -0.04148086332801741, -0.04200084824853732, -0.04216249307843991, -0.04222116600953162, -0.04244079498180912, -0.04265837773173484, -0.042900657334197165, -0.043282608037276106, -0.043377754923367706, -0.043390632941780784, -0.04385941537664133, -0.04405962195073979, -0.0441138820783564, -0.04425812365732281, -0.04453179989731932, -0.04460161496517977, -0.04463484783215969, -0.0448151894744724, -0.04504566389757348, -0.045078834632925724, -0.045239550294319794, -0.045249529431990815, -0.04534532172950795, -0.045594640095441646, -0.04569614734464008, -0.045814631617730715, -0.0458390774234488, -0.04613243179798799, -0.04614855056283475, -0.04620358173969384, -0.04643559926875727, -0.04649547088449882, -0.04651181388832831, -0.046635826335137756, -0.04673256895084688, -0.04734517987870045, -0.047979814541860684, -0.04813947969400072, -0.04832323505893838, -0.04850737434254281, -0.048518322135943946, -0.048550796740260575, -0.048856834395267154, -0.048914494845128546, -0.049242659913280015, -0.049521613026188425, -0.04957407593217604, -0.04986859698646152, -0.04996499247080448, -0.04999575014057834, -0.05008213693802147, -0.05098250918619984, -0.05106878834503086, -0.05116104987923886, -0.0511815359492705, -0.051255410786319434, -0.05161507018926352, -0.05168763286867837, -0.052081882483463654, -0.05253487657063828, -0.05259243389381903, -0.052601035213391406, -0.052623492554774595, -0.052830234372727304, -0.05293884370700354, -0.05321538233288195, -0.053585507222420836, -0.0543534030488867, -0.05471819573514097, -0.05473799043385346, -0.054841150197448015, -0.05499990303160279, -0.055043360693150634, -0.05541244103841834, -0.05573885914383889, -0.0558687365277267, -0.05728286694699133, -0.05755739992046511, -0.05834374672268897, -0.05894728821755643, -0.059083366707705594, -0.059183588892486184, -0.05943090953846684, -0.05960969120822802, -0.05968249984399773, -0.05983267380822435, -0.06016337628716143, -0.060320537804729596, -0.06098720779727001, -0.0612536850464098, -0.061504581096923985, -0.061523279707090824, -0.06180356675589136, -0.06208257930433274, -0.06217266890018623, -0.06232838381921273, -0.06253735142109954, -0.06312951077351699, -0.06315500493746998, -0.06317535161094406, -0.06319315099112606, -0.06373625809540481, -0.06408465164058273, -0.06449691423619151, -0.06473037459528438, -0.06482025352890375, -0.06520141442096865, -0.0653748733150703, -0.06665176026677959, -0.06680866967211019, -0.06695791612335603, -0.06706482617106667, -0.06773586528696462, -0.06829178789935132, -0.06859435016957756, -0.06862636627486679, -0.06878711004102006, -0.06904713319005398, -0.06941980655632707, -0.06969646617104315, -0.07045371300629946, -0.07065015357836457, -0.07079261686574741, -0.07116418607205505, -0.07195271501590982, -0.0721898094036829, -0.07362763289912082, -0.07367096916597321, -0.07408983649822966, -0.07767958470459894, -0.0778865039446931, -0.0781309089807881, -0.07844860224708314, -0.07921716937219384, -0.07951386007794736, -0.07973267683692045, -0.08122891552172473, -0.08178729327329026, -0.08338160893905114, -0.08486871265078923, -0.08516507840289159, -0.08651286194800935, -0.10211416861337202], \"coloraxis\": \"coloraxis\"}, \"name\": \"\", \"offsetgroup\": \"\", \"orientation\": \"v\", \"showlegend\": false, \"textposition\": \"auto\", \"type\": \"bar\", \"x\": [\"21STCENMGM\", \"COLPAL\", \"ALKEM\", \"ATUL\", \"ASIANPAINT\", \"APLLTD\", \"COCHINSHIP\", \"AKZOINDIA\", \"BERGEPAINT\", \"BAJAJ-AUTO\", \"ABBOTINDIA\", \"BATAINDIA\", \"COFORGE\", \"ACCELYA\", \"COROMANDEL\", \"ABB\", \"CEATLTD\", \"AARTIDRUGS\", \"CDSL\", \"BAYERCROP\", \"AXISBANK\", \"AMBIKCO\", \"BSE\", \"CESC\", \"CLNINDIA\", \"CHOLAHLDNG\", \"BAJAJHLDNG\", \"BALKRISIND\", \"CIPLA\", \"BRITANNIA\", \"CERA\", \"CHEMFAB\", \"AIAENG\", \"ATFL\", \"AMARAJABAT\", \"CASTROLIND\", \"APLAPOLLO\", \"BBL\", \"CCL\", \"BLUESTARCO\", \"3MINDIA\", \"AUBANK\", \"ALKYLAMINE\", \"CONCOR\", \"APOLLOHOSP\", \"AAVAS\", \"AMBER\", \"ABFRL\", \"ACC\", \"ANDHRSUGAR\", \"CARBORUNIV\", \"BLUEDART\", \"BALMLAWRIE\", \"COSMOFILMS\", \"AJANTPHARM\", \"COALINDIA\", \"BAJAJFINSV\", \"ATULAUTO\", \"BOSCHLTD\", \"CENTENKA\", \"BLISSGVS\", \"ALLCARGO\", \"CHALET\", \"AMBUJACEM\", \"BHARATFORG\", \"ASAHIINDIA\", \"BIRLACORPN\", \"CADILAHC\", \"CANFINHOME\", \"ADANIENT\", \"CENTURYTEX\", \"ADFFOODS\", \"ARVSMART\", \"BRIGADE\", \"ASHIANA\", \"ABCAPITAL\", \"ADORWELD\", \"AHLEAST\", \"BASF\", \"CIGNITITEC\", \"APARINDS\", \"AHLUCONT\", \"ADANITRANS\", \"BDL\", \"BAJFINANCE\", \"BAJAJCON\", \"AMRUTANJAN\", \"BHARTIARTL\", \"ANDHRAPAP\", \"ASTRAL\", \"APOLLOTYRE\", \"CARERATING\", \"CONTROLPR\", \"CHAMBLFERT\", \"ADANIPORTS\", \"ASTERDM\", \"AUTOAXLES\", \"BHAGERIA\", \"ASIANTILES\", \"ARMANFIN\", \"AUROPHARMA\", \"CGCL\", \"CHENNPETRO\", \"ANANTRAJ\", \"BORORENEW\", \"BIOCON\", \"ALICON\", \"AROGRANITE\", \"20MICRONS\", \"AARTIIND\", \"AEGISCHEM\", \"CORDSCABLE\", \"BANCOINDIA\", \"ASTRAMICRO\", \"ASTRAZEN\", \"CENTURYPLY\", \"BANARISUG\", \"BALAJITELE\", \"ALBERTDAVD\", \"BEML\", \"BPCL\", \"BHARATWIRE\", \"ASHOKA\", \"CAPACITE\", \"BEL\", \"BAJAJELEC\", \"CLEDUCATE\", \"BHARATRAS\", \"BANDHANBNK\", \"CENTRUM\", \"ADVENZYMES\", \"BHEL\", \"CANBK\", \"AVTNPL\", \"CAPLIPOINT\", \"BHAGYANGR\", \"CEREBRAINT\", \"CAREERP\", \"CANTABIL\", \"ACE\", \"ASHOKLEY\", \"APTECHT\", \"ADVANIHOTR\", \"CINELINE\", \"ARSSINFRA\", \"BODALCHEM\", \"CAMLINFINE\", \"63MOONS\", \"5PAISA\", \"ALEMBICLTD\", \"CENTRALBK\", \"BANKBARODA\", \"APEX\", \"ARCHIDPLY\", \"AVANTIFEED\", \"CENTUM\", \"APCL\", \"ASIANHOTNR\", \"ASPINWALL\", \"AMJLAND\", \"ADANIGREEN\", \"BFUTILITIE\", \"ALKALI\", \"AURIONPRO\", \"AJMERA\", \"BFINVEST\", \"ARIES\", \"AYMSYNTEX\", \"BAJAJHIND\", \"BEPL\", \"BANKINDIA\", \"BUTTERFLY\", \"BALPHARMA\", \"BALRAMCHIN\", \"COMPINFO\", \"ARVIND\", \"AHLWEST\", \"BGRENERGY\", \"AUSOMENT\", \"ASAL\", \"ADANIPOWER\", \"BROOKS\", \"CORALFINAC\", \"AVADHSUGAR\", \"AGRITECH\", \"APOLLO\", \"AUTOIND\", \"ASAHISONG\", \"AARVEEDEN\", \"AKSHARCHEM\", \"AMDIND\", \"ALPHAGEO\", \"BINDALAGRO\", \"BIGBLOC\", \"BLS\", \"ASTEC\", \"BHARATGEAR\", \"BPL\", \"COMPUSOFT\", \"BRNL\", \"CONSOFINVT\", \"ALMONDZ\", \"BANARBEADS\", \"BALAMINES\", \"BSL\", \"BASML\", \"A2ZINFRA\", \"ANIKINDS\", \"AXISCADES\", \"3IINFOTECH\", \"BANSWRAS\", \"BSOFT\", \"BANG\", \"ADSL\", \"BYKE\", \"BOMDYEING\", \"ANSALAPI\", \"ASTRON\", \"BAGFILMS\", \"CMICABLES\", \"AGARIND\", \"BHAGYAPROP\", \"AKSHOPTFBR\", \"BLKASHYAP\", \"BEARDSELL\", \"CENTEXT\", \"ALANKIT\", \"BEDMUTHA\", \"ALPA\", \"CALSOFT\", \"CELEBRITY\", \"BHANDARI\", \"BIRLACABLE\", \"ARIHANT\", \"ARSHIYA\", \"CGPOWER\"], \"xaxis\": \"x\", \"y\": [-0.019968779312168294, -0.020897566871518485, -0.022107975356752057, -0.022779826656890885, -0.022927341468226822, -0.0234237833501649, -0.023729990376696337, -0.024365172941807373, -0.024647478925457305, -0.02511550322521509, -0.025148137309010096, -0.025723678412506713, -0.025901487190583442, -0.026226775460232304, -0.027375238008854885, -0.027470367363188853, -0.027547930297481336, -0.027763844283114986, -0.028106626616577982, -0.0281693679499074, -0.02842018869405706, -0.02870721214513072, -0.028931429740862793, -0.02897049841590968, -0.02925121688907681, -0.029447160024645622, -0.02981223198394835, -0.02983354198963994, -0.030605133310950616, -0.030700823547533684, -0.031159539137340375, -0.031204745592820292, -0.031219099976393966, -0.03152717586691876, -0.03155349480913634, -0.03160971729015644, -0.03188401292848809, -0.03202018021048531, -0.032077985242403746, -0.032282509769929656, -0.03274956690991639, -0.03283536762419853, -0.032922880500788565, -0.03341597594074744, -0.033580052261228295, -0.03360532485434415, -0.03365142604437117, -0.033826957723455384, -0.033945466472423996, -0.034965085379367954, -0.03497264290466555, -0.03509647471748831, -0.03541283820560033, -0.03567421713141983, -0.035899972916543864, -0.03591981983407917, -0.036135400278021514, -0.036199371209921775, -0.03663100381099944, -0.03707963831365393, -0.037423961045711815, -0.03742451755374664, -0.03771899012024331, -0.03772800496141758, -0.0381284861421366, -0.03819675185173704, -0.03828786743111962, -0.03849192708807443, -0.03852065734604886, -0.038533363839012263, -0.03855515851434812, -0.03856580737146509, -0.038664720089874496, -0.03890849725694344, -0.03909170498366732, -0.039163334384090275, -0.03935326219733112, -0.03937833470348682, -0.039386415184296045, -0.039414942708340776, -0.03947846517357848, -0.039487417167314166, -0.0398121593121049, -0.03999537786778455, -0.04021194683638834, -0.04022768633389912, -0.04035220315511772, -0.04050864330218674, -0.040534601710904505, -0.04066711799403073, -0.04077906111766355, -0.04083449896184841, -0.040981620703261466, -0.04148086332801741, -0.04200084824853732, -0.04216249307843991, -0.04222116600953162, -0.04244079498180912, -0.04265837773173484, -0.042900657334197165, -0.043282608037276106, -0.043377754923367706, -0.043390632941780784, -0.04385941537664133, -0.04405962195073979, -0.0441138820783564, -0.04425812365732281, -0.04453179989731932, -0.04460161496517977, -0.04463484783215969, -0.0448151894744724, -0.04504566389757348, -0.045078834632925724, -0.045239550294319794, -0.045249529431990815, -0.04534532172950795, -0.045594640095441646, -0.04569614734464008, -0.045814631617730715, -0.0458390774234488, -0.04613243179798799, -0.04614855056283475, -0.04620358173969384, -0.04643559926875727, -0.04649547088449882, -0.04651181388832831, -0.046635826335137756, -0.04673256895084688, -0.04734517987870045, -0.047979814541860684, -0.04813947969400072, -0.04832323505893838, -0.04850737434254281, -0.048518322135943946, -0.048550796740260575, -0.048856834395267154, -0.048914494845128546, -0.049242659913280015, -0.049521613026188425, -0.04957407593217604, -0.04986859698646152, -0.04996499247080448, -0.04999575014057834, -0.05008213693802147, -0.05098250918619984, -0.05106878834503086, -0.05116104987923886, -0.0511815359492705, -0.051255410786319434, -0.05161507018926352, -0.05168763286867837, -0.052081882483463654, -0.05253487657063828, -0.05259243389381903, -0.052601035213391406, -0.052623492554774595, -0.052830234372727304, -0.05293884370700354, -0.05321538233288195, -0.053585507222420836, -0.0543534030488867, -0.05471819573514097, -0.05473799043385346, -0.054841150197448015, -0.05499990303160279, -0.055043360693150634, -0.05541244103841834, -0.05573885914383889, -0.0558687365277267, -0.05728286694699133, -0.05755739992046511, -0.05834374672268897, -0.05894728821755643, -0.059083366707705594, -0.059183588892486184, -0.05943090953846684, -0.05960969120822802, -0.05968249984399773, -0.05983267380822435, -0.06016337628716143, -0.060320537804729596, -0.06098720779727001, -0.0612536850464098, -0.061504581096923985, -0.061523279707090824, -0.06180356675589136, -0.06208257930433274, -0.06217266890018623, -0.06232838381921273, -0.06253735142109954, -0.06312951077351699, -0.06315500493746998, -0.06317535161094406, -0.06319315099112606, -0.06373625809540481, -0.06408465164058273, -0.06449691423619151, -0.06473037459528438, -0.06482025352890375, -0.06520141442096865, -0.0653748733150703, -0.06665176026677959, -0.06680866967211019, -0.06695791612335603, -0.06706482617106667, -0.06773586528696462, -0.06829178789935132, -0.06859435016957756, -0.06862636627486679, -0.06878711004102006, -0.06904713319005398, -0.06941980655632707, -0.06969646617104315, -0.07045371300629946, -0.07065015357836457, -0.07079261686574741, -0.07116418607205505, -0.07195271501590982, -0.0721898094036829, -0.07362763289912082, -0.07367096916597321, -0.07408983649822966, -0.07767958470459894, -0.0778865039446931, -0.0781309089807881, -0.07844860224708314, -0.07921716937219384, -0.07951386007794736, -0.07973267683692045, -0.08122891552172473, -0.08178729327329026, -0.08338160893905114, -0.08486871265078923, -0.08516507840289159, -0.08651286194800935, -0.10211416861337202], \"yaxis\": \"y\"}],                        {\"barmode\": \"relative\", \"coloraxis\": {\"colorbar\": {\"title\": {\"text\": \"VaR-97.5\"}}, \"colorscale\": [[0.0, \"rgb(165,0,38)\"], [0.1, \"rgb(215,48,39)\"], [0.2, \"rgb(244,109,67)\"], [0.3, \"rgb(253,174,97)\"], [0.4, \"rgb(254,224,139)\"], [0.5, \"rgb(255,255,191)\"], [0.6, \"rgb(217,239,139)\"], [0.7, \"rgb(166,217,106)\"], [0.8, \"rgb(102,189,99)\"], [0.9, \"rgb(26,152,80)\"], [1.0, \"rgb(0,104,55)\"]]}, \"height\": 400, \"legend\": {\"tracegroupgap\": 0}, \"margin\": {\"t\": 60}, \"template\": {\"data\": {\"bar\": [{\"error_x\": {\"color\": \"#2a3f5f\"}, \"error_y\": {\"color\": \"#2a3f5f\"}, \"marker\": {\"line\": {\"color\": \"#E5ECF6\", \"width\": 0.5}}, \"type\": \"bar\"}], \"barpolar\": [{\"marker\": {\"line\": {\"color\": \"#E5ECF6\", \"width\": 0.5}}, \"type\": \"barpolar\"}], \"carpet\": [{\"aaxis\": {\"endlinecolor\": \"#2a3f5f\", \"gridcolor\": \"white\", \"linecolor\": \"white\", \"minorgridcolor\": \"white\", \"startlinecolor\": \"#2a3f5f\"}, \"baxis\": {\"endlinecolor\": \"#2a3f5f\", \"gridcolor\": \"white\", \"linecolor\": \"white\", \"minorgridcolor\": \"white\", \"startlinecolor\": \"#2a3f5f\"}, \"type\": \"carpet\"}], \"choropleth\": [{\"colorbar\": {\"outlinewidth\": 0, \"ticks\": \"\"}, \"type\": \"choropleth\"}], \"contour\": [{\"colorbar\": {\"outlinewidth\": 0, \"ticks\": \"\"}, \"colorscale\": [[0.0, \"#0d0887\"], [0.1111111111111111, \"#46039f\"], [0.2222222222222222, \"#7201a8\"], [0.3333333333333333, \"#9c179e\"], [0.4444444444444444, \"#bd3786\"], [0.5555555555555556, \"#d8576b\"], [0.6666666666666666, \"#ed7953\"], [0.7777777777777778, \"#fb9f3a\"], [0.8888888888888888, \"#fdca26\"], [1.0, \"#f0f921\"]], \"type\": \"contour\"}], \"contourcarpet\": [{\"colorbar\": {\"outlinewidth\": 0, \"ticks\": \"\"}, \"type\": \"contourcarpet\"}], \"heatmap\": [{\"colorbar\": {\"outlinewidth\": 0, \"ticks\": \"\"}, \"colorscale\": [[0.0, \"#0d0887\"], [0.1111111111111111, \"#46039f\"], [0.2222222222222222, \"#7201a8\"], [0.3333333333333333, \"#9c179e\"], [0.4444444444444444, \"#bd3786\"], [0.5555555555555556, \"#d8576b\"], [0.6666666666666666, \"#ed7953\"], [0.7777777777777778, \"#fb9f3a\"], [0.8888888888888888, \"#fdca26\"], [1.0, \"#f0f921\"]], \"type\": \"heatmap\"}], \"heatmapgl\": [{\"colorbar\": {\"outlinewidth\": 0, \"ticks\": \"\"}, \"colorscale\": [[0.0, \"#0d0887\"], [0.1111111111111111, \"#46039f\"], [0.2222222222222222, \"#7201a8\"], [0.3333333333333333, \"#9c179e\"], [0.4444444444444444, \"#bd3786\"], [0.5555555555555556, \"#d8576b\"], [0.6666666666666666, \"#ed7953\"], [0.7777777777777778, \"#fb9f3a\"], [0.8888888888888888, \"#fdca26\"], [1.0, \"#f0f921\"]], \"type\": \"heatmapgl\"}], \"histogram\": [{\"marker\": {\"colorbar\": {\"outlinewidth\": 0, \"ticks\": \"\"}}, \"type\": \"histogram\"}], \"histogram2d\": [{\"colorbar\": {\"outlinewidth\": 0, \"ticks\": \"\"}, \"colorscale\": [[0.0, \"#0d0887\"], [0.1111111111111111, \"#46039f\"], [0.2222222222222222, \"#7201a8\"], [0.3333333333333333, \"#9c179e\"], [0.4444444444444444, \"#bd3786\"], [0.5555555555555556, \"#d8576b\"], [0.6666666666666666, \"#ed7953\"], [0.7777777777777778, \"#fb9f3a\"], [0.8888888888888888, \"#fdca26\"], [1.0, \"#f0f921\"]], \"type\": \"histogram2d\"}], \"histogram2dcontour\": [{\"colorbar\": {\"outlinewidth\": 0, \"ticks\": \"\"}, \"colorscale\": [[0.0, \"#0d0887\"], [0.1111111111111111, \"#46039f\"], [0.2222222222222222, \"#7201a8\"], [0.3333333333333333, \"#9c179e\"], [0.4444444444444444, \"#bd3786\"], [0.5555555555555556, \"#d8576b\"], [0.6666666666666666, \"#ed7953\"], [0.7777777777777778, \"#fb9f3a\"], [0.8888888888888888, \"#fdca26\"], [1.0, \"#f0f921\"]], \"type\": \"histogram2dcontour\"}], \"mesh3d\": [{\"colorbar\": {\"outlinewidth\": 0, \"ticks\": \"\"}, \"type\": \"mesh3d\"}], \"parcoords\": [{\"line\": {\"colorbar\": {\"outlinewidth\": 0, \"ticks\": \"\"}}, \"type\": \"parcoords\"}], \"pie\": [{\"automargin\": true, \"type\": \"pie\"}], \"scatter\": [{\"marker\": {\"colorbar\": {\"outlinewidth\": 0, \"ticks\": \"\"}}, \"type\": \"scatter\"}], \"scatter3d\": [{\"line\": {\"colorbar\": {\"outlinewidth\": 0, \"ticks\": \"\"}}, \"marker\": {\"colorbar\": {\"outlinewidth\": 0, \"ticks\": \"\"}}, \"type\": \"scatter3d\"}], \"scattercarpet\": [{\"marker\": {\"colorbar\": {\"outlinewidth\": 0, \"ticks\": \"\"}}, \"type\": \"scattercarpet\"}], \"scattergeo\": [{\"marker\": {\"colorbar\": {\"outlinewidth\": 0, \"ticks\": \"\"}}, \"type\": \"scattergeo\"}], \"scattergl\": [{\"marker\": {\"colorbar\": {\"outlinewidth\": 0, \"ticks\": \"\"}}, \"type\": \"scattergl\"}], \"scattermapbox\": [{\"marker\": {\"colorbar\": {\"outlinewidth\": 0, \"ticks\": \"\"}}, \"type\": \"scattermapbox\"}], \"scatterpolar\": [{\"marker\": {\"colorbar\": {\"outlinewidth\": 0, \"ticks\": \"\"}}, \"type\": \"scatterpolar\"}], \"scatterpolargl\": [{\"marker\": {\"colorbar\": {\"outlinewidth\": 0, \"ticks\": \"\"}}, \"type\": \"scatterpolargl\"}], \"scatterternary\": [{\"marker\": {\"colorbar\": {\"outlinewidth\": 0, \"ticks\": \"\"}}, \"type\": \"scatterternary\"}], \"surface\": [{\"colorbar\": {\"outlinewidth\": 0, \"ticks\": \"\"}, \"colorscale\": [[0.0, \"#0d0887\"], [0.1111111111111111, \"#46039f\"], [0.2222222222222222, \"#7201a8\"], [0.3333333333333333, \"#9c179e\"], [0.4444444444444444, \"#bd3786\"], [0.5555555555555556, \"#d8576b\"], [0.6666666666666666, \"#ed7953\"], [0.7777777777777778, \"#fb9f3a\"], [0.8888888888888888, \"#fdca26\"], [1.0, \"#f0f921\"]], \"type\": \"surface\"}], \"table\": [{\"cells\": {\"fill\": {\"color\": \"#EBF0F8\"}, \"line\": {\"color\": \"white\"}}, \"header\": {\"fill\": {\"color\": \"#C8D4E3\"}, \"line\": {\"color\": \"white\"}}, \"type\": \"table\"}]}, \"layout\": {\"annotationdefaults\": {\"arrowcolor\": \"#2a3f5f\", \"arrowhead\": 0, \"arrowwidth\": 1}, \"autotypenumbers\": \"strict\", \"coloraxis\": {\"colorbar\": {\"outlinewidth\": 0, \"ticks\": \"\"}}, \"colorscale\": {\"diverging\": [[0, \"#8e0152\"], [0.1, \"#c51b7d\"], [0.2, \"#de77ae\"], [0.3, \"#f1b6da\"], [0.4, \"#fde0ef\"], [0.5, \"#f7f7f7\"], [0.6, \"#e6f5d0\"], [0.7, \"#b8e186\"], [0.8, \"#7fbc41\"], [0.9, \"#4d9221\"], [1, \"#276419\"]], \"sequential\": [[0.0, \"#0d0887\"], [0.1111111111111111, \"#46039f\"], [0.2222222222222222, \"#7201a8\"], [0.3333333333333333, \"#9c179e\"], [0.4444444444444444, \"#bd3786\"], [0.5555555555555556, \"#d8576b\"], [0.6666666666666666, \"#ed7953\"], [0.7777777777777778, \"#fb9f3a\"], [0.8888888888888888, \"#fdca26\"], [1.0, \"#f0f921\"]], \"sequentialminus\": [[0.0, \"#0d0887\"], [0.1111111111111111, \"#46039f\"], [0.2222222222222222, \"#7201a8\"], [0.3333333333333333, \"#9c179e\"], [0.4444444444444444, \"#bd3786\"], [0.5555555555555556, \"#d8576b\"], [0.6666666666666666, \"#ed7953\"], [0.7777777777777778, \"#fb9f3a\"], [0.8888888888888888, \"#fdca26\"], [1.0, \"#f0f921\"]]}, \"colorway\": [\"#636efa\", \"#EF553B\", \"#00cc96\", \"#ab63fa\", \"#FFA15A\", \"#19d3f3\", \"#FF6692\", \"#B6E880\", \"#FF97FF\", \"#FECB52\"], \"font\": {\"color\": \"#2a3f5f\"}, \"geo\": {\"bgcolor\": \"white\", \"lakecolor\": \"white\", \"landcolor\": \"#E5ECF6\", \"showlakes\": true, \"showland\": true, \"subunitcolor\": \"white\"}, \"hoverlabel\": {\"align\": \"left\"}, \"hovermode\": \"closest\", \"mapbox\": {\"style\": \"light\"}, \"paper_bgcolor\": \"white\", \"plot_bgcolor\": \"#E5ECF6\", \"polar\": {\"angularaxis\": {\"gridcolor\": \"white\", \"linecolor\": \"white\", \"ticks\": \"\"}, \"bgcolor\": \"#E5ECF6\", \"radialaxis\": {\"gridcolor\": \"white\", \"linecolor\": \"white\", \"ticks\": \"\"}}, \"scene\": {\"xaxis\": {\"backgroundcolor\": \"#E5ECF6\", \"gridcolor\": \"white\", \"gridwidth\": 2, \"linecolor\": \"white\", \"showbackground\": true, \"ticks\": \"\", \"zerolinecolor\": \"white\"}, \"yaxis\": {\"backgroundcolor\": \"#E5ECF6\", \"gridcolor\": \"white\", \"gridwidth\": 2, \"linecolor\": \"white\", \"showbackground\": true, \"ticks\": \"\", \"zerolinecolor\": \"white\"}, \"zaxis\": {\"backgroundcolor\": \"#E5ECF6\", \"gridcolor\": \"white\", \"gridwidth\": 2, \"linecolor\": \"white\", \"showbackground\": true, \"ticks\": \"\", \"zerolinecolor\": \"white\"}}, \"shapedefaults\": {\"line\": {\"color\": \"#2a3f5f\"}}, \"ternary\": {\"aaxis\": {\"gridcolor\": \"white\", \"linecolor\": \"white\", \"ticks\": \"\"}, \"baxis\": {\"gridcolor\": \"white\", \"linecolor\": \"white\", \"ticks\": \"\"}, \"bgcolor\": \"#E5ECF6\", \"caxis\": {\"gridcolor\": \"white\", \"linecolor\": \"white\", \"ticks\": \"\"}}, \"title\": {\"x\": 0.05}, \"xaxis\": {\"automargin\": true, \"gridcolor\": \"white\", \"linecolor\": \"white\", \"ticks\": \"\", \"title\": {\"standoff\": 15}, \"zerolinecolor\": \"white\", \"zerolinewidth\": 2}, \"yaxis\": {\"automargin\": true, \"gridcolor\": \"white\", \"linecolor\": \"white\", \"ticks\": \"\", \"title\": {\"standoff\": 15}, \"zerolinecolor\": \"white\", \"zerolinewidth\": 2}}}, \"xaxis\": {\"anchor\": \"y\", \"domain\": [0.0, 1.0], \"title\": {\"text\": \"ticker\"}}, \"yaxis\": {\"anchor\": \"x\", \"domain\": [0.0, 1.0], \"title\": {\"text\": \"VaR-97.5\"}}},                        {\"responsive\": true}                    ).then(function(){\n",
       "                            \n",
       "var gd = document.getElementById('272e9667-afb2-4cf3-a2d1-a3529c37ed0f');\n",
       "var x = new MutationObserver(function (mutations, observer) {{\n",
       "        var display = window.getComputedStyle(gd).display;\n",
       "        if (!display || display === 'none') {{\n",
       "            console.log([gd, 'removed!']);\n",
       "            Plotly.purge(gd);\n",
       "            observer.disconnect();\n",
       "        }}\n",
       "}});\n",
       "\n",
       "// Listen for the removal of the full notebook cells\n",
       "var notebookContainer = gd.closest('#notebook-container');\n",
       "if (notebookContainer) {{\n",
       "    x.observe(notebookContainer, {childList: true});\n",
       "}}\n",
       "\n",
       "// Listen for the clearing of the current output cell\n",
       "var outputEl = gd.closest('.output');\n",
       "if (outputEl) {{\n",
       "    x.observe(outputEl, {childList: true});\n",
       "}}\n",
       "\n",
       "                        })                };                });            </script>        </div>"
      ]
     },
     "metadata": {},
     "output_type": "display_data"
    }
   ],
   "source": [
    "import plotly.express as px\n",
    "\n",
    "for tLVL in TRUST_LEVELS:\n",
    "    VaR_column = f'VaR-{tLVL}'\n",
    "    tickersVaRs = tickersVaRs.sort_values(by=VaR_column, ascending=False)\n",
    "    \n",
    "    tLVL_fig = px.bar(tickersVaRs, x='ticker', y=VaR_column,\n",
    "                 color=f'{VaR_column}', color_continuous_scale=px.colors.diverging.RdYlGn,\n",
    "                 height=400)\n",
    "    tLVL_fig.show()"
   ]
  },
  {
   "cell_type": "code",
   "execution_count": 603,
   "metadata": {},
   "outputs": [
    {
     "name": "stdout",
     "output_type": "stream",
     "text": [
      "std:0.013580270021270454, mean:0.0006660373808636003\n"
     ]
    },
    {
     "data": {
      "application/vnd.plotly.v1+json": {
       "config": {
        "plotlyServerURL": "https://plot.ly"
       },
       "data": [
        {
         "hovertemplate": "<b>%{hovertext}</b><br><br>logret_std=%{x}<br>logret_mean=%{y}<br>size=%{marker.size}<br>color=%{marker.color}<extra></extra>",
         "hovertext": [
          "20MICRONS",
          "21STCENMGM",
          "3IINFOTECH",
          "3MINDIA",
          "5PAISA",
          "63MOONS",
          "A2ZINFRA",
          "AARTIDRUGS",
          "AARTIIND",
          "AARVEEDEN",
          "AAVAS",
          "ABB",
          "ABBOTINDIA",
          "ABCAPITAL",
          "ABFRL",
          "ACC",
          "ACCELYA",
          "ACE",
          "ADANIENT",
          "ADANIGREEN",
          "ADANIPORTS",
          "ADANIPOWER",
          "ADANITRANS",
          "ADFFOODS",
          "ADORWELD",
          "ADSL",
          "ADVANIHOTR",
          "ADVENZYMES",
          "AEGISCHEM",
          "AGARIND",
          "AGRITECH",
          "AHLEAST",
          "AHLUCONT",
          "AHLWEST",
          "AIAENG",
          "AJANTPHARM",
          "AJMERA",
          "AKSHARCHEM",
          "AKSHOPTFBR",
          "AKZOINDIA",
          "ALANKIT",
          "ALBERTDAVD",
          "ALEMBICLTD",
          "ALICON",
          "ALKALI",
          "ALKEM",
          "ALKYLAMINE",
          "ALLCARGO",
          "ALMONDZ",
          "ALPA",
          "ALPHAGEO",
          "AMARAJABAT",
          "AMBER",
          "AMBIKCO",
          "AMBUJACEM",
          "AMDIND",
          "AMJLAND",
          "AMRUTANJAN",
          "ANANTRAJ",
          "ANDHRAPAP",
          "ANDHRSUGAR",
          "ANIKINDS",
          "ANSALAPI",
          "APARINDS",
          "APCL",
          "APEX",
          "APLAPOLLO",
          "APLLTD",
          "APOLLO",
          "APOLLOHOSP",
          "APOLLOTYRE",
          "APTECHT",
          "ARCHIDPLY",
          "ARIES",
          "ARIHANT",
          "ARMANFIN",
          "AROGRANITE",
          "ARSHIYA",
          "ARSSINFRA",
          "ARVIND",
          "ARVSMART",
          "ASAHIINDIA",
          "ASAHISONG",
          "ASAL",
          "ASHIANA",
          "ASHOKA",
          "ASHOKLEY",
          "ASIANHOTNR",
          "ASIANPAINT",
          "ASIANTILES",
          "ASPINWALL",
          "ASTEC",
          "ASTERDM",
          "ASTRAL",
          "ASTRAMICRO",
          "ASTRAZEN",
          "ASTRON",
          "ATFL",
          "ATUL",
          "ATULAUTO",
          "AUBANK",
          "AURIONPRO",
          "AUROPHARMA",
          "AUSOMENT",
          "AUTOAXLES",
          "AUTOIND",
          "AVADHSUGAR",
          "AVANTIFEED",
          "AVTNPL",
          "AXISBANK",
          "AXISCADES",
          "AYMSYNTEX",
          "BAGFILMS",
          "BAJAJ-AUTO",
          "BAJAJCON",
          "BAJAJELEC",
          "BAJAJFINSV",
          "BAJAJHIND",
          "BAJAJHLDNG",
          "BAJFINANCE",
          "BALAJITELE",
          "BALAMINES",
          "BALKRISIND",
          "BALMLAWRIE",
          "BALPHARMA",
          "BALRAMCHIN",
          "BANARBEADS",
          "BANARISUG",
          "BANCOINDIA",
          "BANDHANBNK",
          "BANG",
          "BANKBARODA",
          "BANKINDIA",
          "BANSWRAS",
          "BASF",
          "BASML",
          "BATAINDIA",
          "BAYERCROP",
          "BBL",
          "BDL",
          "BEARDSELL",
          "BEDMUTHA",
          "BEL",
          "BEML",
          "BEPL",
          "BERGEPAINT",
          "BFINVEST",
          "BFUTILITIE",
          "BGRENERGY",
          "BHAGERIA",
          "BHAGYANGR",
          "BHAGYAPROP",
          "BHANDARI",
          "BHARATFORG",
          "BHARATGEAR",
          "BHARATRAS",
          "BHARATWIRE",
          "BHARTIARTL",
          "BHEL",
          "BIGBLOC",
          "BINDALAGRO",
          "BIOCON",
          "BIRLACABLE",
          "BIRLACORPN",
          "BLISSGVS",
          "BLKASHYAP",
          "BLS",
          "BLUEDART",
          "BLUESTARCO",
          "BODALCHEM",
          "BOMDYEING",
          "BORORENEW",
          "BOSCHLTD",
          "BPCL",
          "BPL",
          "BRIGADE",
          "BRITANNIA",
          "BRNL",
          "BROOKS",
          "BSE",
          "BSL",
          "BSOFT",
          "BUTTERFLY",
          "BYKE",
          "CADILAHC",
          "CALSOFT",
          "CAMLINFINE",
          "CANBK",
          "CANFINHOME",
          "CANTABIL",
          "CAPACITE",
          "CAPLIPOINT",
          "CARBORUNIV",
          "CAREERP",
          "CARERATING",
          "CASTROLIND",
          "CCL",
          "CDSL",
          "CEATLTD",
          "CELEBRITY",
          "CENTENKA",
          "CENTEXT",
          "CENTRALBK",
          "CENTRUM",
          "CENTUM",
          "CENTURYPLY",
          "CENTURYTEX",
          "CERA",
          "CEREBRAINT",
          "CESC",
          "CGCL",
          "CGPOWER",
          "CHALET",
          "CHAMBLFERT",
          "CHEMFAB",
          "CHENNPETRO",
          "CHOLAHLDNG",
          "CIGNITITEC",
          "CINELINE",
          "CIPLA",
          "CLEDUCATE",
          "CLNINDIA",
          "CMICABLES",
          "COALINDIA",
          "COCHINSHIP",
          "COFORGE",
          "COLPAL",
          "COMPINFO",
          "COMPUSOFT",
          "CONCOR",
          "CONSOFINVT",
          "CONTROLPR",
          "CORALFINAC",
          "CORDSCABLE",
          "COROMANDEL",
          "COSMOFILMS"
         ],
         "legendgroup": "",
         "marker": {
          "color": [
           -0.03938435912843298,
           -0.1271609953174884,
           -0.06490168589844397,
           0.006572759270715581,
           -0.027715533375169653,
           0.002324630833619448,
           -0.06805878003683491,
           0.0014527608980379214,
           -0.04850448089570391,
           -0.06784088879447138,
           0.16846970014311852,
           0.026557575350622746,
           0.14490383088434092,
           0.0045586439998078635,
           0.03044225014452549,
           -0.006965616351205776,
           0.022396441817612026,
           -0.034090682725271486,
           0.03875137499380318,
           0.1600883586424559,
           -0.011880058701667936,
           0.023256904784348796,
           0.08341768739138795,
           0.02368953807190866,
           -0.048721984027430894,
           0.03968887258747493,
           -0.029856109047189792,
           -0.009771957988652486,
           -0.00925185356148443,
           -0.10997180634697766,
           -0.039787183458724305,
           -0.06222269458663886,
           -0.01650227769149663,
           0.021662214990188007,
           -0.0035864876734728857,
           -0.043556970692389625,
           -0.054389188774724824,
           -0.07334232316915607,
           -0.13409311006832988,
           0.027702354653625114,
           -0.07375891896385421,
           -0.00253258576551526,
           0.03823096413872631,
           -0.07847827836775992,
           -0.033053407104661696,
           0.011802044493485268,
           0.06356093392427763,
           -0.01990411814705727,
           -0.0760516831972584,
           -0.0432087604440267,
           -0.11375462592723848,
           -0.004704566549032976,
           0.041443529089666586,
           -0.10624093860780306,
           -0.02773833272474815,
           -0.03143713878937782,
           -0.0071763633379877305,
           0.06822164494694397,
           -0.013145126613205415,
           -0.08757979933255552,
           -0.029008708006541005,
           -0.15763648047137413,
           -0.08479399024207977,
           -0.10614333769502063,
           0.012869290257880762,
           -0.0072381833897779465,
           0.0895434752172462,
           -0.006699373073627527,
           -0.056334624110425384,
           0.02632912811659436,
           -0.07232916918867853,
           -0.023792457451037006,
           -0.05714025680610719,
           -0.054303514685002094,
           -0.04533621009637024,
           0.0730998637247797,
           -0.04944957435460706,
           -0.07018269803062333,
           -0.05459966718482048,
           -0.11918021573911518,
           -0.0785057955674046,
           -0.05909423176043971,
           -0.04277925444205699,
           -0.09636465307259146,
           -0.0291946340538701,
           -0.029627063147079965,
           -0.03495997205009412,
           -0.06271803039618158,
           0.07791260296740393,
           0.03625542511065172,
           -0.031003447402667743,
           -0.023861976036250836,
           -0.0008693926252848967,
           0.0073572548167066916,
           0.008868793047130953,
           0.09427576020944817,
           -0.11785230680918926,
           0.008193739086146045,
           0.0490444873202375,
           -0.06462462293967819,
           0.0550386794751228,
           -0.11178456873761493,
           -0.08000275907335253,
           -0.01656049412291443,
           -0.08143789128719865,
           -0.12235790935532695,
           -0.022951091052404143,
           0.05687617548369675,
           0.021247334054540077,
           0.04547336753276384,
           -0.05229790849240526,
           -0.047932061500660574,
           -0.11325885964204353,
           0.04581557511321593,
           -0.08290020575093406,
           -0.0668851398263811,
           0.08070363838358621,
           -0.03970469109549441,
           0.03374548648399199,
           0.09484274562892403,
           -0.07846024192829397,
           -0.01712919328390287,
           0.014917330979147745,
           -0.06384960635256494,
           -0.08956507927331887,
           0.08233819045229562,
           -0.05322973770539186,
           -0.04961614667135184,
           -0.09467261614746048,
           -0.013631245174993013,
           -0.14718809623657783,
           -0.03145592909891795,
           -0.0624646392993089,
           0.005151027097267514,
           -0.0950983388244744,
           -0.08099408939979177,
           0.11928054075673447,
           -0.04639935254117102,
           -0.07971249432074418,
           0.010024186139321448,
           -0.1258235282470308,
           -0.037951917613282066,
           0.02337782821975384,
           0.01294180404104881,
           -0.058405387409582205,
           0.10549674035532058,
           0.025590682697253713,
           0.03772579142983695,
           -0.06436180212591099,
           -0.07270224572141519,
           -0.07869533416227065,
           -0.019981500563819216,
           -0.06422682175970881,
           -0.011103207021388325,
           -0.08606694614416051,
           0.02380397172061599,
           -0.15040502704057787,
           0.06332998945894644,
           -0.07577581619295927,
           0.0018870415687166668,
           -0.07709644922415411,
           -0.0612433032775215,
           -0.10366661733978044,
           0.0044898412667173345,
           -0.010107029970496442,
           -0.09009198837408439,
           -0.07083993675961513,
           -0.09996963195332875,
           0.06777821124830394,
           -0.06664456563483162,
           -0.04370056504120568,
           -0.0658337286755678,
           -0.056497991568806534,
           0.049870737733212184,
           -0.08189337540479656,
           -0.001606076203250414,
           -0.006426429280889416,
           -0.0903257416797968,
           -0.08561916728174994,
           -0.052583873656306325,
           -0.0487652094173078,
           -0.10524512832862405,
           -0.05624087273644173,
           -0.1417439643594739,
           -0.0725505436689719,
           -0.0649250151240748,
           0.05255248776868211,
           -0.038554059275872216,
           0.053418465161931765,
           0.10122999139645865,
           -0.046889070896883614,
           -0.03488361020525166,
           -0.025171824020971574,
           0.03926680773664218,
           -0.06159149474016443,
           -0.03339678644198098,
           -0.0763714635365513,
           -0.005038370331714584,
           -0.06815722250666571,
           -0.030624068954796187,
           -0.0810916295587862,
           -0.1285265419282248,
           -0.10744176677395235,
           -0.10416803086868986,
           0.007271395339168122,
           -0.01614323830533418,
           -0.048141058006152496,
           0.02683925579332019,
           -0.03249879929132602,
           0.022100304604627984,
           0.07214537658968309,
           -0.12144639096861161,
           0.03786108849882814,
           0.005630697088538249,
           0.01772168890630935,
           -0.16405416301736694,
           -0.007854498962897933,
           -0.04629513656959007,
           -0.05845240841681908,
           -0.02571484304640794,
           -0.07927482784225343,
           -0.015619904581294598,
           -0.14945890514975685,
           -0.030703892587336124,
           0.02285555488718368,
           0.0855729960638878,
           0.029860965722990632,
           -0.03806956914803348,
           -0.049261362596626196,
           -0.03187029286941424,
           -0.030182002235300088,
           -0.04065352937944622,
           -0.038726552376552155,
           -0.0745026128228784,
           0.04349186026597999,
           0.012583440542067352
          ],
          "coloraxis": "coloraxis",
          "size": [
           0.7400132117705699,
           0.21898992915958795,
           0.5885478340300415,
           1.0128048078861147,
           0.809276858250325,
           0.9875888287902462,
           0.5698080004830659,
           0.9824135958858079,
           0.6858781254047533,
           0.5711013561557977,
           1.9737903188407144,
           1.1314303890020643,
           1.8339083742610192,
           1.0008494517051716,
           1.15448898523986,
           0.9324439144410608,
           1.106730792994736,
           0.7714353393024904,
           1.2038101678751882,
           1.9240404736546513,
           0.9032728388928332,
           1.1118383165791301,
           1.4689398164686138,
           1.1144063349657738,
           0.6845870734735028,
           1.2093749524796322,
           0.7965708602566106,
           0.9157860724964104,
           0.918873300803496,
           0.3210212674709173,
           0.7376221329596672,
           0.6044497517608218,
           0.8758363385256929,
           1.1023725800531787,
           0.9525016973828138,
           0.7152454846338092,
           0.6509477618199561,
           0.5384460218730684,
           0.17784238307294736,
           1.1382255533671093,
           0.5359731986036957,
           0.9587574330258541,
           1.2007211206777708,
           0.5079600935771152,
           0.7775923848704982,
           1.0438447231843988,
           1.3510743875502882,
           0.8556437433428753,
           0.5223638419570321,
           0.7173123859701748,
           0.2985672619313619,
           0.9458650210273014,
           1.2197902170684638,
           0.34316689802647204,
           0.809141526202134,
           0.7871862068688209,
           0.9311929655368785,
           1.3787393683670581,
           0.8957636671517856,
           0.4539354175845559,
           0.8016008510497853,
           0.038093986874440086,
           0.47047138273502004,
           0.34374623610744165,
           1.0501796650967357,
           0.9308260149710634,
           1.505301178901468,
           0.9340242774223688,
           0.6394000750012113,
           1.1300743752272766,
           0.5444598865598154,
           0.8325633953593715,
           0.6346180121436328,
           0.6514563048377803,
           0.7046843012134725,
           1.407695428558841,
           0.6802682533737574,
           0.5572008788939368,
           0.6496984071293685,
           0.26636212470331705,
           0.5077967573830026,
           0.6230196359806042,
           0.7198618414604192,
           0.4017904103068495,
           0.8004972339176176,
           0.7979304275848319,
           0.7662754243499253,
           0.6015095446546068,
           1.4362628162762507,
           1.1889947447989253,
           0.7897605059050372,
           0.8321507479506399,
           0.9686297907187653,
           1.017461405157462,
           1.0264335718387119,
           1.5333910074473838,
           0.27424430724888954,
           1.0224265963385986,
           1.264907874570755,
           0.5901924203178452,
           1.3004881133305624,
           0.3102610987931237,
           0.49891110313968035,
           0.8754907782773612,
           0.49039246618225146,
           0.2475000170749883,
           0.8375575658120885,
           1.3113950954585827,
           1.0999099358192574,
           1.2437104735874331,
           0.6633611529552342,
           0.6892758841385617,
           0.30151002424870316,
           1.2457417443747698,
           0.4817124812206047,
           0.576774477003513,
           1.4528298037749596,
           0.7381117899315727,
           1.1740962875420566,
           1.5367565112679176,
           0.5080671540126157,
           0.8721151020548399,
           1.0623363954733385,
           0.5947927525227157,
           0.4421512217376065,
           1.4625321542113932,
           0.6578300146425585,
           0.6792795158345841,
           0.4118339785193741,
           0.8928781716509647,
           0.10011335430917867,
           0.7870746716222801,
           0.603013619848291,
           1.0043657106939177,
           0.4093069800344699,
           0.4930267789817036,
           1.6818140207610193,
           0.6983737157260071,
           0.5006340524436903,
           1.0332917373795123,
           0.22692884677694816,
           0.7485158773177515,
           1.1125560921512498,
           1.050610091357995,
           0.6271084682766925,
           1.5999963384733182,
           1.1256911216290728,
           1.1977225238472415,
           0.5917524682881564,
           0.5422453842937122,
           0.5066716969436177,
           0.85518441791702,
           0.5925536827860008,
           0.9078840638170758,
           0.462915389574236,
           1.115085588556242,
           0.08101834315128387,
           1.3497035507461925,
           0.5240013293156774,
           0.9849913927852492,
           0.5161623349441499,
           0.6102632084731289,
           0.3584475168311336,
           1.0004410534410795,
           0.913797157091686,
           0.43902360234778215,
           0.5532996507892184,
           0.3803920290093533,
           1.3761072410571424,
           0.5782024737966759,
           0.7143931393830367,
           0.5830154280464608,
           0.6384303608137797,
           1.26981231977528,
           0.4876888101704525,
           0.9642569950330149,
           0.9356444132242742,
           0.43763609286973454,
           0.46557330884417103,
           0.6616637250874448,
           0.684330496831886,
           0.3490778142228745,
           0.6399565630456727,
           0.13242855325877634,
           0.5431458551339547,
           0.5884093567512726,
           1.2857306126979344,
           0.7449416935797938,
           1.2908708687351564,
           1.5746698319547145,
           0.6954668526206739,
           0.7667286918797992,
           0.8243757713013791,
           1.2068696660662643,
           0.6081964186447673,
           0.7755541587857626,
           0.5204656944621339,
           0.9438836333807511,
           0.5692236670999876,
           0.792012414987497,
           0.49244780152218676,
           0.21088433741474397,
           0.3360390396333654,
           0.3554712336865476,
           1.0169517617173323,
           0.8779675193009744,
           0.6880353257158044,
           1.1331023836839456,
           0.7808844178762229,
           1.1049729860256938,
           1.402029797681088,
           0.25291059467998783,
           1.1985256182249027,
           1.0072129288634952,
           1.078982462539281,
           0,
           0.9271676979407818,
           0.6989923193769451,
           0.6268293616646612,
           0.8211525268546027,
           0.5032319467719816,
           0.881073916021542,
           0.08663431973352549,
           0.791538599028472,
           1.10945598968697,
           1.4817332663926586,
           1.1510386056105202,
           0.7478175230460251,
           0.6813854379940243,
           0.7846150971697565,
           0.7946364282024582,
           0.7324796894224263,
           0.7439178115373054,
           0.5315587913934235,
           1.2319486715239136,
           1.0484829225040289
          ],
          "sizemode": "area",
          "sizeref": 0.004934475797101786,
          "symbol": "circle"
         },
         "mode": "markers",
         "name": "",
         "orientation": "v",
         "showlegend": false,
         "type": "scatter",
         "x": [
          0.02381003545168039,
          0.014912417931634408,
          0.03958684928915139,
          0.018968586185895076,
          0.04324907364655065,
          0.03851826039076764,
          0.03580404093156251,
          0.01783105971420984,
          0.04898868432824022,
          0.03751306734752232,
          0.020721123658124084,
          0.01784360346405702,
          0.01542064170805946,
          0.023243854331326634,
          0.020110450900032346,
          0.017304777090125477,
          0.021886880979793355,
          0.028865068716626266,
          0.02975911984645168,
          0.03562105816276361,
          0.02102504176707481,
          0.034367237998857235,
          0.02468870683520059,
          0.022069430881833826,
          0.02187706184388633,
          0.045394855523967804,
          0.025692313693905924,
          0.025321615623085877,
          0.023522496323328576,
          0.03425309752943014,
          0.03919128426646292,
          0.021417508427281073,
          0.020347480278299756,
          0.03413908955598739,
          0.017121048144637184,
          0.0181346754537598,
          0.028469292250723612,
          0.035145423537690165,
          0.039752134618686354,
          0.015961809962652247,
          0.04072822757606463,
          0.023992015615150096,
          0.02536605255131522,
          0.024134177113825706,
          0.03612036066009751,
          0.012928622815094399,
          0.021862086908259484,
          0.02068817756253505,
          0.03614279265862586,
          0.04012741876338392,
          0.03667828882022748,
          0.017207337172206492,
          0.020390276493387958,
          0.011236572264119653,
          0.018813682292910954,
          0.04235418366540396,
          0.028704110487379808,
          0.02601448101220392,
          0.0246732717395476,
          0.020672395198661438,
          0.020333153881755956,
          0.03182846198610248,
          0.040073150870917014,
          0.02065931624240033,
          0.029621274940383885,
          0.034967493871799205,
          0.021541581618319074,
          0.016428491486806644,
          0.038815425083545727,
          0.020212733297724644,
          0.020272333403548594,
          0.029618840364672192,
          0.031184568261718643,
          0.03323014678606791,
          0.04431781668242379,
          0.026259944618145424,
          0.027252800990409064,
          0.041193263856876446,
          0.04718297805756832,
          0.03099769532091476,
          0.021116488494595624,
          0.019279331446454093,
          0.03225732391494039,
          0.038583693563884934,
          0.020989445122542194,
          0.027464198229513733,
          0.026876144354784644,
          0.026593316084776174,
          0.013857946377506699,
          0.025884026111321266,
          0.026037201132832886,
          0.025781997621499332,
          0.023402097844124604,
          0.023245005916270437,
          0.023996284101154567,
          0.025854383780878096,
          0.03425848168204951,
          0.017841695337604286,
          0.013580270021270454,
          0.020576146089786067,
          0.01903426930441195,
          0.029660117735346082,
          0.024230476315832344,
          0.04434026736301812,
          0.026227102774631965,
          0.034791185112676155,
          0.0534261703270007,
          0.029482612303207437,
          0.02629070415641297,
          0.01659231781029138,
          0.035574545594238866,
          0.030136345458291962,
          0.03807887062095122,
          0.01389914437892455,
          0.022661791281273217,
          0.022083092776591706,
          0.01852703462872108,
          0.032799478105357084,
          0.017479751767189983,
          0.020144781732699256,
          0.0290650479373547,
          0.032842343275890834,
          0.017669260518218828,
          0.031106270105948325,
          0.02981815251569863,
          0.028524131848239112,
          0.03928608296662961,
          0.020437105373395683,
          0.023281209197678954,
          0.027375944230951875,
          0.03471616723235447,
          0.024836787322841607,
          0.02706726656754653,
          0.03481010664950364,
          0.019404763866633597,
          0.03155129776892594,
          0.015179298938285783,
          0.014805213154522231,
          0.01823924763672453,
          0.02601166874230626,
          0.038484910720973674,
          0.04122732739071613,
          0.023597190406480364,
          0.027080821076335842,
          0.03627560963333519,
          0.017038613300652244,
          0.03424578228549246,
          0.0387107664700059,
          0.03524907152327232,
          0.050645431038199476,
          0.024014898625253377,
          0.03697771877852982,
          0.04126175418697949,
          0.02064998328460131,
          0.034989649231985914,
          0.029612824687025262,
          0.02688413064006017,
          0.022992812960727575,
          0.028651593311692532,
          0.03825053939571464,
          0.03299529502430809,
          0.05062259687975399,
          0.047050301765145804,
          0.025024533288243247,
          0.0318148526011928,
          0.04189641185671837,
          0.0338406405396903,
          0.018311025287718434,
          0.01788511942340873,
          0.026954892695732244,
          0.035409026161005525,
          0.02592740374738463,
          0.01752659649169905,
          0.02396827576382929,
          0.039278502335209096,
          0.029030855588142158,
          0.01565590079065928,
          0.03423121815427152,
          0.03476197315520334,
          0.014127111221539927,
          0.038327057368014075,
          0.043688502627330685,
          0.03369987321942808,
          0.03751760770095169,
          0.018051933336634962,
          0.03951013516302018,
          0.034575437937461054,
          0.02555356876626274,
          0.024179006493856903,
          0.03194420390646867,
          0.026798118601187203,
          0.028271954227284568,
          0.019244633302887598,
          0.034455644076749906,
          0.028468136754314855,
          0.019160751392597212,
          0.01571721571556862,
          0.016093723519393026,
          0.01615368635896324,
          0.03873870789058535,
          0.01988297751928217,
          0.03603773865220704,
          0.02790333680344508,
          0.02515773760483597,
          0.02748005844187172,
          0.02389488191217989,
          0.05607913713802724,
          0.019928817153291166,
          0.028300312128123135,
          0.017264867370839772,
          0.026380893114588213,
          0.05078689727303289,
          0.02181181901612129,
          0.024304771037362623,
          0.019999834486823867,
          0.021362640499045814,
          0.01669978219060695,
          0.02222262168845474,
          0.02796357527656092,
          0.014287851694453171,
          0.024594329838592423,
          0.02029753232996622,
          0.03592872035612849,
          0.01780010675670347,
          0.013949056801556978,
          0.01544909727722271,
          0.01370269072441663,
          0.03689770446720766,
          0.0316880261702231,
          0.02326187912130692,
          0.03623123556047994,
          0.026089987496101145,
          0.034008446045920716,
          0.024573911059498094,
          0.015572279209263558,
          0.02322956046498375
         ],
         "xaxis": "x",
         "y": [
          -0.0009377429870897015,
          -0.0018962779067769927,
          -0.0025692532582735437,
          0.00012467595070570937,
          -0.0011986711440961448,
          8.954073576176114e-05,
          -0.0024367793461910463,
          2.590426632338329e-05,
          -0.002376170703104797,
          -0.0025449198302627775,
          0.0034908814893126437,
          0.0004738828435233274,
          0.002234510058192662,
          0.00010596045707991017,
          0.0006122073768179824,
          -0.00012053843825294914,
          0.0004901882564329412,
          -0.0009840298994616655,
          0.0011532068126553796,
          0.005702516734384283,
          -0.0002497787303978689,
          0.0007992755818404765,
          0.002059474828876386,
          0.0005228146231005591,
          -0.0010658938577249475,
          0.0018016706370175908,
          -0.0007670725193198629,
          -0.00024744176407360164,
          -0.00021762669138399187,
          -0.0037668750082906306,
          -0.0015593108170927756,
          -0.001332655085677474,
          -0.0003357797698747537,
          0.000739528297531081,
          -6.140442812767708e-05,
          -0.0007898915272554131,
          -0.0015484217105074171,
          -0.0025776470110181362,
          -0.005330487362874576,
          0.00044217972049915915,
          -0.003004070037324364,
          -6.0761837232948974e-05,
          0.0009697686454303791,
          -0.0018940086697156343,
          -0.0011939009856654099,
          0.00015258418170323285,
          0.001389574661422696,
          -0.00041177993045199695,
          -0.0027487202171380108,
          -0.001733856024584198,
          -0.00417232502439619,
          -8.095306285829434e-05,
          0.0008450450170000686,
          -0.0011937839840744787,
          -0.0005218601792184667,
          -0.0013314943502001034,
          -0.00020599112615118158,
          0.0017747506870935913,
          -0.00032433328097837625,
          -0.001810484223222053,
          -0.0005898385238079243,
          -0.005017326726306118,
          -0.003397962363917928,
          -0.002192848780465323,
          0.0003812047850162899,
          -0.00025310113332501914,
          0.0019289080797802404,
          -0.00011006059350703148,
          -0.0021866523817679253,
          0.000532183644582345,
          -0.0014662810325945656,
          -0.0007047049991255205,
          -0.0017818942388621829,
          -0.0018045137639820137,
          -0.0020092018481267866,
          0.0019195983730066926,
          -0.001347639408946542,
          -0.0028910543981629493,
          -0.002576174898731918,
          -0.003694312015761982,
          -0.0016577667288581754,
          -0.0011392972806830914,
          -0.001379944267377085,
          -0.0037181042445429513,
          -0.000612779169346408,
          -0.0008136835352297252,
          -0.0009395892554575661,
          -0.0016678804065402566,
          0.001079708674054253,
          0.0009384363702411617,
          -0.0008072429958344654,
          -0.0006152094094108931,
          -2.0345611281877512e-05,
          0.00017101943174185623,
          0.00021281807759329868,
          0.0024374416856891095,
          -0.0040374410940098885,
          0.0001461901964508379,
          0.0006660373808636003,
          -0.0013297256826041582,
          0.001047621047288698,
          -0.0033155434697525457,
          -0.0019385049589281094,
          -0.0007342967370737161,
          -0.002135879944538664,
          -0.00425697667438123,
          -0.0012261888997562454,
          0.001676858231075023,
          0.0005586073737403916,
          0.0007545085660078033,
          -0.0018604743301464028,
          -0.0014444971639120032,
          -0.0043127694629858495,
          0.0006367972933020507,
          -0.0018786671599022732,
          -0.0014770307481612828,
          0.0014951991029964855,
          -0.0013022931462666352,
          0.0005898627270032447,
          0.0019105864096245911,
          -0.0022804506928223115,
          -0.0005625628458690219,
          0.00026357820730705785,
          -0.001986123101361359,
          -0.0026706651938524606,
          0.002348625400606703,
          -0.002091187891785957,
          -0.001014010417744273,
          -0.0022040929818205857,
          -0.00037316820770904056,
          -0.005109806563560919,
          -0.0007812642210722098,
          -0.0016907470429600368,
          0.00017930780261036532,
          -0.0018453608089980397,
          -0.0025554686321758386,
          0.0018105949856668537,
          -0.0006869523046038597,
          -0.0014538959236570508,
          0.00026074580926724734,
          -0.004842307251184889,
          -0.0015646561325482655,
          0.0005516510637915212,
          0.00035047467964064295,
          -0.002118691034153714,
          0.0017975181633936217,
          0.0008763729481872696,
          0.0014603943019365683,
          -0.0022686937665029367,
          -0.003682036572006166,
          -0.0018898604721873686,
          -0.0007388703086219419,
          -0.0026501113316600507,
          -0.00022928103939713685,
          -0.003011452256052399,
          0.0007049028414175085,
          -0.004043508395880678,
          0.0014561346024344044,
          -0.0021710978684222346,
          7.218035786554802e-05,
          -0.0025438200874775534,
          -0.003100295053402487,
          -0.0048775456288085665,
          0.00011235618223789615,
          -0.00032155366874718234,
          -0.0037745310499113227,
          -0.0023972688357365287,
          -0.0018305464587013076,
          0.0012122214024809408,
          -0.001796397115440571,
          -0.0015473944507947755,
          -0.0017068976635672198,
          -0.0009902175008178872,
          0.0011953155945352363,
          -0.003216649137075457,
          -4.662576632011442e-05,
          -0.00010061153925979256,
          -0.0030919601683875,
          -0.0029762911946190555,
          -0.0007428582316020428,
          -0.0018690269789003765,
          -0.004598002065498847,
          -0.0018953102809680755,
          -0.005317894448816419,
          -0.0013096775778489043,
          -0.002565196123013325,
          0.0018170252793052496,
          -0.0009851938049245704,
          0.0012916054160422169,
          0.003233711486618544,
          -0.0012565388829941623,
          -0.0009862278310053118,
          -0.0004844225228484156,
          0.0013529631514039124,
          -0.001753395095165665,
          -0.0006399075223264587,
          -0.0012003467669176602,
          -8.108613910692704e-05,
          -0.0011009903954707484,
          -0.001186336861660993,
          -0.0016123430475193034,
          -0.004631805927881295,
          -0.0029979838050507874,
          -0.002620631987406953,
          0.00019981836887429365,
          -0.0003857407729861392,
          -0.00269970899389675,
          0.0005348746212354887,
          -0.0009197261637337533,
          0.00038155882785406166,
          0.0019032594685241444,
          -0.006167885382303467,
          0.0008258192100897907,
          0.0001368528035176665,
          0.00035443084495316964,
          -0.003504630106911867,
          -0.00013116842189674367,
          -0.0010287993060013464,
          -0.0016345383228600033,
          -0.00036740986379321704,
          -0.0019497112638500107,
          -0.0003170455182298146,
          -0.005369867207858746,
          -0.0005465325659009394,
          0.00031881343335242836,
          0.0013220255404943987,
          0.00040917557803454667,
          -0.0014046797116180657,
          -0.0015609953471427403,
          -0.000741362900288964,
          -0.0010935312326740896,
          -0.0010606500731821325,
          -0.0013170298670424966,
          -0.001830820581209636,
          0.0006772673913921159,
          0.00029230779292948147
         ],
         "yaxis": "y"
        },
        {
         "marker": {
          "color": "Blue",
          "size": 20
         },
         "mode": "markers",
         "name": "UNIFORM",
         "text": [
          "Uniform Portfolio"
         ],
         "type": "scatter",
         "x": [
          0.027694780249859798
         ],
         "xaxis": "x",
         "y": [
          -0.0009413687195844739
         ],
         "yaxis": "y"
        },
        {
         "marker": {
          "color": "Black",
          "size": 20
         },
         "mode": "markers",
         "name": "NIFTY-50",
         "text": [
          "NIFTY-50"
         ],
         "type": "scatter",
         "x": [
          0.016022883945035562
         ],
         "y": [
          0.0005365371993693484
         ]
        },
        {
         "marker": {
          "color": "Magenta",
          "size": 20
         },
         "mode": "markers",
         "name": "Best VaR",
         "text": [
          "Best VaR"
         ],
         "type": "scatter",
         "x": [
          0.013580270021270454
         ],
         "y": [
          0.0006660373808636003
         ]
        }
       ],
       "layout": {
        "coloraxis": {
         "colorbar": {
          "title": {
           "text": "color"
          }
         },
         "colorscale": [
          [
           0,
           "rgb(165,0,38)"
          ],
          [
           0.1,
           "rgb(215,48,39)"
          ],
          [
           0.2,
           "rgb(244,109,67)"
          ],
          [
           0.3,
           "rgb(253,174,97)"
          ],
          [
           0.4,
           "rgb(254,224,139)"
          ],
          [
           0.5,
           "rgb(255,255,191)"
          ],
          [
           0.6,
           "rgb(217,239,139)"
          ],
          [
           0.7,
           "rgb(166,217,106)"
          ],
          [
           0.8,
           "rgb(102,189,99)"
          ],
          [
           0.9,
           "rgb(26,152,80)"
          ],
          [
           1,
           "rgb(0,104,55)"
          ]
         ]
        },
        "legend": {
         "font": {
          "family": "Courier",
          "size": 10
         },
         "itemsizing": "constant",
         "tracegroupgap": 0,
         "traceorder": "normal",
         "x": 0.89,
         "y": 1
        },
        "margin": {
         "t": 60
        },
        "template": {
         "data": {
          "bar": [
           {
            "error_x": {
             "color": "#2a3f5f"
            },
            "error_y": {
             "color": "#2a3f5f"
            },
            "marker": {
             "line": {
              "color": "#E5ECF6",
              "width": 0.5
             }
            },
            "type": "bar"
           }
          ],
          "barpolar": [
           {
            "marker": {
             "line": {
              "color": "#E5ECF6",
              "width": 0.5
             }
            },
            "type": "barpolar"
           }
          ],
          "carpet": [
           {
            "aaxis": {
             "endlinecolor": "#2a3f5f",
             "gridcolor": "white",
             "linecolor": "white",
             "minorgridcolor": "white",
             "startlinecolor": "#2a3f5f"
            },
            "baxis": {
             "endlinecolor": "#2a3f5f",
             "gridcolor": "white",
             "linecolor": "white",
             "minorgridcolor": "white",
             "startlinecolor": "#2a3f5f"
            },
            "type": "carpet"
           }
          ],
          "choropleth": [
           {
            "colorbar": {
             "outlinewidth": 0,
             "ticks": ""
            },
            "type": "choropleth"
           }
          ],
          "contour": [
           {
            "colorbar": {
             "outlinewidth": 0,
             "ticks": ""
            },
            "colorscale": [
             [
              0,
              "#0d0887"
             ],
             [
              0.1111111111111111,
              "#46039f"
             ],
             [
              0.2222222222222222,
              "#7201a8"
             ],
             [
              0.3333333333333333,
              "#9c179e"
             ],
             [
              0.4444444444444444,
              "#bd3786"
             ],
             [
              0.5555555555555556,
              "#d8576b"
             ],
             [
              0.6666666666666666,
              "#ed7953"
             ],
             [
              0.7777777777777778,
              "#fb9f3a"
             ],
             [
              0.8888888888888888,
              "#fdca26"
             ],
             [
              1,
              "#f0f921"
             ]
            ],
            "type": "contour"
           }
          ],
          "contourcarpet": [
           {
            "colorbar": {
             "outlinewidth": 0,
             "ticks": ""
            },
            "type": "contourcarpet"
           }
          ],
          "heatmap": [
           {
            "colorbar": {
             "outlinewidth": 0,
             "ticks": ""
            },
            "colorscale": [
             [
              0,
              "#0d0887"
             ],
             [
              0.1111111111111111,
              "#46039f"
             ],
             [
              0.2222222222222222,
              "#7201a8"
             ],
             [
              0.3333333333333333,
              "#9c179e"
             ],
             [
              0.4444444444444444,
              "#bd3786"
             ],
             [
              0.5555555555555556,
              "#d8576b"
             ],
             [
              0.6666666666666666,
              "#ed7953"
             ],
             [
              0.7777777777777778,
              "#fb9f3a"
             ],
             [
              0.8888888888888888,
              "#fdca26"
             ],
             [
              1,
              "#f0f921"
             ]
            ],
            "type": "heatmap"
           }
          ],
          "heatmapgl": [
           {
            "colorbar": {
             "outlinewidth": 0,
             "ticks": ""
            },
            "colorscale": [
             [
              0,
              "#0d0887"
             ],
             [
              0.1111111111111111,
              "#46039f"
             ],
             [
              0.2222222222222222,
              "#7201a8"
             ],
             [
              0.3333333333333333,
              "#9c179e"
             ],
             [
              0.4444444444444444,
              "#bd3786"
             ],
             [
              0.5555555555555556,
              "#d8576b"
             ],
             [
              0.6666666666666666,
              "#ed7953"
             ],
             [
              0.7777777777777778,
              "#fb9f3a"
             ],
             [
              0.8888888888888888,
              "#fdca26"
             ],
             [
              1,
              "#f0f921"
             ]
            ],
            "type": "heatmapgl"
           }
          ],
          "histogram": [
           {
            "marker": {
             "colorbar": {
              "outlinewidth": 0,
              "ticks": ""
             }
            },
            "type": "histogram"
           }
          ],
          "histogram2d": [
           {
            "colorbar": {
             "outlinewidth": 0,
             "ticks": ""
            },
            "colorscale": [
             [
              0,
              "#0d0887"
             ],
             [
              0.1111111111111111,
              "#46039f"
             ],
             [
              0.2222222222222222,
              "#7201a8"
             ],
             [
              0.3333333333333333,
              "#9c179e"
             ],
             [
              0.4444444444444444,
              "#bd3786"
             ],
             [
              0.5555555555555556,
              "#d8576b"
             ],
             [
              0.6666666666666666,
              "#ed7953"
             ],
             [
              0.7777777777777778,
              "#fb9f3a"
             ],
             [
              0.8888888888888888,
              "#fdca26"
             ],
             [
              1,
              "#f0f921"
             ]
            ],
            "type": "histogram2d"
           }
          ],
          "histogram2dcontour": [
           {
            "colorbar": {
             "outlinewidth": 0,
             "ticks": ""
            },
            "colorscale": [
             [
              0,
              "#0d0887"
             ],
             [
              0.1111111111111111,
              "#46039f"
             ],
             [
              0.2222222222222222,
              "#7201a8"
             ],
             [
              0.3333333333333333,
              "#9c179e"
             ],
             [
              0.4444444444444444,
              "#bd3786"
             ],
             [
              0.5555555555555556,
              "#d8576b"
             ],
             [
              0.6666666666666666,
              "#ed7953"
             ],
             [
              0.7777777777777778,
              "#fb9f3a"
             ],
             [
              0.8888888888888888,
              "#fdca26"
             ],
             [
              1,
              "#f0f921"
             ]
            ],
            "type": "histogram2dcontour"
           }
          ],
          "mesh3d": [
           {
            "colorbar": {
             "outlinewidth": 0,
             "ticks": ""
            },
            "type": "mesh3d"
           }
          ],
          "parcoords": [
           {
            "line": {
             "colorbar": {
              "outlinewidth": 0,
              "ticks": ""
             }
            },
            "type": "parcoords"
           }
          ],
          "pie": [
           {
            "automargin": true,
            "type": "pie"
           }
          ],
          "scatter": [
           {
            "marker": {
             "colorbar": {
              "outlinewidth": 0,
              "ticks": ""
             }
            },
            "type": "scatter"
           }
          ],
          "scatter3d": [
           {
            "line": {
             "colorbar": {
              "outlinewidth": 0,
              "ticks": ""
             }
            },
            "marker": {
             "colorbar": {
              "outlinewidth": 0,
              "ticks": ""
             }
            },
            "type": "scatter3d"
           }
          ],
          "scattercarpet": [
           {
            "marker": {
             "colorbar": {
              "outlinewidth": 0,
              "ticks": ""
             }
            },
            "type": "scattercarpet"
           }
          ],
          "scattergeo": [
           {
            "marker": {
             "colorbar": {
              "outlinewidth": 0,
              "ticks": ""
             }
            },
            "type": "scattergeo"
           }
          ],
          "scattergl": [
           {
            "marker": {
             "colorbar": {
              "outlinewidth": 0,
              "ticks": ""
             }
            },
            "type": "scattergl"
           }
          ],
          "scattermapbox": [
           {
            "marker": {
             "colorbar": {
              "outlinewidth": 0,
              "ticks": ""
             }
            },
            "type": "scattermapbox"
           }
          ],
          "scatterpolar": [
           {
            "marker": {
             "colorbar": {
              "outlinewidth": 0,
              "ticks": ""
             }
            },
            "type": "scatterpolar"
           }
          ],
          "scatterpolargl": [
           {
            "marker": {
             "colorbar": {
              "outlinewidth": 0,
              "ticks": ""
             }
            },
            "type": "scatterpolargl"
           }
          ],
          "scatterternary": [
           {
            "marker": {
             "colorbar": {
              "outlinewidth": 0,
              "ticks": ""
             }
            },
            "type": "scatterternary"
           }
          ],
          "surface": [
           {
            "colorbar": {
             "outlinewidth": 0,
             "ticks": ""
            },
            "colorscale": [
             [
              0,
              "#0d0887"
             ],
             [
              0.1111111111111111,
              "#46039f"
             ],
             [
              0.2222222222222222,
              "#7201a8"
             ],
             [
              0.3333333333333333,
              "#9c179e"
             ],
             [
              0.4444444444444444,
              "#bd3786"
             ],
             [
              0.5555555555555556,
              "#d8576b"
             ],
             [
              0.6666666666666666,
              "#ed7953"
             ],
             [
              0.7777777777777778,
              "#fb9f3a"
             ],
             [
              0.8888888888888888,
              "#fdca26"
             ],
             [
              1,
              "#f0f921"
             ]
            ],
            "type": "surface"
           }
          ],
          "table": [
           {
            "cells": {
             "fill": {
              "color": "#EBF0F8"
             },
             "line": {
              "color": "white"
             }
            },
            "header": {
             "fill": {
              "color": "#C8D4E3"
             },
             "line": {
              "color": "white"
             }
            },
            "type": "table"
           }
          ]
         },
         "layout": {
          "annotationdefaults": {
           "arrowcolor": "#2a3f5f",
           "arrowhead": 0,
           "arrowwidth": 1
          },
          "autotypenumbers": "strict",
          "coloraxis": {
           "colorbar": {
            "outlinewidth": 0,
            "ticks": ""
           }
          },
          "colorscale": {
           "diverging": [
            [
             0,
             "#8e0152"
            ],
            [
             0.1,
             "#c51b7d"
            ],
            [
             0.2,
             "#de77ae"
            ],
            [
             0.3,
             "#f1b6da"
            ],
            [
             0.4,
             "#fde0ef"
            ],
            [
             0.5,
             "#f7f7f7"
            ],
            [
             0.6,
             "#e6f5d0"
            ],
            [
             0.7,
             "#b8e186"
            ],
            [
             0.8,
             "#7fbc41"
            ],
            [
             0.9,
             "#4d9221"
            ],
            [
             1,
             "#276419"
            ]
           ],
           "sequential": [
            [
             0,
             "#0d0887"
            ],
            [
             0.1111111111111111,
             "#46039f"
            ],
            [
             0.2222222222222222,
             "#7201a8"
            ],
            [
             0.3333333333333333,
             "#9c179e"
            ],
            [
             0.4444444444444444,
             "#bd3786"
            ],
            [
             0.5555555555555556,
             "#d8576b"
            ],
            [
             0.6666666666666666,
             "#ed7953"
            ],
            [
             0.7777777777777778,
             "#fb9f3a"
            ],
            [
             0.8888888888888888,
             "#fdca26"
            ],
            [
             1,
             "#f0f921"
            ]
           ],
           "sequentialminus": [
            [
             0,
             "#0d0887"
            ],
            [
             0.1111111111111111,
             "#46039f"
            ],
            [
             0.2222222222222222,
             "#7201a8"
            ],
            [
             0.3333333333333333,
             "#9c179e"
            ],
            [
             0.4444444444444444,
             "#bd3786"
            ],
            [
             0.5555555555555556,
             "#d8576b"
            ],
            [
             0.6666666666666666,
             "#ed7953"
            ],
            [
             0.7777777777777778,
             "#fb9f3a"
            ],
            [
             0.8888888888888888,
             "#fdca26"
            ],
            [
             1,
             "#f0f921"
            ]
           ]
          },
          "colorway": [
           "#636efa",
           "#EF553B",
           "#00cc96",
           "#ab63fa",
           "#FFA15A",
           "#19d3f3",
           "#FF6692",
           "#B6E880",
           "#FF97FF",
           "#FECB52"
          ],
          "font": {
           "color": "#2a3f5f"
          },
          "geo": {
           "bgcolor": "white",
           "lakecolor": "white",
           "landcolor": "#E5ECF6",
           "showlakes": true,
           "showland": true,
           "subunitcolor": "white"
          },
          "hoverlabel": {
           "align": "left"
          },
          "hovermode": "closest",
          "mapbox": {
           "style": "light"
          },
          "paper_bgcolor": "white",
          "plot_bgcolor": "#E5ECF6",
          "polar": {
           "angularaxis": {
            "gridcolor": "white",
            "linecolor": "white",
            "ticks": ""
           },
           "bgcolor": "#E5ECF6",
           "radialaxis": {
            "gridcolor": "white",
            "linecolor": "white",
            "ticks": ""
           }
          },
          "scene": {
           "xaxis": {
            "backgroundcolor": "#E5ECF6",
            "gridcolor": "white",
            "gridwidth": 2,
            "linecolor": "white",
            "showbackground": true,
            "ticks": "",
            "zerolinecolor": "white"
           },
           "yaxis": {
            "backgroundcolor": "#E5ECF6",
            "gridcolor": "white",
            "gridwidth": 2,
            "linecolor": "white",
            "showbackground": true,
            "ticks": "",
            "zerolinecolor": "white"
           },
           "zaxis": {
            "backgroundcolor": "#E5ECF6",
            "gridcolor": "white",
            "gridwidth": 2,
            "linecolor": "white",
            "showbackground": true,
            "ticks": "",
            "zerolinecolor": "white"
           }
          },
          "shapedefaults": {
           "line": {
            "color": "#2a3f5f"
           }
          },
          "ternary": {
           "aaxis": {
            "gridcolor": "white",
            "linecolor": "white",
            "ticks": ""
           },
           "baxis": {
            "gridcolor": "white",
            "linecolor": "white",
            "ticks": ""
           },
           "bgcolor": "#E5ECF6",
           "caxis": {
            "gridcolor": "white",
            "linecolor": "white",
            "ticks": ""
           }
          },
          "title": {
           "x": 0.05
          },
          "xaxis": {
           "automargin": true,
           "gridcolor": "white",
           "linecolor": "white",
           "ticks": "",
           "title": {
            "standoff": 15
           },
           "zerolinecolor": "white",
           "zerolinewidth": 2
          },
          "yaxis": {
           "automargin": true,
           "gridcolor": "white",
           "linecolor": "white",
           "ticks": "",
           "title": {
            "standoff": 15
           },
           "zerolinecolor": "white",
           "zerolinewidth": 2
          }
         }
        },
        "xaxis": {
         "anchor": "y",
         "domain": [
          0,
          1
         ],
         "title": {
          "text": "logret_std"
         }
        },
        "yaxis": {
         "anchor": "x",
         "domain": [
          0,
          1
         ],
         "title": {
          "text": "logret_mean"
         }
        }
       }
      },
      "text/html": [
       "<div>                            <div id=\"f672a8e4-1b93-4b7c-8482-59cfccee8c8b\" class=\"plotly-graph-div\" style=\"height:525px; width:100%;\"></div>            <script type=\"text/javascript\">                require([\"plotly\"], function(Plotly) {                    window.PLOTLYENV=window.PLOTLYENV || {};                                    if (document.getElementById(\"f672a8e4-1b93-4b7c-8482-59cfccee8c8b\")) {                    Plotly.newPlot(                        \"f672a8e4-1b93-4b7c-8482-59cfccee8c8b\",                        [{\"hovertemplate\": \"<b>%{hovertext}</b><br><br>logret_std=%{x}<br>logret_mean=%{y}<br>size=%{marker.size}<br>color=%{marker.color}<extra></extra>\", \"hovertext\": [\"20MICRONS\", \"21STCENMGM\", \"3IINFOTECH\", \"3MINDIA\", \"5PAISA\", \"63MOONS\", \"A2ZINFRA\", \"AARTIDRUGS\", \"AARTIIND\", \"AARVEEDEN\", \"AAVAS\", \"ABB\", \"ABBOTINDIA\", \"ABCAPITAL\", \"ABFRL\", \"ACC\", \"ACCELYA\", \"ACE\", \"ADANIENT\", \"ADANIGREEN\", \"ADANIPORTS\", \"ADANIPOWER\", \"ADANITRANS\", \"ADFFOODS\", \"ADORWELD\", \"ADSL\", \"ADVANIHOTR\", \"ADVENZYMES\", \"AEGISCHEM\", \"AGARIND\", \"AGRITECH\", \"AHLEAST\", \"AHLUCONT\", \"AHLWEST\", \"AIAENG\", \"AJANTPHARM\", \"AJMERA\", \"AKSHARCHEM\", \"AKSHOPTFBR\", \"AKZOINDIA\", \"ALANKIT\", \"ALBERTDAVD\", \"ALEMBICLTD\", \"ALICON\", \"ALKALI\", \"ALKEM\", \"ALKYLAMINE\", \"ALLCARGO\", \"ALMONDZ\", \"ALPA\", \"ALPHAGEO\", \"AMARAJABAT\", \"AMBER\", \"AMBIKCO\", \"AMBUJACEM\", \"AMDIND\", \"AMJLAND\", \"AMRUTANJAN\", \"ANANTRAJ\", \"ANDHRAPAP\", \"ANDHRSUGAR\", \"ANIKINDS\", \"ANSALAPI\", \"APARINDS\", \"APCL\", \"APEX\", \"APLAPOLLO\", \"APLLTD\", \"APOLLO\", \"APOLLOHOSP\", \"APOLLOTYRE\", \"APTECHT\", \"ARCHIDPLY\", \"ARIES\", \"ARIHANT\", \"ARMANFIN\", \"AROGRANITE\", \"ARSHIYA\", \"ARSSINFRA\", \"ARVIND\", \"ARVSMART\", \"ASAHIINDIA\", \"ASAHISONG\", \"ASAL\", \"ASHIANA\", \"ASHOKA\", \"ASHOKLEY\", \"ASIANHOTNR\", \"ASIANPAINT\", \"ASIANTILES\", \"ASPINWALL\", \"ASTEC\", \"ASTERDM\", \"ASTRAL\", \"ASTRAMICRO\", \"ASTRAZEN\", \"ASTRON\", \"ATFL\", \"ATUL\", \"ATULAUTO\", \"AUBANK\", \"AURIONPRO\", \"AUROPHARMA\", \"AUSOMENT\", \"AUTOAXLES\", \"AUTOIND\", \"AVADHSUGAR\", \"AVANTIFEED\", \"AVTNPL\", \"AXISBANK\", \"AXISCADES\", \"AYMSYNTEX\", \"BAGFILMS\", \"BAJAJ-AUTO\", \"BAJAJCON\", \"BAJAJELEC\", \"BAJAJFINSV\", \"BAJAJHIND\", \"BAJAJHLDNG\", \"BAJFINANCE\", \"BALAJITELE\", \"BALAMINES\", \"BALKRISIND\", \"BALMLAWRIE\", \"BALPHARMA\", \"BALRAMCHIN\", \"BANARBEADS\", \"BANARISUG\", \"BANCOINDIA\", \"BANDHANBNK\", \"BANG\", \"BANKBARODA\", \"BANKINDIA\", \"BANSWRAS\", \"BASF\", \"BASML\", \"BATAINDIA\", \"BAYERCROP\", \"BBL\", \"BDL\", \"BEARDSELL\", \"BEDMUTHA\", \"BEL\", \"BEML\", \"BEPL\", \"BERGEPAINT\", \"BFINVEST\", \"BFUTILITIE\", \"BGRENERGY\", \"BHAGERIA\", \"BHAGYANGR\", \"BHAGYAPROP\", \"BHANDARI\", \"BHARATFORG\", \"BHARATGEAR\", \"BHARATRAS\", \"BHARATWIRE\", \"BHARTIARTL\", \"BHEL\", \"BIGBLOC\", \"BINDALAGRO\", \"BIOCON\", \"BIRLACABLE\", \"BIRLACORPN\", \"BLISSGVS\", \"BLKASHYAP\", \"BLS\", \"BLUEDART\", \"BLUESTARCO\", \"BODALCHEM\", \"BOMDYEING\", \"BORORENEW\", \"BOSCHLTD\", \"BPCL\", \"BPL\", \"BRIGADE\", \"BRITANNIA\", \"BRNL\", \"BROOKS\", \"BSE\", \"BSL\", \"BSOFT\", \"BUTTERFLY\", \"BYKE\", \"CADILAHC\", \"CALSOFT\", \"CAMLINFINE\", \"CANBK\", \"CANFINHOME\", \"CANTABIL\", \"CAPACITE\", \"CAPLIPOINT\", \"CARBORUNIV\", \"CAREERP\", \"CARERATING\", \"CASTROLIND\", \"CCL\", \"CDSL\", \"CEATLTD\", \"CELEBRITY\", \"CENTENKA\", \"CENTEXT\", \"CENTRALBK\", \"CENTRUM\", \"CENTUM\", \"CENTURYPLY\", \"CENTURYTEX\", \"CERA\", \"CEREBRAINT\", \"CESC\", \"CGCL\", \"CGPOWER\", \"CHALET\", \"CHAMBLFERT\", \"CHEMFAB\", \"CHENNPETRO\", \"CHOLAHLDNG\", \"CIGNITITEC\", \"CINELINE\", \"CIPLA\", \"CLEDUCATE\", \"CLNINDIA\", \"CMICABLES\", \"COALINDIA\", \"COCHINSHIP\", \"COFORGE\", \"COLPAL\", \"COMPINFO\", \"COMPUSOFT\", \"CONCOR\", \"CONSOFINVT\", \"CONTROLPR\", \"CORALFINAC\", \"CORDSCABLE\", \"COROMANDEL\", \"COSMOFILMS\"], \"legendgroup\": \"\", \"marker\": {\"color\": [-0.03938435912843298, -0.1271609953174884, -0.06490168589844397, 0.006572759270715581, -0.027715533375169653, 0.002324630833619448, -0.06805878003683491, 0.0014527608980379214, -0.04850448089570391, -0.06784088879447138, 0.16846970014311852, 0.026557575350622746, 0.14490383088434092, 0.0045586439998078635, 0.03044225014452549, -0.006965616351205776, 0.022396441817612026, -0.034090682725271486, 0.03875137499380318, 0.1600883586424559, -0.011880058701667936, 0.023256904784348796, 0.08341768739138795, 0.02368953807190866, -0.048721984027430894, 0.03968887258747493, -0.029856109047189792, -0.009771957988652486, -0.00925185356148443, -0.10997180634697766, -0.039787183458724305, -0.06222269458663886, -0.01650227769149663, 0.021662214990188007, -0.0035864876734728857, -0.043556970692389625, -0.054389188774724824, -0.07334232316915607, -0.13409311006832988, 0.027702354653625114, -0.07375891896385421, -0.00253258576551526, 0.03823096413872631, -0.07847827836775992, -0.033053407104661696, 0.011802044493485268, 0.06356093392427763, -0.01990411814705727, -0.0760516831972584, -0.0432087604440267, -0.11375462592723848, -0.004704566549032976, 0.041443529089666586, -0.10624093860780306, -0.02773833272474815, -0.03143713878937782, -0.0071763633379877305, 0.06822164494694397, -0.013145126613205415, -0.08757979933255552, -0.029008708006541005, -0.15763648047137413, -0.08479399024207977, -0.10614333769502063, 0.012869290257880762, -0.0072381833897779465, 0.0895434752172462, -0.006699373073627527, -0.056334624110425384, 0.02632912811659436, -0.07232916918867853, -0.023792457451037006, -0.05714025680610719, -0.054303514685002094, -0.04533621009637024, 0.0730998637247797, -0.04944957435460706, -0.07018269803062333, -0.05459966718482048, -0.11918021573911518, -0.0785057955674046, -0.05909423176043971, -0.04277925444205699, -0.09636465307259146, -0.0291946340538701, -0.029627063147079965, -0.03495997205009412, -0.06271803039618158, 0.07791260296740393, 0.03625542511065172, -0.031003447402667743, -0.023861976036250836, -0.0008693926252848967, 0.0073572548167066916, 0.008868793047130953, 0.09427576020944817, -0.11785230680918926, 0.008193739086146045, 0.0490444873202375, -0.06462462293967819, 0.0550386794751228, -0.11178456873761493, -0.08000275907335253, -0.01656049412291443, -0.08143789128719865, -0.12235790935532695, -0.022951091052404143, 0.05687617548369675, 0.021247334054540077, 0.04547336753276384, -0.05229790849240526, -0.047932061500660574, -0.11325885964204353, 0.04581557511321593, -0.08290020575093406, -0.0668851398263811, 0.08070363838358621, -0.03970469109549441, 0.03374548648399199, 0.09484274562892403, -0.07846024192829397, -0.01712919328390287, 0.014917330979147745, -0.06384960635256494, -0.08956507927331887, 0.08233819045229562, -0.05322973770539186, -0.04961614667135184, -0.09467261614746048, -0.013631245174993013, -0.14718809623657783, -0.03145592909891795, -0.0624646392993089, 0.005151027097267514, -0.0950983388244744, -0.08099408939979177, 0.11928054075673447, -0.04639935254117102, -0.07971249432074418, 0.010024186139321448, -0.1258235282470308, -0.037951917613282066, 0.02337782821975384, 0.01294180404104881, -0.058405387409582205, 0.10549674035532058, 0.025590682697253713, 0.03772579142983695, -0.06436180212591099, -0.07270224572141519, -0.07869533416227065, -0.019981500563819216, -0.06422682175970881, -0.011103207021388325, -0.08606694614416051, 0.02380397172061599, -0.15040502704057787, 0.06332998945894644, -0.07577581619295927, 0.0018870415687166668, -0.07709644922415411, -0.0612433032775215, -0.10366661733978044, 0.0044898412667173345, -0.010107029970496442, -0.09009198837408439, -0.07083993675961513, -0.09996963195332875, 0.06777821124830394, -0.06664456563483162, -0.04370056504120568, -0.0658337286755678, -0.056497991568806534, 0.049870737733212184, -0.08189337540479656, -0.001606076203250414, -0.006426429280889416, -0.0903257416797968, -0.08561916728174994, -0.052583873656306325, -0.0487652094173078, -0.10524512832862405, -0.05624087273644173, -0.1417439643594739, -0.0725505436689719, -0.0649250151240748, 0.05255248776868211, -0.038554059275872216, 0.053418465161931765, 0.10122999139645865, -0.046889070896883614, -0.03488361020525166, -0.025171824020971574, 0.03926680773664218, -0.06159149474016443, -0.03339678644198098, -0.0763714635365513, -0.005038370331714584, -0.06815722250666571, -0.030624068954796187, -0.0810916295587862, -0.1285265419282248, -0.10744176677395235, -0.10416803086868986, 0.007271395339168122, -0.01614323830533418, -0.048141058006152496, 0.02683925579332019, -0.03249879929132602, 0.022100304604627984, 0.07214537658968309, -0.12144639096861161, 0.03786108849882814, 0.005630697088538249, 0.01772168890630935, -0.16405416301736694, -0.007854498962897933, -0.04629513656959007, -0.05845240841681908, -0.02571484304640794, -0.07927482784225343, -0.015619904581294598, -0.14945890514975685, -0.030703892587336124, 0.02285555488718368, 0.0855729960638878, 0.029860965722990632, -0.03806956914803348, -0.049261362596626196, -0.03187029286941424, -0.030182002235300088, -0.04065352937944622, -0.038726552376552155, -0.0745026128228784, 0.04349186026597999, 0.012583440542067352], \"coloraxis\": \"coloraxis\", \"size\": [0.7400132117705699, 0.21898992915958795, 0.5885478340300415, 1.0128048078861147, 0.809276858250325, 0.9875888287902462, 0.5698080004830659, 0.9824135958858079, 0.6858781254047533, 0.5711013561557977, 1.9737903188407144, 1.1314303890020643, 1.8339083742610192, 1.0008494517051716, 1.15448898523986, 0.9324439144410608, 1.106730792994736, 0.7714353393024904, 1.2038101678751882, 1.9240404736546513, 0.9032728388928332, 1.1118383165791301, 1.4689398164686138, 1.1144063349657738, 0.6845870734735028, 1.2093749524796322, 0.7965708602566106, 0.9157860724964104, 0.918873300803496, 0.3210212674709173, 0.7376221329596672, 0.6044497517608218, 0.8758363385256929, 1.1023725800531787, 0.9525016973828138, 0.7152454846338092, 0.6509477618199561, 0.5384460218730684, 0.17784238307294736, 1.1382255533671093, 0.5359731986036957, 0.9587574330258541, 1.2007211206777708, 0.5079600935771152, 0.7775923848704982, 1.0438447231843988, 1.3510743875502882, 0.8556437433428753, 0.5223638419570321, 0.7173123859701748, 0.2985672619313619, 0.9458650210273014, 1.2197902170684638, 0.34316689802647204, 0.809141526202134, 0.7871862068688209, 0.9311929655368785, 1.3787393683670581, 0.8957636671517856, 0.4539354175845559, 0.8016008510497853, 0.038093986874440086, 0.47047138273502004, 0.34374623610744165, 1.0501796650967357, 0.9308260149710634, 1.505301178901468, 0.9340242774223688, 0.6394000750012113, 1.1300743752272766, 0.5444598865598154, 0.8325633953593715, 0.6346180121436328, 0.6514563048377803, 0.7046843012134725, 1.407695428558841, 0.6802682533737574, 0.5572008788939368, 0.6496984071293685, 0.26636212470331705, 0.5077967573830026, 0.6230196359806042, 0.7198618414604192, 0.4017904103068495, 0.8004972339176176, 0.7979304275848319, 0.7662754243499253, 0.6015095446546068, 1.4362628162762507, 1.1889947447989253, 0.7897605059050372, 0.8321507479506399, 0.9686297907187653, 1.017461405157462, 1.0264335718387119, 1.5333910074473838, 0.27424430724888954, 1.0224265963385986, 1.264907874570755, 0.5901924203178452, 1.3004881133305624, 0.3102610987931237, 0.49891110313968035, 0.8754907782773612, 0.49039246618225146, 0.2475000170749883, 0.8375575658120885, 1.3113950954585827, 1.0999099358192574, 1.2437104735874331, 0.6633611529552342, 0.6892758841385617, 0.30151002424870316, 1.2457417443747698, 0.4817124812206047, 0.576774477003513, 1.4528298037749596, 0.7381117899315727, 1.1740962875420566, 1.5367565112679176, 0.5080671540126157, 0.8721151020548399, 1.0623363954733385, 0.5947927525227157, 0.4421512217376065, 1.4625321542113932, 0.6578300146425585, 0.6792795158345841, 0.4118339785193741, 0.8928781716509647, 0.10011335430917867, 0.7870746716222801, 0.603013619848291, 1.0043657106939177, 0.4093069800344699, 0.4930267789817036, 1.6818140207610193, 0.6983737157260071, 0.5006340524436903, 1.0332917373795123, 0.22692884677694816, 0.7485158773177515, 1.1125560921512498, 1.050610091357995, 0.6271084682766925, 1.5999963384733182, 1.1256911216290728, 1.1977225238472415, 0.5917524682881564, 0.5422453842937122, 0.5066716969436177, 0.85518441791702, 0.5925536827860008, 0.9078840638170758, 0.462915389574236, 1.115085588556242, 0.08101834315128387, 1.3497035507461925, 0.5240013293156774, 0.9849913927852492, 0.5161623349441499, 0.6102632084731289, 0.3584475168311336, 1.0004410534410795, 0.913797157091686, 0.43902360234778215, 0.5532996507892184, 0.3803920290093533, 1.3761072410571424, 0.5782024737966759, 0.7143931393830367, 0.5830154280464608, 0.6384303608137797, 1.26981231977528, 0.4876888101704525, 0.9642569950330149, 0.9356444132242742, 0.43763609286973454, 0.46557330884417103, 0.6616637250874448, 0.684330496831886, 0.3490778142228745, 0.6399565630456727, 0.13242855325877634, 0.5431458551339547, 0.5884093567512726, 1.2857306126979344, 0.7449416935797938, 1.2908708687351564, 1.5746698319547145, 0.6954668526206739, 0.7667286918797992, 0.8243757713013791, 1.2068696660662643, 0.6081964186447673, 0.7755541587857626, 0.5204656944621339, 0.9438836333807511, 0.5692236670999876, 0.792012414987497, 0.49244780152218676, 0.21088433741474397, 0.3360390396333654, 0.3554712336865476, 1.0169517617173323, 0.8779675193009744, 0.6880353257158044, 1.1331023836839456, 0.7808844178762229, 1.1049729860256938, 1.402029797681088, 0.25291059467998783, 1.1985256182249027, 1.0072129288634952, 1.078982462539281, 0.0, 0.9271676979407818, 0.6989923193769451, 0.6268293616646612, 0.8211525268546027, 0.5032319467719816, 0.881073916021542, 0.08663431973352549, 0.791538599028472, 1.10945598968697, 1.4817332663926586, 1.1510386056105202, 0.7478175230460251, 0.6813854379940243, 0.7846150971697565, 0.7946364282024582, 0.7324796894224263, 0.7439178115373054, 0.5315587913934235, 1.2319486715239136, 1.0484829225040289], \"sizemode\": \"area\", \"sizeref\": 0.004934475797101786, \"symbol\": \"circle\"}, \"mode\": \"markers\", \"name\": \"\", \"orientation\": \"v\", \"showlegend\": false, \"type\": \"scatter\", \"x\": [0.02381003545168039, 0.014912417931634408, 0.03958684928915139, 0.018968586185895076, 0.04324907364655065, 0.03851826039076764, 0.03580404093156251, 0.01783105971420984, 0.04898868432824022, 0.03751306734752232, 0.020721123658124084, 0.01784360346405702, 0.01542064170805946, 0.023243854331326634, 0.020110450900032346, 0.017304777090125477, 0.021886880979793355, 0.028865068716626266, 0.02975911984645168, 0.03562105816276361, 0.02102504176707481, 0.034367237998857235, 0.02468870683520059, 0.022069430881833826, 0.02187706184388633, 0.045394855523967804, 0.025692313693905924, 0.025321615623085877, 0.023522496323328576, 0.03425309752943014, 0.03919128426646292, 0.021417508427281073, 0.020347480278299756, 0.03413908955598739, 0.017121048144637184, 0.0181346754537598, 0.028469292250723612, 0.035145423537690165, 0.039752134618686354, 0.015961809962652247, 0.04072822757606463, 0.023992015615150096, 0.02536605255131522, 0.024134177113825706, 0.03612036066009751, 0.012928622815094399, 0.021862086908259484, 0.02068817756253505, 0.03614279265862586, 0.04012741876338392, 0.03667828882022748, 0.017207337172206492, 0.020390276493387958, 0.011236572264119653, 0.018813682292910954, 0.04235418366540396, 0.028704110487379808, 0.02601448101220392, 0.0246732717395476, 0.020672395198661438, 0.020333153881755956, 0.03182846198610248, 0.040073150870917014, 0.02065931624240033, 0.029621274940383885, 0.034967493871799205, 0.021541581618319074, 0.016428491486806644, 0.038815425083545727, 0.020212733297724644, 0.020272333403548594, 0.029618840364672192, 0.031184568261718643, 0.03323014678606791, 0.04431781668242379, 0.026259944618145424, 0.027252800990409064, 0.041193263856876446, 0.04718297805756832, 0.03099769532091476, 0.021116488494595624, 0.019279331446454093, 0.03225732391494039, 0.038583693563884934, 0.020989445122542194, 0.027464198229513733, 0.026876144354784644, 0.026593316084776174, 0.013857946377506699, 0.025884026111321266, 0.026037201132832886, 0.025781997621499332, 0.023402097844124604, 0.023245005916270437, 0.023996284101154567, 0.025854383780878096, 0.03425848168204951, 0.017841695337604286, 0.013580270021270454, 0.020576146089786067, 0.01903426930441195, 0.029660117735346082, 0.024230476315832344, 0.04434026736301812, 0.026227102774631965, 0.034791185112676155, 0.0534261703270007, 0.029482612303207437, 0.02629070415641297, 0.01659231781029138, 0.035574545594238866, 0.030136345458291962, 0.03807887062095122, 0.01389914437892455, 0.022661791281273217, 0.022083092776591706, 0.01852703462872108, 0.032799478105357084, 0.017479751767189983, 0.020144781732699256, 0.0290650479373547, 0.032842343275890834, 0.017669260518218828, 0.031106270105948325, 0.02981815251569863, 0.028524131848239112, 0.03928608296662961, 0.020437105373395683, 0.023281209197678954, 0.027375944230951875, 0.03471616723235447, 0.024836787322841607, 0.02706726656754653, 0.03481010664950364, 0.019404763866633597, 0.03155129776892594, 0.015179298938285783, 0.014805213154522231, 0.01823924763672453, 0.02601166874230626, 0.038484910720973674, 0.04122732739071613, 0.023597190406480364, 0.027080821076335842, 0.03627560963333519, 0.017038613300652244, 0.03424578228549246, 0.0387107664700059, 0.03524907152327232, 0.050645431038199476, 0.024014898625253377, 0.03697771877852982, 0.04126175418697949, 0.02064998328460131, 0.034989649231985914, 0.029612824687025262, 0.02688413064006017, 0.022992812960727575, 0.028651593311692532, 0.03825053939571464, 0.03299529502430809, 0.05062259687975399, 0.047050301765145804, 0.025024533288243247, 0.0318148526011928, 0.04189641185671837, 0.0338406405396903, 0.018311025287718434, 0.01788511942340873, 0.026954892695732244, 0.035409026161005525, 0.02592740374738463, 0.01752659649169905, 0.02396827576382929, 0.039278502335209096, 0.029030855588142158, 0.01565590079065928, 0.03423121815427152, 0.03476197315520334, 0.014127111221539927, 0.038327057368014075, 0.043688502627330685, 0.03369987321942808, 0.03751760770095169, 0.018051933336634962, 0.03951013516302018, 0.034575437937461054, 0.02555356876626274, 0.024179006493856903, 0.03194420390646867, 0.026798118601187203, 0.028271954227284568, 0.019244633302887598, 0.034455644076749906, 0.028468136754314855, 0.019160751392597212, 0.01571721571556862, 0.016093723519393026, 0.01615368635896324, 0.03873870789058535, 0.01988297751928217, 0.03603773865220704, 0.02790333680344508, 0.02515773760483597, 0.02748005844187172, 0.02389488191217989, 0.05607913713802724, 0.019928817153291166, 0.028300312128123135, 0.017264867370839772, 0.026380893114588213, 0.05078689727303289, 0.02181181901612129, 0.024304771037362623, 0.019999834486823867, 0.021362640499045814, 0.01669978219060695, 0.02222262168845474, 0.02796357527656092, 0.014287851694453171, 0.024594329838592423, 0.02029753232996622, 0.03592872035612849, 0.01780010675670347, 0.013949056801556978, 0.01544909727722271, 0.01370269072441663, 0.03689770446720766, 0.0316880261702231, 0.02326187912130692, 0.03623123556047994, 0.026089987496101145, 0.034008446045920716, 0.024573911059498094, 0.015572279209263558, 0.02322956046498375], \"xaxis\": \"x\", \"y\": [-0.0009377429870897015, -0.0018962779067769927, -0.0025692532582735437, 0.00012467595070570937, -0.0011986711440961448, 8.954073576176114e-05, -0.0024367793461910463, 2.590426632338329e-05, -0.002376170703104797, -0.0025449198302627775, 0.0034908814893126437, 0.0004738828435233274, 0.002234510058192662, 0.00010596045707991017, 0.0006122073768179824, -0.00012053843825294914, 0.0004901882564329412, -0.0009840298994616655, 0.0011532068126553796, 0.005702516734384283, -0.0002497787303978689, 0.0007992755818404765, 0.002059474828876386, 0.0005228146231005591, -0.0010658938577249475, 0.0018016706370175908, -0.0007670725193198629, -0.00024744176407360164, -0.00021762669138399187, -0.0037668750082906306, -0.0015593108170927756, -0.001332655085677474, -0.0003357797698747537, 0.000739528297531081, -6.140442812767708e-05, -0.0007898915272554131, -0.0015484217105074171, -0.0025776470110181362, -0.005330487362874576, 0.00044217972049915915, -0.003004070037324364, -6.0761837232948974e-05, 0.0009697686454303791, -0.0018940086697156343, -0.0011939009856654099, 0.00015258418170323285, 0.001389574661422696, -0.00041177993045199695, -0.0027487202171380108, -0.001733856024584198, -0.00417232502439619, -8.095306285829434e-05, 0.0008450450170000686, -0.0011937839840744787, -0.0005218601792184667, -0.0013314943502001034, -0.00020599112615118158, 0.0017747506870935913, -0.00032433328097837625, -0.001810484223222053, -0.0005898385238079243, -0.005017326726306118, -0.003397962363917928, -0.002192848780465323, 0.0003812047850162899, -0.00025310113332501914, 0.0019289080797802404, -0.00011006059350703148, -0.0021866523817679253, 0.000532183644582345, -0.0014662810325945656, -0.0007047049991255205, -0.0017818942388621829, -0.0018045137639820137, -0.0020092018481267866, 0.0019195983730066926, -0.001347639408946542, -0.0028910543981629493, -0.002576174898731918, -0.003694312015761982, -0.0016577667288581754, -0.0011392972806830914, -0.001379944267377085, -0.0037181042445429513, -0.000612779169346408, -0.0008136835352297252, -0.0009395892554575661, -0.0016678804065402566, 0.001079708674054253, 0.0009384363702411617, -0.0008072429958344654, -0.0006152094094108931, -2.0345611281877512e-05, 0.00017101943174185623, 0.00021281807759329868, 0.0024374416856891095, -0.0040374410940098885, 0.0001461901964508379, 0.0006660373808636003, -0.0013297256826041582, 0.001047621047288698, -0.0033155434697525457, -0.0019385049589281094, -0.0007342967370737161, -0.002135879944538664, -0.00425697667438123, -0.0012261888997562454, 0.001676858231075023, 0.0005586073737403916, 0.0007545085660078033, -0.0018604743301464028, -0.0014444971639120032, -0.0043127694629858495, 0.0006367972933020507, -0.0018786671599022732, -0.0014770307481612828, 0.0014951991029964855, -0.0013022931462666352, 0.0005898627270032447, 0.0019105864096245911, -0.0022804506928223115, -0.0005625628458690219, 0.00026357820730705785, -0.001986123101361359, -0.0026706651938524606, 0.002348625400606703, -0.002091187891785957, -0.001014010417744273, -0.0022040929818205857, -0.00037316820770904056, -0.005109806563560919, -0.0007812642210722098, -0.0016907470429600368, 0.00017930780261036532, -0.0018453608089980397, -0.0025554686321758386, 0.0018105949856668537, -0.0006869523046038597, -0.0014538959236570508, 0.00026074580926724734, -0.004842307251184889, -0.0015646561325482655, 0.0005516510637915212, 0.00035047467964064295, -0.002118691034153714, 0.0017975181633936217, 0.0008763729481872696, 0.0014603943019365683, -0.0022686937665029367, -0.003682036572006166, -0.0018898604721873686, -0.0007388703086219419, -0.0026501113316600507, -0.00022928103939713685, -0.003011452256052399, 0.0007049028414175085, -0.004043508395880678, 0.0014561346024344044, -0.0021710978684222346, 7.218035786554802e-05, -0.0025438200874775534, -0.003100295053402487, -0.0048775456288085665, 0.00011235618223789615, -0.00032155366874718234, -0.0037745310499113227, -0.0023972688357365287, -0.0018305464587013076, 0.0012122214024809408, -0.001796397115440571, -0.0015473944507947755, -0.0017068976635672198, -0.0009902175008178872, 0.0011953155945352363, -0.003216649137075457, -4.662576632011442e-05, -0.00010061153925979256, -0.0030919601683875, -0.0029762911946190555, -0.0007428582316020428, -0.0018690269789003765, -0.004598002065498847, -0.0018953102809680755, -0.005317894448816419, -0.0013096775778489043, -0.002565196123013325, 0.0018170252793052496, -0.0009851938049245704, 0.0012916054160422169, 0.003233711486618544, -0.0012565388829941623, -0.0009862278310053118, -0.0004844225228484156, 0.0013529631514039124, -0.001753395095165665, -0.0006399075223264587, -0.0012003467669176602, -8.108613910692704e-05, -0.0011009903954707484, -0.001186336861660993, -0.0016123430475193034, -0.004631805927881295, -0.0029979838050507874, -0.002620631987406953, 0.00019981836887429365, -0.0003857407729861392, -0.00269970899389675, 0.0005348746212354887, -0.0009197261637337533, 0.00038155882785406166, 0.0019032594685241444, -0.006167885382303467, 0.0008258192100897907, 0.0001368528035176665, 0.00035443084495316964, -0.003504630106911867, -0.00013116842189674367, -0.0010287993060013464, -0.0016345383228600033, -0.00036740986379321704, -0.0019497112638500107, -0.0003170455182298146, -0.005369867207858746, -0.0005465325659009394, 0.00031881343335242836, 0.0013220255404943987, 0.00040917557803454667, -0.0014046797116180657, -0.0015609953471427403, -0.000741362900288964, -0.0010935312326740896, -0.0010606500731821325, -0.0013170298670424966, -0.001830820581209636, 0.0006772673913921159, 0.00029230779292948147], \"yaxis\": \"y\"}, {\"marker\": {\"color\": \"Blue\", \"size\": 20}, \"mode\": \"markers\", \"name\": \"UNIFORM\", \"text\": [\"Uniform Portfolio\"], \"type\": \"scatter\", \"x\": [0.027694780249859798], \"xaxis\": \"x\", \"y\": [-0.0009413687195844739], \"yaxis\": \"y\"}, {\"marker\": {\"color\": \"Black\", \"size\": 20}, \"mode\": \"markers\", \"name\": \"NIFTY-50\", \"text\": [\"NIFTY-50\"], \"type\": \"scatter\", \"x\": [0.016022883945035562], \"y\": [0.0005365371993693484]}, {\"marker\": {\"color\": \"Magenta\", \"size\": 20}, \"mode\": \"markers\", \"name\": \"Best VaR\", \"text\": [\"Best VaR\"], \"type\": \"scatter\", \"x\": [0.013580270021270454], \"y\": [0.0006660373808636003]}],                        {\"coloraxis\": {\"colorbar\": {\"title\": {\"text\": \"color\"}}, \"colorscale\": [[0.0, \"rgb(165,0,38)\"], [0.1, \"rgb(215,48,39)\"], [0.2, \"rgb(244,109,67)\"], [0.3, \"rgb(253,174,97)\"], [0.4, \"rgb(254,224,139)\"], [0.5, \"rgb(255,255,191)\"], [0.6, \"rgb(217,239,139)\"], [0.7, \"rgb(166,217,106)\"], [0.8, \"rgb(102,189,99)\"], [0.9, \"rgb(26,152,80)\"], [1.0, \"rgb(0,104,55)\"]]}, \"legend\": {\"font\": {\"family\": \"Courier\", \"size\": 10}, \"itemsizing\": \"constant\", \"tracegroupgap\": 0, \"traceorder\": \"normal\", \"x\": 0.89, \"y\": 1}, \"margin\": {\"t\": 60}, \"template\": {\"data\": {\"bar\": [{\"error_x\": {\"color\": \"#2a3f5f\"}, \"error_y\": {\"color\": \"#2a3f5f\"}, \"marker\": {\"line\": {\"color\": \"#E5ECF6\", \"width\": 0.5}}, \"type\": \"bar\"}], \"barpolar\": [{\"marker\": {\"line\": {\"color\": \"#E5ECF6\", \"width\": 0.5}}, \"type\": \"barpolar\"}], \"carpet\": [{\"aaxis\": {\"endlinecolor\": \"#2a3f5f\", \"gridcolor\": \"white\", \"linecolor\": \"white\", \"minorgridcolor\": \"white\", \"startlinecolor\": \"#2a3f5f\"}, \"baxis\": {\"endlinecolor\": \"#2a3f5f\", \"gridcolor\": \"white\", \"linecolor\": \"white\", \"minorgridcolor\": \"white\", \"startlinecolor\": \"#2a3f5f\"}, \"type\": \"carpet\"}], \"choropleth\": [{\"colorbar\": {\"outlinewidth\": 0, \"ticks\": \"\"}, \"type\": \"choropleth\"}], \"contour\": [{\"colorbar\": {\"outlinewidth\": 0, \"ticks\": \"\"}, \"colorscale\": [[0.0, \"#0d0887\"], [0.1111111111111111, \"#46039f\"], [0.2222222222222222, \"#7201a8\"], [0.3333333333333333, \"#9c179e\"], [0.4444444444444444, \"#bd3786\"], [0.5555555555555556, \"#d8576b\"], [0.6666666666666666, \"#ed7953\"], [0.7777777777777778, \"#fb9f3a\"], [0.8888888888888888, \"#fdca26\"], [1.0, \"#f0f921\"]], \"type\": \"contour\"}], \"contourcarpet\": [{\"colorbar\": {\"outlinewidth\": 0, \"ticks\": \"\"}, \"type\": \"contourcarpet\"}], \"heatmap\": [{\"colorbar\": {\"outlinewidth\": 0, \"ticks\": \"\"}, \"colorscale\": [[0.0, \"#0d0887\"], [0.1111111111111111, \"#46039f\"], [0.2222222222222222, \"#7201a8\"], [0.3333333333333333, \"#9c179e\"], [0.4444444444444444, \"#bd3786\"], [0.5555555555555556, \"#d8576b\"], [0.6666666666666666, \"#ed7953\"], [0.7777777777777778, \"#fb9f3a\"], [0.8888888888888888, \"#fdca26\"], [1.0, \"#f0f921\"]], \"type\": \"heatmap\"}], \"heatmapgl\": [{\"colorbar\": {\"outlinewidth\": 0, \"ticks\": \"\"}, \"colorscale\": [[0.0, \"#0d0887\"], [0.1111111111111111, \"#46039f\"], [0.2222222222222222, \"#7201a8\"], [0.3333333333333333, \"#9c179e\"], [0.4444444444444444, \"#bd3786\"], [0.5555555555555556, \"#d8576b\"], [0.6666666666666666, \"#ed7953\"], [0.7777777777777778, \"#fb9f3a\"], [0.8888888888888888, \"#fdca26\"], [1.0, \"#f0f921\"]], \"type\": \"heatmapgl\"}], \"histogram\": [{\"marker\": {\"colorbar\": {\"outlinewidth\": 0, \"ticks\": \"\"}}, \"type\": \"histogram\"}], \"histogram2d\": [{\"colorbar\": {\"outlinewidth\": 0, \"ticks\": \"\"}, \"colorscale\": [[0.0, \"#0d0887\"], [0.1111111111111111, \"#46039f\"], [0.2222222222222222, \"#7201a8\"], [0.3333333333333333, \"#9c179e\"], [0.4444444444444444, \"#bd3786\"], [0.5555555555555556, \"#d8576b\"], [0.6666666666666666, \"#ed7953\"], [0.7777777777777778, \"#fb9f3a\"], [0.8888888888888888, \"#fdca26\"], [1.0, \"#f0f921\"]], \"type\": \"histogram2d\"}], \"histogram2dcontour\": [{\"colorbar\": {\"outlinewidth\": 0, \"ticks\": \"\"}, \"colorscale\": [[0.0, \"#0d0887\"], [0.1111111111111111, \"#46039f\"], [0.2222222222222222, \"#7201a8\"], [0.3333333333333333, \"#9c179e\"], [0.4444444444444444, \"#bd3786\"], [0.5555555555555556, \"#d8576b\"], [0.6666666666666666, \"#ed7953\"], [0.7777777777777778, \"#fb9f3a\"], [0.8888888888888888, \"#fdca26\"], [1.0, \"#f0f921\"]], \"type\": \"histogram2dcontour\"}], \"mesh3d\": [{\"colorbar\": {\"outlinewidth\": 0, \"ticks\": \"\"}, \"type\": \"mesh3d\"}], \"parcoords\": [{\"line\": {\"colorbar\": {\"outlinewidth\": 0, \"ticks\": \"\"}}, \"type\": \"parcoords\"}], \"pie\": [{\"automargin\": true, \"type\": \"pie\"}], \"scatter\": [{\"marker\": {\"colorbar\": {\"outlinewidth\": 0, \"ticks\": \"\"}}, \"type\": \"scatter\"}], \"scatter3d\": [{\"line\": {\"colorbar\": {\"outlinewidth\": 0, \"ticks\": \"\"}}, \"marker\": {\"colorbar\": {\"outlinewidth\": 0, \"ticks\": \"\"}}, \"type\": \"scatter3d\"}], \"scattercarpet\": [{\"marker\": {\"colorbar\": {\"outlinewidth\": 0, \"ticks\": \"\"}}, \"type\": \"scattercarpet\"}], \"scattergeo\": [{\"marker\": {\"colorbar\": {\"outlinewidth\": 0, \"ticks\": \"\"}}, \"type\": \"scattergeo\"}], \"scattergl\": [{\"marker\": {\"colorbar\": {\"outlinewidth\": 0, \"ticks\": \"\"}}, \"type\": \"scattergl\"}], \"scattermapbox\": [{\"marker\": {\"colorbar\": {\"outlinewidth\": 0, \"ticks\": \"\"}}, \"type\": \"scattermapbox\"}], \"scatterpolar\": [{\"marker\": {\"colorbar\": {\"outlinewidth\": 0, \"ticks\": \"\"}}, \"type\": \"scatterpolar\"}], \"scatterpolargl\": [{\"marker\": {\"colorbar\": {\"outlinewidth\": 0, \"ticks\": \"\"}}, \"type\": \"scatterpolargl\"}], \"scatterternary\": [{\"marker\": {\"colorbar\": {\"outlinewidth\": 0, \"ticks\": \"\"}}, \"type\": \"scatterternary\"}], \"surface\": [{\"colorbar\": {\"outlinewidth\": 0, \"ticks\": \"\"}, \"colorscale\": [[0.0, \"#0d0887\"], [0.1111111111111111, \"#46039f\"], [0.2222222222222222, \"#7201a8\"], [0.3333333333333333, \"#9c179e\"], [0.4444444444444444, \"#bd3786\"], [0.5555555555555556, \"#d8576b\"], [0.6666666666666666, \"#ed7953\"], [0.7777777777777778, \"#fb9f3a\"], [0.8888888888888888, \"#fdca26\"], [1.0, \"#f0f921\"]], \"type\": \"surface\"}], \"table\": [{\"cells\": {\"fill\": {\"color\": \"#EBF0F8\"}, \"line\": {\"color\": \"white\"}}, \"header\": {\"fill\": {\"color\": \"#C8D4E3\"}, \"line\": {\"color\": \"white\"}}, \"type\": \"table\"}]}, \"layout\": {\"annotationdefaults\": {\"arrowcolor\": \"#2a3f5f\", \"arrowhead\": 0, \"arrowwidth\": 1}, \"autotypenumbers\": \"strict\", \"coloraxis\": {\"colorbar\": {\"outlinewidth\": 0, \"ticks\": \"\"}}, \"colorscale\": {\"diverging\": [[0, \"#8e0152\"], [0.1, \"#c51b7d\"], [0.2, \"#de77ae\"], [0.3, \"#f1b6da\"], [0.4, \"#fde0ef\"], [0.5, \"#f7f7f7\"], [0.6, \"#e6f5d0\"], [0.7, \"#b8e186\"], [0.8, \"#7fbc41\"], [0.9, \"#4d9221\"], [1, \"#276419\"]], \"sequential\": [[0.0, \"#0d0887\"], [0.1111111111111111, \"#46039f\"], [0.2222222222222222, \"#7201a8\"], [0.3333333333333333, \"#9c179e\"], [0.4444444444444444, \"#bd3786\"], [0.5555555555555556, \"#d8576b\"], [0.6666666666666666, \"#ed7953\"], [0.7777777777777778, \"#fb9f3a\"], [0.8888888888888888, \"#fdca26\"], [1.0, \"#f0f921\"]], \"sequentialminus\": [[0.0, \"#0d0887\"], [0.1111111111111111, \"#46039f\"], [0.2222222222222222, \"#7201a8\"], [0.3333333333333333, \"#9c179e\"], [0.4444444444444444, \"#bd3786\"], [0.5555555555555556, \"#d8576b\"], [0.6666666666666666, \"#ed7953\"], [0.7777777777777778, \"#fb9f3a\"], [0.8888888888888888, \"#fdca26\"], [1.0, \"#f0f921\"]]}, \"colorway\": [\"#636efa\", \"#EF553B\", \"#00cc96\", \"#ab63fa\", \"#FFA15A\", \"#19d3f3\", \"#FF6692\", \"#B6E880\", \"#FF97FF\", \"#FECB52\"], \"font\": {\"color\": \"#2a3f5f\"}, \"geo\": {\"bgcolor\": \"white\", \"lakecolor\": \"white\", \"landcolor\": \"#E5ECF6\", \"showlakes\": true, \"showland\": true, \"subunitcolor\": \"white\"}, \"hoverlabel\": {\"align\": \"left\"}, \"hovermode\": \"closest\", \"mapbox\": {\"style\": \"light\"}, \"paper_bgcolor\": \"white\", \"plot_bgcolor\": \"#E5ECF6\", \"polar\": {\"angularaxis\": {\"gridcolor\": \"white\", \"linecolor\": \"white\", \"ticks\": \"\"}, \"bgcolor\": \"#E5ECF6\", \"radialaxis\": {\"gridcolor\": \"white\", \"linecolor\": \"white\", \"ticks\": \"\"}}, \"scene\": {\"xaxis\": {\"backgroundcolor\": \"#E5ECF6\", \"gridcolor\": \"white\", \"gridwidth\": 2, \"linecolor\": \"white\", \"showbackground\": true, \"ticks\": \"\", \"zerolinecolor\": \"white\"}, \"yaxis\": {\"backgroundcolor\": \"#E5ECF6\", \"gridcolor\": \"white\", \"gridwidth\": 2, \"linecolor\": \"white\", \"showbackground\": true, \"ticks\": \"\", \"zerolinecolor\": \"white\"}, \"zaxis\": {\"backgroundcolor\": \"#E5ECF6\", \"gridcolor\": \"white\", \"gridwidth\": 2, \"linecolor\": \"white\", \"showbackground\": true, \"ticks\": \"\", \"zerolinecolor\": \"white\"}}, \"shapedefaults\": {\"line\": {\"color\": \"#2a3f5f\"}}, \"ternary\": {\"aaxis\": {\"gridcolor\": \"white\", \"linecolor\": \"white\", \"ticks\": \"\"}, \"baxis\": {\"gridcolor\": \"white\", \"linecolor\": \"white\", \"ticks\": \"\"}, \"bgcolor\": \"#E5ECF6\", \"caxis\": {\"gridcolor\": \"white\", \"linecolor\": \"white\", \"ticks\": \"\"}}, \"title\": {\"x\": 0.05}, \"xaxis\": {\"automargin\": true, \"gridcolor\": \"white\", \"linecolor\": \"white\", \"ticks\": \"\", \"title\": {\"standoff\": 15}, \"zerolinecolor\": \"white\", \"zerolinewidth\": 2}, \"yaxis\": {\"automargin\": true, \"gridcolor\": \"white\", \"linecolor\": \"white\", \"ticks\": \"\", \"title\": {\"standoff\": 15}, \"zerolinecolor\": \"white\", \"zerolinewidth\": 2}}}, \"xaxis\": {\"anchor\": \"y\", \"domain\": [0.0, 1.0], \"title\": {\"text\": \"logret_std\"}}, \"yaxis\": {\"anchor\": \"x\", \"domain\": [0.0, 1.0], \"title\": {\"text\": \"logret_mean\"}}},                        {\"responsive\": true}                    ).then(function(){\n",
       "                            \n",
       "var gd = document.getElementById('f672a8e4-1b93-4b7c-8482-59cfccee8c8b');\n",
       "var x = new MutationObserver(function (mutations, observer) {{\n",
       "        var display = window.getComputedStyle(gd).display;\n",
       "        if (!display || display === 'none') {{\n",
       "            console.log([gd, 'removed!']);\n",
       "            Plotly.purge(gd);\n",
       "            observer.disconnect();\n",
       "        }}\n",
       "}});\n",
       "\n",
       "// Listen for the removal of the full notebook cells\n",
       "var notebookContainer = gd.closest('#notebook-container');\n",
       "if (notebookContainer) {{\n",
       "    x.observe(notebookContainer, {childList: true});\n",
       "}}\n",
       "\n",
       "// Listen for the clearing of the current output cell\n",
       "var outputEl = gd.closest('.output');\n",
       "if (outputEl) {{\n",
       "    x.observe(outputEl, {childList: true});\n",
       "}}\n",
       "\n",
       "                        })                };                });            </script>        </div>"
      ]
     },
     "metadata": {},
     "output_type": "display_data"
    }
   ],
   "source": [
    "tickersVaRs = tickersVaRs.sort_values(by='VaR-95', ascending=False)\n",
    "best_VaR_ticker = tickersVaRs['ticker'].iloc[0]\n",
    "best_VaR_mean = estims.loc[best_VaR_ticker]['logret_mean']\n",
    "best_VaR_std = estims.loc[best_VaR_ticker]['logret_std']\n",
    "\n",
    "print(f'std:{best_VaR_std}, mean:{best_VaR_mean}')\n",
    "fig.add_scatter(x=[best_VaR_std], y=[best_VaR_mean], mode=\"markers\",\n",
    "                marker=dict(size=20, color=\"Pink\"), text=['Best VaR'], name='Best VaR')\n",
    "\n",
    "fig.update_layout(\n",
    "    legend = dict(\n",
    "        x=0.89,\n",
    "        y=1,\n",
    "        traceorder=\"normal\",\n",
    "        font = dict(family = \"Courier\", size = 10)\n",
    "    )\n",
    ")\n"
   ]
  },
  {
   "cell_type": "markdown",
   "metadata": {},
   "source": [
    "## 6 - White Noise Check"
   ]
  },
  {
   "cell_type": "code",
   "execution_count": null,
   "metadata": {},
   "outputs": [],
   "source": []
  }
 ],
 "metadata": {
  "kernelspec": {
   "display_name": "Python 3",
   "language": "python",
   "name": "python3"
  },
  "language_info": {
   "codemirror_mode": {
    "name": "ipython",
    "version": 3
   },
   "file_extension": ".py",
   "mimetype": "text/x-python",
   "name": "python",
   "nbconvert_exporter": "python",
   "pygments_lexer": "ipython3",
   "version": "3.8.10"
  }
 },
 "nbformat": 4,
 "nbformat_minor": 4
}
