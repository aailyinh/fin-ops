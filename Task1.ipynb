{
 "cells": [
  {
   "cell_type": "code",
   "execution_count": 118,
   "metadata": {},
   "outputs": [],
   "source": [
    "import numpy as np\n",
    "import pandas as pd\n",
    "import os"
   ]
  },
  {
   "cell_type": "code",
   "execution_count": 119,
   "metadata": {},
   "outputs": [],
   "source": [
    "BASE_PATH    = 'Datasets/'\n",
    "DATA_PATH    = f'{BASE_PATH}/SCRIP/'\n",
    "INDEX_PATH   = f'{BASE_PATH}/INDEX/'\n",
    "TICKERS_PATH = f'{BASE_PATH}NSE Symbols.CSV'"
   ]
  },
  {
   "cell_type": "markdown",
   "metadata": {},
   "source": [
    "## 1 - data collection"
   ]
  },
  {
   "cell_type": "code",
   "execution_count": 120,
   "metadata": {},
   "outputs": [],
   "source": [
    "# !python3 downloader.py --tickers TICKERS_PATH --start 2019-01-01 --end 2020-01-01"
   ]
  },
  {
   "cell_type": "markdown",
   "metadata": {},
   "source": [
    "### read tickers"
   ]
  },
  {
   "cell_type": "code",
   "execution_count": 121,
   "metadata": {},
   "outputs": [
    {
     "data": {
      "text/html": [
       "<div>\n",
       "<style scoped>\n",
       "    .dataframe tbody tr th:only-of-type {\n",
       "        vertical-align: middle;\n",
       "    }\n",
       "\n",
       "    .dataframe tbody tr th {\n",
       "        vertical-align: top;\n",
       "    }\n",
       "\n",
       "    .dataframe thead th {\n",
       "        text-align: right;\n",
       "    }\n",
       "</style>\n",
       "<table border=\"1\" class=\"dataframe\">\n",
       "  <thead>\n",
       "    <tr style=\"text-align: right;\">\n",
       "      <th></th>\n",
       "      <th>Scrip</th>\n",
       "      <th>Company Name</th>\n",
       "    </tr>\n",
       "  </thead>\n",
       "  <tbody>\n",
       "    <tr>\n",
       "      <th>0</th>\n",
       "      <td>20MICRONS</td>\n",
       "      <td>20 Microns Limited</td>\n",
       "    </tr>\n",
       "    <tr>\n",
       "      <th>1</th>\n",
       "      <td>21STCENMGM</td>\n",
       "      <td>21st Century Management Services Limited</td>\n",
       "    </tr>\n",
       "    <tr>\n",
       "      <th>2</th>\n",
       "      <td>3IINFOTECH</td>\n",
       "      <td>3i Infotech Limited</td>\n",
       "    </tr>\n",
       "    <tr>\n",
       "      <th>3</th>\n",
       "      <td>3MINDIA</td>\n",
       "      <td>3M India Limited</td>\n",
       "    </tr>\n",
       "    <tr>\n",
       "      <th>4</th>\n",
       "      <td>5PAISA</td>\n",
       "      <td>5Paisa Capital Limited</td>\n",
       "    </tr>\n",
       "    <tr>\n",
       "      <th>...</th>\n",
       "      <td>...</td>\n",
       "      <td>...</td>\n",
       "    </tr>\n",
       "    <tr>\n",
       "      <th>231</th>\n",
       "      <td>CONTROLPR</td>\n",
       "      <td>Control Print Limited</td>\n",
       "    </tr>\n",
       "    <tr>\n",
       "      <th>232</th>\n",
       "      <td>CORALFINAC</td>\n",
       "      <td>Coral India Finance &amp; Housing Limited</td>\n",
       "    </tr>\n",
       "    <tr>\n",
       "      <th>233</th>\n",
       "      <td>CORDSCABLE</td>\n",
       "      <td>Cords Cable Industries Limited</td>\n",
       "    </tr>\n",
       "    <tr>\n",
       "      <th>234</th>\n",
       "      <td>COROMANDEL</td>\n",
       "      <td>Coromandel International Limited</td>\n",
       "    </tr>\n",
       "    <tr>\n",
       "      <th>235</th>\n",
       "      <td>COSMOFILMS</td>\n",
       "      <td>Cosmo Films Limited</td>\n",
       "    </tr>\n",
       "  </tbody>\n",
       "</table>\n",
       "<p>236 rows × 2 columns</p>\n",
       "</div>"
      ],
      "text/plain": [
       "          Scrip                              Company Name\n",
       "0     20MICRONS                        20 Microns Limited\n",
       "1    21STCENMGM  21st Century Management Services Limited\n",
       "2    3IINFOTECH                       3i Infotech Limited\n",
       "3       3MINDIA                          3M India Limited\n",
       "4        5PAISA                    5Paisa Capital Limited\n",
       "..          ...                                       ...\n",
       "231   CONTROLPR                     Control Print Limited\n",
       "232  CORALFINAC     Coral India Finance & Housing Limited\n",
       "233  CORDSCABLE            Cords Cable Industries Limited\n",
       "234  COROMANDEL          Coromandel International Limited\n",
       "235  COSMOFILMS                       Cosmo Films Limited\n",
       "\n",
       "[236 rows x 2 columns]"
      ]
     },
     "execution_count": 121,
     "metadata": {},
     "output_type": "execute_result"
    }
   ],
   "source": [
    "tickers = pd.read_csv(TICKERS_PATH)\n",
    "tickers"
   ]
  },
  {
   "cell_type": "markdown",
   "metadata": {},
   "source": [
    "### filter by date & number of entries"
   ]
  },
  {
   "cell_type": "code",
   "execution_count": 122,
   "metadata": {},
   "outputs": [
    {
     "data": {
      "text/html": [
       "<div>\n",
       "<style scoped>\n",
       "    .dataframe tbody tr th:only-of-type {\n",
       "        vertical-align: middle;\n",
       "    }\n",
       "\n",
       "    .dataframe tbody tr th {\n",
       "        vertical-align: top;\n",
       "    }\n",
       "\n",
       "    .dataframe thead th {\n",
       "        text-align: right;\n",
       "    }\n",
       "</style>\n",
       "<table border=\"1\" class=\"dataframe\">\n",
       "  <thead>\n",
       "    <tr style=\"text-align: right;\">\n",
       "      <th></th>\n",
       "      <th>ticker</th>\n",
       "      <th>entries</th>\n",
       "    </tr>\n",
       "  </thead>\n",
       "  <tbody>\n",
       "    <tr>\n",
       "      <th>0</th>\n",
       "      <td>20MICRONS</td>\n",
       "      <td>245</td>\n",
       "    </tr>\n",
       "    <tr>\n",
       "      <th>161</th>\n",
       "      <td>BIOCON</td>\n",
       "      <td>245</td>\n",
       "    </tr>\n",
       "    <tr>\n",
       "      <th>148</th>\n",
       "      <td>BGRENERGY</td>\n",
       "      <td>245</td>\n",
       "    </tr>\n",
       "    <tr>\n",
       "      <th>149</th>\n",
       "      <td>BHAGERIA</td>\n",
       "      <td>245</td>\n",
       "    </tr>\n",
       "    <tr>\n",
       "      <th>150</th>\n",
       "      <td>BHAGYANGR</td>\n",
       "      <td>245</td>\n",
       "    </tr>\n",
       "    <tr>\n",
       "      <th>...</th>\n",
       "      <td>...</td>\n",
       "      <td>...</td>\n",
       "    </tr>\n",
       "    <tr>\n",
       "      <th>61</th>\n",
       "      <td>ANIKINDS</td>\n",
       "      <td>223</td>\n",
       "    </tr>\n",
       "    <tr>\n",
       "      <th>185</th>\n",
       "      <td>CALSOFT</td>\n",
       "      <td>220</td>\n",
       "    </tr>\n",
       "    <tr>\n",
       "      <th>212</th>\n",
       "      <td>CHALET</td>\n",
       "      <td>218</td>\n",
       "    </tr>\n",
       "    <tr>\n",
       "      <th>112</th>\n",
       "      <td>BAGFILMS</td>\n",
       "      <td>217</td>\n",
       "    </tr>\n",
       "    <tr>\n",
       "      <th>78</th>\n",
       "      <td>ARSSINFRA</td>\n",
       "      <td>200</td>\n",
       "    </tr>\n",
       "  </tbody>\n",
       "</table>\n",
       "<p>236 rows × 2 columns</p>\n",
       "</div>"
      ],
      "text/plain": [
       "        ticker entries\n",
       "0    20MICRONS     245\n",
       "161     BIOCON     245\n",
       "148  BGRENERGY     245\n",
       "149   BHAGERIA     245\n",
       "150  BHAGYANGR     245\n",
       "..         ...     ...\n",
       "61    ANIKINDS     223\n",
       "185    CALSOFT     220\n",
       "212     CHALET     218\n",
       "112   BAGFILMS     217\n",
       "78   ARSSINFRA     200\n",
       "\n",
       "[236 rows x 2 columns]"
      ]
     },
     "execution_count": 122,
     "metadata": {},
     "output_type": "execute_result"
    }
   ],
   "source": [
    "entries_info = pd.DataFrame(data=[], columns=['ticker', 'entries'])\n",
    "valid_indices = []\n",
    "\n",
    "need_filter = True\n",
    "entries_threshold = 200\n",
    "\n",
    "if need_filter:\n",
    "    for index, (ticker, name) in tickers.iterrows():\n",
    "        try:\n",
    "            data = pd.read_csv(f'{DATA_PATH}{ticker}.csv')\n",
    "            data = data.loc[data['Date'].str.startswith('2019')]\n",
    "            if len(data) >= entries_threshold:\n",
    "                data.to_csv(f'{DATA_PATH}{ticker}.csv', index=False)\n",
    "                valid_indices.append(index)\n",
    "            else:\n",
    "                os.remove(f'{DATA_PATH}{ticker}.csv')\n",
    "            entries_info = entries_info.append({'ticker': ticker,\n",
    "                                                'entries': len(data)}, \n",
    "                                                ignore_index=True)\n",
    "        except:\n",
    "            pass\n",
    "    \n",
    "    tickers = tickers.loc[tickers.index.isin(valid_indices)]\n",
    "    tickers.to_csv(TICKERS_PATH, index=False)\n",
    "    \n",
    "entries_info = entries_info.sort_values(by='entries', ascending=False)\n",
    "entries_info"
   ]
  },
  {
   "cell_type": "code",
   "execution_count": 123,
   "metadata": {},
   "outputs": [],
   "source": [
    "data_for_ticker = {}\n",
    "for index, (ticker, name) in tickers.iterrows():\n",
    "    data_for_ticker[ticker] = pd.read_csv(f'{DATA_PATH}{ticker}.csv')"
   ]
  },
  {
   "cell_type": "markdown",
   "metadata": {},
   "source": [
    "## 2 - assets map"
   ]
  },
  {
   "cell_type": "markdown",
   "metadata": {},
   "source": [
    "### compute log return"
   ]
  },
  {
   "cell_type": "code",
   "execution_count": 124,
   "metadata": {},
   "outputs": [],
   "source": [
    "for ticker, data in data_for_ticker.items():\n",
    "    data_for_ticker[ticker] = data.assign(logret=np.log(data.Close).diff())"
   ]
  },
  {
   "cell_type": "code",
   "execution_count": 125,
   "metadata": {},
   "outputs": [
    {
     "data": {
      "text/html": [
       "<div>\n",
       "<style scoped>\n",
       "    .dataframe tbody tr th:only-of-type {\n",
       "        vertical-align: middle;\n",
       "    }\n",
       "\n",
       "    .dataframe tbody tr th {\n",
       "        vertical-align: top;\n",
       "    }\n",
       "\n",
       "    .dataframe thead th {\n",
       "        text-align: right;\n",
       "    }\n",
       "</style>\n",
       "<table border=\"1\" class=\"dataframe\">\n",
       "  <thead>\n",
       "    <tr style=\"text-align: right;\">\n",
       "      <th></th>\n",
       "      <th>Date</th>\n",
       "      <th>Symbol</th>\n",
       "      <th>Series</th>\n",
       "      <th>Prev Close</th>\n",
       "      <th>Open</th>\n",
       "      <th>High</th>\n",
       "      <th>Low</th>\n",
       "      <th>Last</th>\n",
       "      <th>Close</th>\n",
       "      <th>VWAP</th>\n",
       "      <th>Volume</th>\n",
       "      <th>Turnover</th>\n",
       "      <th>Trades</th>\n",
       "      <th>Deliverable Volume</th>\n",
       "      <th>%Deliverble</th>\n",
       "      <th>logret</th>\n",
       "    </tr>\n",
       "  </thead>\n",
       "  <tbody>\n",
       "    <tr>\n",
       "      <th>0</th>\n",
       "      <td>2019-01-01</td>\n",
       "      <td>BAGFILMS</td>\n",
       "      <td>EQ</td>\n",
       "      <td>4.95</td>\n",
       "      <td>5.00</td>\n",
       "      <td>5.15</td>\n",
       "      <td>4.85</td>\n",
       "      <td>5.00</td>\n",
       "      <td>4.95</td>\n",
       "      <td>5.01</td>\n",
       "      <td>202343</td>\n",
       "      <td>1.013573e+11</td>\n",
       "      <td>254.0</td>\n",
       "      <td>147939.0</td>\n",
       "      <td>0.7311</td>\n",
       "      <td>NaN</td>\n",
       "    </tr>\n",
       "    <tr>\n",
       "      <th>1</th>\n",
       "      <td>2019-01-02</td>\n",
       "      <td>BAGFILMS</td>\n",
       "      <td>EQ</td>\n",
       "      <td>4.95</td>\n",
       "      <td>4.90</td>\n",
       "      <td>5.00</td>\n",
       "      <td>4.85</td>\n",
       "      <td>4.95</td>\n",
       "      <td>4.90</td>\n",
       "      <td>4.92</td>\n",
       "      <td>66516</td>\n",
       "      <td>3.272127e+10</td>\n",
       "      <td>162.0</td>\n",
       "      <td>58430.0</td>\n",
       "      <td>0.8784</td>\n",
       "      <td>-0.010152</td>\n",
       "    </tr>\n",
       "    <tr>\n",
       "      <th>2</th>\n",
       "      <td>2019-01-03</td>\n",
       "      <td>BAGFILMS</td>\n",
       "      <td>EQ</td>\n",
       "      <td>4.90</td>\n",
       "      <td>4.90</td>\n",
       "      <td>5.00</td>\n",
       "      <td>4.85</td>\n",
       "      <td>4.90</td>\n",
       "      <td>4.85</td>\n",
       "      <td>4.92</td>\n",
       "      <td>52702</td>\n",
       "      <td>2.590396e+10</td>\n",
       "      <td>109.0</td>\n",
       "      <td>38203.0</td>\n",
       "      <td>0.7249</td>\n",
       "      <td>-0.010257</td>\n",
       "    </tr>\n",
       "    <tr>\n",
       "      <th>3</th>\n",
       "      <td>2019-01-04</td>\n",
       "      <td>BAGFILMS</td>\n",
       "      <td>EQ</td>\n",
       "      <td>4.85</td>\n",
       "      <td>4.80</td>\n",
       "      <td>4.90</td>\n",
       "      <td>4.80</td>\n",
       "      <td>4.80</td>\n",
       "      <td>4.85</td>\n",
       "      <td>4.84</td>\n",
       "      <td>18077</td>\n",
       "      <td>8.758105e+09</td>\n",
       "      <td>76.0</td>\n",
       "      <td>15872.0</td>\n",
       "      <td>0.8780</td>\n",
       "      <td>0.000000</td>\n",
       "    </tr>\n",
       "    <tr>\n",
       "      <th>4</th>\n",
       "      <td>2019-01-07</td>\n",
       "      <td>BAGFILMS</td>\n",
       "      <td>EQ</td>\n",
       "      <td>4.85</td>\n",
       "      <td>4.85</td>\n",
       "      <td>4.95</td>\n",
       "      <td>4.85</td>\n",
       "      <td>4.90</td>\n",
       "      <td>4.85</td>\n",
       "      <td>4.88</td>\n",
       "      <td>49464</td>\n",
       "      <td>2.413514e+10</td>\n",
       "      <td>102.0</td>\n",
       "      <td>37488.0</td>\n",
       "      <td>0.7579</td>\n",
       "      <td>0.000000</td>\n",
       "    </tr>\n",
       "    <tr>\n",
       "      <th>...</th>\n",
       "      <td>...</td>\n",
       "      <td>...</td>\n",
       "      <td>...</td>\n",
       "      <td>...</td>\n",
       "      <td>...</td>\n",
       "      <td>...</td>\n",
       "      <td>...</td>\n",
       "      <td>...</td>\n",
       "      <td>...</td>\n",
       "      <td>...</td>\n",
       "      <td>...</td>\n",
       "      <td>...</td>\n",
       "      <td>...</td>\n",
       "      <td>...</td>\n",
       "      <td>...</td>\n",
       "      <td>...</td>\n",
       "    </tr>\n",
       "    <tr>\n",
       "      <th>212</th>\n",
       "      <td>2019-11-14</td>\n",
       "      <td>BAGFILMS</td>\n",
       "      <td>EQ</td>\n",
       "      <td>2.20</td>\n",
       "      <td>2.30</td>\n",
       "      <td>2.30</td>\n",
       "      <td>2.10</td>\n",
       "      <td>2.15</td>\n",
       "      <td>2.20</td>\n",
       "      <td>2.24</td>\n",
       "      <td>693312</td>\n",
       "      <td>1.554927e+11</td>\n",
       "      <td>565.0</td>\n",
       "      <td>395392.0</td>\n",
       "      <td>0.5703</td>\n",
       "      <td>0.000000</td>\n",
       "    </tr>\n",
       "    <tr>\n",
       "      <th>213</th>\n",
       "      <td>2019-11-15</td>\n",
       "      <td>BAGFILMS</td>\n",
       "      <td>EQ</td>\n",
       "      <td>2.20</td>\n",
       "      <td>2.10</td>\n",
       "      <td>2.10</td>\n",
       "      <td>2.10</td>\n",
       "      <td>2.10</td>\n",
       "      <td>2.10</td>\n",
       "      <td>2.10</td>\n",
       "      <td>35325</td>\n",
       "      <td>7.418250e+09</td>\n",
       "      <td>93.0</td>\n",
       "      <td>35325.0</td>\n",
       "      <td>1.0000</td>\n",
       "      <td>-0.046520</td>\n",
       "    </tr>\n",
       "    <tr>\n",
       "      <th>214</th>\n",
       "      <td>2019-11-18</td>\n",
       "      <td>BAGFILMS</td>\n",
       "      <td>EQ</td>\n",
       "      <td>2.10</td>\n",
       "      <td>2.00</td>\n",
       "      <td>2.00</td>\n",
       "      <td>2.00</td>\n",
       "      <td>2.00</td>\n",
       "      <td>2.00</td>\n",
       "      <td>2.00</td>\n",
       "      <td>87810</td>\n",
       "      <td>1.756200e+10</td>\n",
       "      <td>129.0</td>\n",
       "      <td>87790.0</td>\n",
       "      <td>0.9998</td>\n",
       "      <td>-0.048790</td>\n",
       "    </tr>\n",
       "    <tr>\n",
       "      <th>215</th>\n",
       "      <td>2019-11-19</td>\n",
       "      <td>BAGFILMS</td>\n",
       "      <td>EQ</td>\n",
       "      <td>2.00</td>\n",
       "      <td>1.90</td>\n",
       "      <td>2.05</td>\n",
       "      <td>1.90</td>\n",
       "      <td>2.05</td>\n",
       "      <td>2.00</td>\n",
       "      <td>1.94</td>\n",
       "      <td>201290</td>\n",
       "      <td>3.899737e+10</td>\n",
       "      <td>286.0</td>\n",
       "      <td>157775.0</td>\n",
       "      <td>0.7838</td>\n",
       "      <td>0.000000</td>\n",
       "    </tr>\n",
       "    <tr>\n",
       "      <th>216</th>\n",
       "      <td>2019-11-20</td>\n",
       "      <td>BAGFILMS</td>\n",
       "      <td>EQ</td>\n",
       "      <td>2.00</td>\n",
       "      <td>2.00</td>\n",
       "      <td>2.05</td>\n",
       "      <td>1.95</td>\n",
       "      <td>2.00</td>\n",
       "      <td>1.95</td>\n",
       "      <td>1.98</td>\n",
       "      <td>208753</td>\n",
       "      <td>4.127010e+10</td>\n",
       "      <td>195.0</td>\n",
       "      <td>145520.0</td>\n",
       "      <td>0.6971</td>\n",
       "      <td>-0.025318</td>\n",
       "    </tr>\n",
       "  </tbody>\n",
       "</table>\n",
       "<p>217 rows × 16 columns</p>\n",
       "</div>"
      ],
      "text/plain": [
       "           Date    Symbol Series  Prev Close  Open  High   Low  Last  Close  \\\n",
       "0    2019-01-01  BAGFILMS     EQ        4.95  5.00  5.15  4.85  5.00   4.95   \n",
       "1    2019-01-02  BAGFILMS     EQ        4.95  4.90  5.00  4.85  4.95   4.90   \n",
       "2    2019-01-03  BAGFILMS     EQ        4.90  4.90  5.00  4.85  4.90   4.85   \n",
       "3    2019-01-04  BAGFILMS     EQ        4.85  4.80  4.90  4.80  4.80   4.85   \n",
       "4    2019-01-07  BAGFILMS     EQ        4.85  4.85  4.95  4.85  4.90   4.85   \n",
       "..          ...       ...    ...         ...   ...   ...   ...   ...    ...   \n",
       "212  2019-11-14  BAGFILMS     EQ        2.20  2.30  2.30  2.10  2.15   2.20   \n",
       "213  2019-11-15  BAGFILMS     EQ        2.20  2.10  2.10  2.10  2.10   2.10   \n",
       "214  2019-11-18  BAGFILMS     EQ        2.10  2.00  2.00  2.00  2.00   2.00   \n",
       "215  2019-11-19  BAGFILMS     EQ        2.00  1.90  2.05  1.90  2.05   2.00   \n",
       "216  2019-11-20  BAGFILMS     EQ        2.00  2.00  2.05  1.95  2.00   1.95   \n",
       "\n",
       "     VWAP  Volume      Turnover  Trades  Deliverable Volume  %Deliverble  \\\n",
       "0    5.01  202343  1.013573e+11   254.0            147939.0       0.7311   \n",
       "1    4.92   66516  3.272127e+10   162.0             58430.0       0.8784   \n",
       "2    4.92   52702  2.590396e+10   109.0             38203.0       0.7249   \n",
       "3    4.84   18077  8.758105e+09    76.0             15872.0       0.8780   \n",
       "4    4.88   49464  2.413514e+10   102.0             37488.0       0.7579   \n",
       "..    ...     ...           ...     ...                 ...          ...   \n",
       "212  2.24  693312  1.554927e+11   565.0            395392.0       0.5703   \n",
       "213  2.10   35325  7.418250e+09    93.0             35325.0       1.0000   \n",
       "214  2.00   87810  1.756200e+10   129.0             87790.0       0.9998   \n",
       "215  1.94  201290  3.899737e+10   286.0            157775.0       0.7838   \n",
       "216  1.98  208753  4.127010e+10   195.0            145520.0       0.6971   \n",
       "\n",
       "       logret  \n",
       "0         NaN  \n",
       "1   -0.010152  \n",
       "2   -0.010257  \n",
       "3    0.000000  \n",
       "4    0.000000  \n",
       "..        ...  \n",
       "212  0.000000  \n",
       "213 -0.046520  \n",
       "214 -0.048790  \n",
       "215  0.000000  \n",
       "216 -0.025318  \n",
       "\n",
       "[217 rows x 16 columns]"
      ]
     },
     "execution_count": 125,
     "metadata": {},
     "output_type": "execute_result"
    }
   ],
   "source": [
    "data_for_ticker['BAGFILMS']"
   ]
  },
  {
   "cell_type": "markdown",
   "metadata": {},
   "source": [
    "### compute logret_mean, logret_std"
   ]
  },
  {
   "cell_type": "code",
   "execution_count": 126,
   "metadata": {},
   "outputs": [
    {
     "data": {
      "text/html": [
       "<div>\n",
       "<style scoped>\n",
       "    .dataframe tbody tr th:only-of-type {\n",
       "        vertical-align: middle;\n",
       "    }\n",
       "\n",
       "    .dataframe tbody tr th {\n",
       "        vertical-align: top;\n",
       "    }\n",
       "\n",
       "    .dataframe thead th {\n",
       "        text-align: right;\n",
       "    }\n",
       "</style>\n",
       "<table border=\"1\" class=\"dataframe\">\n",
       "  <thead>\n",
       "    <tr style=\"text-align: right;\">\n",
       "      <th></th>\n",
       "      <th>logret_mean</th>\n",
       "      <th>logret_std</th>\n",
       "    </tr>\n",
       "    <tr>\n",
       "      <th>ticker</th>\n",
       "      <th></th>\n",
       "      <th></th>\n",
       "    </tr>\n",
       "  </thead>\n",
       "  <tbody>\n",
       "    <tr>\n",
       "      <th>20MICRONS</th>\n",
       "      <td>-0.000938</td>\n",
       "      <td>0.023810</td>\n",
       "    </tr>\n",
       "    <tr>\n",
       "      <th>21STCENMGM</th>\n",
       "      <td>-0.001896</td>\n",
       "      <td>0.014912</td>\n",
       "    </tr>\n",
       "    <tr>\n",
       "      <th>3IINFOTECH</th>\n",
       "      <td>-0.002569</td>\n",
       "      <td>0.039587</td>\n",
       "    </tr>\n",
       "    <tr>\n",
       "      <th>3MINDIA</th>\n",
       "      <td>0.000125</td>\n",
       "      <td>0.018969</td>\n",
       "    </tr>\n",
       "    <tr>\n",
       "      <th>5PAISA</th>\n",
       "      <td>-0.001199</td>\n",
       "      <td>0.043249</td>\n",
       "    </tr>\n",
       "    <tr>\n",
       "      <th>...</th>\n",
       "      <td>...</td>\n",
       "      <td>...</td>\n",
       "    </tr>\n",
       "    <tr>\n",
       "      <th>CONTROLPR</th>\n",
       "      <td>-0.001061</td>\n",
       "      <td>0.026090</td>\n",
       "    </tr>\n",
       "    <tr>\n",
       "      <th>CORALFINAC</th>\n",
       "      <td>-0.001317</td>\n",
       "      <td>0.034008</td>\n",
       "    </tr>\n",
       "    <tr>\n",
       "      <th>CORDSCABLE</th>\n",
       "      <td>-0.001831</td>\n",
       "      <td>0.024574</td>\n",
       "    </tr>\n",
       "    <tr>\n",
       "      <th>COROMANDEL</th>\n",
       "      <td>0.000677</td>\n",
       "      <td>0.015572</td>\n",
       "    </tr>\n",
       "    <tr>\n",
       "      <th>COSMOFILMS</th>\n",
       "      <td>0.000292</td>\n",
       "      <td>0.023230</td>\n",
       "    </tr>\n",
       "  </tbody>\n",
       "</table>\n",
       "<p>236 rows × 2 columns</p>\n",
       "</div>"
      ],
      "text/plain": [
       "            logret_mean  logret_std\n",
       "ticker                             \n",
       "20MICRONS     -0.000938    0.023810\n",
       "21STCENMGM    -0.001896    0.014912\n",
       "3IINFOTECH    -0.002569    0.039587\n",
       "3MINDIA        0.000125    0.018969\n",
       "5PAISA        -0.001199    0.043249\n",
       "...                 ...         ...\n",
       "CONTROLPR     -0.001061    0.026090\n",
       "CORALFINAC    -0.001317    0.034008\n",
       "CORDSCABLE    -0.001831    0.024574\n",
       "COROMANDEL     0.000677    0.015572\n",
       "COSMOFILMS     0.000292    0.023230\n",
       "\n",
       "[236 rows x 2 columns]"
      ]
     },
     "execution_count": 126,
     "metadata": {},
     "output_type": "execute_result"
    }
   ],
   "source": [
    "estims = pd.DataFrame(data=[], columns=['ticker', 'logret_mean', 'logret_std'])\n",
    "estims.set_index('ticker', inplace=True)\n",
    "\n",
    "for ticker, data in data_for_ticker.items():\n",
    "    estims.loc[ticker] = [data['logret'].mean(), data['logret'].std()]\n",
    "    \n",
    "estims"
   ]
  },
  {
   "cell_type": "markdown",
   "metadata": {},
   "source": [
    "### plot the map"
   ]
  },
  {
   "cell_type": "code",
   "execution_count": 127,
   "metadata": {},
   "outputs": [
    {
     "data": {
      "application/vnd.plotly.v1+json": {
       "config": {
        "plotlyServerURL": "https://plot.ly"
       },
       "data": [
        {
         "hovertemplate": "<b>%{hovertext}</b><br><br>logret_std=%{x}<br>logret_mean=%{y}<br>size=%{marker.size}<br>color=%{marker.color}<extra></extra>",
         "hovertext": [
          "20MICRONS",
          "21STCENMGM",
          "3IINFOTECH",
          "3MINDIA",
          "5PAISA",
          "63MOONS",
          "A2ZINFRA",
          "AARTIDRUGS",
          "AARTIIND",
          "AARVEEDEN",
          "AAVAS",
          "ABB",
          "ABBOTINDIA",
          "ABCAPITAL",
          "ABFRL",
          "ACC",
          "ACCELYA",
          "ACE",
          "ADANIENT",
          "ADANIGREEN",
          "ADANIPORTS",
          "ADANIPOWER",
          "ADANITRANS",
          "ADFFOODS",
          "ADORWELD",
          "ADSL",
          "ADVANIHOTR",
          "ADVENZYMES",
          "AEGISCHEM",
          "AGARIND",
          "AGRITECH",
          "AHLEAST",
          "AHLUCONT",
          "AHLWEST",
          "AIAENG",
          "AJANTPHARM",
          "AJMERA",
          "AKSHARCHEM",
          "AKSHOPTFBR",
          "AKZOINDIA",
          "ALANKIT",
          "ALBERTDAVD",
          "ALEMBICLTD",
          "ALICON",
          "ALKALI",
          "ALKEM",
          "ALKYLAMINE",
          "ALLCARGO",
          "ALMONDZ",
          "ALPA",
          "ALPHAGEO",
          "AMARAJABAT",
          "AMBER",
          "AMBIKCO",
          "AMBUJACEM",
          "AMDIND",
          "AMJLAND",
          "AMRUTANJAN",
          "ANANTRAJ",
          "ANDHRAPAP",
          "ANDHRSUGAR",
          "ANIKINDS",
          "ANSALAPI",
          "APARINDS",
          "APCL",
          "APEX",
          "APLAPOLLO",
          "APLLTD",
          "APOLLO",
          "APOLLOHOSP",
          "APOLLOTYRE",
          "APTECHT",
          "ARCHIDPLY",
          "ARIES",
          "ARIHANT",
          "ARMANFIN",
          "AROGRANITE",
          "ARSHIYA",
          "ARSSINFRA",
          "ARVIND",
          "ARVSMART",
          "ASAHIINDIA",
          "ASAHISONG",
          "ASAL",
          "ASHIANA",
          "ASHOKA",
          "ASHOKLEY",
          "ASIANHOTNR",
          "ASIANPAINT",
          "ASIANTILES",
          "ASPINWALL",
          "ASTEC",
          "ASTERDM",
          "ASTRAL",
          "ASTRAMICRO",
          "ASTRAZEN",
          "ASTRON",
          "ATFL",
          "ATUL",
          "ATULAUTO",
          "AUBANK",
          "AURIONPRO",
          "AUROPHARMA",
          "AUSOMENT",
          "AUTOAXLES",
          "AUTOIND",
          "AVADHSUGAR",
          "AVANTIFEED",
          "AVTNPL",
          "AXISBANK",
          "AXISCADES",
          "AYMSYNTEX",
          "BAGFILMS",
          "BAJAJ-AUTO",
          "BAJAJCON",
          "BAJAJELEC",
          "BAJAJFINSV",
          "BAJAJHIND",
          "BAJAJHLDNG",
          "BAJFINANCE",
          "BALAJITELE",
          "BALAMINES",
          "BALKRISIND",
          "BALMLAWRIE",
          "BALPHARMA",
          "BALRAMCHIN",
          "BANARBEADS",
          "BANARISUG",
          "BANCOINDIA",
          "BANDHANBNK",
          "BANG",
          "BANKBARODA",
          "BANKINDIA",
          "BANSWRAS",
          "BASF",
          "BASML",
          "BATAINDIA",
          "BAYERCROP",
          "BBL",
          "BDL",
          "BEARDSELL",
          "BEDMUTHA",
          "BEL",
          "BEML",
          "BEPL",
          "BERGEPAINT",
          "BFINVEST",
          "BFUTILITIE",
          "BGRENERGY",
          "BHAGERIA",
          "BHAGYANGR",
          "BHAGYAPROP",
          "BHANDARI",
          "BHARATFORG",
          "BHARATGEAR",
          "BHARATRAS",
          "BHARATWIRE",
          "BHARTIARTL",
          "BHEL",
          "BIGBLOC",
          "BINDALAGRO",
          "BIOCON",
          "BIRLACABLE",
          "BIRLACORPN",
          "BLISSGVS",
          "BLKASHYAP",
          "BLS",
          "BLUEDART",
          "BLUESTARCO",
          "BODALCHEM",
          "BOMDYEING",
          "BORORENEW",
          "BOSCHLTD",
          "BPCL",
          "BPL",
          "BRIGADE",
          "BRITANNIA",
          "BRNL",
          "BROOKS",
          "BSE",
          "BSL",
          "BSOFT",
          "BUTTERFLY",
          "BYKE",
          "CADILAHC",
          "CALSOFT",
          "CAMLINFINE",
          "CANBK",
          "CANFINHOME",
          "CANTABIL",
          "CAPACITE",
          "CAPLIPOINT",
          "CARBORUNIV",
          "CAREERP",
          "CARERATING",
          "CASTROLIND",
          "CCL",
          "CDSL",
          "CEATLTD",
          "CELEBRITY",
          "CENTENKA",
          "CENTEXT",
          "CENTRALBK",
          "CENTRUM",
          "CENTUM",
          "CENTURYPLY",
          "CENTURYTEX",
          "CERA",
          "CEREBRAINT",
          "CESC",
          "CGCL",
          "CGPOWER",
          "CHALET",
          "CHAMBLFERT",
          "CHEMFAB",
          "CHENNPETRO",
          "CHOLAHLDNG",
          "CIGNITITEC",
          "CINELINE",
          "CIPLA",
          "CLEDUCATE",
          "CLNINDIA",
          "CMICABLES",
          "COALINDIA",
          "COCHINSHIP",
          "COFORGE",
          "COLPAL",
          "COMPINFO",
          "COMPUSOFT",
          "CONCOR",
          "CONSOFINVT",
          "CONTROLPR",
          "CORALFINAC",
          "CORDSCABLE",
          "COROMANDEL",
          "COSMOFILMS"
         ],
         "legendgroup": "",
         "marker": {
          "color": [
           -0.03938435912843298,
           -0.1271609953174884,
           -0.06490168589844397,
           0.006572759270715581,
           -0.027715533375169653,
           0.002324630833619448,
           -0.06805878003683491,
           0.0014527608980379214,
           -0.04850448089570391,
           -0.06784088879447138,
           0.16846970014311852,
           0.026557575350622746,
           0.14490383088434092,
           0.0045586439998078635,
           0.03044225014452549,
           -0.006965616351205776,
           0.022396441817612026,
           -0.034090682725271486,
           0.03875137499380318,
           0.1600883586424559,
           -0.011880058701667936,
           0.023256904784348796,
           0.08341768739138795,
           0.02368953807190866,
           -0.048721984027430894,
           0.03968887258747493,
           -0.029856109047189792,
           -0.009771957988652486,
           -0.00925185356148443,
           -0.10997180634697766,
           -0.039787183458724305,
           -0.06222269458663886,
           -0.01650227769149663,
           0.021662214990188007,
           -0.0035864876734728857,
           -0.043556970692389625,
           -0.054389188774724824,
           -0.07334232316915607,
           -0.13409311006832988,
           0.027702354653625114,
           -0.07375891896385421,
           -0.00253258576551526,
           0.03823096413872631,
           -0.07847827836775992,
           -0.033053407104661696,
           0.011802044493485268,
           0.06356093392427763,
           -0.01990411814705727,
           -0.0760516831972584,
           -0.0432087604440267,
           -0.11375462592723848,
           -0.004704566549032976,
           0.041443529089666586,
           -0.10624093860780306,
           -0.02773833272474815,
           -0.03143713878937782,
           -0.0071763633379877305,
           0.06822164494694397,
           -0.013145126613205415,
           -0.08757979933255552,
           -0.029008708006541005,
           -0.15763648047137413,
           -0.08479399024207977,
           -0.10614333769502063,
           0.012869290257880762,
           -0.0072381833897779465,
           0.0895434752172462,
           -0.006699373073627527,
           -0.056334624110425384,
           0.02632912811659436,
           -0.07232916918867853,
           -0.023792457451037006,
           -0.05714025680610719,
           -0.054303514685002094,
           -0.04533621009637024,
           0.0730998637247797,
           -0.04944957435460706,
           -0.07018269803062333,
           -0.05459966718482048,
           -0.11918021573911518,
           -0.0785057955674046,
           -0.05909423176043971,
           -0.04277925444205699,
           -0.09636465307259146,
           -0.0291946340538701,
           -0.029627063147079965,
           -0.03495997205009412,
           -0.06271803039618158,
           0.07791260296740393,
           0.03625542511065172,
           -0.031003447402667743,
           -0.023861976036250836,
           -0.0008693926252848967,
           0.0073572548167066916,
           0.008868793047130953,
           0.09427576020944817,
           -0.11785230680918926,
           0.008193739086146045,
           0.0490444873202375,
           -0.06462462293967819,
           0.0550386794751228,
           -0.11178456873761493,
           -0.08000275907335253,
           -0.01656049412291443,
           -0.08143789128719865,
           -0.12235790935532695,
           -0.022951091052404143,
           0.05687617548369675,
           0.021247334054540077,
           0.04547336753276384,
           -0.05229790849240526,
           -0.047932061500660574,
           -0.11325885964204353,
           0.04581557511321593,
           -0.08290020575093406,
           -0.0668851398263811,
           0.08070363838358621,
           -0.03970469109549441,
           0.03374548648399199,
           0.09484274562892403,
           -0.07846024192829397,
           -0.01712919328390287,
           0.014917330979147745,
           -0.06384960635256494,
           -0.08956507927331887,
           0.08233819045229562,
           -0.05322973770539186,
           -0.04961614667135184,
           -0.09467261614746048,
           -0.013631245174993013,
           -0.14718809623657783,
           -0.03145592909891795,
           -0.0624646392993089,
           0.005151027097267514,
           -0.0950983388244744,
           -0.08099408939979177,
           0.11928054075673447,
           -0.04639935254117102,
           -0.07971249432074418,
           0.010024186139321448,
           -0.1258235282470308,
           -0.037951917613282066,
           0.02337782821975384,
           0.01294180404104881,
           -0.058405387409582205,
           0.10549674035532058,
           0.025590682697253713,
           0.03772579142983695,
           -0.06436180212591099,
           -0.07270224572141519,
           -0.07869533416227065,
           -0.019981500563819216,
           -0.06422682175970881,
           -0.011103207021388325,
           -0.08606694614416051,
           0.02380397172061599,
           -0.15040502704057787,
           0.06332998945894644,
           -0.07577581619295927,
           0.0018870415687166668,
           -0.07709644922415411,
           -0.0612433032775215,
           -0.10366661733978044,
           0.0044898412667173345,
           -0.010107029970496442,
           -0.09009198837408439,
           -0.07083993675961513,
           -0.09996963195332875,
           0.06777821124830394,
           -0.06664456563483162,
           -0.04370056504120568,
           -0.0658337286755678,
           -0.056497991568806534,
           0.049870737733212184,
           -0.08189337540479656,
           -0.001606076203250414,
           -0.006426429280889416,
           -0.0903257416797968,
           -0.08561916728174994,
           -0.052583873656306325,
           -0.0487652094173078,
           -0.10524512832862405,
           -0.05624087273644173,
           -0.1417439643594739,
           -0.0725505436689719,
           -0.0649250151240748,
           0.05255248776868211,
           -0.038554059275872216,
           0.053418465161931765,
           0.10122999139645865,
           -0.046889070896883614,
           -0.03488361020525166,
           -0.025171824020971574,
           0.03926680773664218,
           -0.06159149474016443,
           -0.03339678644198098,
           -0.0763714635365513,
           -0.005038370331714584,
           -0.06815722250666571,
           -0.030624068954796187,
           -0.0810916295587862,
           -0.1285265419282248,
           -0.10744176677395235,
           -0.10416803086868986,
           0.007271395339168122,
           -0.01614323830533418,
           -0.048141058006152496,
           0.02683925579332019,
           -0.03249879929132602,
           0.022100304604627984,
           0.07214537658968309,
           -0.12144639096861161,
           0.03786108849882814,
           0.005630697088538249,
           0.01772168890630935,
           -0.16405416301736694,
           -0.007854498962897933,
           -0.04629513656959007,
           -0.05845240841681908,
           -0.02571484304640794,
           -0.07927482784225343,
           -0.015619904581294598,
           -0.14945890514975685,
           -0.030703892587336124,
           0.02285555488718368,
           0.0855729960638878,
           0.029860965722990632,
           -0.03806956914803348,
           -0.049261362596626196,
           -0.03187029286941424,
           -0.030182002235300088,
           -0.04065352937944622,
           -0.038726552376552155,
           -0.0745026128228784,
           0.04349186026597999,
           0.012583440542067352
          ],
          "coloraxis": "coloraxis",
          "size": [
           0.7400132117705699,
           0.21898992915958795,
           0.5885478340300415,
           1.0128048078861147,
           0.809276858250325,
           0.9875888287902462,
           0.5698080004830659,
           0.9824135958858079,
           0.6858781254047533,
           0.5711013561557977,
           1.9737903188407144,
           1.1314303890020643,
           1.8339083742610192,
           1.0008494517051716,
           1.15448898523986,
           0.9324439144410608,
           1.106730792994736,
           0.7714353393024904,
           1.2038101678751882,
           1.9240404736546513,
           0.9032728388928332,
           1.1118383165791301,
           1.4689398164686138,
           1.1144063349657738,
           0.6845870734735028,
           1.2093749524796322,
           0.7965708602566106,
           0.9157860724964104,
           0.918873300803496,
           0.3210212674709173,
           0.7376221329596672,
           0.6044497517608218,
           0.8758363385256929,
           1.1023725800531787,
           0.9525016973828138,
           0.7152454846338092,
           0.6509477618199561,
           0.5384460218730684,
           0.17784238307294736,
           1.1382255533671093,
           0.5359731986036957,
           0.9587574330258541,
           1.2007211206777708,
           0.5079600935771152,
           0.7775923848704982,
           1.0438447231843988,
           1.3510743875502882,
           0.8556437433428753,
           0.5223638419570321,
           0.7173123859701748,
           0.2985672619313619,
           0.9458650210273014,
           1.2197902170684638,
           0.34316689802647204,
           0.809141526202134,
           0.7871862068688209,
           0.9311929655368785,
           1.3787393683670581,
           0.8957636671517856,
           0.4539354175845559,
           0.8016008510497853,
           0.038093986874440086,
           0.47047138273502004,
           0.34374623610744165,
           1.0501796650967357,
           0.9308260149710634,
           1.505301178901468,
           0.9340242774223688,
           0.6394000750012113,
           1.1300743752272766,
           0.5444598865598154,
           0.8325633953593715,
           0.6346180121436328,
           0.6514563048377803,
           0.7046843012134725,
           1.407695428558841,
           0.6802682533737574,
           0.5572008788939368,
           0.6496984071293685,
           0.26636212470331705,
           0.5077967573830026,
           0.6230196359806042,
           0.7198618414604192,
           0.4017904103068495,
           0.8004972339176176,
           0.7979304275848319,
           0.7662754243499253,
           0.6015095446546068,
           1.4362628162762507,
           1.1889947447989253,
           0.7897605059050372,
           0.8321507479506399,
           0.9686297907187653,
           1.017461405157462,
           1.0264335718387119,
           1.5333910074473838,
           0.27424430724888954,
           1.0224265963385986,
           1.264907874570755,
           0.5901924203178452,
           1.3004881133305624,
           0.3102610987931237,
           0.49891110313968035,
           0.8754907782773612,
           0.49039246618225146,
           0.2475000170749883,
           0.8375575658120885,
           1.3113950954585827,
           1.0999099358192574,
           1.2437104735874331,
           0.6633611529552342,
           0.6892758841385617,
           0.30151002424870316,
           1.2457417443747698,
           0.4817124812206047,
           0.576774477003513,
           1.4528298037749596,
           0.7381117899315727,
           1.1740962875420566,
           1.5367565112679176,
           0.5080671540126157,
           0.8721151020548399,
           1.0623363954733385,
           0.5947927525227157,
           0.4421512217376065,
           1.4625321542113932,
           0.6578300146425585,
           0.6792795158345841,
           0.4118339785193741,
           0.8928781716509647,
           0.10011335430917867,
           0.7870746716222801,
           0.603013619848291,
           1.0043657106939177,
           0.4093069800344699,
           0.4930267789817036,
           1.6818140207610193,
           0.6983737157260071,
           0.5006340524436903,
           1.0332917373795123,
           0.22692884677694816,
           0.7485158773177515,
           1.1125560921512498,
           1.050610091357995,
           0.6271084682766925,
           1.5999963384733182,
           1.1256911216290728,
           1.1977225238472415,
           0.5917524682881564,
           0.5422453842937122,
           0.5066716969436177,
           0.85518441791702,
           0.5925536827860008,
           0.9078840638170758,
           0.462915389574236,
           1.115085588556242,
           0.08101834315128387,
           1.3497035507461925,
           0.5240013293156774,
           0.9849913927852492,
           0.5161623349441499,
           0.6102632084731289,
           0.3584475168311336,
           1.0004410534410795,
           0.913797157091686,
           0.43902360234778215,
           0.5532996507892184,
           0.3803920290093533,
           1.3761072410571424,
           0.5782024737966759,
           0.7143931393830367,
           0.5830154280464608,
           0.6384303608137797,
           1.26981231977528,
           0.4876888101704525,
           0.9642569950330149,
           0.9356444132242742,
           0.43763609286973454,
           0.46557330884417103,
           0.6616637250874448,
           0.684330496831886,
           0.3490778142228745,
           0.6399565630456727,
           0.13242855325877634,
           0.5431458551339547,
           0.5884093567512726,
           1.2857306126979344,
           0.7449416935797938,
           1.2908708687351564,
           1.5746698319547145,
           0.6954668526206739,
           0.7667286918797992,
           0.8243757713013791,
           1.2068696660662643,
           0.6081964186447673,
           0.7755541587857626,
           0.5204656944621339,
           0.9438836333807511,
           0.5692236670999876,
           0.792012414987497,
           0.49244780152218676,
           0.21088433741474397,
           0.3360390396333654,
           0.3554712336865476,
           1.0169517617173323,
           0.8779675193009744,
           0.6880353257158044,
           1.1331023836839456,
           0.7808844178762229,
           1.1049729860256938,
           1.402029797681088,
           0.25291059467998783,
           1.1985256182249027,
           1.0072129288634952,
           1.078982462539281,
           0,
           0.9271676979407818,
           0.6989923193769451,
           0.6268293616646612,
           0.8211525268546027,
           0.5032319467719816,
           0.881073916021542,
           0.08663431973352549,
           0.791538599028472,
           1.10945598968697,
           1.4817332663926586,
           1.1510386056105202,
           0.7478175230460251,
           0.6813854379940243,
           0.7846150971697565,
           0.7946364282024582,
           0.7324796894224263,
           0.7439178115373054,
           0.5315587913934235,
           1.2319486715239136,
           1.0484829225040289
          ],
          "sizemode": "area",
          "sizeref": 0.004934475797101786,
          "symbol": "circle"
         },
         "mode": "markers",
         "name": "",
         "orientation": "v",
         "showlegend": false,
         "type": "scatter",
         "x": [
          0.02381003545168039,
          0.014912417931634408,
          0.03958684928915139,
          0.018968586185895076,
          0.04324907364655065,
          0.03851826039076764,
          0.03580404093156251,
          0.01783105971420984,
          0.04898868432824022,
          0.03751306734752232,
          0.020721123658124084,
          0.01784360346405702,
          0.01542064170805946,
          0.023243854331326634,
          0.020110450900032346,
          0.017304777090125477,
          0.021886880979793355,
          0.028865068716626266,
          0.02975911984645168,
          0.03562105816276361,
          0.02102504176707481,
          0.034367237998857235,
          0.02468870683520059,
          0.022069430881833826,
          0.02187706184388633,
          0.045394855523967804,
          0.025692313693905924,
          0.025321615623085877,
          0.023522496323328576,
          0.03425309752943014,
          0.03919128426646292,
          0.021417508427281073,
          0.020347480278299756,
          0.03413908955598739,
          0.017121048144637184,
          0.0181346754537598,
          0.028469292250723612,
          0.035145423537690165,
          0.039752134618686354,
          0.015961809962652247,
          0.04072822757606463,
          0.023992015615150096,
          0.02536605255131522,
          0.024134177113825706,
          0.03612036066009751,
          0.012928622815094399,
          0.021862086908259484,
          0.02068817756253505,
          0.03614279265862586,
          0.04012741876338392,
          0.03667828882022748,
          0.017207337172206492,
          0.020390276493387958,
          0.011236572264119653,
          0.018813682292910954,
          0.04235418366540396,
          0.028704110487379808,
          0.02601448101220392,
          0.0246732717395476,
          0.020672395198661438,
          0.020333153881755956,
          0.03182846198610248,
          0.040073150870917014,
          0.02065931624240033,
          0.029621274940383885,
          0.034967493871799205,
          0.021541581618319074,
          0.016428491486806644,
          0.038815425083545727,
          0.020212733297724644,
          0.020272333403548594,
          0.029618840364672192,
          0.031184568261718643,
          0.03323014678606791,
          0.04431781668242379,
          0.026259944618145424,
          0.027252800990409064,
          0.041193263856876446,
          0.04718297805756832,
          0.03099769532091476,
          0.021116488494595624,
          0.019279331446454093,
          0.03225732391494039,
          0.038583693563884934,
          0.020989445122542194,
          0.027464198229513733,
          0.026876144354784644,
          0.026593316084776174,
          0.013857946377506699,
          0.025884026111321266,
          0.026037201132832886,
          0.025781997621499332,
          0.023402097844124604,
          0.023245005916270437,
          0.023996284101154567,
          0.025854383780878096,
          0.03425848168204951,
          0.017841695337604286,
          0.013580270021270454,
          0.020576146089786067,
          0.01903426930441195,
          0.029660117735346082,
          0.024230476315832344,
          0.04434026736301812,
          0.026227102774631965,
          0.034791185112676155,
          0.0534261703270007,
          0.029482612303207437,
          0.02629070415641297,
          0.01659231781029138,
          0.035574545594238866,
          0.030136345458291962,
          0.03807887062095122,
          0.01389914437892455,
          0.022661791281273217,
          0.022083092776591706,
          0.01852703462872108,
          0.032799478105357084,
          0.017479751767189983,
          0.020144781732699256,
          0.0290650479373547,
          0.032842343275890834,
          0.017669260518218828,
          0.031106270105948325,
          0.02981815251569863,
          0.028524131848239112,
          0.03928608296662961,
          0.020437105373395683,
          0.023281209197678954,
          0.027375944230951875,
          0.03471616723235447,
          0.024836787322841607,
          0.02706726656754653,
          0.03481010664950364,
          0.019404763866633597,
          0.03155129776892594,
          0.015179298938285783,
          0.014805213154522231,
          0.01823924763672453,
          0.02601166874230626,
          0.038484910720973674,
          0.04122732739071613,
          0.023597190406480364,
          0.027080821076335842,
          0.03627560963333519,
          0.017038613300652244,
          0.03424578228549246,
          0.0387107664700059,
          0.03524907152327232,
          0.050645431038199476,
          0.024014898625253377,
          0.03697771877852982,
          0.04126175418697949,
          0.02064998328460131,
          0.034989649231985914,
          0.029612824687025262,
          0.02688413064006017,
          0.022992812960727575,
          0.028651593311692532,
          0.03825053939571464,
          0.03299529502430809,
          0.05062259687975399,
          0.047050301765145804,
          0.025024533288243247,
          0.0318148526011928,
          0.04189641185671837,
          0.0338406405396903,
          0.018311025287718434,
          0.01788511942340873,
          0.026954892695732244,
          0.035409026161005525,
          0.02592740374738463,
          0.01752659649169905,
          0.02396827576382929,
          0.039278502335209096,
          0.029030855588142158,
          0.01565590079065928,
          0.03423121815427152,
          0.03476197315520334,
          0.014127111221539927,
          0.038327057368014075,
          0.043688502627330685,
          0.03369987321942808,
          0.03751760770095169,
          0.018051933336634962,
          0.03951013516302018,
          0.034575437937461054,
          0.02555356876626274,
          0.024179006493856903,
          0.03194420390646867,
          0.026798118601187203,
          0.028271954227284568,
          0.019244633302887598,
          0.034455644076749906,
          0.028468136754314855,
          0.019160751392597212,
          0.01571721571556862,
          0.016093723519393026,
          0.01615368635896324,
          0.03873870789058535,
          0.01988297751928217,
          0.03603773865220704,
          0.02790333680344508,
          0.02515773760483597,
          0.02748005844187172,
          0.02389488191217989,
          0.05607913713802724,
          0.019928817153291166,
          0.028300312128123135,
          0.017264867370839772,
          0.026380893114588213,
          0.05078689727303289,
          0.02181181901612129,
          0.024304771037362623,
          0.019999834486823867,
          0.021362640499045814,
          0.01669978219060695,
          0.02222262168845474,
          0.02796357527656092,
          0.014287851694453171,
          0.024594329838592423,
          0.02029753232996622,
          0.03592872035612849,
          0.01780010675670347,
          0.013949056801556978,
          0.01544909727722271,
          0.01370269072441663,
          0.03689770446720766,
          0.0316880261702231,
          0.02326187912130692,
          0.03623123556047994,
          0.026089987496101145,
          0.034008446045920716,
          0.024573911059498094,
          0.015572279209263558,
          0.02322956046498375
         ],
         "xaxis": "x",
         "y": [
          -0.0009377429870897015,
          -0.0018962779067769927,
          -0.0025692532582735437,
          0.00012467595070570937,
          -0.0011986711440961448,
          8.954073576176114e-05,
          -0.0024367793461910463,
          2.590426632338329e-05,
          -0.002376170703104797,
          -0.0025449198302627775,
          0.0034908814893126437,
          0.0004738828435233274,
          0.002234510058192662,
          0.00010596045707991017,
          0.0006122073768179824,
          -0.00012053843825294914,
          0.0004901882564329412,
          -0.0009840298994616655,
          0.0011532068126553796,
          0.005702516734384283,
          -0.0002497787303978689,
          0.0007992755818404765,
          0.002059474828876386,
          0.0005228146231005591,
          -0.0010658938577249475,
          0.0018016706370175908,
          -0.0007670725193198629,
          -0.00024744176407360164,
          -0.00021762669138399187,
          -0.0037668750082906306,
          -0.0015593108170927756,
          -0.001332655085677474,
          -0.0003357797698747537,
          0.000739528297531081,
          -6.140442812767708e-05,
          -0.0007898915272554131,
          -0.0015484217105074171,
          -0.0025776470110181362,
          -0.005330487362874576,
          0.00044217972049915915,
          -0.003004070037324364,
          -6.0761837232948974e-05,
          0.0009697686454303791,
          -0.0018940086697156343,
          -0.0011939009856654099,
          0.00015258418170323285,
          0.001389574661422696,
          -0.00041177993045199695,
          -0.0027487202171380108,
          -0.001733856024584198,
          -0.00417232502439619,
          -8.095306285829434e-05,
          0.0008450450170000686,
          -0.0011937839840744787,
          -0.0005218601792184667,
          -0.0013314943502001034,
          -0.00020599112615118158,
          0.0017747506870935913,
          -0.00032433328097837625,
          -0.001810484223222053,
          -0.0005898385238079243,
          -0.005017326726306118,
          -0.003397962363917928,
          -0.002192848780465323,
          0.0003812047850162899,
          -0.00025310113332501914,
          0.0019289080797802404,
          -0.00011006059350703148,
          -0.0021866523817679253,
          0.000532183644582345,
          -0.0014662810325945656,
          -0.0007047049991255205,
          -0.0017818942388621829,
          -0.0018045137639820137,
          -0.0020092018481267866,
          0.0019195983730066926,
          -0.001347639408946542,
          -0.0028910543981629493,
          -0.002576174898731918,
          -0.003694312015761982,
          -0.0016577667288581754,
          -0.0011392972806830914,
          -0.001379944267377085,
          -0.0037181042445429513,
          -0.000612779169346408,
          -0.0008136835352297252,
          -0.0009395892554575661,
          -0.0016678804065402566,
          0.001079708674054253,
          0.0009384363702411617,
          -0.0008072429958344654,
          -0.0006152094094108931,
          -2.0345611281877512e-05,
          0.00017101943174185623,
          0.00021281807759329868,
          0.0024374416856891095,
          -0.0040374410940098885,
          0.0001461901964508379,
          0.0006660373808636003,
          -0.0013297256826041582,
          0.001047621047288698,
          -0.0033155434697525457,
          -0.0019385049589281094,
          -0.0007342967370737161,
          -0.002135879944538664,
          -0.00425697667438123,
          -0.0012261888997562454,
          0.001676858231075023,
          0.0005586073737403916,
          0.0007545085660078033,
          -0.0018604743301464028,
          -0.0014444971639120032,
          -0.0043127694629858495,
          0.0006367972933020507,
          -0.0018786671599022732,
          -0.0014770307481612828,
          0.0014951991029964855,
          -0.0013022931462666352,
          0.0005898627270032447,
          0.0019105864096245911,
          -0.0022804506928223115,
          -0.0005625628458690219,
          0.00026357820730705785,
          -0.001986123101361359,
          -0.0026706651938524606,
          0.002348625400606703,
          -0.002091187891785957,
          -0.001014010417744273,
          -0.0022040929818205857,
          -0.00037316820770904056,
          -0.005109806563560919,
          -0.0007812642210722098,
          -0.0016907470429600368,
          0.00017930780261036532,
          -0.0018453608089980397,
          -0.0025554686321758386,
          0.0018105949856668537,
          -0.0006869523046038597,
          -0.0014538959236570508,
          0.00026074580926724734,
          -0.004842307251184889,
          -0.0015646561325482655,
          0.0005516510637915212,
          0.00035047467964064295,
          -0.002118691034153714,
          0.0017975181633936217,
          0.0008763729481872696,
          0.0014603943019365683,
          -0.0022686937665029367,
          -0.003682036572006166,
          -0.0018898604721873686,
          -0.0007388703086219419,
          -0.0026501113316600507,
          -0.00022928103939713685,
          -0.003011452256052399,
          0.0007049028414175085,
          -0.004043508395880678,
          0.0014561346024344044,
          -0.0021710978684222346,
          7.218035786554802e-05,
          -0.0025438200874775534,
          -0.003100295053402487,
          -0.0048775456288085665,
          0.00011235618223789615,
          -0.00032155366874718234,
          -0.0037745310499113227,
          -0.0023972688357365287,
          -0.0018305464587013076,
          0.0012122214024809408,
          -0.001796397115440571,
          -0.0015473944507947755,
          -0.0017068976635672198,
          -0.0009902175008178872,
          0.0011953155945352363,
          -0.003216649137075457,
          -4.662576632011442e-05,
          -0.00010061153925979256,
          -0.0030919601683875,
          -0.0029762911946190555,
          -0.0007428582316020428,
          -0.0018690269789003765,
          -0.004598002065498847,
          -0.0018953102809680755,
          -0.005317894448816419,
          -0.0013096775778489043,
          -0.002565196123013325,
          0.0018170252793052496,
          -0.0009851938049245704,
          0.0012916054160422169,
          0.003233711486618544,
          -0.0012565388829941623,
          -0.0009862278310053118,
          -0.0004844225228484156,
          0.0013529631514039124,
          -0.001753395095165665,
          -0.0006399075223264587,
          -0.0012003467669176602,
          -8.108613910692704e-05,
          -0.0011009903954707484,
          -0.001186336861660993,
          -0.0016123430475193034,
          -0.004631805927881295,
          -0.0029979838050507874,
          -0.002620631987406953,
          0.00019981836887429365,
          -0.0003857407729861392,
          -0.00269970899389675,
          0.0005348746212354887,
          -0.0009197261637337533,
          0.00038155882785406166,
          0.0019032594685241444,
          -0.006167885382303467,
          0.0008258192100897907,
          0.0001368528035176665,
          0.00035443084495316964,
          -0.003504630106911867,
          -0.00013116842189674367,
          -0.0010287993060013464,
          -0.0016345383228600033,
          -0.00036740986379321704,
          -0.0019497112638500107,
          -0.0003170455182298146,
          -0.005369867207858746,
          -0.0005465325659009394,
          0.00031881343335242836,
          0.0013220255404943987,
          0.00040917557803454667,
          -0.0014046797116180657,
          -0.0015609953471427403,
          -0.000741362900288964,
          -0.0010935312326740896,
          -0.0010606500731821325,
          -0.0013170298670424966,
          -0.001830820581209636,
          0.0006772673913921159,
          0.00029230779292948147
         ],
         "yaxis": "y"
        }
       ],
       "layout": {
        "coloraxis": {
         "colorbar": {
          "title": {
           "text": "color"
          }
         },
         "colorscale": [
          [
           0,
           "#0d0887"
          ],
          [
           0.1111111111111111,
           "#46039f"
          ],
          [
           0.2222222222222222,
           "#7201a8"
          ],
          [
           0.3333333333333333,
           "#9c179e"
          ],
          [
           0.4444444444444444,
           "#bd3786"
          ],
          [
           0.5555555555555556,
           "#d8576b"
          ],
          [
           0.6666666666666666,
           "#ed7953"
          ],
          [
           0.7777777777777778,
           "#fb9f3a"
          ],
          [
           0.8888888888888888,
           "#fdca26"
          ],
          [
           1,
           "#f0f921"
          ]
         ]
        },
        "legend": {
         "itemsizing": "constant",
         "tracegroupgap": 0
        },
        "margin": {
         "t": 60
        },
        "template": {
         "data": {
          "bar": [
           {
            "error_x": {
             "color": "#2a3f5f"
            },
            "error_y": {
             "color": "#2a3f5f"
            },
            "marker": {
             "line": {
              "color": "#E5ECF6",
              "width": 0.5
             }
            },
            "type": "bar"
           }
          ],
          "barpolar": [
           {
            "marker": {
             "line": {
              "color": "#E5ECF6",
              "width": 0.5
             }
            },
            "type": "barpolar"
           }
          ],
          "carpet": [
           {
            "aaxis": {
             "endlinecolor": "#2a3f5f",
             "gridcolor": "white",
             "linecolor": "white",
             "minorgridcolor": "white",
             "startlinecolor": "#2a3f5f"
            },
            "baxis": {
             "endlinecolor": "#2a3f5f",
             "gridcolor": "white",
             "linecolor": "white",
             "minorgridcolor": "white",
             "startlinecolor": "#2a3f5f"
            },
            "type": "carpet"
           }
          ],
          "choropleth": [
           {
            "colorbar": {
             "outlinewidth": 0,
             "ticks": ""
            },
            "type": "choropleth"
           }
          ],
          "contour": [
           {
            "colorbar": {
             "outlinewidth": 0,
             "ticks": ""
            },
            "colorscale": [
             [
              0,
              "#0d0887"
             ],
             [
              0.1111111111111111,
              "#46039f"
             ],
             [
              0.2222222222222222,
              "#7201a8"
             ],
             [
              0.3333333333333333,
              "#9c179e"
             ],
             [
              0.4444444444444444,
              "#bd3786"
             ],
             [
              0.5555555555555556,
              "#d8576b"
             ],
             [
              0.6666666666666666,
              "#ed7953"
             ],
             [
              0.7777777777777778,
              "#fb9f3a"
             ],
             [
              0.8888888888888888,
              "#fdca26"
             ],
             [
              1,
              "#f0f921"
             ]
            ],
            "type": "contour"
           }
          ],
          "contourcarpet": [
           {
            "colorbar": {
             "outlinewidth": 0,
             "ticks": ""
            },
            "type": "contourcarpet"
           }
          ],
          "heatmap": [
           {
            "colorbar": {
             "outlinewidth": 0,
             "ticks": ""
            },
            "colorscale": [
             [
              0,
              "#0d0887"
             ],
             [
              0.1111111111111111,
              "#46039f"
             ],
             [
              0.2222222222222222,
              "#7201a8"
             ],
             [
              0.3333333333333333,
              "#9c179e"
             ],
             [
              0.4444444444444444,
              "#bd3786"
             ],
             [
              0.5555555555555556,
              "#d8576b"
             ],
             [
              0.6666666666666666,
              "#ed7953"
             ],
             [
              0.7777777777777778,
              "#fb9f3a"
             ],
             [
              0.8888888888888888,
              "#fdca26"
             ],
             [
              1,
              "#f0f921"
             ]
            ],
            "type": "heatmap"
           }
          ],
          "heatmapgl": [
           {
            "colorbar": {
             "outlinewidth": 0,
             "ticks": ""
            },
            "colorscale": [
             [
              0,
              "#0d0887"
             ],
             [
              0.1111111111111111,
              "#46039f"
             ],
             [
              0.2222222222222222,
              "#7201a8"
             ],
             [
              0.3333333333333333,
              "#9c179e"
             ],
             [
              0.4444444444444444,
              "#bd3786"
             ],
             [
              0.5555555555555556,
              "#d8576b"
             ],
             [
              0.6666666666666666,
              "#ed7953"
             ],
             [
              0.7777777777777778,
              "#fb9f3a"
             ],
             [
              0.8888888888888888,
              "#fdca26"
             ],
             [
              1,
              "#f0f921"
             ]
            ],
            "type": "heatmapgl"
           }
          ],
          "histogram": [
           {
            "marker": {
             "colorbar": {
              "outlinewidth": 0,
              "ticks": ""
             }
            },
            "type": "histogram"
           }
          ],
          "histogram2d": [
           {
            "colorbar": {
             "outlinewidth": 0,
             "ticks": ""
            },
            "colorscale": [
             [
              0,
              "#0d0887"
             ],
             [
              0.1111111111111111,
              "#46039f"
             ],
             [
              0.2222222222222222,
              "#7201a8"
             ],
             [
              0.3333333333333333,
              "#9c179e"
             ],
             [
              0.4444444444444444,
              "#bd3786"
             ],
             [
              0.5555555555555556,
              "#d8576b"
             ],
             [
              0.6666666666666666,
              "#ed7953"
             ],
             [
              0.7777777777777778,
              "#fb9f3a"
             ],
             [
              0.8888888888888888,
              "#fdca26"
             ],
             [
              1,
              "#f0f921"
             ]
            ],
            "type": "histogram2d"
           }
          ],
          "histogram2dcontour": [
           {
            "colorbar": {
             "outlinewidth": 0,
             "ticks": ""
            },
            "colorscale": [
             [
              0,
              "#0d0887"
             ],
             [
              0.1111111111111111,
              "#46039f"
             ],
             [
              0.2222222222222222,
              "#7201a8"
             ],
             [
              0.3333333333333333,
              "#9c179e"
             ],
             [
              0.4444444444444444,
              "#bd3786"
             ],
             [
              0.5555555555555556,
              "#d8576b"
             ],
             [
              0.6666666666666666,
              "#ed7953"
             ],
             [
              0.7777777777777778,
              "#fb9f3a"
             ],
             [
              0.8888888888888888,
              "#fdca26"
             ],
             [
              1,
              "#f0f921"
             ]
            ],
            "type": "histogram2dcontour"
           }
          ],
          "mesh3d": [
           {
            "colorbar": {
             "outlinewidth": 0,
             "ticks": ""
            },
            "type": "mesh3d"
           }
          ],
          "parcoords": [
           {
            "line": {
             "colorbar": {
              "outlinewidth": 0,
              "ticks": ""
             }
            },
            "type": "parcoords"
           }
          ],
          "pie": [
           {
            "automargin": true,
            "type": "pie"
           }
          ],
          "scatter": [
           {
            "marker": {
             "colorbar": {
              "outlinewidth": 0,
              "ticks": ""
             }
            },
            "type": "scatter"
           }
          ],
          "scatter3d": [
           {
            "line": {
             "colorbar": {
              "outlinewidth": 0,
              "ticks": ""
             }
            },
            "marker": {
             "colorbar": {
              "outlinewidth": 0,
              "ticks": ""
             }
            },
            "type": "scatter3d"
           }
          ],
          "scattercarpet": [
           {
            "marker": {
             "colorbar": {
              "outlinewidth": 0,
              "ticks": ""
             }
            },
            "type": "scattercarpet"
           }
          ],
          "scattergeo": [
           {
            "marker": {
             "colorbar": {
              "outlinewidth": 0,
              "ticks": ""
             }
            },
            "type": "scattergeo"
           }
          ],
          "scattergl": [
           {
            "marker": {
             "colorbar": {
              "outlinewidth": 0,
              "ticks": ""
             }
            },
            "type": "scattergl"
           }
          ],
          "scattermapbox": [
           {
            "marker": {
             "colorbar": {
              "outlinewidth": 0,
              "ticks": ""
             }
            },
            "type": "scattermapbox"
           }
          ],
          "scatterpolar": [
           {
            "marker": {
             "colorbar": {
              "outlinewidth": 0,
              "ticks": ""
             }
            },
            "type": "scatterpolar"
           }
          ],
          "scatterpolargl": [
           {
            "marker": {
             "colorbar": {
              "outlinewidth": 0,
              "ticks": ""
             }
            },
            "type": "scatterpolargl"
           }
          ],
          "scatterternary": [
           {
            "marker": {
             "colorbar": {
              "outlinewidth": 0,
              "ticks": ""
             }
            },
            "type": "scatterternary"
           }
          ],
          "surface": [
           {
            "colorbar": {
             "outlinewidth": 0,
             "ticks": ""
            },
            "colorscale": [
             [
              0,
              "#0d0887"
             ],
             [
              0.1111111111111111,
              "#46039f"
             ],
             [
              0.2222222222222222,
              "#7201a8"
             ],
             [
              0.3333333333333333,
              "#9c179e"
             ],
             [
              0.4444444444444444,
              "#bd3786"
             ],
             [
              0.5555555555555556,
              "#d8576b"
             ],
             [
              0.6666666666666666,
              "#ed7953"
             ],
             [
              0.7777777777777778,
              "#fb9f3a"
             ],
             [
              0.8888888888888888,
              "#fdca26"
             ],
             [
              1,
              "#f0f921"
             ]
            ],
            "type": "surface"
           }
          ],
          "table": [
           {
            "cells": {
             "fill": {
              "color": "#EBF0F8"
             },
             "line": {
              "color": "white"
             }
            },
            "header": {
             "fill": {
              "color": "#C8D4E3"
             },
             "line": {
              "color": "white"
             }
            },
            "type": "table"
           }
          ]
         },
         "layout": {
          "annotationdefaults": {
           "arrowcolor": "#2a3f5f",
           "arrowhead": 0,
           "arrowwidth": 1
          },
          "autotypenumbers": "strict",
          "coloraxis": {
           "colorbar": {
            "outlinewidth": 0,
            "ticks": ""
           }
          },
          "colorscale": {
           "diverging": [
            [
             0,
             "#8e0152"
            ],
            [
             0.1,
             "#c51b7d"
            ],
            [
             0.2,
             "#de77ae"
            ],
            [
             0.3,
             "#f1b6da"
            ],
            [
             0.4,
             "#fde0ef"
            ],
            [
             0.5,
             "#f7f7f7"
            ],
            [
             0.6,
             "#e6f5d0"
            ],
            [
             0.7,
             "#b8e186"
            ],
            [
             0.8,
             "#7fbc41"
            ],
            [
             0.9,
             "#4d9221"
            ],
            [
             1,
             "#276419"
            ]
           ],
           "sequential": [
            [
             0,
             "#0d0887"
            ],
            [
             0.1111111111111111,
             "#46039f"
            ],
            [
             0.2222222222222222,
             "#7201a8"
            ],
            [
             0.3333333333333333,
             "#9c179e"
            ],
            [
             0.4444444444444444,
             "#bd3786"
            ],
            [
             0.5555555555555556,
             "#d8576b"
            ],
            [
             0.6666666666666666,
             "#ed7953"
            ],
            [
             0.7777777777777778,
             "#fb9f3a"
            ],
            [
             0.8888888888888888,
             "#fdca26"
            ],
            [
             1,
             "#f0f921"
            ]
           ],
           "sequentialminus": [
            [
             0,
             "#0d0887"
            ],
            [
             0.1111111111111111,
             "#46039f"
            ],
            [
             0.2222222222222222,
             "#7201a8"
            ],
            [
             0.3333333333333333,
             "#9c179e"
            ],
            [
             0.4444444444444444,
             "#bd3786"
            ],
            [
             0.5555555555555556,
             "#d8576b"
            ],
            [
             0.6666666666666666,
             "#ed7953"
            ],
            [
             0.7777777777777778,
             "#fb9f3a"
            ],
            [
             0.8888888888888888,
             "#fdca26"
            ],
            [
             1,
             "#f0f921"
            ]
           ]
          },
          "colorway": [
           "#636efa",
           "#EF553B",
           "#00cc96",
           "#ab63fa",
           "#FFA15A",
           "#19d3f3",
           "#FF6692",
           "#B6E880",
           "#FF97FF",
           "#FECB52"
          ],
          "font": {
           "color": "#2a3f5f"
          },
          "geo": {
           "bgcolor": "white",
           "lakecolor": "white",
           "landcolor": "#E5ECF6",
           "showlakes": true,
           "showland": true,
           "subunitcolor": "white"
          },
          "hoverlabel": {
           "align": "left"
          },
          "hovermode": "closest",
          "mapbox": {
           "style": "light"
          },
          "paper_bgcolor": "white",
          "plot_bgcolor": "#E5ECF6",
          "polar": {
           "angularaxis": {
            "gridcolor": "white",
            "linecolor": "white",
            "ticks": ""
           },
           "bgcolor": "#E5ECF6",
           "radialaxis": {
            "gridcolor": "white",
            "linecolor": "white",
            "ticks": ""
           }
          },
          "scene": {
           "xaxis": {
            "backgroundcolor": "#E5ECF6",
            "gridcolor": "white",
            "gridwidth": 2,
            "linecolor": "white",
            "showbackground": true,
            "ticks": "",
            "zerolinecolor": "white"
           },
           "yaxis": {
            "backgroundcolor": "#E5ECF6",
            "gridcolor": "white",
            "gridwidth": 2,
            "linecolor": "white",
            "showbackground": true,
            "ticks": "",
            "zerolinecolor": "white"
           },
           "zaxis": {
            "backgroundcolor": "#E5ECF6",
            "gridcolor": "white",
            "gridwidth": 2,
            "linecolor": "white",
            "showbackground": true,
            "ticks": "",
            "zerolinecolor": "white"
           }
          },
          "shapedefaults": {
           "line": {
            "color": "#2a3f5f"
           }
          },
          "ternary": {
           "aaxis": {
            "gridcolor": "white",
            "linecolor": "white",
            "ticks": ""
           },
           "baxis": {
            "gridcolor": "white",
            "linecolor": "white",
            "ticks": ""
           },
           "bgcolor": "#E5ECF6",
           "caxis": {
            "gridcolor": "white",
            "linecolor": "white",
            "ticks": ""
           }
          },
          "title": {
           "x": 0.05
          },
          "xaxis": {
           "automargin": true,
           "gridcolor": "white",
           "linecolor": "white",
           "ticks": "",
           "title": {
            "standoff": 15
           },
           "zerolinecolor": "white",
           "zerolinewidth": 2
          },
          "yaxis": {
           "automargin": true,
           "gridcolor": "white",
           "linecolor": "white",
           "ticks": "",
           "title": {
            "standoff": 15
           },
           "zerolinecolor": "white",
           "zerolinewidth": 2
          }
         }
        },
        "xaxis": {
         "anchor": "y",
         "domain": [
          0,
          1
         ],
         "title": {
          "text": "logret_std"
         }
        },
        "yaxis": {
         "anchor": "x",
         "domain": [
          0,
          1
         ],
         "title": {
          "text": "logret_mean"
         }
        }
       }
      },
      "text/html": [
       "<div>                            <div id=\"09a963e7-c3d2-4768-bc20-778c86104fd0\" class=\"plotly-graph-div\" style=\"height:525px; width:100%;\"></div>            <script type=\"text/javascript\">                require([\"plotly\"], function(Plotly) {                    window.PLOTLYENV=window.PLOTLYENV || {};                                    if (document.getElementById(\"09a963e7-c3d2-4768-bc20-778c86104fd0\")) {                    Plotly.newPlot(                        \"09a963e7-c3d2-4768-bc20-778c86104fd0\",                        [{\"hovertemplate\": \"<b>%{hovertext}</b><br><br>logret_std=%{x}<br>logret_mean=%{y}<br>size=%{marker.size}<br>color=%{marker.color}<extra></extra>\", \"hovertext\": [\"20MICRONS\", \"21STCENMGM\", \"3IINFOTECH\", \"3MINDIA\", \"5PAISA\", \"63MOONS\", \"A2ZINFRA\", \"AARTIDRUGS\", \"AARTIIND\", \"AARVEEDEN\", \"AAVAS\", \"ABB\", \"ABBOTINDIA\", \"ABCAPITAL\", \"ABFRL\", \"ACC\", \"ACCELYA\", \"ACE\", \"ADANIENT\", \"ADANIGREEN\", \"ADANIPORTS\", \"ADANIPOWER\", \"ADANITRANS\", \"ADFFOODS\", \"ADORWELD\", \"ADSL\", \"ADVANIHOTR\", \"ADVENZYMES\", \"AEGISCHEM\", \"AGARIND\", \"AGRITECH\", \"AHLEAST\", \"AHLUCONT\", \"AHLWEST\", \"AIAENG\", \"AJANTPHARM\", \"AJMERA\", \"AKSHARCHEM\", \"AKSHOPTFBR\", \"AKZOINDIA\", \"ALANKIT\", \"ALBERTDAVD\", \"ALEMBICLTD\", \"ALICON\", \"ALKALI\", \"ALKEM\", \"ALKYLAMINE\", \"ALLCARGO\", \"ALMONDZ\", \"ALPA\", \"ALPHAGEO\", \"AMARAJABAT\", \"AMBER\", \"AMBIKCO\", \"AMBUJACEM\", \"AMDIND\", \"AMJLAND\", \"AMRUTANJAN\", \"ANANTRAJ\", \"ANDHRAPAP\", \"ANDHRSUGAR\", \"ANIKINDS\", \"ANSALAPI\", \"APARINDS\", \"APCL\", \"APEX\", \"APLAPOLLO\", \"APLLTD\", \"APOLLO\", \"APOLLOHOSP\", \"APOLLOTYRE\", \"APTECHT\", \"ARCHIDPLY\", \"ARIES\", \"ARIHANT\", \"ARMANFIN\", \"AROGRANITE\", \"ARSHIYA\", \"ARSSINFRA\", \"ARVIND\", \"ARVSMART\", \"ASAHIINDIA\", \"ASAHISONG\", \"ASAL\", \"ASHIANA\", \"ASHOKA\", \"ASHOKLEY\", \"ASIANHOTNR\", \"ASIANPAINT\", \"ASIANTILES\", \"ASPINWALL\", \"ASTEC\", \"ASTERDM\", \"ASTRAL\", \"ASTRAMICRO\", \"ASTRAZEN\", \"ASTRON\", \"ATFL\", \"ATUL\", \"ATULAUTO\", \"AUBANK\", \"AURIONPRO\", \"AUROPHARMA\", \"AUSOMENT\", \"AUTOAXLES\", \"AUTOIND\", \"AVADHSUGAR\", \"AVANTIFEED\", \"AVTNPL\", \"AXISBANK\", \"AXISCADES\", \"AYMSYNTEX\", \"BAGFILMS\", \"BAJAJ-AUTO\", \"BAJAJCON\", \"BAJAJELEC\", \"BAJAJFINSV\", \"BAJAJHIND\", \"BAJAJHLDNG\", \"BAJFINANCE\", \"BALAJITELE\", \"BALAMINES\", \"BALKRISIND\", \"BALMLAWRIE\", \"BALPHARMA\", \"BALRAMCHIN\", \"BANARBEADS\", \"BANARISUG\", \"BANCOINDIA\", \"BANDHANBNK\", \"BANG\", \"BANKBARODA\", \"BANKINDIA\", \"BANSWRAS\", \"BASF\", \"BASML\", \"BATAINDIA\", \"BAYERCROP\", \"BBL\", \"BDL\", \"BEARDSELL\", \"BEDMUTHA\", \"BEL\", \"BEML\", \"BEPL\", \"BERGEPAINT\", \"BFINVEST\", \"BFUTILITIE\", \"BGRENERGY\", \"BHAGERIA\", \"BHAGYANGR\", \"BHAGYAPROP\", \"BHANDARI\", \"BHARATFORG\", \"BHARATGEAR\", \"BHARATRAS\", \"BHARATWIRE\", \"BHARTIARTL\", \"BHEL\", \"BIGBLOC\", \"BINDALAGRO\", \"BIOCON\", \"BIRLACABLE\", \"BIRLACORPN\", \"BLISSGVS\", \"BLKASHYAP\", \"BLS\", \"BLUEDART\", \"BLUESTARCO\", \"BODALCHEM\", \"BOMDYEING\", \"BORORENEW\", \"BOSCHLTD\", \"BPCL\", \"BPL\", \"BRIGADE\", \"BRITANNIA\", \"BRNL\", \"BROOKS\", \"BSE\", \"BSL\", \"BSOFT\", \"BUTTERFLY\", \"BYKE\", \"CADILAHC\", \"CALSOFT\", \"CAMLINFINE\", \"CANBK\", \"CANFINHOME\", \"CANTABIL\", \"CAPACITE\", \"CAPLIPOINT\", \"CARBORUNIV\", \"CAREERP\", \"CARERATING\", \"CASTROLIND\", \"CCL\", \"CDSL\", \"CEATLTD\", \"CELEBRITY\", \"CENTENKA\", \"CENTEXT\", \"CENTRALBK\", \"CENTRUM\", \"CENTUM\", \"CENTURYPLY\", \"CENTURYTEX\", \"CERA\", \"CEREBRAINT\", \"CESC\", \"CGCL\", \"CGPOWER\", \"CHALET\", \"CHAMBLFERT\", \"CHEMFAB\", \"CHENNPETRO\", \"CHOLAHLDNG\", \"CIGNITITEC\", \"CINELINE\", \"CIPLA\", \"CLEDUCATE\", \"CLNINDIA\", \"CMICABLES\", \"COALINDIA\", \"COCHINSHIP\", \"COFORGE\", \"COLPAL\", \"COMPINFO\", \"COMPUSOFT\", \"CONCOR\", \"CONSOFINVT\", \"CONTROLPR\", \"CORALFINAC\", \"CORDSCABLE\", \"COROMANDEL\", \"COSMOFILMS\"], \"legendgroup\": \"\", \"marker\": {\"color\": [-0.03938435912843298, -0.1271609953174884, -0.06490168589844397, 0.006572759270715581, -0.027715533375169653, 0.002324630833619448, -0.06805878003683491, 0.0014527608980379214, -0.04850448089570391, -0.06784088879447138, 0.16846970014311852, 0.026557575350622746, 0.14490383088434092, 0.0045586439998078635, 0.03044225014452549, -0.006965616351205776, 0.022396441817612026, -0.034090682725271486, 0.03875137499380318, 0.1600883586424559, -0.011880058701667936, 0.023256904784348796, 0.08341768739138795, 0.02368953807190866, -0.048721984027430894, 0.03968887258747493, -0.029856109047189792, -0.009771957988652486, -0.00925185356148443, -0.10997180634697766, -0.039787183458724305, -0.06222269458663886, -0.01650227769149663, 0.021662214990188007, -0.0035864876734728857, -0.043556970692389625, -0.054389188774724824, -0.07334232316915607, -0.13409311006832988, 0.027702354653625114, -0.07375891896385421, -0.00253258576551526, 0.03823096413872631, -0.07847827836775992, -0.033053407104661696, 0.011802044493485268, 0.06356093392427763, -0.01990411814705727, -0.0760516831972584, -0.0432087604440267, -0.11375462592723848, -0.004704566549032976, 0.041443529089666586, -0.10624093860780306, -0.02773833272474815, -0.03143713878937782, -0.0071763633379877305, 0.06822164494694397, -0.013145126613205415, -0.08757979933255552, -0.029008708006541005, -0.15763648047137413, -0.08479399024207977, -0.10614333769502063, 0.012869290257880762, -0.0072381833897779465, 0.0895434752172462, -0.006699373073627527, -0.056334624110425384, 0.02632912811659436, -0.07232916918867853, -0.023792457451037006, -0.05714025680610719, -0.054303514685002094, -0.04533621009637024, 0.0730998637247797, -0.04944957435460706, -0.07018269803062333, -0.05459966718482048, -0.11918021573911518, -0.0785057955674046, -0.05909423176043971, -0.04277925444205699, -0.09636465307259146, -0.0291946340538701, -0.029627063147079965, -0.03495997205009412, -0.06271803039618158, 0.07791260296740393, 0.03625542511065172, -0.031003447402667743, -0.023861976036250836, -0.0008693926252848967, 0.0073572548167066916, 0.008868793047130953, 0.09427576020944817, -0.11785230680918926, 0.008193739086146045, 0.0490444873202375, -0.06462462293967819, 0.0550386794751228, -0.11178456873761493, -0.08000275907335253, -0.01656049412291443, -0.08143789128719865, -0.12235790935532695, -0.022951091052404143, 0.05687617548369675, 0.021247334054540077, 0.04547336753276384, -0.05229790849240526, -0.047932061500660574, -0.11325885964204353, 0.04581557511321593, -0.08290020575093406, -0.0668851398263811, 0.08070363838358621, -0.03970469109549441, 0.03374548648399199, 0.09484274562892403, -0.07846024192829397, -0.01712919328390287, 0.014917330979147745, -0.06384960635256494, -0.08956507927331887, 0.08233819045229562, -0.05322973770539186, -0.04961614667135184, -0.09467261614746048, -0.013631245174993013, -0.14718809623657783, -0.03145592909891795, -0.0624646392993089, 0.005151027097267514, -0.0950983388244744, -0.08099408939979177, 0.11928054075673447, -0.04639935254117102, -0.07971249432074418, 0.010024186139321448, -0.1258235282470308, -0.037951917613282066, 0.02337782821975384, 0.01294180404104881, -0.058405387409582205, 0.10549674035532058, 0.025590682697253713, 0.03772579142983695, -0.06436180212591099, -0.07270224572141519, -0.07869533416227065, -0.019981500563819216, -0.06422682175970881, -0.011103207021388325, -0.08606694614416051, 0.02380397172061599, -0.15040502704057787, 0.06332998945894644, -0.07577581619295927, 0.0018870415687166668, -0.07709644922415411, -0.0612433032775215, -0.10366661733978044, 0.0044898412667173345, -0.010107029970496442, -0.09009198837408439, -0.07083993675961513, -0.09996963195332875, 0.06777821124830394, -0.06664456563483162, -0.04370056504120568, -0.0658337286755678, -0.056497991568806534, 0.049870737733212184, -0.08189337540479656, -0.001606076203250414, -0.006426429280889416, -0.0903257416797968, -0.08561916728174994, -0.052583873656306325, -0.0487652094173078, -0.10524512832862405, -0.05624087273644173, -0.1417439643594739, -0.0725505436689719, -0.0649250151240748, 0.05255248776868211, -0.038554059275872216, 0.053418465161931765, 0.10122999139645865, -0.046889070896883614, -0.03488361020525166, -0.025171824020971574, 0.03926680773664218, -0.06159149474016443, -0.03339678644198098, -0.0763714635365513, -0.005038370331714584, -0.06815722250666571, -0.030624068954796187, -0.0810916295587862, -0.1285265419282248, -0.10744176677395235, -0.10416803086868986, 0.007271395339168122, -0.01614323830533418, -0.048141058006152496, 0.02683925579332019, -0.03249879929132602, 0.022100304604627984, 0.07214537658968309, -0.12144639096861161, 0.03786108849882814, 0.005630697088538249, 0.01772168890630935, -0.16405416301736694, -0.007854498962897933, -0.04629513656959007, -0.05845240841681908, -0.02571484304640794, -0.07927482784225343, -0.015619904581294598, -0.14945890514975685, -0.030703892587336124, 0.02285555488718368, 0.0855729960638878, 0.029860965722990632, -0.03806956914803348, -0.049261362596626196, -0.03187029286941424, -0.030182002235300088, -0.04065352937944622, -0.038726552376552155, -0.0745026128228784, 0.04349186026597999, 0.012583440542067352], \"coloraxis\": \"coloraxis\", \"size\": [0.7400132117705699, 0.21898992915958795, 0.5885478340300415, 1.0128048078861147, 0.809276858250325, 0.9875888287902462, 0.5698080004830659, 0.9824135958858079, 0.6858781254047533, 0.5711013561557977, 1.9737903188407144, 1.1314303890020643, 1.8339083742610192, 1.0008494517051716, 1.15448898523986, 0.9324439144410608, 1.106730792994736, 0.7714353393024904, 1.2038101678751882, 1.9240404736546513, 0.9032728388928332, 1.1118383165791301, 1.4689398164686138, 1.1144063349657738, 0.6845870734735028, 1.2093749524796322, 0.7965708602566106, 0.9157860724964104, 0.918873300803496, 0.3210212674709173, 0.7376221329596672, 0.6044497517608218, 0.8758363385256929, 1.1023725800531787, 0.9525016973828138, 0.7152454846338092, 0.6509477618199561, 0.5384460218730684, 0.17784238307294736, 1.1382255533671093, 0.5359731986036957, 0.9587574330258541, 1.2007211206777708, 0.5079600935771152, 0.7775923848704982, 1.0438447231843988, 1.3510743875502882, 0.8556437433428753, 0.5223638419570321, 0.7173123859701748, 0.2985672619313619, 0.9458650210273014, 1.2197902170684638, 0.34316689802647204, 0.809141526202134, 0.7871862068688209, 0.9311929655368785, 1.3787393683670581, 0.8957636671517856, 0.4539354175845559, 0.8016008510497853, 0.038093986874440086, 0.47047138273502004, 0.34374623610744165, 1.0501796650967357, 0.9308260149710634, 1.505301178901468, 0.9340242774223688, 0.6394000750012113, 1.1300743752272766, 0.5444598865598154, 0.8325633953593715, 0.6346180121436328, 0.6514563048377803, 0.7046843012134725, 1.407695428558841, 0.6802682533737574, 0.5572008788939368, 0.6496984071293685, 0.26636212470331705, 0.5077967573830026, 0.6230196359806042, 0.7198618414604192, 0.4017904103068495, 0.8004972339176176, 0.7979304275848319, 0.7662754243499253, 0.6015095446546068, 1.4362628162762507, 1.1889947447989253, 0.7897605059050372, 0.8321507479506399, 0.9686297907187653, 1.017461405157462, 1.0264335718387119, 1.5333910074473838, 0.27424430724888954, 1.0224265963385986, 1.264907874570755, 0.5901924203178452, 1.3004881133305624, 0.3102610987931237, 0.49891110313968035, 0.8754907782773612, 0.49039246618225146, 0.2475000170749883, 0.8375575658120885, 1.3113950954585827, 1.0999099358192574, 1.2437104735874331, 0.6633611529552342, 0.6892758841385617, 0.30151002424870316, 1.2457417443747698, 0.4817124812206047, 0.576774477003513, 1.4528298037749596, 0.7381117899315727, 1.1740962875420566, 1.5367565112679176, 0.5080671540126157, 0.8721151020548399, 1.0623363954733385, 0.5947927525227157, 0.4421512217376065, 1.4625321542113932, 0.6578300146425585, 0.6792795158345841, 0.4118339785193741, 0.8928781716509647, 0.10011335430917867, 0.7870746716222801, 0.603013619848291, 1.0043657106939177, 0.4093069800344699, 0.4930267789817036, 1.6818140207610193, 0.6983737157260071, 0.5006340524436903, 1.0332917373795123, 0.22692884677694816, 0.7485158773177515, 1.1125560921512498, 1.050610091357995, 0.6271084682766925, 1.5999963384733182, 1.1256911216290728, 1.1977225238472415, 0.5917524682881564, 0.5422453842937122, 0.5066716969436177, 0.85518441791702, 0.5925536827860008, 0.9078840638170758, 0.462915389574236, 1.115085588556242, 0.08101834315128387, 1.3497035507461925, 0.5240013293156774, 0.9849913927852492, 0.5161623349441499, 0.6102632084731289, 0.3584475168311336, 1.0004410534410795, 0.913797157091686, 0.43902360234778215, 0.5532996507892184, 0.3803920290093533, 1.3761072410571424, 0.5782024737966759, 0.7143931393830367, 0.5830154280464608, 0.6384303608137797, 1.26981231977528, 0.4876888101704525, 0.9642569950330149, 0.9356444132242742, 0.43763609286973454, 0.46557330884417103, 0.6616637250874448, 0.684330496831886, 0.3490778142228745, 0.6399565630456727, 0.13242855325877634, 0.5431458551339547, 0.5884093567512726, 1.2857306126979344, 0.7449416935797938, 1.2908708687351564, 1.5746698319547145, 0.6954668526206739, 0.7667286918797992, 0.8243757713013791, 1.2068696660662643, 0.6081964186447673, 0.7755541587857626, 0.5204656944621339, 0.9438836333807511, 0.5692236670999876, 0.792012414987497, 0.49244780152218676, 0.21088433741474397, 0.3360390396333654, 0.3554712336865476, 1.0169517617173323, 0.8779675193009744, 0.6880353257158044, 1.1331023836839456, 0.7808844178762229, 1.1049729860256938, 1.402029797681088, 0.25291059467998783, 1.1985256182249027, 1.0072129288634952, 1.078982462539281, 0.0, 0.9271676979407818, 0.6989923193769451, 0.6268293616646612, 0.8211525268546027, 0.5032319467719816, 0.881073916021542, 0.08663431973352549, 0.791538599028472, 1.10945598968697, 1.4817332663926586, 1.1510386056105202, 0.7478175230460251, 0.6813854379940243, 0.7846150971697565, 0.7946364282024582, 0.7324796894224263, 0.7439178115373054, 0.5315587913934235, 1.2319486715239136, 1.0484829225040289], \"sizemode\": \"area\", \"sizeref\": 0.004934475797101786, \"symbol\": \"circle\"}, \"mode\": \"markers\", \"name\": \"\", \"orientation\": \"v\", \"showlegend\": false, \"type\": \"scatter\", \"x\": [0.02381003545168039, 0.014912417931634408, 0.03958684928915139, 0.018968586185895076, 0.04324907364655065, 0.03851826039076764, 0.03580404093156251, 0.01783105971420984, 0.04898868432824022, 0.03751306734752232, 0.020721123658124084, 0.01784360346405702, 0.01542064170805946, 0.023243854331326634, 0.020110450900032346, 0.017304777090125477, 0.021886880979793355, 0.028865068716626266, 0.02975911984645168, 0.03562105816276361, 0.02102504176707481, 0.034367237998857235, 0.02468870683520059, 0.022069430881833826, 0.02187706184388633, 0.045394855523967804, 0.025692313693905924, 0.025321615623085877, 0.023522496323328576, 0.03425309752943014, 0.03919128426646292, 0.021417508427281073, 0.020347480278299756, 0.03413908955598739, 0.017121048144637184, 0.0181346754537598, 0.028469292250723612, 0.035145423537690165, 0.039752134618686354, 0.015961809962652247, 0.04072822757606463, 0.023992015615150096, 0.02536605255131522, 0.024134177113825706, 0.03612036066009751, 0.012928622815094399, 0.021862086908259484, 0.02068817756253505, 0.03614279265862586, 0.04012741876338392, 0.03667828882022748, 0.017207337172206492, 0.020390276493387958, 0.011236572264119653, 0.018813682292910954, 0.04235418366540396, 0.028704110487379808, 0.02601448101220392, 0.0246732717395476, 0.020672395198661438, 0.020333153881755956, 0.03182846198610248, 0.040073150870917014, 0.02065931624240033, 0.029621274940383885, 0.034967493871799205, 0.021541581618319074, 0.016428491486806644, 0.038815425083545727, 0.020212733297724644, 0.020272333403548594, 0.029618840364672192, 0.031184568261718643, 0.03323014678606791, 0.04431781668242379, 0.026259944618145424, 0.027252800990409064, 0.041193263856876446, 0.04718297805756832, 0.03099769532091476, 0.021116488494595624, 0.019279331446454093, 0.03225732391494039, 0.038583693563884934, 0.020989445122542194, 0.027464198229513733, 0.026876144354784644, 0.026593316084776174, 0.013857946377506699, 0.025884026111321266, 0.026037201132832886, 0.025781997621499332, 0.023402097844124604, 0.023245005916270437, 0.023996284101154567, 0.025854383780878096, 0.03425848168204951, 0.017841695337604286, 0.013580270021270454, 0.020576146089786067, 0.01903426930441195, 0.029660117735346082, 0.024230476315832344, 0.04434026736301812, 0.026227102774631965, 0.034791185112676155, 0.0534261703270007, 0.029482612303207437, 0.02629070415641297, 0.01659231781029138, 0.035574545594238866, 0.030136345458291962, 0.03807887062095122, 0.01389914437892455, 0.022661791281273217, 0.022083092776591706, 0.01852703462872108, 0.032799478105357084, 0.017479751767189983, 0.020144781732699256, 0.0290650479373547, 0.032842343275890834, 0.017669260518218828, 0.031106270105948325, 0.02981815251569863, 0.028524131848239112, 0.03928608296662961, 0.020437105373395683, 0.023281209197678954, 0.027375944230951875, 0.03471616723235447, 0.024836787322841607, 0.02706726656754653, 0.03481010664950364, 0.019404763866633597, 0.03155129776892594, 0.015179298938285783, 0.014805213154522231, 0.01823924763672453, 0.02601166874230626, 0.038484910720973674, 0.04122732739071613, 0.023597190406480364, 0.027080821076335842, 0.03627560963333519, 0.017038613300652244, 0.03424578228549246, 0.0387107664700059, 0.03524907152327232, 0.050645431038199476, 0.024014898625253377, 0.03697771877852982, 0.04126175418697949, 0.02064998328460131, 0.034989649231985914, 0.029612824687025262, 0.02688413064006017, 0.022992812960727575, 0.028651593311692532, 0.03825053939571464, 0.03299529502430809, 0.05062259687975399, 0.047050301765145804, 0.025024533288243247, 0.0318148526011928, 0.04189641185671837, 0.0338406405396903, 0.018311025287718434, 0.01788511942340873, 0.026954892695732244, 0.035409026161005525, 0.02592740374738463, 0.01752659649169905, 0.02396827576382929, 0.039278502335209096, 0.029030855588142158, 0.01565590079065928, 0.03423121815427152, 0.03476197315520334, 0.014127111221539927, 0.038327057368014075, 0.043688502627330685, 0.03369987321942808, 0.03751760770095169, 0.018051933336634962, 0.03951013516302018, 0.034575437937461054, 0.02555356876626274, 0.024179006493856903, 0.03194420390646867, 0.026798118601187203, 0.028271954227284568, 0.019244633302887598, 0.034455644076749906, 0.028468136754314855, 0.019160751392597212, 0.01571721571556862, 0.016093723519393026, 0.01615368635896324, 0.03873870789058535, 0.01988297751928217, 0.03603773865220704, 0.02790333680344508, 0.02515773760483597, 0.02748005844187172, 0.02389488191217989, 0.05607913713802724, 0.019928817153291166, 0.028300312128123135, 0.017264867370839772, 0.026380893114588213, 0.05078689727303289, 0.02181181901612129, 0.024304771037362623, 0.019999834486823867, 0.021362640499045814, 0.01669978219060695, 0.02222262168845474, 0.02796357527656092, 0.014287851694453171, 0.024594329838592423, 0.02029753232996622, 0.03592872035612849, 0.01780010675670347, 0.013949056801556978, 0.01544909727722271, 0.01370269072441663, 0.03689770446720766, 0.0316880261702231, 0.02326187912130692, 0.03623123556047994, 0.026089987496101145, 0.034008446045920716, 0.024573911059498094, 0.015572279209263558, 0.02322956046498375], \"xaxis\": \"x\", \"y\": [-0.0009377429870897015, -0.0018962779067769927, -0.0025692532582735437, 0.00012467595070570937, -0.0011986711440961448, 8.954073576176114e-05, -0.0024367793461910463, 2.590426632338329e-05, -0.002376170703104797, -0.0025449198302627775, 0.0034908814893126437, 0.0004738828435233274, 0.002234510058192662, 0.00010596045707991017, 0.0006122073768179824, -0.00012053843825294914, 0.0004901882564329412, -0.0009840298994616655, 0.0011532068126553796, 0.005702516734384283, -0.0002497787303978689, 0.0007992755818404765, 0.002059474828876386, 0.0005228146231005591, -0.0010658938577249475, 0.0018016706370175908, -0.0007670725193198629, -0.00024744176407360164, -0.00021762669138399187, -0.0037668750082906306, -0.0015593108170927756, -0.001332655085677474, -0.0003357797698747537, 0.000739528297531081, -6.140442812767708e-05, -0.0007898915272554131, -0.0015484217105074171, -0.0025776470110181362, -0.005330487362874576, 0.00044217972049915915, -0.003004070037324364, -6.0761837232948974e-05, 0.0009697686454303791, -0.0018940086697156343, -0.0011939009856654099, 0.00015258418170323285, 0.001389574661422696, -0.00041177993045199695, -0.0027487202171380108, -0.001733856024584198, -0.00417232502439619, -8.095306285829434e-05, 0.0008450450170000686, -0.0011937839840744787, -0.0005218601792184667, -0.0013314943502001034, -0.00020599112615118158, 0.0017747506870935913, -0.00032433328097837625, -0.001810484223222053, -0.0005898385238079243, -0.005017326726306118, -0.003397962363917928, -0.002192848780465323, 0.0003812047850162899, -0.00025310113332501914, 0.0019289080797802404, -0.00011006059350703148, -0.0021866523817679253, 0.000532183644582345, -0.0014662810325945656, -0.0007047049991255205, -0.0017818942388621829, -0.0018045137639820137, -0.0020092018481267866, 0.0019195983730066926, -0.001347639408946542, -0.0028910543981629493, -0.002576174898731918, -0.003694312015761982, -0.0016577667288581754, -0.0011392972806830914, -0.001379944267377085, -0.0037181042445429513, -0.000612779169346408, -0.0008136835352297252, -0.0009395892554575661, -0.0016678804065402566, 0.001079708674054253, 0.0009384363702411617, -0.0008072429958344654, -0.0006152094094108931, -2.0345611281877512e-05, 0.00017101943174185623, 0.00021281807759329868, 0.0024374416856891095, -0.0040374410940098885, 0.0001461901964508379, 0.0006660373808636003, -0.0013297256826041582, 0.001047621047288698, -0.0033155434697525457, -0.0019385049589281094, -0.0007342967370737161, -0.002135879944538664, -0.00425697667438123, -0.0012261888997562454, 0.001676858231075023, 0.0005586073737403916, 0.0007545085660078033, -0.0018604743301464028, -0.0014444971639120032, -0.0043127694629858495, 0.0006367972933020507, -0.0018786671599022732, -0.0014770307481612828, 0.0014951991029964855, -0.0013022931462666352, 0.0005898627270032447, 0.0019105864096245911, -0.0022804506928223115, -0.0005625628458690219, 0.00026357820730705785, -0.001986123101361359, -0.0026706651938524606, 0.002348625400606703, -0.002091187891785957, -0.001014010417744273, -0.0022040929818205857, -0.00037316820770904056, -0.005109806563560919, -0.0007812642210722098, -0.0016907470429600368, 0.00017930780261036532, -0.0018453608089980397, -0.0025554686321758386, 0.0018105949856668537, -0.0006869523046038597, -0.0014538959236570508, 0.00026074580926724734, -0.004842307251184889, -0.0015646561325482655, 0.0005516510637915212, 0.00035047467964064295, -0.002118691034153714, 0.0017975181633936217, 0.0008763729481872696, 0.0014603943019365683, -0.0022686937665029367, -0.003682036572006166, -0.0018898604721873686, -0.0007388703086219419, -0.0026501113316600507, -0.00022928103939713685, -0.003011452256052399, 0.0007049028414175085, -0.004043508395880678, 0.0014561346024344044, -0.0021710978684222346, 7.218035786554802e-05, -0.0025438200874775534, -0.003100295053402487, -0.0048775456288085665, 0.00011235618223789615, -0.00032155366874718234, -0.0037745310499113227, -0.0023972688357365287, -0.0018305464587013076, 0.0012122214024809408, -0.001796397115440571, -0.0015473944507947755, -0.0017068976635672198, -0.0009902175008178872, 0.0011953155945352363, -0.003216649137075457, -4.662576632011442e-05, -0.00010061153925979256, -0.0030919601683875, -0.0029762911946190555, -0.0007428582316020428, -0.0018690269789003765, -0.004598002065498847, -0.0018953102809680755, -0.005317894448816419, -0.0013096775778489043, -0.002565196123013325, 0.0018170252793052496, -0.0009851938049245704, 0.0012916054160422169, 0.003233711486618544, -0.0012565388829941623, -0.0009862278310053118, -0.0004844225228484156, 0.0013529631514039124, -0.001753395095165665, -0.0006399075223264587, -0.0012003467669176602, -8.108613910692704e-05, -0.0011009903954707484, -0.001186336861660993, -0.0016123430475193034, -0.004631805927881295, -0.0029979838050507874, -0.002620631987406953, 0.00019981836887429365, -0.0003857407729861392, -0.00269970899389675, 0.0005348746212354887, -0.0009197261637337533, 0.00038155882785406166, 0.0019032594685241444, -0.006167885382303467, 0.0008258192100897907, 0.0001368528035176665, 0.00035443084495316964, -0.003504630106911867, -0.00013116842189674367, -0.0010287993060013464, -0.0016345383228600033, -0.00036740986379321704, -0.0019497112638500107, -0.0003170455182298146, -0.005369867207858746, -0.0005465325659009394, 0.00031881343335242836, 0.0013220255404943987, 0.00040917557803454667, -0.0014046797116180657, -0.0015609953471427403, -0.000741362900288964, -0.0010935312326740896, -0.0010606500731821325, -0.0013170298670424966, -0.001830820581209636, 0.0006772673913921159, 0.00029230779292948147], \"yaxis\": \"y\"}],                        {\"coloraxis\": {\"colorbar\": {\"title\": {\"text\": \"color\"}}, \"colorscale\": [[0.0, \"#0d0887\"], [0.1111111111111111, \"#46039f\"], [0.2222222222222222, \"#7201a8\"], [0.3333333333333333, \"#9c179e\"], [0.4444444444444444, \"#bd3786\"], [0.5555555555555556, \"#d8576b\"], [0.6666666666666666, \"#ed7953\"], [0.7777777777777778, \"#fb9f3a\"], [0.8888888888888888, \"#fdca26\"], [1.0, \"#f0f921\"]]}, \"legend\": {\"itemsizing\": \"constant\", \"tracegroupgap\": 0}, \"margin\": {\"t\": 60}, \"template\": {\"data\": {\"bar\": [{\"error_x\": {\"color\": \"#2a3f5f\"}, \"error_y\": {\"color\": \"#2a3f5f\"}, \"marker\": {\"line\": {\"color\": \"#E5ECF6\", \"width\": 0.5}}, \"type\": \"bar\"}], \"barpolar\": [{\"marker\": {\"line\": {\"color\": \"#E5ECF6\", \"width\": 0.5}}, \"type\": \"barpolar\"}], \"carpet\": [{\"aaxis\": {\"endlinecolor\": \"#2a3f5f\", \"gridcolor\": \"white\", \"linecolor\": \"white\", \"minorgridcolor\": \"white\", \"startlinecolor\": \"#2a3f5f\"}, \"baxis\": {\"endlinecolor\": \"#2a3f5f\", \"gridcolor\": \"white\", \"linecolor\": \"white\", \"minorgridcolor\": \"white\", \"startlinecolor\": \"#2a3f5f\"}, \"type\": \"carpet\"}], \"choropleth\": [{\"colorbar\": {\"outlinewidth\": 0, \"ticks\": \"\"}, \"type\": \"choropleth\"}], \"contour\": [{\"colorbar\": {\"outlinewidth\": 0, \"ticks\": \"\"}, \"colorscale\": [[0.0, \"#0d0887\"], [0.1111111111111111, \"#46039f\"], [0.2222222222222222, \"#7201a8\"], [0.3333333333333333, \"#9c179e\"], [0.4444444444444444, \"#bd3786\"], [0.5555555555555556, \"#d8576b\"], [0.6666666666666666, \"#ed7953\"], [0.7777777777777778, \"#fb9f3a\"], [0.8888888888888888, \"#fdca26\"], [1.0, \"#f0f921\"]], \"type\": \"contour\"}], \"contourcarpet\": [{\"colorbar\": {\"outlinewidth\": 0, \"ticks\": \"\"}, \"type\": \"contourcarpet\"}], \"heatmap\": [{\"colorbar\": {\"outlinewidth\": 0, \"ticks\": \"\"}, \"colorscale\": [[0.0, \"#0d0887\"], [0.1111111111111111, \"#46039f\"], [0.2222222222222222, \"#7201a8\"], [0.3333333333333333, \"#9c179e\"], [0.4444444444444444, \"#bd3786\"], [0.5555555555555556, \"#d8576b\"], [0.6666666666666666, \"#ed7953\"], [0.7777777777777778, \"#fb9f3a\"], [0.8888888888888888, \"#fdca26\"], [1.0, \"#f0f921\"]], \"type\": \"heatmap\"}], \"heatmapgl\": [{\"colorbar\": {\"outlinewidth\": 0, \"ticks\": \"\"}, \"colorscale\": [[0.0, \"#0d0887\"], [0.1111111111111111, \"#46039f\"], [0.2222222222222222, \"#7201a8\"], [0.3333333333333333, \"#9c179e\"], [0.4444444444444444, \"#bd3786\"], [0.5555555555555556, \"#d8576b\"], [0.6666666666666666, \"#ed7953\"], [0.7777777777777778, \"#fb9f3a\"], [0.8888888888888888, \"#fdca26\"], [1.0, \"#f0f921\"]], \"type\": \"heatmapgl\"}], \"histogram\": [{\"marker\": {\"colorbar\": {\"outlinewidth\": 0, \"ticks\": \"\"}}, \"type\": \"histogram\"}], \"histogram2d\": [{\"colorbar\": {\"outlinewidth\": 0, \"ticks\": \"\"}, \"colorscale\": [[0.0, \"#0d0887\"], [0.1111111111111111, \"#46039f\"], [0.2222222222222222, \"#7201a8\"], [0.3333333333333333, \"#9c179e\"], [0.4444444444444444, \"#bd3786\"], [0.5555555555555556, \"#d8576b\"], [0.6666666666666666, \"#ed7953\"], [0.7777777777777778, \"#fb9f3a\"], [0.8888888888888888, \"#fdca26\"], [1.0, \"#f0f921\"]], \"type\": \"histogram2d\"}], \"histogram2dcontour\": [{\"colorbar\": {\"outlinewidth\": 0, \"ticks\": \"\"}, \"colorscale\": [[0.0, \"#0d0887\"], [0.1111111111111111, \"#46039f\"], [0.2222222222222222, \"#7201a8\"], [0.3333333333333333, \"#9c179e\"], [0.4444444444444444, \"#bd3786\"], [0.5555555555555556, \"#d8576b\"], [0.6666666666666666, \"#ed7953\"], [0.7777777777777778, \"#fb9f3a\"], [0.8888888888888888, \"#fdca26\"], [1.0, \"#f0f921\"]], \"type\": \"histogram2dcontour\"}], \"mesh3d\": [{\"colorbar\": {\"outlinewidth\": 0, \"ticks\": \"\"}, \"type\": \"mesh3d\"}], \"parcoords\": [{\"line\": {\"colorbar\": {\"outlinewidth\": 0, \"ticks\": \"\"}}, \"type\": \"parcoords\"}], \"pie\": [{\"automargin\": true, \"type\": \"pie\"}], \"scatter\": [{\"marker\": {\"colorbar\": {\"outlinewidth\": 0, \"ticks\": \"\"}}, \"type\": \"scatter\"}], \"scatter3d\": [{\"line\": {\"colorbar\": {\"outlinewidth\": 0, \"ticks\": \"\"}}, \"marker\": {\"colorbar\": {\"outlinewidth\": 0, \"ticks\": \"\"}}, \"type\": \"scatter3d\"}], \"scattercarpet\": [{\"marker\": {\"colorbar\": {\"outlinewidth\": 0, \"ticks\": \"\"}}, \"type\": \"scattercarpet\"}], \"scattergeo\": [{\"marker\": {\"colorbar\": {\"outlinewidth\": 0, \"ticks\": \"\"}}, \"type\": \"scattergeo\"}], \"scattergl\": [{\"marker\": {\"colorbar\": {\"outlinewidth\": 0, \"ticks\": \"\"}}, \"type\": \"scattergl\"}], \"scattermapbox\": [{\"marker\": {\"colorbar\": {\"outlinewidth\": 0, \"ticks\": \"\"}}, \"type\": \"scattermapbox\"}], \"scatterpolar\": [{\"marker\": {\"colorbar\": {\"outlinewidth\": 0, \"ticks\": \"\"}}, \"type\": \"scatterpolar\"}], \"scatterpolargl\": [{\"marker\": {\"colorbar\": {\"outlinewidth\": 0, \"ticks\": \"\"}}, \"type\": \"scatterpolargl\"}], \"scatterternary\": [{\"marker\": {\"colorbar\": {\"outlinewidth\": 0, \"ticks\": \"\"}}, \"type\": \"scatterternary\"}], \"surface\": [{\"colorbar\": {\"outlinewidth\": 0, \"ticks\": \"\"}, \"colorscale\": [[0.0, \"#0d0887\"], [0.1111111111111111, \"#46039f\"], [0.2222222222222222, \"#7201a8\"], [0.3333333333333333, \"#9c179e\"], [0.4444444444444444, \"#bd3786\"], [0.5555555555555556, \"#d8576b\"], [0.6666666666666666, \"#ed7953\"], [0.7777777777777778, \"#fb9f3a\"], [0.8888888888888888, \"#fdca26\"], [1.0, \"#f0f921\"]], \"type\": \"surface\"}], \"table\": [{\"cells\": {\"fill\": {\"color\": \"#EBF0F8\"}, \"line\": {\"color\": \"white\"}}, \"header\": {\"fill\": {\"color\": \"#C8D4E3\"}, \"line\": {\"color\": \"white\"}}, \"type\": \"table\"}]}, \"layout\": {\"annotationdefaults\": {\"arrowcolor\": \"#2a3f5f\", \"arrowhead\": 0, \"arrowwidth\": 1}, \"autotypenumbers\": \"strict\", \"coloraxis\": {\"colorbar\": {\"outlinewidth\": 0, \"ticks\": \"\"}}, \"colorscale\": {\"diverging\": [[0, \"#8e0152\"], [0.1, \"#c51b7d\"], [0.2, \"#de77ae\"], [0.3, \"#f1b6da\"], [0.4, \"#fde0ef\"], [0.5, \"#f7f7f7\"], [0.6, \"#e6f5d0\"], [0.7, \"#b8e186\"], [0.8, \"#7fbc41\"], [0.9, \"#4d9221\"], [1, \"#276419\"]], \"sequential\": [[0.0, \"#0d0887\"], [0.1111111111111111, \"#46039f\"], [0.2222222222222222, \"#7201a8\"], [0.3333333333333333, \"#9c179e\"], [0.4444444444444444, \"#bd3786\"], [0.5555555555555556, \"#d8576b\"], [0.6666666666666666, \"#ed7953\"], [0.7777777777777778, \"#fb9f3a\"], [0.8888888888888888, \"#fdca26\"], [1.0, \"#f0f921\"]], \"sequentialminus\": [[0.0, \"#0d0887\"], [0.1111111111111111, \"#46039f\"], [0.2222222222222222, \"#7201a8\"], [0.3333333333333333, \"#9c179e\"], [0.4444444444444444, \"#bd3786\"], [0.5555555555555556, \"#d8576b\"], [0.6666666666666666, \"#ed7953\"], [0.7777777777777778, \"#fb9f3a\"], [0.8888888888888888, \"#fdca26\"], [1.0, \"#f0f921\"]]}, \"colorway\": [\"#636efa\", \"#EF553B\", \"#00cc96\", \"#ab63fa\", \"#FFA15A\", \"#19d3f3\", \"#FF6692\", \"#B6E880\", \"#FF97FF\", \"#FECB52\"], \"font\": {\"color\": \"#2a3f5f\"}, \"geo\": {\"bgcolor\": \"white\", \"lakecolor\": \"white\", \"landcolor\": \"#E5ECF6\", \"showlakes\": true, \"showland\": true, \"subunitcolor\": \"white\"}, \"hoverlabel\": {\"align\": \"left\"}, \"hovermode\": \"closest\", \"mapbox\": {\"style\": \"light\"}, \"paper_bgcolor\": \"white\", \"plot_bgcolor\": \"#E5ECF6\", \"polar\": {\"angularaxis\": {\"gridcolor\": \"white\", \"linecolor\": \"white\", \"ticks\": \"\"}, \"bgcolor\": \"#E5ECF6\", \"radialaxis\": {\"gridcolor\": \"white\", \"linecolor\": \"white\", \"ticks\": \"\"}}, \"scene\": {\"xaxis\": {\"backgroundcolor\": \"#E5ECF6\", \"gridcolor\": \"white\", \"gridwidth\": 2, \"linecolor\": \"white\", \"showbackground\": true, \"ticks\": \"\", \"zerolinecolor\": \"white\"}, \"yaxis\": {\"backgroundcolor\": \"#E5ECF6\", \"gridcolor\": \"white\", \"gridwidth\": 2, \"linecolor\": \"white\", \"showbackground\": true, \"ticks\": \"\", \"zerolinecolor\": \"white\"}, \"zaxis\": {\"backgroundcolor\": \"#E5ECF6\", \"gridcolor\": \"white\", \"gridwidth\": 2, \"linecolor\": \"white\", \"showbackground\": true, \"ticks\": \"\", \"zerolinecolor\": \"white\"}}, \"shapedefaults\": {\"line\": {\"color\": \"#2a3f5f\"}}, \"ternary\": {\"aaxis\": {\"gridcolor\": \"white\", \"linecolor\": \"white\", \"ticks\": \"\"}, \"baxis\": {\"gridcolor\": \"white\", \"linecolor\": \"white\", \"ticks\": \"\"}, \"bgcolor\": \"#E5ECF6\", \"caxis\": {\"gridcolor\": \"white\", \"linecolor\": \"white\", \"ticks\": \"\"}}, \"title\": {\"x\": 0.05}, \"xaxis\": {\"automargin\": true, \"gridcolor\": \"white\", \"linecolor\": \"white\", \"ticks\": \"\", \"title\": {\"standoff\": 15}, \"zerolinecolor\": \"white\", \"zerolinewidth\": 2}, \"yaxis\": {\"automargin\": true, \"gridcolor\": \"white\", \"linecolor\": \"white\", \"ticks\": \"\", \"title\": {\"standoff\": 15}, \"zerolinecolor\": \"white\", \"zerolinewidth\": 2}}}, \"xaxis\": {\"anchor\": \"y\", \"domain\": [0.0, 1.0], \"title\": {\"text\": \"logret_std\"}}, \"yaxis\": {\"anchor\": \"x\", \"domain\": [0.0, 1.0], \"title\": {\"text\": \"logret_mean\"}}},                        {\"responsive\": true}                    ).then(function(){\n",
       "                            \n",
       "var gd = document.getElementById('09a963e7-c3d2-4768-bc20-778c86104fd0');\n",
       "var x = new MutationObserver(function (mutations, observer) {{\n",
       "        var display = window.getComputedStyle(gd).display;\n",
       "        if (!display || display === 'none') {{\n",
       "            console.log([gd, 'removed!']);\n",
       "            Plotly.purge(gd);\n",
       "            observer.disconnect();\n",
       "        }}\n",
       "}});\n",
       "\n",
       "// Listen for the removal of the full notebook cells\n",
       "var notebookContainer = gd.closest('#notebook-container');\n",
       "if (notebookContainer) {{\n",
       "    x.observe(notebookContainer, {childList: true});\n",
       "}}\n",
       "\n",
       "// Listen for the clearing of the current output cell\n",
       "var outputEl = gd.closest('.output');\n",
       "if (outputEl) {{\n",
       "    x.observe(outputEl, {childList: true});\n",
       "}}\n",
       "\n",
       "                        })                };                });            </script>        </div>"
      ]
     },
     "metadata": {},
     "output_type": "display_data"
    }
   ],
   "source": [
    "import plotly.express as px\n",
    "from sklearn.preprocessing import normalize\n",
    "\n",
    "ticker_colour = estims['logret_mean'] / estims['logret_std']\n",
    "ticker_size = (ticker_colour - ticker_colour.min()) / ticker_colour.max()\n",
    "fig = px.scatter(estims, x='logret_std', y='logret_mean',\n",
    "                 hover_name=estims.index, \n",
    "                 color=ticker_colour,\n",
    "                 size=ticker_size)\n",
    "fig.show()"
   ]
  },
  {
   "cell_type": "markdown",
   "metadata": {},
   "source": [
    "## 3 - uniform portfolio"
   ]
  },
  {
   "cell_type": "code",
   "execution_count": 128,
   "metadata": {},
   "outputs": [
    {
     "data": {
      "application/vnd.plotly.v1+json": {
       "config": {
        "plotlyServerURL": "https://plot.ly"
       },
       "data": [
        {
         "hovertemplate": "<b>%{hovertext}</b><br><br>logret_std=%{x}<br>logret_mean=%{y}<br>size=%{marker.size}<br>color=%{marker.color}<extra></extra>",
         "hovertext": [
          "20MICRONS",
          "21STCENMGM",
          "3IINFOTECH",
          "3MINDIA",
          "5PAISA",
          "63MOONS",
          "A2ZINFRA",
          "AARTIDRUGS",
          "AARTIIND",
          "AARVEEDEN",
          "AAVAS",
          "ABB",
          "ABBOTINDIA",
          "ABCAPITAL",
          "ABFRL",
          "ACC",
          "ACCELYA",
          "ACE",
          "ADANIENT",
          "ADANIGREEN",
          "ADANIPORTS",
          "ADANIPOWER",
          "ADANITRANS",
          "ADFFOODS",
          "ADORWELD",
          "ADSL",
          "ADVANIHOTR",
          "ADVENZYMES",
          "AEGISCHEM",
          "AGARIND",
          "AGRITECH",
          "AHLEAST",
          "AHLUCONT",
          "AHLWEST",
          "AIAENG",
          "AJANTPHARM",
          "AJMERA",
          "AKSHARCHEM",
          "AKSHOPTFBR",
          "AKZOINDIA",
          "ALANKIT",
          "ALBERTDAVD",
          "ALEMBICLTD",
          "ALICON",
          "ALKALI",
          "ALKEM",
          "ALKYLAMINE",
          "ALLCARGO",
          "ALMONDZ",
          "ALPA",
          "ALPHAGEO",
          "AMARAJABAT",
          "AMBER",
          "AMBIKCO",
          "AMBUJACEM",
          "AMDIND",
          "AMJLAND",
          "AMRUTANJAN",
          "ANANTRAJ",
          "ANDHRAPAP",
          "ANDHRSUGAR",
          "ANIKINDS",
          "ANSALAPI",
          "APARINDS",
          "APCL",
          "APEX",
          "APLAPOLLO",
          "APLLTD",
          "APOLLO",
          "APOLLOHOSP",
          "APOLLOTYRE",
          "APTECHT",
          "ARCHIDPLY",
          "ARIES",
          "ARIHANT",
          "ARMANFIN",
          "AROGRANITE",
          "ARSHIYA",
          "ARSSINFRA",
          "ARVIND",
          "ARVSMART",
          "ASAHIINDIA",
          "ASAHISONG",
          "ASAL",
          "ASHIANA",
          "ASHOKA",
          "ASHOKLEY",
          "ASIANHOTNR",
          "ASIANPAINT",
          "ASIANTILES",
          "ASPINWALL",
          "ASTEC",
          "ASTERDM",
          "ASTRAL",
          "ASTRAMICRO",
          "ASTRAZEN",
          "ASTRON",
          "ATFL",
          "ATUL",
          "ATULAUTO",
          "AUBANK",
          "AURIONPRO",
          "AUROPHARMA",
          "AUSOMENT",
          "AUTOAXLES",
          "AUTOIND",
          "AVADHSUGAR",
          "AVANTIFEED",
          "AVTNPL",
          "AXISBANK",
          "AXISCADES",
          "AYMSYNTEX",
          "BAGFILMS",
          "BAJAJ-AUTO",
          "BAJAJCON",
          "BAJAJELEC",
          "BAJAJFINSV",
          "BAJAJHIND",
          "BAJAJHLDNG",
          "BAJFINANCE",
          "BALAJITELE",
          "BALAMINES",
          "BALKRISIND",
          "BALMLAWRIE",
          "BALPHARMA",
          "BALRAMCHIN",
          "BANARBEADS",
          "BANARISUG",
          "BANCOINDIA",
          "BANDHANBNK",
          "BANG",
          "BANKBARODA",
          "BANKINDIA",
          "BANSWRAS",
          "BASF",
          "BASML",
          "BATAINDIA",
          "BAYERCROP",
          "BBL",
          "BDL",
          "BEARDSELL",
          "BEDMUTHA",
          "BEL",
          "BEML",
          "BEPL",
          "BERGEPAINT",
          "BFINVEST",
          "BFUTILITIE",
          "BGRENERGY",
          "BHAGERIA",
          "BHAGYANGR",
          "BHAGYAPROP",
          "BHANDARI",
          "BHARATFORG",
          "BHARATGEAR",
          "BHARATRAS",
          "BHARATWIRE",
          "BHARTIARTL",
          "BHEL",
          "BIGBLOC",
          "BINDALAGRO",
          "BIOCON",
          "BIRLACABLE",
          "BIRLACORPN",
          "BLISSGVS",
          "BLKASHYAP",
          "BLS",
          "BLUEDART",
          "BLUESTARCO",
          "BODALCHEM",
          "BOMDYEING",
          "BORORENEW",
          "BOSCHLTD",
          "BPCL",
          "BPL",
          "BRIGADE",
          "BRITANNIA",
          "BRNL",
          "BROOKS",
          "BSE",
          "BSL",
          "BSOFT",
          "BUTTERFLY",
          "BYKE",
          "CADILAHC",
          "CALSOFT",
          "CAMLINFINE",
          "CANBK",
          "CANFINHOME",
          "CANTABIL",
          "CAPACITE",
          "CAPLIPOINT",
          "CARBORUNIV",
          "CAREERP",
          "CARERATING",
          "CASTROLIND",
          "CCL",
          "CDSL",
          "CEATLTD",
          "CELEBRITY",
          "CENTENKA",
          "CENTEXT",
          "CENTRALBK",
          "CENTRUM",
          "CENTUM",
          "CENTURYPLY",
          "CENTURYTEX",
          "CERA",
          "CEREBRAINT",
          "CESC",
          "CGCL",
          "CGPOWER",
          "CHALET",
          "CHAMBLFERT",
          "CHEMFAB",
          "CHENNPETRO",
          "CHOLAHLDNG",
          "CIGNITITEC",
          "CINELINE",
          "CIPLA",
          "CLEDUCATE",
          "CLNINDIA",
          "CMICABLES",
          "COALINDIA",
          "COCHINSHIP",
          "COFORGE",
          "COLPAL",
          "COMPINFO",
          "COMPUSOFT",
          "CONCOR",
          "CONSOFINVT",
          "CONTROLPR",
          "CORALFINAC",
          "CORDSCABLE",
          "COROMANDEL",
          "COSMOFILMS"
         ],
         "legendgroup": "",
         "marker": {
          "color": [
           -0.03938435912843298,
           -0.1271609953174884,
           -0.06490168589844397,
           0.006572759270715581,
           -0.027715533375169653,
           0.002324630833619448,
           -0.06805878003683491,
           0.0014527608980379214,
           -0.04850448089570391,
           -0.06784088879447138,
           0.16846970014311852,
           0.026557575350622746,
           0.14490383088434092,
           0.0045586439998078635,
           0.03044225014452549,
           -0.006965616351205776,
           0.022396441817612026,
           -0.034090682725271486,
           0.03875137499380318,
           0.1600883586424559,
           -0.011880058701667936,
           0.023256904784348796,
           0.08341768739138795,
           0.02368953807190866,
           -0.048721984027430894,
           0.03968887258747493,
           -0.029856109047189792,
           -0.009771957988652486,
           -0.00925185356148443,
           -0.10997180634697766,
           -0.039787183458724305,
           -0.06222269458663886,
           -0.01650227769149663,
           0.021662214990188007,
           -0.0035864876734728857,
           -0.043556970692389625,
           -0.054389188774724824,
           -0.07334232316915607,
           -0.13409311006832988,
           0.027702354653625114,
           -0.07375891896385421,
           -0.00253258576551526,
           0.03823096413872631,
           -0.07847827836775992,
           -0.033053407104661696,
           0.011802044493485268,
           0.06356093392427763,
           -0.01990411814705727,
           -0.0760516831972584,
           -0.0432087604440267,
           -0.11375462592723848,
           -0.004704566549032976,
           0.041443529089666586,
           -0.10624093860780306,
           -0.02773833272474815,
           -0.03143713878937782,
           -0.0071763633379877305,
           0.06822164494694397,
           -0.013145126613205415,
           -0.08757979933255552,
           -0.029008708006541005,
           -0.15763648047137413,
           -0.08479399024207977,
           -0.10614333769502063,
           0.012869290257880762,
           -0.0072381833897779465,
           0.0895434752172462,
           -0.006699373073627527,
           -0.056334624110425384,
           0.02632912811659436,
           -0.07232916918867853,
           -0.023792457451037006,
           -0.05714025680610719,
           -0.054303514685002094,
           -0.04533621009637024,
           0.0730998637247797,
           -0.04944957435460706,
           -0.07018269803062333,
           -0.05459966718482048,
           -0.11918021573911518,
           -0.0785057955674046,
           -0.05909423176043971,
           -0.04277925444205699,
           -0.09636465307259146,
           -0.0291946340538701,
           -0.029627063147079965,
           -0.03495997205009412,
           -0.06271803039618158,
           0.07791260296740393,
           0.03625542511065172,
           -0.031003447402667743,
           -0.023861976036250836,
           -0.0008693926252848967,
           0.0073572548167066916,
           0.008868793047130953,
           0.09427576020944817,
           -0.11785230680918926,
           0.008193739086146045,
           0.0490444873202375,
           -0.06462462293967819,
           0.0550386794751228,
           -0.11178456873761493,
           -0.08000275907335253,
           -0.01656049412291443,
           -0.08143789128719865,
           -0.12235790935532695,
           -0.022951091052404143,
           0.05687617548369675,
           0.021247334054540077,
           0.04547336753276384,
           -0.05229790849240526,
           -0.047932061500660574,
           -0.11325885964204353,
           0.04581557511321593,
           -0.08290020575093406,
           -0.0668851398263811,
           0.08070363838358621,
           -0.03970469109549441,
           0.03374548648399199,
           0.09484274562892403,
           -0.07846024192829397,
           -0.01712919328390287,
           0.014917330979147745,
           -0.06384960635256494,
           -0.08956507927331887,
           0.08233819045229562,
           -0.05322973770539186,
           -0.04961614667135184,
           -0.09467261614746048,
           -0.013631245174993013,
           -0.14718809623657783,
           -0.03145592909891795,
           -0.0624646392993089,
           0.005151027097267514,
           -0.0950983388244744,
           -0.08099408939979177,
           0.11928054075673447,
           -0.04639935254117102,
           -0.07971249432074418,
           0.010024186139321448,
           -0.1258235282470308,
           -0.037951917613282066,
           0.02337782821975384,
           0.01294180404104881,
           -0.058405387409582205,
           0.10549674035532058,
           0.025590682697253713,
           0.03772579142983695,
           -0.06436180212591099,
           -0.07270224572141519,
           -0.07869533416227065,
           -0.019981500563819216,
           -0.06422682175970881,
           -0.011103207021388325,
           -0.08606694614416051,
           0.02380397172061599,
           -0.15040502704057787,
           0.06332998945894644,
           -0.07577581619295927,
           0.0018870415687166668,
           -0.07709644922415411,
           -0.0612433032775215,
           -0.10366661733978044,
           0.0044898412667173345,
           -0.010107029970496442,
           -0.09009198837408439,
           -0.07083993675961513,
           -0.09996963195332875,
           0.06777821124830394,
           -0.06664456563483162,
           -0.04370056504120568,
           -0.0658337286755678,
           -0.056497991568806534,
           0.049870737733212184,
           -0.08189337540479656,
           -0.001606076203250414,
           -0.006426429280889416,
           -0.0903257416797968,
           -0.08561916728174994,
           -0.052583873656306325,
           -0.0487652094173078,
           -0.10524512832862405,
           -0.05624087273644173,
           -0.1417439643594739,
           -0.0725505436689719,
           -0.0649250151240748,
           0.05255248776868211,
           -0.038554059275872216,
           0.053418465161931765,
           0.10122999139645865,
           -0.046889070896883614,
           -0.03488361020525166,
           -0.025171824020971574,
           0.03926680773664218,
           -0.06159149474016443,
           -0.03339678644198098,
           -0.0763714635365513,
           -0.005038370331714584,
           -0.06815722250666571,
           -0.030624068954796187,
           -0.0810916295587862,
           -0.1285265419282248,
           -0.10744176677395235,
           -0.10416803086868986,
           0.007271395339168122,
           -0.01614323830533418,
           -0.048141058006152496,
           0.02683925579332019,
           -0.03249879929132602,
           0.022100304604627984,
           0.07214537658968309,
           -0.12144639096861161,
           0.03786108849882814,
           0.005630697088538249,
           0.01772168890630935,
           -0.16405416301736694,
           -0.007854498962897933,
           -0.04629513656959007,
           -0.05845240841681908,
           -0.02571484304640794,
           -0.07927482784225343,
           -0.015619904581294598,
           -0.14945890514975685,
           -0.030703892587336124,
           0.02285555488718368,
           0.0855729960638878,
           0.029860965722990632,
           -0.03806956914803348,
           -0.049261362596626196,
           -0.03187029286941424,
           -0.030182002235300088,
           -0.04065352937944622,
           -0.038726552376552155,
           -0.0745026128228784,
           0.04349186026597999,
           0.012583440542067352
          ],
          "coloraxis": "coloraxis",
          "size": [
           0.7400132117705699,
           0.21898992915958795,
           0.5885478340300415,
           1.0128048078861147,
           0.809276858250325,
           0.9875888287902462,
           0.5698080004830659,
           0.9824135958858079,
           0.6858781254047533,
           0.5711013561557977,
           1.9737903188407144,
           1.1314303890020643,
           1.8339083742610192,
           1.0008494517051716,
           1.15448898523986,
           0.9324439144410608,
           1.106730792994736,
           0.7714353393024904,
           1.2038101678751882,
           1.9240404736546513,
           0.9032728388928332,
           1.1118383165791301,
           1.4689398164686138,
           1.1144063349657738,
           0.6845870734735028,
           1.2093749524796322,
           0.7965708602566106,
           0.9157860724964104,
           0.918873300803496,
           0.3210212674709173,
           0.7376221329596672,
           0.6044497517608218,
           0.8758363385256929,
           1.1023725800531787,
           0.9525016973828138,
           0.7152454846338092,
           0.6509477618199561,
           0.5384460218730684,
           0.17784238307294736,
           1.1382255533671093,
           0.5359731986036957,
           0.9587574330258541,
           1.2007211206777708,
           0.5079600935771152,
           0.7775923848704982,
           1.0438447231843988,
           1.3510743875502882,
           0.8556437433428753,
           0.5223638419570321,
           0.7173123859701748,
           0.2985672619313619,
           0.9458650210273014,
           1.2197902170684638,
           0.34316689802647204,
           0.809141526202134,
           0.7871862068688209,
           0.9311929655368785,
           1.3787393683670581,
           0.8957636671517856,
           0.4539354175845559,
           0.8016008510497853,
           0.038093986874440086,
           0.47047138273502004,
           0.34374623610744165,
           1.0501796650967357,
           0.9308260149710634,
           1.505301178901468,
           0.9340242774223688,
           0.6394000750012113,
           1.1300743752272766,
           0.5444598865598154,
           0.8325633953593715,
           0.6346180121436328,
           0.6514563048377803,
           0.7046843012134725,
           1.407695428558841,
           0.6802682533737574,
           0.5572008788939368,
           0.6496984071293685,
           0.26636212470331705,
           0.5077967573830026,
           0.6230196359806042,
           0.7198618414604192,
           0.4017904103068495,
           0.8004972339176176,
           0.7979304275848319,
           0.7662754243499253,
           0.6015095446546068,
           1.4362628162762507,
           1.1889947447989253,
           0.7897605059050372,
           0.8321507479506399,
           0.9686297907187653,
           1.017461405157462,
           1.0264335718387119,
           1.5333910074473838,
           0.27424430724888954,
           1.0224265963385986,
           1.264907874570755,
           0.5901924203178452,
           1.3004881133305624,
           0.3102610987931237,
           0.49891110313968035,
           0.8754907782773612,
           0.49039246618225146,
           0.2475000170749883,
           0.8375575658120885,
           1.3113950954585827,
           1.0999099358192574,
           1.2437104735874331,
           0.6633611529552342,
           0.6892758841385617,
           0.30151002424870316,
           1.2457417443747698,
           0.4817124812206047,
           0.576774477003513,
           1.4528298037749596,
           0.7381117899315727,
           1.1740962875420566,
           1.5367565112679176,
           0.5080671540126157,
           0.8721151020548399,
           1.0623363954733385,
           0.5947927525227157,
           0.4421512217376065,
           1.4625321542113932,
           0.6578300146425585,
           0.6792795158345841,
           0.4118339785193741,
           0.8928781716509647,
           0.10011335430917867,
           0.7870746716222801,
           0.603013619848291,
           1.0043657106939177,
           0.4093069800344699,
           0.4930267789817036,
           1.6818140207610193,
           0.6983737157260071,
           0.5006340524436903,
           1.0332917373795123,
           0.22692884677694816,
           0.7485158773177515,
           1.1125560921512498,
           1.050610091357995,
           0.6271084682766925,
           1.5999963384733182,
           1.1256911216290728,
           1.1977225238472415,
           0.5917524682881564,
           0.5422453842937122,
           0.5066716969436177,
           0.85518441791702,
           0.5925536827860008,
           0.9078840638170758,
           0.462915389574236,
           1.115085588556242,
           0.08101834315128387,
           1.3497035507461925,
           0.5240013293156774,
           0.9849913927852492,
           0.5161623349441499,
           0.6102632084731289,
           0.3584475168311336,
           1.0004410534410795,
           0.913797157091686,
           0.43902360234778215,
           0.5532996507892184,
           0.3803920290093533,
           1.3761072410571424,
           0.5782024737966759,
           0.7143931393830367,
           0.5830154280464608,
           0.6384303608137797,
           1.26981231977528,
           0.4876888101704525,
           0.9642569950330149,
           0.9356444132242742,
           0.43763609286973454,
           0.46557330884417103,
           0.6616637250874448,
           0.684330496831886,
           0.3490778142228745,
           0.6399565630456727,
           0.13242855325877634,
           0.5431458551339547,
           0.5884093567512726,
           1.2857306126979344,
           0.7449416935797938,
           1.2908708687351564,
           1.5746698319547145,
           0.6954668526206739,
           0.7667286918797992,
           0.8243757713013791,
           1.2068696660662643,
           0.6081964186447673,
           0.7755541587857626,
           0.5204656944621339,
           0.9438836333807511,
           0.5692236670999876,
           0.792012414987497,
           0.49244780152218676,
           0.21088433741474397,
           0.3360390396333654,
           0.3554712336865476,
           1.0169517617173323,
           0.8779675193009744,
           0.6880353257158044,
           1.1331023836839456,
           0.7808844178762229,
           1.1049729860256938,
           1.402029797681088,
           0.25291059467998783,
           1.1985256182249027,
           1.0072129288634952,
           1.078982462539281,
           0,
           0.9271676979407818,
           0.6989923193769451,
           0.6268293616646612,
           0.8211525268546027,
           0.5032319467719816,
           0.881073916021542,
           0.08663431973352549,
           0.791538599028472,
           1.10945598968697,
           1.4817332663926586,
           1.1510386056105202,
           0.7478175230460251,
           0.6813854379940243,
           0.7846150971697565,
           0.7946364282024582,
           0.7324796894224263,
           0.7439178115373054,
           0.5315587913934235,
           1.2319486715239136,
           1.0484829225040289
          ],
          "sizemode": "area",
          "sizeref": 0.004934475797101786,
          "symbol": "circle"
         },
         "mode": "markers",
         "name": "",
         "orientation": "v",
         "showlegend": false,
         "type": "scatter",
         "x": [
          0.02381003545168039,
          0.014912417931634408,
          0.03958684928915139,
          0.018968586185895076,
          0.04324907364655065,
          0.03851826039076764,
          0.03580404093156251,
          0.01783105971420984,
          0.04898868432824022,
          0.03751306734752232,
          0.020721123658124084,
          0.01784360346405702,
          0.01542064170805946,
          0.023243854331326634,
          0.020110450900032346,
          0.017304777090125477,
          0.021886880979793355,
          0.028865068716626266,
          0.02975911984645168,
          0.03562105816276361,
          0.02102504176707481,
          0.034367237998857235,
          0.02468870683520059,
          0.022069430881833826,
          0.02187706184388633,
          0.045394855523967804,
          0.025692313693905924,
          0.025321615623085877,
          0.023522496323328576,
          0.03425309752943014,
          0.03919128426646292,
          0.021417508427281073,
          0.020347480278299756,
          0.03413908955598739,
          0.017121048144637184,
          0.0181346754537598,
          0.028469292250723612,
          0.035145423537690165,
          0.039752134618686354,
          0.015961809962652247,
          0.04072822757606463,
          0.023992015615150096,
          0.02536605255131522,
          0.024134177113825706,
          0.03612036066009751,
          0.012928622815094399,
          0.021862086908259484,
          0.02068817756253505,
          0.03614279265862586,
          0.04012741876338392,
          0.03667828882022748,
          0.017207337172206492,
          0.020390276493387958,
          0.011236572264119653,
          0.018813682292910954,
          0.04235418366540396,
          0.028704110487379808,
          0.02601448101220392,
          0.0246732717395476,
          0.020672395198661438,
          0.020333153881755956,
          0.03182846198610248,
          0.040073150870917014,
          0.02065931624240033,
          0.029621274940383885,
          0.034967493871799205,
          0.021541581618319074,
          0.016428491486806644,
          0.038815425083545727,
          0.020212733297724644,
          0.020272333403548594,
          0.029618840364672192,
          0.031184568261718643,
          0.03323014678606791,
          0.04431781668242379,
          0.026259944618145424,
          0.027252800990409064,
          0.041193263856876446,
          0.04718297805756832,
          0.03099769532091476,
          0.021116488494595624,
          0.019279331446454093,
          0.03225732391494039,
          0.038583693563884934,
          0.020989445122542194,
          0.027464198229513733,
          0.026876144354784644,
          0.026593316084776174,
          0.013857946377506699,
          0.025884026111321266,
          0.026037201132832886,
          0.025781997621499332,
          0.023402097844124604,
          0.023245005916270437,
          0.023996284101154567,
          0.025854383780878096,
          0.03425848168204951,
          0.017841695337604286,
          0.013580270021270454,
          0.020576146089786067,
          0.01903426930441195,
          0.029660117735346082,
          0.024230476315832344,
          0.04434026736301812,
          0.026227102774631965,
          0.034791185112676155,
          0.0534261703270007,
          0.029482612303207437,
          0.02629070415641297,
          0.01659231781029138,
          0.035574545594238866,
          0.030136345458291962,
          0.03807887062095122,
          0.01389914437892455,
          0.022661791281273217,
          0.022083092776591706,
          0.01852703462872108,
          0.032799478105357084,
          0.017479751767189983,
          0.020144781732699256,
          0.0290650479373547,
          0.032842343275890834,
          0.017669260518218828,
          0.031106270105948325,
          0.02981815251569863,
          0.028524131848239112,
          0.03928608296662961,
          0.020437105373395683,
          0.023281209197678954,
          0.027375944230951875,
          0.03471616723235447,
          0.024836787322841607,
          0.02706726656754653,
          0.03481010664950364,
          0.019404763866633597,
          0.03155129776892594,
          0.015179298938285783,
          0.014805213154522231,
          0.01823924763672453,
          0.02601166874230626,
          0.038484910720973674,
          0.04122732739071613,
          0.023597190406480364,
          0.027080821076335842,
          0.03627560963333519,
          0.017038613300652244,
          0.03424578228549246,
          0.0387107664700059,
          0.03524907152327232,
          0.050645431038199476,
          0.024014898625253377,
          0.03697771877852982,
          0.04126175418697949,
          0.02064998328460131,
          0.034989649231985914,
          0.029612824687025262,
          0.02688413064006017,
          0.022992812960727575,
          0.028651593311692532,
          0.03825053939571464,
          0.03299529502430809,
          0.05062259687975399,
          0.047050301765145804,
          0.025024533288243247,
          0.0318148526011928,
          0.04189641185671837,
          0.0338406405396903,
          0.018311025287718434,
          0.01788511942340873,
          0.026954892695732244,
          0.035409026161005525,
          0.02592740374738463,
          0.01752659649169905,
          0.02396827576382929,
          0.039278502335209096,
          0.029030855588142158,
          0.01565590079065928,
          0.03423121815427152,
          0.03476197315520334,
          0.014127111221539927,
          0.038327057368014075,
          0.043688502627330685,
          0.03369987321942808,
          0.03751760770095169,
          0.018051933336634962,
          0.03951013516302018,
          0.034575437937461054,
          0.02555356876626274,
          0.024179006493856903,
          0.03194420390646867,
          0.026798118601187203,
          0.028271954227284568,
          0.019244633302887598,
          0.034455644076749906,
          0.028468136754314855,
          0.019160751392597212,
          0.01571721571556862,
          0.016093723519393026,
          0.01615368635896324,
          0.03873870789058535,
          0.01988297751928217,
          0.03603773865220704,
          0.02790333680344508,
          0.02515773760483597,
          0.02748005844187172,
          0.02389488191217989,
          0.05607913713802724,
          0.019928817153291166,
          0.028300312128123135,
          0.017264867370839772,
          0.026380893114588213,
          0.05078689727303289,
          0.02181181901612129,
          0.024304771037362623,
          0.019999834486823867,
          0.021362640499045814,
          0.01669978219060695,
          0.02222262168845474,
          0.02796357527656092,
          0.014287851694453171,
          0.024594329838592423,
          0.02029753232996622,
          0.03592872035612849,
          0.01780010675670347,
          0.013949056801556978,
          0.01544909727722271,
          0.01370269072441663,
          0.03689770446720766,
          0.0316880261702231,
          0.02326187912130692,
          0.03623123556047994,
          0.026089987496101145,
          0.034008446045920716,
          0.024573911059498094,
          0.015572279209263558,
          0.02322956046498375
         ],
         "xaxis": "x",
         "y": [
          -0.0009377429870897015,
          -0.0018962779067769927,
          -0.0025692532582735437,
          0.00012467595070570937,
          -0.0011986711440961448,
          8.954073576176114e-05,
          -0.0024367793461910463,
          2.590426632338329e-05,
          -0.002376170703104797,
          -0.0025449198302627775,
          0.0034908814893126437,
          0.0004738828435233274,
          0.002234510058192662,
          0.00010596045707991017,
          0.0006122073768179824,
          -0.00012053843825294914,
          0.0004901882564329412,
          -0.0009840298994616655,
          0.0011532068126553796,
          0.005702516734384283,
          -0.0002497787303978689,
          0.0007992755818404765,
          0.002059474828876386,
          0.0005228146231005591,
          -0.0010658938577249475,
          0.0018016706370175908,
          -0.0007670725193198629,
          -0.00024744176407360164,
          -0.00021762669138399187,
          -0.0037668750082906306,
          -0.0015593108170927756,
          -0.001332655085677474,
          -0.0003357797698747537,
          0.000739528297531081,
          -6.140442812767708e-05,
          -0.0007898915272554131,
          -0.0015484217105074171,
          -0.0025776470110181362,
          -0.005330487362874576,
          0.00044217972049915915,
          -0.003004070037324364,
          -6.0761837232948974e-05,
          0.0009697686454303791,
          -0.0018940086697156343,
          -0.0011939009856654099,
          0.00015258418170323285,
          0.001389574661422696,
          -0.00041177993045199695,
          -0.0027487202171380108,
          -0.001733856024584198,
          -0.00417232502439619,
          -8.095306285829434e-05,
          0.0008450450170000686,
          -0.0011937839840744787,
          -0.0005218601792184667,
          -0.0013314943502001034,
          -0.00020599112615118158,
          0.0017747506870935913,
          -0.00032433328097837625,
          -0.001810484223222053,
          -0.0005898385238079243,
          -0.005017326726306118,
          -0.003397962363917928,
          -0.002192848780465323,
          0.0003812047850162899,
          -0.00025310113332501914,
          0.0019289080797802404,
          -0.00011006059350703148,
          -0.0021866523817679253,
          0.000532183644582345,
          -0.0014662810325945656,
          -0.0007047049991255205,
          -0.0017818942388621829,
          -0.0018045137639820137,
          -0.0020092018481267866,
          0.0019195983730066926,
          -0.001347639408946542,
          -0.0028910543981629493,
          -0.002576174898731918,
          -0.003694312015761982,
          -0.0016577667288581754,
          -0.0011392972806830914,
          -0.001379944267377085,
          -0.0037181042445429513,
          -0.000612779169346408,
          -0.0008136835352297252,
          -0.0009395892554575661,
          -0.0016678804065402566,
          0.001079708674054253,
          0.0009384363702411617,
          -0.0008072429958344654,
          -0.0006152094094108931,
          -2.0345611281877512e-05,
          0.00017101943174185623,
          0.00021281807759329868,
          0.0024374416856891095,
          -0.0040374410940098885,
          0.0001461901964508379,
          0.0006660373808636003,
          -0.0013297256826041582,
          0.001047621047288698,
          -0.0033155434697525457,
          -0.0019385049589281094,
          -0.0007342967370737161,
          -0.002135879944538664,
          -0.00425697667438123,
          -0.0012261888997562454,
          0.001676858231075023,
          0.0005586073737403916,
          0.0007545085660078033,
          -0.0018604743301464028,
          -0.0014444971639120032,
          -0.0043127694629858495,
          0.0006367972933020507,
          -0.0018786671599022732,
          -0.0014770307481612828,
          0.0014951991029964855,
          -0.0013022931462666352,
          0.0005898627270032447,
          0.0019105864096245911,
          -0.0022804506928223115,
          -0.0005625628458690219,
          0.00026357820730705785,
          -0.001986123101361359,
          -0.0026706651938524606,
          0.002348625400606703,
          -0.002091187891785957,
          -0.001014010417744273,
          -0.0022040929818205857,
          -0.00037316820770904056,
          -0.005109806563560919,
          -0.0007812642210722098,
          -0.0016907470429600368,
          0.00017930780261036532,
          -0.0018453608089980397,
          -0.0025554686321758386,
          0.0018105949856668537,
          -0.0006869523046038597,
          -0.0014538959236570508,
          0.00026074580926724734,
          -0.004842307251184889,
          -0.0015646561325482655,
          0.0005516510637915212,
          0.00035047467964064295,
          -0.002118691034153714,
          0.0017975181633936217,
          0.0008763729481872696,
          0.0014603943019365683,
          -0.0022686937665029367,
          -0.003682036572006166,
          -0.0018898604721873686,
          -0.0007388703086219419,
          -0.0026501113316600507,
          -0.00022928103939713685,
          -0.003011452256052399,
          0.0007049028414175085,
          -0.004043508395880678,
          0.0014561346024344044,
          -0.0021710978684222346,
          7.218035786554802e-05,
          -0.0025438200874775534,
          -0.003100295053402487,
          -0.0048775456288085665,
          0.00011235618223789615,
          -0.00032155366874718234,
          -0.0037745310499113227,
          -0.0023972688357365287,
          -0.0018305464587013076,
          0.0012122214024809408,
          -0.001796397115440571,
          -0.0015473944507947755,
          -0.0017068976635672198,
          -0.0009902175008178872,
          0.0011953155945352363,
          -0.003216649137075457,
          -4.662576632011442e-05,
          -0.00010061153925979256,
          -0.0030919601683875,
          -0.0029762911946190555,
          -0.0007428582316020428,
          -0.0018690269789003765,
          -0.004598002065498847,
          -0.0018953102809680755,
          -0.005317894448816419,
          -0.0013096775778489043,
          -0.002565196123013325,
          0.0018170252793052496,
          -0.0009851938049245704,
          0.0012916054160422169,
          0.003233711486618544,
          -0.0012565388829941623,
          -0.0009862278310053118,
          -0.0004844225228484156,
          0.0013529631514039124,
          -0.001753395095165665,
          -0.0006399075223264587,
          -0.0012003467669176602,
          -8.108613910692704e-05,
          -0.0011009903954707484,
          -0.001186336861660993,
          -0.0016123430475193034,
          -0.004631805927881295,
          -0.0029979838050507874,
          -0.002620631987406953,
          0.00019981836887429365,
          -0.0003857407729861392,
          -0.00269970899389675,
          0.0005348746212354887,
          -0.0009197261637337533,
          0.00038155882785406166,
          0.0019032594685241444,
          -0.006167885382303467,
          0.0008258192100897907,
          0.0001368528035176665,
          0.00035443084495316964,
          -0.003504630106911867,
          -0.00013116842189674367,
          -0.0010287993060013464,
          -0.0016345383228600033,
          -0.00036740986379321704,
          -0.0019497112638500107,
          -0.0003170455182298146,
          -0.005369867207858746,
          -0.0005465325659009394,
          0.00031881343335242836,
          0.0013220255404943987,
          0.00040917557803454667,
          -0.0014046797116180657,
          -0.0015609953471427403,
          -0.000741362900288964,
          -0.0010935312326740896,
          -0.0010606500731821325,
          -0.0013170298670424966,
          -0.001830820581209636,
          0.0006772673913921159,
          0.00029230779292948147
         ],
         "yaxis": "y"
        },
        {
         "marker": {
          "color": "LightSeaGreen",
          "size": 20
         },
         "mode": "markers",
         "type": "scatter",
         "x": [
          0.027694780249859798
         ],
         "y": [
          -0.0009413687195844739
         ]
        }
       ],
       "layout": {
        "coloraxis": {
         "colorbar": {
          "title": {
           "text": "color"
          }
         },
         "colorscale": [
          [
           0,
           "#0d0887"
          ],
          [
           0.1111111111111111,
           "#46039f"
          ],
          [
           0.2222222222222222,
           "#7201a8"
          ],
          [
           0.3333333333333333,
           "#9c179e"
          ],
          [
           0.4444444444444444,
           "#bd3786"
          ],
          [
           0.5555555555555556,
           "#d8576b"
          ],
          [
           0.6666666666666666,
           "#ed7953"
          ],
          [
           0.7777777777777778,
           "#fb9f3a"
          ],
          [
           0.8888888888888888,
           "#fdca26"
          ],
          [
           1,
           "#f0f921"
          ]
         ]
        },
        "legend": {
         "itemsizing": "constant",
         "tracegroupgap": 0
        },
        "margin": {
         "t": 60
        },
        "template": {
         "data": {
          "bar": [
           {
            "error_x": {
             "color": "#2a3f5f"
            },
            "error_y": {
             "color": "#2a3f5f"
            },
            "marker": {
             "line": {
              "color": "#E5ECF6",
              "width": 0.5
             }
            },
            "type": "bar"
           }
          ],
          "barpolar": [
           {
            "marker": {
             "line": {
              "color": "#E5ECF6",
              "width": 0.5
             }
            },
            "type": "barpolar"
           }
          ],
          "carpet": [
           {
            "aaxis": {
             "endlinecolor": "#2a3f5f",
             "gridcolor": "white",
             "linecolor": "white",
             "minorgridcolor": "white",
             "startlinecolor": "#2a3f5f"
            },
            "baxis": {
             "endlinecolor": "#2a3f5f",
             "gridcolor": "white",
             "linecolor": "white",
             "minorgridcolor": "white",
             "startlinecolor": "#2a3f5f"
            },
            "type": "carpet"
           }
          ],
          "choropleth": [
           {
            "colorbar": {
             "outlinewidth": 0,
             "ticks": ""
            },
            "type": "choropleth"
           }
          ],
          "contour": [
           {
            "colorbar": {
             "outlinewidth": 0,
             "ticks": ""
            },
            "colorscale": [
             [
              0,
              "#0d0887"
             ],
             [
              0.1111111111111111,
              "#46039f"
             ],
             [
              0.2222222222222222,
              "#7201a8"
             ],
             [
              0.3333333333333333,
              "#9c179e"
             ],
             [
              0.4444444444444444,
              "#bd3786"
             ],
             [
              0.5555555555555556,
              "#d8576b"
             ],
             [
              0.6666666666666666,
              "#ed7953"
             ],
             [
              0.7777777777777778,
              "#fb9f3a"
             ],
             [
              0.8888888888888888,
              "#fdca26"
             ],
             [
              1,
              "#f0f921"
             ]
            ],
            "type": "contour"
           }
          ],
          "contourcarpet": [
           {
            "colorbar": {
             "outlinewidth": 0,
             "ticks": ""
            },
            "type": "contourcarpet"
           }
          ],
          "heatmap": [
           {
            "colorbar": {
             "outlinewidth": 0,
             "ticks": ""
            },
            "colorscale": [
             [
              0,
              "#0d0887"
             ],
             [
              0.1111111111111111,
              "#46039f"
             ],
             [
              0.2222222222222222,
              "#7201a8"
             ],
             [
              0.3333333333333333,
              "#9c179e"
             ],
             [
              0.4444444444444444,
              "#bd3786"
             ],
             [
              0.5555555555555556,
              "#d8576b"
             ],
             [
              0.6666666666666666,
              "#ed7953"
             ],
             [
              0.7777777777777778,
              "#fb9f3a"
             ],
             [
              0.8888888888888888,
              "#fdca26"
             ],
             [
              1,
              "#f0f921"
             ]
            ],
            "type": "heatmap"
           }
          ],
          "heatmapgl": [
           {
            "colorbar": {
             "outlinewidth": 0,
             "ticks": ""
            },
            "colorscale": [
             [
              0,
              "#0d0887"
             ],
             [
              0.1111111111111111,
              "#46039f"
             ],
             [
              0.2222222222222222,
              "#7201a8"
             ],
             [
              0.3333333333333333,
              "#9c179e"
             ],
             [
              0.4444444444444444,
              "#bd3786"
             ],
             [
              0.5555555555555556,
              "#d8576b"
             ],
             [
              0.6666666666666666,
              "#ed7953"
             ],
             [
              0.7777777777777778,
              "#fb9f3a"
             ],
             [
              0.8888888888888888,
              "#fdca26"
             ],
             [
              1,
              "#f0f921"
             ]
            ],
            "type": "heatmapgl"
           }
          ],
          "histogram": [
           {
            "marker": {
             "colorbar": {
              "outlinewidth": 0,
              "ticks": ""
             }
            },
            "type": "histogram"
           }
          ],
          "histogram2d": [
           {
            "colorbar": {
             "outlinewidth": 0,
             "ticks": ""
            },
            "colorscale": [
             [
              0,
              "#0d0887"
             ],
             [
              0.1111111111111111,
              "#46039f"
             ],
             [
              0.2222222222222222,
              "#7201a8"
             ],
             [
              0.3333333333333333,
              "#9c179e"
             ],
             [
              0.4444444444444444,
              "#bd3786"
             ],
             [
              0.5555555555555556,
              "#d8576b"
             ],
             [
              0.6666666666666666,
              "#ed7953"
             ],
             [
              0.7777777777777778,
              "#fb9f3a"
             ],
             [
              0.8888888888888888,
              "#fdca26"
             ],
             [
              1,
              "#f0f921"
             ]
            ],
            "type": "histogram2d"
           }
          ],
          "histogram2dcontour": [
           {
            "colorbar": {
             "outlinewidth": 0,
             "ticks": ""
            },
            "colorscale": [
             [
              0,
              "#0d0887"
             ],
             [
              0.1111111111111111,
              "#46039f"
             ],
             [
              0.2222222222222222,
              "#7201a8"
             ],
             [
              0.3333333333333333,
              "#9c179e"
             ],
             [
              0.4444444444444444,
              "#bd3786"
             ],
             [
              0.5555555555555556,
              "#d8576b"
             ],
             [
              0.6666666666666666,
              "#ed7953"
             ],
             [
              0.7777777777777778,
              "#fb9f3a"
             ],
             [
              0.8888888888888888,
              "#fdca26"
             ],
             [
              1,
              "#f0f921"
             ]
            ],
            "type": "histogram2dcontour"
           }
          ],
          "mesh3d": [
           {
            "colorbar": {
             "outlinewidth": 0,
             "ticks": ""
            },
            "type": "mesh3d"
           }
          ],
          "parcoords": [
           {
            "line": {
             "colorbar": {
              "outlinewidth": 0,
              "ticks": ""
             }
            },
            "type": "parcoords"
           }
          ],
          "pie": [
           {
            "automargin": true,
            "type": "pie"
           }
          ],
          "scatter": [
           {
            "marker": {
             "colorbar": {
              "outlinewidth": 0,
              "ticks": ""
             }
            },
            "type": "scatter"
           }
          ],
          "scatter3d": [
           {
            "line": {
             "colorbar": {
              "outlinewidth": 0,
              "ticks": ""
             }
            },
            "marker": {
             "colorbar": {
              "outlinewidth": 0,
              "ticks": ""
             }
            },
            "type": "scatter3d"
           }
          ],
          "scattercarpet": [
           {
            "marker": {
             "colorbar": {
              "outlinewidth": 0,
              "ticks": ""
             }
            },
            "type": "scattercarpet"
           }
          ],
          "scattergeo": [
           {
            "marker": {
             "colorbar": {
              "outlinewidth": 0,
              "ticks": ""
             }
            },
            "type": "scattergeo"
           }
          ],
          "scattergl": [
           {
            "marker": {
             "colorbar": {
              "outlinewidth": 0,
              "ticks": ""
             }
            },
            "type": "scattergl"
           }
          ],
          "scattermapbox": [
           {
            "marker": {
             "colorbar": {
              "outlinewidth": 0,
              "ticks": ""
             }
            },
            "type": "scattermapbox"
           }
          ],
          "scatterpolar": [
           {
            "marker": {
             "colorbar": {
              "outlinewidth": 0,
              "ticks": ""
             }
            },
            "type": "scatterpolar"
           }
          ],
          "scatterpolargl": [
           {
            "marker": {
             "colorbar": {
              "outlinewidth": 0,
              "ticks": ""
             }
            },
            "type": "scatterpolargl"
           }
          ],
          "scatterternary": [
           {
            "marker": {
             "colorbar": {
              "outlinewidth": 0,
              "ticks": ""
             }
            },
            "type": "scatterternary"
           }
          ],
          "surface": [
           {
            "colorbar": {
             "outlinewidth": 0,
             "ticks": ""
            },
            "colorscale": [
             [
              0,
              "#0d0887"
             ],
             [
              0.1111111111111111,
              "#46039f"
             ],
             [
              0.2222222222222222,
              "#7201a8"
             ],
             [
              0.3333333333333333,
              "#9c179e"
             ],
             [
              0.4444444444444444,
              "#bd3786"
             ],
             [
              0.5555555555555556,
              "#d8576b"
             ],
             [
              0.6666666666666666,
              "#ed7953"
             ],
             [
              0.7777777777777778,
              "#fb9f3a"
             ],
             [
              0.8888888888888888,
              "#fdca26"
             ],
             [
              1,
              "#f0f921"
             ]
            ],
            "type": "surface"
           }
          ],
          "table": [
           {
            "cells": {
             "fill": {
              "color": "#EBF0F8"
             },
             "line": {
              "color": "white"
             }
            },
            "header": {
             "fill": {
              "color": "#C8D4E3"
             },
             "line": {
              "color": "white"
             }
            },
            "type": "table"
           }
          ]
         },
         "layout": {
          "annotationdefaults": {
           "arrowcolor": "#2a3f5f",
           "arrowhead": 0,
           "arrowwidth": 1
          },
          "autotypenumbers": "strict",
          "coloraxis": {
           "colorbar": {
            "outlinewidth": 0,
            "ticks": ""
           }
          },
          "colorscale": {
           "diverging": [
            [
             0,
             "#8e0152"
            ],
            [
             0.1,
             "#c51b7d"
            ],
            [
             0.2,
             "#de77ae"
            ],
            [
             0.3,
             "#f1b6da"
            ],
            [
             0.4,
             "#fde0ef"
            ],
            [
             0.5,
             "#f7f7f7"
            ],
            [
             0.6,
             "#e6f5d0"
            ],
            [
             0.7,
             "#b8e186"
            ],
            [
             0.8,
             "#7fbc41"
            ],
            [
             0.9,
             "#4d9221"
            ],
            [
             1,
             "#276419"
            ]
           ],
           "sequential": [
            [
             0,
             "#0d0887"
            ],
            [
             0.1111111111111111,
             "#46039f"
            ],
            [
             0.2222222222222222,
             "#7201a8"
            ],
            [
             0.3333333333333333,
             "#9c179e"
            ],
            [
             0.4444444444444444,
             "#bd3786"
            ],
            [
             0.5555555555555556,
             "#d8576b"
            ],
            [
             0.6666666666666666,
             "#ed7953"
            ],
            [
             0.7777777777777778,
             "#fb9f3a"
            ],
            [
             0.8888888888888888,
             "#fdca26"
            ],
            [
             1,
             "#f0f921"
            ]
           ],
           "sequentialminus": [
            [
             0,
             "#0d0887"
            ],
            [
             0.1111111111111111,
             "#46039f"
            ],
            [
             0.2222222222222222,
             "#7201a8"
            ],
            [
             0.3333333333333333,
             "#9c179e"
            ],
            [
             0.4444444444444444,
             "#bd3786"
            ],
            [
             0.5555555555555556,
             "#d8576b"
            ],
            [
             0.6666666666666666,
             "#ed7953"
            ],
            [
             0.7777777777777778,
             "#fb9f3a"
            ],
            [
             0.8888888888888888,
             "#fdca26"
            ],
            [
             1,
             "#f0f921"
            ]
           ]
          },
          "colorway": [
           "#636efa",
           "#EF553B",
           "#00cc96",
           "#ab63fa",
           "#FFA15A",
           "#19d3f3",
           "#FF6692",
           "#B6E880",
           "#FF97FF",
           "#FECB52"
          ],
          "font": {
           "color": "#2a3f5f"
          },
          "geo": {
           "bgcolor": "white",
           "lakecolor": "white",
           "landcolor": "#E5ECF6",
           "showlakes": true,
           "showland": true,
           "subunitcolor": "white"
          },
          "hoverlabel": {
           "align": "left"
          },
          "hovermode": "closest",
          "mapbox": {
           "style": "light"
          },
          "paper_bgcolor": "white",
          "plot_bgcolor": "#E5ECF6",
          "polar": {
           "angularaxis": {
            "gridcolor": "white",
            "linecolor": "white",
            "ticks": ""
           },
           "bgcolor": "#E5ECF6",
           "radialaxis": {
            "gridcolor": "white",
            "linecolor": "white",
            "ticks": ""
           }
          },
          "scene": {
           "xaxis": {
            "backgroundcolor": "#E5ECF6",
            "gridcolor": "white",
            "gridwidth": 2,
            "linecolor": "white",
            "showbackground": true,
            "ticks": "",
            "zerolinecolor": "white"
           },
           "yaxis": {
            "backgroundcolor": "#E5ECF6",
            "gridcolor": "white",
            "gridwidth": 2,
            "linecolor": "white",
            "showbackground": true,
            "ticks": "",
            "zerolinecolor": "white"
           },
           "zaxis": {
            "backgroundcolor": "#E5ECF6",
            "gridcolor": "white",
            "gridwidth": 2,
            "linecolor": "white",
            "showbackground": true,
            "ticks": "",
            "zerolinecolor": "white"
           }
          },
          "shapedefaults": {
           "line": {
            "color": "#2a3f5f"
           }
          },
          "ternary": {
           "aaxis": {
            "gridcolor": "white",
            "linecolor": "white",
            "ticks": ""
           },
           "baxis": {
            "gridcolor": "white",
            "linecolor": "white",
            "ticks": ""
           },
           "bgcolor": "#E5ECF6",
           "caxis": {
            "gridcolor": "white",
            "linecolor": "white",
            "ticks": ""
           }
          },
          "title": {
           "x": 0.05
          },
          "xaxis": {
           "automargin": true,
           "gridcolor": "white",
           "linecolor": "white",
           "ticks": "",
           "title": {
            "standoff": 15
           },
           "zerolinecolor": "white",
           "zerolinewidth": 2
          },
          "yaxis": {
           "automargin": true,
           "gridcolor": "white",
           "linecolor": "white",
           "ticks": "",
           "title": {
            "standoff": 15
           },
           "zerolinecolor": "white",
           "zerolinewidth": 2
          }
         }
        },
        "xaxis": {
         "anchor": "y",
         "domain": [
          0,
          1
         ],
         "title": {
          "text": "logret_std"
         }
        },
        "yaxis": {
         "anchor": "x",
         "domain": [
          0,
          1
         ],
         "title": {
          "text": "logret_mean"
         }
        }
       }
      },
      "text/html": [
       "<div>                            <div id=\"33db6242-6810-4304-905b-2028a15af5e0\" class=\"plotly-graph-div\" style=\"height:525px; width:100%;\"></div>            <script type=\"text/javascript\">                require([\"plotly\"], function(Plotly) {                    window.PLOTLYENV=window.PLOTLYENV || {};                                    if (document.getElementById(\"33db6242-6810-4304-905b-2028a15af5e0\")) {                    Plotly.newPlot(                        \"33db6242-6810-4304-905b-2028a15af5e0\",                        [{\"hovertemplate\": \"<b>%{hovertext}</b><br><br>logret_std=%{x}<br>logret_mean=%{y}<br>size=%{marker.size}<br>color=%{marker.color}<extra></extra>\", \"hovertext\": [\"20MICRONS\", \"21STCENMGM\", \"3IINFOTECH\", \"3MINDIA\", \"5PAISA\", \"63MOONS\", \"A2ZINFRA\", \"AARTIDRUGS\", \"AARTIIND\", \"AARVEEDEN\", \"AAVAS\", \"ABB\", \"ABBOTINDIA\", \"ABCAPITAL\", \"ABFRL\", \"ACC\", \"ACCELYA\", \"ACE\", \"ADANIENT\", \"ADANIGREEN\", \"ADANIPORTS\", \"ADANIPOWER\", \"ADANITRANS\", \"ADFFOODS\", \"ADORWELD\", \"ADSL\", \"ADVANIHOTR\", \"ADVENZYMES\", \"AEGISCHEM\", \"AGARIND\", \"AGRITECH\", \"AHLEAST\", \"AHLUCONT\", \"AHLWEST\", \"AIAENG\", \"AJANTPHARM\", \"AJMERA\", \"AKSHARCHEM\", \"AKSHOPTFBR\", \"AKZOINDIA\", \"ALANKIT\", \"ALBERTDAVD\", \"ALEMBICLTD\", \"ALICON\", \"ALKALI\", \"ALKEM\", \"ALKYLAMINE\", \"ALLCARGO\", \"ALMONDZ\", \"ALPA\", \"ALPHAGEO\", \"AMARAJABAT\", \"AMBER\", \"AMBIKCO\", \"AMBUJACEM\", \"AMDIND\", \"AMJLAND\", \"AMRUTANJAN\", \"ANANTRAJ\", \"ANDHRAPAP\", \"ANDHRSUGAR\", \"ANIKINDS\", \"ANSALAPI\", \"APARINDS\", \"APCL\", \"APEX\", \"APLAPOLLO\", \"APLLTD\", \"APOLLO\", \"APOLLOHOSP\", \"APOLLOTYRE\", \"APTECHT\", \"ARCHIDPLY\", \"ARIES\", \"ARIHANT\", \"ARMANFIN\", \"AROGRANITE\", \"ARSHIYA\", \"ARSSINFRA\", \"ARVIND\", \"ARVSMART\", \"ASAHIINDIA\", \"ASAHISONG\", \"ASAL\", \"ASHIANA\", \"ASHOKA\", \"ASHOKLEY\", \"ASIANHOTNR\", \"ASIANPAINT\", \"ASIANTILES\", \"ASPINWALL\", \"ASTEC\", \"ASTERDM\", \"ASTRAL\", \"ASTRAMICRO\", \"ASTRAZEN\", \"ASTRON\", \"ATFL\", \"ATUL\", \"ATULAUTO\", \"AUBANK\", \"AURIONPRO\", \"AUROPHARMA\", \"AUSOMENT\", \"AUTOAXLES\", \"AUTOIND\", \"AVADHSUGAR\", \"AVANTIFEED\", \"AVTNPL\", \"AXISBANK\", \"AXISCADES\", \"AYMSYNTEX\", \"BAGFILMS\", \"BAJAJ-AUTO\", \"BAJAJCON\", \"BAJAJELEC\", \"BAJAJFINSV\", \"BAJAJHIND\", \"BAJAJHLDNG\", \"BAJFINANCE\", \"BALAJITELE\", \"BALAMINES\", \"BALKRISIND\", \"BALMLAWRIE\", \"BALPHARMA\", \"BALRAMCHIN\", \"BANARBEADS\", \"BANARISUG\", \"BANCOINDIA\", \"BANDHANBNK\", \"BANG\", \"BANKBARODA\", \"BANKINDIA\", \"BANSWRAS\", \"BASF\", \"BASML\", \"BATAINDIA\", \"BAYERCROP\", \"BBL\", \"BDL\", \"BEARDSELL\", \"BEDMUTHA\", \"BEL\", \"BEML\", \"BEPL\", \"BERGEPAINT\", \"BFINVEST\", \"BFUTILITIE\", \"BGRENERGY\", \"BHAGERIA\", \"BHAGYANGR\", \"BHAGYAPROP\", \"BHANDARI\", \"BHARATFORG\", \"BHARATGEAR\", \"BHARATRAS\", \"BHARATWIRE\", \"BHARTIARTL\", \"BHEL\", \"BIGBLOC\", \"BINDALAGRO\", \"BIOCON\", \"BIRLACABLE\", \"BIRLACORPN\", \"BLISSGVS\", \"BLKASHYAP\", \"BLS\", \"BLUEDART\", \"BLUESTARCO\", \"BODALCHEM\", \"BOMDYEING\", \"BORORENEW\", \"BOSCHLTD\", \"BPCL\", \"BPL\", \"BRIGADE\", \"BRITANNIA\", \"BRNL\", \"BROOKS\", \"BSE\", \"BSL\", \"BSOFT\", \"BUTTERFLY\", \"BYKE\", \"CADILAHC\", \"CALSOFT\", \"CAMLINFINE\", \"CANBK\", \"CANFINHOME\", \"CANTABIL\", \"CAPACITE\", \"CAPLIPOINT\", \"CARBORUNIV\", \"CAREERP\", \"CARERATING\", \"CASTROLIND\", \"CCL\", \"CDSL\", \"CEATLTD\", \"CELEBRITY\", \"CENTENKA\", \"CENTEXT\", \"CENTRALBK\", \"CENTRUM\", \"CENTUM\", \"CENTURYPLY\", \"CENTURYTEX\", \"CERA\", \"CEREBRAINT\", \"CESC\", \"CGCL\", \"CGPOWER\", \"CHALET\", \"CHAMBLFERT\", \"CHEMFAB\", \"CHENNPETRO\", \"CHOLAHLDNG\", \"CIGNITITEC\", \"CINELINE\", \"CIPLA\", \"CLEDUCATE\", \"CLNINDIA\", \"CMICABLES\", \"COALINDIA\", \"COCHINSHIP\", \"COFORGE\", \"COLPAL\", \"COMPINFO\", \"COMPUSOFT\", \"CONCOR\", \"CONSOFINVT\", \"CONTROLPR\", \"CORALFINAC\", \"CORDSCABLE\", \"COROMANDEL\", \"COSMOFILMS\"], \"legendgroup\": \"\", \"marker\": {\"color\": [-0.03938435912843298, -0.1271609953174884, -0.06490168589844397, 0.006572759270715581, -0.027715533375169653, 0.002324630833619448, -0.06805878003683491, 0.0014527608980379214, -0.04850448089570391, -0.06784088879447138, 0.16846970014311852, 0.026557575350622746, 0.14490383088434092, 0.0045586439998078635, 0.03044225014452549, -0.006965616351205776, 0.022396441817612026, -0.034090682725271486, 0.03875137499380318, 0.1600883586424559, -0.011880058701667936, 0.023256904784348796, 0.08341768739138795, 0.02368953807190866, -0.048721984027430894, 0.03968887258747493, -0.029856109047189792, -0.009771957988652486, -0.00925185356148443, -0.10997180634697766, -0.039787183458724305, -0.06222269458663886, -0.01650227769149663, 0.021662214990188007, -0.0035864876734728857, -0.043556970692389625, -0.054389188774724824, -0.07334232316915607, -0.13409311006832988, 0.027702354653625114, -0.07375891896385421, -0.00253258576551526, 0.03823096413872631, -0.07847827836775992, -0.033053407104661696, 0.011802044493485268, 0.06356093392427763, -0.01990411814705727, -0.0760516831972584, -0.0432087604440267, -0.11375462592723848, -0.004704566549032976, 0.041443529089666586, -0.10624093860780306, -0.02773833272474815, -0.03143713878937782, -0.0071763633379877305, 0.06822164494694397, -0.013145126613205415, -0.08757979933255552, -0.029008708006541005, -0.15763648047137413, -0.08479399024207977, -0.10614333769502063, 0.012869290257880762, -0.0072381833897779465, 0.0895434752172462, -0.006699373073627527, -0.056334624110425384, 0.02632912811659436, -0.07232916918867853, -0.023792457451037006, -0.05714025680610719, -0.054303514685002094, -0.04533621009637024, 0.0730998637247797, -0.04944957435460706, -0.07018269803062333, -0.05459966718482048, -0.11918021573911518, -0.0785057955674046, -0.05909423176043971, -0.04277925444205699, -0.09636465307259146, -0.0291946340538701, -0.029627063147079965, -0.03495997205009412, -0.06271803039618158, 0.07791260296740393, 0.03625542511065172, -0.031003447402667743, -0.023861976036250836, -0.0008693926252848967, 0.0073572548167066916, 0.008868793047130953, 0.09427576020944817, -0.11785230680918926, 0.008193739086146045, 0.0490444873202375, -0.06462462293967819, 0.0550386794751228, -0.11178456873761493, -0.08000275907335253, -0.01656049412291443, -0.08143789128719865, -0.12235790935532695, -0.022951091052404143, 0.05687617548369675, 0.021247334054540077, 0.04547336753276384, -0.05229790849240526, -0.047932061500660574, -0.11325885964204353, 0.04581557511321593, -0.08290020575093406, -0.0668851398263811, 0.08070363838358621, -0.03970469109549441, 0.03374548648399199, 0.09484274562892403, -0.07846024192829397, -0.01712919328390287, 0.014917330979147745, -0.06384960635256494, -0.08956507927331887, 0.08233819045229562, -0.05322973770539186, -0.04961614667135184, -0.09467261614746048, -0.013631245174993013, -0.14718809623657783, -0.03145592909891795, -0.0624646392993089, 0.005151027097267514, -0.0950983388244744, -0.08099408939979177, 0.11928054075673447, -0.04639935254117102, -0.07971249432074418, 0.010024186139321448, -0.1258235282470308, -0.037951917613282066, 0.02337782821975384, 0.01294180404104881, -0.058405387409582205, 0.10549674035532058, 0.025590682697253713, 0.03772579142983695, -0.06436180212591099, -0.07270224572141519, -0.07869533416227065, -0.019981500563819216, -0.06422682175970881, -0.011103207021388325, -0.08606694614416051, 0.02380397172061599, -0.15040502704057787, 0.06332998945894644, -0.07577581619295927, 0.0018870415687166668, -0.07709644922415411, -0.0612433032775215, -0.10366661733978044, 0.0044898412667173345, -0.010107029970496442, -0.09009198837408439, -0.07083993675961513, -0.09996963195332875, 0.06777821124830394, -0.06664456563483162, -0.04370056504120568, -0.0658337286755678, -0.056497991568806534, 0.049870737733212184, -0.08189337540479656, -0.001606076203250414, -0.006426429280889416, -0.0903257416797968, -0.08561916728174994, -0.052583873656306325, -0.0487652094173078, -0.10524512832862405, -0.05624087273644173, -0.1417439643594739, -0.0725505436689719, -0.0649250151240748, 0.05255248776868211, -0.038554059275872216, 0.053418465161931765, 0.10122999139645865, -0.046889070896883614, -0.03488361020525166, -0.025171824020971574, 0.03926680773664218, -0.06159149474016443, -0.03339678644198098, -0.0763714635365513, -0.005038370331714584, -0.06815722250666571, -0.030624068954796187, -0.0810916295587862, -0.1285265419282248, -0.10744176677395235, -0.10416803086868986, 0.007271395339168122, -0.01614323830533418, -0.048141058006152496, 0.02683925579332019, -0.03249879929132602, 0.022100304604627984, 0.07214537658968309, -0.12144639096861161, 0.03786108849882814, 0.005630697088538249, 0.01772168890630935, -0.16405416301736694, -0.007854498962897933, -0.04629513656959007, -0.05845240841681908, -0.02571484304640794, -0.07927482784225343, -0.015619904581294598, -0.14945890514975685, -0.030703892587336124, 0.02285555488718368, 0.0855729960638878, 0.029860965722990632, -0.03806956914803348, -0.049261362596626196, -0.03187029286941424, -0.030182002235300088, -0.04065352937944622, -0.038726552376552155, -0.0745026128228784, 0.04349186026597999, 0.012583440542067352], \"coloraxis\": \"coloraxis\", \"size\": [0.7400132117705699, 0.21898992915958795, 0.5885478340300415, 1.0128048078861147, 0.809276858250325, 0.9875888287902462, 0.5698080004830659, 0.9824135958858079, 0.6858781254047533, 0.5711013561557977, 1.9737903188407144, 1.1314303890020643, 1.8339083742610192, 1.0008494517051716, 1.15448898523986, 0.9324439144410608, 1.106730792994736, 0.7714353393024904, 1.2038101678751882, 1.9240404736546513, 0.9032728388928332, 1.1118383165791301, 1.4689398164686138, 1.1144063349657738, 0.6845870734735028, 1.2093749524796322, 0.7965708602566106, 0.9157860724964104, 0.918873300803496, 0.3210212674709173, 0.7376221329596672, 0.6044497517608218, 0.8758363385256929, 1.1023725800531787, 0.9525016973828138, 0.7152454846338092, 0.6509477618199561, 0.5384460218730684, 0.17784238307294736, 1.1382255533671093, 0.5359731986036957, 0.9587574330258541, 1.2007211206777708, 0.5079600935771152, 0.7775923848704982, 1.0438447231843988, 1.3510743875502882, 0.8556437433428753, 0.5223638419570321, 0.7173123859701748, 0.2985672619313619, 0.9458650210273014, 1.2197902170684638, 0.34316689802647204, 0.809141526202134, 0.7871862068688209, 0.9311929655368785, 1.3787393683670581, 0.8957636671517856, 0.4539354175845559, 0.8016008510497853, 0.038093986874440086, 0.47047138273502004, 0.34374623610744165, 1.0501796650967357, 0.9308260149710634, 1.505301178901468, 0.9340242774223688, 0.6394000750012113, 1.1300743752272766, 0.5444598865598154, 0.8325633953593715, 0.6346180121436328, 0.6514563048377803, 0.7046843012134725, 1.407695428558841, 0.6802682533737574, 0.5572008788939368, 0.6496984071293685, 0.26636212470331705, 0.5077967573830026, 0.6230196359806042, 0.7198618414604192, 0.4017904103068495, 0.8004972339176176, 0.7979304275848319, 0.7662754243499253, 0.6015095446546068, 1.4362628162762507, 1.1889947447989253, 0.7897605059050372, 0.8321507479506399, 0.9686297907187653, 1.017461405157462, 1.0264335718387119, 1.5333910074473838, 0.27424430724888954, 1.0224265963385986, 1.264907874570755, 0.5901924203178452, 1.3004881133305624, 0.3102610987931237, 0.49891110313968035, 0.8754907782773612, 0.49039246618225146, 0.2475000170749883, 0.8375575658120885, 1.3113950954585827, 1.0999099358192574, 1.2437104735874331, 0.6633611529552342, 0.6892758841385617, 0.30151002424870316, 1.2457417443747698, 0.4817124812206047, 0.576774477003513, 1.4528298037749596, 0.7381117899315727, 1.1740962875420566, 1.5367565112679176, 0.5080671540126157, 0.8721151020548399, 1.0623363954733385, 0.5947927525227157, 0.4421512217376065, 1.4625321542113932, 0.6578300146425585, 0.6792795158345841, 0.4118339785193741, 0.8928781716509647, 0.10011335430917867, 0.7870746716222801, 0.603013619848291, 1.0043657106939177, 0.4093069800344699, 0.4930267789817036, 1.6818140207610193, 0.6983737157260071, 0.5006340524436903, 1.0332917373795123, 0.22692884677694816, 0.7485158773177515, 1.1125560921512498, 1.050610091357995, 0.6271084682766925, 1.5999963384733182, 1.1256911216290728, 1.1977225238472415, 0.5917524682881564, 0.5422453842937122, 0.5066716969436177, 0.85518441791702, 0.5925536827860008, 0.9078840638170758, 0.462915389574236, 1.115085588556242, 0.08101834315128387, 1.3497035507461925, 0.5240013293156774, 0.9849913927852492, 0.5161623349441499, 0.6102632084731289, 0.3584475168311336, 1.0004410534410795, 0.913797157091686, 0.43902360234778215, 0.5532996507892184, 0.3803920290093533, 1.3761072410571424, 0.5782024737966759, 0.7143931393830367, 0.5830154280464608, 0.6384303608137797, 1.26981231977528, 0.4876888101704525, 0.9642569950330149, 0.9356444132242742, 0.43763609286973454, 0.46557330884417103, 0.6616637250874448, 0.684330496831886, 0.3490778142228745, 0.6399565630456727, 0.13242855325877634, 0.5431458551339547, 0.5884093567512726, 1.2857306126979344, 0.7449416935797938, 1.2908708687351564, 1.5746698319547145, 0.6954668526206739, 0.7667286918797992, 0.8243757713013791, 1.2068696660662643, 0.6081964186447673, 0.7755541587857626, 0.5204656944621339, 0.9438836333807511, 0.5692236670999876, 0.792012414987497, 0.49244780152218676, 0.21088433741474397, 0.3360390396333654, 0.3554712336865476, 1.0169517617173323, 0.8779675193009744, 0.6880353257158044, 1.1331023836839456, 0.7808844178762229, 1.1049729860256938, 1.402029797681088, 0.25291059467998783, 1.1985256182249027, 1.0072129288634952, 1.078982462539281, 0.0, 0.9271676979407818, 0.6989923193769451, 0.6268293616646612, 0.8211525268546027, 0.5032319467719816, 0.881073916021542, 0.08663431973352549, 0.791538599028472, 1.10945598968697, 1.4817332663926586, 1.1510386056105202, 0.7478175230460251, 0.6813854379940243, 0.7846150971697565, 0.7946364282024582, 0.7324796894224263, 0.7439178115373054, 0.5315587913934235, 1.2319486715239136, 1.0484829225040289], \"sizemode\": \"area\", \"sizeref\": 0.004934475797101786, \"symbol\": \"circle\"}, \"mode\": \"markers\", \"name\": \"\", \"orientation\": \"v\", \"showlegend\": false, \"type\": \"scatter\", \"x\": [0.02381003545168039, 0.014912417931634408, 0.03958684928915139, 0.018968586185895076, 0.04324907364655065, 0.03851826039076764, 0.03580404093156251, 0.01783105971420984, 0.04898868432824022, 0.03751306734752232, 0.020721123658124084, 0.01784360346405702, 0.01542064170805946, 0.023243854331326634, 0.020110450900032346, 0.017304777090125477, 0.021886880979793355, 0.028865068716626266, 0.02975911984645168, 0.03562105816276361, 0.02102504176707481, 0.034367237998857235, 0.02468870683520059, 0.022069430881833826, 0.02187706184388633, 0.045394855523967804, 0.025692313693905924, 0.025321615623085877, 0.023522496323328576, 0.03425309752943014, 0.03919128426646292, 0.021417508427281073, 0.020347480278299756, 0.03413908955598739, 0.017121048144637184, 0.0181346754537598, 0.028469292250723612, 0.035145423537690165, 0.039752134618686354, 0.015961809962652247, 0.04072822757606463, 0.023992015615150096, 0.02536605255131522, 0.024134177113825706, 0.03612036066009751, 0.012928622815094399, 0.021862086908259484, 0.02068817756253505, 0.03614279265862586, 0.04012741876338392, 0.03667828882022748, 0.017207337172206492, 0.020390276493387958, 0.011236572264119653, 0.018813682292910954, 0.04235418366540396, 0.028704110487379808, 0.02601448101220392, 0.0246732717395476, 0.020672395198661438, 0.020333153881755956, 0.03182846198610248, 0.040073150870917014, 0.02065931624240033, 0.029621274940383885, 0.034967493871799205, 0.021541581618319074, 0.016428491486806644, 0.038815425083545727, 0.020212733297724644, 0.020272333403548594, 0.029618840364672192, 0.031184568261718643, 0.03323014678606791, 0.04431781668242379, 0.026259944618145424, 0.027252800990409064, 0.041193263856876446, 0.04718297805756832, 0.03099769532091476, 0.021116488494595624, 0.019279331446454093, 0.03225732391494039, 0.038583693563884934, 0.020989445122542194, 0.027464198229513733, 0.026876144354784644, 0.026593316084776174, 0.013857946377506699, 0.025884026111321266, 0.026037201132832886, 0.025781997621499332, 0.023402097844124604, 0.023245005916270437, 0.023996284101154567, 0.025854383780878096, 0.03425848168204951, 0.017841695337604286, 0.013580270021270454, 0.020576146089786067, 0.01903426930441195, 0.029660117735346082, 0.024230476315832344, 0.04434026736301812, 0.026227102774631965, 0.034791185112676155, 0.0534261703270007, 0.029482612303207437, 0.02629070415641297, 0.01659231781029138, 0.035574545594238866, 0.030136345458291962, 0.03807887062095122, 0.01389914437892455, 0.022661791281273217, 0.022083092776591706, 0.01852703462872108, 0.032799478105357084, 0.017479751767189983, 0.020144781732699256, 0.0290650479373547, 0.032842343275890834, 0.017669260518218828, 0.031106270105948325, 0.02981815251569863, 0.028524131848239112, 0.03928608296662961, 0.020437105373395683, 0.023281209197678954, 0.027375944230951875, 0.03471616723235447, 0.024836787322841607, 0.02706726656754653, 0.03481010664950364, 0.019404763866633597, 0.03155129776892594, 0.015179298938285783, 0.014805213154522231, 0.01823924763672453, 0.02601166874230626, 0.038484910720973674, 0.04122732739071613, 0.023597190406480364, 0.027080821076335842, 0.03627560963333519, 0.017038613300652244, 0.03424578228549246, 0.0387107664700059, 0.03524907152327232, 0.050645431038199476, 0.024014898625253377, 0.03697771877852982, 0.04126175418697949, 0.02064998328460131, 0.034989649231985914, 0.029612824687025262, 0.02688413064006017, 0.022992812960727575, 0.028651593311692532, 0.03825053939571464, 0.03299529502430809, 0.05062259687975399, 0.047050301765145804, 0.025024533288243247, 0.0318148526011928, 0.04189641185671837, 0.0338406405396903, 0.018311025287718434, 0.01788511942340873, 0.026954892695732244, 0.035409026161005525, 0.02592740374738463, 0.01752659649169905, 0.02396827576382929, 0.039278502335209096, 0.029030855588142158, 0.01565590079065928, 0.03423121815427152, 0.03476197315520334, 0.014127111221539927, 0.038327057368014075, 0.043688502627330685, 0.03369987321942808, 0.03751760770095169, 0.018051933336634962, 0.03951013516302018, 0.034575437937461054, 0.02555356876626274, 0.024179006493856903, 0.03194420390646867, 0.026798118601187203, 0.028271954227284568, 0.019244633302887598, 0.034455644076749906, 0.028468136754314855, 0.019160751392597212, 0.01571721571556862, 0.016093723519393026, 0.01615368635896324, 0.03873870789058535, 0.01988297751928217, 0.03603773865220704, 0.02790333680344508, 0.02515773760483597, 0.02748005844187172, 0.02389488191217989, 0.05607913713802724, 0.019928817153291166, 0.028300312128123135, 0.017264867370839772, 0.026380893114588213, 0.05078689727303289, 0.02181181901612129, 0.024304771037362623, 0.019999834486823867, 0.021362640499045814, 0.01669978219060695, 0.02222262168845474, 0.02796357527656092, 0.014287851694453171, 0.024594329838592423, 0.02029753232996622, 0.03592872035612849, 0.01780010675670347, 0.013949056801556978, 0.01544909727722271, 0.01370269072441663, 0.03689770446720766, 0.0316880261702231, 0.02326187912130692, 0.03623123556047994, 0.026089987496101145, 0.034008446045920716, 0.024573911059498094, 0.015572279209263558, 0.02322956046498375], \"xaxis\": \"x\", \"y\": [-0.0009377429870897015, -0.0018962779067769927, -0.0025692532582735437, 0.00012467595070570937, -0.0011986711440961448, 8.954073576176114e-05, -0.0024367793461910463, 2.590426632338329e-05, -0.002376170703104797, -0.0025449198302627775, 0.0034908814893126437, 0.0004738828435233274, 0.002234510058192662, 0.00010596045707991017, 0.0006122073768179824, -0.00012053843825294914, 0.0004901882564329412, -0.0009840298994616655, 0.0011532068126553796, 0.005702516734384283, -0.0002497787303978689, 0.0007992755818404765, 0.002059474828876386, 0.0005228146231005591, -0.0010658938577249475, 0.0018016706370175908, -0.0007670725193198629, -0.00024744176407360164, -0.00021762669138399187, -0.0037668750082906306, -0.0015593108170927756, -0.001332655085677474, -0.0003357797698747537, 0.000739528297531081, -6.140442812767708e-05, -0.0007898915272554131, -0.0015484217105074171, -0.0025776470110181362, -0.005330487362874576, 0.00044217972049915915, -0.003004070037324364, -6.0761837232948974e-05, 0.0009697686454303791, -0.0018940086697156343, -0.0011939009856654099, 0.00015258418170323285, 0.001389574661422696, -0.00041177993045199695, -0.0027487202171380108, -0.001733856024584198, -0.00417232502439619, -8.095306285829434e-05, 0.0008450450170000686, -0.0011937839840744787, -0.0005218601792184667, -0.0013314943502001034, -0.00020599112615118158, 0.0017747506870935913, -0.00032433328097837625, -0.001810484223222053, -0.0005898385238079243, -0.005017326726306118, -0.003397962363917928, -0.002192848780465323, 0.0003812047850162899, -0.00025310113332501914, 0.0019289080797802404, -0.00011006059350703148, -0.0021866523817679253, 0.000532183644582345, -0.0014662810325945656, -0.0007047049991255205, -0.0017818942388621829, -0.0018045137639820137, -0.0020092018481267866, 0.0019195983730066926, -0.001347639408946542, -0.0028910543981629493, -0.002576174898731918, -0.003694312015761982, -0.0016577667288581754, -0.0011392972806830914, -0.001379944267377085, -0.0037181042445429513, -0.000612779169346408, -0.0008136835352297252, -0.0009395892554575661, -0.0016678804065402566, 0.001079708674054253, 0.0009384363702411617, -0.0008072429958344654, -0.0006152094094108931, -2.0345611281877512e-05, 0.00017101943174185623, 0.00021281807759329868, 0.0024374416856891095, -0.0040374410940098885, 0.0001461901964508379, 0.0006660373808636003, -0.0013297256826041582, 0.001047621047288698, -0.0033155434697525457, -0.0019385049589281094, -0.0007342967370737161, -0.002135879944538664, -0.00425697667438123, -0.0012261888997562454, 0.001676858231075023, 0.0005586073737403916, 0.0007545085660078033, -0.0018604743301464028, -0.0014444971639120032, -0.0043127694629858495, 0.0006367972933020507, -0.0018786671599022732, -0.0014770307481612828, 0.0014951991029964855, -0.0013022931462666352, 0.0005898627270032447, 0.0019105864096245911, -0.0022804506928223115, -0.0005625628458690219, 0.00026357820730705785, -0.001986123101361359, -0.0026706651938524606, 0.002348625400606703, -0.002091187891785957, -0.001014010417744273, -0.0022040929818205857, -0.00037316820770904056, -0.005109806563560919, -0.0007812642210722098, -0.0016907470429600368, 0.00017930780261036532, -0.0018453608089980397, -0.0025554686321758386, 0.0018105949856668537, -0.0006869523046038597, -0.0014538959236570508, 0.00026074580926724734, -0.004842307251184889, -0.0015646561325482655, 0.0005516510637915212, 0.00035047467964064295, -0.002118691034153714, 0.0017975181633936217, 0.0008763729481872696, 0.0014603943019365683, -0.0022686937665029367, -0.003682036572006166, -0.0018898604721873686, -0.0007388703086219419, -0.0026501113316600507, -0.00022928103939713685, -0.003011452256052399, 0.0007049028414175085, -0.004043508395880678, 0.0014561346024344044, -0.0021710978684222346, 7.218035786554802e-05, -0.0025438200874775534, -0.003100295053402487, -0.0048775456288085665, 0.00011235618223789615, -0.00032155366874718234, -0.0037745310499113227, -0.0023972688357365287, -0.0018305464587013076, 0.0012122214024809408, -0.001796397115440571, -0.0015473944507947755, -0.0017068976635672198, -0.0009902175008178872, 0.0011953155945352363, -0.003216649137075457, -4.662576632011442e-05, -0.00010061153925979256, -0.0030919601683875, -0.0029762911946190555, -0.0007428582316020428, -0.0018690269789003765, -0.004598002065498847, -0.0018953102809680755, -0.005317894448816419, -0.0013096775778489043, -0.002565196123013325, 0.0018170252793052496, -0.0009851938049245704, 0.0012916054160422169, 0.003233711486618544, -0.0012565388829941623, -0.0009862278310053118, -0.0004844225228484156, 0.0013529631514039124, -0.001753395095165665, -0.0006399075223264587, -0.0012003467669176602, -8.108613910692704e-05, -0.0011009903954707484, -0.001186336861660993, -0.0016123430475193034, -0.004631805927881295, -0.0029979838050507874, -0.002620631987406953, 0.00019981836887429365, -0.0003857407729861392, -0.00269970899389675, 0.0005348746212354887, -0.0009197261637337533, 0.00038155882785406166, 0.0019032594685241444, -0.006167885382303467, 0.0008258192100897907, 0.0001368528035176665, 0.00035443084495316964, -0.003504630106911867, -0.00013116842189674367, -0.0010287993060013464, -0.0016345383228600033, -0.00036740986379321704, -0.0019497112638500107, -0.0003170455182298146, -0.005369867207858746, -0.0005465325659009394, 0.00031881343335242836, 0.0013220255404943987, 0.00040917557803454667, -0.0014046797116180657, -0.0015609953471427403, -0.000741362900288964, -0.0010935312326740896, -0.0010606500731821325, -0.0013170298670424966, -0.001830820581209636, 0.0006772673913921159, 0.00029230779292948147], \"yaxis\": \"y\"}, {\"marker\": {\"color\": \"LightSeaGreen\", \"size\": 20}, \"mode\": \"markers\", \"type\": \"scatter\", \"x\": [0.027694780249859798], \"y\": [-0.0009413687195844739]}],                        {\"coloraxis\": {\"colorbar\": {\"title\": {\"text\": \"color\"}}, \"colorscale\": [[0.0, \"#0d0887\"], [0.1111111111111111, \"#46039f\"], [0.2222222222222222, \"#7201a8\"], [0.3333333333333333, \"#9c179e\"], [0.4444444444444444, \"#bd3786\"], [0.5555555555555556, \"#d8576b\"], [0.6666666666666666, \"#ed7953\"], [0.7777777777777778, \"#fb9f3a\"], [0.8888888888888888, \"#fdca26\"], [1.0, \"#f0f921\"]]}, \"legend\": {\"itemsizing\": \"constant\", \"tracegroupgap\": 0}, \"margin\": {\"t\": 60}, \"template\": {\"data\": {\"bar\": [{\"error_x\": {\"color\": \"#2a3f5f\"}, \"error_y\": {\"color\": \"#2a3f5f\"}, \"marker\": {\"line\": {\"color\": \"#E5ECF6\", \"width\": 0.5}}, \"type\": \"bar\"}], \"barpolar\": [{\"marker\": {\"line\": {\"color\": \"#E5ECF6\", \"width\": 0.5}}, \"type\": \"barpolar\"}], \"carpet\": [{\"aaxis\": {\"endlinecolor\": \"#2a3f5f\", \"gridcolor\": \"white\", \"linecolor\": \"white\", \"minorgridcolor\": \"white\", \"startlinecolor\": \"#2a3f5f\"}, \"baxis\": {\"endlinecolor\": \"#2a3f5f\", \"gridcolor\": \"white\", \"linecolor\": \"white\", \"minorgridcolor\": \"white\", \"startlinecolor\": \"#2a3f5f\"}, \"type\": \"carpet\"}], \"choropleth\": [{\"colorbar\": {\"outlinewidth\": 0, \"ticks\": \"\"}, \"type\": \"choropleth\"}], \"contour\": [{\"colorbar\": {\"outlinewidth\": 0, \"ticks\": \"\"}, \"colorscale\": [[0.0, \"#0d0887\"], [0.1111111111111111, \"#46039f\"], [0.2222222222222222, \"#7201a8\"], [0.3333333333333333, \"#9c179e\"], [0.4444444444444444, \"#bd3786\"], [0.5555555555555556, \"#d8576b\"], [0.6666666666666666, \"#ed7953\"], [0.7777777777777778, \"#fb9f3a\"], [0.8888888888888888, \"#fdca26\"], [1.0, \"#f0f921\"]], \"type\": \"contour\"}], \"contourcarpet\": [{\"colorbar\": {\"outlinewidth\": 0, \"ticks\": \"\"}, \"type\": \"contourcarpet\"}], \"heatmap\": [{\"colorbar\": {\"outlinewidth\": 0, \"ticks\": \"\"}, \"colorscale\": [[0.0, \"#0d0887\"], [0.1111111111111111, \"#46039f\"], [0.2222222222222222, \"#7201a8\"], [0.3333333333333333, \"#9c179e\"], [0.4444444444444444, \"#bd3786\"], [0.5555555555555556, \"#d8576b\"], [0.6666666666666666, \"#ed7953\"], [0.7777777777777778, \"#fb9f3a\"], [0.8888888888888888, \"#fdca26\"], [1.0, \"#f0f921\"]], \"type\": \"heatmap\"}], \"heatmapgl\": [{\"colorbar\": {\"outlinewidth\": 0, \"ticks\": \"\"}, \"colorscale\": [[0.0, \"#0d0887\"], [0.1111111111111111, \"#46039f\"], [0.2222222222222222, \"#7201a8\"], [0.3333333333333333, \"#9c179e\"], [0.4444444444444444, \"#bd3786\"], [0.5555555555555556, \"#d8576b\"], [0.6666666666666666, \"#ed7953\"], [0.7777777777777778, \"#fb9f3a\"], [0.8888888888888888, \"#fdca26\"], [1.0, \"#f0f921\"]], \"type\": \"heatmapgl\"}], \"histogram\": [{\"marker\": {\"colorbar\": {\"outlinewidth\": 0, \"ticks\": \"\"}}, \"type\": \"histogram\"}], \"histogram2d\": [{\"colorbar\": {\"outlinewidth\": 0, \"ticks\": \"\"}, \"colorscale\": [[0.0, \"#0d0887\"], [0.1111111111111111, \"#46039f\"], [0.2222222222222222, \"#7201a8\"], [0.3333333333333333, \"#9c179e\"], [0.4444444444444444, \"#bd3786\"], [0.5555555555555556, \"#d8576b\"], [0.6666666666666666, \"#ed7953\"], [0.7777777777777778, \"#fb9f3a\"], [0.8888888888888888, \"#fdca26\"], [1.0, \"#f0f921\"]], \"type\": \"histogram2d\"}], \"histogram2dcontour\": [{\"colorbar\": {\"outlinewidth\": 0, \"ticks\": \"\"}, \"colorscale\": [[0.0, \"#0d0887\"], [0.1111111111111111, \"#46039f\"], [0.2222222222222222, \"#7201a8\"], [0.3333333333333333, \"#9c179e\"], [0.4444444444444444, \"#bd3786\"], [0.5555555555555556, \"#d8576b\"], [0.6666666666666666, \"#ed7953\"], [0.7777777777777778, \"#fb9f3a\"], [0.8888888888888888, \"#fdca26\"], [1.0, \"#f0f921\"]], \"type\": \"histogram2dcontour\"}], \"mesh3d\": [{\"colorbar\": {\"outlinewidth\": 0, \"ticks\": \"\"}, \"type\": \"mesh3d\"}], \"parcoords\": [{\"line\": {\"colorbar\": {\"outlinewidth\": 0, \"ticks\": \"\"}}, \"type\": \"parcoords\"}], \"pie\": [{\"automargin\": true, \"type\": \"pie\"}], \"scatter\": [{\"marker\": {\"colorbar\": {\"outlinewidth\": 0, \"ticks\": \"\"}}, \"type\": \"scatter\"}], \"scatter3d\": [{\"line\": {\"colorbar\": {\"outlinewidth\": 0, \"ticks\": \"\"}}, \"marker\": {\"colorbar\": {\"outlinewidth\": 0, \"ticks\": \"\"}}, \"type\": \"scatter3d\"}], \"scattercarpet\": [{\"marker\": {\"colorbar\": {\"outlinewidth\": 0, \"ticks\": \"\"}}, \"type\": \"scattercarpet\"}], \"scattergeo\": [{\"marker\": {\"colorbar\": {\"outlinewidth\": 0, \"ticks\": \"\"}}, \"type\": \"scattergeo\"}], \"scattergl\": [{\"marker\": {\"colorbar\": {\"outlinewidth\": 0, \"ticks\": \"\"}}, \"type\": \"scattergl\"}], \"scattermapbox\": [{\"marker\": {\"colorbar\": {\"outlinewidth\": 0, \"ticks\": \"\"}}, \"type\": \"scattermapbox\"}], \"scatterpolar\": [{\"marker\": {\"colorbar\": {\"outlinewidth\": 0, \"ticks\": \"\"}}, \"type\": \"scatterpolar\"}], \"scatterpolargl\": [{\"marker\": {\"colorbar\": {\"outlinewidth\": 0, \"ticks\": \"\"}}, \"type\": \"scatterpolargl\"}], \"scatterternary\": [{\"marker\": {\"colorbar\": {\"outlinewidth\": 0, \"ticks\": \"\"}}, \"type\": \"scatterternary\"}], \"surface\": [{\"colorbar\": {\"outlinewidth\": 0, \"ticks\": \"\"}, \"colorscale\": [[0.0, \"#0d0887\"], [0.1111111111111111, \"#46039f\"], [0.2222222222222222, \"#7201a8\"], [0.3333333333333333, \"#9c179e\"], [0.4444444444444444, \"#bd3786\"], [0.5555555555555556, \"#d8576b\"], [0.6666666666666666, \"#ed7953\"], [0.7777777777777778, \"#fb9f3a\"], [0.8888888888888888, \"#fdca26\"], [1.0, \"#f0f921\"]], \"type\": \"surface\"}], \"table\": [{\"cells\": {\"fill\": {\"color\": \"#EBF0F8\"}, \"line\": {\"color\": \"white\"}}, \"header\": {\"fill\": {\"color\": \"#C8D4E3\"}, \"line\": {\"color\": \"white\"}}, \"type\": \"table\"}]}, \"layout\": {\"annotationdefaults\": {\"arrowcolor\": \"#2a3f5f\", \"arrowhead\": 0, \"arrowwidth\": 1}, \"autotypenumbers\": \"strict\", \"coloraxis\": {\"colorbar\": {\"outlinewidth\": 0, \"ticks\": \"\"}}, \"colorscale\": {\"diverging\": [[0, \"#8e0152\"], [0.1, \"#c51b7d\"], [0.2, \"#de77ae\"], [0.3, \"#f1b6da\"], [0.4, \"#fde0ef\"], [0.5, \"#f7f7f7\"], [0.6, \"#e6f5d0\"], [0.7, \"#b8e186\"], [0.8, \"#7fbc41\"], [0.9, \"#4d9221\"], [1, \"#276419\"]], \"sequential\": [[0.0, \"#0d0887\"], [0.1111111111111111, \"#46039f\"], [0.2222222222222222, \"#7201a8\"], [0.3333333333333333, \"#9c179e\"], [0.4444444444444444, \"#bd3786\"], [0.5555555555555556, \"#d8576b\"], [0.6666666666666666, \"#ed7953\"], [0.7777777777777778, \"#fb9f3a\"], [0.8888888888888888, \"#fdca26\"], [1.0, \"#f0f921\"]], \"sequentialminus\": [[0.0, \"#0d0887\"], [0.1111111111111111, \"#46039f\"], [0.2222222222222222, \"#7201a8\"], [0.3333333333333333, \"#9c179e\"], [0.4444444444444444, \"#bd3786\"], [0.5555555555555556, \"#d8576b\"], [0.6666666666666666, \"#ed7953\"], [0.7777777777777778, \"#fb9f3a\"], [0.8888888888888888, \"#fdca26\"], [1.0, \"#f0f921\"]]}, \"colorway\": [\"#636efa\", \"#EF553B\", \"#00cc96\", \"#ab63fa\", \"#FFA15A\", \"#19d3f3\", \"#FF6692\", \"#B6E880\", \"#FF97FF\", \"#FECB52\"], \"font\": {\"color\": \"#2a3f5f\"}, \"geo\": {\"bgcolor\": \"white\", \"lakecolor\": \"white\", \"landcolor\": \"#E5ECF6\", \"showlakes\": true, \"showland\": true, \"subunitcolor\": \"white\"}, \"hoverlabel\": {\"align\": \"left\"}, \"hovermode\": \"closest\", \"mapbox\": {\"style\": \"light\"}, \"paper_bgcolor\": \"white\", \"plot_bgcolor\": \"#E5ECF6\", \"polar\": {\"angularaxis\": {\"gridcolor\": \"white\", \"linecolor\": \"white\", \"ticks\": \"\"}, \"bgcolor\": \"#E5ECF6\", \"radialaxis\": {\"gridcolor\": \"white\", \"linecolor\": \"white\", \"ticks\": \"\"}}, \"scene\": {\"xaxis\": {\"backgroundcolor\": \"#E5ECF6\", \"gridcolor\": \"white\", \"gridwidth\": 2, \"linecolor\": \"white\", \"showbackground\": true, \"ticks\": \"\", \"zerolinecolor\": \"white\"}, \"yaxis\": {\"backgroundcolor\": \"#E5ECF6\", \"gridcolor\": \"white\", \"gridwidth\": 2, \"linecolor\": \"white\", \"showbackground\": true, \"ticks\": \"\", \"zerolinecolor\": \"white\"}, \"zaxis\": {\"backgroundcolor\": \"#E5ECF6\", \"gridcolor\": \"white\", \"gridwidth\": 2, \"linecolor\": \"white\", \"showbackground\": true, \"ticks\": \"\", \"zerolinecolor\": \"white\"}}, \"shapedefaults\": {\"line\": {\"color\": \"#2a3f5f\"}}, \"ternary\": {\"aaxis\": {\"gridcolor\": \"white\", \"linecolor\": \"white\", \"ticks\": \"\"}, \"baxis\": {\"gridcolor\": \"white\", \"linecolor\": \"white\", \"ticks\": \"\"}, \"bgcolor\": \"#E5ECF6\", \"caxis\": {\"gridcolor\": \"white\", \"linecolor\": \"white\", \"ticks\": \"\"}}, \"title\": {\"x\": 0.05}, \"xaxis\": {\"automargin\": true, \"gridcolor\": \"white\", \"linecolor\": \"white\", \"ticks\": \"\", \"title\": {\"standoff\": 15}, \"zerolinecolor\": \"white\", \"zerolinewidth\": 2}, \"yaxis\": {\"automargin\": true, \"gridcolor\": \"white\", \"linecolor\": \"white\", \"ticks\": \"\", \"title\": {\"standoff\": 15}, \"zerolinecolor\": \"white\", \"zerolinewidth\": 2}}}, \"xaxis\": {\"anchor\": \"y\", \"domain\": [0.0, 1.0], \"title\": {\"text\": \"logret_std\"}}, \"yaxis\": {\"anchor\": \"x\", \"domain\": [0.0, 1.0], \"title\": {\"text\": \"logret_mean\"}}},                        {\"responsive\": true}                    ).then(function(){\n",
       "                            \n",
       "var gd = document.getElementById('33db6242-6810-4304-905b-2028a15af5e0');\n",
       "var x = new MutationObserver(function (mutations, observer) {{\n",
       "        var display = window.getComputedStyle(gd).display;\n",
       "        if (!display || display === 'none') {{\n",
       "            console.log([gd, 'removed!']);\n",
       "            Plotly.purge(gd);\n",
       "            observer.disconnect();\n",
       "        }}\n",
       "}});\n",
       "\n",
       "// Listen for the removal of the full notebook cells\n",
       "var notebookContainer = gd.closest('#notebook-container');\n",
       "if (notebookContainer) {{\n",
       "    x.observe(notebookContainer, {childList: true});\n",
       "}}\n",
       "\n",
       "// Listen for the clearing of the current output cell\n",
       "var outputEl = gd.closest('.output');\n",
       "if (outputEl) {{\n",
       "    x.observe(outputEl, {childList: true});\n",
       "}}\n",
       "\n",
       "                        })                };                });            </script>        </div>"
      ]
     },
     "metadata": {},
     "output_type": "display_data"
    }
   ],
   "source": [
    "import plotly.graph_objects as go\n",
    "\n",
    "uniform_logret_mean = estims['logret_mean'].mean()\n",
    "uniform_logret_std = estims['logret_std'].mean()\n",
    "fig.add_scatter(x=[uniform_logret_std], y=[uniform_logret_mean], mode=\"markers\",\n",
    "                marker=dict(size=20, color=\"LightSeaGreen\"))\n",
    "\n"
   ]
  },
  {
   "cell_type": "code",
   "execution_count": null,
   "metadata": {},
   "outputs": [],
   "source": []
  }
 ],
 "metadata": {
  "kernelspec": {
   "display_name": "Python 3",
   "language": "python",
   "name": "python3"
  },
  "language_info": {
   "codemirror_mode": {
    "name": "ipython",
    "version": 3
   },
   "file_extension": ".py",
   "mimetype": "text/x-python",
   "name": "python",
   "nbconvert_exporter": "python",
   "pygments_lexer": "ipython3",
   "version": "3.8.10"
  }
 },
 "nbformat": 4,
 "nbformat_minor": 4
}
