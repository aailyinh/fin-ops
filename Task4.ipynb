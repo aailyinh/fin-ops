{
 "cells": [
  {
   "cell_type": "markdown",
   "metadata": {},
   "source": [
    "## III - Неопределенность оптимального портфеля. Оптимизация CVaR. \n",
    "\n",
    "Целью работы является оценка неопределенности оптимального портфеля для нормального многомерного распределения и двух способов вычисления оптимального портфеля (оптимизация в модели Марковица и оптимизация CVaR)"
   ]
  },
  {
   "cell_type": "markdown",
   "metadata": {},
   "source": [
    "### Подготовка модели"
   ]
  },
  {
   "cell_type": "markdown",
   "metadata": {},
   "source": [
    "#### Загружаем тикеры с фоднового рынка NASDAQ"
   ]
  },
  {
   "cell_type": "code",
   "execution_count": 109,
   "metadata": {},
   "outputs": [
    {
     "data": {
      "text/html": [
       "<div>\n",
       "<style scoped>\n",
       "    .dataframe tbody tr th:only-of-type {\n",
       "        vertical-align: middle;\n",
       "    }\n",
       "\n",
       "    .dataframe tbody tr th {\n",
       "        vertical-align: top;\n",
       "    }\n",
       "\n",
       "    .dataframe thead th {\n",
       "        text-align: right;\n",
       "    }\n",
       "</style>\n",
       "<table border=\"1\" class=\"dataframe\">\n",
       "  <thead>\n",
       "    <tr style=\"text-align: right;\">\n",
       "      <th></th>\n",
       "      <th>ticker</th>\n",
       "      <th>company</th>\n",
       "    </tr>\n",
       "  </thead>\n",
       "  <tbody>\n",
       "    <tr>\n",
       "      <th>0</th>\n",
       "      <td>AAIT</td>\n",
       "      <td>iShares MSCI All Country Asia Information Tech...</td>\n",
       "    </tr>\n",
       "    <tr>\n",
       "      <th>1</th>\n",
       "      <td>AAL</td>\n",
       "      <td>American Airlines Group, Inc.</td>\n",
       "    </tr>\n",
       "    <tr>\n",
       "      <th>2</th>\n",
       "      <td>AAME</td>\n",
       "      <td>Atlantic American Corporation</td>\n",
       "    </tr>\n",
       "    <tr>\n",
       "      <th>3</th>\n",
       "      <td>AAOI</td>\n",
       "      <td>Applied Optoelectronics, Inc.</td>\n",
       "    </tr>\n",
       "    <tr>\n",
       "      <th>4</th>\n",
       "      <td>AAON</td>\n",
       "      <td>AAON, Inc.</td>\n",
       "    </tr>\n",
       "    <tr>\n",
       "      <th>...</th>\n",
       "      <td>...</td>\n",
       "      <td>...</td>\n",
       "    </tr>\n",
       "    <tr>\n",
       "      <th>2962</th>\n",
       "      <td>ZN</td>\n",
       "      <td>Zion Oil &amp; Gas Inc</td>\n",
       "    </tr>\n",
       "    <tr>\n",
       "      <th>2963</th>\n",
       "      <td>ZNGA</td>\n",
       "      <td>Zynga Inc.</td>\n",
       "    </tr>\n",
       "    <tr>\n",
       "      <th>2964</th>\n",
       "      <td>ZSPH</td>\n",
       "      <td>ZS Pharma, Inc.</td>\n",
       "    </tr>\n",
       "    <tr>\n",
       "      <th>2965</th>\n",
       "      <td>ZU</td>\n",
       "      <td>zulily, inc.</td>\n",
       "    </tr>\n",
       "    <tr>\n",
       "      <th>2966</th>\n",
       "      <td>ZUMZ</td>\n",
       "      <td>Zumiez Inc.</td>\n",
       "    </tr>\n",
       "  </tbody>\n",
       "</table>\n",
       "<p>2967 rows × 2 columns</p>\n",
       "</div>"
      ],
      "text/plain": [
       "     ticker                                            company\n",
       "0      AAIT  iShares MSCI All Country Asia Information Tech...\n",
       "1       AAL                      American Airlines Group, Inc.\n",
       "2      AAME                      Atlantic American Corporation\n",
       "3      AAOI                      Applied Optoelectronics, Inc.\n",
       "4      AAON                                         AAON, Inc.\n",
       "...     ...                                                ...\n",
       "2962     ZN                                 Zion Oil & Gas Inc\n",
       "2963   ZNGA                                         Zynga Inc.\n",
       "2964   ZSPH                                    ZS Pharma, Inc.\n",
       "2965     ZU                                       zulily, inc.\n",
       "2966   ZUMZ                                        Zumiez Inc.\n",
       "\n",
       "[2967 rows x 2 columns]"
      ]
     },
     "execution_count": 109,
     "metadata": {},
     "output_type": "execute_result"
    }
   ],
   "source": [
    "import pandas as pd\n",
    "import numpy as np\n",
    "\n",
    "DATA_PATH    = 'Documents/GitHub/labs/fin-ops/downloader-data'\n",
    "TICKERS_PATH = 'Documents/GitHub/labs/fin-ops/tickers'\n",
    "\n",
    "def read_tickers(stock_markets) -> pd.DataFrame:\n",
    "    '''Returns pandas dataframe containing all tickers for the @stock_markets '''\n",
    "    ticker_files = [f'{TICKERS_PATH}/{sm}.csv' for sm in stock_markets]\n",
    "    tickers = pd.concat([pd.read_csv(tf) for tf in ticker_files], ignore_index=True)\n",
    "    return tickers\n",
    "\n",
    "\n",
    "stock_markets = ['NASDAQ']\n",
    "tickers = read_tickers(stock_markets)\n",
    "tickers"
   ]
  },
  {
   "cell_type": "markdown",
   "metadata": {},
   "source": [
    "#### Загружаем исторические данные за 2021 год для полученных тикеров"
   ]
  },
  {
   "cell_type": "code",
   "execution_count": 110,
   "metadata": {},
   "outputs": [],
   "source": [
    "def read_historical_data(tickers):\n",
    "    '''Returns dict {ticker : historical data for the ticker}'''\n",
    "    data_for_ticker = {}\n",
    "    for index, (ticker, name) in tickers.iterrows():\n",
    "        try:\n",
    "            data = pd.read_csv(f'{DATA_PATH}/{ticker}.csv')\n",
    "            if len(data) > 100:\n",
    "                data_for_ticker[ticker] = data\n",
    "        except:\n",
    "            pass\n",
    "    return data_for_ticker\n",
    "\n",
    "\n",
    "data_for_ticker = read_historical_data(tickers)"
   ]
  },
  {
   "cell_type": "markdown",
   "metadata": {},
   "source": [
    "#### Пример данных для AAPL:"
   ]
  },
  {
   "cell_type": "code",
   "execution_count": 111,
   "metadata": {},
   "outputs": [
    {
     "data": {
      "text/html": [
       "<div>\n",
       "<style scoped>\n",
       "    .dataframe tbody tr th:only-of-type {\n",
       "        vertical-align: middle;\n",
       "    }\n",
       "\n",
       "    .dataframe tbody tr th {\n",
       "        vertical-align: top;\n",
       "    }\n",
       "\n",
       "    .dataframe thead th {\n",
       "        text-align: right;\n",
       "    }\n",
       "</style>\n",
       "<table border=\"1\" class=\"dataframe\">\n",
       "  <thead>\n",
       "    <tr style=\"text-align: right;\">\n",
       "      <th></th>\n",
       "      <th>Date</th>\n",
       "      <th>Open</th>\n",
       "      <th>High</th>\n",
       "      <th>Low</th>\n",
       "      <th>Close</th>\n",
       "      <th>Volume</th>\n",
       "      <th>Dividends</th>\n",
       "      <th>Stock Splits</th>\n",
       "    </tr>\n",
       "  </thead>\n",
       "  <tbody>\n",
       "    <tr>\n",
       "      <th>0</th>\n",
       "      <td>2020-11-30</td>\n",
       "      <td>116.597423</td>\n",
       "      <td>120.584682</td>\n",
       "      <td>116.437929</td>\n",
       "      <td>118.670799</td>\n",
       "      <td>169410200</td>\n",
       "      <td>0.0</td>\n",
       "      <td>0</td>\n",
       "    </tr>\n",
       "    <tr>\n",
       "      <th>1</th>\n",
       "      <td>2020-12-01</td>\n",
       "      <td>120.624557</td>\n",
       "      <td>123.076720</td>\n",
       "      <td>119.627742</td>\n",
       "      <td>122.329109</td>\n",
       "      <td>127728200</td>\n",
       "      <td>0.0</td>\n",
       "      <td>0</td>\n",
       "    </tr>\n",
       "    <tr>\n",
       "      <th>2</th>\n",
       "      <td>2020-12-02</td>\n",
       "      <td>121.631329</td>\n",
       "      <td>122.977035</td>\n",
       "      <td>120.504931</td>\n",
       "      <td>122.687958</td>\n",
       "      <td>89004200</td>\n",
       "      <td>0.0</td>\n",
       "      <td>0</td>\n",
       "    </tr>\n",
       "    <tr>\n",
       "      <th>3</th>\n",
       "      <td>2020-12-03</td>\n",
       "      <td>123.126555</td>\n",
       "      <td>123.385729</td>\n",
       "      <td>121.820730</td>\n",
       "      <td>122.548409</td>\n",
       "      <td>78967600</td>\n",
       "      <td>0.0</td>\n",
       "      <td>0</td>\n",
       "    </tr>\n",
       "    <tr>\n",
       "      <th>4</th>\n",
       "      <td>2020-12-04</td>\n",
       "      <td>122.209495</td>\n",
       "      <td>122.468669</td>\n",
       "      <td>121.132933</td>\n",
       "      <td>121.860611</td>\n",
       "      <td>78260400</td>\n",
       "      <td>0.0</td>\n",
       "      <td>0</td>\n",
       "    </tr>\n",
       "    <tr>\n",
       "      <th>...</th>\n",
       "      <td>...</td>\n",
       "      <td>...</td>\n",
       "      <td>...</td>\n",
       "      <td>...</td>\n",
       "      <td>...</td>\n",
       "      <td>...</td>\n",
       "      <td>...</td>\n",
       "      <td>...</td>\n",
       "    </tr>\n",
       "    <tr>\n",
       "      <th>248</th>\n",
       "      <td>2021-11-23</td>\n",
       "      <td>161.119995</td>\n",
       "      <td>161.800003</td>\n",
       "      <td>159.059998</td>\n",
       "      <td>161.410004</td>\n",
       "      <td>96041900</td>\n",
       "      <td>0.0</td>\n",
       "      <td>0</td>\n",
       "    </tr>\n",
       "    <tr>\n",
       "      <th>249</th>\n",
       "      <td>2021-11-24</td>\n",
       "      <td>160.750000</td>\n",
       "      <td>162.139999</td>\n",
       "      <td>159.639999</td>\n",
       "      <td>161.940002</td>\n",
       "      <td>69463600</td>\n",
       "      <td>0.0</td>\n",
       "      <td>0</td>\n",
       "    </tr>\n",
       "    <tr>\n",
       "      <th>250</th>\n",
       "      <td>2021-11-26</td>\n",
       "      <td>159.570007</td>\n",
       "      <td>160.449997</td>\n",
       "      <td>156.360001</td>\n",
       "      <td>156.809998</td>\n",
       "      <td>76959800</td>\n",
       "      <td>0.0</td>\n",
       "      <td>0</td>\n",
       "    </tr>\n",
       "    <tr>\n",
       "      <th>251</th>\n",
       "      <td>2021-11-29</td>\n",
       "      <td>159.369995</td>\n",
       "      <td>161.190002</td>\n",
       "      <td>158.789993</td>\n",
       "      <td>160.240005</td>\n",
       "      <td>88748200</td>\n",
       "      <td>0.0</td>\n",
       "      <td>0</td>\n",
       "    </tr>\n",
       "    <tr>\n",
       "      <th>252</th>\n",
       "      <td>2021-11-30</td>\n",
       "      <td>159.990005</td>\n",
       "      <td>165.520004</td>\n",
       "      <td>159.919998</td>\n",
       "      <td>165.300003</td>\n",
       "      <td>174048100</td>\n",
       "      <td>0.0</td>\n",
       "      <td>0</td>\n",
       "    </tr>\n",
       "  </tbody>\n",
       "</table>\n",
       "<p>253 rows × 8 columns</p>\n",
       "</div>"
      ],
      "text/plain": [
       "           Date        Open        High         Low       Close     Volume  \\\n",
       "0    2020-11-30  116.597423  120.584682  116.437929  118.670799  169410200   \n",
       "1    2020-12-01  120.624557  123.076720  119.627742  122.329109  127728200   \n",
       "2    2020-12-02  121.631329  122.977035  120.504931  122.687958   89004200   \n",
       "3    2020-12-03  123.126555  123.385729  121.820730  122.548409   78967600   \n",
       "4    2020-12-04  122.209495  122.468669  121.132933  121.860611   78260400   \n",
       "..          ...         ...         ...         ...         ...        ...   \n",
       "248  2021-11-23  161.119995  161.800003  159.059998  161.410004   96041900   \n",
       "249  2021-11-24  160.750000  162.139999  159.639999  161.940002   69463600   \n",
       "250  2021-11-26  159.570007  160.449997  156.360001  156.809998   76959800   \n",
       "251  2021-11-29  159.369995  161.190002  158.789993  160.240005   88748200   \n",
       "252  2021-11-30  159.990005  165.520004  159.919998  165.300003  174048100   \n",
       "\n",
       "     Dividends  Stock Splits  \n",
       "0          0.0             0  \n",
       "1          0.0             0  \n",
       "2          0.0             0  \n",
       "3          0.0             0  \n",
       "4          0.0             0  \n",
       "..         ...           ...  \n",
       "248        0.0             0  \n",
       "249        0.0             0  \n",
       "250        0.0             0  \n",
       "251        0.0             0  \n",
       "252        0.0             0  \n",
       "\n",
       "[253 rows x 8 columns]"
      ]
     },
     "execution_count": 111,
     "metadata": {},
     "output_type": "execute_result"
    }
   ],
   "source": [
    "data_for_ticker['AAPL']"
   ]
  },
  {
   "cell_type": "markdown",
   "metadata": {},
   "source": [
    "#### Выбираем 20 активов"
   ]
  },
  {
   "cell_type": "code",
   "execution_count": 112,
   "metadata": {},
   "outputs": [],
   "source": [
    "assets = ['MDLZ', 'MSFT', 'NXPI', 'PCAR', 'INTC',\n",
    "          'NVDA', 'ILMN', 'DXCM', 'ROST', 'LULU',\n",
    "          'PRFT', 'FTNT', 'WIRE', 'NFLX', 'GAIN',\n",
    "          'SYNA', 'NYMTP', 'ANAT', 'TRNS', 'SFBS']\n",
    "\n",
    "assets_data = {}\n",
    "for asset in assets:\n",
    "    assets_data[asset] = data_for_ticker[asset]"
   ]
  },
  {
   "cell_type": "markdown",
   "metadata": {},
   "source": [
    "#### Оцениваем математические ожидания доходностей"
   ]
  },
  {
   "cell_type": "code",
   "execution_count": 113,
   "metadata": {},
   "outputs": [
    {
     "data": {
      "text/html": [
       "<div>\n",
       "<style scoped>\n",
       "    .dataframe tbody tr th:only-of-type {\n",
       "        vertical-align: middle;\n",
       "    }\n",
       "\n",
       "    .dataframe tbody tr th {\n",
       "        vertical-align: top;\n",
       "    }\n",
       "\n",
       "    .dataframe thead th {\n",
       "        text-align: right;\n",
       "    }\n",
       "</style>\n",
       "<table border=\"1\" class=\"dataframe\">\n",
       "  <thead>\n",
       "    <tr style=\"text-align: right;\">\n",
       "      <th></th>\n",
       "      <th>logret_mean</th>\n",
       "      <th>logret_std</th>\n",
       "    </tr>\n",
       "    <tr>\n",
       "      <th>ticker</th>\n",
       "      <th></th>\n",
       "      <th></th>\n",
       "    </tr>\n",
       "  </thead>\n",
       "  <tbody>\n",
       "    <tr>\n",
       "      <th>MDLZ</th>\n",
       "      <td>0.000164</td>\n",
       "      <td>0.009635</td>\n",
       "    </tr>\n",
       "    <tr>\n",
       "      <th>MSFT</th>\n",
       "      <td>0.001743</td>\n",
       "      <td>0.012638</td>\n",
       "    </tr>\n",
       "    <tr>\n",
       "      <th>NXPI</th>\n",
       "      <td>0.001406</td>\n",
       "      <td>0.023336</td>\n",
       "    </tr>\n",
       "    <tr>\n",
       "      <th>PCAR</th>\n",
       "      <td>-0.000078</td>\n",
       "      <td>0.015266</td>\n",
       "    </tr>\n",
       "    <tr>\n",
       "      <th>INTC</th>\n",
       "      <td>0.000118</td>\n",
       "      <td>0.020613</td>\n",
       "    </tr>\n",
       "    <tr>\n",
       "      <th>NVDA</th>\n",
       "      <td>0.003541</td>\n",
       "      <td>0.025897</td>\n",
       "    </tr>\n",
       "    <tr>\n",
       "      <th>ILMN</th>\n",
       "      <td>0.000500</td>\n",
       "      <td>0.020907</td>\n",
       "    </tr>\n",
       "    <tr>\n",
       "      <th>DXCM</th>\n",
       "      <td>0.002243</td>\n",
       "      <td>0.022329</td>\n",
       "    </tr>\n",
       "    <tr>\n",
       "      <th>ROST</th>\n",
       "      <td>0.000076</td>\n",
       "      <td>0.018766</td>\n",
       "    </tr>\n",
       "    <tr>\n",
       "      <th>LULU</th>\n",
       "      <td>0.000813</td>\n",
       "      <td>0.019451</td>\n",
       "    </tr>\n",
       "    <tr>\n",
       "      <th>PRFT</th>\n",
       "      <td>0.004372</td>\n",
       "      <td>0.019522</td>\n",
       "    </tr>\n",
       "    <tr>\n",
       "      <th>FTNT</th>\n",
       "      <td>0.003934</td>\n",
       "      <td>0.020082</td>\n",
       "    </tr>\n",
       "    <tr>\n",
       "      <th>WIRE</th>\n",
       "      <td>0.003972</td>\n",
       "      <td>0.020636</td>\n",
       "    </tr>\n",
       "    <tr>\n",
       "      <th>NFLX</th>\n",
       "      <td>0.001066</td>\n",
       "      <td>0.020079</td>\n",
       "    </tr>\n",
       "    <tr>\n",
       "      <th>GAIN</th>\n",
       "      <td>0.002227</td>\n",
       "      <td>0.011634</td>\n",
       "    </tr>\n",
       "    <tr>\n",
       "      <th>SYNA</th>\n",
       "      <td>0.005115</td>\n",
       "      <td>0.026729</td>\n",
       "    </tr>\n",
       "    <tr>\n",
       "      <th>NYMTP</th>\n",
       "      <td>0.000888</td>\n",
       "      <td>0.004644</td>\n",
       "    </tr>\n",
       "    <tr>\n",
       "      <th>ANAT</th>\n",
       "      <td>0.003281</td>\n",
       "      <td>0.017516</td>\n",
       "    </tr>\n",
       "    <tr>\n",
       "      <th>TRNS</th>\n",
       "      <td>0.004095</td>\n",
       "      <td>0.023198</td>\n",
       "    </tr>\n",
       "    <tr>\n",
       "      <th>SFBS</th>\n",
       "      <td>0.003041</td>\n",
       "      <td>0.017834</td>\n",
       "    </tr>\n",
       "  </tbody>\n",
       "</table>\n",
       "</div>"
      ],
      "text/plain": [
       "        logret_mean  logret_std\n",
       "ticker                         \n",
       "MDLZ       0.000164    0.009635\n",
       "MSFT       0.001743    0.012638\n",
       "NXPI       0.001406    0.023336\n",
       "PCAR      -0.000078    0.015266\n",
       "INTC       0.000118    0.020613\n",
       "NVDA       0.003541    0.025897\n",
       "ILMN       0.000500    0.020907\n",
       "DXCM       0.002243    0.022329\n",
       "ROST       0.000076    0.018766\n",
       "LULU       0.000813    0.019451\n",
       "PRFT       0.004372    0.019522\n",
       "FTNT       0.003934    0.020082\n",
       "WIRE       0.003972    0.020636\n",
       "NFLX       0.001066    0.020079\n",
       "GAIN       0.002227    0.011634\n",
       "SYNA       0.005115    0.026729\n",
       "NYMTP      0.000888    0.004644\n",
       "ANAT       0.003281    0.017516\n",
       "TRNS       0.004095    0.023198\n",
       "SFBS       0.003041    0.017834"
      ]
     },
     "execution_count": 113,
     "metadata": {},
     "output_type": "execute_result"
    }
   ],
   "source": [
    "import pandas as pd\n",
    "import numpy as np\n",
    "\n",
    "def add_logret(ticker_data: pd.DataFrame, by_column='Close') -> pd.DataFrame:\n",
    "    '''Returns @ticker_data with calculated \"logret\" and \"-logret\" columns'''\n",
    "    ticker_data = ticker_data.assign(logret=np.log(ticker_data[by_column]).diff())\n",
    "    ticker_data['-logret'] = ticker_data['logret'].mul(-1)\n",
    "    return ticker_data\n",
    "\n",
    "\n",
    "def get_logret_mean_std(tickers, data_map, by_column='Close') -> pd.DataFrame:\n",
    "    '''Returns @result pd.DataFrame such that @result.loc[ticker] == [logret_mean, logret_std]'''\n",
    "    result = pd.DataFrame(data=[], columns=['ticker', 'logret_mean', 'logret_std'])\n",
    "    result.set_index('ticker', inplace=True)\n",
    "\n",
    "    for ticker in tickers:\n",
    "        ticker_data = data_map[ticker]\n",
    "        ticker_logret = np.log(ticker_data[by_column]).diff()\n",
    "        result.loc[ticker] = [ticker_logret.mean(), ticker_logret.std()]\n",
    "    \n",
    "    return result\n",
    "  \n",
    "\n",
    "for ticker in assets_data.keys():\n",
    "    assets_data[ticker] = add_logret(assets_data[ticker])\n",
    "\n",
    "estims = get_logret_mean_std(assets, assets_data)\n",
    "estims"
   ]
  },
  {
   "cell_type": "markdown",
   "metadata": {},
   "source": [
    "#### Находим матрицу выборочных ковариаций доходностей "
   ]
  },
  {
   "cell_type": "code",
   "execution_count": 114,
   "metadata": {},
   "outputs": [
    {
     "data": {
      "text/html": [
       "<div>\n",
       "<style scoped>\n",
       "    .dataframe tbody tr th:only-of-type {\n",
       "        vertical-align: middle;\n",
       "    }\n",
       "\n",
       "    .dataframe tbody tr th {\n",
       "        vertical-align: top;\n",
       "    }\n",
       "\n",
       "    .dataframe thead th {\n",
       "        text-align: right;\n",
       "    }\n",
       "</style>\n",
       "<table border=\"1\" class=\"dataframe\">\n",
       "  <thead>\n",
       "    <tr style=\"text-align: right;\">\n",
       "      <th></th>\n",
       "      <th>MDLZ</th>\n",
       "      <th>MSFT</th>\n",
       "      <th>NXPI</th>\n",
       "      <th>PCAR</th>\n",
       "      <th>INTC</th>\n",
       "      <th>NVDA</th>\n",
       "      <th>ILMN</th>\n",
       "      <th>DXCM</th>\n",
       "      <th>ROST</th>\n",
       "      <th>LULU</th>\n",
       "      <th>PRFT</th>\n",
       "      <th>FTNT</th>\n",
       "      <th>WIRE</th>\n",
       "      <th>NFLX</th>\n",
       "      <th>GAIN</th>\n",
       "      <th>SYNA</th>\n",
       "      <th>NYMTP</th>\n",
       "      <th>ANAT</th>\n",
       "      <th>TRNS</th>\n",
       "      <th>SFBS</th>\n",
       "    </tr>\n",
       "  </thead>\n",
       "  <tbody>\n",
       "    <tr>\n",
       "      <th>MDLZ</th>\n",
       "      <td>1.000000</td>\n",
       "      <td>0.260625</td>\n",
       "      <td>0.136202</td>\n",
       "      <td>0.166086</td>\n",
       "      <td>0.128461</td>\n",
       "      <td>0.071711</td>\n",
       "      <td>0.106817</td>\n",
       "      <td>0.121394</td>\n",
       "      <td>0.320069</td>\n",
       "      <td>0.200534</td>\n",
       "      <td>0.142022</td>\n",
       "      <td>0.184870</td>\n",
       "      <td>0.108808</td>\n",
       "      <td>0.183858</td>\n",
       "      <td>0.145688</td>\n",
       "      <td>0.074572</td>\n",
       "      <td>-0.016072</td>\n",
       "      <td>0.090393</td>\n",
       "      <td>0.076097</td>\n",
       "      <td>0.188254</td>\n",
       "    </tr>\n",
       "    <tr>\n",
       "      <th>MSFT</th>\n",
       "      <td>0.260625</td>\n",
       "      <td>1.000000</td>\n",
       "      <td>0.435936</td>\n",
       "      <td>0.129668</td>\n",
       "      <td>0.343282</td>\n",
       "      <td>0.563342</td>\n",
       "      <td>0.365982</td>\n",
       "      <td>0.396934</td>\n",
       "      <td>0.237147</td>\n",
       "      <td>0.369962</td>\n",
       "      <td>0.340569</td>\n",
       "      <td>0.520006</td>\n",
       "      <td>0.156858</td>\n",
       "      <td>0.460941</td>\n",
       "      <td>0.266493</td>\n",
       "      <td>0.374816</td>\n",
       "      <td>0.088876</td>\n",
       "      <td>-0.054785</td>\n",
       "      <td>0.171884</td>\n",
       "      <td>0.002140</td>\n",
       "    </tr>\n",
       "    <tr>\n",
       "      <th>NXPI</th>\n",
       "      <td>0.136202</td>\n",
       "      <td>0.435936</td>\n",
       "      <td>1.000000</td>\n",
       "      <td>0.314621</td>\n",
       "      <td>0.518692</td>\n",
       "      <td>0.567564</td>\n",
       "      <td>0.348801</td>\n",
       "      <td>0.352195</td>\n",
       "      <td>0.347588</td>\n",
       "      <td>0.422580</td>\n",
       "      <td>0.419310</td>\n",
       "      <td>0.465200</td>\n",
       "      <td>0.366023</td>\n",
       "      <td>0.232486</td>\n",
       "      <td>0.300793</td>\n",
       "      <td>0.576943</td>\n",
       "      <td>0.114702</td>\n",
       "      <td>0.194865</td>\n",
       "      <td>0.201715</td>\n",
       "      <td>0.371353</td>\n",
       "    </tr>\n",
       "    <tr>\n",
       "      <th>PCAR</th>\n",
       "      <td>0.166086</td>\n",
       "      <td>0.129668</td>\n",
       "      <td>0.314621</td>\n",
       "      <td>1.000000</td>\n",
       "      <td>0.285791</td>\n",
       "      <td>0.146135</td>\n",
       "      <td>0.077887</td>\n",
       "      <td>0.024713</td>\n",
       "      <td>0.310914</td>\n",
       "      <td>0.112148</td>\n",
       "      <td>0.185204</td>\n",
       "      <td>0.087999</td>\n",
       "      <td>0.327231</td>\n",
       "      <td>-0.011242</td>\n",
       "      <td>0.357433</td>\n",
       "      <td>0.209517</td>\n",
       "      <td>0.091692</td>\n",
       "      <td>0.189116</td>\n",
       "      <td>0.160347</td>\n",
       "      <td>0.414896</td>\n",
       "    </tr>\n",
       "    <tr>\n",
       "      <th>INTC</th>\n",
       "      <td>0.128461</td>\n",
       "      <td>0.343282</td>\n",
       "      <td>0.518692</td>\n",
       "      <td>0.285791</td>\n",
       "      <td>1.000000</td>\n",
       "      <td>0.352533</td>\n",
       "      <td>0.238309</td>\n",
       "      <td>0.220853</td>\n",
       "      <td>0.287966</td>\n",
       "      <td>0.255882</td>\n",
       "      <td>0.231893</td>\n",
       "      <td>0.245138</td>\n",
       "      <td>0.141588</td>\n",
       "      <td>0.236885</td>\n",
       "      <td>0.280478</td>\n",
       "      <td>0.366278</td>\n",
       "      <td>0.132862</td>\n",
       "      <td>0.064409</td>\n",
       "      <td>0.115456</td>\n",
       "      <td>0.216980</td>\n",
       "    </tr>\n",
       "    <tr>\n",
       "      <th>NVDA</th>\n",
       "      <td>0.071711</td>\n",
       "      <td>0.563342</td>\n",
       "      <td>0.567564</td>\n",
       "      <td>0.146135</td>\n",
       "      <td>0.352533</td>\n",
       "      <td>1.000000</td>\n",
       "      <td>0.296262</td>\n",
       "      <td>0.351007</td>\n",
       "      <td>0.154648</td>\n",
       "      <td>0.415916</td>\n",
       "      <td>0.425477</td>\n",
       "      <td>0.490961</td>\n",
       "      <td>0.093375</td>\n",
       "      <td>0.356414</td>\n",
       "      <td>0.243640</td>\n",
       "      <td>0.441977</td>\n",
       "      <td>0.087635</td>\n",
       "      <td>-0.070881</td>\n",
       "      <td>0.113711</td>\n",
       "      <td>-0.013629</td>\n",
       "    </tr>\n",
       "    <tr>\n",
       "      <th>ILMN</th>\n",
       "      <td>0.106817</td>\n",
       "      <td>0.365982</td>\n",
       "      <td>0.348801</td>\n",
       "      <td>0.077887</td>\n",
       "      <td>0.238309</td>\n",
       "      <td>0.296262</td>\n",
       "      <td>1.000000</td>\n",
       "      <td>0.433226</td>\n",
       "      <td>0.030674</td>\n",
       "      <td>0.326248</td>\n",
       "      <td>0.271251</td>\n",
       "      <td>0.369235</td>\n",
       "      <td>0.078505</td>\n",
       "      <td>0.249747</td>\n",
       "      <td>0.162399</td>\n",
       "      <td>0.236065</td>\n",
       "      <td>0.031524</td>\n",
       "      <td>0.025273</td>\n",
       "      <td>0.094362</td>\n",
       "      <td>0.011555</td>\n",
       "    </tr>\n",
       "    <tr>\n",
       "      <th>DXCM</th>\n",
       "      <td>0.121394</td>\n",
       "      <td>0.396934</td>\n",
       "      <td>0.352195</td>\n",
       "      <td>0.024713</td>\n",
       "      <td>0.220853</td>\n",
       "      <td>0.351007</td>\n",
       "      <td>0.433226</td>\n",
       "      <td>1.000000</td>\n",
       "      <td>0.161316</td>\n",
       "      <td>0.370966</td>\n",
       "      <td>0.193181</td>\n",
       "      <td>0.345706</td>\n",
       "      <td>0.067249</td>\n",
       "      <td>0.343953</td>\n",
       "      <td>0.184725</td>\n",
       "      <td>0.343466</td>\n",
       "      <td>-0.024543</td>\n",
       "      <td>0.041092</td>\n",
       "      <td>0.198570</td>\n",
       "      <td>0.015732</td>\n",
       "    </tr>\n",
       "    <tr>\n",
       "      <th>ROST</th>\n",
       "      <td>0.320069</td>\n",
       "      <td>0.237147</td>\n",
       "      <td>0.347588</td>\n",
       "      <td>0.310914</td>\n",
       "      <td>0.287966</td>\n",
       "      <td>0.154648</td>\n",
       "      <td>0.030674</td>\n",
       "      <td>0.161316</td>\n",
       "      <td>1.000000</td>\n",
       "      <td>0.287834</td>\n",
       "      <td>0.314949</td>\n",
       "      <td>0.218192</td>\n",
       "      <td>0.409139</td>\n",
       "      <td>0.082407</td>\n",
       "      <td>0.331344</td>\n",
       "      <td>0.318590</td>\n",
       "      <td>-0.018868</td>\n",
       "      <td>0.234797</td>\n",
       "      <td>0.131619</td>\n",
       "      <td>0.430977</td>\n",
       "    </tr>\n",
       "    <tr>\n",
       "      <th>LULU</th>\n",
       "      <td>0.200534</td>\n",
       "      <td>0.369962</td>\n",
       "      <td>0.422580</td>\n",
       "      <td>0.112148</td>\n",
       "      <td>0.255882</td>\n",
       "      <td>0.415916</td>\n",
       "      <td>0.326248</td>\n",
       "      <td>0.370966</td>\n",
       "      <td>0.287834</td>\n",
       "      <td>1.000000</td>\n",
       "      <td>0.315082</td>\n",
       "      <td>0.393846</td>\n",
       "      <td>0.156097</td>\n",
       "      <td>0.306344</td>\n",
       "      <td>0.189652</td>\n",
       "      <td>0.252620</td>\n",
       "      <td>-0.010867</td>\n",
       "      <td>0.026117</td>\n",
       "      <td>0.062358</td>\n",
       "      <td>0.081343</td>\n",
       "    </tr>\n",
       "    <tr>\n",
       "      <th>PRFT</th>\n",
       "      <td>0.142022</td>\n",
       "      <td>0.340569</td>\n",
       "      <td>0.419310</td>\n",
       "      <td>0.185204</td>\n",
       "      <td>0.231893</td>\n",
       "      <td>0.425477</td>\n",
       "      <td>0.271251</td>\n",
       "      <td>0.193181</td>\n",
       "      <td>0.314949</td>\n",
       "      <td>0.315082</td>\n",
       "      <td>1.000000</td>\n",
       "      <td>0.404102</td>\n",
       "      <td>0.311983</td>\n",
       "      <td>0.146573</td>\n",
       "      <td>0.282474</td>\n",
       "      <td>0.281067</td>\n",
       "      <td>0.013072</td>\n",
       "      <td>0.180417</td>\n",
       "      <td>0.165694</td>\n",
       "      <td>0.263090</td>\n",
       "    </tr>\n",
       "    <tr>\n",
       "      <th>FTNT</th>\n",
       "      <td>0.184870</td>\n",
       "      <td>0.520006</td>\n",
       "      <td>0.465200</td>\n",
       "      <td>0.087999</td>\n",
       "      <td>0.245138</td>\n",
       "      <td>0.490961</td>\n",
       "      <td>0.369235</td>\n",
       "      <td>0.345706</td>\n",
       "      <td>0.218192</td>\n",
       "      <td>0.393846</td>\n",
       "      <td>0.404102</td>\n",
       "      <td>1.000000</td>\n",
       "      <td>0.131050</td>\n",
       "      <td>0.349456</td>\n",
       "      <td>0.223279</td>\n",
       "      <td>0.355171</td>\n",
       "      <td>0.085483</td>\n",
       "      <td>-0.031051</td>\n",
       "      <td>0.146425</td>\n",
       "      <td>0.046685</td>\n",
       "    </tr>\n",
       "    <tr>\n",
       "      <th>WIRE</th>\n",
       "      <td>0.108808</td>\n",
       "      <td>0.156858</td>\n",
       "      <td>0.366023</td>\n",
       "      <td>0.327231</td>\n",
       "      <td>0.141588</td>\n",
       "      <td>0.093375</td>\n",
       "      <td>0.078505</td>\n",
       "      <td>0.067249</td>\n",
       "      <td>0.409139</td>\n",
       "      <td>0.156097</td>\n",
       "      <td>0.311983</td>\n",
       "      <td>0.131050</td>\n",
       "      <td>1.000000</td>\n",
       "      <td>-0.034738</td>\n",
       "      <td>0.236880</td>\n",
       "      <td>0.328816</td>\n",
       "      <td>-0.028350</td>\n",
       "      <td>0.253435</td>\n",
       "      <td>0.254466</td>\n",
       "      <td>0.521444</td>\n",
       "    </tr>\n",
       "    <tr>\n",
       "      <th>NFLX</th>\n",
       "      <td>0.183858</td>\n",
       "      <td>0.460941</td>\n",
       "      <td>0.232486</td>\n",
       "      <td>-0.011242</td>\n",
       "      <td>0.236885</td>\n",
       "      <td>0.356414</td>\n",
       "      <td>0.249747</td>\n",
       "      <td>0.343953</td>\n",
       "      <td>0.082407</td>\n",
       "      <td>0.306344</td>\n",
       "      <td>0.146573</td>\n",
       "      <td>0.349456</td>\n",
       "      <td>-0.034738</td>\n",
       "      <td>1.000000</td>\n",
       "      <td>0.094362</td>\n",
       "      <td>0.129942</td>\n",
       "      <td>0.036310</td>\n",
       "      <td>-0.003483</td>\n",
       "      <td>0.066057</td>\n",
       "      <td>-0.050857</td>\n",
       "    </tr>\n",
       "    <tr>\n",
       "      <th>GAIN</th>\n",
       "      <td>0.145688</td>\n",
       "      <td>0.266493</td>\n",
       "      <td>0.300793</td>\n",
       "      <td>0.357433</td>\n",
       "      <td>0.280478</td>\n",
       "      <td>0.243640</td>\n",
       "      <td>0.162399</td>\n",
       "      <td>0.184725</td>\n",
       "      <td>0.331344</td>\n",
       "      <td>0.189652</td>\n",
       "      <td>0.282474</td>\n",
       "      <td>0.223279</td>\n",
       "      <td>0.236880</td>\n",
       "      <td>0.094362</td>\n",
       "      <td>1.000000</td>\n",
       "      <td>0.301414</td>\n",
       "      <td>0.193952</td>\n",
       "      <td>0.061648</td>\n",
       "      <td>0.214583</td>\n",
       "      <td>0.320609</td>\n",
       "    </tr>\n",
       "    <tr>\n",
       "      <th>SYNA</th>\n",
       "      <td>0.074572</td>\n",
       "      <td>0.374816</td>\n",
       "      <td>0.576943</td>\n",
       "      <td>0.209517</td>\n",
       "      <td>0.366278</td>\n",
       "      <td>0.441977</td>\n",
       "      <td>0.236065</td>\n",
       "      <td>0.343466</td>\n",
       "      <td>0.318590</td>\n",
       "      <td>0.252620</td>\n",
       "      <td>0.281067</td>\n",
       "      <td>0.355171</td>\n",
       "      <td>0.328816</td>\n",
       "      <td>0.129942</td>\n",
       "      <td>0.301414</td>\n",
       "      <td>1.000000</td>\n",
       "      <td>0.150285</td>\n",
       "      <td>0.092474</td>\n",
       "      <td>0.215121</td>\n",
       "      <td>0.289147</td>\n",
       "    </tr>\n",
       "    <tr>\n",
       "      <th>NYMTP</th>\n",
       "      <td>-0.016072</td>\n",
       "      <td>0.088876</td>\n",
       "      <td>0.114702</td>\n",
       "      <td>0.091692</td>\n",
       "      <td>0.132862</td>\n",
       "      <td>0.087635</td>\n",
       "      <td>0.031524</td>\n",
       "      <td>-0.024543</td>\n",
       "      <td>-0.018868</td>\n",
       "      <td>-0.010867</td>\n",
       "      <td>0.013072</td>\n",
       "      <td>0.085483</td>\n",
       "      <td>-0.028350</td>\n",
       "      <td>0.036310</td>\n",
       "      <td>0.193952</td>\n",
       "      <td>0.150285</td>\n",
       "      <td>1.000000</td>\n",
       "      <td>-0.072340</td>\n",
       "      <td>0.087692</td>\n",
       "      <td>-0.000329</td>\n",
       "    </tr>\n",
       "    <tr>\n",
       "      <th>ANAT</th>\n",
       "      <td>0.090393</td>\n",
       "      <td>-0.054785</td>\n",
       "      <td>0.194865</td>\n",
       "      <td>0.189116</td>\n",
       "      <td>0.064409</td>\n",
       "      <td>-0.070881</td>\n",
       "      <td>0.025273</td>\n",
       "      <td>0.041092</td>\n",
       "      <td>0.234797</td>\n",
       "      <td>0.026117</td>\n",
       "      <td>0.180417</td>\n",
       "      <td>-0.031051</td>\n",
       "      <td>0.253435</td>\n",
       "      <td>-0.003483</td>\n",
       "      <td>0.061648</td>\n",
       "      <td>0.092474</td>\n",
       "      <td>-0.072340</td>\n",
       "      <td>1.000000</td>\n",
       "      <td>0.110685</td>\n",
       "      <td>0.345265</td>\n",
       "    </tr>\n",
       "    <tr>\n",
       "      <th>TRNS</th>\n",
       "      <td>0.076097</td>\n",
       "      <td>0.171884</td>\n",
       "      <td>0.201715</td>\n",
       "      <td>0.160347</td>\n",
       "      <td>0.115456</td>\n",
       "      <td>0.113711</td>\n",
       "      <td>0.094362</td>\n",
       "      <td>0.198570</td>\n",
       "      <td>0.131619</td>\n",
       "      <td>0.062358</td>\n",
       "      <td>0.165694</td>\n",
       "      <td>0.146425</td>\n",
       "      <td>0.254466</td>\n",
       "      <td>0.066057</td>\n",
       "      <td>0.214583</td>\n",
       "      <td>0.215121</td>\n",
       "      <td>0.087692</td>\n",
       "      <td>0.110685</td>\n",
       "      <td>1.000000</td>\n",
       "      <td>0.183860</td>\n",
       "    </tr>\n",
       "    <tr>\n",
       "      <th>SFBS</th>\n",
       "      <td>0.188254</td>\n",
       "      <td>0.002140</td>\n",
       "      <td>0.371353</td>\n",
       "      <td>0.414896</td>\n",
       "      <td>0.216980</td>\n",
       "      <td>-0.013629</td>\n",
       "      <td>0.011555</td>\n",
       "      <td>0.015732</td>\n",
       "      <td>0.430977</td>\n",
       "      <td>0.081343</td>\n",
       "      <td>0.263090</td>\n",
       "      <td>0.046685</td>\n",
       "      <td>0.521444</td>\n",
       "      <td>-0.050857</td>\n",
       "      <td>0.320609</td>\n",
       "      <td>0.289147</td>\n",
       "      <td>-0.000329</td>\n",
       "      <td>0.345265</td>\n",
       "      <td>0.183860</td>\n",
       "      <td>1.000000</td>\n",
       "    </tr>\n",
       "  </tbody>\n",
       "</table>\n",
       "</div>"
      ],
      "text/plain": [
       "           MDLZ      MSFT      NXPI      PCAR      INTC      NVDA      ILMN  \\\n",
       "MDLZ   1.000000  0.260625  0.136202  0.166086  0.128461  0.071711  0.106817   \n",
       "MSFT   0.260625  1.000000  0.435936  0.129668  0.343282  0.563342  0.365982   \n",
       "NXPI   0.136202  0.435936  1.000000  0.314621  0.518692  0.567564  0.348801   \n",
       "PCAR   0.166086  0.129668  0.314621  1.000000  0.285791  0.146135  0.077887   \n",
       "INTC   0.128461  0.343282  0.518692  0.285791  1.000000  0.352533  0.238309   \n",
       "NVDA   0.071711  0.563342  0.567564  0.146135  0.352533  1.000000  0.296262   \n",
       "ILMN   0.106817  0.365982  0.348801  0.077887  0.238309  0.296262  1.000000   \n",
       "DXCM   0.121394  0.396934  0.352195  0.024713  0.220853  0.351007  0.433226   \n",
       "ROST   0.320069  0.237147  0.347588  0.310914  0.287966  0.154648  0.030674   \n",
       "LULU   0.200534  0.369962  0.422580  0.112148  0.255882  0.415916  0.326248   \n",
       "PRFT   0.142022  0.340569  0.419310  0.185204  0.231893  0.425477  0.271251   \n",
       "FTNT   0.184870  0.520006  0.465200  0.087999  0.245138  0.490961  0.369235   \n",
       "WIRE   0.108808  0.156858  0.366023  0.327231  0.141588  0.093375  0.078505   \n",
       "NFLX   0.183858  0.460941  0.232486 -0.011242  0.236885  0.356414  0.249747   \n",
       "GAIN   0.145688  0.266493  0.300793  0.357433  0.280478  0.243640  0.162399   \n",
       "SYNA   0.074572  0.374816  0.576943  0.209517  0.366278  0.441977  0.236065   \n",
       "NYMTP -0.016072  0.088876  0.114702  0.091692  0.132862  0.087635  0.031524   \n",
       "ANAT   0.090393 -0.054785  0.194865  0.189116  0.064409 -0.070881  0.025273   \n",
       "TRNS   0.076097  0.171884  0.201715  0.160347  0.115456  0.113711  0.094362   \n",
       "SFBS   0.188254  0.002140  0.371353  0.414896  0.216980 -0.013629  0.011555   \n",
       "\n",
       "           DXCM      ROST      LULU      PRFT      FTNT      WIRE      NFLX  \\\n",
       "MDLZ   0.121394  0.320069  0.200534  0.142022  0.184870  0.108808  0.183858   \n",
       "MSFT   0.396934  0.237147  0.369962  0.340569  0.520006  0.156858  0.460941   \n",
       "NXPI   0.352195  0.347588  0.422580  0.419310  0.465200  0.366023  0.232486   \n",
       "PCAR   0.024713  0.310914  0.112148  0.185204  0.087999  0.327231 -0.011242   \n",
       "INTC   0.220853  0.287966  0.255882  0.231893  0.245138  0.141588  0.236885   \n",
       "NVDA   0.351007  0.154648  0.415916  0.425477  0.490961  0.093375  0.356414   \n",
       "ILMN   0.433226  0.030674  0.326248  0.271251  0.369235  0.078505  0.249747   \n",
       "DXCM   1.000000  0.161316  0.370966  0.193181  0.345706  0.067249  0.343953   \n",
       "ROST   0.161316  1.000000  0.287834  0.314949  0.218192  0.409139  0.082407   \n",
       "LULU   0.370966  0.287834  1.000000  0.315082  0.393846  0.156097  0.306344   \n",
       "PRFT   0.193181  0.314949  0.315082  1.000000  0.404102  0.311983  0.146573   \n",
       "FTNT   0.345706  0.218192  0.393846  0.404102  1.000000  0.131050  0.349456   \n",
       "WIRE   0.067249  0.409139  0.156097  0.311983  0.131050  1.000000 -0.034738   \n",
       "NFLX   0.343953  0.082407  0.306344  0.146573  0.349456 -0.034738  1.000000   \n",
       "GAIN   0.184725  0.331344  0.189652  0.282474  0.223279  0.236880  0.094362   \n",
       "SYNA   0.343466  0.318590  0.252620  0.281067  0.355171  0.328816  0.129942   \n",
       "NYMTP -0.024543 -0.018868 -0.010867  0.013072  0.085483 -0.028350  0.036310   \n",
       "ANAT   0.041092  0.234797  0.026117  0.180417 -0.031051  0.253435 -0.003483   \n",
       "TRNS   0.198570  0.131619  0.062358  0.165694  0.146425  0.254466  0.066057   \n",
       "SFBS   0.015732  0.430977  0.081343  0.263090  0.046685  0.521444 -0.050857   \n",
       "\n",
       "           GAIN      SYNA     NYMTP      ANAT      TRNS      SFBS  \n",
       "MDLZ   0.145688  0.074572 -0.016072  0.090393  0.076097  0.188254  \n",
       "MSFT   0.266493  0.374816  0.088876 -0.054785  0.171884  0.002140  \n",
       "NXPI   0.300793  0.576943  0.114702  0.194865  0.201715  0.371353  \n",
       "PCAR   0.357433  0.209517  0.091692  0.189116  0.160347  0.414896  \n",
       "INTC   0.280478  0.366278  0.132862  0.064409  0.115456  0.216980  \n",
       "NVDA   0.243640  0.441977  0.087635 -0.070881  0.113711 -0.013629  \n",
       "ILMN   0.162399  0.236065  0.031524  0.025273  0.094362  0.011555  \n",
       "DXCM   0.184725  0.343466 -0.024543  0.041092  0.198570  0.015732  \n",
       "ROST   0.331344  0.318590 -0.018868  0.234797  0.131619  0.430977  \n",
       "LULU   0.189652  0.252620 -0.010867  0.026117  0.062358  0.081343  \n",
       "PRFT   0.282474  0.281067  0.013072  0.180417  0.165694  0.263090  \n",
       "FTNT   0.223279  0.355171  0.085483 -0.031051  0.146425  0.046685  \n",
       "WIRE   0.236880  0.328816 -0.028350  0.253435  0.254466  0.521444  \n",
       "NFLX   0.094362  0.129942  0.036310 -0.003483  0.066057 -0.050857  \n",
       "GAIN   1.000000  0.301414  0.193952  0.061648  0.214583  0.320609  \n",
       "SYNA   0.301414  1.000000  0.150285  0.092474  0.215121  0.289147  \n",
       "NYMTP  0.193952  0.150285  1.000000 -0.072340  0.087692 -0.000329  \n",
       "ANAT   0.061648  0.092474 -0.072340  1.000000  0.110685  0.345265  \n",
       "TRNS   0.214583  0.215121  0.087692  0.110685  1.000000  0.183860  \n",
       "SFBS   0.320609  0.289147 -0.000329  0.345265  0.183860  1.000000  "
      ]
     },
     "execution_count": 114,
     "metadata": {},
     "output_type": "execute_result"
    }
   ],
   "source": [
    "def get_covariation_matrix(tickers,                          \n",
    "                           data_map=data_for_ticker,\n",
    "                           by_column='logret'):\n",
    "    columns = pd.DataFrame()\n",
    "    for ticker in tickers:\n",
    "        columns[ticker] = data_map[ticker][by_column][1:]\n",
    "        \n",
    "    matrix = columns.corr()\n",
    "    return matrix\n",
    "\n",
    "cov_matrix = get_covariation_matrix(assets, data_map=assets_data)\n",
    "cov_matrix"
   ]
  },
  {
   "cell_type": "code",
   "execution_count": 115,
   "metadata": {},
   "outputs": [
    {
     "data": {
      "application/vnd.plotly.v1+json": {
       "config": {
        "plotlyServerURL": "https://plot.ly"
       },
       "data": [
        {
         "coloraxis": "coloraxis",
         "hovertemplate": "x: %{x}<br>y: %{y}<br>color: %{z}<extra></extra>",
         "name": "0",
         "type": "heatmap",
         "x": [
          "MDLZ",
          "MSFT",
          "NXPI",
          "PCAR",
          "INTC",
          "NVDA",
          "ILMN",
          "DXCM",
          "ROST",
          "LULU",
          "PRFT",
          "FTNT",
          "WIRE",
          "NFLX",
          "GAIN",
          "SYNA",
          "NYMTP",
          "ANAT",
          "TRNS",
          "SFBS"
         ],
         "xaxis": "x",
         "y": [
          "MDLZ",
          "MSFT",
          "NXPI",
          "PCAR",
          "INTC",
          "NVDA",
          "ILMN",
          "DXCM",
          "ROST",
          "LULU",
          "PRFT",
          "FTNT",
          "WIRE",
          "NFLX",
          "GAIN",
          "SYNA",
          "NYMTP",
          "ANAT",
          "TRNS",
          "SFBS"
         ],
         "yaxis": "y",
         "z": [
          [
           1,
           0.26062459030201496,
           0.13620183041505615,
           0.16608620355493484,
           0.12846081968466894,
           0.07171149813497249,
           0.10681704201605699,
           0.12139390383198095,
           0.3200689127131564,
           0.20053382155541924,
           0.14202246132739377,
           0.18486960314667802,
           0.10880823752788697,
           0.18385802306293655,
           0.14568755050111318,
           0.07457210751440758,
           -0.016071780307357706,
           0.09039336527497217,
           0.07609736613045406,
           0.18825435213015013
          ],
          [
           0.26062459030201496,
           1,
           0.4359364546439435,
           0.12966822803857325,
           0.3432824288985964,
           0.5633419337146292,
           0.3659818843643209,
           0.39693353501503637,
           0.23714737528893984,
           0.3699616997365161,
           0.340568685158621,
           0.5200055099073985,
           0.15685847269389774,
           0.4609405913118062,
           0.2664925315893769,
           0.3748159222999349,
           0.08887559141632353,
           -0.05478520026224042,
           0.17188354846074042,
           0.002139705690236771
          ],
          [
           0.13620183041505615,
           0.4359364546439435,
           1,
           0.3146211394084334,
           0.5186921509038402,
           0.5675639688211717,
           0.34880121768478917,
           0.3521954327190598,
           0.34758769682950535,
           0.4225796437349643,
           0.41930988791680746,
           0.4651996294765057,
           0.3660228971937685,
           0.23248589762603988,
           0.3007926784782868,
           0.5769434925376034,
           0.11470189017525119,
           0.1948648581460791,
           0.20171541811435637,
           0.3713530592242372
          ],
          [
           0.16608620355493484,
           0.12966822803857325,
           0.3146211394084334,
           1,
           0.2857909528582851,
           0.14613484344028851,
           0.07788654289217603,
           0.02471277889534608,
           0.31091400361190824,
           0.11214789668924766,
           0.1852040258382845,
           0.0879988390181617,
           0.3272310999727809,
           -0.011242228740167814,
           0.3574332469451568,
           0.20951684608154977,
           0.09169182643198452,
           0.18911649575576497,
           0.1603470522418871,
           0.41489634061494873
          ],
          [
           0.12846081968466894,
           0.3432824288985964,
           0.5186921509038402,
           0.2857909528582851,
           1,
           0.35253284944854724,
           0.23830941179169354,
           0.22085272153331323,
           0.2879659488571778,
           0.25588211730517985,
           0.23189345188763041,
           0.24513842684356438,
           0.14158783574312012,
           0.23688463719571115,
           0.2804776418779849,
           0.36627822083511496,
           0.13286200475613993,
           0.0644088890299327,
           0.11545587912169288,
           0.2169796724208511
          ],
          [
           0.07171149813497249,
           0.5633419337146292,
           0.5675639688211717,
           0.14613484344028851,
           0.35253284944854724,
           1,
           0.29626168160394156,
           0.3510070929960035,
           0.15464845550036996,
           0.4159163186363024,
           0.4254766626074588,
           0.4909608079081102,
           0.09337543536970924,
           0.35641403987970327,
           0.24363984895767207,
           0.4419765757939397,
           0.08763500896300452,
           -0.0708806832027997,
           0.11371116000296304,
           -0.01362876086230788
          ],
          [
           0.10681704201605699,
           0.3659818843643209,
           0.34880121768478917,
           0.07788654289217603,
           0.23830941179169354,
           0.29626168160394156,
           1,
           0.4332263902351505,
           0.030674389570084358,
           0.3262476796743294,
           0.27125116509720104,
           0.3692345134627318,
           0.07850466155906499,
           0.24974701504882046,
           0.16239936545937173,
           0.2360649925346982,
           0.0315238823465808,
           0.025273448455129698,
           0.09436183399745429,
           0.011555442761939084
          ],
          [
           0.12139390383198095,
           0.39693353501503637,
           0.3521954327190598,
           0.02471277889534608,
           0.22085272153331323,
           0.3510070929960035,
           0.4332263902351505,
           1,
           0.16131617918449428,
           0.3709656730252106,
           0.19318084306712516,
           0.3457063538758898,
           0.06724861093769355,
           0.3439526502133891,
           0.18472457993842314,
           0.34346571530875286,
           -0.024543158485241797,
           0.04109208309281176,
           0.1985696622715993,
           0.015732455230010656
          ],
          [
           0.3200689127131564,
           0.23714737528893984,
           0.34758769682950535,
           0.31091400361190824,
           0.2879659488571778,
           0.15464845550036996,
           0.030674389570084358,
           0.16131617918449428,
           1,
           0.28783430069505134,
           0.314949282842651,
           0.2181923758164791,
           0.409139257079262,
           0.08240661718762819,
           0.3313435241699464,
           0.31859035937401314,
           -0.0188675507869694,
           0.23479668790042085,
           0.13161894113593317,
           0.430977266235405
          ],
          [
           0.20053382155541924,
           0.3699616997365161,
           0.4225796437349643,
           0.11214789668924766,
           0.25588211730517985,
           0.4159163186363024,
           0.3262476796743294,
           0.3709656730252106,
           0.28783430069505134,
           1,
           0.31508233049345147,
           0.3938463483636666,
           0.1560968947010162,
           0.30634411044710097,
           0.18965160404015105,
           0.25262040101990235,
           -0.010867064717225448,
           0.0261172541269688,
           0.06235776056617814,
           0.08134328255003702
          ],
          [
           0.14202246132739377,
           0.340568685158621,
           0.41930988791680746,
           0.1852040258382845,
           0.23189345188763041,
           0.4254766626074588,
           0.27125116509720104,
           0.19318084306712516,
           0.314949282842651,
           0.31508233049345147,
           1,
           0.4041020408022704,
           0.31198309114962897,
           0.1465728112793734,
           0.282474473726585,
           0.2810669219852258,
           0.013071574276272318,
           0.18041703934122996,
           0.16569375468119946,
           0.2630904441636709
          ],
          [
           0.18486960314667802,
           0.5200055099073985,
           0.4651996294765057,
           0.0879988390181617,
           0.24513842684356438,
           0.4909608079081102,
           0.3692345134627318,
           0.3457063538758898,
           0.2181923758164791,
           0.3938463483636666,
           0.4041020408022704,
           1,
           0.13105009986692032,
           0.34945615117593093,
           0.22327921945811055,
           0.35517079386719547,
           0.08548283421916657,
           -0.031051069683937938,
           0.14642548403157102,
           0.04668521329392548
          ],
          [
           0.10880823752788697,
           0.15685847269389774,
           0.3660228971937685,
           0.3272310999727809,
           0.14158783574312012,
           0.09337543536970924,
           0.07850466155906499,
           0.06724861093769355,
           0.409139257079262,
           0.1560968947010162,
           0.31198309114962897,
           0.13105009986692032,
           1,
           -0.034737947172262466,
           0.23687985065018602,
           0.3288159044631251,
           -0.028350056671350255,
           0.2534350642870418,
           0.25446603623383396,
           0.5214438244988377
          ],
          [
           0.18385802306293655,
           0.4609405913118062,
           0.23248589762603988,
           -0.011242228740167814,
           0.23688463719571115,
           0.35641403987970327,
           0.24974701504882046,
           0.3439526502133891,
           0.08240661718762819,
           0.30634411044710097,
           0.1465728112793734,
           0.34945615117593093,
           -0.034737947172262466,
           1,
           0.094361659276639,
           0.12994170650159126,
           0.03631039656217103,
           -0.0034827044441311395,
           0.06605719514999968,
           -0.050856881075889135
          ],
          [
           0.14568755050111318,
           0.2664925315893769,
           0.3007926784782868,
           0.3574332469451568,
           0.2804776418779849,
           0.24363984895767207,
           0.16239936545937173,
           0.18472457993842314,
           0.3313435241699464,
           0.18965160404015105,
           0.282474473726585,
           0.22327921945811055,
           0.23687985065018602,
           0.094361659276639,
           1,
           0.30141363017765094,
           0.19395194803858684,
           0.061648365463879876,
           0.21458253993809734,
           0.32060930440312363
          ],
          [
           0.07457210751440758,
           0.3748159222999349,
           0.5769434925376034,
           0.20951684608154977,
           0.36627822083511496,
           0.4419765757939397,
           0.2360649925346982,
           0.34346571530875286,
           0.31859035937401314,
           0.25262040101990235,
           0.2810669219852258,
           0.35517079386719547,
           0.3288159044631251,
           0.12994170650159126,
           0.30141363017765094,
           1,
           0.15028531386575414,
           0.09247362978049495,
           0.21512073696587605,
           0.2891467774964635
          ],
          [
           -0.016071780307357706,
           0.08887559141632353,
           0.11470189017525119,
           0.09169182643198452,
           0.13286200475613993,
           0.08763500896300452,
           0.0315238823465808,
           -0.024543158485241797,
           -0.0188675507869694,
           -0.010867064717225448,
           0.013071574276272318,
           0.08548283421916657,
           -0.028350056671350255,
           0.03631039656217103,
           0.19395194803858684,
           0.15028531386575414,
           1,
           -0.0723399235518994,
           0.08769178676468536,
           -0.0003287066467299057
          ],
          [
           0.09039336527497217,
           -0.05478520026224042,
           0.1948648581460791,
           0.18911649575576497,
           0.0644088890299327,
           -0.0708806832027997,
           0.025273448455129698,
           0.04109208309281176,
           0.23479668790042085,
           0.0261172541269688,
           0.18041703934122996,
           -0.031051069683937938,
           0.2534350642870418,
           -0.0034827044441311395,
           0.061648365463879876,
           0.09247362978049495,
           -0.0723399235518994,
           1,
           0.11068536520401882,
           0.3452648451705
          ],
          [
           0.07609736613045406,
           0.17188354846074042,
           0.20171541811435637,
           0.1603470522418871,
           0.11545587912169288,
           0.11371116000296304,
           0.09436183399745429,
           0.1985696622715993,
           0.13161894113593317,
           0.06235776056617814,
           0.16569375468119946,
           0.14642548403157102,
           0.25446603623383396,
           0.06605719514999968,
           0.21458253993809734,
           0.21512073696587605,
           0.08769178676468536,
           0.11068536520401882,
           1,
           0.18386037434378183
          ],
          [
           0.18825435213015013,
           0.002139705690236771,
           0.3713530592242372,
           0.41489634061494873,
           0.2169796724208511,
           -0.01362876086230788,
           0.011555442761939084,
           0.015732455230010656,
           0.430977266235405,
           0.08134328255003702,
           0.2630904441636709,
           0.04668521329392548,
           0.5214438244988377,
           -0.050856881075889135,
           0.32060930440312363,
           0.2891467774964635,
           -0.0003287066467299057,
           0.3452648451705,
           0.18386037434378183,
           1
          ]
         ]
        }
       ],
       "layout": {
        "coloraxis": {
         "colorscale": [
          [
           0,
           "rgb(0,104,55)"
          ],
          [
           0.1,
           "rgb(26,152,80)"
          ],
          [
           0.2,
           "rgb(102,189,99)"
          ],
          [
           0.3,
           "rgb(166,217,106)"
          ],
          [
           0.4,
           "rgb(217,239,139)"
          ],
          [
           0.5,
           "rgb(255,255,191)"
          ],
          [
           0.6,
           "rgb(254,224,139)"
          ],
          [
           0.7,
           "rgb(253,174,97)"
          ],
          [
           0.8,
           "rgb(244,109,67)"
          ],
          [
           0.9,
           "rgb(215,48,39)"
          ],
          [
           1,
           "rgb(165,0,38)"
          ]
         ]
        },
        "template": {
         "data": {
          "bar": [
           {
            "error_x": {
             "color": "#2a3f5f"
            },
            "error_y": {
             "color": "#2a3f5f"
            },
            "marker": {
             "line": {
              "color": "#E5ECF6",
              "width": 0.5
             },
             "pattern": {
              "fillmode": "overlay",
              "size": 10,
              "solidity": 0.2
             }
            },
            "type": "bar"
           }
          ],
          "barpolar": [
           {
            "marker": {
             "line": {
              "color": "#E5ECF6",
              "width": 0.5
             },
             "pattern": {
              "fillmode": "overlay",
              "size": 10,
              "solidity": 0.2
             }
            },
            "type": "barpolar"
           }
          ],
          "carpet": [
           {
            "aaxis": {
             "endlinecolor": "#2a3f5f",
             "gridcolor": "white",
             "linecolor": "white",
             "minorgridcolor": "white",
             "startlinecolor": "#2a3f5f"
            },
            "baxis": {
             "endlinecolor": "#2a3f5f",
             "gridcolor": "white",
             "linecolor": "white",
             "minorgridcolor": "white",
             "startlinecolor": "#2a3f5f"
            },
            "type": "carpet"
           }
          ],
          "choropleth": [
           {
            "colorbar": {
             "outlinewidth": 0,
             "ticks": ""
            },
            "type": "choropleth"
           }
          ],
          "contour": [
           {
            "colorbar": {
             "outlinewidth": 0,
             "ticks": ""
            },
            "colorscale": [
             [
              0,
              "#0d0887"
             ],
             [
              0.1111111111111111,
              "#46039f"
             ],
             [
              0.2222222222222222,
              "#7201a8"
             ],
             [
              0.3333333333333333,
              "#9c179e"
             ],
             [
              0.4444444444444444,
              "#bd3786"
             ],
             [
              0.5555555555555556,
              "#d8576b"
             ],
             [
              0.6666666666666666,
              "#ed7953"
             ],
             [
              0.7777777777777778,
              "#fb9f3a"
             ],
             [
              0.8888888888888888,
              "#fdca26"
             ],
             [
              1,
              "#f0f921"
             ]
            ],
            "type": "contour"
           }
          ],
          "contourcarpet": [
           {
            "colorbar": {
             "outlinewidth": 0,
             "ticks": ""
            },
            "type": "contourcarpet"
           }
          ],
          "heatmap": [
           {
            "colorbar": {
             "outlinewidth": 0,
             "ticks": ""
            },
            "colorscale": [
             [
              0,
              "#0d0887"
             ],
             [
              0.1111111111111111,
              "#46039f"
             ],
             [
              0.2222222222222222,
              "#7201a8"
             ],
             [
              0.3333333333333333,
              "#9c179e"
             ],
             [
              0.4444444444444444,
              "#bd3786"
             ],
             [
              0.5555555555555556,
              "#d8576b"
             ],
             [
              0.6666666666666666,
              "#ed7953"
             ],
             [
              0.7777777777777778,
              "#fb9f3a"
             ],
             [
              0.8888888888888888,
              "#fdca26"
             ],
             [
              1,
              "#f0f921"
             ]
            ],
            "type": "heatmap"
           }
          ],
          "heatmapgl": [
           {
            "colorbar": {
             "outlinewidth": 0,
             "ticks": ""
            },
            "colorscale": [
             [
              0,
              "#0d0887"
             ],
             [
              0.1111111111111111,
              "#46039f"
             ],
             [
              0.2222222222222222,
              "#7201a8"
             ],
             [
              0.3333333333333333,
              "#9c179e"
             ],
             [
              0.4444444444444444,
              "#bd3786"
             ],
             [
              0.5555555555555556,
              "#d8576b"
             ],
             [
              0.6666666666666666,
              "#ed7953"
             ],
             [
              0.7777777777777778,
              "#fb9f3a"
             ],
             [
              0.8888888888888888,
              "#fdca26"
             ],
             [
              1,
              "#f0f921"
             ]
            ],
            "type": "heatmapgl"
           }
          ],
          "histogram": [
           {
            "marker": {
             "pattern": {
              "fillmode": "overlay",
              "size": 10,
              "solidity": 0.2
             }
            },
            "type": "histogram"
           }
          ],
          "histogram2d": [
           {
            "colorbar": {
             "outlinewidth": 0,
             "ticks": ""
            },
            "colorscale": [
             [
              0,
              "#0d0887"
             ],
             [
              0.1111111111111111,
              "#46039f"
             ],
             [
              0.2222222222222222,
              "#7201a8"
             ],
             [
              0.3333333333333333,
              "#9c179e"
             ],
             [
              0.4444444444444444,
              "#bd3786"
             ],
             [
              0.5555555555555556,
              "#d8576b"
             ],
             [
              0.6666666666666666,
              "#ed7953"
             ],
             [
              0.7777777777777778,
              "#fb9f3a"
             ],
             [
              0.8888888888888888,
              "#fdca26"
             ],
             [
              1,
              "#f0f921"
             ]
            ],
            "type": "histogram2d"
           }
          ],
          "histogram2dcontour": [
           {
            "colorbar": {
             "outlinewidth": 0,
             "ticks": ""
            },
            "colorscale": [
             [
              0,
              "#0d0887"
             ],
             [
              0.1111111111111111,
              "#46039f"
             ],
             [
              0.2222222222222222,
              "#7201a8"
             ],
             [
              0.3333333333333333,
              "#9c179e"
             ],
             [
              0.4444444444444444,
              "#bd3786"
             ],
             [
              0.5555555555555556,
              "#d8576b"
             ],
             [
              0.6666666666666666,
              "#ed7953"
             ],
             [
              0.7777777777777778,
              "#fb9f3a"
             ],
             [
              0.8888888888888888,
              "#fdca26"
             ],
             [
              1,
              "#f0f921"
             ]
            ],
            "type": "histogram2dcontour"
           }
          ],
          "mesh3d": [
           {
            "colorbar": {
             "outlinewidth": 0,
             "ticks": ""
            },
            "type": "mesh3d"
           }
          ],
          "parcoords": [
           {
            "line": {
             "colorbar": {
              "outlinewidth": 0,
              "ticks": ""
             }
            },
            "type": "parcoords"
           }
          ],
          "pie": [
           {
            "automargin": true,
            "type": "pie"
           }
          ],
          "scatter": [
           {
            "marker": {
             "colorbar": {
              "outlinewidth": 0,
              "ticks": ""
             }
            },
            "type": "scatter"
           }
          ],
          "scatter3d": [
           {
            "line": {
             "colorbar": {
              "outlinewidth": 0,
              "ticks": ""
             }
            },
            "marker": {
             "colorbar": {
              "outlinewidth": 0,
              "ticks": ""
             }
            },
            "type": "scatter3d"
           }
          ],
          "scattercarpet": [
           {
            "marker": {
             "colorbar": {
              "outlinewidth": 0,
              "ticks": ""
             }
            },
            "type": "scattercarpet"
           }
          ],
          "scattergeo": [
           {
            "marker": {
             "colorbar": {
              "outlinewidth": 0,
              "ticks": ""
             }
            },
            "type": "scattergeo"
           }
          ],
          "scattergl": [
           {
            "marker": {
             "colorbar": {
              "outlinewidth": 0,
              "ticks": ""
             }
            },
            "type": "scattergl"
           }
          ],
          "scattermapbox": [
           {
            "marker": {
             "colorbar": {
              "outlinewidth": 0,
              "ticks": ""
             }
            },
            "type": "scattermapbox"
           }
          ],
          "scatterpolar": [
           {
            "marker": {
             "colorbar": {
              "outlinewidth": 0,
              "ticks": ""
             }
            },
            "type": "scatterpolar"
           }
          ],
          "scatterpolargl": [
           {
            "marker": {
             "colorbar": {
              "outlinewidth": 0,
              "ticks": ""
             }
            },
            "type": "scatterpolargl"
           }
          ],
          "scatterternary": [
           {
            "marker": {
             "colorbar": {
              "outlinewidth": 0,
              "ticks": ""
             }
            },
            "type": "scatterternary"
           }
          ],
          "surface": [
           {
            "colorbar": {
             "outlinewidth": 0,
             "ticks": ""
            },
            "colorscale": [
             [
              0,
              "#0d0887"
             ],
             [
              0.1111111111111111,
              "#46039f"
             ],
             [
              0.2222222222222222,
              "#7201a8"
             ],
             [
              0.3333333333333333,
              "#9c179e"
             ],
             [
              0.4444444444444444,
              "#bd3786"
             ],
             [
              0.5555555555555556,
              "#d8576b"
             ],
             [
              0.6666666666666666,
              "#ed7953"
             ],
             [
              0.7777777777777778,
              "#fb9f3a"
             ],
             [
              0.8888888888888888,
              "#fdca26"
             ],
             [
              1,
              "#f0f921"
             ]
            ],
            "type": "surface"
           }
          ],
          "table": [
           {
            "cells": {
             "fill": {
              "color": "#EBF0F8"
             },
             "line": {
              "color": "white"
             }
            },
            "header": {
             "fill": {
              "color": "#C8D4E3"
             },
             "line": {
              "color": "white"
             }
            },
            "type": "table"
           }
          ]
         },
         "layout": {
          "annotationdefaults": {
           "arrowcolor": "#2a3f5f",
           "arrowhead": 0,
           "arrowwidth": 1
          },
          "autotypenumbers": "strict",
          "coloraxis": {
           "colorbar": {
            "outlinewidth": 0,
            "ticks": ""
           }
          },
          "colorscale": {
           "diverging": [
            [
             0,
             "#8e0152"
            ],
            [
             0.1,
             "#c51b7d"
            ],
            [
             0.2,
             "#de77ae"
            ],
            [
             0.3,
             "#f1b6da"
            ],
            [
             0.4,
             "#fde0ef"
            ],
            [
             0.5,
             "#f7f7f7"
            ],
            [
             0.6,
             "#e6f5d0"
            ],
            [
             0.7,
             "#b8e186"
            ],
            [
             0.8,
             "#7fbc41"
            ],
            [
             0.9,
             "#4d9221"
            ],
            [
             1,
             "#276419"
            ]
           ],
           "sequential": [
            [
             0,
             "#0d0887"
            ],
            [
             0.1111111111111111,
             "#46039f"
            ],
            [
             0.2222222222222222,
             "#7201a8"
            ],
            [
             0.3333333333333333,
             "#9c179e"
            ],
            [
             0.4444444444444444,
             "#bd3786"
            ],
            [
             0.5555555555555556,
             "#d8576b"
            ],
            [
             0.6666666666666666,
             "#ed7953"
            ],
            [
             0.7777777777777778,
             "#fb9f3a"
            ],
            [
             0.8888888888888888,
             "#fdca26"
            ],
            [
             1,
             "#f0f921"
            ]
           ],
           "sequentialminus": [
            [
             0,
             "#0d0887"
            ],
            [
             0.1111111111111111,
             "#46039f"
            ],
            [
             0.2222222222222222,
             "#7201a8"
            ],
            [
             0.3333333333333333,
             "#9c179e"
            ],
            [
             0.4444444444444444,
             "#bd3786"
            ],
            [
             0.5555555555555556,
             "#d8576b"
            ],
            [
             0.6666666666666666,
             "#ed7953"
            ],
            [
             0.7777777777777778,
             "#fb9f3a"
            ],
            [
             0.8888888888888888,
             "#fdca26"
            ],
            [
             1,
             "#f0f921"
            ]
           ]
          },
          "colorway": [
           "#636efa",
           "#EF553B",
           "#00cc96",
           "#ab63fa",
           "#FFA15A",
           "#19d3f3",
           "#FF6692",
           "#B6E880",
           "#FF97FF",
           "#FECB52"
          ],
          "font": {
           "color": "#2a3f5f"
          },
          "geo": {
           "bgcolor": "white",
           "lakecolor": "white",
           "landcolor": "#E5ECF6",
           "showlakes": true,
           "showland": true,
           "subunitcolor": "white"
          },
          "hoverlabel": {
           "align": "left"
          },
          "hovermode": "closest",
          "mapbox": {
           "style": "light"
          },
          "paper_bgcolor": "white",
          "plot_bgcolor": "#E5ECF6",
          "polar": {
           "angularaxis": {
            "gridcolor": "white",
            "linecolor": "white",
            "ticks": ""
           },
           "bgcolor": "#E5ECF6",
           "radialaxis": {
            "gridcolor": "white",
            "linecolor": "white",
            "ticks": ""
           }
          },
          "scene": {
           "xaxis": {
            "backgroundcolor": "#E5ECF6",
            "gridcolor": "white",
            "gridwidth": 2,
            "linecolor": "white",
            "showbackground": true,
            "ticks": "",
            "zerolinecolor": "white"
           },
           "yaxis": {
            "backgroundcolor": "#E5ECF6",
            "gridcolor": "white",
            "gridwidth": 2,
            "linecolor": "white",
            "showbackground": true,
            "ticks": "",
            "zerolinecolor": "white"
           },
           "zaxis": {
            "backgroundcolor": "#E5ECF6",
            "gridcolor": "white",
            "gridwidth": 2,
            "linecolor": "white",
            "showbackground": true,
            "ticks": "",
            "zerolinecolor": "white"
           }
          },
          "shapedefaults": {
           "line": {
            "color": "#2a3f5f"
           }
          },
          "ternary": {
           "aaxis": {
            "gridcolor": "white",
            "linecolor": "white",
            "ticks": ""
           },
           "baxis": {
            "gridcolor": "white",
            "linecolor": "white",
            "ticks": ""
           },
           "bgcolor": "#E5ECF6",
           "caxis": {
            "gridcolor": "white",
            "linecolor": "white",
            "ticks": ""
           }
          },
          "title": {
           "x": 0.05
          },
          "xaxis": {
           "automargin": true,
           "gridcolor": "white",
           "linecolor": "white",
           "ticks": "",
           "title": {
            "standoff": 15
           },
           "zerolinecolor": "white",
           "zerolinewidth": 2
          },
          "yaxis": {
           "automargin": true,
           "gridcolor": "white",
           "linecolor": "white",
           "ticks": "",
           "title": {
            "standoff": 15
           },
           "zerolinecolor": "white",
           "zerolinewidth": 2
          }
         }
        },
        "title": {
         "text": "Correlation Matrix"
        },
        "xaxis": {
         "anchor": "y",
         "constrain": "domain",
         "domain": [
          0,
          1
         ],
         "scaleanchor": "y"
        },
        "yaxis": {
         "anchor": "x",
         "autorange": "reversed",
         "constrain": "domain",
         "domain": [
          0,
          1
         ]
        }
       }
      },
      "text/html": [
       "<div>                            <div id=\"4eae5add-cd05-4245-be84-c10b95d79b42\" class=\"plotly-graph-div\" style=\"height:525px; width:100%;\"></div>            <script type=\"text/javascript\">                require([\"plotly\"], function(Plotly) {                    window.PLOTLYENV=window.PLOTLYENV || {};                                    if (document.getElementById(\"4eae5add-cd05-4245-be84-c10b95d79b42\")) {                    Plotly.newPlot(                        \"4eae5add-cd05-4245-be84-c10b95d79b42\",                        [{\"coloraxis\":\"coloraxis\",\"hovertemplate\":\"x: %{x}<br>y: %{y}<br>color: %{z}<extra></extra>\",\"name\":\"0\",\"type\":\"heatmap\",\"x\":[\"MDLZ\",\"MSFT\",\"NXPI\",\"PCAR\",\"INTC\",\"NVDA\",\"ILMN\",\"DXCM\",\"ROST\",\"LULU\",\"PRFT\",\"FTNT\",\"WIRE\",\"NFLX\",\"GAIN\",\"SYNA\",\"NYMTP\",\"ANAT\",\"TRNS\",\"SFBS\"],\"xaxis\":\"x\",\"y\":[\"MDLZ\",\"MSFT\",\"NXPI\",\"PCAR\",\"INTC\",\"NVDA\",\"ILMN\",\"DXCM\",\"ROST\",\"LULU\",\"PRFT\",\"FTNT\",\"WIRE\",\"NFLX\",\"GAIN\",\"SYNA\",\"NYMTP\",\"ANAT\",\"TRNS\",\"SFBS\"],\"yaxis\":\"y\",\"z\":[[1.0,0.26062459030201496,0.13620183041505615,0.16608620355493484,0.12846081968466894,0.07171149813497249,0.10681704201605699,0.12139390383198095,0.3200689127131564,0.20053382155541924,0.14202246132739377,0.18486960314667802,0.10880823752788697,0.18385802306293655,0.14568755050111318,0.07457210751440758,-0.016071780307357706,0.09039336527497217,0.07609736613045406,0.18825435213015013],[0.26062459030201496,1.0,0.4359364546439435,0.12966822803857325,0.3432824288985964,0.5633419337146292,0.3659818843643209,0.39693353501503637,0.23714737528893984,0.3699616997365161,0.340568685158621,0.5200055099073985,0.15685847269389774,0.4609405913118062,0.2664925315893769,0.3748159222999349,0.08887559141632353,-0.05478520026224042,0.17188354846074042,0.002139705690236771],[0.13620183041505615,0.4359364546439435,1.0,0.3146211394084334,0.5186921509038402,0.5675639688211717,0.34880121768478917,0.3521954327190598,0.34758769682950535,0.4225796437349643,0.41930988791680746,0.4651996294765057,0.3660228971937685,0.23248589762603988,0.3007926784782868,0.5769434925376034,0.11470189017525119,0.1948648581460791,0.20171541811435637,0.3713530592242372],[0.16608620355493484,0.12966822803857325,0.3146211394084334,1.0,0.2857909528582851,0.14613484344028851,0.07788654289217603,0.02471277889534608,0.31091400361190824,0.11214789668924766,0.1852040258382845,0.0879988390181617,0.3272310999727809,-0.011242228740167814,0.3574332469451568,0.20951684608154977,0.09169182643198452,0.18911649575576497,0.1603470522418871,0.41489634061494873],[0.12846081968466894,0.3432824288985964,0.5186921509038402,0.2857909528582851,1.0,0.35253284944854724,0.23830941179169354,0.22085272153331323,0.2879659488571778,0.25588211730517985,0.23189345188763041,0.24513842684356438,0.14158783574312012,0.23688463719571115,0.2804776418779849,0.36627822083511496,0.13286200475613993,0.0644088890299327,0.11545587912169288,0.2169796724208511],[0.07171149813497249,0.5633419337146292,0.5675639688211717,0.14613484344028851,0.35253284944854724,1.0,0.29626168160394156,0.3510070929960035,0.15464845550036996,0.4159163186363024,0.4254766626074588,0.4909608079081102,0.09337543536970924,0.35641403987970327,0.24363984895767207,0.4419765757939397,0.08763500896300452,-0.0708806832027997,0.11371116000296304,-0.01362876086230788],[0.10681704201605699,0.3659818843643209,0.34880121768478917,0.07788654289217603,0.23830941179169354,0.29626168160394156,1.0,0.4332263902351505,0.030674389570084358,0.3262476796743294,0.27125116509720104,0.3692345134627318,0.07850466155906499,0.24974701504882046,0.16239936545937173,0.2360649925346982,0.0315238823465808,0.025273448455129698,0.09436183399745429,0.011555442761939084],[0.12139390383198095,0.39693353501503637,0.3521954327190598,0.02471277889534608,0.22085272153331323,0.3510070929960035,0.4332263902351505,1.0,0.16131617918449428,0.3709656730252106,0.19318084306712516,0.3457063538758898,0.06724861093769355,0.3439526502133891,0.18472457993842314,0.34346571530875286,-0.024543158485241797,0.04109208309281176,0.1985696622715993,0.015732455230010656],[0.3200689127131564,0.23714737528893984,0.34758769682950535,0.31091400361190824,0.2879659488571778,0.15464845550036996,0.030674389570084358,0.16131617918449428,1.0,0.28783430069505134,0.314949282842651,0.2181923758164791,0.409139257079262,0.08240661718762819,0.3313435241699464,0.31859035937401314,-0.0188675507869694,0.23479668790042085,0.13161894113593317,0.430977266235405],[0.20053382155541924,0.3699616997365161,0.4225796437349643,0.11214789668924766,0.25588211730517985,0.4159163186363024,0.3262476796743294,0.3709656730252106,0.28783430069505134,1.0,0.31508233049345147,0.3938463483636666,0.1560968947010162,0.30634411044710097,0.18965160404015105,0.25262040101990235,-0.010867064717225448,0.0261172541269688,0.06235776056617814,0.08134328255003702],[0.14202246132739377,0.340568685158621,0.41930988791680746,0.1852040258382845,0.23189345188763041,0.4254766626074588,0.27125116509720104,0.19318084306712516,0.314949282842651,0.31508233049345147,1.0,0.4041020408022704,0.31198309114962897,0.1465728112793734,0.282474473726585,0.2810669219852258,0.013071574276272318,0.18041703934122996,0.16569375468119946,0.2630904441636709],[0.18486960314667802,0.5200055099073985,0.4651996294765057,0.0879988390181617,0.24513842684356438,0.4909608079081102,0.3692345134627318,0.3457063538758898,0.2181923758164791,0.3938463483636666,0.4041020408022704,1.0,0.13105009986692032,0.34945615117593093,0.22327921945811055,0.35517079386719547,0.08548283421916657,-0.031051069683937938,0.14642548403157102,0.04668521329392548],[0.10880823752788697,0.15685847269389774,0.3660228971937685,0.3272310999727809,0.14158783574312012,0.09337543536970924,0.07850466155906499,0.06724861093769355,0.409139257079262,0.1560968947010162,0.31198309114962897,0.13105009986692032,1.0,-0.034737947172262466,0.23687985065018602,0.3288159044631251,-0.028350056671350255,0.2534350642870418,0.25446603623383396,0.5214438244988377],[0.18385802306293655,0.4609405913118062,0.23248589762603988,-0.011242228740167814,0.23688463719571115,0.35641403987970327,0.24974701504882046,0.3439526502133891,0.08240661718762819,0.30634411044710097,0.1465728112793734,0.34945615117593093,-0.034737947172262466,1.0,0.094361659276639,0.12994170650159126,0.03631039656217103,-0.0034827044441311395,0.06605719514999968,-0.050856881075889135],[0.14568755050111318,0.2664925315893769,0.3007926784782868,0.3574332469451568,0.2804776418779849,0.24363984895767207,0.16239936545937173,0.18472457993842314,0.3313435241699464,0.18965160404015105,0.282474473726585,0.22327921945811055,0.23687985065018602,0.094361659276639,1.0,0.30141363017765094,0.19395194803858684,0.061648365463879876,0.21458253993809734,0.32060930440312363],[0.07457210751440758,0.3748159222999349,0.5769434925376034,0.20951684608154977,0.36627822083511496,0.4419765757939397,0.2360649925346982,0.34346571530875286,0.31859035937401314,0.25262040101990235,0.2810669219852258,0.35517079386719547,0.3288159044631251,0.12994170650159126,0.30141363017765094,1.0,0.15028531386575414,0.09247362978049495,0.21512073696587605,0.2891467774964635],[-0.016071780307357706,0.08887559141632353,0.11470189017525119,0.09169182643198452,0.13286200475613993,0.08763500896300452,0.0315238823465808,-0.024543158485241797,-0.0188675507869694,-0.010867064717225448,0.013071574276272318,0.08548283421916657,-0.028350056671350255,0.03631039656217103,0.19395194803858684,0.15028531386575414,1.0,-0.0723399235518994,0.08769178676468536,-0.0003287066467299057],[0.09039336527497217,-0.05478520026224042,0.1948648581460791,0.18911649575576497,0.0644088890299327,-0.0708806832027997,0.025273448455129698,0.04109208309281176,0.23479668790042085,0.0261172541269688,0.18041703934122996,-0.031051069683937938,0.2534350642870418,-0.0034827044441311395,0.061648365463879876,0.09247362978049495,-0.0723399235518994,1.0,0.11068536520401882,0.3452648451705],[0.07609736613045406,0.17188354846074042,0.20171541811435637,0.1603470522418871,0.11545587912169288,0.11371116000296304,0.09436183399745429,0.1985696622715993,0.13161894113593317,0.06235776056617814,0.16569375468119946,0.14642548403157102,0.25446603623383396,0.06605719514999968,0.21458253993809734,0.21512073696587605,0.08769178676468536,0.11068536520401882,1.0,0.18386037434378183],[0.18825435213015013,0.002139705690236771,0.3713530592242372,0.41489634061494873,0.2169796724208511,-0.01362876086230788,0.011555442761939084,0.015732455230010656,0.430977266235405,0.08134328255003702,0.2630904441636709,0.04668521329392548,0.5214438244988377,-0.050856881075889135,0.32060930440312363,0.2891467774964635,-0.0003287066467299057,0.3452648451705,0.18386037434378183,1.0]]}],                        {\"coloraxis\":{\"colorscale\":[[0.0,\"rgb(0,104,55)\"],[0.1,\"rgb(26,152,80)\"],[0.2,\"rgb(102,189,99)\"],[0.3,\"rgb(166,217,106)\"],[0.4,\"rgb(217,239,139)\"],[0.5,\"rgb(255,255,191)\"],[0.6,\"rgb(254,224,139)\"],[0.7,\"rgb(253,174,97)\"],[0.8,\"rgb(244,109,67)\"],[0.9,\"rgb(215,48,39)\"],[1.0,\"rgb(165,0,38)\"]]},\"template\":{\"data\":{\"bar\":[{\"error_x\":{\"color\":\"#2a3f5f\"},\"error_y\":{\"color\":\"#2a3f5f\"},\"marker\":{\"line\":{\"color\":\"#E5ECF6\",\"width\":0.5},\"pattern\":{\"fillmode\":\"overlay\",\"size\":10,\"solidity\":0.2}},\"type\":\"bar\"}],\"barpolar\":[{\"marker\":{\"line\":{\"color\":\"#E5ECF6\",\"width\":0.5},\"pattern\":{\"fillmode\":\"overlay\",\"size\":10,\"solidity\":0.2}},\"type\":\"barpolar\"}],\"carpet\":[{\"aaxis\":{\"endlinecolor\":\"#2a3f5f\",\"gridcolor\":\"white\",\"linecolor\":\"white\",\"minorgridcolor\":\"white\",\"startlinecolor\":\"#2a3f5f\"},\"baxis\":{\"endlinecolor\":\"#2a3f5f\",\"gridcolor\":\"white\",\"linecolor\":\"white\",\"minorgridcolor\":\"white\",\"startlinecolor\":\"#2a3f5f\"},\"type\":\"carpet\"}],\"choropleth\":[{\"colorbar\":{\"outlinewidth\":0,\"ticks\":\"\"},\"type\":\"choropleth\"}],\"contour\":[{\"colorbar\":{\"outlinewidth\":0,\"ticks\":\"\"},\"colorscale\":[[0.0,\"#0d0887\"],[0.1111111111111111,\"#46039f\"],[0.2222222222222222,\"#7201a8\"],[0.3333333333333333,\"#9c179e\"],[0.4444444444444444,\"#bd3786\"],[0.5555555555555556,\"#d8576b\"],[0.6666666666666666,\"#ed7953\"],[0.7777777777777778,\"#fb9f3a\"],[0.8888888888888888,\"#fdca26\"],[1.0,\"#f0f921\"]],\"type\":\"contour\"}],\"contourcarpet\":[{\"colorbar\":{\"outlinewidth\":0,\"ticks\":\"\"},\"type\":\"contourcarpet\"}],\"heatmap\":[{\"colorbar\":{\"outlinewidth\":0,\"ticks\":\"\"},\"colorscale\":[[0.0,\"#0d0887\"],[0.1111111111111111,\"#46039f\"],[0.2222222222222222,\"#7201a8\"],[0.3333333333333333,\"#9c179e\"],[0.4444444444444444,\"#bd3786\"],[0.5555555555555556,\"#d8576b\"],[0.6666666666666666,\"#ed7953\"],[0.7777777777777778,\"#fb9f3a\"],[0.8888888888888888,\"#fdca26\"],[1.0,\"#f0f921\"]],\"type\":\"heatmap\"}],\"heatmapgl\":[{\"colorbar\":{\"outlinewidth\":0,\"ticks\":\"\"},\"colorscale\":[[0.0,\"#0d0887\"],[0.1111111111111111,\"#46039f\"],[0.2222222222222222,\"#7201a8\"],[0.3333333333333333,\"#9c179e\"],[0.4444444444444444,\"#bd3786\"],[0.5555555555555556,\"#d8576b\"],[0.6666666666666666,\"#ed7953\"],[0.7777777777777778,\"#fb9f3a\"],[0.8888888888888888,\"#fdca26\"],[1.0,\"#f0f921\"]],\"type\":\"heatmapgl\"}],\"histogram\":[{\"marker\":{\"pattern\":{\"fillmode\":\"overlay\",\"size\":10,\"solidity\":0.2}},\"type\":\"histogram\"}],\"histogram2d\":[{\"colorbar\":{\"outlinewidth\":0,\"ticks\":\"\"},\"colorscale\":[[0.0,\"#0d0887\"],[0.1111111111111111,\"#46039f\"],[0.2222222222222222,\"#7201a8\"],[0.3333333333333333,\"#9c179e\"],[0.4444444444444444,\"#bd3786\"],[0.5555555555555556,\"#d8576b\"],[0.6666666666666666,\"#ed7953\"],[0.7777777777777778,\"#fb9f3a\"],[0.8888888888888888,\"#fdca26\"],[1.0,\"#f0f921\"]],\"type\":\"histogram2d\"}],\"histogram2dcontour\":[{\"colorbar\":{\"outlinewidth\":0,\"ticks\":\"\"},\"colorscale\":[[0.0,\"#0d0887\"],[0.1111111111111111,\"#46039f\"],[0.2222222222222222,\"#7201a8\"],[0.3333333333333333,\"#9c179e\"],[0.4444444444444444,\"#bd3786\"],[0.5555555555555556,\"#d8576b\"],[0.6666666666666666,\"#ed7953\"],[0.7777777777777778,\"#fb9f3a\"],[0.8888888888888888,\"#fdca26\"],[1.0,\"#f0f921\"]],\"type\":\"histogram2dcontour\"}],\"mesh3d\":[{\"colorbar\":{\"outlinewidth\":0,\"ticks\":\"\"},\"type\":\"mesh3d\"}],\"parcoords\":[{\"line\":{\"colorbar\":{\"outlinewidth\":0,\"ticks\":\"\"}},\"type\":\"parcoords\"}],\"pie\":[{\"automargin\":true,\"type\":\"pie\"}],\"scatter\":[{\"marker\":{\"colorbar\":{\"outlinewidth\":0,\"ticks\":\"\"}},\"type\":\"scatter\"}],\"scatter3d\":[{\"line\":{\"colorbar\":{\"outlinewidth\":0,\"ticks\":\"\"}},\"marker\":{\"colorbar\":{\"outlinewidth\":0,\"ticks\":\"\"}},\"type\":\"scatter3d\"}],\"scattercarpet\":[{\"marker\":{\"colorbar\":{\"outlinewidth\":0,\"ticks\":\"\"}},\"type\":\"scattercarpet\"}],\"scattergeo\":[{\"marker\":{\"colorbar\":{\"outlinewidth\":0,\"ticks\":\"\"}},\"type\":\"scattergeo\"}],\"scattergl\":[{\"marker\":{\"colorbar\":{\"outlinewidth\":0,\"ticks\":\"\"}},\"type\":\"scattergl\"}],\"scattermapbox\":[{\"marker\":{\"colorbar\":{\"outlinewidth\":0,\"ticks\":\"\"}},\"type\":\"scattermapbox\"}],\"scatterpolar\":[{\"marker\":{\"colorbar\":{\"outlinewidth\":0,\"ticks\":\"\"}},\"type\":\"scatterpolar\"}],\"scatterpolargl\":[{\"marker\":{\"colorbar\":{\"outlinewidth\":0,\"ticks\":\"\"}},\"type\":\"scatterpolargl\"}],\"scatterternary\":[{\"marker\":{\"colorbar\":{\"outlinewidth\":0,\"ticks\":\"\"}},\"type\":\"scatterternary\"}],\"surface\":[{\"colorbar\":{\"outlinewidth\":0,\"ticks\":\"\"},\"colorscale\":[[0.0,\"#0d0887\"],[0.1111111111111111,\"#46039f\"],[0.2222222222222222,\"#7201a8\"],[0.3333333333333333,\"#9c179e\"],[0.4444444444444444,\"#bd3786\"],[0.5555555555555556,\"#d8576b\"],[0.6666666666666666,\"#ed7953\"],[0.7777777777777778,\"#fb9f3a\"],[0.8888888888888888,\"#fdca26\"],[1.0,\"#f0f921\"]],\"type\":\"surface\"}],\"table\":[{\"cells\":{\"fill\":{\"color\":\"#EBF0F8\"},\"line\":{\"color\":\"white\"}},\"header\":{\"fill\":{\"color\":\"#C8D4E3\"},\"line\":{\"color\":\"white\"}},\"type\":\"table\"}]},\"layout\":{\"annotationdefaults\":{\"arrowcolor\":\"#2a3f5f\",\"arrowhead\":0,\"arrowwidth\":1},\"autotypenumbers\":\"strict\",\"coloraxis\":{\"colorbar\":{\"outlinewidth\":0,\"ticks\":\"\"}},\"colorscale\":{\"diverging\":[[0,\"#8e0152\"],[0.1,\"#c51b7d\"],[0.2,\"#de77ae\"],[0.3,\"#f1b6da\"],[0.4,\"#fde0ef\"],[0.5,\"#f7f7f7\"],[0.6,\"#e6f5d0\"],[0.7,\"#b8e186\"],[0.8,\"#7fbc41\"],[0.9,\"#4d9221\"],[1,\"#276419\"]],\"sequential\":[[0.0,\"#0d0887\"],[0.1111111111111111,\"#46039f\"],[0.2222222222222222,\"#7201a8\"],[0.3333333333333333,\"#9c179e\"],[0.4444444444444444,\"#bd3786\"],[0.5555555555555556,\"#d8576b\"],[0.6666666666666666,\"#ed7953\"],[0.7777777777777778,\"#fb9f3a\"],[0.8888888888888888,\"#fdca26\"],[1.0,\"#f0f921\"]],\"sequentialminus\":[[0.0,\"#0d0887\"],[0.1111111111111111,\"#46039f\"],[0.2222222222222222,\"#7201a8\"],[0.3333333333333333,\"#9c179e\"],[0.4444444444444444,\"#bd3786\"],[0.5555555555555556,\"#d8576b\"],[0.6666666666666666,\"#ed7953\"],[0.7777777777777778,\"#fb9f3a\"],[0.8888888888888888,\"#fdca26\"],[1.0,\"#f0f921\"]]},\"colorway\":[\"#636efa\",\"#EF553B\",\"#00cc96\",\"#ab63fa\",\"#FFA15A\",\"#19d3f3\",\"#FF6692\",\"#B6E880\",\"#FF97FF\",\"#FECB52\"],\"font\":{\"color\":\"#2a3f5f\"},\"geo\":{\"bgcolor\":\"white\",\"lakecolor\":\"white\",\"landcolor\":\"#E5ECF6\",\"showlakes\":true,\"showland\":true,\"subunitcolor\":\"white\"},\"hoverlabel\":{\"align\":\"left\"},\"hovermode\":\"closest\",\"mapbox\":{\"style\":\"light\"},\"paper_bgcolor\":\"white\",\"plot_bgcolor\":\"#E5ECF6\",\"polar\":{\"angularaxis\":{\"gridcolor\":\"white\",\"linecolor\":\"white\",\"ticks\":\"\"},\"bgcolor\":\"#E5ECF6\",\"radialaxis\":{\"gridcolor\":\"white\",\"linecolor\":\"white\",\"ticks\":\"\"}},\"scene\":{\"xaxis\":{\"backgroundcolor\":\"#E5ECF6\",\"gridcolor\":\"white\",\"gridwidth\":2,\"linecolor\":\"white\",\"showbackground\":true,\"ticks\":\"\",\"zerolinecolor\":\"white\"},\"yaxis\":{\"backgroundcolor\":\"#E5ECF6\",\"gridcolor\":\"white\",\"gridwidth\":2,\"linecolor\":\"white\",\"showbackground\":true,\"ticks\":\"\",\"zerolinecolor\":\"white\"},\"zaxis\":{\"backgroundcolor\":\"#E5ECF6\",\"gridcolor\":\"white\",\"gridwidth\":2,\"linecolor\":\"white\",\"showbackground\":true,\"ticks\":\"\",\"zerolinecolor\":\"white\"}},\"shapedefaults\":{\"line\":{\"color\":\"#2a3f5f\"}},\"ternary\":{\"aaxis\":{\"gridcolor\":\"white\",\"linecolor\":\"white\",\"ticks\":\"\"},\"baxis\":{\"gridcolor\":\"white\",\"linecolor\":\"white\",\"ticks\":\"\"},\"bgcolor\":\"#E5ECF6\",\"caxis\":{\"gridcolor\":\"white\",\"linecolor\":\"white\",\"ticks\":\"\"}},\"title\":{\"x\":0.05},\"xaxis\":{\"automargin\":true,\"gridcolor\":\"white\",\"linecolor\":\"white\",\"ticks\":\"\",\"title\":{\"standoff\":15},\"zerolinecolor\":\"white\",\"zerolinewidth\":2},\"yaxis\":{\"automargin\":true,\"gridcolor\":\"white\",\"linecolor\":\"white\",\"ticks\":\"\",\"title\":{\"standoff\":15},\"zerolinecolor\":\"white\",\"zerolinewidth\":2}}},\"title\":{\"text\":\"Correlation Matrix\"},\"xaxis\":{\"anchor\":\"y\",\"constrain\":\"domain\",\"domain\":[0.0,1.0],\"scaleanchor\":\"y\"},\"yaxis\":{\"anchor\":\"x\",\"autorange\":\"reversed\",\"constrain\":\"domain\",\"domain\":[0.0,1.0]}},                        {\"responsive\": true}                    ).then(function(){\n",
       "                            \n",
       "var gd = document.getElementById('4eae5add-cd05-4245-be84-c10b95d79b42');\n",
       "var x = new MutationObserver(function (mutations, observer) {{\n",
       "        var display = window.getComputedStyle(gd).display;\n",
       "        if (!display || display === 'none') {{\n",
       "            console.log([gd, 'removed!']);\n",
       "            Plotly.purge(gd);\n",
       "            observer.disconnect();\n",
       "        }}\n",
       "}});\n",
       "\n",
       "// Listen for the removal of the full notebook cells\n",
       "var notebookContainer = gd.closest('#notebook-container');\n",
       "if (notebookContainer) {{\n",
       "    x.observe(notebookContainer, {childList: true});\n",
       "}}\n",
       "\n",
       "// Listen for the clearing of the current output cell\n",
       "var outputEl = gd.closest('.output');\n",
       "if (outputEl) {{\n",
       "    x.observe(outputEl, {childList: true});\n",
       "}}\n",
       "\n",
       "                        })                };                });            </script>        </div>"
      ]
     },
     "metadata": {},
     "output_type": "display_data"
    }
   ],
   "source": [
    "import plotly.express as px\n",
    "\n",
    "fig = px.imshow(cov_matrix, title='Correlation Matrix',\n",
    "                color_continuous_scale=px.colors.diverging.RdYlGn[::-1])\n",
    "fig.show()"
   ]
  },
  {
   "cell_type": "markdown",
   "metadata": {},
   "source": [
    "#### Проверяем вырожденность матрицы и число обусловленности"
   ]
  },
  {
   "cell_type": "code",
   "execution_count": 116,
   "metadata": {},
   "outputs": [
    {
     "name": "stdout",
     "output_type": "stream",
     "text": [
      "det = 0.002219356005352488\n",
      "con = 55.688725974909225\n"
     ]
    }
   ],
   "source": [
    "det = np.linalg.det(cov_matrix)\n",
    "print(f'det = {det}')\n",
    "\n",
    "con = np.linalg.cond(cov_matrix, p='fro')\n",
    "print(f'con = {con}')"
   ]
  },
  {
   "cell_type": "markdown",
   "metadata": {},
   "source": [
    "### 1. Истинный оптимальный портфель в модели Марковица с заданным отношением к риску. "
   ]
  },
  {
   "cell_type": "markdown",
   "metadata": {},
   "source": [
    "Находим константу с:\n",
    "\n",
    "$$ с = \\Phi^{-1}(\\beta)$$"
   ]
  },
  {
   "cell_type": "code",
   "execution_count": 117,
   "metadata": {},
   "outputs": [
    {
     "name": "stdout",
     "output_type": "stream",
     "text": [
      "с = 0.6079568319117692\n"
     ]
    }
   ],
   "source": [
    "import math\n",
    "from scipy.stats import norm\n",
    "\n",
    "beta = 0.95\n",
    "с = (norm.ppf(beta))**(-1)\n",
    "print(f'с = {с}')"
   ]
  },
  {
   "cell_type": "markdown",
   "metadata": {},
   "source": [
    "#### Решаем задачу оптимизации \n",
    "\n",
    "$$ -E(x)+ с \\cdot σ(x) \\rightarrow min $$\n",
    "при условиях:\n",
    "$$ x_1 + x_2 + ... +x_N = 1 $$\n",
    "$$ x_i >= 0 $$\n",
    "где\n",
    "$$ E(x)= E_1x_1 + E_2 x_2 + ... + E_Nx_N $$\n",
    "$$ σ^2(x)=\\Sigma\\Sigma σ_{i,j} x_i \\cdot x_j $$"
   ]
  },
  {
   "cell_type": "code",
   "execution_count": 118,
   "metadata": {},
   "outputs": [],
   "source": [
    "import math \n",
    "import numpy as np\n",
    "from scipy.optimize import minimize\n",
    "\n",
    "def get_E(x, vector_E):\n",
    "    E = sum([(E_i * x_i) for E_i, x_i in zip(vector_E, x)]) \n",
    "    return E\n",
    "\n",
    "\n",
    "def get_sigma(x, matrix_cov):\n",
    "    sigma_squared = 0\n",
    "    \n",
    "    for i in range(len(x)):\n",
    "        for j in range(len(x)):\n",
    "            simga_i_j = matrix_cov.iloc[i].iloc[j]\n",
    "            sigma_squared += simga_i_j * x[i] * x[j]\n",
    "    \n",
    "    sigma = math.sqrt(sigma_squared)\n",
    "    return sigma\n",
    "            \n",
    "            \n",
    "def target_function(x, vector_E, matrix_cov):\n",
    "    E = get_E(x, vector_E)\n",
    "    sigma = get_sigma(x, matrix_cov)\n",
    "    result = -E + с * sigma\n",
    "    return result\n",
    "\n",
    "\n",
    "def find_optimal(vector_E=estims['logret_mean'], matrix_cov=cov_matrix):\n",
    "    x0 = np.array([1/len(assets)] * len(assets))\n",
    "    solution = minimize(target_function, x0, args=(vector_E, matrix_cov), \n",
    "                        method='SLSQP', \n",
    "                        constraints=[{'type': 'eq',  'fun': lambda x: sum(x) - 1}],\n",
    "                        bounds=[(0, 1)] * len(assets))\n",
    "    if not solution.success:\n",
    "        raise Exception(opt.message)\n",
    "    return solution\n",
    "    \n",
    "true_opt_solution = find_optimal()"
   ]
  },
  {
   "cell_type": "markdown",
   "metadata": {},
   "source": [
    "#### Веса портфеля:"
   ]
  },
  {
   "cell_type": "code",
   "execution_count": 119,
   "metadata": {},
   "outputs": [
    {
     "name": "stdout",
     "output_type": "stream",
     "text": [
      "Сумма весов: 0.9999999999999999\n"
     ]
    },
    {
     "data": {
      "application/vnd.plotly.v1+json": {
       "config": {
        "plotlyServerURL": "https://plot.ly"
       },
       "data": [
        {
         "alignmentgroup": "True",
         "hovertemplate": "x=%{x}<br>y=%{y}<extra></extra>",
         "legendgroup": "",
         "marker": {
          "color": "#636efa",
          "pattern": {
           "shape": ""
          }
         },
         "name": "",
         "offsetgroup": "",
         "orientation": "v",
         "showlegend": false,
         "textposition": "auto",
         "type": "bar",
         "x": [
          "MDLZ",
          "MSFT",
          "NXPI",
          "PCAR",
          "INTC",
          "NVDA",
          "ILMN",
          "DXCM",
          "ROST",
          "LULU",
          "PRFT",
          "FTNT",
          "WIRE",
          "NFLX",
          "GAIN",
          "SYNA",
          "NYMTP",
          "ANAT",
          "TRNS",
          "SFBS"
         ],
         "xaxis": "x",
         "y": [
          0.09881663090878752,
          0,
          0,
          0.04658890427216111,
          0.015122020014106516,
          0.054270967375385684,
          0.0687515354042976,
          0.048673448676905866,
          0.008253941090056012,
          0.03879157038583893,
          0.007127237324103535,
          0.00933697708534517,
          0.06206918330612475,
          0.0892591649943757,
          0.00800905775838859,
          6.830473686658678e-18,
          0.177399046910184,
          0.13970366788415806,
          0.08282339499732701,
          0.04500325161245393
         ],
         "yaxis": "y"
        }
       ],
       "layout": {
        "barmode": "relative",
        "legend": {
         "tracegroupgap": 0
        },
        "margin": {
         "t": 60
        },
        "template": {
         "data": {
          "bar": [
           {
            "error_x": {
             "color": "#2a3f5f"
            },
            "error_y": {
             "color": "#2a3f5f"
            },
            "marker": {
             "line": {
              "color": "#E5ECF6",
              "width": 0.5
             },
             "pattern": {
              "fillmode": "overlay",
              "size": 10,
              "solidity": 0.2
             }
            },
            "type": "bar"
           }
          ],
          "barpolar": [
           {
            "marker": {
             "line": {
              "color": "#E5ECF6",
              "width": 0.5
             },
             "pattern": {
              "fillmode": "overlay",
              "size": 10,
              "solidity": 0.2
             }
            },
            "type": "barpolar"
           }
          ],
          "carpet": [
           {
            "aaxis": {
             "endlinecolor": "#2a3f5f",
             "gridcolor": "white",
             "linecolor": "white",
             "minorgridcolor": "white",
             "startlinecolor": "#2a3f5f"
            },
            "baxis": {
             "endlinecolor": "#2a3f5f",
             "gridcolor": "white",
             "linecolor": "white",
             "minorgridcolor": "white",
             "startlinecolor": "#2a3f5f"
            },
            "type": "carpet"
           }
          ],
          "choropleth": [
           {
            "colorbar": {
             "outlinewidth": 0,
             "ticks": ""
            },
            "type": "choropleth"
           }
          ],
          "contour": [
           {
            "colorbar": {
             "outlinewidth": 0,
             "ticks": ""
            },
            "colorscale": [
             [
              0,
              "#0d0887"
             ],
             [
              0.1111111111111111,
              "#46039f"
             ],
             [
              0.2222222222222222,
              "#7201a8"
             ],
             [
              0.3333333333333333,
              "#9c179e"
             ],
             [
              0.4444444444444444,
              "#bd3786"
             ],
             [
              0.5555555555555556,
              "#d8576b"
             ],
             [
              0.6666666666666666,
              "#ed7953"
             ],
             [
              0.7777777777777778,
              "#fb9f3a"
             ],
             [
              0.8888888888888888,
              "#fdca26"
             ],
             [
              1,
              "#f0f921"
             ]
            ],
            "type": "contour"
           }
          ],
          "contourcarpet": [
           {
            "colorbar": {
             "outlinewidth": 0,
             "ticks": ""
            },
            "type": "contourcarpet"
           }
          ],
          "heatmap": [
           {
            "colorbar": {
             "outlinewidth": 0,
             "ticks": ""
            },
            "colorscale": [
             [
              0,
              "#0d0887"
             ],
             [
              0.1111111111111111,
              "#46039f"
             ],
             [
              0.2222222222222222,
              "#7201a8"
             ],
             [
              0.3333333333333333,
              "#9c179e"
             ],
             [
              0.4444444444444444,
              "#bd3786"
             ],
             [
              0.5555555555555556,
              "#d8576b"
             ],
             [
              0.6666666666666666,
              "#ed7953"
             ],
             [
              0.7777777777777778,
              "#fb9f3a"
             ],
             [
              0.8888888888888888,
              "#fdca26"
             ],
             [
              1,
              "#f0f921"
             ]
            ],
            "type": "heatmap"
           }
          ],
          "heatmapgl": [
           {
            "colorbar": {
             "outlinewidth": 0,
             "ticks": ""
            },
            "colorscale": [
             [
              0,
              "#0d0887"
             ],
             [
              0.1111111111111111,
              "#46039f"
             ],
             [
              0.2222222222222222,
              "#7201a8"
             ],
             [
              0.3333333333333333,
              "#9c179e"
             ],
             [
              0.4444444444444444,
              "#bd3786"
             ],
             [
              0.5555555555555556,
              "#d8576b"
             ],
             [
              0.6666666666666666,
              "#ed7953"
             ],
             [
              0.7777777777777778,
              "#fb9f3a"
             ],
             [
              0.8888888888888888,
              "#fdca26"
             ],
             [
              1,
              "#f0f921"
             ]
            ],
            "type": "heatmapgl"
           }
          ],
          "histogram": [
           {
            "marker": {
             "pattern": {
              "fillmode": "overlay",
              "size": 10,
              "solidity": 0.2
             }
            },
            "type": "histogram"
           }
          ],
          "histogram2d": [
           {
            "colorbar": {
             "outlinewidth": 0,
             "ticks": ""
            },
            "colorscale": [
             [
              0,
              "#0d0887"
             ],
             [
              0.1111111111111111,
              "#46039f"
             ],
             [
              0.2222222222222222,
              "#7201a8"
             ],
             [
              0.3333333333333333,
              "#9c179e"
             ],
             [
              0.4444444444444444,
              "#bd3786"
             ],
             [
              0.5555555555555556,
              "#d8576b"
             ],
             [
              0.6666666666666666,
              "#ed7953"
             ],
             [
              0.7777777777777778,
              "#fb9f3a"
             ],
             [
              0.8888888888888888,
              "#fdca26"
             ],
             [
              1,
              "#f0f921"
             ]
            ],
            "type": "histogram2d"
           }
          ],
          "histogram2dcontour": [
           {
            "colorbar": {
             "outlinewidth": 0,
             "ticks": ""
            },
            "colorscale": [
             [
              0,
              "#0d0887"
             ],
             [
              0.1111111111111111,
              "#46039f"
             ],
             [
              0.2222222222222222,
              "#7201a8"
             ],
             [
              0.3333333333333333,
              "#9c179e"
             ],
             [
              0.4444444444444444,
              "#bd3786"
             ],
             [
              0.5555555555555556,
              "#d8576b"
             ],
             [
              0.6666666666666666,
              "#ed7953"
             ],
             [
              0.7777777777777778,
              "#fb9f3a"
             ],
             [
              0.8888888888888888,
              "#fdca26"
             ],
             [
              1,
              "#f0f921"
             ]
            ],
            "type": "histogram2dcontour"
           }
          ],
          "mesh3d": [
           {
            "colorbar": {
             "outlinewidth": 0,
             "ticks": ""
            },
            "type": "mesh3d"
           }
          ],
          "parcoords": [
           {
            "line": {
             "colorbar": {
              "outlinewidth": 0,
              "ticks": ""
             }
            },
            "type": "parcoords"
           }
          ],
          "pie": [
           {
            "automargin": true,
            "type": "pie"
           }
          ],
          "scatter": [
           {
            "marker": {
             "colorbar": {
              "outlinewidth": 0,
              "ticks": ""
             }
            },
            "type": "scatter"
           }
          ],
          "scatter3d": [
           {
            "line": {
             "colorbar": {
              "outlinewidth": 0,
              "ticks": ""
             }
            },
            "marker": {
             "colorbar": {
              "outlinewidth": 0,
              "ticks": ""
             }
            },
            "type": "scatter3d"
           }
          ],
          "scattercarpet": [
           {
            "marker": {
             "colorbar": {
              "outlinewidth": 0,
              "ticks": ""
             }
            },
            "type": "scattercarpet"
           }
          ],
          "scattergeo": [
           {
            "marker": {
             "colorbar": {
              "outlinewidth": 0,
              "ticks": ""
             }
            },
            "type": "scattergeo"
           }
          ],
          "scattergl": [
           {
            "marker": {
             "colorbar": {
              "outlinewidth": 0,
              "ticks": ""
             }
            },
            "type": "scattergl"
           }
          ],
          "scattermapbox": [
           {
            "marker": {
             "colorbar": {
              "outlinewidth": 0,
              "ticks": ""
             }
            },
            "type": "scattermapbox"
           }
          ],
          "scatterpolar": [
           {
            "marker": {
             "colorbar": {
              "outlinewidth": 0,
              "ticks": ""
             }
            },
            "type": "scatterpolar"
           }
          ],
          "scatterpolargl": [
           {
            "marker": {
             "colorbar": {
              "outlinewidth": 0,
              "ticks": ""
             }
            },
            "type": "scatterpolargl"
           }
          ],
          "scatterternary": [
           {
            "marker": {
             "colorbar": {
              "outlinewidth": 0,
              "ticks": ""
             }
            },
            "type": "scatterternary"
           }
          ],
          "surface": [
           {
            "colorbar": {
             "outlinewidth": 0,
             "ticks": ""
            },
            "colorscale": [
             [
              0,
              "#0d0887"
             ],
             [
              0.1111111111111111,
              "#46039f"
             ],
             [
              0.2222222222222222,
              "#7201a8"
             ],
             [
              0.3333333333333333,
              "#9c179e"
             ],
             [
              0.4444444444444444,
              "#bd3786"
             ],
             [
              0.5555555555555556,
              "#d8576b"
             ],
             [
              0.6666666666666666,
              "#ed7953"
             ],
             [
              0.7777777777777778,
              "#fb9f3a"
             ],
             [
              0.8888888888888888,
              "#fdca26"
             ],
             [
              1,
              "#f0f921"
             ]
            ],
            "type": "surface"
           }
          ],
          "table": [
           {
            "cells": {
             "fill": {
              "color": "#EBF0F8"
             },
             "line": {
              "color": "white"
             }
            },
            "header": {
             "fill": {
              "color": "#C8D4E3"
             },
             "line": {
              "color": "white"
             }
            },
            "type": "table"
           }
          ]
         },
         "layout": {
          "annotationdefaults": {
           "arrowcolor": "#2a3f5f",
           "arrowhead": 0,
           "arrowwidth": 1
          },
          "autotypenumbers": "strict",
          "coloraxis": {
           "colorbar": {
            "outlinewidth": 0,
            "ticks": ""
           }
          },
          "colorscale": {
           "diverging": [
            [
             0,
             "#8e0152"
            ],
            [
             0.1,
             "#c51b7d"
            ],
            [
             0.2,
             "#de77ae"
            ],
            [
             0.3,
             "#f1b6da"
            ],
            [
             0.4,
             "#fde0ef"
            ],
            [
             0.5,
             "#f7f7f7"
            ],
            [
             0.6,
             "#e6f5d0"
            ],
            [
             0.7,
             "#b8e186"
            ],
            [
             0.8,
             "#7fbc41"
            ],
            [
             0.9,
             "#4d9221"
            ],
            [
             1,
             "#276419"
            ]
           ],
           "sequential": [
            [
             0,
             "#0d0887"
            ],
            [
             0.1111111111111111,
             "#46039f"
            ],
            [
             0.2222222222222222,
             "#7201a8"
            ],
            [
             0.3333333333333333,
             "#9c179e"
            ],
            [
             0.4444444444444444,
             "#bd3786"
            ],
            [
             0.5555555555555556,
             "#d8576b"
            ],
            [
             0.6666666666666666,
             "#ed7953"
            ],
            [
             0.7777777777777778,
             "#fb9f3a"
            ],
            [
             0.8888888888888888,
             "#fdca26"
            ],
            [
             1,
             "#f0f921"
            ]
           ],
           "sequentialminus": [
            [
             0,
             "#0d0887"
            ],
            [
             0.1111111111111111,
             "#46039f"
            ],
            [
             0.2222222222222222,
             "#7201a8"
            ],
            [
             0.3333333333333333,
             "#9c179e"
            ],
            [
             0.4444444444444444,
             "#bd3786"
            ],
            [
             0.5555555555555556,
             "#d8576b"
            ],
            [
             0.6666666666666666,
             "#ed7953"
            ],
            [
             0.7777777777777778,
             "#fb9f3a"
            ],
            [
             0.8888888888888888,
             "#fdca26"
            ],
            [
             1,
             "#f0f921"
            ]
           ]
          },
          "colorway": [
           "#636efa",
           "#EF553B",
           "#00cc96",
           "#ab63fa",
           "#FFA15A",
           "#19d3f3",
           "#FF6692",
           "#B6E880",
           "#FF97FF",
           "#FECB52"
          ],
          "font": {
           "color": "#2a3f5f"
          },
          "geo": {
           "bgcolor": "white",
           "lakecolor": "white",
           "landcolor": "#E5ECF6",
           "showlakes": true,
           "showland": true,
           "subunitcolor": "white"
          },
          "hoverlabel": {
           "align": "left"
          },
          "hovermode": "closest",
          "mapbox": {
           "style": "light"
          },
          "paper_bgcolor": "white",
          "plot_bgcolor": "#E5ECF6",
          "polar": {
           "angularaxis": {
            "gridcolor": "white",
            "linecolor": "white",
            "ticks": ""
           },
           "bgcolor": "#E5ECF6",
           "radialaxis": {
            "gridcolor": "white",
            "linecolor": "white",
            "ticks": ""
           }
          },
          "scene": {
           "xaxis": {
            "backgroundcolor": "#E5ECF6",
            "gridcolor": "white",
            "gridwidth": 2,
            "linecolor": "white",
            "showbackground": true,
            "ticks": "",
            "zerolinecolor": "white"
           },
           "yaxis": {
            "backgroundcolor": "#E5ECF6",
            "gridcolor": "white",
            "gridwidth": 2,
            "linecolor": "white",
            "showbackground": true,
            "ticks": "",
            "zerolinecolor": "white"
           },
           "zaxis": {
            "backgroundcolor": "#E5ECF6",
            "gridcolor": "white",
            "gridwidth": 2,
            "linecolor": "white",
            "showbackground": true,
            "ticks": "",
            "zerolinecolor": "white"
           }
          },
          "shapedefaults": {
           "line": {
            "color": "#2a3f5f"
           }
          },
          "ternary": {
           "aaxis": {
            "gridcolor": "white",
            "linecolor": "white",
            "ticks": ""
           },
           "baxis": {
            "gridcolor": "white",
            "linecolor": "white",
            "ticks": ""
           },
           "bgcolor": "#E5ECF6",
           "caxis": {
            "gridcolor": "white",
            "linecolor": "white",
            "ticks": ""
           }
          },
          "title": {
           "x": 0.05
          },
          "xaxis": {
           "automargin": true,
           "gridcolor": "white",
           "linecolor": "white",
           "ticks": "",
           "title": {
            "standoff": 15
           },
           "zerolinecolor": "white",
           "zerolinewidth": 2
          },
          "yaxis": {
           "automargin": true,
           "gridcolor": "white",
           "linecolor": "white",
           "ticks": "",
           "title": {
            "standoff": 15
           },
           "zerolinecolor": "white",
           "zerolinewidth": 2
          }
         }
        },
        "xaxis": {
         "anchor": "y",
         "domain": [
          0,
          1
         ],
         "title": {
          "text": "x"
         }
        },
        "yaxis": {
         "anchor": "x",
         "domain": [
          0,
          1
         ],
         "title": {
          "text": "y"
         }
        }
       }
      },
      "text/html": [
       "<div>                            <div id=\"a837459f-2ae9-46bf-808f-d736bb12f2c2\" class=\"plotly-graph-div\" style=\"height:525px; width:100%;\"></div>            <script type=\"text/javascript\">                require([\"plotly\"], function(Plotly) {                    window.PLOTLYENV=window.PLOTLYENV || {};                                    if (document.getElementById(\"a837459f-2ae9-46bf-808f-d736bb12f2c2\")) {                    Plotly.newPlot(                        \"a837459f-2ae9-46bf-808f-d736bb12f2c2\",                        [{\"alignmentgroup\":\"True\",\"hovertemplate\":\"x=%{x}<br>y=%{y}<extra></extra>\",\"legendgroup\":\"\",\"marker\":{\"color\":\"#636efa\",\"pattern\":{\"shape\":\"\"}},\"name\":\"\",\"offsetgroup\":\"\",\"orientation\":\"v\",\"showlegend\":false,\"textposition\":\"auto\",\"type\":\"bar\",\"x\":[\"MDLZ\",\"MSFT\",\"NXPI\",\"PCAR\",\"INTC\",\"NVDA\",\"ILMN\",\"DXCM\",\"ROST\",\"LULU\",\"PRFT\",\"FTNT\",\"WIRE\",\"NFLX\",\"GAIN\",\"SYNA\",\"NYMTP\",\"ANAT\",\"TRNS\",\"SFBS\"],\"xaxis\":\"x\",\"y\":[0.09881663090878752,0.0,0.0,0.04658890427216111,0.015122020014106516,0.054270967375385684,0.0687515354042976,0.048673448676905866,0.008253941090056012,0.03879157038583893,0.007127237324103535,0.00933697708534517,0.06206918330612475,0.0892591649943757,0.00800905775838859,6.830473686658678e-18,0.177399046910184,0.13970366788415806,0.08282339499732701,0.04500325161245393],\"yaxis\":\"y\"}],                        {\"barmode\":\"relative\",\"legend\":{\"tracegroupgap\":0},\"margin\":{\"t\":60},\"template\":{\"data\":{\"bar\":[{\"error_x\":{\"color\":\"#2a3f5f\"},\"error_y\":{\"color\":\"#2a3f5f\"},\"marker\":{\"line\":{\"color\":\"#E5ECF6\",\"width\":0.5},\"pattern\":{\"fillmode\":\"overlay\",\"size\":10,\"solidity\":0.2}},\"type\":\"bar\"}],\"barpolar\":[{\"marker\":{\"line\":{\"color\":\"#E5ECF6\",\"width\":0.5},\"pattern\":{\"fillmode\":\"overlay\",\"size\":10,\"solidity\":0.2}},\"type\":\"barpolar\"}],\"carpet\":[{\"aaxis\":{\"endlinecolor\":\"#2a3f5f\",\"gridcolor\":\"white\",\"linecolor\":\"white\",\"minorgridcolor\":\"white\",\"startlinecolor\":\"#2a3f5f\"},\"baxis\":{\"endlinecolor\":\"#2a3f5f\",\"gridcolor\":\"white\",\"linecolor\":\"white\",\"minorgridcolor\":\"white\",\"startlinecolor\":\"#2a3f5f\"},\"type\":\"carpet\"}],\"choropleth\":[{\"colorbar\":{\"outlinewidth\":0,\"ticks\":\"\"},\"type\":\"choropleth\"}],\"contour\":[{\"colorbar\":{\"outlinewidth\":0,\"ticks\":\"\"},\"colorscale\":[[0.0,\"#0d0887\"],[0.1111111111111111,\"#46039f\"],[0.2222222222222222,\"#7201a8\"],[0.3333333333333333,\"#9c179e\"],[0.4444444444444444,\"#bd3786\"],[0.5555555555555556,\"#d8576b\"],[0.6666666666666666,\"#ed7953\"],[0.7777777777777778,\"#fb9f3a\"],[0.8888888888888888,\"#fdca26\"],[1.0,\"#f0f921\"]],\"type\":\"contour\"}],\"contourcarpet\":[{\"colorbar\":{\"outlinewidth\":0,\"ticks\":\"\"},\"type\":\"contourcarpet\"}],\"heatmap\":[{\"colorbar\":{\"outlinewidth\":0,\"ticks\":\"\"},\"colorscale\":[[0.0,\"#0d0887\"],[0.1111111111111111,\"#46039f\"],[0.2222222222222222,\"#7201a8\"],[0.3333333333333333,\"#9c179e\"],[0.4444444444444444,\"#bd3786\"],[0.5555555555555556,\"#d8576b\"],[0.6666666666666666,\"#ed7953\"],[0.7777777777777778,\"#fb9f3a\"],[0.8888888888888888,\"#fdca26\"],[1.0,\"#f0f921\"]],\"type\":\"heatmap\"}],\"heatmapgl\":[{\"colorbar\":{\"outlinewidth\":0,\"ticks\":\"\"},\"colorscale\":[[0.0,\"#0d0887\"],[0.1111111111111111,\"#46039f\"],[0.2222222222222222,\"#7201a8\"],[0.3333333333333333,\"#9c179e\"],[0.4444444444444444,\"#bd3786\"],[0.5555555555555556,\"#d8576b\"],[0.6666666666666666,\"#ed7953\"],[0.7777777777777778,\"#fb9f3a\"],[0.8888888888888888,\"#fdca26\"],[1.0,\"#f0f921\"]],\"type\":\"heatmapgl\"}],\"histogram\":[{\"marker\":{\"pattern\":{\"fillmode\":\"overlay\",\"size\":10,\"solidity\":0.2}},\"type\":\"histogram\"}],\"histogram2d\":[{\"colorbar\":{\"outlinewidth\":0,\"ticks\":\"\"},\"colorscale\":[[0.0,\"#0d0887\"],[0.1111111111111111,\"#46039f\"],[0.2222222222222222,\"#7201a8\"],[0.3333333333333333,\"#9c179e\"],[0.4444444444444444,\"#bd3786\"],[0.5555555555555556,\"#d8576b\"],[0.6666666666666666,\"#ed7953\"],[0.7777777777777778,\"#fb9f3a\"],[0.8888888888888888,\"#fdca26\"],[1.0,\"#f0f921\"]],\"type\":\"histogram2d\"}],\"histogram2dcontour\":[{\"colorbar\":{\"outlinewidth\":0,\"ticks\":\"\"},\"colorscale\":[[0.0,\"#0d0887\"],[0.1111111111111111,\"#46039f\"],[0.2222222222222222,\"#7201a8\"],[0.3333333333333333,\"#9c179e\"],[0.4444444444444444,\"#bd3786\"],[0.5555555555555556,\"#d8576b\"],[0.6666666666666666,\"#ed7953\"],[0.7777777777777778,\"#fb9f3a\"],[0.8888888888888888,\"#fdca26\"],[1.0,\"#f0f921\"]],\"type\":\"histogram2dcontour\"}],\"mesh3d\":[{\"colorbar\":{\"outlinewidth\":0,\"ticks\":\"\"},\"type\":\"mesh3d\"}],\"parcoords\":[{\"line\":{\"colorbar\":{\"outlinewidth\":0,\"ticks\":\"\"}},\"type\":\"parcoords\"}],\"pie\":[{\"automargin\":true,\"type\":\"pie\"}],\"scatter\":[{\"marker\":{\"colorbar\":{\"outlinewidth\":0,\"ticks\":\"\"}},\"type\":\"scatter\"}],\"scatter3d\":[{\"line\":{\"colorbar\":{\"outlinewidth\":0,\"ticks\":\"\"}},\"marker\":{\"colorbar\":{\"outlinewidth\":0,\"ticks\":\"\"}},\"type\":\"scatter3d\"}],\"scattercarpet\":[{\"marker\":{\"colorbar\":{\"outlinewidth\":0,\"ticks\":\"\"}},\"type\":\"scattercarpet\"}],\"scattergeo\":[{\"marker\":{\"colorbar\":{\"outlinewidth\":0,\"ticks\":\"\"}},\"type\":\"scattergeo\"}],\"scattergl\":[{\"marker\":{\"colorbar\":{\"outlinewidth\":0,\"ticks\":\"\"}},\"type\":\"scattergl\"}],\"scattermapbox\":[{\"marker\":{\"colorbar\":{\"outlinewidth\":0,\"ticks\":\"\"}},\"type\":\"scattermapbox\"}],\"scatterpolar\":[{\"marker\":{\"colorbar\":{\"outlinewidth\":0,\"ticks\":\"\"}},\"type\":\"scatterpolar\"}],\"scatterpolargl\":[{\"marker\":{\"colorbar\":{\"outlinewidth\":0,\"ticks\":\"\"}},\"type\":\"scatterpolargl\"}],\"scatterternary\":[{\"marker\":{\"colorbar\":{\"outlinewidth\":0,\"ticks\":\"\"}},\"type\":\"scatterternary\"}],\"surface\":[{\"colorbar\":{\"outlinewidth\":0,\"ticks\":\"\"},\"colorscale\":[[0.0,\"#0d0887\"],[0.1111111111111111,\"#46039f\"],[0.2222222222222222,\"#7201a8\"],[0.3333333333333333,\"#9c179e\"],[0.4444444444444444,\"#bd3786\"],[0.5555555555555556,\"#d8576b\"],[0.6666666666666666,\"#ed7953\"],[0.7777777777777778,\"#fb9f3a\"],[0.8888888888888888,\"#fdca26\"],[1.0,\"#f0f921\"]],\"type\":\"surface\"}],\"table\":[{\"cells\":{\"fill\":{\"color\":\"#EBF0F8\"},\"line\":{\"color\":\"white\"}},\"header\":{\"fill\":{\"color\":\"#C8D4E3\"},\"line\":{\"color\":\"white\"}},\"type\":\"table\"}]},\"layout\":{\"annotationdefaults\":{\"arrowcolor\":\"#2a3f5f\",\"arrowhead\":0,\"arrowwidth\":1},\"autotypenumbers\":\"strict\",\"coloraxis\":{\"colorbar\":{\"outlinewidth\":0,\"ticks\":\"\"}},\"colorscale\":{\"diverging\":[[0,\"#8e0152\"],[0.1,\"#c51b7d\"],[0.2,\"#de77ae\"],[0.3,\"#f1b6da\"],[0.4,\"#fde0ef\"],[0.5,\"#f7f7f7\"],[0.6,\"#e6f5d0\"],[0.7,\"#b8e186\"],[0.8,\"#7fbc41\"],[0.9,\"#4d9221\"],[1,\"#276419\"]],\"sequential\":[[0.0,\"#0d0887\"],[0.1111111111111111,\"#46039f\"],[0.2222222222222222,\"#7201a8\"],[0.3333333333333333,\"#9c179e\"],[0.4444444444444444,\"#bd3786\"],[0.5555555555555556,\"#d8576b\"],[0.6666666666666666,\"#ed7953\"],[0.7777777777777778,\"#fb9f3a\"],[0.8888888888888888,\"#fdca26\"],[1.0,\"#f0f921\"]],\"sequentialminus\":[[0.0,\"#0d0887\"],[0.1111111111111111,\"#46039f\"],[0.2222222222222222,\"#7201a8\"],[0.3333333333333333,\"#9c179e\"],[0.4444444444444444,\"#bd3786\"],[0.5555555555555556,\"#d8576b\"],[0.6666666666666666,\"#ed7953\"],[0.7777777777777778,\"#fb9f3a\"],[0.8888888888888888,\"#fdca26\"],[1.0,\"#f0f921\"]]},\"colorway\":[\"#636efa\",\"#EF553B\",\"#00cc96\",\"#ab63fa\",\"#FFA15A\",\"#19d3f3\",\"#FF6692\",\"#B6E880\",\"#FF97FF\",\"#FECB52\"],\"font\":{\"color\":\"#2a3f5f\"},\"geo\":{\"bgcolor\":\"white\",\"lakecolor\":\"white\",\"landcolor\":\"#E5ECF6\",\"showlakes\":true,\"showland\":true,\"subunitcolor\":\"white\"},\"hoverlabel\":{\"align\":\"left\"},\"hovermode\":\"closest\",\"mapbox\":{\"style\":\"light\"},\"paper_bgcolor\":\"white\",\"plot_bgcolor\":\"#E5ECF6\",\"polar\":{\"angularaxis\":{\"gridcolor\":\"white\",\"linecolor\":\"white\",\"ticks\":\"\"},\"bgcolor\":\"#E5ECF6\",\"radialaxis\":{\"gridcolor\":\"white\",\"linecolor\":\"white\",\"ticks\":\"\"}},\"scene\":{\"xaxis\":{\"backgroundcolor\":\"#E5ECF6\",\"gridcolor\":\"white\",\"gridwidth\":2,\"linecolor\":\"white\",\"showbackground\":true,\"ticks\":\"\",\"zerolinecolor\":\"white\"},\"yaxis\":{\"backgroundcolor\":\"#E5ECF6\",\"gridcolor\":\"white\",\"gridwidth\":2,\"linecolor\":\"white\",\"showbackground\":true,\"ticks\":\"\",\"zerolinecolor\":\"white\"},\"zaxis\":{\"backgroundcolor\":\"#E5ECF6\",\"gridcolor\":\"white\",\"gridwidth\":2,\"linecolor\":\"white\",\"showbackground\":true,\"ticks\":\"\",\"zerolinecolor\":\"white\"}},\"shapedefaults\":{\"line\":{\"color\":\"#2a3f5f\"}},\"ternary\":{\"aaxis\":{\"gridcolor\":\"white\",\"linecolor\":\"white\",\"ticks\":\"\"},\"baxis\":{\"gridcolor\":\"white\",\"linecolor\":\"white\",\"ticks\":\"\"},\"bgcolor\":\"#E5ECF6\",\"caxis\":{\"gridcolor\":\"white\",\"linecolor\":\"white\",\"ticks\":\"\"}},\"title\":{\"x\":0.05},\"xaxis\":{\"automargin\":true,\"gridcolor\":\"white\",\"linecolor\":\"white\",\"ticks\":\"\",\"title\":{\"standoff\":15},\"zerolinecolor\":\"white\",\"zerolinewidth\":2},\"yaxis\":{\"automargin\":true,\"gridcolor\":\"white\",\"linecolor\":\"white\",\"ticks\":\"\",\"title\":{\"standoff\":15},\"zerolinecolor\":\"white\",\"zerolinewidth\":2}}},\"xaxis\":{\"anchor\":\"y\",\"domain\":[0.0,1.0],\"title\":{\"text\":\"x\"}},\"yaxis\":{\"anchor\":\"x\",\"domain\":[0.0,1.0],\"title\":{\"text\":\"y\"}}},                        {\"responsive\": true}                    ).then(function(){\n",
       "                            \n",
       "var gd = document.getElementById('a837459f-2ae9-46bf-808f-d736bb12f2c2');\n",
       "var x = new MutationObserver(function (mutations, observer) {{\n",
       "        var display = window.getComputedStyle(gd).display;\n",
       "        if (!display || display === 'none') {{\n",
       "            console.log([gd, 'removed!']);\n",
       "            Plotly.purge(gd);\n",
       "            observer.disconnect();\n",
       "        }}\n",
       "}});\n",
       "\n",
       "// Listen for the removal of the full notebook cells\n",
       "var notebookContainer = gd.closest('#notebook-container');\n",
       "if (notebookContainer) {{\n",
       "    x.observe(notebookContainer, {childList: true});\n",
       "}}\n",
       "\n",
       "// Listen for the clearing of the current output cell\n",
       "var outputEl = gd.closest('.output');\n",
       "if (outputEl) {{\n",
       "    x.observe(outputEl, {childList: true});\n",
       "}}\n",
       "\n",
       "                        })                };                });            </script>        </div>"
      ]
     },
     "metadata": {},
     "output_type": "display_data"
    }
   ],
   "source": [
    "import plotly.express as px\n",
    "\n",
    "print(f'Сумма весов: {sum(true_opt_solution.x)}')\n",
    "fig = px.bar(x=assets, y=true_opt_solution.x)\n",
    "fig.show()"
   ]
  },
  {
   "cell_type": "markdown",
   "metadata": {},
   "source": [
    "#### Значение целевой функции:"
   ]
  },
  {
   "cell_type": "code",
   "execution_count": 120,
   "metadata": {},
   "outputs": [
    {
     "name": "stdout",
     "output_type": "stream",
     "text": [
      "0.2624014886357103\n"
     ]
    }
   ],
   "source": [
    "print(true_opt_solution.fun)"
   ]
  },
  {
   "cell_type": "markdown",
   "metadata": {},
   "source": [
    "### 2. Оценка неопределенности оптимального портфеля в модели Марковица с заданным отн. к риску. "
   ]
  },
  {
   "cell_type": "markdown",
   "metadata": {},
   "source": [
    "#### 2.1 Задаём число наблюдений T=30. С помощью генератора многомерного нормального распределения создаём выборку размера Т из нормального распределения с вектором математических ожиданий  E=(E1, E2, …, EN) и матрицей ковариаций (σi,j). "
   ]
  },
  {
   "cell_type": "code",
   "execution_count": 121,
   "metadata": {},
   "outputs": [
    {
     "data": {
      "text/html": [
       "<div>\n",
       "<style scoped>\n",
       "    .dataframe tbody tr th:only-of-type {\n",
       "        vertical-align: middle;\n",
       "    }\n",
       "\n",
       "    .dataframe tbody tr th {\n",
       "        vertical-align: top;\n",
       "    }\n",
       "\n",
       "    .dataframe thead th {\n",
       "        text-align: right;\n",
       "    }\n",
       "</style>\n",
       "<table border=\"1\" class=\"dataframe\">\n",
       "  <thead>\n",
       "    <tr style=\"text-align: right;\">\n",
       "      <th></th>\n",
       "      <th>MDLZ</th>\n",
       "      <th>MSFT</th>\n",
       "      <th>NXPI</th>\n",
       "      <th>PCAR</th>\n",
       "      <th>INTC</th>\n",
       "      <th>NVDA</th>\n",
       "      <th>ILMN</th>\n",
       "      <th>DXCM</th>\n",
       "      <th>ROST</th>\n",
       "      <th>LULU</th>\n",
       "      <th>PRFT</th>\n",
       "      <th>FTNT</th>\n",
       "      <th>WIRE</th>\n",
       "      <th>NFLX</th>\n",
       "      <th>GAIN</th>\n",
       "      <th>SYNA</th>\n",
       "      <th>NYMTP</th>\n",
       "      <th>ANAT</th>\n",
       "      <th>TRNS</th>\n",
       "      <th>SFBS</th>\n",
       "    </tr>\n",
       "  </thead>\n",
       "  <tbody>\n",
       "    <tr>\n",
       "      <th>0</th>\n",
       "      <td>-0.627235</td>\n",
       "      <td>-2.696205</td>\n",
       "      <td>-0.236222</td>\n",
       "      <td>-0.993358</td>\n",
       "      <td>-0.585076</td>\n",
       "      <td>-1.861673</td>\n",
       "      <td>-0.615184</td>\n",
       "      <td>-0.354867</td>\n",
       "      <td>-0.248533</td>\n",
       "      <td>-1.714950</td>\n",
       "      <td>-1.239607</td>\n",
       "      <td>-1.420831</td>\n",
       "      <td>-1.367469</td>\n",
       "      <td>-1.970434</td>\n",
       "      <td>-2.036409</td>\n",
       "      <td>-1.493213</td>\n",
       "      <td>-0.396817</td>\n",
       "      <td>0.480171</td>\n",
       "      <td>-0.503270</td>\n",
       "      <td>0.341944</td>\n",
       "    </tr>\n",
       "    <tr>\n",
       "      <th>1</th>\n",
       "      <td>0.047153</td>\n",
       "      <td>0.575098</td>\n",
       "      <td>-1.920844</td>\n",
       "      <td>-1.427491</td>\n",
       "      <td>-1.370342</td>\n",
       "      <td>-0.463954</td>\n",
       "      <td>-1.027600</td>\n",
       "      <td>-0.636766</td>\n",
       "      <td>-0.053583</td>\n",
       "      <td>-1.798055</td>\n",
       "      <td>-0.835974</td>\n",
       "      <td>-1.988900</td>\n",
       "      <td>0.147973</td>\n",
       "      <td>0.865198</td>\n",
       "      <td>-1.104330</td>\n",
       "      <td>-0.611693</td>\n",
       "      <td>0.149232</td>\n",
       "      <td>-1.736447</td>\n",
       "      <td>0.273499</td>\n",
       "      <td>-0.868628</td>\n",
       "    </tr>\n",
       "    <tr>\n",
       "      <th>2</th>\n",
       "      <td>0.550195</td>\n",
       "      <td>0.926836</td>\n",
       "      <td>0.695616</td>\n",
       "      <td>-0.054431</td>\n",
       "      <td>0.371789</td>\n",
       "      <td>0.153989</td>\n",
       "      <td>0.460374</td>\n",
       "      <td>1.071474</td>\n",
       "      <td>0.691710</td>\n",
       "      <td>0.774287</td>\n",
       "      <td>0.967844</td>\n",
       "      <td>0.854714</td>\n",
       "      <td>0.648789</td>\n",
       "      <td>1.018313</td>\n",
       "      <td>-1.587213</td>\n",
       "      <td>-0.041203</td>\n",
       "      <td>-2.067031</td>\n",
       "      <td>0.263773</td>\n",
       "      <td>0.631462</td>\n",
       "      <td>0.672410</td>\n",
       "    </tr>\n",
       "    <tr>\n",
       "      <th>3</th>\n",
       "      <td>0.717426</td>\n",
       "      <td>-0.122339</td>\n",
       "      <td>0.393722</td>\n",
       "      <td>3.275798</td>\n",
       "      <td>-0.044277</td>\n",
       "      <td>0.831878</td>\n",
       "      <td>-1.574107</td>\n",
       "      <td>-0.818764</td>\n",
       "      <td>0.757507</td>\n",
       "      <td>0.085336</td>\n",
       "      <td>1.567446</td>\n",
       "      <td>-0.072257</td>\n",
       "      <td>1.541345</td>\n",
       "      <td>-0.789956</td>\n",
       "      <td>2.222876</td>\n",
       "      <td>1.378341</td>\n",
       "      <td>1.136519</td>\n",
       "      <td>0.619370</td>\n",
       "      <td>0.337246</td>\n",
       "      <td>0.588897</td>\n",
       "    </tr>\n",
       "    <tr>\n",
       "      <th>4</th>\n",
       "      <td>0.847346</td>\n",
       "      <td>1.591711</td>\n",
       "      <td>0.691705</td>\n",
       "      <td>-0.493940</td>\n",
       "      <td>0.693623</td>\n",
       "      <td>1.186289</td>\n",
       "      <td>1.332957</td>\n",
       "      <td>0.996069</td>\n",
       "      <td>0.292041</td>\n",
       "      <td>0.163742</td>\n",
       "      <td>-0.232307</td>\n",
       "      <td>0.611165</td>\n",
       "      <td>-0.234855</td>\n",
       "      <td>0.235335</td>\n",
       "      <td>1.274978</td>\n",
       "      <td>-0.240999</td>\n",
       "      <td>1.013698</td>\n",
       "      <td>1.131040</td>\n",
       "      <td>1.303682</td>\n",
       "      <td>-1.045474</td>\n",
       "    </tr>\n",
       "    <tr>\n",
       "      <th>5</th>\n",
       "      <td>-2.098856</td>\n",
       "      <td>-2.376235</td>\n",
       "      <td>-1.694852</td>\n",
       "      <td>0.701301</td>\n",
       "      <td>-1.050432</td>\n",
       "      <td>-0.646040</td>\n",
       "      <td>0.302559</td>\n",
       "      <td>0.813228</td>\n",
       "      <td>1.231665</td>\n",
       "      <td>0.068127</td>\n",
       "      <td>-0.649822</td>\n",
       "      <td>-1.354894</td>\n",
       "      <td>0.792338</td>\n",
       "      <td>-0.471953</td>\n",
       "      <td>0.641294</td>\n",
       "      <td>-0.687950</td>\n",
       "      <td>-0.776678</td>\n",
       "      <td>1.660724</td>\n",
       "      <td>1.745020</td>\n",
       "      <td>0.697634</td>\n",
       "    </tr>\n",
       "    <tr>\n",
       "      <th>6</th>\n",
       "      <td>-1.146592</td>\n",
       "      <td>1.657685</td>\n",
       "      <td>1.942332</td>\n",
       "      <td>1.994793</td>\n",
       "      <td>0.340868</td>\n",
       "      <td>2.332664</td>\n",
       "      <td>1.825349</td>\n",
       "      <td>1.227026</td>\n",
       "      <td>-0.432205</td>\n",
       "      <td>1.291522</td>\n",
       "      <td>1.374258</td>\n",
       "      <td>1.850300</td>\n",
       "      <td>1.403639</td>\n",
       "      <td>0.525273</td>\n",
       "      <td>1.283443</td>\n",
       "      <td>2.142445</td>\n",
       "      <td>1.799885</td>\n",
       "      <td>1.089061</td>\n",
       "      <td>-0.060740</td>\n",
       "      <td>0.843985</td>\n",
       "    </tr>\n",
       "    <tr>\n",
       "      <th>7</th>\n",
       "      <td>0.603169</td>\n",
       "      <td>0.419405</td>\n",
       "      <td>1.115686</td>\n",
       "      <td>-1.905140</td>\n",
       "      <td>-0.508409</td>\n",
       "      <td>1.425505</td>\n",
       "      <td>1.009655</td>\n",
       "      <td>0.934455</td>\n",
       "      <td>0.837551</td>\n",
       "      <td>1.515651</td>\n",
       "      <td>0.871834</td>\n",
       "      <td>1.190555</td>\n",
       "      <td>0.163270</td>\n",
       "      <td>-0.963030</td>\n",
       "      <td>-0.876331</td>\n",
       "      <td>0.866669</td>\n",
       "      <td>-0.882805</td>\n",
       "      <td>0.533706</td>\n",
       "      <td>-0.110640</td>\n",
       "      <td>-0.601172</td>\n",
       "    </tr>\n",
       "    <tr>\n",
       "      <th>8</th>\n",
       "      <td>0.363336</td>\n",
       "      <td>-1.531169</td>\n",
       "      <td>-0.508107</td>\n",
       "      <td>-2.069387</td>\n",
       "      <td>-0.807192</td>\n",
       "      <td>0.503783</td>\n",
       "      <td>-1.223828</td>\n",
       "      <td>-1.169091</td>\n",
       "      <td>-2.224205</td>\n",
       "      <td>-0.757733</td>\n",
       "      <td>-0.912313</td>\n",
       "      <td>-1.683208</td>\n",
       "      <td>-0.032907</td>\n",
       "      <td>-0.476703</td>\n",
       "      <td>-0.113340</td>\n",
       "      <td>0.253386</td>\n",
       "      <td>0.855771</td>\n",
       "      <td>-0.733822</td>\n",
       "      <td>1.010602</td>\n",
       "      <td>-0.801558</td>\n",
       "    </tr>\n",
       "    <tr>\n",
       "      <th>9</th>\n",
       "      <td>0.139510</td>\n",
       "      <td>-0.133405</td>\n",
       "      <td>-0.199211</td>\n",
       "      <td>0.545375</td>\n",
       "      <td>-0.591656</td>\n",
       "      <td>0.393758</td>\n",
       "      <td>0.360618</td>\n",
       "      <td>1.999389</td>\n",
       "      <td>-2.113711</td>\n",
       "      <td>-1.533998</td>\n",
       "      <td>0.383784</td>\n",
       "      <td>-0.447090</td>\n",
       "      <td>-0.227559</td>\n",
       "      <td>-0.669046</td>\n",
       "      <td>-1.110637</td>\n",
       "      <td>0.307033</td>\n",
       "      <td>-0.355119</td>\n",
       "      <td>-1.108483</td>\n",
       "      <td>2.365440</td>\n",
       "      <td>-0.113780</td>\n",
       "    </tr>\n",
       "    <tr>\n",
       "      <th>10</th>\n",
       "      <td>0.988075</td>\n",
       "      <td>-0.673377</td>\n",
       "      <td>-0.235381</td>\n",
       "      <td>0.519632</td>\n",
       "      <td>0.307180</td>\n",
       "      <td>0.180253</td>\n",
       "      <td>-1.142425</td>\n",
       "      <td>-1.016480</td>\n",
       "      <td>0.211791</td>\n",
       "      <td>0.122610</td>\n",
       "      <td>0.620976</td>\n",
       "      <td>-0.791312</td>\n",
       "      <td>-1.526771</td>\n",
       "      <td>-0.384305</td>\n",
       "      <td>0.320334</td>\n",
       "      <td>-0.546983</td>\n",
       "      <td>0.525187</td>\n",
       "      <td>-1.124401</td>\n",
       "      <td>0.827497</td>\n",
       "      <td>-0.257502</td>\n",
       "    </tr>\n",
       "    <tr>\n",
       "      <th>11</th>\n",
       "      <td>0.113320</td>\n",
       "      <td>0.300208</td>\n",
       "      <td>0.425976</td>\n",
       "      <td>-0.507088</td>\n",
       "      <td>-0.124440</td>\n",
       "      <td>0.900420</td>\n",
       "      <td>-0.643466</td>\n",
       "      <td>-0.276284</td>\n",
       "      <td>-0.513922</td>\n",
       "      <td>0.827468</td>\n",
       "      <td>0.179980</td>\n",
       "      <td>1.032955</td>\n",
       "      <td>-0.182350</td>\n",
       "      <td>1.545854</td>\n",
       "      <td>-0.020814</td>\n",
       "      <td>0.611346</td>\n",
       "      <td>-0.681789</td>\n",
       "      <td>-0.173422</td>\n",
       "      <td>1.593022</td>\n",
       "      <td>0.445900</td>\n",
       "    </tr>\n",
       "    <tr>\n",
       "      <th>12</th>\n",
       "      <td>0.925521</td>\n",
       "      <td>1.310144</td>\n",
       "      <td>0.250219</td>\n",
       "      <td>-1.579470</td>\n",
       "      <td>0.229450</td>\n",
       "      <td>1.371785</td>\n",
       "      <td>1.185811</td>\n",
       "      <td>1.664779</td>\n",
       "      <td>0.514534</td>\n",
       "      <td>0.706933</td>\n",
       "      <td>0.764046</td>\n",
       "      <td>1.556586</td>\n",
       "      <td>0.324830</td>\n",
       "      <td>1.218426</td>\n",
       "      <td>-0.263953</td>\n",
       "      <td>0.005190</td>\n",
       "      <td>1.573637</td>\n",
       "      <td>-0.652015</td>\n",
       "      <td>-0.646065</td>\n",
       "      <td>-0.786359</td>\n",
       "    </tr>\n",
       "    <tr>\n",
       "      <th>13</th>\n",
       "      <td>0.133266</td>\n",
       "      <td>-0.600364</td>\n",
       "      <td>-1.190218</td>\n",
       "      <td>-0.013798</td>\n",
       "      <td>-0.333533</td>\n",
       "      <td>-0.500286</td>\n",
       "      <td>-1.951950</td>\n",
       "      <td>-1.918155</td>\n",
       "      <td>1.904044</td>\n",
       "      <td>-0.570177</td>\n",
       "      <td>-1.721213</td>\n",
       "      <td>-2.030023</td>\n",
       "      <td>1.641336</td>\n",
       "      <td>-0.890808</td>\n",
       "      <td>0.645287</td>\n",
       "      <td>0.457442</td>\n",
       "      <td>-0.177485</td>\n",
       "      <td>-1.088515</td>\n",
       "      <td>0.498293</td>\n",
       "      <td>0.659048</td>\n",
       "    </tr>\n",
       "    <tr>\n",
       "      <th>14</th>\n",
       "      <td>0.555455</td>\n",
       "      <td>-1.200667</td>\n",
       "      <td>-2.429032</td>\n",
       "      <td>-0.506668</td>\n",
       "      <td>-1.281185</td>\n",
       "      <td>-2.692088</td>\n",
       "      <td>-0.790036</td>\n",
       "      <td>-0.640767</td>\n",
       "      <td>-0.412049</td>\n",
       "      <td>-1.552939</td>\n",
       "      <td>0.409907</td>\n",
       "      <td>-0.994759</td>\n",
       "      <td>-1.088201</td>\n",
       "      <td>-0.223661</td>\n",
       "      <td>0.306786</td>\n",
       "      <td>-0.267587</td>\n",
       "      <td>-1.837974</td>\n",
       "      <td>1.356518</td>\n",
       "      <td>0.126824</td>\n",
       "      <td>0.323043</td>\n",
       "    </tr>\n",
       "    <tr>\n",
       "      <th>15</th>\n",
       "      <td>-0.083874</td>\n",
       "      <td>-0.569038</td>\n",
       "      <td>0.325185</td>\n",
       "      <td>1.794546</td>\n",
       "      <td>0.561812</td>\n",
       "      <td>-0.000112</td>\n",
       "      <td>0.140226</td>\n",
       "      <td>0.378522</td>\n",
       "      <td>-0.219496</td>\n",
       "      <td>0.773794</td>\n",
       "      <td>1.206163</td>\n",
       "      <td>-0.546406</td>\n",
       "      <td>-0.737540</td>\n",
       "      <td>-1.010015</td>\n",
       "      <td>1.784876</td>\n",
       "      <td>1.870512</td>\n",
       "      <td>-0.175973</td>\n",
       "      <td>0.077364</td>\n",
       "      <td>0.267375</td>\n",
       "      <td>0.673257</td>\n",
       "    </tr>\n",
       "    <tr>\n",
       "      <th>16</th>\n",
       "      <td>-0.363948</td>\n",
       "      <td>-0.342620</td>\n",
       "      <td>0.574484</td>\n",
       "      <td>1.886867</td>\n",
       "      <td>1.042305</td>\n",
       "      <td>0.983651</td>\n",
       "      <td>0.020959</td>\n",
       "      <td>0.096652</td>\n",
       "      <td>0.159826</td>\n",
       "      <td>1.028180</td>\n",
       "      <td>-0.079450</td>\n",
       "      <td>0.030620</td>\n",
       "      <td>0.600007</td>\n",
       "      <td>0.345968</td>\n",
       "      <td>0.799077</td>\n",
       "      <td>1.367628</td>\n",
       "      <td>0.130669</td>\n",
       "      <td>-0.401902</td>\n",
       "      <td>-1.408480</td>\n",
       "      <td>0.994806</td>\n",
       "    </tr>\n",
       "    <tr>\n",
       "      <th>17</th>\n",
       "      <td>-0.816668</td>\n",
       "      <td>-0.280804</td>\n",
       "      <td>0.044516</td>\n",
       "      <td>0.034708</td>\n",
       "      <td>-1.001973</td>\n",
       "      <td>-0.428343</td>\n",
       "      <td>-1.461925</td>\n",
       "      <td>-0.688583</td>\n",
       "      <td>-1.207492</td>\n",
       "      <td>-2.167958</td>\n",
       "      <td>-0.763217</td>\n",
       "      <td>-1.497656</td>\n",
       "      <td>-0.304124</td>\n",
       "      <td>0.845754</td>\n",
       "      <td>-1.801728</td>\n",
       "      <td>-1.331585</td>\n",
       "      <td>-0.788180</td>\n",
       "      <td>-0.430917</td>\n",
       "      <td>-1.204965</td>\n",
       "      <td>-0.631713</td>\n",
       "    </tr>\n",
       "    <tr>\n",
       "      <th>18</th>\n",
       "      <td>-0.896644</td>\n",
       "      <td>-1.504296</td>\n",
       "      <td>-0.340871</td>\n",
       "      <td>-0.119991</td>\n",
       "      <td>-0.832175</td>\n",
       "      <td>-1.301126</td>\n",
       "      <td>-1.263181</td>\n",
       "      <td>-1.607064</td>\n",
       "      <td>-0.163262</td>\n",
       "      <td>-0.118827</td>\n",
       "      <td>-1.240921</td>\n",
       "      <td>-1.244119</td>\n",
       "      <td>-0.732550</td>\n",
       "      <td>0.662011</td>\n",
       "      <td>0.089004</td>\n",
       "      <td>-0.399922</td>\n",
       "      <td>0.978463</td>\n",
       "      <td>-0.733855</td>\n",
       "      <td>-0.950324</td>\n",
       "      <td>-0.460822</td>\n",
       "    </tr>\n",
       "    <tr>\n",
       "      <th>19</th>\n",
       "      <td>-0.287786</td>\n",
       "      <td>0.760795</td>\n",
       "      <td>-0.047994</td>\n",
       "      <td>0.632207</td>\n",
       "      <td>0.733961</td>\n",
       "      <td>-0.234545</td>\n",
       "      <td>0.723857</td>\n",
       "      <td>-2.313512</td>\n",
       "      <td>0.674526</td>\n",
       "      <td>-0.115671</td>\n",
       "      <td>0.530491</td>\n",
       "      <td>-0.152615</td>\n",
       "      <td>0.995128</td>\n",
       "      <td>-0.806016</td>\n",
       "      <td>-0.209963</td>\n",
       "      <td>-1.343526</td>\n",
       "      <td>1.394222</td>\n",
       "      <td>-0.972507</td>\n",
       "      <td>0.300058</td>\n",
       "      <td>0.584870</td>\n",
       "    </tr>\n",
       "    <tr>\n",
       "      <th>20</th>\n",
       "      <td>-2.514447</td>\n",
       "      <td>-1.509992</td>\n",
       "      <td>-1.545566</td>\n",
       "      <td>-2.380803</td>\n",
       "      <td>-0.808779</td>\n",
       "      <td>-1.026464</td>\n",
       "      <td>-0.696453</td>\n",
       "      <td>-1.410533</td>\n",
       "      <td>-1.408831</td>\n",
       "      <td>-1.711958</td>\n",
       "      <td>-1.791313</td>\n",
       "      <td>-0.693021</td>\n",
       "      <td>0.357967</td>\n",
       "      <td>-1.043299</td>\n",
       "      <td>-2.285524</td>\n",
       "      <td>-1.218361</td>\n",
       "      <td>1.028489</td>\n",
       "      <td>-0.020505</td>\n",
       "      <td>-0.422040</td>\n",
       "      <td>-1.326007</td>\n",
       "    </tr>\n",
       "    <tr>\n",
       "      <th>21</th>\n",
       "      <td>-0.922713</td>\n",
       "      <td>1.114960</td>\n",
       "      <td>-0.493817</td>\n",
       "      <td>-0.848810</td>\n",
       "      <td>-0.319077</td>\n",
       "      <td>2.163802</td>\n",
       "      <td>0.585367</td>\n",
       "      <td>-0.287930</td>\n",
       "      <td>-0.690223</td>\n",
       "      <td>0.420664</td>\n",
       "      <td>0.916400</td>\n",
       "      <td>1.531575</td>\n",
       "      <td>-1.143978</td>\n",
       "      <td>0.908945</td>\n",
       "      <td>-1.291795</td>\n",
       "      <td>0.574006</td>\n",
       "      <td>1.320611</td>\n",
       "      <td>-0.962070</td>\n",
       "      <td>-0.367665</td>\n",
       "      <td>-2.338257</td>\n",
       "    </tr>\n",
       "    <tr>\n",
       "      <th>22</th>\n",
       "      <td>-0.754377</td>\n",
       "      <td>0.181622</td>\n",
       "      <td>-0.088350</td>\n",
       "      <td>-0.696053</td>\n",
       "      <td>0.551490</td>\n",
       "      <td>0.453531</td>\n",
       "      <td>0.223410</td>\n",
       "      <td>1.547354</td>\n",
       "      <td>0.621597</td>\n",
       "      <td>-1.830530</td>\n",
       "      <td>-0.261907</td>\n",
       "      <td>0.440908</td>\n",
       "      <td>-1.047717</td>\n",
       "      <td>0.552386</td>\n",
       "      <td>-0.208676</td>\n",
       "      <td>0.098100</td>\n",
       "      <td>0.758802</td>\n",
       "      <td>-0.247176</td>\n",
       "      <td>-0.100178</td>\n",
       "      <td>-0.247916</td>\n",
       "    </tr>\n",
       "    <tr>\n",
       "      <th>23</th>\n",
       "      <td>0.856789</td>\n",
       "      <td>0.047306</td>\n",
       "      <td>-1.811938</td>\n",
       "      <td>-0.012738</td>\n",
       "      <td>-0.650329</td>\n",
       "      <td>-0.020096</td>\n",
       "      <td>-0.487728</td>\n",
       "      <td>-0.651431</td>\n",
       "      <td>-0.249119</td>\n",
       "      <td>0.696206</td>\n",
       "      <td>-0.789776</td>\n",
       "      <td>0.395069</td>\n",
       "      <td>0.920261</td>\n",
       "      <td>0.821187</td>\n",
       "      <td>0.329459</td>\n",
       "      <td>-0.536515</td>\n",
       "      <td>-0.844839</td>\n",
       "      <td>0.533228</td>\n",
       "      <td>0.892833</td>\n",
       "      <td>-0.433121</td>\n",
       "    </tr>\n",
       "    <tr>\n",
       "      <th>24</th>\n",
       "      <td>0.110739</td>\n",
       "      <td>-0.161595</td>\n",
       "      <td>-0.145267</td>\n",
       "      <td>-0.285291</td>\n",
       "      <td>-1.368084</td>\n",
       "      <td>0.036629</td>\n",
       "      <td>0.619715</td>\n",
       "      <td>-0.003970</td>\n",
       "      <td>-0.925742</td>\n",
       "      <td>-1.523119</td>\n",
       "      <td>1.380320</td>\n",
       "      <td>-0.154057</td>\n",
       "      <td>-1.118766</td>\n",
       "      <td>-0.401035</td>\n",
       "      <td>-2.481024</td>\n",
       "      <td>-0.123533</td>\n",
       "      <td>-0.930146</td>\n",
       "      <td>1.626714</td>\n",
       "      <td>-0.290080</td>\n",
       "      <td>0.615737</td>\n",
       "    </tr>\n",
       "    <tr>\n",
       "      <th>25</th>\n",
       "      <td>-0.171764</td>\n",
       "      <td>0.878235</td>\n",
       "      <td>-0.411712</td>\n",
       "      <td>-1.513558</td>\n",
       "      <td>0.315853</td>\n",
       "      <td>-1.389094</td>\n",
       "      <td>1.004826</td>\n",
       "      <td>1.071861</td>\n",
       "      <td>1.534950</td>\n",
       "      <td>0.984391</td>\n",
       "      <td>0.229801</td>\n",
       "      <td>1.684840</td>\n",
       "      <td>-1.394889</td>\n",
       "      <td>1.233331</td>\n",
       "      <td>0.709291</td>\n",
       "      <td>-1.250697</td>\n",
       "      <td>-0.919273</td>\n",
       "      <td>-1.038935</td>\n",
       "      <td>-0.162662</td>\n",
       "      <td>-0.589793</td>\n",
       "    </tr>\n",
       "    <tr>\n",
       "      <th>26</th>\n",
       "      <td>2.403020</td>\n",
       "      <td>2.324167</td>\n",
       "      <td>-0.271561</td>\n",
       "      <td>-0.242700</td>\n",
       "      <td>-0.219302</td>\n",
       "      <td>1.435586</td>\n",
       "      <td>0.279519</td>\n",
       "      <td>-0.469039</td>\n",
       "      <td>2.965858</td>\n",
       "      <td>1.850529</td>\n",
       "      <td>1.763473</td>\n",
       "      <td>1.961852</td>\n",
       "      <td>1.112634</td>\n",
       "      <td>1.471020</td>\n",
       "      <td>0.652559</td>\n",
       "      <td>0.534867</td>\n",
       "      <td>0.871786</td>\n",
       "      <td>0.118137</td>\n",
       "      <td>-0.004704</td>\n",
       "      <td>0.390833</td>\n",
       "    </tr>\n",
       "    <tr>\n",
       "      <th>27</th>\n",
       "      <td>0.508012</td>\n",
       "      <td>0.322307</td>\n",
       "      <td>0.845244</td>\n",
       "      <td>-1.045044</td>\n",
       "      <td>-0.013305</td>\n",
       "      <td>0.075293</td>\n",
       "      <td>1.330540</td>\n",
       "      <td>1.159017</td>\n",
       "      <td>-0.716876</td>\n",
       "      <td>1.266465</td>\n",
       "      <td>-0.524888</td>\n",
       "      <td>-0.215990</td>\n",
       "      <td>0.951581</td>\n",
       "      <td>0.596216</td>\n",
       "      <td>1.169093</td>\n",
       "      <td>-0.178665</td>\n",
       "      <td>-0.159312</td>\n",
       "      <td>-0.419445</td>\n",
       "      <td>0.958512</td>\n",
       "      <td>-0.254442</td>\n",
       "    </tr>\n",
       "    <tr>\n",
       "      <th>28</th>\n",
       "      <td>-0.863984</td>\n",
       "      <td>0.151920</td>\n",
       "      <td>-0.489881</td>\n",
       "      <td>0.444767</td>\n",
       "      <td>0.575048</td>\n",
       "      <td>-0.844878</td>\n",
       "      <td>-0.130928</td>\n",
       "      <td>-0.940290</td>\n",
       "      <td>0.824925</td>\n",
       "      <td>0.190431</td>\n",
       "      <td>-0.929937</td>\n",
       "      <td>-0.783325</td>\n",
       "      <td>0.053804</td>\n",
       "      <td>-1.148530</td>\n",
       "      <td>-0.100906</td>\n",
       "      <td>-0.419017</td>\n",
       "      <td>-1.040151</td>\n",
       "      <td>-1.292333</td>\n",
       "      <td>-0.525463</td>\n",
       "      <td>-1.159831</td>\n",
       "    </tr>\n",
       "    <tr>\n",
       "      <th>29</th>\n",
       "      <td>0.518159</td>\n",
       "      <td>0.507805</td>\n",
       "      <td>-2.424036</td>\n",
       "      <td>-1.602739</td>\n",
       "      <td>-1.485204</td>\n",
       "      <td>-0.562701</td>\n",
       "      <td>0.070465</td>\n",
       "      <td>1.174377</td>\n",
       "      <td>-0.667404</td>\n",
       "      <td>0.758194</td>\n",
       "      <td>-0.847833</td>\n",
       "      <td>0.337903</td>\n",
       "      <td>-2.230530</td>\n",
       "      <td>0.127667</td>\n",
       "      <td>-0.145009</td>\n",
       "      <td>-2.140578</td>\n",
       "      <td>-0.167724</td>\n",
       "      <td>-1.004651</td>\n",
       "      <td>-0.767995</td>\n",
       "      <td>-0.731863</td>\n",
       "    </tr>\n",
       "  </tbody>\n",
       "</table>\n",
       "</div>"
      ],
      "text/plain": [
       "        MDLZ      MSFT      NXPI      PCAR      INTC      NVDA      ILMN  \\\n",
       "0  -0.627235 -2.696205 -0.236222 -0.993358 -0.585076 -1.861673 -0.615184   \n",
       "1   0.047153  0.575098 -1.920844 -1.427491 -1.370342 -0.463954 -1.027600   \n",
       "2   0.550195  0.926836  0.695616 -0.054431  0.371789  0.153989  0.460374   \n",
       "3   0.717426 -0.122339  0.393722  3.275798 -0.044277  0.831878 -1.574107   \n",
       "4   0.847346  1.591711  0.691705 -0.493940  0.693623  1.186289  1.332957   \n",
       "5  -2.098856 -2.376235 -1.694852  0.701301 -1.050432 -0.646040  0.302559   \n",
       "6  -1.146592  1.657685  1.942332  1.994793  0.340868  2.332664  1.825349   \n",
       "7   0.603169  0.419405  1.115686 -1.905140 -0.508409  1.425505  1.009655   \n",
       "8   0.363336 -1.531169 -0.508107 -2.069387 -0.807192  0.503783 -1.223828   \n",
       "9   0.139510 -0.133405 -0.199211  0.545375 -0.591656  0.393758  0.360618   \n",
       "10  0.988075 -0.673377 -0.235381  0.519632  0.307180  0.180253 -1.142425   \n",
       "11  0.113320  0.300208  0.425976 -0.507088 -0.124440  0.900420 -0.643466   \n",
       "12  0.925521  1.310144  0.250219 -1.579470  0.229450  1.371785  1.185811   \n",
       "13  0.133266 -0.600364 -1.190218 -0.013798 -0.333533 -0.500286 -1.951950   \n",
       "14  0.555455 -1.200667 -2.429032 -0.506668 -1.281185 -2.692088 -0.790036   \n",
       "15 -0.083874 -0.569038  0.325185  1.794546  0.561812 -0.000112  0.140226   \n",
       "16 -0.363948 -0.342620  0.574484  1.886867  1.042305  0.983651  0.020959   \n",
       "17 -0.816668 -0.280804  0.044516  0.034708 -1.001973 -0.428343 -1.461925   \n",
       "18 -0.896644 -1.504296 -0.340871 -0.119991 -0.832175 -1.301126 -1.263181   \n",
       "19 -0.287786  0.760795 -0.047994  0.632207  0.733961 -0.234545  0.723857   \n",
       "20 -2.514447 -1.509992 -1.545566 -2.380803 -0.808779 -1.026464 -0.696453   \n",
       "21 -0.922713  1.114960 -0.493817 -0.848810 -0.319077  2.163802  0.585367   \n",
       "22 -0.754377  0.181622 -0.088350 -0.696053  0.551490  0.453531  0.223410   \n",
       "23  0.856789  0.047306 -1.811938 -0.012738 -0.650329 -0.020096 -0.487728   \n",
       "24  0.110739 -0.161595 -0.145267 -0.285291 -1.368084  0.036629  0.619715   \n",
       "25 -0.171764  0.878235 -0.411712 -1.513558  0.315853 -1.389094  1.004826   \n",
       "26  2.403020  2.324167 -0.271561 -0.242700 -0.219302  1.435586  0.279519   \n",
       "27  0.508012  0.322307  0.845244 -1.045044 -0.013305  0.075293  1.330540   \n",
       "28 -0.863984  0.151920 -0.489881  0.444767  0.575048 -0.844878 -0.130928   \n",
       "29  0.518159  0.507805 -2.424036 -1.602739 -1.485204 -0.562701  0.070465   \n",
       "\n",
       "        DXCM      ROST      LULU      PRFT      FTNT      WIRE      NFLX  \\\n",
       "0  -0.354867 -0.248533 -1.714950 -1.239607 -1.420831 -1.367469 -1.970434   \n",
       "1  -0.636766 -0.053583 -1.798055 -0.835974 -1.988900  0.147973  0.865198   \n",
       "2   1.071474  0.691710  0.774287  0.967844  0.854714  0.648789  1.018313   \n",
       "3  -0.818764  0.757507  0.085336  1.567446 -0.072257  1.541345 -0.789956   \n",
       "4   0.996069  0.292041  0.163742 -0.232307  0.611165 -0.234855  0.235335   \n",
       "5   0.813228  1.231665  0.068127 -0.649822 -1.354894  0.792338 -0.471953   \n",
       "6   1.227026 -0.432205  1.291522  1.374258  1.850300  1.403639  0.525273   \n",
       "7   0.934455  0.837551  1.515651  0.871834  1.190555  0.163270 -0.963030   \n",
       "8  -1.169091 -2.224205 -0.757733 -0.912313 -1.683208 -0.032907 -0.476703   \n",
       "9   1.999389 -2.113711 -1.533998  0.383784 -0.447090 -0.227559 -0.669046   \n",
       "10 -1.016480  0.211791  0.122610  0.620976 -0.791312 -1.526771 -0.384305   \n",
       "11 -0.276284 -0.513922  0.827468  0.179980  1.032955 -0.182350  1.545854   \n",
       "12  1.664779  0.514534  0.706933  0.764046  1.556586  0.324830  1.218426   \n",
       "13 -1.918155  1.904044 -0.570177 -1.721213 -2.030023  1.641336 -0.890808   \n",
       "14 -0.640767 -0.412049 -1.552939  0.409907 -0.994759 -1.088201 -0.223661   \n",
       "15  0.378522 -0.219496  0.773794  1.206163 -0.546406 -0.737540 -1.010015   \n",
       "16  0.096652  0.159826  1.028180 -0.079450  0.030620  0.600007  0.345968   \n",
       "17 -0.688583 -1.207492 -2.167958 -0.763217 -1.497656 -0.304124  0.845754   \n",
       "18 -1.607064 -0.163262 -0.118827 -1.240921 -1.244119 -0.732550  0.662011   \n",
       "19 -2.313512  0.674526 -0.115671  0.530491 -0.152615  0.995128 -0.806016   \n",
       "20 -1.410533 -1.408831 -1.711958 -1.791313 -0.693021  0.357967 -1.043299   \n",
       "21 -0.287930 -0.690223  0.420664  0.916400  1.531575 -1.143978  0.908945   \n",
       "22  1.547354  0.621597 -1.830530 -0.261907  0.440908 -1.047717  0.552386   \n",
       "23 -0.651431 -0.249119  0.696206 -0.789776  0.395069  0.920261  0.821187   \n",
       "24 -0.003970 -0.925742 -1.523119  1.380320 -0.154057 -1.118766 -0.401035   \n",
       "25  1.071861  1.534950  0.984391  0.229801  1.684840 -1.394889  1.233331   \n",
       "26 -0.469039  2.965858  1.850529  1.763473  1.961852  1.112634  1.471020   \n",
       "27  1.159017 -0.716876  1.266465 -0.524888 -0.215990  0.951581  0.596216   \n",
       "28 -0.940290  0.824925  0.190431 -0.929937 -0.783325  0.053804 -1.148530   \n",
       "29  1.174377 -0.667404  0.758194 -0.847833  0.337903 -2.230530  0.127667   \n",
       "\n",
       "        GAIN      SYNA     NYMTP      ANAT      TRNS      SFBS  \n",
       "0  -2.036409 -1.493213 -0.396817  0.480171 -0.503270  0.341944  \n",
       "1  -1.104330 -0.611693  0.149232 -1.736447  0.273499 -0.868628  \n",
       "2  -1.587213 -0.041203 -2.067031  0.263773  0.631462  0.672410  \n",
       "3   2.222876  1.378341  1.136519  0.619370  0.337246  0.588897  \n",
       "4   1.274978 -0.240999  1.013698  1.131040  1.303682 -1.045474  \n",
       "5   0.641294 -0.687950 -0.776678  1.660724  1.745020  0.697634  \n",
       "6   1.283443  2.142445  1.799885  1.089061 -0.060740  0.843985  \n",
       "7  -0.876331  0.866669 -0.882805  0.533706 -0.110640 -0.601172  \n",
       "8  -0.113340  0.253386  0.855771 -0.733822  1.010602 -0.801558  \n",
       "9  -1.110637  0.307033 -0.355119 -1.108483  2.365440 -0.113780  \n",
       "10  0.320334 -0.546983  0.525187 -1.124401  0.827497 -0.257502  \n",
       "11 -0.020814  0.611346 -0.681789 -0.173422  1.593022  0.445900  \n",
       "12 -0.263953  0.005190  1.573637 -0.652015 -0.646065 -0.786359  \n",
       "13  0.645287  0.457442 -0.177485 -1.088515  0.498293  0.659048  \n",
       "14  0.306786 -0.267587 -1.837974  1.356518  0.126824  0.323043  \n",
       "15  1.784876  1.870512 -0.175973  0.077364  0.267375  0.673257  \n",
       "16  0.799077  1.367628  0.130669 -0.401902 -1.408480  0.994806  \n",
       "17 -1.801728 -1.331585 -0.788180 -0.430917 -1.204965 -0.631713  \n",
       "18  0.089004 -0.399922  0.978463 -0.733855 -0.950324 -0.460822  \n",
       "19 -0.209963 -1.343526  1.394222 -0.972507  0.300058  0.584870  \n",
       "20 -2.285524 -1.218361  1.028489 -0.020505 -0.422040 -1.326007  \n",
       "21 -1.291795  0.574006  1.320611 -0.962070 -0.367665 -2.338257  \n",
       "22 -0.208676  0.098100  0.758802 -0.247176 -0.100178 -0.247916  \n",
       "23  0.329459 -0.536515 -0.844839  0.533228  0.892833 -0.433121  \n",
       "24 -2.481024 -0.123533 -0.930146  1.626714 -0.290080  0.615737  \n",
       "25  0.709291 -1.250697 -0.919273 -1.038935 -0.162662 -0.589793  \n",
       "26  0.652559  0.534867  0.871786  0.118137 -0.004704  0.390833  \n",
       "27  1.169093 -0.178665 -0.159312 -0.419445  0.958512 -0.254442  \n",
       "28 -0.100906 -0.419017 -1.040151 -1.292333 -0.525463 -1.159831  \n",
       "29 -0.145009 -2.140578 -0.167724 -1.004651 -0.767995 -0.731863  "
      ]
     },
     "execution_count": 121,
     "metadata": {},
     "output_type": "execute_result"
    }
   ],
   "source": [
    "T = 30\n",
    "sample_raw = np.random.multivariate_normal(estims['logret_mean'], cov_matrix, T)\n",
    "sample = pd.DataFrame(columns=assets, data=sample_raw)\n",
    "sample"
   ]
  },
  {
   "cell_type": "markdown",
   "metadata": {},
   "source": [
    "#### 2.2 По построенной выборке делаем оценку Eest вектора математических ожиданий ..."
   ]
  },
  {
   "cell_type": "code",
   "execution_count": 122,
   "metadata": {},
   "outputs": [
    {
     "data": {
      "text/plain": [
       "MDLZ    -0.038947\n",
       "MSFT    -0.021063\n",
       "NXPI    -0.306006\n",
       "PCAR    -0.215617\n",
       "INTC    -0.255713\n",
       "NVDA     0.081914\n",
       "ILMN    -0.051087\n",
       "DXCM    -0.035644\n",
       "ROST     0.032529\n",
       "LULU    -0.062379\n",
       "PRFT     0.011542\n",
       "FTNT    -0.086381\n",
       "WIRE    -0.057177\n",
       "NFLX     0.057470\n",
       "GAIN    -0.113643\n",
       "SYNA    -0.078835\n",
       "NYMTP    0.044523\n",
       "ANAT    -0.155053\n",
       "TRNS     0.186870\n",
       "SFBS    -0.160529\n",
       "dtype: float64"
      ]
     },
     "execution_count": 122,
     "metadata": {},
     "output_type": "execute_result"
    }
   ],
   "source": [
    "estE = sample.mean()\n",
    "estE"
   ]
  },
  {
   "cell_type": "markdown",
   "metadata": {},
   "source": [
    "#### ... и оценку (σesti,j) матрицы ковариаций. "
   ]
  },
  {
   "cell_type": "code",
   "execution_count": 123,
   "metadata": {},
   "outputs": [
    {
     "data": {
      "text/html": [
       "<div>\n",
       "<style scoped>\n",
       "    .dataframe tbody tr th:only-of-type {\n",
       "        vertical-align: middle;\n",
       "    }\n",
       "\n",
       "    .dataframe tbody tr th {\n",
       "        vertical-align: top;\n",
       "    }\n",
       "\n",
       "    .dataframe thead th {\n",
       "        text-align: right;\n",
       "    }\n",
       "</style>\n",
       "<table border=\"1\" class=\"dataframe\">\n",
       "  <thead>\n",
       "    <tr style=\"text-align: right;\">\n",
       "      <th></th>\n",
       "      <th>MDLZ</th>\n",
       "      <th>MSFT</th>\n",
       "      <th>NXPI</th>\n",
       "      <th>PCAR</th>\n",
       "      <th>INTC</th>\n",
       "      <th>NVDA</th>\n",
       "      <th>ILMN</th>\n",
       "      <th>DXCM</th>\n",
       "      <th>ROST</th>\n",
       "      <th>LULU</th>\n",
       "      <th>PRFT</th>\n",
       "      <th>FTNT</th>\n",
       "      <th>WIRE</th>\n",
       "      <th>NFLX</th>\n",
       "      <th>GAIN</th>\n",
       "      <th>SYNA</th>\n",
       "      <th>NYMTP</th>\n",
       "      <th>ANAT</th>\n",
       "      <th>TRNS</th>\n",
       "      <th>SFBS</th>\n",
       "    </tr>\n",
       "  </thead>\n",
       "  <tbody>\n",
       "    <tr>\n",
       "      <th>MDLZ</th>\n",
       "      <td>1.000000</td>\n",
       "      <td>0.484394</td>\n",
       "      <td>0.108162</td>\n",
       "      <td>-0.011557</td>\n",
       "      <td>0.094445</td>\n",
       "      <td>0.257004</td>\n",
       "      <td>0.047843</td>\n",
       "      <td>0.110541</td>\n",
       "      <td>0.287987</td>\n",
       "      <td>0.381246</td>\n",
       "      <td>0.447187</td>\n",
       "      <td>0.306702</td>\n",
       "      <td>0.052157</td>\n",
       "      <td>0.283376</td>\n",
       "      <td>0.291273</td>\n",
       "      <td>0.158549</td>\n",
       "      <td>-0.065786</td>\n",
       "      <td>-0.035961</td>\n",
       "      <td>0.193361</td>\n",
       "      <td>0.131271</td>\n",
       "    </tr>\n",
       "    <tr>\n",
       "      <th>MSFT</th>\n",
       "      <td>0.484394</td>\n",
       "      <td>1.000000</td>\n",
       "      <td>0.384935</td>\n",
       "      <td>0.023687</td>\n",
       "      <td>0.399469</td>\n",
       "      <td>0.638039</td>\n",
       "      <td>0.568916</td>\n",
       "      <td>0.343025</td>\n",
       "      <td>0.328390</td>\n",
       "      <td>0.522046</td>\n",
       "      <td>0.549409</td>\n",
       "      <td>0.761975</td>\n",
       "      <td>0.203952</td>\n",
       "      <td>0.602605</td>\n",
       "      <td>0.198767</td>\n",
       "      <td>0.253612</td>\n",
       "      <td>0.252754</td>\n",
       "      <td>-0.141428</td>\n",
       "      <td>-0.032538</td>\n",
       "      <td>-0.142309</td>\n",
       "    </tr>\n",
       "    <tr>\n",
       "      <th>NXPI</th>\n",
       "      <td>0.108162</td>\n",
       "      <td>0.384935</td>\n",
       "      <td>1.000000</td>\n",
       "      <td>0.339197</td>\n",
       "      <td>0.643329</td>\n",
       "      <td>0.624239</td>\n",
       "      <td>0.470778</td>\n",
       "      <td>0.322613</td>\n",
       "      <td>0.053697</td>\n",
       "      <td>0.403862</td>\n",
       "      <td>0.500476</td>\n",
       "      <td>0.456599</td>\n",
       "      <td>0.275316</td>\n",
       "      <td>0.105243</td>\n",
       "      <td>0.195731</td>\n",
       "      <td>0.577232</td>\n",
       "      <td>0.257153</td>\n",
       "      <td>0.144766</td>\n",
       "      <td>-0.006814</td>\n",
       "      <td>0.244496</td>\n",
       "    </tr>\n",
       "    <tr>\n",
       "      <th>PCAR</th>\n",
       "      <td>-0.011557</td>\n",
       "      <td>0.023687</td>\n",
       "      <td>0.339197</td>\n",
       "      <td>1.000000</td>\n",
       "      <td>0.410015</td>\n",
       "      <td>0.208781</td>\n",
       "      <td>-0.070431</td>\n",
       "      <td>-0.070351</td>\n",
       "      <td>0.182665</td>\n",
       "      <td>0.182100</td>\n",
       "      <td>0.414904</td>\n",
       "      <td>-0.012870</td>\n",
       "      <td>0.374608</td>\n",
       "      <td>-0.147744</td>\n",
       "      <td>0.532052</td>\n",
       "      <td>0.541629</td>\n",
       "      <td>0.094666</td>\n",
       "      <td>0.229353</td>\n",
       "      <td>0.078605</td>\n",
       "      <td>0.609444</td>\n",
       "    </tr>\n",
       "    <tr>\n",
       "      <th>INTC</th>\n",
       "      <td>0.094445</td>\n",
       "      <td>0.399469</td>\n",
       "      <td>0.643329</td>\n",
       "      <td>0.410015</td>\n",
       "      <td>1.000000</td>\n",
       "      <td>0.398309</td>\n",
       "      <td>0.387652</td>\n",
       "      <td>0.152732</td>\n",
       "      <td>0.368373</td>\n",
       "      <td>0.459935</td>\n",
       "      <td>0.311697</td>\n",
       "      <td>0.414877</td>\n",
       "      <td>0.250697</td>\n",
       "      <td>0.071348</td>\n",
       "      <td>0.457021</td>\n",
       "      <td>0.402029</td>\n",
       "      <td>0.276633</td>\n",
       "      <td>-0.130701</td>\n",
       "      <td>-0.003312</td>\n",
       "      <td>0.182272</td>\n",
       "    </tr>\n",
       "    <tr>\n",
       "      <th>NVDA</th>\n",
       "      <td>0.257004</td>\n",
       "      <td>0.638039</td>\n",
       "      <td>0.624239</td>\n",
       "      <td>0.208781</td>\n",
       "      <td>0.398309</td>\n",
       "      <td>1.000000</td>\n",
       "      <td>0.442922</td>\n",
       "      <td>0.334673</td>\n",
       "      <td>0.055493</td>\n",
       "      <td>0.504089</td>\n",
       "      <td>0.551419</td>\n",
       "      <td>0.624704</td>\n",
       "      <td>0.344305</td>\n",
       "      <td>0.343692</td>\n",
       "      <td>0.204569</td>\n",
       "      <td>0.640720</td>\n",
       "      <td>0.511203</td>\n",
       "      <td>0.043695</td>\n",
       "      <td>0.116852</td>\n",
       "      <td>-0.057290</td>\n",
       "    </tr>\n",
       "    <tr>\n",
       "      <th>ILMN</th>\n",
       "      <td>0.047843</td>\n",
       "      <td>0.568916</td>\n",
       "      <td>0.470778</td>\n",
       "      <td>-0.070431</td>\n",
       "      <td>0.387652</td>\n",
       "      <td>0.442922</td>\n",
       "      <td>1.000000</td>\n",
       "      <td>0.692296</td>\n",
       "      <td>0.107888</td>\n",
       "      <td>0.489470</td>\n",
       "      <td>0.457815</td>\n",
       "      <td>0.706338</td>\n",
       "      <td>0.024287</td>\n",
       "      <td>0.227206</td>\n",
       "      <td>0.090409</td>\n",
       "      <td>0.159638</td>\n",
       "      <td>0.118784</td>\n",
       "      <td>0.251903</td>\n",
       "      <td>0.066602</td>\n",
       "      <td>-0.023892</td>\n",
       "    </tr>\n",
       "    <tr>\n",
       "      <th>DXCM</th>\n",
       "      <td>0.110541</td>\n",
       "      <td>0.343025</td>\n",
       "      <td>0.322613</td>\n",
       "      <td>-0.070351</td>\n",
       "      <td>0.152732</td>\n",
       "      <td>0.334673</td>\n",
       "      <td>0.692296</td>\n",
       "      <td>1.000000</td>\n",
       "      <td>-0.047689</td>\n",
       "      <td>0.259949</td>\n",
       "      <td>0.320913</td>\n",
       "      <td>0.512944</td>\n",
       "      <td>-0.171508</td>\n",
       "      <td>0.279647</td>\n",
       "      <td>0.080180</td>\n",
       "      <td>0.178550</td>\n",
       "      <td>-0.130480</td>\n",
       "      <td>0.211505</td>\n",
       "      <td>0.184829</td>\n",
       "      <td>0.011351</td>\n",
       "    </tr>\n",
       "    <tr>\n",
       "      <th>ROST</th>\n",
       "      <td>0.287987</td>\n",
       "      <td>0.328390</td>\n",
       "      <td>0.053697</td>\n",
       "      <td>0.182665</td>\n",
       "      <td>0.368373</td>\n",
       "      <td>0.055493</td>\n",
       "      <td>0.107888</td>\n",
       "      <td>-0.047689</td>\n",
       "      <td>1.000000</td>\n",
       "      <td>0.449379</td>\n",
       "      <td>0.224010</td>\n",
       "      <td>0.290252</td>\n",
       "      <td>0.316487</td>\n",
       "      <td>0.145370</td>\n",
       "      <td>0.386814</td>\n",
       "      <td>0.086531</td>\n",
       "      <td>-0.019597</td>\n",
       "      <td>0.048742</td>\n",
       "      <td>-0.096656</td>\n",
       "      <td>0.282513</td>\n",
       "    </tr>\n",
       "    <tr>\n",
       "      <th>LULU</th>\n",
       "      <td>0.381246</td>\n",
       "      <td>0.522046</td>\n",
       "      <td>0.403862</td>\n",
       "      <td>0.182100</td>\n",
       "      <td>0.459935</td>\n",
       "      <td>0.504089</td>\n",
       "      <td>0.489470</td>\n",
       "      <td>0.259949</td>\n",
       "      <td>0.449379</td>\n",
       "      <td>1.000000</td>\n",
       "      <td>0.428039</td>\n",
       "      <td>0.669768</td>\n",
       "      <td>0.282949</td>\n",
       "      <td>0.347812</td>\n",
       "      <td>0.559578</td>\n",
       "      <td>0.389287</td>\n",
       "      <td>0.098313</td>\n",
       "      <td>0.038968</td>\n",
       "      <td>0.034662</td>\n",
       "      <td>0.127153</td>\n",
       "    </tr>\n",
       "    <tr>\n",
       "      <th>PRFT</th>\n",
       "      <td>0.447187</td>\n",
       "      <td>0.549409</td>\n",
       "      <td>0.500476</td>\n",
       "      <td>0.414904</td>\n",
       "      <td>0.311697</td>\n",
       "      <td>0.551419</td>\n",
       "      <td>0.457815</td>\n",
       "      <td>0.320913</td>\n",
       "      <td>0.224010</td>\n",
       "      <td>0.428039</td>\n",
       "      <td>1.000000</td>\n",
       "      <td>0.642048</td>\n",
       "      <td>0.074675</td>\n",
       "      <td>0.219842</td>\n",
       "      <td>0.224756</td>\n",
       "      <td>0.557075</td>\n",
       "      <td>0.104997</td>\n",
       "      <td>0.309453</td>\n",
       "      <td>0.076212</td>\n",
       "      <td>0.316049</td>\n",
       "    </tr>\n",
       "    <tr>\n",
       "      <th>FTNT</th>\n",
       "      <td>0.306702</td>\n",
       "      <td>0.761975</td>\n",
       "      <td>0.456599</td>\n",
       "      <td>-0.012870</td>\n",
       "      <td>0.414877</td>\n",
       "      <td>0.624704</td>\n",
       "      <td>0.706338</td>\n",
       "      <td>0.512944</td>\n",
       "      <td>0.290252</td>\n",
       "      <td>0.669768</td>\n",
       "      <td>0.642048</td>\n",
       "      <td>1.000000</td>\n",
       "      <td>0.042858</td>\n",
       "      <td>0.532268</td>\n",
       "      <td>0.167086</td>\n",
       "      <td>0.305239</td>\n",
       "      <td>0.199772</td>\n",
       "      <td>0.164810</td>\n",
       "      <td>-0.067908</td>\n",
       "      <td>-0.060688</td>\n",
       "    </tr>\n",
       "    <tr>\n",
       "      <th>WIRE</th>\n",
       "      <td>0.052157</td>\n",
       "      <td>0.203952</td>\n",
       "      <td>0.275316</td>\n",
       "      <td>0.374608</td>\n",
       "      <td>0.250697</td>\n",
       "      <td>0.344305</td>\n",
       "      <td>0.024287</td>\n",
       "      <td>-0.171508</td>\n",
       "      <td>0.316487</td>\n",
       "      <td>0.282949</td>\n",
       "      <td>0.074675</td>\n",
       "      <td>0.042858</td>\n",
       "      <td>1.000000</td>\n",
       "      <td>0.034029</td>\n",
       "      <td>0.331207</td>\n",
       "      <td>0.421071</td>\n",
       "      <td>0.201347</td>\n",
       "      <td>0.145025</td>\n",
       "      <td>0.229132</td>\n",
       "      <td>0.357444</td>\n",
       "    </tr>\n",
       "    <tr>\n",
       "      <th>NFLX</th>\n",
       "      <td>0.283376</td>\n",
       "      <td>0.602605</td>\n",
       "      <td>0.105243</td>\n",
       "      <td>-0.147744</td>\n",
       "      <td>0.071348</td>\n",
       "      <td>0.343692</td>\n",
       "      <td>0.227206</td>\n",
       "      <td>0.279647</td>\n",
       "      <td>0.145370</td>\n",
       "      <td>0.347812</td>\n",
       "      <td>0.219842</td>\n",
       "      <td>0.532268</td>\n",
       "      <td>0.034029</td>\n",
       "      <td>1.000000</td>\n",
       "      <td>0.101488</td>\n",
       "      <td>0.057577</td>\n",
       "      <td>0.067122</td>\n",
       "      <td>-0.130794</td>\n",
       "      <td>-0.051607</td>\n",
       "      <td>-0.143525</td>\n",
       "    </tr>\n",
       "    <tr>\n",
       "      <th>GAIN</th>\n",
       "      <td>0.291273</td>\n",
       "      <td>0.198767</td>\n",
       "      <td>0.195731</td>\n",
       "      <td>0.532052</td>\n",
       "      <td>0.457021</td>\n",
       "      <td>0.204569</td>\n",
       "      <td>0.090409</td>\n",
       "      <td>0.080180</td>\n",
       "      <td>0.386814</td>\n",
       "      <td>0.559578</td>\n",
       "      <td>0.224756</td>\n",
       "      <td>0.167086</td>\n",
       "      <td>0.331207</td>\n",
       "      <td>0.101488</td>\n",
       "      <td>1.000000</td>\n",
       "      <td>0.468816</td>\n",
       "      <td>0.241922</td>\n",
       "      <td>0.093391</td>\n",
       "      <td>0.226895</td>\n",
       "      <td>0.315782</td>\n",
       "    </tr>\n",
       "    <tr>\n",
       "      <th>SYNA</th>\n",
       "      <td>0.158549</td>\n",
       "      <td>0.253612</td>\n",
       "      <td>0.577232</td>\n",
       "      <td>0.541629</td>\n",
       "      <td>0.402029</td>\n",
       "      <td>0.640720</td>\n",
       "      <td>0.159638</td>\n",
       "      <td>0.178550</td>\n",
       "      <td>0.086531</td>\n",
       "      <td>0.389287</td>\n",
       "      <td>0.557075</td>\n",
       "      <td>0.305239</td>\n",
       "      <td>0.421071</td>\n",
       "      <td>0.057577</td>\n",
       "      <td>0.468816</td>\n",
       "      <td>1.000000</td>\n",
       "      <td>0.225569</td>\n",
       "      <td>0.230214</td>\n",
       "      <td>0.129228</td>\n",
       "      <td>0.353773</td>\n",
       "    </tr>\n",
       "    <tr>\n",
       "      <th>NYMTP</th>\n",
       "      <td>-0.065786</td>\n",
       "      <td>0.252754</td>\n",
       "      <td>0.257153</td>\n",
       "      <td>0.094666</td>\n",
       "      <td>0.276633</td>\n",
       "      <td>0.511203</td>\n",
       "      <td>0.118784</td>\n",
       "      <td>-0.130480</td>\n",
       "      <td>-0.019597</td>\n",
       "      <td>0.098313</td>\n",
       "      <td>0.104997</td>\n",
       "      <td>0.199772</td>\n",
       "      <td>0.201347</td>\n",
       "      <td>0.067122</td>\n",
       "      <td>0.241922</td>\n",
       "      <td>0.225569</td>\n",
       "      <td>1.000000</td>\n",
       "      <td>-0.197217</td>\n",
       "      <td>-0.136024</td>\n",
       "      <td>-0.216194</td>\n",
       "    </tr>\n",
       "    <tr>\n",
       "      <th>ANAT</th>\n",
       "      <td>-0.035961</td>\n",
       "      <td>-0.141428</td>\n",
       "      <td>0.144766</td>\n",
       "      <td>0.229353</td>\n",
       "      <td>-0.130701</td>\n",
       "      <td>0.043695</td>\n",
       "      <td>0.251903</td>\n",
       "      <td>0.211505</td>\n",
       "      <td>0.048742</td>\n",
       "      <td>0.038968</td>\n",
       "      <td>0.309453</td>\n",
       "      <td>0.164810</td>\n",
       "      <td>0.145025</td>\n",
       "      <td>-0.130794</td>\n",
       "      <td>0.093391</td>\n",
       "      <td>0.230214</td>\n",
       "      <td>-0.197217</td>\n",
       "      <td>1.000000</td>\n",
       "      <td>0.142911</td>\n",
       "      <td>0.423245</td>\n",
       "    </tr>\n",
       "    <tr>\n",
       "      <th>TRNS</th>\n",
       "      <td>0.193361</td>\n",
       "      <td>-0.032538</td>\n",
       "      <td>-0.006814</td>\n",
       "      <td>0.078605</td>\n",
       "      <td>-0.003312</td>\n",
       "      <td>0.116852</td>\n",
       "      <td>0.066602</td>\n",
       "      <td>0.184829</td>\n",
       "      <td>-0.096656</td>\n",
       "      <td>0.034662</td>\n",
       "      <td>0.076212</td>\n",
       "      <td>-0.067908</td>\n",
       "      <td>0.229132</td>\n",
       "      <td>-0.051607</td>\n",
       "      <td>0.226895</td>\n",
       "      <td>0.129228</td>\n",
       "      <td>-0.136024</td>\n",
       "      <td>0.142911</td>\n",
       "      <td>1.000000</td>\n",
       "      <td>0.163797</td>\n",
       "    </tr>\n",
       "    <tr>\n",
       "      <th>SFBS</th>\n",
       "      <td>0.131271</td>\n",
       "      <td>-0.142309</td>\n",
       "      <td>0.244496</td>\n",
       "      <td>0.609444</td>\n",
       "      <td>0.182272</td>\n",
       "      <td>-0.057290</td>\n",
       "      <td>-0.023892</td>\n",
       "      <td>0.011351</td>\n",
       "      <td>0.282513</td>\n",
       "      <td>0.127153</td>\n",
       "      <td>0.316049</td>\n",
       "      <td>-0.060688</td>\n",
       "      <td>0.357444</td>\n",
       "      <td>-0.143525</td>\n",
       "      <td>0.315782</td>\n",
       "      <td>0.353773</td>\n",
       "      <td>-0.216194</td>\n",
       "      <td>0.423245</td>\n",
       "      <td>0.163797</td>\n",
       "      <td>1.000000</td>\n",
       "    </tr>\n",
       "  </tbody>\n",
       "</table>\n",
       "</div>"
      ],
      "text/plain": [
       "           MDLZ      MSFT      NXPI      PCAR      INTC      NVDA      ILMN  \\\n",
       "MDLZ   1.000000  0.484394  0.108162 -0.011557  0.094445  0.257004  0.047843   \n",
       "MSFT   0.484394  1.000000  0.384935  0.023687  0.399469  0.638039  0.568916   \n",
       "NXPI   0.108162  0.384935  1.000000  0.339197  0.643329  0.624239  0.470778   \n",
       "PCAR  -0.011557  0.023687  0.339197  1.000000  0.410015  0.208781 -0.070431   \n",
       "INTC   0.094445  0.399469  0.643329  0.410015  1.000000  0.398309  0.387652   \n",
       "NVDA   0.257004  0.638039  0.624239  0.208781  0.398309  1.000000  0.442922   \n",
       "ILMN   0.047843  0.568916  0.470778 -0.070431  0.387652  0.442922  1.000000   \n",
       "DXCM   0.110541  0.343025  0.322613 -0.070351  0.152732  0.334673  0.692296   \n",
       "ROST   0.287987  0.328390  0.053697  0.182665  0.368373  0.055493  0.107888   \n",
       "LULU   0.381246  0.522046  0.403862  0.182100  0.459935  0.504089  0.489470   \n",
       "PRFT   0.447187  0.549409  0.500476  0.414904  0.311697  0.551419  0.457815   \n",
       "FTNT   0.306702  0.761975  0.456599 -0.012870  0.414877  0.624704  0.706338   \n",
       "WIRE   0.052157  0.203952  0.275316  0.374608  0.250697  0.344305  0.024287   \n",
       "NFLX   0.283376  0.602605  0.105243 -0.147744  0.071348  0.343692  0.227206   \n",
       "GAIN   0.291273  0.198767  0.195731  0.532052  0.457021  0.204569  0.090409   \n",
       "SYNA   0.158549  0.253612  0.577232  0.541629  0.402029  0.640720  0.159638   \n",
       "NYMTP -0.065786  0.252754  0.257153  0.094666  0.276633  0.511203  0.118784   \n",
       "ANAT  -0.035961 -0.141428  0.144766  0.229353 -0.130701  0.043695  0.251903   \n",
       "TRNS   0.193361 -0.032538 -0.006814  0.078605 -0.003312  0.116852  0.066602   \n",
       "SFBS   0.131271 -0.142309  0.244496  0.609444  0.182272 -0.057290 -0.023892   \n",
       "\n",
       "           DXCM      ROST      LULU      PRFT      FTNT      WIRE      NFLX  \\\n",
       "MDLZ   0.110541  0.287987  0.381246  0.447187  0.306702  0.052157  0.283376   \n",
       "MSFT   0.343025  0.328390  0.522046  0.549409  0.761975  0.203952  0.602605   \n",
       "NXPI   0.322613  0.053697  0.403862  0.500476  0.456599  0.275316  0.105243   \n",
       "PCAR  -0.070351  0.182665  0.182100  0.414904 -0.012870  0.374608 -0.147744   \n",
       "INTC   0.152732  0.368373  0.459935  0.311697  0.414877  0.250697  0.071348   \n",
       "NVDA   0.334673  0.055493  0.504089  0.551419  0.624704  0.344305  0.343692   \n",
       "ILMN   0.692296  0.107888  0.489470  0.457815  0.706338  0.024287  0.227206   \n",
       "DXCM   1.000000 -0.047689  0.259949  0.320913  0.512944 -0.171508  0.279647   \n",
       "ROST  -0.047689  1.000000  0.449379  0.224010  0.290252  0.316487  0.145370   \n",
       "LULU   0.259949  0.449379  1.000000  0.428039  0.669768  0.282949  0.347812   \n",
       "PRFT   0.320913  0.224010  0.428039  1.000000  0.642048  0.074675  0.219842   \n",
       "FTNT   0.512944  0.290252  0.669768  0.642048  1.000000  0.042858  0.532268   \n",
       "WIRE  -0.171508  0.316487  0.282949  0.074675  0.042858  1.000000  0.034029   \n",
       "NFLX   0.279647  0.145370  0.347812  0.219842  0.532268  0.034029  1.000000   \n",
       "GAIN   0.080180  0.386814  0.559578  0.224756  0.167086  0.331207  0.101488   \n",
       "SYNA   0.178550  0.086531  0.389287  0.557075  0.305239  0.421071  0.057577   \n",
       "NYMTP -0.130480 -0.019597  0.098313  0.104997  0.199772  0.201347  0.067122   \n",
       "ANAT   0.211505  0.048742  0.038968  0.309453  0.164810  0.145025 -0.130794   \n",
       "TRNS   0.184829 -0.096656  0.034662  0.076212 -0.067908  0.229132 -0.051607   \n",
       "SFBS   0.011351  0.282513  0.127153  0.316049 -0.060688  0.357444 -0.143525   \n",
       "\n",
       "           GAIN      SYNA     NYMTP      ANAT      TRNS      SFBS  \n",
       "MDLZ   0.291273  0.158549 -0.065786 -0.035961  0.193361  0.131271  \n",
       "MSFT   0.198767  0.253612  0.252754 -0.141428 -0.032538 -0.142309  \n",
       "NXPI   0.195731  0.577232  0.257153  0.144766 -0.006814  0.244496  \n",
       "PCAR   0.532052  0.541629  0.094666  0.229353  0.078605  0.609444  \n",
       "INTC   0.457021  0.402029  0.276633 -0.130701 -0.003312  0.182272  \n",
       "NVDA   0.204569  0.640720  0.511203  0.043695  0.116852 -0.057290  \n",
       "ILMN   0.090409  0.159638  0.118784  0.251903  0.066602 -0.023892  \n",
       "DXCM   0.080180  0.178550 -0.130480  0.211505  0.184829  0.011351  \n",
       "ROST   0.386814  0.086531 -0.019597  0.048742 -0.096656  0.282513  \n",
       "LULU   0.559578  0.389287  0.098313  0.038968  0.034662  0.127153  \n",
       "PRFT   0.224756  0.557075  0.104997  0.309453  0.076212  0.316049  \n",
       "FTNT   0.167086  0.305239  0.199772  0.164810 -0.067908 -0.060688  \n",
       "WIRE   0.331207  0.421071  0.201347  0.145025  0.229132  0.357444  \n",
       "NFLX   0.101488  0.057577  0.067122 -0.130794 -0.051607 -0.143525  \n",
       "GAIN   1.000000  0.468816  0.241922  0.093391  0.226895  0.315782  \n",
       "SYNA   0.468816  1.000000  0.225569  0.230214  0.129228  0.353773  \n",
       "NYMTP  0.241922  0.225569  1.000000 -0.197217 -0.136024 -0.216194  \n",
       "ANAT   0.093391  0.230214 -0.197217  1.000000  0.142911  0.423245  \n",
       "TRNS   0.226895  0.129228 -0.136024  0.142911  1.000000  0.163797  \n",
       "SFBS   0.315782  0.353773 -0.216194  0.423245  0.163797  1.000000  "
      ]
     },
     "execution_count": 123,
     "metadata": {},
     "output_type": "execute_result"
    }
   ],
   "source": [
    "estCov = sample.corr()\n",
    "estCov"
   ]
  },
  {
   "cell_type": "code",
   "execution_count": 124,
   "metadata": {},
   "outputs": [
    {
     "data": {
      "application/vnd.plotly.v1+json": {
       "config": {
        "plotlyServerURL": "https://plot.ly"
       },
       "data": [
        {
         "coloraxis": "coloraxis",
         "hovertemplate": "x: %{x}<br>y: %{y}<br>color: %{z}<extra></extra>",
         "name": "0",
         "type": "heatmap",
         "x": [
          "MDLZ",
          "MSFT",
          "NXPI",
          "PCAR",
          "INTC",
          "NVDA",
          "ILMN",
          "DXCM",
          "ROST",
          "LULU",
          "PRFT",
          "FTNT",
          "WIRE",
          "NFLX",
          "GAIN",
          "SYNA",
          "NYMTP",
          "ANAT",
          "TRNS",
          "SFBS"
         ],
         "xaxis": "x",
         "y": [
          "MDLZ",
          "MSFT",
          "NXPI",
          "PCAR",
          "INTC",
          "NVDA",
          "ILMN",
          "DXCM",
          "ROST",
          "LULU",
          "PRFT",
          "FTNT",
          "WIRE",
          "NFLX",
          "GAIN",
          "SYNA",
          "NYMTP",
          "ANAT",
          "TRNS",
          "SFBS"
         ],
         "yaxis": "y",
         "z": [
          [
           1,
           0.4843937911734452,
           0.10816241691645191,
           -0.011557211689758932,
           0.09444481735084606,
           0.25700352457759457,
           0.04784313143622146,
           0.1105409824815857,
           0.2879869236377192,
           0.38124609475337967,
           0.44718715590486136,
           0.30670235228291365,
           0.05215706905901688,
           0.2833763692144701,
           0.29127313182126746,
           0.15854945591234337,
           -0.06578588416743687,
           -0.03596120088467853,
           0.19336059810427464,
           0.1312714048519162
          ],
          [
           0.4843937911734452,
           1,
           0.38493509265559434,
           0.023687027097704632,
           0.39946852510481085,
           0.6380387492549245,
           0.5689160728117999,
           0.34302537363246866,
           0.3283904477468688,
           0.5220458090777178,
           0.5494094760085696,
           0.7619748462925703,
           0.2039516600256108,
           0.6026050572323596,
           0.19876702769204896,
           0.25361163231422157,
           0.2527543275784547,
           -0.14142764375002478,
           -0.03253755089171421,
           -0.14230878743345068
          ],
          [
           0.10816241691645191,
           0.38493509265559434,
           1,
           0.3391972598686752,
           0.6433294339659374,
           0.6242391394580716,
           0.4707779766459176,
           0.3226134086583484,
           0.053696564081662075,
           0.40386180491707246,
           0.5004755303198943,
           0.45659907145037987,
           0.27531580537969863,
           0.10524253155073846,
           0.19573118612341564,
           0.5772322605823793,
           0.25715272202211586,
           0.1447662849119949,
           -0.006813925474656652,
           0.2444955667830992
          ],
          [
           -0.011557211689758932,
           0.023687027097704632,
           0.3391972598686752,
           1,
           0.4100153918887255,
           0.20878124630848288,
           -0.07043077825236403,
           -0.07035082930462283,
           0.18266455728359948,
           0.18209980895074374,
           0.4149044322673003,
           -0.012869636460776872,
           0.3746082574489231,
           -0.1477443183985485,
           0.532051627607066,
           0.5416291422890274,
           0.09466576036498466,
           0.2293525993261237,
           0.07860531003216621,
           0.6094436929858895
          ],
          [
           0.09444481735084606,
           0.39946852510481085,
           0.6433294339659374,
           0.4100153918887255,
           1,
           0.3983090547912228,
           0.3876521450970592,
           0.1527324736400282,
           0.3683726006214192,
           0.4599353640486557,
           0.31169746819629923,
           0.414877092700126,
           0.2506971789707415,
           0.0713482007583358,
           0.4570208137594846,
           0.4020287134728504,
           0.276632699121325,
           -0.13070086177699475,
           -0.003311649404118427,
           0.18227170664154405
          ],
          [
           0.25700352457759457,
           0.6380387492549245,
           0.6242391394580716,
           0.20878124630848288,
           0.3983090547912228,
           1,
           0.44292177459977083,
           0.3346725048591216,
           0.05549297668729119,
           0.5040885493054129,
           0.5514194064889205,
           0.6247036327414822,
           0.3443046810238916,
           0.3436922812603875,
           0.20456927812271145,
           0.6407198114503728,
           0.5112029255855827,
           0.04369469737718161,
           0.11685217536737934,
           -0.05729011797900205
          ],
          [
           0.04784313143622146,
           0.5689160728117999,
           0.4707779766459176,
           -0.07043077825236403,
           0.3876521450970592,
           0.44292177459977083,
           1,
           0.6922961500701534,
           0.10788754629377953,
           0.48946997339332543,
           0.4578149247581666,
           0.7063384496685423,
           0.024287370478610237,
           0.22720572609322356,
           0.09040895743900927,
           0.15963774034872957,
           0.11878419255427908,
           0.25190311271833693,
           0.06660196655266334,
           -0.023892218765497242
          ],
          [
           0.1105409824815857,
           0.34302537363246866,
           0.3226134086583484,
           -0.07035082930462283,
           0.1527324736400282,
           0.3346725048591216,
           0.6922961500701534,
           1,
           -0.047688891395129517,
           0.2599490213759196,
           0.3209133281075735,
           0.5129435957527035,
           -0.17150831437256017,
           0.2796470373239552,
           0.08017954909704064,
           0.17855008821759344,
           -0.13048018405076778,
           0.2115048995233722,
           0.18482907587151556,
           0.011351142309153225
          ],
          [
           0.2879869236377192,
           0.3283904477468688,
           0.053696564081662075,
           0.18266455728359948,
           0.3683726006214192,
           0.05549297668729119,
           0.10788754629377953,
           -0.047688891395129517,
           1,
           0.44937929184875475,
           0.22400958184906805,
           0.29025234858022775,
           0.31648705599536336,
           0.14537031794431424,
           0.38681397667044604,
           0.08653089018928842,
           -0.019597284709515276,
           0.04874244022266863,
           -0.09665615739950574,
           0.28251313341143763
          ],
          [
           0.38124609475337967,
           0.5220458090777178,
           0.40386180491707246,
           0.18209980895074374,
           0.4599353640486557,
           0.5040885493054129,
           0.48946997339332543,
           0.2599490213759196,
           0.44937929184875475,
           1,
           0.4280391298377559,
           0.6697675031804986,
           0.2829491684852047,
           0.34781245912855585,
           0.5595777043052277,
           0.38928707991851835,
           0.09831293382703887,
           0.03896800891018314,
           0.03466239591494622,
           0.12715335083948345
          ],
          [
           0.44718715590486136,
           0.5494094760085696,
           0.5004755303198943,
           0.4149044322673003,
           0.31169746819629923,
           0.5514194064889205,
           0.4578149247581666,
           0.3209133281075735,
           0.22400958184906805,
           0.4280391298377559,
           1,
           0.642048112762567,
           0.07467508522549746,
           0.21984203777173356,
           0.224755651712614,
           0.5570749543742199,
           0.10499732650812713,
           0.30945264146820173,
           0.07621197226938314,
           0.31604868156331883
          ],
          [
           0.30670235228291365,
           0.7619748462925703,
           0.45659907145037987,
           -0.012869636460776872,
           0.414877092700126,
           0.6247036327414822,
           0.7063384496685423,
           0.5129435957527035,
           0.29025234858022775,
           0.6697675031804986,
           0.642048112762567,
           1,
           0.04285834551503286,
           0.5322683214924094,
           0.16708581779304638,
           0.3052388945963751,
           0.19977220692899816,
           0.16480967760808518,
           -0.06790810310832035,
           -0.06068810867979922
          ],
          [
           0.05215706905901688,
           0.2039516600256108,
           0.27531580537969863,
           0.3746082574489231,
           0.2506971789707415,
           0.3443046810238916,
           0.024287370478610237,
           -0.17150831437256017,
           0.31648705599536336,
           0.2829491684852047,
           0.07467508522549746,
           0.04285834551503286,
           1,
           0.034029107545534454,
           0.3312068171459502,
           0.4210705904200356,
           0.20134748557652737,
           0.14502529416689475,
           0.22913182688680955,
           0.3574439830198247
          ],
          [
           0.2833763692144701,
           0.6026050572323596,
           0.10524253155073846,
           -0.1477443183985485,
           0.0713482007583358,
           0.3436922812603875,
           0.22720572609322356,
           0.2796470373239552,
           0.14537031794431424,
           0.34781245912855585,
           0.21984203777173356,
           0.5322683214924094,
           0.034029107545534454,
           1,
           0.10148806616210923,
           0.05757719055812599,
           0.06712151438522777,
           -0.13079377772199957,
           -0.051607495888940945,
           -0.1435245691409345
          ],
          [
           0.29127313182126746,
           0.19876702769204896,
           0.19573118612341564,
           0.532051627607066,
           0.4570208137594846,
           0.20456927812271145,
           0.09040895743900927,
           0.08017954909704064,
           0.38681397667044604,
           0.5595777043052277,
           0.224755651712614,
           0.16708581779304638,
           0.3312068171459502,
           0.10148806616210923,
           1,
           0.4688157541339992,
           0.24192244282092135,
           0.0933912677640755,
           0.2268945283989241,
           0.3157824694176077
          ],
          [
           0.15854945591234337,
           0.25361163231422157,
           0.5772322605823793,
           0.5416291422890274,
           0.4020287134728504,
           0.6407198114503728,
           0.15963774034872957,
           0.17855008821759344,
           0.08653089018928842,
           0.38928707991851835,
           0.5570749543742199,
           0.3052388945963751,
           0.4210705904200356,
           0.05757719055812599,
           0.4688157541339992,
           1,
           0.2255694413073561,
           0.23021352703140338,
           0.12922788734115875,
           0.3537726182957437
          ],
          [
           -0.06578588416743687,
           0.2527543275784547,
           0.25715272202211586,
           0.09466576036498466,
           0.276632699121325,
           0.5112029255855827,
           0.11878419255427908,
           -0.13048018405076778,
           -0.019597284709515276,
           0.09831293382703887,
           0.10499732650812713,
           0.19977220692899816,
           0.20134748557652737,
           0.06712151438522777,
           0.24192244282092135,
           0.2255694413073561,
           1,
           -0.1972168688255369,
           -0.13602419015313064,
           -0.21619444655202535
          ],
          [
           -0.03596120088467853,
           -0.14142764375002478,
           0.1447662849119949,
           0.2293525993261237,
           -0.13070086177699475,
           0.04369469737718161,
           0.25190311271833693,
           0.2115048995233722,
           0.04874244022266863,
           0.03896800891018314,
           0.30945264146820173,
           0.16480967760808518,
           0.14502529416689475,
           -0.13079377772199957,
           0.0933912677640755,
           0.23021352703140338,
           -0.1972168688255369,
           1,
           0.14291119122804302,
           0.4232446972018931
          ],
          [
           0.19336059810427464,
           -0.03253755089171421,
           -0.006813925474656652,
           0.07860531003216621,
           -0.003311649404118427,
           0.11685217536737934,
           0.06660196655266334,
           0.18482907587151556,
           -0.09665615739950574,
           0.03466239591494622,
           0.07621197226938314,
           -0.06790810310832035,
           0.22913182688680955,
           -0.051607495888940945,
           0.2268945283989241,
           0.12922788734115875,
           -0.13602419015313064,
           0.14291119122804302,
           1,
           0.16379666414392574
          ],
          [
           0.1312714048519162,
           -0.14230878743345068,
           0.2444955667830992,
           0.6094436929858895,
           0.18227170664154405,
           -0.05729011797900205,
           -0.023892218765497242,
           0.011351142309153225,
           0.28251313341143763,
           0.12715335083948345,
           0.31604868156331883,
           -0.06068810867979922,
           0.3574439830198247,
           -0.1435245691409345,
           0.3157824694176077,
           0.3537726182957437,
           -0.21619444655202535,
           0.4232446972018931,
           0.16379666414392574,
           1
          ]
         ]
        }
       ],
       "layout": {
        "coloraxis": {
         "colorscale": [
          [
           0,
           "rgb(0,104,55)"
          ],
          [
           0.1,
           "rgb(26,152,80)"
          ],
          [
           0.2,
           "rgb(102,189,99)"
          ],
          [
           0.3,
           "rgb(166,217,106)"
          ],
          [
           0.4,
           "rgb(217,239,139)"
          ],
          [
           0.5,
           "rgb(255,255,191)"
          ],
          [
           0.6,
           "rgb(254,224,139)"
          ],
          [
           0.7,
           "rgb(253,174,97)"
          ],
          [
           0.8,
           "rgb(244,109,67)"
          ],
          [
           0.9,
           "rgb(215,48,39)"
          ],
          [
           1,
           "rgb(165,0,38)"
          ]
         ]
        },
        "template": {
         "data": {
          "bar": [
           {
            "error_x": {
             "color": "#2a3f5f"
            },
            "error_y": {
             "color": "#2a3f5f"
            },
            "marker": {
             "line": {
              "color": "#E5ECF6",
              "width": 0.5
             },
             "pattern": {
              "fillmode": "overlay",
              "size": 10,
              "solidity": 0.2
             }
            },
            "type": "bar"
           }
          ],
          "barpolar": [
           {
            "marker": {
             "line": {
              "color": "#E5ECF6",
              "width": 0.5
             },
             "pattern": {
              "fillmode": "overlay",
              "size": 10,
              "solidity": 0.2
             }
            },
            "type": "barpolar"
           }
          ],
          "carpet": [
           {
            "aaxis": {
             "endlinecolor": "#2a3f5f",
             "gridcolor": "white",
             "linecolor": "white",
             "minorgridcolor": "white",
             "startlinecolor": "#2a3f5f"
            },
            "baxis": {
             "endlinecolor": "#2a3f5f",
             "gridcolor": "white",
             "linecolor": "white",
             "minorgridcolor": "white",
             "startlinecolor": "#2a3f5f"
            },
            "type": "carpet"
           }
          ],
          "choropleth": [
           {
            "colorbar": {
             "outlinewidth": 0,
             "ticks": ""
            },
            "type": "choropleth"
           }
          ],
          "contour": [
           {
            "colorbar": {
             "outlinewidth": 0,
             "ticks": ""
            },
            "colorscale": [
             [
              0,
              "#0d0887"
             ],
             [
              0.1111111111111111,
              "#46039f"
             ],
             [
              0.2222222222222222,
              "#7201a8"
             ],
             [
              0.3333333333333333,
              "#9c179e"
             ],
             [
              0.4444444444444444,
              "#bd3786"
             ],
             [
              0.5555555555555556,
              "#d8576b"
             ],
             [
              0.6666666666666666,
              "#ed7953"
             ],
             [
              0.7777777777777778,
              "#fb9f3a"
             ],
             [
              0.8888888888888888,
              "#fdca26"
             ],
             [
              1,
              "#f0f921"
             ]
            ],
            "type": "contour"
           }
          ],
          "contourcarpet": [
           {
            "colorbar": {
             "outlinewidth": 0,
             "ticks": ""
            },
            "type": "contourcarpet"
           }
          ],
          "heatmap": [
           {
            "colorbar": {
             "outlinewidth": 0,
             "ticks": ""
            },
            "colorscale": [
             [
              0,
              "#0d0887"
             ],
             [
              0.1111111111111111,
              "#46039f"
             ],
             [
              0.2222222222222222,
              "#7201a8"
             ],
             [
              0.3333333333333333,
              "#9c179e"
             ],
             [
              0.4444444444444444,
              "#bd3786"
             ],
             [
              0.5555555555555556,
              "#d8576b"
             ],
             [
              0.6666666666666666,
              "#ed7953"
             ],
             [
              0.7777777777777778,
              "#fb9f3a"
             ],
             [
              0.8888888888888888,
              "#fdca26"
             ],
             [
              1,
              "#f0f921"
             ]
            ],
            "type": "heatmap"
           }
          ],
          "heatmapgl": [
           {
            "colorbar": {
             "outlinewidth": 0,
             "ticks": ""
            },
            "colorscale": [
             [
              0,
              "#0d0887"
             ],
             [
              0.1111111111111111,
              "#46039f"
             ],
             [
              0.2222222222222222,
              "#7201a8"
             ],
             [
              0.3333333333333333,
              "#9c179e"
             ],
             [
              0.4444444444444444,
              "#bd3786"
             ],
             [
              0.5555555555555556,
              "#d8576b"
             ],
             [
              0.6666666666666666,
              "#ed7953"
             ],
             [
              0.7777777777777778,
              "#fb9f3a"
             ],
             [
              0.8888888888888888,
              "#fdca26"
             ],
             [
              1,
              "#f0f921"
             ]
            ],
            "type": "heatmapgl"
           }
          ],
          "histogram": [
           {
            "marker": {
             "pattern": {
              "fillmode": "overlay",
              "size": 10,
              "solidity": 0.2
             }
            },
            "type": "histogram"
           }
          ],
          "histogram2d": [
           {
            "colorbar": {
             "outlinewidth": 0,
             "ticks": ""
            },
            "colorscale": [
             [
              0,
              "#0d0887"
             ],
             [
              0.1111111111111111,
              "#46039f"
             ],
             [
              0.2222222222222222,
              "#7201a8"
             ],
             [
              0.3333333333333333,
              "#9c179e"
             ],
             [
              0.4444444444444444,
              "#bd3786"
             ],
             [
              0.5555555555555556,
              "#d8576b"
             ],
             [
              0.6666666666666666,
              "#ed7953"
             ],
             [
              0.7777777777777778,
              "#fb9f3a"
             ],
             [
              0.8888888888888888,
              "#fdca26"
             ],
             [
              1,
              "#f0f921"
             ]
            ],
            "type": "histogram2d"
           }
          ],
          "histogram2dcontour": [
           {
            "colorbar": {
             "outlinewidth": 0,
             "ticks": ""
            },
            "colorscale": [
             [
              0,
              "#0d0887"
             ],
             [
              0.1111111111111111,
              "#46039f"
             ],
             [
              0.2222222222222222,
              "#7201a8"
             ],
             [
              0.3333333333333333,
              "#9c179e"
             ],
             [
              0.4444444444444444,
              "#bd3786"
             ],
             [
              0.5555555555555556,
              "#d8576b"
             ],
             [
              0.6666666666666666,
              "#ed7953"
             ],
             [
              0.7777777777777778,
              "#fb9f3a"
             ],
             [
              0.8888888888888888,
              "#fdca26"
             ],
             [
              1,
              "#f0f921"
             ]
            ],
            "type": "histogram2dcontour"
           }
          ],
          "mesh3d": [
           {
            "colorbar": {
             "outlinewidth": 0,
             "ticks": ""
            },
            "type": "mesh3d"
           }
          ],
          "parcoords": [
           {
            "line": {
             "colorbar": {
              "outlinewidth": 0,
              "ticks": ""
             }
            },
            "type": "parcoords"
           }
          ],
          "pie": [
           {
            "automargin": true,
            "type": "pie"
           }
          ],
          "scatter": [
           {
            "marker": {
             "colorbar": {
              "outlinewidth": 0,
              "ticks": ""
             }
            },
            "type": "scatter"
           }
          ],
          "scatter3d": [
           {
            "line": {
             "colorbar": {
              "outlinewidth": 0,
              "ticks": ""
             }
            },
            "marker": {
             "colorbar": {
              "outlinewidth": 0,
              "ticks": ""
             }
            },
            "type": "scatter3d"
           }
          ],
          "scattercarpet": [
           {
            "marker": {
             "colorbar": {
              "outlinewidth": 0,
              "ticks": ""
             }
            },
            "type": "scattercarpet"
           }
          ],
          "scattergeo": [
           {
            "marker": {
             "colorbar": {
              "outlinewidth": 0,
              "ticks": ""
             }
            },
            "type": "scattergeo"
           }
          ],
          "scattergl": [
           {
            "marker": {
             "colorbar": {
              "outlinewidth": 0,
              "ticks": ""
             }
            },
            "type": "scattergl"
           }
          ],
          "scattermapbox": [
           {
            "marker": {
             "colorbar": {
              "outlinewidth": 0,
              "ticks": ""
             }
            },
            "type": "scattermapbox"
           }
          ],
          "scatterpolar": [
           {
            "marker": {
             "colorbar": {
              "outlinewidth": 0,
              "ticks": ""
             }
            },
            "type": "scatterpolar"
           }
          ],
          "scatterpolargl": [
           {
            "marker": {
             "colorbar": {
              "outlinewidth": 0,
              "ticks": ""
             }
            },
            "type": "scatterpolargl"
           }
          ],
          "scatterternary": [
           {
            "marker": {
             "colorbar": {
              "outlinewidth": 0,
              "ticks": ""
             }
            },
            "type": "scatterternary"
           }
          ],
          "surface": [
           {
            "colorbar": {
             "outlinewidth": 0,
             "ticks": ""
            },
            "colorscale": [
             [
              0,
              "#0d0887"
             ],
             [
              0.1111111111111111,
              "#46039f"
             ],
             [
              0.2222222222222222,
              "#7201a8"
             ],
             [
              0.3333333333333333,
              "#9c179e"
             ],
             [
              0.4444444444444444,
              "#bd3786"
             ],
             [
              0.5555555555555556,
              "#d8576b"
             ],
             [
              0.6666666666666666,
              "#ed7953"
             ],
             [
              0.7777777777777778,
              "#fb9f3a"
             ],
             [
              0.8888888888888888,
              "#fdca26"
             ],
             [
              1,
              "#f0f921"
             ]
            ],
            "type": "surface"
           }
          ],
          "table": [
           {
            "cells": {
             "fill": {
              "color": "#EBF0F8"
             },
             "line": {
              "color": "white"
             }
            },
            "header": {
             "fill": {
              "color": "#C8D4E3"
             },
             "line": {
              "color": "white"
             }
            },
            "type": "table"
           }
          ]
         },
         "layout": {
          "annotationdefaults": {
           "arrowcolor": "#2a3f5f",
           "arrowhead": 0,
           "arrowwidth": 1
          },
          "autotypenumbers": "strict",
          "coloraxis": {
           "colorbar": {
            "outlinewidth": 0,
            "ticks": ""
           }
          },
          "colorscale": {
           "diverging": [
            [
             0,
             "#8e0152"
            ],
            [
             0.1,
             "#c51b7d"
            ],
            [
             0.2,
             "#de77ae"
            ],
            [
             0.3,
             "#f1b6da"
            ],
            [
             0.4,
             "#fde0ef"
            ],
            [
             0.5,
             "#f7f7f7"
            ],
            [
             0.6,
             "#e6f5d0"
            ],
            [
             0.7,
             "#b8e186"
            ],
            [
             0.8,
             "#7fbc41"
            ],
            [
             0.9,
             "#4d9221"
            ],
            [
             1,
             "#276419"
            ]
           ],
           "sequential": [
            [
             0,
             "#0d0887"
            ],
            [
             0.1111111111111111,
             "#46039f"
            ],
            [
             0.2222222222222222,
             "#7201a8"
            ],
            [
             0.3333333333333333,
             "#9c179e"
            ],
            [
             0.4444444444444444,
             "#bd3786"
            ],
            [
             0.5555555555555556,
             "#d8576b"
            ],
            [
             0.6666666666666666,
             "#ed7953"
            ],
            [
             0.7777777777777778,
             "#fb9f3a"
            ],
            [
             0.8888888888888888,
             "#fdca26"
            ],
            [
             1,
             "#f0f921"
            ]
           ],
           "sequentialminus": [
            [
             0,
             "#0d0887"
            ],
            [
             0.1111111111111111,
             "#46039f"
            ],
            [
             0.2222222222222222,
             "#7201a8"
            ],
            [
             0.3333333333333333,
             "#9c179e"
            ],
            [
             0.4444444444444444,
             "#bd3786"
            ],
            [
             0.5555555555555556,
             "#d8576b"
            ],
            [
             0.6666666666666666,
             "#ed7953"
            ],
            [
             0.7777777777777778,
             "#fb9f3a"
            ],
            [
             0.8888888888888888,
             "#fdca26"
            ],
            [
             1,
             "#f0f921"
            ]
           ]
          },
          "colorway": [
           "#636efa",
           "#EF553B",
           "#00cc96",
           "#ab63fa",
           "#FFA15A",
           "#19d3f3",
           "#FF6692",
           "#B6E880",
           "#FF97FF",
           "#FECB52"
          ],
          "font": {
           "color": "#2a3f5f"
          },
          "geo": {
           "bgcolor": "white",
           "lakecolor": "white",
           "landcolor": "#E5ECF6",
           "showlakes": true,
           "showland": true,
           "subunitcolor": "white"
          },
          "hoverlabel": {
           "align": "left"
          },
          "hovermode": "closest",
          "mapbox": {
           "style": "light"
          },
          "paper_bgcolor": "white",
          "plot_bgcolor": "#E5ECF6",
          "polar": {
           "angularaxis": {
            "gridcolor": "white",
            "linecolor": "white",
            "ticks": ""
           },
           "bgcolor": "#E5ECF6",
           "radialaxis": {
            "gridcolor": "white",
            "linecolor": "white",
            "ticks": ""
           }
          },
          "scene": {
           "xaxis": {
            "backgroundcolor": "#E5ECF6",
            "gridcolor": "white",
            "gridwidth": 2,
            "linecolor": "white",
            "showbackground": true,
            "ticks": "",
            "zerolinecolor": "white"
           },
           "yaxis": {
            "backgroundcolor": "#E5ECF6",
            "gridcolor": "white",
            "gridwidth": 2,
            "linecolor": "white",
            "showbackground": true,
            "ticks": "",
            "zerolinecolor": "white"
           },
           "zaxis": {
            "backgroundcolor": "#E5ECF6",
            "gridcolor": "white",
            "gridwidth": 2,
            "linecolor": "white",
            "showbackground": true,
            "ticks": "",
            "zerolinecolor": "white"
           }
          },
          "shapedefaults": {
           "line": {
            "color": "#2a3f5f"
           }
          },
          "ternary": {
           "aaxis": {
            "gridcolor": "white",
            "linecolor": "white",
            "ticks": ""
           },
           "baxis": {
            "gridcolor": "white",
            "linecolor": "white",
            "ticks": ""
           },
           "bgcolor": "#E5ECF6",
           "caxis": {
            "gridcolor": "white",
            "linecolor": "white",
            "ticks": ""
           }
          },
          "title": {
           "x": 0.05
          },
          "xaxis": {
           "automargin": true,
           "gridcolor": "white",
           "linecolor": "white",
           "ticks": "",
           "title": {
            "standoff": 15
           },
           "zerolinecolor": "white",
           "zerolinewidth": 2
          },
          "yaxis": {
           "automargin": true,
           "gridcolor": "white",
           "linecolor": "white",
           "ticks": "",
           "title": {
            "standoff": 15
           },
           "zerolinecolor": "white",
           "zerolinewidth": 2
          }
         }
        },
        "title": {
         "text": "Correlation Matrix"
        },
        "xaxis": {
         "anchor": "y",
         "constrain": "domain",
         "domain": [
          0,
          1
         ],
         "scaleanchor": "y"
        },
        "yaxis": {
         "anchor": "x",
         "autorange": "reversed",
         "constrain": "domain",
         "domain": [
          0,
          1
         ]
        }
       }
      },
      "text/html": [
       "<div>                            <div id=\"cab69e3a-abda-4581-a4a5-8cf104cffdbe\" class=\"plotly-graph-div\" style=\"height:525px; width:100%;\"></div>            <script type=\"text/javascript\">                require([\"plotly\"], function(Plotly) {                    window.PLOTLYENV=window.PLOTLYENV || {};                                    if (document.getElementById(\"cab69e3a-abda-4581-a4a5-8cf104cffdbe\")) {                    Plotly.newPlot(                        \"cab69e3a-abda-4581-a4a5-8cf104cffdbe\",                        [{\"coloraxis\":\"coloraxis\",\"hovertemplate\":\"x: %{x}<br>y: %{y}<br>color: %{z}<extra></extra>\",\"name\":\"0\",\"type\":\"heatmap\",\"x\":[\"MDLZ\",\"MSFT\",\"NXPI\",\"PCAR\",\"INTC\",\"NVDA\",\"ILMN\",\"DXCM\",\"ROST\",\"LULU\",\"PRFT\",\"FTNT\",\"WIRE\",\"NFLX\",\"GAIN\",\"SYNA\",\"NYMTP\",\"ANAT\",\"TRNS\",\"SFBS\"],\"xaxis\":\"x\",\"y\":[\"MDLZ\",\"MSFT\",\"NXPI\",\"PCAR\",\"INTC\",\"NVDA\",\"ILMN\",\"DXCM\",\"ROST\",\"LULU\",\"PRFT\",\"FTNT\",\"WIRE\",\"NFLX\",\"GAIN\",\"SYNA\",\"NYMTP\",\"ANAT\",\"TRNS\",\"SFBS\"],\"yaxis\":\"y\",\"z\":[[1.0,0.4843937911734452,0.10816241691645191,-0.011557211689758932,0.09444481735084606,0.25700352457759457,0.04784313143622146,0.1105409824815857,0.2879869236377192,0.38124609475337967,0.44718715590486136,0.30670235228291365,0.05215706905901688,0.2833763692144701,0.29127313182126746,0.15854945591234337,-0.06578588416743687,-0.03596120088467853,0.19336059810427464,0.1312714048519162],[0.4843937911734452,1.0,0.38493509265559434,0.023687027097704632,0.39946852510481085,0.6380387492549245,0.5689160728117999,0.34302537363246866,0.3283904477468688,0.5220458090777178,0.5494094760085696,0.7619748462925703,0.2039516600256108,0.6026050572323596,0.19876702769204896,0.25361163231422157,0.2527543275784547,-0.14142764375002478,-0.03253755089171421,-0.14230878743345068],[0.10816241691645191,0.38493509265559434,1.0,0.3391972598686752,0.6433294339659374,0.6242391394580716,0.4707779766459176,0.3226134086583484,0.053696564081662075,0.40386180491707246,0.5004755303198943,0.45659907145037987,0.27531580537969863,0.10524253155073846,0.19573118612341564,0.5772322605823793,0.25715272202211586,0.1447662849119949,-0.006813925474656652,0.2444955667830992],[-0.011557211689758932,0.023687027097704632,0.3391972598686752,1.0,0.4100153918887255,0.20878124630848288,-0.07043077825236403,-0.07035082930462283,0.18266455728359948,0.18209980895074374,0.4149044322673003,-0.012869636460776872,0.3746082574489231,-0.1477443183985485,0.532051627607066,0.5416291422890274,0.09466576036498466,0.2293525993261237,0.07860531003216621,0.6094436929858895],[0.09444481735084606,0.39946852510481085,0.6433294339659374,0.4100153918887255,1.0,0.3983090547912228,0.3876521450970592,0.1527324736400282,0.3683726006214192,0.4599353640486557,0.31169746819629923,0.414877092700126,0.2506971789707415,0.0713482007583358,0.4570208137594846,0.4020287134728504,0.276632699121325,-0.13070086177699475,-0.003311649404118427,0.18227170664154405],[0.25700352457759457,0.6380387492549245,0.6242391394580716,0.20878124630848288,0.3983090547912228,1.0,0.44292177459977083,0.3346725048591216,0.05549297668729119,0.5040885493054129,0.5514194064889205,0.6247036327414822,0.3443046810238916,0.3436922812603875,0.20456927812271145,0.6407198114503728,0.5112029255855827,0.04369469737718161,0.11685217536737934,-0.05729011797900205],[0.04784313143622146,0.5689160728117999,0.4707779766459176,-0.07043077825236403,0.3876521450970592,0.44292177459977083,1.0,0.6922961500701534,0.10788754629377953,0.48946997339332543,0.4578149247581666,0.7063384496685423,0.024287370478610237,0.22720572609322356,0.09040895743900927,0.15963774034872957,0.11878419255427908,0.25190311271833693,0.06660196655266334,-0.023892218765497242],[0.1105409824815857,0.34302537363246866,0.3226134086583484,-0.07035082930462283,0.1527324736400282,0.3346725048591216,0.6922961500701534,1.0,-0.047688891395129517,0.2599490213759196,0.3209133281075735,0.5129435957527035,-0.17150831437256017,0.2796470373239552,0.08017954909704064,0.17855008821759344,-0.13048018405076778,0.2115048995233722,0.18482907587151556,0.011351142309153225],[0.2879869236377192,0.3283904477468688,0.053696564081662075,0.18266455728359948,0.3683726006214192,0.05549297668729119,0.10788754629377953,-0.047688891395129517,1.0,0.44937929184875475,0.22400958184906805,0.29025234858022775,0.31648705599536336,0.14537031794431424,0.38681397667044604,0.08653089018928842,-0.019597284709515276,0.04874244022266863,-0.09665615739950574,0.28251313341143763],[0.38124609475337967,0.5220458090777178,0.40386180491707246,0.18209980895074374,0.4599353640486557,0.5040885493054129,0.48946997339332543,0.2599490213759196,0.44937929184875475,1.0,0.4280391298377559,0.6697675031804986,0.2829491684852047,0.34781245912855585,0.5595777043052277,0.38928707991851835,0.09831293382703887,0.03896800891018314,0.03466239591494622,0.12715335083948345],[0.44718715590486136,0.5494094760085696,0.5004755303198943,0.4149044322673003,0.31169746819629923,0.5514194064889205,0.4578149247581666,0.3209133281075735,0.22400958184906805,0.4280391298377559,1.0,0.642048112762567,0.07467508522549746,0.21984203777173356,0.224755651712614,0.5570749543742199,0.10499732650812713,0.30945264146820173,0.07621197226938314,0.31604868156331883],[0.30670235228291365,0.7619748462925703,0.45659907145037987,-0.012869636460776872,0.414877092700126,0.6247036327414822,0.7063384496685423,0.5129435957527035,0.29025234858022775,0.6697675031804986,0.642048112762567,1.0,0.04285834551503286,0.5322683214924094,0.16708581779304638,0.3052388945963751,0.19977220692899816,0.16480967760808518,-0.06790810310832035,-0.06068810867979922],[0.05215706905901688,0.2039516600256108,0.27531580537969863,0.3746082574489231,0.2506971789707415,0.3443046810238916,0.024287370478610237,-0.17150831437256017,0.31648705599536336,0.2829491684852047,0.07467508522549746,0.04285834551503286,1.0,0.034029107545534454,0.3312068171459502,0.4210705904200356,0.20134748557652737,0.14502529416689475,0.22913182688680955,0.3574439830198247],[0.2833763692144701,0.6026050572323596,0.10524253155073846,-0.1477443183985485,0.0713482007583358,0.3436922812603875,0.22720572609322356,0.2796470373239552,0.14537031794431424,0.34781245912855585,0.21984203777173356,0.5322683214924094,0.034029107545534454,1.0,0.10148806616210923,0.05757719055812599,0.06712151438522777,-0.13079377772199957,-0.051607495888940945,-0.1435245691409345],[0.29127313182126746,0.19876702769204896,0.19573118612341564,0.532051627607066,0.4570208137594846,0.20456927812271145,0.09040895743900927,0.08017954909704064,0.38681397667044604,0.5595777043052277,0.224755651712614,0.16708581779304638,0.3312068171459502,0.10148806616210923,1.0,0.4688157541339992,0.24192244282092135,0.0933912677640755,0.2268945283989241,0.3157824694176077],[0.15854945591234337,0.25361163231422157,0.5772322605823793,0.5416291422890274,0.4020287134728504,0.6407198114503728,0.15963774034872957,0.17855008821759344,0.08653089018928842,0.38928707991851835,0.5570749543742199,0.3052388945963751,0.4210705904200356,0.05757719055812599,0.4688157541339992,1.0,0.2255694413073561,0.23021352703140338,0.12922788734115875,0.3537726182957437],[-0.06578588416743687,0.2527543275784547,0.25715272202211586,0.09466576036498466,0.276632699121325,0.5112029255855827,0.11878419255427908,-0.13048018405076778,-0.019597284709515276,0.09831293382703887,0.10499732650812713,0.19977220692899816,0.20134748557652737,0.06712151438522777,0.24192244282092135,0.2255694413073561,1.0,-0.1972168688255369,-0.13602419015313064,-0.21619444655202535],[-0.03596120088467853,-0.14142764375002478,0.1447662849119949,0.2293525993261237,-0.13070086177699475,0.04369469737718161,0.25190311271833693,0.2115048995233722,0.04874244022266863,0.03896800891018314,0.30945264146820173,0.16480967760808518,0.14502529416689475,-0.13079377772199957,0.0933912677640755,0.23021352703140338,-0.1972168688255369,1.0,0.14291119122804302,0.4232446972018931],[0.19336059810427464,-0.03253755089171421,-0.006813925474656652,0.07860531003216621,-0.003311649404118427,0.11685217536737934,0.06660196655266334,0.18482907587151556,-0.09665615739950574,0.03466239591494622,0.07621197226938314,-0.06790810310832035,0.22913182688680955,-0.051607495888940945,0.2268945283989241,0.12922788734115875,-0.13602419015313064,0.14291119122804302,1.0,0.16379666414392574],[0.1312714048519162,-0.14230878743345068,0.2444955667830992,0.6094436929858895,0.18227170664154405,-0.05729011797900205,-0.023892218765497242,0.011351142309153225,0.28251313341143763,0.12715335083948345,0.31604868156331883,-0.06068810867979922,0.3574439830198247,-0.1435245691409345,0.3157824694176077,0.3537726182957437,-0.21619444655202535,0.4232446972018931,0.16379666414392574,1.0]]}],                        {\"coloraxis\":{\"colorscale\":[[0.0,\"rgb(0,104,55)\"],[0.1,\"rgb(26,152,80)\"],[0.2,\"rgb(102,189,99)\"],[0.3,\"rgb(166,217,106)\"],[0.4,\"rgb(217,239,139)\"],[0.5,\"rgb(255,255,191)\"],[0.6,\"rgb(254,224,139)\"],[0.7,\"rgb(253,174,97)\"],[0.8,\"rgb(244,109,67)\"],[0.9,\"rgb(215,48,39)\"],[1.0,\"rgb(165,0,38)\"]]},\"template\":{\"data\":{\"bar\":[{\"error_x\":{\"color\":\"#2a3f5f\"},\"error_y\":{\"color\":\"#2a3f5f\"},\"marker\":{\"line\":{\"color\":\"#E5ECF6\",\"width\":0.5},\"pattern\":{\"fillmode\":\"overlay\",\"size\":10,\"solidity\":0.2}},\"type\":\"bar\"}],\"barpolar\":[{\"marker\":{\"line\":{\"color\":\"#E5ECF6\",\"width\":0.5},\"pattern\":{\"fillmode\":\"overlay\",\"size\":10,\"solidity\":0.2}},\"type\":\"barpolar\"}],\"carpet\":[{\"aaxis\":{\"endlinecolor\":\"#2a3f5f\",\"gridcolor\":\"white\",\"linecolor\":\"white\",\"minorgridcolor\":\"white\",\"startlinecolor\":\"#2a3f5f\"},\"baxis\":{\"endlinecolor\":\"#2a3f5f\",\"gridcolor\":\"white\",\"linecolor\":\"white\",\"minorgridcolor\":\"white\",\"startlinecolor\":\"#2a3f5f\"},\"type\":\"carpet\"}],\"choropleth\":[{\"colorbar\":{\"outlinewidth\":0,\"ticks\":\"\"},\"type\":\"choropleth\"}],\"contour\":[{\"colorbar\":{\"outlinewidth\":0,\"ticks\":\"\"},\"colorscale\":[[0.0,\"#0d0887\"],[0.1111111111111111,\"#46039f\"],[0.2222222222222222,\"#7201a8\"],[0.3333333333333333,\"#9c179e\"],[0.4444444444444444,\"#bd3786\"],[0.5555555555555556,\"#d8576b\"],[0.6666666666666666,\"#ed7953\"],[0.7777777777777778,\"#fb9f3a\"],[0.8888888888888888,\"#fdca26\"],[1.0,\"#f0f921\"]],\"type\":\"contour\"}],\"contourcarpet\":[{\"colorbar\":{\"outlinewidth\":0,\"ticks\":\"\"},\"type\":\"contourcarpet\"}],\"heatmap\":[{\"colorbar\":{\"outlinewidth\":0,\"ticks\":\"\"},\"colorscale\":[[0.0,\"#0d0887\"],[0.1111111111111111,\"#46039f\"],[0.2222222222222222,\"#7201a8\"],[0.3333333333333333,\"#9c179e\"],[0.4444444444444444,\"#bd3786\"],[0.5555555555555556,\"#d8576b\"],[0.6666666666666666,\"#ed7953\"],[0.7777777777777778,\"#fb9f3a\"],[0.8888888888888888,\"#fdca26\"],[1.0,\"#f0f921\"]],\"type\":\"heatmap\"}],\"heatmapgl\":[{\"colorbar\":{\"outlinewidth\":0,\"ticks\":\"\"},\"colorscale\":[[0.0,\"#0d0887\"],[0.1111111111111111,\"#46039f\"],[0.2222222222222222,\"#7201a8\"],[0.3333333333333333,\"#9c179e\"],[0.4444444444444444,\"#bd3786\"],[0.5555555555555556,\"#d8576b\"],[0.6666666666666666,\"#ed7953\"],[0.7777777777777778,\"#fb9f3a\"],[0.8888888888888888,\"#fdca26\"],[1.0,\"#f0f921\"]],\"type\":\"heatmapgl\"}],\"histogram\":[{\"marker\":{\"pattern\":{\"fillmode\":\"overlay\",\"size\":10,\"solidity\":0.2}},\"type\":\"histogram\"}],\"histogram2d\":[{\"colorbar\":{\"outlinewidth\":0,\"ticks\":\"\"},\"colorscale\":[[0.0,\"#0d0887\"],[0.1111111111111111,\"#46039f\"],[0.2222222222222222,\"#7201a8\"],[0.3333333333333333,\"#9c179e\"],[0.4444444444444444,\"#bd3786\"],[0.5555555555555556,\"#d8576b\"],[0.6666666666666666,\"#ed7953\"],[0.7777777777777778,\"#fb9f3a\"],[0.8888888888888888,\"#fdca26\"],[1.0,\"#f0f921\"]],\"type\":\"histogram2d\"}],\"histogram2dcontour\":[{\"colorbar\":{\"outlinewidth\":0,\"ticks\":\"\"},\"colorscale\":[[0.0,\"#0d0887\"],[0.1111111111111111,\"#46039f\"],[0.2222222222222222,\"#7201a8\"],[0.3333333333333333,\"#9c179e\"],[0.4444444444444444,\"#bd3786\"],[0.5555555555555556,\"#d8576b\"],[0.6666666666666666,\"#ed7953\"],[0.7777777777777778,\"#fb9f3a\"],[0.8888888888888888,\"#fdca26\"],[1.0,\"#f0f921\"]],\"type\":\"histogram2dcontour\"}],\"mesh3d\":[{\"colorbar\":{\"outlinewidth\":0,\"ticks\":\"\"},\"type\":\"mesh3d\"}],\"parcoords\":[{\"line\":{\"colorbar\":{\"outlinewidth\":0,\"ticks\":\"\"}},\"type\":\"parcoords\"}],\"pie\":[{\"automargin\":true,\"type\":\"pie\"}],\"scatter\":[{\"marker\":{\"colorbar\":{\"outlinewidth\":0,\"ticks\":\"\"}},\"type\":\"scatter\"}],\"scatter3d\":[{\"line\":{\"colorbar\":{\"outlinewidth\":0,\"ticks\":\"\"}},\"marker\":{\"colorbar\":{\"outlinewidth\":0,\"ticks\":\"\"}},\"type\":\"scatter3d\"}],\"scattercarpet\":[{\"marker\":{\"colorbar\":{\"outlinewidth\":0,\"ticks\":\"\"}},\"type\":\"scattercarpet\"}],\"scattergeo\":[{\"marker\":{\"colorbar\":{\"outlinewidth\":0,\"ticks\":\"\"}},\"type\":\"scattergeo\"}],\"scattergl\":[{\"marker\":{\"colorbar\":{\"outlinewidth\":0,\"ticks\":\"\"}},\"type\":\"scattergl\"}],\"scattermapbox\":[{\"marker\":{\"colorbar\":{\"outlinewidth\":0,\"ticks\":\"\"}},\"type\":\"scattermapbox\"}],\"scatterpolar\":[{\"marker\":{\"colorbar\":{\"outlinewidth\":0,\"ticks\":\"\"}},\"type\":\"scatterpolar\"}],\"scatterpolargl\":[{\"marker\":{\"colorbar\":{\"outlinewidth\":0,\"ticks\":\"\"}},\"type\":\"scatterpolargl\"}],\"scatterternary\":[{\"marker\":{\"colorbar\":{\"outlinewidth\":0,\"ticks\":\"\"}},\"type\":\"scatterternary\"}],\"surface\":[{\"colorbar\":{\"outlinewidth\":0,\"ticks\":\"\"},\"colorscale\":[[0.0,\"#0d0887\"],[0.1111111111111111,\"#46039f\"],[0.2222222222222222,\"#7201a8\"],[0.3333333333333333,\"#9c179e\"],[0.4444444444444444,\"#bd3786\"],[0.5555555555555556,\"#d8576b\"],[0.6666666666666666,\"#ed7953\"],[0.7777777777777778,\"#fb9f3a\"],[0.8888888888888888,\"#fdca26\"],[1.0,\"#f0f921\"]],\"type\":\"surface\"}],\"table\":[{\"cells\":{\"fill\":{\"color\":\"#EBF0F8\"},\"line\":{\"color\":\"white\"}},\"header\":{\"fill\":{\"color\":\"#C8D4E3\"},\"line\":{\"color\":\"white\"}},\"type\":\"table\"}]},\"layout\":{\"annotationdefaults\":{\"arrowcolor\":\"#2a3f5f\",\"arrowhead\":0,\"arrowwidth\":1},\"autotypenumbers\":\"strict\",\"coloraxis\":{\"colorbar\":{\"outlinewidth\":0,\"ticks\":\"\"}},\"colorscale\":{\"diverging\":[[0,\"#8e0152\"],[0.1,\"#c51b7d\"],[0.2,\"#de77ae\"],[0.3,\"#f1b6da\"],[0.4,\"#fde0ef\"],[0.5,\"#f7f7f7\"],[0.6,\"#e6f5d0\"],[0.7,\"#b8e186\"],[0.8,\"#7fbc41\"],[0.9,\"#4d9221\"],[1,\"#276419\"]],\"sequential\":[[0.0,\"#0d0887\"],[0.1111111111111111,\"#46039f\"],[0.2222222222222222,\"#7201a8\"],[0.3333333333333333,\"#9c179e\"],[0.4444444444444444,\"#bd3786\"],[0.5555555555555556,\"#d8576b\"],[0.6666666666666666,\"#ed7953\"],[0.7777777777777778,\"#fb9f3a\"],[0.8888888888888888,\"#fdca26\"],[1.0,\"#f0f921\"]],\"sequentialminus\":[[0.0,\"#0d0887\"],[0.1111111111111111,\"#46039f\"],[0.2222222222222222,\"#7201a8\"],[0.3333333333333333,\"#9c179e\"],[0.4444444444444444,\"#bd3786\"],[0.5555555555555556,\"#d8576b\"],[0.6666666666666666,\"#ed7953\"],[0.7777777777777778,\"#fb9f3a\"],[0.8888888888888888,\"#fdca26\"],[1.0,\"#f0f921\"]]},\"colorway\":[\"#636efa\",\"#EF553B\",\"#00cc96\",\"#ab63fa\",\"#FFA15A\",\"#19d3f3\",\"#FF6692\",\"#B6E880\",\"#FF97FF\",\"#FECB52\"],\"font\":{\"color\":\"#2a3f5f\"},\"geo\":{\"bgcolor\":\"white\",\"lakecolor\":\"white\",\"landcolor\":\"#E5ECF6\",\"showlakes\":true,\"showland\":true,\"subunitcolor\":\"white\"},\"hoverlabel\":{\"align\":\"left\"},\"hovermode\":\"closest\",\"mapbox\":{\"style\":\"light\"},\"paper_bgcolor\":\"white\",\"plot_bgcolor\":\"#E5ECF6\",\"polar\":{\"angularaxis\":{\"gridcolor\":\"white\",\"linecolor\":\"white\",\"ticks\":\"\"},\"bgcolor\":\"#E5ECF6\",\"radialaxis\":{\"gridcolor\":\"white\",\"linecolor\":\"white\",\"ticks\":\"\"}},\"scene\":{\"xaxis\":{\"backgroundcolor\":\"#E5ECF6\",\"gridcolor\":\"white\",\"gridwidth\":2,\"linecolor\":\"white\",\"showbackground\":true,\"ticks\":\"\",\"zerolinecolor\":\"white\"},\"yaxis\":{\"backgroundcolor\":\"#E5ECF6\",\"gridcolor\":\"white\",\"gridwidth\":2,\"linecolor\":\"white\",\"showbackground\":true,\"ticks\":\"\",\"zerolinecolor\":\"white\"},\"zaxis\":{\"backgroundcolor\":\"#E5ECF6\",\"gridcolor\":\"white\",\"gridwidth\":2,\"linecolor\":\"white\",\"showbackground\":true,\"ticks\":\"\",\"zerolinecolor\":\"white\"}},\"shapedefaults\":{\"line\":{\"color\":\"#2a3f5f\"}},\"ternary\":{\"aaxis\":{\"gridcolor\":\"white\",\"linecolor\":\"white\",\"ticks\":\"\"},\"baxis\":{\"gridcolor\":\"white\",\"linecolor\":\"white\",\"ticks\":\"\"},\"bgcolor\":\"#E5ECF6\",\"caxis\":{\"gridcolor\":\"white\",\"linecolor\":\"white\",\"ticks\":\"\"}},\"title\":{\"x\":0.05},\"xaxis\":{\"automargin\":true,\"gridcolor\":\"white\",\"linecolor\":\"white\",\"ticks\":\"\",\"title\":{\"standoff\":15},\"zerolinecolor\":\"white\",\"zerolinewidth\":2},\"yaxis\":{\"automargin\":true,\"gridcolor\":\"white\",\"linecolor\":\"white\",\"ticks\":\"\",\"title\":{\"standoff\":15},\"zerolinecolor\":\"white\",\"zerolinewidth\":2}}},\"title\":{\"text\":\"Correlation Matrix\"},\"xaxis\":{\"anchor\":\"y\",\"constrain\":\"domain\",\"domain\":[0.0,1.0],\"scaleanchor\":\"y\"},\"yaxis\":{\"anchor\":\"x\",\"autorange\":\"reversed\",\"constrain\":\"domain\",\"domain\":[0.0,1.0]}},                        {\"responsive\": true}                    ).then(function(){\n",
       "                            \n",
       "var gd = document.getElementById('cab69e3a-abda-4581-a4a5-8cf104cffdbe');\n",
       "var x = new MutationObserver(function (mutations, observer) {{\n",
       "        var display = window.getComputedStyle(gd).display;\n",
       "        if (!display || display === 'none') {{\n",
       "            console.log([gd, 'removed!']);\n",
       "            Plotly.purge(gd);\n",
       "            observer.disconnect();\n",
       "        }}\n",
       "}});\n",
       "\n",
       "// Listen for the removal of the full notebook cells\n",
       "var notebookContainer = gd.closest('#notebook-container');\n",
       "if (notebookContainer) {{\n",
       "    x.observe(notebookContainer, {childList: true});\n",
       "}}\n",
       "\n",
       "// Listen for the clearing of the current output cell\n",
       "var outputEl = gd.closest('.output');\n",
       "if (outputEl) {{\n",
       "    x.observe(outputEl, {childList: true});\n",
       "}}\n",
       "\n",
       "                        })                };                });            </script>        </div>"
      ]
     },
     "metadata": {},
     "output_type": "display_data"
    }
   ],
   "source": [
    "import plotly.express as px\n",
    "\n",
    "fig = px.imshow(estCov, title='Correlation Matrix',\n",
    "                color_continuous_scale=px.colors.diverging.RdYlGn[::-1])\n",
    "fig.show()"
   ]
  },
  {
   "cell_type": "markdown",
   "metadata": {},
   "source": [
    "#### 2.3 Используя эти оценки решаем задачу оптимизации "
   ]
  },
  {
   "cell_type": "code",
   "execution_count": 125,
   "metadata": {},
   "outputs": [],
   "source": [
    "opt_solution = find_optimal(estE, estCov)"
   ]
  },
  {
   "cell_type": "markdown",
   "metadata": {},
   "source": [
    "#### Находим и фиксируем веса портфеля ..."
   ]
  },
  {
   "cell_type": "code",
   "execution_count": 126,
   "metadata": {},
   "outputs": [
    {
     "name": "stdout",
     "output_type": "stream",
     "text": [
      "Сумма весов: 1.0000000000000004\n"
     ]
    },
    {
     "data": {
      "application/vnd.plotly.v1+json": {
       "config": {
        "plotlyServerURL": "https://plot.ly"
       },
       "data": [
        {
         "alignmentgroup": "True",
         "hovertemplate": "x=%{x}<br>y=%{y}<extra></extra>",
         "legendgroup": "",
         "marker": {
          "color": "#636efa",
          "pattern": {
           "shape": ""
          }
         },
         "name": "",
         "offsetgroup": "",
         "orientation": "v",
         "showlegend": false,
         "textposition": "auto",
         "type": "bar",
         "x": [
          "MDLZ",
          "MSFT",
          "NXPI",
          "PCAR",
          "INTC",
          "NVDA",
          "ILMN",
          "DXCM",
          "ROST",
          "LULU",
          "PRFT",
          "FTNT",
          "WIRE",
          "NFLX",
          "GAIN",
          "SYNA",
          "NYMTP",
          "ANAT",
          "TRNS",
          "SFBS"
         ],
         "xaxis": "x",
         "y": [
          0,
          9.844411538222508e-18,
          1.8574359754500223e-16,
          1.3264459795915295e-16,
          0,
          0,
          2.6510380916082076e-17,
          0.04750613119257958,
          0.18816063985267548,
          0,
          0.007428368504282458,
          0,
          0,
          0.15689143969781488,
          0,
          0,
          0.23412802182648293,
          0.029714261024185465,
          0.3361711379019793,
          0
         ],
         "yaxis": "y"
        }
       ],
       "layout": {
        "barmode": "relative",
        "legend": {
         "tracegroupgap": 0
        },
        "margin": {
         "t": 60
        },
        "template": {
         "data": {
          "bar": [
           {
            "error_x": {
             "color": "#2a3f5f"
            },
            "error_y": {
             "color": "#2a3f5f"
            },
            "marker": {
             "line": {
              "color": "#E5ECF6",
              "width": 0.5
             },
             "pattern": {
              "fillmode": "overlay",
              "size": 10,
              "solidity": 0.2
             }
            },
            "type": "bar"
           }
          ],
          "barpolar": [
           {
            "marker": {
             "line": {
              "color": "#E5ECF6",
              "width": 0.5
             },
             "pattern": {
              "fillmode": "overlay",
              "size": 10,
              "solidity": 0.2
             }
            },
            "type": "barpolar"
           }
          ],
          "carpet": [
           {
            "aaxis": {
             "endlinecolor": "#2a3f5f",
             "gridcolor": "white",
             "linecolor": "white",
             "minorgridcolor": "white",
             "startlinecolor": "#2a3f5f"
            },
            "baxis": {
             "endlinecolor": "#2a3f5f",
             "gridcolor": "white",
             "linecolor": "white",
             "minorgridcolor": "white",
             "startlinecolor": "#2a3f5f"
            },
            "type": "carpet"
           }
          ],
          "choropleth": [
           {
            "colorbar": {
             "outlinewidth": 0,
             "ticks": ""
            },
            "type": "choropleth"
           }
          ],
          "contour": [
           {
            "colorbar": {
             "outlinewidth": 0,
             "ticks": ""
            },
            "colorscale": [
             [
              0,
              "#0d0887"
             ],
             [
              0.1111111111111111,
              "#46039f"
             ],
             [
              0.2222222222222222,
              "#7201a8"
             ],
             [
              0.3333333333333333,
              "#9c179e"
             ],
             [
              0.4444444444444444,
              "#bd3786"
             ],
             [
              0.5555555555555556,
              "#d8576b"
             ],
             [
              0.6666666666666666,
              "#ed7953"
             ],
             [
              0.7777777777777778,
              "#fb9f3a"
             ],
             [
              0.8888888888888888,
              "#fdca26"
             ],
             [
              1,
              "#f0f921"
             ]
            ],
            "type": "contour"
           }
          ],
          "contourcarpet": [
           {
            "colorbar": {
             "outlinewidth": 0,
             "ticks": ""
            },
            "type": "contourcarpet"
           }
          ],
          "heatmap": [
           {
            "colorbar": {
             "outlinewidth": 0,
             "ticks": ""
            },
            "colorscale": [
             [
              0,
              "#0d0887"
             ],
             [
              0.1111111111111111,
              "#46039f"
             ],
             [
              0.2222222222222222,
              "#7201a8"
             ],
             [
              0.3333333333333333,
              "#9c179e"
             ],
             [
              0.4444444444444444,
              "#bd3786"
             ],
             [
              0.5555555555555556,
              "#d8576b"
             ],
             [
              0.6666666666666666,
              "#ed7953"
             ],
             [
              0.7777777777777778,
              "#fb9f3a"
             ],
             [
              0.8888888888888888,
              "#fdca26"
             ],
             [
              1,
              "#f0f921"
             ]
            ],
            "type": "heatmap"
           }
          ],
          "heatmapgl": [
           {
            "colorbar": {
             "outlinewidth": 0,
             "ticks": ""
            },
            "colorscale": [
             [
              0,
              "#0d0887"
             ],
             [
              0.1111111111111111,
              "#46039f"
             ],
             [
              0.2222222222222222,
              "#7201a8"
             ],
             [
              0.3333333333333333,
              "#9c179e"
             ],
             [
              0.4444444444444444,
              "#bd3786"
             ],
             [
              0.5555555555555556,
              "#d8576b"
             ],
             [
              0.6666666666666666,
              "#ed7953"
             ],
             [
              0.7777777777777778,
              "#fb9f3a"
             ],
             [
              0.8888888888888888,
              "#fdca26"
             ],
             [
              1,
              "#f0f921"
             ]
            ],
            "type": "heatmapgl"
           }
          ],
          "histogram": [
           {
            "marker": {
             "pattern": {
              "fillmode": "overlay",
              "size": 10,
              "solidity": 0.2
             }
            },
            "type": "histogram"
           }
          ],
          "histogram2d": [
           {
            "colorbar": {
             "outlinewidth": 0,
             "ticks": ""
            },
            "colorscale": [
             [
              0,
              "#0d0887"
             ],
             [
              0.1111111111111111,
              "#46039f"
             ],
             [
              0.2222222222222222,
              "#7201a8"
             ],
             [
              0.3333333333333333,
              "#9c179e"
             ],
             [
              0.4444444444444444,
              "#bd3786"
             ],
             [
              0.5555555555555556,
              "#d8576b"
             ],
             [
              0.6666666666666666,
              "#ed7953"
             ],
             [
              0.7777777777777778,
              "#fb9f3a"
             ],
             [
              0.8888888888888888,
              "#fdca26"
             ],
             [
              1,
              "#f0f921"
             ]
            ],
            "type": "histogram2d"
           }
          ],
          "histogram2dcontour": [
           {
            "colorbar": {
             "outlinewidth": 0,
             "ticks": ""
            },
            "colorscale": [
             [
              0,
              "#0d0887"
             ],
             [
              0.1111111111111111,
              "#46039f"
             ],
             [
              0.2222222222222222,
              "#7201a8"
             ],
             [
              0.3333333333333333,
              "#9c179e"
             ],
             [
              0.4444444444444444,
              "#bd3786"
             ],
             [
              0.5555555555555556,
              "#d8576b"
             ],
             [
              0.6666666666666666,
              "#ed7953"
             ],
             [
              0.7777777777777778,
              "#fb9f3a"
             ],
             [
              0.8888888888888888,
              "#fdca26"
             ],
             [
              1,
              "#f0f921"
             ]
            ],
            "type": "histogram2dcontour"
           }
          ],
          "mesh3d": [
           {
            "colorbar": {
             "outlinewidth": 0,
             "ticks": ""
            },
            "type": "mesh3d"
           }
          ],
          "parcoords": [
           {
            "line": {
             "colorbar": {
              "outlinewidth": 0,
              "ticks": ""
             }
            },
            "type": "parcoords"
           }
          ],
          "pie": [
           {
            "automargin": true,
            "type": "pie"
           }
          ],
          "scatter": [
           {
            "marker": {
             "colorbar": {
              "outlinewidth": 0,
              "ticks": ""
             }
            },
            "type": "scatter"
           }
          ],
          "scatter3d": [
           {
            "line": {
             "colorbar": {
              "outlinewidth": 0,
              "ticks": ""
             }
            },
            "marker": {
             "colorbar": {
              "outlinewidth": 0,
              "ticks": ""
             }
            },
            "type": "scatter3d"
           }
          ],
          "scattercarpet": [
           {
            "marker": {
             "colorbar": {
              "outlinewidth": 0,
              "ticks": ""
             }
            },
            "type": "scattercarpet"
           }
          ],
          "scattergeo": [
           {
            "marker": {
             "colorbar": {
              "outlinewidth": 0,
              "ticks": ""
             }
            },
            "type": "scattergeo"
           }
          ],
          "scattergl": [
           {
            "marker": {
             "colorbar": {
              "outlinewidth": 0,
              "ticks": ""
             }
            },
            "type": "scattergl"
           }
          ],
          "scattermapbox": [
           {
            "marker": {
             "colorbar": {
              "outlinewidth": 0,
              "ticks": ""
             }
            },
            "type": "scattermapbox"
           }
          ],
          "scatterpolar": [
           {
            "marker": {
             "colorbar": {
              "outlinewidth": 0,
              "ticks": ""
             }
            },
            "type": "scatterpolar"
           }
          ],
          "scatterpolargl": [
           {
            "marker": {
             "colorbar": {
              "outlinewidth": 0,
              "ticks": ""
             }
            },
            "type": "scatterpolargl"
           }
          ],
          "scatterternary": [
           {
            "marker": {
             "colorbar": {
              "outlinewidth": 0,
              "ticks": ""
             }
            },
            "type": "scatterternary"
           }
          ],
          "surface": [
           {
            "colorbar": {
             "outlinewidth": 0,
             "ticks": ""
            },
            "colorscale": [
             [
              0,
              "#0d0887"
             ],
             [
              0.1111111111111111,
              "#46039f"
             ],
             [
              0.2222222222222222,
              "#7201a8"
             ],
             [
              0.3333333333333333,
              "#9c179e"
             ],
             [
              0.4444444444444444,
              "#bd3786"
             ],
             [
              0.5555555555555556,
              "#d8576b"
             ],
             [
              0.6666666666666666,
              "#ed7953"
             ],
             [
              0.7777777777777778,
              "#fb9f3a"
             ],
             [
              0.8888888888888888,
              "#fdca26"
             ],
             [
              1,
              "#f0f921"
             ]
            ],
            "type": "surface"
           }
          ],
          "table": [
           {
            "cells": {
             "fill": {
              "color": "#EBF0F8"
             },
             "line": {
              "color": "white"
             }
            },
            "header": {
             "fill": {
              "color": "#C8D4E3"
             },
             "line": {
              "color": "white"
             }
            },
            "type": "table"
           }
          ]
         },
         "layout": {
          "annotationdefaults": {
           "arrowcolor": "#2a3f5f",
           "arrowhead": 0,
           "arrowwidth": 1
          },
          "autotypenumbers": "strict",
          "coloraxis": {
           "colorbar": {
            "outlinewidth": 0,
            "ticks": ""
           }
          },
          "colorscale": {
           "diverging": [
            [
             0,
             "#8e0152"
            ],
            [
             0.1,
             "#c51b7d"
            ],
            [
             0.2,
             "#de77ae"
            ],
            [
             0.3,
             "#f1b6da"
            ],
            [
             0.4,
             "#fde0ef"
            ],
            [
             0.5,
             "#f7f7f7"
            ],
            [
             0.6,
             "#e6f5d0"
            ],
            [
             0.7,
             "#b8e186"
            ],
            [
             0.8,
             "#7fbc41"
            ],
            [
             0.9,
             "#4d9221"
            ],
            [
             1,
             "#276419"
            ]
           ],
           "sequential": [
            [
             0,
             "#0d0887"
            ],
            [
             0.1111111111111111,
             "#46039f"
            ],
            [
             0.2222222222222222,
             "#7201a8"
            ],
            [
             0.3333333333333333,
             "#9c179e"
            ],
            [
             0.4444444444444444,
             "#bd3786"
            ],
            [
             0.5555555555555556,
             "#d8576b"
            ],
            [
             0.6666666666666666,
             "#ed7953"
            ],
            [
             0.7777777777777778,
             "#fb9f3a"
            ],
            [
             0.8888888888888888,
             "#fdca26"
            ],
            [
             1,
             "#f0f921"
            ]
           ],
           "sequentialminus": [
            [
             0,
             "#0d0887"
            ],
            [
             0.1111111111111111,
             "#46039f"
            ],
            [
             0.2222222222222222,
             "#7201a8"
            ],
            [
             0.3333333333333333,
             "#9c179e"
            ],
            [
             0.4444444444444444,
             "#bd3786"
            ],
            [
             0.5555555555555556,
             "#d8576b"
            ],
            [
             0.6666666666666666,
             "#ed7953"
            ],
            [
             0.7777777777777778,
             "#fb9f3a"
            ],
            [
             0.8888888888888888,
             "#fdca26"
            ],
            [
             1,
             "#f0f921"
            ]
           ]
          },
          "colorway": [
           "#636efa",
           "#EF553B",
           "#00cc96",
           "#ab63fa",
           "#FFA15A",
           "#19d3f3",
           "#FF6692",
           "#B6E880",
           "#FF97FF",
           "#FECB52"
          ],
          "font": {
           "color": "#2a3f5f"
          },
          "geo": {
           "bgcolor": "white",
           "lakecolor": "white",
           "landcolor": "#E5ECF6",
           "showlakes": true,
           "showland": true,
           "subunitcolor": "white"
          },
          "hoverlabel": {
           "align": "left"
          },
          "hovermode": "closest",
          "mapbox": {
           "style": "light"
          },
          "paper_bgcolor": "white",
          "plot_bgcolor": "#E5ECF6",
          "polar": {
           "angularaxis": {
            "gridcolor": "white",
            "linecolor": "white",
            "ticks": ""
           },
           "bgcolor": "#E5ECF6",
           "radialaxis": {
            "gridcolor": "white",
            "linecolor": "white",
            "ticks": ""
           }
          },
          "scene": {
           "xaxis": {
            "backgroundcolor": "#E5ECF6",
            "gridcolor": "white",
            "gridwidth": 2,
            "linecolor": "white",
            "showbackground": true,
            "ticks": "",
            "zerolinecolor": "white"
           },
           "yaxis": {
            "backgroundcolor": "#E5ECF6",
            "gridcolor": "white",
            "gridwidth": 2,
            "linecolor": "white",
            "showbackground": true,
            "ticks": "",
            "zerolinecolor": "white"
           },
           "zaxis": {
            "backgroundcolor": "#E5ECF6",
            "gridcolor": "white",
            "gridwidth": 2,
            "linecolor": "white",
            "showbackground": true,
            "ticks": "",
            "zerolinecolor": "white"
           }
          },
          "shapedefaults": {
           "line": {
            "color": "#2a3f5f"
           }
          },
          "ternary": {
           "aaxis": {
            "gridcolor": "white",
            "linecolor": "white",
            "ticks": ""
           },
           "baxis": {
            "gridcolor": "white",
            "linecolor": "white",
            "ticks": ""
           },
           "bgcolor": "#E5ECF6",
           "caxis": {
            "gridcolor": "white",
            "linecolor": "white",
            "ticks": ""
           }
          },
          "title": {
           "x": 0.05
          },
          "xaxis": {
           "automargin": true,
           "gridcolor": "white",
           "linecolor": "white",
           "ticks": "",
           "title": {
            "standoff": 15
           },
           "zerolinecolor": "white",
           "zerolinewidth": 2
          },
          "yaxis": {
           "automargin": true,
           "gridcolor": "white",
           "linecolor": "white",
           "ticks": "",
           "title": {
            "standoff": 15
           },
           "zerolinecolor": "white",
           "zerolinewidth": 2
          }
         }
        },
        "xaxis": {
         "anchor": "y",
         "domain": [
          0,
          1
         ],
         "title": {
          "text": "x"
         }
        },
        "yaxis": {
         "anchor": "x",
         "domain": [
          0,
          1
         ],
         "title": {
          "text": "y"
         }
        }
       }
      },
      "text/html": [
       "<div>                            <div id=\"9de974c6-7450-4dd2-9341-7aaa9f2f7ad1\" class=\"plotly-graph-div\" style=\"height:525px; width:100%;\"></div>            <script type=\"text/javascript\">                require([\"plotly\"], function(Plotly) {                    window.PLOTLYENV=window.PLOTLYENV || {};                                    if (document.getElementById(\"9de974c6-7450-4dd2-9341-7aaa9f2f7ad1\")) {                    Plotly.newPlot(                        \"9de974c6-7450-4dd2-9341-7aaa9f2f7ad1\",                        [{\"alignmentgroup\":\"True\",\"hovertemplate\":\"x=%{x}<br>y=%{y}<extra></extra>\",\"legendgroup\":\"\",\"marker\":{\"color\":\"#636efa\",\"pattern\":{\"shape\":\"\"}},\"name\":\"\",\"offsetgroup\":\"\",\"orientation\":\"v\",\"showlegend\":false,\"textposition\":\"auto\",\"type\":\"bar\",\"x\":[\"MDLZ\",\"MSFT\",\"NXPI\",\"PCAR\",\"INTC\",\"NVDA\",\"ILMN\",\"DXCM\",\"ROST\",\"LULU\",\"PRFT\",\"FTNT\",\"WIRE\",\"NFLX\",\"GAIN\",\"SYNA\",\"NYMTP\",\"ANAT\",\"TRNS\",\"SFBS\"],\"xaxis\":\"x\",\"y\":[0.0,9.844411538222508e-18,1.8574359754500223e-16,1.3264459795915295e-16,0.0,0.0,2.6510380916082076e-17,0.04750613119257958,0.18816063985267548,0.0,0.007428368504282458,0.0,0.0,0.15689143969781488,0.0,0.0,0.23412802182648293,0.029714261024185465,0.3361711379019793,0.0],\"yaxis\":\"y\"}],                        {\"barmode\":\"relative\",\"legend\":{\"tracegroupgap\":0},\"margin\":{\"t\":60},\"template\":{\"data\":{\"bar\":[{\"error_x\":{\"color\":\"#2a3f5f\"},\"error_y\":{\"color\":\"#2a3f5f\"},\"marker\":{\"line\":{\"color\":\"#E5ECF6\",\"width\":0.5},\"pattern\":{\"fillmode\":\"overlay\",\"size\":10,\"solidity\":0.2}},\"type\":\"bar\"}],\"barpolar\":[{\"marker\":{\"line\":{\"color\":\"#E5ECF6\",\"width\":0.5},\"pattern\":{\"fillmode\":\"overlay\",\"size\":10,\"solidity\":0.2}},\"type\":\"barpolar\"}],\"carpet\":[{\"aaxis\":{\"endlinecolor\":\"#2a3f5f\",\"gridcolor\":\"white\",\"linecolor\":\"white\",\"minorgridcolor\":\"white\",\"startlinecolor\":\"#2a3f5f\"},\"baxis\":{\"endlinecolor\":\"#2a3f5f\",\"gridcolor\":\"white\",\"linecolor\":\"white\",\"minorgridcolor\":\"white\",\"startlinecolor\":\"#2a3f5f\"},\"type\":\"carpet\"}],\"choropleth\":[{\"colorbar\":{\"outlinewidth\":0,\"ticks\":\"\"},\"type\":\"choropleth\"}],\"contour\":[{\"colorbar\":{\"outlinewidth\":0,\"ticks\":\"\"},\"colorscale\":[[0.0,\"#0d0887\"],[0.1111111111111111,\"#46039f\"],[0.2222222222222222,\"#7201a8\"],[0.3333333333333333,\"#9c179e\"],[0.4444444444444444,\"#bd3786\"],[0.5555555555555556,\"#d8576b\"],[0.6666666666666666,\"#ed7953\"],[0.7777777777777778,\"#fb9f3a\"],[0.8888888888888888,\"#fdca26\"],[1.0,\"#f0f921\"]],\"type\":\"contour\"}],\"contourcarpet\":[{\"colorbar\":{\"outlinewidth\":0,\"ticks\":\"\"},\"type\":\"contourcarpet\"}],\"heatmap\":[{\"colorbar\":{\"outlinewidth\":0,\"ticks\":\"\"},\"colorscale\":[[0.0,\"#0d0887\"],[0.1111111111111111,\"#46039f\"],[0.2222222222222222,\"#7201a8\"],[0.3333333333333333,\"#9c179e\"],[0.4444444444444444,\"#bd3786\"],[0.5555555555555556,\"#d8576b\"],[0.6666666666666666,\"#ed7953\"],[0.7777777777777778,\"#fb9f3a\"],[0.8888888888888888,\"#fdca26\"],[1.0,\"#f0f921\"]],\"type\":\"heatmap\"}],\"heatmapgl\":[{\"colorbar\":{\"outlinewidth\":0,\"ticks\":\"\"},\"colorscale\":[[0.0,\"#0d0887\"],[0.1111111111111111,\"#46039f\"],[0.2222222222222222,\"#7201a8\"],[0.3333333333333333,\"#9c179e\"],[0.4444444444444444,\"#bd3786\"],[0.5555555555555556,\"#d8576b\"],[0.6666666666666666,\"#ed7953\"],[0.7777777777777778,\"#fb9f3a\"],[0.8888888888888888,\"#fdca26\"],[1.0,\"#f0f921\"]],\"type\":\"heatmapgl\"}],\"histogram\":[{\"marker\":{\"pattern\":{\"fillmode\":\"overlay\",\"size\":10,\"solidity\":0.2}},\"type\":\"histogram\"}],\"histogram2d\":[{\"colorbar\":{\"outlinewidth\":0,\"ticks\":\"\"},\"colorscale\":[[0.0,\"#0d0887\"],[0.1111111111111111,\"#46039f\"],[0.2222222222222222,\"#7201a8\"],[0.3333333333333333,\"#9c179e\"],[0.4444444444444444,\"#bd3786\"],[0.5555555555555556,\"#d8576b\"],[0.6666666666666666,\"#ed7953\"],[0.7777777777777778,\"#fb9f3a\"],[0.8888888888888888,\"#fdca26\"],[1.0,\"#f0f921\"]],\"type\":\"histogram2d\"}],\"histogram2dcontour\":[{\"colorbar\":{\"outlinewidth\":0,\"ticks\":\"\"},\"colorscale\":[[0.0,\"#0d0887\"],[0.1111111111111111,\"#46039f\"],[0.2222222222222222,\"#7201a8\"],[0.3333333333333333,\"#9c179e\"],[0.4444444444444444,\"#bd3786\"],[0.5555555555555556,\"#d8576b\"],[0.6666666666666666,\"#ed7953\"],[0.7777777777777778,\"#fb9f3a\"],[0.8888888888888888,\"#fdca26\"],[1.0,\"#f0f921\"]],\"type\":\"histogram2dcontour\"}],\"mesh3d\":[{\"colorbar\":{\"outlinewidth\":0,\"ticks\":\"\"},\"type\":\"mesh3d\"}],\"parcoords\":[{\"line\":{\"colorbar\":{\"outlinewidth\":0,\"ticks\":\"\"}},\"type\":\"parcoords\"}],\"pie\":[{\"automargin\":true,\"type\":\"pie\"}],\"scatter\":[{\"marker\":{\"colorbar\":{\"outlinewidth\":0,\"ticks\":\"\"}},\"type\":\"scatter\"}],\"scatter3d\":[{\"line\":{\"colorbar\":{\"outlinewidth\":0,\"ticks\":\"\"}},\"marker\":{\"colorbar\":{\"outlinewidth\":0,\"ticks\":\"\"}},\"type\":\"scatter3d\"}],\"scattercarpet\":[{\"marker\":{\"colorbar\":{\"outlinewidth\":0,\"ticks\":\"\"}},\"type\":\"scattercarpet\"}],\"scattergeo\":[{\"marker\":{\"colorbar\":{\"outlinewidth\":0,\"ticks\":\"\"}},\"type\":\"scattergeo\"}],\"scattergl\":[{\"marker\":{\"colorbar\":{\"outlinewidth\":0,\"ticks\":\"\"}},\"type\":\"scattergl\"}],\"scattermapbox\":[{\"marker\":{\"colorbar\":{\"outlinewidth\":0,\"ticks\":\"\"}},\"type\":\"scattermapbox\"}],\"scatterpolar\":[{\"marker\":{\"colorbar\":{\"outlinewidth\":0,\"ticks\":\"\"}},\"type\":\"scatterpolar\"}],\"scatterpolargl\":[{\"marker\":{\"colorbar\":{\"outlinewidth\":0,\"ticks\":\"\"}},\"type\":\"scatterpolargl\"}],\"scatterternary\":[{\"marker\":{\"colorbar\":{\"outlinewidth\":0,\"ticks\":\"\"}},\"type\":\"scatterternary\"}],\"surface\":[{\"colorbar\":{\"outlinewidth\":0,\"ticks\":\"\"},\"colorscale\":[[0.0,\"#0d0887\"],[0.1111111111111111,\"#46039f\"],[0.2222222222222222,\"#7201a8\"],[0.3333333333333333,\"#9c179e\"],[0.4444444444444444,\"#bd3786\"],[0.5555555555555556,\"#d8576b\"],[0.6666666666666666,\"#ed7953\"],[0.7777777777777778,\"#fb9f3a\"],[0.8888888888888888,\"#fdca26\"],[1.0,\"#f0f921\"]],\"type\":\"surface\"}],\"table\":[{\"cells\":{\"fill\":{\"color\":\"#EBF0F8\"},\"line\":{\"color\":\"white\"}},\"header\":{\"fill\":{\"color\":\"#C8D4E3\"},\"line\":{\"color\":\"white\"}},\"type\":\"table\"}]},\"layout\":{\"annotationdefaults\":{\"arrowcolor\":\"#2a3f5f\",\"arrowhead\":0,\"arrowwidth\":1},\"autotypenumbers\":\"strict\",\"coloraxis\":{\"colorbar\":{\"outlinewidth\":0,\"ticks\":\"\"}},\"colorscale\":{\"diverging\":[[0,\"#8e0152\"],[0.1,\"#c51b7d\"],[0.2,\"#de77ae\"],[0.3,\"#f1b6da\"],[0.4,\"#fde0ef\"],[0.5,\"#f7f7f7\"],[0.6,\"#e6f5d0\"],[0.7,\"#b8e186\"],[0.8,\"#7fbc41\"],[0.9,\"#4d9221\"],[1,\"#276419\"]],\"sequential\":[[0.0,\"#0d0887\"],[0.1111111111111111,\"#46039f\"],[0.2222222222222222,\"#7201a8\"],[0.3333333333333333,\"#9c179e\"],[0.4444444444444444,\"#bd3786\"],[0.5555555555555556,\"#d8576b\"],[0.6666666666666666,\"#ed7953\"],[0.7777777777777778,\"#fb9f3a\"],[0.8888888888888888,\"#fdca26\"],[1.0,\"#f0f921\"]],\"sequentialminus\":[[0.0,\"#0d0887\"],[0.1111111111111111,\"#46039f\"],[0.2222222222222222,\"#7201a8\"],[0.3333333333333333,\"#9c179e\"],[0.4444444444444444,\"#bd3786\"],[0.5555555555555556,\"#d8576b\"],[0.6666666666666666,\"#ed7953\"],[0.7777777777777778,\"#fb9f3a\"],[0.8888888888888888,\"#fdca26\"],[1.0,\"#f0f921\"]]},\"colorway\":[\"#636efa\",\"#EF553B\",\"#00cc96\",\"#ab63fa\",\"#FFA15A\",\"#19d3f3\",\"#FF6692\",\"#B6E880\",\"#FF97FF\",\"#FECB52\"],\"font\":{\"color\":\"#2a3f5f\"},\"geo\":{\"bgcolor\":\"white\",\"lakecolor\":\"white\",\"landcolor\":\"#E5ECF6\",\"showlakes\":true,\"showland\":true,\"subunitcolor\":\"white\"},\"hoverlabel\":{\"align\":\"left\"},\"hovermode\":\"closest\",\"mapbox\":{\"style\":\"light\"},\"paper_bgcolor\":\"white\",\"plot_bgcolor\":\"#E5ECF6\",\"polar\":{\"angularaxis\":{\"gridcolor\":\"white\",\"linecolor\":\"white\",\"ticks\":\"\"},\"bgcolor\":\"#E5ECF6\",\"radialaxis\":{\"gridcolor\":\"white\",\"linecolor\":\"white\",\"ticks\":\"\"}},\"scene\":{\"xaxis\":{\"backgroundcolor\":\"#E5ECF6\",\"gridcolor\":\"white\",\"gridwidth\":2,\"linecolor\":\"white\",\"showbackground\":true,\"ticks\":\"\",\"zerolinecolor\":\"white\"},\"yaxis\":{\"backgroundcolor\":\"#E5ECF6\",\"gridcolor\":\"white\",\"gridwidth\":2,\"linecolor\":\"white\",\"showbackground\":true,\"ticks\":\"\",\"zerolinecolor\":\"white\"},\"zaxis\":{\"backgroundcolor\":\"#E5ECF6\",\"gridcolor\":\"white\",\"gridwidth\":2,\"linecolor\":\"white\",\"showbackground\":true,\"ticks\":\"\",\"zerolinecolor\":\"white\"}},\"shapedefaults\":{\"line\":{\"color\":\"#2a3f5f\"}},\"ternary\":{\"aaxis\":{\"gridcolor\":\"white\",\"linecolor\":\"white\",\"ticks\":\"\"},\"baxis\":{\"gridcolor\":\"white\",\"linecolor\":\"white\",\"ticks\":\"\"},\"bgcolor\":\"#E5ECF6\",\"caxis\":{\"gridcolor\":\"white\",\"linecolor\":\"white\",\"ticks\":\"\"}},\"title\":{\"x\":0.05},\"xaxis\":{\"automargin\":true,\"gridcolor\":\"white\",\"linecolor\":\"white\",\"ticks\":\"\",\"title\":{\"standoff\":15},\"zerolinecolor\":\"white\",\"zerolinewidth\":2},\"yaxis\":{\"automargin\":true,\"gridcolor\":\"white\",\"linecolor\":\"white\",\"ticks\":\"\",\"title\":{\"standoff\":15},\"zerolinecolor\":\"white\",\"zerolinewidth\":2}}},\"xaxis\":{\"anchor\":\"y\",\"domain\":[0.0,1.0],\"title\":{\"text\":\"x\"}},\"yaxis\":{\"anchor\":\"x\",\"domain\":[0.0,1.0],\"title\":{\"text\":\"y\"}}},                        {\"responsive\": true}                    ).then(function(){\n",
       "                            \n",
       "var gd = document.getElementById('9de974c6-7450-4dd2-9341-7aaa9f2f7ad1');\n",
       "var x = new MutationObserver(function (mutations, observer) {{\n",
       "        var display = window.getComputedStyle(gd).display;\n",
       "        if (!display || display === 'none') {{\n",
       "            console.log([gd, 'removed!']);\n",
       "            Plotly.purge(gd);\n",
       "            observer.disconnect();\n",
       "        }}\n",
       "}});\n",
       "\n",
       "// Listen for the removal of the full notebook cells\n",
       "var notebookContainer = gd.closest('#notebook-container');\n",
       "if (notebookContainer) {{\n",
       "    x.observe(notebookContainer, {childList: true});\n",
       "}}\n",
       "\n",
       "// Listen for the clearing of the current output cell\n",
       "var outputEl = gd.closest('.output');\n",
       "if (outputEl) {{\n",
       "    x.observe(outputEl, {childList: true});\n",
       "}}\n",
       "\n",
       "                        })                };                });            </script>        </div>"
      ]
     },
     "metadata": {},
     "output_type": "display_data"
    }
   ],
   "source": [
    "print(f'Сумма весов: {sum(opt_solution.x)}')\n",
    "fig = px.bar(x=assets, y=opt_solution.x)\n",
    "fig.show()"
   ]
  },
  {
   "cell_type": "markdown",
   "metadata": {},
   "source": [
    "#### и значение целевой функции"
   ]
  },
  {
   "cell_type": "code",
   "execution_count": 127,
   "metadata": {},
   "outputs": [
    {
     "name": "stdout",
     "output_type": "stream",
     "text": [
      "0.197984272155834\n"
     ]
    }
   ],
   "source": [
    "print(opt_solution.fun)"
   ]
  },
  {
   "cell_type": "markdown",
   "metadata": {},
   "source": [
    "#### 2.4 Сравниаем два портфеля: истинный (п.1) и выборочный (п.2.3). Оцениваем относительную ошибку в определении весов портфеля в норме Manhattan (L1 норма Минковского). Делайте выводы и сравнение в системе координат (σ, E). "
   ]
  },
  {
   "cell_type": "code",
   "execution_count": 128,
   "metadata": {},
   "outputs": [
    {
     "data": {
      "text/plain": [
       "1.1158336449343775"
      ]
     },
     "execution_count": 128,
     "metadata": {},
     "output_type": "execute_result"
    }
   ],
   "source": [
    "from scipy.spatial.distance import cityblock\n",
    "cityblock(true_opt_solution.x, opt_solution.x)"
   ]
  },
  {
   "cell_type": "markdown",
   "metadata": {},
   "source": [
    "#### 2.5 Повторите эксперимент S=40 раз и оцените среднюю относительную ошибку по S повторениям эксперимента. Сделайте выводы.  Сделайте сравнение в системе координат (σ, E). "
   ]
  },
  {
   "cell_type": "code",
   "execution_count": 129,
   "metadata": {},
   "outputs": [
    {
     "name": "stdout",
     "output_type": "stream",
     "text": [
      "Mean Erorr = 1.2931801291121534\n",
      "Mean X:\n"
     ]
    },
    {
     "data": {
      "text/plain": [
       "x_0     0.073060\n",
       "x_1     0.058124\n",
       "x_2     0.006085\n",
       "x_3     0.046647\n",
       "x_4     0.033299\n",
       "x_5     0.057037\n",
       "x_6     0.076515\n",
       "x_7     0.035264\n",
       "x_8     0.021175\n",
       "x_9     0.044473\n",
       "x_10    0.048252\n",
       "x_11    0.027472\n",
       "x_12    0.053902\n",
       "x_13    0.062691\n",
       "x_14    0.018401\n",
       "x_15    0.023723\n",
       "x_16    0.122499\n",
       "x_17    0.056028\n",
       "x_18    0.069585\n",
       "x_19    0.065768\n",
       "dtype: float64"
      ]
     },
     "execution_count": 129,
     "metadata": {},
     "output_type": "execute_result"
    }
   ],
   "source": [
    "import copy\n",
    "\n",
    "S = 40\n",
    "errors = []\n",
    "x_vectors = pd.DataFrame(columns = [f'x_{i}' for i in range(len(assets))], data=[])\n",
    "\n",
    "\n",
    "for iteration in range(0, S):\n",
    "    T = 30\n",
    "    sample_raw = np.random.multivariate_normal(estims['logret_mean'], cov_matrix, T)\n",
    "    sample = pd.DataFrame(columns=assets, data=sample_raw)\n",
    "    \n",
    "    estE = sample.mean()\n",
    "    estCov = sample.cov()\n",
    "    \n",
    "    opt_solution = find_optimal(estE, estCov)\n",
    "        \n",
    "    errors.append(cityblock(true_opt_solution.x, opt_solution.x))\n",
    "    x_vectors.loc[iteration] = (copy.deepcopy(opt_solution.x))\n",
    "\n",
    "    \n",
    "print(f'Mean Erorr = {np.mean(errors)}')\n",
    "print(f'Mean X:')\n",
    "x_vectors.mean()"
   ]
  },
  {
   "cell_type": "code",
   "execution_count": 130,
   "metadata": {},
   "outputs": [
    {
     "data": {
      "application/vnd.plotly.v1+json": {
       "config": {
        "plotlyServerURL": "https://plot.ly"
       },
       "data": [
        {
         "alignmentgroup": "True",
         "hovertemplate": "x=%{x}<br>y=%{y}<extra></extra>",
         "legendgroup": "",
         "marker": {
          "color": "#636efa",
          "pattern": {
           "shape": ""
          }
         },
         "name": "",
         "offsetgroup": "",
         "orientation": "v",
         "showlegend": false,
         "textposition": "auto",
         "type": "bar",
         "x": [
          "MDLZ",
          "MSFT",
          "NXPI",
          "PCAR",
          "INTC",
          "NVDA",
          "ILMN",
          "DXCM",
          "ROST",
          "LULU",
          "PRFT",
          "FTNT",
          "WIRE",
          "NFLX",
          "GAIN",
          "SYNA",
          "NYMTP",
          "ANAT",
          "TRNS",
          "SFBS"
         ],
         "xaxis": "x",
         "y": [
          0.07306041767730273,
          0.058123664659252984,
          0.006084766806131243,
          0.046646696484201514,
          0.03329898601867411,
          0.05703736933829353,
          0.07651528878502509,
          0.03526383404234395,
          0.021174629403086124,
          0.04447340229195962,
          0.048251932787396395,
          0.02747195367518924,
          0.053901906153352754,
          0.06269133690191162,
          0.018401361526978875,
          0.023723408023397223,
          0.12249894230864342,
          0.05602754641967537,
          0.06958486972436392,
          0.06576768697282083
         ],
         "yaxis": "y"
        }
       ],
       "layout": {
        "barmode": "relative",
        "legend": {
         "tracegroupgap": 0
        },
        "template": {
         "data": {
          "bar": [
           {
            "error_x": {
             "color": "#2a3f5f"
            },
            "error_y": {
             "color": "#2a3f5f"
            },
            "marker": {
             "line": {
              "color": "#E5ECF6",
              "width": 0.5
             },
             "pattern": {
              "fillmode": "overlay",
              "size": 10,
              "solidity": 0.2
             }
            },
            "type": "bar"
           }
          ],
          "barpolar": [
           {
            "marker": {
             "line": {
              "color": "#E5ECF6",
              "width": 0.5
             },
             "pattern": {
              "fillmode": "overlay",
              "size": 10,
              "solidity": 0.2
             }
            },
            "type": "barpolar"
           }
          ],
          "carpet": [
           {
            "aaxis": {
             "endlinecolor": "#2a3f5f",
             "gridcolor": "white",
             "linecolor": "white",
             "minorgridcolor": "white",
             "startlinecolor": "#2a3f5f"
            },
            "baxis": {
             "endlinecolor": "#2a3f5f",
             "gridcolor": "white",
             "linecolor": "white",
             "minorgridcolor": "white",
             "startlinecolor": "#2a3f5f"
            },
            "type": "carpet"
           }
          ],
          "choropleth": [
           {
            "colorbar": {
             "outlinewidth": 0,
             "ticks": ""
            },
            "type": "choropleth"
           }
          ],
          "contour": [
           {
            "colorbar": {
             "outlinewidth": 0,
             "ticks": ""
            },
            "colorscale": [
             [
              0,
              "#0d0887"
             ],
             [
              0.1111111111111111,
              "#46039f"
             ],
             [
              0.2222222222222222,
              "#7201a8"
             ],
             [
              0.3333333333333333,
              "#9c179e"
             ],
             [
              0.4444444444444444,
              "#bd3786"
             ],
             [
              0.5555555555555556,
              "#d8576b"
             ],
             [
              0.6666666666666666,
              "#ed7953"
             ],
             [
              0.7777777777777778,
              "#fb9f3a"
             ],
             [
              0.8888888888888888,
              "#fdca26"
             ],
             [
              1,
              "#f0f921"
             ]
            ],
            "type": "contour"
           }
          ],
          "contourcarpet": [
           {
            "colorbar": {
             "outlinewidth": 0,
             "ticks": ""
            },
            "type": "contourcarpet"
           }
          ],
          "heatmap": [
           {
            "colorbar": {
             "outlinewidth": 0,
             "ticks": ""
            },
            "colorscale": [
             [
              0,
              "#0d0887"
             ],
             [
              0.1111111111111111,
              "#46039f"
             ],
             [
              0.2222222222222222,
              "#7201a8"
             ],
             [
              0.3333333333333333,
              "#9c179e"
             ],
             [
              0.4444444444444444,
              "#bd3786"
             ],
             [
              0.5555555555555556,
              "#d8576b"
             ],
             [
              0.6666666666666666,
              "#ed7953"
             ],
             [
              0.7777777777777778,
              "#fb9f3a"
             ],
             [
              0.8888888888888888,
              "#fdca26"
             ],
             [
              1,
              "#f0f921"
             ]
            ],
            "type": "heatmap"
           }
          ],
          "heatmapgl": [
           {
            "colorbar": {
             "outlinewidth": 0,
             "ticks": ""
            },
            "colorscale": [
             [
              0,
              "#0d0887"
             ],
             [
              0.1111111111111111,
              "#46039f"
             ],
             [
              0.2222222222222222,
              "#7201a8"
             ],
             [
              0.3333333333333333,
              "#9c179e"
             ],
             [
              0.4444444444444444,
              "#bd3786"
             ],
             [
              0.5555555555555556,
              "#d8576b"
             ],
             [
              0.6666666666666666,
              "#ed7953"
             ],
             [
              0.7777777777777778,
              "#fb9f3a"
             ],
             [
              0.8888888888888888,
              "#fdca26"
             ],
             [
              1,
              "#f0f921"
             ]
            ],
            "type": "heatmapgl"
           }
          ],
          "histogram": [
           {
            "marker": {
             "pattern": {
              "fillmode": "overlay",
              "size": 10,
              "solidity": 0.2
             }
            },
            "type": "histogram"
           }
          ],
          "histogram2d": [
           {
            "colorbar": {
             "outlinewidth": 0,
             "ticks": ""
            },
            "colorscale": [
             [
              0,
              "#0d0887"
             ],
             [
              0.1111111111111111,
              "#46039f"
             ],
             [
              0.2222222222222222,
              "#7201a8"
             ],
             [
              0.3333333333333333,
              "#9c179e"
             ],
             [
              0.4444444444444444,
              "#bd3786"
             ],
             [
              0.5555555555555556,
              "#d8576b"
             ],
             [
              0.6666666666666666,
              "#ed7953"
             ],
             [
              0.7777777777777778,
              "#fb9f3a"
             ],
             [
              0.8888888888888888,
              "#fdca26"
             ],
             [
              1,
              "#f0f921"
             ]
            ],
            "type": "histogram2d"
           }
          ],
          "histogram2dcontour": [
           {
            "colorbar": {
             "outlinewidth": 0,
             "ticks": ""
            },
            "colorscale": [
             [
              0,
              "#0d0887"
             ],
             [
              0.1111111111111111,
              "#46039f"
             ],
             [
              0.2222222222222222,
              "#7201a8"
             ],
             [
              0.3333333333333333,
              "#9c179e"
             ],
             [
              0.4444444444444444,
              "#bd3786"
             ],
             [
              0.5555555555555556,
              "#d8576b"
             ],
             [
              0.6666666666666666,
              "#ed7953"
             ],
             [
              0.7777777777777778,
              "#fb9f3a"
             ],
             [
              0.8888888888888888,
              "#fdca26"
             ],
             [
              1,
              "#f0f921"
             ]
            ],
            "type": "histogram2dcontour"
           }
          ],
          "mesh3d": [
           {
            "colorbar": {
             "outlinewidth": 0,
             "ticks": ""
            },
            "type": "mesh3d"
           }
          ],
          "parcoords": [
           {
            "line": {
             "colorbar": {
              "outlinewidth": 0,
              "ticks": ""
             }
            },
            "type": "parcoords"
           }
          ],
          "pie": [
           {
            "automargin": true,
            "type": "pie"
           }
          ],
          "scatter": [
           {
            "marker": {
             "colorbar": {
              "outlinewidth": 0,
              "ticks": ""
             }
            },
            "type": "scatter"
           }
          ],
          "scatter3d": [
           {
            "line": {
             "colorbar": {
              "outlinewidth": 0,
              "ticks": ""
             }
            },
            "marker": {
             "colorbar": {
              "outlinewidth": 0,
              "ticks": ""
             }
            },
            "type": "scatter3d"
           }
          ],
          "scattercarpet": [
           {
            "marker": {
             "colorbar": {
              "outlinewidth": 0,
              "ticks": ""
             }
            },
            "type": "scattercarpet"
           }
          ],
          "scattergeo": [
           {
            "marker": {
             "colorbar": {
              "outlinewidth": 0,
              "ticks": ""
             }
            },
            "type": "scattergeo"
           }
          ],
          "scattergl": [
           {
            "marker": {
             "colorbar": {
              "outlinewidth": 0,
              "ticks": ""
             }
            },
            "type": "scattergl"
           }
          ],
          "scattermapbox": [
           {
            "marker": {
             "colorbar": {
              "outlinewidth": 0,
              "ticks": ""
             }
            },
            "type": "scattermapbox"
           }
          ],
          "scatterpolar": [
           {
            "marker": {
             "colorbar": {
              "outlinewidth": 0,
              "ticks": ""
             }
            },
            "type": "scatterpolar"
           }
          ],
          "scatterpolargl": [
           {
            "marker": {
             "colorbar": {
              "outlinewidth": 0,
              "ticks": ""
             }
            },
            "type": "scatterpolargl"
           }
          ],
          "scatterternary": [
           {
            "marker": {
             "colorbar": {
              "outlinewidth": 0,
              "ticks": ""
             }
            },
            "type": "scatterternary"
           }
          ],
          "surface": [
           {
            "colorbar": {
             "outlinewidth": 0,
             "ticks": ""
            },
            "colorscale": [
             [
              0,
              "#0d0887"
             ],
             [
              0.1111111111111111,
              "#46039f"
             ],
             [
              0.2222222222222222,
              "#7201a8"
             ],
             [
              0.3333333333333333,
              "#9c179e"
             ],
             [
              0.4444444444444444,
              "#bd3786"
             ],
             [
              0.5555555555555556,
              "#d8576b"
             ],
             [
              0.6666666666666666,
              "#ed7953"
             ],
             [
              0.7777777777777778,
              "#fb9f3a"
             ],
             [
              0.8888888888888888,
              "#fdca26"
             ],
             [
              1,
              "#f0f921"
             ]
            ],
            "type": "surface"
           }
          ],
          "table": [
           {
            "cells": {
             "fill": {
              "color": "#EBF0F8"
             },
             "line": {
              "color": "white"
             }
            },
            "header": {
             "fill": {
              "color": "#C8D4E3"
             },
             "line": {
              "color": "white"
             }
            },
            "type": "table"
           }
          ]
         },
         "layout": {
          "annotationdefaults": {
           "arrowcolor": "#2a3f5f",
           "arrowhead": 0,
           "arrowwidth": 1
          },
          "autotypenumbers": "strict",
          "coloraxis": {
           "colorbar": {
            "outlinewidth": 0,
            "ticks": ""
           }
          },
          "colorscale": {
           "diverging": [
            [
             0,
             "#8e0152"
            ],
            [
             0.1,
             "#c51b7d"
            ],
            [
             0.2,
             "#de77ae"
            ],
            [
             0.3,
             "#f1b6da"
            ],
            [
             0.4,
             "#fde0ef"
            ],
            [
             0.5,
             "#f7f7f7"
            ],
            [
             0.6,
             "#e6f5d0"
            ],
            [
             0.7,
             "#b8e186"
            ],
            [
             0.8,
             "#7fbc41"
            ],
            [
             0.9,
             "#4d9221"
            ],
            [
             1,
             "#276419"
            ]
           ],
           "sequential": [
            [
             0,
             "#0d0887"
            ],
            [
             0.1111111111111111,
             "#46039f"
            ],
            [
             0.2222222222222222,
             "#7201a8"
            ],
            [
             0.3333333333333333,
             "#9c179e"
            ],
            [
             0.4444444444444444,
             "#bd3786"
            ],
            [
             0.5555555555555556,
             "#d8576b"
            ],
            [
             0.6666666666666666,
             "#ed7953"
            ],
            [
             0.7777777777777778,
             "#fb9f3a"
            ],
            [
             0.8888888888888888,
             "#fdca26"
            ],
            [
             1,
             "#f0f921"
            ]
           ],
           "sequentialminus": [
            [
             0,
             "#0d0887"
            ],
            [
             0.1111111111111111,
             "#46039f"
            ],
            [
             0.2222222222222222,
             "#7201a8"
            ],
            [
             0.3333333333333333,
             "#9c179e"
            ],
            [
             0.4444444444444444,
             "#bd3786"
            ],
            [
             0.5555555555555556,
             "#d8576b"
            ],
            [
             0.6666666666666666,
             "#ed7953"
            ],
            [
             0.7777777777777778,
             "#fb9f3a"
            ],
            [
             0.8888888888888888,
             "#fdca26"
            ],
            [
             1,
             "#f0f921"
            ]
           ]
          },
          "colorway": [
           "#636efa",
           "#EF553B",
           "#00cc96",
           "#ab63fa",
           "#FFA15A",
           "#19d3f3",
           "#FF6692",
           "#B6E880",
           "#FF97FF",
           "#FECB52"
          ],
          "font": {
           "color": "#2a3f5f"
          },
          "geo": {
           "bgcolor": "white",
           "lakecolor": "white",
           "landcolor": "#E5ECF6",
           "showlakes": true,
           "showland": true,
           "subunitcolor": "white"
          },
          "hoverlabel": {
           "align": "left"
          },
          "hovermode": "closest",
          "mapbox": {
           "style": "light"
          },
          "paper_bgcolor": "white",
          "plot_bgcolor": "#E5ECF6",
          "polar": {
           "angularaxis": {
            "gridcolor": "white",
            "linecolor": "white",
            "ticks": ""
           },
           "bgcolor": "#E5ECF6",
           "radialaxis": {
            "gridcolor": "white",
            "linecolor": "white",
            "ticks": ""
           }
          },
          "scene": {
           "xaxis": {
            "backgroundcolor": "#E5ECF6",
            "gridcolor": "white",
            "gridwidth": 2,
            "linecolor": "white",
            "showbackground": true,
            "ticks": "",
            "zerolinecolor": "white"
           },
           "yaxis": {
            "backgroundcolor": "#E5ECF6",
            "gridcolor": "white",
            "gridwidth": 2,
            "linecolor": "white",
            "showbackground": true,
            "ticks": "",
            "zerolinecolor": "white"
           },
           "zaxis": {
            "backgroundcolor": "#E5ECF6",
            "gridcolor": "white",
            "gridwidth": 2,
            "linecolor": "white",
            "showbackground": true,
            "ticks": "",
            "zerolinecolor": "white"
           }
          },
          "shapedefaults": {
           "line": {
            "color": "#2a3f5f"
           }
          },
          "ternary": {
           "aaxis": {
            "gridcolor": "white",
            "linecolor": "white",
            "ticks": ""
           },
           "baxis": {
            "gridcolor": "white",
            "linecolor": "white",
            "ticks": ""
           },
           "bgcolor": "#E5ECF6",
           "caxis": {
            "gridcolor": "white",
            "linecolor": "white",
            "ticks": ""
           }
          },
          "title": {
           "x": 0.05
          },
          "xaxis": {
           "automargin": true,
           "gridcolor": "white",
           "linecolor": "white",
           "ticks": "",
           "title": {
            "standoff": 15
           },
           "zerolinecolor": "white",
           "zerolinewidth": 2
          },
          "yaxis": {
           "automargin": true,
           "gridcolor": "white",
           "linecolor": "white",
           "ticks": "",
           "title": {
            "standoff": 15
           },
           "zerolinecolor": "white",
           "zerolinewidth": 2
          }
         }
        },
        "title": {
         "text": "Mean X"
        },
        "xaxis": {
         "anchor": "y",
         "domain": [
          0,
          1
         ],
         "title": {
          "text": "x"
         }
        },
        "yaxis": {
         "anchor": "x",
         "domain": [
          0,
          1
         ],
         "title": {
          "text": "y"
         }
        }
       }
      },
      "text/html": [
       "<div>                            <div id=\"6912dac8-db26-4f86-932e-894024528e1b\" class=\"plotly-graph-div\" style=\"height:525px; width:100%;\"></div>            <script type=\"text/javascript\">                require([\"plotly\"], function(Plotly) {                    window.PLOTLYENV=window.PLOTLYENV || {};                                    if (document.getElementById(\"6912dac8-db26-4f86-932e-894024528e1b\")) {                    Plotly.newPlot(                        \"6912dac8-db26-4f86-932e-894024528e1b\",                        [{\"alignmentgroup\":\"True\",\"hovertemplate\":\"x=%{x}<br>y=%{y}<extra></extra>\",\"legendgroup\":\"\",\"marker\":{\"color\":\"#636efa\",\"pattern\":{\"shape\":\"\"}},\"name\":\"\",\"offsetgroup\":\"\",\"orientation\":\"v\",\"showlegend\":false,\"textposition\":\"auto\",\"type\":\"bar\",\"x\":[\"MDLZ\",\"MSFT\",\"NXPI\",\"PCAR\",\"INTC\",\"NVDA\",\"ILMN\",\"DXCM\",\"ROST\",\"LULU\",\"PRFT\",\"FTNT\",\"WIRE\",\"NFLX\",\"GAIN\",\"SYNA\",\"NYMTP\",\"ANAT\",\"TRNS\",\"SFBS\"],\"xaxis\":\"x\",\"y\":[0.07306041767730273,0.058123664659252984,0.006084766806131243,0.046646696484201514,0.03329898601867411,0.05703736933829353,0.07651528878502509,0.03526383404234395,0.021174629403086124,0.04447340229195962,0.048251932787396395,0.02747195367518924,0.053901906153352754,0.06269133690191162,0.018401361526978875,0.023723408023397223,0.12249894230864342,0.05602754641967537,0.06958486972436392,0.06576768697282083],\"yaxis\":\"y\"}],                        {\"barmode\":\"relative\",\"legend\":{\"tracegroupgap\":0},\"template\":{\"data\":{\"bar\":[{\"error_x\":{\"color\":\"#2a3f5f\"},\"error_y\":{\"color\":\"#2a3f5f\"},\"marker\":{\"line\":{\"color\":\"#E5ECF6\",\"width\":0.5},\"pattern\":{\"fillmode\":\"overlay\",\"size\":10,\"solidity\":0.2}},\"type\":\"bar\"}],\"barpolar\":[{\"marker\":{\"line\":{\"color\":\"#E5ECF6\",\"width\":0.5},\"pattern\":{\"fillmode\":\"overlay\",\"size\":10,\"solidity\":0.2}},\"type\":\"barpolar\"}],\"carpet\":[{\"aaxis\":{\"endlinecolor\":\"#2a3f5f\",\"gridcolor\":\"white\",\"linecolor\":\"white\",\"minorgridcolor\":\"white\",\"startlinecolor\":\"#2a3f5f\"},\"baxis\":{\"endlinecolor\":\"#2a3f5f\",\"gridcolor\":\"white\",\"linecolor\":\"white\",\"minorgridcolor\":\"white\",\"startlinecolor\":\"#2a3f5f\"},\"type\":\"carpet\"}],\"choropleth\":[{\"colorbar\":{\"outlinewidth\":0,\"ticks\":\"\"},\"type\":\"choropleth\"}],\"contour\":[{\"colorbar\":{\"outlinewidth\":0,\"ticks\":\"\"},\"colorscale\":[[0.0,\"#0d0887\"],[0.1111111111111111,\"#46039f\"],[0.2222222222222222,\"#7201a8\"],[0.3333333333333333,\"#9c179e\"],[0.4444444444444444,\"#bd3786\"],[0.5555555555555556,\"#d8576b\"],[0.6666666666666666,\"#ed7953\"],[0.7777777777777778,\"#fb9f3a\"],[0.8888888888888888,\"#fdca26\"],[1.0,\"#f0f921\"]],\"type\":\"contour\"}],\"contourcarpet\":[{\"colorbar\":{\"outlinewidth\":0,\"ticks\":\"\"},\"type\":\"contourcarpet\"}],\"heatmap\":[{\"colorbar\":{\"outlinewidth\":0,\"ticks\":\"\"},\"colorscale\":[[0.0,\"#0d0887\"],[0.1111111111111111,\"#46039f\"],[0.2222222222222222,\"#7201a8\"],[0.3333333333333333,\"#9c179e\"],[0.4444444444444444,\"#bd3786\"],[0.5555555555555556,\"#d8576b\"],[0.6666666666666666,\"#ed7953\"],[0.7777777777777778,\"#fb9f3a\"],[0.8888888888888888,\"#fdca26\"],[1.0,\"#f0f921\"]],\"type\":\"heatmap\"}],\"heatmapgl\":[{\"colorbar\":{\"outlinewidth\":0,\"ticks\":\"\"},\"colorscale\":[[0.0,\"#0d0887\"],[0.1111111111111111,\"#46039f\"],[0.2222222222222222,\"#7201a8\"],[0.3333333333333333,\"#9c179e\"],[0.4444444444444444,\"#bd3786\"],[0.5555555555555556,\"#d8576b\"],[0.6666666666666666,\"#ed7953\"],[0.7777777777777778,\"#fb9f3a\"],[0.8888888888888888,\"#fdca26\"],[1.0,\"#f0f921\"]],\"type\":\"heatmapgl\"}],\"histogram\":[{\"marker\":{\"pattern\":{\"fillmode\":\"overlay\",\"size\":10,\"solidity\":0.2}},\"type\":\"histogram\"}],\"histogram2d\":[{\"colorbar\":{\"outlinewidth\":0,\"ticks\":\"\"},\"colorscale\":[[0.0,\"#0d0887\"],[0.1111111111111111,\"#46039f\"],[0.2222222222222222,\"#7201a8\"],[0.3333333333333333,\"#9c179e\"],[0.4444444444444444,\"#bd3786\"],[0.5555555555555556,\"#d8576b\"],[0.6666666666666666,\"#ed7953\"],[0.7777777777777778,\"#fb9f3a\"],[0.8888888888888888,\"#fdca26\"],[1.0,\"#f0f921\"]],\"type\":\"histogram2d\"}],\"histogram2dcontour\":[{\"colorbar\":{\"outlinewidth\":0,\"ticks\":\"\"},\"colorscale\":[[0.0,\"#0d0887\"],[0.1111111111111111,\"#46039f\"],[0.2222222222222222,\"#7201a8\"],[0.3333333333333333,\"#9c179e\"],[0.4444444444444444,\"#bd3786\"],[0.5555555555555556,\"#d8576b\"],[0.6666666666666666,\"#ed7953\"],[0.7777777777777778,\"#fb9f3a\"],[0.8888888888888888,\"#fdca26\"],[1.0,\"#f0f921\"]],\"type\":\"histogram2dcontour\"}],\"mesh3d\":[{\"colorbar\":{\"outlinewidth\":0,\"ticks\":\"\"},\"type\":\"mesh3d\"}],\"parcoords\":[{\"line\":{\"colorbar\":{\"outlinewidth\":0,\"ticks\":\"\"}},\"type\":\"parcoords\"}],\"pie\":[{\"automargin\":true,\"type\":\"pie\"}],\"scatter\":[{\"marker\":{\"colorbar\":{\"outlinewidth\":0,\"ticks\":\"\"}},\"type\":\"scatter\"}],\"scatter3d\":[{\"line\":{\"colorbar\":{\"outlinewidth\":0,\"ticks\":\"\"}},\"marker\":{\"colorbar\":{\"outlinewidth\":0,\"ticks\":\"\"}},\"type\":\"scatter3d\"}],\"scattercarpet\":[{\"marker\":{\"colorbar\":{\"outlinewidth\":0,\"ticks\":\"\"}},\"type\":\"scattercarpet\"}],\"scattergeo\":[{\"marker\":{\"colorbar\":{\"outlinewidth\":0,\"ticks\":\"\"}},\"type\":\"scattergeo\"}],\"scattergl\":[{\"marker\":{\"colorbar\":{\"outlinewidth\":0,\"ticks\":\"\"}},\"type\":\"scattergl\"}],\"scattermapbox\":[{\"marker\":{\"colorbar\":{\"outlinewidth\":0,\"ticks\":\"\"}},\"type\":\"scattermapbox\"}],\"scatterpolar\":[{\"marker\":{\"colorbar\":{\"outlinewidth\":0,\"ticks\":\"\"}},\"type\":\"scatterpolar\"}],\"scatterpolargl\":[{\"marker\":{\"colorbar\":{\"outlinewidth\":0,\"ticks\":\"\"}},\"type\":\"scatterpolargl\"}],\"scatterternary\":[{\"marker\":{\"colorbar\":{\"outlinewidth\":0,\"ticks\":\"\"}},\"type\":\"scatterternary\"}],\"surface\":[{\"colorbar\":{\"outlinewidth\":0,\"ticks\":\"\"},\"colorscale\":[[0.0,\"#0d0887\"],[0.1111111111111111,\"#46039f\"],[0.2222222222222222,\"#7201a8\"],[0.3333333333333333,\"#9c179e\"],[0.4444444444444444,\"#bd3786\"],[0.5555555555555556,\"#d8576b\"],[0.6666666666666666,\"#ed7953\"],[0.7777777777777778,\"#fb9f3a\"],[0.8888888888888888,\"#fdca26\"],[1.0,\"#f0f921\"]],\"type\":\"surface\"}],\"table\":[{\"cells\":{\"fill\":{\"color\":\"#EBF0F8\"},\"line\":{\"color\":\"white\"}},\"header\":{\"fill\":{\"color\":\"#C8D4E3\"},\"line\":{\"color\":\"white\"}},\"type\":\"table\"}]},\"layout\":{\"annotationdefaults\":{\"arrowcolor\":\"#2a3f5f\",\"arrowhead\":0,\"arrowwidth\":1},\"autotypenumbers\":\"strict\",\"coloraxis\":{\"colorbar\":{\"outlinewidth\":0,\"ticks\":\"\"}},\"colorscale\":{\"diverging\":[[0,\"#8e0152\"],[0.1,\"#c51b7d\"],[0.2,\"#de77ae\"],[0.3,\"#f1b6da\"],[0.4,\"#fde0ef\"],[0.5,\"#f7f7f7\"],[0.6,\"#e6f5d0\"],[0.7,\"#b8e186\"],[0.8,\"#7fbc41\"],[0.9,\"#4d9221\"],[1,\"#276419\"]],\"sequential\":[[0.0,\"#0d0887\"],[0.1111111111111111,\"#46039f\"],[0.2222222222222222,\"#7201a8\"],[0.3333333333333333,\"#9c179e\"],[0.4444444444444444,\"#bd3786\"],[0.5555555555555556,\"#d8576b\"],[0.6666666666666666,\"#ed7953\"],[0.7777777777777778,\"#fb9f3a\"],[0.8888888888888888,\"#fdca26\"],[1.0,\"#f0f921\"]],\"sequentialminus\":[[0.0,\"#0d0887\"],[0.1111111111111111,\"#46039f\"],[0.2222222222222222,\"#7201a8\"],[0.3333333333333333,\"#9c179e\"],[0.4444444444444444,\"#bd3786\"],[0.5555555555555556,\"#d8576b\"],[0.6666666666666666,\"#ed7953\"],[0.7777777777777778,\"#fb9f3a\"],[0.8888888888888888,\"#fdca26\"],[1.0,\"#f0f921\"]]},\"colorway\":[\"#636efa\",\"#EF553B\",\"#00cc96\",\"#ab63fa\",\"#FFA15A\",\"#19d3f3\",\"#FF6692\",\"#B6E880\",\"#FF97FF\",\"#FECB52\"],\"font\":{\"color\":\"#2a3f5f\"},\"geo\":{\"bgcolor\":\"white\",\"lakecolor\":\"white\",\"landcolor\":\"#E5ECF6\",\"showlakes\":true,\"showland\":true,\"subunitcolor\":\"white\"},\"hoverlabel\":{\"align\":\"left\"},\"hovermode\":\"closest\",\"mapbox\":{\"style\":\"light\"},\"paper_bgcolor\":\"white\",\"plot_bgcolor\":\"#E5ECF6\",\"polar\":{\"angularaxis\":{\"gridcolor\":\"white\",\"linecolor\":\"white\",\"ticks\":\"\"},\"bgcolor\":\"#E5ECF6\",\"radialaxis\":{\"gridcolor\":\"white\",\"linecolor\":\"white\",\"ticks\":\"\"}},\"scene\":{\"xaxis\":{\"backgroundcolor\":\"#E5ECF6\",\"gridcolor\":\"white\",\"gridwidth\":2,\"linecolor\":\"white\",\"showbackground\":true,\"ticks\":\"\",\"zerolinecolor\":\"white\"},\"yaxis\":{\"backgroundcolor\":\"#E5ECF6\",\"gridcolor\":\"white\",\"gridwidth\":2,\"linecolor\":\"white\",\"showbackground\":true,\"ticks\":\"\",\"zerolinecolor\":\"white\"},\"zaxis\":{\"backgroundcolor\":\"#E5ECF6\",\"gridcolor\":\"white\",\"gridwidth\":2,\"linecolor\":\"white\",\"showbackground\":true,\"ticks\":\"\",\"zerolinecolor\":\"white\"}},\"shapedefaults\":{\"line\":{\"color\":\"#2a3f5f\"}},\"ternary\":{\"aaxis\":{\"gridcolor\":\"white\",\"linecolor\":\"white\",\"ticks\":\"\"},\"baxis\":{\"gridcolor\":\"white\",\"linecolor\":\"white\",\"ticks\":\"\"},\"bgcolor\":\"#E5ECF6\",\"caxis\":{\"gridcolor\":\"white\",\"linecolor\":\"white\",\"ticks\":\"\"}},\"title\":{\"x\":0.05},\"xaxis\":{\"automargin\":true,\"gridcolor\":\"white\",\"linecolor\":\"white\",\"ticks\":\"\",\"title\":{\"standoff\":15},\"zerolinecolor\":\"white\",\"zerolinewidth\":2},\"yaxis\":{\"automargin\":true,\"gridcolor\":\"white\",\"linecolor\":\"white\",\"ticks\":\"\",\"title\":{\"standoff\":15},\"zerolinecolor\":\"white\",\"zerolinewidth\":2}}},\"title\":{\"text\":\"Mean X\"},\"xaxis\":{\"anchor\":\"y\",\"domain\":[0.0,1.0],\"title\":{\"text\":\"x\"}},\"yaxis\":{\"anchor\":\"x\",\"domain\":[0.0,1.0],\"title\":{\"text\":\"y\"}}},                        {\"responsive\": true}                    ).then(function(){\n",
       "                            \n",
       "var gd = document.getElementById('6912dac8-db26-4f86-932e-894024528e1b');\n",
       "var x = new MutationObserver(function (mutations, observer) {{\n",
       "        var display = window.getComputedStyle(gd).display;\n",
       "        if (!display || display === 'none') {{\n",
       "            console.log([gd, 'removed!']);\n",
       "            Plotly.purge(gd);\n",
       "            observer.disconnect();\n",
       "        }}\n",
       "}});\n",
       "\n",
       "// Listen for the removal of the full notebook cells\n",
       "var notebookContainer = gd.closest('#notebook-container');\n",
       "if (notebookContainer) {{\n",
       "    x.observe(notebookContainer, {childList: true});\n",
       "}}\n",
       "\n",
       "// Listen for the clearing of the current output cell\n",
       "var outputEl = gd.closest('.output');\n",
       "if (outputEl) {{\n",
       "    x.observe(outputEl, {childList: true});\n",
       "}}\n",
       "\n",
       "                        })                };                });            </script>        </div>"
      ]
     },
     "metadata": {},
     "output_type": "display_data"
    }
   ],
   "source": [
    "import plotly.express as px\n",
    "\n",
    "fig = px.bar(x=assets, y=x_vectors.mean(), title='Mean X')\n",
    "fig.show()"
   ]
  },
  {
   "cell_type": "markdown",
   "metadata": {},
   "source": [
    "#### 2.6  Предположите, что нам известны точные значения математических ожиданий E=(E1, E2, …, EN). Повторяем пп. 2.2-2.5. используя оценку только матрицы ковариаций"
   ]
  },
  {
   "cell_type": "code",
   "execution_count": 131,
   "metadata": {},
   "outputs": [
    {
     "name": "stdout",
     "output_type": "stream",
     "text": [
      "Mean Erorr = 0.8892722881137576\n",
      "Mean X:\n"
     ]
    },
    {
     "data": {
      "text/plain": [
       "x_0     0.080107\n",
       "x_1     0.012843\n",
       "x_2     0.001826\n",
       "x_3     0.051800\n",
       "x_4     0.045563\n",
       "x_5     0.041645\n",
       "x_6     0.054977\n",
       "x_7     0.040473\n",
       "x_8     0.020464\n",
       "x_9     0.023342\n",
       "x_10    0.030938\n",
       "x_11    0.046346\n",
       "x_12    0.051800\n",
       "x_13    0.065017\n",
       "x_14    0.010234\n",
       "x_15    0.019491\n",
       "x_16    0.174925\n",
       "x_17    0.125652\n",
       "x_18    0.065881\n",
       "x_19    0.036675\n",
       "dtype: float64"
      ]
     },
     "execution_count": 131,
     "metadata": {},
     "output_type": "execute_result"
    }
   ],
   "source": [
    "import copy\n",
    "\n",
    "S = 40\n",
    "errors = []\n",
    "x_vectors = pd.DataFrame(columns = [f'x_{i}' for i in range(len(assets))], data=[])\n",
    "\n",
    "\n",
    "for iteration in range(0, S):\n",
    "    T = 30\n",
    "    sample_raw = np.random.multivariate_normal(estims['logret_mean'], cov_matrix, T)\n",
    "    sample = pd.DataFrame(columns=assets, data=sample_raw)\n",
    "    \n",
    "    estE = sample.mean()\n",
    "    estCov = sample.cov()\n",
    "    \n",
    "    opt_solution = find_optimal(estims['logret_mean'], estCov)\n",
    "        \n",
    "    errors.append(cityblock(true_opt_solution.x, opt_solution.x))\n",
    "    x_vectors.loc[iteration] = (copy.deepcopy(opt_solution.x))\n",
    "\n",
    "    \n",
    "print(f'Mean Erorr = {np.mean(errors)}')\n",
    "print(f'Mean X:')\n",
    "x_vectors.mean()"
   ]
  },
  {
   "cell_type": "code",
   "execution_count": 132,
   "metadata": {},
   "outputs": [
    {
     "data": {
      "application/vnd.plotly.v1+json": {
       "config": {
        "plotlyServerURL": "https://plot.ly"
       },
       "data": [
        {
         "alignmentgroup": "True",
         "hovertemplate": "x=%{x}<br>y=%{y}<extra></extra>",
         "legendgroup": "",
         "marker": {
          "color": "#636efa",
          "pattern": {
           "shape": ""
          }
         },
         "name": "",
         "offsetgroup": "",
         "orientation": "v",
         "showlegend": false,
         "textposition": "auto",
         "type": "bar",
         "x": [
          "MDLZ",
          "MSFT",
          "NXPI",
          "PCAR",
          "INTC",
          "NVDA",
          "ILMN",
          "DXCM",
          "ROST",
          "LULU",
          "PRFT",
          "FTNT",
          "WIRE",
          "NFLX",
          "GAIN",
          "SYNA",
          "NYMTP",
          "ANAT",
          "TRNS",
          "SFBS"
         ],
         "xaxis": "x",
         "y": [
          0.08010667089964965,
          0.012843018958533101,
          0.0018259724454687601,
          0.051800274971945504,
          0.04556342785073817,
          0.04164523048890831,
          0.054976981355998586,
          0.040473324542595626,
          0.02046424585879841,
          0.023341537288888797,
          0.03093765380495201,
          0.04634616711333047,
          0.05180025743236253,
          0.06501703144175078,
          0.010234206706577344,
          0.01949095149878176,
          0.17492491985774455,
          0.1256517636288833,
          0.06588147137148384,
          0.03667489248260862
         ],
         "yaxis": "y"
        }
       ],
       "layout": {
        "barmode": "relative",
        "legend": {
         "tracegroupgap": 0
        },
        "template": {
         "data": {
          "bar": [
           {
            "error_x": {
             "color": "#2a3f5f"
            },
            "error_y": {
             "color": "#2a3f5f"
            },
            "marker": {
             "line": {
              "color": "#E5ECF6",
              "width": 0.5
             },
             "pattern": {
              "fillmode": "overlay",
              "size": 10,
              "solidity": 0.2
             }
            },
            "type": "bar"
           }
          ],
          "barpolar": [
           {
            "marker": {
             "line": {
              "color": "#E5ECF6",
              "width": 0.5
             },
             "pattern": {
              "fillmode": "overlay",
              "size": 10,
              "solidity": 0.2
             }
            },
            "type": "barpolar"
           }
          ],
          "carpet": [
           {
            "aaxis": {
             "endlinecolor": "#2a3f5f",
             "gridcolor": "white",
             "linecolor": "white",
             "minorgridcolor": "white",
             "startlinecolor": "#2a3f5f"
            },
            "baxis": {
             "endlinecolor": "#2a3f5f",
             "gridcolor": "white",
             "linecolor": "white",
             "minorgridcolor": "white",
             "startlinecolor": "#2a3f5f"
            },
            "type": "carpet"
           }
          ],
          "choropleth": [
           {
            "colorbar": {
             "outlinewidth": 0,
             "ticks": ""
            },
            "type": "choropleth"
           }
          ],
          "contour": [
           {
            "colorbar": {
             "outlinewidth": 0,
             "ticks": ""
            },
            "colorscale": [
             [
              0,
              "#0d0887"
             ],
             [
              0.1111111111111111,
              "#46039f"
             ],
             [
              0.2222222222222222,
              "#7201a8"
             ],
             [
              0.3333333333333333,
              "#9c179e"
             ],
             [
              0.4444444444444444,
              "#bd3786"
             ],
             [
              0.5555555555555556,
              "#d8576b"
             ],
             [
              0.6666666666666666,
              "#ed7953"
             ],
             [
              0.7777777777777778,
              "#fb9f3a"
             ],
             [
              0.8888888888888888,
              "#fdca26"
             ],
             [
              1,
              "#f0f921"
             ]
            ],
            "type": "contour"
           }
          ],
          "contourcarpet": [
           {
            "colorbar": {
             "outlinewidth": 0,
             "ticks": ""
            },
            "type": "contourcarpet"
           }
          ],
          "heatmap": [
           {
            "colorbar": {
             "outlinewidth": 0,
             "ticks": ""
            },
            "colorscale": [
             [
              0,
              "#0d0887"
             ],
             [
              0.1111111111111111,
              "#46039f"
             ],
             [
              0.2222222222222222,
              "#7201a8"
             ],
             [
              0.3333333333333333,
              "#9c179e"
             ],
             [
              0.4444444444444444,
              "#bd3786"
             ],
             [
              0.5555555555555556,
              "#d8576b"
             ],
             [
              0.6666666666666666,
              "#ed7953"
             ],
             [
              0.7777777777777778,
              "#fb9f3a"
             ],
             [
              0.8888888888888888,
              "#fdca26"
             ],
             [
              1,
              "#f0f921"
             ]
            ],
            "type": "heatmap"
           }
          ],
          "heatmapgl": [
           {
            "colorbar": {
             "outlinewidth": 0,
             "ticks": ""
            },
            "colorscale": [
             [
              0,
              "#0d0887"
             ],
             [
              0.1111111111111111,
              "#46039f"
             ],
             [
              0.2222222222222222,
              "#7201a8"
             ],
             [
              0.3333333333333333,
              "#9c179e"
             ],
             [
              0.4444444444444444,
              "#bd3786"
             ],
             [
              0.5555555555555556,
              "#d8576b"
             ],
             [
              0.6666666666666666,
              "#ed7953"
             ],
             [
              0.7777777777777778,
              "#fb9f3a"
             ],
             [
              0.8888888888888888,
              "#fdca26"
             ],
             [
              1,
              "#f0f921"
             ]
            ],
            "type": "heatmapgl"
           }
          ],
          "histogram": [
           {
            "marker": {
             "pattern": {
              "fillmode": "overlay",
              "size": 10,
              "solidity": 0.2
             }
            },
            "type": "histogram"
           }
          ],
          "histogram2d": [
           {
            "colorbar": {
             "outlinewidth": 0,
             "ticks": ""
            },
            "colorscale": [
             [
              0,
              "#0d0887"
             ],
             [
              0.1111111111111111,
              "#46039f"
             ],
             [
              0.2222222222222222,
              "#7201a8"
             ],
             [
              0.3333333333333333,
              "#9c179e"
             ],
             [
              0.4444444444444444,
              "#bd3786"
             ],
             [
              0.5555555555555556,
              "#d8576b"
             ],
             [
              0.6666666666666666,
              "#ed7953"
             ],
             [
              0.7777777777777778,
              "#fb9f3a"
             ],
             [
              0.8888888888888888,
              "#fdca26"
             ],
             [
              1,
              "#f0f921"
             ]
            ],
            "type": "histogram2d"
           }
          ],
          "histogram2dcontour": [
           {
            "colorbar": {
             "outlinewidth": 0,
             "ticks": ""
            },
            "colorscale": [
             [
              0,
              "#0d0887"
             ],
             [
              0.1111111111111111,
              "#46039f"
             ],
             [
              0.2222222222222222,
              "#7201a8"
             ],
             [
              0.3333333333333333,
              "#9c179e"
             ],
             [
              0.4444444444444444,
              "#bd3786"
             ],
             [
              0.5555555555555556,
              "#d8576b"
             ],
             [
              0.6666666666666666,
              "#ed7953"
             ],
             [
              0.7777777777777778,
              "#fb9f3a"
             ],
             [
              0.8888888888888888,
              "#fdca26"
             ],
             [
              1,
              "#f0f921"
             ]
            ],
            "type": "histogram2dcontour"
           }
          ],
          "mesh3d": [
           {
            "colorbar": {
             "outlinewidth": 0,
             "ticks": ""
            },
            "type": "mesh3d"
           }
          ],
          "parcoords": [
           {
            "line": {
             "colorbar": {
              "outlinewidth": 0,
              "ticks": ""
             }
            },
            "type": "parcoords"
           }
          ],
          "pie": [
           {
            "automargin": true,
            "type": "pie"
           }
          ],
          "scatter": [
           {
            "marker": {
             "colorbar": {
              "outlinewidth": 0,
              "ticks": ""
             }
            },
            "type": "scatter"
           }
          ],
          "scatter3d": [
           {
            "line": {
             "colorbar": {
              "outlinewidth": 0,
              "ticks": ""
             }
            },
            "marker": {
             "colorbar": {
              "outlinewidth": 0,
              "ticks": ""
             }
            },
            "type": "scatter3d"
           }
          ],
          "scattercarpet": [
           {
            "marker": {
             "colorbar": {
              "outlinewidth": 0,
              "ticks": ""
             }
            },
            "type": "scattercarpet"
           }
          ],
          "scattergeo": [
           {
            "marker": {
             "colorbar": {
              "outlinewidth": 0,
              "ticks": ""
             }
            },
            "type": "scattergeo"
           }
          ],
          "scattergl": [
           {
            "marker": {
             "colorbar": {
              "outlinewidth": 0,
              "ticks": ""
             }
            },
            "type": "scattergl"
           }
          ],
          "scattermapbox": [
           {
            "marker": {
             "colorbar": {
              "outlinewidth": 0,
              "ticks": ""
             }
            },
            "type": "scattermapbox"
           }
          ],
          "scatterpolar": [
           {
            "marker": {
             "colorbar": {
              "outlinewidth": 0,
              "ticks": ""
             }
            },
            "type": "scatterpolar"
           }
          ],
          "scatterpolargl": [
           {
            "marker": {
             "colorbar": {
              "outlinewidth": 0,
              "ticks": ""
             }
            },
            "type": "scatterpolargl"
           }
          ],
          "scatterternary": [
           {
            "marker": {
             "colorbar": {
              "outlinewidth": 0,
              "ticks": ""
             }
            },
            "type": "scatterternary"
           }
          ],
          "surface": [
           {
            "colorbar": {
             "outlinewidth": 0,
             "ticks": ""
            },
            "colorscale": [
             [
              0,
              "#0d0887"
             ],
             [
              0.1111111111111111,
              "#46039f"
             ],
             [
              0.2222222222222222,
              "#7201a8"
             ],
             [
              0.3333333333333333,
              "#9c179e"
             ],
             [
              0.4444444444444444,
              "#bd3786"
             ],
             [
              0.5555555555555556,
              "#d8576b"
             ],
             [
              0.6666666666666666,
              "#ed7953"
             ],
             [
              0.7777777777777778,
              "#fb9f3a"
             ],
             [
              0.8888888888888888,
              "#fdca26"
             ],
             [
              1,
              "#f0f921"
             ]
            ],
            "type": "surface"
           }
          ],
          "table": [
           {
            "cells": {
             "fill": {
              "color": "#EBF0F8"
             },
             "line": {
              "color": "white"
             }
            },
            "header": {
             "fill": {
              "color": "#C8D4E3"
             },
             "line": {
              "color": "white"
             }
            },
            "type": "table"
           }
          ]
         },
         "layout": {
          "annotationdefaults": {
           "arrowcolor": "#2a3f5f",
           "arrowhead": 0,
           "arrowwidth": 1
          },
          "autotypenumbers": "strict",
          "coloraxis": {
           "colorbar": {
            "outlinewidth": 0,
            "ticks": ""
           }
          },
          "colorscale": {
           "diverging": [
            [
             0,
             "#8e0152"
            ],
            [
             0.1,
             "#c51b7d"
            ],
            [
             0.2,
             "#de77ae"
            ],
            [
             0.3,
             "#f1b6da"
            ],
            [
             0.4,
             "#fde0ef"
            ],
            [
             0.5,
             "#f7f7f7"
            ],
            [
             0.6,
             "#e6f5d0"
            ],
            [
             0.7,
             "#b8e186"
            ],
            [
             0.8,
             "#7fbc41"
            ],
            [
             0.9,
             "#4d9221"
            ],
            [
             1,
             "#276419"
            ]
           ],
           "sequential": [
            [
             0,
             "#0d0887"
            ],
            [
             0.1111111111111111,
             "#46039f"
            ],
            [
             0.2222222222222222,
             "#7201a8"
            ],
            [
             0.3333333333333333,
             "#9c179e"
            ],
            [
             0.4444444444444444,
             "#bd3786"
            ],
            [
             0.5555555555555556,
             "#d8576b"
            ],
            [
             0.6666666666666666,
             "#ed7953"
            ],
            [
             0.7777777777777778,
             "#fb9f3a"
            ],
            [
             0.8888888888888888,
             "#fdca26"
            ],
            [
             1,
             "#f0f921"
            ]
           ],
           "sequentialminus": [
            [
             0,
             "#0d0887"
            ],
            [
             0.1111111111111111,
             "#46039f"
            ],
            [
             0.2222222222222222,
             "#7201a8"
            ],
            [
             0.3333333333333333,
             "#9c179e"
            ],
            [
             0.4444444444444444,
             "#bd3786"
            ],
            [
             0.5555555555555556,
             "#d8576b"
            ],
            [
             0.6666666666666666,
             "#ed7953"
            ],
            [
             0.7777777777777778,
             "#fb9f3a"
            ],
            [
             0.8888888888888888,
             "#fdca26"
            ],
            [
             1,
             "#f0f921"
            ]
           ]
          },
          "colorway": [
           "#636efa",
           "#EF553B",
           "#00cc96",
           "#ab63fa",
           "#FFA15A",
           "#19d3f3",
           "#FF6692",
           "#B6E880",
           "#FF97FF",
           "#FECB52"
          ],
          "font": {
           "color": "#2a3f5f"
          },
          "geo": {
           "bgcolor": "white",
           "lakecolor": "white",
           "landcolor": "#E5ECF6",
           "showlakes": true,
           "showland": true,
           "subunitcolor": "white"
          },
          "hoverlabel": {
           "align": "left"
          },
          "hovermode": "closest",
          "mapbox": {
           "style": "light"
          },
          "paper_bgcolor": "white",
          "plot_bgcolor": "#E5ECF6",
          "polar": {
           "angularaxis": {
            "gridcolor": "white",
            "linecolor": "white",
            "ticks": ""
           },
           "bgcolor": "#E5ECF6",
           "radialaxis": {
            "gridcolor": "white",
            "linecolor": "white",
            "ticks": ""
           }
          },
          "scene": {
           "xaxis": {
            "backgroundcolor": "#E5ECF6",
            "gridcolor": "white",
            "gridwidth": 2,
            "linecolor": "white",
            "showbackground": true,
            "ticks": "",
            "zerolinecolor": "white"
           },
           "yaxis": {
            "backgroundcolor": "#E5ECF6",
            "gridcolor": "white",
            "gridwidth": 2,
            "linecolor": "white",
            "showbackground": true,
            "ticks": "",
            "zerolinecolor": "white"
           },
           "zaxis": {
            "backgroundcolor": "#E5ECF6",
            "gridcolor": "white",
            "gridwidth": 2,
            "linecolor": "white",
            "showbackground": true,
            "ticks": "",
            "zerolinecolor": "white"
           }
          },
          "shapedefaults": {
           "line": {
            "color": "#2a3f5f"
           }
          },
          "ternary": {
           "aaxis": {
            "gridcolor": "white",
            "linecolor": "white",
            "ticks": ""
           },
           "baxis": {
            "gridcolor": "white",
            "linecolor": "white",
            "ticks": ""
           },
           "bgcolor": "#E5ECF6",
           "caxis": {
            "gridcolor": "white",
            "linecolor": "white",
            "ticks": ""
           }
          },
          "title": {
           "x": 0.05
          },
          "xaxis": {
           "automargin": true,
           "gridcolor": "white",
           "linecolor": "white",
           "ticks": "",
           "title": {
            "standoff": 15
           },
           "zerolinecolor": "white",
           "zerolinewidth": 2
          },
          "yaxis": {
           "automargin": true,
           "gridcolor": "white",
           "linecolor": "white",
           "ticks": "",
           "title": {
            "standoff": 15
           },
           "zerolinecolor": "white",
           "zerolinewidth": 2
          }
         }
        },
        "title": {
         "text": "Mean X"
        },
        "xaxis": {
         "anchor": "y",
         "domain": [
          0,
          1
         ],
         "title": {
          "text": "x"
         }
        },
        "yaxis": {
         "anchor": "x",
         "domain": [
          0,
          1
         ],
         "title": {
          "text": "y"
         }
        }
       }
      },
      "text/html": [
       "<div>                            <div id=\"32e7d486-f734-44e8-aec3-e1810737fd28\" class=\"plotly-graph-div\" style=\"height:525px; width:100%;\"></div>            <script type=\"text/javascript\">                require([\"plotly\"], function(Plotly) {                    window.PLOTLYENV=window.PLOTLYENV || {};                                    if (document.getElementById(\"32e7d486-f734-44e8-aec3-e1810737fd28\")) {                    Plotly.newPlot(                        \"32e7d486-f734-44e8-aec3-e1810737fd28\",                        [{\"alignmentgroup\":\"True\",\"hovertemplate\":\"x=%{x}<br>y=%{y}<extra></extra>\",\"legendgroup\":\"\",\"marker\":{\"color\":\"#636efa\",\"pattern\":{\"shape\":\"\"}},\"name\":\"\",\"offsetgroup\":\"\",\"orientation\":\"v\",\"showlegend\":false,\"textposition\":\"auto\",\"type\":\"bar\",\"x\":[\"MDLZ\",\"MSFT\",\"NXPI\",\"PCAR\",\"INTC\",\"NVDA\",\"ILMN\",\"DXCM\",\"ROST\",\"LULU\",\"PRFT\",\"FTNT\",\"WIRE\",\"NFLX\",\"GAIN\",\"SYNA\",\"NYMTP\",\"ANAT\",\"TRNS\",\"SFBS\"],\"xaxis\":\"x\",\"y\":[0.08010667089964965,0.012843018958533101,0.0018259724454687601,0.051800274971945504,0.04556342785073817,0.04164523048890831,0.054976981355998586,0.040473324542595626,0.02046424585879841,0.023341537288888797,0.03093765380495201,0.04634616711333047,0.05180025743236253,0.06501703144175078,0.010234206706577344,0.01949095149878176,0.17492491985774455,0.1256517636288833,0.06588147137148384,0.03667489248260862],\"yaxis\":\"y\"}],                        {\"barmode\":\"relative\",\"legend\":{\"tracegroupgap\":0},\"template\":{\"data\":{\"bar\":[{\"error_x\":{\"color\":\"#2a3f5f\"},\"error_y\":{\"color\":\"#2a3f5f\"},\"marker\":{\"line\":{\"color\":\"#E5ECF6\",\"width\":0.5},\"pattern\":{\"fillmode\":\"overlay\",\"size\":10,\"solidity\":0.2}},\"type\":\"bar\"}],\"barpolar\":[{\"marker\":{\"line\":{\"color\":\"#E5ECF6\",\"width\":0.5},\"pattern\":{\"fillmode\":\"overlay\",\"size\":10,\"solidity\":0.2}},\"type\":\"barpolar\"}],\"carpet\":[{\"aaxis\":{\"endlinecolor\":\"#2a3f5f\",\"gridcolor\":\"white\",\"linecolor\":\"white\",\"minorgridcolor\":\"white\",\"startlinecolor\":\"#2a3f5f\"},\"baxis\":{\"endlinecolor\":\"#2a3f5f\",\"gridcolor\":\"white\",\"linecolor\":\"white\",\"minorgridcolor\":\"white\",\"startlinecolor\":\"#2a3f5f\"},\"type\":\"carpet\"}],\"choropleth\":[{\"colorbar\":{\"outlinewidth\":0,\"ticks\":\"\"},\"type\":\"choropleth\"}],\"contour\":[{\"colorbar\":{\"outlinewidth\":0,\"ticks\":\"\"},\"colorscale\":[[0.0,\"#0d0887\"],[0.1111111111111111,\"#46039f\"],[0.2222222222222222,\"#7201a8\"],[0.3333333333333333,\"#9c179e\"],[0.4444444444444444,\"#bd3786\"],[0.5555555555555556,\"#d8576b\"],[0.6666666666666666,\"#ed7953\"],[0.7777777777777778,\"#fb9f3a\"],[0.8888888888888888,\"#fdca26\"],[1.0,\"#f0f921\"]],\"type\":\"contour\"}],\"contourcarpet\":[{\"colorbar\":{\"outlinewidth\":0,\"ticks\":\"\"},\"type\":\"contourcarpet\"}],\"heatmap\":[{\"colorbar\":{\"outlinewidth\":0,\"ticks\":\"\"},\"colorscale\":[[0.0,\"#0d0887\"],[0.1111111111111111,\"#46039f\"],[0.2222222222222222,\"#7201a8\"],[0.3333333333333333,\"#9c179e\"],[0.4444444444444444,\"#bd3786\"],[0.5555555555555556,\"#d8576b\"],[0.6666666666666666,\"#ed7953\"],[0.7777777777777778,\"#fb9f3a\"],[0.8888888888888888,\"#fdca26\"],[1.0,\"#f0f921\"]],\"type\":\"heatmap\"}],\"heatmapgl\":[{\"colorbar\":{\"outlinewidth\":0,\"ticks\":\"\"},\"colorscale\":[[0.0,\"#0d0887\"],[0.1111111111111111,\"#46039f\"],[0.2222222222222222,\"#7201a8\"],[0.3333333333333333,\"#9c179e\"],[0.4444444444444444,\"#bd3786\"],[0.5555555555555556,\"#d8576b\"],[0.6666666666666666,\"#ed7953\"],[0.7777777777777778,\"#fb9f3a\"],[0.8888888888888888,\"#fdca26\"],[1.0,\"#f0f921\"]],\"type\":\"heatmapgl\"}],\"histogram\":[{\"marker\":{\"pattern\":{\"fillmode\":\"overlay\",\"size\":10,\"solidity\":0.2}},\"type\":\"histogram\"}],\"histogram2d\":[{\"colorbar\":{\"outlinewidth\":0,\"ticks\":\"\"},\"colorscale\":[[0.0,\"#0d0887\"],[0.1111111111111111,\"#46039f\"],[0.2222222222222222,\"#7201a8\"],[0.3333333333333333,\"#9c179e\"],[0.4444444444444444,\"#bd3786\"],[0.5555555555555556,\"#d8576b\"],[0.6666666666666666,\"#ed7953\"],[0.7777777777777778,\"#fb9f3a\"],[0.8888888888888888,\"#fdca26\"],[1.0,\"#f0f921\"]],\"type\":\"histogram2d\"}],\"histogram2dcontour\":[{\"colorbar\":{\"outlinewidth\":0,\"ticks\":\"\"},\"colorscale\":[[0.0,\"#0d0887\"],[0.1111111111111111,\"#46039f\"],[0.2222222222222222,\"#7201a8\"],[0.3333333333333333,\"#9c179e\"],[0.4444444444444444,\"#bd3786\"],[0.5555555555555556,\"#d8576b\"],[0.6666666666666666,\"#ed7953\"],[0.7777777777777778,\"#fb9f3a\"],[0.8888888888888888,\"#fdca26\"],[1.0,\"#f0f921\"]],\"type\":\"histogram2dcontour\"}],\"mesh3d\":[{\"colorbar\":{\"outlinewidth\":0,\"ticks\":\"\"},\"type\":\"mesh3d\"}],\"parcoords\":[{\"line\":{\"colorbar\":{\"outlinewidth\":0,\"ticks\":\"\"}},\"type\":\"parcoords\"}],\"pie\":[{\"automargin\":true,\"type\":\"pie\"}],\"scatter\":[{\"marker\":{\"colorbar\":{\"outlinewidth\":0,\"ticks\":\"\"}},\"type\":\"scatter\"}],\"scatter3d\":[{\"line\":{\"colorbar\":{\"outlinewidth\":0,\"ticks\":\"\"}},\"marker\":{\"colorbar\":{\"outlinewidth\":0,\"ticks\":\"\"}},\"type\":\"scatter3d\"}],\"scattercarpet\":[{\"marker\":{\"colorbar\":{\"outlinewidth\":0,\"ticks\":\"\"}},\"type\":\"scattercarpet\"}],\"scattergeo\":[{\"marker\":{\"colorbar\":{\"outlinewidth\":0,\"ticks\":\"\"}},\"type\":\"scattergeo\"}],\"scattergl\":[{\"marker\":{\"colorbar\":{\"outlinewidth\":0,\"ticks\":\"\"}},\"type\":\"scattergl\"}],\"scattermapbox\":[{\"marker\":{\"colorbar\":{\"outlinewidth\":0,\"ticks\":\"\"}},\"type\":\"scattermapbox\"}],\"scatterpolar\":[{\"marker\":{\"colorbar\":{\"outlinewidth\":0,\"ticks\":\"\"}},\"type\":\"scatterpolar\"}],\"scatterpolargl\":[{\"marker\":{\"colorbar\":{\"outlinewidth\":0,\"ticks\":\"\"}},\"type\":\"scatterpolargl\"}],\"scatterternary\":[{\"marker\":{\"colorbar\":{\"outlinewidth\":0,\"ticks\":\"\"}},\"type\":\"scatterternary\"}],\"surface\":[{\"colorbar\":{\"outlinewidth\":0,\"ticks\":\"\"},\"colorscale\":[[0.0,\"#0d0887\"],[0.1111111111111111,\"#46039f\"],[0.2222222222222222,\"#7201a8\"],[0.3333333333333333,\"#9c179e\"],[0.4444444444444444,\"#bd3786\"],[0.5555555555555556,\"#d8576b\"],[0.6666666666666666,\"#ed7953\"],[0.7777777777777778,\"#fb9f3a\"],[0.8888888888888888,\"#fdca26\"],[1.0,\"#f0f921\"]],\"type\":\"surface\"}],\"table\":[{\"cells\":{\"fill\":{\"color\":\"#EBF0F8\"},\"line\":{\"color\":\"white\"}},\"header\":{\"fill\":{\"color\":\"#C8D4E3\"},\"line\":{\"color\":\"white\"}},\"type\":\"table\"}]},\"layout\":{\"annotationdefaults\":{\"arrowcolor\":\"#2a3f5f\",\"arrowhead\":0,\"arrowwidth\":1},\"autotypenumbers\":\"strict\",\"coloraxis\":{\"colorbar\":{\"outlinewidth\":0,\"ticks\":\"\"}},\"colorscale\":{\"diverging\":[[0,\"#8e0152\"],[0.1,\"#c51b7d\"],[0.2,\"#de77ae\"],[0.3,\"#f1b6da\"],[0.4,\"#fde0ef\"],[0.5,\"#f7f7f7\"],[0.6,\"#e6f5d0\"],[0.7,\"#b8e186\"],[0.8,\"#7fbc41\"],[0.9,\"#4d9221\"],[1,\"#276419\"]],\"sequential\":[[0.0,\"#0d0887\"],[0.1111111111111111,\"#46039f\"],[0.2222222222222222,\"#7201a8\"],[0.3333333333333333,\"#9c179e\"],[0.4444444444444444,\"#bd3786\"],[0.5555555555555556,\"#d8576b\"],[0.6666666666666666,\"#ed7953\"],[0.7777777777777778,\"#fb9f3a\"],[0.8888888888888888,\"#fdca26\"],[1.0,\"#f0f921\"]],\"sequentialminus\":[[0.0,\"#0d0887\"],[0.1111111111111111,\"#46039f\"],[0.2222222222222222,\"#7201a8\"],[0.3333333333333333,\"#9c179e\"],[0.4444444444444444,\"#bd3786\"],[0.5555555555555556,\"#d8576b\"],[0.6666666666666666,\"#ed7953\"],[0.7777777777777778,\"#fb9f3a\"],[0.8888888888888888,\"#fdca26\"],[1.0,\"#f0f921\"]]},\"colorway\":[\"#636efa\",\"#EF553B\",\"#00cc96\",\"#ab63fa\",\"#FFA15A\",\"#19d3f3\",\"#FF6692\",\"#B6E880\",\"#FF97FF\",\"#FECB52\"],\"font\":{\"color\":\"#2a3f5f\"},\"geo\":{\"bgcolor\":\"white\",\"lakecolor\":\"white\",\"landcolor\":\"#E5ECF6\",\"showlakes\":true,\"showland\":true,\"subunitcolor\":\"white\"},\"hoverlabel\":{\"align\":\"left\"},\"hovermode\":\"closest\",\"mapbox\":{\"style\":\"light\"},\"paper_bgcolor\":\"white\",\"plot_bgcolor\":\"#E5ECF6\",\"polar\":{\"angularaxis\":{\"gridcolor\":\"white\",\"linecolor\":\"white\",\"ticks\":\"\"},\"bgcolor\":\"#E5ECF6\",\"radialaxis\":{\"gridcolor\":\"white\",\"linecolor\":\"white\",\"ticks\":\"\"}},\"scene\":{\"xaxis\":{\"backgroundcolor\":\"#E5ECF6\",\"gridcolor\":\"white\",\"gridwidth\":2,\"linecolor\":\"white\",\"showbackground\":true,\"ticks\":\"\",\"zerolinecolor\":\"white\"},\"yaxis\":{\"backgroundcolor\":\"#E5ECF6\",\"gridcolor\":\"white\",\"gridwidth\":2,\"linecolor\":\"white\",\"showbackground\":true,\"ticks\":\"\",\"zerolinecolor\":\"white\"},\"zaxis\":{\"backgroundcolor\":\"#E5ECF6\",\"gridcolor\":\"white\",\"gridwidth\":2,\"linecolor\":\"white\",\"showbackground\":true,\"ticks\":\"\",\"zerolinecolor\":\"white\"}},\"shapedefaults\":{\"line\":{\"color\":\"#2a3f5f\"}},\"ternary\":{\"aaxis\":{\"gridcolor\":\"white\",\"linecolor\":\"white\",\"ticks\":\"\"},\"baxis\":{\"gridcolor\":\"white\",\"linecolor\":\"white\",\"ticks\":\"\"},\"bgcolor\":\"#E5ECF6\",\"caxis\":{\"gridcolor\":\"white\",\"linecolor\":\"white\",\"ticks\":\"\"}},\"title\":{\"x\":0.05},\"xaxis\":{\"automargin\":true,\"gridcolor\":\"white\",\"linecolor\":\"white\",\"ticks\":\"\",\"title\":{\"standoff\":15},\"zerolinecolor\":\"white\",\"zerolinewidth\":2},\"yaxis\":{\"automargin\":true,\"gridcolor\":\"white\",\"linecolor\":\"white\",\"ticks\":\"\",\"title\":{\"standoff\":15},\"zerolinecolor\":\"white\",\"zerolinewidth\":2}}},\"title\":{\"text\":\"Mean X\"},\"xaxis\":{\"anchor\":\"y\",\"domain\":[0.0,1.0],\"title\":{\"text\":\"x\"}},\"yaxis\":{\"anchor\":\"x\",\"domain\":[0.0,1.0],\"title\":{\"text\":\"y\"}}},                        {\"responsive\": true}                    ).then(function(){\n",
       "                            \n",
       "var gd = document.getElementById('32e7d486-f734-44e8-aec3-e1810737fd28');\n",
       "var x = new MutationObserver(function (mutations, observer) {{\n",
       "        var display = window.getComputedStyle(gd).display;\n",
       "        if (!display || display === 'none') {{\n",
       "            console.log([gd, 'removed!']);\n",
       "            Plotly.purge(gd);\n",
       "            observer.disconnect();\n",
       "        }}\n",
       "}});\n",
       "\n",
       "// Listen for the removal of the full notebook cells\n",
       "var notebookContainer = gd.closest('#notebook-container');\n",
       "if (notebookContainer) {{\n",
       "    x.observe(notebookContainer, {childList: true});\n",
       "}}\n",
       "\n",
       "// Listen for the clearing of the current output cell\n",
       "var outputEl = gd.closest('.output');\n",
       "if (outputEl) {{\n",
       "    x.observe(outputEl, {childList: true});\n",
       "}}\n",
       "\n",
       "                        })                };                });            </script>        </div>"
      ]
     },
     "metadata": {},
     "output_type": "display_data"
    }
   ],
   "source": [
    "import plotly.express as px\n",
    "\n",
    "fig = px.bar(x=assets, y=x_vectors.mean(), title='Mean X')\n",
    "fig.show()"
   ]
  },
  {
   "cell_type": "markdown",
   "metadata": {},
   "source": [
    "### 3. Оценка неопределенности оптимального CVaR портфеля"
   ]
  },
  {
   "cell_type": "markdown",
   "metadata": {},
   "source": [
    "С заданным отношением к риску  подобираем константу b таким образом, что истинный оптимальный CVaR портфель совпадает с истинным оптимальным портфелем п.1. Значение константы смотри в упражнениях к теме.\n",
    "\n",
    "$$ b = \\frac{1}{\\sqrt{2 \\pi }} \\frac{1}{(1 - \\beta)} exp(-(\\Phi^{-1}(\\beta))^2 / 2)$$"
   ]
  },
  {
   "cell_type": "code",
   "execution_count": 133,
   "metadata": {},
   "outputs": [
    {
     "name": "stdout",
     "output_type": "stream",
     "text": [
      "b = 6.632540979594675\n"
     ]
    }
   ],
   "source": [
    "beta = 0.95\n",
    "b = (1 / math.sqrt(2 * math.pi)) * (1 / (1 - beta)) * np.exp(-((norm.ppf(beta))**(-1))**2 / 2) \n",
    "print(f'b = {b}')"
   ]
  },
  {
   "cell_type": "code",
   "execution_count": 134,
   "metadata": {},
   "outputs": [],
   "source": [
    "def get_E(x, vector_E):\n",
    "    E = sum([(E_i * x_i) for E_i, x_i in zip(vector_E, x)]) \n",
    "    return E\n",
    "\n",
    "\n",
    "def get_sigma(x, matrix_cov):\n",
    "    sigma_squared = 0\n",
    "    \n",
    "    for i in range(len(x)):\n",
    "        for j in range(len(x)):\n",
    "            simga_i_j = matrix_cov.iloc[i].iloc[j]\n",
    "            sigma_squared += simga_i_j * x[i] * x[j]\n",
    "    \n",
    "    sigma = math.sqrt(sigma_squared)\n",
    "    return sigma\n",
    "            \n",
    "            \n",
    "def target_function_CVaR(x, vector_E, matrix_cov):\n",
    "    E = get_E(x, vector_E)\n",
    "    sigma = get_sigma(x, matrix_cov)\n",
    "    result = -E + b * sigma\n",
    "    return result\n",
    "\n",
    "\n",
    "def find_optimal_CVaR(vector_E, matrix_cov):\n",
    "    x0 = np.array([1/len(assets)] * len(assets))\n",
    "    solution = minimize(target_function_CVaR, x0, args=(vector_E, matrix_cov), \n",
    "                        method='SLSQP', \n",
    "                        constraints=[{'type': 'eq',  'fun': lambda x: sum(x) - 1}],\n",
    "                        bounds=[(0, 1)] * len(assets))\n",
    "    if not solution.success:\n",
    "        raise Exception(opt.message)\n",
    "    return solution\n",
    "    "
   ]
  },
  {
   "cell_type": "markdown",
   "metadata": {},
   "source": [
    "#### Используя оценки из 2.2 решаем задачу оптимизации "
   ]
  },
  {
   "cell_type": "code",
   "execution_count": 135,
   "metadata": {},
   "outputs": [],
   "source": [
    "opt_solution_CVaR = find_optimal_CVaR(estE, estCov)"
   ]
  },
  {
   "cell_type": "markdown",
   "metadata": {},
   "source": [
    "#### Находим и фиксируем веса портфеля ..."
   ]
  },
  {
   "cell_type": "code",
   "execution_count": 136,
   "metadata": {},
   "outputs": [
    {
     "name": "stdout",
     "output_type": "stream",
     "text": [
      "Сумма весов: 1.0000000000000062\n"
     ]
    },
    {
     "data": {
      "application/vnd.plotly.v1+json": {
       "config": {
        "plotlyServerURL": "https://plot.ly"
       },
       "data": [
        {
         "alignmentgroup": "True",
         "hovertemplate": "x=%{x}<br>y=%{y}<extra></extra>",
         "legendgroup": "",
         "marker": {
          "color": "#636efa",
          "pattern": {
           "shape": ""
          }
         },
         "name": "",
         "offsetgroup": "",
         "orientation": "v",
         "showlegend": false,
         "textposition": "auto",
         "type": "bar",
         "x": [
          "MDLZ",
          "MSFT",
          "NXPI",
          "PCAR",
          "INTC",
          "NVDA",
          "ILMN",
          "DXCM",
          "ROST",
          "LULU",
          "PRFT",
          "FTNT",
          "WIRE",
          "NFLX",
          "GAIN",
          "SYNA",
          "NYMTP",
          "ANAT",
          "TRNS",
          "SFBS"
         ],
         "xaxis": "x",
         "y": [
          0.1375017019412898,
          2.9064274795667845e-16,
          2.102954149487339e-15,
          2.0135540276285998e-17,
          0.020252192065473355,
          2.9584456167688705e-15,
          1.3696388902267905e-15,
          0.16426458163586963,
          0.03046258030312601,
          3.221900059827557e-16,
          0.010003760694214115,
          0.08760896154613947,
          0.019922698343314275,
          0.014912845273871536,
          1.7974617916141843e-16,
          1.5594625250253225e-16,
          0.30375815467103306,
          0.1349165738222492,
          0.07639594970341829,
          2.1921962440967747e-16
         ],
         "yaxis": "y"
        }
       ],
       "layout": {
        "barmode": "relative",
        "legend": {
         "tracegroupgap": 0
        },
        "margin": {
         "t": 60
        },
        "template": {
         "data": {
          "bar": [
           {
            "error_x": {
             "color": "#2a3f5f"
            },
            "error_y": {
             "color": "#2a3f5f"
            },
            "marker": {
             "line": {
              "color": "#E5ECF6",
              "width": 0.5
             },
             "pattern": {
              "fillmode": "overlay",
              "size": 10,
              "solidity": 0.2
             }
            },
            "type": "bar"
           }
          ],
          "barpolar": [
           {
            "marker": {
             "line": {
              "color": "#E5ECF6",
              "width": 0.5
             },
             "pattern": {
              "fillmode": "overlay",
              "size": 10,
              "solidity": 0.2
             }
            },
            "type": "barpolar"
           }
          ],
          "carpet": [
           {
            "aaxis": {
             "endlinecolor": "#2a3f5f",
             "gridcolor": "white",
             "linecolor": "white",
             "minorgridcolor": "white",
             "startlinecolor": "#2a3f5f"
            },
            "baxis": {
             "endlinecolor": "#2a3f5f",
             "gridcolor": "white",
             "linecolor": "white",
             "minorgridcolor": "white",
             "startlinecolor": "#2a3f5f"
            },
            "type": "carpet"
           }
          ],
          "choropleth": [
           {
            "colorbar": {
             "outlinewidth": 0,
             "ticks": ""
            },
            "type": "choropleth"
           }
          ],
          "contour": [
           {
            "colorbar": {
             "outlinewidth": 0,
             "ticks": ""
            },
            "colorscale": [
             [
              0,
              "#0d0887"
             ],
             [
              0.1111111111111111,
              "#46039f"
             ],
             [
              0.2222222222222222,
              "#7201a8"
             ],
             [
              0.3333333333333333,
              "#9c179e"
             ],
             [
              0.4444444444444444,
              "#bd3786"
             ],
             [
              0.5555555555555556,
              "#d8576b"
             ],
             [
              0.6666666666666666,
              "#ed7953"
             ],
             [
              0.7777777777777778,
              "#fb9f3a"
             ],
             [
              0.8888888888888888,
              "#fdca26"
             ],
             [
              1,
              "#f0f921"
             ]
            ],
            "type": "contour"
           }
          ],
          "contourcarpet": [
           {
            "colorbar": {
             "outlinewidth": 0,
             "ticks": ""
            },
            "type": "contourcarpet"
           }
          ],
          "heatmap": [
           {
            "colorbar": {
             "outlinewidth": 0,
             "ticks": ""
            },
            "colorscale": [
             [
              0,
              "#0d0887"
             ],
             [
              0.1111111111111111,
              "#46039f"
             ],
             [
              0.2222222222222222,
              "#7201a8"
             ],
             [
              0.3333333333333333,
              "#9c179e"
             ],
             [
              0.4444444444444444,
              "#bd3786"
             ],
             [
              0.5555555555555556,
              "#d8576b"
             ],
             [
              0.6666666666666666,
              "#ed7953"
             ],
             [
              0.7777777777777778,
              "#fb9f3a"
             ],
             [
              0.8888888888888888,
              "#fdca26"
             ],
             [
              1,
              "#f0f921"
             ]
            ],
            "type": "heatmap"
           }
          ],
          "heatmapgl": [
           {
            "colorbar": {
             "outlinewidth": 0,
             "ticks": ""
            },
            "colorscale": [
             [
              0,
              "#0d0887"
             ],
             [
              0.1111111111111111,
              "#46039f"
             ],
             [
              0.2222222222222222,
              "#7201a8"
             ],
             [
              0.3333333333333333,
              "#9c179e"
             ],
             [
              0.4444444444444444,
              "#bd3786"
             ],
             [
              0.5555555555555556,
              "#d8576b"
             ],
             [
              0.6666666666666666,
              "#ed7953"
             ],
             [
              0.7777777777777778,
              "#fb9f3a"
             ],
             [
              0.8888888888888888,
              "#fdca26"
             ],
             [
              1,
              "#f0f921"
             ]
            ],
            "type": "heatmapgl"
           }
          ],
          "histogram": [
           {
            "marker": {
             "pattern": {
              "fillmode": "overlay",
              "size": 10,
              "solidity": 0.2
             }
            },
            "type": "histogram"
           }
          ],
          "histogram2d": [
           {
            "colorbar": {
             "outlinewidth": 0,
             "ticks": ""
            },
            "colorscale": [
             [
              0,
              "#0d0887"
             ],
             [
              0.1111111111111111,
              "#46039f"
             ],
             [
              0.2222222222222222,
              "#7201a8"
             ],
             [
              0.3333333333333333,
              "#9c179e"
             ],
             [
              0.4444444444444444,
              "#bd3786"
             ],
             [
              0.5555555555555556,
              "#d8576b"
             ],
             [
              0.6666666666666666,
              "#ed7953"
             ],
             [
              0.7777777777777778,
              "#fb9f3a"
             ],
             [
              0.8888888888888888,
              "#fdca26"
             ],
             [
              1,
              "#f0f921"
             ]
            ],
            "type": "histogram2d"
           }
          ],
          "histogram2dcontour": [
           {
            "colorbar": {
             "outlinewidth": 0,
             "ticks": ""
            },
            "colorscale": [
             [
              0,
              "#0d0887"
             ],
             [
              0.1111111111111111,
              "#46039f"
             ],
             [
              0.2222222222222222,
              "#7201a8"
             ],
             [
              0.3333333333333333,
              "#9c179e"
             ],
             [
              0.4444444444444444,
              "#bd3786"
             ],
             [
              0.5555555555555556,
              "#d8576b"
             ],
             [
              0.6666666666666666,
              "#ed7953"
             ],
             [
              0.7777777777777778,
              "#fb9f3a"
             ],
             [
              0.8888888888888888,
              "#fdca26"
             ],
             [
              1,
              "#f0f921"
             ]
            ],
            "type": "histogram2dcontour"
           }
          ],
          "mesh3d": [
           {
            "colorbar": {
             "outlinewidth": 0,
             "ticks": ""
            },
            "type": "mesh3d"
           }
          ],
          "parcoords": [
           {
            "line": {
             "colorbar": {
              "outlinewidth": 0,
              "ticks": ""
             }
            },
            "type": "parcoords"
           }
          ],
          "pie": [
           {
            "automargin": true,
            "type": "pie"
           }
          ],
          "scatter": [
           {
            "marker": {
             "colorbar": {
              "outlinewidth": 0,
              "ticks": ""
             }
            },
            "type": "scatter"
           }
          ],
          "scatter3d": [
           {
            "line": {
             "colorbar": {
              "outlinewidth": 0,
              "ticks": ""
             }
            },
            "marker": {
             "colorbar": {
              "outlinewidth": 0,
              "ticks": ""
             }
            },
            "type": "scatter3d"
           }
          ],
          "scattercarpet": [
           {
            "marker": {
             "colorbar": {
              "outlinewidth": 0,
              "ticks": ""
             }
            },
            "type": "scattercarpet"
           }
          ],
          "scattergeo": [
           {
            "marker": {
             "colorbar": {
              "outlinewidth": 0,
              "ticks": ""
             }
            },
            "type": "scattergeo"
           }
          ],
          "scattergl": [
           {
            "marker": {
             "colorbar": {
              "outlinewidth": 0,
              "ticks": ""
             }
            },
            "type": "scattergl"
           }
          ],
          "scattermapbox": [
           {
            "marker": {
             "colorbar": {
              "outlinewidth": 0,
              "ticks": ""
             }
            },
            "type": "scattermapbox"
           }
          ],
          "scatterpolar": [
           {
            "marker": {
             "colorbar": {
              "outlinewidth": 0,
              "ticks": ""
             }
            },
            "type": "scatterpolar"
           }
          ],
          "scatterpolargl": [
           {
            "marker": {
             "colorbar": {
              "outlinewidth": 0,
              "ticks": ""
             }
            },
            "type": "scatterpolargl"
           }
          ],
          "scatterternary": [
           {
            "marker": {
             "colorbar": {
              "outlinewidth": 0,
              "ticks": ""
             }
            },
            "type": "scatterternary"
           }
          ],
          "surface": [
           {
            "colorbar": {
             "outlinewidth": 0,
             "ticks": ""
            },
            "colorscale": [
             [
              0,
              "#0d0887"
             ],
             [
              0.1111111111111111,
              "#46039f"
             ],
             [
              0.2222222222222222,
              "#7201a8"
             ],
             [
              0.3333333333333333,
              "#9c179e"
             ],
             [
              0.4444444444444444,
              "#bd3786"
             ],
             [
              0.5555555555555556,
              "#d8576b"
             ],
             [
              0.6666666666666666,
              "#ed7953"
             ],
             [
              0.7777777777777778,
              "#fb9f3a"
             ],
             [
              0.8888888888888888,
              "#fdca26"
             ],
             [
              1,
              "#f0f921"
             ]
            ],
            "type": "surface"
           }
          ],
          "table": [
           {
            "cells": {
             "fill": {
              "color": "#EBF0F8"
             },
             "line": {
              "color": "white"
             }
            },
            "header": {
             "fill": {
              "color": "#C8D4E3"
             },
             "line": {
              "color": "white"
             }
            },
            "type": "table"
           }
          ]
         },
         "layout": {
          "annotationdefaults": {
           "arrowcolor": "#2a3f5f",
           "arrowhead": 0,
           "arrowwidth": 1
          },
          "autotypenumbers": "strict",
          "coloraxis": {
           "colorbar": {
            "outlinewidth": 0,
            "ticks": ""
           }
          },
          "colorscale": {
           "diverging": [
            [
             0,
             "#8e0152"
            ],
            [
             0.1,
             "#c51b7d"
            ],
            [
             0.2,
             "#de77ae"
            ],
            [
             0.3,
             "#f1b6da"
            ],
            [
             0.4,
             "#fde0ef"
            ],
            [
             0.5,
             "#f7f7f7"
            ],
            [
             0.6,
             "#e6f5d0"
            ],
            [
             0.7,
             "#b8e186"
            ],
            [
             0.8,
             "#7fbc41"
            ],
            [
             0.9,
             "#4d9221"
            ],
            [
             1,
             "#276419"
            ]
           ],
           "sequential": [
            [
             0,
             "#0d0887"
            ],
            [
             0.1111111111111111,
             "#46039f"
            ],
            [
             0.2222222222222222,
             "#7201a8"
            ],
            [
             0.3333333333333333,
             "#9c179e"
            ],
            [
             0.4444444444444444,
             "#bd3786"
            ],
            [
             0.5555555555555556,
             "#d8576b"
            ],
            [
             0.6666666666666666,
             "#ed7953"
            ],
            [
             0.7777777777777778,
             "#fb9f3a"
            ],
            [
             0.8888888888888888,
             "#fdca26"
            ],
            [
             1,
             "#f0f921"
            ]
           ],
           "sequentialminus": [
            [
             0,
             "#0d0887"
            ],
            [
             0.1111111111111111,
             "#46039f"
            ],
            [
             0.2222222222222222,
             "#7201a8"
            ],
            [
             0.3333333333333333,
             "#9c179e"
            ],
            [
             0.4444444444444444,
             "#bd3786"
            ],
            [
             0.5555555555555556,
             "#d8576b"
            ],
            [
             0.6666666666666666,
             "#ed7953"
            ],
            [
             0.7777777777777778,
             "#fb9f3a"
            ],
            [
             0.8888888888888888,
             "#fdca26"
            ],
            [
             1,
             "#f0f921"
            ]
           ]
          },
          "colorway": [
           "#636efa",
           "#EF553B",
           "#00cc96",
           "#ab63fa",
           "#FFA15A",
           "#19d3f3",
           "#FF6692",
           "#B6E880",
           "#FF97FF",
           "#FECB52"
          ],
          "font": {
           "color": "#2a3f5f"
          },
          "geo": {
           "bgcolor": "white",
           "lakecolor": "white",
           "landcolor": "#E5ECF6",
           "showlakes": true,
           "showland": true,
           "subunitcolor": "white"
          },
          "hoverlabel": {
           "align": "left"
          },
          "hovermode": "closest",
          "mapbox": {
           "style": "light"
          },
          "paper_bgcolor": "white",
          "plot_bgcolor": "#E5ECF6",
          "polar": {
           "angularaxis": {
            "gridcolor": "white",
            "linecolor": "white",
            "ticks": ""
           },
           "bgcolor": "#E5ECF6",
           "radialaxis": {
            "gridcolor": "white",
            "linecolor": "white",
            "ticks": ""
           }
          },
          "scene": {
           "xaxis": {
            "backgroundcolor": "#E5ECF6",
            "gridcolor": "white",
            "gridwidth": 2,
            "linecolor": "white",
            "showbackground": true,
            "ticks": "",
            "zerolinecolor": "white"
           },
           "yaxis": {
            "backgroundcolor": "#E5ECF6",
            "gridcolor": "white",
            "gridwidth": 2,
            "linecolor": "white",
            "showbackground": true,
            "ticks": "",
            "zerolinecolor": "white"
           },
           "zaxis": {
            "backgroundcolor": "#E5ECF6",
            "gridcolor": "white",
            "gridwidth": 2,
            "linecolor": "white",
            "showbackground": true,
            "ticks": "",
            "zerolinecolor": "white"
           }
          },
          "shapedefaults": {
           "line": {
            "color": "#2a3f5f"
           }
          },
          "ternary": {
           "aaxis": {
            "gridcolor": "white",
            "linecolor": "white",
            "ticks": ""
           },
           "baxis": {
            "gridcolor": "white",
            "linecolor": "white",
            "ticks": ""
           },
           "bgcolor": "#E5ECF6",
           "caxis": {
            "gridcolor": "white",
            "linecolor": "white",
            "ticks": ""
           }
          },
          "title": {
           "x": 0.05
          },
          "xaxis": {
           "automargin": true,
           "gridcolor": "white",
           "linecolor": "white",
           "ticks": "",
           "title": {
            "standoff": 15
           },
           "zerolinecolor": "white",
           "zerolinewidth": 2
          },
          "yaxis": {
           "automargin": true,
           "gridcolor": "white",
           "linecolor": "white",
           "ticks": "",
           "title": {
            "standoff": 15
           },
           "zerolinecolor": "white",
           "zerolinewidth": 2
          }
         }
        },
        "xaxis": {
         "anchor": "y",
         "domain": [
          0,
          1
         ],
         "title": {
          "text": "x"
         }
        },
        "yaxis": {
         "anchor": "x",
         "domain": [
          0,
          1
         ],
         "title": {
          "text": "y"
         }
        }
       }
      },
      "text/html": [
       "<div>                            <div id=\"581d0947-b0d9-49a2-942b-a9e87c7fe65a\" class=\"plotly-graph-div\" style=\"height:525px; width:100%;\"></div>            <script type=\"text/javascript\">                require([\"plotly\"], function(Plotly) {                    window.PLOTLYENV=window.PLOTLYENV || {};                                    if (document.getElementById(\"581d0947-b0d9-49a2-942b-a9e87c7fe65a\")) {                    Plotly.newPlot(                        \"581d0947-b0d9-49a2-942b-a9e87c7fe65a\",                        [{\"alignmentgroup\":\"True\",\"hovertemplate\":\"x=%{x}<br>y=%{y}<extra></extra>\",\"legendgroup\":\"\",\"marker\":{\"color\":\"#636efa\",\"pattern\":{\"shape\":\"\"}},\"name\":\"\",\"offsetgroup\":\"\",\"orientation\":\"v\",\"showlegend\":false,\"textposition\":\"auto\",\"type\":\"bar\",\"x\":[\"MDLZ\",\"MSFT\",\"NXPI\",\"PCAR\",\"INTC\",\"NVDA\",\"ILMN\",\"DXCM\",\"ROST\",\"LULU\",\"PRFT\",\"FTNT\",\"WIRE\",\"NFLX\",\"GAIN\",\"SYNA\",\"NYMTP\",\"ANAT\",\"TRNS\",\"SFBS\"],\"xaxis\":\"x\",\"y\":[0.1375017019412898,2.9064274795667845e-16,2.102954149487339e-15,2.0135540276285998e-17,0.020252192065473355,2.9584456167688705e-15,1.3696388902267905e-15,0.16426458163586963,0.03046258030312601,3.221900059827557e-16,0.010003760694214115,0.08760896154613947,0.019922698343314275,0.014912845273871536,1.7974617916141843e-16,1.5594625250253225e-16,0.30375815467103306,0.1349165738222492,0.07639594970341829,2.1921962440967747e-16],\"yaxis\":\"y\"}],                        {\"barmode\":\"relative\",\"legend\":{\"tracegroupgap\":0},\"margin\":{\"t\":60},\"template\":{\"data\":{\"bar\":[{\"error_x\":{\"color\":\"#2a3f5f\"},\"error_y\":{\"color\":\"#2a3f5f\"},\"marker\":{\"line\":{\"color\":\"#E5ECF6\",\"width\":0.5},\"pattern\":{\"fillmode\":\"overlay\",\"size\":10,\"solidity\":0.2}},\"type\":\"bar\"}],\"barpolar\":[{\"marker\":{\"line\":{\"color\":\"#E5ECF6\",\"width\":0.5},\"pattern\":{\"fillmode\":\"overlay\",\"size\":10,\"solidity\":0.2}},\"type\":\"barpolar\"}],\"carpet\":[{\"aaxis\":{\"endlinecolor\":\"#2a3f5f\",\"gridcolor\":\"white\",\"linecolor\":\"white\",\"minorgridcolor\":\"white\",\"startlinecolor\":\"#2a3f5f\"},\"baxis\":{\"endlinecolor\":\"#2a3f5f\",\"gridcolor\":\"white\",\"linecolor\":\"white\",\"minorgridcolor\":\"white\",\"startlinecolor\":\"#2a3f5f\"},\"type\":\"carpet\"}],\"choropleth\":[{\"colorbar\":{\"outlinewidth\":0,\"ticks\":\"\"},\"type\":\"choropleth\"}],\"contour\":[{\"colorbar\":{\"outlinewidth\":0,\"ticks\":\"\"},\"colorscale\":[[0.0,\"#0d0887\"],[0.1111111111111111,\"#46039f\"],[0.2222222222222222,\"#7201a8\"],[0.3333333333333333,\"#9c179e\"],[0.4444444444444444,\"#bd3786\"],[0.5555555555555556,\"#d8576b\"],[0.6666666666666666,\"#ed7953\"],[0.7777777777777778,\"#fb9f3a\"],[0.8888888888888888,\"#fdca26\"],[1.0,\"#f0f921\"]],\"type\":\"contour\"}],\"contourcarpet\":[{\"colorbar\":{\"outlinewidth\":0,\"ticks\":\"\"},\"type\":\"contourcarpet\"}],\"heatmap\":[{\"colorbar\":{\"outlinewidth\":0,\"ticks\":\"\"},\"colorscale\":[[0.0,\"#0d0887\"],[0.1111111111111111,\"#46039f\"],[0.2222222222222222,\"#7201a8\"],[0.3333333333333333,\"#9c179e\"],[0.4444444444444444,\"#bd3786\"],[0.5555555555555556,\"#d8576b\"],[0.6666666666666666,\"#ed7953\"],[0.7777777777777778,\"#fb9f3a\"],[0.8888888888888888,\"#fdca26\"],[1.0,\"#f0f921\"]],\"type\":\"heatmap\"}],\"heatmapgl\":[{\"colorbar\":{\"outlinewidth\":0,\"ticks\":\"\"},\"colorscale\":[[0.0,\"#0d0887\"],[0.1111111111111111,\"#46039f\"],[0.2222222222222222,\"#7201a8\"],[0.3333333333333333,\"#9c179e\"],[0.4444444444444444,\"#bd3786\"],[0.5555555555555556,\"#d8576b\"],[0.6666666666666666,\"#ed7953\"],[0.7777777777777778,\"#fb9f3a\"],[0.8888888888888888,\"#fdca26\"],[1.0,\"#f0f921\"]],\"type\":\"heatmapgl\"}],\"histogram\":[{\"marker\":{\"pattern\":{\"fillmode\":\"overlay\",\"size\":10,\"solidity\":0.2}},\"type\":\"histogram\"}],\"histogram2d\":[{\"colorbar\":{\"outlinewidth\":0,\"ticks\":\"\"},\"colorscale\":[[0.0,\"#0d0887\"],[0.1111111111111111,\"#46039f\"],[0.2222222222222222,\"#7201a8\"],[0.3333333333333333,\"#9c179e\"],[0.4444444444444444,\"#bd3786\"],[0.5555555555555556,\"#d8576b\"],[0.6666666666666666,\"#ed7953\"],[0.7777777777777778,\"#fb9f3a\"],[0.8888888888888888,\"#fdca26\"],[1.0,\"#f0f921\"]],\"type\":\"histogram2d\"}],\"histogram2dcontour\":[{\"colorbar\":{\"outlinewidth\":0,\"ticks\":\"\"},\"colorscale\":[[0.0,\"#0d0887\"],[0.1111111111111111,\"#46039f\"],[0.2222222222222222,\"#7201a8\"],[0.3333333333333333,\"#9c179e\"],[0.4444444444444444,\"#bd3786\"],[0.5555555555555556,\"#d8576b\"],[0.6666666666666666,\"#ed7953\"],[0.7777777777777778,\"#fb9f3a\"],[0.8888888888888888,\"#fdca26\"],[1.0,\"#f0f921\"]],\"type\":\"histogram2dcontour\"}],\"mesh3d\":[{\"colorbar\":{\"outlinewidth\":0,\"ticks\":\"\"},\"type\":\"mesh3d\"}],\"parcoords\":[{\"line\":{\"colorbar\":{\"outlinewidth\":0,\"ticks\":\"\"}},\"type\":\"parcoords\"}],\"pie\":[{\"automargin\":true,\"type\":\"pie\"}],\"scatter\":[{\"marker\":{\"colorbar\":{\"outlinewidth\":0,\"ticks\":\"\"}},\"type\":\"scatter\"}],\"scatter3d\":[{\"line\":{\"colorbar\":{\"outlinewidth\":0,\"ticks\":\"\"}},\"marker\":{\"colorbar\":{\"outlinewidth\":0,\"ticks\":\"\"}},\"type\":\"scatter3d\"}],\"scattercarpet\":[{\"marker\":{\"colorbar\":{\"outlinewidth\":0,\"ticks\":\"\"}},\"type\":\"scattercarpet\"}],\"scattergeo\":[{\"marker\":{\"colorbar\":{\"outlinewidth\":0,\"ticks\":\"\"}},\"type\":\"scattergeo\"}],\"scattergl\":[{\"marker\":{\"colorbar\":{\"outlinewidth\":0,\"ticks\":\"\"}},\"type\":\"scattergl\"}],\"scattermapbox\":[{\"marker\":{\"colorbar\":{\"outlinewidth\":0,\"ticks\":\"\"}},\"type\":\"scattermapbox\"}],\"scatterpolar\":[{\"marker\":{\"colorbar\":{\"outlinewidth\":0,\"ticks\":\"\"}},\"type\":\"scatterpolar\"}],\"scatterpolargl\":[{\"marker\":{\"colorbar\":{\"outlinewidth\":0,\"ticks\":\"\"}},\"type\":\"scatterpolargl\"}],\"scatterternary\":[{\"marker\":{\"colorbar\":{\"outlinewidth\":0,\"ticks\":\"\"}},\"type\":\"scatterternary\"}],\"surface\":[{\"colorbar\":{\"outlinewidth\":0,\"ticks\":\"\"},\"colorscale\":[[0.0,\"#0d0887\"],[0.1111111111111111,\"#46039f\"],[0.2222222222222222,\"#7201a8\"],[0.3333333333333333,\"#9c179e\"],[0.4444444444444444,\"#bd3786\"],[0.5555555555555556,\"#d8576b\"],[0.6666666666666666,\"#ed7953\"],[0.7777777777777778,\"#fb9f3a\"],[0.8888888888888888,\"#fdca26\"],[1.0,\"#f0f921\"]],\"type\":\"surface\"}],\"table\":[{\"cells\":{\"fill\":{\"color\":\"#EBF0F8\"},\"line\":{\"color\":\"white\"}},\"header\":{\"fill\":{\"color\":\"#C8D4E3\"},\"line\":{\"color\":\"white\"}},\"type\":\"table\"}]},\"layout\":{\"annotationdefaults\":{\"arrowcolor\":\"#2a3f5f\",\"arrowhead\":0,\"arrowwidth\":1},\"autotypenumbers\":\"strict\",\"coloraxis\":{\"colorbar\":{\"outlinewidth\":0,\"ticks\":\"\"}},\"colorscale\":{\"diverging\":[[0,\"#8e0152\"],[0.1,\"#c51b7d\"],[0.2,\"#de77ae\"],[0.3,\"#f1b6da\"],[0.4,\"#fde0ef\"],[0.5,\"#f7f7f7\"],[0.6,\"#e6f5d0\"],[0.7,\"#b8e186\"],[0.8,\"#7fbc41\"],[0.9,\"#4d9221\"],[1,\"#276419\"]],\"sequential\":[[0.0,\"#0d0887\"],[0.1111111111111111,\"#46039f\"],[0.2222222222222222,\"#7201a8\"],[0.3333333333333333,\"#9c179e\"],[0.4444444444444444,\"#bd3786\"],[0.5555555555555556,\"#d8576b\"],[0.6666666666666666,\"#ed7953\"],[0.7777777777777778,\"#fb9f3a\"],[0.8888888888888888,\"#fdca26\"],[1.0,\"#f0f921\"]],\"sequentialminus\":[[0.0,\"#0d0887\"],[0.1111111111111111,\"#46039f\"],[0.2222222222222222,\"#7201a8\"],[0.3333333333333333,\"#9c179e\"],[0.4444444444444444,\"#bd3786\"],[0.5555555555555556,\"#d8576b\"],[0.6666666666666666,\"#ed7953\"],[0.7777777777777778,\"#fb9f3a\"],[0.8888888888888888,\"#fdca26\"],[1.0,\"#f0f921\"]]},\"colorway\":[\"#636efa\",\"#EF553B\",\"#00cc96\",\"#ab63fa\",\"#FFA15A\",\"#19d3f3\",\"#FF6692\",\"#B6E880\",\"#FF97FF\",\"#FECB52\"],\"font\":{\"color\":\"#2a3f5f\"},\"geo\":{\"bgcolor\":\"white\",\"lakecolor\":\"white\",\"landcolor\":\"#E5ECF6\",\"showlakes\":true,\"showland\":true,\"subunitcolor\":\"white\"},\"hoverlabel\":{\"align\":\"left\"},\"hovermode\":\"closest\",\"mapbox\":{\"style\":\"light\"},\"paper_bgcolor\":\"white\",\"plot_bgcolor\":\"#E5ECF6\",\"polar\":{\"angularaxis\":{\"gridcolor\":\"white\",\"linecolor\":\"white\",\"ticks\":\"\"},\"bgcolor\":\"#E5ECF6\",\"radialaxis\":{\"gridcolor\":\"white\",\"linecolor\":\"white\",\"ticks\":\"\"}},\"scene\":{\"xaxis\":{\"backgroundcolor\":\"#E5ECF6\",\"gridcolor\":\"white\",\"gridwidth\":2,\"linecolor\":\"white\",\"showbackground\":true,\"ticks\":\"\",\"zerolinecolor\":\"white\"},\"yaxis\":{\"backgroundcolor\":\"#E5ECF6\",\"gridcolor\":\"white\",\"gridwidth\":2,\"linecolor\":\"white\",\"showbackground\":true,\"ticks\":\"\",\"zerolinecolor\":\"white\"},\"zaxis\":{\"backgroundcolor\":\"#E5ECF6\",\"gridcolor\":\"white\",\"gridwidth\":2,\"linecolor\":\"white\",\"showbackground\":true,\"ticks\":\"\",\"zerolinecolor\":\"white\"}},\"shapedefaults\":{\"line\":{\"color\":\"#2a3f5f\"}},\"ternary\":{\"aaxis\":{\"gridcolor\":\"white\",\"linecolor\":\"white\",\"ticks\":\"\"},\"baxis\":{\"gridcolor\":\"white\",\"linecolor\":\"white\",\"ticks\":\"\"},\"bgcolor\":\"#E5ECF6\",\"caxis\":{\"gridcolor\":\"white\",\"linecolor\":\"white\",\"ticks\":\"\"}},\"title\":{\"x\":0.05},\"xaxis\":{\"automargin\":true,\"gridcolor\":\"white\",\"linecolor\":\"white\",\"ticks\":\"\",\"title\":{\"standoff\":15},\"zerolinecolor\":\"white\",\"zerolinewidth\":2},\"yaxis\":{\"automargin\":true,\"gridcolor\":\"white\",\"linecolor\":\"white\",\"ticks\":\"\",\"title\":{\"standoff\":15},\"zerolinecolor\":\"white\",\"zerolinewidth\":2}}},\"xaxis\":{\"anchor\":\"y\",\"domain\":[0.0,1.0],\"title\":{\"text\":\"x\"}},\"yaxis\":{\"anchor\":\"x\",\"domain\":[0.0,1.0],\"title\":{\"text\":\"y\"}}},                        {\"responsive\": true}                    ).then(function(){\n",
       "                            \n",
       "var gd = document.getElementById('581d0947-b0d9-49a2-942b-a9e87c7fe65a');\n",
       "var x = new MutationObserver(function (mutations, observer) {{\n",
       "        var display = window.getComputedStyle(gd).display;\n",
       "        if (!display || display === 'none') {{\n",
       "            console.log([gd, 'removed!']);\n",
       "            Plotly.purge(gd);\n",
       "            observer.disconnect();\n",
       "        }}\n",
       "}});\n",
       "\n",
       "// Listen for the removal of the full notebook cells\n",
       "var notebookContainer = gd.closest('#notebook-container');\n",
       "if (notebookContainer) {{\n",
       "    x.observe(notebookContainer, {childList: true});\n",
       "}}\n",
       "\n",
       "// Listen for the clearing of the current output cell\n",
       "var outputEl = gd.closest('.output');\n",
       "if (outputEl) {{\n",
       "    x.observe(outputEl, {childList: true});\n",
       "}}\n",
       "\n",
       "                        })                };                });            </script>        </div>"
      ]
     },
     "metadata": {},
     "output_type": "display_data"
    }
   ],
   "source": [
    "print(f'Сумма весов: {sum(opt_solution_CVaR.x)}')\n",
    "fig = px.bar(x=assets, y=opt_solution_CVaR.x)\n",
    "fig.show()"
   ]
  },
  {
   "cell_type": "markdown",
   "metadata": {},
   "source": [
    "#### и значение целевой функции"
   ]
  },
  {
   "cell_type": "code",
   "execution_count": 137,
   "metadata": {},
   "outputs": [
    {
     "name": "stdout",
     "output_type": "stream",
     "text": [
      "1.784027703794713\n"
     ]
    }
   ],
   "source": [
    "print(opt_solution_CVaR.fun)"
   ]
  },
  {
   "cell_type": "markdown",
   "metadata": {},
   "source": [
    "#### 3.2 Сравниаем два портфеля: истинный (п.1) и найденный в п.3.1. Оцениваем относительную ошибку в определении весов портфеля в норме Manhattan (L1 норма Минковского). Сравниваем с ошибкой портфеля из п. 2.3"
   ]
  },
  {
   "cell_type": "code",
   "execution_count": 138,
   "metadata": {},
   "outputs": [
    {
     "name": "stdout",
     "output_type": "stream",
     "text": [
      "Ошибка оптимального VaR портфеля(п.2.3) = 0.7467023553709373\n",
      "Ошибка оптимального CVaR портфеля = 0.7782452616953123\n"
     ]
    }
   ],
   "source": [
    "er1 = cityblock(true_opt_solution.x, opt_solution.x)\n",
    "er2 = cityblock(true_opt_solution.x, opt_solution_CVaR.x)\n",
    "print(f'Ошибка оптимального VaR портфеля(п.2.3) = {er1}')\n",
    "print(f'Ошибка оптимального CVaR портфеля = {er2}')"
   ]
  },
  {
   "cell_type": "markdown",
   "metadata": {},
   "source": [
    "#### 3.3 Повторите эксперимент S=40 раз и оцените среднюю относительную ошибку по S повторениям эксперимента. Сделайте выводы.  Сравните с ошибкой из п. 2.5."
   ]
  },
  {
   "cell_type": "code",
   "execution_count": 139,
   "metadata": {},
   "outputs": [
    {
     "name": "stdout",
     "output_type": "stream",
     "text": [
      "Mean Erorr = 0.9039719165206025\n",
      "Mean X:\n"
     ]
    },
    {
     "data": {
      "text/plain": [
       "x_0     0.096962\n",
       "x_1     0.019852\n",
       "x_2     0.002625\n",
       "x_3     0.053974\n",
       "x_4     0.032394\n",
       "x_5     0.040931\n",
       "x_6     0.068270\n",
       "x_7     0.043313\n",
       "x_8     0.037849\n",
       "x_9     0.014848\n",
       "x_10    0.012367\n",
       "x_11    0.023799\n",
       "x_12    0.035153\n",
       "x_13    0.081930\n",
       "x_14    0.032451\n",
       "x_15    0.039013\n",
       "x_16    0.160324\n",
       "x_17    0.095558\n",
       "x_18    0.060715\n",
       "x_19    0.047672\n",
       "dtype: float64"
      ]
     },
     "execution_count": 139,
     "metadata": {},
     "output_type": "execute_result"
    }
   ],
   "source": [
    "import copy\n",
    "\n",
    "S = 40\n",
    "errors = []\n",
    "x_vectors = pd.DataFrame(columns = [f'x_{i}' for i in range(len(assets))], data=[])\n",
    "\n",
    "\n",
    "for iteration in range(0, S):\n",
    "    T = 30\n",
    "    sample_raw = np.random.multivariate_normal(estims['logret_mean'], cov_matrix, T)\n",
    "    sample = pd.DataFrame(columns=assets, data=sample_raw)\n",
    "    \n",
    "    estE = sample.mean()\n",
    "    estCov = sample.cov()\n",
    "    \n",
    "    opt_solution_CVaR = find_optimal_CVaR(estE, estCov)\n",
    "        \n",
    "    errors.append(cityblock(true_opt_solution.x, opt_solution_CVaR.x))\n",
    "    x_vectors.loc[iteration] = (copy.deepcopy(opt_solution_CVaR.x))\n",
    "\n",
    "    \n",
    "print(f'Mean Erorr = {np.mean(errors)}')\n",
    "print(f'Mean X:')\n",
    "x_vectors.mean()"
   ]
  },
  {
   "cell_type": "code",
   "execution_count": 140,
   "metadata": {},
   "outputs": [
    {
     "data": {
      "application/vnd.plotly.v1+json": {
       "config": {
        "plotlyServerURL": "https://plot.ly"
       },
       "data": [
        {
         "alignmentgroup": "True",
         "hovertemplate": "x=%{x}<br>y=%{y}<extra></extra>",
         "legendgroup": "",
         "marker": {
          "color": "#636efa",
          "pattern": {
           "shape": ""
          }
         },
         "name": "",
         "offsetgroup": "",
         "orientation": "v",
         "showlegend": false,
         "textposition": "auto",
         "type": "bar",
         "x": [
          "MDLZ",
          "MSFT",
          "NXPI",
          "PCAR",
          "INTC",
          "NVDA",
          "ILMN",
          "DXCM",
          "ROST",
          "LULU",
          "PRFT",
          "FTNT",
          "WIRE",
          "NFLX",
          "GAIN",
          "SYNA",
          "NYMTP",
          "ANAT",
          "TRNS",
          "SFBS"
         ],
         "xaxis": "x",
         "y": [
          0.09696206611349471,
          0.019851982251005325,
          0.00262546781102918,
          0.05397449255620392,
          0.0323935825225653,
          0.040930693732178836,
          0.06826980306968523,
          0.043313162792258525,
          0.03784907831539406,
          0.014848238234745795,
          0.012367370642939971,
          0.023798562379295875,
          0.03515346809173909,
          0.08192999701926075,
          0.032450959345675094,
          0.03901300188131289,
          0.16032376945256252,
          0.0955578585637791,
          0.06071492223671719,
          0.04767152298816081
         ],
         "yaxis": "y"
        }
       ],
       "layout": {
        "barmode": "relative",
        "legend": {
         "tracegroupgap": 0
        },
        "template": {
         "data": {
          "bar": [
           {
            "error_x": {
             "color": "#2a3f5f"
            },
            "error_y": {
             "color": "#2a3f5f"
            },
            "marker": {
             "line": {
              "color": "#E5ECF6",
              "width": 0.5
             },
             "pattern": {
              "fillmode": "overlay",
              "size": 10,
              "solidity": 0.2
             }
            },
            "type": "bar"
           }
          ],
          "barpolar": [
           {
            "marker": {
             "line": {
              "color": "#E5ECF6",
              "width": 0.5
             },
             "pattern": {
              "fillmode": "overlay",
              "size": 10,
              "solidity": 0.2
             }
            },
            "type": "barpolar"
           }
          ],
          "carpet": [
           {
            "aaxis": {
             "endlinecolor": "#2a3f5f",
             "gridcolor": "white",
             "linecolor": "white",
             "minorgridcolor": "white",
             "startlinecolor": "#2a3f5f"
            },
            "baxis": {
             "endlinecolor": "#2a3f5f",
             "gridcolor": "white",
             "linecolor": "white",
             "minorgridcolor": "white",
             "startlinecolor": "#2a3f5f"
            },
            "type": "carpet"
           }
          ],
          "choropleth": [
           {
            "colorbar": {
             "outlinewidth": 0,
             "ticks": ""
            },
            "type": "choropleth"
           }
          ],
          "contour": [
           {
            "colorbar": {
             "outlinewidth": 0,
             "ticks": ""
            },
            "colorscale": [
             [
              0,
              "#0d0887"
             ],
             [
              0.1111111111111111,
              "#46039f"
             ],
             [
              0.2222222222222222,
              "#7201a8"
             ],
             [
              0.3333333333333333,
              "#9c179e"
             ],
             [
              0.4444444444444444,
              "#bd3786"
             ],
             [
              0.5555555555555556,
              "#d8576b"
             ],
             [
              0.6666666666666666,
              "#ed7953"
             ],
             [
              0.7777777777777778,
              "#fb9f3a"
             ],
             [
              0.8888888888888888,
              "#fdca26"
             ],
             [
              1,
              "#f0f921"
             ]
            ],
            "type": "contour"
           }
          ],
          "contourcarpet": [
           {
            "colorbar": {
             "outlinewidth": 0,
             "ticks": ""
            },
            "type": "contourcarpet"
           }
          ],
          "heatmap": [
           {
            "colorbar": {
             "outlinewidth": 0,
             "ticks": ""
            },
            "colorscale": [
             [
              0,
              "#0d0887"
             ],
             [
              0.1111111111111111,
              "#46039f"
             ],
             [
              0.2222222222222222,
              "#7201a8"
             ],
             [
              0.3333333333333333,
              "#9c179e"
             ],
             [
              0.4444444444444444,
              "#bd3786"
             ],
             [
              0.5555555555555556,
              "#d8576b"
             ],
             [
              0.6666666666666666,
              "#ed7953"
             ],
             [
              0.7777777777777778,
              "#fb9f3a"
             ],
             [
              0.8888888888888888,
              "#fdca26"
             ],
             [
              1,
              "#f0f921"
             ]
            ],
            "type": "heatmap"
           }
          ],
          "heatmapgl": [
           {
            "colorbar": {
             "outlinewidth": 0,
             "ticks": ""
            },
            "colorscale": [
             [
              0,
              "#0d0887"
             ],
             [
              0.1111111111111111,
              "#46039f"
             ],
             [
              0.2222222222222222,
              "#7201a8"
             ],
             [
              0.3333333333333333,
              "#9c179e"
             ],
             [
              0.4444444444444444,
              "#bd3786"
             ],
             [
              0.5555555555555556,
              "#d8576b"
             ],
             [
              0.6666666666666666,
              "#ed7953"
             ],
             [
              0.7777777777777778,
              "#fb9f3a"
             ],
             [
              0.8888888888888888,
              "#fdca26"
             ],
             [
              1,
              "#f0f921"
             ]
            ],
            "type": "heatmapgl"
           }
          ],
          "histogram": [
           {
            "marker": {
             "pattern": {
              "fillmode": "overlay",
              "size": 10,
              "solidity": 0.2
             }
            },
            "type": "histogram"
           }
          ],
          "histogram2d": [
           {
            "colorbar": {
             "outlinewidth": 0,
             "ticks": ""
            },
            "colorscale": [
             [
              0,
              "#0d0887"
             ],
             [
              0.1111111111111111,
              "#46039f"
             ],
             [
              0.2222222222222222,
              "#7201a8"
             ],
             [
              0.3333333333333333,
              "#9c179e"
             ],
             [
              0.4444444444444444,
              "#bd3786"
             ],
             [
              0.5555555555555556,
              "#d8576b"
             ],
             [
              0.6666666666666666,
              "#ed7953"
             ],
             [
              0.7777777777777778,
              "#fb9f3a"
             ],
             [
              0.8888888888888888,
              "#fdca26"
             ],
             [
              1,
              "#f0f921"
             ]
            ],
            "type": "histogram2d"
           }
          ],
          "histogram2dcontour": [
           {
            "colorbar": {
             "outlinewidth": 0,
             "ticks": ""
            },
            "colorscale": [
             [
              0,
              "#0d0887"
             ],
             [
              0.1111111111111111,
              "#46039f"
             ],
             [
              0.2222222222222222,
              "#7201a8"
             ],
             [
              0.3333333333333333,
              "#9c179e"
             ],
             [
              0.4444444444444444,
              "#bd3786"
             ],
             [
              0.5555555555555556,
              "#d8576b"
             ],
             [
              0.6666666666666666,
              "#ed7953"
             ],
             [
              0.7777777777777778,
              "#fb9f3a"
             ],
             [
              0.8888888888888888,
              "#fdca26"
             ],
             [
              1,
              "#f0f921"
             ]
            ],
            "type": "histogram2dcontour"
           }
          ],
          "mesh3d": [
           {
            "colorbar": {
             "outlinewidth": 0,
             "ticks": ""
            },
            "type": "mesh3d"
           }
          ],
          "parcoords": [
           {
            "line": {
             "colorbar": {
              "outlinewidth": 0,
              "ticks": ""
             }
            },
            "type": "parcoords"
           }
          ],
          "pie": [
           {
            "automargin": true,
            "type": "pie"
           }
          ],
          "scatter": [
           {
            "marker": {
             "colorbar": {
              "outlinewidth": 0,
              "ticks": ""
             }
            },
            "type": "scatter"
           }
          ],
          "scatter3d": [
           {
            "line": {
             "colorbar": {
              "outlinewidth": 0,
              "ticks": ""
             }
            },
            "marker": {
             "colorbar": {
              "outlinewidth": 0,
              "ticks": ""
             }
            },
            "type": "scatter3d"
           }
          ],
          "scattercarpet": [
           {
            "marker": {
             "colorbar": {
              "outlinewidth": 0,
              "ticks": ""
             }
            },
            "type": "scattercarpet"
           }
          ],
          "scattergeo": [
           {
            "marker": {
             "colorbar": {
              "outlinewidth": 0,
              "ticks": ""
             }
            },
            "type": "scattergeo"
           }
          ],
          "scattergl": [
           {
            "marker": {
             "colorbar": {
              "outlinewidth": 0,
              "ticks": ""
             }
            },
            "type": "scattergl"
           }
          ],
          "scattermapbox": [
           {
            "marker": {
             "colorbar": {
              "outlinewidth": 0,
              "ticks": ""
             }
            },
            "type": "scattermapbox"
           }
          ],
          "scatterpolar": [
           {
            "marker": {
             "colorbar": {
              "outlinewidth": 0,
              "ticks": ""
             }
            },
            "type": "scatterpolar"
           }
          ],
          "scatterpolargl": [
           {
            "marker": {
             "colorbar": {
              "outlinewidth": 0,
              "ticks": ""
             }
            },
            "type": "scatterpolargl"
           }
          ],
          "scatterternary": [
           {
            "marker": {
             "colorbar": {
              "outlinewidth": 0,
              "ticks": ""
             }
            },
            "type": "scatterternary"
           }
          ],
          "surface": [
           {
            "colorbar": {
             "outlinewidth": 0,
             "ticks": ""
            },
            "colorscale": [
             [
              0,
              "#0d0887"
             ],
             [
              0.1111111111111111,
              "#46039f"
             ],
             [
              0.2222222222222222,
              "#7201a8"
             ],
             [
              0.3333333333333333,
              "#9c179e"
             ],
             [
              0.4444444444444444,
              "#bd3786"
             ],
             [
              0.5555555555555556,
              "#d8576b"
             ],
             [
              0.6666666666666666,
              "#ed7953"
             ],
             [
              0.7777777777777778,
              "#fb9f3a"
             ],
             [
              0.8888888888888888,
              "#fdca26"
             ],
             [
              1,
              "#f0f921"
             ]
            ],
            "type": "surface"
           }
          ],
          "table": [
           {
            "cells": {
             "fill": {
              "color": "#EBF0F8"
             },
             "line": {
              "color": "white"
             }
            },
            "header": {
             "fill": {
              "color": "#C8D4E3"
             },
             "line": {
              "color": "white"
             }
            },
            "type": "table"
           }
          ]
         },
         "layout": {
          "annotationdefaults": {
           "arrowcolor": "#2a3f5f",
           "arrowhead": 0,
           "arrowwidth": 1
          },
          "autotypenumbers": "strict",
          "coloraxis": {
           "colorbar": {
            "outlinewidth": 0,
            "ticks": ""
           }
          },
          "colorscale": {
           "diverging": [
            [
             0,
             "#8e0152"
            ],
            [
             0.1,
             "#c51b7d"
            ],
            [
             0.2,
             "#de77ae"
            ],
            [
             0.3,
             "#f1b6da"
            ],
            [
             0.4,
             "#fde0ef"
            ],
            [
             0.5,
             "#f7f7f7"
            ],
            [
             0.6,
             "#e6f5d0"
            ],
            [
             0.7,
             "#b8e186"
            ],
            [
             0.8,
             "#7fbc41"
            ],
            [
             0.9,
             "#4d9221"
            ],
            [
             1,
             "#276419"
            ]
           ],
           "sequential": [
            [
             0,
             "#0d0887"
            ],
            [
             0.1111111111111111,
             "#46039f"
            ],
            [
             0.2222222222222222,
             "#7201a8"
            ],
            [
             0.3333333333333333,
             "#9c179e"
            ],
            [
             0.4444444444444444,
             "#bd3786"
            ],
            [
             0.5555555555555556,
             "#d8576b"
            ],
            [
             0.6666666666666666,
             "#ed7953"
            ],
            [
             0.7777777777777778,
             "#fb9f3a"
            ],
            [
             0.8888888888888888,
             "#fdca26"
            ],
            [
             1,
             "#f0f921"
            ]
           ],
           "sequentialminus": [
            [
             0,
             "#0d0887"
            ],
            [
             0.1111111111111111,
             "#46039f"
            ],
            [
             0.2222222222222222,
             "#7201a8"
            ],
            [
             0.3333333333333333,
             "#9c179e"
            ],
            [
             0.4444444444444444,
             "#bd3786"
            ],
            [
             0.5555555555555556,
             "#d8576b"
            ],
            [
             0.6666666666666666,
             "#ed7953"
            ],
            [
             0.7777777777777778,
             "#fb9f3a"
            ],
            [
             0.8888888888888888,
             "#fdca26"
            ],
            [
             1,
             "#f0f921"
            ]
           ]
          },
          "colorway": [
           "#636efa",
           "#EF553B",
           "#00cc96",
           "#ab63fa",
           "#FFA15A",
           "#19d3f3",
           "#FF6692",
           "#B6E880",
           "#FF97FF",
           "#FECB52"
          ],
          "font": {
           "color": "#2a3f5f"
          },
          "geo": {
           "bgcolor": "white",
           "lakecolor": "white",
           "landcolor": "#E5ECF6",
           "showlakes": true,
           "showland": true,
           "subunitcolor": "white"
          },
          "hoverlabel": {
           "align": "left"
          },
          "hovermode": "closest",
          "mapbox": {
           "style": "light"
          },
          "paper_bgcolor": "white",
          "plot_bgcolor": "#E5ECF6",
          "polar": {
           "angularaxis": {
            "gridcolor": "white",
            "linecolor": "white",
            "ticks": ""
           },
           "bgcolor": "#E5ECF6",
           "radialaxis": {
            "gridcolor": "white",
            "linecolor": "white",
            "ticks": ""
           }
          },
          "scene": {
           "xaxis": {
            "backgroundcolor": "#E5ECF6",
            "gridcolor": "white",
            "gridwidth": 2,
            "linecolor": "white",
            "showbackground": true,
            "ticks": "",
            "zerolinecolor": "white"
           },
           "yaxis": {
            "backgroundcolor": "#E5ECF6",
            "gridcolor": "white",
            "gridwidth": 2,
            "linecolor": "white",
            "showbackground": true,
            "ticks": "",
            "zerolinecolor": "white"
           },
           "zaxis": {
            "backgroundcolor": "#E5ECF6",
            "gridcolor": "white",
            "gridwidth": 2,
            "linecolor": "white",
            "showbackground": true,
            "ticks": "",
            "zerolinecolor": "white"
           }
          },
          "shapedefaults": {
           "line": {
            "color": "#2a3f5f"
           }
          },
          "ternary": {
           "aaxis": {
            "gridcolor": "white",
            "linecolor": "white",
            "ticks": ""
           },
           "baxis": {
            "gridcolor": "white",
            "linecolor": "white",
            "ticks": ""
           },
           "bgcolor": "#E5ECF6",
           "caxis": {
            "gridcolor": "white",
            "linecolor": "white",
            "ticks": ""
           }
          },
          "title": {
           "x": 0.05
          },
          "xaxis": {
           "automargin": true,
           "gridcolor": "white",
           "linecolor": "white",
           "ticks": "",
           "title": {
            "standoff": 15
           },
           "zerolinecolor": "white",
           "zerolinewidth": 2
          },
          "yaxis": {
           "automargin": true,
           "gridcolor": "white",
           "linecolor": "white",
           "ticks": "",
           "title": {
            "standoff": 15
           },
           "zerolinecolor": "white",
           "zerolinewidth": 2
          }
         }
        },
        "title": {
         "text": "Mean X"
        },
        "xaxis": {
         "anchor": "y",
         "domain": [
          0,
          1
         ],
         "title": {
          "text": "x"
         }
        },
        "yaxis": {
         "anchor": "x",
         "domain": [
          0,
          1
         ],
         "title": {
          "text": "y"
         }
        }
       }
      },
      "text/html": [
       "<div>                            <div id=\"ea729ba8-6560-450d-9297-99c5fdccec2c\" class=\"plotly-graph-div\" style=\"height:525px; width:100%;\"></div>            <script type=\"text/javascript\">                require([\"plotly\"], function(Plotly) {                    window.PLOTLYENV=window.PLOTLYENV || {};                                    if (document.getElementById(\"ea729ba8-6560-450d-9297-99c5fdccec2c\")) {                    Plotly.newPlot(                        \"ea729ba8-6560-450d-9297-99c5fdccec2c\",                        [{\"alignmentgroup\":\"True\",\"hovertemplate\":\"x=%{x}<br>y=%{y}<extra></extra>\",\"legendgroup\":\"\",\"marker\":{\"color\":\"#636efa\",\"pattern\":{\"shape\":\"\"}},\"name\":\"\",\"offsetgroup\":\"\",\"orientation\":\"v\",\"showlegend\":false,\"textposition\":\"auto\",\"type\":\"bar\",\"x\":[\"MDLZ\",\"MSFT\",\"NXPI\",\"PCAR\",\"INTC\",\"NVDA\",\"ILMN\",\"DXCM\",\"ROST\",\"LULU\",\"PRFT\",\"FTNT\",\"WIRE\",\"NFLX\",\"GAIN\",\"SYNA\",\"NYMTP\",\"ANAT\",\"TRNS\",\"SFBS\"],\"xaxis\":\"x\",\"y\":[0.09696206611349471,0.019851982251005325,0.00262546781102918,0.05397449255620392,0.0323935825225653,0.040930693732178836,0.06826980306968523,0.043313162792258525,0.03784907831539406,0.014848238234745795,0.012367370642939971,0.023798562379295875,0.03515346809173909,0.08192999701926075,0.032450959345675094,0.03901300188131289,0.16032376945256252,0.0955578585637791,0.06071492223671719,0.04767152298816081],\"yaxis\":\"y\"}],                        {\"barmode\":\"relative\",\"legend\":{\"tracegroupgap\":0},\"template\":{\"data\":{\"bar\":[{\"error_x\":{\"color\":\"#2a3f5f\"},\"error_y\":{\"color\":\"#2a3f5f\"},\"marker\":{\"line\":{\"color\":\"#E5ECF6\",\"width\":0.5},\"pattern\":{\"fillmode\":\"overlay\",\"size\":10,\"solidity\":0.2}},\"type\":\"bar\"}],\"barpolar\":[{\"marker\":{\"line\":{\"color\":\"#E5ECF6\",\"width\":0.5},\"pattern\":{\"fillmode\":\"overlay\",\"size\":10,\"solidity\":0.2}},\"type\":\"barpolar\"}],\"carpet\":[{\"aaxis\":{\"endlinecolor\":\"#2a3f5f\",\"gridcolor\":\"white\",\"linecolor\":\"white\",\"minorgridcolor\":\"white\",\"startlinecolor\":\"#2a3f5f\"},\"baxis\":{\"endlinecolor\":\"#2a3f5f\",\"gridcolor\":\"white\",\"linecolor\":\"white\",\"minorgridcolor\":\"white\",\"startlinecolor\":\"#2a3f5f\"},\"type\":\"carpet\"}],\"choropleth\":[{\"colorbar\":{\"outlinewidth\":0,\"ticks\":\"\"},\"type\":\"choropleth\"}],\"contour\":[{\"colorbar\":{\"outlinewidth\":0,\"ticks\":\"\"},\"colorscale\":[[0.0,\"#0d0887\"],[0.1111111111111111,\"#46039f\"],[0.2222222222222222,\"#7201a8\"],[0.3333333333333333,\"#9c179e\"],[0.4444444444444444,\"#bd3786\"],[0.5555555555555556,\"#d8576b\"],[0.6666666666666666,\"#ed7953\"],[0.7777777777777778,\"#fb9f3a\"],[0.8888888888888888,\"#fdca26\"],[1.0,\"#f0f921\"]],\"type\":\"contour\"}],\"contourcarpet\":[{\"colorbar\":{\"outlinewidth\":0,\"ticks\":\"\"},\"type\":\"contourcarpet\"}],\"heatmap\":[{\"colorbar\":{\"outlinewidth\":0,\"ticks\":\"\"},\"colorscale\":[[0.0,\"#0d0887\"],[0.1111111111111111,\"#46039f\"],[0.2222222222222222,\"#7201a8\"],[0.3333333333333333,\"#9c179e\"],[0.4444444444444444,\"#bd3786\"],[0.5555555555555556,\"#d8576b\"],[0.6666666666666666,\"#ed7953\"],[0.7777777777777778,\"#fb9f3a\"],[0.8888888888888888,\"#fdca26\"],[1.0,\"#f0f921\"]],\"type\":\"heatmap\"}],\"heatmapgl\":[{\"colorbar\":{\"outlinewidth\":0,\"ticks\":\"\"},\"colorscale\":[[0.0,\"#0d0887\"],[0.1111111111111111,\"#46039f\"],[0.2222222222222222,\"#7201a8\"],[0.3333333333333333,\"#9c179e\"],[0.4444444444444444,\"#bd3786\"],[0.5555555555555556,\"#d8576b\"],[0.6666666666666666,\"#ed7953\"],[0.7777777777777778,\"#fb9f3a\"],[0.8888888888888888,\"#fdca26\"],[1.0,\"#f0f921\"]],\"type\":\"heatmapgl\"}],\"histogram\":[{\"marker\":{\"pattern\":{\"fillmode\":\"overlay\",\"size\":10,\"solidity\":0.2}},\"type\":\"histogram\"}],\"histogram2d\":[{\"colorbar\":{\"outlinewidth\":0,\"ticks\":\"\"},\"colorscale\":[[0.0,\"#0d0887\"],[0.1111111111111111,\"#46039f\"],[0.2222222222222222,\"#7201a8\"],[0.3333333333333333,\"#9c179e\"],[0.4444444444444444,\"#bd3786\"],[0.5555555555555556,\"#d8576b\"],[0.6666666666666666,\"#ed7953\"],[0.7777777777777778,\"#fb9f3a\"],[0.8888888888888888,\"#fdca26\"],[1.0,\"#f0f921\"]],\"type\":\"histogram2d\"}],\"histogram2dcontour\":[{\"colorbar\":{\"outlinewidth\":0,\"ticks\":\"\"},\"colorscale\":[[0.0,\"#0d0887\"],[0.1111111111111111,\"#46039f\"],[0.2222222222222222,\"#7201a8\"],[0.3333333333333333,\"#9c179e\"],[0.4444444444444444,\"#bd3786\"],[0.5555555555555556,\"#d8576b\"],[0.6666666666666666,\"#ed7953\"],[0.7777777777777778,\"#fb9f3a\"],[0.8888888888888888,\"#fdca26\"],[1.0,\"#f0f921\"]],\"type\":\"histogram2dcontour\"}],\"mesh3d\":[{\"colorbar\":{\"outlinewidth\":0,\"ticks\":\"\"},\"type\":\"mesh3d\"}],\"parcoords\":[{\"line\":{\"colorbar\":{\"outlinewidth\":0,\"ticks\":\"\"}},\"type\":\"parcoords\"}],\"pie\":[{\"automargin\":true,\"type\":\"pie\"}],\"scatter\":[{\"marker\":{\"colorbar\":{\"outlinewidth\":0,\"ticks\":\"\"}},\"type\":\"scatter\"}],\"scatter3d\":[{\"line\":{\"colorbar\":{\"outlinewidth\":0,\"ticks\":\"\"}},\"marker\":{\"colorbar\":{\"outlinewidth\":0,\"ticks\":\"\"}},\"type\":\"scatter3d\"}],\"scattercarpet\":[{\"marker\":{\"colorbar\":{\"outlinewidth\":0,\"ticks\":\"\"}},\"type\":\"scattercarpet\"}],\"scattergeo\":[{\"marker\":{\"colorbar\":{\"outlinewidth\":0,\"ticks\":\"\"}},\"type\":\"scattergeo\"}],\"scattergl\":[{\"marker\":{\"colorbar\":{\"outlinewidth\":0,\"ticks\":\"\"}},\"type\":\"scattergl\"}],\"scattermapbox\":[{\"marker\":{\"colorbar\":{\"outlinewidth\":0,\"ticks\":\"\"}},\"type\":\"scattermapbox\"}],\"scatterpolar\":[{\"marker\":{\"colorbar\":{\"outlinewidth\":0,\"ticks\":\"\"}},\"type\":\"scatterpolar\"}],\"scatterpolargl\":[{\"marker\":{\"colorbar\":{\"outlinewidth\":0,\"ticks\":\"\"}},\"type\":\"scatterpolargl\"}],\"scatterternary\":[{\"marker\":{\"colorbar\":{\"outlinewidth\":0,\"ticks\":\"\"}},\"type\":\"scatterternary\"}],\"surface\":[{\"colorbar\":{\"outlinewidth\":0,\"ticks\":\"\"},\"colorscale\":[[0.0,\"#0d0887\"],[0.1111111111111111,\"#46039f\"],[0.2222222222222222,\"#7201a8\"],[0.3333333333333333,\"#9c179e\"],[0.4444444444444444,\"#bd3786\"],[0.5555555555555556,\"#d8576b\"],[0.6666666666666666,\"#ed7953\"],[0.7777777777777778,\"#fb9f3a\"],[0.8888888888888888,\"#fdca26\"],[1.0,\"#f0f921\"]],\"type\":\"surface\"}],\"table\":[{\"cells\":{\"fill\":{\"color\":\"#EBF0F8\"},\"line\":{\"color\":\"white\"}},\"header\":{\"fill\":{\"color\":\"#C8D4E3\"},\"line\":{\"color\":\"white\"}},\"type\":\"table\"}]},\"layout\":{\"annotationdefaults\":{\"arrowcolor\":\"#2a3f5f\",\"arrowhead\":0,\"arrowwidth\":1},\"autotypenumbers\":\"strict\",\"coloraxis\":{\"colorbar\":{\"outlinewidth\":0,\"ticks\":\"\"}},\"colorscale\":{\"diverging\":[[0,\"#8e0152\"],[0.1,\"#c51b7d\"],[0.2,\"#de77ae\"],[0.3,\"#f1b6da\"],[0.4,\"#fde0ef\"],[0.5,\"#f7f7f7\"],[0.6,\"#e6f5d0\"],[0.7,\"#b8e186\"],[0.8,\"#7fbc41\"],[0.9,\"#4d9221\"],[1,\"#276419\"]],\"sequential\":[[0.0,\"#0d0887\"],[0.1111111111111111,\"#46039f\"],[0.2222222222222222,\"#7201a8\"],[0.3333333333333333,\"#9c179e\"],[0.4444444444444444,\"#bd3786\"],[0.5555555555555556,\"#d8576b\"],[0.6666666666666666,\"#ed7953\"],[0.7777777777777778,\"#fb9f3a\"],[0.8888888888888888,\"#fdca26\"],[1.0,\"#f0f921\"]],\"sequentialminus\":[[0.0,\"#0d0887\"],[0.1111111111111111,\"#46039f\"],[0.2222222222222222,\"#7201a8\"],[0.3333333333333333,\"#9c179e\"],[0.4444444444444444,\"#bd3786\"],[0.5555555555555556,\"#d8576b\"],[0.6666666666666666,\"#ed7953\"],[0.7777777777777778,\"#fb9f3a\"],[0.8888888888888888,\"#fdca26\"],[1.0,\"#f0f921\"]]},\"colorway\":[\"#636efa\",\"#EF553B\",\"#00cc96\",\"#ab63fa\",\"#FFA15A\",\"#19d3f3\",\"#FF6692\",\"#B6E880\",\"#FF97FF\",\"#FECB52\"],\"font\":{\"color\":\"#2a3f5f\"},\"geo\":{\"bgcolor\":\"white\",\"lakecolor\":\"white\",\"landcolor\":\"#E5ECF6\",\"showlakes\":true,\"showland\":true,\"subunitcolor\":\"white\"},\"hoverlabel\":{\"align\":\"left\"},\"hovermode\":\"closest\",\"mapbox\":{\"style\":\"light\"},\"paper_bgcolor\":\"white\",\"plot_bgcolor\":\"#E5ECF6\",\"polar\":{\"angularaxis\":{\"gridcolor\":\"white\",\"linecolor\":\"white\",\"ticks\":\"\"},\"bgcolor\":\"#E5ECF6\",\"radialaxis\":{\"gridcolor\":\"white\",\"linecolor\":\"white\",\"ticks\":\"\"}},\"scene\":{\"xaxis\":{\"backgroundcolor\":\"#E5ECF6\",\"gridcolor\":\"white\",\"gridwidth\":2,\"linecolor\":\"white\",\"showbackground\":true,\"ticks\":\"\",\"zerolinecolor\":\"white\"},\"yaxis\":{\"backgroundcolor\":\"#E5ECF6\",\"gridcolor\":\"white\",\"gridwidth\":2,\"linecolor\":\"white\",\"showbackground\":true,\"ticks\":\"\",\"zerolinecolor\":\"white\"},\"zaxis\":{\"backgroundcolor\":\"#E5ECF6\",\"gridcolor\":\"white\",\"gridwidth\":2,\"linecolor\":\"white\",\"showbackground\":true,\"ticks\":\"\",\"zerolinecolor\":\"white\"}},\"shapedefaults\":{\"line\":{\"color\":\"#2a3f5f\"}},\"ternary\":{\"aaxis\":{\"gridcolor\":\"white\",\"linecolor\":\"white\",\"ticks\":\"\"},\"baxis\":{\"gridcolor\":\"white\",\"linecolor\":\"white\",\"ticks\":\"\"},\"bgcolor\":\"#E5ECF6\",\"caxis\":{\"gridcolor\":\"white\",\"linecolor\":\"white\",\"ticks\":\"\"}},\"title\":{\"x\":0.05},\"xaxis\":{\"automargin\":true,\"gridcolor\":\"white\",\"linecolor\":\"white\",\"ticks\":\"\",\"title\":{\"standoff\":15},\"zerolinecolor\":\"white\",\"zerolinewidth\":2},\"yaxis\":{\"automargin\":true,\"gridcolor\":\"white\",\"linecolor\":\"white\",\"ticks\":\"\",\"title\":{\"standoff\":15},\"zerolinecolor\":\"white\",\"zerolinewidth\":2}}},\"title\":{\"text\":\"Mean X\"},\"xaxis\":{\"anchor\":\"y\",\"domain\":[0.0,1.0],\"title\":{\"text\":\"x\"}},\"yaxis\":{\"anchor\":\"x\",\"domain\":[0.0,1.0],\"title\":{\"text\":\"y\"}}},                        {\"responsive\": true}                    ).then(function(){\n",
       "                            \n",
       "var gd = document.getElementById('ea729ba8-6560-450d-9297-99c5fdccec2c');\n",
       "var x = new MutationObserver(function (mutations, observer) {{\n",
       "        var display = window.getComputedStyle(gd).display;\n",
       "        if (!display || display === 'none') {{\n",
       "            console.log([gd, 'removed!']);\n",
       "            Plotly.purge(gd);\n",
       "            observer.disconnect();\n",
       "        }}\n",
       "}});\n",
       "\n",
       "// Listen for the removal of the full notebook cells\n",
       "var notebookContainer = gd.closest('#notebook-container');\n",
       "if (notebookContainer) {{\n",
       "    x.observe(notebookContainer, {childList: true});\n",
       "}}\n",
       "\n",
       "// Listen for the clearing of the current output cell\n",
       "var outputEl = gd.closest('.output');\n",
       "if (outputEl) {{\n",
       "    x.observe(outputEl, {childList: true});\n",
       "}}\n",
       "\n",
       "                        })                };                });            </script>        </div>"
      ]
     },
     "metadata": {},
     "output_type": "display_data"
    }
   ],
   "source": [
    "import plotly.express as px\n",
    "\n",
    "fig = px.bar(x=assets, y=x_vectors.mean(), title='Mean X')\n",
    "fig.show()"
   ]
  },
  {
   "cell_type": "code",
   "execution_count": null,
   "metadata": {},
   "outputs": [],
   "source": []
  }
 ],
 "metadata": {
  "kernelspec": {
   "display_name": "Python 3 (ipykernel)",
   "language": "python",
   "name": "python3"
  },
  "language_info": {
   "codemirror_mode": {
    "name": "ipython",
    "version": 3
   },
   "file_extension": ".py",
   "mimetype": "text/x-python",
   "name": "python",
   "nbconvert_exporter": "python",
   "pygments_lexer": "ipython3",
   "version": "3.8.11"
  }
 },
 "nbformat": 4,
 "nbformat_minor": 4
}
