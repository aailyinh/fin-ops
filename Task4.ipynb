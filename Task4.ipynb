{
 "cells": [
  {
   "cell_type": "markdown",
   "metadata": {},
   "source": [
    "## III - Неопределенность оптимального портфеля. Оптимизация CVaR. \n",
    "\n",
    "Целью работы является оценка неопределенности оптимального портфеля для нормального многомерного распределения и двух способов вычисления оптимального портфеля (оптимизация в модели Марковица и оптимизация CVaR)"
   ]
  },
  {
   "cell_type": "markdown",
   "metadata": {},
   "source": [
    "### Подготовка модели"
   ]
  },
  {
   "cell_type": "markdown",
   "metadata": {},
   "source": [
    "#### Загружаем тикеры с фоднового рынка NASDAQ"
   ]
  },
  {
   "cell_type": "code",
   "execution_count": 430,
   "metadata": {},
   "outputs": [
    {
     "data": {
      "text/html": [
       "<div>\n",
       "<style scoped>\n",
       "    .dataframe tbody tr th:only-of-type {\n",
       "        vertical-align: middle;\n",
       "    }\n",
       "\n",
       "    .dataframe tbody tr th {\n",
       "        vertical-align: top;\n",
       "    }\n",
       "\n",
       "    .dataframe thead th {\n",
       "        text-align: right;\n",
       "    }\n",
       "</style>\n",
       "<table border=\"1\" class=\"dataframe\">\n",
       "  <thead>\n",
       "    <tr style=\"text-align: right;\">\n",
       "      <th></th>\n",
       "      <th>ticker</th>\n",
       "      <th>company</th>\n",
       "    </tr>\n",
       "  </thead>\n",
       "  <tbody>\n",
       "    <tr>\n",
       "      <th>0</th>\n",
       "      <td>AAIT</td>\n",
       "      <td>iShares MSCI All Country Asia Information Tech...</td>\n",
       "    </tr>\n",
       "    <tr>\n",
       "      <th>1</th>\n",
       "      <td>AAL</td>\n",
       "      <td>American Airlines Group, Inc.</td>\n",
       "    </tr>\n",
       "    <tr>\n",
       "      <th>2</th>\n",
       "      <td>AAME</td>\n",
       "      <td>Atlantic American Corporation</td>\n",
       "    </tr>\n",
       "    <tr>\n",
       "      <th>3</th>\n",
       "      <td>AAOI</td>\n",
       "      <td>Applied Optoelectronics, Inc.</td>\n",
       "    </tr>\n",
       "    <tr>\n",
       "      <th>4</th>\n",
       "      <td>AAON</td>\n",
       "      <td>AAON, Inc.</td>\n",
       "    </tr>\n",
       "    <tr>\n",
       "      <th>...</th>\n",
       "      <td>...</td>\n",
       "      <td>...</td>\n",
       "    </tr>\n",
       "    <tr>\n",
       "      <th>2962</th>\n",
       "      <td>ZN</td>\n",
       "      <td>Zion Oil &amp; Gas Inc</td>\n",
       "    </tr>\n",
       "    <tr>\n",
       "      <th>2963</th>\n",
       "      <td>ZNGA</td>\n",
       "      <td>Zynga Inc.</td>\n",
       "    </tr>\n",
       "    <tr>\n",
       "      <th>2964</th>\n",
       "      <td>ZSPH</td>\n",
       "      <td>ZS Pharma, Inc.</td>\n",
       "    </tr>\n",
       "    <tr>\n",
       "      <th>2965</th>\n",
       "      <td>ZU</td>\n",
       "      <td>zulily, inc.</td>\n",
       "    </tr>\n",
       "    <tr>\n",
       "      <th>2966</th>\n",
       "      <td>ZUMZ</td>\n",
       "      <td>Zumiez Inc.</td>\n",
       "    </tr>\n",
       "  </tbody>\n",
       "</table>\n",
       "<p>2967 rows × 2 columns</p>\n",
       "</div>"
      ],
      "text/plain": [
       "     ticker                                            company\n",
       "0      AAIT  iShares MSCI All Country Asia Information Tech...\n",
       "1       AAL                      American Airlines Group, Inc.\n",
       "2      AAME                      Atlantic American Corporation\n",
       "3      AAOI                      Applied Optoelectronics, Inc.\n",
       "4      AAON                                         AAON, Inc.\n",
       "...     ...                                                ...\n",
       "2962     ZN                                 Zion Oil & Gas Inc\n",
       "2963   ZNGA                                         Zynga Inc.\n",
       "2964   ZSPH                                    ZS Pharma, Inc.\n",
       "2965     ZU                                       zulily, inc.\n",
       "2966   ZUMZ                                        Zumiez Inc.\n",
       "\n",
       "[2967 rows x 2 columns]"
      ]
     },
     "execution_count": 430,
     "metadata": {},
     "output_type": "execute_result"
    }
   ],
   "source": [
    "import pandas as pd\n",
    "\n",
    "DATA_PATH    = './downloader-data'\n",
    "TICKERS_PATH = './tickers'\n",
    "\n",
    "def read_tickers(stock_markets) -> pd.DataFrame:\n",
    "    '''Returns pandas dataframe containing all tickers for the @stock_markets '''\n",
    "    ticker_files = [f'{TICKERS_PATH}/{sm}.csv' for sm in stock_markets]\n",
    "    tickers = pd.concat([pd.read_csv(tf) for tf in ticker_files], ignore_index=True)\n",
    "    return tickers\n",
    "\n",
    "\n",
    "stock_markets = ['NASDAQ']\n",
    "tickers = read_tickers(stock_markets)\n",
    "tickers"
   ]
  },
  {
   "cell_type": "markdown",
   "metadata": {},
   "source": [
    "#### Загружаем исторические данные за 2021 год для полученных тикеров"
   ]
  },
  {
   "cell_type": "code",
   "execution_count": 431,
   "metadata": {},
   "outputs": [],
   "source": [
    "def read_historical_data(tickers):\n",
    "    '''Returns dict {ticker : historical data for the ticker}'''\n",
    "    data_for_ticker = {}\n",
    "    for index, (ticker, name) in tickers.iterrows():\n",
    "        try:\n",
    "            data = pd.read_csv(f'{DATA_PATH}/{ticker}.csv')\n",
    "            if len(data) > 100:\n",
    "                data_for_ticker[ticker] = data\n",
    "        except:\n",
    "            pass\n",
    "    return data_for_ticker\n",
    "\n",
    "\n",
    "data_for_ticker = read_historical_data(tickers)"
   ]
  },
  {
   "cell_type": "markdown",
   "metadata": {},
   "source": [
    "#### Пример данных для AAPL:"
   ]
  },
  {
   "cell_type": "code",
   "execution_count": 432,
   "metadata": {},
   "outputs": [
    {
     "data": {
      "text/html": [
       "<div>\n",
       "<style scoped>\n",
       "    .dataframe tbody tr th:only-of-type {\n",
       "        vertical-align: middle;\n",
       "    }\n",
       "\n",
       "    .dataframe tbody tr th {\n",
       "        vertical-align: top;\n",
       "    }\n",
       "\n",
       "    .dataframe thead th {\n",
       "        text-align: right;\n",
       "    }\n",
       "</style>\n",
       "<table border=\"1\" class=\"dataframe\">\n",
       "  <thead>\n",
       "    <tr style=\"text-align: right;\">\n",
       "      <th></th>\n",
       "      <th>Date</th>\n",
       "      <th>Open</th>\n",
       "      <th>High</th>\n",
       "      <th>Low</th>\n",
       "      <th>Close</th>\n",
       "      <th>Volume</th>\n",
       "      <th>Dividends</th>\n",
       "      <th>Stock Splits</th>\n",
       "    </tr>\n",
       "  </thead>\n",
       "  <tbody>\n",
       "    <tr>\n",
       "      <th>0</th>\n",
       "      <td>2020-11-30</td>\n",
       "      <td>116.597423</td>\n",
       "      <td>120.584682</td>\n",
       "      <td>116.437929</td>\n",
       "      <td>118.670799</td>\n",
       "      <td>169410200</td>\n",
       "      <td>0.0</td>\n",
       "      <td>0</td>\n",
       "    </tr>\n",
       "    <tr>\n",
       "      <th>1</th>\n",
       "      <td>2020-12-01</td>\n",
       "      <td>120.624557</td>\n",
       "      <td>123.076720</td>\n",
       "      <td>119.627742</td>\n",
       "      <td>122.329109</td>\n",
       "      <td>127728200</td>\n",
       "      <td>0.0</td>\n",
       "      <td>0</td>\n",
       "    </tr>\n",
       "    <tr>\n",
       "      <th>2</th>\n",
       "      <td>2020-12-02</td>\n",
       "      <td>121.631329</td>\n",
       "      <td>122.977035</td>\n",
       "      <td>120.504931</td>\n",
       "      <td>122.687958</td>\n",
       "      <td>89004200</td>\n",
       "      <td>0.0</td>\n",
       "      <td>0</td>\n",
       "    </tr>\n",
       "    <tr>\n",
       "      <th>3</th>\n",
       "      <td>2020-12-03</td>\n",
       "      <td>123.126555</td>\n",
       "      <td>123.385729</td>\n",
       "      <td>121.820730</td>\n",
       "      <td>122.548409</td>\n",
       "      <td>78967600</td>\n",
       "      <td>0.0</td>\n",
       "      <td>0</td>\n",
       "    </tr>\n",
       "    <tr>\n",
       "      <th>4</th>\n",
       "      <td>2020-12-04</td>\n",
       "      <td>122.209495</td>\n",
       "      <td>122.468669</td>\n",
       "      <td>121.132933</td>\n",
       "      <td>121.860611</td>\n",
       "      <td>78260400</td>\n",
       "      <td>0.0</td>\n",
       "      <td>0</td>\n",
       "    </tr>\n",
       "    <tr>\n",
       "      <th>...</th>\n",
       "      <td>...</td>\n",
       "      <td>...</td>\n",
       "      <td>...</td>\n",
       "      <td>...</td>\n",
       "      <td>...</td>\n",
       "      <td>...</td>\n",
       "      <td>...</td>\n",
       "      <td>...</td>\n",
       "    </tr>\n",
       "    <tr>\n",
       "      <th>248</th>\n",
       "      <td>2021-11-23</td>\n",
       "      <td>161.119995</td>\n",
       "      <td>161.800003</td>\n",
       "      <td>159.059998</td>\n",
       "      <td>161.410004</td>\n",
       "      <td>96041900</td>\n",
       "      <td>0.0</td>\n",
       "      <td>0</td>\n",
       "    </tr>\n",
       "    <tr>\n",
       "      <th>249</th>\n",
       "      <td>2021-11-24</td>\n",
       "      <td>160.750000</td>\n",
       "      <td>162.139999</td>\n",
       "      <td>159.639999</td>\n",
       "      <td>161.940002</td>\n",
       "      <td>69463600</td>\n",
       "      <td>0.0</td>\n",
       "      <td>0</td>\n",
       "    </tr>\n",
       "    <tr>\n",
       "      <th>250</th>\n",
       "      <td>2021-11-26</td>\n",
       "      <td>159.570007</td>\n",
       "      <td>160.449997</td>\n",
       "      <td>156.360001</td>\n",
       "      <td>156.809998</td>\n",
       "      <td>76959800</td>\n",
       "      <td>0.0</td>\n",
       "      <td>0</td>\n",
       "    </tr>\n",
       "    <tr>\n",
       "      <th>251</th>\n",
       "      <td>2021-11-29</td>\n",
       "      <td>159.369995</td>\n",
       "      <td>161.190002</td>\n",
       "      <td>158.789993</td>\n",
       "      <td>160.240005</td>\n",
       "      <td>88748200</td>\n",
       "      <td>0.0</td>\n",
       "      <td>0</td>\n",
       "    </tr>\n",
       "    <tr>\n",
       "      <th>252</th>\n",
       "      <td>2021-11-30</td>\n",
       "      <td>159.990005</td>\n",
       "      <td>165.520004</td>\n",
       "      <td>159.919998</td>\n",
       "      <td>165.300003</td>\n",
       "      <td>174048100</td>\n",
       "      <td>0.0</td>\n",
       "      <td>0</td>\n",
       "    </tr>\n",
       "  </tbody>\n",
       "</table>\n",
       "<p>253 rows × 8 columns</p>\n",
       "</div>"
      ],
      "text/plain": [
       "           Date        Open        High         Low       Close     Volume  \\\n",
       "0    2020-11-30  116.597423  120.584682  116.437929  118.670799  169410200   \n",
       "1    2020-12-01  120.624557  123.076720  119.627742  122.329109  127728200   \n",
       "2    2020-12-02  121.631329  122.977035  120.504931  122.687958   89004200   \n",
       "3    2020-12-03  123.126555  123.385729  121.820730  122.548409   78967600   \n",
       "4    2020-12-04  122.209495  122.468669  121.132933  121.860611   78260400   \n",
       "..          ...         ...         ...         ...         ...        ...   \n",
       "248  2021-11-23  161.119995  161.800003  159.059998  161.410004   96041900   \n",
       "249  2021-11-24  160.750000  162.139999  159.639999  161.940002   69463600   \n",
       "250  2021-11-26  159.570007  160.449997  156.360001  156.809998   76959800   \n",
       "251  2021-11-29  159.369995  161.190002  158.789993  160.240005   88748200   \n",
       "252  2021-11-30  159.990005  165.520004  159.919998  165.300003  174048100   \n",
       "\n",
       "     Dividends  Stock Splits  \n",
       "0          0.0             0  \n",
       "1          0.0             0  \n",
       "2          0.0             0  \n",
       "3          0.0             0  \n",
       "4          0.0             0  \n",
       "..         ...           ...  \n",
       "248        0.0             0  \n",
       "249        0.0             0  \n",
       "250        0.0             0  \n",
       "251        0.0             0  \n",
       "252        0.0             0  \n",
       "\n",
       "[253 rows x 8 columns]"
      ]
     },
     "execution_count": 432,
     "metadata": {},
     "output_type": "execute_result"
    }
   ],
   "source": [
    "data_for_ticker['AAPL']"
   ]
  },
  {
   "cell_type": "markdown",
   "metadata": {},
   "source": [
    "#### Выбираем 20 активов"
   ]
  },
  {
   "cell_type": "code",
   "execution_count": 433,
   "metadata": {},
   "outputs": [],
   "source": [
    "assets = ['MDLZ', 'MSFT', 'NXPI', 'PCAR', 'INTC',\n",
    "          'NVDA', 'ILMN', 'DXCM', 'ROST', 'LULU']\n",
    "\n",
    "assets_data = {}\n",
    "for asset in assets:\n",
    "    assets_data[asset] = data_for_ticker[asset]"
   ]
  },
  {
   "cell_type": "markdown",
   "metadata": {},
   "source": [
    "#### Оцениваем математические ожидания доходностей"
   ]
  },
  {
   "cell_type": "code",
   "execution_count": 434,
   "metadata": {},
   "outputs": [
    {
     "data": {
      "text/html": [
       "<div>\n",
       "<style scoped>\n",
       "    .dataframe tbody tr th:only-of-type {\n",
       "        vertical-align: middle;\n",
       "    }\n",
       "\n",
       "    .dataframe tbody tr th {\n",
       "        vertical-align: top;\n",
       "    }\n",
       "\n",
       "    .dataframe thead th {\n",
       "        text-align: right;\n",
       "    }\n",
       "</style>\n",
       "<table border=\"1\" class=\"dataframe\">\n",
       "  <thead>\n",
       "    <tr style=\"text-align: right;\">\n",
       "      <th></th>\n",
       "      <th>logret_mean</th>\n",
       "      <th>logret_std</th>\n",
       "    </tr>\n",
       "    <tr>\n",
       "      <th>ticker</th>\n",
       "      <th></th>\n",
       "      <th></th>\n",
       "    </tr>\n",
       "  </thead>\n",
       "  <tbody>\n",
       "    <tr>\n",
       "      <th>MDLZ</th>\n",
       "      <td>0.000164</td>\n",
       "      <td>0.009635</td>\n",
       "    </tr>\n",
       "    <tr>\n",
       "      <th>MSFT</th>\n",
       "      <td>0.001743</td>\n",
       "      <td>0.012638</td>\n",
       "    </tr>\n",
       "    <tr>\n",
       "      <th>NXPI</th>\n",
       "      <td>0.001406</td>\n",
       "      <td>0.023336</td>\n",
       "    </tr>\n",
       "    <tr>\n",
       "      <th>PCAR</th>\n",
       "      <td>-0.000078</td>\n",
       "      <td>0.015266</td>\n",
       "    </tr>\n",
       "    <tr>\n",
       "      <th>INTC</th>\n",
       "      <td>0.000118</td>\n",
       "      <td>0.020613</td>\n",
       "    </tr>\n",
       "    <tr>\n",
       "      <th>NVDA</th>\n",
       "      <td>0.003541</td>\n",
       "      <td>0.025897</td>\n",
       "    </tr>\n",
       "    <tr>\n",
       "      <th>ILMN</th>\n",
       "      <td>0.000500</td>\n",
       "      <td>0.020907</td>\n",
       "    </tr>\n",
       "    <tr>\n",
       "      <th>DXCM</th>\n",
       "      <td>0.002243</td>\n",
       "      <td>0.022329</td>\n",
       "    </tr>\n",
       "    <tr>\n",
       "      <th>ROST</th>\n",
       "      <td>0.000076</td>\n",
       "      <td>0.018766</td>\n",
       "    </tr>\n",
       "    <tr>\n",
       "      <th>LULU</th>\n",
       "      <td>0.000813</td>\n",
       "      <td>0.019451</td>\n",
       "    </tr>\n",
       "  </tbody>\n",
       "</table>\n",
       "</div>"
      ],
      "text/plain": [
       "        logret_mean  logret_std\n",
       "ticker                         \n",
       "MDLZ       0.000164    0.009635\n",
       "MSFT       0.001743    0.012638\n",
       "NXPI       0.001406    0.023336\n",
       "PCAR      -0.000078    0.015266\n",
       "INTC       0.000118    0.020613\n",
       "NVDA       0.003541    0.025897\n",
       "ILMN       0.000500    0.020907\n",
       "DXCM       0.002243    0.022329\n",
       "ROST       0.000076    0.018766\n",
       "LULU       0.000813    0.019451"
      ]
     },
     "execution_count": 434,
     "metadata": {},
     "output_type": "execute_result"
    }
   ],
   "source": [
    "import pandas as pd\n",
    "import numpy as np\n",
    "\n",
    "def add_logret(ticker_data: pd.DataFrame, by_column='Close') -> pd.DataFrame:\n",
    "    '''Returns @ticker_data with calculated \"logret\" and \"-logret\" columns'''\n",
    "    ticker_data = ticker_data.assign(logret=np.log(ticker_data[by_column]).diff())\n",
    "    ticker_data['-logret'] = ticker_data['logret'].mul(-1)\n",
    "    return ticker_data\n",
    "\n",
    "\n",
    "def get_logret_mean_std(tickers, data_map, by_column='Close') -> pd.DataFrame:\n",
    "    '''Returns @result pd.DataFrame such that @result.loc[ticker] == [logret_mean, logret_std]'''\n",
    "    result = pd.DataFrame(data=[], columns=['ticker', 'logret_mean', 'logret_std'])\n",
    "    result.set_index('ticker', inplace=True)\n",
    "\n",
    "    for ticker in tickers:\n",
    "        ticker_data = data_map[ticker]\n",
    "        ticker_logret = np.log(ticker_data[by_column]).diff()\n",
    "        result.loc[ticker] = [ticker_logret.mean(), ticker_logret.std()]\n",
    "    \n",
    "    return result\n",
    "  \n",
    "\n",
    "for ticker in assets_data.keys():\n",
    "    assets_data[ticker] = add_logret(assets_data[ticker])\n",
    "\n",
    "estims = get_logret_mean_std(assets, assets_data)\n",
    "estims"
   ]
  },
  {
   "cell_type": "markdown",
   "metadata": {},
   "source": [
    "#### Находим матрицу выборочных ковариаций доходностей "
   ]
  },
  {
   "cell_type": "code",
   "execution_count": 435,
   "metadata": {},
   "outputs": [
    {
     "data": {
      "text/html": [
       "<div>\n",
       "<style scoped>\n",
       "    .dataframe tbody tr th:only-of-type {\n",
       "        vertical-align: middle;\n",
       "    }\n",
       "\n",
       "    .dataframe tbody tr th {\n",
       "        vertical-align: top;\n",
       "    }\n",
       "\n",
       "    .dataframe thead th {\n",
       "        text-align: right;\n",
       "    }\n",
       "</style>\n",
       "<table border=\"1\" class=\"dataframe\">\n",
       "  <thead>\n",
       "    <tr style=\"text-align: right;\">\n",
       "      <th></th>\n",
       "      <th>MDLZ</th>\n",
       "      <th>MSFT</th>\n",
       "      <th>NXPI</th>\n",
       "      <th>PCAR</th>\n",
       "      <th>INTC</th>\n",
       "      <th>NVDA</th>\n",
       "      <th>ILMN</th>\n",
       "      <th>DXCM</th>\n",
       "      <th>ROST</th>\n",
       "      <th>LULU</th>\n",
       "    </tr>\n",
       "  </thead>\n",
       "  <tbody>\n",
       "    <tr>\n",
       "      <th>MDLZ</th>\n",
       "      <td>0.000093</td>\n",
       "      <td>0.000032</td>\n",
       "      <td>0.000031</td>\n",
       "      <td>0.000024</td>\n",
       "      <td>0.000026</td>\n",
       "      <td>0.000018</td>\n",
       "      <td>0.000022</td>\n",
       "      <td>0.000026</td>\n",
       "      <td>0.000058</td>\n",
       "      <td>0.000038</td>\n",
       "    </tr>\n",
       "    <tr>\n",
       "      <th>MSFT</th>\n",
       "      <td>0.000032</td>\n",
       "      <td>0.000160</td>\n",
       "      <td>0.000129</td>\n",
       "      <td>0.000025</td>\n",
       "      <td>0.000089</td>\n",
       "      <td>0.000184</td>\n",
       "      <td>0.000097</td>\n",
       "      <td>0.000112</td>\n",
       "      <td>0.000056</td>\n",
       "      <td>0.000091</td>\n",
       "    </tr>\n",
       "    <tr>\n",
       "      <th>NXPI</th>\n",
       "      <td>0.000031</td>\n",
       "      <td>0.000129</td>\n",
       "      <td>0.000545</td>\n",
       "      <td>0.000112</td>\n",
       "      <td>0.000250</td>\n",
       "      <td>0.000343</td>\n",
       "      <td>0.000170</td>\n",
       "      <td>0.000184</td>\n",
       "      <td>0.000152</td>\n",
       "      <td>0.000192</td>\n",
       "    </tr>\n",
       "    <tr>\n",
       "      <th>PCAR</th>\n",
       "      <td>0.000024</td>\n",
       "      <td>0.000025</td>\n",
       "      <td>0.000112</td>\n",
       "      <td>0.000233</td>\n",
       "      <td>0.000090</td>\n",
       "      <td>0.000058</td>\n",
       "      <td>0.000025</td>\n",
       "      <td>0.000008</td>\n",
       "      <td>0.000089</td>\n",
       "      <td>0.000033</td>\n",
       "    </tr>\n",
       "    <tr>\n",
       "      <th>INTC</th>\n",
       "      <td>0.000026</td>\n",
       "      <td>0.000089</td>\n",
       "      <td>0.000250</td>\n",
       "      <td>0.000090</td>\n",
       "      <td>0.000425</td>\n",
       "      <td>0.000188</td>\n",
       "      <td>0.000103</td>\n",
       "      <td>0.000102</td>\n",
       "      <td>0.000111</td>\n",
       "      <td>0.000103</td>\n",
       "    </tr>\n",
       "    <tr>\n",
       "      <th>NVDA</th>\n",
       "      <td>0.000018</td>\n",
       "      <td>0.000184</td>\n",
       "      <td>0.000343</td>\n",
       "      <td>0.000058</td>\n",
       "      <td>0.000188</td>\n",
       "      <td>0.000671</td>\n",
       "      <td>0.000160</td>\n",
       "      <td>0.000203</td>\n",
       "      <td>0.000075</td>\n",
       "      <td>0.000210</td>\n",
       "    </tr>\n",
       "    <tr>\n",
       "      <th>ILMN</th>\n",
       "      <td>0.000022</td>\n",
       "      <td>0.000097</td>\n",
       "      <td>0.000170</td>\n",
       "      <td>0.000025</td>\n",
       "      <td>0.000103</td>\n",
       "      <td>0.000160</td>\n",
       "      <td>0.000437</td>\n",
       "      <td>0.000202</td>\n",
       "      <td>0.000012</td>\n",
       "      <td>0.000133</td>\n",
       "    </tr>\n",
       "    <tr>\n",
       "      <th>DXCM</th>\n",
       "      <td>0.000026</td>\n",
       "      <td>0.000112</td>\n",
       "      <td>0.000184</td>\n",
       "      <td>0.000008</td>\n",
       "      <td>0.000102</td>\n",
       "      <td>0.000203</td>\n",
       "      <td>0.000202</td>\n",
       "      <td>0.000499</td>\n",
       "      <td>0.000068</td>\n",
       "      <td>0.000161</td>\n",
       "    </tr>\n",
       "    <tr>\n",
       "      <th>ROST</th>\n",
       "      <td>0.000058</td>\n",
       "      <td>0.000056</td>\n",
       "      <td>0.000152</td>\n",
       "      <td>0.000089</td>\n",
       "      <td>0.000111</td>\n",
       "      <td>0.000075</td>\n",
       "      <td>0.000012</td>\n",
       "      <td>0.000068</td>\n",
       "      <td>0.000352</td>\n",
       "      <td>0.000105</td>\n",
       "    </tr>\n",
       "    <tr>\n",
       "      <th>LULU</th>\n",
       "      <td>0.000038</td>\n",
       "      <td>0.000091</td>\n",
       "      <td>0.000192</td>\n",
       "      <td>0.000033</td>\n",
       "      <td>0.000103</td>\n",
       "      <td>0.000210</td>\n",
       "      <td>0.000133</td>\n",
       "      <td>0.000161</td>\n",
       "      <td>0.000105</td>\n",
       "      <td>0.000378</td>\n",
       "    </tr>\n",
       "  </tbody>\n",
       "</table>\n",
       "</div>"
      ],
      "text/plain": [
       "          MDLZ      MSFT      NXPI      PCAR      INTC      NVDA      ILMN  \\\n",
       "MDLZ  0.000093  0.000032  0.000031  0.000024  0.000026  0.000018  0.000022   \n",
       "MSFT  0.000032  0.000160  0.000129  0.000025  0.000089  0.000184  0.000097   \n",
       "NXPI  0.000031  0.000129  0.000545  0.000112  0.000250  0.000343  0.000170   \n",
       "PCAR  0.000024  0.000025  0.000112  0.000233  0.000090  0.000058  0.000025   \n",
       "INTC  0.000026  0.000089  0.000250  0.000090  0.000425  0.000188  0.000103   \n",
       "NVDA  0.000018  0.000184  0.000343  0.000058  0.000188  0.000671  0.000160   \n",
       "ILMN  0.000022  0.000097  0.000170  0.000025  0.000103  0.000160  0.000437   \n",
       "DXCM  0.000026  0.000112  0.000184  0.000008  0.000102  0.000203  0.000202   \n",
       "ROST  0.000058  0.000056  0.000152  0.000089  0.000111  0.000075  0.000012   \n",
       "LULU  0.000038  0.000091  0.000192  0.000033  0.000103  0.000210  0.000133   \n",
       "\n",
       "          DXCM      ROST      LULU  \n",
       "MDLZ  0.000026  0.000058  0.000038  \n",
       "MSFT  0.000112  0.000056  0.000091  \n",
       "NXPI  0.000184  0.000152  0.000192  \n",
       "PCAR  0.000008  0.000089  0.000033  \n",
       "INTC  0.000102  0.000111  0.000103  \n",
       "NVDA  0.000203  0.000075  0.000210  \n",
       "ILMN  0.000202  0.000012  0.000133  \n",
       "DXCM  0.000499  0.000068  0.000161  \n",
       "ROST  0.000068  0.000352  0.000105  \n",
       "LULU  0.000161  0.000105  0.000378  "
      ]
     },
     "execution_count": 435,
     "metadata": {},
     "output_type": "execute_result"
    }
   ],
   "source": [
    "def get_covariation_matrix(tickers,                          \n",
    "                           data_map=data_for_ticker,\n",
    "                           by_column='logret'):\n",
    "    columns = pd.DataFrame()\n",
    "    for ticker in tickers:\n",
    "        columns[ticker] = data_map[ticker][by_column][1:]\n",
    "        \n",
    "    matrix = columns.cov()\n",
    "    return matrix\n",
    "\n",
    "cov_matrix = get_covariation_matrix(assets, data_map=assets_data)\n",
    "cov_matrix"
   ]
  },
  {
   "cell_type": "code",
   "execution_count": 436,
   "metadata": {},
   "outputs": [
    {
     "data": {
      "application/vnd.plotly.v1+json": {
       "config": {
        "plotlyServerURL": "https://plot.ly"
       },
       "data": [
        {
         "coloraxis": "coloraxis",
         "hovertemplate": "x: %{x}<br>y: %{y}<br>color: %{z}<extra></extra>",
         "name": "0",
         "type": "heatmap",
         "x": [
          "MDLZ",
          "MSFT",
          "NXPI",
          "PCAR",
          "INTC",
          "NVDA",
          "ILMN",
          "DXCM",
          "ROST",
          "LULU"
         ],
         "xaxis": "x",
         "y": [
          "MDLZ",
          "MSFT",
          "NXPI",
          "PCAR",
          "INTC",
          "NVDA",
          "ILMN",
          "DXCM",
          "ROST",
          "LULU"
         ],
         "yaxis": "y",
         "z": [
          [
           9.283689515255262e-05,
           3.173686143468105e-05,
           3.0624296612563473e-05,
           2.4429884990747602e-05,
           2.5513766301869305e-05,
           1.789348105449689e-05,
           2.1517568308871687e-05,
           2.6116871094372062e-05,
           5.787319589165347e-05,
           3.758352953040061e-05
          ],
          [
           3.173686143468105e-05,
           0.0001597263489967833,
           0.00012856843127890033,
           2.5017817448010213e-05,
           8.943004255431527e-05,
           0.00018437672696050938,
           9.670305862018692e-05,
           0.00011201341506818406,
           5.624452743426021e-05,
           9.094831923244999e-05
          ],
          [
           3.0624296612563473e-05,
           0.00012856843127890033,
           0.0005445600147438653,
           0.00011208263565260205,
           0.0002495032065424408,
           0.0003429915574226482,
           0.0001701739996833108,
           0.0001835145733363536,
           0.00015221622180472925,
           0.0001918143420137122
          ],
          [
           2.4429884990747602e-05,
           2.5017817448010213e-05,
           0.00011208263565260205,
           0.00023305322734861912,
           8.993311117892844e-05,
           5.7773287081232766e-05,
           2.485892405362586e-05,
           8.423898167599682e-06,
           8.907206305918121e-05,
           3.3301847115311266e-05
          ],
          [
           2.5513766301869305e-05,
           8.943004255431527e-05,
           0.0002495032065424408,
           8.993311117892844e-05,
           0.00042490042090652353,
           0.00018818669303284773,
           0.00010270157756188192,
           0.00010165068274385688,
           0.00011139312427403514,
           0.00010259664172983227
          ],
          [
           1.789348105449689e-05,
           0.00018437672696050938,
           0.0003429915574226482,
           5.7773287081232766e-05,
           0.00018818669303284773,
           0.0006706431255278605,
           0.0001604033970157454,
           0.0002029670759579731,
           7.515623108695969e-05,
           0.00020950834590654143
          ],
          [
           2.1517568308871687e-05,
           9.670305862018692e-05,
           0.0001701739996833108,
           2.485892405362586e-05,
           0.00010270157756188192,
           0.0001604033970157454,
           0.00043710389719634575,
           0.00020224193289248053,
           1.2034884751406829e-05,
           0.0001326750927703705
          ],
          [
           2.6116871094372062e-05,
           0.00011201341506818406,
           0.0001835145733363536,
           8.423898167599682e-06,
           0.00010165068274385688,
           0.0002029670759579731,
           0.00020224193289248053,
           0.0004985720495484733,
           6.759515348775174e-05,
           0.00016111920763904855
          ],
          [
           5.787319589165347e-05,
           5.624452743426021e-05,
           0.00015221622180472925,
           8.907206305918121e-05,
           0.00011139312427403514,
           7.515623108695969e-05,
           1.2034884751406829e-05,
           6.759515348775174e-05,
           0.0003521659274313528,
           0.00010506688180025479
          ],
          [
           3.758352953040061e-05,
           9.094831923244999e-05,
           0.0001918143420137122,
           3.3301847115311266e-05,
           0.00010259664172983227,
           0.00020950834590654143,
           0.0001326750927703705,
           0.00016111920763904855,
           0.00010506688180025479,
           0.00037835480880170044
          ]
         ]
        }
       ],
       "layout": {
        "coloraxis": {
         "colorscale": [
          [
           0,
           "rgb(0,104,55)"
          ],
          [
           0.1,
           "rgb(26,152,80)"
          ],
          [
           0.2,
           "rgb(102,189,99)"
          ],
          [
           0.3,
           "rgb(166,217,106)"
          ],
          [
           0.4,
           "rgb(217,239,139)"
          ],
          [
           0.5,
           "rgb(255,255,191)"
          ],
          [
           0.6,
           "rgb(254,224,139)"
          ],
          [
           0.7,
           "rgb(253,174,97)"
          ],
          [
           0.8,
           "rgb(244,109,67)"
          ],
          [
           0.9,
           "rgb(215,48,39)"
          ],
          [
           1,
           "rgb(165,0,38)"
          ]
         ]
        },
        "template": {
         "data": {
          "bar": [
           {
            "error_x": {
             "color": "#2a3f5f"
            },
            "error_y": {
             "color": "#2a3f5f"
            },
            "marker": {
             "line": {
              "color": "#E5ECF6",
              "width": 0.5
             }
            },
            "type": "bar"
           }
          ],
          "barpolar": [
           {
            "marker": {
             "line": {
              "color": "#E5ECF6",
              "width": 0.5
             }
            },
            "type": "barpolar"
           }
          ],
          "carpet": [
           {
            "aaxis": {
             "endlinecolor": "#2a3f5f",
             "gridcolor": "white",
             "linecolor": "white",
             "minorgridcolor": "white",
             "startlinecolor": "#2a3f5f"
            },
            "baxis": {
             "endlinecolor": "#2a3f5f",
             "gridcolor": "white",
             "linecolor": "white",
             "minorgridcolor": "white",
             "startlinecolor": "#2a3f5f"
            },
            "type": "carpet"
           }
          ],
          "choropleth": [
           {
            "colorbar": {
             "outlinewidth": 0,
             "ticks": ""
            },
            "type": "choropleth"
           }
          ],
          "contour": [
           {
            "colorbar": {
             "outlinewidth": 0,
             "ticks": ""
            },
            "colorscale": [
             [
              0,
              "#0d0887"
             ],
             [
              0.1111111111111111,
              "#46039f"
             ],
             [
              0.2222222222222222,
              "#7201a8"
             ],
             [
              0.3333333333333333,
              "#9c179e"
             ],
             [
              0.4444444444444444,
              "#bd3786"
             ],
             [
              0.5555555555555556,
              "#d8576b"
             ],
             [
              0.6666666666666666,
              "#ed7953"
             ],
             [
              0.7777777777777778,
              "#fb9f3a"
             ],
             [
              0.8888888888888888,
              "#fdca26"
             ],
             [
              1,
              "#f0f921"
             ]
            ],
            "type": "contour"
           }
          ],
          "contourcarpet": [
           {
            "colorbar": {
             "outlinewidth": 0,
             "ticks": ""
            },
            "type": "contourcarpet"
           }
          ],
          "heatmap": [
           {
            "colorbar": {
             "outlinewidth": 0,
             "ticks": ""
            },
            "colorscale": [
             [
              0,
              "#0d0887"
             ],
             [
              0.1111111111111111,
              "#46039f"
             ],
             [
              0.2222222222222222,
              "#7201a8"
             ],
             [
              0.3333333333333333,
              "#9c179e"
             ],
             [
              0.4444444444444444,
              "#bd3786"
             ],
             [
              0.5555555555555556,
              "#d8576b"
             ],
             [
              0.6666666666666666,
              "#ed7953"
             ],
             [
              0.7777777777777778,
              "#fb9f3a"
             ],
             [
              0.8888888888888888,
              "#fdca26"
             ],
             [
              1,
              "#f0f921"
             ]
            ],
            "type": "heatmap"
           }
          ],
          "heatmapgl": [
           {
            "colorbar": {
             "outlinewidth": 0,
             "ticks": ""
            },
            "colorscale": [
             [
              0,
              "#0d0887"
             ],
             [
              0.1111111111111111,
              "#46039f"
             ],
             [
              0.2222222222222222,
              "#7201a8"
             ],
             [
              0.3333333333333333,
              "#9c179e"
             ],
             [
              0.4444444444444444,
              "#bd3786"
             ],
             [
              0.5555555555555556,
              "#d8576b"
             ],
             [
              0.6666666666666666,
              "#ed7953"
             ],
             [
              0.7777777777777778,
              "#fb9f3a"
             ],
             [
              0.8888888888888888,
              "#fdca26"
             ],
             [
              1,
              "#f0f921"
             ]
            ],
            "type": "heatmapgl"
           }
          ],
          "histogram": [
           {
            "marker": {
             "colorbar": {
              "outlinewidth": 0,
              "ticks": ""
             }
            },
            "type": "histogram"
           }
          ],
          "histogram2d": [
           {
            "colorbar": {
             "outlinewidth": 0,
             "ticks": ""
            },
            "colorscale": [
             [
              0,
              "#0d0887"
             ],
             [
              0.1111111111111111,
              "#46039f"
             ],
             [
              0.2222222222222222,
              "#7201a8"
             ],
             [
              0.3333333333333333,
              "#9c179e"
             ],
             [
              0.4444444444444444,
              "#bd3786"
             ],
             [
              0.5555555555555556,
              "#d8576b"
             ],
             [
              0.6666666666666666,
              "#ed7953"
             ],
             [
              0.7777777777777778,
              "#fb9f3a"
             ],
             [
              0.8888888888888888,
              "#fdca26"
             ],
             [
              1,
              "#f0f921"
             ]
            ],
            "type": "histogram2d"
           }
          ],
          "histogram2dcontour": [
           {
            "colorbar": {
             "outlinewidth": 0,
             "ticks": ""
            },
            "colorscale": [
             [
              0,
              "#0d0887"
             ],
             [
              0.1111111111111111,
              "#46039f"
             ],
             [
              0.2222222222222222,
              "#7201a8"
             ],
             [
              0.3333333333333333,
              "#9c179e"
             ],
             [
              0.4444444444444444,
              "#bd3786"
             ],
             [
              0.5555555555555556,
              "#d8576b"
             ],
             [
              0.6666666666666666,
              "#ed7953"
             ],
             [
              0.7777777777777778,
              "#fb9f3a"
             ],
             [
              0.8888888888888888,
              "#fdca26"
             ],
             [
              1,
              "#f0f921"
             ]
            ],
            "type": "histogram2dcontour"
           }
          ],
          "mesh3d": [
           {
            "colorbar": {
             "outlinewidth": 0,
             "ticks": ""
            },
            "type": "mesh3d"
           }
          ],
          "parcoords": [
           {
            "line": {
             "colorbar": {
              "outlinewidth": 0,
              "ticks": ""
             }
            },
            "type": "parcoords"
           }
          ],
          "pie": [
           {
            "automargin": true,
            "type": "pie"
           }
          ],
          "scatter": [
           {
            "marker": {
             "colorbar": {
              "outlinewidth": 0,
              "ticks": ""
             }
            },
            "type": "scatter"
           }
          ],
          "scatter3d": [
           {
            "line": {
             "colorbar": {
              "outlinewidth": 0,
              "ticks": ""
             }
            },
            "marker": {
             "colorbar": {
              "outlinewidth": 0,
              "ticks": ""
             }
            },
            "type": "scatter3d"
           }
          ],
          "scattercarpet": [
           {
            "marker": {
             "colorbar": {
              "outlinewidth": 0,
              "ticks": ""
             }
            },
            "type": "scattercarpet"
           }
          ],
          "scattergeo": [
           {
            "marker": {
             "colorbar": {
              "outlinewidth": 0,
              "ticks": ""
             }
            },
            "type": "scattergeo"
           }
          ],
          "scattergl": [
           {
            "marker": {
             "colorbar": {
              "outlinewidth": 0,
              "ticks": ""
             }
            },
            "type": "scattergl"
           }
          ],
          "scattermapbox": [
           {
            "marker": {
             "colorbar": {
              "outlinewidth": 0,
              "ticks": ""
             }
            },
            "type": "scattermapbox"
           }
          ],
          "scatterpolar": [
           {
            "marker": {
             "colorbar": {
              "outlinewidth": 0,
              "ticks": ""
             }
            },
            "type": "scatterpolar"
           }
          ],
          "scatterpolargl": [
           {
            "marker": {
             "colorbar": {
              "outlinewidth": 0,
              "ticks": ""
             }
            },
            "type": "scatterpolargl"
           }
          ],
          "scatterternary": [
           {
            "marker": {
             "colorbar": {
              "outlinewidth": 0,
              "ticks": ""
             }
            },
            "type": "scatterternary"
           }
          ],
          "surface": [
           {
            "colorbar": {
             "outlinewidth": 0,
             "ticks": ""
            },
            "colorscale": [
             [
              0,
              "#0d0887"
             ],
             [
              0.1111111111111111,
              "#46039f"
             ],
             [
              0.2222222222222222,
              "#7201a8"
             ],
             [
              0.3333333333333333,
              "#9c179e"
             ],
             [
              0.4444444444444444,
              "#bd3786"
             ],
             [
              0.5555555555555556,
              "#d8576b"
             ],
             [
              0.6666666666666666,
              "#ed7953"
             ],
             [
              0.7777777777777778,
              "#fb9f3a"
             ],
             [
              0.8888888888888888,
              "#fdca26"
             ],
             [
              1,
              "#f0f921"
             ]
            ],
            "type": "surface"
           }
          ],
          "table": [
           {
            "cells": {
             "fill": {
              "color": "#EBF0F8"
             },
             "line": {
              "color": "white"
             }
            },
            "header": {
             "fill": {
              "color": "#C8D4E3"
             },
             "line": {
              "color": "white"
             }
            },
            "type": "table"
           }
          ]
         },
         "layout": {
          "annotationdefaults": {
           "arrowcolor": "#2a3f5f",
           "arrowhead": 0,
           "arrowwidth": 1
          },
          "autotypenumbers": "strict",
          "coloraxis": {
           "colorbar": {
            "outlinewidth": 0,
            "ticks": ""
           }
          },
          "colorscale": {
           "diverging": [
            [
             0,
             "#8e0152"
            ],
            [
             0.1,
             "#c51b7d"
            ],
            [
             0.2,
             "#de77ae"
            ],
            [
             0.3,
             "#f1b6da"
            ],
            [
             0.4,
             "#fde0ef"
            ],
            [
             0.5,
             "#f7f7f7"
            ],
            [
             0.6,
             "#e6f5d0"
            ],
            [
             0.7,
             "#b8e186"
            ],
            [
             0.8,
             "#7fbc41"
            ],
            [
             0.9,
             "#4d9221"
            ],
            [
             1,
             "#276419"
            ]
           ],
           "sequential": [
            [
             0,
             "#0d0887"
            ],
            [
             0.1111111111111111,
             "#46039f"
            ],
            [
             0.2222222222222222,
             "#7201a8"
            ],
            [
             0.3333333333333333,
             "#9c179e"
            ],
            [
             0.4444444444444444,
             "#bd3786"
            ],
            [
             0.5555555555555556,
             "#d8576b"
            ],
            [
             0.6666666666666666,
             "#ed7953"
            ],
            [
             0.7777777777777778,
             "#fb9f3a"
            ],
            [
             0.8888888888888888,
             "#fdca26"
            ],
            [
             1,
             "#f0f921"
            ]
           ],
           "sequentialminus": [
            [
             0,
             "#0d0887"
            ],
            [
             0.1111111111111111,
             "#46039f"
            ],
            [
             0.2222222222222222,
             "#7201a8"
            ],
            [
             0.3333333333333333,
             "#9c179e"
            ],
            [
             0.4444444444444444,
             "#bd3786"
            ],
            [
             0.5555555555555556,
             "#d8576b"
            ],
            [
             0.6666666666666666,
             "#ed7953"
            ],
            [
             0.7777777777777778,
             "#fb9f3a"
            ],
            [
             0.8888888888888888,
             "#fdca26"
            ],
            [
             1,
             "#f0f921"
            ]
           ]
          },
          "colorway": [
           "#636efa",
           "#EF553B",
           "#00cc96",
           "#ab63fa",
           "#FFA15A",
           "#19d3f3",
           "#FF6692",
           "#B6E880",
           "#FF97FF",
           "#FECB52"
          ],
          "font": {
           "color": "#2a3f5f"
          },
          "geo": {
           "bgcolor": "white",
           "lakecolor": "white",
           "landcolor": "#E5ECF6",
           "showlakes": true,
           "showland": true,
           "subunitcolor": "white"
          },
          "hoverlabel": {
           "align": "left"
          },
          "hovermode": "closest",
          "mapbox": {
           "style": "light"
          },
          "paper_bgcolor": "white",
          "plot_bgcolor": "#E5ECF6",
          "polar": {
           "angularaxis": {
            "gridcolor": "white",
            "linecolor": "white",
            "ticks": ""
           },
           "bgcolor": "#E5ECF6",
           "radialaxis": {
            "gridcolor": "white",
            "linecolor": "white",
            "ticks": ""
           }
          },
          "scene": {
           "xaxis": {
            "backgroundcolor": "#E5ECF6",
            "gridcolor": "white",
            "gridwidth": 2,
            "linecolor": "white",
            "showbackground": true,
            "ticks": "",
            "zerolinecolor": "white"
           },
           "yaxis": {
            "backgroundcolor": "#E5ECF6",
            "gridcolor": "white",
            "gridwidth": 2,
            "linecolor": "white",
            "showbackground": true,
            "ticks": "",
            "zerolinecolor": "white"
           },
           "zaxis": {
            "backgroundcolor": "#E5ECF6",
            "gridcolor": "white",
            "gridwidth": 2,
            "linecolor": "white",
            "showbackground": true,
            "ticks": "",
            "zerolinecolor": "white"
           }
          },
          "shapedefaults": {
           "line": {
            "color": "#2a3f5f"
           }
          },
          "ternary": {
           "aaxis": {
            "gridcolor": "white",
            "linecolor": "white",
            "ticks": ""
           },
           "baxis": {
            "gridcolor": "white",
            "linecolor": "white",
            "ticks": ""
           },
           "bgcolor": "#E5ECF6",
           "caxis": {
            "gridcolor": "white",
            "linecolor": "white",
            "ticks": ""
           }
          },
          "title": {
           "x": 0.05
          },
          "xaxis": {
           "automargin": true,
           "gridcolor": "white",
           "linecolor": "white",
           "ticks": "",
           "title": {
            "standoff": 15
           },
           "zerolinecolor": "white",
           "zerolinewidth": 2
          },
          "yaxis": {
           "automargin": true,
           "gridcolor": "white",
           "linecolor": "white",
           "ticks": "",
           "title": {
            "standoff": 15
           },
           "zerolinecolor": "white",
           "zerolinewidth": 2
          }
         }
        },
        "title": {
         "text": "Covariation Matrix"
        },
        "xaxis": {
         "anchor": "y",
         "constrain": "domain",
         "domain": [
          0,
          1
         ],
         "scaleanchor": "y"
        },
        "yaxis": {
         "anchor": "x",
         "autorange": "reversed",
         "constrain": "domain",
         "domain": [
          0,
          1
         ]
        }
       }
      },
      "text/html": [
       "<div>                            <div id=\"b6f0ff9e-968c-47a0-9efc-5da09c9f3577\" class=\"plotly-graph-div\" style=\"height:525px; width:100%;\"></div>            <script type=\"text/javascript\">                require([\"plotly\"], function(Plotly) {                    window.PLOTLYENV=window.PLOTLYENV || {};                                    if (document.getElementById(\"b6f0ff9e-968c-47a0-9efc-5da09c9f3577\")) {                    Plotly.newPlot(                        \"b6f0ff9e-968c-47a0-9efc-5da09c9f3577\",                        [{\"coloraxis\": \"coloraxis\", \"hovertemplate\": \"x: %{x}<br>y: %{y}<br>color: %{z}<extra></extra>\", \"name\": \"0\", \"type\": \"heatmap\", \"x\": [\"MDLZ\", \"MSFT\", \"NXPI\", \"PCAR\", \"INTC\", \"NVDA\", \"ILMN\", \"DXCM\", \"ROST\", \"LULU\"], \"xaxis\": \"x\", \"y\": [\"MDLZ\", \"MSFT\", \"NXPI\", \"PCAR\", \"INTC\", \"NVDA\", \"ILMN\", \"DXCM\", \"ROST\", \"LULU\"], \"yaxis\": \"y\", \"z\": [[9.283689515255262e-05, 3.173686143468105e-05, 3.0624296612563473e-05, 2.4429884990747602e-05, 2.5513766301869305e-05, 1.789348105449689e-05, 2.1517568308871687e-05, 2.6116871094372062e-05, 5.787319589165347e-05, 3.758352953040061e-05], [3.173686143468105e-05, 0.0001597263489967833, 0.00012856843127890033, 2.5017817448010213e-05, 8.943004255431527e-05, 0.00018437672696050938, 9.670305862018692e-05, 0.00011201341506818406, 5.624452743426021e-05, 9.094831923244999e-05], [3.0624296612563473e-05, 0.00012856843127890033, 0.0005445600147438653, 0.00011208263565260205, 0.0002495032065424408, 0.0003429915574226482, 0.0001701739996833108, 0.0001835145733363536, 0.00015221622180472925, 0.0001918143420137122], [2.4429884990747602e-05, 2.5017817448010213e-05, 0.00011208263565260205, 0.00023305322734861912, 8.993311117892844e-05, 5.7773287081232766e-05, 2.485892405362586e-05, 8.423898167599682e-06, 8.907206305918121e-05, 3.3301847115311266e-05], [2.5513766301869305e-05, 8.943004255431527e-05, 0.0002495032065424408, 8.993311117892844e-05, 0.00042490042090652353, 0.00018818669303284773, 0.00010270157756188192, 0.00010165068274385688, 0.00011139312427403514, 0.00010259664172983227], [1.789348105449689e-05, 0.00018437672696050938, 0.0003429915574226482, 5.7773287081232766e-05, 0.00018818669303284773, 0.0006706431255278605, 0.0001604033970157454, 0.0002029670759579731, 7.515623108695969e-05, 0.00020950834590654143], [2.1517568308871687e-05, 9.670305862018692e-05, 0.0001701739996833108, 2.485892405362586e-05, 0.00010270157756188192, 0.0001604033970157454, 0.00043710389719634575, 0.00020224193289248053, 1.2034884751406829e-05, 0.0001326750927703705], [2.6116871094372062e-05, 0.00011201341506818406, 0.0001835145733363536, 8.423898167599682e-06, 0.00010165068274385688, 0.0002029670759579731, 0.00020224193289248053, 0.0004985720495484733, 6.759515348775174e-05, 0.00016111920763904855], [5.787319589165347e-05, 5.624452743426021e-05, 0.00015221622180472925, 8.907206305918121e-05, 0.00011139312427403514, 7.515623108695969e-05, 1.2034884751406829e-05, 6.759515348775174e-05, 0.0003521659274313528, 0.00010506688180025479], [3.758352953040061e-05, 9.094831923244999e-05, 0.0001918143420137122, 3.3301847115311266e-05, 0.00010259664172983227, 0.00020950834590654143, 0.0001326750927703705, 0.00016111920763904855, 0.00010506688180025479, 0.00037835480880170044]]}],                        {\"coloraxis\": {\"colorscale\": [[0.0, \"rgb(0,104,55)\"], [0.1, \"rgb(26,152,80)\"], [0.2, \"rgb(102,189,99)\"], [0.3, \"rgb(166,217,106)\"], [0.4, \"rgb(217,239,139)\"], [0.5, \"rgb(255,255,191)\"], [0.6, \"rgb(254,224,139)\"], [0.7, \"rgb(253,174,97)\"], [0.8, \"rgb(244,109,67)\"], [0.9, \"rgb(215,48,39)\"], [1.0, \"rgb(165,0,38)\"]]}, \"template\": {\"data\": {\"bar\": [{\"error_x\": {\"color\": \"#2a3f5f\"}, \"error_y\": {\"color\": \"#2a3f5f\"}, \"marker\": {\"line\": {\"color\": \"#E5ECF6\", \"width\": 0.5}}, \"type\": \"bar\"}], \"barpolar\": [{\"marker\": {\"line\": {\"color\": \"#E5ECF6\", \"width\": 0.5}}, \"type\": \"barpolar\"}], \"carpet\": [{\"aaxis\": {\"endlinecolor\": \"#2a3f5f\", \"gridcolor\": \"white\", \"linecolor\": \"white\", \"minorgridcolor\": \"white\", \"startlinecolor\": \"#2a3f5f\"}, \"baxis\": {\"endlinecolor\": \"#2a3f5f\", \"gridcolor\": \"white\", \"linecolor\": \"white\", \"minorgridcolor\": \"white\", \"startlinecolor\": \"#2a3f5f\"}, \"type\": \"carpet\"}], \"choropleth\": [{\"colorbar\": {\"outlinewidth\": 0, \"ticks\": \"\"}, \"type\": \"choropleth\"}], \"contour\": [{\"colorbar\": {\"outlinewidth\": 0, \"ticks\": \"\"}, \"colorscale\": [[0.0, \"#0d0887\"], [0.1111111111111111, \"#46039f\"], [0.2222222222222222, \"#7201a8\"], [0.3333333333333333, \"#9c179e\"], [0.4444444444444444, \"#bd3786\"], [0.5555555555555556, \"#d8576b\"], [0.6666666666666666, \"#ed7953\"], [0.7777777777777778, \"#fb9f3a\"], [0.8888888888888888, \"#fdca26\"], [1.0, \"#f0f921\"]], \"type\": \"contour\"}], \"contourcarpet\": [{\"colorbar\": {\"outlinewidth\": 0, \"ticks\": \"\"}, \"type\": \"contourcarpet\"}], \"heatmap\": [{\"colorbar\": {\"outlinewidth\": 0, \"ticks\": \"\"}, \"colorscale\": [[0.0, \"#0d0887\"], [0.1111111111111111, \"#46039f\"], [0.2222222222222222, \"#7201a8\"], [0.3333333333333333, \"#9c179e\"], [0.4444444444444444, \"#bd3786\"], [0.5555555555555556, \"#d8576b\"], [0.6666666666666666, \"#ed7953\"], [0.7777777777777778, \"#fb9f3a\"], [0.8888888888888888, \"#fdca26\"], [1.0, \"#f0f921\"]], \"type\": \"heatmap\"}], \"heatmapgl\": [{\"colorbar\": {\"outlinewidth\": 0, \"ticks\": \"\"}, \"colorscale\": [[0.0, \"#0d0887\"], [0.1111111111111111, \"#46039f\"], [0.2222222222222222, \"#7201a8\"], [0.3333333333333333, \"#9c179e\"], [0.4444444444444444, \"#bd3786\"], [0.5555555555555556, \"#d8576b\"], [0.6666666666666666, \"#ed7953\"], [0.7777777777777778, \"#fb9f3a\"], [0.8888888888888888, \"#fdca26\"], [1.0, \"#f0f921\"]], \"type\": \"heatmapgl\"}], \"histogram\": [{\"marker\": {\"colorbar\": {\"outlinewidth\": 0, \"ticks\": \"\"}}, \"type\": \"histogram\"}], \"histogram2d\": [{\"colorbar\": {\"outlinewidth\": 0, \"ticks\": \"\"}, \"colorscale\": [[0.0, \"#0d0887\"], [0.1111111111111111, \"#46039f\"], [0.2222222222222222, \"#7201a8\"], [0.3333333333333333, \"#9c179e\"], [0.4444444444444444, \"#bd3786\"], [0.5555555555555556, \"#d8576b\"], [0.6666666666666666, \"#ed7953\"], [0.7777777777777778, \"#fb9f3a\"], [0.8888888888888888, \"#fdca26\"], [1.0, \"#f0f921\"]], \"type\": \"histogram2d\"}], \"histogram2dcontour\": [{\"colorbar\": {\"outlinewidth\": 0, \"ticks\": \"\"}, \"colorscale\": [[0.0, \"#0d0887\"], [0.1111111111111111, \"#46039f\"], [0.2222222222222222, \"#7201a8\"], [0.3333333333333333, \"#9c179e\"], [0.4444444444444444, \"#bd3786\"], [0.5555555555555556, \"#d8576b\"], [0.6666666666666666, \"#ed7953\"], [0.7777777777777778, \"#fb9f3a\"], [0.8888888888888888, \"#fdca26\"], [1.0, \"#f0f921\"]], \"type\": \"histogram2dcontour\"}], \"mesh3d\": [{\"colorbar\": {\"outlinewidth\": 0, \"ticks\": \"\"}, \"type\": \"mesh3d\"}], \"parcoords\": [{\"line\": {\"colorbar\": {\"outlinewidth\": 0, \"ticks\": \"\"}}, \"type\": \"parcoords\"}], \"pie\": [{\"automargin\": true, \"type\": \"pie\"}], \"scatter\": [{\"marker\": {\"colorbar\": {\"outlinewidth\": 0, \"ticks\": \"\"}}, \"type\": \"scatter\"}], \"scatter3d\": [{\"line\": {\"colorbar\": {\"outlinewidth\": 0, \"ticks\": \"\"}}, \"marker\": {\"colorbar\": {\"outlinewidth\": 0, \"ticks\": \"\"}}, \"type\": \"scatter3d\"}], \"scattercarpet\": [{\"marker\": {\"colorbar\": {\"outlinewidth\": 0, \"ticks\": \"\"}}, \"type\": \"scattercarpet\"}], \"scattergeo\": [{\"marker\": {\"colorbar\": {\"outlinewidth\": 0, \"ticks\": \"\"}}, \"type\": \"scattergeo\"}], \"scattergl\": [{\"marker\": {\"colorbar\": {\"outlinewidth\": 0, \"ticks\": \"\"}}, \"type\": \"scattergl\"}], \"scattermapbox\": [{\"marker\": {\"colorbar\": {\"outlinewidth\": 0, \"ticks\": \"\"}}, \"type\": \"scattermapbox\"}], \"scatterpolar\": [{\"marker\": {\"colorbar\": {\"outlinewidth\": 0, \"ticks\": \"\"}}, \"type\": \"scatterpolar\"}], \"scatterpolargl\": [{\"marker\": {\"colorbar\": {\"outlinewidth\": 0, \"ticks\": \"\"}}, \"type\": \"scatterpolargl\"}], \"scatterternary\": [{\"marker\": {\"colorbar\": {\"outlinewidth\": 0, \"ticks\": \"\"}}, \"type\": \"scatterternary\"}], \"surface\": [{\"colorbar\": {\"outlinewidth\": 0, \"ticks\": \"\"}, \"colorscale\": [[0.0, \"#0d0887\"], [0.1111111111111111, \"#46039f\"], [0.2222222222222222, \"#7201a8\"], [0.3333333333333333, \"#9c179e\"], [0.4444444444444444, \"#bd3786\"], [0.5555555555555556, \"#d8576b\"], [0.6666666666666666, \"#ed7953\"], [0.7777777777777778, \"#fb9f3a\"], [0.8888888888888888, \"#fdca26\"], [1.0, \"#f0f921\"]], \"type\": \"surface\"}], \"table\": [{\"cells\": {\"fill\": {\"color\": \"#EBF0F8\"}, \"line\": {\"color\": \"white\"}}, \"header\": {\"fill\": {\"color\": \"#C8D4E3\"}, \"line\": {\"color\": \"white\"}}, \"type\": \"table\"}]}, \"layout\": {\"annotationdefaults\": {\"arrowcolor\": \"#2a3f5f\", \"arrowhead\": 0, \"arrowwidth\": 1}, \"autotypenumbers\": \"strict\", \"coloraxis\": {\"colorbar\": {\"outlinewidth\": 0, \"ticks\": \"\"}}, \"colorscale\": {\"diverging\": [[0, \"#8e0152\"], [0.1, \"#c51b7d\"], [0.2, \"#de77ae\"], [0.3, \"#f1b6da\"], [0.4, \"#fde0ef\"], [0.5, \"#f7f7f7\"], [0.6, \"#e6f5d0\"], [0.7, \"#b8e186\"], [0.8, \"#7fbc41\"], [0.9, \"#4d9221\"], [1, \"#276419\"]], \"sequential\": [[0.0, \"#0d0887\"], [0.1111111111111111, \"#46039f\"], [0.2222222222222222, \"#7201a8\"], [0.3333333333333333, \"#9c179e\"], [0.4444444444444444, \"#bd3786\"], [0.5555555555555556, \"#d8576b\"], [0.6666666666666666, \"#ed7953\"], [0.7777777777777778, \"#fb9f3a\"], [0.8888888888888888, \"#fdca26\"], [1.0, \"#f0f921\"]], \"sequentialminus\": [[0.0, \"#0d0887\"], [0.1111111111111111, \"#46039f\"], [0.2222222222222222, \"#7201a8\"], [0.3333333333333333, \"#9c179e\"], [0.4444444444444444, \"#bd3786\"], [0.5555555555555556, \"#d8576b\"], [0.6666666666666666, \"#ed7953\"], [0.7777777777777778, \"#fb9f3a\"], [0.8888888888888888, \"#fdca26\"], [1.0, \"#f0f921\"]]}, \"colorway\": [\"#636efa\", \"#EF553B\", \"#00cc96\", \"#ab63fa\", \"#FFA15A\", \"#19d3f3\", \"#FF6692\", \"#B6E880\", \"#FF97FF\", \"#FECB52\"], \"font\": {\"color\": \"#2a3f5f\"}, \"geo\": {\"bgcolor\": \"white\", \"lakecolor\": \"white\", \"landcolor\": \"#E5ECF6\", \"showlakes\": true, \"showland\": true, \"subunitcolor\": \"white\"}, \"hoverlabel\": {\"align\": \"left\"}, \"hovermode\": \"closest\", \"mapbox\": {\"style\": \"light\"}, \"paper_bgcolor\": \"white\", \"plot_bgcolor\": \"#E5ECF6\", \"polar\": {\"angularaxis\": {\"gridcolor\": \"white\", \"linecolor\": \"white\", \"ticks\": \"\"}, \"bgcolor\": \"#E5ECF6\", \"radialaxis\": {\"gridcolor\": \"white\", \"linecolor\": \"white\", \"ticks\": \"\"}}, \"scene\": {\"xaxis\": {\"backgroundcolor\": \"#E5ECF6\", \"gridcolor\": \"white\", \"gridwidth\": 2, \"linecolor\": \"white\", \"showbackground\": true, \"ticks\": \"\", \"zerolinecolor\": \"white\"}, \"yaxis\": {\"backgroundcolor\": \"#E5ECF6\", \"gridcolor\": \"white\", \"gridwidth\": 2, \"linecolor\": \"white\", \"showbackground\": true, \"ticks\": \"\", \"zerolinecolor\": \"white\"}, \"zaxis\": {\"backgroundcolor\": \"#E5ECF6\", \"gridcolor\": \"white\", \"gridwidth\": 2, \"linecolor\": \"white\", \"showbackground\": true, \"ticks\": \"\", \"zerolinecolor\": \"white\"}}, \"shapedefaults\": {\"line\": {\"color\": \"#2a3f5f\"}}, \"ternary\": {\"aaxis\": {\"gridcolor\": \"white\", \"linecolor\": \"white\", \"ticks\": \"\"}, \"baxis\": {\"gridcolor\": \"white\", \"linecolor\": \"white\", \"ticks\": \"\"}, \"bgcolor\": \"#E5ECF6\", \"caxis\": {\"gridcolor\": \"white\", \"linecolor\": \"white\", \"ticks\": \"\"}}, \"title\": {\"x\": 0.05}, \"xaxis\": {\"automargin\": true, \"gridcolor\": \"white\", \"linecolor\": \"white\", \"ticks\": \"\", \"title\": {\"standoff\": 15}, \"zerolinecolor\": \"white\", \"zerolinewidth\": 2}, \"yaxis\": {\"automargin\": true, \"gridcolor\": \"white\", \"linecolor\": \"white\", \"ticks\": \"\", \"title\": {\"standoff\": 15}, \"zerolinecolor\": \"white\", \"zerolinewidth\": 2}}}, \"title\": {\"text\": \"Covariation Matrix\"}, \"xaxis\": {\"anchor\": \"y\", \"constrain\": \"domain\", \"domain\": [0.0, 1.0], \"scaleanchor\": \"y\"}, \"yaxis\": {\"anchor\": \"x\", \"autorange\": \"reversed\", \"constrain\": \"domain\", \"domain\": [0.0, 1.0]}},                        {\"responsive\": true}                    ).then(function(){\n",
       "                            \n",
       "var gd = document.getElementById('b6f0ff9e-968c-47a0-9efc-5da09c9f3577');\n",
       "var x = new MutationObserver(function (mutations, observer) {{\n",
       "        var display = window.getComputedStyle(gd).display;\n",
       "        if (!display || display === 'none') {{\n",
       "            console.log([gd, 'removed!']);\n",
       "            Plotly.purge(gd);\n",
       "            observer.disconnect();\n",
       "        }}\n",
       "}});\n",
       "\n",
       "// Listen for the removal of the full notebook cells\n",
       "var notebookContainer = gd.closest('#notebook-container');\n",
       "if (notebookContainer) {{\n",
       "    x.observe(notebookContainer, {childList: true});\n",
       "}}\n",
       "\n",
       "// Listen for the clearing of the current output cell\n",
       "var outputEl = gd.closest('.output');\n",
       "if (outputEl) {{\n",
       "    x.observe(outputEl, {childList: true});\n",
       "}}\n",
       "\n",
       "                        })                };                });            </script>        </div>"
      ]
     },
     "metadata": {},
     "output_type": "display_data"
    }
   ],
   "source": [
    "import plotly.express as px\n",
    "\n",
    "fig = px.imshow(cov_matrix, title='Covariation Matrix',\n",
    "                color_continuous_scale=px.colors.diverging.RdYlGn[::-1])\n",
    "fig.show()"
   ]
  },
  {
   "cell_type": "markdown",
   "metadata": {},
   "source": [
    "#### Проверяем вырожденность матрицы и число обусловленности"
   ]
  },
  {
   "cell_type": "code",
   "execution_count": 437,
   "metadata": {},
   "outputs": [
    {
     "name": "stdout",
     "output_type": "stream",
     "text": [
      "det = 1.1829872583873188e-36\n",
      "con = 37.80303663511966\n"
     ]
    }
   ],
   "source": [
    "det = np.linalg.det(cov_matrix)\n",
    "print(f'det = {det}')\n",
    "\n",
    "con = np.linalg.cond(cov_matrix, p='fro')\n",
    "print(f'con = {con}')"
   ]
  },
  {
   "cell_type": "markdown",
   "metadata": {},
   "source": [
    "### 1. Истинный оптимальный портфель в модели Марковица с заданным отношением к риску. "
   ]
  },
  {
   "cell_type": "markdown",
   "metadata": {},
   "source": [
    "С заданным отношением к риску  подобираем константу b таким образом, что истинный оптимальный CVaR портфель совпадает с истинным оптимальным портфелем п.1. Значение константы смотри в упражнениях к теме.\n",
    "\n",
    "$$ b = \\frac{1}{\\sqrt{2 \\pi }} \\frac{1}{(1 - \\beta)} exp(-(\\Phi^{-1}(\\beta))^2 / 2)$$"
   ]
  },
  {
   "cell_type": "code",
   "execution_count": 438,
   "metadata": {},
   "outputs": [
    {
     "name": "stdout",
     "output_type": "stream",
     "text": [
      "b = 1.754983319324869\n"
     ]
    }
   ],
   "source": [
    "import math\n",
    "from scipy.stats import norm\n",
    "\n",
    "beta = 0.90\n",
    "b = (1 / math.sqrt(2 * math.pi)) * (1 / (1 - beta)) * np.exp(-(norm.ppf(beta)**2 / 2)) \n",
    "print(f'b = {b}')"
   ]
  },
  {
   "cell_type": "markdown",
   "metadata": {},
   "source": [
    "#### Решаем задачу оптимизации \n",
    "\n",
    "$$ -E(x)+ b \\cdot σ(x) \\rightarrow min $$\n",
    "при условиях:\n",
    "$$ x_1 + x_2 + ... +x_N = 1 $$\n",
    "$$ x_i >= 0 $$\n",
    "где\n",
    "$$ E(x)= E_1x_1 + E_2 x_2 + ... + E_Nx_N $$\n",
    "$$ σ^2(x)=\\Sigma\\Sigma σ_{i,j} x_i \\cdot x_j $$"
   ]
  },
  {
   "cell_type": "code",
   "execution_count": 439,
   "metadata": {},
   "outputs": [],
   "source": [
    "import math \n",
    "import numpy as np\n",
    "from scipy.optimize import minimize\n",
    "\n",
    "def get_E(x, vecE=estims):\n",
    "    E_i = _estims.loc[ticker][0]\n",
    "    E = sum([(E_i * x_i) for x_i in x]) \n",
    "    return E\n",
    "\n",
    "\n",
    "def get_sigma(x, _cov_matrix=cov_matrix):\n",
    "    sigma_squared = 0\n",
    "    \n",
    "    for i in range(len(x)):\n",
    "        for j in range(len(x)):\n",
    "            simga_i_j = cov_matrix.iloc[i].iloc[j]\n",
    "            sigma_squared += simga_i_j * x[i] * x[j]\n",
    "    \n",
    "    sigma = math.sqrt(sigma_squared)\n",
    "    return sigma\n",
    "            \n",
    "            \n",
    "def target_function(x):\n",
    "    E = get_E(x)\n",
    "    sigma = get_sigma(x)\n",
    "    result = -E + b * sigma\n",
    "    return result\n",
    "\n",
    "\n",
    "def find_optimal():\n",
    "    x0 = np.array([1/len(assets)] * len(assets))\n",
    "    solution = minimize(get_F, x0, method='SLSQP', \n",
    "                        constraints=[{'type': 'eq',  'fun': lambda x: sum(x) - 1}],\n",
    "                        bounds=[(0, 1)] * len(assets))\n",
    "    if not solution.success:\n",
    "        raise Exception(opt.message)\n",
    "    return solution\n",
    "    \n",
    "opt_solution = find_optimal()"
   ]
  },
  {
   "cell_type": "markdown",
   "metadata": {},
   "source": [
    "#### Веса портфеля:"
   ]
  },
  {
   "cell_type": "code",
   "execution_count": 440,
   "metadata": {},
   "outputs": [
    {
     "name": "stdout",
     "output_type": "stream",
     "text": [
      "Сумма весов: 1.0000000000000002\n"
     ]
    },
    {
     "data": {
      "application/vnd.plotly.v1+json": {
       "config": {
        "plotlyServerURL": "https://plot.ly"
       },
       "data": [
        {
         "alignmentgroup": "True",
         "hovertemplate": "x=%{x}<br>y=%{y}<extra></extra>",
         "legendgroup": "",
         "marker": {
          "color": "#636efa"
         },
         "name": "",
         "offsetgroup": "",
         "orientation": "v",
         "showlegend": false,
         "textposition": "auto",
         "type": "bar",
         "x": [
          "MDLZ",
          "MSFT",
          "NXPI",
          "PCAR",
          "INTC",
          "NVDA",
          "ILMN",
          "DXCM",
          "ROST",
          "LULU"
         ],
         "xaxis": "x",
         "y": [
          0.5213888718473086,
          0.2091254580801659,
          1.5178830414797062e-18,
          0.17292619797553524,
          0.01379614000721836,
          0,
          0.03838799288962502,
          0.0236707358302949,
          0,
          0.02070460336985203
         ],
         "yaxis": "y"
        }
       ],
       "layout": {
        "barmode": "relative",
        "legend": {
         "tracegroupgap": 0
        },
        "margin": {
         "t": 60
        },
        "template": {
         "data": {
          "bar": [
           {
            "error_x": {
             "color": "#2a3f5f"
            },
            "error_y": {
             "color": "#2a3f5f"
            },
            "marker": {
             "line": {
              "color": "#E5ECF6",
              "width": 0.5
             }
            },
            "type": "bar"
           }
          ],
          "barpolar": [
           {
            "marker": {
             "line": {
              "color": "#E5ECF6",
              "width": 0.5
             }
            },
            "type": "barpolar"
           }
          ],
          "carpet": [
           {
            "aaxis": {
             "endlinecolor": "#2a3f5f",
             "gridcolor": "white",
             "linecolor": "white",
             "minorgridcolor": "white",
             "startlinecolor": "#2a3f5f"
            },
            "baxis": {
             "endlinecolor": "#2a3f5f",
             "gridcolor": "white",
             "linecolor": "white",
             "minorgridcolor": "white",
             "startlinecolor": "#2a3f5f"
            },
            "type": "carpet"
           }
          ],
          "choropleth": [
           {
            "colorbar": {
             "outlinewidth": 0,
             "ticks": ""
            },
            "type": "choropleth"
           }
          ],
          "contour": [
           {
            "colorbar": {
             "outlinewidth": 0,
             "ticks": ""
            },
            "colorscale": [
             [
              0,
              "#0d0887"
             ],
             [
              0.1111111111111111,
              "#46039f"
             ],
             [
              0.2222222222222222,
              "#7201a8"
             ],
             [
              0.3333333333333333,
              "#9c179e"
             ],
             [
              0.4444444444444444,
              "#bd3786"
             ],
             [
              0.5555555555555556,
              "#d8576b"
             ],
             [
              0.6666666666666666,
              "#ed7953"
             ],
             [
              0.7777777777777778,
              "#fb9f3a"
             ],
             [
              0.8888888888888888,
              "#fdca26"
             ],
             [
              1,
              "#f0f921"
             ]
            ],
            "type": "contour"
           }
          ],
          "contourcarpet": [
           {
            "colorbar": {
             "outlinewidth": 0,
             "ticks": ""
            },
            "type": "contourcarpet"
           }
          ],
          "heatmap": [
           {
            "colorbar": {
             "outlinewidth": 0,
             "ticks": ""
            },
            "colorscale": [
             [
              0,
              "#0d0887"
             ],
             [
              0.1111111111111111,
              "#46039f"
             ],
             [
              0.2222222222222222,
              "#7201a8"
             ],
             [
              0.3333333333333333,
              "#9c179e"
             ],
             [
              0.4444444444444444,
              "#bd3786"
             ],
             [
              0.5555555555555556,
              "#d8576b"
             ],
             [
              0.6666666666666666,
              "#ed7953"
             ],
             [
              0.7777777777777778,
              "#fb9f3a"
             ],
             [
              0.8888888888888888,
              "#fdca26"
             ],
             [
              1,
              "#f0f921"
             ]
            ],
            "type": "heatmap"
           }
          ],
          "heatmapgl": [
           {
            "colorbar": {
             "outlinewidth": 0,
             "ticks": ""
            },
            "colorscale": [
             [
              0,
              "#0d0887"
             ],
             [
              0.1111111111111111,
              "#46039f"
             ],
             [
              0.2222222222222222,
              "#7201a8"
             ],
             [
              0.3333333333333333,
              "#9c179e"
             ],
             [
              0.4444444444444444,
              "#bd3786"
             ],
             [
              0.5555555555555556,
              "#d8576b"
             ],
             [
              0.6666666666666666,
              "#ed7953"
             ],
             [
              0.7777777777777778,
              "#fb9f3a"
             ],
             [
              0.8888888888888888,
              "#fdca26"
             ],
             [
              1,
              "#f0f921"
             ]
            ],
            "type": "heatmapgl"
           }
          ],
          "histogram": [
           {
            "marker": {
             "colorbar": {
              "outlinewidth": 0,
              "ticks": ""
             }
            },
            "type": "histogram"
           }
          ],
          "histogram2d": [
           {
            "colorbar": {
             "outlinewidth": 0,
             "ticks": ""
            },
            "colorscale": [
             [
              0,
              "#0d0887"
             ],
             [
              0.1111111111111111,
              "#46039f"
             ],
             [
              0.2222222222222222,
              "#7201a8"
             ],
             [
              0.3333333333333333,
              "#9c179e"
             ],
             [
              0.4444444444444444,
              "#bd3786"
             ],
             [
              0.5555555555555556,
              "#d8576b"
             ],
             [
              0.6666666666666666,
              "#ed7953"
             ],
             [
              0.7777777777777778,
              "#fb9f3a"
             ],
             [
              0.8888888888888888,
              "#fdca26"
             ],
             [
              1,
              "#f0f921"
             ]
            ],
            "type": "histogram2d"
           }
          ],
          "histogram2dcontour": [
           {
            "colorbar": {
             "outlinewidth": 0,
             "ticks": ""
            },
            "colorscale": [
             [
              0,
              "#0d0887"
             ],
             [
              0.1111111111111111,
              "#46039f"
             ],
             [
              0.2222222222222222,
              "#7201a8"
             ],
             [
              0.3333333333333333,
              "#9c179e"
             ],
             [
              0.4444444444444444,
              "#bd3786"
             ],
             [
              0.5555555555555556,
              "#d8576b"
             ],
             [
              0.6666666666666666,
              "#ed7953"
             ],
             [
              0.7777777777777778,
              "#fb9f3a"
             ],
             [
              0.8888888888888888,
              "#fdca26"
             ],
             [
              1,
              "#f0f921"
             ]
            ],
            "type": "histogram2dcontour"
           }
          ],
          "mesh3d": [
           {
            "colorbar": {
             "outlinewidth": 0,
             "ticks": ""
            },
            "type": "mesh3d"
           }
          ],
          "parcoords": [
           {
            "line": {
             "colorbar": {
              "outlinewidth": 0,
              "ticks": ""
             }
            },
            "type": "parcoords"
           }
          ],
          "pie": [
           {
            "automargin": true,
            "type": "pie"
           }
          ],
          "scatter": [
           {
            "marker": {
             "colorbar": {
              "outlinewidth": 0,
              "ticks": ""
             }
            },
            "type": "scatter"
           }
          ],
          "scatter3d": [
           {
            "line": {
             "colorbar": {
              "outlinewidth": 0,
              "ticks": ""
             }
            },
            "marker": {
             "colorbar": {
              "outlinewidth": 0,
              "ticks": ""
             }
            },
            "type": "scatter3d"
           }
          ],
          "scattercarpet": [
           {
            "marker": {
             "colorbar": {
              "outlinewidth": 0,
              "ticks": ""
             }
            },
            "type": "scattercarpet"
           }
          ],
          "scattergeo": [
           {
            "marker": {
             "colorbar": {
              "outlinewidth": 0,
              "ticks": ""
             }
            },
            "type": "scattergeo"
           }
          ],
          "scattergl": [
           {
            "marker": {
             "colorbar": {
              "outlinewidth": 0,
              "ticks": ""
             }
            },
            "type": "scattergl"
           }
          ],
          "scattermapbox": [
           {
            "marker": {
             "colorbar": {
              "outlinewidth": 0,
              "ticks": ""
             }
            },
            "type": "scattermapbox"
           }
          ],
          "scatterpolar": [
           {
            "marker": {
             "colorbar": {
              "outlinewidth": 0,
              "ticks": ""
             }
            },
            "type": "scatterpolar"
           }
          ],
          "scatterpolargl": [
           {
            "marker": {
             "colorbar": {
              "outlinewidth": 0,
              "ticks": ""
             }
            },
            "type": "scatterpolargl"
           }
          ],
          "scatterternary": [
           {
            "marker": {
             "colorbar": {
              "outlinewidth": 0,
              "ticks": ""
             }
            },
            "type": "scatterternary"
           }
          ],
          "surface": [
           {
            "colorbar": {
             "outlinewidth": 0,
             "ticks": ""
            },
            "colorscale": [
             [
              0,
              "#0d0887"
             ],
             [
              0.1111111111111111,
              "#46039f"
             ],
             [
              0.2222222222222222,
              "#7201a8"
             ],
             [
              0.3333333333333333,
              "#9c179e"
             ],
             [
              0.4444444444444444,
              "#bd3786"
             ],
             [
              0.5555555555555556,
              "#d8576b"
             ],
             [
              0.6666666666666666,
              "#ed7953"
             ],
             [
              0.7777777777777778,
              "#fb9f3a"
             ],
             [
              0.8888888888888888,
              "#fdca26"
             ],
             [
              1,
              "#f0f921"
             ]
            ],
            "type": "surface"
           }
          ],
          "table": [
           {
            "cells": {
             "fill": {
              "color": "#EBF0F8"
             },
             "line": {
              "color": "white"
             }
            },
            "header": {
             "fill": {
              "color": "#C8D4E3"
             },
             "line": {
              "color": "white"
             }
            },
            "type": "table"
           }
          ]
         },
         "layout": {
          "annotationdefaults": {
           "arrowcolor": "#2a3f5f",
           "arrowhead": 0,
           "arrowwidth": 1
          },
          "autotypenumbers": "strict",
          "coloraxis": {
           "colorbar": {
            "outlinewidth": 0,
            "ticks": ""
           }
          },
          "colorscale": {
           "diverging": [
            [
             0,
             "#8e0152"
            ],
            [
             0.1,
             "#c51b7d"
            ],
            [
             0.2,
             "#de77ae"
            ],
            [
             0.3,
             "#f1b6da"
            ],
            [
             0.4,
             "#fde0ef"
            ],
            [
             0.5,
             "#f7f7f7"
            ],
            [
             0.6,
             "#e6f5d0"
            ],
            [
             0.7,
             "#b8e186"
            ],
            [
             0.8,
             "#7fbc41"
            ],
            [
             0.9,
             "#4d9221"
            ],
            [
             1,
             "#276419"
            ]
           ],
           "sequential": [
            [
             0,
             "#0d0887"
            ],
            [
             0.1111111111111111,
             "#46039f"
            ],
            [
             0.2222222222222222,
             "#7201a8"
            ],
            [
             0.3333333333333333,
             "#9c179e"
            ],
            [
             0.4444444444444444,
             "#bd3786"
            ],
            [
             0.5555555555555556,
             "#d8576b"
            ],
            [
             0.6666666666666666,
             "#ed7953"
            ],
            [
             0.7777777777777778,
             "#fb9f3a"
            ],
            [
             0.8888888888888888,
             "#fdca26"
            ],
            [
             1,
             "#f0f921"
            ]
           ],
           "sequentialminus": [
            [
             0,
             "#0d0887"
            ],
            [
             0.1111111111111111,
             "#46039f"
            ],
            [
             0.2222222222222222,
             "#7201a8"
            ],
            [
             0.3333333333333333,
             "#9c179e"
            ],
            [
             0.4444444444444444,
             "#bd3786"
            ],
            [
             0.5555555555555556,
             "#d8576b"
            ],
            [
             0.6666666666666666,
             "#ed7953"
            ],
            [
             0.7777777777777778,
             "#fb9f3a"
            ],
            [
             0.8888888888888888,
             "#fdca26"
            ],
            [
             1,
             "#f0f921"
            ]
           ]
          },
          "colorway": [
           "#636efa",
           "#EF553B",
           "#00cc96",
           "#ab63fa",
           "#FFA15A",
           "#19d3f3",
           "#FF6692",
           "#B6E880",
           "#FF97FF",
           "#FECB52"
          ],
          "font": {
           "color": "#2a3f5f"
          },
          "geo": {
           "bgcolor": "white",
           "lakecolor": "white",
           "landcolor": "#E5ECF6",
           "showlakes": true,
           "showland": true,
           "subunitcolor": "white"
          },
          "hoverlabel": {
           "align": "left"
          },
          "hovermode": "closest",
          "mapbox": {
           "style": "light"
          },
          "paper_bgcolor": "white",
          "plot_bgcolor": "#E5ECF6",
          "polar": {
           "angularaxis": {
            "gridcolor": "white",
            "linecolor": "white",
            "ticks": ""
           },
           "bgcolor": "#E5ECF6",
           "radialaxis": {
            "gridcolor": "white",
            "linecolor": "white",
            "ticks": ""
           }
          },
          "scene": {
           "xaxis": {
            "backgroundcolor": "#E5ECF6",
            "gridcolor": "white",
            "gridwidth": 2,
            "linecolor": "white",
            "showbackground": true,
            "ticks": "",
            "zerolinecolor": "white"
           },
           "yaxis": {
            "backgroundcolor": "#E5ECF6",
            "gridcolor": "white",
            "gridwidth": 2,
            "linecolor": "white",
            "showbackground": true,
            "ticks": "",
            "zerolinecolor": "white"
           },
           "zaxis": {
            "backgroundcolor": "#E5ECF6",
            "gridcolor": "white",
            "gridwidth": 2,
            "linecolor": "white",
            "showbackground": true,
            "ticks": "",
            "zerolinecolor": "white"
           }
          },
          "shapedefaults": {
           "line": {
            "color": "#2a3f5f"
           }
          },
          "ternary": {
           "aaxis": {
            "gridcolor": "white",
            "linecolor": "white",
            "ticks": ""
           },
           "baxis": {
            "gridcolor": "white",
            "linecolor": "white",
            "ticks": ""
           },
           "bgcolor": "#E5ECF6",
           "caxis": {
            "gridcolor": "white",
            "linecolor": "white",
            "ticks": ""
           }
          },
          "title": {
           "x": 0.05
          },
          "xaxis": {
           "automargin": true,
           "gridcolor": "white",
           "linecolor": "white",
           "ticks": "",
           "title": {
            "standoff": 15
           },
           "zerolinecolor": "white",
           "zerolinewidth": 2
          },
          "yaxis": {
           "automargin": true,
           "gridcolor": "white",
           "linecolor": "white",
           "ticks": "",
           "title": {
            "standoff": 15
           },
           "zerolinecolor": "white",
           "zerolinewidth": 2
          }
         }
        },
        "xaxis": {
         "anchor": "y",
         "domain": [
          0,
          1
         ],
         "title": {
          "text": "x"
         }
        },
        "yaxis": {
         "anchor": "x",
         "domain": [
          0,
          1
         ],
         "title": {
          "text": "y"
         }
        }
       }
      },
      "text/html": [
       "<div>                            <div id=\"430fda08-ffa2-4db2-bb3c-240908173d9d\" class=\"plotly-graph-div\" style=\"height:525px; width:100%;\"></div>            <script type=\"text/javascript\">                require([\"plotly\"], function(Plotly) {                    window.PLOTLYENV=window.PLOTLYENV || {};                                    if (document.getElementById(\"430fda08-ffa2-4db2-bb3c-240908173d9d\")) {                    Plotly.newPlot(                        \"430fda08-ffa2-4db2-bb3c-240908173d9d\",                        [{\"alignmentgroup\": \"True\", \"hovertemplate\": \"x=%{x}<br>y=%{y}<extra></extra>\", \"legendgroup\": \"\", \"marker\": {\"color\": \"#636efa\"}, \"name\": \"\", \"offsetgroup\": \"\", \"orientation\": \"v\", \"showlegend\": false, \"textposition\": \"auto\", \"type\": \"bar\", \"x\": [\"MDLZ\", \"MSFT\", \"NXPI\", \"PCAR\", \"INTC\", \"NVDA\", \"ILMN\", \"DXCM\", \"ROST\", \"LULU\"], \"xaxis\": \"x\", \"y\": [0.5213888718473086, 0.2091254580801659, 1.5178830414797062e-18, 0.17292619797553524, 0.01379614000721836, 0.0, 0.03838799288962502, 0.0236707358302949, 0.0, 0.02070460336985203], \"yaxis\": \"y\"}],                        {\"barmode\": \"relative\", \"legend\": {\"tracegroupgap\": 0}, \"margin\": {\"t\": 60}, \"template\": {\"data\": {\"bar\": [{\"error_x\": {\"color\": \"#2a3f5f\"}, \"error_y\": {\"color\": \"#2a3f5f\"}, \"marker\": {\"line\": {\"color\": \"#E5ECF6\", \"width\": 0.5}}, \"type\": \"bar\"}], \"barpolar\": [{\"marker\": {\"line\": {\"color\": \"#E5ECF6\", \"width\": 0.5}}, \"type\": \"barpolar\"}], \"carpet\": [{\"aaxis\": {\"endlinecolor\": \"#2a3f5f\", \"gridcolor\": \"white\", \"linecolor\": \"white\", \"minorgridcolor\": \"white\", \"startlinecolor\": \"#2a3f5f\"}, \"baxis\": {\"endlinecolor\": \"#2a3f5f\", \"gridcolor\": \"white\", \"linecolor\": \"white\", \"minorgridcolor\": \"white\", \"startlinecolor\": \"#2a3f5f\"}, \"type\": \"carpet\"}], \"choropleth\": [{\"colorbar\": {\"outlinewidth\": 0, \"ticks\": \"\"}, \"type\": \"choropleth\"}], \"contour\": [{\"colorbar\": {\"outlinewidth\": 0, \"ticks\": \"\"}, \"colorscale\": [[0.0, \"#0d0887\"], [0.1111111111111111, \"#46039f\"], [0.2222222222222222, \"#7201a8\"], [0.3333333333333333, \"#9c179e\"], [0.4444444444444444, \"#bd3786\"], [0.5555555555555556, \"#d8576b\"], [0.6666666666666666, \"#ed7953\"], [0.7777777777777778, \"#fb9f3a\"], [0.8888888888888888, \"#fdca26\"], [1.0, \"#f0f921\"]], \"type\": \"contour\"}], \"contourcarpet\": [{\"colorbar\": {\"outlinewidth\": 0, \"ticks\": \"\"}, \"type\": \"contourcarpet\"}], \"heatmap\": [{\"colorbar\": {\"outlinewidth\": 0, \"ticks\": \"\"}, \"colorscale\": [[0.0, \"#0d0887\"], [0.1111111111111111, \"#46039f\"], [0.2222222222222222, \"#7201a8\"], [0.3333333333333333, \"#9c179e\"], [0.4444444444444444, \"#bd3786\"], [0.5555555555555556, \"#d8576b\"], [0.6666666666666666, \"#ed7953\"], [0.7777777777777778, \"#fb9f3a\"], [0.8888888888888888, \"#fdca26\"], [1.0, \"#f0f921\"]], \"type\": \"heatmap\"}], \"heatmapgl\": [{\"colorbar\": {\"outlinewidth\": 0, \"ticks\": \"\"}, \"colorscale\": [[0.0, \"#0d0887\"], [0.1111111111111111, \"#46039f\"], [0.2222222222222222, \"#7201a8\"], [0.3333333333333333, \"#9c179e\"], [0.4444444444444444, \"#bd3786\"], [0.5555555555555556, \"#d8576b\"], [0.6666666666666666, \"#ed7953\"], [0.7777777777777778, \"#fb9f3a\"], [0.8888888888888888, \"#fdca26\"], [1.0, \"#f0f921\"]], \"type\": \"heatmapgl\"}], \"histogram\": [{\"marker\": {\"colorbar\": {\"outlinewidth\": 0, \"ticks\": \"\"}}, \"type\": \"histogram\"}], \"histogram2d\": [{\"colorbar\": {\"outlinewidth\": 0, \"ticks\": \"\"}, \"colorscale\": [[0.0, \"#0d0887\"], [0.1111111111111111, \"#46039f\"], [0.2222222222222222, \"#7201a8\"], [0.3333333333333333, \"#9c179e\"], [0.4444444444444444, \"#bd3786\"], [0.5555555555555556, \"#d8576b\"], [0.6666666666666666, \"#ed7953\"], [0.7777777777777778, \"#fb9f3a\"], [0.8888888888888888, \"#fdca26\"], [1.0, \"#f0f921\"]], \"type\": \"histogram2d\"}], \"histogram2dcontour\": [{\"colorbar\": {\"outlinewidth\": 0, \"ticks\": \"\"}, \"colorscale\": [[0.0, \"#0d0887\"], [0.1111111111111111, \"#46039f\"], [0.2222222222222222, \"#7201a8\"], [0.3333333333333333, \"#9c179e\"], [0.4444444444444444, \"#bd3786\"], [0.5555555555555556, \"#d8576b\"], [0.6666666666666666, \"#ed7953\"], [0.7777777777777778, \"#fb9f3a\"], [0.8888888888888888, \"#fdca26\"], [1.0, \"#f0f921\"]], \"type\": \"histogram2dcontour\"}], \"mesh3d\": [{\"colorbar\": {\"outlinewidth\": 0, \"ticks\": \"\"}, \"type\": \"mesh3d\"}], \"parcoords\": [{\"line\": {\"colorbar\": {\"outlinewidth\": 0, \"ticks\": \"\"}}, \"type\": \"parcoords\"}], \"pie\": [{\"automargin\": true, \"type\": \"pie\"}], \"scatter\": [{\"marker\": {\"colorbar\": {\"outlinewidth\": 0, \"ticks\": \"\"}}, \"type\": \"scatter\"}], \"scatter3d\": [{\"line\": {\"colorbar\": {\"outlinewidth\": 0, \"ticks\": \"\"}}, \"marker\": {\"colorbar\": {\"outlinewidth\": 0, \"ticks\": \"\"}}, \"type\": \"scatter3d\"}], \"scattercarpet\": [{\"marker\": {\"colorbar\": {\"outlinewidth\": 0, \"ticks\": \"\"}}, \"type\": \"scattercarpet\"}], \"scattergeo\": [{\"marker\": {\"colorbar\": {\"outlinewidth\": 0, \"ticks\": \"\"}}, \"type\": \"scattergeo\"}], \"scattergl\": [{\"marker\": {\"colorbar\": {\"outlinewidth\": 0, \"ticks\": \"\"}}, \"type\": \"scattergl\"}], \"scattermapbox\": [{\"marker\": {\"colorbar\": {\"outlinewidth\": 0, \"ticks\": \"\"}}, \"type\": \"scattermapbox\"}], \"scatterpolar\": [{\"marker\": {\"colorbar\": {\"outlinewidth\": 0, \"ticks\": \"\"}}, \"type\": \"scatterpolar\"}], \"scatterpolargl\": [{\"marker\": {\"colorbar\": {\"outlinewidth\": 0, \"ticks\": \"\"}}, \"type\": \"scatterpolargl\"}], \"scatterternary\": [{\"marker\": {\"colorbar\": {\"outlinewidth\": 0, \"ticks\": \"\"}}, \"type\": \"scatterternary\"}], \"surface\": [{\"colorbar\": {\"outlinewidth\": 0, \"ticks\": \"\"}, \"colorscale\": [[0.0, \"#0d0887\"], [0.1111111111111111, \"#46039f\"], [0.2222222222222222, \"#7201a8\"], [0.3333333333333333, \"#9c179e\"], [0.4444444444444444, \"#bd3786\"], [0.5555555555555556, \"#d8576b\"], [0.6666666666666666, \"#ed7953\"], [0.7777777777777778, \"#fb9f3a\"], [0.8888888888888888, \"#fdca26\"], [1.0, \"#f0f921\"]], \"type\": \"surface\"}], \"table\": [{\"cells\": {\"fill\": {\"color\": \"#EBF0F8\"}, \"line\": {\"color\": \"white\"}}, \"header\": {\"fill\": {\"color\": \"#C8D4E3\"}, \"line\": {\"color\": \"white\"}}, \"type\": \"table\"}]}, \"layout\": {\"annotationdefaults\": {\"arrowcolor\": \"#2a3f5f\", \"arrowhead\": 0, \"arrowwidth\": 1}, \"autotypenumbers\": \"strict\", \"coloraxis\": {\"colorbar\": {\"outlinewidth\": 0, \"ticks\": \"\"}}, \"colorscale\": {\"diverging\": [[0, \"#8e0152\"], [0.1, \"#c51b7d\"], [0.2, \"#de77ae\"], [0.3, \"#f1b6da\"], [0.4, \"#fde0ef\"], [0.5, \"#f7f7f7\"], [0.6, \"#e6f5d0\"], [0.7, \"#b8e186\"], [0.8, \"#7fbc41\"], [0.9, \"#4d9221\"], [1, \"#276419\"]], \"sequential\": [[0.0, \"#0d0887\"], [0.1111111111111111, \"#46039f\"], [0.2222222222222222, \"#7201a8\"], [0.3333333333333333, \"#9c179e\"], [0.4444444444444444, \"#bd3786\"], [0.5555555555555556, \"#d8576b\"], [0.6666666666666666, \"#ed7953\"], [0.7777777777777778, \"#fb9f3a\"], [0.8888888888888888, \"#fdca26\"], [1.0, \"#f0f921\"]], \"sequentialminus\": [[0.0, \"#0d0887\"], [0.1111111111111111, \"#46039f\"], [0.2222222222222222, \"#7201a8\"], [0.3333333333333333, \"#9c179e\"], [0.4444444444444444, \"#bd3786\"], [0.5555555555555556, \"#d8576b\"], [0.6666666666666666, \"#ed7953\"], [0.7777777777777778, \"#fb9f3a\"], [0.8888888888888888, \"#fdca26\"], [1.0, \"#f0f921\"]]}, \"colorway\": [\"#636efa\", \"#EF553B\", \"#00cc96\", \"#ab63fa\", \"#FFA15A\", \"#19d3f3\", \"#FF6692\", \"#B6E880\", \"#FF97FF\", \"#FECB52\"], \"font\": {\"color\": \"#2a3f5f\"}, \"geo\": {\"bgcolor\": \"white\", \"lakecolor\": \"white\", \"landcolor\": \"#E5ECF6\", \"showlakes\": true, \"showland\": true, \"subunitcolor\": \"white\"}, \"hoverlabel\": {\"align\": \"left\"}, \"hovermode\": \"closest\", \"mapbox\": {\"style\": \"light\"}, \"paper_bgcolor\": \"white\", \"plot_bgcolor\": \"#E5ECF6\", \"polar\": {\"angularaxis\": {\"gridcolor\": \"white\", \"linecolor\": \"white\", \"ticks\": \"\"}, \"bgcolor\": \"#E5ECF6\", \"radialaxis\": {\"gridcolor\": \"white\", \"linecolor\": \"white\", \"ticks\": \"\"}}, \"scene\": {\"xaxis\": {\"backgroundcolor\": \"#E5ECF6\", \"gridcolor\": \"white\", \"gridwidth\": 2, \"linecolor\": \"white\", \"showbackground\": true, \"ticks\": \"\", \"zerolinecolor\": \"white\"}, \"yaxis\": {\"backgroundcolor\": \"#E5ECF6\", \"gridcolor\": \"white\", \"gridwidth\": 2, \"linecolor\": \"white\", \"showbackground\": true, \"ticks\": \"\", \"zerolinecolor\": \"white\"}, \"zaxis\": {\"backgroundcolor\": \"#E5ECF6\", \"gridcolor\": \"white\", \"gridwidth\": 2, \"linecolor\": \"white\", \"showbackground\": true, \"ticks\": \"\", \"zerolinecolor\": \"white\"}}, \"shapedefaults\": {\"line\": {\"color\": \"#2a3f5f\"}}, \"ternary\": {\"aaxis\": {\"gridcolor\": \"white\", \"linecolor\": \"white\", \"ticks\": \"\"}, \"baxis\": {\"gridcolor\": \"white\", \"linecolor\": \"white\", \"ticks\": \"\"}, \"bgcolor\": \"#E5ECF6\", \"caxis\": {\"gridcolor\": \"white\", \"linecolor\": \"white\", \"ticks\": \"\"}}, \"title\": {\"x\": 0.05}, \"xaxis\": {\"automargin\": true, \"gridcolor\": \"white\", \"linecolor\": \"white\", \"ticks\": \"\", \"title\": {\"standoff\": 15}, \"zerolinecolor\": \"white\", \"zerolinewidth\": 2}, \"yaxis\": {\"automargin\": true, \"gridcolor\": \"white\", \"linecolor\": \"white\", \"ticks\": \"\", \"title\": {\"standoff\": 15}, \"zerolinecolor\": \"white\", \"zerolinewidth\": 2}}}, \"xaxis\": {\"anchor\": \"y\", \"domain\": [0.0, 1.0], \"title\": {\"text\": \"x\"}}, \"yaxis\": {\"anchor\": \"x\", \"domain\": [0.0, 1.0], \"title\": {\"text\": \"y\"}}},                        {\"responsive\": true}                    ).then(function(){\n",
       "                            \n",
       "var gd = document.getElementById('430fda08-ffa2-4db2-bb3c-240908173d9d');\n",
       "var x = new MutationObserver(function (mutations, observer) {{\n",
       "        var display = window.getComputedStyle(gd).display;\n",
       "        if (!display || display === 'none') {{\n",
       "            console.log([gd, 'removed!']);\n",
       "            Plotly.purge(gd);\n",
       "            observer.disconnect();\n",
       "        }}\n",
       "}});\n",
       "\n",
       "// Listen for the removal of the full notebook cells\n",
       "var notebookContainer = gd.closest('#notebook-container');\n",
       "if (notebookContainer) {{\n",
       "    x.observe(notebookContainer, {childList: true});\n",
       "}}\n",
       "\n",
       "// Listen for the clearing of the current output cell\n",
       "var outputEl = gd.closest('.output');\n",
       "if (outputEl) {{\n",
       "    x.observe(outputEl, {childList: true});\n",
       "}}\n",
       "\n",
       "                        })                };                });            </script>        </div>"
      ]
     },
     "metadata": {},
     "output_type": "display_data"
    }
   ],
   "source": [
    "import plotly.express as px\n",
    "\n",
    "print(f'Сумма весов: {sum(opt_solution.x)}')\n",
    "fig = px.bar(x=assets, y=opt_solution.x)\n",
    "fig.show()"
   ]
  },
  {
   "cell_type": "markdown",
   "metadata": {},
   "source": [
    "#### Значение целевой функции:"
   ]
  },
  {
   "cell_type": "code",
   "execution_count": 441,
   "metadata": {},
   "outputs": [
    {
     "name": "stdout",
     "output_type": "stream",
     "text": [
      "0.013025749039869479\n"
     ]
    }
   ],
   "source": [
    "print(opt_solution.fun)"
   ]
  },
  {
   "cell_type": "markdown",
   "metadata": {},
   "source": [
    "### 2. Оценка неопределенности оптимального портфеля в модели Марковица с заданным отн. к риску. "
   ]
  },
  {
   "cell_type": "markdown",
   "metadata": {},
   "source": [
    "#### 2.1 Задаём число наблюдений T=30. С помощью генератора многомерного нормального распределения создаём выборку размера Т из нормального распределения с вектором математических ожиданий  E=(E1, E2, …, EN) и матрицей ковариаций (σi,j). "
   ]
  },
  {
   "cell_type": "code",
   "execution_count": 442,
   "metadata": {},
   "outputs": [
    {
     "data": {
      "text/html": [
       "<div>\n",
       "<style scoped>\n",
       "    .dataframe tbody tr th:only-of-type {\n",
       "        vertical-align: middle;\n",
       "    }\n",
       "\n",
       "    .dataframe tbody tr th {\n",
       "        vertical-align: top;\n",
       "    }\n",
       "\n",
       "    .dataframe thead th {\n",
       "        text-align: right;\n",
       "    }\n",
       "</style>\n",
       "<table border=\"1\" class=\"dataframe\">\n",
       "  <thead>\n",
       "    <tr style=\"text-align: right;\">\n",
       "      <th></th>\n",
       "      <th>MDLZ</th>\n",
       "      <th>MSFT</th>\n",
       "      <th>NXPI</th>\n",
       "      <th>PCAR</th>\n",
       "      <th>INTC</th>\n",
       "      <th>NVDA</th>\n",
       "      <th>ILMN</th>\n",
       "      <th>DXCM</th>\n",
       "      <th>ROST</th>\n",
       "      <th>LULU</th>\n",
       "    </tr>\n",
       "  </thead>\n",
       "  <tbody>\n",
       "    <tr>\n",
       "      <th>0</th>\n",
       "      <td>0.007479</td>\n",
       "      <td>-0.039593</td>\n",
       "      <td>-0.005117</td>\n",
       "      <td>0.000949</td>\n",
       "      <td>0.004005</td>\n",
       "      <td>-0.036783</td>\n",
       "      <td>0.000142</td>\n",
       "      <td>0.004998</td>\n",
       "      <td>0.001106</td>\n",
       "      <td>-0.009431</td>\n",
       "    </tr>\n",
       "    <tr>\n",
       "      <th>1</th>\n",
       "      <td>0.002501</td>\n",
       "      <td>-0.005137</td>\n",
       "      <td>0.026244</td>\n",
       "      <td>0.011273</td>\n",
       "      <td>-0.003912</td>\n",
       "      <td>0.023029</td>\n",
       "      <td>-0.002404</td>\n",
       "      <td>0.003539</td>\n",
       "      <td>-0.009493</td>\n",
       "      <td>0.010947</td>\n",
       "    </tr>\n",
       "    <tr>\n",
       "      <th>2</th>\n",
       "      <td>0.004211</td>\n",
       "      <td>0.012943</td>\n",
       "      <td>0.027686</td>\n",
       "      <td>0.018151</td>\n",
       "      <td>-0.009349</td>\n",
       "      <td>0.054353</td>\n",
       "      <td>-0.006242</td>\n",
       "      <td>-0.009778</td>\n",
       "      <td>-0.020432</td>\n",
       "      <td>0.029544</td>\n",
       "    </tr>\n",
       "    <tr>\n",
       "      <th>3</th>\n",
       "      <td>-0.005456</td>\n",
       "      <td>-0.012730</td>\n",
       "      <td>-0.000484</td>\n",
       "      <td>-0.001018</td>\n",
       "      <td>-0.013396</td>\n",
       "      <td>-0.024460</td>\n",
       "      <td>-0.014248</td>\n",
       "      <td>-0.023700</td>\n",
       "      <td>-0.001717</td>\n",
       "      <td>-0.016598</td>\n",
       "    </tr>\n",
       "    <tr>\n",
       "      <th>4</th>\n",
       "      <td>0.015682</td>\n",
       "      <td>-0.019194</td>\n",
       "      <td>-0.032180</td>\n",
       "      <td>-0.002569</td>\n",
       "      <td>-0.009944</td>\n",
       "      <td>-0.046742</td>\n",
       "      <td>-0.013381</td>\n",
       "      <td>-0.029239</td>\n",
       "      <td>0.010533</td>\n",
       "      <td>0.007414</td>\n",
       "    </tr>\n",
       "    <tr>\n",
       "      <th>5</th>\n",
       "      <td>-0.001623</td>\n",
       "      <td>-0.011828</td>\n",
       "      <td>0.006227</td>\n",
       "      <td>0.002793</td>\n",
       "      <td>0.003207</td>\n",
       "      <td>0.006315</td>\n",
       "      <td>-0.014719</td>\n",
       "      <td>-0.009278</td>\n",
       "      <td>0.024688</td>\n",
       "      <td>-0.017685</td>\n",
       "    </tr>\n",
       "    <tr>\n",
       "      <th>6</th>\n",
       "      <td>-0.000889</td>\n",
       "      <td>-0.005983</td>\n",
       "      <td>-0.032813</td>\n",
       "      <td>-0.003649</td>\n",
       "      <td>-0.014388</td>\n",
       "      <td>0.004120</td>\n",
       "      <td>0.007821</td>\n",
       "      <td>-0.025345</td>\n",
       "      <td>0.012637</td>\n",
       "      <td>-0.000574</td>\n",
       "    </tr>\n",
       "    <tr>\n",
       "      <th>7</th>\n",
       "      <td>-0.009937</td>\n",
       "      <td>-0.026043</td>\n",
       "      <td>-0.029595</td>\n",
       "      <td>-0.007960</td>\n",
       "      <td>-0.039237</td>\n",
       "      <td>0.014291</td>\n",
       "      <td>-0.047486</td>\n",
       "      <td>-0.035713</td>\n",
       "      <td>-0.043166</td>\n",
       "      <td>-0.009384</td>\n",
       "    </tr>\n",
       "    <tr>\n",
       "      <th>8</th>\n",
       "      <td>-0.009404</td>\n",
       "      <td>0.002853</td>\n",
       "      <td>0.023786</td>\n",
       "      <td>0.016638</td>\n",
       "      <td>0.028169</td>\n",
       "      <td>-0.019485</td>\n",
       "      <td>-0.000461</td>\n",
       "      <td>-0.003116</td>\n",
       "      <td>0.018629</td>\n",
       "      <td>0.016151</td>\n",
       "    </tr>\n",
       "    <tr>\n",
       "      <th>9</th>\n",
       "      <td>-0.008047</td>\n",
       "      <td>-0.017314</td>\n",
       "      <td>0.005507</td>\n",
       "      <td>0.006891</td>\n",
       "      <td>0.018566</td>\n",
       "      <td>0.014566</td>\n",
       "      <td>-0.008133</td>\n",
       "      <td>-0.012803</td>\n",
       "      <td>-0.001811</td>\n",
       "      <td>-0.010320</td>\n",
       "    </tr>\n",
       "    <tr>\n",
       "      <th>10</th>\n",
       "      <td>0.010343</td>\n",
       "      <td>0.005118</td>\n",
       "      <td>-0.011430</td>\n",
       "      <td>-0.005185</td>\n",
       "      <td>0.002962</td>\n",
       "      <td>0.011479</td>\n",
       "      <td>0.020814</td>\n",
       "      <td>0.003962</td>\n",
       "      <td>0.026650</td>\n",
       "      <td>0.016161</td>\n",
       "    </tr>\n",
       "    <tr>\n",
       "      <th>11</th>\n",
       "      <td>-0.002337</td>\n",
       "      <td>0.002049</td>\n",
       "      <td>-0.044191</td>\n",
       "      <td>-0.047031</td>\n",
       "      <td>-0.027820</td>\n",
       "      <td>-0.042550</td>\n",
       "      <td>-0.010648</td>\n",
       "      <td>0.013227</td>\n",
       "      <td>-0.010639</td>\n",
       "      <td>-0.001608</td>\n",
       "    </tr>\n",
       "    <tr>\n",
       "      <th>12</th>\n",
       "      <td>0.009856</td>\n",
       "      <td>-0.013519</td>\n",
       "      <td>-0.019935</td>\n",
       "      <td>0.018870</td>\n",
       "      <td>-0.016498</td>\n",
       "      <td>-0.029531</td>\n",
       "      <td>-0.001113</td>\n",
       "      <td>0.002517</td>\n",
       "      <td>0.002474</td>\n",
       "      <td>-0.016427</td>\n",
       "    </tr>\n",
       "    <tr>\n",
       "      <th>13</th>\n",
       "      <td>-0.001721</td>\n",
       "      <td>-0.020991</td>\n",
       "      <td>-0.016809</td>\n",
       "      <td>-0.001529</td>\n",
       "      <td>0.007481</td>\n",
       "      <td>-0.038743</td>\n",
       "      <td>-0.003468</td>\n",
       "      <td>-0.003002</td>\n",
       "      <td>-0.006750</td>\n",
       "      <td>-0.019612</td>\n",
       "    </tr>\n",
       "    <tr>\n",
       "      <th>14</th>\n",
       "      <td>0.011201</td>\n",
       "      <td>0.005292</td>\n",
       "      <td>0.020805</td>\n",
       "      <td>0.015642</td>\n",
       "      <td>0.040102</td>\n",
       "      <td>0.041465</td>\n",
       "      <td>0.019110</td>\n",
       "      <td>0.000545</td>\n",
       "      <td>0.014482</td>\n",
       "      <td>0.009698</td>\n",
       "    </tr>\n",
       "    <tr>\n",
       "      <th>15</th>\n",
       "      <td>0.002154</td>\n",
       "      <td>0.007374</td>\n",
       "      <td>0.034036</td>\n",
       "      <td>0.017662</td>\n",
       "      <td>0.021985</td>\n",
       "      <td>0.012102</td>\n",
       "      <td>0.026995</td>\n",
       "      <td>-0.014956</td>\n",
       "      <td>-0.003348</td>\n",
       "      <td>-0.028050</td>\n",
       "    </tr>\n",
       "    <tr>\n",
       "      <th>16</th>\n",
       "      <td>-0.004661</td>\n",
       "      <td>0.027354</td>\n",
       "      <td>0.008406</td>\n",
       "      <td>0.030987</td>\n",
       "      <td>-0.005813</td>\n",
       "      <td>0.005938</td>\n",
       "      <td>-0.007502</td>\n",
       "      <td>0.021253</td>\n",
       "      <td>0.003222</td>\n",
       "      <td>0.005455</td>\n",
       "    </tr>\n",
       "    <tr>\n",
       "      <th>17</th>\n",
       "      <td>0.001069</td>\n",
       "      <td>0.002411</td>\n",
       "      <td>-0.000744</td>\n",
       "      <td>0.010188</td>\n",
       "      <td>-0.014433</td>\n",
       "      <td>0.005776</td>\n",
       "      <td>-0.017337</td>\n",
       "      <td>-0.014680</td>\n",
       "      <td>0.008526</td>\n",
       "      <td>0.029569</td>\n",
       "    </tr>\n",
       "    <tr>\n",
       "      <th>18</th>\n",
       "      <td>0.001298</td>\n",
       "      <td>0.002166</td>\n",
       "      <td>0.026843</td>\n",
       "      <td>0.023958</td>\n",
       "      <td>-0.005139</td>\n",
       "      <td>0.027557</td>\n",
       "      <td>-0.009448</td>\n",
       "      <td>0.016506</td>\n",
       "      <td>0.029232</td>\n",
       "      <td>-0.008611</td>\n",
       "    </tr>\n",
       "    <tr>\n",
       "      <th>19</th>\n",
       "      <td>0.003487</td>\n",
       "      <td>0.018658</td>\n",
       "      <td>-0.018057</td>\n",
       "      <td>-0.022959</td>\n",
       "      <td>-0.005070</td>\n",
       "      <td>0.007194</td>\n",
       "      <td>0.015288</td>\n",
       "      <td>0.017726</td>\n",
       "      <td>0.004698</td>\n",
       "      <td>0.011471</td>\n",
       "    </tr>\n",
       "    <tr>\n",
       "      <th>20</th>\n",
       "      <td>-0.003063</td>\n",
       "      <td>-0.007595</td>\n",
       "      <td>0.012334</td>\n",
       "      <td>0.002088</td>\n",
       "      <td>-0.016521</td>\n",
       "      <td>0.000994</td>\n",
       "      <td>0.004463</td>\n",
       "      <td>0.020093</td>\n",
       "      <td>-0.021679</td>\n",
       "      <td>0.010300</td>\n",
       "    </tr>\n",
       "    <tr>\n",
       "      <th>21</th>\n",
       "      <td>-0.011702</td>\n",
       "      <td>-0.007752</td>\n",
       "      <td>-0.015606</td>\n",
       "      <td>0.001048</td>\n",
       "      <td>-0.017184</td>\n",
       "      <td>-0.031342</td>\n",
       "      <td>-0.045937</td>\n",
       "      <td>-0.013938</td>\n",
       "      <td>-0.016088</td>\n",
       "      <td>-0.018441</td>\n",
       "    </tr>\n",
       "    <tr>\n",
       "      <th>22</th>\n",
       "      <td>0.000190</td>\n",
       "      <td>-0.010758</td>\n",
       "      <td>-0.059702</td>\n",
       "      <td>0.008542</td>\n",
       "      <td>0.017206</td>\n",
       "      <td>-0.061307</td>\n",
       "      <td>-0.035670</td>\n",
       "      <td>-0.028037</td>\n",
       "      <td>-0.025494</td>\n",
       "      <td>-0.030505</td>\n",
       "    </tr>\n",
       "    <tr>\n",
       "      <th>23</th>\n",
       "      <td>-0.003360</td>\n",
       "      <td>-0.004590</td>\n",
       "      <td>0.002113</td>\n",
       "      <td>0.010891</td>\n",
       "      <td>-0.024918</td>\n",
       "      <td>0.007165</td>\n",
       "      <td>-0.052960</td>\n",
       "      <td>-0.043127</td>\n",
       "      <td>0.009481</td>\n",
       "      <td>0.019961</td>\n",
       "    </tr>\n",
       "    <tr>\n",
       "      <th>24</th>\n",
       "      <td>0.011466</td>\n",
       "      <td>0.011335</td>\n",
       "      <td>-0.013884</td>\n",
       "      <td>0.001103</td>\n",
       "      <td>0.009358</td>\n",
       "      <td>-0.003088</td>\n",
       "      <td>0.008674</td>\n",
       "      <td>-0.030672</td>\n",
       "      <td>0.007800</td>\n",
       "      <td>-0.009601</td>\n",
       "    </tr>\n",
       "    <tr>\n",
       "      <th>25</th>\n",
       "      <td>-0.005852</td>\n",
       "      <td>-0.014056</td>\n",
       "      <td>-0.004787</td>\n",
       "      <td>-0.000901</td>\n",
       "      <td>0.005064</td>\n",
       "      <td>0.024725</td>\n",
       "      <td>-0.005779</td>\n",
       "      <td>-0.006233</td>\n",
       "      <td>0.006034</td>\n",
       "      <td>-0.021870</td>\n",
       "    </tr>\n",
       "    <tr>\n",
       "      <th>26</th>\n",
       "      <td>-0.001090</td>\n",
       "      <td>-0.011029</td>\n",
       "      <td>-0.059787</td>\n",
       "      <td>-0.001703</td>\n",
       "      <td>-0.002359</td>\n",
       "      <td>-0.056110</td>\n",
       "      <td>0.014332</td>\n",
       "      <td>-0.005793</td>\n",
       "      <td>-0.018821</td>\n",
       "      <td>-0.026581</td>\n",
       "    </tr>\n",
       "    <tr>\n",
       "      <th>27</th>\n",
       "      <td>-0.016519</td>\n",
       "      <td>-0.018666</td>\n",
       "      <td>0.004150</td>\n",
       "      <td>-0.026919</td>\n",
       "      <td>-0.028573</td>\n",
       "      <td>-0.002369</td>\n",
       "      <td>-0.001340</td>\n",
       "      <td>-0.040020</td>\n",
       "      <td>-0.024770</td>\n",
       "      <td>-0.013439</td>\n",
       "    </tr>\n",
       "    <tr>\n",
       "      <th>28</th>\n",
       "      <td>0.015425</td>\n",
       "      <td>0.004014</td>\n",
       "      <td>0.035150</td>\n",
       "      <td>0.020372</td>\n",
       "      <td>0.029458</td>\n",
       "      <td>0.044800</td>\n",
       "      <td>0.031131</td>\n",
       "      <td>-0.001879</td>\n",
       "      <td>-0.001744</td>\n",
       "      <td>0.035782</td>\n",
       "    </tr>\n",
       "    <tr>\n",
       "      <th>29</th>\n",
       "      <td>-0.014585</td>\n",
       "      <td>-0.001771</td>\n",
       "      <td>-0.029348</td>\n",
       "      <td>-0.016602</td>\n",
       "      <td>-0.018532</td>\n",
       "      <td>0.011584</td>\n",
       "      <td>0.020581</td>\n",
       "      <td>0.002999</td>\n",
       "      <td>-0.044075</td>\n",
       "      <td>0.007314</td>\n",
       "    </tr>\n",
       "  </tbody>\n",
       "</table>\n",
       "</div>"
      ],
      "text/plain": [
       "        MDLZ      MSFT      NXPI      PCAR      INTC      NVDA      ILMN  \\\n",
       "0   0.007479 -0.039593 -0.005117  0.000949  0.004005 -0.036783  0.000142   \n",
       "1   0.002501 -0.005137  0.026244  0.011273 -0.003912  0.023029 -0.002404   \n",
       "2   0.004211  0.012943  0.027686  0.018151 -0.009349  0.054353 -0.006242   \n",
       "3  -0.005456 -0.012730 -0.000484 -0.001018 -0.013396 -0.024460 -0.014248   \n",
       "4   0.015682 -0.019194 -0.032180 -0.002569 -0.009944 -0.046742 -0.013381   \n",
       "5  -0.001623 -0.011828  0.006227  0.002793  0.003207  0.006315 -0.014719   \n",
       "6  -0.000889 -0.005983 -0.032813 -0.003649 -0.014388  0.004120  0.007821   \n",
       "7  -0.009937 -0.026043 -0.029595 -0.007960 -0.039237  0.014291 -0.047486   \n",
       "8  -0.009404  0.002853  0.023786  0.016638  0.028169 -0.019485 -0.000461   \n",
       "9  -0.008047 -0.017314  0.005507  0.006891  0.018566  0.014566 -0.008133   \n",
       "10  0.010343  0.005118 -0.011430 -0.005185  0.002962  0.011479  0.020814   \n",
       "11 -0.002337  0.002049 -0.044191 -0.047031 -0.027820 -0.042550 -0.010648   \n",
       "12  0.009856 -0.013519 -0.019935  0.018870 -0.016498 -0.029531 -0.001113   \n",
       "13 -0.001721 -0.020991 -0.016809 -0.001529  0.007481 -0.038743 -0.003468   \n",
       "14  0.011201  0.005292  0.020805  0.015642  0.040102  0.041465  0.019110   \n",
       "15  0.002154  0.007374  0.034036  0.017662  0.021985  0.012102  0.026995   \n",
       "16 -0.004661  0.027354  0.008406  0.030987 -0.005813  0.005938 -0.007502   \n",
       "17  0.001069  0.002411 -0.000744  0.010188 -0.014433  0.005776 -0.017337   \n",
       "18  0.001298  0.002166  0.026843  0.023958 -0.005139  0.027557 -0.009448   \n",
       "19  0.003487  0.018658 -0.018057 -0.022959 -0.005070  0.007194  0.015288   \n",
       "20 -0.003063 -0.007595  0.012334  0.002088 -0.016521  0.000994  0.004463   \n",
       "21 -0.011702 -0.007752 -0.015606  0.001048 -0.017184 -0.031342 -0.045937   \n",
       "22  0.000190 -0.010758 -0.059702  0.008542  0.017206 -0.061307 -0.035670   \n",
       "23 -0.003360 -0.004590  0.002113  0.010891 -0.024918  0.007165 -0.052960   \n",
       "24  0.011466  0.011335 -0.013884  0.001103  0.009358 -0.003088  0.008674   \n",
       "25 -0.005852 -0.014056 -0.004787 -0.000901  0.005064  0.024725 -0.005779   \n",
       "26 -0.001090 -0.011029 -0.059787 -0.001703 -0.002359 -0.056110  0.014332   \n",
       "27 -0.016519 -0.018666  0.004150 -0.026919 -0.028573 -0.002369 -0.001340   \n",
       "28  0.015425  0.004014  0.035150  0.020372  0.029458  0.044800  0.031131   \n",
       "29 -0.014585 -0.001771 -0.029348 -0.016602 -0.018532  0.011584  0.020581   \n",
       "\n",
       "        DXCM      ROST      LULU  \n",
       "0   0.004998  0.001106 -0.009431  \n",
       "1   0.003539 -0.009493  0.010947  \n",
       "2  -0.009778 -0.020432  0.029544  \n",
       "3  -0.023700 -0.001717 -0.016598  \n",
       "4  -0.029239  0.010533  0.007414  \n",
       "5  -0.009278  0.024688 -0.017685  \n",
       "6  -0.025345  0.012637 -0.000574  \n",
       "7  -0.035713 -0.043166 -0.009384  \n",
       "8  -0.003116  0.018629  0.016151  \n",
       "9  -0.012803 -0.001811 -0.010320  \n",
       "10  0.003962  0.026650  0.016161  \n",
       "11  0.013227 -0.010639 -0.001608  \n",
       "12  0.002517  0.002474 -0.016427  \n",
       "13 -0.003002 -0.006750 -0.019612  \n",
       "14  0.000545  0.014482  0.009698  \n",
       "15 -0.014956 -0.003348 -0.028050  \n",
       "16  0.021253  0.003222  0.005455  \n",
       "17 -0.014680  0.008526  0.029569  \n",
       "18  0.016506  0.029232 -0.008611  \n",
       "19  0.017726  0.004698  0.011471  \n",
       "20  0.020093 -0.021679  0.010300  \n",
       "21 -0.013938 -0.016088 -0.018441  \n",
       "22 -0.028037 -0.025494 -0.030505  \n",
       "23 -0.043127  0.009481  0.019961  \n",
       "24 -0.030672  0.007800 -0.009601  \n",
       "25 -0.006233  0.006034 -0.021870  \n",
       "26 -0.005793 -0.018821 -0.026581  \n",
       "27 -0.040020 -0.024770 -0.013439  \n",
       "28 -0.001879 -0.001744  0.035782  \n",
       "29  0.002999 -0.044075  0.007314  "
      ]
     },
     "execution_count": 442,
     "metadata": {},
     "output_type": "execute_result"
    }
   ],
   "source": [
    "T = 30\n",
    "sample_raw = np.random.multivariate_normal(estims['logret_mean'], cov_matrix, T)\n",
    "sample = pd.DataFrame(columns=assets, data=sample_raw)\n",
    "sample"
   ]
  },
  {
   "cell_type": "markdown",
   "metadata": {},
   "source": [
    "#### 2.2 По построенной выборке делаем оценку Eest вектора математических ожиданий ..."
   ]
  },
  {
   "cell_type": "code",
   "execution_count": 448,
   "metadata": {},
   "outputs": [
    {
     "data": {
      "text/plain": [
       "MDLZ   -0.000129\n",
       "MSFT   -0.004899\n",
       "NXPI   -0.005373\n",
       "PCAR    0.002668\n",
       "INTC   -0.002851\n",
       "NVDA   -0.002502\n",
       "ILMN   -0.004297\n",
       "DXCM   -0.008131\n",
       "ROST   -0.002328\n",
       "LULU   -0.001632\n",
       "dtype: float64"
      ]
     },
     "execution_count": 448,
     "metadata": {},
     "output_type": "execute_result"
    }
   ],
   "source": [
    "estE = sample.mean()\n",
    "estE"
   ]
  },
  {
   "cell_type": "markdown",
   "metadata": {},
   "source": [
    "#### ... и оценку (σesti,j) матрицы ковариаций. "
   ]
  },
  {
   "cell_type": "code",
   "execution_count": 449,
   "metadata": {},
   "outputs": [
    {
     "data": {
      "text/html": [
       "<div>\n",
       "<style scoped>\n",
       "    .dataframe tbody tr th:only-of-type {\n",
       "        vertical-align: middle;\n",
       "    }\n",
       "\n",
       "    .dataframe tbody tr th {\n",
       "        vertical-align: top;\n",
       "    }\n",
       "\n",
       "    .dataframe thead th {\n",
       "        text-align: right;\n",
       "    }\n",
       "</style>\n",
       "<table border=\"1\" class=\"dataframe\">\n",
       "  <thead>\n",
       "    <tr style=\"text-align: right;\">\n",
       "      <th></th>\n",
       "      <th>MDLZ</th>\n",
       "      <th>MSFT</th>\n",
       "      <th>NXPI</th>\n",
       "      <th>PCAR</th>\n",
       "      <th>INTC</th>\n",
       "      <th>NVDA</th>\n",
       "      <th>ILMN</th>\n",
       "      <th>DXCM</th>\n",
       "      <th>ROST</th>\n",
       "      <th>LULU</th>\n",
       "    </tr>\n",
       "  </thead>\n",
       "  <tbody>\n",
       "    <tr>\n",
       "      <th>MDLZ</th>\n",
       "      <td>0.000070</td>\n",
       "      <td>0.000021</td>\n",
       "      <td>0.000024</td>\n",
       "      <td>0.000041</td>\n",
       "      <td>0.000065</td>\n",
       "      <td>0.000021</td>\n",
       "      <td>0.000068</td>\n",
       "      <td>0.000023</td>\n",
       "      <td>0.000074</td>\n",
       "      <td>0.000044</td>\n",
       "    </tr>\n",
       "    <tr>\n",
       "      <th>MSFT</th>\n",
       "      <td>0.000021</td>\n",
       "      <td>0.000195</td>\n",
       "      <td>0.000112</td>\n",
       "      <td>0.000054</td>\n",
       "      <td>0.000053</td>\n",
       "      <td>0.000182</td>\n",
       "      <td>0.000097</td>\n",
       "      <td>0.000090</td>\n",
       "      <td>0.000064</td>\n",
       "      <td>0.000116</td>\n",
       "    </tr>\n",
       "    <tr>\n",
       "      <th>NXPI</th>\n",
       "      <td>0.000024</td>\n",
       "      <td>0.000112</td>\n",
       "      <td>0.000675</td>\n",
       "      <td>0.000236</td>\n",
       "      <td>0.000181</td>\n",
       "      <td>0.000555</td>\n",
       "      <td>0.000134</td>\n",
       "      <td>0.000098</td>\n",
       "      <td>0.000162</td>\n",
       "      <td>0.000195</td>\n",
       "    </tr>\n",
       "    <tr>\n",
       "      <th>PCAR</th>\n",
       "      <td>0.000041</td>\n",
       "      <td>0.000054</td>\n",
       "      <td>0.000236</td>\n",
       "      <td>0.000262</td>\n",
       "      <td>0.000144</td>\n",
       "      <td>0.000160</td>\n",
       "      <td>0.000002</td>\n",
       "      <td>0.000026</td>\n",
       "      <td>0.000101</td>\n",
       "      <td>0.000047</td>\n",
       "    </tr>\n",
       "    <tr>\n",
       "      <th>INTC</th>\n",
       "      <td>0.000065</td>\n",
       "      <td>0.000053</td>\n",
       "      <td>0.000181</td>\n",
       "      <td>0.000144</td>\n",
       "      <td>0.000351</td>\n",
       "      <td>0.000093</td>\n",
       "      <td>0.000191</td>\n",
       "      <td>0.000063</td>\n",
       "      <td>0.000141</td>\n",
       "      <td>0.000001</td>\n",
       "    </tr>\n",
       "    <tr>\n",
       "      <th>NVDA</th>\n",
       "      <td>0.000021</td>\n",
       "      <td>0.000182</td>\n",
       "      <td>0.000555</td>\n",
       "      <td>0.000160</td>\n",
       "      <td>0.000093</td>\n",
       "      <td>0.000898</td>\n",
       "      <td>0.000172</td>\n",
       "      <td>0.000071</td>\n",
       "      <td>0.000082</td>\n",
       "      <td>0.000288</td>\n",
       "    </tr>\n",
       "    <tr>\n",
       "      <th>ILMN</th>\n",
       "      <td>0.000068</td>\n",
       "      <td>0.000097</td>\n",
       "      <td>0.000134</td>\n",
       "      <td>0.000002</td>\n",
       "      <td>0.000191</td>\n",
       "      <td>0.000172</td>\n",
       "      <td>0.000439</td>\n",
       "      <td>0.000172</td>\n",
       "      <td>0.000066</td>\n",
       "      <td>0.000067</td>\n",
       "    </tr>\n",
       "    <tr>\n",
       "      <th>DXCM</th>\n",
       "      <td>0.000023</td>\n",
       "      <td>0.000090</td>\n",
       "      <td>0.000098</td>\n",
       "      <td>0.000026</td>\n",
       "      <td>0.000063</td>\n",
       "      <td>0.000071</td>\n",
       "      <td>0.000172</td>\n",
       "      <td>0.000321</td>\n",
       "      <td>0.000057</td>\n",
       "      <td>0.000063</td>\n",
       "    </tr>\n",
       "    <tr>\n",
       "      <th>ROST</th>\n",
       "      <td>0.000074</td>\n",
       "      <td>0.000064</td>\n",
       "      <td>0.000162</td>\n",
       "      <td>0.000101</td>\n",
       "      <td>0.000141</td>\n",
       "      <td>0.000082</td>\n",
       "      <td>0.000066</td>\n",
       "      <td>0.000057</td>\n",
       "      <td>0.000344</td>\n",
       "      <td>0.000058</td>\n",
       "    </tr>\n",
       "    <tr>\n",
       "      <th>LULU</th>\n",
       "      <td>0.000044</td>\n",
       "      <td>0.000116</td>\n",
       "      <td>0.000195</td>\n",
       "      <td>0.000047</td>\n",
       "      <td>0.000001</td>\n",
       "      <td>0.000288</td>\n",
       "      <td>0.000067</td>\n",
       "      <td>0.000063</td>\n",
       "      <td>0.000058</td>\n",
       "      <td>0.000330</td>\n",
       "    </tr>\n",
       "  </tbody>\n",
       "</table>\n",
       "</div>"
      ],
      "text/plain": [
       "          MDLZ      MSFT      NXPI      PCAR      INTC      NVDA      ILMN  \\\n",
       "MDLZ  0.000070  0.000021  0.000024  0.000041  0.000065  0.000021  0.000068   \n",
       "MSFT  0.000021  0.000195  0.000112  0.000054  0.000053  0.000182  0.000097   \n",
       "NXPI  0.000024  0.000112  0.000675  0.000236  0.000181  0.000555  0.000134   \n",
       "PCAR  0.000041  0.000054  0.000236  0.000262  0.000144  0.000160  0.000002   \n",
       "INTC  0.000065  0.000053  0.000181  0.000144  0.000351  0.000093  0.000191   \n",
       "NVDA  0.000021  0.000182  0.000555  0.000160  0.000093  0.000898  0.000172   \n",
       "ILMN  0.000068  0.000097  0.000134  0.000002  0.000191  0.000172  0.000439   \n",
       "DXCM  0.000023  0.000090  0.000098  0.000026  0.000063  0.000071  0.000172   \n",
       "ROST  0.000074  0.000064  0.000162  0.000101  0.000141  0.000082  0.000066   \n",
       "LULU  0.000044  0.000116  0.000195  0.000047  0.000001  0.000288  0.000067   \n",
       "\n",
       "          DXCM      ROST      LULU  \n",
       "MDLZ  0.000023  0.000074  0.000044  \n",
       "MSFT  0.000090  0.000064  0.000116  \n",
       "NXPI  0.000098  0.000162  0.000195  \n",
       "PCAR  0.000026  0.000101  0.000047  \n",
       "INTC  0.000063  0.000141  0.000001  \n",
       "NVDA  0.000071  0.000082  0.000288  \n",
       "ILMN  0.000172  0.000066  0.000067  \n",
       "DXCM  0.000321  0.000057  0.000063  \n",
       "ROST  0.000057  0.000344  0.000058  \n",
       "LULU  0.000063  0.000058  0.000330  "
      ]
     },
     "execution_count": 449,
     "metadata": {},
     "output_type": "execute_result"
    }
   ],
   "source": [
    "estCov = sample.cov()\n",
    "estCov"
   ]
  },
  {
   "cell_type": "code",
   "execution_count": 450,
   "metadata": {},
   "outputs": [
    {
     "data": {
      "application/vnd.plotly.v1+json": {
       "config": {
        "plotlyServerURL": "https://plot.ly"
       },
       "data": [
        {
         "coloraxis": "coloraxis",
         "hovertemplate": "x: %{x}<br>y: %{y}<br>color: %{z}<extra></extra>",
         "name": "0",
         "type": "heatmap",
         "x": [
          "MDLZ",
          "MSFT",
          "NXPI",
          "PCAR",
          "INTC",
          "NVDA",
          "ILMN",
          "DXCM",
          "ROST",
          "LULU"
         ],
         "xaxis": "x",
         "y": [
          "MDLZ",
          "MSFT",
          "NXPI",
          "PCAR",
          "INTC",
          "NVDA",
          "ILMN",
          "DXCM",
          "ROST",
          "LULU"
         ],
         "yaxis": "y",
         "z": [
          [
           9.283689515255262e-05,
           3.173686143468105e-05,
           3.0624296612563473e-05,
           2.4429884990747602e-05,
           2.5513766301869305e-05,
           1.789348105449689e-05,
           2.1517568308871687e-05,
           2.6116871094372062e-05,
           5.787319589165347e-05,
           3.758352953040061e-05
          ],
          [
           3.173686143468105e-05,
           0.0001597263489967833,
           0.00012856843127890033,
           2.5017817448010213e-05,
           8.943004255431527e-05,
           0.00018437672696050938,
           9.670305862018692e-05,
           0.00011201341506818406,
           5.624452743426021e-05,
           9.094831923244999e-05
          ],
          [
           3.0624296612563473e-05,
           0.00012856843127890033,
           0.0005445600147438653,
           0.00011208263565260205,
           0.0002495032065424408,
           0.0003429915574226482,
           0.0001701739996833108,
           0.0001835145733363536,
           0.00015221622180472925,
           0.0001918143420137122
          ],
          [
           2.4429884990747602e-05,
           2.5017817448010213e-05,
           0.00011208263565260205,
           0.00023305322734861912,
           8.993311117892844e-05,
           5.7773287081232766e-05,
           2.485892405362586e-05,
           8.423898167599682e-06,
           8.907206305918121e-05,
           3.3301847115311266e-05
          ],
          [
           2.5513766301869305e-05,
           8.943004255431527e-05,
           0.0002495032065424408,
           8.993311117892844e-05,
           0.00042490042090652353,
           0.00018818669303284773,
           0.00010270157756188192,
           0.00010165068274385688,
           0.00011139312427403514,
           0.00010259664172983227
          ],
          [
           1.789348105449689e-05,
           0.00018437672696050938,
           0.0003429915574226482,
           5.7773287081232766e-05,
           0.00018818669303284773,
           0.0006706431255278605,
           0.0001604033970157454,
           0.0002029670759579731,
           7.515623108695969e-05,
           0.00020950834590654143
          ],
          [
           2.1517568308871687e-05,
           9.670305862018692e-05,
           0.0001701739996833108,
           2.485892405362586e-05,
           0.00010270157756188192,
           0.0001604033970157454,
           0.00043710389719634575,
           0.00020224193289248053,
           1.2034884751406829e-05,
           0.0001326750927703705
          ],
          [
           2.6116871094372062e-05,
           0.00011201341506818406,
           0.0001835145733363536,
           8.423898167599682e-06,
           0.00010165068274385688,
           0.0002029670759579731,
           0.00020224193289248053,
           0.0004985720495484733,
           6.759515348775174e-05,
           0.00016111920763904855
          ],
          [
           5.787319589165347e-05,
           5.624452743426021e-05,
           0.00015221622180472925,
           8.907206305918121e-05,
           0.00011139312427403514,
           7.515623108695969e-05,
           1.2034884751406829e-05,
           6.759515348775174e-05,
           0.0003521659274313528,
           0.00010506688180025479
          ],
          [
           3.758352953040061e-05,
           9.094831923244999e-05,
           0.0001918143420137122,
           3.3301847115311266e-05,
           0.00010259664172983227,
           0.00020950834590654143,
           0.0001326750927703705,
           0.00016111920763904855,
           0.00010506688180025479,
           0.00037835480880170044
          ]
         ]
        }
       ],
       "layout": {
        "coloraxis": {
         "colorscale": [
          [
           0,
           "rgb(0,104,55)"
          ],
          [
           0.1,
           "rgb(26,152,80)"
          ],
          [
           0.2,
           "rgb(102,189,99)"
          ],
          [
           0.3,
           "rgb(166,217,106)"
          ],
          [
           0.4,
           "rgb(217,239,139)"
          ],
          [
           0.5,
           "rgb(255,255,191)"
          ],
          [
           0.6,
           "rgb(254,224,139)"
          ],
          [
           0.7,
           "rgb(253,174,97)"
          ],
          [
           0.8,
           "rgb(244,109,67)"
          ],
          [
           0.9,
           "rgb(215,48,39)"
          ],
          [
           1,
           "rgb(165,0,38)"
          ]
         ]
        },
        "template": {
         "data": {
          "bar": [
           {
            "error_x": {
             "color": "#2a3f5f"
            },
            "error_y": {
             "color": "#2a3f5f"
            },
            "marker": {
             "line": {
              "color": "#E5ECF6",
              "width": 0.5
             }
            },
            "type": "bar"
           }
          ],
          "barpolar": [
           {
            "marker": {
             "line": {
              "color": "#E5ECF6",
              "width": 0.5
             }
            },
            "type": "barpolar"
           }
          ],
          "carpet": [
           {
            "aaxis": {
             "endlinecolor": "#2a3f5f",
             "gridcolor": "white",
             "linecolor": "white",
             "minorgridcolor": "white",
             "startlinecolor": "#2a3f5f"
            },
            "baxis": {
             "endlinecolor": "#2a3f5f",
             "gridcolor": "white",
             "linecolor": "white",
             "minorgridcolor": "white",
             "startlinecolor": "#2a3f5f"
            },
            "type": "carpet"
           }
          ],
          "choropleth": [
           {
            "colorbar": {
             "outlinewidth": 0,
             "ticks": ""
            },
            "type": "choropleth"
           }
          ],
          "contour": [
           {
            "colorbar": {
             "outlinewidth": 0,
             "ticks": ""
            },
            "colorscale": [
             [
              0,
              "#0d0887"
             ],
             [
              0.1111111111111111,
              "#46039f"
             ],
             [
              0.2222222222222222,
              "#7201a8"
             ],
             [
              0.3333333333333333,
              "#9c179e"
             ],
             [
              0.4444444444444444,
              "#bd3786"
             ],
             [
              0.5555555555555556,
              "#d8576b"
             ],
             [
              0.6666666666666666,
              "#ed7953"
             ],
             [
              0.7777777777777778,
              "#fb9f3a"
             ],
             [
              0.8888888888888888,
              "#fdca26"
             ],
             [
              1,
              "#f0f921"
             ]
            ],
            "type": "contour"
           }
          ],
          "contourcarpet": [
           {
            "colorbar": {
             "outlinewidth": 0,
             "ticks": ""
            },
            "type": "contourcarpet"
           }
          ],
          "heatmap": [
           {
            "colorbar": {
             "outlinewidth": 0,
             "ticks": ""
            },
            "colorscale": [
             [
              0,
              "#0d0887"
             ],
             [
              0.1111111111111111,
              "#46039f"
             ],
             [
              0.2222222222222222,
              "#7201a8"
             ],
             [
              0.3333333333333333,
              "#9c179e"
             ],
             [
              0.4444444444444444,
              "#bd3786"
             ],
             [
              0.5555555555555556,
              "#d8576b"
             ],
             [
              0.6666666666666666,
              "#ed7953"
             ],
             [
              0.7777777777777778,
              "#fb9f3a"
             ],
             [
              0.8888888888888888,
              "#fdca26"
             ],
             [
              1,
              "#f0f921"
             ]
            ],
            "type": "heatmap"
           }
          ],
          "heatmapgl": [
           {
            "colorbar": {
             "outlinewidth": 0,
             "ticks": ""
            },
            "colorscale": [
             [
              0,
              "#0d0887"
             ],
             [
              0.1111111111111111,
              "#46039f"
             ],
             [
              0.2222222222222222,
              "#7201a8"
             ],
             [
              0.3333333333333333,
              "#9c179e"
             ],
             [
              0.4444444444444444,
              "#bd3786"
             ],
             [
              0.5555555555555556,
              "#d8576b"
             ],
             [
              0.6666666666666666,
              "#ed7953"
             ],
             [
              0.7777777777777778,
              "#fb9f3a"
             ],
             [
              0.8888888888888888,
              "#fdca26"
             ],
             [
              1,
              "#f0f921"
             ]
            ],
            "type": "heatmapgl"
           }
          ],
          "histogram": [
           {
            "marker": {
             "colorbar": {
              "outlinewidth": 0,
              "ticks": ""
             }
            },
            "type": "histogram"
           }
          ],
          "histogram2d": [
           {
            "colorbar": {
             "outlinewidth": 0,
             "ticks": ""
            },
            "colorscale": [
             [
              0,
              "#0d0887"
             ],
             [
              0.1111111111111111,
              "#46039f"
             ],
             [
              0.2222222222222222,
              "#7201a8"
             ],
             [
              0.3333333333333333,
              "#9c179e"
             ],
             [
              0.4444444444444444,
              "#bd3786"
             ],
             [
              0.5555555555555556,
              "#d8576b"
             ],
             [
              0.6666666666666666,
              "#ed7953"
             ],
             [
              0.7777777777777778,
              "#fb9f3a"
             ],
             [
              0.8888888888888888,
              "#fdca26"
             ],
             [
              1,
              "#f0f921"
             ]
            ],
            "type": "histogram2d"
           }
          ],
          "histogram2dcontour": [
           {
            "colorbar": {
             "outlinewidth": 0,
             "ticks": ""
            },
            "colorscale": [
             [
              0,
              "#0d0887"
             ],
             [
              0.1111111111111111,
              "#46039f"
             ],
             [
              0.2222222222222222,
              "#7201a8"
             ],
             [
              0.3333333333333333,
              "#9c179e"
             ],
             [
              0.4444444444444444,
              "#bd3786"
             ],
             [
              0.5555555555555556,
              "#d8576b"
             ],
             [
              0.6666666666666666,
              "#ed7953"
             ],
             [
              0.7777777777777778,
              "#fb9f3a"
             ],
             [
              0.8888888888888888,
              "#fdca26"
             ],
             [
              1,
              "#f0f921"
             ]
            ],
            "type": "histogram2dcontour"
           }
          ],
          "mesh3d": [
           {
            "colorbar": {
             "outlinewidth": 0,
             "ticks": ""
            },
            "type": "mesh3d"
           }
          ],
          "parcoords": [
           {
            "line": {
             "colorbar": {
              "outlinewidth": 0,
              "ticks": ""
             }
            },
            "type": "parcoords"
           }
          ],
          "pie": [
           {
            "automargin": true,
            "type": "pie"
           }
          ],
          "scatter": [
           {
            "marker": {
             "colorbar": {
              "outlinewidth": 0,
              "ticks": ""
             }
            },
            "type": "scatter"
           }
          ],
          "scatter3d": [
           {
            "line": {
             "colorbar": {
              "outlinewidth": 0,
              "ticks": ""
             }
            },
            "marker": {
             "colorbar": {
              "outlinewidth": 0,
              "ticks": ""
             }
            },
            "type": "scatter3d"
           }
          ],
          "scattercarpet": [
           {
            "marker": {
             "colorbar": {
              "outlinewidth": 0,
              "ticks": ""
             }
            },
            "type": "scattercarpet"
           }
          ],
          "scattergeo": [
           {
            "marker": {
             "colorbar": {
              "outlinewidth": 0,
              "ticks": ""
             }
            },
            "type": "scattergeo"
           }
          ],
          "scattergl": [
           {
            "marker": {
             "colorbar": {
              "outlinewidth": 0,
              "ticks": ""
             }
            },
            "type": "scattergl"
           }
          ],
          "scattermapbox": [
           {
            "marker": {
             "colorbar": {
              "outlinewidth": 0,
              "ticks": ""
             }
            },
            "type": "scattermapbox"
           }
          ],
          "scatterpolar": [
           {
            "marker": {
             "colorbar": {
              "outlinewidth": 0,
              "ticks": ""
             }
            },
            "type": "scatterpolar"
           }
          ],
          "scatterpolargl": [
           {
            "marker": {
             "colorbar": {
              "outlinewidth": 0,
              "ticks": ""
             }
            },
            "type": "scatterpolargl"
           }
          ],
          "scatterternary": [
           {
            "marker": {
             "colorbar": {
              "outlinewidth": 0,
              "ticks": ""
             }
            },
            "type": "scatterternary"
           }
          ],
          "surface": [
           {
            "colorbar": {
             "outlinewidth": 0,
             "ticks": ""
            },
            "colorscale": [
             [
              0,
              "#0d0887"
             ],
             [
              0.1111111111111111,
              "#46039f"
             ],
             [
              0.2222222222222222,
              "#7201a8"
             ],
             [
              0.3333333333333333,
              "#9c179e"
             ],
             [
              0.4444444444444444,
              "#bd3786"
             ],
             [
              0.5555555555555556,
              "#d8576b"
             ],
             [
              0.6666666666666666,
              "#ed7953"
             ],
             [
              0.7777777777777778,
              "#fb9f3a"
             ],
             [
              0.8888888888888888,
              "#fdca26"
             ],
             [
              1,
              "#f0f921"
             ]
            ],
            "type": "surface"
           }
          ],
          "table": [
           {
            "cells": {
             "fill": {
              "color": "#EBF0F8"
             },
             "line": {
              "color": "white"
             }
            },
            "header": {
             "fill": {
              "color": "#C8D4E3"
             },
             "line": {
              "color": "white"
             }
            },
            "type": "table"
           }
          ]
         },
         "layout": {
          "annotationdefaults": {
           "arrowcolor": "#2a3f5f",
           "arrowhead": 0,
           "arrowwidth": 1
          },
          "autotypenumbers": "strict",
          "coloraxis": {
           "colorbar": {
            "outlinewidth": 0,
            "ticks": ""
           }
          },
          "colorscale": {
           "diverging": [
            [
             0,
             "#8e0152"
            ],
            [
             0.1,
             "#c51b7d"
            ],
            [
             0.2,
             "#de77ae"
            ],
            [
             0.3,
             "#f1b6da"
            ],
            [
             0.4,
             "#fde0ef"
            ],
            [
             0.5,
             "#f7f7f7"
            ],
            [
             0.6,
             "#e6f5d0"
            ],
            [
             0.7,
             "#b8e186"
            ],
            [
             0.8,
             "#7fbc41"
            ],
            [
             0.9,
             "#4d9221"
            ],
            [
             1,
             "#276419"
            ]
           ],
           "sequential": [
            [
             0,
             "#0d0887"
            ],
            [
             0.1111111111111111,
             "#46039f"
            ],
            [
             0.2222222222222222,
             "#7201a8"
            ],
            [
             0.3333333333333333,
             "#9c179e"
            ],
            [
             0.4444444444444444,
             "#bd3786"
            ],
            [
             0.5555555555555556,
             "#d8576b"
            ],
            [
             0.6666666666666666,
             "#ed7953"
            ],
            [
             0.7777777777777778,
             "#fb9f3a"
            ],
            [
             0.8888888888888888,
             "#fdca26"
            ],
            [
             1,
             "#f0f921"
            ]
           ],
           "sequentialminus": [
            [
             0,
             "#0d0887"
            ],
            [
             0.1111111111111111,
             "#46039f"
            ],
            [
             0.2222222222222222,
             "#7201a8"
            ],
            [
             0.3333333333333333,
             "#9c179e"
            ],
            [
             0.4444444444444444,
             "#bd3786"
            ],
            [
             0.5555555555555556,
             "#d8576b"
            ],
            [
             0.6666666666666666,
             "#ed7953"
            ],
            [
             0.7777777777777778,
             "#fb9f3a"
            ],
            [
             0.8888888888888888,
             "#fdca26"
            ],
            [
             1,
             "#f0f921"
            ]
           ]
          },
          "colorway": [
           "#636efa",
           "#EF553B",
           "#00cc96",
           "#ab63fa",
           "#FFA15A",
           "#19d3f3",
           "#FF6692",
           "#B6E880",
           "#FF97FF",
           "#FECB52"
          ],
          "font": {
           "color": "#2a3f5f"
          },
          "geo": {
           "bgcolor": "white",
           "lakecolor": "white",
           "landcolor": "#E5ECF6",
           "showlakes": true,
           "showland": true,
           "subunitcolor": "white"
          },
          "hoverlabel": {
           "align": "left"
          },
          "hovermode": "closest",
          "mapbox": {
           "style": "light"
          },
          "paper_bgcolor": "white",
          "plot_bgcolor": "#E5ECF6",
          "polar": {
           "angularaxis": {
            "gridcolor": "white",
            "linecolor": "white",
            "ticks": ""
           },
           "bgcolor": "#E5ECF6",
           "radialaxis": {
            "gridcolor": "white",
            "linecolor": "white",
            "ticks": ""
           }
          },
          "scene": {
           "xaxis": {
            "backgroundcolor": "#E5ECF6",
            "gridcolor": "white",
            "gridwidth": 2,
            "linecolor": "white",
            "showbackground": true,
            "ticks": "",
            "zerolinecolor": "white"
           },
           "yaxis": {
            "backgroundcolor": "#E5ECF6",
            "gridcolor": "white",
            "gridwidth": 2,
            "linecolor": "white",
            "showbackground": true,
            "ticks": "",
            "zerolinecolor": "white"
           },
           "zaxis": {
            "backgroundcolor": "#E5ECF6",
            "gridcolor": "white",
            "gridwidth": 2,
            "linecolor": "white",
            "showbackground": true,
            "ticks": "",
            "zerolinecolor": "white"
           }
          },
          "shapedefaults": {
           "line": {
            "color": "#2a3f5f"
           }
          },
          "ternary": {
           "aaxis": {
            "gridcolor": "white",
            "linecolor": "white",
            "ticks": ""
           },
           "baxis": {
            "gridcolor": "white",
            "linecolor": "white",
            "ticks": ""
           },
           "bgcolor": "#E5ECF6",
           "caxis": {
            "gridcolor": "white",
            "linecolor": "white",
            "ticks": ""
           }
          },
          "title": {
           "x": 0.05
          },
          "xaxis": {
           "automargin": true,
           "gridcolor": "white",
           "linecolor": "white",
           "ticks": "",
           "title": {
            "standoff": 15
           },
           "zerolinecolor": "white",
           "zerolinewidth": 2
          },
          "yaxis": {
           "automargin": true,
           "gridcolor": "white",
           "linecolor": "white",
           "ticks": "",
           "title": {
            "standoff": 15
           },
           "zerolinecolor": "white",
           "zerolinewidth": 2
          }
         }
        },
        "title": {
         "text": "Covariation Matrix"
        },
        "xaxis": {
         "anchor": "y",
         "constrain": "domain",
         "domain": [
          0,
          1
         ],
         "scaleanchor": "y"
        },
        "yaxis": {
         "anchor": "x",
         "autorange": "reversed",
         "constrain": "domain",
         "domain": [
          0,
          1
         ]
        }
       }
      },
      "text/html": [
       "<div>                            <div id=\"982e9f96-4007-4459-ba1e-350493a278e6\" class=\"plotly-graph-div\" style=\"height:525px; width:100%;\"></div>            <script type=\"text/javascript\">                require([\"plotly\"], function(Plotly) {                    window.PLOTLYENV=window.PLOTLYENV || {};                                    if (document.getElementById(\"982e9f96-4007-4459-ba1e-350493a278e6\")) {                    Plotly.newPlot(                        \"982e9f96-4007-4459-ba1e-350493a278e6\",                        [{\"coloraxis\": \"coloraxis\", \"hovertemplate\": \"x: %{x}<br>y: %{y}<br>color: %{z}<extra></extra>\", \"name\": \"0\", \"type\": \"heatmap\", \"x\": [\"MDLZ\", \"MSFT\", \"NXPI\", \"PCAR\", \"INTC\", \"NVDA\", \"ILMN\", \"DXCM\", \"ROST\", \"LULU\"], \"xaxis\": \"x\", \"y\": [\"MDLZ\", \"MSFT\", \"NXPI\", \"PCAR\", \"INTC\", \"NVDA\", \"ILMN\", \"DXCM\", \"ROST\", \"LULU\"], \"yaxis\": \"y\", \"z\": [[9.283689515255262e-05, 3.173686143468105e-05, 3.0624296612563473e-05, 2.4429884990747602e-05, 2.5513766301869305e-05, 1.789348105449689e-05, 2.1517568308871687e-05, 2.6116871094372062e-05, 5.787319589165347e-05, 3.758352953040061e-05], [3.173686143468105e-05, 0.0001597263489967833, 0.00012856843127890033, 2.5017817448010213e-05, 8.943004255431527e-05, 0.00018437672696050938, 9.670305862018692e-05, 0.00011201341506818406, 5.624452743426021e-05, 9.094831923244999e-05], [3.0624296612563473e-05, 0.00012856843127890033, 0.0005445600147438653, 0.00011208263565260205, 0.0002495032065424408, 0.0003429915574226482, 0.0001701739996833108, 0.0001835145733363536, 0.00015221622180472925, 0.0001918143420137122], [2.4429884990747602e-05, 2.5017817448010213e-05, 0.00011208263565260205, 0.00023305322734861912, 8.993311117892844e-05, 5.7773287081232766e-05, 2.485892405362586e-05, 8.423898167599682e-06, 8.907206305918121e-05, 3.3301847115311266e-05], [2.5513766301869305e-05, 8.943004255431527e-05, 0.0002495032065424408, 8.993311117892844e-05, 0.00042490042090652353, 0.00018818669303284773, 0.00010270157756188192, 0.00010165068274385688, 0.00011139312427403514, 0.00010259664172983227], [1.789348105449689e-05, 0.00018437672696050938, 0.0003429915574226482, 5.7773287081232766e-05, 0.00018818669303284773, 0.0006706431255278605, 0.0001604033970157454, 0.0002029670759579731, 7.515623108695969e-05, 0.00020950834590654143], [2.1517568308871687e-05, 9.670305862018692e-05, 0.0001701739996833108, 2.485892405362586e-05, 0.00010270157756188192, 0.0001604033970157454, 0.00043710389719634575, 0.00020224193289248053, 1.2034884751406829e-05, 0.0001326750927703705], [2.6116871094372062e-05, 0.00011201341506818406, 0.0001835145733363536, 8.423898167599682e-06, 0.00010165068274385688, 0.0002029670759579731, 0.00020224193289248053, 0.0004985720495484733, 6.759515348775174e-05, 0.00016111920763904855], [5.787319589165347e-05, 5.624452743426021e-05, 0.00015221622180472925, 8.907206305918121e-05, 0.00011139312427403514, 7.515623108695969e-05, 1.2034884751406829e-05, 6.759515348775174e-05, 0.0003521659274313528, 0.00010506688180025479], [3.758352953040061e-05, 9.094831923244999e-05, 0.0001918143420137122, 3.3301847115311266e-05, 0.00010259664172983227, 0.00020950834590654143, 0.0001326750927703705, 0.00016111920763904855, 0.00010506688180025479, 0.00037835480880170044]]}],                        {\"coloraxis\": {\"colorscale\": [[0.0, \"rgb(0,104,55)\"], [0.1, \"rgb(26,152,80)\"], [0.2, \"rgb(102,189,99)\"], [0.3, \"rgb(166,217,106)\"], [0.4, \"rgb(217,239,139)\"], [0.5, \"rgb(255,255,191)\"], [0.6, \"rgb(254,224,139)\"], [0.7, \"rgb(253,174,97)\"], [0.8, \"rgb(244,109,67)\"], [0.9, \"rgb(215,48,39)\"], [1.0, \"rgb(165,0,38)\"]]}, \"template\": {\"data\": {\"bar\": [{\"error_x\": {\"color\": \"#2a3f5f\"}, \"error_y\": {\"color\": \"#2a3f5f\"}, \"marker\": {\"line\": {\"color\": \"#E5ECF6\", \"width\": 0.5}}, \"type\": \"bar\"}], \"barpolar\": [{\"marker\": {\"line\": {\"color\": \"#E5ECF6\", \"width\": 0.5}}, \"type\": \"barpolar\"}], \"carpet\": [{\"aaxis\": {\"endlinecolor\": \"#2a3f5f\", \"gridcolor\": \"white\", \"linecolor\": \"white\", \"minorgridcolor\": \"white\", \"startlinecolor\": \"#2a3f5f\"}, \"baxis\": {\"endlinecolor\": \"#2a3f5f\", \"gridcolor\": \"white\", \"linecolor\": \"white\", \"minorgridcolor\": \"white\", \"startlinecolor\": \"#2a3f5f\"}, \"type\": \"carpet\"}], \"choropleth\": [{\"colorbar\": {\"outlinewidth\": 0, \"ticks\": \"\"}, \"type\": \"choropleth\"}], \"contour\": [{\"colorbar\": {\"outlinewidth\": 0, \"ticks\": \"\"}, \"colorscale\": [[0.0, \"#0d0887\"], [0.1111111111111111, \"#46039f\"], [0.2222222222222222, \"#7201a8\"], [0.3333333333333333, \"#9c179e\"], [0.4444444444444444, \"#bd3786\"], [0.5555555555555556, \"#d8576b\"], [0.6666666666666666, \"#ed7953\"], [0.7777777777777778, \"#fb9f3a\"], [0.8888888888888888, \"#fdca26\"], [1.0, \"#f0f921\"]], \"type\": \"contour\"}], \"contourcarpet\": [{\"colorbar\": {\"outlinewidth\": 0, \"ticks\": \"\"}, \"type\": \"contourcarpet\"}], \"heatmap\": [{\"colorbar\": {\"outlinewidth\": 0, \"ticks\": \"\"}, \"colorscale\": [[0.0, \"#0d0887\"], [0.1111111111111111, \"#46039f\"], [0.2222222222222222, \"#7201a8\"], [0.3333333333333333, \"#9c179e\"], [0.4444444444444444, \"#bd3786\"], [0.5555555555555556, \"#d8576b\"], [0.6666666666666666, \"#ed7953\"], [0.7777777777777778, \"#fb9f3a\"], [0.8888888888888888, \"#fdca26\"], [1.0, \"#f0f921\"]], \"type\": \"heatmap\"}], \"heatmapgl\": [{\"colorbar\": {\"outlinewidth\": 0, \"ticks\": \"\"}, \"colorscale\": [[0.0, \"#0d0887\"], [0.1111111111111111, \"#46039f\"], [0.2222222222222222, \"#7201a8\"], [0.3333333333333333, \"#9c179e\"], [0.4444444444444444, \"#bd3786\"], [0.5555555555555556, \"#d8576b\"], [0.6666666666666666, \"#ed7953\"], [0.7777777777777778, \"#fb9f3a\"], [0.8888888888888888, \"#fdca26\"], [1.0, \"#f0f921\"]], \"type\": \"heatmapgl\"}], \"histogram\": [{\"marker\": {\"colorbar\": {\"outlinewidth\": 0, \"ticks\": \"\"}}, \"type\": \"histogram\"}], \"histogram2d\": [{\"colorbar\": {\"outlinewidth\": 0, \"ticks\": \"\"}, \"colorscale\": [[0.0, \"#0d0887\"], [0.1111111111111111, \"#46039f\"], [0.2222222222222222, \"#7201a8\"], [0.3333333333333333, \"#9c179e\"], [0.4444444444444444, \"#bd3786\"], [0.5555555555555556, \"#d8576b\"], [0.6666666666666666, \"#ed7953\"], [0.7777777777777778, \"#fb9f3a\"], [0.8888888888888888, \"#fdca26\"], [1.0, \"#f0f921\"]], \"type\": \"histogram2d\"}], \"histogram2dcontour\": [{\"colorbar\": {\"outlinewidth\": 0, \"ticks\": \"\"}, \"colorscale\": [[0.0, \"#0d0887\"], [0.1111111111111111, \"#46039f\"], [0.2222222222222222, \"#7201a8\"], [0.3333333333333333, \"#9c179e\"], [0.4444444444444444, \"#bd3786\"], [0.5555555555555556, \"#d8576b\"], [0.6666666666666666, \"#ed7953\"], [0.7777777777777778, \"#fb9f3a\"], [0.8888888888888888, \"#fdca26\"], [1.0, \"#f0f921\"]], \"type\": \"histogram2dcontour\"}], \"mesh3d\": [{\"colorbar\": {\"outlinewidth\": 0, \"ticks\": \"\"}, \"type\": \"mesh3d\"}], \"parcoords\": [{\"line\": {\"colorbar\": {\"outlinewidth\": 0, \"ticks\": \"\"}}, \"type\": \"parcoords\"}], \"pie\": [{\"automargin\": true, \"type\": \"pie\"}], \"scatter\": [{\"marker\": {\"colorbar\": {\"outlinewidth\": 0, \"ticks\": \"\"}}, \"type\": \"scatter\"}], \"scatter3d\": [{\"line\": {\"colorbar\": {\"outlinewidth\": 0, \"ticks\": \"\"}}, \"marker\": {\"colorbar\": {\"outlinewidth\": 0, \"ticks\": \"\"}}, \"type\": \"scatter3d\"}], \"scattercarpet\": [{\"marker\": {\"colorbar\": {\"outlinewidth\": 0, \"ticks\": \"\"}}, \"type\": \"scattercarpet\"}], \"scattergeo\": [{\"marker\": {\"colorbar\": {\"outlinewidth\": 0, \"ticks\": \"\"}}, \"type\": \"scattergeo\"}], \"scattergl\": [{\"marker\": {\"colorbar\": {\"outlinewidth\": 0, \"ticks\": \"\"}}, \"type\": \"scattergl\"}], \"scattermapbox\": [{\"marker\": {\"colorbar\": {\"outlinewidth\": 0, \"ticks\": \"\"}}, \"type\": \"scattermapbox\"}], \"scatterpolar\": [{\"marker\": {\"colorbar\": {\"outlinewidth\": 0, \"ticks\": \"\"}}, \"type\": \"scatterpolar\"}], \"scatterpolargl\": [{\"marker\": {\"colorbar\": {\"outlinewidth\": 0, \"ticks\": \"\"}}, \"type\": \"scatterpolargl\"}], \"scatterternary\": [{\"marker\": {\"colorbar\": {\"outlinewidth\": 0, \"ticks\": \"\"}}, \"type\": \"scatterternary\"}], \"surface\": [{\"colorbar\": {\"outlinewidth\": 0, \"ticks\": \"\"}, \"colorscale\": [[0.0, \"#0d0887\"], [0.1111111111111111, \"#46039f\"], [0.2222222222222222, \"#7201a8\"], [0.3333333333333333, \"#9c179e\"], [0.4444444444444444, \"#bd3786\"], [0.5555555555555556, \"#d8576b\"], [0.6666666666666666, \"#ed7953\"], [0.7777777777777778, \"#fb9f3a\"], [0.8888888888888888, \"#fdca26\"], [1.0, \"#f0f921\"]], \"type\": \"surface\"}], \"table\": [{\"cells\": {\"fill\": {\"color\": \"#EBF0F8\"}, \"line\": {\"color\": \"white\"}}, \"header\": {\"fill\": {\"color\": \"#C8D4E3\"}, \"line\": {\"color\": \"white\"}}, \"type\": \"table\"}]}, \"layout\": {\"annotationdefaults\": {\"arrowcolor\": \"#2a3f5f\", \"arrowhead\": 0, \"arrowwidth\": 1}, \"autotypenumbers\": \"strict\", \"coloraxis\": {\"colorbar\": {\"outlinewidth\": 0, \"ticks\": \"\"}}, \"colorscale\": {\"diverging\": [[0, \"#8e0152\"], [0.1, \"#c51b7d\"], [0.2, \"#de77ae\"], [0.3, \"#f1b6da\"], [0.4, \"#fde0ef\"], [0.5, \"#f7f7f7\"], [0.6, \"#e6f5d0\"], [0.7, \"#b8e186\"], [0.8, \"#7fbc41\"], [0.9, \"#4d9221\"], [1, \"#276419\"]], \"sequential\": [[0.0, \"#0d0887\"], [0.1111111111111111, \"#46039f\"], [0.2222222222222222, \"#7201a8\"], [0.3333333333333333, \"#9c179e\"], [0.4444444444444444, \"#bd3786\"], [0.5555555555555556, \"#d8576b\"], [0.6666666666666666, \"#ed7953\"], [0.7777777777777778, \"#fb9f3a\"], [0.8888888888888888, \"#fdca26\"], [1.0, \"#f0f921\"]], \"sequentialminus\": [[0.0, \"#0d0887\"], [0.1111111111111111, \"#46039f\"], [0.2222222222222222, \"#7201a8\"], [0.3333333333333333, \"#9c179e\"], [0.4444444444444444, \"#bd3786\"], [0.5555555555555556, \"#d8576b\"], [0.6666666666666666, \"#ed7953\"], [0.7777777777777778, \"#fb9f3a\"], [0.8888888888888888, \"#fdca26\"], [1.0, \"#f0f921\"]]}, \"colorway\": [\"#636efa\", \"#EF553B\", \"#00cc96\", \"#ab63fa\", \"#FFA15A\", \"#19d3f3\", \"#FF6692\", \"#B6E880\", \"#FF97FF\", \"#FECB52\"], \"font\": {\"color\": \"#2a3f5f\"}, \"geo\": {\"bgcolor\": \"white\", \"lakecolor\": \"white\", \"landcolor\": \"#E5ECF6\", \"showlakes\": true, \"showland\": true, \"subunitcolor\": \"white\"}, \"hoverlabel\": {\"align\": \"left\"}, \"hovermode\": \"closest\", \"mapbox\": {\"style\": \"light\"}, \"paper_bgcolor\": \"white\", \"plot_bgcolor\": \"#E5ECF6\", \"polar\": {\"angularaxis\": {\"gridcolor\": \"white\", \"linecolor\": \"white\", \"ticks\": \"\"}, \"bgcolor\": \"#E5ECF6\", \"radialaxis\": {\"gridcolor\": \"white\", \"linecolor\": \"white\", \"ticks\": \"\"}}, \"scene\": {\"xaxis\": {\"backgroundcolor\": \"#E5ECF6\", \"gridcolor\": \"white\", \"gridwidth\": 2, \"linecolor\": \"white\", \"showbackground\": true, \"ticks\": \"\", \"zerolinecolor\": \"white\"}, \"yaxis\": {\"backgroundcolor\": \"#E5ECF6\", \"gridcolor\": \"white\", \"gridwidth\": 2, \"linecolor\": \"white\", \"showbackground\": true, \"ticks\": \"\", \"zerolinecolor\": \"white\"}, \"zaxis\": {\"backgroundcolor\": \"#E5ECF6\", \"gridcolor\": \"white\", \"gridwidth\": 2, \"linecolor\": \"white\", \"showbackground\": true, \"ticks\": \"\", \"zerolinecolor\": \"white\"}}, \"shapedefaults\": {\"line\": {\"color\": \"#2a3f5f\"}}, \"ternary\": {\"aaxis\": {\"gridcolor\": \"white\", \"linecolor\": \"white\", \"ticks\": \"\"}, \"baxis\": {\"gridcolor\": \"white\", \"linecolor\": \"white\", \"ticks\": \"\"}, \"bgcolor\": \"#E5ECF6\", \"caxis\": {\"gridcolor\": \"white\", \"linecolor\": \"white\", \"ticks\": \"\"}}, \"title\": {\"x\": 0.05}, \"xaxis\": {\"automargin\": true, \"gridcolor\": \"white\", \"linecolor\": \"white\", \"ticks\": \"\", \"title\": {\"standoff\": 15}, \"zerolinecolor\": \"white\", \"zerolinewidth\": 2}, \"yaxis\": {\"automargin\": true, \"gridcolor\": \"white\", \"linecolor\": \"white\", \"ticks\": \"\", \"title\": {\"standoff\": 15}, \"zerolinecolor\": \"white\", \"zerolinewidth\": 2}}}, \"title\": {\"text\": \"Covariation Matrix\"}, \"xaxis\": {\"anchor\": \"y\", \"constrain\": \"domain\", \"domain\": [0.0, 1.0], \"scaleanchor\": \"y\"}, \"yaxis\": {\"anchor\": \"x\", \"autorange\": \"reversed\", \"constrain\": \"domain\", \"domain\": [0.0, 1.0]}},                        {\"responsive\": true}                    ).then(function(){\n",
       "                            \n",
       "var gd = document.getElementById('982e9f96-4007-4459-ba1e-350493a278e6');\n",
       "var x = new MutationObserver(function (mutations, observer) {{\n",
       "        var display = window.getComputedStyle(gd).display;\n",
       "        if (!display || display === 'none') {{\n",
       "            console.log([gd, 'removed!']);\n",
       "            Plotly.purge(gd);\n",
       "            observer.disconnect();\n",
       "        }}\n",
       "}});\n",
       "\n",
       "// Listen for the removal of the full notebook cells\n",
       "var notebookContainer = gd.closest('#notebook-container');\n",
       "if (notebookContainer) {{\n",
       "    x.observe(notebookContainer, {childList: true});\n",
       "}}\n",
       "\n",
       "// Listen for the clearing of the current output cell\n",
       "var outputEl = gd.closest('.output');\n",
       "if (outputEl) {{\n",
       "    x.observe(outputEl, {childList: true});\n",
       "}}\n",
       "\n",
       "                        })                };                });            </script>        </div>"
      ]
     },
     "metadata": {},
     "output_type": "display_data"
    }
   ],
   "source": [
    "import plotly.express as px\n",
    "\n",
    "fig = px.imshow(cov_matrix, title='Covariation Matrix',\n",
    "                color_continuous_scale=px.colors.diverging.RdYlGn[::-1])\n",
    "fig.show()"
   ]
  },
  {
   "cell_type": "code",
   "execution_count": null,
   "metadata": {},
   "outputs": [],
   "source": []
  }
 ],
 "metadata": {
  "kernelspec": {
   "display_name": "Python 3",
   "language": "python",
   "name": "python3"
  },
  "language_info": {
   "codemirror_mode": {
    "name": "ipython",
    "version": 3
   },
   "file_extension": ".py",
   "mimetype": "text/x-python",
   "name": "python",
   "nbconvert_exporter": "python",
   "pygments_lexer": "ipython3",
   "version": "3.8.10"
  }
 },
 "nbformat": 4,
 "nbformat_minor": 4
}
