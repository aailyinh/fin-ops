{
 "cells": [
  {
   "cell_type": "markdown",
   "metadata": {},
   "source": [
    "## III - Неопределенность оптимального портфеля. Оптимизация CVaR. \n",
    "\n",
    "Целью работы является оценка неопределенности оптимального портфеля для нормального многомерного распределения и двух способов вычисления оптимального портфеля (оптимизация в модели Марковица и оптимизация CVaR)"
   ]
  },
  {
   "cell_type": "markdown",
   "metadata": {},
   "source": [
    "### Подготовка модели"
   ]
  },
  {
   "cell_type": "markdown",
   "metadata": {},
   "source": [
    "#### Загружаем тикеры с фоднового рынка NASDAQ"
   ]
  },
  {
   "cell_type": "code",
   "execution_count": 27,
   "metadata": {},
   "outputs": [
    {
     "data": {
      "text/html": [
       "<div>\n",
       "<style scoped>\n",
       "    .dataframe tbody tr th:only-of-type {\n",
       "        vertical-align: middle;\n",
       "    }\n",
       "\n",
       "    .dataframe tbody tr th {\n",
       "        vertical-align: top;\n",
       "    }\n",
       "\n",
       "    .dataframe thead th {\n",
       "        text-align: right;\n",
       "    }\n",
       "</style>\n",
       "<table border=\"1\" class=\"dataframe\">\n",
       "  <thead>\n",
       "    <tr style=\"text-align: right;\">\n",
       "      <th></th>\n",
       "      <th>ticker</th>\n",
       "      <th>company</th>\n",
       "    </tr>\n",
       "  </thead>\n",
       "  <tbody>\n",
       "    <tr>\n",
       "      <th>0</th>\n",
       "      <td>AAIT</td>\n",
       "      <td>iShares MSCI All Country Asia Information Tech...</td>\n",
       "    </tr>\n",
       "    <tr>\n",
       "      <th>1</th>\n",
       "      <td>AAL</td>\n",
       "      <td>American Airlines Group, Inc.</td>\n",
       "    </tr>\n",
       "    <tr>\n",
       "      <th>2</th>\n",
       "      <td>AAME</td>\n",
       "      <td>Atlantic American Corporation</td>\n",
       "    </tr>\n",
       "    <tr>\n",
       "      <th>3</th>\n",
       "      <td>AAOI</td>\n",
       "      <td>Applied Optoelectronics, Inc.</td>\n",
       "    </tr>\n",
       "    <tr>\n",
       "      <th>4</th>\n",
       "      <td>AAON</td>\n",
       "      <td>AAON, Inc.</td>\n",
       "    </tr>\n",
       "    <tr>\n",
       "      <th>...</th>\n",
       "      <td>...</td>\n",
       "      <td>...</td>\n",
       "    </tr>\n",
       "    <tr>\n",
       "      <th>2962</th>\n",
       "      <td>ZN</td>\n",
       "      <td>Zion Oil &amp; Gas Inc</td>\n",
       "    </tr>\n",
       "    <tr>\n",
       "      <th>2963</th>\n",
       "      <td>ZNGA</td>\n",
       "      <td>Zynga Inc.</td>\n",
       "    </tr>\n",
       "    <tr>\n",
       "      <th>2964</th>\n",
       "      <td>ZSPH</td>\n",
       "      <td>ZS Pharma, Inc.</td>\n",
       "    </tr>\n",
       "    <tr>\n",
       "      <th>2965</th>\n",
       "      <td>ZU</td>\n",
       "      <td>zulily, inc.</td>\n",
       "    </tr>\n",
       "    <tr>\n",
       "      <th>2966</th>\n",
       "      <td>ZUMZ</td>\n",
       "      <td>Zumiez Inc.</td>\n",
       "    </tr>\n",
       "  </tbody>\n",
       "</table>\n",
       "<p>2967 rows × 2 columns</p>\n",
       "</div>"
      ],
      "text/plain": [
       "     ticker                                            company\n",
       "0      AAIT  iShares MSCI All Country Asia Information Tech...\n",
       "1       AAL                      American Airlines Group, Inc.\n",
       "2      AAME                      Atlantic American Corporation\n",
       "3      AAOI                      Applied Optoelectronics, Inc.\n",
       "4      AAON                                         AAON, Inc.\n",
       "...     ...                                                ...\n",
       "2962     ZN                                 Zion Oil & Gas Inc\n",
       "2963   ZNGA                                         Zynga Inc.\n",
       "2964   ZSPH                                    ZS Pharma, Inc.\n",
       "2965     ZU                                       zulily, inc.\n",
       "2966   ZUMZ                                        Zumiez Inc.\n",
       "\n",
       "[2967 rows x 2 columns]"
      ]
     },
     "execution_count": 27,
     "metadata": {},
     "output_type": "execute_result"
    }
   ],
   "source": [
    "import pandas as pd\n",
    "import numpy as np\n",
    "\n",
    "DATA_PATH    = './downloader-data'\n",
    "TICKERS_PATH = './tickers'\n",
    "\n",
    "def read_tickers(stock_markets) -> pd.DataFrame:\n",
    "    '''Returns pandas dataframe containing all tickers for the @stock_markets '''\n",
    "    ticker_files = [f'{TICKERS_PATH}/{sm}.csv' for sm in stock_markets]\n",
    "    tickers = pd.concat([pd.read_csv(tf) for tf in ticker_files], ignore_index=True)\n",
    "    return tickers\n",
    "\n",
    "\n",
    "stock_markets = ['NASDAQ']\n",
    "tickers = read_tickers(stock_markets)\n",
    "tickers"
   ]
  },
  {
   "cell_type": "markdown",
   "metadata": {},
   "source": [
    "#### Загружаем исторические данные за 2021 год для полученных тикеров"
   ]
  },
  {
   "cell_type": "code",
   "execution_count": 28,
   "metadata": {},
   "outputs": [],
   "source": [
    "def read_historical_data(tickers):\n",
    "    '''Returns dict {ticker : historical data for the ticker}'''\n",
    "    data_for_ticker = {}\n",
    "    for index, (ticker, name) in tickers.iterrows():\n",
    "        try:\n",
    "            data = pd.read_csv(f'{DATA_PATH}/{ticker}.csv')\n",
    "            if len(data) > 100:\n",
    "                data_for_ticker[ticker] = data\n",
    "        except:\n",
    "            pass\n",
    "    return data_for_ticker\n",
    "\n",
    "\n",
    "data_for_ticker = read_historical_data(tickers)"
   ]
  },
  {
   "cell_type": "markdown",
   "metadata": {},
   "source": [
    "#### Пример данных для AAPL:"
   ]
  },
  {
   "cell_type": "code",
   "execution_count": 29,
   "metadata": {},
   "outputs": [
    {
     "data": {
      "text/html": [
       "<div>\n",
       "<style scoped>\n",
       "    .dataframe tbody tr th:only-of-type {\n",
       "        vertical-align: middle;\n",
       "    }\n",
       "\n",
       "    .dataframe tbody tr th {\n",
       "        vertical-align: top;\n",
       "    }\n",
       "\n",
       "    .dataframe thead th {\n",
       "        text-align: right;\n",
       "    }\n",
       "</style>\n",
       "<table border=\"1\" class=\"dataframe\">\n",
       "  <thead>\n",
       "    <tr style=\"text-align: right;\">\n",
       "      <th></th>\n",
       "      <th>Date</th>\n",
       "      <th>Open</th>\n",
       "      <th>High</th>\n",
       "      <th>Low</th>\n",
       "      <th>Close</th>\n",
       "      <th>Volume</th>\n",
       "      <th>Dividends</th>\n",
       "      <th>Stock Splits</th>\n",
       "    </tr>\n",
       "  </thead>\n",
       "  <tbody>\n",
       "    <tr>\n",
       "      <th>0</th>\n",
       "      <td>2020-11-30</td>\n",
       "      <td>116.597423</td>\n",
       "      <td>120.584682</td>\n",
       "      <td>116.437929</td>\n",
       "      <td>118.670799</td>\n",
       "      <td>169410200</td>\n",
       "      <td>0.0</td>\n",
       "      <td>0</td>\n",
       "    </tr>\n",
       "    <tr>\n",
       "      <th>1</th>\n",
       "      <td>2020-12-01</td>\n",
       "      <td>120.624557</td>\n",
       "      <td>123.076720</td>\n",
       "      <td>119.627742</td>\n",
       "      <td>122.329109</td>\n",
       "      <td>127728200</td>\n",
       "      <td>0.0</td>\n",
       "      <td>0</td>\n",
       "    </tr>\n",
       "    <tr>\n",
       "      <th>2</th>\n",
       "      <td>2020-12-02</td>\n",
       "      <td>121.631329</td>\n",
       "      <td>122.977035</td>\n",
       "      <td>120.504931</td>\n",
       "      <td>122.687958</td>\n",
       "      <td>89004200</td>\n",
       "      <td>0.0</td>\n",
       "      <td>0</td>\n",
       "    </tr>\n",
       "    <tr>\n",
       "      <th>3</th>\n",
       "      <td>2020-12-03</td>\n",
       "      <td>123.126555</td>\n",
       "      <td>123.385729</td>\n",
       "      <td>121.820730</td>\n",
       "      <td>122.548409</td>\n",
       "      <td>78967600</td>\n",
       "      <td>0.0</td>\n",
       "      <td>0</td>\n",
       "    </tr>\n",
       "    <tr>\n",
       "      <th>4</th>\n",
       "      <td>2020-12-04</td>\n",
       "      <td>122.209495</td>\n",
       "      <td>122.468669</td>\n",
       "      <td>121.132933</td>\n",
       "      <td>121.860611</td>\n",
       "      <td>78260400</td>\n",
       "      <td>0.0</td>\n",
       "      <td>0</td>\n",
       "    </tr>\n",
       "    <tr>\n",
       "      <th>...</th>\n",
       "      <td>...</td>\n",
       "      <td>...</td>\n",
       "      <td>...</td>\n",
       "      <td>...</td>\n",
       "      <td>...</td>\n",
       "      <td>...</td>\n",
       "      <td>...</td>\n",
       "      <td>...</td>\n",
       "    </tr>\n",
       "    <tr>\n",
       "      <th>248</th>\n",
       "      <td>2021-11-23</td>\n",
       "      <td>161.119995</td>\n",
       "      <td>161.800003</td>\n",
       "      <td>159.059998</td>\n",
       "      <td>161.410004</td>\n",
       "      <td>96041900</td>\n",
       "      <td>0.0</td>\n",
       "      <td>0</td>\n",
       "    </tr>\n",
       "    <tr>\n",
       "      <th>249</th>\n",
       "      <td>2021-11-24</td>\n",
       "      <td>160.750000</td>\n",
       "      <td>162.139999</td>\n",
       "      <td>159.639999</td>\n",
       "      <td>161.940002</td>\n",
       "      <td>69463600</td>\n",
       "      <td>0.0</td>\n",
       "      <td>0</td>\n",
       "    </tr>\n",
       "    <tr>\n",
       "      <th>250</th>\n",
       "      <td>2021-11-26</td>\n",
       "      <td>159.570007</td>\n",
       "      <td>160.449997</td>\n",
       "      <td>156.360001</td>\n",
       "      <td>156.809998</td>\n",
       "      <td>76959800</td>\n",
       "      <td>0.0</td>\n",
       "      <td>0</td>\n",
       "    </tr>\n",
       "    <tr>\n",
       "      <th>251</th>\n",
       "      <td>2021-11-29</td>\n",
       "      <td>159.369995</td>\n",
       "      <td>161.190002</td>\n",
       "      <td>158.789993</td>\n",
       "      <td>160.240005</td>\n",
       "      <td>88748200</td>\n",
       "      <td>0.0</td>\n",
       "      <td>0</td>\n",
       "    </tr>\n",
       "    <tr>\n",
       "      <th>252</th>\n",
       "      <td>2021-11-30</td>\n",
       "      <td>159.990005</td>\n",
       "      <td>165.520004</td>\n",
       "      <td>159.919998</td>\n",
       "      <td>165.300003</td>\n",
       "      <td>174048100</td>\n",
       "      <td>0.0</td>\n",
       "      <td>0</td>\n",
       "    </tr>\n",
       "  </tbody>\n",
       "</table>\n",
       "<p>253 rows × 8 columns</p>\n",
       "</div>"
      ],
      "text/plain": [
       "           Date        Open        High         Low       Close     Volume  \\\n",
       "0    2020-11-30  116.597423  120.584682  116.437929  118.670799  169410200   \n",
       "1    2020-12-01  120.624557  123.076720  119.627742  122.329109  127728200   \n",
       "2    2020-12-02  121.631329  122.977035  120.504931  122.687958   89004200   \n",
       "3    2020-12-03  123.126555  123.385729  121.820730  122.548409   78967600   \n",
       "4    2020-12-04  122.209495  122.468669  121.132933  121.860611   78260400   \n",
       "..          ...         ...         ...         ...         ...        ...   \n",
       "248  2021-11-23  161.119995  161.800003  159.059998  161.410004   96041900   \n",
       "249  2021-11-24  160.750000  162.139999  159.639999  161.940002   69463600   \n",
       "250  2021-11-26  159.570007  160.449997  156.360001  156.809998   76959800   \n",
       "251  2021-11-29  159.369995  161.190002  158.789993  160.240005   88748200   \n",
       "252  2021-11-30  159.990005  165.520004  159.919998  165.300003  174048100   \n",
       "\n",
       "     Dividends  Stock Splits  \n",
       "0          0.0             0  \n",
       "1          0.0             0  \n",
       "2          0.0             0  \n",
       "3          0.0             0  \n",
       "4          0.0             0  \n",
       "..         ...           ...  \n",
       "248        0.0             0  \n",
       "249        0.0             0  \n",
       "250        0.0             0  \n",
       "251        0.0             0  \n",
       "252        0.0             0  \n",
       "\n",
       "[253 rows x 8 columns]"
      ]
     },
     "execution_count": 29,
     "metadata": {},
     "output_type": "execute_result"
    }
   ],
   "source": [
    "data_for_ticker['AAPL']"
   ]
  },
  {
   "cell_type": "markdown",
   "metadata": {},
   "source": [
    "#### Выбираем 20 активов"
   ]
  },
  {
   "cell_type": "code",
   "execution_count": 30,
   "metadata": {},
   "outputs": [],
   "source": [
    "assets = ['MDLZ', 'MSFT', 'NXPI', 'PCAR', 'INTC',\n",
    "          'NVDA', 'ILMN', 'DXCM', 'ROST', 'LULU',\n",
    "          'PRFT', 'FTNT', 'WIRE', 'NFLX', 'GAIN',\n",
    "          'SYNA', 'NYMTP', 'ANAT', 'TRNS', 'SFBS']\n",
    "\n",
    "assets_data = {}\n",
    "for asset in assets:\n",
    "    assets_data[asset] = data_for_ticker[asset]"
   ]
  },
  {
   "cell_type": "markdown",
   "metadata": {},
   "source": [
    "#### Оцениваем математические ожидания доходностей"
   ]
  },
  {
   "cell_type": "code",
   "execution_count": 31,
   "metadata": {},
   "outputs": [
    {
     "data": {
      "text/html": [
       "<div>\n",
       "<style scoped>\n",
       "    .dataframe tbody tr th:only-of-type {\n",
       "        vertical-align: middle;\n",
       "    }\n",
       "\n",
       "    .dataframe tbody tr th {\n",
       "        vertical-align: top;\n",
       "    }\n",
       "\n",
       "    .dataframe thead th {\n",
       "        text-align: right;\n",
       "    }\n",
       "</style>\n",
       "<table border=\"1\" class=\"dataframe\">\n",
       "  <thead>\n",
       "    <tr style=\"text-align: right;\">\n",
       "      <th></th>\n",
       "      <th>logret_mean</th>\n",
       "      <th>logret_std</th>\n",
       "    </tr>\n",
       "    <tr>\n",
       "      <th>ticker</th>\n",
       "      <th></th>\n",
       "      <th></th>\n",
       "    </tr>\n",
       "  </thead>\n",
       "  <tbody>\n",
       "    <tr>\n",
       "      <th>MDLZ</th>\n",
       "      <td>0.000164</td>\n",
       "      <td>0.009635</td>\n",
       "    </tr>\n",
       "    <tr>\n",
       "      <th>MSFT</th>\n",
       "      <td>0.001743</td>\n",
       "      <td>0.012638</td>\n",
       "    </tr>\n",
       "    <tr>\n",
       "      <th>NXPI</th>\n",
       "      <td>0.001406</td>\n",
       "      <td>0.023336</td>\n",
       "    </tr>\n",
       "    <tr>\n",
       "      <th>PCAR</th>\n",
       "      <td>-0.000078</td>\n",
       "      <td>0.015266</td>\n",
       "    </tr>\n",
       "    <tr>\n",
       "      <th>INTC</th>\n",
       "      <td>0.000118</td>\n",
       "      <td>0.020613</td>\n",
       "    </tr>\n",
       "    <tr>\n",
       "      <th>NVDA</th>\n",
       "      <td>0.003541</td>\n",
       "      <td>0.025897</td>\n",
       "    </tr>\n",
       "    <tr>\n",
       "      <th>ILMN</th>\n",
       "      <td>0.000500</td>\n",
       "      <td>0.020907</td>\n",
       "    </tr>\n",
       "    <tr>\n",
       "      <th>DXCM</th>\n",
       "      <td>0.002243</td>\n",
       "      <td>0.022329</td>\n",
       "    </tr>\n",
       "    <tr>\n",
       "      <th>ROST</th>\n",
       "      <td>0.000076</td>\n",
       "      <td>0.018766</td>\n",
       "    </tr>\n",
       "    <tr>\n",
       "      <th>LULU</th>\n",
       "      <td>0.000813</td>\n",
       "      <td>0.019451</td>\n",
       "    </tr>\n",
       "    <tr>\n",
       "      <th>PRFT</th>\n",
       "      <td>0.004372</td>\n",
       "      <td>0.019522</td>\n",
       "    </tr>\n",
       "    <tr>\n",
       "      <th>FTNT</th>\n",
       "      <td>0.003934</td>\n",
       "      <td>0.020082</td>\n",
       "    </tr>\n",
       "    <tr>\n",
       "      <th>WIRE</th>\n",
       "      <td>0.003972</td>\n",
       "      <td>0.020636</td>\n",
       "    </tr>\n",
       "    <tr>\n",
       "      <th>NFLX</th>\n",
       "      <td>0.001066</td>\n",
       "      <td>0.020079</td>\n",
       "    </tr>\n",
       "    <tr>\n",
       "      <th>GAIN</th>\n",
       "      <td>0.002227</td>\n",
       "      <td>0.011634</td>\n",
       "    </tr>\n",
       "    <tr>\n",
       "      <th>SYNA</th>\n",
       "      <td>0.005115</td>\n",
       "      <td>0.026729</td>\n",
       "    </tr>\n",
       "    <tr>\n",
       "      <th>NYMTP</th>\n",
       "      <td>0.000888</td>\n",
       "      <td>0.004644</td>\n",
       "    </tr>\n",
       "    <tr>\n",
       "      <th>ANAT</th>\n",
       "      <td>0.003281</td>\n",
       "      <td>0.017516</td>\n",
       "    </tr>\n",
       "    <tr>\n",
       "      <th>TRNS</th>\n",
       "      <td>0.004095</td>\n",
       "      <td>0.023198</td>\n",
       "    </tr>\n",
       "    <tr>\n",
       "      <th>SFBS</th>\n",
       "      <td>0.003041</td>\n",
       "      <td>0.017834</td>\n",
       "    </tr>\n",
       "  </tbody>\n",
       "</table>\n",
       "</div>"
      ],
      "text/plain": [
       "        logret_mean  logret_std\n",
       "ticker                         \n",
       "MDLZ       0.000164    0.009635\n",
       "MSFT       0.001743    0.012638\n",
       "NXPI       0.001406    0.023336\n",
       "PCAR      -0.000078    0.015266\n",
       "INTC       0.000118    0.020613\n",
       "NVDA       0.003541    0.025897\n",
       "ILMN       0.000500    0.020907\n",
       "DXCM       0.002243    0.022329\n",
       "ROST       0.000076    0.018766\n",
       "LULU       0.000813    0.019451\n",
       "PRFT       0.004372    0.019522\n",
       "FTNT       0.003934    0.020082\n",
       "WIRE       0.003972    0.020636\n",
       "NFLX       0.001066    0.020079\n",
       "GAIN       0.002227    0.011634\n",
       "SYNA       0.005115    0.026729\n",
       "NYMTP      0.000888    0.004644\n",
       "ANAT       0.003281    0.017516\n",
       "TRNS       0.004095    0.023198\n",
       "SFBS       0.003041    0.017834"
      ]
     },
     "execution_count": 31,
     "metadata": {},
     "output_type": "execute_result"
    }
   ],
   "source": [
    "import pandas as pd\n",
    "import numpy as np\n",
    "\n",
    "def add_logret(ticker_data: pd.DataFrame, by_column='Close') -> pd.DataFrame:\n",
    "    '''Returns @ticker_data with calculated \"logret\" and \"-logret\" columns'''\n",
    "    ticker_data = ticker_data.assign(logret=np.log(ticker_data[by_column]).diff())\n",
    "    ticker_data['-logret'] = ticker_data['logret'].mul(-1)\n",
    "    return ticker_data\n",
    "\n",
    "\n",
    "def get_logret_mean_std(tickers, data_map, by_column='Close') -> pd.DataFrame:\n",
    "    '''Returns @result pd.DataFrame such that @result.loc[ticker] == [logret_mean, logret_std]'''\n",
    "    result = pd.DataFrame(data=[], columns=['ticker', 'logret_mean', 'logret_std'])\n",
    "    result.set_index('ticker', inplace=True)\n",
    "\n",
    "    for ticker in tickers:\n",
    "        ticker_data = data_map[ticker]\n",
    "        ticker_logret = np.log(ticker_data[by_column]).diff()\n",
    "        result.loc[ticker] = [ticker_logret.mean(), ticker_logret.std()]\n",
    "    \n",
    "    return result\n",
    "  \n",
    "\n",
    "for ticker in assets_data.keys():\n",
    "    assets_data[ticker] = add_logret(assets_data[ticker])\n",
    "\n",
    "estims = get_logret_mean_std(assets, assets_data)\n",
    "estims"
   ]
  },
  {
   "cell_type": "markdown",
   "metadata": {},
   "source": [
    "#### Находим матрицу выборочных ковариаций доходностей "
   ]
  },
  {
   "cell_type": "code",
   "execution_count": 32,
   "metadata": {},
   "outputs": [
    {
     "data": {
      "text/html": [
       "<div>\n",
       "<style scoped>\n",
       "    .dataframe tbody tr th:only-of-type {\n",
       "        vertical-align: middle;\n",
       "    }\n",
       "\n",
       "    .dataframe tbody tr th {\n",
       "        vertical-align: top;\n",
       "    }\n",
       "\n",
       "    .dataframe thead th {\n",
       "        text-align: right;\n",
       "    }\n",
       "</style>\n",
       "<table border=\"1\" class=\"dataframe\">\n",
       "  <thead>\n",
       "    <tr style=\"text-align: right;\">\n",
       "      <th></th>\n",
       "      <th>MDLZ</th>\n",
       "      <th>MSFT</th>\n",
       "      <th>NXPI</th>\n",
       "      <th>PCAR</th>\n",
       "      <th>INTC</th>\n",
       "      <th>NVDA</th>\n",
       "      <th>ILMN</th>\n",
       "      <th>DXCM</th>\n",
       "      <th>ROST</th>\n",
       "      <th>LULU</th>\n",
       "      <th>PRFT</th>\n",
       "      <th>FTNT</th>\n",
       "      <th>WIRE</th>\n",
       "      <th>NFLX</th>\n",
       "      <th>GAIN</th>\n",
       "      <th>SYNA</th>\n",
       "      <th>NYMTP</th>\n",
       "      <th>ANAT</th>\n",
       "      <th>TRNS</th>\n",
       "      <th>SFBS</th>\n",
       "    </tr>\n",
       "  </thead>\n",
       "  <tbody>\n",
       "    <tr>\n",
       "      <th>MDLZ</th>\n",
       "      <td>1.000000</td>\n",
       "      <td>0.260625</td>\n",
       "      <td>0.136202</td>\n",
       "      <td>0.166086</td>\n",
       "      <td>0.128461</td>\n",
       "      <td>0.071711</td>\n",
       "      <td>0.106817</td>\n",
       "      <td>0.121394</td>\n",
       "      <td>0.320069</td>\n",
       "      <td>0.200534</td>\n",
       "      <td>0.142022</td>\n",
       "      <td>0.184870</td>\n",
       "      <td>0.108808</td>\n",
       "      <td>0.183858</td>\n",
       "      <td>0.145688</td>\n",
       "      <td>0.074572</td>\n",
       "      <td>-0.016072</td>\n",
       "      <td>0.090393</td>\n",
       "      <td>0.076097</td>\n",
       "      <td>0.188254</td>\n",
       "    </tr>\n",
       "    <tr>\n",
       "      <th>MSFT</th>\n",
       "      <td>0.260625</td>\n",
       "      <td>1.000000</td>\n",
       "      <td>0.435936</td>\n",
       "      <td>0.129668</td>\n",
       "      <td>0.343282</td>\n",
       "      <td>0.563342</td>\n",
       "      <td>0.365982</td>\n",
       "      <td>0.396934</td>\n",
       "      <td>0.237147</td>\n",
       "      <td>0.369962</td>\n",
       "      <td>0.340569</td>\n",
       "      <td>0.520006</td>\n",
       "      <td>0.156858</td>\n",
       "      <td>0.460941</td>\n",
       "      <td>0.266493</td>\n",
       "      <td>0.374816</td>\n",
       "      <td>0.088876</td>\n",
       "      <td>-0.054785</td>\n",
       "      <td>0.171884</td>\n",
       "      <td>0.002140</td>\n",
       "    </tr>\n",
       "    <tr>\n",
       "      <th>NXPI</th>\n",
       "      <td>0.136202</td>\n",
       "      <td>0.435936</td>\n",
       "      <td>1.000000</td>\n",
       "      <td>0.314621</td>\n",
       "      <td>0.518692</td>\n",
       "      <td>0.567564</td>\n",
       "      <td>0.348801</td>\n",
       "      <td>0.352195</td>\n",
       "      <td>0.347588</td>\n",
       "      <td>0.422580</td>\n",
       "      <td>0.419310</td>\n",
       "      <td>0.465200</td>\n",
       "      <td>0.366023</td>\n",
       "      <td>0.232486</td>\n",
       "      <td>0.300793</td>\n",
       "      <td>0.576943</td>\n",
       "      <td>0.114702</td>\n",
       "      <td>0.194865</td>\n",
       "      <td>0.201715</td>\n",
       "      <td>0.371353</td>\n",
       "    </tr>\n",
       "    <tr>\n",
       "      <th>PCAR</th>\n",
       "      <td>0.166086</td>\n",
       "      <td>0.129668</td>\n",
       "      <td>0.314621</td>\n",
       "      <td>1.000000</td>\n",
       "      <td>0.285791</td>\n",
       "      <td>0.146135</td>\n",
       "      <td>0.077887</td>\n",
       "      <td>0.024713</td>\n",
       "      <td>0.310914</td>\n",
       "      <td>0.112148</td>\n",
       "      <td>0.185204</td>\n",
       "      <td>0.087999</td>\n",
       "      <td>0.327231</td>\n",
       "      <td>-0.011242</td>\n",
       "      <td>0.357433</td>\n",
       "      <td>0.209517</td>\n",
       "      <td>0.091692</td>\n",
       "      <td>0.189116</td>\n",
       "      <td>0.160347</td>\n",
       "      <td>0.414896</td>\n",
       "    </tr>\n",
       "    <tr>\n",
       "      <th>INTC</th>\n",
       "      <td>0.128461</td>\n",
       "      <td>0.343282</td>\n",
       "      <td>0.518692</td>\n",
       "      <td>0.285791</td>\n",
       "      <td>1.000000</td>\n",
       "      <td>0.352533</td>\n",
       "      <td>0.238309</td>\n",
       "      <td>0.220853</td>\n",
       "      <td>0.287966</td>\n",
       "      <td>0.255882</td>\n",
       "      <td>0.231893</td>\n",
       "      <td>0.245138</td>\n",
       "      <td>0.141588</td>\n",
       "      <td>0.236885</td>\n",
       "      <td>0.280478</td>\n",
       "      <td>0.366278</td>\n",
       "      <td>0.132862</td>\n",
       "      <td>0.064409</td>\n",
       "      <td>0.115456</td>\n",
       "      <td>0.216980</td>\n",
       "    </tr>\n",
       "    <tr>\n",
       "      <th>NVDA</th>\n",
       "      <td>0.071711</td>\n",
       "      <td>0.563342</td>\n",
       "      <td>0.567564</td>\n",
       "      <td>0.146135</td>\n",
       "      <td>0.352533</td>\n",
       "      <td>1.000000</td>\n",
       "      <td>0.296262</td>\n",
       "      <td>0.351007</td>\n",
       "      <td>0.154648</td>\n",
       "      <td>0.415916</td>\n",
       "      <td>0.425477</td>\n",
       "      <td>0.490961</td>\n",
       "      <td>0.093375</td>\n",
       "      <td>0.356414</td>\n",
       "      <td>0.243640</td>\n",
       "      <td>0.441977</td>\n",
       "      <td>0.087635</td>\n",
       "      <td>-0.070881</td>\n",
       "      <td>0.113711</td>\n",
       "      <td>-0.013629</td>\n",
       "    </tr>\n",
       "    <tr>\n",
       "      <th>ILMN</th>\n",
       "      <td>0.106817</td>\n",
       "      <td>0.365982</td>\n",
       "      <td>0.348801</td>\n",
       "      <td>0.077887</td>\n",
       "      <td>0.238309</td>\n",
       "      <td>0.296262</td>\n",
       "      <td>1.000000</td>\n",
       "      <td>0.433226</td>\n",
       "      <td>0.030674</td>\n",
       "      <td>0.326248</td>\n",
       "      <td>0.271251</td>\n",
       "      <td>0.369235</td>\n",
       "      <td>0.078505</td>\n",
       "      <td>0.249747</td>\n",
       "      <td>0.162399</td>\n",
       "      <td>0.236065</td>\n",
       "      <td>0.031524</td>\n",
       "      <td>0.025273</td>\n",
       "      <td>0.094362</td>\n",
       "      <td>0.011555</td>\n",
       "    </tr>\n",
       "    <tr>\n",
       "      <th>DXCM</th>\n",
       "      <td>0.121394</td>\n",
       "      <td>0.396934</td>\n",
       "      <td>0.352195</td>\n",
       "      <td>0.024713</td>\n",
       "      <td>0.220853</td>\n",
       "      <td>0.351007</td>\n",
       "      <td>0.433226</td>\n",
       "      <td>1.000000</td>\n",
       "      <td>0.161316</td>\n",
       "      <td>0.370966</td>\n",
       "      <td>0.193181</td>\n",
       "      <td>0.345706</td>\n",
       "      <td>0.067249</td>\n",
       "      <td>0.343953</td>\n",
       "      <td>0.184725</td>\n",
       "      <td>0.343466</td>\n",
       "      <td>-0.024543</td>\n",
       "      <td>0.041092</td>\n",
       "      <td>0.198570</td>\n",
       "      <td>0.015732</td>\n",
       "    </tr>\n",
       "    <tr>\n",
       "      <th>ROST</th>\n",
       "      <td>0.320069</td>\n",
       "      <td>0.237147</td>\n",
       "      <td>0.347588</td>\n",
       "      <td>0.310914</td>\n",
       "      <td>0.287966</td>\n",
       "      <td>0.154648</td>\n",
       "      <td>0.030674</td>\n",
       "      <td>0.161316</td>\n",
       "      <td>1.000000</td>\n",
       "      <td>0.287834</td>\n",
       "      <td>0.314949</td>\n",
       "      <td>0.218192</td>\n",
       "      <td>0.409139</td>\n",
       "      <td>0.082407</td>\n",
       "      <td>0.331344</td>\n",
       "      <td>0.318590</td>\n",
       "      <td>-0.018868</td>\n",
       "      <td>0.234797</td>\n",
       "      <td>0.131619</td>\n",
       "      <td>0.430977</td>\n",
       "    </tr>\n",
       "    <tr>\n",
       "      <th>LULU</th>\n",
       "      <td>0.200534</td>\n",
       "      <td>0.369962</td>\n",
       "      <td>0.422580</td>\n",
       "      <td>0.112148</td>\n",
       "      <td>0.255882</td>\n",
       "      <td>0.415916</td>\n",
       "      <td>0.326248</td>\n",
       "      <td>0.370966</td>\n",
       "      <td>0.287834</td>\n",
       "      <td>1.000000</td>\n",
       "      <td>0.315082</td>\n",
       "      <td>0.393846</td>\n",
       "      <td>0.156097</td>\n",
       "      <td>0.306344</td>\n",
       "      <td>0.189652</td>\n",
       "      <td>0.252620</td>\n",
       "      <td>-0.010867</td>\n",
       "      <td>0.026117</td>\n",
       "      <td>0.062358</td>\n",
       "      <td>0.081343</td>\n",
       "    </tr>\n",
       "    <tr>\n",
       "      <th>PRFT</th>\n",
       "      <td>0.142022</td>\n",
       "      <td>0.340569</td>\n",
       "      <td>0.419310</td>\n",
       "      <td>0.185204</td>\n",
       "      <td>0.231893</td>\n",
       "      <td>0.425477</td>\n",
       "      <td>0.271251</td>\n",
       "      <td>0.193181</td>\n",
       "      <td>0.314949</td>\n",
       "      <td>0.315082</td>\n",
       "      <td>1.000000</td>\n",
       "      <td>0.404102</td>\n",
       "      <td>0.311983</td>\n",
       "      <td>0.146573</td>\n",
       "      <td>0.282474</td>\n",
       "      <td>0.281067</td>\n",
       "      <td>0.013072</td>\n",
       "      <td>0.180417</td>\n",
       "      <td>0.165694</td>\n",
       "      <td>0.263090</td>\n",
       "    </tr>\n",
       "    <tr>\n",
       "      <th>FTNT</th>\n",
       "      <td>0.184870</td>\n",
       "      <td>0.520006</td>\n",
       "      <td>0.465200</td>\n",
       "      <td>0.087999</td>\n",
       "      <td>0.245138</td>\n",
       "      <td>0.490961</td>\n",
       "      <td>0.369235</td>\n",
       "      <td>0.345706</td>\n",
       "      <td>0.218192</td>\n",
       "      <td>0.393846</td>\n",
       "      <td>0.404102</td>\n",
       "      <td>1.000000</td>\n",
       "      <td>0.131050</td>\n",
       "      <td>0.349456</td>\n",
       "      <td>0.223279</td>\n",
       "      <td>0.355171</td>\n",
       "      <td>0.085483</td>\n",
       "      <td>-0.031051</td>\n",
       "      <td>0.146425</td>\n",
       "      <td>0.046685</td>\n",
       "    </tr>\n",
       "    <tr>\n",
       "      <th>WIRE</th>\n",
       "      <td>0.108808</td>\n",
       "      <td>0.156858</td>\n",
       "      <td>0.366023</td>\n",
       "      <td>0.327231</td>\n",
       "      <td>0.141588</td>\n",
       "      <td>0.093375</td>\n",
       "      <td>0.078505</td>\n",
       "      <td>0.067249</td>\n",
       "      <td>0.409139</td>\n",
       "      <td>0.156097</td>\n",
       "      <td>0.311983</td>\n",
       "      <td>0.131050</td>\n",
       "      <td>1.000000</td>\n",
       "      <td>-0.034738</td>\n",
       "      <td>0.236880</td>\n",
       "      <td>0.328816</td>\n",
       "      <td>-0.028350</td>\n",
       "      <td>0.253435</td>\n",
       "      <td>0.254466</td>\n",
       "      <td>0.521444</td>\n",
       "    </tr>\n",
       "    <tr>\n",
       "      <th>NFLX</th>\n",
       "      <td>0.183858</td>\n",
       "      <td>0.460941</td>\n",
       "      <td>0.232486</td>\n",
       "      <td>-0.011242</td>\n",
       "      <td>0.236885</td>\n",
       "      <td>0.356414</td>\n",
       "      <td>0.249747</td>\n",
       "      <td>0.343953</td>\n",
       "      <td>0.082407</td>\n",
       "      <td>0.306344</td>\n",
       "      <td>0.146573</td>\n",
       "      <td>0.349456</td>\n",
       "      <td>-0.034738</td>\n",
       "      <td>1.000000</td>\n",
       "      <td>0.094362</td>\n",
       "      <td>0.129942</td>\n",
       "      <td>0.036310</td>\n",
       "      <td>-0.003483</td>\n",
       "      <td>0.066057</td>\n",
       "      <td>-0.050857</td>\n",
       "    </tr>\n",
       "    <tr>\n",
       "      <th>GAIN</th>\n",
       "      <td>0.145688</td>\n",
       "      <td>0.266493</td>\n",
       "      <td>0.300793</td>\n",
       "      <td>0.357433</td>\n",
       "      <td>0.280478</td>\n",
       "      <td>0.243640</td>\n",
       "      <td>0.162399</td>\n",
       "      <td>0.184725</td>\n",
       "      <td>0.331344</td>\n",
       "      <td>0.189652</td>\n",
       "      <td>0.282474</td>\n",
       "      <td>0.223279</td>\n",
       "      <td>0.236880</td>\n",
       "      <td>0.094362</td>\n",
       "      <td>1.000000</td>\n",
       "      <td>0.301414</td>\n",
       "      <td>0.193952</td>\n",
       "      <td>0.061648</td>\n",
       "      <td>0.214583</td>\n",
       "      <td>0.320609</td>\n",
       "    </tr>\n",
       "    <tr>\n",
       "      <th>SYNA</th>\n",
       "      <td>0.074572</td>\n",
       "      <td>0.374816</td>\n",
       "      <td>0.576943</td>\n",
       "      <td>0.209517</td>\n",
       "      <td>0.366278</td>\n",
       "      <td>0.441977</td>\n",
       "      <td>0.236065</td>\n",
       "      <td>0.343466</td>\n",
       "      <td>0.318590</td>\n",
       "      <td>0.252620</td>\n",
       "      <td>0.281067</td>\n",
       "      <td>0.355171</td>\n",
       "      <td>0.328816</td>\n",
       "      <td>0.129942</td>\n",
       "      <td>0.301414</td>\n",
       "      <td>1.000000</td>\n",
       "      <td>0.150285</td>\n",
       "      <td>0.092474</td>\n",
       "      <td>0.215121</td>\n",
       "      <td>0.289147</td>\n",
       "    </tr>\n",
       "    <tr>\n",
       "      <th>NYMTP</th>\n",
       "      <td>-0.016072</td>\n",
       "      <td>0.088876</td>\n",
       "      <td>0.114702</td>\n",
       "      <td>0.091692</td>\n",
       "      <td>0.132862</td>\n",
       "      <td>0.087635</td>\n",
       "      <td>0.031524</td>\n",
       "      <td>-0.024543</td>\n",
       "      <td>-0.018868</td>\n",
       "      <td>-0.010867</td>\n",
       "      <td>0.013072</td>\n",
       "      <td>0.085483</td>\n",
       "      <td>-0.028350</td>\n",
       "      <td>0.036310</td>\n",
       "      <td>0.193952</td>\n",
       "      <td>0.150285</td>\n",
       "      <td>1.000000</td>\n",
       "      <td>-0.072340</td>\n",
       "      <td>0.087692</td>\n",
       "      <td>-0.000329</td>\n",
       "    </tr>\n",
       "    <tr>\n",
       "      <th>ANAT</th>\n",
       "      <td>0.090393</td>\n",
       "      <td>-0.054785</td>\n",
       "      <td>0.194865</td>\n",
       "      <td>0.189116</td>\n",
       "      <td>0.064409</td>\n",
       "      <td>-0.070881</td>\n",
       "      <td>0.025273</td>\n",
       "      <td>0.041092</td>\n",
       "      <td>0.234797</td>\n",
       "      <td>0.026117</td>\n",
       "      <td>0.180417</td>\n",
       "      <td>-0.031051</td>\n",
       "      <td>0.253435</td>\n",
       "      <td>-0.003483</td>\n",
       "      <td>0.061648</td>\n",
       "      <td>0.092474</td>\n",
       "      <td>-0.072340</td>\n",
       "      <td>1.000000</td>\n",
       "      <td>0.110685</td>\n",
       "      <td>0.345265</td>\n",
       "    </tr>\n",
       "    <tr>\n",
       "      <th>TRNS</th>\n",
       "      <td>0.076097</td>\n",
       "      <td>0.171884</td>\n",
       "      <td>0.201715</td>\n",
       "      <td>0.160347</td>\n",
       "      <td>0.115456</td>\n",
       "      <td>0.113711</td>\n",
       "      <td>0.094362</td>\n",
       "      <td>0.198570</td>\n",
       "      <td>0.131619</td>\n",
       "      <td>0.062358</td>\n",
       "      <td>0.165694</td>\n",
       "      <td>0.146425</td>\n",
       "      <td>0.254466</td>\n",
       "      <td>0.066057</td>\n",
       "      <td>0.214583</td>\n",
       "      <td>0.215121</td>\n",
       "      <td>0.087692</td>\n",
       "      <td>0.110685</td>\n",
       "      <td>1.000000</td>\n",
       "      <td>0.183860</td>\n",
       "    </tr>\n",
       "    <tr>\n",
       "      <th>SFBS</th>\n",
       "      <td>0.188254</td>\n",
       "      <td>0.002140</td>\n",
       "      <td>0.371353</td>\n",
       "      <td>0.414896</td>\n",
       "      <td>0.216980</td>\n",
       "      <td>-0.013629</td>\n",
       "      <td>0.011555</td>\n",
       "      <td>0.015732</td>\n",
       "      <td>0.430977</td>\n",
       "      <td>0.081343</td>\n",
       "      <td>0.263090</td>\n",
       "      <td>0.046685</td>\n",
       "      <td>0.521444</td>\n",
       "      <td>-0.050857</td>\n",
       "      <td>0.320609</td>\n",
       "      <td>0.289147</td>\n",
       "      <td>-0.000329</td>\n",
       "      <td>0.345265</td>\n",
       "      <td>0.183860</td>\n",
       "      <td>1.000000</td>\n",
       "    </tr>\n",
       "  </tbody>\n",
       "</table>\n",
       "</div>"
      ],
      "text/plain": [
       "           MDLZ      MSFT      NXPI      PCAR      INTC      NVDA      ILMN  \\\n",
       "MDLZ   1.000000  0.260625  0.136202  0.166086  0.128461  0.071711  0.106817   \n",
       "MSFT   0.260625  1.000000  0.435936  0.129668  0.343282  0.563342  0.365982   \n",
       "NXPI   0.136202  0.435936  1.000000  0.314621  0.518692  0.567564  0.348801   \n",
       "PCAR   0.166086  0.129668  0.314621  1.000000  0.285791  0.146135  0.077887   \n",
       "INTC   0.128461  0.343282  0.518692  0.285791  1.000000  0.352533  0.238309   \n",
       "NVDA   0.071711  0.563342  0.567564  0.146135  0.352533  1.000000  0.296262   \n",
       "ILMN   0.106817  0.365982  0.348801  0.077887  0.238309  0.296262  1.000000   \n",
       "DXCM   0.121394  0.396934  0.352195  0.024713  0.220853  0.351007  0.433226   \n",
       "ROST   0.320069  0.237147  0.347588  0.310914  0.287966  0.154648  0.030674   \n",
       "LULU   0.200534  0.369962  0.422580  0.112148  0.255882  0.415916  0.326248   \n",
       "PRFT   0.142022  0.340569  0.419310  0.185204  0.231893  0.425477  0.271251   \n",
       "FTNT   0.184870  0.520006  0.465200  0.087999  0.245138  0.490961  0.369235   \n",
       "WIRE   0.108808  0.156858  0.366023  0.327231  0.141588  0.093375  0.078505   \n",
       "NFLX   0.183858  0.460941  0.232486 -0.011242  0.236885  0.356414  0.249747   \n",
       "GAIN   0.145688  0.266493  0.300793  0.357433  0.280478  0.243640  0.162399   \n",
       "SYNA   0.074572  0.374816  0.576943  0.209517  0.366278  0.441977  0.236065   \n",
       "NYMTP -0.016072  0.088876  0.114702  0.091692  0.132862  0.087635  0.031524   \n",
       "ANAT   0.090393 -0.054785  0.194865  0.189116  0.064409 -0.070881  0.025273   \n",
       "TRNS   0.076097  0.171884  0.201715  0.160347  0.115456  0.113711  0.094362   \n",
       "SFBS   0.188254  0.002140  0.371353  0.414896  0.216980 -0.013629  0.011555   \n",
       "\n",
       "           DXCM      ROST      LULU      PRFT      FTNT      WIRE      NFLX  \\\n",
       "MDLZ   0.121394  0.320069  0.200534  0.142022  0.184870  0.108808  0.183858   \n",
       "MSFT   0.396934  0.237147  0.369962  0.340569  0.520006  0.156858  0.460941   \n",
       "NXPI   0.352195  0.347588  0.422580  0.419310  0.465200  0.366023  0.232486   \n",
       "PCAR   0.024713  0.310914  0.112148  0.185204  0.087999  0.327231 -0.011242   \n",
       "INTC   0.220853  0.287966  0.255882  0.231893  0.245138  0.141588  0.236885   \n",
       "NVDA   0.351007  0.154648  0.415916  0.425477  0.490961  0.093375  0.356414   \n",
       "ILMN   0.433226  0.030674  0.326248  0.271251  0.369235  0.078505  0.249747   \n",
       "DXCM   1.000000  0.161316  0.370966  0.193181  0.345706  0.067249  0.343953   \n",
       "ROST   0.161316  1.000000  0.287834  0.314949  0.218192  0.409139  0.082407   \n",
       "LULU   0.370966  0.287834  1.000000  0.315082  0.393846  0.156097  0.306344   \n",
       "PRFT   0.193181  0.314949  0.315082  1.000000  0.404102  0.311983  0.146573   \n",
       "FTNT   0.345706  0.218192  0.393846  0.404102  1.000000  0.131050  0.349456   \n",
       "WIRE   0.067249  0.409139  0.156097  0.311983  0.131050  1.000000 -0.034738   \n",
       "NFLX   0.343953  0.082407  0.306344  0.146573  0.349456 -0.034738  1.000000   \n",
       "GAIN   0.184725  0.331344  0.189652  0.282474  0.223279  0.236880  0.094362   \n",
       "SYNA   0.343466  0.318590  0.252620  0.281067  0.355171  0.328816  0.129942   \n",
       "NYMTP -0.024543 -0.018868 -0.010867  0.013072  0.085483 -0.028350  0.036310   \n",
       "ANAT   0.041092  0.234797  0.026117  0.180417 -0.031051  0.253435 -0.003483   \n",
       "TRNS   0.198570  0.131619  0.062358  0.165694  0.146425  0.254466  0.066057   \n",
       "SFBS   0.015732  0.430977  0.081343  0.263090  0.046685  0.521444 -0.050857   \n",
       "\n",
       "           GAIN      SYNA     NYMTP      ANAT      TRNS      SFBS  \n",
       "MDLZ   0.145688  0.074572 -0.016072  0.090393  0.076097  0.188254  \n",
       "MSFT   0.266493  0.374816  0.088876 -0.054785  0.171884  0.002140  \n",
       "NXPI   0.300793  0.576943  0.114702  0.194865  0.201715  0.371353  \n",
       "PCAR   0.357433  0.209517  0.091692  0.189116  0.160347  0.414896  \n",
       "INTC   0.280478  0.366278  0.132862  0.064409  0.115456  0.216980  \n",
       "NVDA   0.243640  0.441977  0.087635 -0.070881  0.113711 -0.013629  \n",
       "ILMN   0.162399  0.236065  0.031524  0.025273  0.094362  0.011555  \n",
       "DXCM   0.184725  0.343466 -0.024543  0.041092  0.198570  0.015732  \n",
       "ROST   0.331344  0.318590 -0.018868  0.234797  0.131619  0.430977  \n",
       "LULU   0.189652  0.252620 -0.010867  0.026117  0.062358  0.081343  \n",
       "PRFT   0.282474  0.281067  0.013072  0.180417  0.165694  0.263090  \n",
       "FTNT   0.223279  0.355171  0.085483 -0.031051  0.146425  0.046685  \n",
       "WIRE   0.236880  0.328816 -0.028350  0.253435  0.254466  0.521444  \n",
       "NFLX   0.094362  0.129942  0.036310 -0.003483  0.066057 -0.050857  \n",
       "GAIN   1.000000  0.301414  0.193952  0.061648  0.214583  0.320609  \n",
       "SYNA   0.301414  1.000000  0.150285  0.092474  0.215121  0.289147  \n",
       "NYMTP  0.193952  0.150285  1.000000 -0.072340  0.087692 -0.000329  \n",
       "ANAT   0.061648  0.092474 -0.072340  1.000000  0.110685  0.345265  \n",
       "TRNS   0.214583  0.215121  0.087692  0.110685  1.000000  0.183860  \n",
       "SFBS   0.320609  0.289147 -0.000329  0.345265  0.183860  1.000000  "
      ]
     },
     "execution_count": 32,
     "metadata": {},
     "output_type": "execute_result"
    }
   ],
   "source": [
    "def get_covariation_matrix(tickers,                          \n",
    "                           data_map=data_for_ticker,\n",
    "                           by_column='logret'):\n",
    "    columns = pd.DataFrame()\n",
    "    for ticker in tickers:\n",
    "        columns[ticker] = data_map[ticker][by_column][1:]\n",
    "        \n",
    "    matrix = columns.corr()\n",
    "    return matrix\n",
    "\n",
    "cov_matrix = get_covariation_matrix(assets, data_map=assets_data)\n",
    "cov_matrix"
   ]
  },
  {
   "cell_type": "code",
   "execution_count": 33,
   "metadata": {},
   "outputs": [
    {
     "data": {
      "application/vnd.plotly.v1+json": {
       "config": {
        "plotlyServerURL": "https://plot.ly"
       },
       "data": [
        {
         "coloraxis": "coloraxis",
         "hovertemplate": "x: %{x}<br>y: %{y}<br>color: %{z}<extra></extra>",
         "name": "0",
         "type": "heatmap",
         "x": [
          "MDLZ",
          "MSFT",
          "NXPI",
          "PCAR",
          "INTC",
          "NVDA",
          "ILMN",
          "DXCM",
          "ROST",
          "LULU",
          "PRFT",
          "FTNT",
          "WIRE",
          "NFLX",
          "GAIN",
          "SYNA",
          "NYMTP",
          "ANAT",
          "TRNS",
          "SFBS"
         ],
         "xaxis": "x",
         "y": [
          "MDLZ",
          "MSFT",
          "NXPI",
          "PCAR",
          "INTC",
          "NVDA",
          "ILMN",
          "DXCM",
          "ROST",
          "LULU",
          "PRFT",
          "FTNT",
          "WIRE",
          "NFLX",
          "GAIN",
          "SYNA",
          "NYMTP",
          "ANAT",
          "TRNS",
          "SFBS"
         ],
         "yaxis": "y",
         "z": [
          [
           1,
           0.26062459030201596,
           0.13620183041505532,
           0.16608620355493253,
           0.1284608196846683,
           0.07171149813496962,
           0.10681704201605821,
           0.12139390383198038,
           0.3200689127131565,
           0.20053382155542127,
           0.1420224613273943,
           0.18486960314667764,
           0.10880823752788804,
           0.18385802306293886,
           0.1456875505011123,
           0.0745721075144074,
           -0.016071780307355062,
           0.09039336527497395,
           0.07609736613045316,
           0.18825435213015085
          ],
          [
           0.26062459030201596,
           1,
           0.4359364546439461,
           0.1296682280385742,
           0.34328242889859534,
           0.5633419337146292,
           0.36598188436432083,
           0.3969335350150363,
           0.23714737528893953,
           0.3699616997365157,
           0.3405686851586221,
           0.5200055099073984,
           0.15685847269389772,
           0.4609405913118067,
           0.26649253158937936,
           0.3748159222999358,
           0.08887559141632581,
           -0.054785200262239715,
           0.17188354846074058,
           0.002139705690236925
          ],
          [
           0.13620183041505532,
           0.4359364546439461,
           1,
           0.31462113940843306,
           0.5186921509038392,
           0.5675639688211706,
           0.34880121768478994,
           0.3521954327190607,
           0.34758769682950474,
           0.422579643734965,
           0.41930988791680746,
           0.4651996294765062,
           0.36602289719376735,
           0.23248589762603913,
           0.30079267847828756,
           0.5769434925376036,
           0.11470189017525086,
           0.1948648581460789,
           0.20171541811435648,
           0.3713530592242376
          ],
          [
           0.16608620355493253,
           0.1296682280385742,
           0.31462113940843306,
           1,
           0.28579095285828515,
           0.14613484344028843,
           0.0778865428921762,
           0.024712778895344737,
           0.31091400361190763,
           0.11214789668924757,
           0.18520402583828452,
           0.08799883901816145,
           0.327231099972781,
           -0.011242228740168714,
           0.3574332469451568,
           0.20951684608154983,
           0.09169182643198406,
           0.18911649575576536,
           0.16034705224188714,
           0.4148963406149487
          ],
          [
           0.1284608196846683,
           0.34328242889859534,
           0.5186921509038392,
           0.28579095285828515,
           1,
           0.3525328494485466,
           0.23830941179169288,
           0.22085272153331192,
           0.28796594885717747,
           0.2558821173051786,
           0.23189345188763033,
           0.24513842684356402,
           0.141587835743119,
           0.23688463719570946,
           0.2804776418779861,
           0.36627822083511463,
           0.1328620047561389,
           0.06440888902993135,
           0.11545587912169218,
           0.21697967242085117
          ],
          [
           0.07171149813496962,
           0.5633419337146292,
           0.5675639688211706,
           0.14613484344028843,
           0.3525328494485466,
           1,
           0.2962616816039417,
           0.35100709299600247,
           0.15464845550036918,
           0.4159163186363013,
           0.4254766626074588,
           0.4909608079081084,
           0.09337543536970806,
           0.3564140398797027,
           0.24363984895767396,
           0.44197657579394056,
           0.08763500896300236,
           -0.0708806832028,
           0.11371116000296198,
           -0.013628760862307987
          ],
          [
           0.10681704201605821,
           0.36598188436432083,
           0.34880121768478994,
           0.0778865428921762,
           0.23830941179169288,
           0.2962616816039417,
           1,
           0.43322639023515086,
           0.030674389570084115,
           0.32624767967432855,
           0.27125116509720126,
           0.3692345134627317,
           0.07850466155906448,
           0.24974701504881983,
           0.16239936545937228,
           0.23606499253469887,
           0.031523882346580386,
           0.025273448455129913,
           0.09436183399745467,
           0.011555442761938988
          ],
          [
           0.12139390383198038,
           0.3969335350150363,
           0.3521954327190607,
           0.024712778895344737,
           0.22085272153331192,
           0.35100709299600247,
           0.43322639023515086,
           1,
           0.16131617918449348,
           0.3709656730252091,
           0.19318084306712527,
           0.3457063538758891,
           0.06724861093769322,
           0.3439526502133893,
           0.18472457993842464,
           0.34346571530875175,
           -0.024543158485241585,
           0.0410920830928112,
           0.19856966227159964,
           0.015732455230010035
          ],
          [
           0.3200689127131565,
           0.23714737528893953,
           0.34758769682950474,
           0.31091400361190763,
           0.28796594885717747,
           0.15464845550036918,
           0.030674389570084115,
           0.16131617918449348,
           1,
           0.2878343006950524,
           0.3149492828426508,
           0.2181923758164789,
           0.40913925707926097,
           0.08240661718762751,
           0.3313435241699463,
           0.31859035937401264,
           -0.01886755078697206,
           0.23479668790041935,
           0.13161894113593303,
           0.4309772662354056
          ],
          [
           0.20053382155542127,
           0.3699616997365157,
           0.422579643734965,
           0.11214789668924757,
           0.2558821173051786,
           0.4159163186363013,
           0.32624767967432855,
           0.3709656730252091,
           0.2878343006950524,
           1,
           0.31508233049345313,
           0.3938463483636665,
           0.15609689470101565,
           0.30634411044710125,
           0.18965160404015155,
           0.2526204010199027,
           -0.0108670647172246,
           0.026117254126967956,
           0.062357760566177214,
           0.08134328255003807
          ],
          [
           0.1420224613273943,
           0.3405686851586221,
           0.41930988791680746,
           0.18520402583828452,
           0.23189345188763033,
           0.4254766626074588,
           0.27125116509720126,
           0.19318084306712527,
           0.3149492828426508,
           0.31508233049345313,
           1,
           0.4041020408022704,
           0.3119830911496287,
           0.14657281127937377,
           0.28247447372658663,
           0.2810669219852263,
           0.013071574276271354,
           0.1804170393412301,
           0.16569375468119965,
           0.2630904441636706
          ],
          [
           0.18486960314667764,
           0.5200055099073984,
           0.4651996294765062,
           0.08799883901816145,
           0.24513842684356402,
           0.4909608079081084,
           0.3692345134627317,
           0.3457063538758891,
           0.2181923758164789,
           0.3938463483636665,
           0.4041020408022704,
           1,
           0.13105009986691993,
           0.3494561511759311,
           0.2232792194581123,
           0.35517079386719597,
           0.08548283421916684,
           -0.031051069683937466,
           0.14642548403157113,
           0.04668521329392606
          ],
          [
           0.10880823752788804,
           0.15685847269389772,
           0.36602289719376735,
           0.327231099972781,
           0.141587835743119,
           0.09337543536970806,
           0.07850466155906448,
           0.06724861093769322,
           0.40913925707926097,
           0.15609689470101565,
           0.3119830911496287,
           0.13105009986691993,
           1,
           -0.034737947172262064,
           0.2368798506501867,
           0.328815904463125,
           -0.02835005667135071,
           0.25343506428704354,
           0.25446603623383435,
           0.521443824498838
          ],
          [
           0.18385802306293886,
           0.4609405913118067,
           0.23248589762603913,
           -0.011242228740168714,
           0.23688463719570946,
           0.3564140398797027,
           0.24974701504881983,
           0.3439526502133893,
           0.08240661718762751,
           0.30634411044710125,
           0.14657281127937377,
           0.3494561511759311,
           -0.034737947172262064,
           1,
           0.09436165927663956,
           0.1299417065015897,
           0.03631039656216984,
           -0.0034827044441314106,
           0.06605719514999973,
           -0.05085688107589017
          ],
          [
           0.1456875505011123,
           0.26649253158937936,
           0.30079267847828756,
           0.3574332469451568,
           0.2804776418779861,
           0.24363984895767396,
           0.16239936545937228,
           0.18472457993842464,
           0.3313435241699463,
           0.18965160404015155,
           0.28247447372658663,
           0.2232792194581123,
           0.2368798506501867,
           0.09436165927663956,
           1,
           0.3014136301776527,
           0.19395194803858565,
           0.06164836546388048,
           0.21458253993809792,
           0.32060930440312313
          ],
          [
           0.0745721075144074,
           0.3748159222999358,
           0.5769434925376036,
           0.20951684608154983,
           0.36627822083511463,
           0.44197657579394056,
           0.23606499253469887,
           0.34346571530875175,
           0.31859035937401264,
           0.2526204010199027,
           0.2810669219852263,
           0.35517079386719597,
           0.328815904463125,
           0.1299417065015897,
           0.3014136301776527,
           1,
           0.15028531386575436,
           0.0924736297804951,
           0.21512073696587636,
           0.2891467774964632
          ],
          [
           -0.016071780307355062,
           0.08887559141632581,
           0.11470189017525086,
           0.09169182643198406,
           0.1328620047561389,
           0.08763500896300236,
           0.031523882346580386,
           -0.024543158485241585,
           -0.01886755078697206,
           -0.0108670647172246,
           0.013071574276271354,
           0.08548283421916684,
           -0.02835005667135071,
           0.03631039656216984,
           0.19395194803858565,
           0.15028531386575436,
           1,
           -0.07233992355190026,
           0.08769178676468477,
           -0.00032870664673277726
          ],
          [
           0.09039336527497395,
           -0.054785200262239715,
           0.1948648581460789,
           0.18911649575576536,
           0.06440888902993135,
           -0.0708806832028,
           0.025273448455129913,
           0.0410920830928112,
           0.23479668790041935,
           0.026117254126967956,
           0.1804170393412301,
           -0.031051069683937466,
           0.25343506428704354,
           -0.0034827044441314106,
           0.06164836546388048,
           0.0924736297804951,
           -0.07233992355190026,
           1,
           0.11068536520401873,
           0.34526484517050066
          ],
          [
           0.07609736613045316,
           0.17188354846074058,
           0.20171541811435648,
           0.16034705224188714,
           0.11545587912169218,
           0.11371116000296198,
           0.09436183399745467,
           0.19856966227159964,
           0.13161894113593303,
           0.062357760566177214,
           0.16569375468119965,
           0.14642548403157113,
           0.25446603623383435,
           0.06605719514999973,
           0.21458253993809792,
           0.21512073696587636,
           0.08769178676468477,
           0.11068536520401873,
           1,
           0.18386037434378102
          ],
          [
           0.18825435213015085,
           0.002139705690236925,
           0.3713530592242376,
           0.4148963406149487,
           0.21697967242085117,
           -0.013628760862307987,
           0.011555442761938988,
           0.015732455230010035,
           0.4309772662354056,
           0.08134328255003807,
           0.2630904441636706,
           0.04668521329392606,
           0.521443824498838,
           -0.05085688107589017,
           0.32060930440312313,
           0.2891467774964632,
           -0.00032870664673277726,
           0.34526484517050066,
           0.18386037434378102,
           1
          ]
         ]
        }
       ],
       "layout": {
        "coloraxis": {
         "cmax": 1,
         "cmin": -1,
         "colorscale": [
          [
           0,
           "rgb(165,0,38)"
          ],
          [
           0.1,
           "rgb(215,48,39)"
          ],
          [
           0.2,
           "rgb(244,109,67)"
          ],
          [
           0.3,
           "rgb(253,174,97)"
          ],
          [
           0.4,
           "rgb(254,224,139)"
          ],
          [
           0.5,
           "rgb(255,255,191)"
          ],
          [
           0.6,
           "rgb(217,239,139)"
          ],
          [
           0.7,
           "rgb(166,217,106)"
          ],
          [
           0.8,
           "rgb(102,189,99)"
          ],
          [
           0.9,
           "rgb(26,152,80)"
          ],
          [
           1,
           "rgb(0,104,55)"
          ]
         ]
        },
        "template": {
         "data": {
          "bar": [
           {
            "error_x": {
             "color": "#2a3f5f"
            },
            "error_y": {
             "color": "#2a3f5f"
            },
            "marker": {
             "line": {
              "color": "#E5ECF6",
              "width": 0.5
             }
            },
            "type": "bar"
           }
          ],
          "barpolar": [
           {
            "marker": {
             "line": {
              "color": "#E5ECF6",
              "width": 0.5
             }
            },
            "type": "barpolar"
           }
          ],
          "carpet": [
           {
            "aaxis": {
             "endlinecolor": "#2a3f5f",
             "gridcolor": "white",
             "linecolor": "white",
             "minorgridcolor": "white",
             "startlinecolor": "#2a3f5f"
            },
            "baxis": {
             "endlinecolor": "#2a3f5f",
             "gridcolor": "white",
             "linecolor": "white",
             "minorgridcolor": "white",
             "startlinecolor": "#2a3f5f"
            },
            "type": "carpet"
           }
          ],
          "choropleth": [
           {
            "colorbar": {
             "outlinewidth": 0,
             "ticks": ""
            },
            "type": "choropleth"
           }
          ],
          "contour": [
           {
            "colorbar": {
             "outlinewidth": 0,
             "ticks": ""
            },
            "colorscale": [
             [
              0,
              "#0d0887"
             ],
             [
              0.1111111111111111,
              "#46039f"
             ],
             [
              0.2222222222222222,
              "#7201a8"
             ],
             [
              0.3333333333333333,
              "#9c179e"
             ],
             [
              0.4444444444444444,
              "#bd3786"
             ],
             [
              0.5555555555555556,
              "#d8576b"
             ],
             [
              0.6666666666666666,
              "#ed7953"
             ],
             [
              0.7777777777777778,
              "#fb9f3a"
             ],
             [
              0.8888888888888888,
              "#fdca26"
             ],
             [
              1,
              "#f0f921"
             ]
            ],
            "type": "contour"
           }
          ],
          "contourcarpet": [
           {
            "colorbar": {
             "outlinewidth": 0,
             "ticks": ""
            },
            "type": "contourcarpet"
           }
          ],
          "heatmap": [
           {
            "colorbar": {
             "outlinewidth": 0,
             "ticks": ""
            },
            "colorscale": [
             [
              0,
              "#0d0887"
             ],
             [
              0.1111111111111111,
              "#46039f"
             ],
             [
              0.2222222222222222,
              "#7201a8"
             ],
             [
              0.3333333333333333,
              "#9c179e"
             ],
             [
              0.4444444444444444,
              "#bd3786"
             ],
             [
              0.5555555555555556,
              "#d8576b"
             ],
             [
              0.6666666666666666,
              "#ed7953"
             ],
             [
              0.7777777777777778,
              "#fb9f3a"
             ],
             [
              0.8888888888888888,
              "#fdca26"
             ],
             [
              1,
              "#f0f921"
             ]
            ],
            "type": "heatmap"
           }
          ],
          "heatmapgl": [
           {
            "colorbar": {
             "outlinewidth": 0,
             "ticks": ""
            },
            "colorscale": [
             [
              0,
              "#0d0887"
             ],
             [
              0.1111111111111111,
              "#46039f"
             ],
             [
              0.2222222222222222,
              "#7201a8"
             ],
             [
              0.3333333333333333,
              "#9c179e"
             ],
             [
              0.4444444444444444,
              "#bd3786"
             ],
             [
              0.5555555555555556,
              "#d8576b"
             ],
             [
              0.6666666666666666,
              "#ed7953"
             ],
             [
              0.7777777777777778,
              "#fb9f3a"
             ],
             [
              0.8888888888888888,
              "#fdca26"
             ],
             [
              1,
              "#f0f921"
             ]
            ],
            "type": "heatmapgl"
           }
          ],
          "histogram": [
           {
            "marker": {
             "colorbar": {
              "outlinewidth": 0,
              "ticks": ""
             }
            },
            "type": "histogram"
           }
          ],
          "histogram2d": [
           {
            "colorbar": {
             "outlinewidth": 0,
             "ticks": ""
            },
            "colorscale": [
             [
              0,
              "#0d0887"
             ],
             [
              0.1111111111111111,
              "#46039f"
             ],
             [
              0.2222222222222222,
              "#7201a8"
             ],
             [
              0.3333333333333333,
              "#9c179e"
             ],
             [
              0.4444444444444444,
              "#bd3786"
             ],
             [
              0.5555555555555556,
              "#d8576b"
             ],
             [
              0.6666666666666666,
              "#ed7953"
             ],
             [
              0.7777777777777778,
              "#fb9f3a"
             ],
             [
              0.8888888888888888,
              "#fdca26"
             ],
             [
              1,
              "#f0f921"
             ]
            ],
            "type": "histogram2d"
           }
          ],
          "histogram2dcontour": [
           {
            "colorbar": {
             "outlinewidth": 0,
             "ticks": ""
            },
            "colorscale": [
             [
              0,
              "#0d0887"
             ],
             [
              0.1111111111111111,
              "#46039f"
             ],
             [
              0.2222222222222222,
              "#7201a8"
             ],
             [
              0.3333333333333333,
              "#9c179e"
             ],
             [
              0.4444444444444444,
              "#bd3786"
             ],
             [
              0.5555555555555556,
              "#d8576b"
             ],
             [
              0.6666666666666666,
              "#ed7953"
             ],
             [
              0.7777777777777778,
              "#fb9f3a"
             ],
             [
              0.8888888888888888,
              "#fdca26"
             ],
             [
              1,
              "#f0f921"
             ]
            ],
            "type": "histogram2dcontour"
           }
          ],
          "mesh3d": [
           {
            "colorbar": {
             "outlinewidth": 0,
             "ticks": ""
            },
            "type": "mesh3d"
           }
          ],
          "parcoords": [
           {
            "line": {
             "colorbar": {
              "outlinewidth": 0,
              "ticks": ""
             }
            },
            "type": "parcoords"
           }
          ],
          "pie": [
           {
            "automargin": true,
            "type": "pie"
           }
          ],
          "scatter": [
           {
            "marker": {
             "colorbar": {
              "outlinewidth": 0,
              "ticks": ""
             }
            },
            "type": "scatter"
           }
          ],
          "scatter3d": [
           {
            "line": {
             "colorbar": {
              "outlinewidth": 0,
              "ticks": ""
             }
            },
            "marker": {
             "colorbar": {
              "outlinewidth": 0,
              "ticks": ""
             }
            },
            "type": "scatter3d"
           }
          ],
          "scattercarpet": [
           {
            "marker": {
             "colorbar": {
              "outlinewidth": 0,
              "ticks": ""
             }
            },
            "type": "scattercarpet"
           }
          ],
          "scattergeo": [
           {
            "marker": {
             "colorbar": {
              "outlinewidth": 0,
              "ticks": ""
             }
            },
            "type": "scattergeo"
           }
          ],
          "scattergl": [
           {
            "marker": {
             "colorbar": {
              "outlinewidth": 0,
              "ticks": ""
             }
            },
            "type": "scattergl"
           }
          ],
          "scattermapbox": [
           {
            "marker": {
             "colorbar": {
              "outlinewidth": 0,
              "ticks": ""
             }
            },
            "type": "scattermapbox"
           }
          ],
          "scatterpolar": [
           {
            "marker": {
             "colorbar": {
              "outlinewidth": 0,
              "ticks": ""
             }
            },
            "type": "scatterpolar"
           }
          ],
          "scatterpolargl": [
           {
            "marker": {
             "colorbar": {
              "outlinewidth": 0,
              "ticks": ""
             }
            },
            "type": "scatterpolargl"
           }
          ],
          "scatterternary": [
           {
            "marker": {
             "colorbar": {
              "outlinewidth": 0,
              "ticks": ""
             }
            },
            "type": "scatterternary"
           }
          ],
          "surface": [
           {
            "colorbar": {
             "outlinewidth": 0,
             "ticks": ""
            },
            "colorscale": [
             [
              0,
              "#0d0887"
             ],
             [
              0.1111111111111111,
              "#46039f"
             ],
             [
              0.2222222222222222,
              "#7201a8"
             ],
             [
              0.3333333333333333,
              "#9c179e"
             ],
             [
              0.4444444444444444,
              "#bd3786"
             ],
             [
              0.5555555555555556,
              "#d8576b"
             ],
             [
              0.6666666666666666,
              "#ed7953"
             ],
             [
              0.7777777777777778,
              "#fb9f3a"
             ],
             [
              0.8888888888888888,
              "#fdca26"
             ],
             [
              1,
              "#f0f921"
             ]
            ],
            "type": "surface"
           }
          ],
          "table": [
           {
            "cells": {
             "fill": {
              "color": "#EBF0F8"
             },
             "line": {
              "color": "white"
             }
            },
            "header": {
             "fill": {
              "color": "#C8D4E3"
             },
             "line": {
              "color": "white"
             }
            },
            "type": "table"
           }
          ]
         },
         "layout": {
          "annotationdefaults": {
           "arrowcolor": "#2a3f5f",
           "arrowhead": 0,
           "arrowwidth": 1
          },
          "autotypenumbers": "strict",
          "coloraxis": {
           "colorbar": {
            "outlinewidth": 0,
            "ticks": ""
           }
          },
          "colorscale": {
           "diverging": [
            [
             0,
             "#8e0152"
            ],
            [
             0.1,
             "#c51b7d"
            ],
            [
             0.2,
             "#de77ae"
            ],
            [
             0.3,
             "#f1b6da"
            ],
            [
             0.4,
             "#fde0ef"
            ],
            [
             0.5,
             "#f7f7f7"
            ],
            [
             0.6,
             "#e6f5d0"
            ],
            [
             0.7,
             "#b8e186"
            ],
            [
             0.8,
             "#7fbc41"
            ],
            [
             0.9,
             "#4d9221"
            ],
            [
             1,
             "#276419"
            ]
           ],
           "sequential": [
            [
             0,
             "#0d0887"
            ],
            [
             0.1111111111111111,
             "#46039f"
            ],
            [
             0.2222222222222222,
             "#7201a8"
            ],
            [
             0.3333333333333333,
             "#9c179e"
            ],
            [
             0.4444444444444444,
             "#bd3786"
            ],
            [
             0.5555555555555556,
             "#d8576b"
            ],
            [
             0.6666666666666666,
             "#ed7953"
            ],
            [
             0.7777777777777778,
             "#fb9f3a"
            ],
            [
             0.8888888888888888,
             "#fdca26"
            ],
            [
             1,
             "#f0f921"
            ]
           ],
           "sequentialminus": [
            [
             0,
             "#0d0887"
            ],
            [
             0.1111111111111111,
             "#46039f"
            ],
            [
             0.2222222222222222,
             "#7201a8"
            ],
            [
             0.3333333333333333,
             "#9c179e"
            ],
            [
             0.4444444444444444,
             "#bd3786"
            ],
            [
             0.5555555555555556,
             "#d8576b"
            ],
            [
             0.6666666666666666,
             "#ed7953"
            ],
            [
             0.7777777777777778,
             "#fb9f3a"
            ],
            [
             0.8888888888888888,
             "#fdca26"
            ],
            [
             1,
             "#f0f921"
            ]
           ]
          },
          "colorway": [
           "#636efa",
           "#EF553B",
           "#00cc96",
           "#ab63fa",
           "#FFA15A",
           "#19d3f3",
           "#FF6692",
           "#B6E880",
           "#FF97FF",
           "#FECB52"
          ],
          "font": {
           "color": "#2a3f5f"
          },
          "geo": {
           "bgcolor": "white",
           "lakecolor": "white",
           "landcolor": "#E5ECF6",
           "showlakes": true,
           "showland": true,
           "subunitcolor": "white"
          },
          "hoverlabel": {
           "align": "left"
          },
          "hovermode": "closest",
          "mapbox": {
           "style": "light"
          },
          "paper_bgcolor": "white",
          "plot_bgcolor": "#E5ECF6",
          "polar": {
           "angularaxis": {
            "gridcolor": "white",
            "linecolor": "white",
            "ticks": ""
           },
           "bgcolor": "#E5ECF6",
           "radialaxis": {
            "gridcolor": "white",
            "linecolor": "white",
            "ticks": ""
           }
          },
          "scene": {
           "xaxis": {
            "backgroundcolor": "#E5ECF6",
            "gridcolor": "white",
            "gridwidth": 2,
            "linecolor": "white",
            "showbackground": true,
            "ticks": "",
            "zerolinecolor": "white"
           },
           "yaxis": {
            "backgroundcolor": "#E5ECF6",
            "gridcolor": "white",
            "gridwidth": 2,
            "linecolor": "white",
            "showbackground": true,
            "ticks": "",
            "zerolinecolor": "white"
           },
           "zaxis": {
            "backgroundcolor": "#E5ECF6",
            "gridcolor": "white",
            "gridwidth": 2,
            "linecolor": "white",
            "showbackground": true,
            "ticks": "",
            "zerolinecolor": "white"
           }
          },
          "shapedefaults": {
           "line": {
            "color": "#2a3f5f"
           }
          },
          "ternary": {
           "aaxis": {
            "gridcolor": "white",
            "linecolor": "white",
            "ticks": ""
           },
           "baxis": {
            "gridcolor": "white",
            "linecolor": "white",
            "ticks": ""
           },
           "bgcolor": "#E5ECF6",
           "caxis": {
            "gridcolor": "white",
            "linecolor": "white",
            "ticks": ""
           }
          },
          "title": {
           "x": 0.05
          },
          "xaxis": {
           "automargin": true,
           "gridcolor": "white",
           "linecolor": "white",
           "ticks": "",
           "title": {
            "standoff": 15
           },
           "zerolinecolor": "white",
           "zerolinewidth": 2
          },
          "yaxis": {
           "automargin": true,
           "gridcolor": "white",
           "linecolor": "white",
           "ticks": "",
           "title": {
            "standoff": 15
           },
           "zerolinecolor": "white",
           "zerolinewidth": 2
          }
         }
        },
        "title": {
         "text": "Correlation Matrix"
        },
        "xaxis": {
         "anchor": "y",
         "constrain": "domain",
         "domain": [
          0,
          1
         ],
         "scaleanchor": "y"
        },
        "yaxis": {
         "anchor": "x",
         "autorange": "reversed",
         "constrain": "domain",
         "domain": [
          0,
          1
         ]
        }
       }
      },
      "text/html": [
       "<div>                            <div id=\"b77e9bbc-d26a-4cd3-bcc3-d9107395e9c6\" class=\"plotly-graph-div\" style=\"height:525px; width:100%;\"></div>            <script type=\"text/javascript\">                require([\"plotly\"], function(Plotly) {                    window.PLOTLYENV=window.PLOTLYENV || {};                                    if (document.getElementById(\"b77e9bbc-d26a-4cd3-bcc3-d9107395e9c6\")) {                    Plotly.newPlot(                        \"b77e9bbc-d26a-4cd3-bcc3-d9107395e9c6\",                        [{\"coloraxis\": \"coloraxis\", \"hovertemplate\": \"x: %{x}<br>y: %{y}<br>color: %{z}<extra></extra>\", \"name\": \"0\", \"type\": \"heatmap\", \"x\": [\"MDLZ\", \"MSFT\", \"NXPI\", \"PCAR\", \"INTC\", \"NVDA\", \"ILMN\", \"DXCM\", \"ROST\", \"LULU\", \"PRFT\", \"FTNT\", \"WIRE\", \"NFLX\", \"GAIN\", \"SYNA\", \"NYMTP\", \"ANAT\", \"TRNS\", \"SFBS\"], \"xaxis\": \"x\", \"y\": [\"MDLZ\", \"MSFT\", \"NXPI\", \"PCAR\", \"INTC\", \"NVDA\", \"ILMN\", \"DXCM\", \"ROST\", \"LULU\", \"PRFT\", \"FTNT\", \"WIRE\", \"NFLX\", \"GAIN\", \"SYNA\", \"NYMTP\", \"ANAT\", \"TRNS\", \"SFBS\"], \"yaxis\": \"y\", \"z\": [[1.0, 0.26062459030201596, 0.13620183041505532, 0.16608620355493253, 0.1284608196846683, 0.07171149813496962, 0.10681704201605821, 0.12139390383198038, 0.3200689127131565, 0.20053382155542127, 0.1420224613273943, 0.18486960314667764, 0.10880823752788804, 0.18385802306293886, 0.1456875505011123, 0.0745721075144074, -0.016071780307355062, 0.09039336527497395, 0.07609736613045316, 0.18825435213015085], [0.26062459030201596, 1.0, 0.4359364546439461, 0.1296682280385742, 0.34328242889859534, 0.5633419337146292, 0.36598188436432083, 0.3969335350150363, 0.23714737528893953, 0.3699616997365157, 0.3405686851586221, 0.5200055099073984, 0.15685847269389772, 0.4609405913118067, 0.26649253158937936, 0.3748159222999358, 0.08887559141632581, -0.054785200262239715, 0.17188354846074058, 0.002139705690236925], [0.13620183041505532, 0.4359364546439461, 1.0, 0.31462113940843306, 0.5186921509038392, 0.5675639688211706, 0.34880121768478994, 0.3521954327190607, 0.34758769682950474, 0.422579643734965, 0.41930988791680746, 0.4651996294765062, 0.36602289719376735, 0.23248589762603913, 0.30079267847828756, 0.5769434925376036, 0.11470189017525086, 0.1948648581460789, 0.20171541811435648, 0.3713530592242376], [0.16608620355493253, 0.1296682280385742, 0.31462113940843306, 1.0, 0.28579095285828515, 0.14613484344028843, 0.0778865428921762, 0.024712778895344737, 0.31091400361190763, 0.11214789668924757, 0.18520402583828452, 0.08799883901816145, 0.327231099972781, -0.011242228740168714, 0.3574332469451568, 0.20951684608154983, 0.09169182643198406, 0.18911649575576536, 0.16034705224188714, 0.4148963406149487], [0.1284608196846683, 0.34328242889859534, 0.5186921509038392, 0.28579095285828515, 1.0, 0.3525328494485466, 0.23830941179169288, 0.22085272153331192, 0.28796594885717747, 0.2558821173051786, 0.23189345188763033, 0.24513842684356402, 0.141587835743119, 0.23688463719570946, 0.2804776418779861, 0.36627822083511463, 0.1328620047561389, 0.06440888902993135, 0.11545587912169218, 0.21697967242085117], [0.07171149813496962, 0.5633419337146292, 0.5675639688211706, 0.14613484344028843, 0.3525328494485466, 1.0, 0.2962616816039417, 0.35100709299600247, 0.15464845550036918, 0.4159163186363013, 0.4254766626074588, 0.4909608079081084, 0.09337543536970806, 0.3564140398797027, 0.24363984895767396, 0.44197657579394056, 0.08763500896300236, -0.0708806832028, 0.11371116000296198, -0.013628760862307987], [0.10681704201605821, 0.36598188436432083, 0.34880121768478994, 0.0778865428921762, 0.23830941179169288, 0.2962616816039417, 1.0, 0.43322639023515086, 0.030674389570084115, 0.32624767967432855, 0.27125116509720126, 0.3692345134627317, 0.07850466155906448, 0.24974701504881983, 0.16239936545937228, 0.23606499253469887, 0.031523882346580386, 0.025273448455129913, 0.09436183399745467, 0.011555442761938988], [0.12139390383198038, 0.3969335350150363, 0.3521954327190607, 0.024712778895344737, 0.22085272153331192, 0.35100709299600247, 0.43322639023515086, 1.0, 0.16131617918449348, 0.3709656730252091, 0.19318084306712527, 0.3457063538758891, 0.06724861093769322, 0.3439526502133893, 0.18472457993842464, 0.34346571530875175, -0.024543158485241585, 0.0410920830928112, 0.19856966227159964, 0.015732455230010035], [0.3200689127131565, 0.23714737528893953, 0.34758769682950474, 0.31091400361190763, 0.28796594885717747, 0.15464845550036918, 0.030674389570084115, 0.16131617918449348, 1.0, 0.2878343006950524, 0.3149492828426508, 0.2181923758164789, 0.40913925707926097, 0.08240661718762751, 0.3313435241699463, 0.31859035937401264, -0.01886755078697206, 0.23479668790041935, 0.13161894113593303, 0.4309772662354056], [0.20053382155542127, 0.3699616997365157, 0.422579643734965, 0.11214789668924757, 0.2558821173051786, 0.4159163186363013, 0.32624767967432855, 0.3709656730252091, 0.2878343006950524, 1.0, 0.31508233049345313, 0.3938463483636665, 0.15609689470101565, 0.30634411044710125, 0.18965160404015155, 0.2526204010199027, -0.0108670647172246, 0.026117254126967956, 0.062357760566177214, 0.08134328255003807], [0.1420224613273943, 0.3405686851586221, 0.41930988791680746, 0.18520402583828452, 0.23189345188763033, 0.4254766626074588, 0.27125116509720126, 0.19318084306712527, 0.3149492828426508, 0.31508233049345313, 1.0, 0.4041020408022704, 0.3119830911496287, 0.14657281127937377, 0.28247447372658663, 0.2810669219852263, 0.013071574276271354, 0.1804170393412301, 0.16569375468119965, 0.2630904441636706], [0.18486960314667764, 0.5200055099073984, 0.4651996294765062, 0.08799883901816145, 0.24513842684356402, 0.4909608079081084, 0.3692345134627317, 0.3457063538758891, 0.2181923758164789, 0.3938463483636665, 0.4041020408022704, 1.0, 0.13105009986691993, 0.3494561511759311, 0.2232792194581123, 0.35517079386719597, 0.08548283421916684, -0.031051069683937466, 0.14642548403157113, 0.04668521329392606], [0.10880823752788804, 0.15685847269389772, 0.36602289719376735, 0.327231099972781, 0.141587835743119, 0.09337543536970806, 0.07850466155906448, 0.06724861093769322, 0.40913925707926097, 0.15609689470101565, 0.3119830911496287, 0.13105009986691993, 1.0, -0.034737947172262064, 0.2368798506501867, 0.328815904463125, -0.02835005667135071, 0.25343506428704354, 0.25446603623383435, 0.521443824498838], [0.18385802306293886, 0.4609405913118067, 0.23248589762603913, -0.011242228740168714, 0.23688463719570946, 0.3564140398797027, 0.24974701504881983, 0.3439526502133893, 0.08240661718762751, 0.30634411044710125, 0.14657281127937377, 0.3494561511759311, -0.034737947172262064, 1.0, 0.09436165927663956, 0.1299417065015897, 0.03631039656216984, -0.0034827044441314106, 0.06605719514999973, -0.05085688107589017], [0.1456875505011123, 0.26649253158937936, 0.30079267847828756, 0.3574332469451568, 0.2804776418779861, 0.24363984895767396, 0.16239936545937228, 0.18472457993842464, 0.3313435241699463, 0.18965160404015155, 0.28247447372658663, 0.2232792194581123, 0.2368798506501867, 0.09436165927663956, 1.0, 0.3014136301776527, 0.19395194803858565, 0.06164836546388048, 0.21458253993809792, 0.32060930440312313], [0.0745721075144074, 0.3748159222999358, 0.5769434925376036, 0.20951684608154983, 0.36627822083511463, 0.44197657579394056, 0.23606499253469887, 0.34346571530875175, 0.31859035937401264, 0.2526204010199027, 0.2810669219852263, 0.35517079386719597, 0.328815904463125, 0.1299417065015897, 0.3014136301776527, 1.0, 0.15028531386575436, 0.0924736297804951, 0.21512073696587636, 0.2891467774964632], [-0.016071780307355062, 0.08887559141632581, 0.11470189017525086, 0.09169182643198406, 0.1328620047561389, 0.08763500896300236, 0.031523882346580386, -0.024543158485241585, -0.01886755078697206, -0.0108670647172246, 0.013071574276271354, 0.08548283421916684, -0.02835005667135071, 0.03631039656216984, 0.19395194803858565, 0.15028531386575436, 1.0, -0.07233992355190026, 0.08769178676468477, -0.00032870664673277726], [0.09039336527497395, -0.054785200262239715, 0.1948648581460789, 0.18911649575576536, 0.06440888902993135, -0.0708806832028, 0.025273448455129913, 0.0410920830928112, 0.23479668790041935, 0.026117254126967956, 0.1804170393412301, -0.031051069683937466, 0.25343506428704354, -0.0034827044441314106, 0.06164836546388048, 0.0924736297804951, -0.07233992355190026, 1.0, 0.11068536520401873, 0.34526484517050066], [0.07609736613045316, 0.17188354846074058, 0.20171541811435648, 0.16034705224188714, 0.11545587912169218, 0.11371116000296198, 0.09436183399745467, 0.19856966227159964, 0.13161894113593303, 0.062357760566177214, 0.16569375468119965, 0.14642548403157113, 0.25446603623383435, 0.06605719514999973, 0.21458253993809792, 0.21512073696587636, 0.08769178676468477, 0.11068536520401873, 1.0, 0.18386037434378102], [0.18825435213015085, 0.002139705690236925, 0.3713530592242376, 0.4148963406149487, 0.21697967242085117, -0.013628760862307987, 0.011555442761938988, 0.015732455230010035, 0.4309772662354056, 0.08134328255003807, 0.2630904441636706, 0.04668521329392606, 0.521443824498838, -0.05085688107589017, 0.32060930440312313, 0.2891467774964632, -0.00032870664673277726, 0.34526484517050066, 0.18386037434378102, 1.0]]}],                        {\"coloraxis\": {\"cmax\": 1, \"cmin\": -1, \"colorscale\": [[0.0, \"rgb(165,0,38)\"], [0.1, \"rgb(215,48,39)\"], [0.2, \"rgb(244,109,67)\"], [0.3, \"rgb(253,174,97)\"], [0.4, \"rgb(254,224,139)\"], [0.5, \"rgb(255,255,191)\"], [0.6, \"rgb(217,239,139)\"], [0.7, \"rgb(166,217,106)\"], [0.8, \"rgb(102,189,99)\"], [0.9, \"rgb(26,152,80)\"], [1.0, \"rgb(0,104,55)\"]]}, \"template\": {\"data\": {\"bar\": [{\"error_x\": {\"color\": \"#2a3f5f\"}, \"error_y\": {\"color\": \"#2a3f5f\"}, \"marker\": {\"line\": {\"color\": \"#E5ECF6\", \"width\": 0.5}}, \"type\": \"bar\"}], \"barpolar\": [{\"marker\": {\"line\": {\"color\": \"#E5ECF6\", \"width\": 0.5}}, \"type\": \"barpolar\"}], \"carpet\": [{\"aaxis\": {\"endlinecolor\": \"#2a3f5f\", \"gridcolor\": \"white\", \"linecolor\": \"white\", \"minorgridcolor\": \"white\", \"startlinecolor\": \"#2a3f5f\"}, \"baxis\": {\"endlinecolor\": \"#2a3f5f\", \"gridcolor\": \"white\", \"linecolor\": \"white\", \"minorgridcolor\": \"white\", \"startlinecolor\": \"#2a3f5f\"}, \"type\": \"carpet\"}], \"choropleth\": [{\"colorbar\": {\"outlinewidth\": 0, \"ticks\": \"\"}, \"type\": \"choropleth\"}], \"contour\": [{\"colorbar\": {\"outlinewidth\": 0, \"ticks\": \"\"}, \"colorscale\": [[0.0, \"#0d0887\"], [0.1111111111111111, \"#46039f\"], [0.2222222222222222, \"#7201a8\"], [0.3333333333333333, \"#9c179e\"], [0.4444444444444444, \"#bd3786\"], [0.5555555555555556, \"#d8576b\"], [0.6666666666666666, \"#ed7953\"], [0.7777777777777778, \"#fb9f3a\"], [0.8888888888888888, \"#fdca26\"], [1.0, \"#f0f921\"]], \"type\": \"contour\"}], \"contourcarpet\": [{\"colorbar\": {\"outlinewidth\": 0, \"ticks\": \"\"}, \"type\": \"contourcarpet\"}], \"heatmap\": [{\"colorbar\": {\"outlinewidth\": 0, \"ticks\": \"\"}, \"colorscale\": [[0.0, \"#0d0887\"], [0.1111111111111111, \"#46039f\"], [0.2222222222222222, \"#7201a8\"], [0.3333333333333333, \"#9c179e\"], [0.4444444444444444, \"#bd3786\"], [0.5555555555555556, \"#d8576b\"], [0.6666666666666666, \"#ed7953\"], [0.7777777777777778, \"#fb9f3a\"], [0.8888888888888888, \"#fdca26\"], [1.0, \"#f0f921\"]], \"type\": \"heatmap\"}], \"heatmapgl\": [{\"colorbar\": {\"outlinewidth\": 0, \"ticks\": \"\"}, \"colorscale\": [[0.0, \"#0d0887\"], [0.1111111111111111, \"#46039f\"], [0.2222222222222222, \"#7201a8\"], [0.3333333333333333, \"#9c179e\"], [0.4444444444444444, \"#bd3786\"], [0.5555555555555556, \"#d8576b\"], [0.6666666666666666, \"#ed7953\"], [0.7777777777777778, \"#fb9f3a\"], [0.8888888888888888, \"#fdca26\"], [1.0, \"#f0f921\"]], \"type\": \"heatmapgl\"}], \"histogram\": [{\"marker\": {\"colorbar\": {\"outlinewidth\": 0, \"ticks\": \"\"}}, \"type\": \"histogram\"}], \"histogram2d\": [{\"colorbar\": {\"outlinewidth\": 0, \"ticks\": \"\"}, \"colorscale\": [[0.0, \"#0d0887\"], [0.1111111111111111, \"#46039f\"], [0.2222222222222222, \"#7201a8\"], [0.3333333333333333, \"#9c179e\"], [0.4444444444444444, \"#bd3786\"], [0.5555555555555556, \"#d8576b\"], [0.6666666666666666, \"#ed7953\"], [0.7777777777777778, \"#fb9f3a\"], [0.8888888888888888, \"#fdca26\"], [1.0, \"#f0f921\"]], \"type\": \"histogram2d\"}], \"histogram2dcontour\": [{\"colorbar\": {\"outlinewidth\": 0, \"ticks\": \"\"}, \"colorscale\": [[0.0, \"#0d0887\"], [0.1111111111111111, \"#46039f\"], [0.2222222222222222, \"#7201a8\"], [0.3333333333333333, \"#9c179e\"], [0.4444444444444444, \"#bd3786\"], [0.5555555555555556, \"#d8576b\"], [0.6666666666666666, \"#ed7953\"], [0.7777777777777778, \"#fb9f3a\"], [0.8888888888888888, \"#fdca26\"], [1.0, \"#f0f921\"]], \"type\": \"histogram2dcontour\"}], \"mesh3d\": [{\"colorbar\": {\"outlinewidth\": 0, \"ticks\": \"\"}, \"type\": \"mesh3d\"}], \"parcoords\": [{\"line\": {\"colorbar\": {\"outlinewidth\": 0, \"ticks\": \"\"}}, \"type\": \"parcoords\"}], \"pie\": [{\"automargin\": true, \"type\": \"pie\"}], \"scatter\": [{\"marker\": {\"colorbar\": {\"outlinewidth\": 0, \"ticks\": \"\"}}, \"type\": \"scatter\"}], \"scatter3d\": [{\"line\": {\"colorbar\": {\"outlinewidth\": 0, \"ticks\": \"\"}}, \"marker\": {\"colorbar\": {\"outlinewidth\": 0, \"ticks\": \"\"}}, \"type\": \"scatter3d\"}], \"scattercarpet\": [{\"marker\": {\"colorbar\": {\"outlinewidth\": 0, \"ticks\": \"\"}}, \"type\": \"scattercarpet\"}], \"scattergeo\": [{\"marker\": {\"colorbar\": {\"outlinewidth\": 0, \"ticks\": \"\"}}, \"type\": \"scattergeo\"}], \"scattergl\": [{\"marker\": {\"colorbar\": {\"outlinewidth\": 0, \"ticks\": \"\"}}, \"type\": \"scattergl\"}], \"scattermapbox\": [{\"marker\": {\"colorbar\": {\"outlinewidth\": 0, \"ticks\": \"\"}}, \"type\": \"scattermapbox\"}], \"scatterpolar\": [{\"marker\": {\"colorbar\": {\"outlinewidth\": 0, \"ticks\": \"\"}}, \"type\": \"scatterpolar\"}], \"scatterpolargl\": [{\"marker\": {\"colorbar\": {\"outlinewidth\": 0, \"ticks\": \"\"}}, \"type\": \"scatterpolargl\"}], \"scatterternary\": [{\"marker\": {\"colorbar\": {\"outlinewidth\": 0, \"ticks\": \"\"}}, \"type\": \"scatterternary\"}], \"surface\": [{\"colorbar\": {\"outlinewidth\": 0, \"ticks\": \"\"}, \"colorscale\": [[0.0, \"#0d0887\"], [0.1111111111111111, \"#46039f\"], [0.2222222222222222, \"#7201a8\"], [0.3333333333333333, \"#9c179e\"], [0.4444444444444444, \"#bd3786\"], [0.5555555555555556, \"#d8576b\"], [0.6666666666666666, \"#ed7953\"], [0.7777777777777778, \"#fb9f3a\"], [0.8888888888888888, \"#fdca26\"], [1.0, \"#f0f921\"]], \"type\": \"surface\"}], \"table\": [{\"cells\": {\"fill\": {\"color\": \"#EBF0F8\"}, \"line\": {\"color\": \"white\"}}, \"header\": {\"fill\": {\"color\": \"#C8D4E3\"}, \"line\": {\"color\": \"white\"}}, \"type\": \"table\"}]}, \"layout\": {\"annotationdefaults\": {\"arrowcolor\": \"#2a3f5f\", \"arrowhead\": 0, \"arrowwidth\": 1}, \"autotypenumbers\": \"strict\", \"coloraxis\": {\"colorbar\": {\"outlinewidth\": 0, \"ticks\": \"\"}}, \"colorscale\": {\"diverging\": [[0, \"#8e0152\"], [0.1, \"#c51b7d\"], [0.2, \"#de77ae\"], [0.3, \"#f1b6da\"], [0.4, \"#fde0ef\"], [0.5, \"#f7f7f7\"], [0.6, \"#e6f5d0\"], [0.7, \"#b8e186\"], [0.8, \"#7fbc41\"], [0.9, \"#4d9221\"], [1, \"#276419\"]], \"sequential\": [[0.0, \"#0d0887\"], [0.1111111111111111, \"#46039f\"], [0.2222222222222222, \"#7201a8\"], [0.3333333333333333, \"#9c179e\"], [0.4444444444444444, \"#bd3786\"], [0.5555555555555556, \"#d8576b\"], [0.6666666666666666, \"#ed7953\"], [0.7777777777777778, \"#fb9f3a\"], [0.8888888888888888, \"#fdca26\"], [1.0, \"#f0f921\"]], \"sequentialminus\": [[0.0, \"#0d0887\"], [0.1111111111111111, \"#46039f\"], [0.2222222222222222, \"#7201a8\"], [0.3333333333333333, \"#9c179e\"], [0.4444444444444444, \"#bd3786\"], [0.5555555555555556, \"#d8576b\"], [0.6666666666666666, \"#ed7953\"], [0.7777777777777778, \"#fb9f3a\"], [0.8888888888888888, \"#fdca26\"], [1.0, \"#f0f921\"]]}, \"colorway\": [\"#636efa\", \"#EF553B\", \"#00cc96\", \"#ab63fa\", \"#FFA15A\", \"#19d3f3\", \"#FF6692\", \"#B6E880\", \"#FF97FF\", \"#FECB52\"], \"font\": {\"color\": \"#2a3f5f\"}, \"geo\": {\"bgcolor\": \"white\", \"lakecolor\": \"white\", \"landcolor\": \"#E5ECF6\", \"showlakes\": true, \"showland\": true, \"subunitcolor\": \"white\"}, \"hoverlabel\": {\"align\": \"left\"}, \"hovermode\": \"closest\", \"mapbox\": {\"style\": \"light\"}, \"paper_bgcolor\": \"white\", \"plot_bgcolor\": \"#E5ECF6\", \"polar\": {\"angularaxis\": {\"gridcolor\": \"white\", \"linecolor\": \"white\", \"ticks\": \"\"}, \"bgcolor\": \"#E5ECF6\", \"radialaxis\": {\"gridcolor\": \"white\", \"linecolor\": \"white\", \"ticks\": \"\"}}, \"scene\": {\"xaxis\": {\"backgroundcolor\": \"#E5ECF6\", \"gridcolor\": \"white\", \"gridwidth\": 2, \"linecolor\": \"white\", \"showbackground\": true, \"ticks\": \"\", \"zerolinecolor\": \"white\"}, \"yaxis\": {\"backgroundcolor\": \"#E5ECF6\", \"gridcolor\": \"white\", \"gridwidth\": 2, \"linecolor\": \"white\", \"showbackground\": true, \"ticks\": \"\", \"zerolinecolor\": \"white\"}, \"zaxis\": {\"backgroundcolor\": \"#E5ECF6\", \"gridcolor\": \"white\", \"gridwidth\": 2, \"linecolor\": \"white\", \"showbackground\": true, \"ticks\": \"\", \"zerolinecolor\": \"white\"}}, \"shapedefaults\": {\"line\": {\"color\": \"#2a3f5f\"}}, \"ternary\": {\"aaxis\": {\"gridcolor\": \"white\", \"linecolor\": \"white\", \"ticks\": \"\"}, \"baxis\": {\"gridcolor\": \"white\", \"linecolor\": \"white\", \"ticks\": \"\"}, \"bgcolor\": \"#E5ECF6\", \"caxis\": {\"gridcolor\": \"white\", \"linecolor\": \"white\", \"ticks\": \"\"}}, \"title\": {\"x\": 0.05}, \"xaxis\": {\"automargin\": true, \"gridcolor\": \"white\", \"linecolor\": \"white\", \"ticks\": \"\", \"title\": {\"standoff\": 15}, \"zerolinecolor\": \"white\", \"zerolinewidth\": 2}, \"yaxis\": {\"automargin\": true, \"gridcolor\": \"white\", \"linecolor\": \"white\", \"ticks\": \"\", \"title\": {\"standoff\": 15}, \"zerolinecolor\": \"white\", \"zerolinewidth\": 2}}}, \"title\": {\"text\": \"Correlation Matrix\"}, \"xaxis\": {\"anchor\": \"y\", \"constrain\": \"domain\", \"domain\": [0.0, 1.0], \"scaleanchor\": \"y\"}, \"yaxis\": {\"anchor\": \"x\", \"autorange\": \"reversed\", \"constrain\": \"domain\", \"domain\": [0.0, 1.0]}},                        {\"responsive\": true}                    ).then(function(){\n",
       "                            \n",
       "var gd = document.getElementById('b77e9bbc-d26a-4cd3-bcc3-d9107395e9c6');\n",
       "var x = new MutationObserver(function (mutations, observer) {{\n",
       "        var display = window.getComputedStyle(gd).display;\n",
       "        if (!display || display === 'none') {{\n",
       "            console.log([gd, 'removed!']);\n",
       "            Plotly.purge(gd);\n",
       "            observer.disconnect();\n",
       "        }}\n",
       "}});\n",
       "\n",
       "// Listen for the removal of the full notebook cells\n",
       "var notebookContainer = gd.closest('#notebook-container');\n",
       "if (notebookContainer) {{\n",
       "    x.observe(notebookContainer, {childList: true});\n",
       "}}\n",
       "\n",
       "// Listen for the clearing of the current output cell\n",
       "var outputEl = gd.closest('.output');\n",
       "if (outputEl) {{\n",
       "    x.observe(outputEl, {childList: true});\n",
       "}}\n",
       "\n",
       "                        })                };                });            </script>        </div>"
      ]
     },
     "metadata": {},
     "output_type": "display_data"
    }
   ],
   "source": [
    "import plotly.express as px\n",
    "\n",
    "fig = px.imshow(cov_matrix, title='Correlation Matrix',\n",
    "                color_continuous_scale=px.colors.diverging.RdYlGn,\n",
    "                zmin=-1, zmax=1)\n",
    "fig.show()"
   ]
  },
  {
   "cell_type": "markdown",
   "metadata": {},
   "source": [
    "#### Проверяем вырожденность матрицы и число обусловленности"
   ]
  },
  {
   "cell_type": "code",
   "execution_count": 34,
   "metadata": {},
   "outputs": [
    {
     "name": "stdout",
     "output_type": "stream",
     "text": [
      "det = 0.002219356005352476\n",
      "con = 55.688725974909254\n"
     ]
    }
   ],
   "source": [
    "det = np.linalg.det(cov_matrix)\n",
    "print(f'det = {det}')\n",
    "\n",
    "con = np.linalg.cond(cov_matrix, p='fro')\n",
    "print(f'con = {con}')"
   ]
  },
  {
   "cell_type": "markdown",
   "metadata": {},
   "source": [
    "### 1. Истинный оптимальный портфель в модели Марковица с заданным отношением к риску. "
   ]
  },
  {
   "cell_type": "markdown",
   "metadata": {},
   "source": [
    "С заданным отношением к риску  подобираем константу b таким образом, что истинный оптимальный CVaR портфель совпадает с истинным оптимальным портфелем п.1. Значение константы смотри в упражнениях к теме.\n",
    "\n",
    "$$ b = \\frac{1}{\\sqrt{2 \\pi }} \\frac{1}{(1 - \\beta)} exp(-(\\Phi^{-1}(\\beta))^2 / 2)$$"
   ]
  },
  {
   "cell_type": "code",
   "execution_count": 35,
   "metadata": {},
   "outputs": [
    {
     "name": "stdout",
     "output_type": "stream",
     "text": [
      "b = 6.632540979594675\n"
     ]
    }
   ],
   "source": [
    "import math\n",
    "from scipy.stats import norm\n",
    "\n",
    "beta = 0.95\n",
    "b = (1 / math.sqrt(2 * math.pi)) * (1 / (1 - beta)) * np.exp(-((norm.ppf(beta))**(-1))**2 / 2) \n",
    "print(f'b = {b}')"
   ]
  },
  {
   "cell_type": "markdown",
   "metadata": {},
   "source": [
    "#### Решаем задачу оптимизации \n",
    "\n",
    "$$ -E(x)+ с \\cdot σ(x) \\rightarrow min $$\n",
    "при условиях:\n",
    "$$ x_1 + x_2 + ... +x_N = 1 $$\n",
    "$$ x_i >= 0 $$\n",
    "где\n",
    "$$ E(x)= E_1x_1 + E_2 x_2 + ... + E_Nx_N $$\n",
    "$$ σ^2(x)=\\Sigma\\Sigma σ_{i,j} x_i \\cdot x_j $$"
   ]
  },
  {
   "cell_type": "code",
   "execution_count": 36,
   "metadata": {},
   "outputs": [],
   "source": [
    "import math \n",
    "import numpy as np\n",
    "from scipy.optimize import minimize\n",
    "\n",
    "def get_E(x, vector_E):\n",
    "    E = sum([(E_i * x_i) for E_i, x_i in zip(vector_E, x)]) \n",
    "    return E\n",
    "\n",
    "\n",
    "def get_sigma(x, matrix_cov):\n",
    "    sigma_squared = 0\n",
    "    \n",
    "    for i in range(len(x)):\n",
    "        for j in range(len(x)):\n",
    "            simga_i_j = matrix_cov.iloc[i].iloc[j]\n",
    "            sigma_squared += simga_i_j * x[i] * x[j]\n",
    "    \n",
    "    sigma = math.sqrt(sigma_squared)\n",
    "    return sigma\n",
    "            \n",
    "            \n",
    "def target_function(x, vector_E, matrix_cov, minusE):\n",
    "    E = get_E(x, vector_E)\n",
    "    sigma = get_sigma(x, matrix_cov)\n",
    "    if minusE:\n",
    "        result = -E + b * sigma\n",
    "    else:\n",
    "        result = E + b * sigma\n",
    "    return result\n",
    "\n",
    "\n",
    "def find_optimal(vector_E=estims['logret_mean'], matrix_cov=cov_matrix, minusE=True):\n",
    "    x0 = np.array([1/len(assets)] * len(assets))\n",
    "    solution = minimize(target_function, x0, args=(vector_E, matrix_cov, minusE), \n",
    "                        method='SLSQP', \n",
    "                        constraints=[{'type': 'eq',  'fun': lambda x: sum(x) - 1}],\n",
    "                        bounds=[(0, 1)] * len(assets))\n",
    "    if not solution.success:\n",
    "        raise Exception(opt.message)\n",
    "    return solution\n",
    "    \n",
    "true_opt_solution = find_optimal()"
   ]
  },
  {
   "cell_type": "markdown",
   "metadata": {},
   "source": [
    "#### Веса портфеля:"
   ]
  },
  {
   "cell_type": "code",
   "execution_count": 37,
   "metadata": {},
   "outputs": [
    {
     "name": "stdout",
     "output_type": "stream",
     "text": [
      "Сумма весов: 1.0000000000000002\n"
     ]
    },
    {
     "data": {
      "application/vnd.plotly.v1+json": {
       "config": {
        "plotlyServerURL": "https://plot.ly"
       },
       "data": [
        {
         "alignmentgroup": "True",
         "hovertemplate": "x=%{x}<br>y=%{y}<extra></extra>",
         "legendgroup": "",
         "marker": {
          "color": "#636efa"
         },
         "name": "",
         "offsetgroup": "",
         "orientation": "v",
         "showlegend": false,
         "textposition": "auto",
         "type": "bar",
         "x": [
          "MDLZ",
          "MSFT",
          "NXPI",
          "PCAR",
          "INTC",
          "NVDA",
          "ILMN",
          "DXCM",
          "ROST",
          "LULU",
          "PRFT",
          "FTNT",
          "WIRE",
          "NFLX",
          "GAIN",
          "SYNA",
          "NYMTP",
          "ANAT",
          "TRNS",
          "SFBS"
         ],
         "xaxis": "x",
         "y": [
          0.09959931261370214,
          3.4976338634553334e-17,
          3.4537133699634563e-16,
          0.048180973254485594,
          0.01633353241986365,
          0.05317316549427219,
          0.0706979587672081,
          0.04798557344182509,
          0.010817471915098319,
          0.039716649068657586,
          0.005620246595074612,
          0.007503252849357837,
          0.06058322011154485,
          0.0898490907228986,
          0.007328591377087785,
          3.0540404761974374e-17,
          0.17813712210938315,
          0.13871054392557758,
          0.08173581159492667,
          0.04402748373903616
         ],
         "yaxis": "y"
        }
       ],
       "layout": {
        "barmode": "relative",
        "legend": {
         "tracegroupgap": 0
        },
        "margin": {
         "t": 60
        },
        "template": {
         "data": {
          "bar": [
           {
            "error_x": {
             "color": "#2a3f5f"
            },
            "error_y": {
             "color": "#2a3f5f"
            },
            "marker": {
             "line": {
              "color": "#E5ECF6",
              "width": 0.5
             }
            },
            "type": "bar"
           }
          ],
          "barpolar": [
           {
            "marker": {
             "line": {
              "color": "#E5ECF6",
              "width": 0.5
             }
            },
            "type": "barpolar"
           }
          ],
          "carpet": [
           {
            "aaxis": {
             "endlinecolor": "#2a3f5f",
             "gridcolor": "white",
             "linecolor": "white",
             "minorgridcolor": "white",
             "startlinecolor": "#2a3f5f"
            },
            "baxis": {
             "endlinecolor": "#2a3f5f",
             "gridcolor": "white",
             "linecolor": "white",
             "minorgridcolor": "white",
             "startlinecolor": "#2a3f5f"
            },
            "type": "carpet"
           }
          ],
          "choropleth": [
           {
            "colorbar": {
             "outlinewidth": 0,
             "ticks": ""
            },
            "type": "choropleth"
           }
          ],
          "contour": [
           {
            "colorbar": {
             "outlinewidth": 0,
             "ticks": ""
            },
            "colorscale": [
             [
              0,
              "#0d0887"
             ],
             [
              0.1111111111111111,
              "#46039f"
             ],
             [
              0.2222222222222222,
              "#7201a8"
             ],
             [
              0.3333333333333333,
              "#9c179e"
             ],
             [
              0.4444444444444444,
              "#bd3786"
             ],
             [
              0.5555555555555556,
              "#d8576b"
             ],
             [
              0.6666666666666666,
              "#ed7953"
             ],
             [
              0.7777777777777778,
              "#fb9f3a"
             ],
             [
              0.8888888888888888,
              "#fdca26"
             ],
             [
              1,
              "#f0f921"
             ]
            ],
            "type": "contour"
           }
          ],
          "contourcarpet": [
           {
            "colorbar": {
             "outlinewidth": 0,
             "ticks": ""
            },
            "type": "contourcarpet"
           }
          ],
          "heatmap": [
           {
            "colorbar": {
             "outlinewidth": 0,
             "ticks": ""
            },
            "colorscale": [
             [
              0,
              "#0d0887"
             ],
             [
              0.1111111111111111,
              "#46039f"
             ],
             [
              0.2222222222222222,
              "#7201a8"
             ],
             [
              0.3333333333333333,
              "#9c179e"
             ],
             [
              0.4444444444444444,
              "#bd3786"
             ],
             [
              0.5555555555555556,
              "#d8576b"
             ],
             [
              0.6666666666666666,
              "#ed7953"
             ],
             [
              0.7777777777777778,
              "#fb9f3a"
             ],
             [
              0.8888888888888888,
              "#fdca26"
             ],
             [
              1,
              "#f0f921"
             ]
            ],
            "type": "heatmap"
           }
          ],
          "heatmapgl": [
           {
            "colorbar": {
             "outlinewidth": 0,
             "ticks": ""
            },
            "colorscale": [
             [
              0,
              "#0d0887"
             ],
             [
              0.1111111111111111,
              "#46039f"
             ],
             [
              0.2222222222222222,
              "#7201a8"
             ],
             [
              0.3333333333333333,
              "#9c179e"
             ],
             [
              0.4444444444444444,
              "#bd3786"
             ],
             [
              0.5555555555555556,
              "#d8576b"
             ],
             [
              0.6666666666666666,
              "#ed7953"
             ],
             [
              0.7777777777777778,
              "#fb9f3a"
             ],
             [
              0.8888888888888888,
              "#fdca26"
             ],
             [
              1,
              "#f0f921"
             ]
            ],
            "type": "heatmapgl"
           }
          ],
          "histogram": [
           {
            "marker": {
             "colorbar": {
              "outlinewidth": 0,
              "ticks": ""
             }
            },
            "type": "histogram"
           }
          ],
          "histogram2d": [
           {
            "colorbar": {
             "outlinewidth": 0,
             "ticks": ""
            },
            "colorscale": [
             [
              0,
              "#0d0887"
             ],
             [
              0.1111111111111111,
              "#46039f"
             ],
             [
              0.2222222222222222,
              "#7201a8"
             ],
             [
              0.3333333333333333,
              "#9c179e"
             ],
             [
              0.4444444444444444,
              "#bd3786"
             ],
             [
              0.5555555555555556,
              "#d8576b"
             ],
             [
              0.6666666666666666,
              "#ed7953"
             ],
             [
              0.7777777777777778,
              "#fb9f3a"
             ],
             [
              0.8888888888888888,
              "#fdca26"
             ],
             [
              1,
              "#f0f921"
             ]
            ],
            "type": "histogram2d"
           }
          ],
          "histogram2dcontour": [
           {
            "colorbar": {
             "outlinewidth": 0,
             "ticks": ""
            },
            "colorscale": [
             [
              0,
              "#0d0887"
             ],
             [
              0.1111111111111111,
              "#46039f"
             ],
             [
              0.2222222222222222,
              "#7201a8"
             ],
             [
              0.3333333333333333,
              "#9c179e"
             ],
             [
              0.4444444444444444,
              "#bd3786"
             ],
             [
              0.5555555555555556,
              "#d8576b"
             ],
             [
              0.6666666666666666,
              "#ed7953"
             ],
             [
              0.7777777777777778,
              "#fb9f3a"
             ],
             [
              0.8888888888888888,
              "#fdca26"
             ],
             [
              1,
              "#f0f921"
             ]
            ],
            "type": "histogram2dcontour"
           }
          ],
          "mesh3d": [
           {
            "colorbar": {
             "outlinewidth": 0,
             "ticks": ""
            },
            "type": "mesh3d"
           }
          ],
          "parcoords": [
           {
            "line": {
             "colorbar": {
              "outlinewidth": 0,
              "ticks": ""
             }
            },
            "type": "parcoords"
           }
          ],
          "pie": [
           {
            "automargin": true,
            "type": "pie"
           }
          ],
          "scatter": [
           {
            "marker": {
             "colorbar": {
              "outlinewidth": 0,
              "ticks": ""
             }
            },
            "type": "scatter"
           }
          ],
          "scatter3d": [
           {
            "line": {
             "colorbar": {
              "outlinewidth": 0,
              "ticks": ""
             }
            },
            "marker": {
             "colorbar": {
              "outlinewidth": 0,
              "ticks": ""
             }
            },
            "type": "scatter3d"
           }
          ],
          "scattercarpet": [
           {
            "marker": {
             "colorbar": {
              "outlinewidth": 0,
              "ticks": ""
             }
            },
            "type": "scattercarpet"
           }
          ],
          "scattergeo": [
           {
            "marker": {
             "colorbar": {
              "outlinewidth": 0,
              "ticks": ""
             }
            },
            "type": "scattergeo"
           }
          ],
          "scattergl": [
           {
            "marker": {
             "colorbar": {
              "outlinewidth": 0,
              "ticks": ""
             }
            },
            "type": "scattergl"
           }
          ],
          "scattermapbox": [
           {
            "marker": {
             "colorbar": {
              "outlinewidth": 0,
              "ticks": ""
             }
            },
            "type": "scattermapbox"
           }
          ],
          "scatterpolar": [
           {
            "marker": {
             "colorbar": {
              "outlinewidth": 0,
              "ticks": ""
             }
            },
            "type": "scatterpolar"
           }
          ],
          "scatterpolargl": [
           {
            "marker": {
             "colorbar": {
              "outlinewidth": 0,
              "ticks": ""
             }
            },
            "type": "scatterpolargl"
           }
          ],
          "scatterternary": [
           {
            "marker": {
             "colorbar": {
              "outlinewidth": 0,
              "ticks": ""
             }
            },
            "type": "scatterternary"
           }
          ],
          "surface": [
           {
            "colorbar": {
             "outlinewidth": 0,
             "ticks": ""
            },
            "colorscale": [
             [
              0,
              "#0d0887"
             ],
             [
              0.1111111111111111,
              "#46039f"
             ],
             [
              0.2222222222222222,
              "#7201a8"
             ],
             [
              0.3333333333333333,
              "#9c179e"
             ],
             [
              0.4444444444444444,
              "#bd3786"
             ],
             [
              0.5555555555555556,
              "#d8576b"
             ],
             [
              0.6666666666666666,
              "#ed7953"
             ],
             [
              0.7777777777777778,
              "#fb9f3a"
             ],
             [
              0.8888888888888888,
              "#fdca26"
             ],
             [
              1,
              "#f0f921"
             ]
            ],
            "type": "surface"
           }
          ],
          "table": [
           {
            "cells": {
             "fill": {
              "color": "#EBF0F8"
             },
             "line": {
              "color": "white"
             }
            },
            "header": {
             "fill": {
              "color": "#C8D4E3"
             },
             "line": {
              "color": "white"
             }
            },
            "type": "table"
           }
          ]
         },
         "layout": {
          "annotationdefaults": {
           "arrowcolor": "#2a3f5f",
           "arrowhead": 0,
           "arrowwidth": 1
          },
          "autotypenumbers": "strict",
          "coloraxis": {
           "colorbar": {
            "outlinewidth": 0,
            "ticks": ""
           }
          },
          "colorscale": {
           "diverging": [
            [
             0,
             "#8e0152"
            ],
            [
             0.1,
             "#c51b7d"
            ],
            [
             0.2,
             "#de77ae"
            ],
            [
             0.3,
             "#f1b6da"
            ],
            [
             0.4,
             "#fde0ef"
            ],
            [
             0.5,
             "#f7f7f7"
            ],
            [
             0.6,
             "#e6f5d0"
            ],
            [
             0.7,
             "#b8e186"
            ],
            [
             0.8,
             "#7fbc41"
            ],
            [
             0.9,
             "#4d9221"
            ],
            [
             1,
             "#276419"
            ]
           ],
           "sequential": [
            [
             0,
             "#0d0887"
            ],
            [
             0.1111111111111111,
             "#46039f"
            ],
            [
             0.2222222222222222,
             "#7201a8"
            ],
            [
             0.3333333333333333,
             "#9c179e"
            ],
            [
             0.4444444444444444,
             "#bd3786"
            ],
            [
             0.5555555555555556,
             "#d8576b"
            ],
            [
             0.6666666666666666,
             "#ed7953"
            ],
            [
             0.7777777777777778,
             "#fb9f3a"
            ],
            [
             0.8888888888888888,
             "#fdca26"
            ],
            [
             1,
             "#f0f921"
            ]
           ],
           "sequentialminus": [
            [
             0,
             "#0d0887"
            ],
            [
             0.1111111111111111,
             "#46039f"
            ],
            [
             0.2222222222222222,
             "#7201a8"
            ],
            [
             0.3333333333333333,
             "#9c179e"
            ],
            [
             0.4444444444444444,
             "#bd3786"
            ],
            [
             0.5555555555555556,
             "#d8576b"
            ],
            [
             0.6666666666666666,
             "#ed7953"
            ],
            [
             0.7777777777777778,
             "#fb9f3a"
            ],
            [
             0.8888888888888888,
             "#fdca26"
            ],
            [
             1,
             "#f0f921"
            ]
           ]
          },
          "colorway": [
           "#636efa",
           "#EF553B",
           "#00cc96",
           "#ab63fa",
           "#FFA15A",
           "#19d3f3",
           "#FF6692",
           "#B6E880",
           "#FF97FF",
           "#FECB52"
          ],
          "font": {
           "color": "#2a3f5f"
          },
          "geo": {
           "bgcolor": "white",
           "lakecolor": "white",
           "landcolor": "#E5ECF6",
           "showlakes": true,
           "showland": true,
           "subunitcolor": "white"
          },
          "hoverlabel": {
           "align": "left"
          },
          "hovermode": "closest",
          "mapbox": {
           "style": "light"
          },
          "paper_bgcolor": "white",
          "plot_bgcolor": "#E5ECF6",
          "polar": {
           "angularaxis": {
            "gridcolor": "white",
            "linecolor": "white",
            "ticks": ""
           },
           "bgcolor": "#E5ECF6",
           "radialaxis": {
            "gridcolor": "white",
            "linecolor": "white",
            "ticks": ""
           }
          },
          "scene": {
           "xaxis": {
            "backgroundcolor": "#E5ECF6",
            "gridcolor": "white",
            "gridwidth": 2,
            "linecolor": "white",
            "showbackground": true,
            "ticks": "",
            "zerolinecolor": "white"
           },
           "yaxis": {
            "backgroundcolor": "#E5ECF6",
            "gridcolor": "white",
            "gridwidth": 2,
            "linecolor": "white",
            "showbackground": true,
            "ticks": "",
            "zerolinecolor": "white"
           },
           "zaxis": {
            "backgroundcolor": "#E5ECF6",
            "gridcolor": "white",
            "gridwidth": 2,
            "linecolor": "white",
            "showbackground": true,
            "ticks": "",
            "zerolinecolor": "white"
           }
          },
          "shapedefaults": {
           "line": {
            "color": "#2a3f5f"
           }
          },
          "ternary": {
           "aaxis": {
            "gridcolor": "white",
            "linecolor": "white",
            "ticks": ""
           },
           "baxis": {
            "gridcolor": "white",
            "linecolor": "white",
            "ticks": ""
           },
           "bgcolor": "#E5ECF6",
           "caxis": {
            "gridcolor": "white",
            "linecolor": "white",
            "ticks": ""
           }
          },
          "title": {
           "x": 0.05
          },
          "xaxis": {
           "automargin": true,
           "gridcolor": "white",
           "linecolor": "white",
           "ticks": "",
           "title": {
            "standoff": 15
           },
           "zerolinecolor": "white",
           "zerolinewidth": 2
          },
          "yaxis": {
           "automargin": true,
           "gridcolor": "white",
           "linecolor": "white",
           "ticks": "",
           "title": {
            "standoff": 15
           },
           "zerolinecolor": "white",
           "zerolinewidth": 2
          }
         }
        },
        "xaxis": {
         "anchor": "y",
         "domain": [
          0,
          1
         ],
         "title": {
          "text": "x"
         }
        },
        "yaxis": {
         "anchor": "x",
         "domain": [
          0,
          1
         ],
         "title": {
          "text": "y"
         }
        }
       }
      },
      "text/html": [
       "<div>                            <div id=\"8779968c-7690-40e5-8714-8ff89bde4e39\" class=\"plotly-graph-div\" style=\"height:525px; width:100%;\"></div>            <script type=\"text/javascript\">                require([\"plotly\"], function(Plotly) {                    window.PLOTLYENV=window.PLOTLYENV || {};                                    if (document.getElementById(\"8779968c-7690-40e5-8714-8ff89bde4e39\")) {                    Plotly.newPlot(                        \"8779968c-7690-40e5-8714-8ff89bde4e39\",                        [{\"alignmentgroup\": \"True\", \"hovertemplate\": \"x=%{x}<br>y=%{y}<extra></extra>\", \"legendgroup\": \"\", \"marker\": {\"color\": \"#636efa\"}, \"name\": \"\", \"offsetgroup\": \"\", \"orientation\": \"v\", \"showlegend\": false, \"textposition\": \"auto\", \"type\": \"bar\", \"x\": [\"MDLZ\", \"MSFT\", \"NXPI\", \"PCAR\", \"INTC\", \"NVDA\", \"ILMN\", \"DXCM\", \"ROST\", \"LULU\", \"PRFT\", \"FTNT\", \"WIRE\", \"NFLX\", \"GAIN\", \"SYNA\", \"NYMTP\", \"ANAT\", \"TRNS\", \"SFBS\"], \"xaxis\": \"x\", \"y\": [0.09959931261370214, 3.4976338634553334e-17, 3.4537133699634563e-16, 0.048180973254485594, 0.01633353241986365, 0.05317316549427219, 0.0706979587672081, 0.04798557344182509, 0.010817471915098319, 0.039716649068657586, 0.005620246595074612, 0.007503252849357837, 0.06058322011154485, 0.0898490907228986, 0.007328591377087785, 3.0540404761974374e-17, 0.17813712210938315, 0.13871054392557758, 0.08173581159492667, 0.04402748373903616], \"yaxis\": \"y\"}],                        {\"barmode\": \"relative\", \"legend\": {\"tracegroupgap\": 0}, \"margin\": {\"t\": 60}, \"template\": {\"data\": {\"bar\": [{\"error_x\": {\"color\": \"#2a3f5f\"}, \"error_y\": {\"color\": \"#2a3f5f\"}, \"marker\": {\"line\": {\"color\": \"#E5ECF6\", \"width\": 0.5}}, \"type\": \"bar\"}], \"barpolar\": [{\"marker\": {\"line\": {\"color\": \"#E5ECF6\", \"width\": 0.5}}, \"type\": \"barpolar\"}], \"carpet\": [{\"aaxis\": {\"endlinecolor\": \"#2a3f5f\", \"gridcolor\": \"white\", \"linecolor\": \"white\", \"minorgridcolor\": \"white\", \"startlinecolor\": \"#2a3f5f\"}, \"baxis\": {\"endlinecolor\": \"#2a3f5f\", \"gridcolor\": \"white\", \"linecolor\": \"white\", \"minorgridcolor\": \"white\", \"startlinecolor\": \"#2a3f5f\"}, \"type\": \"carpet\"}], \"choropleth\": [{\"colorbar\": {\"outlinewidth\": 0, \"ticks\": \"\"}, \"type\": \"choropleth\"}], \"contour\": [{\"colorbar\": {\"outlinewidth\": 0, \"ticks\": \"\"}, \"colorscale\": [[0.0, \"#0d0887\"], [0.1111111111111111, \"#46039f\"], [0.2222222222222222, \"#7201a8\"], [0.3333333333333333, \"#9c179e\"], [0.4444444444444444, \"#bd3786\"], [0.5555555555555556, \"#d8576b\"], [0.6666666666666666, \"#ed7953\"], [0.7777777777777778, \"#fb9f3a\"], [0.8888888888888888, \"#fdca26\"], [1.0, \"#f0f921\"]], \"type\": \"contour\"}], \"contourcarpet\": [{\"colorbar\": {\"outlinewidth\": 0, \"ticks\": \"\"}, \"type\": \"contourcarpet\"}], \"heatmap\": [{\"colorbar\": {\"outlinewidth\": 0, \"ticks\": \"\"}, \"colorscale\": [[0.0, \"#0d0887\"], [0.1111111111111111, \"#46039f\"], [0.2222222222222222, \"#7201a8\"], [0.3333333333333333, \"#9c179e\"], [0.4444444444444444, \"#bd3786\"], [0.5555555555555556, \"#d8576b\"], [0.6666666666666666, \"#ed7953\"], [0.7777777777777778, \"#fb9f3a\"], [0.8888888888888888, \"#fdca26\"], [1.0, \"#f0f921\"]], \"type\": \"heatmap\"}], \"heatmapgl\": [{\"colorbar\": {\"outlinewidth\": 0, \"ticks\": \"\"}, \"colorscale\": [[0.0, \"#0d0887\"], [0.1111111111111111, \"#46039f\"], [0.2222222222222222, \"#7201a8\"], [0.3333333333333333, \"#9c179e\"], [0.4444444444444444, \"#bd3786\"], [0.5555555555555556, \"#d8576b\"], [0.6666666666666666, \"#ed7953\"], [0.7777777777777778, \"#fb9f3a\"], [0.8888888888888888, \"#fdca26\"], [1.0, \"#f0f921\"]], \"type\": \"heatmapgl\"}], \"histogram\": [{\"marker\": {\"colorbar\": {\"outlinewidth\": 0, \"ticks\": \"\"}}, \"type\": \"histogram\"}], \"histogram2d\": [{\"colorbar\": {\"outlinewidth\": 0, \"ticks\": \"\"}, \"colorscale\": [[0.0, \"#0d0887\"], [0.1111111111111111, \"#46039f\"], [0.2222222222222222, \"#7201a8\"], [0.3333333333333333, \"#9c179e\"], [0.4444444444444444, \"#bd3786\"], [0.5555555555555556, \"#d8576b\"], [0.6666666666666666, \"#ed7953\"], [0.7777777777777778, \"#fb9f3a\"], [0.8888888888888888, \"#fdca26\"], [1.0, \"#f0f921\"]], \"type\": \"histogram2d\"}], \"histogram2dcontour\": [{\"colorbar\": {\"outlinewidth\": 0, \"ticks\": \"\"}, \"colorscale\": [[0.0, \"#0d0887\"], [0.1111111111111111, \"#46039f\"], [0.2222222222222222, \"#7201a8\"], [0.3333333333333333, \"#9c179e\"], [0.4444444444444444, \"#bd3786\"], [0.5555555555555556, \"#d8576b\"], [0.6666666666666666, \"#ed7953\"], [0.7777777777777778, \"#fb9f3a\"], [0.8888888888888888, \"#fdca26\"], [1.0, \"#f0f921\"]], \"type\": \"histogram2dcontour\"}], \"mesh3d\": [{\"colorbar\": {\"outlinewidth\": 0, \"ticks\": \"\"}, \"type\": \"mesh3d\"}], \"parcoords\": [{\"line\": {\"colorbar\": {\"outlinewidth\": 0, \"ticks\": \"\"}}, \"type\": \"parcoords\"}], \"pie\": [{\"automargin\": true, \"type\": \"pie\"}], \"scatter\": [{\"marker\": {\"colorbar\": {\"outlinewidth\": 0, \"ticks\": \"\"}}, \"type\": \"scatter\"}], \"scatter3d\": [{\"line\": {\"colorbar\": {\"outlinewidth\": 0, \"ticks\": \"\"}}, \"marker\": {\"colorbar\": {\"outlinewidth\": 0, \"ticks\": \"\"}}, \"type\": \"scatter3d\"}], \"scattercarpet\": [{\"marker\": {\"colorbar\": {\"outlinewidth\": 0, \"ticks\": \"\"}}, \"type\": \"scattercarpet\"}], \"scattergeo\": [{\"marker\": {\"colorbar\": {\"outlinewidth\": 0, \"ticks\": \"\"}}, \"type\": \"scattergeo\"}], \"scattergl\": [{\"marker\": {\"colorbar\": {\"outlinewidth\": 0, \"ticks\": \"\"}}, \"type\": \"scattergl\"}], \"scattermapbox\": [{\"marker\": {\"colorbar\": {\"outlinewidth\": 0, \"ticks\": \"\"}}, \"type\": \"scattermapbox\"}], \"scatterpolar\": [{\"marker\": {\"colorbar\": {\"outlinewidth\": 0, \"ticks\": \"\"}}, \"type\": \"scatterpolar\"}], \"scatterpolargl\": [{\"marker\": {\"colorbar\": {\"outlinewidth\": 0, \"ticks\": \"\"}}, \"type\": \"scatterpolargl\"}], \"scatterternary\": [{\"marker\": {\"colorbar\": {\"outlinewidth\": 0, \"ticks\": \"\"}}, \"type\": \"scatterternary\"}], \"surface\": [{\"colorbar\": {\"outlinewidth\": 0, \"ticks\": \"\"}, \"colorscale\": [[0.0, \"#0d0887\"], [0.1111111111111111, \"#46039f\"], [0.2222222222222222, \"#7201a8\"], [0.3333333333333333, \"#9c179e\"], [0.4444444444444444, \"#bd3786\"], [0.5555555555555556, \"#d8576b\"], [0.6666666666666666, \"#ed7953\"], [0.7777777777777778, \"#fb9f3a\"], [0.8888888888888888, \"#fdca26\"], [1.0, \"#f0f921\"]], \"type\": \"surface\"}], \"table\": [{\"cells\": {\"fill\": {\"color\": \"#EBF0F8\"}, \"line\": {\"color\": \"white\"}}, \"header\": {\"fill\": {\"color\": \"#C8D4E3\"}, \"line\": {\"color\": \"white\"}}, \"type\": \"table\"}]}, \"layout\": {\"annotationdefaults\": {\"arrowcolor\": \"#2a3f5f\", \"arrowhead\": 0, \"arrowwidth\": 1}, \"autotypenumbers\": \"strict\", \"coloraxis\": {\"colorbar\": {\"outlinewidth\": 0, \"ticks\": \"\"}}, \"colorscale\": {\"diverging\": [[0, \"#8e0152\"], [0.1, \"#c51b7d\"], [0.2, \"#de77ae\"], [0.3, \"#f1b6da\"], [0.4, \"#fde0ef\"], [0.5, \"#f7f7f7\"], [0.6, \"#e6f5d0\"], [0.7, \"#b8e186\"], [0.8, \"#7fbc41\"], [0.9, \"#4d9221\"], [1, \"#276419\"]], \"sequential\": [[0.0, \"#0d0887\"], [0.1111111111111111, \"#46039f\"], [0.2222222222222222, \"#7201a8\"], [0.3333333333333333, \"#9c179e\"], [0.4444444444444444, \"#bd3786\"], [0.5555555555555556, \"#d8576b\"], [0.6666666666666666, \"#ed7953\"], [0.7777777777777778, \"#fb9f3a\"], [0.8888888888888888, \"#fdca26\"], [1.0, \"#f0f921\"]], \"sequentialminus\": [[0.0, \"#0d0887\"], [0.1111111111111111, \"#46039f\"], [0.2222222222222222, \"#7201a8\"], [0.3333333333333333, \"#9c179e\"], [0.4444444444444444, \"#bd3786\"], [0.5555555555555556, \"#d8576b\"], [0.6666666666666666, \"#ed7953\"], [0.7777777777777778, \"#fb9f3a\"], [0.8888888888888888, \"#fdca26\"], [1.0, \"#f0f921\"]]}, \"colorway\": [\"#636efa\", \"#EF553B\", \"#00cc96\", \"#ab63fa\", \"#FFA15A\", \"#19d3f3\", \"#FF6692\", \"#B6E880\", \"#FF97FF\", \"#FECB52\"], \"font\": {\"color\": \"#2a3f5f\"}, \"geo\": {\"bgcolor\": \"white\", \"lakecolor\": \"white\", \"landcolor\": \"#E5ECF6\", \"showlakes\": true, \"showland\": true, \"subunitcolor\": \"white\"}, \"hoverlabel\": {\"align\": \"left\"}, \"hovermode\": \"closest\", \"mapbox\": {\"style\": \"light\"}, \"paper_bgcolor\": \"white\", \"plot_bgcolor\": \"#E5ECF6\", \"polar\": {\"angularaxis\": {\"gridcolor\": \"white\", \"linecolor\": \"white\", \"ticks\": \"\"}, \"bgcolor\": \"#E5ECF6\", \"radialaxis\": {\"gridcolor\": \"white\", \"linecolor\": \"white\", \"ticks\": \"\"}}, \"scene\": {\"xaxis\": {\"backgroundcolor\": \"#E5ECF6\", \"gridcolor\": \"white\", \"gridwidth\": 2, \"linecolor\": \"white\", \"showbackground\": true, \"ticks\": \"\", \"zerolinecolor\": \"white\"}, \"yaxis\": {\"backgroundcolor\": \"#E5ECF6\", \"gridcolor\": \"white\", \"gridwidth\": 2, \"linecolor\": \"white\", \"showbackground\": true, \"ticks\": \"\", \"zerolinecolor\": \"white\"}, \"zaxis\": {\"backgroundcolor\": \"#E5ECF6\", \"gridcolor\": \"white\", \"gridwidth\": 2, \"linecolor\": \"white\", \"showbackground\": true, \"ticks\": \"\", \"zerolinecolor\": \"white\"}}, \"shapedefaults\": {\"line\": {\"color\": \"#2a3f5f\"}}, \"ternary\": {\"aaxis\": {\"gridcolor\": \"white\", \"linecolor\": \"white\", \"ticks\": \"\"}, \"baxis\": {\"gridcolor\": \"white\", \"linecolor\": \"white\", \"ticks\": \"\"}, \"bgcolor\": \"#E5ECF6\", \"caxis\": {\"gridcolor\": \"white\", \"linecolor\": \"white\", \"ticks\": \"\"}}, \"title\": {\"x\": 0.05}, \"xaxis\": {\"automargin\": true, \"gridcolor\": \"white\", \"linecolor\": \"white\", \"ticks\": \"\", \"title\": {\"standoff\": 15}, \"zerolinecolor\": \"white\", \"zerolinewidth\": 2}, \"yaxis\": {\"automargin\": true, \"gridcolor\": \"white\", \"linecolor\": \"white\", \"ticks\": \"\", \"title\": {\"standoff\": 15}, \"zerolinecolor\": \"white\", \"zerolinewidth\": 2}}}, \"xaxis\": {\"anchor\": \"y\", \"domain\": [0.0, 1.0], \"title\": {\"text\": \"x\"}}, \"yaxis\": {\"anchor\": \"x\", \"domain\": [0.0, 1.0], \"title\": {\"text\": \"y\"}}},                        {\"responsive\": true}                    ).then(function(){\n",
       "                            \n",
       "var gd = document.getElementById('8779968c-7690-40e5-8714-8ff89bde4e39');\n",
       "var x = new MutationObserver(function (mutations, observer) {{\n",
       "        var display = window.getComputedStyle(gd).display;\n",
       "        if (!display || display === 'none') {{\n",
       "            console.log([gd, 'removed!']);\n",
       "            Plotly.purge(gd);\n",
       "            observer.disconnect();\n",
       "        }}\n",
       "}});\n",
       "\n",
       "// Listen for the removal of the full notebook cells\n",
       "var notebookContainer = gd.closest('#notebook-container');\n",
       "if (notebookContainer) {{\n",
       "    x.observe(notebookContainer, {childList: true});\n",
       "}}\n",
       "\n",
       "// Listen for the clearing of the current output cell\n",
       "var outputEl = gd.closest('.output');\n",
       "if (outputEl) {{\n",
       "    x.observe(outputEl, {childList: true});\n",
       "}}\n",
       "\n",
       "                        })                };                });            </script>        </div>"
      ]
     },
     "metadata": {},
     "output_type": "display_data"
    }
   ],
   "source": [
    "import plotly.express as px\n",
    "\n",
    "print(f'Сумма весов: {sum(true_opt_solution.x)}')\n",
    "fig = px.bar(x=assets, y=true_opt_solution.x)\n",
    "fig.show()"
   ]
  },
  {
   "cell_type": "markdown",
   "metadata": {},
   "source": [
    "#### Значение целевой функции:"
   ]
  },
  {
   "cell_type": "code",
   "execution_count": 38,
   "metadata": {},
   "outputs": [
    {
     "name": "stdout",
     "output_type": "stream",
     "text": [
      "2.881357586257086\n"
     ]
    }
   ],
   "source": [
    "print(true_opt_solution.fun)"
   ]
  },
  {
   "cell_type": "code",
   "execution_count": 39,
   "metadata": {},
   "outputs": [],
   "source": [
    "def get_portfolio_coordinates(weights,\n",
    "                              _tickers,\n",
    "                              _logret_mean,\n",
    "                              _logret_std):\n",
    "    portfolio_logret_mean = 0\n",
    "    portfolio_logret_std = 0\n",
    "     \n",
    "    for i in range(len(_tickers)):\n",
    "        portfolio_logret_mean += weights[i] * _logret_mean[i]\n",
    "        for j in range(len(_tickers)):\n",
    "            portfolio_logret_std += weights[i] * weights[j] * _logret_std.loc[_tickers[i], _tickers[j]]\n",
    "            \n",
    "    portfolio_logret_std = math.sqrt(portfolio_logret_std)\n",
    "    return portfolio_logret_std, portfolio_logret_mean "
   ]
  },
  {
   "cell_type": "code",
   "execution_count": 40,
   "metadata": {},
   "outputs": [
    {
     "data": {
      "application/vnd.plotly.v1+json": {
       "config": {
        "plotlyServerURL": "https://plot.ly"
       },
       "data": [
        {
         "hovertemplate": "<b>%{hovertext}</b><br><br>logret_std=%{x}<br>logret_mean=%{y}<br>size=%{marker.size}<br>color=%{marker.color}<extra></extra>",
         "hovertext": [
          "MDLZ",
          "MSFT",
          "NXPI",
          "PCAR",
          "INTC",
          "NVDA",
          "ILMN",
          "DXCM",
          "ROST",
          "LULU",
          "PRFT",
          "FTNT",
          "WIRE",
          "NFLX",
          "GAIN",
          "SYNA",
          "NYMTP",
          "ANAT",
          "TRNS",
          "SFBS"
         ],
         "legendgroup": "",
         "marker": {
          "color": [
           0.016990543248916124,
           0.137897513531174,
           0.06025620667750318,
           -0.005134882168110197,
           0.005702038878445972,
           0.13673336882496853,
           0.02390971047682555,
           0.10045261218825396,
           0.004062493285307302,
           0.04180199345639453,
           0.2239733967681265,
           0.19590457020749716,
           0.19247777120558257,
           0.05308297582515174,
           0.19139502800622135,
           0.19136995334821802,
           0.1912106544827603,
           0.18728919312924117,
           0.17653067682771867,
           0.17050651289295332
          ],
          "coloraxis": "coloraxis",
          "size": [
           0.09878595286891222,
           0.6386133253466781,
           0.2919591781398528,
           0,
           0.048384858214992985,
           0.6334156334645004,
           0.12967876124593858,
           0.4714287316259975,
           0.04106458885802089,
           0.20956451213309582,
           1.0229263039370082,
           0.8976041586927307,
           0.8823041317638082,
           0.25993202243359864,
           0.8774698826298266,
           0.8773579288961906,
           0.8766466887767999,
           0.8591380854779048,
           0.8111032900211012,
           0.7842065066455202
          ],
          "sizemode": "area",
          "sizeref": 0.0025573157598425206,
          "symbol": "circle"
         },
         "mode": "markers",
         "name": "",
         "orientation": "v",
         "showlegend": false,
         "type": "scatter",
         "x": [
          0.00963519045751316,
          0.012638289005905164,
          0.02333580970834022,
          0.015266080942685294,
          0.020613112838834498,
          0.02589677828471836,
          0.020907029851137286,
          0.022328727002417163,
          0.018766084499206345,
          0.019451344652792014,
          0.019521671663879393,
          0.020082130330677916,
          0.020636257630834032,
          0.020079345695508385,
          0.011634049955443159,
          0.026728790627197647,
          0.004643816026162571,
          0.017515881166274838,
          0.023198057669770854,
          0.017833692302475033
         ],
         "xaxis": "x",
         "y": [
          0.00016370712017992127,
          0.0017427886292026948,
          0.0014061273727726334,
          -7.838952680952162e-05,
          0.00011753677081282812,
          0.003540953736582831,
          0.0004998810306710416,
          0.002242978954231206,
          7.623709226953522e-05,
          0.0008131049818940865,
          0.004372335113151151,
          0.0039341811112824,
          0.00397202087480713,
          0.0010658714221395364,
          0.0022266993170478215,
          0.005115087415381101,
          0.0008879471016600763,
          0.0032805352505792863,
          0.004095168821533099,
          0.0030407606865009216
         ],
         "yaxis": "y"
        }
       ],
       "layout": {
        "coloraxis": {
         "colorbar": {
          "title": {
           "text": "color"
          }
         },
         "colorscale": [
          [
           0,
           "rgb(165,0,38)"
          ],
          [
           0.1,
           "rgb(215,48,39)"
          ],
          [
           0.2,
           "rgb(244,109,67)"
          ],
          [
           0.3,
           "rgb(253,174,97)"
          ],
          [
           0.4,
           "rgb(254,224,139)"
          ],
          [
           0.5,
           "rgb(255,255,191)"
          ],
          [
           0.6,
           "rgb(217,239,139)"
          ],
          [
           0.7,
           "rgb(166,217,106)"
          ],
          [
           0.8,
           "rgb(102,189,99)"
          ],
          [
           0.9,
           "rgb(26,152,80)"
          ],
          [
           1,
           "rgb(0,104,55)"
          ]
         ]
        },
        "legend": {
         "itemsizing": "constant",
         "tracegroupgap": 0
        },
        "margin": {
         "t": 60
        },
        "template": {
         "data": {
          "bar": [
           {
            "error_x": {
             "color": "#2a3f5f"
            },
            "error_y": {
             "color": "#2a3f5f"
            },
            "marker": {
             "line": {
              "color": "#E5ECF6",
              "width": 0.5
             }
            },
            "type": "bar"
           }
          ],
          "barpolar": [
           {
            "marker": {
             "line": {
              "color": "#E5ECF6",
              "width": 0.5
             }
            },
            "type": "barpolar"
           }
          ],
          "carpet": [
           {
            "aaxis": {
             "endlinecolor": "#2a3f5f",
             "gridcolor": "white",
             "linecolor": "white",
             "minorgridcolor": "white",
             "startlinecolor": "#2a3f5f"
            },
            "baxis": {
             "endlinecolor": "#2a3f5f",
             "gridcolor": "white",
             "linecolor": "white",
             "minorgridcolor": "white",
             "startlinecolor": "#2a3f5f"
            },
            "type": "carpet"
           }
          ],
          "choropleth": [
           {
            "colorbar": {
             "outlinewidth": 0,
             "ticks": ""
            },
            "type": "choropleth"
           }
          ],
          "contour": [
           {
            "colorbar": {
             "outlinewidth": 0,
             "ticks": ""
            },
            "colorscale": [
             [
              0,
              "#0d0887"
             ],
             [
              0.1111111111111111,
              "#46039f"
             ],
             [
              0.2222222222222222,
              "#7201a8"
             ],
             [
              0.3333333333333333,
              "#9c179e"
             ],
             [
              0.4444444444444444,
              "#bd3786"
             ],
             [
              0.5555555555555556,
              "#d8576b"
             ],
             [
              0.6666666666666666,
              "#ed7953"
             ],
             [
              0.7777777777777778,
              "#fb9f3a"
             ],
             [
              0.8888888888888888,
              "#fdca26"
             ],
             [
              1,
              "#f0f921"
             ]
            ],
            "type": "contour"
           }
          ],
          "contourcarpet": [
           {
            "colorbar": {
             "outlinewidth": 0,
             "ticks": ""
            },
            "type": "contourcarpet"
           }
          ],
          "heatmap": [
           {
            "colorbar": {
             "outlinewidth": 0,
             "ticks": ""
            },
            "colorscale": [
             [
              0,
              "#0d0887"
             ],
             [
              0.1111111111111111,
              "#46039f"
             ],
             [
              0.2222222222222222,
              "#7201a8"
             ],
             [
              0.3333333333333333,
              "#9c179e"
             ],
             [
              0.4444444444444444,
              "#bd3786"
             ],
             [
              0.5555555555555556,
              "#d8576b"
             ],
             [
              0.6666666666666666,
              "#ed7953"
             ],
             [
              0.7777777777777778,
              "#fb9f3a"
             ],
             [
              0.8888888888888888,
              "#fdca26"
             ],
             [
              1,
              "#f0f921"
             ]
            ],
            "type": "heatmap"
           }
          ],
          "heatmapgl": [
           {
            "colorbar": {
             "outlinewidth": 0,
             "ticks": ""
            },
            "colorscale": [
             [
              0,
              "#0d0887"
             ],
             [
              0.1111111111111111,
              "#46039f"
             ],
             [
              0.2222222222222222,
              "#7201a8"
             ],
             [
              0.3333333333333333,
              "#9c179e"
             ],
             [
              0.4444444444444444,
              "#bd3786"
             ],
             [
              0.5555555555555556,
              "#d8576b"
             ],
             [
              0.6666666666666666,
              "#ed7953"
             ],
             [
              0.7777777777777778,
              "#fb9f3a"
             ],
             [
              0.8888888888888888,
              "#fdca26"
             ],
             [
              1,
              "#f0f921"
             ]
            ],
            "type": "heatmapgl"
           }
          ],
          "histogram": [
           {
            "marker": {
             "colorbar": {
              "outlinewidth": 0,
              "ticks": ""
             }
            },
            "type": "histogram"
           }
          ],
          "histogram2d": [
           {
            "colorbar": {
             "outlinewidth": 0,
             "ticks": ""
            },
            "colorscale": [
             [
              0,
              "#0d0887"
             ],
             [
              0.1111111111111111,
              "#46039f"
             ],
             [
              0.2222222222222222,
              "#7201a8"
             ],
             [
              0.3333333333333333,
              "#9c179e"
             ],
             [
              0.4444444444444444,
              "#bd3786"
             ],
             [
              0.5555555555555556,
              "#d8576b"
             ],
             [
              0.6666666666666666,
              "#ed7953"
             ],
             [
              0.7777777777777778,
              "#fb9f3a"
             ],
             [
              0.8888888888888888,
              "#fdca26"
             ],
             [
              1,
              "#f0f921"
             ]
            ],
            "type": "histogram2d"
           }
          ],
          "histogram2dcontour": [
           {
            "colorbar": {
             "outlinewidth": 0,
             "ticks": ""
            },
            "colorscale": [
             [
              0,
              "#0d0887"
             ],
             [
              0.1111111111111111,
              "#46039f"
             ],
             [
              0.2222222222222222,
              "#7201a8"
             ],
             [
              0.3333333333333333,
              "#9c179e"
             ],
             [
              0.4444444444444444,
              "#bd3786"
             ],
             [
              0.5555555555555556,
              "#d8576b"
             ],
             [
              0.6666666666666666,
              "#ed7953"
             ],
             [
              0.7777777777777778,
              "#fb9f3a"
             ],
             [
              0.8888888888888888,
              "#fdca26"
             ],
             [
              1,
              "#f0f921"
             ]
            ],
            "type": "histogram2dcontour"
           }
          ],
          "mesh3d": [
           {
            "colorbar": {
             "outlinewidth": 0,
             "ticks": ""
            },
            "type": "mesh3d"
           }
          ],
          "parcoords": [
           {
            "line": {
             "colorbar": {
              "outlinewidth": 0,
              "ticks": ""
             }
            },
            "type": "parcoords"
           }
          ],
          "pie": [
           {
            "automargin": true,
            "type": "pie"
           }
          ],
          "scatter": [
           {
            "marker": {
             "colorbar": {
              "outlinewidth": 0,
              "ticks": ""
             }
            },
            "type": "scatter"
           }
          ],
          "scatter3d": [
           {
            "line": {
             "colorbar": {
              "outlinewidth": 0,
              "ticks": ""
             }
            },
            "marker": {
             "colorbar": {
              "outlinewidth": 0,
              "ticks": ""
             }
            },
            "type": "scatter3d"
           }
          ],
          "scattercarpet": [
           {
            "marker": {
             "colorbar": {
              "outlinewidth": 0,
              "ticks": ""
             }
            },
            "type": "scattercarpet"
           }
          ],
          "scattergeo": [
           {
            "marker": {
             "colorbar": {
              "outlinewidth": 0,
              "ticks": ""
             }
            },
            "type": "scattergeo"
           }
          ],
          "scattergl": [
           {
            "marker": {
             "colorbar": {
              "outlinewidth": 0,
              "ticks": ""
             }
            },
            "type": "scattergl"
           }
          ],
          "scattermapbox": [
           {
            "marker": {
             "colorbar": {
              "outlinewidth": 0,
              "ticks": ""
             }
            },
            "type": "scattermapbox"
           }
          ],
          "scatterpolar": [
           {
            "marker": {
             "colorbar": {
              "outlinewidth": 0,
              "ticks": ""
             }
            },
            "type": "scatterpolar"
           }
          ],
          "scatterpolargl": [
           {
            "marker": {
             "colorbar": {
              "outlinewidth": 0,
              "ticks": ""
             }
            },
            "type": "scatterpolargl"
           }
          ],
          "scatterternary": [
           {
            "marker": {
             "colorbar": {
              "outlinewidth": 0,
              "ticks": ""
             }
            },
            "type": "scatterternary"
           }
          ],
          "surface": [
           {
            "colorbar": {
             "outlinewidth": 0,
             "ticks": ""
            },
            "colorscale": [
             [
              0,
              "#0d0887"
             ],
             [
              0.1111111111111111,
              "#46039f"
             ],
             [
              0.2222222222222222,
              "#7201a8"
             ],
             [
              0.3333333333333333,
              "#9c179e"
             ],
             [
              0.4444444444444444,
              "#bd3786"
             ],
             [
              0.5555555555555556,
              "#d8576b"
             ],
             [
              0.6666666666666666,
              "#ed7953"
             ],
             [
              0.7777777777777778,
              "#fb9f3a"
             ],
             [
              0.8888888888888888,
              "#fdca26"
             ],
             [
              1,
              "#f0f921"
             ]
            ],
            "type": "surface"
           }
          ],
          "table": [
           {
            "cells": {
             "fill": {
              "color": "#EBF0F8"
             },
             "line": {
              "color": "white"
             }
            },
            "header": {
             "fill": {
              "color": "#C8D4E3"
             },
             "line": {
              "color": "white"
             }
            },
            "type": "table"
           }
          ]
         },
         "layout": {
          "annotationdefaults": {
           "arrowcolor": "#2a3f5f",
           "arrowhead": 0,
           "arrowwidth": 1
          },
          "autotypenumbers": "strict",
          "coloraxis": {
           "colorbar": {
            "outlinewidth": 0,
            "ticks": ""
           }
          },
          "colorscale": {
           "diverging": [
            [
             0,
             "#8e0152"
            ],
            [
             0.1,
             "#c51b7d"
            ],
            [
             0.2,
             "#de77ae"
            ],
            [
             0.3,
             "#f1b6da"
            ],
            [
             0.4,
             "#fde0ef"
            ],
            [
             0.5,
             "#f7f7f7"
            ],
            [
             0.6,
             "#e6f5d0"
            ],
            [
             0.7,
             "#b8e186"
            ],
            [
             0.8,
             "#7fbc41"
            ],
            [
             0.9,
             "#4d9221"
            ],
            [
             1,
             "#276419"
            ]
           ],
           "sequential": [
            [
             0,
             "#0d0887"
            ],
            [
             0.1111111111111111,
             "#46039f"
            ],
            [
             0.2222222222222222,
             "#7201a8"
            ],
            [
             0.3333333333333333,
             "#9c179e"
            ],
            [
             0.4444444444444444,
             "#bd3786"
            ],
            [
             0.5555555555555556,
             "#d8576b"
            ],
            [
             0.6666666666666666,
             "#ed7953"
            ],
            [
             0.7777777777777778,
             "#fb9f3a"
            ],
            [
             0.8888888888888888,
             "#fdca26"
            ],
            [
             1,
             "#f0f921"
            ]
           ],
           "sequentialminus": [
            [
             0,
             "#0d0887"
            ],
            [
             0.1111111111111111,
             "#46039f"
            ],
            [
             0.2222222222222222,
             "#7201a8"
            ],
            [
             0.3333333333333333,
             "#9c179e"
            ],
            [
             0.4444444444444444,
             "#bd3786"
            ],
            [
             0.5555555555555556,
             "#d8576b"
            ],
            [
             0.6666666666666666,
             "#ed7953"
            ],
            [
             0.7777777777777778,
             "#fb9f3a"
            ],
            [
             0.8888888888888888,
             "#fdca26"
            ],
            [
             1,
             "#f0f921"
            ]
           ]
          },
          "colorway": [
           "#636efa",
           "#EF553B",
           "#00cc96",
           "#ab63fa",
           "#FFA15A",
           "#19d3f3",
           "#FF6692",
           "#B6E880",
           "#FF97FF",
           "#FECB52"
          ],
          "font": {
           "color": "#2a3f5f"
          },
          "geo": {
           "bgcolor": "white",
           "lakecolor": "white",
           "landcolor": "#E5ECF6",
           "showlakes": true,
           "showland": true,
           "subunitcolor": "white"
          },
          "hoverlabel": {
           "align": "left"
          },
          "hovermode": "closest",
          "mapbox": {
           "style": "light"
          },
          "paper_bgcolor": "white",
          "plot_bgcolor": "#E5ECF6",
          "polar": {
           "angularaxis": {
            "gridcolor": "white",
            "linecolor": "white",
            "ticks": ""
           },
           "bgcolor": "#E5ECF6",
           "radialaxis": {
            "gridcolor": "white",
            "linecolor": "white",
            "ticks": ""
           }
          },
          "scene": {
           "xaxis": {
            "backgroundcolor": "#E5ECF6",
            "gridcolor": "white",
            "gridwidth": 2,
            "linecolor": "white",
            "showbackground": true,
            "ticks": "",
            "zerolinecolor": "white"
           },
           "yaxis": {
            "backgroundcolor": "#E5ECF6",
            "gridcolor": "white",
            "gridwidth": 2,
            "linecolor": "white",
            "showbackground": true,
            "ticks": "",
            "zerolinecolor": "white"
           },
           "zaxis": {
            "backgroundcolor": "#E5ECF6",
            "gridcolor": "white",
            "gridwidth": 2,
            "linecolor": "white",
            "showbackground": true,
            "ticks": "",
            "zerolinecolor": "white"
           }
          },
          "shapedefaults": {
           "line": {
            "color": "#2a3f5f"
           }
          },
          "ternary": {
           "aaxis": {
            "gridcolor": "white",
            "linecolor": "white",
            "ticks": ""
           },
           "baxis": {
            "gridcolor": "white",
            "linecolor": "white",
            "ticks": ""
           },
           "bgcolor": "#E5ECF6",
           "caxis": {
            "gridcolor": "white",
            "linecolor": "white",
            "ticks": ""
           }
          },
          "title": {
           "x": 0.05
          },
          "xaxis": {
           "automargin": true,
           "gridcolor": "white",
           "linecolor": "white",
           "ticks": "",
           "title": {
            "standoff": 15
           },
           "zerolinecolor": "white",
           "zerolinewidth": 2
          },
          "yaxis": {
           "automargin": true,
           "gridcolor": "white",
           "linecolor": "white",
           "ticks": "",
           "title": {
            "standoff": 15
           },
           "zerolinecolor": "white",
           "zerolinewidth": 2
          }
         }
        },
        "xaxis": {
         "anchor": "y",
         "domain": [
          0,
          1
         ],
         "title": {
          "text": "logret_std"
         }
        },
        "yaxis": {
         "anchor": "x",
         "domain": [
          0,
          1
         ],
         "title": {
          "text": "logret_mean"
         }
        }
       }
      },
      "text/html": [
       "<div>                            <div id=\"ef1788ed-bbee-4a16-8579-68cfc1ddcc63\" class=\"plotly-graph-div\" style=\"height:525px; width:100%;\"></div>            <script type=\"text/javascript\">                require([\"plotly\"], function(Plotly) {                    window.PLOTLYENV=window.PLOTLYENV || {};                                    if (document.getElementById(\"ef1788ed-bbee-4a16-8579-68cfc1ddcc63\")) {                    Plotly.newPlot(                        \"ef1788ed-bbee-4a16-8579-68cfc1ddcc63\",                        [{\"hovertemplate\": \"<b>%{hovertext}</b><br><br>logret_std=%{x}<br>logret_mean=%{y}<br>size=%{marker.size}<br>color=%{marker.color}<extra></extra>\", \"hovertext\": [\"MDLZ\", \"MSFT\", \"NXPI\", \"PCAR\", \"INTC\", \"NVDA\", \"ILMN\", \"DXCM\", \"ROST\", \"LULU\", \"PRFT\", \"FTNT\", \"WIRE\", \"NFLX\", \"GAIN\", \"SYNA\", \"NYMTP\", \"ANAT\", \"TRNS\", \"SFBS\"], \"legendgroup\": \"\", \"marker\": {\"color\": [0.016990543248916124, 0.137897513531174, 0.06025620667750318, -0.005134882168110197, 0.005702038878445972, 0.13673336882496853, 0.02390971047682555, 0.10045261218825396, 0.004062493285307302, 0.04180199345639453, 0.2239733967681265, 0.19590457020749716, 0.19247777120558257, 0.05308297582515174, 0.19139502800622135, 0.19136995334821802, 0.1912106544827603, 0.18728919312924117, 0.17653067682771867, 0.17050651289295332], \"coloraxis\": \"coloraxis\", \"size\": [0.09878595286891222, 0.6386133253466781, 0.2919591781398528, 0.0, 0.048384858214992985, 0.6334156334645004, 0.12967876124593858, 0.4714287316259975, 0.04106458885802089, 0.20956451213309582, 1.0229263039370082, 0.8976041586927307, 0.8823041317638082, 0.25993202243359864, 0.8774698826298266, 0.8773579288961906, 0.8766466887767999, 0.8591380854779048, 0.8111032900211012, 0.7842065066455202], \"sizemode\": \"area\", \"sizeref\": 0.0025573157598425206, \"symbol\": \"circle\"}, \"mode\": \"markers\", \"name\": \"\", \"orientation\": \"v\", \"showlegend\": false, \"type\": \"scatter\", \"x\": [0.00963519045751316, 0.012638289005905164, 0.02333580970834022, 0.015266080942685294, 0.020613112838834498, 0.02589677828471836, 0.020907029851137286, 0.022328727002417163, 0.018766084499206345, 0.019451344652792014, 0.019521671663879393, 0.020082130330677916, 0.020636257630834032, 0.020079345695508385, 0.011634049955443159, 0.026728790627197647, 0.004643816026162571, 0.017515881166274838, 0.023198057669770854, 0.017833692302475033], \"xaxis\": \"x\", \"y\": [0.00016370712017992127, 0.0017427886292026948, 0.0014061273727726334, -7.838952680952162e-05, 0.00011753677081282812, 0.003540953736582831, 0.0004998810306710416, 0.002242978954231206, 7.623709226953522e-05, 0.0008131049818940865, 0.004372335113151151, 0.0039341811112824, 0.00397202087480713, 0.0010658714221395364, 0.0022266993170478215, 0.005115087415381101, 0.0008879471016600763, 0.0032805352505792863, 0.004095168821533099, 0.0030407606865009216], \"yaxis\": \"y\"}],                        {\"coloraxis\": {\"colorbar\": {\"title\": {\"text\": \"color\"}}, \"colorscale\": [[0.0, \"rgb(165,0,38)\"], [0.1, \"rgb(215,48,39)\"], [0.2, \"rgb(244,109,67)\"], [0.3, \"rgb(253,174,97)\"], [0.4, \"rgb(254,224,139)\"], [0.5, \"rgb(255,255,191)\"], [0.6, \"rgb(217,239,139)\"], [0.7, \"rgb(166,217,106)\"], [0.8, \"rgb(102,189,99)\"], [0.9, \"rgb(26,152,80)\"], [1.0, \"rgb(0,104,55)\"]]}, \"legend\": {\"itemsizing\": \"constant\", \"tracegroupgap\": 0}, \"margin\": {\"t\": 60}, \"template\": {\"data\": {\"bar\": [{\"error_x\": {\"color\": \"#2a3f5f\"}, \"error_y\": {\"color\": \"#2a3f5f\"}, \"marker\": {\"line\": {\"color\": \"#E5ECF6\", \"width\": 0.5}}, \"type\": \"bar\"}], \"barpolar\": [{\"marker\": {\"line\": {\"color\": \"#E5ECF6\", \"width\": 0.5}}, \"type\": \"barpolar\"}], \"carpet\": [{\"aaxis\": {\"endlinecolor\": \"#2a3f5f\", \"gridcolor\": \"white\", \"linecolor\": \"white\", \"minorgridcolor\": \"white\", \"startlinecolor\": \"#2a3f5f\"}, \"baxis\": {\"endlinecolor\": \"#2a3f5f\", \"gridcolor\": \"white\", \"linecolor\": \"white\", \"minorgridcolor\": \"white\", \"startlinecolor\": \"#2a3f5f\"}, \"type\": \"carpet\"}], \"choropleth\": [{\"colorbar\": {\"outlinewidth\": 0, \"ticks\": \"\"}, \"type\": \"choropleth\"}], \"contour\": [{\"colorbar\": {\"outlinewidth\": 0, \"ticks\": \"\"}, \"colorscale\": [[0.0, \"#0d0887\"], [0.1111111111111111, \"#46039f\"], [0.2222222222222222, \"#7201a8\"], [0.3333333333333333, \"#9c179e\"], [0.4444444444444444, \"#bd3786\"], [0.5555555555555556, \"#d8576b\"], [0.6666666666666666, \"#ed7953\"], [0.7777777777777778, \"#fb9f3a\"], [0.8888888888888888, \"#fdca26\"], [1.0, \"#f0f921\"]], \"type\": \"contour\"}], \"contourcarpet\": [{\"colorbar\": {\"outlinewidth\": 0, \"ticks\": \"\"}, \"type\": \"contourcarpet\"}], \"heatmap\": [{\"colorbar\": {\"outlinewidth\": 0, \"ticks\": \"\"}, \"colorscale\": [[0.0, \"#0d0887\"], [0.1111111111111111, \"#46039f\"], [0.2222222222222222, \"#7201a8\"], [0.3333333333333333, \"#9c179e\"], [0.4444444444444444, \"#bd3786\"], [0.5555555555555556, \"#d8576b\"], [0.6666666666666666, \"#ed7953\"], [0.7777777777777778, \"#fb9f3a\"], [0.8888888888888888, \"#fdca26\"], [1.0, \"#f0f921\"]], \"type\": \"heatmap\"}], \"heatmapgl\": [{\"colorbar\": {\"outlinewidth\": 0, \"ticks\": \"\"}, \"colorscale\": [[0.0, \"#0d0887\"], [0.1111111111111111, \"#46039f\"], [0.2222222222222222, \"#7201a8\"], [0.3333333333333333, \"#9c179e\"], [0.4444444444444444, \"#bd3786\"], [0.5555555555555556, \"#d8576b\"], [0.6666666666666666, \"#ed7953\"], [0.7777777777777778, \"#fb9f3a\"], [0.8888888888888888, \"#fdca26\"], [1.0, \"#f0f921\"]], \"type\": \"heatmapgl\"}], \"histogram\": [{\"marker\": {\"colorbar\": {\"outlinewidth\": 0, \"ticks\": \"\"}}, \"type\": \"histogram\"}], \"histogram2d\": [{\"colorbar\": {\"outlinewidth\": 0, \"ticks\": \"\"}, \"colorscale\": [[0.0, \"#0d0887\"], [0.1111111111111111, \"#46039f\"], [0.2222222222222222, \"#7201a8\"], [0.3333333333333333, \"#9c179e\"], [0.4444444444444444, \"#bd3786\"], [0.5555555555555556, \"#d8576b\"], [0.6666666666666666, \"#ed7953\"], [0.7777777777777778, \"#fb9f3a\"], [0.8888888888888888, \"#fdca26\"], [1.0, \"#f0f921\"]], \"type\": \"histogram2d\"}], \"histogram2dcontour\": [{\"colorbar\": {\"outlinewidth\": 0, \"ticks\": \"\"}, \"colorscale\": [[0.0, \"#0d0887\"], [0.1111111111111111, \"#46039f\"], [0.2222222222222222, \"#7201a8\"], [0.3333333333333333, \"#9c179e\"], [0.4444444444444444, \"#bd3786\"], [0.5555555555555556, \"#d8576b\"], [0.6666666666666666, \"#ed7953\"], [0.7777777777777778, \"#fb9f3a\"], [0.8888888888888888, \"#fdca26\"], [1.0, \"#f0f921\"]], \"type\": \"histogram2dcontour\"}], \"mesh3d\": [{\"colorbar\": {\"outlinewidth\": 0, \"ticks\": \"\"}, \"type\": \"mesh3d\"}], \"parcoords\": [{\"line\": {\"colorbar\": {\"outlinewidth\": 0, \"ticks\": \"\"}}, \"type\": \"parcoords\"}], \"pie\": [{\"automargin\": true, \"type\": \"pie\"}], \"scatter\": [{\"marker\": {\"colorbar\": {\"outlinewidth\": 0, \"ticks\": \"\"}}, \"type\": \"scatter\"}], \"scatter3d\": [{\"line\": {\"colorbar\": {\"outlinewidth\": 0, \"ticks\": \"\"}}, \"marker\": {\"colorbar\": {\"outlinewidth\": 0, \"ticks\": \"\"}}, \"type\": \"scatter3d\"}], \"scattercarpet\": [{\"marker\": {\"colorbar\": {\"outlinewidth\": 0, \"ticks\": \"\"}}, \"type\": \"scattercarpet\"}], \"scattergeo\": [{\"marker\": {\"colorbar\": {\"outlinewidth\": 0, \"ticks\": \"\"}}, \"type\": \"scattergeo\"}], \"scattergl\": [{\"marker\": {\"colorbar\": {\"outlinewidth\": 0, \"ticks\": \"\"}}, \"type\": \"scattergl\"}], \"scattermapbox\": [{\"marker\": {\"colorbar\": {\"outlinewidth\": 0, \"ticks\": \"\"}}, \"type\": \"scattermapbox\"}], \"scatterpolar\": [{\"marker\": {\"colorbar\": {\"outlinewidth\": 0, \"ticks\": \"\"}}, \"type\": \"scatterpolar\"}], \"scatterpolargl\": [{\"marker\": {\"colorbar\": {\"outlinewidth\": 0, \"ticks\": \"\"}}, \"type\": \"scatterpolargl\"}], \"scatterternary\": [{\"marker\": {\"colorbar\": {\"outlinewidth\": 0, \"ticks\": \"\"}}, \"type\": \"scatterternary\"}], \"surface\": [{\"colorbar\": {\"outlinewidth\": 0, \"ticks\": \"\"}, \"colorscale\": [[0.0, \"#0d0887\"], [0.1111111111111111, \"#46039f\"], [0.2222222222222222, \"#7201a8\"], [0.3333333333333333, \"#9c179e\"], [0.4444444444444444, \"#bd3786\"], [0.5555555555555556, \"#d8576b\"], [0.6666666666666666, \"#ed7953\"], [0.7777777777777778, \"#fb9f3a\"], [0.8888888888888888, \"#fdca26\"], [1.0, \"#f0f921\"]], \"type\": \"surface\"}], \"table\": [{\"cells\": {\"fill\": {\"color\": \"#EBF0F8\"}, \"line\": {\"color\": \"white\"}}, \"header\": {\"fill\": {\"color\": \"#C8D4E3\"}, \"line\": {\"color\": \"white\"}}, \"type\": \"table\"}]}, \"layout\": {\"annotationdefaults\": {\"arrowcolor\": \"#2a3f5f\", \"arrowhead\": 0, \"arrowwidth\": 1}, \"autotypenumbers\": \"strict\", \"coloraxis\": {\"colorbar\": {\"outlinewidth\": 0, \"ticks\": \"\"}}, \"colorscale\": {\"diverging\": [[0, \"#8e0152\"], [0.1, \"#c51b7d\"], [0.2, \"#de77ae\"], [0.3, \"#f1b6da\"], [0.4, \"#fde0ef\"], [0.5, \"#f7f7f7\"], [0.6, \"#e6f5d0\"], [0.7, \"#b8e186\"], [0.8, \"#7fbc41\"], [0.9, \"#4d9221\"], [1, \"#276419\"]], \"sequential\": [[0.0, \"#0d0887\"], [0.1111111111111111, \"#46039f\"], [0.2222222222222222, \"#7201a8\"], [0.3333333333333333, \"#9c179e\"], [0.4444444444444444, \"#bd3786\"], [0.5555555555555556, \"#d8576b\"], [0.6666666666666666, \"#ed7953\"], [0.7777777777777778, \"#fb9f3a\"], [0.8888888888888888, \"#fdca26\"], [1.0, \"#f0f921\"]], \"sequentialminus\": [[0.0, \"#0d0887\"], [0.1111111111111111, \"#46039f\"], [0.2222222222222222, \"#7201a8\"], [0.3333333333333333, \"#9c179e\"], [0.4444444444444444, \"#bd3786\"], [0.5555555555555556, \"#d8576b\"], [0.6666666666666666, \"#ed7953\"], [0.7777777777777778, \"#fb9f3a\"], [0.8888888888888888, \"#fdca26\"], [1.0, \"#f0f921\"]]}, \"colorway\": [\"#636efa\", \"#EF553B\", \"#00cc96\", \"#ab63fa\", \"#FFA15A\", \"#19d3f3\", \"#FF6692\", \"#B6E880\", \"#FF97FF\", \"#FECB52\"], \"font\": {\"color\": \"#2a3f5f\"}, \"geo\": {\"bgcolor\": \"white\", \"lakecolor\": \"white\", \"landcolor\": \"#E5ECF6\", \"showlakes\": true, \"showland\": true, \"subunitcolor\": \"white\"}, \"hoverlabel\": {\"align\": \"left\"}, \"hovermode\": \"closest\", \"mapbox\": {\"style\": \"light\"}, \"paper_bgcolor\": \"white\", \"plot_bgcolor\": \"#E5ECF6\", \"polar\": {\"angularaxis\": {\"gridcolor\": \"white\", \"linecolor\": \"white\", \"ticks\": \"\"}, \"bgcolor\": \"#E5ECF6\", \"radialaxis\": {\"gridcolor\": \"white\", \"linecolor\": \"white\", \"ticks\": \"\"}}, \"scene\": {\"xaxis\": {\"backgroundcolor\": \"#E5ECF6\", \"gridcolor\": \"white\", \"gridwidth\": 2, \"linecolor\": \"white\", \"showbackground\": true, \"ticks\": \"\", \"zerolinecolor\": \"white\"}, \"yaxis\": {\"backgroundcolor\": \"#E5ECF6\", \"gridcolor\": \"white\", \"gridwidth\": 2, \"linecolor\": \"white\", \"showbackground\": true, \"ticks\": \"\", \"zerolinecolor\": \"white\"}, \"zaxis\": {\"backgroundcolor\": \"#E5ECF6\", \"gridcolor\": \"white\", \"gridwidth\": 2, \"linecolor\": \"white\", \"showbackground\": true, \"ticks\": \"\", \"zerolinecolor\": \"white\"}}, \"shapedefaults\": {\"line\": {\"color\": \"#2a3f5f\"}}, \"ternary\": {\"aaxis\": {\"gridcolor\": \"white\", \"linecolor\": \"white\", \"ticks\": \"\"}, \"baxis\": {\"gridcolor\": \"white\", \"linecolor\": \"white\", \"ticks\": \"\"}, \"bgcolor\": \"#E5ECF6\", \"caxis\": {\"gridcolor\": \"white\", \"linecolor\": \"white\", \"ticks\": \"\"}}, \"title\": {\"x\": 0.05}, \"xaxis\": {\"automargin\": true, \"gridcolor\": \"white\", \"linecolor\": \"white\", \"ticks\": \"\", \"title\": {\"standoff\": 15}, \"zerolinecolor\": \"white\", \"zerolinewidth\": 2}, \"yaxis\": {\"automargin\": true, \"gridcolor\": \"white\", \"linecolor\": \"white\", \"ticks\": \"\", \"title\": {\"standoff\": 15}, \"zerolinecolor\": \"white\", \"zerolinewidth\": 2}}}, \"xaxis\": {\"anchor\": \"y\", \"domain\": [0.0, 1.0], \"title\": {\"text\": \"logret_std\"}}, \"yaxis\": {\"anchor\": \"x\", \"domain\": [0.0, 1.0], \"title\": {\"text\": \"logret_mean\"}}},                        {\"responsive\": true}                    ).then(function(){\n",
       "                            \n",
       "var gd = document.getElementById('ef1788ed-bbee-4a16-8579-68cfc1ddcc63');\n",
       "var x = new MutationObserver(function (mutations, observer) {{\n",
       "        var display = window.getComputedStyle(gd).display;\n",
       "        if (!display || display === 'none') {{\n",
       "            console.log([gd, 'removed!']);\n",
       "            Plotly.purge(gd);\n",
       "            observer.disconnect();\n",
       "        }}\n",
       "}});\n",
       "\n",
       "// Listen for the removal of the full notebook cells\n",
       "var notebookContainer = gd.closest('#notebook-container');\n",
       "if (notebookContainer) {{\n",
       "    x.observe(notebookContainer, {childList: true});\n",
       "}}\n",
       "\n",
       "// Listen for the clearing of the current output cell\n",
       "var outputEl = gd.closest('.output');\n",
       "if (outputEl) {{\n",
       "    x.observe(outputEl, {childList: true});\n",
       "}}\n",
       "\n",
       "                        })                };                });            </script>        </div>"
      ]
     },
     "metadata": {},
     "output_type": "display_data"
    }
   ],
   "source": [
    "import plotly.express as px\n",
    "from sklearn.preprocessing import normalize\n",
    "\n",
    "ticker_colour = estims['logret_mean'] / estims['logret_std']\n",
    "ticker_size = (ticker_colour - ticker_colour.min()) / ticker_colour.max()\n",
    "fig = px.scatter(estims, x='logret_std', y='logret_mean',\n",
    "                 hover_name=estims.index, \n",
    "                 color_continuous_scale=px.colors.diverging.RdYlGn,\n",
    "                 color=ticker_colour,\n",
    "                 size=ticker_size)\n",
    "fig.show()"
   ]
  },
  {
   "cell_type": "code",
   "execution_count": 42,
   "metadata": {},
   "outputs": [],
   "source": [
    "# _x, _y = get_portfolio_coordinates(true_opt_solution.x, assets, estims['logret_mean'], estims['logret_std'])"
   ]
  },
  {
   "cell_type": "markdown",
   "metadata": {},
   "source": [
    "### 2. Оценка неопределенности оптимального портфеля в модели Марковица с заданным отн. к риску. "
   ]
  },
  {
   "cell_type": "markdown",
   "metadata": {},
   "source": [
    "#### 2.1 Задаём число наблюдений T=30. С помощью генератора многомерного нормального распределения создаём выборку размера Т из нормального распределения с вектором математических ожиданий  E=(E1, E2, …, EN) и матрицей ковариаций (σi,j). "
   ]
  },
  {
   "cell_type": "code",
   "execution_count": 43,
   "metadata": {},
   "outputs": [
    {
     "data": {
      "text/html": [
       "<div>\n",
       "<style scoped>\n",
       "    .dataframe tbody tr th:only-of-type {\n",
       "        vertical-align: middle;\n",
       "    }\n",
       "\n",
       "    .dataframe tbody tr th {\n",
       "        vertical-align: top;\n",
       "    }\n",
       "\n",
       "    .dataframe thead th {\n",
       "        text-align: right;\n",
       "    }\n",
       "</style>\n",
       "<table border=\"1\" class=\"dataframe\">\n",
       "  <thead>\n",
       "    <tr style=\"text-align: right;\">\n",
       "      <th></th>\n",
       "      <th>MDLZ</th>\n",
       "      <th>MSFT</th>\n",
       "      <th>NXPI</th>\n",
       "      <th>PCAR</th>\n",
       "      <th>INTC</th>\n",
       "      <th>NVDA</th>\n",
       "      <th>ILMN</th>\n",
       "      <th>DXCM</th>\n",
       "      <th>ROST</th>\n",
       "      <th>LULU</th>\n",
       "      <th>PRFT</th>\n",
       "      <th>FTNT</th>\n",
       "      <th>WIRE</th>\n",
       "      <th>NFLX</th>\n",
       "      <th>GAIN</th>\n",
       "      <th>SYNA</th>\n",
       "      <th>NYMTP</th>\n",
       "      <th>ANAT</th>\n",
       "      <th>TRNS</th>\n",
       "      <th>SFBS</th>\n",
       "    </tr>\n",
       "  </thead>\n",
       "  <tbody>\n",
       "    <tr>\n",
       "      <th>0</th>\n",
       "      <td>-2.653609</td>\n",
       "      <td>-1.616178</td>\n",
       "      <td>-1.681353</td>\n",
       "      <td>-3.035527</td>\n",
       "      <td>-0.130507</td>\n",
       "      <td>-1.196621</td>\n",
       "      <td>-1.365826</td>\n",
       "      <td>-0.108234</td>\n",
       "      <td>-1.821851</td>\n",
       "      <td>-1.144473</td>\n",
       "      <td>-1.261570</td>\n",
       "      <td>-3.407088</td>\n",
       "      <td>-1.653809</td>\n",
       "      <td>-1.509995</td>\n",
       "      <td>-2.228630</td>\n",
       "      <td>-2.247702</td>\n",
       "      <td>-0.778036</td>\n",
       "      <td>0.047298</td>\n",
       "      <td>-2.324188</td>\n",
       "      <td>-1.624171</td>\n",
       "    </tr>\n",
       "    <tr>\n",
       "      <th>1</th>\n",
       "      <td>0.174216</td>\n",
       "      <td>2.589333</td>\n",
       "      <td>1.299973</td>\n",
       "      <td>0.312618</td>\n",
       "      <td>0.279158</td>\n",
       "      <td>1.389699</td>\n",
       "      <td>1.284274</td>\n",
       "      <td>1.224546</td>\n",
       "      <td>-0.880193</td>\n",
       "      <td>2.030823</td>\n",
       "      <td>1.133514</td>\n",
       "      <td>1.692833</td>\n",
       "      <td>-0.269323</td>\n",
       "      <td>1.731466</td>\n",
       "      <td>-0.303781</td>\n",
       "      <td>0.980047</td>\n",
       "      <td>-0.161166</td>\n",
       "      <td>1.618292</td>\n",
       "      <td>-0.793027</td>\n",
       "      <td>0.152878</td>\n",
       "    </tr>\n",
       "    <tr>\n",
       "      <th>2</th>\n",
       "      <td>0.997779</td>\n",
       "      <td>-0.139380</td>\n",
       "      <td>0.507367</td>\n",
       "      <td>2.175557</td>\n",
       "      <td>-0.869742</td>\n",
       "      <td>1.295231</td>\n",
       "      <td>-1.018486</td>\n",
       "      <td>-0.775086</td>\n",
       "      <td>1.107556</td>\n",
       "      <td>-0.674963</td>\n",
       "      <td>0.412634</td>\n",
       "      <td>0.407439</td>\n",
       "      <td>-0.348432</td>\n",
       "      <td>0.919009</td>\n",
       "      <td>0.437695</td>\n",
       "      <td>0.672586</td>\n",
       "      <td>1.959113</td>\n",
       "      <td>0.145779</td>\n",
       "      <td>0.828908</td>\n",
       "      <td>0.762968</td>\n",
       "    </tr>\n",
       "    <tr>\n",
       "      <th>3</th>\n",
       "      <td>-0.366351</td>\n",
       "      <td>0.971911</td>\n",
       "      <td>-0.186879</td>\n",
       "      <td>-0.833073</td>\n",
       "      <td>0.394053</td>\n",
       "      <td>0.809659</td>\n",
       "      <td>0.793569</td>\n",
       "      <td>0.605797</td>\n",
       "      <td>-1.717243</td>\n",
       "      <td>-0.039861</td>\n",
       "      <td>0.072227</td>\n",
       "      <td>1.053433</td>\n",
       "      <td>-1.628755</td>\n",
       "      <td>0.695462</td>\n",
       "      <td>-0.340797</td>\n",
       "      <td>-0.114436</td>\n",
       "      <td>1.972278</td>\n",
       "      <td>-0.664554</td>\n",
       "      <td>-0.296832</td>\n",
       "      <td>-2.079341</td>\n",
       "    </tr>\n",
       "    <tr>\n",
       "      <th>4</th>\n",
       "      <td>0.166950</td>\n",
       "      <td>-0.358551</td>\n",
       "      <td>-0.374269</td>\n",
       "      <td>-0.558043</td>\n",
       "      <td>0.533280</td>\n",
       "      <td>-0.509099</td>\n",
       "      <td>-0.912766</td>\n",
       "      <td>-1.745180</td>\n",
       "      <td>1.929099</td>\n",
       "      <td>-0.040969</td>\n",
       "      <td>1.664470</td>\n",
       "      <td>1.177751</td>\n",
       "      <td>0.000792</td>\n",
       "      <td>0.091978</td>\n",
       "      <td>-1.053663</td>\n",
       "      <td>0.110086</td>\n",
       "      <td>0.681420</td>\n",
       "      <td>0.643330</td>\n",
       "      <td>-1.100437</td>\n",
       "      <td>0.200052</td>\n",
       "    </tr>\n",
       "    <tr>\n",
       "      <th>5</th>\n",
       "      <td>-0.935488</td>\n",
       "      <td>0.574212</td>\n",
       "      <td>-0.643267</td>\n",
       "      <td>1.156368</td>\n",
       "      <td>-0.294324</td>\n",
       "      <td>0.542658</td>\n",
       "      <td>0.228853</td>\n",
       "      <td>0.256633</td>\n",
       "      <td>1.210764</td>\n",
       "      <td>0.284389</td>\n",
       "      <td>1.397073</td>\n",
       "      <td>0.011705</td>\n",
       "      <td>0.729525</td>\n",
       "      <td>0.197700</td>\n",
       "      <td>1.499898</td>\n",
       "      <td>0.454789</td>\n",
       "      <td>-0.581429</td>\n",
       "      <td>1.773552</td>\n",
       "      <td>1.511196</td>\n",
       "      <td>-0.381495</td>\n",
       "    </tr>\n",
       "    <tr>\n",
       "      <th>6</th>\n",
       "      <td>0.810275</td>\n",
       "      <td>0.131027</td>\n",
       "      <td>-0.344631</td>\n",
       "      <td>0.728398</td>\n",
       "      <td>-1.742730</td>\n",
       "      <td>0.420086</td>\n",
       "      <td>-0.693281</td>\n",
       "      <td>0.444660</td>\n",
       "      <td>-0.401605</td>\n",
       "      <td>-0.745895</td>\n",
       "      <td>-0.140949</td>\n",
       "      <td>0.490530</td>\n",
       "      <td>0.185164</td>\n",
       "      <td>0.439476</td>\n",
       "      <td>-0.750112</td>\n",
       "      <td>-1.182284</td>\n",
       "      <td>-0.429196</td>\n",
       "      <td>-1.046803</td>\n",
       "      <td>-0.239065</td>\n",
       "      <td>-0.183698</td>\n",
       "    </tr>\n",
       "    <tr>\n",
       "      <th>7</th>\n",
       "      <td>0.991526</td>\n",
       "      <td>-0.587706</td>\n",
       "      <td>-0.793760</td>\n",
       "      <td>0.527985</td>\n",
       "      <td>0.245255</td>\n",
       "      <td>0.288077</td>\n",
       "      <td>-1.103051</td>\n",
       "      <td>-1.655520</td>\n",
       "      <td>-0.575819</td>\n",
       "      <td>0.106050</td>\n",
       "      <td>-0.221927</td>\n",
       "      <td>-0.013324</td>\n",
       "      <td>-0.343036</td>\n",
       "      <td>1.222635</td>\n",
       "      <td>0.641393</td>\n",
       "      <td>-1.160792</td>\n",
       "      <td>0.585178</td>\n",
       "      <td>0.958658</td>\n",
       "      <td>-2.698550</td>\n",
       "      <td>-1.109112</td>\n",
       "    </tr>\n",
       "    <tr>\n",
       "      <th>8</th>\n",
       "      <td>-2.078697</td>\n",
       "      <td>-1.450852</td>\n",
       "      <td>-0.625674</td>\n",
       "      <td>-0.792567</td>\n",
       "      <td>0.574373</td>\n",
       "      <td>-0.394631</td>\n",
       "      <td>-0.965813</td>\n",
       "      <td>0.326075</td>\n",
       "      <td>0.247023</td>\n",
       "      <td>0.364450</td>\n",
       "      <td>0.683845</td>\n",
       "      <td>-0.927438</td>\n",
       "      <td>0.290184</td>\n",
       "      <td>-1.777973</td>\n",
       "      <td>0.876418</td>\n",
       "      <td>-0.671934</td>\n",
       "      <td>-0.024244</td>\n",
       "      <td>-0.884977</td>\n",
       "      <td>0.739898</td>\n",
       "      <td>-0.240434</td>\n",
       "    </tr>\n",
       "    <tr>\n",
       "      <th>9</th>\n",
       "      <td>1.436080</td>\n",
       "      <td>-1.291734</td>\n",
       "      <td>-1.115941</td>\n",
       "      <td>0.743359</td>\n",
       "      <td>1.086179</td>\n",
       "      <td>0.025483</td>\n",
       "      <td>-0.493246</td>\n",
       "      <td>0.104818</td>\n",
       "      <td>0.822826</td>\n",
       "      <td>0.800432</td>\n",
       "      <td>0.306799</td>\n",
       "      <td>-1.612646</td>\n",
       "      <td>-0.970611</td>\n",
       "      <td>0.544967</td>\n",
       "      <td>0.761712</td>\n",
       "      <td>-0.303578</td>\n",
       "      <td>0.168402</td>\n",
       "      <td>-1.003091</td>\n",
       "      <td>-1.301612</td>\n",
       "      <td>-0.004660</td>\n",
       "    </tr>\n",
       "    <tr>\n",
       "      <th>10</th>\n",
       "      <td>0.293794</td>\n",
       "      <td>-1.571313</td>\n",
       "      <td>-2.379982</td>\n",
       "      <td>-0.236982</td>\n",
       "      <td>-0.039789</td>\n",
       "      <td>-1.105148</td>\n",
       "      <td>-1.263244</td>\n",
       "      <td>-0.535146</td>\n",
       "      <td>-1.210899</td>\n",
       "      <td>0.159831</td>\n",
       "      <td>-0.707031</td>\n",
       "      <td>-0.374070</td>\n",
       "      <td>-1.429141</td>\n",
       "      <td>-0.188654</td>\n",
       "      <td>-1.612892</td>\n",
       "      <td>-1.450509</td>\n",
       "      <td>-0.299911</td>\n",
       "      <td>-1.517080</td>\n",
       "      <td>-1.069719</td>\n",
       "      <td>-0.808121</td>\n",
       "    </tr>\n",
       "    <tr>\n",
       "      <th>11</th>\n",
       "      <td>-1.192362</td>\n",
       "      <td>-1.420840</td>\n",
       "      <td>-1.179873</td>\n",
       "      <td>-0.943969</td>\n",
       "      <td>-1.441420</td>\n",
       "      <td>-0.319217</td>\n",
       "      <td>-1.108482</td>\n",
       "      <td>-0.735961</td>\n",
       "      <td>-1.229586</td>\n",
       "      <td>-0.303996</td>\n",
       "      <td>-0.548388</td>\n",
       "      <td>-0.768457</td>\n",
       "      <td>-0.790523</td>\n",
       "      <td>-1.559401</td>\n",
       "      <td>-1.974222</td>\n",
       "      <td>-0.757442</td>\n",
       "      <td>-1.526020</td>\n",
       "      <td>-1.193841</td>\n",
       "      <td>1.687996</td>\n",
       "      <td>-0.774386</td>\n",
       "    </tr>\n",
       "    <tr>\n",
       "      <th>12</th>\n",
       "      <td>-0.481881</td>\n",
       "      <td>-2.042368</td>\n",
       "      <td>-1.962182</td>\n",
       "      <td>-1.543185</td>\n",
       "      <td>-1.426381</td>\n",
       "      <td>-1.466499</td>\n",
       "      <td>1.076805</td>\n",
       "      <td>0.417756</td>\n",
       "      <td>-1.541131</td>\n",
       "      <td>0.916765</td>\n",
       "      <td>0.144996</td>\n",
       "      <td>-2.619140</td>\n",
       "      <td>-0.700256</td>\n",
       "      <td>-1.271626</td>\n",
       "      <td>-2.081975</td>\n",
       "      <td>-0.964118</td>\n",
       "      <td>-1.378794</td>\n",
       "      <td>-1.106805</td>\n",
       "      <td>-3.284417</td>\n",
       "      <td>-0.637944</td>\n",
       "    </tr>\n",
       "    <tr>\n",
       "      <th>13</th>\n",
       "      <td>-0.691680</td>\n",
       "      <td>-0.682710</td>\n",
       "      <td>-0.104204</td>\n",
       "      <td>0.728176</td>\n",
       "      <td>-0.955465</td>\n",
       "      <td>-3.197153</td>\n",
       "      <td>-1.081577</td>\n",
       "      <td>-0.432744</td>\n",
       "      <td>-0.729450</td>\n",
       "      <td>-1.199979</td>\n",
       "      <td>-3.160881</td>\n",
       "      <td>-1.474960</td>\n",
       "      <td>-1.122972</td>\n",
       "      <td>-1.274006</td>\n",
       "      <td>-2.300815</td>\n",
       "      <td>-1.088992</td>\n",
       "      <td>-0.154856</td>\n",
       "      <td>-0.394506</td>\n",
       "      <td>0.027215</td>\n",
       "      <td>0.915949</td>\n",
       "    </tr>\n",
       "    <tr>\n",
       "      <th>14</th>\n",
       "      <td>-0.121597</td>\n",
       "      <td>0.394677</td>\n",
       "      <td>1.502409</td>\n",
       "      <td>1.191986</td>\n",
       "      <td>2.129434</td>\n",
       "      <td>0.396795</td>\n",
       "      <td>0.549150</td>\n",
       "      <td>0.556407</td>\n",
       "      <td>0.501794</td>\n",
       "      <td>0.066382</td>\n",
       "      <td>1.338922</td>\n",
       "      <td>-0.087036</td>\n",
       "      <td>0.832492</td>\n",
       "      <td>-1.005797</td>\n",
       "      <td>1.205350</td>\n",
       "      <td>0.164874</td>\n",
       "      <td>1.376097</td>\n",
       "      <td>0.621864</td>\n",
       "      <td>1.567090</td>\n",
       "      <td>2.058543</td>\n",
       "    </tr>\n",
       "    <tr>\n",
       "      <th>15</th>\n",
       "      <td>-0.978244</td>\n",
       "      <td>1.593136</td>\n",
       "      <td>0.445444</td>\n",
       "      <td>-0.100598</td>\n",
       "      <td>-0.841707</td>\n",
       "      <td>1.399947</td>\n",
       "      <td>0.614348</td>\n",
       "      <td>1.163717</td>\n",
       "      <td>0.760701</td>\n",
       "      <td>1.688733</td>\n",
       "      <td>1.715077</td>\n",
       "      <td>2.511455</td>\n",
       "      <td>1.416452</td>\n",
       "      <td>-0.995541</td>\n",
       "      <td>0.832769</td>\n",
       "      <td>0.252046</td>\n",
       "      <td>-0.719351</td>\n",
       "      <td>-0.878623</td>\n",
       "      <td>-0.470507</td>\n",
       "      <td>1.712474</td>\n",
       "    </tr>\n",
       "    <tr>\n",
       "      <th>16</th>\n",
       "      <td>1.272469</td>\n",
       "      <td>1.544853</td>\n",
       "      <td>-0.096677</td>\n",
       "      <td>0.745603</td>\n",
       "      <td>1.498313</td>\n",
       "      <td>-0.448730</td>\n",
       "      <td>0.083307</td>\n",
       "      <td>1.005325</td>\n",
       "      <td>1.470766</td>\n",
       "      <td>-0.417127</td>\n",
       "      <td>0.931061</td>\n",
       "      <td>-0.017068</td>\n",
       "      <td>-0.091971</td>\n",
       "      <td>-0.832550</td>\n",
       "      <td>1.487765</td>\n",
       "      <td>0.923813</td>\n",
       "      <td>-0.612265</td>\n",
       "      <td>1.289564</td>\n",
       "      <td>-1.149125</td>\n",
       "      <td>0.638325</td>\n",
       "    </tr>\n",
       "    <tr>\n",
       "      <th>17</th>\n",
       "      <td>0.418971</td>\n",
       "      <td>0.120361</td>\n",
       "      <td>0.439548</td>\n",
       "      <td>0.238393</td>\n",
       "      <td>0.016563</td>\n",
       "      <td>-1.838600</td>\n",
       "      <td>0.361950</td>\n",
       "      <td>-1.731459</td>\n",
       "      <td>0.392523</td>\n",
       "      <td>-2.036532</td>\n",
       "      <td>-0.413352</td>\n",
       "      <td>0.105145</td>\n",
       "      <td>-0.881391</td>\n",
       "      <td>-1.287583</td>\n",
       "      <td>0.034254</td>\n",
       "      <td>-1.301073</td>\n",
       "      <td>-0.624845</td>\n",
       "      <td>0.675828</td>\n",
       "      <td>-0.298898</td>\n",
       "      <td>1.895433</td>\n",
       "    </tr>\n",
       "    <tr>\n",
       "      <th>18</th>\n",
       "      <td>-1.133979</td>\n",
       "      <td>-0.381960</td>\n",
       "      <td>0.664422</td>\n",
       "      <td>0.199289</td>\n",
       "      <td>1.361992</td>\n",
       "      <td>0.144983</td>\n",
       "      <td>0.583420</td>\n",
       "      <td>-0.729291</td>\n",
       "      <td>0.994192</td>\n",
       "      <td>0.192006</td>\n",
       "      <td>2.023460</td>\n",
       "      <td>0.299951</td>\n",
       "      <td>1.139857</td>\n",
       "      <td>-0.217259</td>\n",
       "      <td>0.006954</td>\n",
       "      <td>1.246089</td>\n",
       "      <td>1.579474</td>\n",
       "      <td>1.080976</td>\n",
       "      <td>-0.308585</td>\n",
       "      <td>1.713135</td>\n",
       "    </tr>\n",
       "    <tr>\n",
       "      <th>19</th>\n",
       "      <td>-0.600169</td>\n",
       "      <td>-2.115590</td>\n",
       "      <td>-0.204152</td>\n",
       "      <td>-0.346953</td>\n",
       "      <td>0.401440</td>\n",
       "      <td>-0.803575</td>\n",
       "      <td>0.507859</td>\n",
       "      <td>0.107363</td>\n",
       "      <td>-0.391594</td>\n",
       "      <td>0.169700</td>\n",
       "      <td>-0.952479</td>\n",
       "      <td>-0.358241</td>\n",
       "      <td>-0.953307</td>\n",
       "      <td>0.499158</td>\n",
       "      <td>-0.494873</td>\n",
       "      <td>-0.638960</td>\n",
       "      <td>-1.020174</td>\n",
       "      <td>-2.368530</td>\n",
       "      <td>0.244177</td>\n",
       "      <td>0.878210</td>\n",
       "    </tr>\n",
       "    <tr>\n",
       "      <th>20</th>\n",
       "      <td>0.821477</td>\n",
       "      <td>1.086327</td>\n",
       "      <td>0.275866</td>\n",
       "      <td>-2.678215</td>\n",
       "      <td>0.786964</td>\n",
       "      <td>2.761230</td>\n",
       "      <td>0.444747</td>\n",
       "      <td>0.507683</td>\n",
       "      <td>-0.505970</td>\n",
       "      <td>-0.319133</td>\n",
       "      <td>-0.135566</td>\n",
       "      <td>0.974663</td>\n",
       "      <td>-1.355342</td>\n",
       "      <td>0.863818</td>\n",
       "      <td>0.603207</td>\n",
       "      <td>1.289657</td>\n",
       "      <td>1.073955</td>\n",
       "      <td>-2.894705</td>\n",
       "      <td>-0.344732</td>\n",
       "      <td>-0.886088</td>\n",
       "    </tr>\n",
       "    <tr>\n",
       "      <th>21</th>\n",
       "      <td>-1.066733</td>\n",
       "      <td>-0.802778</td>\n",
       "      <td>-1.131739</td>\n",
       "      <td>0.895502</td>\n",
       "      <td>-0.610744</td>\n",
       "      <td>0.015361</td>\n",
       "      <td>-0.682835</td>\n",
       "      <td>-0.052238</td>\n",
       "      <td>0.271986</td>\n",
       "      <td>1.176561</td>\n",
       "      <td>0.204640</td>\n",
       "      <td>0.674403</td>\n",
       "      <td>0.998817</td>\n",
       "      <td>-0.385719</td>\n",
       "      <td>-0.023340</td>\n",
       "      <td>0.195322</td>\n",
       "      <td>-0.795299</td>\n",
       "      <td>0.308458</td>\n",
       "      <td>-0.455768</td>\n",
       "      <td>1.017853</td>\n",
       "    </tr>\n",
       "    <tr>\n",
       "      <th>22</th>\n",
       "      <td>1.525731</td>\n",
       "      <td>-1.093872</td>\n",
       "      <td>-1.745151</td>\n",
       "      <td>0.374322</td>\n",
       "      <td>-1.098445</td>\n",
       "      <td>-2.299365</td>\n",
       "      <td>-0.261509</td>\n",
       "      <td>-0.015937</td>\n",
       "      <td>-0.564708</td>\n",
       "      <td>-1.223001</td>\n",
       "      <td>-0.905341</td>\n",
       "      <td>-2.139771</td>\n",
       "      <td>0.979397</td>\n",
       "      <td>0.161908</td>\n",
       "      <td>-0.548429</td>\n",
       "      <td>-0.466258</td>\n",
       "      <td>-0.806220</td>\n",
       "      <td>0.091993</td>\n",
       "      <td>1.918779</td>\n",
       "      <td>0.666333</td>\n",
       "    </tr>\n",
       "    <tr>\n",
       "      <th>23</th>\n",
       "      <td>1.303217</td>\n",
       "      <td>-0.616427</td>\n",
       "      <td>0.466046</td>\n",
       "      <td>0.464238</td>\n",
       "      <td>0.221405</td>\n",
       "      <td>-0.130680</td>\n",
       "      <td>-1.957683</td>\n",
       "      <td>-0.594235</td>\n",
       "      <td>-0.539254</td>\n",
       "      <td>0.710326</td>\n",
       "      <td>-1.384259</td>\n",
       "      <td>0.415852</td>\n",
       "      <td>-1.519685</td>\n",
       "      <td>0.446075</td>\n",
       "      <td>-0.334123</td>\n",
       "      <td>-0.390145</td>\n",
       "      <td>-0.379037</td>\n",
       "      <td>-0.240948</td>\n",
       "      <td>-0.343775</td>\n",
       "      <td>1.257816</td>\n",
       "    </tr>\n",
       "    <tr>\n",
       "      <th>24</th>\n",
       "      <td>1.034086</td>\n",
       "      <td>-0.260328</td>\n",
       "      <td>-0.278909</td>\n",
       "      <td>-0.434076</td>\n",
       "      <td>1.734778</td>\n",
       "      <td>0.778639</td>\n",
       "      <td>0.281912</td>\n",
       "      <td>-1.637676</td>\n",
       "      <td>-0.782011</td>\n",
       "      <td>0.437172</td>\n",
       "      <td>1.480377</td>\n",
       "      <td>0.251991</td>\n",
       "      <td>-2.187872</td>\n",
       "      <td>2.003804</td>\n",
       "      <td>0.227914</td>\n",
       "      <td>0.053955</td>\n",
       "      <td>0.457866</td>\n",
       "      <td>-0.656458</td>\n",
       "      <td>-0.583243</td>\n",
       "      <td>-0.414381</td>\n",
       "    </tr>\n",
       "    <tr>\n",
       "      <th>25</th>\n",
       "      <td>-0.024925</td>\n",
       "      <td>0.391038</td>\n",
       "      <td>-0.772653</td>\n",
       "      <td>0.107720</td>\n",
       "      <td>-0.707678</td>\n",
       "      <td>-0.692006</td>\n",
       "      <td>-1.541881</td>\n",
       "      <td>-1.281486</td>\n",
       "      <td>0.627117</td>\n",
       "      <td>-0.990409</td>\n",
       "      <td>-1.652112</td>\n",
       "      <td>-0.324915</td>\n",
       "      <td>0.729580</td>\n",
       "      <td>-0.986947</td>\n",
       "      <td>0.613092</td>\n",
       "      <td>1.286543</td>\n",
       "      <td>1.034456</td>\n",
       "      <td>-0.305598</td>\n",
       "      <td>-0.374213</td>\n",
       "      <td>0.632087</td>\n",
       "    </tr>\n",
       "    <tr>\n",
       "      <th>26</th>\n",
       "      <td>0.068504</td>\n",
       "      <td>0.286996</td>\n",
       "      <td>-0.206474</td>\n",
       "      <td>0.429724</td>\n",
       "      <td>-2.630626</td>\n",
       "      <td>1.871723</td>\n",
       "      <td>0.003778</td>\n",
       "      <td>0.495659</td>\n",
       "      <td>-0.463484</td>\n",
       "      <td>0.016331</td>\n",
       "      <td>1.481184</td>\n",
       "      <td>-0.456560</td>\n",
       "      <td>1.589723</td>\n",
       "      <td>-1.142930</td>\n",
       "      <td>-0.395276</td>\n",
       "      <td>0.776904</td>\n",
       "      <td>1.301018</td>\n",
       "      <td>0.355447</td>\n",
       "      <td>0.145616</td>\n",
       "      <td>0.306520</td>\n",
       "    </tr>\n",
       "    <tr>\n",
       "      <th>27</th>\n",
       "      <td>-1.227653</td>\n",
       "      <td>-1.718555</td>\n",
       "      <td>0.095691</td>\n",
       "      <td>0.713408</td>\n",
       "      <td>0.311404</td>\n",
       "      <td>0.992389</td>\n",
       "      <td>0.331617</td>\n",
       "      <td>0.348845</td>\n",
       "      <td>-1.497238</td>\n",
       "      <td>0.206828</td>\n",
       "      <td>-0.839967</td>\n",
       "      <td>-0.969747</td>\n",
       "      <td>0.758601</td>\n",
       "      <td>-0.784385</td>\n",
       "      <td>-1.361475</td>\n",
       "      <td>0.491801</td>\n",
       "      <td>0.776026</td>\n",
       "      <td>-0.124003</td>\n",
       "      <td>0.402019</td>\n",
       "      <td>-1.764575</td>\n",
       "    </tr>\n",
       "    <tr>\n",
       "      <th>28</th>\n",
       "      <td>-0.835860</td>\n",
       "      <td>-1.658472</td>\n",
       "      <td>0.855051</td>\n",
       "      <td>0.858838</td>\n",
       "      <td>0.562732</td>\n",
       "      <td>0.023939</td>\n",
       "      <td>-1.761392</td>\n",
       "      <td>-1.631097</td>\n",
       "      <td>0.093154</td>\n",
       "      <td>-0.673209</td>\n",
       "      <td>-1.402826</td>\n",
       "      <td>-1.319032</td>\n",
       "      <td>0.592595</td>\n",
       "      <td>-0.756462</td>\n",
       "      <td>-0.509585</td>\n",
       "      <td>0.891099</td>\n",
       "      <td>-0.414130</td>\n",
       "      <td>1.469531</td>\n",
       "      <td>-0.364441</td>\n",
       "      <td>-0.479662</td>\n",
       "    </tr>\n",
       "    <tr>\n",
       "      <th>29</th>\n",
       "      <td>1.676174</td>\n",
       "      <td>0.894497</td>\n",
       "      <td>1.177389</td>\n",
       "      <td>1.705920</td>\n",
       "      <td>2.285836</td>\n",
       "      <td>0.425588</td>\n",
       "      <td>1.215423</td>\n",
       "      <td>-0.078443</td>\n",
       "      <td>2.095806</td>\n",
       "      <td>1.655944</td>\n",
       "      <td>0.780467</td>\n",
       "      <td>0.382873</td>\n",
       "      <td>0.708830</td>\n",
       "      <td>1.902275</td>\n",
       "      <td>2.626925</td>\n",
       "      <td>0.492295</td>\n",
       "      <td>1.752009</td>\n",
       "      <td>1.110193</td>\n",
       "      <td>-1.023747</td>\n",
       "      <td>1.620815</td>\n",
       "    </tr>\n",
       "  </tbody>\n",
       "</table>\n",
       "</div>"
      ],
      "text/plain": [
       "        MDLZ      MSFT      NXPI      PCAR      INTC      NVDA      ILMN  \\\n",
       "0  -2.653609 -1.616178 -1.681353 -3.035527 -0.130507 -1.196621 -1.365826   \n",
       "1   0.174216  2.589333  1.299973  0.312618  0.279158  1.389699  1.284274   \n",
       "2   0.997779 -0.139380  0.507367  2.175557 -0.869742  1.295231 -1.018486   \n",
       "3  -0.366351  0.971911 -0.186879 -0.833073  0.394053  0.809659  0.793569   \n",
       "4   0.166950 -0.358551 -0.374269 -0.558043  0.533280 -0.509099 -0.912766   \n",
       "5  -0.935488  0.574212 -0.643267  1.156368 -0.294324  0.542658  0.228853   \n",
       "6   0.810275  0.131027 -0.344631  0.728398 -1.742730  0.420086 -0.693281   \n",
       "7   0.991526 -0.587706 -0.793760  0.527985  0.245255  0.288077 -1.103051   \n",
       "8  -2.078697 -1.450852 -0.625674 -0.792567  0.574373 -0.394631 -0.965813   \n",
       "9   1.436080 -1.291734 -1.115941  0.743359  1.086179  0.025483 -0.493246   \n",
       "10  0.293794 -1.571313 -2.379982 -0.236982 -0.039789 -1.105148 -1.263244   \n",
       "11 -1.192362 -1.420840 -1.179873 -0.943969 -1.441420 -0.319217 -1.108482   \n",
       "12 -0.481881 -2.042368 -1.962182 -1.543185 -1.426381 -1.466499  1.076805   \n",
       "13 -0.691680 -0.682710 -0.104204  0.728176 -0.955465 -3.197153 -1.081577   \n",
       "14 -0.121597  0.394677  1.502409  1.191986  2.129434  0.396795  0.549150   \n",
       "15 -0.978244  1.593136  0.445444 -0.100598 -0.841707  1.399947  0.614348   \n",
       "16  1.272469  1.544853 -0.096677  0.745603  1.498313 -0.448730  0.083307   \n",
       "17  0.418971  0.120361  0.439548  0.238393  0.016563 -1.838600  0.361950   \n",
       "18 -1.133979 -0.381960  0.664422  0.199289  1.361992  0.144983  0.583420   \n",
       "19 -0.600169 -2.115590 -0.204152 -0.346953  0.401440 -0.803575  0.507859   \n",
       "20  0.821477  1.086327  0.275866 -2.678215  0.786964  2.761230  0.444747   \n",
       "21 -1.066733 -0.802778 -1.131739  0.895502 -0.610744  0.015361 -0.682835   \n",
       "22  1.525731 -1.093872 -1.745151  0.374322 -1.098445 -2.299365 -0.261509   \n",
       "23  1.303217 -0.616427  0.466046  0.464238  0.221405 -0.130680 -1.957683   \n",
       "24  1.034086 -0.260328 -0.278909 -0.434076  1.734778  0.778639  0.281912   \n",
       "25 -0.024925  0.391038 -0.772653  0.107720 -0.707678 -0.692006 -1.541881   \n",
       "26  0.068504  0.286996 -0.206474  0.429724 -2.630626  1.871723  0.003778   \n",
       "27 -1.227653 -1.718555  0.095691  0.713408  0.311404  0.992389  0.331617   \n",
       "28 -0.835860 -1.658472  0.855051  0.858838  0.562732  0.023939 -1.761392   \n",
       "29  1.676174  0.894497  1.177389  1.705920  2.285836  0.425588  1.215423   \n",
       "\n",
       "        DXCM      ROST      LULU      PRFT      FTNT      WIRE      NFLX  \\\n",
       "0  -0.108234 -1.821851 -1.144473 -1.261570 -3.407088 -1.653809 -1.509995   \n",
       "1   1.224546 -0.880193  2.030823  1.133514  1.692833 -0.269323  1.731466   \n",
       "2  -0.775086  1.107556 -0.674963  0.412634  0.407439 -0.348432  0.919009   \n",
       "3   0.605797 -1.717243 -0.039861  0.072227  1.053433 -1.628755  0.695462   \n",
       "4  -1.745180  1.929099 -0.040969  1.664470  1.177751  0.000792  0.091978   \n",
       "5   0.256633  1.210764  0.284389  1.397073  0.011705  0.729525  0.197700   \n",
       "6   0.444660 -0.401605 -0.745895 -0.140949  0.490530  0.185164  0.439476   \n",
       "7  -1.655520 -0.575819  0.106050 -0.221927 -0.013324 -0.343036  1.222635   \n",
       "8   0.326075  0.247023  0.364450  0.683845 -0.927438  0.290184 -1.777973   \n",
       "9   0.104818  0.822826  0.800432  0.306799 -1.612646 -0.970611  0.544967   \n",
       "10 -0.535146 -1.210899  0.159831 -0.707031 -0.374070 -1.429141 -0.188654   \n",
       "11 -0.735961 -1.229586 -0.303996 -0.548388 -0.768457 -0.790523 -1.559401   \n",
       "12  0.417756 -1.541131  0.916765  0.144996 -2.619140 -0.700256 -1.271626   \n",
       "13 -0.432744 -0.729450 -1.199979 -3.160881 -1.474960 -1.122972 -1.274006   \n",
       "14  0.556407  0.501794  0.066382  1.338922 -0.087036  0.832492 -1.005797   \n",
       "15  1.163717  0.760701  1.688733  1.715077  2.511455  1.416452 -0.995541   \n",
       "16  1.005325  1.470766 -0.417127  0.931061 -0.017068 -0.091971 -0.832550   \n",
       "17 -1.731459  0.392523 -2.036532 -0.413352  0.105145 -0.881391 -1.287583   \n",
       "18 -0.729291  0.994192  0.192006  2.023460  0.299951  1.139857 -0.217259   \n",
       "19  0.107363 -0.391594  0.169700 -0.952479 -0.358241 -0.953307  0.499158   \n",
       "20  0.507683 -0.505970 -0.319133 -0.135566  0.974663 -1.355342  0.863818   \n",
       "21 -0.052238  0.271986  1.176561  0.204640  0.674403  0.998817 -0.385719   \n",
       "22 -0.015937 -0.564708 -1.223001 -0.905341 -2.139771  0.979397  0.161908   \n",
       "23 -0.594235 -0.539254  0.710326 -1.384259  0.415852 -1.519685  0.446075   \n",
       "24 -1.637676 -0.782011  0.437172  1.480377  0.251991 -2.187872  2.003804   \n",
       "25 -1.281486  0.627117 -0.990409 -1.652112 -0.324915  0.729580 -0.986947   \n",
       "26  0.495659 -0.463484  0.016331  1.481184 -0.456560  1.589723 -1.142930   \n",
       "27  0.348845 -1.497238  0.206828 -0.839967 -0.969747  0.758601 -0.784385   \n",
       "28 -1.631097  0.093154 -0.673209 -1.402826 -1.319032  0.592595 -0.756462   \n",
       "29 -0.078443  2.095806  1.655944  0.780467  0.382873  0.708830  1.902275   \n",
       "\n",
       "        GAIN      SYNA     NYMTP      ANAT      TRNS      SFBS  \n",
       "0  -2.228630 -2.247702 -0.778036  0.047298 -2.324188 -1.624171  \n",
       "1  -0.303781  0.980047 -0.161166  1.618292 -0.793027  0.152878  \n",
       "2   0.437695  0.672586  1.959113  0.145779  0.828908  0.762968  \n",
       "3  -0.340797 -0.114436  1.972278 -0.664554 -0.296832 -2.079341  \n",
       "4  -1.053663  0.110086  0.681420  0.643330 -1.100437  0.200052  \n",
       "5   1.499898  0.454789 -0.581429  1.773552  1.511196 -0.381495  \n",
       "6  -0.750112 -1.182284 -0.429196 -1.046803 -0.239065 -0.183698  \n",
       "7   0.641393 -1.160792  0.585178  0.958658 -2.698550 -1.109112  \n",
       "8   0.876418 -0.671934 -0.024244 -0.884977  0.739898 -0.240434  \n",
       "9   0.761712 -0.303578  0.168402 -1.003091 -1.301612 -0.004660  \n",
       "10 -1.612892 -1.450509 -0.299911 -1.517080 -1.069719 -0.808121  \n",
       "11 -1.974222 -0.757442 -1.526020 -1.193841  1.687996 -0.774386  \n",
       "12 -2.081975 -0.964118 -1.378794 -1.106805 -3.284417 -0.637944  \n",
       "13 -2.300815 -1.088992 -0.154856 -0.394506  0.027215  0.915949  \n",
       "14  1.205350  0.164874  1.376097  0.621864  1.567090  2.058543  \n",
       "15  0.832769  0.252046 -0.719351 -0.878623 -0.470507  1.712474  \n",
       "16  1.487765  0.923813 -0.612265  1.289564 -1.149125  0.638325  \n",
       "17  0.034254 -1.301073 -0.624845  0.675828 -0.298898  1.895433  \n",
       "18  0.006954  1.246089  1.579474  1.080976 -0.308585  1.713135  \n",
       "19 -0.494873 -0.638960 -1.020174 -2.368530  0.244177  0.878210  \n",
       "20  0.603207  1.289657  1.073955 -2.894705 -0.344732 -0.886088  \n",
       "21 -0.023340  0.195322 -0.795299  0.308458 -0.455768  1.017853  \n",
       "22 -0.548429 -0.466258 -0.806220  0.091993  1.918779  0.666333  \n",
       "23 -0.334123 -0.390145 -0.379037 -0.240948 -0.343775  1.257816  \n",
       "24  0.227914  0.053955  0.457866 -0.656458 -0.583243 -0.414381  \n",
       "25  0.613092  1.286543  1.034456 -0.305598 -0.374213  0.632087  \n",
       "26 -0.395276  0.776904  1.301018  0.355447  0.145616  0.306520  \n",
       "27 -1.361475  0.491801  0.776026 -0.124003  0.402019 -1.764575  \n",
       "28 -0.509585  0.891099 -0.414130  1.469531 -0.364441 -0.479662  \n",
       "29  2.626925  0.492295  1.752009  1.110193 -1.023747  1.620815  "
      ]
     },
     "execution_count": 43,
     "metadata": {},
     "output_type": "execute_result"
    }
   ],
   "source": [
    "T = 30\n",
    "sample_raw = np.random.multivariate_normal(estims['logret_mean'], cov_matrix, T)\n",
    "sample = pd.DataFrame(columns=assets, data=sample_raw)\n",
    "sample"
   ]
  },
  {
   "cell_type": "markdown",
   "metadata": {},
   "source": [
    "#### 2.2 По построенной выборке делаем оценку Eest вектора математических ожиданий ..."
   ]
  },
  {
   "cell_type": "code",
   "execution_count": 44,
   "metadata": {},
   "outputs": [
    {
     "data": {
      "text/plain": [
       "MDLZ    -0.046599\n",
       "MSFT    -0.307708\n",
       "NXPI    -0.269952\n",
       "PCAR     0.093141\n",
       "INTC     0.054453\n",
       "NVDA    -0.027328\n",
       "ILMN    -0.261669\n",
       "DXCM    -0.205815\n",
       "ROST    -0.077558\n",
       "LULU     0.039106\n",
       "PRFT     0.068137\n",
       "FTNT    -0.213982\n",
       "WIRE    -0.176481\n",
       "NFLX    -0.141903\n",
       "GAIN    -0.148621\n",
       "SYNA    -0.081877\n",
       "NYMTP    0.133744\n",
       "ANAT    -0.102992\n",
       "TRNS    -0.325066\n",
       "SFBS     0.168044\n",
       "dtype: float64"
      ]
     },
     "execution_count": 44,
     "metadata": {},
     "output_type": "execute_result"
    }
   ],
   "source": [
    "estE = sample.mean()\n",
    "estE"
   ]
  },
  {
   "cell_type": "markdown",
   "metadata": {},
   "source": [
    "#### ... и оценку (σesti,j) матрицы ковариаций. "
   ]
  },
  {
   "cell_type": "code",
   "execution_count": 45,
   "metadata": {},
   "outputs": [
    {
     "data": {
      "text/html": [
       "<div>\n",
       "<style scoped>\n",
       "    .dataframe tbody tr th:only-of-type {\n",
       "        vertical-align: middle;\n",
       "    }\n",
       "\n",
       "    .dataframe tbody tr th {\n",
       "        vertical-align: top;\n",
       "    }\n",
       "\n",
       "    .dataframe thead th {\n",
       "        text-align: right;\n",
       "    }\n",
       "</style>\n",
       "<table border=\"1\" class=\"dataframe\">\n",
       "  <thead>\n",
       "    <tr style=\"text-align: right;\">\n",
       "      <th></th>\n",
       "      <th>MDLZ</th>\n",
       "      <th>MSFT</th>\n",
       "      <th>NXPI</th>\n",
       "      <th>PCAR</th>\n",
       "      <th>INTC</th>\n",
       "      <th>NVDA</th>\n",
       "      <th>ILMN</th>\n",
       "      <th>DXCM</th>\n",
       "      <th>ROST</th>\n",
       "      <th>LULU</th>\n",
       "      <th>PRFT</th>\n",
       "      <th>FTNT</th>\n",
       "      <th>WIRE</th>\n",
       "      <th>NFLX</th>\n",
       "      <th>GAIN</th>\n",
       "      <th>SYNA</th>\n",
       "      <th>NYMTP</th>\n",
       "      <th>ANAT</th>\n",
       "      <th>TRNS</th>\n",
       "      <th>SFBS</th>\n",
       "    </tr>\n",
       "  </thead>\n",
       "  <tbody>\n",
       "    <tr>\n",
       "      <th>MDLZ</th>\n",
       "      <td>1.000000</td>\n",
       "      <td>0.332384</td>\n",
       "      <td>0.155499</td>\n",
       "      <td>0.399503</td>\n",
       "      <td>0.196195</td>\n",
       "      <td>0.119303</td>\n",
       "      <td>0.094587</td>\n",
       "      <td>-0.117447</td>\n",
       "      <td>0.292761</td>\n",
       "      <td>0.031796</td>\n",
       "      <td>0.085872</td>\n",
       "      <td>0.257111</td>\n",
       "      <td>-0.138276</td>\n",
       "      <td>0.638379</td>\n",
       "      <td>0.405451</td>\n",
       "      <td>0.181472</td>\n",
       "      <td>0.256430</td>\n",
       "      <td>0.035275</td>\n",
       "      <td>-0.079052</td>\n",
       "      <td>0.251109</td>\n",
       "    </tr>\n",
       "    <tr>\n",
       "      <th>MSFT</th>\n",
       "      <td>0.332384</td>\n",
       "      <td>1.000000</td>\n",
       "      <td>0.562540</td>\n",
       "      <td>0.196024</td>\n",
       "      <td>0.165362</td>\n",
       "      <td>0.499580</td>\n",
       "      <td>0.452237</td>\n",
       "      <td>0.366873</td>\n",
       "      <td>0.357469</td>\n",
       "      <td>0.246098</td>\n",
       "      <td>0.465644</td>\n",
       "      <td>0.721590</td>\n",
       "      <td>0.194157</td>\n",
       "      <td>0.346385</td>\n",
       "      <td>0.555899</td>\n",
       "      <td>0.527409</td>\n",
       "      <td>0.359684</td>\n",
       "      <td>0.326155</td>\n",
       "      <td>0.060474</td>\n",
       "      <td>0.282149</td>\n",
       "    </tr>\n",
       "    <tr>\n",
       "      <th>NXPI</th>\n",
       "      <td>0.155499</td>\n",
       "      <td>0.562540</td>\n",
       "      <td>1.000000</td>\n",
       "      <td>0.415676</td>\n",
       "      <td>0.440604</td>\n",
       "      <td>0.455370</td>\n",
       "      <td>0.344767</td>\n",
       "      <td>0.085658</td>\n",
       "      <td>0.398864</td>\n",
       "      <td>0.189192</td>\n",
       "      <td>0.279843</td>\n",
       "      <td>0.552453</td>\n",
       "      <td>0.247190</td>\n",
       "      <td>0.264029</td>\n",
       "      <td>0.475239</td>\n",
       "      <td>0.559660</td>\n",
       "      <td>0.475687</td>\n",
       "      <td>0.371636</td>\n",
       "      <td>0.240855</td>\n",
       "      <td>0.474538</td>\n",
       "    </tr>\n",
       "    <tr>\n",
       "      <th>PCAR</th>\n",
       "      <td>0.399503</td>\n",
       "      <td>0.196024</td>\n",
       "      <td>0.415676</td>\n",
       "      <td>1.000000</td>\n",
       "      <td>0.082323</td>\n",
       "      <td>0.046250</td>\n",
       "      <td>-0.007664</td>\n",
       "      <td>-0.068560</td>\n",
       "      <td>0.531677</td>\n",
       "      <td>0.121144</td>\n",
       "      <td>0.120308</td>\n",
       "      <td>0.249825</td>\n",
       "      <td>0.480513</td>\n",
       "      <td>0.237011</td>\n",
       "      <td>0.449049</td>\n",
       "      <td>0.321981</td>\n",
       "      <td>0.257725</td>\n",
       "      <td>0.539967</td>\n",
       "      <td>0.334286</td>\n",
       "      <td>0.498480</td>\n",
       "    </tr>\n",
       "    <tr>\n",
       "      <th>INTC</th>\n",
       "      <td>0.196195</td>\n",
       "      <td>0.165362</td>\n",
       "      <td>0.440604</td>\n",
       "      <td>0.082323</td>\n",
       "      <td>1.000000</td>\n",
       "      <td>0.139535</td>\n",
       "      <td>0.271066</td>\n",
       "      <td>-0.086145</td>\n",
       "      <td>0.361728</td>\n",
       "      <td>0.245222</td>\n",
       "      <td>0.275830</td>\n",
       "      <td>0.179725</td>\n",
       "      <td>-0.169248</td>\n",
       "      <td>0.381392</td>\n",
       "      <td>0.524314</td>\n",
       "      <td>0.251816</td>\n",
       "      <td>0.353219</td>\n",
       "      <td>0.198897</td>\n",
       "      <td>-0.106101</td>\n",
       "      <td>0.148714</td>\n",
       "    </tr>\n",
       "    <tr>\n",
       "      <th>NVDA</th>\n",
       "      <td>0.119303</td>\n",
       "      <td>0.499580</td>\n",
       "      <td>0.455370</td>\n",
       "      <td>0.046250</td>\n",
       "      <td>0.139535</td>\n",
       "      <td>1.000000</td>\n",
       "      <td>0.317448</td>\n",
       "      <td>0.313561</td>\n",
       "      <td>0.111310</td>\n",
       "      <td>0.462473</td>\n",
       "      <td>0.562576</td>\n",
       "      <td>0.590204</td>\n",
       "      <td>0.192946</td>\n",
       "      <td>0.418569</td>\n",
       "      <td>0.441944</td>\n",
       "      <td>0.602903</td>\n",
       "      <td>0.492891</td>\n",
       "      <td>-0.016077</td>\n",
       "      <td>0.075607</td>\n",
       "      <td>-0.154834</td>\n",
       "    </tr>\n",
       "    <tr>\n",
       "      <th>ILMN</th>\n",
       "      <td>0.094587</td>\n",
       "      <td>0.452237</td>\n",
       "      <td>0.344767</td>\n",
       "      <td>-0.007664</td>\n",
       "      <td>0.271066</td>\n",
       "      <td>0.317448</td>\n",
       "      <td>1.000000</td>\n",
       "      <td>0.523719</td>\n",
       "      <td>0.066988</td>\n",
       "      <td>0.428690</td>\n",
       "      <td>0.547770</td>\n",
       "      <td>0.303888</td>\n",
       "      <td>0.151743</td>\n",
       "      <td>0.279399</td>\n",
       "      <td>0.310666</td>\n",
       "      <td>0.297487</td>\n",
       "      <td>0.188028</td>\n",
       "      <td>0.044653</td>\n",
       "      <td>-0.017183</td>\n",
       "      <td>0.152792</td>\n",
       "    </tr>\n",
       "    <tr>\n",
       "      <th>DXCM</th>\n",
       "      <td>-0.117447</td>\n",
       "      <td>0.366873</td>\n",
       "      <td>0.085658</td>\n",
       "      <td>-0.068560</td>\n",
       "      <td>-0.086145</td>\n",
       "      <td>0.313561</td>\n",
       "      <td>0.523719</td>\n",
       "      <td>1.000000</td>\n",
       "      <td>-0.126243</td>\n",
       "      <td>0.429088</td>\n",
       "      <td>0.250071</td>\n",
       "      <td>0.115268</td>\n",
       "      <td>0.217283</td>\n",
       "      <td>-0.063880</td>\n",
       "      <td>0.142217</td>\n",
       "      <td>0.152413</td>\n",
       "      <td>-0.076571</td>\n",
       "      <td>-0.160448</td>\n",
       "      <td>0.112125</td>\n",
       "      <td>-0.025834</td>\n",
       "    </tr>\n",
       "    <tr>\n",
       "      <th>ROST</th>\n",
       "      <td>0.292761</td>\n",
       "      <td>0.357469</td>\n",
       "      <td>0.398864</td>\n",
       "      <td>0.531677</td>\n",
       "      <td>0.361728</td>\n",
       "      <td>0.111310</td>\n",
       "      <td>0.066988</td>\n",
       "      <td>-0.126243</td>\n",
       "      <td>1.000000</td>\n",
       "      <td>0.123199</td>\n",
       "      <td>0.467424</td>\n",
       "      <td>0.382001</td>\n",
       "      <td>0.481181</td>\n",
       "      <td>0.132563</td>\n",
       "      <td>0.713155</td>\n",
       "      <td>0.475907</td>\n",
       "      <td>0.277335</td>\n",
       "      <td>0.429651</td>\n",
       "      <td>0.135869</td>\n",
       "      <td>0.634947</td>\n",
       "    </tr>\n",
       "    <tr>\n",
       "      <th>LULU</th>\n",
       "      <td>0.031796</td>\n",
       "      <td>0.246098</td>\n",
       "      <td>0.189192</td>\n",
       "      <td>0.121144</td>\n",
       "      <td>0.245222</td>\n",
       "      <td>0.462473</td>\n",
       "      <td>0.428690</td>\n",
       "      <td>0.429088</td>\n",
       "      <td>0.123199</td>\n",
       "      <td>1.000000</td>\n",
       "      <td>0.511468</td>\n",
       "      <td>0.416550</td>\n",
       "      <td>0.173578</td>\n",
       "      <td>0.386859</td>\n",
       "      <td>0.307674</td>\n",
       "      <td>0.284249</td>\n",
       "      <td>0.043090</td>\n",
       "      <td>0.045413</td>\n",
       "      <td>-0.221852</td>\n",
       "      <td>0.085310</td>\n",
       "    </tr>\n",
       "    <tr>\n",
       "      <th>PRFT</th>\n",
       "      <td>0.085872</td>\n",
       "      <td>0.465644</td>\n",
       "      <td>0.279843</td>\n",
       "      <td>0.120308</td>\n",
       "      <td>0.275830</td>\n",
       "      <td>0.562576</td>\n",
       "      <td>0.547770</td>\n",
       "      <td>0.250071</td>\n",
       "      <td>0.467424</td>\n",
       "      <td>0.511468</td>\n",
       "      <td>1.000000</td>\n",
       "      <td>0.505756</td>\n",
       "      <td>0.361395</td>\n",
       "      <td>0.246583</td>\n",
       "      <td>0.512922</td>\n",
       "      <td>0.417920</td>\n",
       "      <td>0.299758</td>\n",
       "      <td>0.290846</td>\n",
       "      <td>0.019605</td>\n",
       "      <td>0.210401</td>\n",
       "    </tr>\n",
       "    <tr>\n",
       "      <th>FTNT</th>\n",
       "      <td>0.257111</td>\n",
       "      <td>0.721590</td>\n",
       "      <td>0.552453</td>\n",
       "      <td>0.249825</td>\n",
       "      <td>0.179725</td>\n",
       "      <td>0.590204</td>\n",
       "      <td>0.303888</td>\n",
       "      <td>0.115268</td>\n",
       "      <td>0.382001</td>\n",
       "      <td>0.416550</td>\n",
       "      <td>0.505756</td>\n",
       "      <td>1.000000</td>\n",
       "      <td>0.162568</td>\n",
       "      <td>0.443280</td>\n",
       "      <td>0.463477</td>\n",
       "      <td>0.476985</td>\n",
       "      <td>0.332245</td>\n",
       "      <td>0.081293</td>\n",
       "      <td>0.125336</td>\n",
       "      <td>0.310702</td>\n",
       "    </tr>\n",
       "    <tr>\n",
       "      <th>WIRE</th>\n",
       "      <td>-0.138276</td>\n",
       "      <td>0.194157</td>\n",
       "      <td>0.247190</td>\n",
       "      <td>0.480513</td>\n",
       "      <td>-0.169248</td>\n",
       "      <td>0.192946</td>\n",
       "      <td>0.151743</td>\n",
       "      <td>0.217283</td>\n",
       "      <td>0.481181</td>\n",
       "      <td>0.173578</td>\n",
       "      <td>0.361395</td>\n",
       "      <td>0.162568</td>\n",
       "      <td>1.000000</td>\n",
       "      <td>-0.245119</td>\n",
       "      <td>0.357966</td>\n",
       "      <td>0.485013</td>\n",
       "      <td>0.146250</td>\n",
       "      <td>0.456815</td>\n",
       "      <td>0.326247</td>\n",
       "      <td>0.404391</td>\n",
       "    </tr>\n",
       "    <tr>\n",
       "      <th>NFLX</th>\n",
       "      <td>0.638379</td>\n",
       "      <td>0.346385</td>\n",
       "      <td>0.264029</td>\n",
       "      <td>0.237011</td>\n",
       "      <td>0.381392</td>\n",
       "      <td>0.418569</td>\n",
       "      <td>0.279399</td>\n",
       "      <td>-0.063880</td>\n",
       "      <td>0.132563</td>\n",
       "      <td>0.386859</td>\n",
       "      <td>0.246583</td>\n",
       "      <td>0.443280</td>\n",
       "      <td>-0.245119</td>\n",
       "      <td>1.000000</td>\n",
       "      <td>0.382457</td>\n",
       "      <td>0.243846</td>\n",
       "      <td>0.373290</td>\n",
       "      <td>0.056583</td>\n",
       "      <td>-0.125421</td>\n",
       "      <td>-0.043578</td>\n",
       "    </tr>\n",
       "    <tr>\n",
       "      <th>GAIN</th>\n",
       "      <td>0.405451</td>\n",
       "      <td>0.555899</td>\n",
       "      <td>0.475239</td>\n",
       "      <td>0.449049</td>\n",
       "      <td>0.524314</td>\n",
       "      <td>0.441944</td>\n",
       "      <td>0.310666</td>\n",
       "      <td>0.142217</td>\n",
       "      <td>0.713155</td>\n",
       "      <td>0.307674</td>\n",
       "      <td>0.512922</td>\n",
       "      <td>0.463477</td>\n",
       "      <td>0.357966</td>\n",
       "      <td>0.382457</td>\n",
       "      <td>1.000000</td>\n",
       "      <td>0.523915</td>\n",
       "      <td>0.409574</td>\n",
       "      <td>0.311894</td>\n",
       "      <td>0.148650</td>\n",
       "      <td>0.415526</td>\n",
       "    </tr>\n",
       "    <tr>\n",
       "      <th>SYNA</th>\n",
       "      <td>0.181472</td>\n",
       "      <td>0.527409</td>\n",
       "      <td>0.559660</td>\n",
       "      <td>0.321981</td>\n",
       "      <td>0.251816</td>\n",
       "      <td>0.602903</td>\n",
       "      <td>0.297487</td>\n",
       "      <td>0.152413</td>\n",
       "      <td>0.475907</td>\n",
       "      <td>0.284249</td>\n",
       "      <td>0.417920</td>\n",
       "      <td>0.476985</td>\n",
       "      <td>0.485013</td>\n",
       "      <td>0.243846</td>\n",
       "      <td>0.523915</td>\n",
       "      <td>1.000000</td>\n",
       "      <td>0.502266</td>\n",
       "      <td>0.292948</td>\n",
       "      <td>0.252884</td>\n",
       "      <td>0.237779</td>\n",
       "    </tr>\n",
       "    <tr>\n",
       "      <th>NYMTP</th>\n",
       "      <td>0.256430</td>\n",
       "      <td>0.359684</td>\n",
       "      <td>0.475687</td>\n",
       "      <td>0.257725</td>\n",
       "      <td>0.353219</td>\n",
       "      <td>0.492891</td>\n",
       "      <td>0.188028</td>\n",
       "      <td>-0.076571</td>\n",
       "      <td>0.277335</td>\n",
       "      <td>0.043090</td>\n",
       "      <td>0.299758</td>\n",
       "      <td>0.332245</td>\n",
       "      <td>0.146250</td>\n",
       "      <td>0.373290</td>\n",
       "      <td>0.409574</td>\n",
       "      <td>0.502266</td>\n",
       "      <td>1.000000</td>\n",
       "      <td>0.160353</td>\n",
       "      <td>0.074952</td>\n",
       "      <td>0.046048</td>\n",
       "    </tr>\n",
       "    <tr>\n",
       "      <th>ANAT</th>\n",
       "      <td>0.035275</td>\n",
       "      <td>0.326155</td>\n",
       "      <td>0.371636</td>\n",
       "      <td>0.539967</td>\n",
       "      <td>0.198897</td>\n",
       "      <td>-0.016077</td>\n",
       "      <td>0.044653</td>\n",
       "      <td>-0.160448</td>\n",
       "      <td>0.429651</td>\n",
       "      <td>0.045413</td>\n",
       "      <td>0.290846</td>\n",
       "      <td>0.081293</td>\n",
       "      <td>0.456815</td>\n",
       "      <td>0.056583</td>\n",
       "      <td>0.311894</td>\n",
       "      <td>0.292948</td>\n",
       "      <td>0.160353</td>\n",
       "      <td>1.000000</td>\n",
       "      <td>0.004395</td>\n",
       "      <td>0.250592</td>\n",
       "    </tr>\n",
       "    <tr>\n",
       "      <th>TRNS</th>\n",
       "      <td>-0.079052</td>\n",
       "      <td>0.060474</td>\n",
       "      <td>0.240855</td>\n",
       "      <td>0.334286</td>\n",
       "      <td>-0.106101</td>\n",
       "      <td>0.075607</td>\n",
       "      <td>-0.017183</td>\n",
       "      <td>0.112125</td>\n",
       "      <td>0.135869</td>\n",
       "      <td>-0.221852</td>\n",
       "      <td>0.019605</td>\n",
       "      <td>0.125336</td>\n",
       "      <td>0.326247</td>\n",
       "      <td>-0.125421</td>\n",
       "      <td>0.148650</td>\n",
       "      <td>0.252884</td>\n",
       "      <td>0.074952</td>\n",
       "      <td>0.004395</td>\n",
       "      <td>1.000000</td>\n",
       "      <td>0.248428</td>\n",
       "    </tr>\n",
       "    <tr>\n",
       "      <th>SFBS</th>\n",
       "      <td>0.251109</td>\n",
       "      <td>0.282149</td>\n",
       "      <td>0.474538</td>\n",
       "      <td>0.498480</td>\n",
       "      <td>0.148714</td>\n",
       "      <td>-0.154834</td>\n",
       "      <td>0.152792</td>\n",
       "      <td>-0.025834</td>\n",
       "      <td>0.634947</td>\n",
       "      <td>0.085310</td>\n",
       "      <td>0.210401</td>\n",
       "      <td>0.310702</td>\n",
       "      <td>0.404391</td>\n",
       "      <td>-0.043578</td>\n",
       "      <td>0.415526</td>\n",
       "      <td>0.237779</td>\n",
       "      <td>0.046048</td>\n",
       "      <td>0.250592</td>\n",
       "      <td>0.248428</td>\n",
       "      <td>1.000000</td>\n",
       "    </tr>\n",
       "  </tbody>\n",
       "</table>\n",
       "</div>"
      ],
      "text/plain": [
       "           MDLZ      MSFT      NXPI      PCAR      INTC      NVDA      ILMN  \\\n",
       "MDLZ   1.000000  0.332384  0.155499  0.399503  0.196195  0.119303  0.094587   \n",
       "MSFT   0.332384  1.000000  0.562540  0.196024  0.165362  0.499580  0.452237   \n",
       "NXPI   0.155499  0.562540  1.000000  0.415676  0.440604  0.455370  0.344767   \n",
       "PCAR   0.399503  0.196024  0.415676  1.000000  0.082323  0.046250 -0.007664   \n",
       "INTC   0.196195  0.165362  0.440604  0.082323  1.000000  0.139535  0.271066   \n",
       "NVDA   0.119303  0.499580  0.455370  0.046250  0.139535  1.000000  0.317448   \n",
       "ILMN   0.094587  0.452237  0.344767 -0.007664  0.271066  0.317448  1.000000   \n",
       "DXCM  -0.117447  0.366873  0.085658 -0.068560 -0.086145  0.313561  0.523719   \n",
       "ROST   0.292761  0.357469  0.398864  0.531677  0.361728  0.111310  0.066988   \n",
       "LULU   0.031796  0.246098  0.189192  0.121144  0.245222  0.462473  0.428690   \n",
       "PRFT   0.085872  0.465644  0.279843  0.120308  0.275830  0.562576  0.547770   \n",
       "FTNT   0.257111  0.721590  0.552453  0.249825  0.179725  0.590204  0.303888   \n",
       "WIRE  -0.138276  0.194157  0.247190  0.480513 -0.169248  0.192946  0.151743   \n",
       "NFLX   0.638379  0.346385  0.264029  0.237011  0.381392  0.418569  0.279399   \n",
       "GAIN   0.405451  0.555899  0.475239  0.449049  0.524314  0.441944  0.310666   \n",
       "SYNA   0.181472  0.527409  0.559660  0.321981  0.251816  0.602903  0.297487   \n",
       "NYMTP  0.256430  0.359684  0.475687  0.257725  0.353219  0.492891  0.188028   \n",
       "ANAT   0.035275  0.326155  0.371636  0.539967  0.198897 -0.016077  0.044653   \n",
       "TRNS  -0.079052  0.060474  0.240855  0.334286 -0.106101  0.075607 -0.017183   \n",
       "SFBS   0.251109  0.282149  0.474538  0.498480  0.148714 -0.154834  0.152792   \n",
       "\n",
       "           DXCM      ROST      LULU      PRFT      FTNT      WIRE      NFLX  \\\n",
       "MDLZ  -0.117447  0.292761  0.031796  0.085872  0.257111 -0.138276  0.638379   \n",
       "MSFT   0.366873  0.357469  0.246098  0.465644  0.721590  0.194157  0.346385   \n",
       "NXPI   0.085658  0.398864  0.189192  0.279843  0.552453  0.247190  0.264029   \n",
       "PCAR  -0.068560  0.531677  0.121144  0.120308  0.249825  0.480513  0.237011   \n",
       "INTC  -0.086145  0.361728  0.245222  0.275830  0.179725 -0.169248  0.381392   \n",
       "NVDA   0.313561  0.111310  0.462473  0.562576  0.590204  0.192946  0.418569   \n",
       "ILMN   0.523719  0.066988  0.428690  0.547770  0.303888  0.151743  0.279399   \n",
       "DXCM   1.000000 -0.126243  0.429088  0.250071  0.115268  0.217283 -0.063880   \n",
       "ROST  -0.126243  1.000000  0.123199  0.467424  0.382001  0.481181  0.132563   \n",
       "LULU   0.429088  0.123199  1.000000  0.511468  0.416550  0.173578  0.386859   \n",
       "PRFT   0.250071  0.467424  0.511468  1.000000  0.505756  0.361395  0.246583   \n",
       "FTNT   0.115268  0.382001  0.416550  0.505756  1.000000  0.162568  0.443280   \n",
       "WIRE   0.217283  0.481181  0.173578  0.361395  0.162568  1.000000 -0.245119   \n",
       "NFLX  -0.063880  0.132563  0.386859  0.246583  0.443280 -0.245119  1.000000   \n",
       "GAIN   0.142217  0.713155  0.307674  0.512922  0.463477  0.357966  0.382457   \n",
       "SYNA   0.152413  0.475907  0.284249  0.417920  0.476985  0.485013  0.243846   \n",
       "NYMTP -0.076571  0.277335  0.043090  0.299758  0.332245  0.146250  0.373290   \n",
       "ANAT  -0.160448  0.429651  0.045413  0.290846  0.081293  0.456815  0.056583   \n",
       "TRNS   0.112125  0.135869 -0.221852  0.019605  0.125336  0.326247 -0.125421   \n",
       "SFBS  -0.025834  0.634947  0.085310  0.210401  0.310702  0.404391 -0.043578   \n",
       "\n",
       "           GAIN      SYNA     NYMTP      ANAT      TRNS      SFBS  \n",
       "MDLZ   0.405451  0.181472  0.256430  0.035275 -0.079052  0.251109  \n",
       "MSFT   0.555899  0.527409  0.359684  0.326155  0.060474  0.282149  \n",
       "NXPI   0.475239  0.559660  0.475687  0.371636  0.240855  0.474538  \n",
       "PCAR   0.449049  0.321981  0.257725  0.539967  0.334286  0.498480  \n",
       "INTC   0.524314  0.251816  0.353219  0.198897 -0.106101  0.148714  \n",
       "NVDA   0.441944  0.602903  0.492891 -0.016077  0.075607 -0.154834  \n",
       "ILMN   0.310666  0.297487  0.188028  0.044653 -0.017183  0.152792  \n",
       "DXCM   0.142217  0.152413 -0.076571 -0.160448  0.112125 -0.025834  \n",
       "ROST   0.713155  0.475907  0.277335  0.429651  0.135869  0.634947  \n",
       "LULU   0.307674  0.284249  0.043090  0.045413 -0.221852  0.085310  \n",
       "PRFT   0.512922  0.417920  0.299758  0.290846  0.019605  0.210401  \n",
       "FTNT   0.463477  0.476985  0.332245  0.081293  0.125336  0.310702  \n",
       "WIRE   0.357966  0.485013  0.146250  0.456815  0.326247  0.404391  \n",
       "NFLX   0.382457  0.243846  0.373290  0.056583 -0.125421 -0.043578  \n",
       "GAIN   1.000000  0.523915  0.409574  0.311894  0.148650  0.415526  \n",
       "SYNA   0.523915  1.000000  0.502266  0.292948  0.252884  0.237779  \n",
       "NYMTP  0.409574  0.502266  1.000000  0.160353  0.074952  0.046048  \n",
       "ANAT   0.311894  0.292948  0.160353  1.000000  0.004395  0.250592  \n",
       "TRNS   0.148650  0.252884  0.074952  0.004395  1.000000  0.248428  \n",
       "SFBS   0.415526  0.237779  0.046048  0.250592  0.248428  1.000000  "
      ]
     },
     "execution_count": 45,
     "metadata": {},
     "output_type": "execute_result"
    }
   ],
   "source": [
    "estCov = sample.corr()\n",
    "estCov"
   ]
  },
  {
   "cell_type": "code",
   "execution_count": 46,
   "metadata": {},
   "outputs": [
    {
     "data": {
      "application/vnd.plotly.v1+json": {
       "config": {
        "plotlyServerURL": "https://plot.ly"
       },
       "data": [
        {
         "coloraxis": "coloraxis",
         "hovertemplate": "x: %{x}<br>y: %{y}<br>color: %{z}<extra></extra>",
         "name": "0",
         "type": "heatmap",
         "x": [
          "MDLZ",
          "MSFT",
          "NXPI",
          "PCAR",
          "INTC",
          "NVDA",
          "ILMN",
          "DXCM",
          "ROST",
          "LULU",
          "PRFT",
          "FTNT",
          "WIRE",
          "NFLX",
          "GAIN",
          "SYNA",
          "NYMTP",
          "ANAT",
          "TRNS",
          "SFBS"
         ],
         "xaxis": "x",
         "y": [
          "MDLZ",
          "MSFT",
          "NXPI",
          "PCAR",
          "INTC",
          "NVDA",
          "ILMN",
          "DXCM",
          "ROST",
          "LULU",
          "PRFT",
          "FTNT",
          "WIRE",
          "NFLX",
          "GAIN",
          "SYNA",
          "NYMTP",
          "ANAT",
          "TRNS",
          "SFBS"
         ],
         "yaxis": "y",
         "z": [
          [
           1,
           0.3323841894839852,
           0.15549947538290196,
           0.3995028897487459,
           0.19619475908583997,
           0.11930265145768976,
           0.09458662465713558,
           -0.11744651804261248,
           0.2927610545132239,
           0.03179556511560911,
           0.08587155747590468,
           0.2571112254418763,
           -0.1382764499657827,
           0.6383793385429035,
           0.40545106265897074,
           0.1814718827149919,
           0.25643018995381905,
           0.03527526693520987,
           -0.0790521905535137,
           0.25110948304789654
          ],
          [
           0.3323841894839852,
           1,
           0.5625399730090327,
           0.19602426700333453,
           0.1653615516051926,
           0.4995801607387277,
           0.4522374903413591,
           0.3668728070623473,
           0.357469311452508,
           0.24609790213371646,
           0.4656440949641826,
           0.7215899957188364,
           0.19415651745053594,
           0.34638464261098184,
           0.5558992038916428,
           0.5274094947458137,
           0.35968400113002325,
           0.32615515480487,
           0.06047443259960017,
           0.2821488517852562
          ],
          [
           0.15549947538290196,
           0.5625399730090327,
           1,
           0.41567631589546916,
           0.44060391190471493,
           0.4553697970930425,
           0.3447666660139199,
           0.08565817122275858,
           0.3988641082386153,
           0.18919174442802258,
           0.2798426286971456,
           0.5524528496128702,
           0.2471898294293342,
           0.2640289940040852,
           0.4752391289385965,
           0.5596599978292468,
           0.4756865987572881,
           0.37163599878146386,
           0.24085532081693684,
           0.47453821475811286
          ],
          [
           0.3995028897487459,
           0.19602426700333453,
           0.41567631589546916,
           1,
           0.08232262790045672,
           0.04625020140400449,
           -0.007663659429475825,
           -0.06855990900324042,
           0.5316773082065775,
           0.1211440982732633,
           0.12030761320851173,
           0.24982455173503168,
           0.48051306624586054,
           0.2370111898770187,
           0.4490493762806263,
           0.32198072426734636,
           0.2577251058857987,
           0.5399665316801112,
           0.33428622596223767,
           0.4984799448469802
          ],
          [
           0.19619475908583997,
           0.1653615516051926,
           0.44060391190471493,
           0.08232262790045672,
           1,
           0.13953533821934647,
           0.2710657022376463,
           -0.08614499542995545,
           0.3617282532211377,
           0.2452221944805138,
           0.27582993117463056,
           0.17972532670819277,
           -0.16924756570998795,
           0.3813918275791062,
           0.524313797066776,
           0.251816001902202,
           0.35321891820759294,
           0.19889658698117096,
           -0.1061008350482994,
           0.14871449836774184
          ],
          [
           0.11930265145768976,
           0.4995801607387277,
           0.4553697970930425,
           0.04625020140400449,
           0.13953533821934647,
           1,
           0.31744843840895537,
           0.3135611751521139,
           0.11130997298100455,
           0.46247339471998417,
           0.5625759215716447,
           0.5902041557455322,
           0.19294585048417176,
           0.4185688199705351,
           0.44194375432358446,
           0.6029026208483418,
           0.4928911008430924,
           -0.01607677996650412,
           0.07560685430458913,
           -0.1548337974811926
          ],
          [
           0.09458662465713558,
           0.4522374903413591,
           0.3447666660139199,
           -0.007663659429475825,
           0.2710657022376463,
           0.31744843840895537,
           1,
           0.5237194538014044,
           0.06698848070903797,
           0.4286895987639309,
           0.5477699692061759,
           0.30388756583497395,
           0.1517433868039804,
           0.27939857071022733,
           0.31066641212001206,
           0.2974873471732367,
           0.18802786566852628,
           0.044652948585694456,
           -0.01718266900977957,
           0.1527915523772724
          ],
          [
           -0.11744651804261248,
           0.3668728070623473,
           0.08565817122275858,
           -0.06855990900324042,
           -0.08614499542995545,
           0.3135611751521139,
           0.5237194538014044,
           1,
           -0.12624331214605716,
           0.4290880353195825,
           0.250070880636101,
           0.11526786478450778,
           0.21728292242507813,
           -0.06387956371457928,
           0.14221695692433317,
           0.15241258746255523,
           -0.07657134923489098,
           -0.16044774637416995,
           0.11212514704922662,
           -0.025834417724879096
          ],
          [
           0.2927610545132239,
           0.357469311452508,
           0.3988641082386153,
           0.5316773082065775,
           0.3617282532211377,
           0.11130997298100455,
           0.06698848070903797,
           -0.12624331214605716,
           1,
           0.12319877950169855,
           0.4674242593246313,
           0.3820014493778193,
           0.48118122932229407,
           0.13256285436894583,
           0.713155394460406,
           0.4759065321480429,
           0.2773347723334515,
           0.4296509850487971,
           0.13586897035261827,
           0.6349470102741962
          ],
          [
           0.03179556511560911,
           0.24609790213371646,
           0.18919174442802258,
           0.1211440982732633,
           0.2452221944805138,
           0.46247339471998417,
           0.4286895987639309,
           0.4290880353195825,
           0.12319877950169855,
           1,
           0.5114677900934542,
           0.41654992029294585,
           0.1735775943294755,
           0.3868585885355947,
           0.30767431297935227,
           0.2842493228241323,
           0.043089690252386015,
           0.04541328478246943,
           -0.2218524493758786,
           0.0853103583651396
          ],
          [
           0.08587155747590468,
           0.4656440949641826,
           0.2798426286971456,
           0.12030761320851173,
           0.27582993117463056,
           0.5625759215716447,
           0.5477699692061759,
           0.250070880636101,
           0.4674242593246313,
           0.5114677900934542,
           1,
           0.505756283725058,
           0.3613951345967596,
           0.24658282803152548,
           0.5129215730940605,
           0.4179204729966065,
           0.29975812016430065,
           0.2908460019628853,
           0.01960535960235104,
           0.21040135814072908
          ],
          [
           0.2571112254418763,
           0.7215899957188364,
           0.5524528496128702,
           0.24982455173503168,
           0.17972532670819277,
           0.5902041557455322,
           0.30388756583497395,
           0.11526786478450778,
           0.3820014493778193,
           0.41654992029294585,
           0.505756283725058,
           1,
           0.16256764965631804,
           0.4432800153137358,
           0.46347667046171226,
           0.4769851978161171,
           0.3322448891099038,
           0.08129349054657731,
           0.12533624457112857,
           0.3107024649566849
          ],
          [
           -0.1382764499657827,
           0.19415651745053594,
           0.2471898294293342,
           0.48051306624586054,
           -0.16924756570998795,
           0.19294585048417176,
           0.1517433868039804,
           0.21728292242507813,
           0.48118122932229407,
           0.1735775943294755,
           0.3613951345967596,
           0.16256764965631804,
           1,
           -0.2451189343422281,
           0.3579661756803594,
           0.48501276461600806,
           0.1462501868563596,
           0.4568153981665841,
           0.32624706653537905,
           0.4043906207400463
          ],
          [
           0.6383793385429035,
           0.34638464261098184,
           0.2640289940040852,
           0.2370111898770187,
           0.3813918275791062,
           0.4185688199705351,
           0.27939857071022733,
           -0.06387956371457928,
           0.13256285436894583,
           0.3868585885355947,
           0.24658282803152548,
           0.4432800153137358,
           -0.2451189343422281,
           1,
           0.3824574747934157,
           0.2438459339939991,
           0.3732897740530028,
           0.056582688608555226,
           -0.12542056955056954,
           -0.04357753974724536
          ],
          [
           0.40545106265897074,
           0.5558992038916428,
           0.4752391289385965,
           0.4490493762806263,
           0.524313797066776,
           0.44194375432358446,
           0.31066641212001206,
           0.14221695692433317,
           0.713155394460406,
           0.30767431297935227,
           0.5129215730940605,
           0.46347667046171226,
           0.3579661756803594,
           0.3824574747934157,
           1,
           0.5239154466777687,
           0.40957412899891177,
           0.3118942109259879,
           0.14865037370801154,
           0.41552590636744346
          ],
          [
           0.1814718827149919,
           0.5274094947458137,
           0.5596599978292468,
           0.32198072426734636,
           0.251816001902202,
           0.6029026208483418,
           0.2974873471732367,
           0.15241258746255523,
           0.4759065321480429,
           0.2842493228241323,
           0.4179204729966065,
           0.4769851978161171,
           0.48501276461600806,
           0.2438459339939991,
           0.5239154466777687,
           1,
           0.5022662469463302,
           0.29294797815173235,
           0.2528842837853193,
           0.2377786048883629
          ],
          [
           0.25643018995381905,
           0.35968400113002325,
           0.4756865987572881,
           0.2577251058857987,
           0.35321891820759294,
           0.4928911008430924,
           0.18802786566852628,
           -0.07657134923489098,
           0.2773347723334515,
           0.043089690252386015,
           0.29975812016430065,
           0.3322448891099038,
           0.1462501868563596,
           0.3732897740530028,
           0.40957412899891177,
           0.5022662469463302,
           1,
           0.1603529753007235,
           0.07495206905076812,
           0.04604809427717942
          ],
          [
           0.03527526693520987,
           0.32615515480487,
           0.37163599878146386,
           0.5399665316801112,
           0.19889658698117096,
           -0.01607677996650412,
           0.044652948585694456,
           -0.16044774637416995,
           0.4296509850487971,
           0.04541328478246943,
           0.2908460019628853,
           0.08129349054657731,
           0.4568153981665841,
           0.056582688608555226,
           0.3118942109259879,
           0.29294797815173235,
           0.1603529753007235,
           1,
           0.004395250596056186,
           0.2505924403879966
          ],
          [
           -0.0790521905535137,
           0.06047443259960017,
           0.24085532081693684,
           0.33428622596223767,
           -0.1061008350482994,
           0.07560685430458913,
           -0.01718266900977957,
           0.11212514704922662,
           0.13586897035261827,
           -0.2218524493758786,
           0.01960535960235104,
           0.12533624457112857,
           0.32624706653537905,
           -0.12542056955056954,
           0.14865037370801154,
           0.2528842837853193,
           0.07495206905076812,
           0.004395250596056186,
           1,
           0.2484282515572595
          ],
          [
           0.25110948304789654,
           0.2821488517852562,
           0.47453821475811286,
           0.4984799448469802,
           0.14871449836774184,
           -0.1548337974811926,
           0.1527915523772724,
           -0.025834417724879096,
           0.6349470102741962,
           0.0853103583651396,
           0.21040135814072908,
           0.3107024649566849,
           0.4043906207400463,
           -0.04357753974724536,
           0.41552590636744346,
           0.2377786048883629,
           0.04604809427717942,
           0.2505924403879966,
           0.2484282515572595,
           1
          ]
         ]
        }
       ],
       "layout": {
        "coloraxis": {
         "cmax": 1,
         "cmin": -1,
         "colorscale": [
          [
           0,
           "rgb(165,0,38)"
          ],
          [
           0.1,
           "rgb(215,48,39)"
          ],
          [
           0.2,
           "rgb(244,109,67)"
          ],
          [
           0.3,
           "rgb(253,174,97)"
          ],
          [
           0.4,
           "rgb(254,224,139)"
          ],
          [
           0.5,
           "rgb(255,255,191)"
          ],
          [
           0.6,
           "rgb(217,239,139)"
          ],
          [
           0.7,
           "rgb(166,217,106)"
          ],
          [
           0.8,
           "rgb(102,189,99)"
          ],
          [
           0.9,
           "rgb(26,152,80)"
          ],
          [
           1,
           "rgb(0,104,55)"
          ]
         ]
        },
        "template": {
         "data": {
          "bar": [
           {
            "error_x": {
             "color": "#2a3f5f"
            },
            "error_y": {
             "color": "#2a3f5f"
            },
            "marker": {
             "line": {
              "color": "#E5ECF6",
              "width": 0.5
             }
            },
            "type": "bar"
           }
          ],
          "barpolar": [
           {
            "marker": {
             "line": {
              "color": "#E5ECF6",
              "width": 0.5
             }
            },
            "type": "barpolar"
           }
          ],
          "carpet": [
           {
            "aaxis": {
             "endlinecolor": "#2a3f5f",
             "gridcolor": "white",
             "linecolor": "white",
             "minorgridcolor": "white",
             "startlinecolor": "#2a3f5f"
            },
            "baxis": {
             "endlinecolor": "#2a3f5f",
             "gridcolor": "white",
             "linecolor": "white",
             "minorgridcolor": "white",
             "startlinecolor": "#2a3f5f"
            },
            "type": "carpet"
           }
          ],
          "choropleth": [
           {
            "colorbar": {
             "outlinewidth": 0,
             "ticks": ""
            },
            "type": "choropleth"
           }
          ],
          "contour": [
           {
            "colorbar": {
             "outlinewidth": 0,
             "ticks": ""
            },
            "colorscale": [
             [
              0,
              "#0d0887"
             ],
             [
              0.1111111111111111,
              "#46039f"
             ],
             [
              0.2222222222222222,
              "#7201a8"
             ],
             [
              0.3333333333333333,
              "#9c179e"
             ],
             [
              0.4444444444444444,
              "#bd3786"
             ],
             [
              0.5555555555555556,
              "#d8576b"
             ],
             [
              0.6666666666666666,
              "#ed7953"
             ],
             [
              0.7777777777777778,
              "#fb9f3a"
             ],
             [
              0.8888888888888888,
              "#fdca26"
             ],
             [
              1,
              "#f0f921"
             ]
            ],
            "type": "contour"
           }
          ],
          "contourcarpet": [
           {
            "colorbar": {
             "outlinewidth": 0,
             "ticks": ""
            },
            "type": "contourcarpet"
           }
          ],
          "heatmap": [
           {
            "colorbar": {
             "outlinewidth": 0,
             "ticks": ""
            },
            "colorscale": [
             [
              0,
              "#0d0887"
             ],
             [
              0.1111111111111111,
              "#46039f"
             ],
             [
              0.2222222222222222,
              "#7201a8"
             ],
             [
              0.3333333333333333,
              "#9c179e"
             ],
             [
              0.4444444444444444,
              "#bd3786"
             ],
             [
              0.5555555555555556,
              "#d8576b"
             ],
             [
              0.6666666666666666,
              "#ed7953"
             ],
             [
              0.7777777777777778,
              "#fb9f3a"
             ],
             [
              0.8888888888888888,
              "#fdca26"
             ],
             [
              1,
              "#f0f921"
             ]
            ],
            "type": "heatmap"
           }
          ],
          "heatmapgl": [
           {
            "colorbar": {
             "outlinewidth": 0,
             "ticks": ""
            },
            "colorscale": [
             [
              0,
              "#0d0887"
             ],
             [
              0.1111111111111111,
              "#46039f"
             ],
             [
              0.2222222222222222,
              "#7201a8"
             ],
             [
              0.3333333333333333,
              "#9c179e"
             ],
             [
              0.4444444444444444,
              "#bd3786"
             ],
             [
              0.5555555555555556,
              "#d8576b"
             ],
             [
              0.6666666666666666,
              "#ed7953"
             ],
             [
              0.7777777777777778,
              "#fb9f3a"
             ],
             [
              0.8888888888888888,
              "#fdca26"
             ],
             [
              1,
              "#f0f921"
             ]
            ],
            "type": "heatmapgl"
           }
          ],
          "histogram": [
           {
            "marker": {
             "colorbar": {
              "outlinewidth": 0,
              "ticks": ""
             }
            },
            "type": "histogram"
           }
          ],
          "histogram2d": [
           {
            "colorbar": {
             "outlinewidth": 0,
             "ticks": ""
            },
            "colorscale": [
             [
              0,
              "#0d0887"
             ],
             [
              0.1111111111111111,
              "#46039f"
             ],
             [
              0.2222222222222222,
              "#7201a8"
             ],
             [
              0.3333333333333333,
              "#9c179e"
             ],
             [
              0.4444444444444444,
              "#bd3786"
             ],
             [
              0.5555555555555556,
              "#d8576b"
             ],
             [
              0.6666666666666666,
              "#ed7953"
             ],
             [
              0.7777777777777778,
              "#fb9f3a"
             ],
             [
              0.8888888888888888,
              "#fdca26"
             ],
             [
              1,
              "#f0f921"
             ]
            ],
            "type": "histogram2d"
           }
          ],
          "histogram2dcontour": [
           {
            "colorbar": {
             "outlinewidth": 0,
             "ticks": ""
            },
            "colorscale": [
             [
              0,
              "#0d0887"
             ],
             [
              0.1111111111111111,
              "#46039f"
             ],
             [
              0.2222222222222222,
              "#7201a8"
             ],
             [
              0.3333333333333333,
              "#9c179e"
             ],
             [
              0.4444444444444444,
              "#bd3786"
             ],
             [
              0.5555555555555556,
              "#d8576b"
             ],
             [
              0.6666666666666666,
              "#ed7953"
             ],
             [
              0.7777777777777778,
              "#fb9f3a"
             ],
             [
              0.8888888888888888,
              "#fdca26"
             ],
             [
              1,
              "#f0f921"
             ]
            ],
            "type": "histogram2dcontour"
           }
          ],
          "mesh3d": [
           {
            "colorbar": {
             "outlinewidth": 0,
             "ticks": ""
            },
            "type": "mesh3d"
           }
          ],
          "parcoords": [
           {
            "line": {
             "colorbar": {
              "outlinewidth": 0,
              "ticks": ""
             }
            },
            "type": "parcoords"
           }
          ],
          "pie": [
           {
            "automargin": true,
            "type": "pie"
           }
          ],
          "scatter": [
           {
            "marker": {
             "colorbar": {
              "outlinewidth": 0,
              "ticks": ""
             }
            },
            "type": "scatter"
           }
          ],
          "scatter3d": [
           {
            "line": {
             "colorbar": {
              "outlinewidth": 0,
              "ticks": ""
             }
            },
            "marker": {
             "colorbar": {
              "outlinewidth": 0,
              "ticks": ""
             }
            },
            "type": "scatter3d"
           }
          ],
          "scattercarpet": [
           {
            "marker": {
             "colorbar": {
              "outlinewidth": 0,
              "ticks": ""
             }
            },
            "type": "scattercarpet"
           }
          ],
          "scattergeo": [
           {
            "marker": {
             "colorbar": {
              "outlinewidth": 0,
              "ticks": ""
             }
            },
            "type": "scattergeo"
           }
          ],
          "scattergl": [
           {
            "marker": {
             "colorbar": {
              "outlinewidth": 0,
              "ticks": ""
             }
            },
            "type": "scattergl"
           }
          ],
          "scattermapbox": [
           {
            "marker": {
             "colorbar": {
              "outlinewidth": 0,
              "ticks": ""
             }
            },
            "type": "scattermapbox"
           }
          ],
          "scatterpolar": [
           {
            "marker": {
             "colorbar": {
              "outlinewidth": 0,
              "ticks": ""
             }
            },
            "type": "scatterpolar"
           }
          ],
          "scatterpolargl": [
           {
            "marker": {
             "colorbar": {
              "outlinewidth": 0,
              "ticks": ""
             }
            },
            "type": "scatterpolargl"
           }
          ],
          "scatterternary": [
           {
            "marker": {
             "colorbar": {
              "outlinewidth": 0,
              "ticks": ""
             }
            },
            "type": "scatterternary"
           }
          ],
          "surface": [
           {
            "colorbar": {
             "outlinewidth": 0,
             "ticks": ""
            },
            "colorscale": [
             [
              0,
              "#0d0887"
             ],
             [
              0.1111111111111111,
              "#46039f"
             ],
             [
              0.2222222222222222,
              "#7201a8"
             ],
             [
              0.3333333333333333,
              "#9c179e"
             ],
             [
              0.4444444444444444,
              "#bd3786"
             ],
             [
              0.5555555555555556,
              "#d8576b"
             ],
             [
              0.6666666666666666,
              "#ed7953"
             ],
             [
              0.7777777777777778,
              "#fb9f3a"
             ],
             [
              0.8888888888888888,
              "#fdca26"
             ],
             [
              1,
              "#f0f921"
             ]
            ],
            "type": "surface"
           }
          ],
          "table": [
           {
            "cells": {
             "fill": {
              "color": "#EBF0F8"
             },
             "line": {
              "color": "white"
             }
            },
            "header": {
             "fill": {
              "color": "#C8D4E3"
             },
             "line": {
              "color": "white"
             }
            },
            "type": "table"
           }
          ]
         },
         "layout": {
          "annotationdefaults": {
           "arrowcolor": "#2a3f5f",
           "arrowhead": 0,
           "arrowwidth": 1
          },
          "autotypenumbers": "strict",
          "coloraxis": {
           "colorbar": {
            "outlinewidth": 0,
            "ticks": ""
           }
          },
          "colorscale": {
           "diverging": [
            [
             0,
             "#8e0152"
            ],
            [
             0.1,
             "#c51b7d"
            ],
            [
             0.2,
             "#de77ae"
            ],
            [
             0.3,
             "#f1b6da"
            ],
            [
             0.4,
             "#fde0ef"
            ],
            [
             0.5,
             "#f7f7f7"
            ],
            [
             0.6,
             "#e6f5d0"
            ],
            [
             0.7,
             "#b8e186"
            ],
            [
             0.8,
             "#7fbc41"
            ],
            [
             0.9,
             "#4d9221"
            ],
            [
             1,
             "#276419"
            ]
           ],
           "sequential": [
            [
             0,
             "#0d0887"
            ],
            [
             0.1111111111111111,
             "#46039f"
            ],
            [
             0.2222222222222222,
             "#7201a8"
            ],
            [
             0.3333333333333333,
             "#9c179e"
            ],
            [
             0.4444444444444444,
             "#bd3786"
            ],
            [
             0.5555555555555556,
             "#d8576b"
            ],
            [
             0.6666666666666666,
             "#ed7953"
            ],
            [
             0.7777777777777778,
             "#fb9f3a"
            ],
            [
             0.8888888888888888,
             "#fdca26"
            ],
            [
             1,
             "#f0f921"
            ]
           ],
           "sequentialminus": [
            [
             0,
             "#0d0887"
            ],
            [
             0.1111111111111111,
             "#46039f"
            ],
            [
             0.2222222222222222,
             "#7201a8"
            ],
            [
             0.3333333333333333,
             "#9c179e"
            ],
            [
             0.4444444444444444,
             "#bd3786"
            ],
            [
             0.5555555555555556,
             "#d8576b"
            ],
            [
             0.6666666666666666,
             "#ed7953"
            ],
            [
             0.7777777777777778,
             "#fb9f3a"
            ],
            [
             0.8888888888888888,
             "#fdca26"
            ],
            [
             1,
             "#f0f921"
            ]
           ]
          },
          "colorway": [
           "#636efa",
           "#EF553B",
           "#00cc96",
           "#ab63fa",
           "#FFA15A",
           "#19d3f3",
           "#FF6692",
           "#B6E880",
           "#FF97FF",
           "#FECB52"
          ],
          "font": {
           "color": "#2a3f5f"
          },
          "geo": {
           "bgcolor": "white",
           "lakecolor": "white",
           "landcolor": "#E5ECF6",
           "showlakes": true,
           "showland": true,
           "subunitcolor": "white"
          },
          "hoverlabel": {
           "align": "left"
          },
          "hovermode": "closest",
          "mapbox": {
           "style": "light"
          },
          "paper_bgcolor": "white",
          "plot_bgcolor": "#E5ECF6",
          "polar": {
           "angularaxis": {
            "gridcolor": "white",
            "linecolor": "white",
            "ticks": ""
           },
           "bgcolor": "#E5ECF6",
           "radialaxis": {
            "gridcolor": "white",
            "linecolor": "white",
            "ticks": ""
           }
          },
          "scene": {
           "xaxis": {
            "backgroundcolor": "#E5ECF6",
            "gridcolor": "white",
            "gridwidth": 2,
            "linecolor": "white",
            "showbackground": true,
            "ticks": "",
            "zerolinecolor": "white"
           },
           "yaxis": {
            "backgroundcolor": "#E5ECF6",
            "gridcolor": "white",
            "gridwidth": 2,
            "linecolor": "white",
            "showbackground": true,
            "ticks": "",
            "zerolinecolor": "white"
           },
           "zaxis": {
            "backgroundcolor": "#E5ECF6",
            "gridcolor": "white",
            "gridwidth": 2,
            "linecolor": "white",
            "showbackground": true,
            "ticks": "",
            "zerolinecolor": "white"
           }
          },
          "shapedefaults": {
           "line": {
            "color": "#2a3f5f"
           }
          },
          "ternary": {
           "aaxis": {
            "gridcolor": "white",
            "linecolor": "white",
            "ticks": ""
           },
           "baxis": {
            "gridcolor": "white",
            "linecolor": "white",
            "ticks": ""
           },
           "bgcolor": "#E5ECF6",
           "caxis": {
            "gridcolor": "white",
            "linecolor": "white",
            "ticks": ""
           }
          },
          "title": {
           "x": 0.05
          },
          "xaxis": {
           "automargin": true,
           "gridcolor": "white",
           "linecolor": "white",
           "ticks": "",
           "title": {
            "standoff": 15
           },
           "zerolinecolor": "white",
           "zerolinewidth": 2
          },
          "yaxis": {
           "automargin": true,
           "gridcolor": "white",
           "linecolor": "white",
           "ticks": "",
           "title": {
            "standoff": 15
           },
           "zerolinecolor": "white",
           "zerolinewidth": 2
          }
         }
        },
        "title": {
         "text": "Correlation Matrix"
        },
        "xaxis": {
         "anchor": "y",
         "constrain": "domain",
         "domain": [
          0,
          1
         ],
         "scaleanchor": "y"
        },
        "yaxis": {
         "anchor": "x",
         "autorange": "reversed",
         "constrain": "domain",
         "domain": [
          0,
          1
         ]
        }
       }
      },
      "text/html": [
       "<div>                            <div id=\"2dc8bb99-a37a-4959-b323-5bb44d05935e\" class=\"plotly-graph-div\" style=\"height:525px; width:100%;\"></div>            <script type=\"text/javascript\">                require([\"plotly\"], function(Plotly) {                    window.PLOTLYENV=window.PLOTLYENV || {};                                    if (document.getElementById(\"2dc8bb99-a37a-4959-b323-5bb44d05935e\")) {                    Plotly.newPlot(                        \"2dc8bb99-a37a-4959-b323-5bb44d05935e\",                        [{\"coloraxis\": \"coloraxis\", \"hovertemplate\": \"x: %{x}<br>y: %{y}<br>color: %{z}<extra></extra>\", \"name\": \"0\", \"type\": \"heatmap\", \"x\": [\"MDLZ\", \"MSFT\", \"NXPI\", \"PCAR\", \"INTC\", \"NVDA\", \"ILMN\", \"DXCM\", \"ROST\", \"LULU\", \"PRFT\", \"FTNT\", \"WIRE\", \"NFLX\", \"GAIN\", \"SYNA\", \"NYMTP\", \"ANAT\", \"TRNS\", \"SFBS\"], \"xaxis\": \"x\", \"y\": [\"MDLZ\", \"MSFT\", \"NXPI\", \"PCAR\", \"INTC\", \"NVDA\", \"ILMN\", \"DXCM\", \"ROST\", \"LULU\", \"PRFT\", \"FTNT\", \"WIRE\", \"NFLX\", \"GAIN\", \"SYNA\", \"NYMTP\", \"ANAT\", \"TRNS\", \"SFBS\"], \"yaxis\": \"y\", \"z\": [[1.0, 0.3323841894839852, 0.15549947538290196, 0.3995028897487459, 0.19619475908583997, 0.11930265145768976, 0.09458662465713558, -0.11744651804261248, 0.2927610545132239, 0.03179556511560911, 0.08587155747590468, 0.2571112254418763, -0.1382764499657827, 0.6383793385429035, 0.40545106265897074, 0.1814718827149919, 0.25643018995381905, 0.03527526693520987, -0.0790521905535137, 0.25110948304789654], [0.3323841894839852, 1.0, 0.5625399730090327, 0.19602426700333453, 0.1653615516051926, 0.4995801607387277, 0.4522374903413591, 0.3668728070623473, 0.357469311452508, 0.24609790213371646, 0.4656440949641826, 0.7215899957188364, 0.19415651745053594, 0.34638464261098184, 0.5558992038916428, 0.5274094947458137, 0.35968400113002325, 0.32615515480487, 0.06047443259960017, 0.2821488517852562], [0.15549947538290196, 0.5625399730090327, 1.0, 0.41567631589546916, 0.44060391190471493, 0.4553697970930425, 0.3447666660139199, 0.08565817122275858, 0.3988641082386153, 0.18919174442802258, 0.2798426286971456, 0.5524528496128702, 0.2471898294293342, 0.2640289940040852, 0.4752391289385965, 0.5596599978292468, 0.4756865987572881, 0.37163599878146386, 0.24085532081693684, 0.47453821475811286], [0.3995028897487459, 0.19602426700333453, 0.41567631589546916, 1.0, 0.08232262790045672, 0.04625020140400449, -0.007663659429475825, -0.06855990900324042, 0.5316773082065775, 0.1211440982732633, 0.12030761320851173, 0.24982455173503168, 0.48051306624586054, 0.2370111898770187, 0.4490493762806263, 0.32198072426734636, 0.2577251058857987, 0.5399665316801112, 0.33428622596223767, 0.4984799448469802], [0.19619475908583997, 0.1653615516051926, 0.44060391190471493, 0.08232262790045672, 1.0, 0.13953533821934647, 0.2710657022376463, -0.08614499542995545, 0.3617282532211377, 0.2452221944805138, 0.27582993117463056, 0.17972532670819277, -0.16924756570998795, 0.3813918275791062, 0.524313797066776, 0.251816001902202, 0.35321891820759294, 0.19889658698117096, -0.1061008350482994, 0.14871449836774184], [0.11930265145768976, 0.4995801607387277, 0.4553697970930425, 0.04625020140400449, 0.13953533821934647, 1.0, 0.31744843840895537, 0.3135611751521139, 0.11130997298100455, 0.46247339471998417, 0.5625759215716447, 0.5902041557455322, 0.19294585048417176, 0.4185688199705351, 0.44194375432358446, 0.6029026208483418, 0.4928911008430924, -0.01607677996650412, 0.07560685430458913, -0.1548337974811926], [0.09458662465713558, 0.4522374903413591, 0.3447666660139199, -0.007663659429475825, 0.2710657022376463, 0.31744843840895537, 1.0, 0.5237194538014044, 0.06698848070903797, 0.4286895987639309, 0.5477699692061759, 0.30388756583497395, 0.1517433868039804, 0.27939857071022733, 0.31066641212001206, 0.2974873471732367, 0.18802786566852628, 0.044652948585694456, -0.01718266900977957, 0.1527915523772724], [-0.11744651804261248, 0.3668728070623473, 0.08565817122275858, -0.06855990900324042, -0.08614499542995545, 0.3135611751521139, 0.5237194538014044, 1.0, -0.12624331214605716, 0.4290880353195825, 0.250070880636101, 0.11526786478450778, 0.21728292242507813, -0.06387956371457928, 0.14221695692433317, 0.15241258746255523, -0.07657134923489098, -0.16044774637416995, 0.11212514704922662, -0.025834417724879096], [0.2927610545132239, 0.357469311452508, 0.3988641082386153, 0.5316773082065775, 0.3617282532211377, 0.11130997298100455, 0.06698848070903797, -0.12624331214605716, 1.0, 0.12319877950169855, 0.4674242593246313, 0.3820014493778193, 0.48118122932229407, 0.13256285436894583, 0.713155394460406, 0.4759065321480429, 0.2773347723334515, 0.4296509850487971, 0.13586897035261827, 0.6349470102741962], [0.03179556511560911, 0.24609790213371646, 0.18919174442802258, 0.1211440982732633, 0.2452221944805138, 0.46247339471998417, 0.4286895987639309, 0.4290880353195825, 0.12319877950169855, 1.0, 0.5114677900934542, 0.41654992029294585, 0.1735775943294755, 0.3868585885355947, 0.30767431297935227, 0.2842493228241323, 0.043089690252386015, 0.04541328478246943, -0.2218524493758786, 0.0853103583651396], [0.08587155747590468, 0.4656440949641826, 0.2798426286971456, 0.12030761320851173, 0.27582993117463056, 0.5625759215716447, 0.5477699692061759, 0.250070880636101, 0.4674242593246313, 0.5114677900934542, 1.0, 0.505756283725058, 0.3613951345967596, 0.24658282803152548, 0.5129215730940605, 0.4179204729966065, 0.29975812016430065, 0.2908460019628853, 0.01960535960235104, 0.21040135814072908], [0.2571112254418763, 0.7215899957188364, 0.5524528496128702, 0.24982455173503168, 0.17972532670819277, 0.5902041557455322, 0.30388756583497395, 0.11526786478450778, 0.3820014493778193, 0.41654992029294585, 0.505756283725058, 1.0, 0.16256764965631804, 0.4432800153137358, 0.46347667046171226, 0.4769851978161171, 0.3322448891099038, 0.08129349054657731, 0.12533624457112857, 0.3107024649566849], [-0.1382764499657827, 0.19415651745053594, 0.2471898294293342, 0.48051306624586054, -0.16924756570998795, 0.19294585048417176, 0.1517433868039804, 0.21728292242507813, 0.48118122932229407, 0.1735775943294755, 0.3613951345967596, 0.16256764965631804, 1.0, -0.2451189343422281, 0.3579661756803594, 0.48501276461600806, 0.1462501868563596, 0.4568153981665841, 0.32624706653537905, 0.4043906207400463], [0.6383793385429035, 0.34638464261098184, 0.2640289940040852, 0.2370111898770187, 0.3813918275791062, 0.4185688199705351, 0.27939857071022733, -0.06387956371457928, 0.13256285436894583, 0.3868585885355947, 0.24658282803152548, 0.4432800153137358, -0.2451189343422281, 1.0, 0.3824574747934157, 0.2438459339939991, 0.3732897740530028, 0.056582688608555226, -0.12542056955056954, -0.04357753974724536], [0.40545106265897074, 0.5558992038916428, 0.4752391289385965, 0.4490493762806263, 0.524313797066776, 0.44194375432358446, 0.31066641212001206, 0.14221695692433317, 0.713155394460406, 0.30767431297935227, 0.5129215730940605, 0.46347667046171226, 0.3579661756803594, 0.3824574747934157, 1.0, 0.5239154466777687, 0.40957412899891177, 0.3118942109259879, 0.14865037370801154, 0.41552590636744346], [0.1814718827149919, 0.5274094947458137, 0.5596599978292468, 0.32198072426734636, 0.251816001902202, 0.6029026208483418, 0.2974873471732367, 0.15241258746255523, 0.4759065321480429, 0.2842493228241323, 0.4179204729966065, 0.4769851978161171, 0.48501276461600806, 0.2438459339939991, 0.5239154466777687, 1.0, 0.5022662469463302, 0.29294797815173235, 0.2528842837853193, 0.2377786048883629], [0.25643018995381905, 0.35968400113002325, 0.4756865987572881, 0.2577251058857987, 0.35321891820759294, 0.4928911008430924, 0.18802786566852628, -0.07657134923489098, 0.2773347723334515, 0.043089690252386015, 0.29975812016430065, 0.3322448891099038, 0.1462501868563596, 0.3732897740530028, 0.40957412899891177, 0.5022662469463302, 1.0, 0.1603529753007235, 0.07495206905076812, 0.04604809427717942], [0.03527526693520987, 0.32615515480487, 0.37163599878146386, 0.5399665316801112, 0.19889658698117096, -0.01607677996650412, 0.044652948585694456, -0.16044774637416995, 0.4296509850487971, 0.04541328478246943, 0.2908460019628853, 0.08129349054657731, 0.4568153981665841, 0.056582688608555226, 0.3118942109259879, 0.29294797815173235, 0.1603529753007235, 1.0, 0.004395250596056186, 0.2505924403879966], [-0.0790521905535137, 0.06047443259960017, 0.24085532081693684, 0.33428622596223767, -0.1061008350482994, 0.07560685430458913, -0.01718266900977957, 0.11212514704922662, 0.13586897035261827, -0.2218524493758786, 0.01960535960235104, 0.12533624457112857, 0.32624706653537905, -0.12542056955056954, 0.14865037370801154, 0.2528842837853193, 0.07495206905076812, 0.004395250596056186, 1.0, 0.2484282515572595], [0.25110948304789654, 0.2821488517852562, 0.47453821475811286, 0.4984799448469802, 0.14871449836774184, -0.1548337974811926, 0.1527915523772724, -0.025834417724879096, 0.6349470102741962, 0.0853103583651396, 0.21040135814072908, 0.3107024649566849, 0.4043906207400463, -0.04357753974724536, 0.41552590636744346, 0.2377786048883629, 0.04604809427717942, 0.2505924403879966, 0.2484282515572595, 1.0]]}],                        {\"coloraxis\": {\"cmax\": 1, \"cmin\": -1, \"colorscale\": [[0.0, \"rgb(165,0,38)\"], [0.1, \"rgb(215,48,39)\"], [0.2, \"rgb(244,109,67)\"], [0.3, \"rgb(253,174,97)\"], [0.4, \"rgb(254,224,139)\"], [0.5, \"rgb(255,255,191)\"], [0.6, \"rgb(217,239,139)\"], [0.7, \"rgb(166,217,106)\"], [0.8, \"rgb(102,189,99)\"], [0.9, \"rgb(26,152,80)\"], [1.0, \"rgb(0,104,55)\"]]}, \"template\": {\"data\": {\"bar\": [{\"error_x\": {\"color\": \"#2a3f5f\"}, \"error_y\": {\"color\": \"#2a3f5f\"}, \"marker\": {\"line\": {\"color\": \"#E5ECF6\", \"width\": 0.5}}, \"type\": \"bar\"}], \"barpolar\": [{\"marker\": {\"line\": {\"color\": \"#E5ECF6\", \"width\": 0.5}}, \"type\": \"barpolar\"}], \"carpet\": [{\"aaxis\": {\"endlinecolor\": \"#2a3f5f\", \"gridcolor\": \"white\", \"linecolor\": \"white\", \"minorgridcolor\": \"white\", \"startlinecolor\": \"#2a3f5f\"}, \"baxis\": {\"endlinecolor\": \"#2a3f5f\", \"gridcolor\": \"white\", \"linecolor\": \"white\", \"minorgridcolor\": \"white\", \"startlinecolor\": \"#2a3f5f\"}, \"type\": \"carpet\"}], \"choropleth\": [{\"colorbar\": {\"outlinewidth\": 0, \"ticks\": \"\"}, \"type\": \"choropleth\"}], \"contour\": [{\"colorbar\": {\"outlinewidth\": 0, \"ticks\": \"\"}, \"colorscale\": [[0.0, \"#0d0887\"], [0.1111111111111111, \"#46039f\"], [0.2222222222222222, \"#7201a8\"], [0.3333333333333333, \"#9c179e\"], [0.4444444444444444, \"#bd3786\"], [0.5555555555555556, \"#d8576b\"], [0.6666666666666666, \"#ed7953\"], [0.7777777777777778, \"#fb9f3a\"], [0.8888888888888888, \"#fdca26\"], [1.0, \"#f0f921\"]], \"type\": \"contour\"}], \"contourcarpet\": [{\"colorbar\": {\"outlinewidth\": 0, \"ticks\": \"\"}, \"type\": \"contourcarpet\"}], \"heatmap\": [{\"colorbar\": {\"outlinewidth\": 0, \"ticks\": \"\"}, \"colorscale\": [[0.0, \"#0d0887\"], [0.1111111111111111, \"#46039f\"], [0.2222222222222222, \"#7201a8\"], [0.3333333333333333, \"#9c179e\"], [0.4444444444444444, \"#bd3786\"], [0.5555555555555556, \"#d8576b\"], [0.6666666666666666, \"#ed7953\"], [0.7777777777777778, \"#fb9f3a\"], [0.8888888888888888, \"#fdca26\"], [1.0, \"#f0f921\"]], \"type\": \"heatmap\"}], \"heatmapgl\": [{\"colorbar\": {\"outlinewidth\": 0, \"ticks\": \"\"}, \"colorscale\": [[0.0, \"#0d0887\"], [0.1111111111111111, \"#46039f\"], [0.2222222222222222, \"#7201a8\"], [0.3333333333333333, \"#9c179e\"], [0.4444444444444444, \"#bd3786\"], [0.5555555555555556, \"#d8576b\"], [0.6666666666666666, \"#ed7953\"], [0.7777777777777778, \"#fb9f3a\"], [0.8888888888888888, \"#fdca26\"], [1.0, \"#f0f921\"]], \"type\": \"heatmapgl\"}], \"histogram\": [{\"marker\": {\"colorbar\": {\"outlinewidth\": 0, \"ticks\": \"\"}}, \"type\": \"histogram\"}], \"histogram2d\": [{\"colorbar\": {\"outlinewidth\": 0, \"ticks\": \"\"}, \"colorscale\": [[0.0, \"#0d0887\"], [0.1111111111111111, \"#46039f\"], [0.2222222222222222, \"#7201a8\"], [0.3333333333333333, \"#9c179e\"], [0.4444444444444444, \"#bd3786\"], [0.5555555555555556, \"#d8576b\"], [0.6666666666666666, \"#ed7953\"], [0.7777777777777778, \"#fb9f3a\"], [0.8888888888888888, \"#fdca26\"], [1.0, \"#f0f921\"]], \"type\": \"histogram2d\"}], \"histogram2dcontour\": [{\"colorbar\": {\"outlinewidth\": 0, \"ticks\": \"\"}, \"colorscale\": [[0.0, \"#0d0887\"], [0.1111111111111111, \"#46039f\"], [0.2222222222222222, \"#7201a8\"], [0.3333333333333333, \"#9c179e\"], [0.4444444444444444, \"#bd3786\"], [0.5555555555555556, \"#d8576b\"], [0.6666666666666666, \"#ed7953\"], [0.7777777777777778, \"#fb9f3a\"], [0.8888888888888888, \"#fdca26\"], [1.0, \"#f0f921\"]], \"type\": \"histogram2dcontour\"}], \"mesh3d\": [{\"colorbar\": {\"outlinewidth\": 0, \"ticks\": \"\"}, \"type\": \"mesh3d\"}], \"parcoords\": [{\"line\": {\"colorbar\": {\"outlinewidth\": 0, \"ticks\": \"\"}}, \"type\": \"parcoords\"}], \"pie\": [{\"automargin\": true, \"type\": \"pie\"}], \"scatter\": [{\"marker\": {\"colorbar\": {\"outlinewidth\": 0, \"ticks\": \"\"}}, \"type\": \"scatter\"}], \"scatter3d\": [{\"line\": {\"colorbar\": {\"outlinewidth\": 0, \"ticks\": \"\"}}, \"marker\": {\"colorbar\": {\"outlinewidth\": 0, \"ticks\": \"\"}}, \"type\": \"scatter3d\"}], \"scattercarpet\": [{\"marker\": {\"colorbar\": {\"outlinewidth\": 0, \"ticks\": \"\"}}, \"type\": \"scattercarpet\"}], \"scattergeo\": [{\"marker\": {\"colorbar\": {\"outlinewidth\": 0, \"ticks\": \"\"}}, \"type\": \"scattergeo\"}], \"scattergl\": [{\"marker\": {\"colorbar\": {\"outlinewidth\": 0, \"ticks\": \"\"}}, \"type\": \"scattergl\"}], \"scattermapbox\": [{\"marker\": {\"colorbar\": {\"outlinewidth\": 0, \"ticks\": \"\"}}, \"type\": \"scattermapbox\"}], \"scatterpolar\": [{\"marker\": {\"colorbar\": {\"outlinewidth\": 0, \"ticks\": \"\"}}, \"type\": \"scatterpolar\"}], \"scatterpolargl\": [{\"marker\": {\"colorbar\": {\"outlinewidth\": 0, \"ticks\": \"\"}}, \"type\": \"scatterpolargl\"}], \"scatterternary\": [{\"marker\": {\"colorbar\": {\"outlinewidth\": 0, \"ticks\": \"\"}}, \"type\": \"scatterternary\"}], \"surface\": [{\"colorbar\": {\"outlinewidth\": 0, \"ticks\": \"\"}, \"colorscale\": [[0.0, \"#0d0887\"], [0.1111111111111111, \"#46039f\"], [0.2222222222222222, \"#7201a8\"], [0.3333333333333333, \"#9c179e\"], [0.4444444444444444, \"#bd3786\"], [0.5555555555555556, \"#d8576b\"], [0.6666666666666666, \"#ed7953\"], [0.7777777777777778, \"#fb9f3a\"], [0.8888888888888888, \"#fdca26\"], [1.0, \"#f0f921\"]], \"type\": \"surface\"}], \"table\": [{\"cells\": {\"fill\": {\"color\": \"#EBF0F8\"}, \"line\": {\"color\": \"white\"}}, \"header\": {\"fill\": {\"color\": \"#C8D4E3\"}, \"line\": {\"color\": \"white\"}}, \"type\": \"table\"}]}, \"layout\": {\"annotationdefaults\": {\"arrowcolor\": \"#2a3f5f\", \"arrowhead\": 0, \"arrowwidth\": 1}, \"autotypenumbers\": \"strict\", \"coloraxis\": {\"colorbar\": {\"outlinewidth\": 0, \"ticks\": \"\"}}, \"colorscale\": {\"diverging\": [[0, \"#8e0152\"], [0.1, \"#c51b7d\"], [0.2, \"#de77ae\"], [0.3, \"#f1b6da\"], [0.4, \"#fde0ef\"], [0.5, \"#f7f7f7\"], [0.6, \"#e6f5d0\"], [0.7, \"#b8e186\"], [0.8, \"#7fbc41\"], [0.9, \"#4d9221\"], [1, \"#276419\"]], \"sequential\": [[0.0, \"#0d0887\"], [0.1111111111111111, \"#46039f\"], [0.2222222222222222, \"#7201a8\"], [0.3333333333333333, \"#9c179e\"], [0.4444444444444444, \"#bd3786\"], [0.5555555555555556, \"#d8576b\"], [0.6666666666666666, \"#ed7953\"], [0.7777777777777778, \"#fb9f3a\"], [0.8888888888888888, \"#fdca26\"], [1.0, \"#f0f921\"]], \"sequentialminus\": [[0.0, \"#0d0887\"], [0.1111111111111111, \"#46039f\"], [0.2222222222222222, \"#7201a8\"], [0.3333333333333333, \"#9c179e\"], [0.4444444444444444, \"#bd3786\"], [0.5555555555555556, \"#d8576b\"], [0.6666666666666666, \"#ed7953\"], [0.7777777777777778, \"#fb9f3a\"], [0.8888888888888888, \"#fdca26\"], [1.0, \"#f0f921\"]]}, \"colorway\": [\"#636efa\", \"#EF553B\", \"#00cc96\", \"#ab63fa\", \"#FFA15A\", \"#19d3f3\", \"#FF6692\", \"#B6E880\", \"#FF97FF\", \"#FECB52\"], \"font\": {\"color\": \"#2a3f5f\"}, \"geo\": {\"bgcolor\": \"white\", \"lakecolor\": \"white\", \"landcolor\": \"#E5ECF6\", \"showlakes\": true, \"showland\": true, \"subunitcolor\": \"white\"}, \"hoverlabel\": {\"align\": \"left\"}, \"hovermode\": \"closest\", \"mapbox\": {\"style\": \"light\"}, \"paper_bgcolor\": \"white\", \"plot_bgcolor\": \"#E5ECF6\", \"polar\": {\"angularaxis\": {\"gridcolor\": \"white\", \"linecolor\": \"white\", \"ticks\": \"\"}, \"bgcolor\": \"#E5ECF6\", \"radialaxis\": {\"gridcolor\": \"white\", \"linecolor\": \"white\", \"ticks\": \"\"}}, \"scene\": {\"xaxis\": {\"backgroundcolor\": \"#E5ECF6\", \"gridcolor\": \"white\", \"gridwidth\": 2, \"linecolor\": \"white\", \"showbackground\": true, \"ticks\": \"\", \"zerolinecolor\": \"white\"}, \"yaxis\": {\"backgroundcolor\": \"#E5ECF6\", \"gridcolor\": \"white\", \"gridwidth\": 2, \"linecolor\": \"white\", \"showbackground\": true, \"ticks\": \"\", \"zerolinecolor\": \"white\"}, \"zaxis\": {\"backgroundcolor\": \"#E5ECF6\", \"gridcolor\": \"white\", \"gridwidth\": 2, \"linecolor\": \"white\", \"showbackground\": true, \"ticks\": \"\", \"zerolinecolor\": \"white\"}}, \"shapedefaults\": {\"line\": {\"color\": \"#2a3f5f\"}}, \"ternary\": {\"aaxis\": {\"gridcolor\": \"white\", \"linecolor\": \"white\", \"ticks\": \"\"}, \"baxis\": {\"gridcolor\": \"white\", \"linecolor\": \"white\", \"ticks\": \"\"}, \"bgcolor\": \"#E5ECF6\", \"caxis\": {\"gridcolor\": \"white\", \"linecolor\": \"white\", \"ticks\": \"\"}}, \"title\": {\"x\": 0.05}, \"xaxis\": {\"automargin\": true, \"gridcolor\": \"white\", \"linecolor\": \"white\", \"ticks\": \"\", \"title\": {\"standoff\": 15}, \"zerolinecolor\": \"white\", \"zerolinewidth\": 2}, \"yaxis\": {\"automargin\": true, \"gridcolor\": \"white\", \"linecolor\": \"white\", \"ticks\": \"\", \"title\": {\"standoff\": 15}, \"zerolinecolor\": \"white\", \"zerolinewidth\": 2}}}, \"title\": {\"text\": \"Correlation Matrix\"}, \"xaxis\": {\"anchor\": \"y\", \"constrain\": \"domain\", \"domain\": [0.0, 1.0], \"scaleanchor\": \"y\"}, \"yaxis\": {\"anchor\": \"x\", \"autorange\": \"reversed\", \"constrain\": \"domain\", \"domain\": [0.0, 1.0]}},                        {\"responsive\": true}                    ).then(function(){\n",
       "                            \n",
       "var gd = document.getElementById('2dc8bb99-a37a-4959-b323-5bb44d05935e');\n",
       "var x = new MutationObserver(function (mutations, observer) {{\n",
       "        var display = window.getComputedStyle(gd).display;\n",
       "        if (!display || display === 'none') {{\n",
       "            console.log([gd, 'removed!']);\n",
       "            Plotly.purge(gd);\n",
       "            observer.disconnect();\n",
       "        }}\n",
       "}});\n",
       "\n",
       "// Listen for the removal of the full notebook cells\n",
       "var notebookContainer = gd.closest('#notebook-container');\n",
       "if (notebookContainer) {{\n",
       "    x.observe(notebookContainer, {childList: true});\n",
       "}}\n",
       "\n",
       "// Listen for the clearing of the current output cell\n",
       "var outputEl = gd.closest('.output');\n",
       "if (outputEl) {{\n",
       "    x.observe(outputEl, {childList: true});\n",
       "}}\n",
       "\n",
       "                        })                };                });            </script>        </div>"
      ]
     },
     "metadata": {},
     "output_type": "display_data"
    }
   ],
   "source": [
    "import plotly.express as px\n",
    "\n",
    "fig = px.imshow(estCov, title='Correlation Matrix',\n",
    "                color_continuous_scale=px.colors.diverging.RdYlGn, \n",
    "                zmin=-1, zmax=1)\n",
    "fig.show()"
   ]
  },
  {
   "cell_type": "markdown",
   "metadata": {},
   "source": [
    "#### 2.3 Используя эти оценки решаем задачу оптимизации "
   ]
  },
  {
   "cell_type": "code",
   "execution_count": 47,
   "metadata": {},
   "outputs": [],
   "source": [
    "opt_solution = find_optimal(estE, estCov)"
   ]
  },
  {
   "cell_type": "markdown",
   "metadata": {},
   "source": [
    "#### Находим и фиксируем веса портфеля ..."
   ]
  },
  {
   "cell_type": "code",
   "execution_count": 48,
   "metadata": {},
   "outputs": [
    {
     "name": "stdout",
     "output_type": "stream",
     "text": [
      "Сумма весов: 1.0000000000000029\n"
     ]
    },
    {
     "data": {
      "application/vnd.plotly.v1+json": {
       "config": {
        "plotlyServerURL": "https://plot.ly"
       },
       "data": [
        {
         "alignmentgroup": "True",
         "hovertemplate": "x=%{x}<br>y=%{y}<extra></extra>",
         "legendgroup": "",
         "marker": {
          "color": "#636efa"
         },
         "name": "",
         "offsetgroup": "",
         "orientation": "v",
         "showlegend": false,
         "textposition": "auto",
         "type": "bar",
         "x": [
          "MDLZ",
          "MSFT",
          "NXPI",
          "PCAR",
          "INTC",
          "NVDA",
          "ILMN",
          "DXCM",
          "ROST",
          "LULU",
          "PRFT",
          "FTNT",
          "WIRE",
          "NFLX",
          "GAIN",
          "SYNA",
          "NYMTP",
          "ANAT",
          "TRNS",
          "SFBS"
         ],
         "xaxis": "x",
         "y": [
          0.15259199047841734,
          5.428405150110516e-16,
          0,
          1.8025823916652316e-16,
          0.09638912476495565,
          0.0056191046545171885,
          3.394051270694936e-17,
          0.163724619495839,
          4.8247709829560815e-17,
          0.11250200333768669,
          6.21493255750689e-17,
          1.0155271897162052e-16,
          2.161979219811515e-16,
          0,
          2.744475689082097e-16,
          1.2748345185299208e-16,
          0.0889102288596075,
          0.1489005977609901,
          0.17416175393366917,
          0.05720057671431863
         ],
         "yaxis": "y"
        }
       ],
       "layout": {
        "barmode": "relative",
        "legend": {
         "tracegroupgap": 0
        },
        "margin": {
         "t": 60
        },
        "template": {
         "data": {
          "bar": [
           {
            "error_x": {
             "color": "#2a3f5f"
            },
            "error_y": {
             "color": "#2a3f5f"
            },
            "marker": {
             "line": {
              "color": "#E5ECF6",
              "width": 0.5
             }
            },
            "type": "bar"
           }
          ],
          "barpolar": [
           {
            "marker": {
             "line": {
              "color": "#E5ECF6",
              "width": 0.5
             }
            },
            "type": "barpolar"
           }
          ],
          "carpet": [
           {
            "aaxis": {
             "endlinecolor": "#2a3f5f",
             "gridcolor": "white",
             "linecolor": "white",
             "minorgridcolor": "white",
             "startlinecolor": "#2a3f5f"
            },
            "baxis": {
             "endlinecolor": "#2a3f5f",
             "gridcolor": "white",
             "linecolor": "white",
             "minorgridcolor": "white",
             "startlinecolor": "#2a3f5f"
            },
            "type": "carpet"
           }
          ],
          "choropleth": [
           {
            "colorbar": {
             "outlinewidth": 0,
             "ticks": ""
            },
            "type": "choropleth"
           }
          ],
          "contour": [
           {
            "colorbar": {
             "outlinewidth": 0,
             "ticks": ""
            },
            "colorscale": [
             [
              0,
              "#0d0887"
             ],
             [
              0.1111111111111111,
              "#46039f"
             ],
             [
              0.2222222222222222,
              "#7201a8"
             ],
             [
              0.3333333333333333,
              "#9c179e"
             ],
             [
              0.4444444444444444,
              "#bd3786"
             ],
             [
              0.5555555555555556,
              "#d8576b"
             ],
             [
              0.6666666666666666,
              "#ed7953"
             ],
             [
              0.7777777777777778,
              "#fb9f3a"
             ],
             [
              0.8888888888888888,
              "#fdca26"
             ],
             [
              1,
              "#f0f921"
             ]
            ],
            "type": "contour"
           }
          ],
          "contourcarpet": [
           {
            "colorbar": {
             "outlinewidth": 0,
             "ticks": ""
            },
            "type": "contourcarpet"
           }
          ],
          "heatmap": [
           {
            "colorbar": {
             "outlinewidth": 0,
             "ticks": ""
            },
            "colorscale": [
             [
              0,
              "#0d0887"
             ],
             [
              0.1111111111111111,
              "#46039f"
             ],
             [
              0.2222222222222222,
              "#7201a8"
             ],
             [
              0.3333333333333333,
              "#9c179e"
             ],
             [
              0.4444444444444444,
              "#bd3786"
             ],
             [
              0.5555555555555556,
              "#d8576b"
             ],
             [
              0.6666666666666666,
              "#ed7953"
             ],
             [
              0.7777777777777778,
              "#fb9f3a"
             ],
             [
              0.8888888888888888,
              "#fdca26"
             ],
             [
              1,
              "#f0f921"
             ]
            ],
            "type": "heatmap"
           }
          ],
          "heatmapgl": [
           {
            "colorbar": {
             "outlinewidth": 0,
             "ticks": ""
            },
            "colorscale": [
             [
              0,
              "#0d0887"
             ],
             [
              0.1111111111111111,
              "#46039f"
             ],
             [
              0.2222222222222222,
              "#7201a8"
             ],
             [
              0.3333333333333333,
              "#9c179e"
             ],
             [
              0.4444444444444444,
              "#bd3786"
             ],
             [
              0.5555555555555556,
              "#d8576b"
             ],
             [
              0.6666666666666666,
              "#ed7953"
             ],
             [
              0.7777777777777778,
              "#fb9f3a"
             ],
             [
              0.8888888888888888,
              "#fdca26"
             ],
             [
              1,
              "#f0f921"
             ]
            ],
            "type": "heatmapgl"
           }
          ],
          "histogram": [
           {
            "marker": {
             "colorbar": {
              "outlinewidth": 0,
              "ticks": ""
             }
            },
            "type": "histogram"
           }
          ],
          "histogram2d": [
           {
            "colorbar": {
             "outlinewidth": 0,
             "ticks": ""
            },
            "colorscale": [
             [
              0,
              "#0d0887"
             ],
             [
              0.1111111111111111,
              "#46039f"
             ],
             [
              0.2222222222222222,
              "#7201a8"
             ],
             [
              0.3333333333333333,
              "#9c179e"
             ],
             [
              0.4444444444444444,
              "#bd3786"
             ],
             [
              0.5555555555555556,
              "#d8576b"
             ],
             [
              0.6666666666666666,
              "#ed7953"
             ],
             [
              0.7777777777777778,
              "#fb9f3a"
             ],
             [
              0.8888888888888888,
              "#fdca26"
             ],
             [
              1,
              "#f0f921"
             ]
            ],
            "type": "histogram2d"
           }
          ],
          "histogram2dcontour": [
           {
            "colorbar": {
             "outlinewidth": 0,
             "ticks": ""
            },
            "colorscale": [
             [
              0,
              "#0d0887"
             ],
             [
              0.1111111111111111,
              "#46039f"
             ],
             [
              0.2222222222222222,
              "#7201a8"
             ],
             [
              0.3333333333333333,
              "#9c179e"
             ],
             [
              0.4444444444444444,
              "#bd3786"
             ],
             [
              0.5555555555555556,
              "#d8576b"
             ],
             [
              0.6666666666666666,
              "#ed7953"
             ],
             [
              0.7777777777777778,
              "#fb9f3a"
             ],
             [
              0.8888888888888888,
              "#fdca26"
             ],
             [
              1,
              "#f0f921"
             ]
            ],
            "type": "histogram2dcontour"
           }
          ],
          "mesh3d": [
           {
            "colorbar": {
             "outlinewidth": 0,
             "ticks": ""
            },
            "type": "mesh3d"
           }
          ],
          "parcoords": [
           {
            "line": {
             "colorbar": {
              "outlinewidth": 0,
              "ticks": ""
             }
            },
            "type": "parcoords"
           }
          ],
          "pie": [
           {
            "automargin": true,
            "type": "pie"
           }
          ],
          "scatter": [
           {
            "marker": {
             "colorbar": {
              "outlinewidth": 0,
              "ticks": ""
             }
            },
            "type": "scatter"
           }
          ],
          "scatter3d": [
           {
            "line": {
             "colorbar": {
              "outlinewidth": 0,
              "ticks": ""
             }
            },
            "marker": {
             "colorbar": {
              "outlinewidth": 0,
              "ticks": ""
             }
            },
            "type": "scatter3d"
           }
          ],
          "scattercarpet": [
           {
            "marker": {
             "colorbar": {
              "outlinewidth": 0,
              "ticks": ""
             }
            },
            "type": "scattercarpet"
           }
          ],
          "scattergeo": [
           {
            "marker": {
             "colorbar": {
              "outlinewidth": 0,
              "ticks": ""
             }
            },
            "type": "scattergeo"
           }
          ],
          "scattergl": [
           {
            "marker": {
             "colorbar": {
              "outlinewidth": 0,
              "ticks": ""
             }
            },
            "type": "scattergl"
           }
          ],
          "scattermapbox": [
           {
            "marker": {
             "colorbar": {
              "outlinewidth": 0,
              "ticks": ""
             }
            },
            "type": "scattermapbox"
           }
          ],
          "scatterpolar": [
           {
            "marker": {
             "colorbar": {
              "outlinewidth": 0,
              "ticks": ""
             }
            },
            "type": "scatterpolar"
           }
          ],
          "scatterpolargl": [
           {
            "marker": {
             "colorbar": {
              "outlinewidth": 0,
              "ticks": ""
             }
            },
            "type": "scatterpolargl"
           }
          ],
          "scatterternary": [
           {
            "marker": {
             "colorbar": {
              "outlinewidth": 0,
              "ticks": ""
             }
            },
            "type": "scatterternary"
           }
          ],
          "surface": [
           {
            "colorbar": {
             "outlinewidth": 0,
             "ticks": ""
            },
            "colorscale": [
             [
              0,
              "#0d0887"
             ],
             [
              0.1111111111111111,
              "#46039f"
             ],
             [
              0.2222222222222222,
              "#7201a8"
             ],
             [
              0.3333333333333333,
              "#9c179e"
             ],
             [
              0.4444444444444444,
              "#bd3786"
             ],
             [
              0.5555555555555556,
              "#d8576b"
             ],
             [
              0.6666666666666666,
              "#ed7953"
             ],
             [
              0.7777777777777778,
              "#fb9f3a"
             ],
             [
              0.8888888888888888,
              "#fdca26"
             ],
             [
              1,
              "#f0f921"
             ]
            ],
            "type": "surface"
           }
          ],
          "table": [
           {
            "cells": {
             "fill": {
              "color": "#EBF0F8"
             },
             "line": {
              "color": "white"
             }
            },
            "header": {
             "fill": {
              "color": "#C8D4E3"
             },
             "line": {
              "color": "white"
             }
            },
            "type": "table"
           }
          ]
         },
         "layout": {
          "annotationdefaults": {
           "arrowcolor": "#2a3f5f",
           "arrowhead": 0,
           "arrowwidth": 1
          },
          "autotypenumbers": "strict",
          "coloraxis": {
           "colorbar": {
            "outlinewidth": 0,
            "ticks": ""
           }
          },
          "colorscale": {
           "diverging": [
            [
             0,
             "#8e0152"
            ],
            [
             0.1,
             "#c51b7d"
            ],
            [
             0.2,
             "#de77ae"
            ],
            [
             0.3,
             "#f1b6da"
            ],
            [
             0.4,
             "#fde0ef"
            ],
            [
             0.5,
             "#f7f7f7"
            ],
            [
             0.6,
             "#e6f5d0"
            ],
            [
             0.7,
             "#b8e186"
            ],
            [
             0.8,
             "#7fbc41"
            ],
            [
             0.9,
             "#4d9221"
            ],
            [
             1,
             "#276419"
            ]
           ],
           "sequential": [
            [
             0,
             "#0d0887"
            ],
            [
             0.1111111111111111,
             "#46039f"
            ],
            [
             0.2222222222222222,
             "#7201a8"
            ],
            [
             0.3333333333333333,
             "#9c179e"
            ],
            [
             0.4444444444444444,
             "#bd3786"
            ],
            [
             0.5555555555555556,
             "#d8576b"
            ],
            [
             0.6666666666666666,
             "#ed7953"
            ],
            [
             0.7777777777777778,
             "#fb9f3a"
            ],
            [
             0.8888888888888888,
             "#fdca26"
            ],
            [
             1,
             "#f0f921"
            ]
           ],
           "sequentialminus": [
            [
             0,
             "#0d0887"
            ],
            [
             0.1111111111111111,
             "#46039f"
            ],
            [
             0.2222222222222222,
             "#7201a8"
            ],
            [
             0.3333333333333333,
             "#9c179e"
            ],
            [
             0.4444444444444444,
             "#bd3786"
            ],
            [
             0.5555555555555556,
             "#d8576b"
            ],
            [
             0.6666666666666666,
             "#ed7953"
            ],
            [
             0.7777777777777778,
             "#fb9f3a"
            ],
            [
             0.8888888888888888,
             "#fdca26"
            ],
            [
             1,
             "#f0f921"
            ]
           ]
          },
          "colorway": [
           "#636efa",
           "#EF553B",
           "#00cc96",
           "#ab63fa",
           "#FFA15A",
           "#19d3f3",
           "#FF6692",
           "#B6E880",
           "#FF97FF",
           "#FECB52"
          ],
          "font": {
           "color": "#2a3f5f"
          },
          "geo": {
           "bgcolor": "white",
           "lakecolor": "white",
           "landcolor": "#E5ECF6",
           "showlakes": true,
           "showland": true,
           "subunitcolor": "white"
          },
          "hoverlabel": {
           "align": "left"
          },
          "hovermode": "closest",
          "mapbox": {
           "style": "light"
          },
          "paper_bgcolor": "white",
          "plot_bgcolor": "#E5ECF6",
          "polar": {
           "angularaxis": {
            "gridcolor": "white",
            "linecolor": "white",
            "ticks": ""
           },
           "bgcolor": "#E5ECF6",
           "radialaxis": {
            "gridcolor": "white",
            "linecolor": "white",
            "ticks": ""
           }
          },
          "scene": {
           "xaxis": {
            "backgroundcolor": "#E5ECF6",
            "gridcolor": "white",
            "gridwidth": 2,
            "linecolor": "white",
            "showbackground": true,
            "ticks": "",
            "zerolinecolor": "white"
           },
           "yaxis": {
            "backgroundcolor": "#E5ECF6",
            "gridcolor": "white",
            "gridwidth": 2,
            "linecolor": "white",
            "showbackground": true,
            "ticks": "",
            "zerolinecolor": "white"
           },
           "zaxis": {
            "backgroundcolor": "#E5ECF6",
            "gridcolor": "white",
            "gridwidth": 2,
            "linecolor": "white",
            "showbackground": true,
            "ticks": "",
            "zerolinecolor": "white"
           }
          },
          "shapedefaults": {
           "line": {
            "color": "#2a3f5f"
           }
          },
          "ternary": {
           "aaxis": {
            "gridcolor": "white",
            "linecolor": "white",
            "ticks": ""
           },
           "baxis": {
            "gridcolor": "white",
            "linecolor": "white",
            "ticks": ""
           },
           "bgcolor": "#E5ECF6",
           "caxis": {
            "gridcolor": "white",
            "linecolor": "white",
            "ticks": ""
           }
          },
          "title": {
           "x": 0.05
          },
          "xaxis": {
           "automargin": true,
           "gridcolor": "white",
           "linecolor": "white",
           "ticks": "",
           "title": {
            "standoff": 15
           },
           "zerolinecolor": "white",
           "zerolinewidth": 2
          },
          "yaxis": {
           "automargin": true,
           "gridcolor": "white",
           "linecolor": "white",
           "ticks": "",
           "title": {
            "standoff": 15
           },
           "zerolinecolor": "white",
           "zerolinewidth": 2
          }
         }
        },
        "xaxis": {
         "anchor": "y",
         "domain": [
          0,
          1
         ],
         "title": {
          "text": "x"
         }
        },
        "yaxis": {
         "anchor": "x",
         "domain": [
          0,
          1
         ],
         "title": {
          "text": "y"
         }
        }
       }
      },
      "text/html": [
       "<div>                            <div id=\"7dda8a69-0ffc-4418-ba54-f733c93f92ea\" class=\"plotly-graph-div\" style=\"height:525px; width:100%;\"></div>            <script type=\"text/javascript\">                require([\"plotly\"], function(Plotly) {                    window.PLOTLYENV=window.PLOTLYENV || {};                                    if (document.getElementById(\"7dda8a69-0ffc-4418-ba54-f733c93f92ea\")) {                    Plotly.newPlot(                        \"7dda8a69-0ffc-4418-ba54-f733c93f92ea\",                        [{\"alignmentgroup\": \"True\", \"hovertemplate\": \"x=%{x}<br>y=%{y}<extra></extra>\", \"legendgroup\": \"\", \"marker\": {\"color\": \"#636efa\"}, \"name\": \"\", \"offsetgroup\": \"\", \"orientation\": \"v\", \"showlegend\": false, \"textposition\": \"auto\", \"type\": \"bar\", \"x\": [\"MDLZ\", \"MSFT\", \"NXPI\", \"PCAR\", \"INTC\", \"NVDA\", \"ILMN\", \"DXCM\", \"ROST\", \"LULU\", \"PRFT\", \"FTNT\", \"WIRE\", \"NFLX\", \"GAIN\", \"SYNA\", \"NYMTP\", \"ANAT\", \"TRNS\", \"SFBS\"], \"xaxis\": \"x\", \"y\": [0.15259199047841734, 5.428405150110516e-16, 0.0, 1.8025823916652316e-16, 0.09638912476495565, 0.0056191046545171885, 3.394051270694936e-17, 0.163724619495839, 4.8247709829560815e-17, 0.11250200333768669, 6.21493255750689e-17, 1.0155271897162052e-16, 2.161979219811515e-16, 0.0, 2.744475689082097e-16, 1.2748345185299208e-16, 0.0889102288596075, 0.1489005977609901, 0.17416175393366917, 0.05720057671431863], \"yaxis\": \"y\"}],                        {\"barmode\": \"relative\", \"legend\": {\"tracegroupgap\": 0}, \"margin\": {\"t\": 60}, \"template\": {\"data\": {\"bar\": [{\"error_x\": {\"color\": \"#2a3f5f\"}, \"error_y\": {\"color\": \"#2a3f5f\"}, \"marker\": {\"line\": {\"color\": \"#E5ECF6\", \"width\": 0.5}}, \"type\": \"bar\"}], \"barpolar\": [{\"marker\": {\"line\": {\"color\": \"#E5ECF6\", \"width\": 0.5}}, \"type\": \"barpolar\"}], \"carpet\": [{\"aaxis\": {\"endlinecolor\": \"#2a3f5f\", \"gridcolor\": \"white\", \"linecolor\": \"white\", \"minorgridcolor\": \"white\", \"startlinecolor\": \"#2a3f5f\"}, \"baxis\": {\"endlinecolor\": \"#2a3f5f\", \"gridcolor\": \"white\", \"linecolor\": \"white\", \"minorgridcolor\": \"white\", \"startlinecolor\": \"#2a3f5f\"}, \"type\": \"carpet\"}], \"choropleth\": [{\"colorbar\": {\"outlinewidth\": 0, \"ticks\": \"\"}, \"type\": \"choropleth\"}], \"contour\": [{\"colorbar\": {\"outlinewidth\": 0, \"ticks\": \"\"}, \"colorscale\": [[0.0, \"#0d0887\"], [0.1111111111111111, \"#46039f\"], [0.2222222222222222, \"#7201a8\"], [0.3333333333333333, \"#9c179e\"], [0.4444444444444444, \"#bd3786\"], [0.5555555555555556, \"#d8576b\"], [0.6666666666666666, \"#ed7953\"], [0.7777777777777778, \"#fb9f3a\"], [0.8888888888888888, \"#fdca26\"], [1.0, \"#f0f921\"]], \"type\": \"contour\"}], \"contourcarpet\": [{\"colorbar\": {\"outlinewidth\": 0, \"ticks\": \"\"}, \"type\": \"contourcarpet\"}], \"heatmap\": [{\"colorbar\": {\"outlinewidth\": 0, \"ticks\": \"\"}, \"colorscale\": [[0.0, \"#0d0887\"], [0.1111111111111111, \"#46039f\"], [0.2222222222222222, \"#7201a8\"], [0.3333333333333333, \"#9c179e\"], [0.4444444444444444, \"#bd3786\"], [0.5555555555555556, \"#d8576b\"], [0.6666666666666666, \"#ed7953\"], [0.7777777777777778, \"#fb9f3a\"], [0.8888888888888888, \"#fdca26\"], [1.0, \"#f0f921\"]], \"type\": \"heatmap\"}], \"heatmapgl\": [{\"colorbar\": {\"outlinewidth\": 0, \"ticks\": \"\"}, \"colorscale\": [[0.0, \"#0d0887\"], [0.1111111111111111, \"#46039f\"], [0.2222222222222222, \"#7201a8\"], [0.3333333333333333, \"#9c179e\"], [0.4444444444444444, \"#bd3786\"], [0.5555555555555556, \"#d8576b\"], [0.6666666666666666, \"#ed7953\"], [0.7777777777777778, \"#fb9f3a\"], [0.8888888888888888, \"#fdca26\"], [1.0, \"#f0f921\"]], \"type\": \"heatmapgl\"}], \"histogram\": [{\"marker\": {\"colorbar\": {\"outlinewidth\": 0, \"ticks\": \"\"}}, \"type\": \"histogram\"}], \"histogram2d\": [{\"colorbar\": {\"outlinewidth\": 0, \"ticks\": \"\"}, \"colorscale\": [[0.0, \"#0d0887\"], [0.1111111111111111, \"#46039f\"], [0.2222222222222222, \"#7201a8\"], [0.3333333333333333, \"#9c179e\"], [0.4444444444444444, \"#bd3786\"], [0.5555555555555556, \"#d8576b\"], [0.6666666666666666, \"#ed7953\"], [0.7777777777777778, \"#fb9f3a\"], [0.8888888888888888, \"#fdca26\"], [1.0, \"#f0f921\"]], \"type\": \"histogram2d\"}], \"histogram2dcontour\": [{\"colorbar\": {\"outlinewidth\": 0, \"ticks\": \"\"}, \"colorscale\": [[0.0, \"#0d0887\"], [0.1111111111111111, \"#46039f\"], [0.2222222222222222, \"#7201a8\"], [0.3333333333333333, \"#9c179e\"], [0.4444444444444444, \"#bd3786\"], [0.5555555555555556, \"#d8576b\"], [0.6666666666666666, \"#ed7953\"], [0.7777777777777778, \"#fb9f3a\"], [0.8888888888888888, \"#fdca26\"], [1.0, \"#f0f921\"]], \"type\": \"histogram2dcontour\"}], \"mesh3d\": [{\"colorbar\": {\"outlinewidth\": 0, \"ticks\": \"\"}, \"type\": \"mesh3d\"}], \"parcoords\": [{\"line\": {\"colorbar\": {\"outlinewidth\": 0, \"ticks\": \"\"}}, \"type\": \"parcoords\"}], \"pie\": [{\"automargin\": true, \"type\": \"pie\"}], \"scatter\": [{\"marker\": {\"colorbar\": {\"outlinewidth\": 0, \"ticks\": \"\"}}, \"type\": \"scatter\"}], \"scatter3d\": [{\"line\": {\"colorbar\": {\"outlinewidth\": 0, \"ticks\": \"\"}}, \"marker\": {\"colorbar\": {\"outlinewidth\": 0, \"ticks\": \"\"}}, \"type\": \"scatter3d\"}], \"scattercarpet\": [{\"marker\": {\"colorbar\": {\"outlinewidth\": 0, \"ticks\": \"\"}}, \"type\": \"scattercarpet\"}], \"scattergeo\": [{\"marker\": {\"colorbar\": {\"outlinewidth\": 0, \"ticks\": \"\"}}, \"type\": \"scattergeo\"}], \"scattergl\": [{\"marker\": {\"colorbar\": {\"outlinewidth\": 0, \"ticks\": \"\"}}, \"type\": \"scattergl\"}], \"scattermapbox\": [{\"marker\": {\"colorbar\": {\"outlinewidth\": 0, \"ticks\": \"\"}}, \"type\": \"scattermapbox\"}], \"scatterpolar\": [{\"marker\": {\"colorbar\": {\"outlinewidth\": 0, \"ticks\": \"\"}}, \"type\": \"scatterpolar\"}], \"scatterpolargl\": [{\"marker\": {\"colorbar\": {\"outlinewidth\": 0, \"ticks\": \"\"}}, \"type\": \"scatterpolargl\"}], \"scatterternary\": [{\"marker\": {\"colorbar\": {\"outlinewidth\": 0, \"ticks\": \"\"}}, \"type\": \"scatterternary\"}], \"surface\": [{\"colorbar\": {\"outlinewidth\": 0, \"ticks\": \"\"}, \"colorscale\": [[0.0, \"#0d0887\"], [0.1111111111111111, \"#46039f\"], [0.2222222222222222, \"#7201a8\"], [0.3333333333333333, \"#9c179e\"], [0.4444444444444444, \"#bd3786\"], [0.5555555555555556, \"#d8576b\"], [0.6666666666666666, \"#ed7953\"], [0.7777777777777778, \"#fb9f3a\"], [0.8888888888888888, \"#fdca26\"], [1.0, \"#f0f921\"]], \"type\": \"surface\"}], \"table\": [{\"cells\": {\"fill\": {\"color\": \"#EBF0F8\"}, \"line\": {\"color\": \"white\"}}, \"header\": {\"fill\": {\"color\": \"#C8D4E3\"}, \"line\": {\"color\": \"white\"}}, \"type\": \"table\"}]}, \"layout\": {\"annotationdefaults\": {\"arrowcolor\": \"#2a3f5f\", \"arrowhead\": 0, \"arrowwidth\": 1}, \"autotypenumbers\": \"strict\", \"coloraxis\": {\"colorbar\": {\"outlinewidth\": 0, \"ticks\": \"\"}}, \"colorscale\": {\"diverging\": [[0, \"#8e0152\"], [0.1, \"#c51b7d\"], [0.2, \"#de77ae\"], [0.3, \"#f1b6da\"], [0.4, \"#fde0ef\"], [0.5, \"#f7f7f7\"], [0.6, \"#e6f5d0\"], [0.7, \"#b8e186\"], [0.8, \"#7fbc41\"], [0.9, \"#4d9221\"], [1, \"#276419\"]], \"sequential\": [[0.0, \"#0d0887\"], [0.1111111111111111, \"#46039f\"], [0.2222222222222222, \"#7201a8\"], [0.3333333333333333, \"#9c179e\"], [0.4444444444444444, \"#bd3786\"], [0.5555555555555556, \"#d8576b\"], [0.6666666666666666, \"#ed7953\"], [0.7777777777777778, \"#fb9f3a\"], [0.8888888888888888, \"#fdca26\"], [1.0, \"#f0f921\"]], \"sequentialminus\": [[0.0, \"#0d0887\"], [0.1111111111111111, \"#46039f\"], [0.2222222222222222, \"#7201a8\"], [0.3333333333333333, \"#9c179e\"], [0.4444444444444444, \"#bd3786\"], [0.5555555555555556, \"#d8576b\"], [0.6666666666666666, \"#ed7953\"], [0.7777777777777778, \"#fb9f3a\"], [0.8888888888888888, \"#fdca26\"], [1.0, \"#f0f921\"]]}, \"colorway\": [\"#636efa\", \"#EF553B\", \"#00cc96\", \"#ab63fa\", \"#FFA15A\", \"#19d3f3\", \"#FF6692\", \"#B6E880\", \"#FF97FF\", \"#FECB52\"], \"font\": {\"color\": \"#2a3f5f\"}, \"geo\": {\"bgcolor\": \"white\", \"lakecolor\": \"white\", \"landcolor\": \"#E5ECF6\", \"showlakes\": true, \"showland\": true, \"subunitcolor\": \"white\"}, \"hoverlabel\": {\"align\": \"left\"}, \"hovermode\": \"closest\", \"mapbox\": {\"style\": \"light\"}, \"paper_bgcolor\": \"white\", \"plot_bgcolor\": \"#E5ECF6\", \"polar\": {\"angularaxis\": {\"gridcolor\": \"white\", \"linecolor\": \"white\", \"ticks\": \"\"}, \"bgcolor\": \"#E5ECF6\", \"radialaxis\": {\"gridcolor\": \"white\", \"linecolor\": \"white\", \"ticks\": \"\"}}, \"scene\": {\"xaxis\": {\"backgroundcolor\": \"#E5ECF6\", \"gridcolor\": \"white\", \"gridwidth\": 2, \"linecolor\": \"white\", \"showbackground\": true, \"ticks\": \"\", \"zerolinecolor\": \"white\"}, \"yaxis\": {\"backgroundcolor\": \"#E5ECF6\", \"gridcolor\": \"white\", \"gridwidth\": 2, \"linecolor\": \"white\", \"showbackground\": true, \"ticks\": \"\", \"zerolinecolor\": \"white\"}, \"zaxis\": {\"backgroundcolor\": \"#E5ECF6\", \"gridcolor\": \"white\", \"gridwidth\": 2, \"linecolor\": \"white\", \"showbackground\": true, \"ticks\": \"\", \"zerolinecolor\": \"white\"}}, \"shapedefaults\": {\"line\": {\"color\": \"#2a3f5f\"}}, \"ternary\": {\"aaxis\": {\"gridcolor\": \"white\", \"linecolor\": \"white\", \"ticks\": \"\"}, \"baxis\": {\"gridcolor\": \"white\", \"linecolor\": \"white\", \"ticks\": \"\"}, \"bgcolor\": \"#E5ECF6\", \"caxis\": {\"gridcolor\": \"white\", \"linecolor\": \"white\", \"ticks\": \"\"}}, \"title\": {\"x\": 0.05}, \"xaxis\": {\"automargin\": true, \"gridcolor\": \"white\", \"linecolor\": \"white\", \"ticks\": \"\", \"title\": {\"standoff\": 15}, \"zerolinecolor\": \"white\", \"zerolinewidth\": 2}, \"yaxis\": {\"automargin\": true, \"gridcolor\": \"white\", \"linecolor\": \"white\", \"ticks\": \"\", \"title\": {\"standoff\": 15}, \"zerolinecolor\": \"white\", \"zerolinewidth\": 2}}}, \"xaxis\": {\"anchor\": \"y\", \"domain\": [0.0, 1.0], \"title\": {\"text\": \"x\"}}, \"yaxis\": {\"anchor\": \"x\", \"domain\": [0.0, 1.0], \"title\": {\"text\": \"y\"}}},                        {\"responsive\": true}                    ).then(function(){\n",
       "                            \n",
       "var gd = document.getElementById('7dda8a69-0ffc-4418-ba54-f733c93f92ea');\n",
       "var x = new MutationObserver(function (mutations, observer) {{\n",
       "        var display = window.getComputedStyle(gd).display;\n",
       "        if (!display || display === 'none') {{\n",
       "            console.log([gd, 'removed!']);\n",
       "            Plotly.purge(gd);\n",
       "            observer.disconnect();\n",
       "        }}\n",
       "}});\n",
       "\n",
       "// Listen for the removal of the full notebook cells\n",
       "var notebookContainer = gd.closest('#notebook-container');\n",
       "if (notebookContainer) {{\n",
       "    x.observe(notebookContainer, {childList: true});\n",
       "}}\n",
       "\n",
       "// Listen for the clearing of the current output cell\n",
       "var outputEl = gd.closest('.output');\n",
       "if (outputEl) {{\n",
       "    x.observe(outputEl, {childList: true});\n",
       "}}\n",
       "\n",
       "                        })                };                });            </script>        </div>"
      ]
     },
     "metadata": {},
     "output_type": "display_data"
    }
   ],
   "source": [
    "print(f'Сумма весов: {sum(opt_solution.x)}')\n",
    "fig = px.bar(x=assets, y=opt_solution.x)\n",
    "fig.show()"
   ]
  },
  {
   "cell_type": "markdown",
   "metadata": {},
   "source": [
    "#### и значение целевой функции"
   ]
  },
  {
   "cell_type": "code",
   "execution_count": 49,
   "metadata": {},
   "outputs": [
    {
     "name": "stdout",
     "output_type": "stream",
     "text": [
      "2.918238358413867\n"
     ]
    }
   ],
   "source": [
    "print(opt_solution.fun)"
   ]
  },
  {
   "cell_type": "markdown",
   "metadata": {},
   "source": [
    "#### 2.4 Сравниаем два портфеля: истинный (п.1) и выборочный (п.2.3). Оцениваем относительную ошибку в определении весов портфеля в норме Manhattan (L1 норма Минковского). Делайте выводы и сравнение в системе координат (σ, E). "
   ]
  },
  {
   "cell_type": "code",
   "execution_count": 50,
   "metadata": {},
   "outputs": [
    {
     "data": {
      "text/plain": [
       "0.8747235193645739"
      ]
     },
     "execution_count": 50,
     "metadata": {},
     "output_type": "execute_result"
    }
   ],
   "source": [
    "from scipy.spatial.distance import cityblock\n",
    "cityblock(true_opt_solution.x, opt_solution.x)"
   ]
  },
  {
   "cell_type": "markdown",
   "metadata": {},
   "source": [
    "#### 2.5 Повторите эксперимент S=40 раз и оцените среднюю относительную ошибку по S повторениям эксперимента. Сделайте выводы.  Сделайте сравнение в системе координат (σ, E). "
   ]
  },
  {
   "cell_type": "code",
   "execution_count": 51,
   "metadata": {},
   "outputs": [
    {
     "ename": "KeyboardInterrupt",
     "evalue": "",
     "output_type": "error",
     "traceback": [
      "\u001b[0;31m---------------------------------------------------------------------------\u001b[0m",
      "\u001b[0;31mKeyboardInterrupt\u001b[0m                         Traceback (most recent call last)",
      "\u001b[0;32m<ipython-input-51-7acbe5d99d95>\u001b[0m in \u001b[0;36m<module>\u001b[0;34m\u001b[0m\n\u001b[1;32m     14\u001b[0m     \u001b[0mestCov\u001b[0m \u001b[0;34m=\u001b[0m \u001b[0msample\u001b[0m\u001b[0;34m.\u001b[0m\u001b[0mcov\u001b[0m\u001b[0;34m(\u001b[0m\u001b[0;34m)\u001b[0m\u001b[0;34m\u001b[0m\u001b[0;34m\u001b[0m\u001b[0m\n\u001b[1;32m     15\u001b[0m \u001b[0;34m\u001b[0m\u001b[0m\n\u001b[0;32m---> 16\u001b[0;31m     \u001b[0mopt_solution\u001b[0m \u001b[0;34m=\u001b[0m \u001b[0mfind_optimal\u001b[0m\u001b[0;34m(\u001b[0m\u001b[0mestE\u001b[0m\u001b[0;34m,\u001b[0m \u001b[0mestCov\u001b[0m\u001b[0;34m)\u001b[0m\u001b[0;34m\u001b[0m\u001b[0;34m\u001b[0m\u001b[0m\n\u001b[0m\u001b[1;32m     17\u001b[0m \u001b[0;34m\u001b[0m\u001b[0m\n\u001b[1;32m     18\u001b[0m     \u001b[0merrors\u001b[0m\u001b[0;34m.\u001b[0m\u001b[0mappend\u001b[0m\u001b[0;34m(\u001b[0m\u001b[0mcityblock\u001b[0m\u001b[0;34m(\u001b[0m\u001b[0mtrue_opt_solution\u001b[0m\u001b[0;34m.\u001b[0m\u001b[0mx\u001b[0m\u001b[0;34m,\u001b[0m \u001b[0mopt_solution\u001b[0m\u001b[0;34m.\u001b[0m\u001b[0mx\u001b[0m\u001b[0;34m)\u001b[0m\u001b[0;34m)\u001b[0m\u001b[0;34m\u001b[0m\u001b[0;34m\u001b[0m\u001b[0m\n",
      "\u001b[0;32m<ipython-input-36-1cad8fea53fb>\u001b[0m in \u001b[0;36mfind_optimal\u001b[0;34m(vector_E, matrix_cov, minusE)\u001b[0m\n\u001b[1;32m     32\u001b[0m \u001b[0;32mdef\u001b[0m \u001b[0mfind_optimal\u001b[0m\u001b[0;34m(\u001b[0m\u001b[0mvector_E\u001b[0m\u001b[0;34m=\u001b[0m\u001b[0mestims\u001b[0m\u001b[0;34m[\u001b[0m\u001b[0;34m'logret_mean'\u001b[0m\u001b[0;34m]\u001b[0m\u001b[0;34m,\u001b[0m \u001b[0mmatrix_cov\u001b[0m\u001b[0;34m=\u001b[0m\u001b[0mcov_matrix\u001b[0m\u001b[0;34m,\u001b[0m \u001b[0mminusE\u001b[0m\u001b[0;34m=\u001b[0m\u001b[0;32mTrue\u001b[0m\u001b[0;34m)\u001b[0m\u001b[0;34m:\u001b[0m\u001b[0;34m\u001b[0m\u001b[0;34m\u001b[0m\u001b[0m\n\u001b[1;32m     33\u001b[0m     \u001b[0mx0\u001b[0m \u001b[0;34m=\u001b[0m \u001b[0mnp\u001b[0m\u001b[0;34m.\u001b[0m\u001b[0marray\u001b[0m\u001b[0;34m(\u001b[0m\u001b[0;34m[\u001b[0m\u001b[0;36m1\u001b[0m\u001b[0;34m/\u001b[0m\u001b[0mlen\u001b[0m\u001b[0;34m(\u001b[0m\u001b[0massets\u001b[0m\u001b[0;34m)\u001b[0m\u001b[0;34m]\u001b[0m \u001b[0;34m*\u001b[0m \u001b[0mlen\u001b[0m\u001b[0;34m(\u001b[0m\u001b[0massets\u001b[0m\u001b[0;34m)\u001b[0m\u001b[0;34m)\u001b[0m\u001b[0;34m\u001b[0m\u001b[0;34m\u001b[0m\u001b[0m\n\u001b[0;32m---> 34\u001b[0;31m     solution = minimize(target_function, x0, args=(vector_E, matrix_cov, minusE), \n\u001b[0m\u001b[1;32m     35\u001b[0m                         \u001b[0mmethod\u001b[0m\u001b[0;34m=\u001b[0m\u001b[0;34m'SLSQP'\u001b[0m\u001b[0;34m,\u001b[0m\u001b[0;34m\u001b[0m\u001b[0;34m\u001b[0m\u001b[0m\n\u001b[1;32m     36\u001b[0m                         \u001b[0mconstraints\u001b[0m\u001b[0;34m=\u001b[0m\u001b[0;34m[\u001b[0m\u001b[0;34m{\u001b[0m\u001b[0;34m'type'\u001b[0m\u001b[0;34m:\u001b[0m \u001b[0;34m'eq'\u001b[0m\u001b[0;34m,\u001b[0m  \u001b[0;34m'fun'\u001b[0m\u001b[0;34m:\u001b[0m \u001b[0;32mlambda\u001b[0m \u001b[0mx\u001b[0m\u001b[0;34m:\u001b[0m \u001b[0msum\u001b[0m\u001b[0;34m(\u001b[0m\u001b[0mx\u001b[0m\u001b[0;34m)\u001b[0m \u001b[0;34m-\u001b[0m \u001b[0;36m1\u001b[0m\u001b[0;34m}\u001b[0m\u001b[0;34m]\u001b[0m\u001b[0;34m,\u001b[0m\u001b[0;34m\u001b[0m\u001b[0;34m\u001b[0m\u001b[0m\n",
      "\u001b[0;32m/usr/lib/python3/dist-packages/scipy/optimize/_minimize.py\u001b[0m in \u001b[0;36mminimize\u001b[0;34m(fun, x0, args, method, jac, hess, hessp, bounds, constraints, tol, callback, options)\u001b[0m\n\u001b[1;32m    605\u001b[0m         \u001b[0;32mreturn\u001b[0m \u001b[0m_minimize_cobyla\u001b[0m\u001b[0;34m(\u001b[0m\u001b[0mfun\u001b[0m\u001b[0;34m,\u001b[0m \u001b[0mx0\u001b[0m\u001b[0;34m,\u001b[0m \u001b[0margs\u001b[0m\u001b[0;34m,\u001b[0m \u001b[0mconstraints\u001b[0m\u001b[0;34m,\u001b[0m \u001b[0;34m**\u001b[0m\u001b[0moptions\u001b[0m\u001b[0;34m)\u001b[0m\u001b[0;34m\u001b[0m\u001b[0;34m\u001b[0m\u001b[0m\n\u001b[1;32m    606\u001b[0m     \u001b[0;32melif\u001b[0m \u001b[0mmeth\u001b[0m \u001b[0;34m==\u001b[0m \u001b[0;34m'slsqp'\u001b[0m\u001b[0;34m:\u001b[0m\u001b[0;34m\u001b[0m\u001b[0;34m\u001b[0m\u001b[0m\n\u001b[0;32m--> 607\u001b[0;31m         return _minimize_slsqp(fun, x0, args, jac, bounds,\n\u001b[0m\u001b[1;32m    608\u001b[0m                                constraints, callback=callback, **options)\n\u001b[1;32m    609\u001b[0m     \u001b[0;32melif\u001b[0m \u001b[0mmeth\u001b[0m \u001b[0;34m==\u001b[0m \u001b[0;34m'trust-constr'\u001b[0m\u001b[0;34m:\u001b[0m\u001b[0;34m\u001b[0m\u001b[0;34m\u001b[0m\u001b[0m\n",
      "\u001b[0;32m/usr/lib/python3/dist-packages/scipy/optimize/slsqp.py\u001b[0m in \u001b[0;36m_minimize_slsqp\u001b[0;34m(func, x0, args, jac, bounds, constraints, maxiter, ftol, iprint, disp, eps, callback, **unknown_options)\u001b[0m\n\u001b[1;32m    421\u001b[0m             \u001b[0;31m# Compute the derivatives of the objective function\u001b[0m\u001b[0;34m\u001b[0m\u001b[0;34m\u001b[0m\u001b[0;34m\u001b[0m\u001b[0m\n\u001b[1;32m    422\u001b[0m             \u001b[0;31m# For some reason SLSQP wants g dimensioned to n+1\u001b[0m\u001b[0;34m\u001b[0m\u001b[0;34m\u001b[0m\u001b[0;34m\u001b[0m\u001b[0m\n\u001b[0;32m--> 423\u001b[0;31m             \u001b[0mg\u001b[0m \u001b[0;34m=\u001b[0m \u001b[0mappend\u001b[0m\u001b[0;34m(\u001b[0m\u001b[0mfprime\u001b[0m\u001b[0;34m(\u001b[0m\u001b[0mx\u001b[0m\u001b[0;34m)\u001b[0m\u001b[0;34m,\u001b[0m \u001b[0;36m0.0\u001b[0m\u001b[0;34m)\u001b[0m\u001b[0;34m\u001b[0m\u001b[0;34m\u001b[0m\u001b[0m\n\u001b[0m\u001b[1;32m    424\u001b[0m \u001b[0;34m\u001b[0m\u001b[0m\n\u001b[1;32m    425\u001b[0m             \u001b[0;31m# Compute the normals of the constraints\u001b[0m\u001b[0;34m\u001b[0m\u001b[0;34m\u001b[0m\u001b[0;34m\u001b[0m\u001b[0m\n",
      "\u001b[0;32m/usr/lib/python3/dist-packages/scipy/optimize/optimize.py\u001b[0m in \u001b[0;36mfunction_wrapper\u001b[0;34m(*wrapper_args)\u001b[0m\n\u001b[1;32m    325\u001b[0m     \u001b[0;32mdef\u001b[0m \u001b[0mfunction_wrapper\u001b[0m\u001b[0;34m(\u001b[0m\u001b[0;34m*\u001b[0m\u001b[0mwrapper_args\u001b[0m\u001b[0;34m)\u001b[0m\u001b[0;34m:\u001b[0m\u001b[0;34m\u001b[0m\u001b[0;34m\u001b[0m\u001b[0m\n\u001b[1;32m    326\u001b[0m         \u001b[0mncalls\u001b[0m\u001b[0;34m[\u001b[0m\u001b[0;36m0\u001b[0m\u001b[0;34m]\u001b[0m \u001b[0;34m+=\u001b[0m \u001b[0;36m1\u001b[0m\u001b[0;34m\u001b[0m\u001b[0;34m\u001b[0m\u001b[0m\n\u001b[0;32m--> 327\u001b[0;31m         \u001b[0;32mreturn\u001b[0m \u001b[0mfunction\u001b[0m\u001b[0;34m(\u001b[0m\u001b[0;34m*\u001b[0m\u001b[0;34m(\u001b[0m\u001b[0mwrapper_args\u001b[0m \u001b[0;34m+\u001b[0m \u001b[0margs\u001b[0m\u001b[0;34m)\u001b[0m\u001b[0;34m)\u001b[0m\u001b[0;34m\u001b[0m\u001b[0;34m\u001b[0m\u001b[0m\n\u001b[0m\u001b[1;32m    328\u001b[0m \u001b[0;34m\u001b[0m\u001b[0m\n\u001b[1;32m    329\u001b[0m     \u001b[0;32mreturn\u001b[0m \u001b[0mncalls\u001b[0m\u001b[0;34m,\u001b[0m \u001b[0mfunction_wrapper\u001b[0m\u001b[0;34m\u001b[0m\u001b[0;34m\u001b[0m\u001b[0m\n",
      "\u001b[0;32m/usr/lib/python3/dist-packages/scipy/optimize/slsqp.py\u001b[0m in \u001b[0;36mapprox_jacobian\u001b[0;34m(x, func, epsilon, *args)\u001b[0m\n\u001b[1;32m     61\u001b[0m     \u001b[0;32mfor\u001b[0m \u001b[0mi\u001b[0m \u001b[0;32min\u001b[0m \u001b[0mrange\u001b[0m\u001b[0;34m(\u001b[0m\u001b[0mlen\u001b[0m\u001b[0;34m(\u001b[0m\u001b[0mx0\u001b[0m\u001b[0;34m)\u001b[0m\u001b[0;34m)\u001b[0m\u001b[0;34m:\u001b[0m\u001b[0;34m\u001b[0m\u001b[0;34m\u001b[0m\u001b[0m\n\u001b[1;32m     62\u001b[0m         \u001b[0mdx\u001b[0m\u001b[0;34m[\u001b[0m\u001b[0mi\u001b[0m\u001b[0;34m]\u001b[0m \u001b[0;34m=\u001b[0m \u001b[0mepsilon\u001b[0m\u001b[0;34m\u001b[0m\u001b[0;34m\u001b[0m\u001b[0m\n\u001b[0;32m---> 63\u001b[0;31m         \u001b[0mjac\u001b[0m\u001b[0;34m[\u001b[0m\u001b[0mi\u001b[0m\u001b[0;34m]\u001b[0m \u001b[0;34m=\u001b[0m \u001b[0;34m(\u001b[0m\u001b[0mfunc\u001b[0m\u001b[0;34m(\u001b[0m\u001b[0;34m*\u001b[0m\u001b[0;34m(\u001b[0m\u001b[0;34m(\u001b[0m\u001b[0mx0\u001b[0m\u001b[0;34m+\u001b[0m\u001b[0mdx\u001b[0m\u001b[0;34m,\u001b[0m\u001b[0;34m)\u001b[0m\u001b[0;34m+\u001b[0m\u001b[0margs\u001b[0m\u001b[0;34m)\u001b[0m\u001b[0;34m)\u001b[0m \u001b[0;34m-\u001b[0m \u001b[0mf0\u001b[0m\u001b[0;34m)\u001b[0m\u001b[0;34m/\u001b[0m\u001b[0mepsilon\u001b[0m\u001b[0;34m\u001b[0m\u001b[0;34m\u001b[0m\u001b[0m\n\u001b[0m\u001b[1;32m     64\u001b[0m         \u001b[0mdx\u001b[0m\u001b[0;34m[\u001b[0m\u001b[0mi\u001b[0m\u001b[0;34m]\u001b[0m \u001b[0;34m=\u001b[0m \u001b[0;36m0.0\u001b[0m\u001b[0;34m\u001b[0m\u001b[0;34m\u001b[0m\u001b[0m\n\u001b[1;32m     65\u001b[0m \u001b[0;34m\u001b[0m\u001b[0m\n",
      "\u001b[0;32m/usr/lib/python3/dist-packages/scipy/optimize/optimize.py\u001b[0m in \u001b[0;36mfunction_wrapper\u001b[0;34m(*wrapper_args)\u001b[0m\n\u001b[1;32m    325\u001b[0m     \u001b[0;32mdef\u001b[0m \u001b[0mfunction_wrapper\u001b[0m\u001b[0;34m(\u001b[0m\u001b[0;34m*\u001b[0m\u001b[0mwrapper_args\u001b[0m\u001b[0;34m)\u001b[0m\u001b[0;34m:\u001b[0m\u001b[0;34m\u001b[0m\u001b[0;34m\u001b[0m\u001b[0m\n\u001b[1;32m    326\u001b[0m         \u001b[0mncalls\u001b[0m\u001b[0;34m[\u001b[0m\u001b[0;36m0\u001b[0m\u001b[0;34m]\u001b[0m \u001b[0;34m+=\u001b[0m \u001b[0;36m1\u001b[0m\u001b[0;34m\u001b[0m\u001b[0;34m\u001b[0m\u001b[0m\n\u001b[0;32m--> 327\u001b[0;31m         \u001b[0;32mreturn\u001b[0m \u001b[0mfunction\u001b[0m\u001b[0;34m(\u001b[0m\u001b[0;34m*\u001b[0m\u001b[0;34m(\u001b[0m\u001b[0mwrapper_args\u001b[0m \u001b[0;34m+\u001b[0m \u001b[0margs\u001b[0m\u001b[0;34m)\u001b[0m\u001b[0;34m)\u001b[0m\u001b[0;34m\u001b[0m\u001b[0;34m\u001b[0m\u001b[0m\n\u001b[0m\u001b[1;32m    328\u001b[0m \u001b[0;34m\u001b[0m\u001b[0m\n\u001b[1;32m    329\u001b[0m     \u001b[0;32mreturn\u001b[0m \u001b[0mncalls\u001b[0m\u001b[0;34m,\u001b[0m \u001b[0mfunction_wrapper\u001b[0m\u001b[0;34m\u001b[0m\u001b[0;34m\u001b[0m\u001b[0m\n",
      "\u001b[0;32m<ipython-input-36-1cad8fea53fb>\u001b[0m in \u001b[0;36mtarget_function\u001b[0;34m(x, vector_E, matrix_cov, minusE)\u001b[0m\n\u001b[1;32m     22\u001b[0m \u001b[0;32mdef\u001b[0m \u001b[0mtarget_function\u001b[0m\u001b[0;34m(\u001b[0m\u001b[0mx\u001b[0m\u001b[0;34m,\u001b[0m \u001b[0mvector_E\u001b[0m\u001b[0;34m,\u001b[0m \u001b[0mmatrix_cov\u001b[0m\u001b[0;34m,\u001b[0m \u001b[0mminusE\u001b[0m\u001b[0;34m)\u001b[0m\u001b[0;34m:\u001b[0m\u001b[0;34m\u001b[0m\u001b[0;34m\u001b[0m\u001b[0m\n\u001b[1;32m     23\u001b[0m     \u001b[0mE\u001b[0m \u001b[0;34m=\u001b[0m \u001b[0mget_E\u001b[0m\u001b[0;34m(\u001b[0m\u001b[0mx\u001b[0m\u001b[0;34m,\u001b[0m \u001b[0mvector_E\u001b[0m\u001b[0;34m)\u001b[0m\u001b[0;34m\u001b[0m\u001b[0;34m\u001b[0m\u001b[0m\n\u001b[0;32m---> 24\u001b[0;31m     \u001b[0msigma\u001b[0m \u001b[0;34m=\u001b[0m \u001b[0mget_sigma\u001b[0m\u001b[0;34m(\u001b[0m\u001b[0mx\u001b[0m\u001b[0;34m,\u001b[0m \u001b[0mmatrix_cov\u001b[0m\u001b[0;34m)\u001b[0m\u001b[0;34m\u001b[0m\u001b[0;34m\u001b[0m\u001b[0m\n\u001b[0m\u001b[1;32m     25\u001b[0m     \u001b[0;32mif\u001b[0m \u001b[0mminusE\u001b[0m\u001b[0;34m:\u001b[0m\u001b[0;34m\u001b[0m\u001b[0;34m\u001b[0m\u001b[0m\n\u001b[1;32m     26\u001b[0m         \u001b[0mresult\u001b[0m \u001b[0;34m=\u001b[0m \u001b[0;34m-\u001b[0m\u001b[0mE\u001b[0m \u001b[0;34m+\u001b[0m \u001b[0mb\u001b[0m \u001b[0;34m*\u001b[0m \u001b[0msigma\u001b[0m\u001b[0;34m\u001b[0m\u001b[0;34m\u001b[0m\u001b[0m\n",
      "\u001b[0;32m<ipython-input-36-1cad8fea53fb>\u001b[0m in \u001b[0;36mget_sigma\u001b[0;34m(x, matrix_cov)\u001b[0m\n\u001b[1;32m     13\u001b[0m     \u001b[0;32mfor\u001b[0m \u001b[0mi\u001b[0m \u001b[0;32min\u001b[0m \u001b[0mrange\u001b[0m\u001b[0;34m(\u001b[0m\u001b[0mlen\u001b[0m\u001b[0;34m(\u001b[0m\u001b[0mx\u001b[0m\u001b[0;34m)\u001b[0m\u001b[0;34m)\u001b[0m\u001b[0;34m:\u001b[0m\u001b[0;34m\u001b[0m\u001b[0;34m\u001b[0m\u001b[0m\n\u001b[1;32m     14\u001b[0m         \u001b[0;32mfor\u001b[0m \u001b[0mj\u001b[0m \u001b[0;32min\u001b[0m \u001b[0mrange\u001b[0m\u001b[0;34m(\u001b[0m\u001b[0mlen\u001b[0m\u001b[0;34m(\u001b[0m\u001b[0mx\u001b[0m\u001b[0;34m)\u001b[0m\u001b[0;34m)\u001b[0m\u001b[0;34m:\u001b[0m\u001b[0;34m\u001b[0m\u001b[0;34m\u001b[0m\u001b[0m\n\u001b[0;32m---> 15\u001b[0;31m             \u001b[0msimga_i_j\u001b[0m \u001b[0;34m=\u001b[0m \u001b[0mmatrix_cov\u001b[0m\u001b[0;34m.\u001b[0m\u001b[0miloc\u001b[0m\u001b[0;34m[\u001b[0m\u001b[0mi\u001b[0m\u001b[0;34m]\u001b[0m\u001b[0;34m.\u001b[0m\u001b[0miloc\u001b[0m\u001b[0;34m[\u001b[0m\u001b[0mj\u001b[0m\u001b[0;34m]\u001b[0m\u001b[0;34m\u001b[0m\u001b[0;34m\u001b[0m\u001b[0m\n\u001b[0m\u001b[1;32m     16\u001b[0m             \u001b[0msigma_squared\u001b[0m \u001b[0;34m+=\u001b[0m \u001b[0msimga_i_j\u001b[0m \u001b[0;34m*\u001b[0m \u001b[0mx\u001b[0m\u001b[0;34m[\u001b[0m\u001b[0mi\u001b[0m\u001b[0;34m]\u001b[0m \u001b[0;34m*\u001b[0m \u001b[0mx\u001b[0m\u001b[0;34m[\u001b[0m\u001b[0mj\u001b[0m\u001b[0;34m]\u001b[0m\u001b[0;34m\u001b[0m\u001b[0;34m\u001b[0m\u001b[0m\n\u001b[1;32m     17\u001b[0m \u001b[0;34m\u001b[0m\u001b[0m\n",
      "\u001b[0;32m/usr/lib/python3/dist-packages/pandas/core/indexing.py\u001b[0m in \u001b[0;36m__getitem__\u001b[0;34m(self, key)\u001b[0m\n\u001b[1;32m   1422\u001b[0m \u001b[0;34m\u001b[0m\u001b[0m\n\u001b[1;32m   1423\u001b[0m             \u001b[0mmaybe_callable\u001b[0m \u001b[0;34m=\u001b[0m \u001b[0mcom\u001b[0m\u001b[0;34m.\u001b[0m\u001b[0mapply_if_callable\u001b[0m\u001b[0;34m(\u001b[0m\u001b[0mkey\u001b[0m\u001b[0;34m,\u001b[0m \u001b[0mself\u001b[0m\u001b[0;34m.\u001b[0m\u001b[0mobj\u001b[0m\u001b[0;34m)\u001b[0m\u001b[0;34m\u001b[0m\u001b[0;34m\u001b[0m\u001b[0m\n\u001b[0;32m-> 1424\u001b[0;31m             \u001b[0;32mreturn\u001b[0m \u001b[0mself\u001b[0m\u001b[0;34m.\u001b[0m\u001b[0m_getitem_axis\u001b[0m\u001b[0;34m(\u001b[0m\u001b[0mmaybe_callable\u001b[0m\u001b[0;34m,\u001b[0m \u001b[0maxis\u001b[0m\u001b[0;34m=\u001b[0m\u001b[0maxis\u001b[0m\u001b[0;34m)\u001b[0m\u001b[0;34m\u001b[0m\u001b[0;34m\u001b[0m\u001b[0m\n\u001b[0m\u001b[1;32m   1425\u001b[0m \u001b[0;34m\u001b[0m\u001b[0m\n\u001b[1;32m   1426\u001b[0m     \u001b[0;32mdef\u001b[0m \u001b[0m_is_scalar_access\u001b[0m\u001b[0;34m(\u001b[0m\u001b[0mself\u001b[0m\u001b[0;34m,\u001b[0m \u001b[0mkey\u001b[0m\u001b[0;34m:\u001b[0m \u001b[0mTuple\u001b[0m\u001b[0;34m)\u001b[0m\u001b[0;34m:\u001b[0m\u001b[0;34m\u001b[0m\u001b[0;34m\u001b[0m\u001b[0m\n",
      "\u001b[0;32m/usr/lib/python3/dist-packages/pandas/core/indexing.py\u001b[0m in \u001b[0;36m_getitem_axis\u001b[0;34m(self, key, axis)\u001b[0m\n\u001b[1;32m   2157\u001b[0m             \u001b[0mself\u001b[0m\u001b[0;34m.\u001b[0m\u001b[0m_validate_integer\u001b[0m\u001b[0;34m(\u001b[0m\u001b[0mkey\u001b[0m\u001b[0;34m,\u001b[0m \u001b[0maxis\u001b[0m\u001b[0;34m)\u001b[0m\u001b[0;34m\u001b[0m\u001b[0;34m\u001b[0m\u001b[0m\n\u001b[1;32m   2158\u001b[0m \u001b[0;34m\u001b[0m\u001b[0m\n\u001b[0;32m-> 2159\u001b[0;31m             \u001b[0;32mreturn\u001b[0m \u001b[0mself\u001b[0m\u001b[0;34m.\u001b[0m\u001b[0m_get_loc\u001b[0m\u001b[0;34m(\u001b[0m\u001b[0mkey\u001b[0m\u001b[0;34m,\u001b[0m \u001b[0maxis\u001b[0m\u001b[0;34m=\u001b[0m\u001b[0maxis\u001b[0m\u001b[0;34m)\u001b[0m\u001b[0;34m\u001b[0m\u001b[0;34m\u001b[0m\u001b[0m\n\u001b[0m\u001b[1;32m   2160\u001b[0m \u001b[0;34m\u001b[0m\u001b[0m\n\u001b[1;32m   2161\u001b[0m     \u001b[0;31m# raise_missing is included for compat with the parent class signature\u001b[0m\u001b[0;34m\u001b[0m\u001b[0;34m\u001b[0m\u001b[0;34m\u001b[0m\u001b[0m\n",
      "\u001b[0;32m/usr/lib/python3/dist-packages/pandas/core/indexing.py\u001b[0m in \u001b[0;36m_get_loc\u001b[0;34m(self, key, axis)\u001b[0m\n\u001b[1;32m    161\u001b[0m \u001b[0;34m\u001b[0m\u001b[0m\n\u001b[1;32m    162\u001b[0m     \u001b[0;32mdef\u001b[0m \u001b[0m_get_loc\u001b[0m\u001b[0;34m(\u001b[0m\u001b[0mself\u001b[0m\u001b[0;34m,\u001b[0m \u001b[0mkey\u001b[0m\u001b[0;34m:\u001b[0m \u001b[0mint\u001b[0m\u001b[0;34m,\u001b[0m \u001b[0maxis\u001b[0m\u001b[0;34m:\u001b[0m \u001b[0mint\u001b[0m\u001b[0;34m)\u001b[0m\u001b[0;34m:\u001b[0m\u001b[0;34m\u001b[0m\u001b[0;34m\u001b[0m\u001b[0m\n\u001b[0;32m--> 163\u001b[0;31m         \u001b[0;32mreturn\u001b[0m \u001b[0mself\u001b[0m\u001b[0;34m.\u001b[0m\u001b[0mobj\u001b[0m\u001b[0;34m.\u001b[0m\u001b[0m_ixs\u001b[0m\u001b[0;34m(\u001b[0m\u001b[0mkey\u001b[0m\u001b[0;34m,\u001b[0m \u001b[0maxis\u001b[0m\u001b[0;34m=\u001b[0m\u001b[0maxis\u001b[0m\u001b[0;34m)\u001b[0m\u001b[0;34m\u001b[0m\u001b[0;34m\u001b[0m\u001b[0m\n\u001b[0m\u001b[1;32m    164\u001b[0m \u001b[0;34m\u001b[0m\u001b[0m\n\u001b[1;32m    165\u001b[0m     \u001b[0;32mdef\u001b[0m \u001b[0m_slice\u001b[0m\u001b[0;34m(\u001b[0m\u001b[0mself\u001b[0m\u001b[0;34m,\u001b[0m \u001b[0mobj\u001b[0m\u001b[0;34m,\u001b[0m \u001b[0maxis\u001b[0m\u001b[0;34m:\u001b[0m \u001b[0mint\u001b[0m\u001b[0;34m,\u001b[0m \u001b[0mkind\u001b[0m\u001b[0;34m=\u001b[0m\u001b[0;32mNone\u001b[0m\u001b[0;34m)\u001b[0m\u001b[0;34m:\u001b[0m\u001b[0;34m\u001b[0m\u001b[0;34m\u001b[0m\u001b[0m\n",
      "\u001b[0;32m/usr/lib/python3/dist-packages/pandas/core/frame.py\u001b[0m in \u001b[0;36m_ixs\u001b[0;34m(self, i, axis)\u001b[0m\n\u001b[1;32m   2934\u001b[0m             \u001b[0;31m# if we are a copy, mark as such\u001b[0m\u001b[0;34m\u001b[0m\u001b[0;34m\u001b[0m\u001b[0;34m\u001b[0m\u001b[0m\n\u001b[1;32m   2935\u001b[0m             \u001b[0mcopy\u001b[0m \u001b[0;34m=\u001b[0m \u001b[0misinstance\u001b[0m\u001b[0;34m(\u001b[0m\u001b[0mnew_values\u001b[0m\u001b[0;34m,\u001b[0m \u001b[0mnp\u001b[0m\u001b[0;34m.\u001b[0m\u001b[0mndarray\u001b[0m\u001b[0;34m)\u001b[0m \u001b[0;32mand\u001b[0m \u001b[0mnew_values\u001b[0m\u001b[0;34m.\u001b[0m\u001b[0mbase\u001b[0m \u001b[0;32mis\u001b[0m \u001b[0;32mNone\u001b[0m\u001b[0;34m\u001b[0m\u001b[0;34m\u001b[0m\u001b[0m\n\u001b[0;32m-> 2936\u001b[0;31m             result = self._constructor_sliced(\n\u001b[0m\u001b[1;32m   2937\u001b[0m                 \u001b[0mnew_values\u001b[0m\u001b[0;34m,\u001b[0m\u001b[0;34m\u001b[0m\u001b[0;34m\u001b[0m\u001b[0m\n\u001b[1;32m   2938\u001b[0m                 \u001b[0mindex\u001b[0m\u001b[0;34m=\u001b[0m\u001b[0mself\u001b[0m\u001b[0;34m.\u001b[0m\u001b[0mcolumns\u001b[0m\u001b[0;34m,\u001b[0m\u001b[0;34m\u001b[0m\u001b[0;34m\u001b[0m\u001b[0m\n",
      "\u001b[0;32m/usr/lib/python3/dist-packages/pandas/core/series.py\u001b[0m in \u001b[0;36m__init__\u001b[0;34m(self, data, index, dtype, name, copy, fastpath)\u001b[0m\n\u001b[1;32m    314\u001b[0m                 \u001b[0mdata\u001b[0m \u001b[0;34m=\u001b[0m \u001b[0msanitize_array\u001b[0m\u001b[0;34m(\u001b[0m\u001b[0mdata\u001b[0m\u001b[0;34m,\u001b[0m \u001b[0mindex\u001b[0m\u001b[0;34m,\u001b[0m \u001b[0mdtype\u001b[0m\u001b[0;34m,\u001b[0m \u001b[0mcopy\u001b[0m\u001b[0;34m,\u001b[0m \u001b[0mraise_cast_failure\u001b[0m\u001b[0;34m=\u001b[0m\u001b[0;32mTrue\u001b[0m\u001b[0;34m)\u001b[0m\u001b[0;34m\u001b[0m\u001b[0;34m\u001b[0m\u001b[0m\n\u001b[1;32m    315\u001b[0m \u001b[0;34m\u001b[0m\u001b[0m\n\u001b[0;32m--> 316\u001b[0;31m                 \u001b[0mdata\u001b[0m \u001b[0;34m=\u001b[0m \u001b[0mSingleBlockManager\u001b[0m\u001b[0;34m(\u001b[0m\u001b[0mdata\u001b[0m\u001b[0;34m,\u001b[0m \u001b[0mindex\u001b[0m\u001b[0;34m,\u001b[0m \u001b[0mfastpath\u001b[0m\u001b[0;34m=\u001b[0m\u001b[0;32mTrue\u001b[0m\u001b[0;34m)\u001b[0m\u001b[0;34m\u001b[0m\u001b[0;34m\u001b[0m\u001b[0m\n\u001b[0m\u001b[1;32m    317\u001b[0m \u001b[0;34m\u001b[0m\u001b[0m\n\u001b[1;32m    318\u001b[0m         \u001b[0mgeneric\u001b[0m\u001b[0;34m.\u001b[0m\u001b[0mNDFrame\u001b[0m\u001b[0;34m.\u001b[0m\u001b[0m__init__\u001b[0m\u001b[0;34m(\u001b[0m\u001b[0mself\u001b[0m\u001b[0;34m,\u001b[0m \u001b[0mdata\u001b[0m\u001b[0;34m,\u001b[0m \u001b[0mfastpath\u001b[0m\u001b[0;34m=\u001b[0m\u001b[0;32mTrue\u001b[0m\u001b[0;34m)\u001b[0m\u001b[0;34m\u001b[0m\u001b[0;34m\u001b[0m\u001b[0m\n",
      "\u001b[0;32m/usr/lib/python3/dist-packages/pandas/core/internals/managers.py\u001b[0m in \u001b[0;36m__init__\u001b[0;34m(self, block, axis, do_integrity_check, fastpath)\u001b[0m\n\u001b[1;32m   1514\u001b[0m \u001b[0;34m\u001b[0m\u001b[0m\n\u001b[1;32m   1515\u001b[0m         \u001b[0;32mif\u001b[0m \u001b[0;32mnot\u001b[0m \u001b[0misinstance\u001b[0m\u001b[0;34m(\u001b[0m\u001b[0mblock\u001b[0m\u001b[0;34m,\u001b[0m \u001b[0mBlock\u001b[0m\u001b[0;34m)\u001b[0m\u001b[0;34m:\u001b[0m\u001b[0;34m\u001b[0m\u001b[0;34m\u001b[0m\u001b[0m\n\u001b[0;32m-> 1516\u001b[0;31m             \u001b[0mblock\u001b[0m \u001b[0;34m=\u001b[0m \u001b[0mmake_block\u001b[0m\u001b[0;34m(\u001b[0m\u001b[0mblock\u001b[0m\u001b[0;34m,\u001b[0m \u001b[0mplacement\u001b[0m\u001b[0;34m=\u001b[0m\u001b[0mslice\u001b[0m\u001b[0;34m(\u001b[0m\u001b[0;36m0\u001b[0m\u001b[0;34m,\u001b[0m \u001b[0mlen\u001b[0m\u001b[0;34m(\u001b[0m\u001b[0maxis\u001b[0m\u001b[0;34m)\u001b[0m\u001b[0;34m)\u001b[0m\u001b[0;34m,\u001b[0m \u001b[0mndim\u001b[0m\u001b[0;34m=\u001b[0m\u001b[0;36m1\u001b[0m\u001b[0;34m)\u001b[0m\u001b[0;34m\u001b[0m\u001b[0;34m\u001b[0m\u001b[0m\n\u001b[0m\u001b[1;32m   1517\u001b[0m \u001b[0;34m\u001b[0m\u001b[0m\n\u001b[1;32m   1518\u001b[0m         \u001b[0mself\u001b[0m\u001b[0;34m.\u001b[0m\u001b[0mblocks\u001b[0m \u001b[0;34m=\u001b[0m \u001b[0mtuple\u001b[0m\u001b[0;34m(\u001b[0m\u001b[0;34m[\u001b[0m\u001b[0mblock\u001b[0m\u001b[0;34m]\u001b[0m\u001b[0;34m)\u001b[0m\u001b[0;34m\u001b[0m\u001b[0;34m\u001b[0m\u001b[0m\n",
      "\u001b[0;32m/usr/lib/python3/dist-packages/pandas/core/internals/blocks.py\u001b[0m in \u001b[0;36mmake_block\u001b[0;34m(values, placement, klass, ndim, dtype, fastpath)\u001b[0m\n\u001b[1;32m   3275\u001b[0m     \u001b[0;32mif\u001b[0m \u001b[0mklass\u001b[0m \u001b[0;32mis\u001b[0m \u001b[0;32mNone\u001b[0m\u001b[0;34m:\u001b[0m\u001b[0;34m\u001b[0m\u001b[0;34m\u001b[0m\u001b[0m\n\u001b[1;32m   3276\u001b[0m         \u001b[0mdtype\u001b[0m \u001b[0;34m=\u001b[0m \u001b[0mdtype\u001b[0m \u001b[0;32mor\u001b[0m \u001b[0mvalues\u001b[0m\u001b[0;34m.\u001b[0m\u001b[0mdtype\u001b[0m\u001b[0;34m\u001b[0m\u001b[0;34m\u001b[0m\u001b[0m\n\u001b[0;32m-> 3277\u001b[0;31m         \u001b[0mklass\u001b[0m \u001b[0;34m=\u001b[0m \u001b[0mget_block_type\u001b[0m\u001b[0;34m(\u001b[0m\u001b[0mvalues\u001b[0m\u001b[0;34m,\u001b[0m \u001b[0mdtype\u001b[0m\u001b[0;34m)\u001b[0m\u001b[0;34m\u001b[0m\u001b[0;34m\u001b[0m\u001b[0m\n\u001b[0m\u001b[1;32m   3278\u001b[0m \u001b[0;34m\u001b[0m\u001b[0m\n\u001b[1;32m   3279\u001b[0m     \u001b[0;32melif\u001b[0m \u001b[0mklass\u001b[0m \u001b[0;32mis\u001b[0m \u001b[0mDatetimeTZBlock\u001b[0m \u001b[0;32mand\u001b[0m \u001b[0;32mnot\u001b[0m \u001b[0mis_datetime64tz_dtype\u001b[0m\u001b[0;34m(\u001b[0m\u001b[0mvalues\u001b[0m\u001b[0;34m)\u001b[0m\u001b[0;34m:\u001b[0m\u001b[0;34m\u001b[0m\u001b[0;34m\u001b[0m\u001b[0m\n",
      "\u001b[0;32m/usr/lib/python3/dist-packages/pandas/core/internals/blocks.py\u001b[0m in \u001b[0;36mget_block_type\u001b[0;34m(values, dtype)\u001b[0m\n\u001b[1;32m   3236\u001b[0m     \u001b[0;32melif\u001b[0m \u001b[0mis_datetime64tz_dtype\u001b[0m\u001b[0;34m(\u001b[0m\u001b[0mvalues\u001b[0m\u001b[0;34m)\u001b[0m\u001b[0;34m:\u001b[0m\u001b[0;34m\u001b[0m\u001b[0;34m\u001b[0m\u001b[0m\n\u001b[1;32m   3237\u001b[0m         \u001b[0mcls\u001b[0m \u001b[0;34m=\u001b[0m \u001b[0mDatetimeTZBlock\u001b[0m\u001b[0;34m\u001b[0m\u001b[0;34m\u001b[0m\u001b[0m\n\u001b[0;32m-> 3238\u001b[0;31m     \u001b[0;32melif\u001b[0m \u001b[0mis_interval_dtype\u001b[0m\u001b[0;34m(\u001b[0m\u001b[0mdtype\u001b[0m\u001b[0;34m)\u001b[0m \u001b[0;32mor\u001b[0m \u001b[0mis_period_dtype\u001b[0m\u001b[0;34m(\u001b[0m\u001b[0mdtype\u001b[0m\u001b[0;34m)\u001b[0m\u001b[0;34m:\u001b[0m\u001b[0;34m\u001b[0m\u001b[0;34m\u001b[0m\u001b[0m\n\u001b[0m\u001b[1;32m   3239\u001b[0m         \u001b[0mcls\u001b[0m \u001b[0;34m=\u001b[0m \u001b[0mObjectValuesExtensionBlock\u001b[0m\u001b[0;34m\u001b[0m\u001b[0;34m\u001b[0m\u001b[0m\n\u001b[1;32m   3240\u001b[0m     \u001b[0;32melif\u001b[0m \u001b[0mis_extension_array_dtype\u001b[0m\u001b[0;34m(\u001b[0m\u001b[0mvalues\u001b[0m\u001b[0;34m)\u001b[0m\u001b[0;34m:\u001b[0m\u001b[0;34m\u001b[0m\u001b[0;34m\u001b[0m\u001b[0m\n",
      "\u001b[0;32m/usr/lib/python3/dist-packages/pandas/core/dtypes/common.py\u001b[0m in \u001b[0;36mis_interval_dtype\u001b[0;34m(arr_or_dtype)\u001b[0m\n\u001b[1;32m    673\u001b[0m     \u001b[0;32mif\u001b[0m \u001b[0marr_or_dtype\u001b[0m \u001b[0;32mis\u001b[0m \u001b[0;32mNone\u001b[0m\u001b[0;34m:\u001b[0m\u001b[0;34m\u001b[0m\u001b[0;34m\u001b[0m\u001b[0m\n\u001b[1;32m    674\u001b[0m         \u001b[0;32mreturn\u001b[0m \u001b[0;32mFalse\u001b[0m\u001b[0;34m\u001b[0m\u001b[0;34m\u001b[0m\u001b[0m\n\u001b[0;32m--> 675\u001b[0;31m     \u001b[0;32mreturn\u001b[0m \u001b[0mIntervalDtype\u001b[0m\u001b[0;34m.\u001b[0m\u001b[0mis_dtype\u001b[0m\u001b[0;34m(\u001b[0m\u001b[0marr_or_dtype\u001b[0m\u001b[0;34m)\u001b[0m\u001b[0;34m\u001b[0m\u001b[0;34m\u001b[0m\u001b[0m\n\u001b[0m\u001b[1;32m    676\u001b[0m \u001b[0;34m\u001b[0m\u001b[0m\n\u001b[1;32m    677\u001b[0m \u001b[0;34m\u001b[0m\u001b[0m\n",
      "\u001b[0;32m/usr/lib/python3/dist-packages/pandas/core/dtypes/dtypes.py\u001b[0m in \u001b[0;36mis_dtype\u001b[0;34m(cls, dtype)\u001b[0m\n\u001b[1;32m   1108\u001b[0m             \u001b[0;32melse\u001b[0m\u001b[0;34m:\u001b[0m\u001b[0;34m\u001b[0m\u001b[0;34m\u001b[0m\u001b[0m\n\u001b[1;32m   1109\u001b[0m                 \u001b[0;32mreturn\u001b[0m \u001b[0;32mFalse\u001b[0m\u001b[0;34m\u001b[0m\u001b[0;34m\u001b[0m\u001b[0m\n\u001b[0;32m-> 1110\u001b[0;31m         \u001b[0;32mreturn\u001b[0m \u001b[0msuper\u001b[0m\u001b[0;34m(\u001b[0m\u001b[0;34m)\u001b[0m\u001b[0;34m.\u001b[0m\u001b[0mis_dtype\u001b[0m\u001b[0;34m(\u001b[0m\u001b[0mdtype\u001b[0m\u001b[0;34m)\u001b[0m\u001b[0;34m\u001b[0m\u001b[0;34m\u001b[0m\u001b[0m\n\u001b[0m",
      "\u001b[0;32m/usr/lib/python3/dist-packages/pandas/core/dtypes/base.py\u001b[0m in \u001b[0;36mis_dtype\u001b[0;34m(cls, dtype)\u001b[0m\n\u001b[1;32m    254\u001b[0m         \u001b[0mdtype\u001b[0m \u001b[0;34m=\u001b[0m \u001b[0mgetattr\u001b[0m\u001b[0;34m(\u001b[0m\u001b[0mdtype\u001b[0m\u001b[0;34m,\u001b[0m \u001b[0;34m\"dtype\"\u001b[0m\u001b[0;34m,\u001b[0m \u001b[0mdtype\u001b[0m\u001b[0;34m)\u001b[0m\u001b[0;34m\u001b[0m\u001b[0;34m\u001b[0m\u001b[0m\n\u001b[1;32m    255\u001b[0m \u001b[0;34m\u001b[0m\u001b[0m\n\u001b[0;32m--> 256\u001b[0;31m         \u001b[0;32mif\u001b[0m \u001b[0misinstance\u001b[0m\u001b[0;34m(\u001b[0m\u001b[0mdtype\u001b[0m\u001b[0;34m,\u001b[0m \u001b[0;34m(\u001b[0m\u001b[0mABCSeries\u001b[0m\u001b[0;34m,\u001b[0m \u001b[0mABCIndexClass\u001b[0m\u001b[0;34m,\u001b[0m \u001b[0mABCDataFrame\u001b[0m\u001b[0;34m,\u001b[0m \u001b[0mnp\u001b[0m\u001b[0;34m.\u001b[0m\u001b[0mdtype\u001b[0m\u001b[0;34m)\u001b[0m\u001b[0;34m)\u001b[0m\u001b[0;34m:\u001b[0m\u001b[0;34m\u001b[0m\u001b[0;34m\u001b[0m\u001b[0m\n\u001b[0m\u001b[1;32m    257\u001b[0m             \u001b[0;31m# https://github.com/pandas-dev/pandas/issues/22960\u001b[0m\u001b[0;34m\u001b[0m\u001b[0;34m\u001b[0m\u001b[0;34m\u001b[0m\u001b[0m\n\u001b[1;32m    258\u001b[0m             \u001b[0;31m# avoid passing data to `construct_from_string`. This could\u001b[0m\u001b[0;34m\u001b[0m\u001b[0;34m\u001b[0m\u001b[0;34m\u001b[0m\u001b[0m\n",
      "\u001b[0;32m/usr/lib/python3/dist-packages/pandas/core/dtypes/generic.py\u001b[0m in \u001b[0;36m_check\u001b[0;34m(cls, inst)\u001b[0m\n\u001b[1;32m      7\u001b[0m     \u001b[0;34m@\u001b[0m\u001b[0mclassmethod\u001b[0m\u001b[0;34m\u001b[0m\u001b[0;34m\u001b[0m\u001b[0m\n\u001b[1;32m      8\u001b[0m     \u001b[0;32mdef\u001b[0m \u001b[0m_check\u001b[0m\u001b[0;34m(\u001b[0m\u001b[0mcls\u001b[0m\u001b[0;34m,\u001b[0m \u001b[0minst\u001b[0m\u001b[0;34m)\u001b[0m\u001b[0;34m:\u001b[0m\u001b[0;34m\u001b[0m\u001b[0;34m\u001b[0m\u001b[0m\n\u001b[0;32m----> 9\u001b[0;31m         \u001b[0;32mreturn\u001b[0m \u001b[0mgetattr\u001b[0m\u001b[0;34m(\u001b[0m\u001b[0minst\u001b[0m\u001b[0;34m,\u001b[0m \u001b[0mattr\u001b[0m\u001b[0;34m,\u001b[0m \u001b[0;34m\"_typ\"\u001b[0m\u001b[0;34m)\u001b[0m \u001b[0;32min\u001b[0m \u001b[0mcomp\u001b[0m\u001b[0;34m\u001b[0m\u001b[0;34m\u001b[0m\u001b[0m\n\u001b[0m\u001b[1;32m     10\u001b[0m \u001b[0;34m\u001b[0m\u001b[0m\n\u001b[1;32m     11\u001b[0m     \u001b[0mdct\u001b[0m \u001b[0;34m=\u001b[0m \u001b[0mdict\u001b[0m\u001b[0;34m(\u001b[0m\u001b[0m__instancecheck__\u001b[0m\u001b[0;34m=\u001b[0m\u001b[0m_check\u001b[0m\u001b[0;34m,\u001b[0m \u001b[0m__subclasscheck__\u001b[0m\u001b[0;34m=\u001b[0m\u001b[0m_check\u001b[0m\u001b[0;34m)\u001b[0m\u001b[0;34m\u001b[0m\u001b[0;34m\u001b[0m\u001b[0m\n",
      "\u001b[0;31mKeyboardInterrupt\u001b[0m: "
     ]
    }
   ],
   "source": [
    "import copy\n",
    "\n",
    "S = 40\n",
    "errors = []\n",
    "x_vectors = pd.DataFrame(columns = [f'x_{i}' for i in range(len(assets))], data=[])\n",
    "\n",
    "\n",
    "for iteration in range(0, S):\n",
    "    T = 30\n",
    "    sample_raw = np.random.multivariate_normal(estims['logret_mean'], cov_matrix, T)\n",
    "    sample = pd.DataFrame(columns=assets, data=sample_raw)\n",
    "    \n",
    "    estE = sample.mean()\n",
    "    estCov = sample.cov()\n",
    "    \n",
    "    opt_solution = find_optimal(estE, estCov)\n",
    "        \n",
    "    errors.append(cityblock(true_opt_solution.x, opt_solution.x))\n",
    "    x_vectors.loc[iteration] = (copy.deepcopy(opt_solution.x))\n",
    "\n",
    "    \n",
    "print(f'Mean Erorr = {np.mean(errors)}')\n",
    "print(f'Mean X:')\n",
    "x_vectors.mean()"
   ]
  },
  {
   "cell_type": "code",
   "execution_count": null,
   "metadata": {},
   "outputs": [],
   "source": [
    "import plotly.express as px\n",
    "\n",
    "fig = px.bar(x=assets, y=x_vectors.mean(), title='Mean X')\n",
    "fig.show()"
   ]
  },
  {
   "cell_type": "markdown",
   "metadata": {},
   "source": [
    "#### 2.6  Предположите, что нам известны точные значения математических ожиданий E=(E1, E2, …, EN). Повторяем пп. 2.2-2.5. используя оценку только матрицы ковариаций"
   ]
  },
  {
   "cell_type": "code",
   "execution_count": null,
   "metadata": {},
   "outputs": [],
   "source": [
    "import copy\n",
    "\n",
    "S = 40\n",
    "errors = []\n",
    "x_vectors = pd.DataFrame(columns = [f'x_{i}' for i in range(len(assets))], data=[])\n",
    "\n",
    "\n",
    "for iteration in range(0, S):\n",
    "    T = 30\n",
    "    sample_raw = np.random.multivariate_normal(estims['logret_mean'], cov_matrix, T)\n",
    "    sample = pd.DataFrame(columns=assets, data=sample_raw)\n",
    "    \n",
    "    estE = sample.mean()\n",
    "    estCov = sample.cov()\n",
    "    \n",
    "    opt_solution = find_optimal(estims['logret_mean'], estCov)\n",
    "        \n",
    "    errors.append(cityblock(true_opt_solution.x, opt_solution.x))\n",
    "    x_vectors.loc[iteration] = (copy.deepcopy(opt_solution.x))\n",
    "\n",
    "    \n",
    "print(f'Mean Erorr = {np.mean(errors)}')\n",
    "print(f'Mean X:')\n",
    "x_vectors.mean()"
   ]
  },
  {
   "cell_type": "code",
   "execution_count": null,
   "metadata": {},
   "outputs": [],
   "source": [
    "import plotly.express as px\n",
    "\n",
    "fig = px.bar(x=assets, y=x_vectors.mean(), title='Mean X')\n",
    "fig.show()"
   ]
  },
  {
   "cell_type": "markdown",
   "metadata": {},
   "source": [
    "### 3. Оценка неопределенности оптимального CVaR портфеля"
   ]
  },
  {
   "cell_type": "markdown",
   "metadata": {},
   "source": [
    "С заданным отношением к риску  подобираем константу b таким образом, что истинный оптимальный CVaR портфель совпадает с истинным оптимальным портфелем п.1. Значение константы смотри в упражнениях к теме.\n",
    "\n",
    "$$ b = \\frac{1}{\\sqrt{2 \\pi }} \\frac{1}{(1 - \\beta)} exp(-(\\Phi^{-1}(\\beta))^2 / 2)$$"
   ]
  },
  {
   "cell_type": "code",
   "execution_count": null,
   "metadata": {},
   "outputs": [],
   "source": [
    "beta = 0.95\n",
    "b = (1 / math.sqrt(2 * math.pi)) * (1 / (1 - beta)) * np.exp(-((norm.ppf(beta))**(-1))**2 / 2) \n",
    "print(f'b = {b}')"
   ]
  },
  {
   "cell_type": "code",
   "execution_count": null,
   "metadata": {},
   "outputs": [],
   "source": [
    "def get_E(x, vector_E):\n",
    "    E = sum([(E_i * x_i) for E_i, x_i in zip(vector_E, x)]) \n",
    "    return E\n",
    "\n",
    "\n",
    "def get_sigma(x, matrix_cov):\n",
    "    sigma_squared = 0\n",
    "    \n",
    "    for i in range(len(x)):\n",
    "        for j in range(len(x)):\n",
    "            simga_i_j = matrix_cov.iloc[i].iloc[j]\n",
    "            sigma_squared += simga_i_j * x[i] * x[j]\n",
    "    \n",
    "    sigma = math.sqrt(sigma_squared)\n",
    "    return sigma\n",
    "            \n",
    "            \n",
    "def target_function_CVaR(x, vector_E, matrix_cov):\n",
    "    E = get_E(x, vector_E)\n",
    "    sigma = get_sigma(x, matrix_cov)\n",
    "    result = E + b * sigma\n",
    "    return result\n",
    "\n",
    "\n",
    "def find_optimal_CVaR(vector_E, matrix_cov):\n",
    "    x0 = np.array([1/len(assets)] * len(assets))\n",
    "    solution = minimize(target_function_CVaR, x0, args=(vector_E, matrix_cov), \n",
    "                        method='SLSQP', \n",
    "                        constraints=[{'type': 'eq',  'fun': lambda x: sum(x) - 1}],\n",
    "                        bounds=[(0, 1)] * len(assets))\n",
    "    if not solution.success:\n",
    "        raise Exception(opt.message)\n",
    "    return solution\n",
    "    "
   ]
  },
  {
   "cell_type": "markdown",
   "metadata": {},
   "source": [
    "#### Используя оценки из 2.2 решаем задачу оптимизации "
   ]
  },
  {
   "cell_type": "code",
   "execution_count": null,
   "metadata": {},
   "outputs": [],
   "source": [
    "opt_solution_CVaR = find_optimal_CVaR(estE, estCov)"
   ]
  },
  {
   "cell_type": "markdown",
   "metadata": {},
   "source": [
    "#### Находим и фиксируем веса портфеля ..."
   ]
  },
  {
   "cell_type": "code",
   "execution_count": null,
   "metadata": {},
   "outputs": [],
   "source": [
    "print(f'Сумма весов: {sum(opt_solution_CVaR.x)}')\n",
    "fig = px.bar(x=assets, y=opt_solution_CVaR.x)\n",
    "fig.show()"
   ]
  },
  {
   "cell_type": "markdown",
   "metadata": {},
   "source": [
    "#### и значение целевой функции"
   ]
  },
  {
   "cell_type": "code",
   "execution_count": null,
   "metadata": {},
   "outputs": [],
   "source": [
    "print(opt_solution_CVaR.fun)"
   ]
  },
  {
   "cell_type": "markdown",
   "metadata": {},
   "source": [
    "#### 3.2 Сравниаем два портфеля: истинный (п.1) и найденный в п.3.1. Оцениваем относительную ошибку в определении весов портфеля в норме Manhattan (L1 норма Минковского). Сравниваем с ошибкой портфеля из п. 2.3"
   ]
  },
  {
   "cell_type": "code",
   "execution_count": null,
   "metadata": {},
   "outputs": [],
   "source": [
    "er1 = cityblock(true_opt_solution.x, opt_solution.x)\n",
    "er2 = cityblock(true_opt_solution.x, opt_solution_CVaR.x)\n",
    "print(f'Ошибка оптимального VaR портфеля(п.2.3) = {er1}')\n",
    "print(f'Ошибка оптимального CVaR портфеля = {er2}')"
   ]
  },
  {
   "cell_type": "markdown",
   "metadata": {},
   "source": [
    "#### 3.3 Повторите эксперимент S=40 раз и оцените среднюю относительную ошибку по S повторениям эксперимента. Сделайте выводы.  Сравните с ошибкой из п. 2.5."
   ]
  },
  {
   "cell_type": "code",
   "execution_count": null,
   "metadata": {},
   "outputs": [],
   "source": [
    "import copy\n",
    "\n",
    "S = 40\n",
    "errors = []\n",
    "x_vectors = pd.DataFrame(columns = [f'x_{i}' for i in range(len(assets))], data=[])\n",
    "\n",
    "\n",
    "for iteration in range(0, S):\n",
    "    T = 30\n",
    "    sample_raw = np.random.multivariate_normal(estims['logret_mean'], cov_matrix, T)\n",
    "    sample = pd.DataFrame(columns=assets, data=sample_raw)\n",
    "    \n",
    "    estE = sample.mean()\n",
    "    estCov = sample.cov()\n",
    "    \n",
    "    opt_solution_CVaR = find_optimal_CVaR(estE, estCov)\n",
    "        \n",
    "    errors.append(cityblock(true_opt_solution.x, opt_solution_CVaR.x))\n",
    "    x_vectors.loc[iteration] = (copy.deepcopy(opt_solution_CVaR.x))\n",
    "\n",
    "    \n",
    "print(f'Mean Erorr = {np.mean(errors)}')\n",
    "print(f'Mean X:')\n",
    "x_vectors.mean()"
   ]
  },
  {
   "cell_type": "code",
   "execution_count": null,
   "metadata": {},
   "outputs": [],
   "source": [
    "import plotly.express as px\n",
    "\n",
    "fig = px.bar(x=assets, y=x_vectors.mean(), title='Mean X')\n",
    "fig.show()"
   ]
  },
  {
   "cell_type": "code",
   "execution_count": null,
   "metadata": {},
   "outputs": [],
   "source": []
  }
 ],
 "metadata": {
  "kernelspec": {
   "display_name": "Python 3",
   "language": "python",
   "name": "python3"
  },
  "language_info": {
   "codemirror_mode": {
    "name": "ipython",
    "version": 3
   },
   "file_extension": ".py",
   "mimetype": "text/x-python",
   "name": "python",
   "nbconvert_exporter": "python",
   "pygments_lexer": "ipython3",
   "version": "3.8.10"
  },
  "widgets": {
   "application/vnd.jupyter.widget-state+json": {
    "state": {},
    "version_major": 1,
    "version_minor": 0
   }
  }
 },
 "nbformat": 4,
 "nbformat_minor": 4
}
